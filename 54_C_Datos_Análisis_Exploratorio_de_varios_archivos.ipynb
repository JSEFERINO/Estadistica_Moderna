{
  "cells": [
    {
      "cell_type": "markdown",
      "metadata": {
        "id": "view-in-github",
        "colab_type": "text"
      },
      "source": [
        "<a href=\"https://colab.research.google.com/github/JSEFERINO/Estadistica_Moderna/blob/main/54_C_Datos_An%C3%A1lisis_Exploratorio_de_varios_archivos.ipynb\" target=\"_parent\"><img src=\"https://colab.research.google.com/assets/colab-badge.svg\" alt=\"Open In Colab\"/></a>"
      ]
    },
    {
      "cell_type": "markdown",
      "metadata": {
        "id": "tvWruVdAfPkW"
      },
      "source": [
        "# **Curso Teoría de Probabilidad por Julio Hurtado Márquez**\n",
        "## **Parte XIII- Análisis Exploratorio de Datos**\n",
        "# **Librerias para usar en esta parte del curso**"
      ]
    },
    {
      "cell_type": "code",
      "execution_count": null,
      "metadata": {
        "colab": {
          "base_uri": "https://localhost:8080/"
        },
        "id": "oMTb2sIusSdw",
        "outputId": "4ae1edb0-1372-43c6-b659-57381372a1dc"
      },
      "outputs": [
        {
          "output_type": "stream",
          "name": "stdout",
          "text": [
            "Setup Complete\n"
          ]
        }
      ],
      "source": [
        "# **Librerias para usar en esta parte del cursor**\n",
        "import pandas as pd\n",
        "import numpy as np\n",
        "import matplotlib.pyplot as plt # para visualizacion de datos\n",
        "%matplotlib inline\n",
        "import seaborn as sns # para visualizacion de datos\n",
        "from scipy import stats\n",
        "import warnings # Para ignorar todas las advertencias\n",
        "warnings.filterwarnings(\"ignore\", category=FutureWarning)\n",
        "from sympy.functions.combinatorial.factorials import factorial\n",
        "import math\n",
        "from math import sqrt\n",
        "from numpy.ma.core import log\n",
        "from sympy import integrate, init_printing\n",
        "from sympy.abc import x\n",
        "print(\"Setup Complete\")"
      ]
    },
    {
      "cell_type": "markdown",
      "source": [
        "# **225. Parte I: Ejemplo 1.  Origen de los datos**\n",
        "\n",
        "# **a. Base de datos - Union de Archivos**\n",
        "## **a1. Acerca de los datso que vamos a trabajar**\n",
        "+ Link : https://www.datosabiertos.gob.pe/dataset/%C3%B3rdenes-de-compra-realizadas-trav%C3%A9s-de-los-cat%C3%A1logos-electr%C3%B3nicos-central-de-compras\n",
        "+ **Órdenes de compra realizadas a través de los Catálogos Electrónicos [Central de Compras Públicas - PERÚ COMPRAS]**\n",
        " - Economía y Finanzas\n",
        " - El conjunto de datos corresponde a las órdenes de compra realizadas a través de la plataforma de Catálogos Electrónicos de Acuerdos Marco, administrada por la Central de Compras Públicas - PERÚ COMPRAS.\n",
        " - Cada registro hace referencia a una orden de compra formalizada, la cual cumple con las reglas de selección y operatividad establecidas por la Dirección de Acuerdos Marco de Perú Compras, en los siguientes enlaces se detallan las reglas de selección y operatividad:\n",
        "\n",
        "+ Links\n",
        " - https://www.perucompras.gob.pe/acuerdos-marco/convocatoria-de-nuevos-catalogos-electronicos.php\n",
        " - https://www.perucompras.gob.pe/acuerdos-marco/convocatoria-extensiones-de-vigencia-catalogos-electronicos.php"
      ],
      "metadata": {
        "id": "aehOhHGudMqp"
      }
    },
    {
      "cell_type": "markdown",
      "source": [
        "## **a2. Importamos la Libreria de Google_Colab para conectarnos a mi Drive**"
      ],
      "metadata": {
        "id": "a94Zx9tnCbBG"
      }
    },
    {
      "cell_type": "code",
      "source": [
        "# **a2. Importamos la Libreria de Google_Colab para conectarnos al Drive**\n",
        "from google.colab import drive\n",
        "drive.mount('/content/drive')"
      ],
      "metadata": {
        "colab": {
          "base_uri": "https://localhost:8080/"
        },
        "id": "behWhJGGCDve",
        "outputId": "94e9e430-973a-43ce-8f77-4ce324efbb60"
      },
      "execution_count": null,
      "outputs": [
        {
          "output_type": "stream",
          "name": "stdout",
          "text": [
            "Drive already mounted at /content/drive; to attempt to forcibly remount, call drive.mount(\"/content/drive\", force_remount=True).\n"
          ]
        }
      ]
    },
    {
      "cell_type": "markdown",
      "source": [
        "## **a3. Indicamos a mi cuaderno que vamos a trabajar con mi carpeta donde estan los Datos**"
      ],
      "metadata": {
        "id": "IkT4lFTdDwxE"
      }
    },
    {
      "cell_type": "code",
      "source": [
        "## **a3. Indicamos a m cuaderno que vamos a trabajar con mi carpeta donde estan los Datos**\n",
        "import os\n",
        "os.chdir('/content/drive/MyDrive/Colab Notebooks/C_DATOS202350/53.C_Datos')"
      ],
      "metadata": {
        "id": "InJpMwqkB1_n"
      },
      "execution_count": null,
      "outputs": []
    },
    {
      "cell_type": "markdown",
      "source": [
        "# **b. Los Archivos con los cuales vamos a trabajar**"
      ],
      "metadata": {
        "id": "LssS3zq6EJwU"
      }
    },
    {
      "cell_type": "markdown",
      "source": [
        "## **b1. Hagamos una lista con los Archivos con los cuales vamos a trabajar**"
      ],
      "metadata": {
        "id": "pf7ef6pfEWLa"
      }
    },
    {
      "cell_type": "code",
      "source": [
        "## **b1. Hagamos una lista con los Archivos con los cuales vamos a trabajar**\n",
        "os.listdir()"
      ],
      "metadata": {
        "colab": {
          "base_uri": "https://localhost:8080/"
        },
        "id": "4X6Ac5-ZB2De",
        "outputId": "c9b83333-74d9-42d8-d067-448cf345e766"
      },
      "execution_count": null,
      "outputs": [
        {
          "output_type": "execute_result",
          "data": {
            "text/plain": [
              "['ReportePCBienes202201.csv',\n",
              " 'ReportePCBienes202202.csv',\n",
              " 'ReportePCBienes202206.csv',\n",
              " 'ReportePCBienes202208.csv',\n",
              " 'ReportePCBienes202204.csv',\n",
              " 'ReportePCBienes202205.csv',\n",
              " 'ReportePCBienes202211.csv',\n",
              " 'ReportePCBienes202203.csv',\n",
              " 'ReportePCBienes202301.csv',\n",
              " 'ReportePCBienes202207.csv',\n",
              " 'ReportePCBienes202302.csv',\n",
              " 'ReportePCBienes202212.csv',\n",
              " 'ReportePCBienes202210.csv',\n",
              " 'ReportePCBienes202209.csv',\n",
              " 'ReportePCBienes202306.csv',\n",
              " 'ReportePCBienes202303.csv',\n",
              " 'ReportePCBienes202304.csv',\n",
              " 'ReportePCBienes202305.csv']"
            ]
          },
          "metadata": {},
          "execution_count": 154
        }
      ]
    },
    {
      "cell_type": "markdown",
      "source": [
        "## **b2. Escojamos un archivo de la carpeta**\n",
        "+ Podemos abrir un archivo con block de notas para conocer el tipo de separador\n",
        " - En estos archivos el separados es \";\"\n",
        "   - Escribimos sept = ';'\n",
        "+ Por Defecto el codificador es 'UTF - 8'\n",
        " - Cambiamos el codificador por\n",
        "   - encoding = 'latin'"
      ],
      "metadata": {
        "id": "lz5WiDs5GaiG"
      }
    },
    {
      "cell_type": "code",
      "source": [
        "## **b2. Escojamos un archivo de la carpeta**\n",
        "df_202306=pd.read_csv('ReportePCBienes202306.csv', sep = ';', encoding = 'latin')\n",
        "df_202306"
      ],
      "metadata": {
        "colab": {
          "base_uri": "https://localhost:8080/",
          "height": 1000
        },
        "id": "TPLaCmjSB2HG",
        "outputId": "e2d3a345-5e2a-4621-9721-97ac7f558327"
      },
      "execution_count": null,
      "outputs": [
        {
          "output_type": "execute_result",
          "data": {
            "text/plain": [
              "             FECHA_PROCESO  RUC_PROVEEDOR  \\\n",
              "0      2023-07-04 09:12:58    20608836242   \n",
              "1      2023-07-04 09:12:58    20608643321   \n",
              "2      2023-07-04 09:12:58    20608643321   \n",
              "3      2023-07-04 09:12:58    20608643321   \n",
              "4      2023-07-04 09:12:58    20608643321   \n",
              "...                    ...            ...   \n",
              "10468  2023-07-04 09:12:58    20606044241   \n",
              "10469  2023-07-04 09:12:58    20601836841   \n",
              "10470  2023-07-04 09:12:58    20100340438   \n",
              "10471  2023-07-04 09:12:58    20125412875   \n",
              "10472  2023-07-04 09:12:58    10214924965   \n",
              "\n",
              "                                               PROVEEDOR  RUC_ENTIDAD  \\\n",
              "0                   JM CONSULTORA E INVERSIONES E.I.R.L.  20601625017   \n",
              "1      MARJOL INVERSIONES SOCIEDAD COMERCIAL DE RESPO...  20159316981   \n",
              "2      MARJOL INVERSIONES SOCIEDAD COMERCIAL DE RESPO...  20527143200   \n",
              "3      MARJOL INVERSIONES SOCIEDAD COMERCIAL DE RESPO...  20159316981   \n",
              "4      MARJOL INVERSIONES SOCIEDAD COMERCIAL DE RESPO...  20527147612   \n",
              "...                                                  ...          ...   \n",
              "10468                   D'TODO BIENES & SERVICIOS S.A.C.  20224796014   \n",
              "10469                                 CMPROVIDERS S.A.C.  20569049131   \n",
              "10470                                   REPRODATA S.A.C.  20527141762   \n",
              "10471                               COMERCIAL GIOVA S.A.  20131370301   \n",
              "10472                             VEGA LEGUA EDDY HEBERT  20534791381   \n",
              "\n",
              "                                            ENTIDAD TIPO_PROCEDIMIENTO  \\\n",
              "0              MUNICIPALIDAD DISTRITAL DE MEGANTONI   Compra ordinaria   \n",
              "1          INSTITUTO DE MANEJO DE AGUA Y MEDIO AMBI   Compra ordinaria   \n",
              "2                   GOBIERNO REGIONAL MADRE DE DIOS   Compra ordinaria   \n",
              "3          INSTITUTO DE MANEJO DE AGUA Y MEDIO AMBI   Compra ordinaria   \n",
              "4                           GOBIERNO REGIONAL CUSCO   Compra ordinaria   \n",
              "...                                             ...                ...   \n",
              "10468         MUNICIPALIDAD DISTRITAL DE CAPACMARCA   Compra ordinaria   \n",
              "10469          UNIDAD EJECUTORA EDUCACIÓN RÍO TAMBO   Compra ordinaria   \n",
              "10470                 GOBIERNO REGIONAL DE APURIMAC   Compra ordinaria   \n",
              "10471           MINISTERIO PUBLICO-GERENCIA GENERAL        Gran Compra   \n",
              "10472  UNIDAD EJECUTORA 407 HOSPITAL DE APOYO PALPA   Compra ordinaria   \n",
              "\n",
              "            ORDEN_ELECTRÓNICA  \\\n",
              "0      OCAM-2023-301884-697-0   \n",
              "1         OCAM-2023-792-173-0   \n",
              "2         OCAM-2023-875-186-0   \n",
              "3         OCAM-2023-792-172-0   \n",
              "4         OCAM-2023-789-518-0   \n",
              "...                       ...   \n",
              "10468   OCAM-2023-300733-10-0   \n",
              "10469      OCAM-2023-1680-4-0   \n",
              "10470     OCAM-2023-747-285-0   \n",
              "10471      OCAM-2023-200-54-0   \n",
              "10472      OCAM-2023-1457-7-0   \n",
              "\n",
              "                              ORDEN_ELECTRÓNICA_GENERADA  \\\n",
              "0      https://apps1.perucompras.gob.pe//OrdenCompra/...   \n",
              "1      https://apps1.perucompras.gob.pe//OrdenCompra/...   \n",
              "2      https://apps1.perucompras.gob.pe//OrdenCompra/...   \n",
              "3      https://apps1.perucompras.gob.pe//OrdenCompra/...   \n",
              "4      https://apps1.perucompras.gob.pe//OrdenCompra/...   \n",
              "...                                                  ...   \n",
              "10468  https://apps1.perucompras.gob.pe//OrdenCompra/...   \n",
              "10469  https://apps1.perucompras.gob.pe//OrdenCompra/...   \n",
              "10470  https://apps1.perucompras.gob.pe//OrdenCompra/...   \n",
              "10471  https://apps1.perucompras.gob.pe//OrdenCompra/...   \n",
              "10472  https://apps1.perucompras.gob.pe//OrdenCompra/...   \n",
              "\n",
              "      ESTADO_ORDEN_ELECTRÓNICA DOCUMENTO_ESTADO_OCAM  FECHA_FORMALIZACIÓN  \\\n",
              "0                     ACEPTADA                   NaN  2023-06-28 23:25:00   \n",
              "1                     ACEPTADA                   NaN  2023-06-28 23:16:09   \n",
              "2                     ACEPTADA                   NaN  2023-06-28 23:15:48   \n",
              "3                     ACEPTADA                   NaN  2023-06-28 23:15:26   \n",
              "4                     ACEPTADA                   NaN  2023-06-28 23:14:16   \n",
              "...                        ...                   ...                  ...   \n",
              "10468                 ACEPTADA                   NaN  2023-06-01 00:00:00   \n",
              "10469                 ACEPTADA                   NaN  2023-06-01 00:00:00   \n",
              "10470                 ACEPTADA                   NaN  2023-06-01 00:00:00   \n",
              "10471                   PAGADA                   NaN  2023-06-01 00:00:00   \n",
              "10472                 ACEPTADA                   NaN  2023-06-01 00:00:00   \n",
              "\n",
              "       FECHA_ÚLTIMO_ESTADO   SUB_TOTAL        IGV       TOTAL  \\\n",
              "0      2023-06-28 23:25:00      584.00     105.12      689.12   \n",
              "1      2023-06-28 23:16:09     5650.00    1017.00     6667.00   \n",
              "2      2023-06-28 23:15:48     2067.00     372.06     2439.06   \n",
              "3      2023-06-28 23:15:26     9450.00    1701.00    11151.00   \n",
              "4      2023-06-28 23:14:16     8270.50    1488.69     9759.19   \n",
              "...                    ...         ...        ...         ...   \n",
              "10468  2023-06-01 00:14:28      966.18     173.91     1140.09   \n",
              "10469  2023-06-01 00:14:28     8868.00    1596.24    10464.24   \n",
              "10470  2023-06-01 00:14:28    21468.43    3864.32    25332.75   \n",
              "10471  2023-07-04 02:36:57  2135061.18  384311.01  2519372.19   \n",
              "10472  2023-06-01 00:14:28     1069.40     192.49     1261.89   \n",
              "\n",
              "                                      ORDEN_DIGITALIZADA  \\\n",
              "0      https://saeusceprod01.blob.core.windows.net/co...   \n",
              "1      https://saeusceprod01.blob.core.windows.net/co...   \n",
              "2      https://saeusceprod01.blob.core.windows.net/co...   \n",
              "3      https://saeusceprod01.blob.core.windows.net/co...   \n",
              "4      https://saeusceprod01.blob.core.windows.net/co...   \n",
              "...                                                  ...   \n",
              "10468  https://saeusceprod01.blob.core.windows.net/co...   \n",
              "10469  https://saeusceprod01.blob.core.windows.net/co...   \n",
              "10470  https://saeusceprod01.blob.core.windows.net/co...   \n",
              "10471  https://saeusceprod01.blob.core.windows.net/co...   \n",
              "10472  https://saeusceprod01.blob.core.windows.net/co...   \n",
              "\n",
              "                                      DESCRIPCIÓN_ESTADO  \\\n",
              "0                                                    NaN   \n",
              "1                                                    NaN   \n",
              "2                                                    NaN   \n",
              "3                                                    NaN   \n",
              "4                                                    NaN   \n",
              "...                                                  ...   \n",
              "10468                                                NaN   \n",
              "10469                                                NaN   \n",
              "10470                                                NaN   \n",
              "10471  Actualizado automáticamente por la vinculación...   \n",
              "10472                                                NaN   \n",
              "\n",
              "       DESCRIPCIÓN_CESIÓN_DERECHOS  \\\n",
              "0                              NaN   \n",
              "1                              NaN   \n",
              "2                              NaN   \n",
              "3                              NaN   \n",
              "4                              NaN   \n",
              "...                            ...   \n",
              "10468                          NaN   \n",
              "10469                          NaN   \n",
              "10470                          NaN   \n",
              "10471                          NaN   \n",
              "10472                          NaN   \n",
              "\n",
              "                                           ACUERDO_MARCO  \n",
              "0      EXT-CE-2021-16 BIENES Y HERRAMIENTAS PARA USOS...  \n",
              "1      EXT-CE-2021-16 BIENES Y HERRAMIENTAS PARA USOS...  \n",
              "2      EXT-CE-2021-16 BIENES Y HERRAMIENTAS PARA USOS...  \n",
              "3      EXT-CE-2021-16 BIENES Y HERRAMIENTAS PARA USOS...  \n",
              "4      EXT-CE-2021-16 BIENES Y HERRAMIENTAS PARA USOS...  \n",
              "...                                                  ...  \n",
              "10468  EXT-CE-2021-6 IMPRESORAS, CONSUMIBLES, REPUEST...  \n",
              "10469  EXT-CE-2022-5 COMPUTADORAS DE ESCRITORIO, COMP...  \n",
              "10470  EXT-CE-2021-6 IMPRESORAS, CONSUMIBLES, REPUEST...  \n",
              "10471  EXT-CE-2021-7 ÚTILES DE ESCRITORIO, PAPELES Y ...  \n",
              "10472  EXT-CE-2021-7 ÚTILES DE ESCRITORIO, PAPELES Y ...  \n",
              "\n",
              "[10473 rows x 19 columns]"
            ],
            "text/html": [
              "\n",
              "\n",
              "  <div id=\"df-0e1a65e9-81ba-4438-802e-f58b15d2e662\">\n",
              "    <div class=\"colab-df-container\">\n",
              "      <div>\n",
              "<style scoped>\n",
              "    .dataframe tbody tr th:only-of-type {\n",
              "        vertical-align: middle;\n",
              "    }\n",
              "\n",
              "    .dataframe tbody tr th {\n",
              "        vertical-align: top;\n",
              "    }\n",
              "\n",
              "    .dataframe thead th {\n",
              "        text-align: right;\n",
              "    }\n",
              "</style>\n",
              "<table border=\"1\" class=\"dataframe\">\n",
              "  <thead>\n",
              "    <tr style=\"text-align: right;\">\n",
              "      <th></th>\n",
              "      <th>FECHA_PROCESO</th>\n",
              "      <th>RUC_PROVEEDOR</th>\n",
              "      <th>PROVEEDOR</th>\n",
              "      <th>RUC_ENTIDAD</th>\n",
              "      <th>ENTIDAD</th>\n",
              "      <th>TIPO_PROCEDIMIENTO</th>\n",
              "      <th>ORDEN_ELECTRÓNICA</th>\n",
              "      <th>ORDEN_ELECTRÓNICA_GENERADA</th>\n",
              "      <th>ESTADO_ORDEN_ELECTRÓNICA</th>\n",
              "      <th>DOCUMENTO_ESTADO_OCAM</th>\n",
              "      <th>FECHA_FORMALIZACIÓN</th>\n",
              "      <th>FECHA_ÚLTIMO_ESTADO</th>\n",
              "      <th>SUB_TOTAL</th>\n",
              "      <th>IGV</th>\n",
              "      <th>TOTAL</th>\n",
              "      <th>ORDEN_DIGITALIZADA</th>\n",
              "      <th>DESCRIPCIÓN_ESTADO</th>\n",
              "      <th>DESCRIPCIÓN_CESIÓN_DERECHOS</th>\n",
              "      <th>ACUERDO_MARCO</th>\n",
              "    </tr>\n",
              "  </thead>\n",
              "  <tbody>\n",
              "    <tr>\n",
              "      <th>0</th>\n",
              "      <td>2023-07-04 09:12:58</td>\n",
              "      <td>20608836242</td>\n",
              "      <td>JM CONSULTORA E INVERSIONES E.I.R.L.</td>\n",
              "      <td>20601625017</td>\n",
              "      <td>MUNICIPALIDAD DISTRITAL DE MEGANTONI</td>\n",
              "      <td>Compra ordinaria</td>\n",
              "      <td>OCAM-2023-301884-697-0</td>\n",
              "      <td>https://apps1.perucompras.gob.pe//OrdenCompra/...</td>\n",
              "      <td>ACEPTADA</td>\n",
              "      <td>NaN</td>\n",
              "      <td>2023-06-28 23:25:00</td>\n",
              "      <td>2023-06-28 23:25:00</td>\n",
              "      <td>584.00</td>\n",
              "      <td>105.12</td>\n",
              "      <td>689.12</td>\n",
              "      <td>https://saeusceprod01.blob.core.windows.net/co...</td>\n",
              "      <td>NaN</td>\n",
              "      <td>NaN</td>\n",
              "      <td>EXT-CE-2021-16 BIENES Y HERRAMIENTAS PARA USOS...</td>\n",
              "    </tr>\n",
              "    <tr>\n",
              "      <th>1</th>\n",
              "      <td>2023-07-04 09:12:58</td>\n",
              "      <td>20608643321</td>\n",
              "      <td>MARJOL INVERSIONES SOCIEDAD COMERCIAL DE RESPO...</td>\n",
              "      <td>20159316981</td>\n",
              "      <td>INSTITUTO DE MANEJO DE AGUA Y MEDIO AMBI</td>\n",
              "      <td>Compra ordinaria</td>\n",
              "      <td>OCAM-2023-792-173-0</td>\n",
              "      <td>https://apps1.perucompras.gob.pe//OrdenCompra/...</td>\n",
              "      <td>ACEPTADA</td>\n",
              "      <td>NaN</td>\n",
              "      <td>2023-06-28 23:16:09</td>\n",
              "      <td>2023-06-28 23:16:09</td>\n",
              "      <td>5650.00</td>\n",
              "      <td>1017.00</td>\n",
              "      <td>6667.00</td>\n",
              "      <td>https://saeusceprod01.blob.core.windows.net/co...</td>\n",
              "      <td>NaN</td>\n",
              "      <td>NaN</td>\n",
              "      <td>EXT-CE-2021-16 BIENES Y HERRAMIENTAS PARA USOS...</td>\n",
              "    </tr>\n",
              "    <tr>\n",
              "      <th>2</th>\n",
              "      <td>2023-07-04 09:12:58</td>\n",
              "      <td>20608643321</td>\n",
              "      <td>MARJOL INVERSIONES SOCIEDAD COMERCIAL DE RESPO...</td>\n",
              "      <td>20527143200</td>\n",
              "      <td>GOBIERNO REGIONAL MADRE DE DIOS</td>\n",
              "      <td>Compra ordinaria</td>\n",
              "      <td>OCAM-2023-875-186-0</td>\n",
              "      <td>https://apps1.perucompras.gob.pe//OrdenCompra/...</td>\n",
              "      <td>ACEPTADA</td>\n",
              "      <td>NaN</td>\n",
              "      <td>2023-06-28 23:15:48</td>\n",
              "      <td>2023-06-28 23:15:48</td>\n",
              "      <td>2067.00</td>\n",
              "      <td>372.06</td>\n",
              "      <td>2439.06</td>\n",
              "      <td>https://saeusceprod01.blob.core.windows.net/co...</td>\n",
              "      <td>NaN</td>\n",
              "      <td>NaN</td>\n",
              "      <td>EXT-CE-2021-16 BIENES Y HERRAMIENTAS PARA USOS...</td>\n",
              "    </tr>\n",
              "    <tr>\n",
              "      <th>3</th>\n",
              "      <td>2023-07-04 09:12:58</td>\n",
              "      <td>20608643321</td>\n",
              "      <td>MARJOL INVERSIONES SOCIEDAD COMERCIAL DE RESPO...</td>\n",
              "      <td>20159316981</td>\n",
              "      <td>INSTITUTO DE MANEJO DE AGUA Y MEDIO AMBI</td>\n",
              "      <td>Compra ordinaria</td>\n",
              "      <td>OCAM-2023-792-172-0</td>\n",
              "      <td>https://apps1.perucompras.gob.pe//OrdenCompra/...</td>\n",
              "      <td>ACEPTADA</td>\n",
              "      <td>NaN</td>\n",
              "      <td>2023-06-28 23:15:26</td>\n",
              "      <td>2023-06-28 23:15:26</td>\n",
              "      <td>9450.00</td>\n",
              "      <td>1701.00</td>\n",
              "      <td>11151.00</td>\n",
              "      <td>https://saeusceprod01.blob.core.windows.net/co...</td>\n",
              "      <td>NaN</td>\n",
              "      <td>NaN</td>\n",
              "      <td>EXT-CE-2021-16 BIENES Y HERRAMIENTAS PARA USOS...</td>\n",
              "    </tr>\n",
              "    <tr>\n",
              "      <th>4</th>\n",
              "      <td>2023-07-04 09:12:58</td>\n",
              "      <td>20608643321</td>\n",
              "      <td>MARJOL INVERSIONES SOCIEDAD COMERCIAL DE RESPO...</td>\n",
              "      <td>20527147612</td>\n",
              "      <td>GOBIERNO REGIONAL CUSCO</td>\n",
              "      <td>Compra ordinaria</td>\n",
              "      <td>OCAM-2023-789-518-0</td>\n",
              "      <td>https://apps1.perucompras.gob.pe//OrdenCompra/...</td>\n",
              "      <td>ACEPTADA</td>\n",
              "      <td>NaN</td>\n",
              "      <td>2023-06-28 23:14:16</td>\n",
              "      <td>2023-06-28 23:14:16</td>\n",
              "      <td>8270.50</td>\n",
              "      <td>1488.69</td>\n",
              "      <td>9759.19</td>\n",
              "      <td>https://saeusceprod01.blob.core.windows.net/co...</td>\n",
              "      <td>NaN</td>\n",
              "      <td>NaN</td>\n",
              "      <td>EXT-CE-2021-16 BIENES Y HERRAMIENTAS PARA USOS...</td>\n",
              "    </tr>\n",
              "    <tr>\n",
              "      <th>...</th>\n",
              "      <td>...</td>\n",
              "      <td>...</td>\n",
              "      <td>...</td>\n",
              "      <td>...</td>\n",
              "      <td>...</td>\n",
              "      <td>...</td>\n",
              "      <td>...</td>\n",
              "      <td>...</td>\n",
              "      <td>...</td>\n",
              "      <td>...</td>\n",
              "      <td>...</td>\n",
              "      <td>...</td>\n",
              "      <td>...</td>\n",
              "      <td>...</td>\n",
              "      <td>...</td>\n",
              "      <td>...</td>\n",
              "      <td>...</td>\n",
              "      <td>...</td>\n",
              "      <td>...</td>\n",
              "    </tr>\n",
              "    <tr>\n",
              "      <th>10468</th>\n",
              "      <td>2023-07-04 09:12:58</td>\n",
              "      <td>20606044241</td>\n",
              "      <td>D'TODO BIENES &amp; SERVICIOS S.A.C.</td>\n",
              "      <td>20224796014</td>\n",
              "      <td>MUNICIPALIDAD DISTRITAL DE CAPACMARCA</td>\n",
              "      <td>Compra ordinaria</td>\n",
              "      <td>OCAM-2023-300733-10-0</td>\n",
              "      <td>https://apps1.perucompras.gob.pe//OrdenCompra/...</td>\n",
              "      <td>ACEPTADA</td>\n",
              "      <td>NaN</td>\n",
              "      <td>2023-06-01 00:00:00</td>\n",
              "      <td>2023-06-01 00:14:28</td>\n",
              "      <td>966.18</td>\n",
              "      <td>173.91</td>\n",
              "      <td>1140.09</td>\n",
              "      <td>https://saeusceprod01.blob.core.windows.net/co...</td>\n",
              "      <td>NaN</td>\n",
              "      <td>NaN</td>\n",
              "      <td>EXT-CE-2021-6 IMPRESORAS, CONSUMIBLES, REPUEST...</td>\n",
              "    </tr>\n",
              "    <tr>\n",
              "      <th>10469</th>\n",
              "      <td>2023-07-04 09:12:58</td>\n",
              "      <td>20601836841</td>\n",
              "      <td>CMPROVIDERS S.A.C.</td>\n",
              "      <td>20569049131</td>\n",
              "      <td>UNIDAD EJECUTORA EDUCACIÓN RÍO TAMBO</td>\n",
              "      <td>Compra ordinaria</td>\n",
              "      <td>OCAM-2023-1680-4-0</td>\n",
              "      <td>https://apps1.perucompras.gob.pe//OrdenCompra/...</td>\n",
              "      <td>ACEPTADA</td>\n",
              "      <td>NaN</td>\n",
              "      <td>2023-06-01 00:00:00</td>\n",
              "      <td>2023-06-01 00:14:28</td>\n",
              "      <td>8868.00</td>\n",
              "      <td>1596.24</td>\n",
              "      <td>10464.24</td>\n",
              "      <td>https://saeusceprod01.blob.core.windows.net/co...</td>\n",
              "      <td>NaN</td>\n",
              "      <td>NaN</td>\n",
              "      <td>EXT-CE-2022-5 COMPUTADORAS DE ESCRITORIO, COMP...</td>\n",
              "    </tr>\n",
              "    <tr>\n",
              "      <th>10470</th>\n",
              "      <td>2023-07-04 09:12:58</td>\n",
              "      <td>20100340438</td>\n",
              "      <td>REPRODATA S.A.C.</td>\n",
              "      <td>20527141762</td>\n",
              "      <td>GOBIERNO REGIONAL DE APURIMAC</td>\n",
              "      <td>Compra ordinaria</td>\n",
              "      <td>OCAM-2023-747-285-0</td>\n",
              "      <td>https://apps1.perucompras.gob.pe//OrdenCompra/...</td>\n",
              "      <td>ACEPTADA</td>\n",
              "      <td>NaN</td>\n",
              "      <td>2023-06-01 00:00:00</td>\n",
              "      <td>2023-06-01 00:14:28</td>\n",
              "      <td>21468.43</td>\n",
              "      <td>3864.32</td>\n",
              "      <td>25332.75</td>\n",
              "      <td>https://saeusceprod01.blob.core.windows.net/co...</td>\n",
              "      <td>NaN</td>\n",
              "      <td>NaN</td>\n",
              "      <td>EXT-CE-2021-6 IMPRESORAS, CONSUMIBLES, REPUEST...</td>\n",
              "    </tr>\n",
              "    <tr>\n",
              "      <th>10471</th>\n",
              "      <td>2023-07-04 09:12:58</td>\n",
              "      <td>20125412875</td>\n",
              "      <td>COMERCIAL GIOVA S.A.</td>\n",
              "      <td>20131370301</td>\n",
              "      <td>MINISTERIO PUBLICO-GERENCIA GENERAL</td>\n",
              "      <td>Gran Compra</td>\n",
              "      <td>OCAM-2023-200-54-0</td>\n",
              "      <td>https://apps1.perucompras.gob.pe//OrdenCompra/...</td>\n",
              "      <td>PAGADA</td>\n",
              "      <td>NaN</td>\n",
              "      <td>2023-06-01 00:00:00</td>\n",
              "      <td>2023-07-04 02:36:57</td>\n",
              "      <td>2135061.18</td>\n",
              "      <td>384311.01</td>\n",
              "      <td>2519372.19</td>\n",
              "      <td>https://saeusceprod01.blob.core.windows.net/co...</td>\n",
              "      <td>Actualizado automáticamente por la vinculación...</td>\n",
              "      <td>NaN</td>\n",
              "      <td>EXT-CE-2021-7 ÚTILES DE ESCRITORIO, PAPELES Y ...</td>\n",
              "    </tr>\n",
              "    <tr>\n",
              "      <th>10472</th>\n",
              "      <td>2023-07-04 09:12:58</td>\n",
              "      <td>10214924965</td>\n",
              "      <td>VEGA LEGUA EDDY HEBERT</td>\n",
              "      <td>20534791381</td>\n",
              "      <td>UNIDAD EJECUTORA 407 HOSPITAL DE APOYO PALPA</td>\n",
              "      <td>Compra ordinaria</td>\n",
              "      <td>OCAM-2023-1457-7-0</td>\n",
              "      <td>https://apps1.perucompras.gob.pe//OrdenCompra/...</td>\n",
              "      <td>ACEPTADA</td>\n",
              "      <td>NaN</td>\n",
              "      <td>2023-06-01 00:00:00</td>\n",
              "      <td>2023-06-01 00:14:28</td>\n",
              "      <td>1069.40</td>\n",
              "      <td>192.49</td>\n",
              "      <td>1261.89</td>\n",
              "      <td>https://saeusceprod01.blob.core.windows.net/co...</td>\n",
              "      <td>NaN</td>\n",
              "      <td>NaN</td>\n",
              "      <td>EXT-CE-2021-7 ÚTILES DE ESCRITORIO, PAPELES Y ...</td>\n",
              "    </tr>\n",
              "  </tbody>\n",
              "</table>\n",
              "<p>10473 rows × 19 columns</p>\n",
              "</div>\n",
              "      <button class=\"colab-df-convert\" onclick=\"convertToInteractive('df-0e1a65e9-81ba-4438-802e-f58b15d2e662')\"\n",
              "              title=\"Convert this dataframe to an interactive table.\"\n",
              "              style=\"display:none;\">\n",
              "\n",
              "  <svg xmlns=\"http://www.w3.org/2000/svg\" height=\"24px\"viewBox=\"0 0 24 24\"\n",
              "       width=\"24px\">\n",
              "    <path d=\"M0 0h24v24H0V0z\" fill=\"none\"/>\n",
              "    <path d=\"M18.56 5.44l.94 2.06.94-2.06 2.06-.94-2.06-.94-.94-2.06-.94 2.06-2.06.94zm-11 1L8.5 8.5l.94-2.06 2.06-.94-2.06-.94L8.5 2.5l-.94 2.06-2.06.94zm10 10l.94 2.06.94-2.06 2.06-.94-2.06-.94-.94-2.06-.94 2.06-2.06.94z\"/><path d=\"M17.41 7.96l-1.37-1.37c-.4-.4-.92-.59-1.43-.59-.52 0-1.04.2-1.43.59L10.3 9.45l-7.72 7.72c-.78.78-.78 2.05 0 2.83L4 21.41c.39.39.9.59 1.41.59.51 0 1.02-.2 1.41-.59l7.78-7.78 2.81-2.81c.8-.78.8-2.07 0-2.86zM5.41 20L4 18.59l7.72-7.72 1.47 1.35L5.41 20z\"/>\n",
              "  </svg>\n",
              "      </button>\n",
              "\n",
              "\n",
              "\n",
              "    <div id=\"df-929cdd04-e1a4-48a9-91b4-3b9e46fe5362\">\n",
              "      <button class=\"colab-df-quickchart\" onclick=\"quickchart('df-929cdd04-e1a4-48a9-91b4-3b9e46fe5362')\"\n",
              "              title=\"Suggest charts.\"\n",
              "              style=\"display:none;\">\n",
              "\n",
              "<svg xmlns=\"http://www.w3.org/2000/svg\" height=\"24px\"viewBox=\"0 0 24 24\"\n",
              "     width=\"24px\">\n",
              "    <g>\n",
              "        <path d=\"M19 3H5c-1.1 0-2 .9-2 2v14c0 1.1.9 2 2 2h14c1.1 0 2-.9 2-2V5c0-1.1-.9-2-2-2zM9 17H7v-7h2v7zm4 0h-2V7h2v10zm4 0h-2v-4h2v4z\"/>\n",
              "    </g>\n",
              "</svg>\n",
              "      </button>\n",
              "    </div>\n",
              "\n",
              "<style>\n",
              "  .colab-df-quickchart {\n",
              "    background-color: #E8F0FE;\n",
              "    border: none;\n",
              "    border-radius: 50%;\n",
              "    cursor: pointer;\n",
              "    display: none;\n",
              "    fill: #1967D2;\n",
              "    height: 32px;\n",
              "    padding: 0 0 0 0;\n",
              "    width: 32px;\n",
              "  }\n",
              "\n",
              "  .colab-df-quickchart:hover {\n",
              "    background-color: #E2EBFA;\n",
              "    box-shadow: 0px 1px 2px rgba(60, 64, 67, 0.3), 0px 1px 3px 1px rgba(60, 64, 67, 0.15);\n",
              "    fill: #174EA6;\n",
              "  }\n",
              "\n",
              "  [theme=dark] .colab-df-quickchart {\n",
              "    background-color: #3B4455;\n",
              "    fill: #D2E3FC;\n",
              "  }\n",
              "\n",
              "  [theme=dark] .colab-df-quickchart:hover {\n",
              "    background-color: #434B5C;\n",
              "    box-shadow: 0px 1px 3px 1px rgba(0, 0, 0, 0.15);\n",
              "    filter: drop-shadow(0px 1px 2px rgba(0, 0, 0, 0.3));\n",
              "    fill: #FFFFFF;\n",
              "  }\n",
              "</style>\n",
              "\n",
              "    <script>\n",
              "      async function quickchart(key) {\n",
              "        const containerElement = document.querySelector('#' + key);\n",
              "        const charts = await google.colab.kernel.invokeFunction(\n",
              "            'suggestCharts', [key], {});\n",
              "      }\n",
              "    </script>\n",
              "\n",
              "      <script>\n",
              "\n",
              "function displayQuickchartButton(domScope) {\n",
              "  let quickchartButtonEl =\n",
              "    domScope.querySelector('#df-929cdd04-e1a4-48a9-91b4-3b9e46fe5362 button.colab-df-quickchart');\n",
              "  quickchartButtonEl.style.display =\n",
              "    google.colab.kernel.accessAllowed ? 'block' : 'none';\n",
              "}\n",
              "\n",
              "        displayQuickchartButton(document);\n",
              "      </script>\n",
              "      <style>\n",
              "    .colab-df-container {\n",
              "      display:flex;\n",
              "      flex-wrap:wrap;\n",
              "      gap: 12px;\n",
              "    }\n",
              "\n",
              "    .colab-df-convert {\n",
              "      background-color: #E8F0FE;\n",
              "      border: none;\n",
              "      border-radius: 50%;\n",
              "      cursor: pointer;\n",
              "      display: none;\n",
              "      fill: #1967D2;\n",
              "      height: 32px;\n",
              "      padding: 0 0 0 0;\n",
              "      width: 32px;\n",
              "    }\n",
              "\n",
              "    .colab-df-convert:hover {\n",
              "      background-color: #E2EBFA;\n",
              "      box-shadow: 0px 1px 2px rgba(60, 64, 67, 0.3), 0px 1px 3px 1px rgba(60, 64, 67, 0.15);\n",
              "      fill: #174EA6;\n",
              "    }\n",
              "\n",
              "    [theme=dark] .colab-df-convert {\n",
              "      background-color: #3B4455;\n",
              "      fill: #D2E3FC;\n",
              "    }\n",
              "\n",
              "    [theme=dark] .colab-df-convert:hover {\n",
              "      background-color: #434B5C;\n",
              "      box-shadow: 0px 1px 3px 1px rgba(0, 0, 0, 0.15);\n",
              "      filter: drop-shadow(0px 1px 2px rgba(0, 0, 0, 0.3));\n",
              "      fill: #FFFFFF;\n",
              "    }\n",
              "  </style>\n",
              "\n",
              "      <script>\n",
              "        const buttonEl =\n",
              "          document.querySelector('#df-0e1a65e9-81ba-4438-802e-f58b15d2e662 button.colab-df-convert');\n",
              "        buttonEl.style.display =\n",
              "          google.colab.kernel.accessAllowed ? 'block' : 'none';\n",
              "\n",
              "        async function convertToInteractive(key) {\n",
              "          const element = document.querySelector('#df-0e1a65e9-81ba-4438-802e-f58b15d2e662');\n",
              "          const dataTable =\n",
              "            await google.colab.kernel.invokeFunction('convertToInteractive',\n",
              "                                                     [key], {});\n",
              "          if (!dataTable) return;\n",
              "\n",
              "          const docLinkHtml = 'Like what you see? Visit the ' +\n",
              "            '<a target=\"_blank\" href=https://colab.research.google.com/notebooks/data_table.ipynb>data table notebook</a>'\n",
              "            + ' to learn more about interactive tables.';\n",
              "          element.innerHTML = '';\n",
              "          dataTable['output_type'] = 'display_data';\n",
              "          await google.colab.output.renderOutput(dataTable, element);\n",
              "          const docLink = document.createElement('div');\n",
              "          docLink.innerHTML = docLinkHtml;\n",
              "          element.appendChild(docLink);\n",
              "        }\n",
              "      </script>\n",
              "    </div>\n",
              "  </div>\n"
            ]
          },
          "metadata": {},
          "execution_count": 155
        }
      ]
    },
    {
      "cell_type": "markdown",
      "source": [
        "## **b3. Todas las columnas a trabajar**"
      ],
      "metadata": {
        "id": "MWVTUyLjIAiT"
      }
    },
    {
      "cell_type": "code",
      "source": [
        "## **b3. Todas las columnas a trabajar**\n",
        "df_202306.columns"
      ],
      "metadata": {
        "colab": {
          "base_uri": "https://localhost:8080/"
        },
        "id": "f6tYOomVB2K-",
        "outputId": "3bb7f384-e060-4fa3-b537-b352668a2860"
      },
      "execution_count": null,
      "outputs": [
        {
          "output_type": "execute_result",
          "data": {
            "text/plain": [
              "Index(['FECHA_PROCESO', 'RUC_PROVEEDOR', 'PROVEEDOR', 'RUC_ENTIDAD', 'ENTIDAD',\n",
              "       'TIPO_PROCEDIMIENTO', 'ORDEN_ELECTRÓNICA', 'ORDEN_ELECTRÓNICA_GENERADA',\n",
              "       'ESTADO_ORDEN_ELECTRÓNICA', 'DOCUMENTO_ESTADO_OCAM',\n",
              "       'FECHA_FORMALIZACIÓN', 'FECHA_ÚLTIMO_ESTADO', 'SUB_TOTAL', 'IGV',\n",
              "       'TOTAL', 'ORDEN_DIGITALIZADA', 'DESCRIPCIÓN_ESTADO',\n",
              "       'DESCRIPCIÓN_CESIÓN_DERECHOS', 'ACUERDO_MARCO'],\n",
              "      dtype='object')"
            ]
          },
          "metadata": {},
          "execution_count": 156
        }
      ]
    },
    {
      "cell_type": "markdown",
      "source": [
        "## **b4. La dimensión de la data**\n",
        "+ **Obejtivo**\n",
        " - Construir un DataSet que contenga todos los archivos de la Carpeta\n",
        "   - Contendra 10473*18 = 188514 como entradas mínimas\n",
        "   - Almenos 19 variables\n"
      ],
      "metadata": {
        "id": "bU7xq_BRIcuY"
      }
    },
    {
      "cell_type": "code",
      "source": [
        "## **b4. La dimensión de la data**\n",
        "df_202306"
      ],
      "metadata": {
        "colab": {
          "base_uri": "https://localhost:8080/",
          "height": 1000
        },
        "id": "HwN4aD70B2Ox",
        "outputId": "b4d4c5f6-4db9-4570-c01a-f7f2072c8d6a"
      },
      "execution_count": null,
      "outputs": [
        {
          "output_type": "execute_result",
          "data": {
            "text/plain": [
              "             FECHA_PROCESO  RUC_PROVEEDOR  \\\n",
              "0      2023-07-04 09:12:58    20608836242   \n",
              "1      2023-07-04 09:12:58    20608643321   \n",
              "2      2023-07-04 09:12:58    20608643321   \n",
              "3      2023-07-04 09:12:58    20608643321   \n",
              "4      2023-07-04 09:12:58    20608643321   \n",
              "...                    ...            ...   \n",
              "10468  2023-07-04 09:12:58    20606044241   \n",
              "10469  2023-07-04 09:12:58    20601836841   \n",
              "10470  2023-07-04 09:12:58    20100340438   \n",
              "10471  2023-07-04 09:12:58    20125412875   \n",
              "10472  2023-07-04 09:12:58    10214924965   \n",
              "\n",
              "                                               PROVEEDOR  RUC_ENTIDAD  \\\n",
              "0                   JM CONSULTORA E INVERSIONES E.I.R.L.  20601625017   \n",
              "1      MARJOL INVERSIONES SOCIEDAD COMERCIAL DE RESPO...  20159316981   \n",
              "2      MARJOL INVERSIONES SOCIEDAD COMERCIAL DE RESPO...  20527143200   \n",
              "3      MARJOL INVERSIONES SOCIEDAD COMERCIAL DE RESPO...  20159316981   \n",
              "4      MARJOL INVERSIONES SOCIEDAD COMERCIAL DE RESPO...  20527147612   \n",
              "...                                                  ...          ...   \n",
              "10468                   D'TODO BIENES & SERVICIOS S.A.C.  20224796014   \n",
              "10469                                 CMPROVIDERS S.A.C.  20569049131   \n",
              "10470                                   REPRODATA S.A.C.  20527141762   \n",
              "10471                               COMERCIAL GIOVA S.A.  20131370301   \n",
              "10472                             VEGA LEGUA EDDY HEBERT  20534791381   \n",
              "\n",
              "                                            ENTIDAD TIPO_PROCEDIMIENTO  \\\n",
              "0              MUNICIPALIDAD DISTRITAL DE MEGANTONI   Compra ordinaria   \n",
              "1          INSTITUTO DE MANEJO DE AGUA Y MEDIO AMBI   Compra ordinaria   \n",
              "2                   GOBIERNO REGIONAL MADRE DE DIOS   Compra ordinaria   \n",
              "3          INSTITUTO DE MANEJO DE AGUA Y MEDIO AMBI   Compra ordinaria   \n",
              "4                           GOBIERNO REGIONAL CUSCO   Compra ordinaria   \n",
              "...                                             ...                ...   \n",
              "10468         MUNICIPALIDAD DISTRITAL DE CAPACMARCA   Compra ordinaria   \n",
              "10469          UNIDAD EJECUTORA EDUCACIÓN RÍO TAMBO   Compra ordinaria   \n",
              "10470                 GOBIERNO REGIONAL DE APURIMAC   Compra ordinaria   \n",
              "10471           MINISTERIO PUBLICO-GERENCIA GENERAL        Gran Compra   \n",
              "10472  UNIDAD EJECUTORA 407 HOSPITAL DE APOYO PALPA   Compra ordinaria   \n",
              "\n",
              "            ORDEN_ELECTRÓNICA  \\\n",
              "0      OCAM-2023-301884-697-0   \n",
              "1         OCAM-2023-792-173-0   \n",
              "2         OCAM-2023-875-186-0   \n",
              "3         OCAM-2023-792-172-0   \n",
              "4         OCAM-2023-789-518-0   \n",
              "...                       ...   \n",
              "10468   OCAM-2023-300733-10-0   \n",
              "10469      OCAM-2023-1680-4-0   \n",
              "10470     OCAM-2023-747-285-0   \n",
              "10471      OCAM-2023-200-54-0   \n",
              "10472      OCAM-2023-1457-7-0   \n",
              "\n",
              "                              ORDEN_ELECTRÓNICA_GENERADA  \\\n",
              "0      https://apps1.perucompras.gob.pe//OrdenCompra/...   \n",
              "1      https://apps1.perucompras.gob.pe//OrdenCompra/...   \n",
              "2      https://apps1.perucompras.gob.pe//OrdenCompra/...   \n",
              "3      https://apps1.perucompras.gob.pe//OrdenCompra/...   \n",
              "4      https://apps1.perucompras.gob.pe//OrdenCompra/...   \n",
              "...                                                  ...   \n",
              "10468  https://apps1.perucompras.gob.pe//OrdenCompra/...   \n",
              "10469  https://apps1.perucompras.gob.pe//OrdenCompra/...   \n",
              "10470  https://apps1.perucompras.gob.pe//OrdenCompra/...   \n",
              "10471  https://apps1.perucompras.gob.pe//OrdenCompra/...   \n",
              "10472  https://apps1.perucompras.gob.pe//OrdenCompra/...   \n",
              "\n",
              "      ESTADO_ORDEN_ELECTRÓNICA DOCUMENTO_ESTADO_OCAM  FECHA_FORMALIZACIÓN  \\\n",
              "0                     ACEPTADA                   NaN  2023-06-28 23:25:00   \n",
              "1                     ACEPTADA                   NaN  2023-06-28 23:16:09   \n",
              "2                     ACEPTADA                   NaN  2023-06-28 23:15:48   \n",
              "3                     ACEPTADA                   NaN  2023-06-28 23:15:26   \n",
              "4                     ACEPTADA                   NaN  2023-06-28 23:14:16   \n",
              "...                        ...                   ...                  ...   \n",
              "10468                 ACEPTADA                   NaN  2023-06-01 00:00:00   \n",
              "10469                 ACEPTADA                   NaN  2023-06-01 00:00:00   \n",
              "10470                 ACEPTADA                   NaN  2023-06-01 00:00:00   \n",
              "10471                   PAGADA                   NaN  2023-06-01 00:00:00   \n",
              "10472                 ACEPTADA                   NaN  2023-06-01 00:00:00   \n",
              "\n",
              "       FECHA_ÚLTIMO_ESTADO   SUB_TOTAL        IGV       TOTAL  \\\n",
              "0      2023-06-28 23:25:00      584.00     105.12      689.12   \n",
              "1      2023-06-28 23:16:09     5650.00    1017.00     6667.00   \n",
              "2      2023-06-28 23:15:48     2067.00     372.06     2439.06   \n",
              "3      2023-06-28 23:15:26     9450.00    1701.00    11151.00   \n",
              "4      2023-06-28 23:14:16     8270.50    1488.69     9759.19   \n",
              "...                    ...         ...        ...         ...   \n",
              "10468  2023-06-01 00:14:28      966.18     173.91     1140.09   \n",
              "10469  2023-06-01 00:14:28     8868.00    1596.24    10464.24   \n",
              "10470  2023-06-01 00:14:28    21468.43    3864.32    25332.75   \n",
              "10471  2023-07-04 02:36:57  2135061.18  384311.01  2519372.19   \n",
              "10472  2023-06-01 00:14:28     1069.40     192.49     1261.89   \n",
              "\n",
              "                                      ORDEN_DIGITALIZADA  \\\n",
              "0      https://saeusceprod01.blob.core.windows.net/co...   \n",
              "1      https://saeusceprod01.blob.core.windows.net/co...   \n",
              "2      https://saeusceprod01.blob.core.windows.net/co...   \n",
              "3      https://saeusceprod01.blob.core.windows.net/co...   \n",
              "4      https://saeusceprod01.blob.core.windows.net/co...   \n",
              "...                                                  ...   \n",
              "10468  https://saeusceprod01.blob.core.windows.net/co...   \n",
              "10469  https://saeusceprod01.blob.core.windows.net/co...   \n",
              "10470  https://saeusceprod01.blob.core.windows.net/co...   \n",
              "10471  https://saeusceprod01.blob.core.windows.net/co...   \n",
              "10472  https://saeusceprod01.blob.core.windows.net/co...   \n",
              "\n",
              "                                      DESCRIPCIÓN_ESTADO  \\\n",
              "0                                                    NaN   \n",
              "1                                                    NaN   \n",
              "2                                                    NaN   \n",
              "3                                                    NaN   \n",
              "4                                                    NaN   \n",
              "...                                                  ...   \n",
              "10468                                                NaN   \n",
              "10469                                                NaN   \n",
              "10470                                                NaN   \n",
              "10471  Actualizado automáticamente por la vinculación...   \n",
              "10472                                                NaN   \n",
              "\n",
              "       DESCRIPCIÓN_CESIÓN_DERECHOS  \\\n",
              "0                              NaN   \n",
              "1                              NaN   \n",
              "2                              NaN   \n",
              "3                              NaN   \n",
              "4                              NaN   \n",
              "...                            ...   \n",
              "10468                          NaN   \n",
              "10469                          NaN   \n",
              "10470                          NaN   \n",
              "10471                          NaN   \n",
              "10472                          NaN   \n",
              "\n",
              "                                           ACUERDO_MARCO  \n",
              "0      EXT-CE-2021-16 BIENES Y HERRAMIENTAS PARA USOS...  \n",
              "1      EXT-CE-2021-16 BIENES Y HERRAMIENTAS PARA USOS...  \n",
              "2      EXT-CE-2021-16 BIENES Y HERRAMIENTAS PARA USOS...  \n",
              "3      EXT-CE-2021-16 BIENES Y HERRAMIENTAS PARA USOS...  \n",
              "4      EXT-CE-2021-16 BIENES Y HERRAMIENTAS PARA USOS...  \n",
              "...                                                  ...  \n",
              "10468  EXT-CE-2021-6 IMPRESORAS, CONSUMIBLES, REPUEST...  \n",
              "10469  EXT-CE-2022-5 COMPUTADORAS DE ESCRITORIO, COMP...  \n",
              "10470  EXT-CE-2021-6 IMPRESORAS, CONSUMIBLES, REPUEST...  \n",
              "10471  EXT-CE-2021-7 ÚTILES DE ESCRITORIO, PAPELES Y ...  \n",
              "10472  EXT-CE-2021-7 ÚTILES DE ESCRITORIO, PAPELES Y ...  \n",
              "\n",
              "[10473 rows x 19 columns]"
            ],
            "text/html": [
              "\n",
              "\n",
              "  <div id=\"df-28ef584a-a6cc-4f3f-bb37-46f883c332bd\">\n",
              "    <div class=\"colab-df-container\">\n",
              "      <div>\n",
              "<style scoped>\n",
              "    .dataframe tbody tr th:only-of-type {\n",
              "        vertical-align: middle;\n",
              "    }\n",
              "\n",
              "    .dataframe tbody tr th {\n",
              "        vertical-align: top;\n",
              "    }\n",
              "\n",
              "    .dataframe thead th {\n",
              "        text-align: right;\n",
              "    }\n",
              "</style>\n",
              "<table border=\"1\" class=\"dataframe\">\n",
              "  <thead>\n",
              "    <tr style=\"text-align: right;\">\n",
              "      <th></th>\n",
              "      <th>FECHA_PROCESO</th>\n",
              "      <th>RUC_PROVEEDOR</th>\n",
              "      <th>PROVEEDOR</th>\n",
              "      <th>RUC_ENTIDAD</th>\n",
              "      <th>ENTIDAD</th>\n",
              "      <th>TIPO_PROCEDIMIENTO</th>\n",
              "      <th>ORDEN_ELECTRÓNICA</th>\n",
              "      <th>ORDEN_ELECTRÓNICA_GENERADA</th>\n",
              "      <th>ESTADO_ORDEN_ELECTRÓNICA</th>\n",
              "      <th>DOCUMENTO_ESTADO_OCAM</th>\n",
              "      <th>FECHA_FORMALIZACIÓN</th>\n",
              "      <th>FECHA_ÚLTIMO_ESTADO</th>\n",
              "      <th>SUB_TOTAL</th>\n",
              "      <th>IGV</th>\n",
              "      <th>TOTAL</th>\n",
              "      <th>ORDEN_DIGITALIZADA</th>\n",
              "      <th>DESCRIPCIÓN_ESTADO</th>\n",
              "      <th>DESCRIPCIÓN_CESIÓN_DERECHOS</th>\n",
              "      <th>ACUERDO_MARCO</th>\n",
              "    </tr>\n",
              "  </thead>\n",
              "  <tbody>\n",
              "    <tr>\n",
              "      <th>0</th>\n",
              "      <td>2023-07-04 09:12:58</td>\n",
              "      <td>20608836242</td>\n",
              "      <td>JM CONSULTORA E INVERSIONES E.I.R.L.</td>\n",
              "      <td>20601625017</td>\n",
              "      <td>MUNICIPALIDAD DISTRITAL DE MEGANTONI</td>\n",
              "      <td>Compra ordinaria</td>\n",
              "      <td>OCAM-2023-301884-697-0</td>\n",
              "      <td>https://apps1.perucompras.gob.pe//OrdenCompra/...</td>\n",
              "      <td>ACEPTADA</td>\n",
              "      <td>NaN</td>\n",
              "      <td>2023-06-28 23:25:00</td>\n",
              "      <td>2023-06-28 23:25:00</td>\n",
              "      <td>584.00</td>\n",
              "      <td>105.12</td>\n",
              "      <td>689.12</td>\n",
              "      <td>https://saeusceprod01.blob.core.windows.net/co...</td>\n",
              "      <td>NaN</td>\n",
              "      <td>NaN</td>\n",
              "      <td>EXT-CE-2021-16 BIENES Y HERRAMIENTAS PARA USOS...</td>\n",
              "    </tr>\n",
              "    <tr>\n",
              "      <th>1</th>\n",
              "      <td>2023-07-04 09:12:58</td>\n",
              "      <td>20608643321</td>\n",
              "      <td>MARJOL INVERSIONES SOCIEDAD COMERCIAL DE RESPO...</td>\n",
              "      <td>20159316981</td>\n",
              "      <td>INSTITUTO DE MANEJO DE AGUA Y MEDIO AMBI</td>\n",
              "      <td>Compra ordinaria</td>\n",
              "      <td>OCAM-2023-792-173-0</td>\n",
              "      <td>https://apps1.perucompras.gob.pe//OrdenCompra/...</td>\n",
              "      <td>ACEPTADA</td>\n",
              "      <td>NaN</td>\n",
              "      <td>2023-06-28 23:16:09</td>\n",
              "      <td>2023-06-28 23:16:09</td>\n",
              "      <td>5650.00</td>\n",
              "      <td>1017.00</td>\n",
              "      <td>6667.00</td>\n",
              "      <td>https://saeusceprod01.blob.core.windows.net/co...</td>\n",
              "      <td>NaN</td>\n",
              "      <td>NaN</td>\n",
              "      <td>EXT-CE-2021-16 BIENES Y HERRAMIENTAS PARA USOS...</td>\n",
              "    </tr>\n",
              "    <tr>\n",
              "      <th>2</th>\n",
              "      <td>2023-07-04 09:12:58</td>\n",
              "      <td>20608643321</td>\n",
              "      <td>MARJOL INVERSIONES SOCIEDAD COMERCIAL DE RESPO...</td>\n",
              "      <td>20527143200</td>\n",
              "      <td>GOBIERNO REGIONAL MADRE DE DIOS</td>\n",
              "      <td>Compra ordinaria</td>\n",
              "      <td>OCAM-2023-875-186-0</td>\n",
              "      <td>https://apps1.perucompras.gob.pe//OrdenCompra/...</td>\n",
              "      <td>ACEPTADA</td>\n",
              "      <td>NaN</td>\n",
              "      <td>2023-06-28 23:15:48</td>\n",
              "      <td>2023-06-28 23:15:48</td>\n",
              "      <td>2067.00</td>\n",
              "      <td>372.06</td>\n",
              "      <td>2439.06</td>\n",
              "      <td>https://saeusceprod01.blob.core.windows.net/co...</td>\n",
              "      <td>NaN</td>\n",
              "      <td>NaN</td>\n",
              "      <td>EXT-CE-2021-16 BIENES Y HERRAMIENTAS PARA USOS...</td>\n",
              "    </tr>\n",
              "    <tr>\n",
              "      <th>3</th>\n",
              "      <td>2023-07-04 09:12:58</td>\n",
              "      <td>20608643321</td>\n",
              "      <td>MARJOL INVERSIONES SOCIEDAD COMERCIAL DE RESPO...</td>\n",
              "      <td>20159316981</td>\n",
              "      <td>INSTITUTO DE MANEJO DE AGUA Y MEDIO AMBI</td>\n",
              "      <td>Compra ordinaria</td>\n",
              "      <td>OCAM-2023-792-172-0</td>\n",
              "      <td>https://apps1.perucompras.gob.pe//OrdenCompra/...</td>\n",
              "      <td>ACEPTADA</td>\n",
              "      <td>NaN</td>\n",
              "      <td>2023-06-28 23:15:26</td>\n",
              "      <td>2023-06-28 23:15:26</td>\n",
              "      <td>9450.00</td>\n",
              "      <td>1701.00</td>\n",
              "      <td>11151.00</td>\n",
              "      <td>https://saeusceprod01.blob.core.windows.net/co...</td>\n",
              "      <td>NaN</td>\n",
              "      <td>NaN</td>\n",
              "      <td>EXT-CE-2021-16 BIENES Y HERRAMIENTAS PARA USOS...</td>\n",
              "    </tr>\n",
              "    <tr>\n",
              "      <th>4</th>\n",
              "      <td>2023-07-04 09:12:58</td>\n",
              "      <td>20608643321</td>\n",
              "      <td>MARJOL INVERSIONES SOCIEDAD COMERCIAL DE RESPO...</td>\n",
              "      <td>20527147612</td>\n",
              "      <td>GOBIERNO REGIONAL CUSCO</td>\n",
              "      <td>Compra ordinaria</td>\n",
              "      <td>OCAM-2023-789-518-0</td>\n",
              "      <td>https://apps1.perucompras.gob.pe//OrdenCompra/...</td>\n",
              "      <td>ACEPTADA</td>\n",
              "      <td>NaN</td>\n",
              "      <td>2023-06-28 23:14:16</td>\n",
              "      <td>2023-06-28 23:14:16</td>\n",
              "      <td>8270.50</td>\n",
              "      <td>1488.69</td>\n",
              "      <td>9759.19</td>\n",
              "      <td>https://saeusceprod01.blob.core.windows.net/co...</td>\n",
              "      <td>NaN</td>\n",
              "      <td>NaN</td>\n",
              "      <td>EXT-CE-2021-16 BIENES Y HERRAMIENTAS PARA USOS...</td>\n",
              "    </tr>\n",
              "    <tr>\n",
              "      <th>...</th>\n",
              "      <td>...</td>\n",
              "      <td>...</td>\n",
              "      <td>...</td>\n",
              "      <td>...</td>\n",
              "      <td>...</td>\n",
              "      <td>...</td>\n",
              "      <td>...</td>\n",
              "      <td>...</td>\n",
              "      <td>...</td>\n",
              "      <td>...</td>\n",
              "      <td>...</td>\n",
              "      <td>...</td>\n",
              "      <td>...</td>\n",
              "      <td>...</td>\n",
              "      <td>...</td>\n",
              "      <td>...</td>\n",
              "      <td>...</td>\n",
              "      <td>...</td>\n",
              "      <td>...</td>\n",
              "    </tr>\n",
              "    <tr>\n",
              "      <th>10468</th>\n",
              "      <td>2023-07-04 09:12:58</td>\n",
              "      <td>20606044241</td>\n",
              "      <td>D'TODO BIENES &amp; SERVICIOS S.A.C.</td>\n",
              "      <td>20224796014</td>\n",
              "      <td>MUNICIPALIDAD DISTRITAL DE CAPACMARCA</td>\n",
              "      <td>Compra ordinaria</td>\n",
              "      <td>OCAM-2023-300733-10-0</td>\n",
              "      <td>https://apps1.perucompras.gob.pe//OrdenCompra/...</td>\n",
              "      <td>ACEPTADA</td>\n",
              "      <td>NaN</td>\n",
              "      <td>2023-06-01 00:00:00</td>\n",
              "      <td>2023-06-01 00:14:28</td>\n",
              "      <td>966.18</td>\n",
              "      <td>173.91</td>\n",
              "      <td>1140.09</td>\n",
              "      <td>https://saeusceprod01.blob.core.windows.net/co...</td>\n",
              "      <td>NaN</td>\n",
              "      <td>NaN</td>\n",
              "      <td>EXT-CE-2021-6 IMPRESORAS, CONSUMIBLES, REPUEST...</td>\n",
              "    </tr>\n",
              "    <tr>\n",
              "      <th>10469</th>\n",
              "      <td>2023-07-04 09:12:58</td>\n",
              "      <td>20601836841</td>\n",
              "      <td>CMPROVIDERS S.A.C.</td>\n",
              "      <td>20569049131</td>\n",
              "      <td>UNIDAD EJECUTORA EDUCACIÓN RÍO TAMBO</td>\n",
              "      <td>Compra ordinaria</td>\n",
              "      <td>OCAM-2023-1680-4-0</td>\n",
              "      <td>https://apps1.perucompras.gob.pe//OrdenCompra/...</td>\n",
              "      <td>ACEPTADA</td>\n",
              "      <td>NaN</td>\n",
              "      <td>2023-06-01 00:00:00</td>\n",
              "      <td>2023-06-01 00:14:28</td>\n",
              "      <td>8868.00</td>\n",
              "      <td>1596.24</td>\n",
              "      <td>10464.24</td>\n",
              "      <td>https://saeusceprod01.blob.core.windows.net/co...</td>\n",
              "      <td>NaN</td>\n",
              "      <td>NaN</td>\n",
              "      <td>EXT-CE-2022-5 COMPUTADORAS DE ESCRITORIO, COMP...</td>\n",
              "    </tr>\n",
              "    <tr>\n",
              "      <th>10470</th>\n",
              "      <td>2023-07-04 09:12:58</td>\n",
              "      <td>20100340438</td>\n",
              "      <td>REPRODATA S.A.C.</td>\n",
              "      <td>20527141762</td>\n",
              "      <td>GOBIERNO REGIONAL DE APURIMAC</td>\n",
              "      <td>Compra ordinaria</td>\n",
              "      <td>OCAM-2023-747-285-0</td>\n",
              "      <td>https://apps1.perucompras.gob.pe//OrdenCompra/...</td>\n",
              "      <td>ACEPTADA</td>\n",
              "      <td>NaN</td>\n",
              "      <td>2023-06-01 00:00:00</td>\n",
              "      <td>2023-06-01 00:14:28</td>\n",
              "      <td>21468.43</td>\n",
              "      <td>3864.32</td>\n",
              "      <td>25332.75</td>\n",
              "      <td>https://saeusceprod01.blob.core.windows.net/co...</td>\n",
              "      <td>NaN</td>\n",
              "      <td>NaN</td>\n",
              "      <td>EXT-CE-2021-6 IMPRESORAS, CONSUMIBLES, REPUEST...</td>\n",
              "    </tr>\n",
              "    <tr>\n",
              "      <th>10471</th>\n",
              "      <td>2023-07-04 09:12:58</td>\n",
              "      <td>20125412875</td>\n",
              "      <td>COMERCIAL GIOVA S.A.</td>\n",
              "      <td>20131370301</td>\n",
              "      <td>MINISTERIO PUBLICO-GERENCIA GENERAL</td>\n",
              "      <td>Gran Compra</td>\n",
              "      <td>OCAM-2023-200-54-0</td>\n",
              "      <td>https://apps1.perucompras.gob.pe//OrdenCompra/...</td>\n",
              "      <td>PAGADA</td>\n",
              "      <td>NaN</td>\n",
              "      <td>2023-06-01 00:00:00</td>\n",
              "      <td>2023-07-04 02:36:57</td>\n",
              "      <td>2135061.18</td>\n",
              "      <td>384311.01</td>\n",
              "      <td>2519372.19</td>\n",
              "      <td>https://saeusceprod01.blob.core.windows.net/co...</td>\n",
              "      <td>Actualizado automáticamente por la vinculación...</td>\n",
              "      <td>NaN</td>\n",
              "      <td>EXT-CE-2021-7 ÚTILES DE ESCRITORIO, PAPELES Y ...</td>\n",
              "    </tr>\n",
              "    <tr>\n",
              "      <th>10472</th>\n",
              "      <td>2023-07-04 09:12:58</td>\n",
              "      <td>10214924965</td>\n",
              "      <td>VEGA LEGUA EDDY HEBERT</td>\n",
              "      <td>20534791381</td>\n",
              "      <td>UNIDAD EJECUTORA 407 HOSPITAL DE APOYO PALPA</td>\n",
              "      <td>Compra ordinaria</td>\n",
              "      <td>OCAM-2023-1457-7-0</td>\n",
              "      <td>https://apps1.perucompras.gob.pe//OrdenCompra/...</td>\n",
              "      <td>ACEPTADA</td>\n",
              "      <td>NaN</td>\n",
              "      <td>2023-06-01 00:00:00</td>\n",
              "      <td>2023-06-01 00:14:28</td>\n",
              "      <td>1069.40</td>\n",
              "      <td>192.49</td>\n",
              "      <td>1261.89</td>\n",
              "      <td>https://saeusceprod01.blob.core.windows.net/co...</td>\n",
              "      <td>NaN</td>\n",
              "      <td>NaN</td>\n",
              "      <td>EXT-CE-2021-7 ÚTILES DE ESCRITORIO, PAPELES Y ...</td>\n",
              "    </tr>\n",
              "  </tbody>\n",
              "</table>\n",
              "<p>10473 rows × 19 columns</p>\n",
              "</div>\n",
              "      <button class=\"colab-df-convert\" onclick=\"convertToInteractive('df-28ef584a-a6cc-4f3f-bb37-46f883c332bd')\"\n",
              "              title=\"Convert this dataframe to an interactive table.\"\n",
              "              style=\"display:none;\">\n",
              "\n",
              "  <svg xmlns=\"http://www.w3.org/2000/svg\" height=\"24px\"viewBox=\"0 0 24 24\"\n",
              "       width=\"24px\">\n",
              "    <path d=\"M0 0h24v24H0V0z\" fill=\"none\"/>\n",
              "    <path d=\"M18.56 5.44l.94 2.06.94-2.06 2.06-.94-2.06-.94-.94-2.06-.94 2.06-2.06.94zm-11 1L8.5 8.5l.94-2.06 2.06-.94-2.06-.94L8.5 2.5l-.94 2.06-2.06.94zm10 10l.94 2.06.94-2.06 2.06-.94-2.06-.94-.94-2.06-.94 2.06-2.06.94z\"/><path d=\"M17.41 7.96l-1.37-1.37c-.4-.4-.92-.59-1.43-.59-.52 0-1.04.2-1.43.59L10.3 9.45l-7.72 7.72c-.78.78-.78 2.05 0 2.83L4 21.41c.39.39.9.59 1.41.59.51 0 1.02-.2 1.41-.59l7.78-7.78 2.81-2.81c.8-.78.8-2.07 0-2.86zM5.41 20L4 18.59l7.72-7.72 1.47 1.35L5.41 20z\"/>\n",
              "  </svg>\n",
              "      </button>\n",
              "\n",
              "\n",
              "\n",
              "    <div id=\"df-0c2478ce-ab27-47f9-ada9-5a59e9c0a90e\">\n",
              "      <button class=\"colab-df-quickchart\" onclick=\"quickchart('df-0c2478ce-ab27-47f9-ada9-5a59e9c0a90e')\"\n",
              "              title=\"Suggest charts.\"\n",
              "              style=\"display:none;\">\n",
              "\n",
              "<svg xmlns=\"http://www.w3.org/2000/svg\" height=\"24px\"viewBox=\"0 0 24 24\"\n",
              "     width=\"24px\">\n",
              "    <g>\n",
              "        <path d=\"M19 3H5c-1.1 0-2 .9-2 2v14c0 1.1.9 2 2 2h14c1.1 0 2-.9 2-2V5c0-1.1-.9-2-2-2zM9 17H7v-7h2v7zm4 0h-2V7h2v10zm4 0h-2v-4h2v4z\"/>\n",
              "    </g>\n",
              "</svg>\n",
              "      </button>\n",
              "    </div>\n",
              "\n",
              "<style>\n",
              "  .colab-df-quickchart {\n",
              "    background-color: #E8F0FE;\n",
              "    border: none;\n",
              "    border-radius: 50%;\n",
              "    cursor: pointer;\n",
              "    display: none;\n",
              "    fill: #1967D2;\n",
              "    height: 32px;\n",
              "    padding: 0 0 0 0;\n",
              "    width: 32px;\n",
              "  }\n",
              "\n",
              "  .colab-df-quickchart:hover {\n",
              "    background-color: #E2EBFA;\n",
              "    box-shadow: 0px 1px 2px rgba(60, 64, 67, 0.3), 0px 1px 3px 1px rgba(60, 64, 67, 0.15);\n",
              "    fill: #174EA6;\n",
              "  }\n",
              "\n",
              "  [theme=dark] .colab-df-quickchart {\n",
              "    background-color: #3B4455;\n",
              "    fill: #D2E3FC;\n",
              "  }\n",
              "\n",
              "  [theme=dark] .colab-df-quickchart:hover {\n",
              "    background-color: #434B5C;\n",
              "    box-shadow: 0px 1px 3px 1px rgba(0, 0, 0, 0.15);\n",
              "    filter: drop-shadow(0px 1px 2px rgba(0, 0, 0, 0.3));\n",
              "    fill: #FFFFFF;\n",
              "  }\n",
              "</style>\n",
              "\n",
              "    <script>\n",
              "      async function quickchart(key) {\n",
              "        const containerElement = document.querySelector('#' + key);\n",
              "        const charts = await google.colab.kernel.invokeFunction(\n",
              "            'suggestCharts', [key], {});\n",
              "      }\n",
              "    </script>\n",
              "\n",
              "      <script>\n",
              "\n",
              "function displayQuickchartButton(domScope) {\n",
              "  let quickchartButtonEl =\n",
              "    domScope.querySelector('#df-0c2478ce-ab27-47f9-ada9-5a59e9c0a90e button.colab-df-quickchart');\n",
              "  quickchartButtonEl.style.display =\n",
              "    google.colab.kernel.accessAllowed ? 'block' : 'none';\n",
              "}\n",
              "\n",
              "        displayQuickchartButton(document);\n",
              "      </script>\n",
              "      <style>\n",
              "    .colab-df-container {\n",
              "      display:flex;\n",
              "      flex-wrap:wrap;\n",
              "      gap: 12px;\n",
              "    }\n",
              "\n",
              "    .colab-df-convert {\n",
              "      background-color: #E8F0FE;\n",
              "      border: none;\n",
              "      border-radius: 50%;\n",
              "      cursor: pointer;\n",
              "      display: none;\n",
              "      fill: #1967D2;\n",
              "      height: 32px;\n",
              "      padding: 0 0 0 0;\n",
              "      width: 32px;\n",
              "    }\n",
              "\n",
              "    .colab-df-convert:hover {\n",
              "      background-color: #E2EBFA;\n",
              "      box-shadow: 0px 1px 2px rgba(60, 64, 67, 0.3), 0px 1px 3px 1px rgba(60, 64, 67, 0.15);\n",
              "      fill: #174EA6;\n",
              "    }\n",
              "\n",
              "    [theme=dark] .colab-df-convert {\n",
              "      background-color: #3B4455;\n",
              "      fill: #D2E3FC;\n",
              "    }\n",
              "\n",
              "    [theme=dark] .colab-df-convert:hover {\n",
              "      background-color: #434B5C;\n",
              "      box-shadow: 0px 1px 3px 1px rgba(0, 0, 0, 0.15);\n",
              "      filter: drop-shadow(0px 1px 2px rgba(0, 0, 0, 0.3));\n",
              "      fill: #FFFFFF;\n",
              "    }\n",
              "  </style>\n",
              "\n",
              "      <script>\n",
              "        const buttonEl =\n",
              "          document.querySelector('#df-28ef584a-a6cc-4f3f-bb37-46f883c332bd button.colab-df-convert');\n",
              "        buttonEl.style.display =\n",
              "          google.colab.kernel.accessAllowed ? 'block' : 'none';\n",
              "\n",
              "        async function convertToInteractive(key) {\n",
              "          const element = document.querySelector('#df-28ef584a-a6cc-4f3f-bb37-46f883c332bd');\n",
              "          const dataTable =\n",
              "            await google.colab.kernel.invokeFunction('convertToInteractive',\n",
              "                                                     [key], {});\n",
              "          if (!dataTable) return;\n",
              "\n",
              "          const docLinkHtml = 'Like what you see? Visit the ' +\n",
              "            '<a target=\"_blank\" href=https://colab.research.google.com/notebooks/data_table.ipynb>data table notebook</a>'\n",
              "            + ' to learn more about interactive tables.';\n",
              "          element.innerHTML = '';\n",
              "          dataTable['output_type'] = 'display_data';\n",
              "          await google.colab.output.renderOutput(dataTable, element);\n",
              "          const docLink = document.createElement('div');\n",
              "          docLink.innerHTML = docLinkHtml;\n",
              "          element.appendChild(docLink);\n",
              "        }\n",
              "      </script>\n",
              "    </div>\n",
              "  </div>\n"
            ]
          },
          "metadata": {},
          "execution_count": 157
        }
      ]
    },
    {
      "cell_type": "markdown",
      "source": [
        "# **c. Concatenación de Todos Los Archivos de la Carpeta**"
      ],
      "metadata": {
        "id": "FZ6PrqkHIosh"
      }
    },
    {
      "cell_type": "markdown",
      "source": [
        "## **c1. creamos una lista que contenga los nombres del Archivo**"
      ],
      "metadata": {
        "id": "Iv2VZDWQOjes"
      }
    },
    {
      "cell_type": "code",
      "source": [
        "## **c1. creamos una lista que contenga los nombres del Archivo**\n",
        "lista_nomb_Archivo = os.listdir()\n",
        "lista_nomb_Archivo"
      ],
      "metadata": {
        "colab": {
          "base_uri": "https://localhost:8080/"
        },
        "id": "ke54zclXB2V-",
        "outputId": "4b3e26e4-a06c-4abe-80f6-96c4a9ef84ab"
      },
      "execution_count": null,
      "outputs": [
        {
          "output_type": "execute_result",
          "data": {
            "text/plain": [
              "['ReportePCBienes202201.csv',\n",
              " 'ReportePCBienes202202.csv',\n",
              " 'ReportePCBienes202206.csv',\n",
              " 'ReportePCBienes202208.csv',\n",
              " 'ReportePCBienes202204.csv',\n",
              " 'ReportePCBienes202205.csv',\n",
              " 'ReportePCBienes202211.csv',\n",
              " 'ReportePCBienes202203.csv',\n",
              " 'ReportePCBienes202301.csv',\n",
              " 'ReportePCBienes202207.csv',\n",
              " 'ReportePCBienes202302.csv',\n",
              " 'ReportePCBienes202212.csv',\n",
              " 'ReportePCBienes202210.csv',\n",
              " 'ReportePCBienes202209.csv',\n",
              " 'ReportePCBienes202306.csv',\n",
              " 'ReportePCBienes202303.csv',\n",
              " 'ReportePCBienes202304.csv',\n",
              " 'ReportePCBienes202305.csv']"
            ]
          },
          "metadata": {},
          "execution_count": 158
        }
      ]
    },
    {
      "cell_type": "markdown",
      "source": [
        "## **c2. De Cada archivo quiero seleccionar unicamente el Periodo ej. 202209**"
      ],
      "metadata": {
        "id": "Wr6vy3WcTF-b"
      }
    },
    {
      "cell_type": "code",
      "source": [
        "## **c2. De Cada archivo quiero seleccionar unicamente el Periodo ej. 202209**\n",
        "import re # esta libreria se usa para manipulación de expresiones regulares tipo string\n",
        "re.sub('\\D','','ReportePCBienes202209.csv') # Inserta tres tipos de argumentos (Lo que queremos buscar, de lo que se ha buscado con cual lo vamos a reemplazar,\n",
        "#en donde queremos que se aplique esas acciones)"
      ],
      "metadata": {
        "colab": {
          "base_uri": "https://localhost:8080/",
          "height": 35
        },
        "id": "BgHyTWUZSfGF",
        "outputId": "5ecbe21c-334c-470c-f971-8abebe035035"
      },
      "execution_count": null,
      "outputs": [
        {
          "output_type": "execute_result",
          "data": {
            "text/plain": [
              "'202209'"
            ],
            "application/vnd.google.colaboratory.intrinsic+json": {
              "type": "string"
            }
          },
          "metadata": {},
          "execution_count": 159
        }
      ]
    },
    {
      "cell_type": "markdown",
      "source": [
        "## **c3. Creamos un bucle usando for que organice en un solo DataFrame todos los archivos**"
      ],
      "metadata": {
        "id": "psp7vsiVPQgs"
      }
    },
    {
      "cell_type": "code",
      "source": [
        "## **c3. Creamos un bucle usando for que organice en un solo DataFrame todos los archivos**\n",
        "df_Perú_compras = pd.DataFrame() # Este es el nombre del DataFrame completo\n",
        "for i in lista_nomb_Archivo: # La iteración será sobre los nombres archivos de la carpeta\n",
        "   df_Mes = pd.read_csv(i, sep = ';', encoding = 'latin') # En cada i recorrido va creando un DataFrame del mes correspondiente\n",
        "   df_Mes['ARCHIVO'] = i # Al DataFrame creado agregamos una columna que identifique el archivo agregado\n",
        "   df_Mes['PERIODO'] = re.sub('\\D','',i) # Al DataFrame creado agregamos una columna que identifique el Periodo agregado\n",
        "   df_Perú_compras = df_Perú_compras.append(df_Mes) # Cada DataFrame recorrido en la ietración se va agregar df_Perú_compras por filas\n",
        "\n"
      ],
      "metadata": {
        "id": "_1Nm6lBIB2ZB"
      },
      "execution_count": null,
      "outputs": []
    },
    {
      "cell_type": "markdown",
      "source": [
        "## **c4. Revisamos El Data Frame creado hasta el momento**\n",
        "+ **Perú Compras**. Es una institución que promueve el uso de nuevas tecnologias entre proveedores y entidades para mejorar la eficencia y transparecia de las adquisiciones del Estado.\n",
        "+ Es un organismo publico adscrito al Ministerio de Economía y Finanzas con autonomia técnica, funcional y administrativa cuyo objetivo es optimizar las contrataciones publicas a nivel nacional"
      ],
      "metadata": {
        "id": "ZqMd0Gr8Vgba"
      }
    },
    {
      "cell_type": "code",
      "source": [
        "## **c4. Revisamos El Data Frame creado hasta el momento**\n",
        "df_Perú_compras"
      ],
      "metadata": {
        "colab": {
          "base_uri": "https://localhost:8080/",
          "height": 1000
        },
        "id": "jEzxBvj4OaoK",
        "outputId": "a5fbf43c-4cfa-46b0-ccc8-5946db3e6425"
      },
      "execution_count": null,
      "outputs": [
        {
          "output_type": "execute_result",
          "data": {
            "text/plain": [
              "             FECHA_PROCESO  RUC_PROVEEDOR  \\\n",
              "0      2022-05-12 12:51:18    20530182038   \n",
              "1      2022-05-12 12:51:18    20530182038   \n",
              "2      2022-05-12 12:51:18    20427497888   \n",
              "3      2022-05-12 12:51:18    20600257286   \n",
              "4      2022-05-12 12:51:18    20600668791   \n",
              "...                    ...            ...   \n",
              "12261  2023-06-01 08:01:04    20609289750   \n",
              "12262  2023-06-01 08:01:04    20536630954   \n",
              "12263  2023-06-01 08:01:04    20557233629   \n",
              "12264  2023-06-01 08:01:04    20600257286   \n",
              "12265  2023-06-01 08:01:04    20536630954   \n",
              "\n",
              "                                               PROVEEDOR  RUC_ENTIDAD  \\\n",
              "0      GRUPO COMPUDATA PERUSOCIEDAD DE RESPONSABILIDA...  20172606777   \n",
              "1      GRUPO COMPUDATA PERUSOCIEDAD DE RESPONSABILIDA...  20172606777   \n",
              "2                                 COMERCIAL DENIA S.A.C.  20174950971   \n",
              "3                                     PROYECTEC E.I.R.L.  20174950971   \n",
              "4                         PAPELERIA REAL OFFICE E.I.R.L.  20174950971   \n",
              "...                                                  ...          ...   \n",
              "12261                              GRUPO SUTESA E.I.R.L.  20608010212   \n",
              "12262                      F.P. TECNOLOGI & SYSTEM S.A.C  20608010212   \n",
              "12263  C Y N  SERVICIOS  GENERALES  S.A.C.           ...  20608010212   \n",
              "12264                                 PROYECTEC E.I.R.L.  20601761999   \n",
              "12265                      F.P. TECNOLOGI & SYSTEM S.A.C  20601761999   \n",
              "\n",
              "                                                 ENTIDAD TIPO_PROCEDIMIENTO  \\\n",
              "0                          UNIVERSIDAD NACIONAL DE PIURA   Compra ordinaria   \n",
              "1                          UNIVERSIDAD NACIONAL DE PIURA   Compra ordinaria   \n",
              "2      UNIVERSIDAD NACIONAL DE EDUCACION ENRIQUE GUZM...   Compra ordinaria   \n",
              "3      UNIVERSIDAD NACIONAL DE EDUCACION ENRIQUE GUZM...   Compra ordinaria   \n",
              "4      UNIVERSIDAD NACIONAL DE EDUCACION ENRIQUE GUZM...   Compra ordinaria   \n",
              "...                                                  ...                ...   \n",
              "12261          MUNICIPALIDAD DISTRITAL  DE KUMPIRUSHIATO   Compra ordinaria   \n",
              "12262          MUNICIPALIDAD DISTRITAL  DE KUMPIRUSHIATO   Compra ordinaria   \n",
              "12263          MUNICIPALIDAD DISTRITAL  DE KUMPIRUSHIATO   Compra ordinaria   \n",
              "12264  UNIDAD EJECUTORA HOSPITAL DE REHABILITACIÓN DE...   Compra ordinaria   \n",
              "12265  UNIDAD EJECUTORA HOSPITAL DE REHABILITACIÓN DE...   Compra ordinaria   \n",
              "\n",
              "            ORDEN_ELECTRÓNICA  \\\n",
              "0           OCAM-2021-99-55-0   \n",
              "1           OCAM-2021-99-57-0   \n",
              "2         OCAM-2021-106-327-0   \n",
              "3         OCAM-2021-106-328-0   \n",
              "4         OCAM-2021-106-340-0   \n",
              "...                       ...   \n",
              "12261  OCAM-2023-301893-128-0   \n",
              "12262  OCAM-2023-301893-125-0   \n",
              "12263  OCAM-2023-301893-126-0   \n",
              "12264     OCAM-2023-1667-76-0   \n",
              "12265     OCAM-2023-1667-75-0   \n",
              "\n",
              "                              ORDEN_ELECTRÓNICA_GENERADA  \\\n",
              "0      https://apps1.perucompras.gob.pe//OrdenCompra/...   \n",
              "1      https://apps1.perucompras.gob.pe//OrdenCompra/...   \n",
              "2      https://apps1.perucompras.gob.pe//OrdenCompra/...   \n",
              "3      https://apps1.perucompras.gob.pe//OrdenCompra/...   \n",
              "4      https://apps1.perucompras.gob.pe//OrdenCompra/...   \n",
              "...                                                  ...   \n",
              "12261  https://apps1.perucompras.gob.pe//OrdenCompra/...   \n",
              "12262  https://apps1.perucompras.gob.pe//OrdenCompra/...   \n",
              "12263  https://apps1.perucompras.gob.pe//OrdenCompra/...   \n",
              "12264  https://apps1.perucompras.gob.pe//OrdenCompra/...   \n",
              "12265  https://apps1.perucompras.gob.pe//OrdenCompra/...   \n",
              "\n",
              "      ESTADO_ORDEN_ELECTRÓNICA  \\\n",
              "0                       PAGADA   \n",
              "1                       PAGADA   \n",
              "2                       PAGADA   \n",
              "3                     ACEPTADA   \n",
              "4                     ACEPTADA   \n",
              "...                        ...   \n",
              "12261                 ACEPTADA   \n",
              "12262                   PAGADA   \n",
              "12263                 ACEPTADA   \n",
              "12264                   PAGADA   \n",
              "12265                   PAGADA   \n",
              "\n",
              "                                   DOCUMENTO_ESTADO_OCAM  FECHA_FORMALIZACIÓN  \\\n",
              "0      https://saeusceprod01.blob.core.windows.net/co...  2022-01-04 00:00:00   \n",
              "1      https://saeusceprod01.blob.core.windows.net/co...  2022-01-04 00:00:00   \n",
              "2      https://saeusceprod01.blob.core.windows.net/co...  2022-01-04 00:00:00   \n",
              "3                                                    NaN  2022-01-04 00:00:00   \n",
              "4                                                    NaN  2022-01-04 00:00:00   \n",
              "...                                                  ...                  ...   \n",
              "12261                                                NaN  2023-05-02 00:00:00   \n",
              "12262                                                NaN  2023-05-02 00:00:00   \n",
              "12263                                                NaN  2023-05-02 00:00:00   \n",
              "12264                                                NaN  2023-05-02 00:00:00   \n",
              "12265                                                NaN  2023-05-02 00:00:00   \n",
              "\n",
              "       FECHA_ÚLTIMO_ESTADO  SUB_TOTAL      IGV     TOTAL  \\\n",
              "0      2022-02-18 11:11:28    9298.90  1673.80  10972.70   \n",
              "1      2022-02-18 11:11:05    2894.79   521.06   3415.85   \n",
              "2      2022-03-30 11:20:38   22640.80  4075.34  26716.14   \n",
              "3      2022-01-04 00:07:35   11220.78  2019.74  13240.52   \n",
              "4      2022-01-04 00:07:35    4586.57   825.58   5412.15   \n",
              "...                    ...        ...      ...       ...   \n",
              "12261  2023-05-02 00:12:14    5671.50  1020.87   6692.37   \n",
              "12262  2023-05-30 02:04:10    3213.85   578.49   3792.34   \n",
              "12263  2023-05-02 00:12:14    5317.78   957.20   6274.98   \n",
              "12264  2023-05-17 02:24:03    4577.54   823.96   5401.50   \n",
              "12265  2023-05-17 02:26:16     756.20   136.12    892.32   \n",
              "\n",
              "                                      ORDEN_DIGITALIZADA  \\\n",
              "0      https://saeusceprod01.blob.core.windows.net/co...   \n",
              "1      https://saeusceprod01.blob.core.windows.net/co...   \n",
              "2      https://saeusceprod01.blob.core.windows.net/co...   \n",
              "3      https://saeusceprod01.blob.core.windows.net/co...   \n",
              "4      https://saeusceprod01.blob.core.windows.net/co...   \n",
              "...                                                  ...   \n",
              "12261  https://saeusceprod01.blob.core.windows.net/co...   \n",
              "12262  https://saeusceprod01.blob.core.windows.net/co...   \n",
              "12263  https://saeusceprod01.blob.core.windows.net/co...   \n",
              "12264  https://saeusceprod01.blob.core.windows.net/co...   \n",
              "12265  https://saeusceprod01.blob.core.windows.net/co...   \n",
              "\n",
              "                                      DESCRIPCIÓN_ESTADO  \\\n",
              "0                                                    NaN   \n",
              "1                                                    NaN   \n",
              "2                                                    NaN   \n",
              "3                                                    NaN   \n",
              "4                                                    NaN   \n",
              "...                                                  ...   \n",
              "12261                                                NaN   \n",
              "12262  Actualizado automáticamente por la vinculación...   \n",
              "12263                                                NaN   \n",
              "12264  Actualizado automáticamente por la vinculación...   \n",
              "12265  Actualizado automáticamente por la vinculación...   \n",
              "\n",
              "       DESCRIPCIÓN_CESIÓN_DERECHOS  \\\n",
              "0                              NaN   \n",
              "1                              NaN   \n",
              "2                              NaN   \n",
              "3                              NaN   \n",
              "4                              NaN   \n",
              "...                            ...   \n",
              "12261                          NaN   \n",
              "12262                          NaN   \n",
              "12263                          NaN   \n",
              "12264                          NaN   \n",
              "12265                          NaN   \n",
              "\n",
              "                                           ACUERDO_MARCO  \\\n",
              "0      IM-CE-2020-5 COMPUTADORAS DE ESCRITORIO, COMPU...   \n",
              "1      EXT-CE-2021-6 IMPRESORAS, CONSUMIBLES, REPUEST...   \n",
              "2      EXT-CE-2021-6 IMPRESORAS, CONSUMIBLES, REPUEST...   \n",
              "3      IM-CE-2020-5 COMPUTADORAS DE ESCRITORIO, COMPU...   \n",
              "4      EXT-CE-2021-7 ÚTILES DE ESCRITORIO, PAPELES Y ...   \n",
              "...                                                  ...   \n",
              "12261  EXT-CE-2022-5 COMPUTADORAS DE ESCRITORIO, COMP...   \n",
              "12262  EXT-CE-2022-5 COMPUTADORAS DE ESCRITORIO, COMP...   \n",
              "12263  EXT-CE-2022-5 COMPUTADORAS DE ESCRITORIO, COMP...   \n",
              "12264  EXT-CE-2022-5 COMPUTADORAS DE ESCRITORIO, COMP...   \n",
              "12265  EXT-CE-2022-5 COMPUTADORAS DE ESCRITORIO, COMP...   \n",
              "\n",
              "                         ARCHIVO PERIODO  \n",
              "0      ReportePCBienes202201.csv  202201  \n",
              "1      ReportePCBienes202201.csv  202201  \n",
              "2      ReportePCBienes202201.csv  202201  \n",
              "3      ReportePCBienes202201.csv  202201  \n",
              "4      ReportePCBienes202201.csv  202201  \n",
              "...                          ...     ...  \n",
              "12261  ReportePCBienes202305.csv  202305  \n",
              "12262  ReportePCBienes202305.csv  202305  \n",
              "12263  ReportePCBienes202305.csv  202305  \n",
              "12264  ReportePCBienes202305.csv  202305  \n",
              "12265  ReportePCBienes202305.csv  202305  \n",
              "\n",
              "[190527 rows x 21 columns]"
            ],
            "text/html": [
              "\n",
              "\n",
              "  <div id=\"df-4f00863a-823f-469e-99dc-a5d4b408f959\">\n",
              "    <div class=\"colab-df-container\">\n",
              "      <div>\n",
              "<style scoped>\n",
              "    .dataframe tbody tr th:only-of-type {\n",
              "        vertical-align: middle;\n",
              "    }\n",
              "\n",
              "    .dataframe tbody tr th {\n",
              "        vertical-align: top;\n",
              "    }\n",
              "\n",
              "    .dataframe thead th {\n",
              "        text-align: right;\n",
              "    }\n",
              "</style>\n",
              "<table border=\"1\" class=\"dataframe\">\n",
              "  <thead>\n",
              "    <tr style=\"text-align: right;\">\n",
              "      <th></th>\n",
              "      <th>FECHA_PROCESO</th>\n",
              "      <th>RUC_PROVEEDOR</th>\n",
              "      <th>PROVEEDOR</th>\n",
              "      <th>RUC_ENTIDAD</th>\n",
              "      <th>ENTIDAD</th>\n",
              "      <th>TIPO_PROCEDIMIENTO</th>\n",
              "      <th>ORDEN_ELECTRÓNICA</th>\n",
              "      <th>ORDEN_ELECTRÓNICA_GENERADA</th>\n",
              "      <th>ESTADO_ORDEN_ELECTRÓNICA</th>\n",
              "      <th>DOCUMENTO_ESTADO_OCAM</th>\n",
              "      <th>FECHA_FORMALIZACIÓN</th>\n",
              "      <th>FECHA_ÚLTIMO_ESTADO</th>\n",
              "      <th>SUB_TOTAL</th>\n",
              "      <th>IGV</th>\n",
              "      <th>TOTAL</th>\n",
              "      <th>ORDEN_DIGITALIZADA</th>\n",
              "      <th>DESCRIPCIÓN_ESTADO</th>\n",
              "      <th>DESCRIPCIÓN_CESIÓN_DERECHOS</th>\n",
              "      <th>ACUERDO_MARCO</th>\n",
              "      <th>ARCHIVO</th>\n",
              "      <th>PERIODO</th>\n",
              "    </tr>\n",
              "  </thead>\n",
              "  <tbody>\n",
              "    <tr>\n",
              "      <th>0</th>\n",
              "      <td>2022-05-12 12:51:18</td>\n",
              "      <td>20530182038</td>\n",
              "      <td>GRUPO COMPUDATA PERUSOCIEDAD DE RESPONSABILIDA...</td>\n",
              "      <td>20172606777</td>\n",
              "      <td>UNIVERSIDAD NACIONAL DE PIURA</td>\n",
              "      <td>Compra ordinaria</td>\n",
              "      <td>OCAM-2021-99-55-0</td>\n",
              "      <td>https://apps1.perucompras.gob.pe//OrdenCompra/...</td>\n",
              "      <td>PAGADA</td>\n",
              "      <td>https://saeusceprod01.blob.core.windows.net/co...</td>\n",
              "      <td>2022-01-04 00:00:00</td>\n",
              "      <td>2022-02-18 11:11:28</td>\n",
              "      <td>9298.90</td>\n",
              "      <td>1673.80</td>\n",
              "      <td>10972.70</td>\n",
              "      <td>https://saeusceprod01.blob.core.windows.net/co...</td>\n",
              "      <td>NaN</td>\n",
              "      <td>NaN</td>\n",
              "      <td>IM-CE-2020-5 COMPUTADORAS DE ESCRITORIO, COMPU...</td>\n",
              "      <td>ReportePCBienes202201.csv</td>\n",
              "      <td>202201</td>\n",
              "    </tr>\n",
              "    <tr>\n",
              "      <th>1</th>\n",
              "      <td>2022-05-12 12:51:18</td>\n",
              "      <td>20530182038</td>\n",
              "      <td>GRUPO COMPUDATA PERUSOCIEDAD DE RESPONSABILIDA...</td>\n",
              "      <td>20172606777</td>\n",
              "      <td>UNIVERSIDAD NACIONAL DE PIURA</td>\n",
              "      <td>Compra ordinaria</td>\n",
              "      <td>OCAM-2021-99-57-0</td>\n",
              "      <td>https://apps1.perucompras.gob.pe//OrdenCompra/...</td>\n",
              "      <td>PAGADA</td>\n",
              "      <td>https://saeusceprod01.blob.core.windows.net/co...</td>\n",
              "      <td>2022-01-04 00:00:00</td>\n",
              "      <td>2022-02-18 11:11:05</td>\n",
              "      <td>2894.79</td>\n",
              "      <td>521.06</td>\n",
              "      <td>3415.85</td>\n",
              "      <td>https://saeusceprod01.blob.core.windows.net/co...</td>\n",
              "      <td>NaN</td>\n",
              "      <td>NaN</td>\n",
              "      <td>EXT-CE-2021-6 IMPRESORAS, CONSUMIBLES, REPUEST...</td>\n",
              "      <td>ReportePCBienes202201.csv</td>\n",
              "      <td>202201</td>\n",
              "    </tr>\n",
              "    <tr>\n",
              "      <th>2</th>\n",
              "      <td>2022-05-12 12:51:18</td>\n",
              "      <td>20427497888</td>\n",
              "      <td>COMERCIAL DENIA S.A.C.</td>\n",
              "      <td>20174950971</td>\n",
              "      <td>UNIVERSIDAD NACIONAL DE EDUCACION ENRIQUE GUZM...</td>\n",
              "      <td>Compra ordinaria</td>\n",
              "      <td>OCAM-2021-106-327-0</td>\n",
              "      <td>https://apps1.perucompras.gob.pe//OrdenCompra/...</td>\n",
              "      <td>PAGADA</td>\n",
              "      <td>https://saeusceprod01.blob.core.windows.net/co...</td>\n",
              "      <td>2022-01-04 00:00:00</td>\n",
              "      <td>2022-03-30 11:20:38</td>\n",
              "      <td>22640.80</td>\n",
              "      <td>4075.34</td>\n",
              "      <td>26716.14</td>\n",
              "      <td>https://saeusceprod01.blob.core.windows.net/co...</td>\n",
              "      <td>NaN</td>\n",
              "      <td>NaN</td>\n",
              "      <td>EXT-CE-2021-6 IMPRESORAS, CONSUMIBLES, REPUEST...</td>\n",
              "      <td>ReportePCBienes202201.csv</td>\n",
              "      <td>202201</td>\n",
              "    </tr>\n",
              "    <tr>\n",
              "      <th>3</th>\n",
              "      <td>2022-05-12 12:51:18</td>\n",
              "      <td>20600257286</td>\n",
              "      <td>PROYECTEC E.I.R.L.</td>\n",
              "      <td>20174950971</td>\n",
              "      <td>UNIVERSIDAD NACIONAL DE EDUCACION ENRIQUE GUZM...</td>\n",
              "      <td>Compra ordinaria</td>\n",
              "      <td>OCAM-2021-106-328-0</td>\n",
              "      <td>https://apps1.perucompras.gob.pe//OrdenCompra/...</td>\n",
              "      <td>ACEPTADA</td>\n",
              "      <td>NaN</td>\n",
              "      <td>2022-01-04 00:00:00</td>\n",
              "      <td>2022-01-04 00:07:35</td>\n",
              "      <td>11220.78</td>\n",
              "      <td>2019.74</td>\n",
              "      <td>13240.52</td>\n",
              "      <td>https://saeusceprod01.blob.core.windows.net/co...</td>\n",
              "      <td>NaN</td>\n",
              "      <td>NaN</td>\n",
              "      <td>IM-CE-2020-5 COMPUTADORAS DE ESCRITORIO, COMPU...</td>\n",
              "      <td>ReportePCBienes202201.csv</td>\n",
              "      <td>202201</td>\n",
              "    </tr>\n",
              "    <tr>\n",
              "      <th>4</th>\n",
              "      <td>2022-05-12 12:51:18</td>\n",
              "      <td>20600668791</td>\n",
              "      <td>PAPELERIA REAL OFFICE E.I.R.L.</td>\n",
              "      <td>20174950971</td>\n",
              "      <td>UNIVERSIDAD NACIONAL DE EDUCACION ENRIQUE GUZM...</td>\n",
              "      <td>Compra ordinaria</td>\n",
              "      <td>OCAM-2021-106-340-0</td>\n",
              "      <td>https://apps1.perucompras.gob.pe//OrdenCompra/...</td>\n",
              "      <td>ACEPTADA</td>\n",
              "      <td>NaN</td>\n",
              "      <td>2022-01-04 00:00:00</td>\n",
              "      <td>2022-01-04 00:07:35</td>\n",
              "      <td>4586.57</td>\n",
              "      <td>825.58</td>\n",
              "      <td>5412.15</td>\n",
              "      <td>https://saeusceprod01.blob.core.windows.net/co...</td>\n",
              "      <td>NaN</td>\n",
              "      <td>NaN</td>\n",
              "      <td>EXT-CE-2021-7 ÚTILES DE ESCRITORIO, PAPELES Y ...</td>\n",
              "      <td>ReportePCBienes202201.csv</td>\n",
              "      <td>202201</td>\n",
              "    </tr>\n",
              "    <tr>\n",
              "      <th>...</th>\n",
              "      <td>...</td>\n",
              "      <td>...</td>\n",
              "      <td>...</td>\n",
              "      <td>...</td>\n",
              "      <td>...</td>\n",
              "      <td>...</td>\n",
              "      <td>...</td>\n",
              "      <td>...</td>\n",
              "      <td>...</td>\n",
              "      <td>...</td>\n",
              "      <td>...</td>\n",
              "      <td>...</td>\n",
              "      <td>...</td>\n",
              "      <td>...</td>\n",
              "      <td>...</td>\n",
              "      <td>...</td>\n",
              "      <td>...</td>\n",
              "      <td>...</td>\n",
              "      <td>...</td>\n",
              "      <td>...</td>\n",
              "      <td>...</td>\n",
              "    </tr>\n",
              "    <tr>\n",
              "      <th>12261</th>\n",
              "      <td>2023-06-01 08:01:04</td>\n",
              "      <td>20609289750</td>\n",
              "      <td>GRUPO SUTESA E.I.R.L.</td>\n",
              "      <td>20608010212</td>\n",
              "      <td>MUNICIPALIDAD DISTRITAL  DE KUMPIRUSHIATO</td>\n",
              "      <td>Compra ordinaria</td>\n",
              "      <td>OCAM-2023-301893-128-0</td>\n",
              "      <td>https://apps1.perucompras.gob.pe//OrdenCompra/...</td>\n",
              "      <td>ACEPTADA</td>\n",
              "      <td>NaN</td>\n",
              "      <td>2023-05-02 00:00:00</td>\n",
              "      <td>2023-05-02 00:12:14</td>\n",
              "      <td>5671.50</td>\n",
              "      <td>1020.87</td>\n",
              "      <td>6692.37</td>\n",
              "      <td>https://saeusceprod01.blob.core.windows.net/co...</td>\n",
              "      <td>NaN</td>\n",
              "      <td>NaN</td>\n",
              "      <td>EXT-CE-2022-5 COMPUTADORAS DE ESCRITORIO, COMP...</td>\n",
              "      <td>ReportePCBienes202305.csv</td>\n",
              "      <td>202305</td>\n",
              "    </tr>\n",
              "    <tr>\n",
              "      <th>12262</th>\n",
              "      <td>2023-06-01 08:01:04</td>\n",
              "      <td>20536630954</td>\n",
              "      <td>F.P. TECNOLOGI &amp; SYSTEM S.A.C</td>\n",
              "      <td>20608010212</td>\n",
              "      <td>MUNICIPALIDAD DISTRITAL  DE KUMPIRUSHIATO</td>\n",
              "      <td>Compra ordinaria</td>\n",
              "      <td>OCAM-2023-301893-125-0</td>\n",
              "      <td>https://apps1.perucompras.gob.pe//OrdenCompra/...</td>\n",
              "      <td>PAGADA</td>\n",
              "      <td>NaN</td>\n",
              "      <td>2023-05-02 00:00:00</td>\n",
              "      <td>2023-05-30 02:04:10</td>\n",
              "      <td>3213.85</td>\n",
              "      <td>578.49</td>\n",
              "      <td>3792.34</td>\n",
              "      <td>https://saeusceprod01.blob.core.windows.net/co...</td>\n",
              "      <td>Actualizado automáticamente por la vinculación...</td>\n",
              "      <td>NaN</td>\n",
              "      <td>EXT-CE-2022-5 COMPUTADORAS DE ESCRITORIO, COMP...</td>\n",
              "      <td>ReportePCBienes202305.csv</td>\n",
              "      <td>202305</td>\n",
              "    </tr>\n",
              "    <tr>\n",
              "      <th>12263</th>\n",
              "      <td>2023-06-01 08:01:04</td>\n",
              "      <td>20557233629</td>\n",
              "      <td>C Y N  SERVICIOS  GENERALES  S.A.C.           ...</td>\n",
              "      <td>20608010212</td>\n",
              "      <td>MUNICIPALIDAD DISTRITAL  DE KUMPIRUSHIATO</td>\n",
              "      <td>Compra ordinaria</td>\n",
              "      <td>OCAM-2023-301893-126-0</td>\n",
              "      <td>https://apps1.perucompras.gob.pe//OrdenCompra/...</td>\n",
              "      <td>ACEPTADA</td>\n",
              "      <td>NaN</td>\n",
              "      <td>2023-05-02 00:00:00</td>\n",
              "      <td>2023-05-02 00:12:14</td>\n",
              "      <td>5317.78</td>\n",
              "      <td>957.20</td>\n",
              "      <td>6274.98</td>\n",
              "      <td>https://saeusceprod01.blob.core.windows.net/co...</td>\n",
              "      <td>NaN</td>\n",
              "      <td>NaN</td>\n",
              "      <td>EXT-CE-2022-5 COMPUTADORAS DE ESCRITORIO, COMP...</td>\n",
              "      <td>ReportePCBienes202305.csv</td>\n",
              "      <td>202305</td>\n",
              "    </tr>\n",
              "    <tr>\n",
              "      <th>12264</th>\n",
              "      <td>2023-06-01 08:01:04</td>\n",
              "      <td>20600257286</td>\n",
              "      <td>PROYECTEC E.I.R.L.</td>\n",
              "      <td>20601761999</td>\n",
              "      <td>UNIDAD EJECUTORA HOSPITAL DE REHABILITACIÓN DE...</td>\n",
              "      <td>Compra ordinaria</td>\n",
              "      <td>OCAM-2023-1667-76-0</td>\n",
              "      <td>https://apps1.perucompras.gob.pe//OrdenCompra/...</td>\n",
              "      <td>PAGADA</td>\n",
              "      <td>NaN</td>\n",
              "      <td>2023-05-02 00:00:00</td>\n",
              "      <td>2023-05-17 02:24:03</td>\n",
              "      <td>4577.54</td>\n",
              "      <td>823.96</td>\n",
              "      <td>5401.50</td>\n",
              "      <td>https://saeusceprod01.blob.core.windows.net/co...</td>\n",
              "      <td>Actualizado automáticamente por la vinculación...</td>\n",
              "      <td>NaN</td>\n",
              "      <td>EXT-CE-2022-5 COMPUTADORAS DE ESCRITORIO, COMP...</td>\n",
              "      <td>ReportePCBienes202305.csv</td>\n",
              "      <td>202305</td>\n",
              "    </tr>\n",
              "    <tr>\n",
              "      <th>12265</th>\n",
              "      <td>2023-06-01 08:01:04</td>\n",
              "      <td>20536630954</td>\n",
              "      <td>F.P. TECNOLOGI &amp; SYSTEM S.A.C</td>\n",
              "      <td>20601761999</td>\n",
              "      <td>UNIDAD EJECUTORA HOSPITAL DE REHABILITACIÓN DE...</td>\n",
              "      <td>Compra ordinaria</td>\n",
              "      <td>OCAM-2023-1667-75-0</td>\n",
              "      <td>https://apps1.perucompras.gob.pe//OrdenCompra/...</td>\n",
              "      <td>PAGADA</td>\n",
              "      <td>NaN</td>\n",
              "      <td>2023-05-02 00:00:00</td>\n",
              "      <td>2023-05-17 02:26:16</td>\n",
              "      <td>756.20</td>\n",
              "      <td>136.12</td>\n",
              "      <td>892.32</td>\n",
              "      <td>https://saeusceprod01.blob.core.windows.net/co...</td>\n",
              "      <td>Actualizado automáticamente por la vinculación...</td>\n",
              "      <td>NaN</td>\n",
              "      <td>EXT-CE-2022-5 COMPUTADORAS DE ESCRITORIO, COMP...</td>\n",
              "      <td>ReportePCBienes202305.csv</td>\n",
              "      <td>202305</td>\n",
              "    </tr>\n",
              "  </tbody>\n",
              "</table>\n",
              "<p>190527 rows × 21 columns</p>\n",
              "</div>\n",
              "      <button class=\"colab-df-convert\" onclick=\"convertToInteractive('df-4f00863a-823f-469e-99dc-a5d4b408f959')\"\n",
              "              title=\"Convert this dataframe to an interactive table.\"\n",
              "              style=\"display:none;\">\n",
              "\n",
              "  <svg xmlns=\"http://www.w3.org/2000/svg\" height=\"24px\"viewBox=\"0 0 24 24\"\n",
              "       width=\"24px\">\n",
              "    <path d=\"M0 0h24v24H0V0z\" fill=\"none\"/>\n",
              "    <path d=\"M18.56 5.44l.94 2.06.94-2.06 2.06-.94-2.06-.94-.94-2.06-.94 2.06-2.06.94zm-11 1L8.5 8.5l.94-2.06 2.06-.94-2.06-.94L8.5 2.5l-.94 2.06-2.06.94zm10 10l.94 2.06.94-2.06 2.06-.94-2.06-.94-.94-2.06-.94 2.06-2.06.94z\"/><path d=\"M17.41 7.96l-1.37-1.37c-.4-.4-.92-.59-1.43-.59-.52 0-1.04.2-1.43.59L10.3 9.45l-7.72 7.72c-.78.78-.78 2.05 0 2.83L4 21.41c.39.39.9.59 1.41.59.51 0 1.02-.2 1.41-.59l7.78-7.78 2.81-2.81c.8-.78.8-2.07 0-2.86zM5.41 20L4 18.59l7.72-7.72 1.47 1.35L5.41 20z\"/>\n",
              "  </svg>\n",
              "      </button>\n",
              "\n",
              "\n",
              "\n",
              "    <div id=\"df-ecc0803f-89c9-4ed1-91e8-24e524718c62\">\n",
              "      <button class=\"colab-df-quickchart\" onclick=\"quickchart('df-ecc0803f-89c9-4ed1-91e8-24e524718c62')\"\n",
              "              title=\"Suggest charts.\"\n",
              "              style=\"display:none;\">\n",
              "\n",
              "<svg xmlns=\"http://www.w3.org/2000/svg\" height=\"24px\"viewBox=\"0 0 24 24\"\n",
              "     width=\"24px\">\n",
              "    <g>\n",
              "        <path d=\"M19 3H5c-1.1 0-2 .9-2 2v14c0 1.1.9 2 2 2h14c1.1 0 2-.9 2-2V5c0-1.1-.9-2-2-2zM9 17H7v-7h2v7zm4 0h-2V7h2v10zm4 0h-2v-4h2v4z\"/>\n",
              "    </g>\n",
              "</svg>\n",
              "      </button>\n",
              "    </div>\n",
              "\n",
              "<style>\n",
              "  .colab-df-quickchart {\n",
              "    background-color: #E8F0FE;\n",
              "    border: none;\n",
              "    border-radius: 50%;\n",
              "    cursor: pointer;\n",
              "    display: none;\n",
              "    fill: #1967D2;\n",
              "    height: 32px;\n",
              "    padding: 0 0 0 0;\n",
              "    width: 32px;\n",
              "  }\n",
              "\n",
              "  .colab-df-quickchart:hover {\n",
              "    background-color: #E2EBFA;\n",
              "    box-shadow: 0px 1px 2px rgba(60, 64, 67, 0.3), 0px 1px 3px 1px rgba(60, 64, 67, 0.15);\n",
              "    fill: #174EA6;\n",
              "  }\n",
              "\n",
              "  [theme=dark] .colab-df-quickchart {\n",
              "    background-color: #3B4455;\n",
              "    fill: #D2E3FC;\n",
              "  }\n",
              "\n",
              "  [theme=dark] .colab-df-quickchart:hover {\n",
              "    background-color: #434B5C;\n",
              "    box-shadow: 0px 1px 3px 1px rgba(0, 0, 0, 0.15);\n",
              "    filter: drop-shadow(0px 1px 2px rgba(0, 0, 0, 0.3));\n",
              "    fill: #FFFFFF;\n",
              "  }\n",
              "</style>\n",
              "\n",
              "    <script>\n",
              "      async function quickchart(key) {\n",
              "        const containerElement = document.querySelector('#' + key);\n",
              "        const charts = await google.colab.kernel.invokeFunction(\n",
              "            'suggestCharts', [key], {});\n",
              "      }\n",
              "    </script>\n",
              "\n",
              "      <script>\n",
              "\n",
              "function displayQuickchartButton(domScope) {\n",
              "  let quickchartButtonEl =\n",
              "    domScope.querySelector('#df-ecc0803f-89c9-4ed1-91e8-24e524718c62 button.colab-df-quickchart');\n",
              "  quickchartButtonEl.style.display =\n",
              "    google.colab.kernel.accessAllowed ? 'block' : 'none';\n",
              "}\n",
              "\n",
              "        displayQuickchartButton(document);\n",
              "      </script>\n",
              "      <style>\n",
              "    .colab-df-container {\n",
              "      display:flex;\n",
              "      flex-wrap:wrap;\n",
              "      gap: 12px;\n",
              "    }\n",
              "\n",
              "    .colab-df-convert {\n",
              "      background-color: #E8F0FE;\n",
              "      border: none;\n",
              "      border-radius: 50%;\n",
              "      cursor: pointer;\n",
              "      display: none;\n",
              "      fill: #1967D2;\n",
              "      height: 32px;\n",
              "      padding: 0 0 0 0;\n",
              "      width: 32px;\n",
              "    }\n",
              "\n",
              "    .colab-df-convert:hover {\n",
              "      background-color: #E2EBFA;\n",
              "      box-shadow: 0px 1px 2px rgba(60, 64, 67, 0.3), 0px 1px 3px 1px rgba(60, 64, 67, 0.15);\n",
              "      fill: #174EA6;\n",
              "    }\n",
              "\n",
              "    [theme=dark] .colab-df-convert {\n",
              "      background-color: #3B4455;\n",
              "      fill: #D2E3FC;\n",
              "    }\n",
              "\n",
              "    [theme=dark] .colab-df-convert:hover {\n",
              "      background-color: #434B5C;\n",
              "      box-shadow: 0px 1px 3px 1px rgba(0, 0, 0, 0.15);\n",
              "      filter: drop-shadow(0px 1px 2px rgba(0, 0, 0, 0.3));\n",
              "      fill: #FFFFFF;\n",
              "    }\n",
              "  </style>\n",
              "\n",
              "      <script>\n",
              "        const buttonEl =\n",
              "          document.querySelector('#df-4f00863a-823f-469e-99dc-a5d4b408f959 button.colab-df-convert');\n",
              "        buttonEl.style.display =\n",
              "          google.colab.kernel.accessAllowed ? 'block' : 'none';\n",
              "\n",
              "        async function convertToInteractive(key) {\n",
              "          const element = document.querySelector('#df-4f00863a-823f-469e-99dc-a5d4b408f959');\n",
              "          const dataTable =\n",
              "            await google.colab.kernel.invokeFunction('convertToInteractive',\n",
              "                                                     [key], {});\n",
              "          if (!dataTable) return;\n",
              "\n",
              "          const docLinkHtml = 'Like what you see? Visit the ' +\n",
              "            '<a target=\"_blank\" href=https://colab.research.google.com/notebooks/data_table.ipynb>data table notebook</a>'\n",
              "            + ' to learn more about interactive tables.';\n",
              "          element.innerHTML = '';\n",
              "          dataTable['output_type'] = 'display_data';\n",
              "          await google.colab.output.renderOutput(dataTable, element);\n",
              "          const docLink = document.createElement('div');\n",
              "          docLink.innerHTML = docLinkHtml;\n",
              "          element.appendChild(docLink);\n",
              "        }\n",
              "      </script>\n",
              "    </div>\n",
              "  </div>\n"
            ]
          },
          "metadata": {},
          "execution_count": 161
        }
      ]
    },
    {
      "cell_type": "markdown",
      "source": [
        "# **d. Conociendo el DataFrame Creado**"
      ],
      "metadata": {
        "id": "ozJzOJKbVvt9"
      }
    },
    {
      "cell_type": "markdown",
      "source": [
        "## **d1. Dimensiones del DataFrame Creado**"
      ],
      "metadata": {
        "id": "BKqjK91dWJ84"
      }
    },
    {
      "cell_type": "code",
      "source": [
        "## **d1. Dimensiones del DataFrame Creado**\n",
        "df_Perú_compras.shape"
      ],
      "metadata": {
        "colab": {
          "base_uri": "https://localhost:8080/"
        },
        "id": "2XHVyKYPOasp",
        "outputId": "b3301e33-8693-43b9-edf2-97b2bbd9f005"
      },
      "execution_count": null,
      "outputs": [
        {
          "output_type": "execute_result",
          "data": {
            "text/plain": [
              "(190527, 21)"
            ]
          },
          "metadata": {},
          "execution_count": 162
        }
      ]
    },
    {
      "cell_type": "markdown",
      "source": [
        "## **d2. Información DataFrame Creado**"
      ],
      "metadata": {
        "id": "ehGDeXlUWmG1"
      }
    },
    {
      "cell_type": "code",
      "source": [
        "## **d2. Información DataFrame Creado**\n",
        "df_Perú_compras.info()"
      ],
      "metadata": {
        "colab": {
          "base_uri": "https://localhost:8080/"
        },
        "id": "SEwzA93dOawT",
        "outputId": "3e0a2621-4f14-4fb5-f6ff-bff3d025d462"
      },
      "execution_count": null,
      "outputs": [
        {
          "output_type": "stream",
          "name": "stdout",
          "text": [
            "<class 'pandas.core.frame.DataFrame'>\n",
            "Int64Index: 190527 entries, 0 to 12265\n",
            "Data columns (total 21 columns):\n",
            " #   Column                       Non-Null Count   Dtype  \n",
            "---  ------                       --------------   -----  \n",
            " 0   FECHA_PROCESO                190527 non-null  object \n",
            " 1   RUC_PROVEEDOR                190527 non-null  int64  \n",
            " 2   PROVEEDOR                    190527 non-null  object \n",
            " 3   RUC_ENTIDAD                  190527 non-null  int64  \n",
            " 4   ENTIDAD                      190527 non-null  object \n",
            " 5   TIPO_PROCEDIMIENTO           190527 non-null  object \n",
            " 6   ORDEN_ELECTRÓNICA            190527 non-null  object \n",
            " 7   ORDEN_ELECTRÓNICA_GENERADA   190527 non-null  object \n",
            " 8   ESTADO_ORDEN_ELECTRÓNICA     190527 non-null  object \n",
            " 9   DOCUMENTO_ESTADO_OCAM        1482 non-null    object \n",
            " 10  FECHA_FORMALIZACIÓN          190527 non-null  object \n",
            " 11  FECHA_ÚLTIMO_ESTADO          190527 non-null  object \n",
            " 12  SUB_TOTAL                    190527 non-null  float64\n",
            " 13  IGV                          190527 non-null  float64\n",
            " 14  TOTAL                        190527 non-null  float64\n",
            " 15  ORDEN_DIGITALIZADA           190527 non-null  object \n",
            " 16  DESCRIPCIÓN_ESTADO           54338 non-null   object \n",
            " 17  DESCRIPCIÓN_CESIÓN_DERECHOS  0 non-null       float64\n",
            " 18  ACUERDO_MARCO                190527 non-null  object \n",
            " 19  ARCHIVO                      190527 non-null  object \n",
            " 20  PERIODO                      190527 non-null  object \n",
            "dtypes: float64(4), int64(2), object(15)\n",
            "memory usage: 32.0+ MB\n"
          ]
        }
      ]
    },
    {
      "cell_type": "markdown",
      "source": [
        "## **d3. Validamos que aparezcan los 18 archivos**"
      ],
      "metadata": {
        "id": "6-nAsB71XUjj"
      }
    },
    {
      "cell_type": "code",
      "source": [
        "## **d3. Validamos que aparezcan los 18 archivos**\n",
        "df_Perú_compras['ARCHIVO'].unique()"
      ],
      "metadata": {
        "colab": {
          "base_uri": "https://localhost:8080/"
        },
        "id": "URZbfZsROa0T",
        "outputId": "a9cf20c6-7308-4801-bb32-5b72d8639867"
      },
      "execution_count": null,
      "outputs": [
        {
          "output_type": "execute_result",
          "data": {
            "text/plain": [
              "array(['ReportePCBienes202201.csv', 'ReportePCBienes202202.csv',\n",
              "       'ReportePCBienes202206.csv', 'ReportePCBienes202208.csv',\n",
              "       'ReportePCBienes202204.csv', 'ReportePCBienes202205.csv',\n",
              "       'ReportePCBienes202211.csv', 'ReportePCBienes202203.csv',\n",
              "       'ReportePCBienes202301.csv', 'ReportePCBienes202207.csv',\n",
              "       'ReportePCBienes202302.csv', 'ReportePCBienes202212.csv',\n",
              "       'ReportePCBienes202210.csv', 'ReportePCBienes202209.csv',\n",
              "       'ReportePCBienes202306.csv', 'ReportePCBienes202303.csv',\n",
              "       'ReportePCBienes202304.csv', 'ReportePCBienes202305.csv'],\n",
              "      dtype=object)"
            ]
          },
          "metadata": {},
          "execution_count": 164
        }
      ]
    },
    {
      "cell_type": "markdown",
      "source": [
        "## **d4. Validamos que aparezcan los 18 Periodos**"
      ],
      "metadata": {
        "id": "6KmS8F8EZ_BN"
      }
    },
    {
      "cell_type": "code",
      "source": [
        "## **d4. Validamos que aparezcan los 18 Periodos**\n",
        "df_Perú_compras['PERIODO'].unique()"
      ],
      "metadata": {
        "colab": {
          "base_uri": "https://localhost:8080/"
        },
        "id": "64M_9r6eW1Us",
        "outputId": "48341bfb-4f8c-4257-c71c-3109120388fd"
      },
      "execution_count": null,
      "outputs": [
        {
          "output_type": "execute_result",
          "data": {
            "text/plain": [
              "array(['202201', '202202', '202206', '202208', '202204', '202205',\n",
              "       '202211', '202203', '202301', '202207', '202302', '202212',\n",
              "       '202210', '202209', '202306', '202303', '202304', '202305'],\n",
              "      dtype=object)"
            ]
          },
          "metadata": {},
          "execution_count": 165
        }
      ]
    },
    {
      "cell_type": "markdown",
      "source": [
        "## **d8. Vamos a cambiar el tipo de datos de algunas variables**"
      ],
      "metadata": {
        "id": "EmdyHmk3aFJm"
      }
    },
    {
      "cell_type": "code",
      "source": [
        "# **d8. Vamos a cambiar el tipo de datos de algunas variables**\n",
        "df_Perú_compras['FECHA_ÚLTIMO_ESTADO']=pd.to_datetime(df_Perú_compras['FECHA_ÚLTIMO_ESTADO'])\n",
        "df_Perú_compras['FECHA_FORMALIZACIÓN']=pd.to_datetime(df_Perú_compras['FECHA_FORMALIZACIÓN'])\n",
        "df_Perú_compras['FECHA_PROCESO']=pd.to_datetime(df_Perú_compras['FECHA_PROCESO'])\n",
        "df_Perú_compras['PERIODO']=df_Perú_compras['PERIODO'].astype(str)"
      ],
      "metadata": {
        "id": "luHGh7a-wB99"
      },
      "execution_count": null,
      "outputs": []
    },
    {
      "cell_type": "markdown",
      "source": [
        "## **d9. Verificamos los cambios**"
      ],
      "metadata": {
        "id": "KGePXQ7GaKI1"
      }
    },
    {
      "cell_type": "code",
      "source": [
        "## **d9. Verificamos los cambios**\n",
        "df_Perú_compras.info()"
      ],
      "metadata": {
        "colab": {
          "base_uri": "https://localhost:8080/"
        },
        "id": "up-NkMngwCCC",
        "outputId": "7d195b32-6909-4d36-bbf2-c38ed1996790"
      },
      "execution_count": null,
      "outputs": [
        {
          "output_type": "stream",
          "name": "stdout",
          "text": [
            "<class 'pandas.core.frame.DataFrame'>\n",
            "Int64Index: 190527 entries, 0 to 12265\n",
            "Data columns (total 21 columns):\n",
            " #   Column                       Non-Null Count   Dtype         \n",
            "---  ------                       --------------   -----         \n",
            " 0   FECHA_PROCESO                190527 non-null  datetime64[ns]\n",
            " 1   RUC_PROVEEDOR                190527 non-null  int64         \n",
            " 2   PROVEEDOR                    190527 non-null  object        \n",
            " 3   RUC_ENTIDAD                  190527 non-null  int64         \n",
            " 4   ENTIDAD                      190527 non-null  object        \n",
            " 5   TIPO_PROCEDIMIENTO           190527 non-null  object        \n",
            " 6   ORDEN_ELECTRÓNICA            190527 non-null  object        \n",
            " 7   ORDEN_ELECTRÓNICA_GENERADA   190527 non-null  object        \n",
            " 8   ESTADO_ORDEN_ELECTRÓNICA     190527 non-null  object        \n",
            " 9   DOCUMENTO_ESTADO_OCAM        1482 non-null    object        \n",
            " 10  FECHA_FORMALIZACIÓN          190527 non-null  datetime64[ns]\n",
            " 11  FECHA_ÚLTIMO_ESTADO          190527 non-null  datetime64[ns]\n",
            " 12  SUB_TOTAL                    190527 non-null  float64       \n",
            " 13  IGV                          190527 non-null  float64       \n",
            " 14  TOTAL                        190527 non-null  float64       \n",
            " 15  ORDEN_DIGITALIZADA           190527 non-null  object        \n",
            " 16  DESCRIPCIÓN_ESTADO           54338 non-null   object        \n",
            " 17  DESCRIPCIÓN_CESIÓN_DERECHOS  0 non-null       float64       \n",
            " 18  ACUERDO_MARCO                190527 non-null  object        \n",
            " 19  ARCHIVO                      190527 non-null  object        \n",
            " 20  PERIODO                      190527 non-null  object        \n",
            "dtypes: datetime64[ns](3), float64(4), int64(2), object(12)\n",
            "memory usage: 32.0+ MB\n"
          ]
        }
      ]
    },
    {
      "cell_type": "markdown",
      "source": [
        "# **e. Análisis Exploratorio de Datos**"
      ],
      "metadata": {
        "id": "cbmM-gRVaSlz"
      }
    },
    {
      "cell_type": "markdown",
      "source": [
        "## **e1. Veamos si contiene datos perdidos**\n",
        "+ Estas variables con datos perdidos no aportan al analisis que queremos"
      ],
      "metadata": {
        "id": "Mc4uHxLCaZ8C"
      }
    },
    {
      "cell_type": "code",
      "source": [
        "## **e1. Veamos si contiene datos perdidos**\n",
        "df_Perú_compras.isnull().sum()"
      ],
      "metadata": {
        "colab": {
          "base_uri": "https://localhost:8080/"
        },
        "id": "vSFic3GuwCGK",
        "outputId": "f942f9e8-96de-4033-e357-872091fff3e0"
      },
      "execution_count": null,
      "outputs": [
        {
          "output_type": "execute_result",
          "data": {
            "text/plain": [
              "FECHA_PROCESO                       0\n",
              "RUC_PROVEEDOR                       0\n",
              "PROVEEDOR                           0\n",
              "RUC_ENTIDAD                         0\n",
              "ENTIDAD                             0\n",
              "TIPO_PROCEDIMIENTO                  0\n",
              "ORDEN_ELECTRÓNICA                   0\n",
              "ORDEN_ELECTRÓNICA_GENERADA          0\n",
              "ESTADO_ORDEN_ELECTRÓNICA            0\n",
              "DOCUMENTO_ESTADO_OCAM          189045\n",
              "FECHA_FORMALIZACIÓN                 0\n",
              "FECHA_ÚLTIMO_ESTADO                 0\n",
              "SUB_TOTAL                           0\n",
              "IGV                                 0\n",
              "TOTAL                               0\n",
              "ORDEN_DIGITALIZADA                  0\n",
              "DESCRIPCIÓN_ESTADO             136189\n",
              "DESCRIPCIÓN_CESIÓN_DERECHOS    190527\n",
              "ACUERDO_MARCO                       0\n",
              "ARCHIVO                             0\n",
              "PERIODO                             0\n",
              "dtype: int64"
            ]
          },
          "metadata": {},
          "execution_count": 168
        }
      ]
    },
    {
      "cell_type": "markdown",
      "source": [
        "## **e2. Modalidades de nuestra variable de interes**\n",
        "+ Nos interes a la opcion PAGADA de la variable en estudio\n"
      ],
      "metadata": {
        "id": "Cjkb-L3jcvIW"
      }
    },
    {
      "cell_type": "code",
      "source": [
        "## **e2. Modalidades de nuestra variable de interes**\n",
        "df_Perú_compras['ESTADO_ORDEN_ELECTRÓNICA'].unique()"
      ],
      "metadata": {
        "colab": {
          "base_uri": "https://localhost:8080/"
        },
        "id": "cbiOS_hxwCKU",
        "outputId": "8a966797-c702-4994-f687-a61a3f01e727"
      },
      "execution_count": null,
      "outputs": [
        {
          "output_type": "execute_result",
          "data": {
            "text/plain": [
              "array(['PAGADA', 'ACEPTADA', 'RESUELTA'], dtype=object)"
            ]
          },
          "metadata": {},
          "execution_count": 169
        }
      ]
    },
    {
      "cell_type": "markdown",
      "source": [
        "## **e3. Tabla de Datos - ESTADO_ORDEN_ELECTRÓNICA**"
      ],
      "metadata": {
        "id": "CJ6qkCCfc-Nl"
      }
    },
    {
      "cell_type": "code",
      "source": [
        "## **e3. Tabla de Datos - ESTADO_ORDEN_ELECTRÓNICA**\n",
        "df_Perú_compras['ESTADO_ORDEN_ELECTRÓNICA'].value_counts()"
      ],
      "metadata": {
        "colab": {
          "base_uri": "https://localhost:8080/"
        },
        "id": "zGD7c9OrwCOS",
        "outputId": "32dd441a-7c11-48e4-b85b-09f8c6ef6f7b"
      },
      "execution_count": null,
      "outputs": [
        {
          "output_type": "execute_result",
          "data": {
            "text/plain": [
              "ACEPTADA    134762\n",
              "PAGADA       55594\n",
              "RESUELTA       171\n",
              "Name: ESTADO_ORDEN_ELECTRÓNICA, dtype: int64"
            ]
          },
          "metadata": {},
          "execution_count": 170
        }
      ]
    },
    {
      "cell_type": "markdown",
      "source": [
        "## **e4. Tabla de Datos - ESTADO_ORDEN_ELECTRÓNICA**\n",
        "+ En este ejemplo nos muestra que habiendose ejecutado la compra en 202201, el pago no se realizo en ese mes sino que involucro otros meses."
      ],
      "metadata": {
        "id": "xW75kgB1dqUz"
      }
    },
    {
      "cell_type": "code",
      "source": [
        "## **e4. Tabla de Datos - ESTADO_ORDEN_ELECTRÓNICA**\n",
        "df_Perú_compras[df_Perú_compras.PERIODO=='202201']['FECHA_ÚLTIMO_ESTADO'].dt.month.value_counts()"
      ],
      "metadata": {
        "colab": {
          "base_uri": "https://localhost:8080/"
        },
        "id": "XmDWrAuxxiEn",
        "outputId": "0dddc4ee-331b-4be2-f722-417ff61bcb94"
      },
      "execution_count": null,
      "outputs": [
        {
          "output_type": "execute_result",
          "data": {
            "text/plain": [
              "2    589\n",
              "1    257\n",
              "3    197\n",
              "4     54\n",
              "5     16\n",
              "Name: FECHA_ÚLTIMO_ESTADO, dtype: int64"
            ]
          },
          "metadata": {},
          "execution_count": 171
        }
      ]
    },
    {
      "cell_type": "code",
      "source": [
        "## **e5. Tabla de Datos - ESTADO_ORDEN_ELECTRÓNICA**\n",
        "df_Perú_compras[df_Perú_compras.PERIODO=='202201']['FECHA_ÚLTIMO_ESTADO'].dt.month.plot(kind='hist')"
      ],
      "metadata": {
        "colab": {
          "base_uri": "https://localhost:8080/",
          "height": 447
        },
        "id": "9XwpeXvSxiIf",
        "outputId": "5293d43c-8d39-4199-8f61-0900d61d909a"
      },
      "execution_count": null,
      "outputs": [
        {
          "output_type": "execute_result",
          "data": {
            "text/plain": [
              "<Axes: ylabel='Frequency'>"
            ]
          },
          "metadata": {},
          "execution_count": 172
        },
        {
          "output_type": "display_data",
          "data": {
            "text/plain": [
              "<Figure size 640x480 with 1 Axes>"
            ],
            "image/png": "[encoded data removed]"
          },
          "metadata": {}
        }
      ]
    },
    {
      "cell_type": "markdown",
      "source": [
        "## **e6. Los montos por compra se van a tomar encuenta por a fecha de ultimo estado**"
      ],
      "metadata": {
        "id": "xflxEPlohEaw"
      }
    },
    {
      "cell_type": "code",
      "source": [
        "## **e6. Los montos por compra se van a tomar encuenta por a fecha de ultimo estado**\n",
        "df_Perú_compras['PERIOD_FECHA_ÚLTIMO_ESTADO']=df_Perú_compras['FECHA_ÚLTIMO_ESTADO'].dt.strftime('%Y%m')\n",
        "df_Perú_compras['PERIOD_FECHA_ÚLTIMO_ESTADO']"
      ],
      "metadata": {
        "colab": {
          "base_uri": "https://localhost:8080/"
        },
        "id": "wb9fFD3_xiMW",
        "outputId": "63f04420-0ef9-4949-d295-c8cab5160955"
      },
      "execution_count": null,
      "outputs": [
        {
          "output_type": "execute_result",
          "data": {
            "text/plain": [
              "0        202202\n",
              "1        202202\n",
              "2        202203\n",
              "3        202201\n",
              "4        202201\n",
              "          ...  \n",
              "12261    202305\n",
              "12262    202305\n",
              "12263    202305\n",
              "12264    202305\n",
              "12265    202305\n",
              "Name: PERIOD_FECHA_ÚLTIMO_ESTADO, Length: 190527, dtype: object"
            ]
          },
          "metadata": {},
          "execution_count": 174
        }
      ]
    },
    {
      "cell_type": "code",
      "source": [
        "df_Perú_compras.columns"
      ],
      "metadata": {
        "colab": {
          "base_uri": "https://localhost:8080/"
        },
        "id": "pmG-eaz_xiQH",
        "outputId": "437bd088-876d-4cc3-861a-e54ff2e69c78"
      },
      "execution_count": null,
      "outputs": [
        {
          "output_type": "execute_result",
          "data": {
            "text/plain": [
              "Index(['FECHA_PROCESO', 'RUC_PROVEEDOR', 'PROVEEDOR', 'RUC_ENTIDAD', 'ENTIDAD',\n",
              "       'TIPO_PROCEDIMIENTO', 'ORDEN_ELECTRÓNICA', 'ORDEN_ELECTRÓNICA_GENERADA',\n",
              "       'ESTADO_ORDEN_ELECTRÓNICA', 'DOCUMENTO_ESTADO_OCAM',\n",
              "       'FECHA_FORMALIZACIÓN', 'FECHA_ÚLTIMO_ESTADO', 'SUB_TOTAL', 'IGV',\n",
              "       'TOTAL', 'ORDEN_DIGITALIZADA', 'DESCRIPCIÓN_ESTADO',\n",
              "       'DESCRIPCIÓN_CESIÓN_DERECHOS', 'ACUERDO_MARCO', 'ARCHIVO', 'PERIODO',\n",
              "       'PERIOD_FECHA_ÚLTIMO_ESTADO'],\n",
              "      dtype='object')"
            ]
          },
          "metadata": {},
          "execution_count": 175
        }
      ]
    },
    {
      "cell_type": "markdown",
      "source": [
        "# **e7. Crear un ID que pueda identificar al proveedor, la entidad y la fecha de ultimo estado**"
      ],
      "metadata": {
        "id": "161fbLGnhd5Q"
      }
    },
    {
      "cell_type": "code",
      "source": [
        "# **e7. Crear un ID que pueda identificar al proveedor, la entidad y la fecha de ultimo estado**\n",
        "df_Perú_compras['RUC_MES']=df_Perú_compras['RUC_PROVEEDOR'].astype(str)+'_'+df_Perú_compras['RUC_ENTIDAD'].astype(str)+'_'+df_Perú_compras['PERIOD_FECHA_ÚLTIMO_ESTADO']\n",
        "df_Perú_compras['RUC_MES']"
      ],
      "metadata": {
        "colab": {
          "base_uri": "https://localhost:8080/"
        },
        "id": "cJPrKqhJgEO3",
        "outputId": "22df39fa-7876-48c5-9903-8aea64080847"
      },
      "execution_count": null,
      "outputs": [
        {
          "output_type": "execute_result",
          "data": {
            "text/plain": [
              "0        20530182038_20172606777_202202\n",
              "1        20530182038_20172606777_202202\n",
              "2        20427497888_20174950971_202203\n",
              "3        20600257286_20174950971_202201\n",
              "4        20600668791_20174950971_202201\n",
              "                      ...              \n",
              "12261    20609289750_20608010212_202305\n",
              "12262    20536630954_20608010212_202305\n",
              "12263    20557233629_20608010212_202305\n",
              "12264    20600257286_20601761999_202305\n",
              "12265    20536630954_20601761999_202305\n",
              "Name: RUC_MES, Length: 190527, dtype: object"
            ]
          },
          "metadata": {},
          "execution_count": 176
        }
      ]
    },
    {
      "cell_type": "markdown",
      "source": [
        "#**f. Analisis Descriptivo**"
      ],
      "metadata": {
        "id": "2vI2_aOwifVx"
      }
    },
    {
      "cell_type": "code",
      "source": [
        "##**f1. Analisis Descriptivo**\n",
        "pd.set_option('display.max_columns',200)"
      ],
      "metadata": {
        "id": "RuFpu9JghnYw"
      },
      "execution_count": null,
      "outputs": []
    },
    {
      "cell_type": "markdown",
      "source": [
        "# **f2. Filtramos nuestro dataFrame con orden electronica pagada**"
      ],
      "metadata": {
        "id": "liyRq5rtj53I"
      }
    },
    {
      "cell_type": "code",
      "source": [
        "# **F2. Filtramos nuestro dataFrame con orden electronica pagada**\n",
        "df_Perú_compras2 =df_Perú_compras.query(\"ESTADO_ORDEN_ELECTRÓNICA == 'PAGADA'\")\n",
        "df_Perú_compras2"
      ],
      "metadata": {
        "colab": {
          "base_uri": "https://localhost:8080/",
          "height": 1000
        },
        "id": "mF41LAcGhncy",
        "outputId": "e9432dca-e15e-4563-f747-e1e780883639"
      },
      "execution_count": null,
      "outputs": [
        {
          "output_type": "execute_result",
          "data": {
            "text/plain": [
              "            FECHA_PROCESO  RUC_PROVEEDOR  \\\n",
              "0     2022-05-12 12:51:18    20530182038   \n",
              "1     2022-05-12 12:51:18    20530182038   \n",
              "2     2022-05-12 12:51:18    20427497888   \n",
              "5     2022-05-12 12:51:18    20608085069   \n",
              "6     2022-05-12 12:51:18    20100049181   \n",
              "...                   ...            ...   \n",
              "12258 2023-06-01 08:01:04    20536630954   \n",
              "12259 2023-06-01 08:01:04    20603013965   \n",
              "12262 2023-06-01 08:01:04    20536630954   \n",
              "12264 2023-06-01 08:01:04    20600257286   \n",
              "12265 2023-06-01 08:01:04    20536630954   \n",
              "\n",
              "                                               PROVEEDOR  RUC_ENTIDAD  \\\n",
              "0      GRUPO COMPUDATA PERUSOCIEDAD DE RESPONSABILIDA...  20172606777   \n",
              "1      GRUPO COMPUDATA PERUSOCIEDAD DE RESPONSABILIDA...  20172606777   \n",
              "2                                 COMERCIAL DENIA S.A.C.  20174950971   \n",
              "5                                CERCOR LOGISTICS S.A.C.  20174950971   \n",
              "6                                           TAI LOY S.A.  20174950971   \n",
              "...                                                  ...          ...   \n",
              "12258                      F.P. TECNOLOGI & SYSTEM S.A.C  20527056579   \n",
              "12259  SYSTEM CUSCO EMPRESA INDIVIDUAL DE RESPONSABIL...  20490770683   \n",
              "12262                      F.P. TECNOLOGI & SYSTEM S.A.C  20608010212   \n",
              "12264                                 PROYECTEC E.I.R.L.  20601761999   \n",
              "12265                      F.P. TECNOLOGI & SYSTEM S.A.C  20601761999   \n",
              "\n",
              "                                                 ENTIDAD TIPO_PROCEDIMIENTO  \\\n",
              "0                          UNIVERSIDAD NACIONAL DE PIURA   Compra ordinaria   \n",
              "1                          UNIVERSIDAD NACIONAL DE PIURA   Compra ordinaria   \n",
              "2      UNIVERSIDAD NACIONAL DE EDUCACION ENRIQUE GUZM...   Compra ordinaria   \n",
              "5      UNIVERSIDAD NACIONAL DE EDUCACION ENRIQUE GUZM...   Compra ordinaria   \n",
              "6      UNIVERSIDAD NACIONAL DE EDUCACION ENRIQUE GUZM...   Compra ordinaria   \n",
              "...                                                  ...                ...   \n",
              "12258  UNIVERSIDAD NACIONAL MICAELA BASTIDAS DE APURIMAC   Compra ordinaria   \n",
              "12259                CORTE SUPERIOR DE JUSTICIA DE CUSCO        Gran Compra   \n",
              "12262          MUNICIPALIDAD DISTRITAL  DE KUMPIRUSHIATO   Compra ordinaria   \n",
              "12264  UNIDAD EJECUTORA HOSPITAL DE REHABILITACIÓN DE...   Compra ordinaria   \n",
              "12265  UNIDAD EJECUTORA HOSPITAL DE REHABILITACIÓN DE...   Compra ordinaria   \n",
              "\n",
              "            ORDEN_ELECTRÓNICA  \\\n",
              "0           OCAM-2021-99-55-0   \n",
              "1           OCAM-2021-99-57-0   \n",
              "2         OCAM-2021-106-327-0   \n",
              "5         OCAM-2021-106-341-0   \n",
              "6         OCAM-2021-106-343-0   \n",
              "...                       ...   \n",
              "12258     OCAM-2023-1092-36-0   \n",
              "12259     OCAM-2023-1415-71-0   \n",
              "12262  OCAM-2023-301893-125-0   \n",
              "12264     OCAM-2023-1667-76-0   \n",
              "12265     OCAM-2023-1667-75-0   \n",
              "\n",
              "                              ORDEN_ELECTRÓNICA_GENERADA  \\\n",
              "0      https://apps1.perucompras.gob.pe//OrdenCompra/...   \n",
              "1      https://apps1.perucompras.gob.pe//OrdenCompra/...   \n",
              "2      https://apps1.perucompras.gob.pe//OrdenCompra/...   \n",
              "5      https://apps1.perucompras.gob.pe//OrdenCompra/...   \n",
              "6      https://apps1.perucompras.gob.pe//OrdenCompra/...   \n",
              "...                                                  ...   \n",
              "12258  https://apps1.perucompras.gob.pe//OrdenCompra/...   \n",
              "12259  https://apps1.perucompras.gob.pe//OrdenCompra/...   \n",
              "12262  https://apps1.perucompras.gob.pe//OrdenCompra/...   \n",
              "12264  https://apps1.perucompras.gob.pe//OrdenCompra/...   \n",
              "12265  https://apps1.perucompras.gob.pe//OrdenCompra/...   \n",
              "\n",
              "      ESTADO_ORDEN_ELECTRÓNICA  \\\n",
              "0                       PAGADA   \n",
              "1                       PAGADA   \n",
              "2                       PAGADA   \n",
              "5                       PAGADA   \n",
              "6                       PAGADA   \n",
              "...                        ...   \n",
              "12258                   PAGADA   \n",
              "12259                   PAGADA   \n",
              "12262                   PAGADA   \n",
              "12264                   PAGADA   \n",
              "12265                   PAGADA   \n",
              "\n",
              "                                   DOCUMENTO_ESTADO_OCAM FECHA_FORMALIZACIÓN  \\\n",
              "0      https://saeusceprod01.blob.core.windows.net/co...          2022-01-04   \n",
              "1      https://saeusceprod01.blob.core.windows.net/co...          2022-01-04   \n",
              "2      https://saeusceprod01.blob.core.windows.net/co...          2022-01-04   \n",
              "5      https://saeusceprod01.blob.core.windows.net/co...          2022-01-04   \n",
              "6      https://saeusceprod01.blob.core.windows.net/co...          2022-01-04   \n",
              "...                                                  ...                 ...   \n",
              "12258                                                NaN          2023-05-02   \n",
              "12259                                                NaN          2023-05-02   \n",
              "12262                                                NaN          2023-05-02   \n",
              "12264                                                NaN          2023-05-02   \n",
              "12265                                                NaN          2023-05-02   \n",
              "\n",
              "      FECHA_ÚLTIMO_ESTADO  SUB_TOTAL       IGV      TOTAL  \\\n",
              "0     2022-02-18 11:11:28    9298.90   1673.80   10972.70   \n",
              "1     2022-02-18 11:11:05    2894.79    521.06    3415.85   \n",
              "2     2022-03-30 11:20:38   22640.80   4075.34   26716.14   \n",
              "5     2022-03-30 11:29:40     720.00    129.60     849.60   \n",
              "6     2022-03-30 11:30:30     198.03     35.65     233.68   \n",
              "...                   ...        ...       ...        ...   \n",
              "12258 2023-05-24 02:24:55   11932.86   2147.91   14080.77   \n",
              "12259 2023-05-25 02:25:43  165891.57  29860.48  195752.05   \n",
              "12262 2023-05-30 02:04:10    3213.85    578.49    3792.34   \n",
              "12264 2023-05-17 02:24:03    4577.54    823.96    5401.50   \n",
              "12265 2023-05-17 02:26:16     756.20    136.12     892.32   \n",
              "\n",
              "                                      ORDEN_DIGITALIZADA  \\\n",
              "0      https://saeusceprod01.blob.core.windows.net/co...   \n",
              "1      https://saeusceprod01.blob.core.windows.net/co...   \n",
              "2      https://saeusceprod01.blob.core.windows.net/co...   \n",
              "5      https://saeusceprod01.blob.core.windows.net/co...   \n",
              "6      https://saeusceprod01.blob.core.windows.net/co...   \n",
              "...                                                  ...   \n",
              "12258  https://saeusceprod01.blob.core.windows.net/co...   \n",
              "12259  https://saeusceprod01.blob.core.windows.net/co...   \n",
              "12262  https://saeusceprod01.blob.core.windows.net/co...   \n",
              "12264  https://saeusceprod01.blob.core.windows.net/co...   \n",
              "12265  https://saeusceprod01.blob.core.windows.net/co...   \n",
              "\n",
              "                                      DESCRIPCIÓN_ESTADO  \\\n",
              "0                                                    NaN   \n",
              "1                                                    NaN   \n",
              "2                                                    NaN   \n",
              "5                                                    NaN   \n",
              "6                                                    NaN   \n",
              "...                                                  ...   \n",
              "12258  Actualizado automáticamente por la vinculación...   \n",
              "12259  Actualizado automáticamente por la vinculación...   \n",
              "12262  Actualizado automáticamente por la vinculación...   \n",
              "12264  Actualizado automáticamente por la vinculación...   \n",
              "12265  Actualizado automáticamente por la vinculación...   \n",
              "\n",
              "       DESCRIPCIÓN_CESIÓN_DERECHOS  \\\n",
              "0                              NaN   \n",
              "1                              NaN   \n",
              "2                              NaN   \n",
              "5                              NaN   \n",
              "6                              NaN   \n",
              "...                            ...   \n",
              "12258                          NaN   \n",
              "12259                          NaN   \n",
              "12262                          NaN   \n",
              "12264                          NaN   \n",
              "12265                          NaN   \n",
              "\n",
              "                                           ACUERDO_MARCO  \\\n",
              "0      IM-CE-2020-5 COMPUTADORAS DE ESCRITORIO, COMPU...   \n",
              "1      EXT-CE-2021-6 IMPRESORAS, CONSUMIBLES, REPUEST...   \n",
              "2      EXT-CE-2021-6 IMPRESORAS, CONSUMIBLES, REPUEST...   \n",
              "5      EXT-CE-2021-7 ÚTILES DE ESCRITORIO, PAPELES Y ...   \n",
              "6      EXT-CE-2021-7 ÚTILES DE ESCRITORIO, PAPELES Y ...   \n",
              "...                                                  ...   \n",
              "12258  EXT-CE-2022-5 COMPUTADORAS DE ESCRITORIO, COMP...   \n",
              "12259  EXT-CE-2022-5 COMPUTADORAS DE ESCRITORIO, COMP...   \n",
              "12262  EXT-CE-2022-5 COMPUTADORAS DE ESCRITORIO, COMP...   \n",
              "12264  EXT-CE-2022-5 COMPUTADORAS DE ESCRITORIO, COMP...   \n",
              "12265  EXT-CE-2022-5 COMPUTADORAS DE ESCRITORIO, COMP...   \n",
              "\n",
              "                         ARCHIVO PERIODO PERIOD_FECHA_ÚLTIMO_ESTADO  \\\n",
              "0      ReportePCBienes202201.csv  202201                     202202   \n",
              "1      ReportePCBienes202201.csv  202201                     202202   \n",
              "2      ReportePCBienes202201.csv  202201                     202203   \n",
              "5      ReportePCBienes202201.csv  202201                     202203   \n",
              "6      ReportePCBienes202201.csv  202201                     202203   \n",
              "...                          ...     ...                        ...   \n",
              "12258  ReportePCBienes202305.csv  202305                     202305   \n",
              "12259  ReportePCBienes202305.csv  202305                     202305   \n",
              "12262  ReportePCBienes202305.csv  202305                     202305   \n",
              "12264  ReportePCBienes202305.csv  202305                     202305   \n",
              "12265  ReportePCBienes202305.csv  202305                     202305   \n",
              "\n",
              "                              RUC_MES  \n",
              "0      20530182038_20172606777_202202  \n",
              "1      20530182038_20172606777_202202  \n",
              "2      20427497888_20174950971_202203  \n",
              "5      20608085069_20174950971_202203  \n",
              "6      20100049181_20174950971_202203  \n",
              "...                               ...  \n",
              "12258  20536630954_20527056579_202305  \n",
              "12259  20603013965_20490770683_202305  \n",
              "12262  20536630954_20608010212_202305  \n",
              "12264  20600257286_20601761999_202305  \n",
              "12265  20536630954_20601761999_202305  \n",
              "\n",
              "[55594 rows x 23 columns]"
            ],
            "text/html": [
              "\n",
              "\n",
              "  <div id=\"df-ba75e9b0-756a-4639-a7ae-c0760a90efd1\">\n",
              "    <div class=\"colab-df-container\">\n",
              "      <div>\n",
              "<style scoped>\n",
              "    .dataframe tbody tr th:only-of-type {\n",
              "        vertical-align: middle;\n",
              "    }\n",
              "\n",
              "    .dataframe tbody tr th {\n",
              "        vertical-align: top;\n",
              "    }\n",
              "\n",
              "    .dataframe thead th {\n",
              "        text-align: right;\n",
              "    }\n",
              "</style>\n",
              "<table border=\"1\" class=\"dataframe\">\n",
              "  <thead>\n",
              "    <tr style=\"text-align: right;\">\n",
              "      <th></th>\n",
              "      <th>FECHA_PROCESO</th>\n",
              "      <th>RUC_PROVEEDOR</th>\n",
              "      <th>PROVEEDOR</th>\n",
              "      <th>RUC_ENTIDAD</th>\n",
              "      <th>ENTIDAD</th>\n",
              "      <th>TIPO_PROCEDIMIENTO</th>\n",
              "      <th>ORDEN_ELECTRÓNICA</th>\n",
              "      <th>ORDEN_ELECTRÓNICA_GENERADA</th>\n",
              "      <th>ESTADO_ORDEN_ELECTRÓNICA</th>\n",
              "      <th>DOCUMENTO_ESTADO_OCAM</th>\n",
              "      <th>FECHA_FORMALIZACIÓN</th>\n",
              "      <th>FECHA_ÚLTIMO_ESTADO</th>\n",
              "      <th>SUB_TOTAL</th>\n",
              "      <th>IGV</th>\n",
              "      <th>TOTAL</th>\n",
              "      <th>ORDEN_DIGITALIZADA</th>\n",
              "      <th>DESCRIPCIÓN_ESTADO</th>\n",
              "      <th>DESCRIPCIÓN_CESIÓN_DERECHOS</th>\n",
              "      <th>ACUERDO_MARCO</th>\n",
              "      <th>ARCHIVO</th>\n",
              "      <th>PERIODO</th>\n",
              "      <th>PERIOD_FECHA_ÚLTIMO_ESTADO</th>\n",
              "      <th>RUC_MES</th>\n",
              "    </tr>\n",
              "  </thead>\n",
              "  <tbody>\n",
              "    <tr>\n",
              "      <th>0</th>\n",
              "      <td>2022-05-12 12:51:18</td>\n",
              "      <td>20530182038</td>\n",
              "      <td>GRUPO COMPUDATA PERUSOCIEDAD DE RESPONSABILIDA...</td>\n",
              "      <td>20172606777</td>\n",
              "      <td>UNIVERSIDAD NACIONAL DE PIURA</td>\n",
              "      <td>Compra ordinaria</td>\n",
              "      <td>OCAM-2021-99-55-0</td>\n",
              "      <td>https://apps1.perucompras.gob.pe//OrdenCompra/...</td>\n",
              "      <td>PAGADA</td>\n",
              "      <td>https://saeusceprod01.blob.core.windows.net/co...</td>\n",
              "      <td>2022-01-04</td>\n",
              "      <td>2022-02-18 11:11:28</td>\n",
              "      <td>9298.90</td>\n",
              "      <td>1673.80</td>\n",
              "      <td>10972.70</td>\n",
              "      <td>https://saeusceprod01.blob.core.windows.net/co...</td>\n",
              "      <td>NaN</td>\n",
              "      <td>NaN</td>\n",
              "      <td>IM-CE-2020-5 COMPUTADORAS DE ESCRITORIO, COMPU...</td>\n",
              "      <td>ReportePCBienes202201.csv</td>\n",
              "      <td>202201</td>\n",
              "      <td>202202</td>\n",
              "      <td>20530182038_20172606777_202202</td>\n",
              "    </tr>\n",
              "    <tr>\n",
              "      <th>1</th>\n",
              "      <td>2022-05-12 12:51:18</td>\n",
              "      <td>20530182038</td>\n",
              "      <td>GRUPO COMPUDATA PERUSOCIEDAD DE RESPONSABILIDA...</td>\n",
              "      <td>20172606777</td>\n",
              "      <td>UNIVERSIDAD NACIONAL DE PIURA</td>\n",
              "      <td>Compra ordinaria</td>\n",
              "      <td>OCAM-2021-99-57-0</td>\n",
              "      <td>https://apps1.perucompras.gob.pe//OrdenCompra/...</td>\n",
              "      <td>PAGADA</td>\n",
              "      <td>https://saeusceprod01.blob.core.windows.net/co...</td>\n",
              "      <td>2022-01-04</td>\n",
              "      <td>2022-02-18 11:11:05</td>\n",
              "      <td>2894.79</td>\n",
              "      <td>521.06</td>\n",
              "      <td>3415.85</td>\n",
              "      <td>https://saeusceprod01.blob.core.windows.net/co...</td>\n",
              "      <td>NaN</td>\n",
              "      <td>NaN</td>\n",
              "      <td>EXT-CE-2021-6 IMPRESORAS, CONSUMIBLES, REPUEST...</td>\n",
              "      <td>ReportePCBienes202201.csv</td>\n",
              "      <td>202201</td>\n",
              "      <td>202202</td>\n",
              "      <td>20530182038_20172606777_202202</td>\n",
              "    </tr>\n",
              "    <tr>\n",
              "      <th>2</th>\n",
              "      <td>2022-05-12 12:51:18</td>\n",
              "      <td>20427497888</td>\n",
              "      <td>COMERCIAL DENIA S.A.C.</td>\n",
              "      <td>20174950971</td>\n",
              "      <td>UNIVERSIDAD NACIONAL DE EDUCACION ENRIQUE GUZM...</td>\n",
              "      <td>Compra ordinaria</td>\n",
              "      <td>OCAM-2021-106-327-0</td>\n",
              "      <td>https://apps1.perucompras.gob.pe//OrdenCompra/...</td>\n",
              "      <td>PAGADA</td>\n",
              "      <td>https://saeusceprod01.blob.core.windows.net/co...</td>\n",
              "      <td>2022-01-04</td>\n",
              "      <td>2022-03-30 11:20:38</td>\n",
              "      <td>22640.80</td>\n",
              "      <td>4075.34</td>\n",
              "      <td>26716.14</td>\n",
              "      <td>https://saeusceprod01.blob.core.windows.net/co...</td>\n",
              "      <td>NaN</td>\n",
              "      <td>NaN</td>\n",
              "      <td>EXT-CE-2021-6 IMPRESORAS, CONSUMIBLES, REPUEST...</td>\n",
              "      <td>ReportePCBienes202201.csv</td>\n",
              "      <td>202201</td>\n",
              "      <td>202203</td>\n",
              "      <td>20427497888_20174950971_202203</td>\n",
              "    </tr>\n",
              "    <tr>\n",
              "      <th>5</th>\n",
              "      <td>2022-05-12 12:51:18</td>\n",
              "      <td>20608085069</td>\n",
              "      <td>CERCOR LOGISTICS S.A.C.</td>\n",
              "      <td>20174950971</td>\n",
              "      <td>UNIVERSIDAD NACIONAL DE EDUCACION ENRIQUE GUZM...</td>\n",
              "      <td>Compra ordinaria</td>\n",
              "      <td>OCAM-2021-106-341-0</td>\n",
              "      <td>https://apps1.perucompras.gob.pe//OrdenCompra/...</td>\n",
              "      <td>PAGADA</td>\n",
              "      <td>https://saeusceprod01.blob.core.windows.net/co...</td>\n",
              "      <td>2022-01-04</td>\n",
              "      <td>2022-03-30 11:29:40</td>\n",
              "      <td>720.00</td>\n",
              "      <td>129.60</td>\n",
              "      <td>849.60</td>\n",
              "      <td>https://saeusceprod01.blob.core.windows.net/co...</td>\n",
              "      <td>NaN</td>\n",
              "      <td>NaN</td>\n",
              "      <td>EXT-CE-2021-7 ÚTILES DE ESCRITORIO, PAPELES Y ...</td>\n",
              "      <td>ReportePCBienes202201.csv</td>\n",
              "      <td>202201</td>\n",
              "      <td>202203</td>\n",
              "      <td>20608085069_20174950971_202203</td>\n",
              "    </tr>\n",
              "    <tr>\n",
              "      <th>6</th>\n",
              "      <td>2022-05-12 12:51:18</td>\n",
              "      <td>20100049181</td>\n",
              "      <td>TAI LOY S.A.</td>\n",
              "      <td>20174950971</td>\n",
              "      <td>UNIVERSIDAD NACIONAL DE EDUCACION ENRIQUE GUZM...</td>\n",
              "      <td>Compra ordinaria</td>\n",
              "      <td>OCAM-2021-106-343-0</td>\n",
              "      <td>https://apps1.perucompras.gob.pe//OrdenCompra/...</td>\n",
              "      <td>PAGADA</td>\n",
              "      <td>https://saeusceprod01.blob.core.windows.net/co...</td>\n",
              "      <td>2022-01-04</td>\n",
              "      <td>2022-03-30 11:30:30</td>\n",
              "      <td>198.03</td>\n",
              "      <td>35.65</td>\n",
              "      <td>233.68</td>\n",
              "      <td>https://saeusceprod01.blob.core.windows.net/co...</td>\n",
              "      <td>NaN</td>\n",
              "      <td>NaN</td>\n",
              "      <td>EXT-CE-2021-7 ÚTILES DE ESCRITORIO, PAPELES Y ...</td>\n",
              "      <td>ReportePCBienes202201.csv</td>\n",
              "      <td>202201</td>\n",
              "      <td>202203</td>\n",
              "      <td>20100049181_20174950971_202203</td>\n",
              "    </tr>\n",
              "    <tr>\n",
              "      <th>...</th>\n",
              "      <td>...</td>\n",
              "      <td>...</td>\n",
              "      <td>...</td>\n",
              "      <td>...</td>\n",
              "      <td>...</td>\n",
              "      <td>...</td>\n",
              "      <td>...</td>\n",
              "      <td>...</td>\n",
              "      <td>...</td>\n",
              "      <td>...</td>\n",
              "      <td>...</td>\n",
              "      <td>...</td>\n",
              "      <td>...</td>\n",
              "      <td>...</td>\n",
              "      <td>...</td>\n",
              "      <td>...</td>\n",
              "      <td>...</td>\n",
              "      <td>...</td>\n",
              "      <td>...</td>\n",
              "      <td>...</td>\n",
              "      <td>...</td>\n",
              "      <td>...</td>\n",
              "      <td>...</td>\n",
              "    </tr>\n",
              "    <tr>\n",
              "      <th>12258</th>\n",
              "      <td>2023-06-01 08:01:04</td>\n",
              "      <td>20536630954</td>\n",
              "      <td>F.P. TECNOLOGI &amp; SYSTEM S.A.C</td>\n",
              "      <td>20527056579</td>\n",
              "      <td>UNIVERSIDAD NACIONAL MICAELA BASTIDAS DE APURIMAC</td>\n",
              "      <td>Compra ordinaria</td>\n",
              "      <td>OCAM-2023-1092-36-0</td>\n",
              "      <td>https://apps1.perucompras.gob.pe//OrdenCompra/...</td>\n",
              "      <td>PAGADA</td>\n",
              "      <td>NaN</td>\n",
              "      <td>2023-05-02</td>\n",
              "      <td>2023-05-24 02:24:55</td>\n",
              "      <td>11932.86</td>\n",
              "      <td>2147.91</td>\n",
              "      <td>14080.77</td>\n",
              "      <td>https://saeusceprod01.blob.core.windows.net/co...</td>\n",
              "      <td>Actualizado automáticamente por la vinculación...</td>\n",
              "      <td>NaN</td>\n",
              "      <td>EXT-CE-2022-5 COMPUTADORAS DE ESCRITORIO, COMP...</td>\n",
              "      <td>ReportePCBienes202305.csv</td>\n",
              "      <td>202305</td>\n",
              "      <td>202305</td>\n",
              "      <td>20536630954_20527056579_202305</td>\n",
              "    </tr>\n",
              "    <tr>\n",
              "      <th>12259</th>\n",
              "      <td>2023-06-01 08:01:04</td>\n",
              "      <td>20603013965</td>\n",
              "      <td>SYSTEM CUSCO EMPRESA INDIVIDUAL DE RESPONSABIL...</td>\n",
              "      <td>20490770683</td>\n",
              "      <td>CORTE SUPERIOR DE JUSTICIA DE CUSCO</td>\n",
              "      <td>Gran Compra</td>\n",
              "      <td>OCAM-2023-1415-71-0</td>\n",
              "      <td>https://apps1.perucompras.gob.pe//OrdenCompra/...</td>\n",
              "      <td>PAGADA</td>\n",
              "      <td>NaN</td>\n",
              "      <td>2023-05-02</td>\n",
              "      <td>2023-05-25 02:25:43</td>\n",
              "      <td>165891.57</td>\n",
              "      <td>29860.48</td>\n",
              "      <td>195752.05</td>\n",
              "      <td>https://saeusceprod01.blob.core.windows.net/co...</td>\n",
              "      <td>Actualizado automáticamente por la vinculación...</td>\n",
              "      <td>NaN</td>\n",
              "      <td>EXT-CE-2022-5 COMPUTADORAS DE ESCRITORIO, COMP...</td>\n",
              "      <td>ReportePCBienes202305.csv</td>\n",
              "      <td>202305</td>\n",
              "      <td>202305</td>\n",
              "      <td>20603013965_20490770683_202305</td>\n",
              "    </tr>\n",
              "    <tr>\n",
              "      <th>12262</th>\n",
              "      <td>2023-06-01 08:01:04</td>\n",
              "      <td>20536630954</td>\n",
              "      <td>F.P. TECNOLOGI &amp; SYSTEM S.A.C</td>\n",
              "      <td>20608010212</td>\n",
              "      <td>MUNICIPALIDAD DISTRITAL  DE KUMPIRUSHIATO</td>\n",
              "      <td>Compra ordinaria</td>\n",
              "      <td>OCAM-2023-301893-125-0</td>\n",
              "      <td>https://apps1.perucompras.gob.pe//OrdenCompra/...</td>\n",
              "      <td>PAGADA</td>\n",
              "      <td>NaN</td>\n",
              "      <td>2023-05-02</td>\n",
              "      <td>2023-05-30 02:04:10</td>\n",
              "      <td>3213.85</td>\n",
              "      <td>578.49</td>\n",
              "      <td>3792.34</td>\n",
              "      <td>https://saeusceprod01.blob.core.windows.net/co...</td>\n",
              "      <td>Actualizado automáticamente por la vinculación...</td>\n",
              "      <td>NaN</td>\n",
              "      <td>EXT-CE-2022-5 COMPUTADORAS DE ESCRITORIO, COMP...</td>\n",
              "      <td>ReportePCBienes202305.csv</td>\n",
              "      <td>202305</td>\n",
              "      <td>202305</td>\n",
              "      <td>20536630954_20608010212_202305</td>\n",
              "    </tr>\n",
              "    <tr>\n",
              "      <th>12264</th>\n",
              "      <td>2023-06-01 08:01:04</td>\n",
              "      <td>20600257286</td>\n",
              "      <td>PROYECTEC E.I.R.L.</td>\n",
              "      <td>20601761999</td>\n",
              "      <td>UNIDAD EJECUTORA HOSPITAL DE REHABILITACIÓN DE...</td>\n",
              "      <td>Compra ordinaria</td>\n",
              "      <td>OCAM-2023-1667-76-0</td>\n",
              "      <td>https://apps1.perucompras.gob.pe//OrdenCompra/...</td>\n",
              "      <td>PAGADA</td>\n",
              "      <td>NaN</td>\n",
              "      <td>2023-05-02</td>\n",
              "      <td>2023-05-17 02:24:03</td>\n",
              "      <td>4577.54</td>\n",
              "      <td>823.96</td>\n",
              "      <td>5401.50</td>\n",
              "      <td>https://saeusceprod01.blob.core.windows.net/co...</td>\n",
              "      <td>Actualizado automáticamente por la vinculación...</td>\n",
              "      <td>NaN</td>\n",
              "      <td>EXT-CE-2022-5 COMPUTADORAS DE ESCRITORIO, COMP...</td>\n",
              "      <td>ReportePCBienes202305.csv</td>\n",
              "      <td>202305</td>\n",
              "      <td>202305</td>\n",
              "      <td>20600257286_20601761999_202305</td>\n",
              "    </tr>\n",
              "    <tr>\n",
              "      <th>12265</th>\n",
              "      <td>2023-06-01 08:01:04</td>\n",
              "      <td>20536630954</td>\n",
              "      <td>F.P. TECNOLOGI &amp; SYSTEM S.A.C</td>\n",
              "      <td>20601761999</td>\n",
              "      <td>UNIDAD EJECUTORA HOSPITAL DE REHABILITACIÓN DE...</td>\n",
              "      <td>Compra ordinaria</td>\n",
              "      <td>OCAM-2023-1667-75-0</td>\n",
              "      <td>https://apps1.perucompras.gob.pe//OrdenCompra/...</td>\n",
              "      <td>PAGADA</td>\n",
              "      <td>NaN</td>\n",
              "      <td>2023-05-02</td>\n",
              "      <td>2023-05-17 02:26:16</td>\n",
              "      <td>756.20</td>\n",
              "      <td>136.12</td>\n",
              "      <td>892.32</td>\n",
              "      <td>https://saeusceprod01.blob.core.windows.net/co...</td>\n",
              "      <td>Actualizado automáticamente por la vinculación...</td>\n",
              "      <td>NaN</td>\n",
              "      <td>EXT-CE-2022-5 COMPUTADORAS DE ESCRITORIO, COMP...</td>\n",
              "      <td>ReportePCBienes202305.csv</td>\n",
              "      <td>202305</td>\n",
              "      <td>202305</td>\n",
              "      <td>20536630954_20601761999_202305</td>\n",
              "    </tr>\n",
              "  </tbody>\n",
              "</table>\n",
              "<p>55594 rows × 23 columns</p>\n",
              "</div>\n",
              "      <button class=\"colab-df-convert\" onclick=\"convertToInteractive('df-ba75e9b0-756a-4639-a7ae-c0760a90efd1')\"\n",
              "              title=\"Convert this dataframe to an interactive table.\"\n",
              "              style=\"display:none;\">\n",
              "\n",
              "  <svg xmlns=\"http://www.w3.org/2000/svg\" height=\"24px\"viewBox=\"0 0 24 24\"\n",
              "       width=\"24px\">\n",
              "    <path d=\"M0 0h24v24H0V0z\" fill=\"none\"/>\n",
              "    <path d=\"M18.56 5.44l.94 2.06.94-2.06 2.06-.94-2.06-.94-.94-2.06-.94 2.06-2.06.94zm-11 1L8.5 8.5l.94-2.06 2.06-.94-2.06-.94L8.5 2.5l-.94 2.06-2.06.94zm10 10l.94 2.06.94-2.06 2.06-.94-2.06-.94-.94-2.06-.94 2.06-2.06.94z\"/><path d=\"M17.41 7.96l-1.37-1.37c-.4-.4-.92-.59-1.43-.59-.52 0-1.04.2-1.43.59L10.3 9.45l-7.72 7.72c-.78.78-.78 2.05 0 2.83L4 21.41c.39.39.9.59 1.41.59.51 0 1.02-.2 1.41-.59l7.78-7.78 2.81-2.81c.8-.78.8-2.07 0-2.86zM5.41 20L4 18.59l7.72-7.72 1.47 1.35L5.41 20z\"/>\n",
              "  </svg>\n",
              "      </button>\n",
              "\n",
              "\n",
              "\n",
              "    <div id=\"df-4e5bd4c3-d00f-4651-8132-8e325c04dce1\">\n",
              "      <button class=\"colab-df-quickchart\" onclick=\"quickchart('df-4e5bd4c3-d00f-4651-8132-8e325c04dce1')\"\n",
              "              title=\"Suggest charts.\"\n",
              "              style=\"display:none;\">\n",
              "\n",
              "<svg xmlns=\"http://www.w3.org/2000/svg\" height=\"24px\"viewBox=\"0 0 24 24\"\n",
              "     width=\"24px\">\n",
              "    <g>\n",
              "        <path d=\"M19 3H5c-1.1 0-2 .9-2 2v14c0 1.1.9 2 2 2h14c1.1 0 2-.9 2-2V5c0-1.1-.9-2-2-2zM9 17H7v-7h2v7zm4 0h-2V7h2v10zm4 0h-2v-4h2v4z\"/>\n",
              "    </g>\n",
              "</svg>\n",
              "      </button>\n",
              "    </div>\n",
              "\n",
              "<style>\n",
              "  .colab-df-quickchart {\n",
              "    background-color: #E8F0FE;\n",
              "    border: none;\n",
              "    border-radius: 50%;\n",
              "    cursor: pointer;\n",
              "    display: none;\n",
              "    fill: #1967D2;\n",
              "    height: 32px;\n",
              "    padding: 0 0 0 0;\n",
              "    width: 32px;\n",
              "  }\n",
              "\n",
              "  .colab-df-quickchart:hover {\n",
              "    background-color: #E2EBFA;\n",
              "    box-shadow: 0px 1px 2px rgba(60, 64, 67, 0.3), 0px 1px 3px 1px rgba(60, 64, 67, 0.15);\n",
              "    fill: #174EA6;\n",
              "  }\n",
              "\n",
              "  [theme=dark] .colab-df-quickchart {\n",
              "    background-color: #3B4455;\n",
              "    fill: #D2E3FC;\n",
              "  }\n",
              "\n",
              "  [theme=dark] .colab-df-quickchart:hover {\n",
              "    background-color: #434B5C;\n",
              "    box-shadow: 0px 1px 3px 1px rgba(0, 0, 0, 0.15);\n",
              "    filter: drop-shadow(0px 1px 2px rgba(0, 0, 0, 0.3));\n",
              "    fill: #FFFFFF;\n",
              "  }\n",
              "</style>\n",
              "\n",
              "    <script>\n",
              "      async function quickchart(key) {\n",
              "        const containerElement = document.querySelector('#' + key);\n",
              "        const charts = await google.colab.kernel.invokeFunction(\n",
              "            'suggestCharts', [key], {});\n",
              "      }\n",
              "    </script>\n",
              "\n",
              "      <script>\n",
              "\n",
              "function displayQuickchartButton(domScope) {\n",
              "  let quickchartButtonEl =\n",
              "    domScope.querySelector('#df-4e5bd4c3-d00f-4651-8132-8e325c04dce1 button.colab-df-quickchart');\n",
              "  quickchartButtonEl.style.display =\n",
              "    google.colab.kernel.accessAllowed ? 'block' : 'none';\n",
              "}\n",
              "\n",
              "        displayQuickchartButton(document);\n",
              "      </script>\n",
              "      <style>\n",
              "    .colab-df-container {\n",
              "      display:flex;\n",
              "      flex-wrap:wrap;\n",
              "      gap: 12px;\n",
              "    }\n",
              "\n",
              "    .colab-df-convert {\n",
              "      background-color: #E8F0FE;\n",
              "      border: none;\n",
              "      border-radius: 50%;\n",
              "      cursor: pointer;\n",
              "      display: none;\n",
              "      fill: #1967D2;\n",
              "      height: 32px;\n",
              "      padding: 0 0 0 0;\n",
              "      width: 32px;\n",
              "    }\n",
              "\n",
              "    .colab-df-convert:hover {\n",
              "      background-color: #E2EBFA;\n",
              "      box-shadow: 0px 1px 2px rgba(60, 64, 67, 0.3), 0px 1px 3px 1px rgba(60, 64, 67, 0.15);\n",
              "      fill: #174EA6;\n",
              "    }\n",
              "\n",
              "    [theme=dark] .colab-df-convert {\n",
              "      background-color: #3B4455;\n",
              "      fill: #D2E3FC;\n",
              "    }\n",
              "\n",
              "    [theme=dark] .colab-df-convert:hover {\n",
              "      background-color: #434B5C;\n",
              "      box-shadow: 0px 1px 3px 1px rgba(0, 0, 0, 0.15);\n",
              "      filter: drop-shadow(0px 1px 2px rgba(0, 0, 0, 0.3));\n",
              "      fill: #FFFFFF;\n",
              "    }\n",
              "  </style>\n",
              "\n",
              "      <script>\n",
              "        const buttonEl =\n",
              "          document.querySelector('#df-ba75e9b0-756a-4639-a7ae-c0760a90efd1 button.colab-df-convert');\n",
              "        buttonEl.style.display =\n",
              "          google.colab.kernel.accessAllowed ? 'block' : 'none';\n",
              "\n",
              "        async function convertToInteractive(key) {\n",
              "          const element = document.querySelector('#df-ba75e9b0-756a-4639-a7ae-c0760a90efd1');\n",
              "          const dataTable =\n",
              "            await google.colab.kernel.invokeFunction('convertToInteractive',\n",
              "                                                     [key], {});\n",
              "          if (!dataTable) return;\n",
              "\n",
              "          const docLinkHtml = 'Like what you see? Visit the ' +\n",
              "            '<a target=\"_blank\" href=https://colab.research.google.com/notebooks/data_table.ipynb>data table notebook</a>'\n",
              "            + ' to learn more about interactive tables.';\n",
              "          element.innerHTML = '';\n",
              "          dataTable['output_type'] = 'display_data';\n",
              "          await google.colab.output.renderOutput(dataTable, element);\n",
              "          const docLink = document.createElement('div');\n",
              "          docLink.innerHTML = docLinkHtml;\n",
              "          element.appendChild(docLink);\n",
              "        }\n",
              "      </script>\n",
              "    </div>\n",
              "  </div>\n"
            ]
          },
          "metadata": {},
          "execution_count": 178
        }
      ]
    },
    {
      "cell_type": "markdown",
      "source": [
        "## **f3. Dimensiones del DataFrame Creado**"
      ],
      "metadata": {
        "id": "UcuGHFcqkMFt"
      }
    },
    {
      "cell_type": "code",
      "source": [
        "## **f3. Dimensiones del DataFrame Creado**\n",
        "df_Perú_compras2.shape"
      ],
      "metadata": {
        "colab": {
          "base_uri": "https://localhost:8080/"
        },
        "id": "-1rb0XZ3hngo",
        "outputId": "0aa4fd14-1169-42e8-8945-a722ee10fd9e"
      },
      "execution_count": null,
      "outputs": [
        {
          "output_type": "execute_result",
          "data": {
            "text/plain": [
              "(55594, 23)"
            ]
          },
          "metadata": {},
          "execution_count": 179
        }
      ]
    },
    {
      "cell_type": "markdown",
      "source": [
        "##**f4. Usando como variable los catalogos electronicos**"
      ],
      "metadata": {
        "id": "Bplq6fqsk4R5"
      }
    },
    {
      "cell_type": "code",
      "source": [
        "##**f4. Usando como variable los catalogos electronicos**\n",
        "df_Perú_compras2['ACUERDO_MARCO']"
      ],
      "metadata": {
        "colab": {
          "base_uri": "https://localhost:8080/"
        },
        "id": "0-GgLB5rhnk8",
        "outputId": "dbd09bb3-09b5-4cb8-d3c6-7e0499ebc9eb"
      },
      "execution_count": null,
      "outputs": [
        {
          "output_type": "execute_result",
          "data": {
            "text/plain": [
              "0        IM-CE-2020-5 COMPUTADORAS DE ESCRITORIO, COMPU...\n",
              "1        EXT-CE-2021-6 IMPRESORAS, CONSUMIBLES, REPUEST...\n",
              "2        EXT-CE-2021-6 IMPRESORAS, CONSUMIBLES, REPUEST...\n",
              "5        EXT-CE-2021-7 ÚTILES DE ESCRITORIO, PAPELES Y ...\n",
              "6        EXT-CE-2021-7 ÚTILES DE ESCRITORIO, PAPELES Y ...\n",
              "                               ...                        \n",
              "12258    EXT-CE-2022-5 COMPUTADORAS DE ESCRITORIO, COMP...\n",
              "12259    EXT-CE-2022-5 COMPUTADORAS DE ESCRITORIO, COMP...\n",
              "12262    EXT-CE-2022-5 COMPUTADORAS DE ESCRITORIO, COMP...\n",
              "12264    EXT-CE-2022-5 COMPUTADORAS DE ESCRITORIO, COMP...\n",
              "12265    EXT-CE-2022-5 COMPUTADORAS DE ESCRITORIO, COMP...\n",
              "Name: ACUERDO_MARCO, Length: 55594, dtype: object"
            ]
          },
          "metadata": {},
          "execution_count": 180
        }
      ]
    },
    {
      "cell_type": "markdown",
      "source": [
        "##**f5. Usando los catalogos electronicos - La Primera variable**"
      ],
      "metadata": {
        "id": "h3NgSEwMl9Pu"
      }
    },
    {
      "cell_type": "code",
      "source": [
        "##**f4. Usando los catalogos electronicos - La Primera variable**\n",
        "df_Perú_compras2['ACUERDO_MARCO'][0:1]"
      ],
      "metadata": {
        "colab": {
          "base_uri": "https://localhost:8080/"
        },
        "id": "Lh_VIN1DlS35",
        "outputId": "7b4987a6-099b-4d18-b40b-7aa25376683c"
      },
      "execution_count": null,
      "outputs": [
        {
          "output_type": "execute_result",
          "data": {
            "text/plain": [
              "0    IM-CE-2020-5 COMPUTADORAS DE ESCRITORIO, COMPU...\n",
              "Name: ACUERDO_MARCO, dtype: object"
            ]
          },
          "metadata": {},
          "execution_count": 181
        }
      ]
    },
    {
      "cell_type": "markdown",
      "source": [
        "##**f6. Usando los catalogos electronicos- La Primera variable: Mas completo**"
      ],
      "metadata": {
        "id": "ICXpHiPemSIN"
      }
    },
    {
      "cell_type": "code",
      "source": [
        "##**f6. Usando los catalogos electronicos- La Primera variable: Mas completo**\n",
        "df_Perú_compras2['ACUERDO_MARCO'][0:1].values"
      ],
      "metadata": {
        "colab": {
          "base_uri": "https://localhost:8080/"
        },
        "id": "B9fGoX8ZlaDw",
        "outputId": "3a7423b9-c994-43b3-9e74-90d5c8db20fc"
      },
      "execution_count": null,
      "outputs": [
        {
          "output_type": "execute_result",
          "data": {
            "text/plain": [
              "array(['IM-CE-2020-5 COMPUTADORAS DE ESCRITORIO, COMPUTADORAS PORTÁTILES Y ESCÁNERES'],\n",
              "      dtype=object)"
            ]
          },
          "metadata": {},
          "execution_count": 31
        }
      ]
    },
    {
      "cell_type": "markdown",
      "source": [
        "##**f7. Usando los catalogos electronicos- La Primera variable: Mas completo separado**"
      ],
      "metadata": {
        "id": "VSUsT8ydmcb_"
      }
    },
    {
      "cell_type": "code",
      "source": [
        "##**f7. Usando los catalogos electronicos- La Primera variable: Mas completo separado**\n",
        "'IM-CE-2020-5 COMPUTADORAS DE ESCRITORIO, COMPUTADORAS PORTÁTILES Y ESCÁNERES'.split()"
      ],
      "metadata": {
        "colab": {
          "base_uri": "https://localhost:8080/"
        },
        "id": "SxhppHKRlaIB",
        "outputId": "f5fb86c6-e3d5-46ca-e9a8-8b44795e8d12"
      },
      "execution_count": null,
      "outputs": [
        {
          "output_type": "execute_result",
          "data": {
            "text/plain": [
              "['IM-CE-2020-5',\n",
              " 'COMPUTADORAS',\n",
              " 'DE',\n",
              " 'ESCRITORIO,',\n",
              " 'COMPUTADORAS',\n",
              " 'PORTÁTILES',\n",
              " 'Y',\n",
              " 'ESCÁNERES']"
            ]
          },
          "metadata": {},
          "execution_count": 182
        }
      ]
    },
    {
      "cell_type": "markdown",
      "source": [
        "## **f8. Creamos un diccionario que contenga las descripción completa del catalogo del cual podamos obter solo el codigo**"
      ],
      "metadata": {
        "id": "k8pZ-MkqoBZ5"
      }
    },
    {
      "cell_type": "code",
      "source": [
        "## **f8. Creamos un diccionario que contenga las descripción completa del catalogo del cual podamos obter solo el codigo**\n",
        "dic_ACUERDO_MARCO = {i[0]:' '.join(i[1:]) for i in df_Perú_compras2['ACUERDO_MARCO'].apply(lambda x : x.split())}\n",
        "dic_ACUERDO_MARCO\n"
      ],
      "metadata": {
        "colab": {
          "base_uri": "https://localhost:8080/"
        },
        "id": "rll8bzxxlaLf",
        "outputId": "12884179-82e6-44df-dae8-ae231583f84a"
      },
      "execution_count": null,
      "outputs": [
        {
          "output_type": "execute_result",
          "data": {
            "text/plain": [
              "{'IM-CE-2020-5': 'COMPUTADORAS DE ESCRITORIO, COMPUTADORAS PORTÁTILES Y ESCÁNERES',\n",
              " 'EXT-CE-2021-6': 'IMPRESORAS, CONSUMIBLES, REPUESTOS Y ACCESORIOS DE OFICINA',\n",
              " 'EXT-CE-2021-7': 'ÚTILES DE ESCRITORIO, PAPELES Y CARTONES',\n",
              " 'EXT-CE-2021-12': 'TUBERIAS, PINTURAS, CERÁMICOS, SANITARIOS, ACCESORIOS, Y COMPLEMENTOS EN GENERAL',\n",
              " 'IM-CE-2020-17': 'BEBIDAS NO ALCOHÓLICAS',\n",
              " 'EXT-CE-2021-4': 'MATERIALES DE PROTECCION PARA LA SALUD',\n",
              " 'EXT-CE-2021-13': 'EQUIPOS DE AIRE ACONDICIONADO, SIMILARES Y ACCESORIOS',\n",
              " 'EXT-CE-2021-10': 'LLANTAS, NEUMÁTICOS Y ACCESORIOS',\n",
              " 'EXT-CE-2021-3': 'MATERIALES E INSUMOS DE LIMPIEZA, PAPELES PARA ASEO Y LIMPIEZA',\n",
              " 'IM-CE-2020-16': 'BIENES Y HERRAMIENTAS PARA USOS DIVERSOS',\n",
              " 'EXT-CE-2021-1': 'BATERIAS, PILAS Y ACCESORIOS',\n",
              " 'EXT-CE-2021-14': 'LUMINARIAS, MATERIALES ELÉCTRICOS, Y CABLES ELÉCTRICOS',\n",
              " 'EXT-CE-2021-11': 'MOBILIARIO EN GENERAL',\n",
              " 'IM-CE-2021-25': 'CÉSPED SINTÉTICO',\n",
              " 'EXT-CE-2021-16': 'BIENES Y HERRAMIENTAS PARA USOS DIVERSOS',\n",
              " 'EXT-CE-2021-2': 'EQUIPOS MULTIMEDIA Y ACCESORIOS',\n",
              " 'EXT-CE-2021-18': 'ALIMENTOS PARA CONSUMO HUMANO',\n",
              " 'IM-CE-2021-26': 'MAQUINAS, EQUIPOS Y HERRAMIENTAS PARA JARDINERIA, SILVICULTURA Y AGRICULTURA',\n",
              " 'IM-CE-2021-20': 'MATERIAL DE PLASTICO, MATERIAL DE VIDRIO Y MATERIAL DE LABORATORIO CLINICO',\n",
              " 'EXT-CE-2022-4': 'MATERIALES DE PROTECCIÓN PARA LA SALUD',\n",
              " 'IM-CE-2022-27': 'PRODUCTOS DE MADERA ASERRADA PARA USO ESTRUCTURAL Y PARA USO EN ENCOFRADOS',\n",
              " 'IM-CE-2021-21': 'TUBOS HEMATOLÓGICOS PARA LABORATORIO',\n",
              " 'IM-CE-2021-22': 'MEDIDORES ELECTRÓNICOS Y CAJAS PORTAMEDIDOR',\n",
              " 'IM-CE-2020-8': 'DISPOSITIVO MÉDICO DE DIAGNOSTICO IN VITRO',\n",
              " 'EXT-CE-2022-17': 'BEBIDAS NO ALCOHÓLICAS',\n",
              " 'EXT-CE-2022-5': 'COMPUTADORAS DE ESCRITORIO, COMPUTADORAS PORTÁTILES Y ESCÁNERES',\n",
              " 'IM-CE-2022-28': 'CALZADO',\n",
              " 'IM-CE-2021-24': 'COMPONENTES PARA SISTEMAS FOTOVOLTAICOS'}"
            ]
          },
          "metadata": {},
          "execution_count": 183
        }
      ]
    },
    {
      "cell_type": "markdown",
      "source": [
        "## **f9. Crearemo una variable que solo contenga el codigo**"
      ],
      "metadata": {
        "id": "ZvWs45KHpLcd"
      }
    },
    {
      "cell_type": "code",
      "source": [
        "## **f9. Crearemo una variable que solo contenga el codigo**\n",
        "\n",
        "df_Perú_compras2['CODIGO_ACUERDO_MARCO'] =df_Perú_compras2['ACUERDO_MARCO'].apply(lambda x : x.split(' ')[0])\n",
        "df_Perú_compras2.head()"
      ],
      "metadata": {
        "colab": {
          "base_uri": "https://localhost:8080/",
          "height": 722
        },
        "id": "r2JpDHSvlaPg",
        "outputId": "feb34d34-fe15-4f1c-a863-f629cb891beb"
      },
      "execution_count": null,
      "outputs": [
        {
          "output_type": "stream",
          "name": "stderr",
          "text": [
            "<ipython-input-184-3f2fe66f0a73>:3: SettingWithCopyWarning: \n",
            "A value is trying to be set on a copy of a slice from a DataFrame.\n",
            "Try using .loc[row_indexer,col_indexer] = value instead\n",
            "\n",
            "See the caveats in the documentation: https://pandas.pydata.org/pandas-docs/stable/user_guide/indexing.html#returning-a-view-versus-a-copy\n",
            "  df_Perú_compras2['CODIGO_ACUERDO_MARCO'] =df_Perú_compras2['ACUERDO_MARCO'].apply(lambda x : x.split(' ')[0])\n"
          ]
        },
        {
          "output_type": "execute_result",
          "data": {
            "text/plain": [
              "        FECHA_PROCESO  RUC_PROVEEDOR  \\\n",
              "0 2022-05-12 12:51:18    20530182038   \n",
              "1 2022-05-12 12:51:18    20530182038   \n",
              "2 2022-05-12 12:51:18    20427497888   \n",
              "5 2022-05-12 12:51:18    20608085069   \n",
              "6 2022-05-12 12:51:18    20100049181   \n",
              "\n",
              "                                           PROVEEDOR  RUC_ENTIDAD  \\\n",
              "0  GRUPO COMPUDATA PERUSOCIEDAD DE RESPONSABILIDA...  20172606777   \n",
              "1  GRUPO COMPUDATA PERUSOCIEDAD DE RESPONSABILIDA...  20172606777   \n",
              "2                             COMERCIAL DENIA S.A.C.  20174950971   \n",
              "5                            CERCOR LOGISTICS S.A.C.  20174950971   \n",
              "6                                       TAI LOY S.A.  20174950971   \n",
              "\n",
              "                                             ENTIDAD TIPO_PROCEDIMIENTO  \\\n",
              "0                      UNIVERSIDAD NACIONAL DE PIURA   Compra ordinaria   \n",
              "1                      UNIVERSIDAD NACIONAL DE PIURA   Compra ordinaria   \n",
              "2  UNIVERSIDAD NACIONAL DE EDUCACION ENRIQUE GUZM...   Compra ordinaria   \n",
              "5  UNIVERSIDAD NACIONAL DE EDUCACION ENRIQUE GUZM...   Compra ordinaria   \n",
              "6  UNIVERSIDAD NACIONAL DE EDUCACION ENRIQUE GUZM...   Compra ordinaria   \n",
              "\n",
              "     ORDEN_ELECTRÓNICA                         ORDEN_ELECTRÓNICA_GENERADA  \\\n",
              "0    OCAM-2021-99-55-0  https://apps1.perucompras.gob.pe//OrdenCompra/...   \n",
              "1    OCAM-2021-99-57-0  https://apps1.perucompras.gob.pe//OrdenCompra/...   \n",
              "2  OCAM-2021-106-327-0  https://apps1.perucompras.gob.pe//OrdenCompra/...   \n",
              "5  OCAM-2021-106-341-0  https://apps1.perucompras.gob.pe//OrdenCompra/...   \n",
              "6  OCAM-2021-106-343-0  https://apps1.perucompras.gob.pe//OrdenCompra/...   \n",
              "\n",
              "  ESTADO_ORDEN_ELECTRÓNICA                              DOCUMENTO_ESTADO_OCAM  \\\n",
              "0                   PAGADA  https://saeusceprod01.blob.core.windows.net/co...   \n",
              "1                   PAGADA  https://saeusceprod01.blob.core.windows.net/co...   \n",
              "2                   PAGADA  https://saeusceprod01.blob.core.windows.net/co...   \n",
              "5                   PAGADA  https://saeusceprod01.blob.core.windows.net/co...   \n",
              "6                   PAGADA  https://saeusceprod01.blob.core.windows.net/co...   \n",
              "\n",
              "  FECHA_FORMALIZACIÓN FECHA_ÚLTIMO_ESTADO  SUB_TOTAL      IGV     TOTAL  \\\n",
              "0          2022-01-04 2022-02-18 11:11:28    9298.90  1673.80  10972.70   \n",
              "1          2022-01-04 2022-02-18 11:11:05    2894.79   521.06   3415.85   \n",
              "2          2022-01-04 2022-03-30 11:20:38   22640.80  4075.34  26716.14   \n",
              "5          2022-01-04 2022-03-30 11:29:40     720.00   129.60    849.60   \n",
              "6          2022-01-04 2022-03-30 11:30:30     198.03    35.65    233.68   \n",
              "\n",
              "                                  ORDEN_DIGITALIZADA DESCRIPCIÓN_ESTADO  \\\n",
              "0  https://saeusceprod01.blob.core.windows.net/co...                NaN   \n",
              "1  https://saeusceprod01.blob.core.windows.net/co...                NaN   \n",
              "2  https://saeusceprod01.blob.core.windows.net/co...                NaN   \n",
              "5  https://saeusceprod01.blob.core.windows.net/co...                NaN   \n",
              "6  https://saeusceprod01.blob.core.windows.net/co...                NaN   \n",
              "\n",
              "   DESCRIPCIÓN_CESIÓN_DERECHOS  \\\n",
              "0                          NaN   \n",
              "1                          NaN   \n",
              "2                          NaN   \n",
              "5                          NaN   \n",
              "6                          NaN   \n",
              "\n",
              "                                       ACUERDO_MARCO  \\\n",
              "0  IM-CE-2020-5 COMPUTADORAS DE ESCRITORIO, COMPU...   \n",
              "1  EXT-CE-2021-6 IMPRESORAS, CONSUMIBLES, REPUEST...   \n",
              "2  EXT-CE-2021-6 IMPRESORAS, CONSUMIBLES, REPUEST...   \n",
              "5  EXT-CE-2021-7 ÚTILES DE ESCRITORIO, PAPELES Y ...   \n",
              "6  EXT-CE-2021-7 ÚTILES DE ESCRITORIO, PAPELES Y ...   \n",
              "\n",
              "                     ARCHIVO PERIODO PERIOD_FECHA_ÚLTIMO_ESTADO  \\\n",
              "0  ReportePCBienes202201.csv  202201                     202202   \n",
              "1  ReportePCBienes202201.csv  202201                     202202   \n",
              "2  ReportePCBienes202201.csv  202201                     202203   \n",
              "5  ReportePCBienes202201.csv  202201                     202203   \n",
              "6  ReportePCBienes202201.csv  202201                     202203   \n",
              "\n",
              "                          RUC_MES CODIGO_ACUERDO_MARCO  \n",
              "0  20530182038_20172606777_202202         IM-CE-2020-5  \n",
              "1  20530182038_20172606777_202202        EXT-CE-2021-6  \n",
              "2  20427497888_20174950971_202203        EXT-CE-2021-6  \n",
              "5  20608085069_20174950971_202203        EXT-CE-2021-7  \n",
              "6  20100049181_20174950971_202203        EXT-CE-2021-7  "
            ],
            "text/html": [
              "\n",
              "\n",
              "  <div id=\"df-86261077-1fa5-492d-a2e7-f6cf6c3452f2\">\n",
              "    <div class=\"colab-df-container\">\n",
              "      <div>\n",
              "<style scoped>\n",
              "    .dataframe tbody tr th:only-of-type {\n",
              "        vertical-align: middle;\n",
              "    }\n",
              "\n",
              "    .dataframe tbody tr th {\n",
              "        vertical-align: top;\n",
              "    }\n",
              "\n",
              "    .dataframe thead th {\n",
              "        text-align: right;\n",
              "    }\n",
              "</style>\n",
              "<table border=\"1\" class=\"dataframe\">\n",
              "  <thead>\n",
              "    <tr style=\"text-align: right;\">\n",
              "      <th></th>\n",
              "      <th>FECHA_PROCESO</th>\n",
              "      <th>RUC_PROVEEDOR</th>\n",
              "      <th>PROVEEDOR</th>\n",
              "      <th>RUC_ENTIDAD</th>\n",
              "      <th>ENTIDAD</th>\n",
              "      <th>TIPO_PROCEDIMIENTO</th>\n",
              "      <th>ORDEN_ELECTRÓNICA</th>\n",
              "      <th>ORDEN_ELECTRÓNICA_GENERADA</th>\n",
              "      <th>ESTADO_ORDEN_ELECTRÓNICA</th>\n",
              "      <th>DOCUMENTO_ESTADO_OCAM</th>\n",
              "      <th>FECHA_FORMALIZACIÓN</th>\n",
              "      <th>FECHA_ÚLTIMO_ESTADO</th>\n",
              "      <th>SUB_TOTAL</th>\n",
              "      <th>IGV</th>\n",
              "      <th>TOTAL</th>\n",
              "      <th>ORDEN_DIGITALIZADA</th>\n",
              "      <th>DESCRIPCIÓN_ESTADO</th>\n",
              "      <th>DESCRIPCIÓN_CESIÓN_DERECHOS</th>\n",
              "      <th>ACUERDO_MARCO</th>\n",
              "      <th>ARCHIVO</th>\n",
              "      <th>PERIODO</th>\n",
              "      <th>PERIOD_FECHA_ÚLTIMO_ESTADO</th>\n",
              "      <th>RUC_MES</th>\n",
              "      <th>CODIGO_ACUERDO_MARCO</th>\n",
              "    </tr>\n",
              "  </thead>\n",
              "  <tbody>\n",
              "    <tr>\n",
              "      <th>0</th>\n",
              "      <td>2022-05-12 12:51:18</td>\n",
              "      <td>20530182038</td>\n",
              "      <td>GRUPO COMPUDATA PERUSOCIEDAD DE RESPONSABILIDA...</td>\n",
              "      <td>20172606777</td>\n",
              "      <td>UNIVERSIDAD NACIONAL DE PIURA</td>\n",
              "      <td>Compra ordinaria</td>\n",
              "      <td>OCAM-2021-99-55-0</td>\n",
              "      <td>https://apps1.perucompras.gob.pe//OrdenCompra/...</td>\n",
              "      <td>PAGADA</td>\n",
              "      <td>https://saeusceprod01.blob.core.windows.net/co...</td>\n",
              "      <td>2022-01-04</td>\n",
              "      <td>2022-02-18 11:11:28</td>\n",
              "      <td>9298.90</td>\n",
              "      <td>1673.80</td>\n",
              "      <td>10972.70</td>\n",
              "      <td>https://saeusceprod01.blob.core.windows.net/co...</td>\n",
              "      <td>NaN</td>\n",
              "      <td>NaN</td>\n",
              "      <td>IM-CE-2020-5 COMPUTADORAS DE ESCRITORIO, COMPU...</td>\n",
              "      <td>ReportePCBienes202201.csv</td>\n",
              "      <td>202201</td>\n",
              "      <td>202202</td>\n",
              "      <td>20530182038_20172606777_202202</td>\n",
              "      <td>IM-CE-2020-5</td>\n",
              "    </tr>\n",
              "    <tr>\n",
              "      <th>1</th>\n",
              "      <td>2022-05-12 12:51:18</td>\n",
              "      <td>20530182038</td>\n",
              "      <td>GRUPO COMPUDATA PERUSOCIEDAD DE RESPONSABILIDA...</td>\n",
              "      <td>20172606777</td>\n",
              "      <td>UNIVERSIDAD NACIONAL DE PIURA</td>\n",
              "      <td>Compra ordinaria</td>\n",
              "      <td>OCAM-2021-99-57-0</td>\n",
              "      <td>https://apps1.perucompras.gob.pe//OrdenCompra/...</td>\n",
              "      <td>PAGADA</td>\n",
              "      <td>https://saeusceprod01.blob.core.windows.net/co...</td>\n",
              "      <td>2022-01-04</td>\n",
              "      <td>2022-02-18 11:11:05</td>\n",
              "      <td>2894.79</td>\n",
              "      <td>521.06</td>\n",
              "      <td>3415.85</td>\n",
              "      <td>https://saeusceprod01.blob.core.windows.net/co...</td>\n",
              "      <td>NaN</td>\n",
              "      <td>NaN</td>\n",
              "      <td>EXT-CE-2021-6 IMPRESORAS, CONSUMIBLES, REPUEST...</td>\n",
              "      <td>ReportePCBienes202201.csv</td>\n",
              "      <td>202201</td>\n",
              "      <td>202202</td>\n",
              "      <td>20530182038_20172606777_202202</td>\n",
              "      <td>EXT-CE-2021-6</td>\n",
              "    </tr>\n",
              "    <tr>\n",
              "      <th>2</th>\n",
              "      <td>2022-05-12 12:51:18</td>\n",
              "      <td>20427497888</td>\n",
              "      <td>COMERCIAL DENIA S.A.C.</td>\n",
              "      <td>20174950971</td>\n",
              "      <td>UNIVERSIDAD NACIONAL DE EDUCACION ENRIQUE GUZM...</td>\n",
              "      <td>Compra ordinaria</td>\n",
              "      <td>OCAM-2021-106-327-0</td>\n",
              "      <td>https://apps1.perucompras.gob.pe//OrdenCompra/...</td>\n",
              "      <td>PAGADA</td>\n",
              "      <td>https://saeusceprod01.blob.core.windows.net/co...</td>\n",
              "      <td>2022-01-04</td>\n",
              "      <td>2022-03-30 11:20:38</td>\n",
              "      <td>22640.80</td>\n",
              "      <td>4075.34</td>\n",
              "      <td>26716.14</td>\n",
              "      <td>https://saeusceprod01.blob.core.windows.net/co...</td>\n",
              "      <td>NaN</td>\n",
              "      <td>NaN</td>\n",
              "      <td>EXT-CE-2021-6 IMPRESORAS, CONSUMIBLES, REPUEST...</td>\n",
              "      <td>ReportePCBienes202201.csv</td>\n",
              "      <td>202201</td>\n",
              "      <td>202203</td>\n",
              "      <td>20427497888_20174950971_202203</td>\n",
              "      <td>EXT-CE-2021-6</td>\n",
              "    </tr>\n",
              "    <tr>\n",
              "      <th>5</th>\n",
              "      <td>2022-05-12 12:51:18</td>\n",
              "      <td>20608085069</td>\n",
              "      <td>CERCOR LOGISTICS S.A.C.</td>\n",
              "      <td>20174950971</td>\n",
              "      <td>UNIVERSIDAD NACIONAL DE EDUCACION ENRIQUE GUZM...</td>\n",
              "      <td>Compra ordinaria</td>\n",
              "      <td>OCAM-2021-106-341-0</td>\n",
              "      <td>https://apps1.perucompras.gob.pe//OrdenCompra/...</td>\n",
              "      <td>PAGADA</td>\n",
              "      <td>https://saeusceprod01.blob.core.windows.net/co...</td>\n",
              "      <td>2022-01-04</td>\n",
              "      <td>2022-03-30 11:29:40</td>\n",
              "      <td>720.00</td>\n",
              "      <td>129.60</td>\n",
              "      <td>849.60</td>\n",
              "      <td>https://saeusceprod01.blob.core.windows.net/co...</td>\n",
              "      <td>NaN</td>\n",
              "      <td>NaN</td>\n",
              "      <td>EXT-CE-2021-7 ÚTILES DE ESCRITORIO, PAPELES Y ...</td>\n",
              "      <td>ReportePCBienes202201.csv</td>\n",
              "      <td>202201</td>\n",
              "      <td>202203</td>\n",
              "      <td>20608085069_20174950971_202203</td>\n",
              "      <td>EXT-CE-2021-7</td>\n",
              "    </tr>\n",
              "    <tr>\n",
              "      <th>6</th>\n",
              "      <td>2022-05-12 12:51:18</td>\n",
              "      <td>20100049181</td>\n",
              "      <td>TAI LOY S.A.</td>\n",
              "      <td>20174950971</td>\n",
              "      <td>UNIVERSIDAD NACIONAL DE EDUCACION ENRIQUE GUZM...</td>\n",
              "      <td>Compra ordinaria</td>\n",
              "      <td>OCAM-2021-106-343-0</td>\n",
              "      <td>https://apps1.perucompras.gob.pe//OrdenCompra/...</td>\n",
              "      <td>PAGADA</td>\n",
              "      <td>https://saeusceprod01.blob.core.windows.net/co...</td>\n",
              "      <td>2022-01-04</td>\n",
              "      <td>2022-03-30 11:30:30</td>\n",
              "      <td>198.03</td>\n",
              "      <td>35.65</td>\n",
              "      <td>233.68</td>\n",
              "      <td>https://saeusceprod01.blob.core.windows.net/co...</td>\n",
              "      <td>NaN</td>\n",
              "      <td>NaN</td>\n",
              "      <td>EXT-CE-2021-7 ÚTILES DE ESCRITORIO, PAPELES Y ...</td>\n",
              "      <td>ReportePCBienes202201.csv</td>\n",
              "      <td>202201</td>\n",
              "      <td>202203</td>\n",
              "      <td>20100049181_20174950971_202203</td>\n",
              "      <td>EXT-CE-2021-7</td>\n",
              "    </tr>\n",
              "  </tbody>\n",
              "</table>\n",
              "</div>\n",
              "      <button class=\"colab-df-convert\" onclick=\"convertToInteractive('df-86261077-1fa5-492d-a2e7-f6cf6c3452f2')\"\n",
              "              title=\"Convert this dataframe to an interactive table.\"\n",
              "              style=\"display:none;\">\n",
              "\n",
              "  <svg xmlns=\"http://www.w3.org/2000/svg\" height=\"24px\"viewBox=\"0 0 24 24\"\n",
              "       width=\"24px\">\n",
              "    <path d=\"M0 0h24v24H0V0z\" fill=\"none\"/>\n",
              "    <path d=\"M18.56 5.44l.94 2.06.94-2.06 2.06-.94-2.06-.94-.94-2.06-.94 2.06-2.06.94zm-11 1L8.5 8.5l.94-2.06 2.06-.94-2.06-.94L8.5 2.5l-.94 2.06-2.06.94zm10 10l.94 2.06.94-2.06 2.06-.94-2.06-.94-.94-2.06-.94 2.06-2.06.94z\"/><path d=\"M17.41 7.96l-1.37-1.37c-.4-.4-.92-.59-1.43-.59-.52 0-1.04.2-1.43.59L10.3 9.45l-7.72 7.72c-.78.78-.78 2.05 0 2.83L4 21.41c.39.39.9.59 1.41.59.51 0 1.02-.2 1.41-.59l7.78-7.78 2.81-2.81c.8-.78.8-2.07 0-2.86zM5.41 20L4 18.59l7.72-7.72 1.47 1.35L5.41 20z\"/>\n",
              "  </svg>\n",
              "      </button>\n",
              "\n",
              "\n",
              "\n",
              "    <div id=\"df-9bb13462-948d-4da8-90aa-a47b158fd115\">\n",
              "      <button class=\"colab-df-quickchart\" onclick=\"quickchart('df-9bb13462-948d-4da8-90aa-a47b158fd115')\"\n",
              "              title=\"Suggest charts.\"\n",
              "              style=\"display:none;\">\n",
              "\n",
              "<svg xmlns=\"http://www.w3.org/2000/svg\" height=\"24px\"viewBox=\"0 0 24 24\"\n",
              "     width=\"24px\">\n",
              "    <g>\n",
              "        <path d=\"M19 3H5c-1.1 0-2 .9-2 2v14c0 1.1.9 2 2 2h14c1.1 0 2-.9 2-2V5c0-1.1-.9-2-2-2zM9 17H7v-7h2v7zm4 0h-2V7h2v10zm4 0h-2v-4h2v4z\"/>\n",
              "    </g>\n",
              "</svg>\n",
              "      </button>\n",
              "    </div>\n",
              "\n",
              "<style>\n",
              "  .colab-df-quickchart {\n",
              "    background-color: #E8F0FE;\n",
              "    border: none;\n",
              "    border-radius: 50%;\n",
              "    cursor: pointer;\n",
              "    display: none;\n",
              "    fill: #1967D2;\n",
              "    height: 32px;\n",
              "    padding: 0 0 0 0;\n",
              "    width: 32px;\n",
              "  }\n",
              "\n",
              "  .colab-df-quickchart:hover {\n",
              "    background-color: #E2EBFA;\n",
              "    box-shadow: 0px 1px 2px rgba(60, 64, 67, 0.3), 0px 1px 3px 1px rgba(60, 64, 67, 0.15);\n",
              "    fill: #174EA6;\n",
              "  }\n",
              "\n",
              "  [theme=dark] .colab-df-quickchart {\n",
              "    background-color: #3B4455;\n",
              "    fill: #D2E3FC;\n",
              "  }\n",
              "\n",
              "  [theme=dark] .colab-df-quickchart:hover {\n",
              "    background-color: #434B5C;\n",
              "    box-shadow: 0px 1px 3px 1px rgba(0, 0, 0, 0.15);\n",
              "    filter: drop-shadow(0px 1px 2px rgba(0, 0, 0, 0.3));\n",
              "    fill: #FFFFFF;\n",
              "  }\n",
              "</style>\n",
              "\n",
              "    <script>\n",
              "      async function quickchart(key) {\n",
              "        const containerElement = document.querySelector('#' + key);\n",
              "        const charts = await google.colab.kernel.invokeFunction(\n",
              "            'suggestCharts', [key], {});\n",
              "      }\n",
              "    </script>\n",
              "\n",
              "      <script>\n",
              "\n",
              "function displayQuickchartButton(domScope) {\n",
              "  let quickchartButtonEl =\n",
              "    domScope.querySelector('#df-9bb13462-948d-4da8-90aa-a47b158fd115 button.colab-df-quickchart');\n",
              "  quickchartButtonEl.style.display =\n",
              "    google.colab.kernel.accessAllowed ? 'block' : 'none';\n",
              "}\n",
              "\n",
              "        displayQuickchartButton(document);\n",
              "      </script>\n",
              "      <style>\n",
              "    .colab-df-container {\n",
              "      display:flex;\n",
              "      flex-wrap:wrap;\n",
              "      gap: 12px;\n",
              "    }\n",
              "\n",
              "    .colab-df-convert {\n",
              "      background-color: #E8F0FE;\n",
              "      border: none;\n",
              "      border-radius: 50%;\n",
              "      cursor: pointer;\n",
              "      display: none;\n",
              "      fill: #1967D2;\n",
              "      height: 32px;\n",
              "      padding: 0 0 0 0;\n",
              "      width: 32px;\n",
              "    }\n",
              "\n",
              "    .colab-df-convert:hover {\n",
              "      background-color: #E2EBFA;\n",
              "      box-shadow: 0px 1px 2px rgba(60, 64, 67, 0.3), 0px 1px 3px 1px rgba(60, 64, 67, 0.15);\n",
              "      fill: #174EA6;\n",
              "    }\n",
              "\n",
              "    [theme=dark] .colab-df-convert {\n",
              "      background-color: #3B4455;\n",
              "      fill: #D2E3FC;\n",
              "    }\n",
              "\n",
              "    [theme=dark] .colab-df-convert:hover {\n",
              "      background-color: #434B5C;\n",
              "      box-shadow: 0px 1px 3px 1px rgba(0, 0, 0, 0.15);\n",
              "      filter: drop-shadow(0px 1px 2px rgba(0, 0, 0, 0.3));\n",
              "      fill: #FFFFFF;\n",
              "    }\n",
              "  </style>\n",
              "\n",
              "      <script>\n",
              "        const buttonEl =\n",
              "          document.querySelector('#df-86261077-1fa5-492d-a2e7-f6cf6c3452f2 button.colab-df-convert');\n",
              "        buttonEl.style.display =\n",
              "          google.colab.kernel.accessAllowed ? 'block' : 'none';\n",
              "\n",
              "        async function convertToInteractive(key) {\n",
              "          const element = document.querySelector('#df-86261077-1fa5-492d-a2e7-f6cf6c3452f2');\n",
              "          const dataTable =\n",
              "            await google.colab.kernel.invokeFunction('convertToInteractive',\n",
              "                                                     [key], {});\n",
              "          if (!dataTable) return;\n",
              "\n",
              "          const docLinkHtml = 'Like what you see? Visit the ' +\n",
              "            '<a target=\"_blank\" href=https://colab.research.google.com/notebooks/data_table.ipynb>data table notebook</a>'\n",
              "            + ' to learn more about interactive tables.';\n",
              "          element.innerHTML = '';\n",
              "          dataTable['output_type'] = 'display_data';\n",
              "          await google.colab.output.renderOutput(dataTable, element);\n",
              "          const docLink = document.createElement('div');\n",
              "          docLink.innerHTML = docLinkHtml;\n",
              "          element.appendChild(docLink);\n",
              "        }\n",
              "      </script>\n",
              "    </div>\n",
              "  </div>\n"
            ]
          },
          "metadata": {},
          "execution_count": 184
        }
      ]
    },
    {
      "cell_type": "code",
      "source": [
        "## **f9. Crearemo una variable que solo contenga el codigo**\n",
        "df_Perú_compras2['CODIGO_ACUERDO_MARCO'].unique()"
      ],
      "metadata": {
        "colab": {
          "base_uri": "https://localhost:8080/"
        },
        "id": "qi4yYLqClaTX",
        "outputId": "3c771519-ca6e-458f-921a-f547a4eb3879"
      },
      "execution_count": null,
      "outputs": [
        {
          "output_type": "execute_result",
          "data": {
            "text/plain": [
              "array(['IM-CE-2020-5', 'EXT-CE-2021-6', 'EXT-CE-2021-7', 'EXT-CE-2021-12',\n",
              "       'IM-CE-2020-17', 'EXT-CE-2021-4', 'EXT-CE-2021-13',\n",
              "       'EXT-CE-2021-10', 'EXT-CE-2021-3', 'IM-CE-2020-16',\n",
              "       'EXT-CE-2021-1', 'EXT-CE-2021-14', 'EXT-CE-2021-11',\n",
              "       'IM-CE-2021-25', 'EXT-CE-2021-16', 'EXT-CE-2021-2',\n",
              "       'EXT-CE-2021-18', 'IM-CE-2021-26', 'IM-CE-2021-20',\n",
              "       'EXT-CE-2022-4', 'IM-CE-2022-27', 'IM-CE-2021-21', 'IM-CE-2021-22',\n",
              "       'IM-CE-2020-8', 'EXT-CE-2022-17', 'EXT-CE-2022-5', 'IM-CE-2022-28',\n",
              "       'IM-CE-2021-24'], dtype=object)"
            ]
          },
          "metadata": {},
          "execution_count": 185
        }
      ]
    },
    {
      "cell_type": "code",
      "source": [
        "## **f9. Crearemo una variable que solo contenga el codigo**\n",
        "len(df_Perú_compras2['CODIGO_ACUERDO_MARCO'])"
      ],
      "metadata": {
        "colab": {
          "base_uri": "https://localhost:8080/"
        },
        "id": "LjZ2uk3qlaYQ",
        "outputId": "ecd0f701-d482-4cc4-e880-acb3c367fffe"
      },
      "execution_count": null,
      "outputs": [
        {
          "output_type": "execute_result",
          "data": {
            "text/plain": [
              "55594"
            ]
          },
          "metadata": {},
          "execution_count": 186
        }
      ]
    },
    {
      "cell_type": "markdown",
      "source": [
        "# **g. Analisis descriptivo - Parte 2**"
      ],
      "metadata": {
        "id": "AqD4T_6Ep9O8"
      }
    },
    {
      "cell_type": "code",
      "source": [
        "# **g1. Analisis descriptivo - Parte 2**\n",
        "df_Perú_compras2.columns\n"
      ],
      "metadata": {
        "colab": {
          "base_uri": "https://localhost:8080/"
        },
        "id": "cLJeBCx3p25e",
        "outputId": "175dbaa3-20e2-4a8b-e146-9e45779c7679"
      },
      "execution_count": null,
      "outputs": [
        {
          "output_type": "execute_result",
          "data": {
            "text/plain": [
              "Index(['FECHA_PROCESO', 'RUC_PROVEEDOR', 'PROVEEDOR', 'RUC_ENTIDAD', 'ENTIDAD',\n",
              "       'TIPO_PROCEDIMIENTO', 'ORDEN_ELECTRÓNICA', 'ORDEN_ELECTRÓNICA_GENERADA',\n",
              "       'ESTADO_ORDEN_ELECTRÓNICA', 'DOCUMENTO_ESTADO_OCAM',\n",
              "       'FECHA_FORMALIZACIÓN', 'FECHA_ÚLTIMO_ESTADO', 'SUB_TOTAL', 'IGV',\n",
              "       'TOTAL', 'ORDEN_DIGITALIZADA', 'DESCRIPCIÓN_ESTADO',\n",
              "       'DESCRIPCIÓN_CESIÓN_DERECHOS', 'ACUERDO_MARCO', 'ARCHIVO', 'PERIODO',\n",
              "       'PERIOD_FECHA_ÚLTIMO_ESTADO', 'RUC_MES', 'CODIGO_ACUERDO_MARCO'],\n",
              "      dtype='object')"
            ]
          },
          "metadata": {},
          "execution_count": 187
        }
      ]
    },
    {
      "cell_type": "markdown",
      "source": [
        "## **g2. Lista ascendente de los catalogos mas vendido**"
      ],
      "metadata": {
        "id": "JPDeDVdNsVId"
      }
    },
    {
      "cell_type": "code",
      "source": [
        "## **g2. Lista ascendente de los catalogos mas vendido**\n",
        "Ventas_catalogo = df_Perú_compras2.groupby(['CODIGO_ACUERDO_MARCO'])['SUB_TOTAL'].sum().sort_values(ascending=False)\n",
        "Ventas_catalogo"
      ],
      "metadata": {
        "colab": {
          "base_uri": "https://localhost:8080/"
        },
        "id": "U9Fjh3qVp29r",
        "outputId": "d30e3d44-dace-42ad-e368-36f5a8fd87c3"
      },
      "execution_count": null,
      "outputs": [
        {
          "output_type": "execute_result",
          "data": {
            "text/plain": [
              "CODIGO_ACUERDO_MARCO\n",
              "EXT-CE-2021-7     1.004291e+08\n",
              "EXT-CE-2021-6     9.823065e+07\n",
              "IM-CE-2020-5      7.985192e+07\n",
              "EXT-CE-2021-12    3.227367e+07\n",
              "EXT-CE-2021-3     2.875614e+07\n",
              "EXT-CE-2021-16    1.949211e+07\n",
              "EXT-CE-2021-10    1.847438e+07\n",
              "EXT-CE-2022-5     1.066804e+07\n",
              "EXT-CE-2021-4     3.812519e+06\n",
              "EXT-CE-2021-11    3.598271e+06\n",
              "EXT-CE-2021-2     3.496756e+06\n",
              "EXT-CE-2021-18    3.333816e+06\n",
              "EXT-CE-2021-1     2.788531e+06\n",
              "EXT-CE-2021-14    2.506715e+06\n",
              "EXT-CE-2021-13    1.951705e+06\n",
              "EXT-CE-2022-4     1.293308e+06\n",
              "IM-CE-2020-17     9.833613e+05\n",
              "IM-CE-2022-27     3.960157e+05\n",
              "EXT-CE-2022-17    2.912776e+05\n",
              "IM-CE-2021-26     1.548044e+05\n",
              "IM-CE-2021-20     1.324569e+05\n",
              "IM-CE-2021-22     2.914040e+04\n",
              "IM-CE-2021-24     2.069428e+04\n",
              "IM-CE-2021-25     1.573804e+04\n",
              "IM-CE-2020-8      8.302000e+03\n",
              "IM-CE-2022-28     3.248000e+03\n",
              "IM-CE-2020-16     1.800000e+03\n",
              "IM-CE-2021-21     2.533600e+02\n",
              "Name: SUB_TOTAL, dtype: float64"
            ]
          },
          "metadata": {},
          "execution_count": 188
        }
      ]
    },
    {
      "cell_type": "markdown",
      "source": [
        "## **g3. Recordemos que contenia cada catalogo**"
      ],
      "metadata": {
        "id": "CmvQtzCrsolM"
      }
    },
    {
      "cell_type": "code",
      "source": [
        "## **g3. Recordemos que contenia cada catalogo**\n",
        "dic_ACUERDO_MARCO"
      ],
      "metadata": {
        "colab": {
          "base_uri": "https://localhost:8080/"
        },
        "id": "bQjzCHXmp3B0",
        "outputId": "b2f74a95-dd96-4f1a-cc6c-0f6c7200ff9f"
      },
      "execution_count": null,
      "outputs": [
        {
          "output_type": "execute_result",
          "data": {
            "text/plain": [
              "{'IM-CE-2020-5': 'COMPUTADORAS DE ESCRITORIO, COMPUTADORAS PORTÁTILES Y ESCÁNERES',\n",
              " 'EXT-CE-2021-6': 'IMPRESORAS, CONSUMIBLES, REPUESTOS Y ACCESORIOS DE OFICINA',\n",
              " 'EXT-CE-2021-7': 'ÚTILES DE ESCRITORIO, PAPELES Y CARTONES',\n",
              " 'EXT-CE-2021-12': 'TUBERIAS, PINTURAS, CERÁMICOS, SANITARIOS, ACCESORIOS, Y COMPLEMENTOS EN GENERAL',\n",
              " 'IM-CE-2020-17': 'BEBIDAS NO ALCOHÓLICAS',\n",
              " 'EXT-CE-2021-4': 'MATERIALES DE PROTECCION PARA LA SALUD',\n",
              " 'EXT-CE-2021-13': 'EQUIPOS DE AIRE ACONDICIONADO, SIMILARES Y ACCESORIOS',\n",
              " 'EXT-CE-2021-10': 'LLANTAS, NEUMÁTICOS Y ACCESORIOS',\n",
              " 'EXT-CE-2021-3': 'MATERIALES E INSUMOS DE LIMPIEZA, PAPELES PARA ASEO Y LIMPIEZA',\n",
              " 'IM-CE-2020-16': 'BIENES Y HERRAMIENTAS PARA USOS DIVERSOS',\n",
              " 'EXT-CE-2021-1': 'BATERIAS, PILAS Y ACCESORIOS',\n",
              " 'EXT-CE-2021-14': 'LUMINARIAS, MATERIALES ELÉCTRICOS, Y CABLES ELÉCTRICOS',\n",
              " 'EXT-CE-2021-11': 'MOBILIARIO EN GENERAL',\n",
              " 'IM-CE-2021-25': 'CÉSPED SINTÉTICO',\n",
              " 'EXT-CE-2021-16': 'BIENES Y HERRAMIENTAS PARA USOS DIVERSOS',\n",
              " 'EXT-CE-2021-2': 'EQUIPOS MULTIMEDIA Y ACCESORIOS',\n",
              " 'EXT-CE-2021-18': 'ALIMENTOS PARA CONSUMO HUMANO',\n",
              " 'IM-CE-2021-26': 'MAQUINAS, EQUIPOS Y HERRAMIENTAS PARA JARDINERIA, SILVICULTURA Y AGRICULTURA',\n",
              " 'IM-CE-2021-20': 'MATERIAL DE PLASTICO, MATERIAL DE VIDRIO Y MATERIAL DE LABORATORIO CLINICO',\n",
              " 'EXT-CE-2022-4': 'MATERIALES DE PROTECCIÓN PARA LA SALUD',\n",
              " 'IM-CE-2022-27': 'PRODUCTOS DE MADERA ASERRADA PARA USO ESTRUCTURAL Y PARA USO EN ENCOFRADOS',\n",
              " 'IM-CE-2021-21': 'TUBOS HEMATOLÓGICOS PARA LABORATORIO',\n",
              " 'IM-CE-2021-22': 'MEDIDORES ELECTRÓNICOS Y CAJAS PORTAMEDIDOR',\n",
              " 'IM-CE-2020-8': 'DISPOSITIVO MÉDICO DE DIAGNOSTICO IN VITRO',\n",
              " 'EXT-CE-2022-17': 'BEBIDAS NO ALCOHÓLICAS',\n",
              " 'EXT-CE-2022-5': 'COMPUTADORAS DE ESCRITORIO, COMPUTADORAS PORTÁTILES Y ESCÁNERES',\n",
              " 'IM-CE-2022-28': 'CALZADO',\n",
              " 'IM-CE-2021-24': 'COMPONENTES PARA SISTEMAS FOTOVOLTAICOS'}"
            ]
          },
          "metadata": {},
          "execution_count": 189
        }
      ]
    },
    {
      "cell_type": "markdown",
      "source": [
        "## **g4. Gráficos de las ventas por catálogo**"
      ],
      "metadata": {
        "id": "BFPXQW2MvNLr"
      }
    },
    {
      "cell_type": "code",
      "source": [
        "## **g4. Gráficos de las ventas por catálogo**\n",
        "Ventas_catalogo.plot(kind = 'bar',figsize = (10,8))"
      ],
      "metadata": {
        "colab": {
          "base_uri": "https://localhost:8080/",
          "height": 825
        },
        "id": "Sw2EpRjdp3Gx",
        "outputId": "bd42d62e-fc37-4054-edd4-59c43d41598b"
      },
      "execution_count": null,
      "outputs": [
        {
          "output_type": "execute_result",
          "data": {
            "text/plain": [
              "<Axes: xlabel='CODIGO_ACUERDO_MARCO'>"
            ]
          },
          "metadata": {},
          "execution_count": 190
        },
        {
          "output_type": "display_data",
          "data": {
            "text/plain": [
              "<Figure size 1000x800 with 1 Axes>"
            ],
            "image/png": "[encoded data removed]"
          },
          "metadata": {}
        }
      ]
    },
    {
      "cell_type": "markdown",
      "source": [
        "## **g5. Creamos una sublista de catalogos que vende mas de 3 millones**"
      ],
      "metadata": {
        "id": "nRMS6oH407_4"
      }
    },
    {
      "cell_type": "code",
      "source": [
        "## g5. Creamos una sublista de catalogos que vende mas de 3 millones**\n",
        "lis_Ventas_mayores = list(Ventas_catalogo[Ventas_catalogo >3e06].index)\n",
        "lis_Ventas_mayores"
      ],
      "metadata": {
        "colab": {
          "base_uri": "https://localhost:8080/"
        },
        "id": "d0Z5PB0np3Kb",
        "outputId": "782c52b2-2dae-46cc-d9fe-9184967049c6"
      },
      "execution_count": null,
      "outputs": [
        {
          "output_type": "execute_result",
          "data": {
            "text/plain": [
              "['EXT-CE-2021-7',\n",
              " 'EXT-CE-2021-6',\n",
              " 'IM-CE-2020-5',\n",
              " 'EXT-CE-2021-12',\n",
              " 'EXT-CE-2021-3',\n",
              " 'EXT-CE-2021-16',\n",
              " 'EXT-CE-2021-10',\n",
              " 'EXT-CE-2022-5',\n",
              " 'EXT-CE-2021-4',\n",
              " 'EXT-CE-2021-11',\n",
              " 'EXT-CE-2021-2',\n",
              " 'EXT-CE-2021-18']"
            ]
          },
          "metadata": {},
          "execution_count": 191
        }
      ]
    },
    {
      "cell_type": "markdown",
      "source": [
        "## **g4. Gráficos de las ventas por catálogo del mes a mes**"
      ],
      "metadata": {
        "id": "kBCEa7BT1FnQ"
      }
    },
    {
      "cell_type": "code",
      "source": [
        "## **g4. Gráficos de las ventas por catálogo mes a mes**\n",
        "df_Ventas_mayores = df_Perú_compras2[df_Perú_compras2.CODIGO_ACUERDO_MARCO.isin(lis_Ventas_mayores)]\n",
        "df_Catalogos = df_Ventas_mayores.groupby(['PERIODO','CODIGO_ACUERDO_MARCO'])['CODIGO_ACUERDO_MARCO'].count().unstack(1)\n",
        "df_Catalogos.plot(kind = 'bar', stacked = True, figsize = (10,8))\n",
        "plt.legend(loc = 'right',bbox_to_anchor = (1.2,0.5))"
      ],
      "metadata": {
        "colab": {
          "base_uri": "https://localhost:8080/",
          "height": 752
        },
        "id": "3pr9k0LGp3OP",
        "outputId": "11f23400-51f1-450e-9d8b-e36d1b1687d8"
      },
      "execution_count": null,
      "outputs": [
        {
          "output_type": "execute_result",
          "data": {
            "text/plain": [
              "<matplotlib.legend.Legend at 0x7cc9a16cf5e0>"
            ]
          },
          "metadata": {},
          "execution_count": 193
        },
        {
          "output_type": "display_data",
          "data": {
            "text/plain": [
              "<Figure size 1000x800 with 1 Axes>"
            ],
            "image/png": "[encoded data removed]"
          },
          "metadata": {}
        }
      ]
    },
    {
      "cell_type": "markdown",
      "source": [
        "## **g5. Uso de _unstack(1)_**\n",
        "- Su utilidad es poder girar las variables que se estan trabajando\n",
        "+ Las filas se convierten en columnas"
      ],
      "metadata": {
        "id": "7llihOJf5L28"
      }
    },
    {
      "cell_type": "code",
      "source": [
        "## **g5. Uso de _unstack(1)_**\n",
        "df_Ventas_mayores.groupby(['PERIODO','CODIGO_ACUERDO_MARCO'])['CODIGO_ACUERDO_MARCO'].count()"
      ],
      "metadata": {
        "colab": {
          "base_uri": "https://localhost:8080/"
        },
        "id": "apQx4jbx4jzG",
        "outputId": "2384a45a-14a1-4de7-8b3c-93330cbfd26d"
      },
      "execution_count": null,
      "outputs": [
        {
          "output_type": "execute_result",
          "data": {
            "text/plain": [
              "PERIODO  CODIGO_ACUERDO_MARCO\n",
              "202201   EXT-CE-2021-10           35\n",
              "         EXT-CE-2021-11            6\n",
              "         EXT-CE-2021-12           42\n",
              "         EXT-CE-2021-16            4\n",
              "         EXT-CE-2021-3            57\n",
              "                                ... \n",
              "202306   EXT-CE-2021-2            17\n",
              "         EXT-CE-2021-3           252\n",
              "         EXT-CE-2021-6           482\n",
              "         EXT-CE-2021-7           698\n",
              "         EXT-CE-2022-5           131\n",
              "Name: CODIGO_ACUERDO_MARCO, Length: 181, dtype: int64"
            ]
          },
          "metadata": {},
          "execution_count": 194
        }
      ]
    },
    {
      "cell_type": "code",
      "source": [
        "## **g5. Uso de _unstack(1)_**\n",
        "df_Ventas_mayores.groupby(['PERIODO','CODIGO_ACUERDO_MARCO'])['CODIGO_ACUERDO_MARCO'].count().unstack(1)"
      ],
      "metadata": {
        "colab": {
          "base_uri": "https://localhost:8080/",
          "height": 707
        },
        "id": "C_78koWR4dbO",
        "outputId": "1fe76236-2578-424e-883f-a12c802d6121"
      },
      "execution_count": null,
      "outputs": [
        {
          "output_type": "execute_result",
          "data": {
            "text/plain": [
              "CODIGO_ACUERDO_MARCO  EXT-CE-2021-10  EXT-CE-2021-11  EXT-CE-2021-12  \\\n",
              "PERIODO                                                                \n",
              "202201                          35.0             6.0            42.0   \n",
              "202202                         237.0            74.0           277.0   \n",
              "202203                         546.0           180.0           497.0   \n",
              "202204                         176.0            66.0           162.0   \n",
              "202205                          85.0            32.0            71.0   \n",
              "202206                          89.0            29.0            67.0   \n",
              "202207                         103.0            25.0            69.0   \n",
              "202208                          69.0            19.0            79.0   \n",
              "202209                          55.0            34.0            56.0   \n",
              "202210                          55.0            28.0            81.0   \n",
              "202211                          92.0            70.0            57.0   \n",
              "202212                         124.0            67.0            87.0   \n",
              "202301                           NaN             NaN             NaN   \n",
              "202302                          23.0             5.0             3.0   \n",
              "202303                         132.0            44.0           106.0   \n",
              "202304                          53.0             8.0            27.0   \n",
              "202305                          88.0            42.0            69.0   \n",
              "202306                          95.0            52.0            73.0   \n",
              "\n",
              "CODIGO_ACUERDO_MARCO  EXT-CE-2021-16  EXT-CE-2021-18  EXT-CE-2021-2  \\\n",
              "PERIODO                                                               \n",
              "202201                           4.0             NaN            NaN   \n",
              "202202                         232.0            60.0            7.0   \n",
              "202203                         601.0            29.0           10.0   \n",
              "202204                         151.0             6.0            6.0   \n",
              "202205                         110.0             7.0            5.0   \n",
              "202206                          55.0             1.0            8.0   \n",
              "202207                          55.0             3.0            3.0   \n",
              "202208                          74.0             3.0           11.0   \n",
              "202209                          66.0             4.0           15.0   \n",
              "202210                          68.0             2.0           15.0   \n",
              "202211                          75.0             7.0           30.0   \n",
              "202212                          39.0             7.0           36.0   \n",
              "202301                           NaN             NaN            NaN   \n",
              "202302                           7.0             3.0            NaN   \n",
              "202303                         176.0            12.0            3.0   \n",
              "202304                          78.0             2.0            4.0   \n",
              "202305                         138.0             3.0           11.0   \n",
              "202306                          84.0             6.0           17.0   \n",
              "\n",
              "CODIGO_ACUERDO_MARCO  EXT-CE-2021-3  EXT-CE-2021-4  EXT-CE-2021-6  \\\n",
              "PERIODO                                                             \n",
              "202201                         57.0           18.0          333.0   \n",
              "202202                        542.0           58.0         2394.0   \n",
              "202203                       1235.0          123.0         3877.0   \n",
              "202204                        470.0           47.0         1510.0   \n",
              "202205                        304.0           40.0          907.0   \n",
              "202206                        259.0           19.0          710.0   \n",
              "202207                        337.0           24.0          715.0   \n",
              "202208                        296.0           28.0          678.0   \n",
              "202209                        277.0           27.0          607.0   \n",
              "202210                        213.0            NaN          602.0   \n",
              "202211                        223.0            NaN          623.0   \n",
              "202212                        286.0            NaN          815.0   \n",
              "202301                          4.0            NaN           11.0   \n",
              "202302                        144.0            NaN          267.0   \n",
              "202303                        475.0            NaN         1195.0   \n",
              "202304                        134.0            NaN          439.0   \n",
              "202305                        289.0            NaN          633.0   \n",
              "202306                        252.0            NaN          482.0   \n",
              "\n",
              "CODIGO_ACUERDO_MARCO  EXT-CE-2021-7  EXT-CE-2022-5  IM-CE-2020-5  \n",
              "PERIODO                                                           \n",
              "202201                        316.0            NaN          34.0  \n",
              "202202                       2832.0            NaN         221.0  \n",
              "202203                       4594.0            NaN         407.0  \n",
              "202204                       1730.0            NaN         218.0  \n",
              "202205                       1142.0            NaN         143.0  \n",
              "202206                        890.0            NaN         180.0  \n",
              "202207                       1012.0            NaN         147.0  \n",
              "202208                        911.0            NaN         167.0  \n",
              "202209                        867.0            NaN         161.0  \n",
              "202210                        747.0            NaN         138.0  \n",
              "202211                        784.0            NaN         259.0  \n",
              "202212                        949.0            1.0         435.0  \n",
              "202301                          6.0            2.0           NaN  \n",
              "202302                        463.0           10.0           NaN  \n",
              "202303                       1384.0          135.0           NaN  \n",
              "202304                        510.0           53.0           NaN  \n",
              "202305                        838.0          134.0           NaN  \n",
              "202306                        698.0          131.0           NaN  "
            ],
            "text/html": [
              "\n",
              "\n",
              "  <div id=\"df-6551f94c-29f6-4a2e-ba98-1b29a213d397\">\n",
              "    <div class=\"colab-df-container\">\n",
              "      <div>\n",
              "<style scoped>\n",
              "    .dataframe tbody tr th:only-of-type {\n",
              "        vertical-align: middle;\n",
              "    }\n",
              "\n",
              "    .dataframe tbody tr th {\n",
              "        vertical-align: top;\n",
              "    }\n",
              "\n",
              "    .dataframe thead th {\n",
              "        text-align: right;\n",
              "    }\n",
              "</style>\n",
              "<table border=\"1\" class=\"dataframe\">\n",
              "  <thead>\n",
              "    <tr style=\"text-align: right;\">\n",
              "      <th>CODIGO_ACUERDO_MARCO</th>\n",
              "      <th>EXT-CE-2021-10</th>\n",
              "      <th>EXT-CE-2021-11</th>\n",
              "      <th>EXT-CE-2021-12</th>\n",
              "      <th>EXT-CE-2021-16</th>\n",
              "      <th>EXT-CE-2021-18</th>\n",
              "      <th>EXT-CE-2021-2</th>\n",
              "      <th>EXT-CE-2021-3</th>\n",
              "      <th>EXT-CE-2021-4</th>\n",
              "      <th>EXT-CE-2021-6</th>\n",
              "      <th>EXT-CE-2021-7</th>\n",
              "      <th>EXT-CE-2022-5</th>\n",
              "      <th>IM-CE-2020-5</th>\n",
              "    </tr>\n",
              "    <tr>\n",
              "      <th>PERIODO</th>\n",
              "      <th></th>\n",
              "      <th></th>\n",
              "      <th></th>\n",
              "      <th></th>\n",
              "      <th></th>\n",
              "      <th></th>\n",
              "      <th></th>\n",
              "      <th></th>\n",
              "      <th></th>\n",
              "      <th></th>\n",
              "      <th></th>\n",
              "      <th></th>\n",
              "    </tr>\n",
              "  </thead>\n",
              "  <tbody>\n",
              "    <tr>\n",
              "      <th>202201</th>\n",
              "      <td>35.0</td>\n",
              "      <td>6.0</td>\n",
              "      <td>42.0</td>\n",
              "      <td>4.0</td>\n",
              "      <td>NaN</td>\n",
              "      <td>NaN</td>\n",
              "      <td>57.0</td>\n",
              "      <td>18.0</td>\n",
              "      <td>333.0</td>\n",
              "      <td>316.0</td>\n",
              "      <td>NaN</td>\n",
              "      <td>34.0</td>\n",
              "    </tr>\n",
              "    <tr>\n",
              "      <th>202202</th>\n",
              "      <td>237.0</td>\n",
              "      <td>74.0</td>\n",
              "      <td>277.0</td>\n",
              "      <td>232.0</td>\n",
              "      <td>60.0</td>\n",
              "      <td>7.0</td>\n",
              "      <td>542.0</td>\n",
              "      <td>58.0</td>\n",
              "      <td>2394.0</td>\n",
              "      <td>2832.0</td>\n",
              "      <td>NaN</td>\n",
              "      <td>221.0</td>\n",
              "    </tr>\n",
              "    <tr>\n",
              "      <th>202203</th>\n",
              "      <td>546.0</td>\n",
              "      <td>180.0</td>\n",
              "      <td>497.0</td>\n",
              "      <td>601.0</td>\n",
              "      <td>29.0</td>\n",
              "      <td>10.0</td>\n",
              "      <td>1235.0</td>\n",
              "      <td>123.0</td>\n",
              "      <td>3877.0</td>\n",
              "      <td>4594.0</td>\n",
              "      <td>NaN</td>\n",
              "      <td>407.0</td>\n",
              "    </tr>\n",
              "    <tr>\n",
              "      <th>202204</th>\n",
              "      <td>176.0</td>\n",
              "      <td>66.0</td>\n",
              "      <td>162.0</td>\n",
              "      <td>151.0</td>\n",
              "      <td>6.0</td>\n",
              "      <td>6.0</td>\n",
              "      <td>470.0</td>\n",
              "      <td>47.0</td>\n",
              "      <td>1510.0</td>\n",
              "      <td>1730.0</td>\n",
              "      <td>NaN</td>\n",
              "      <td>218.0</td>\n",
              "    </tr>\n",
              "    <tr>\n",
              "      <th>202205</th>\n",
              "      <td>85.0</td>\n",
              "      <td>32.0</td>\n",
              "      <td>71.0</td>\n",
              "      <td>110.0</td>\n",
              "      <td>7.0</td>\n",
              "      <td>5.0</td>\n",
              "      <td>304.0</td>\n",
              "      <td>40.0</td>\n",
              "      <td>907.0</td>\n",
              "      <td>1142.0</td>\n",
              "      <td>NaN</td>\n",
              "      <td>143.0</td>\n",
              "    </tr>\n",
              "    <tr>\n",
              "      <th>202206</th>\n",
              "      <td>89.0</td>\n",
              "      <td>29.0</td>\n",
              "      <td>67.0</td>\n",
              "      <td>55.0</td>\n",
              "      <td>1.0</td>\n",
              "      <td>8.0</td>\n",
              "      <td>259.0</td>\n",
              "      <td>19.0</td>\n",
              "      <td>710.0</td>\n",
              "      <td>890.0</td>\n",
              "      <td>NaN</td>\n",
              "      <td>180.0</td>\n",
              "    </tr>\n",
              "    <tr>\n",
              "      <th>202207</th>\n",
              "      <td>103.0</td>\n",
              "      <td>25.0</td>\n",
              "      <td>69.0</td>\n",
              "      <td>55.0</td>\n",
              "      <td>3.0</td>\n",
              "      <td>3.0</td>\n",
              "      <td>337.0</td>\n",
              "      <td>24.0</td>\n",
              "      <td>715.0</td>\n",
              "      <td>1012.0</td>\n",
              "      <td>NaN</td>\n",
              "      <td>147.0</td>\n",
              "    </tr>\n",
              "    <tr>\n",
              "      <th>202208</th>\n",
              "      <td>69.0</td>\n",
              "      <td>19.0</td>\n",
              "      <td>79.0</td>\n",
              "      <td>74.0</td>\n",
              "      <td>3.0</td>\n",
              "      <td>11.0</td>\n",
              "      <td>296.0</td>\n",
              "      <td>28.0</td>\n",
              "      <td>678.0</td>\n",
              "      <td>911.0</td>\n",
              "      <td>NaN</td>\n",
              "      <td>167.0</td>\n",
              "    </tr>\n",
              "    <tr>\n",
              "      <th>202209</th>\n",
              "      <td>55.0</td>\n",
              "      <td>34.0</td>\n",
              "      <td>56.0</td>\n",
              "      <td>66.0</td>\n",
              "      <td>4.0</td>\n",
              "      <td>15.0</td>\n",
              "      <td>277.0</td>\n",
              "      <td>27.0</td>\n",
              "      <td>607.0</td>\n",
              "      <td>867.0</td>\n",
              "      <td>NaN</td>\n",
              "      <td>161.0</td>\n",
              "    </tr>\n",
              "    <tr>\n",
              "      <th>202210</th>\n",
              "      <td>55.0</td>\n",
              "      <td>28.0</td>\n",
              "      <td>81.0</td>\n",
              "      <td>68.0</td>\n",
              "      <td>2.0</td>\n",
              "      <td>15.0</td>\n",
              "      <td>213.0</td>\n",
              "      <td>NaN</td>\n",
              "      <td>602.0</td>\n",
              "      <td>747.0</td>\n",
              "      <td>NaN</td>\n",
              "      <td>138.0</td>\n",
              "    </tr>\n",
              "    <tr>\n",
              "      <th>202211</th>\n",
              "      <td>92.0</td>\n",
              "      <td>70.0</td>\n",
              "      <td>57.0</td>\n",
              "      <td>75.0</td>\n",
              "      <td>7.0</td>\n",
              "      <td>30.0</td>\n",
              "      <td>223.0</td>\n",
              "      <td>NaN</td>\n",
              "      <td>623.0</td>\n",
              "      <td>784.0</td>\n",
              "      <td>NaN</td>\n",
              "      <td>259.0</td>\n",
              "    </tr>\n",
              "    <tr>\n",
              "      <th>202212</th>\n",
              "      <td>124.0</td>\n",
              "      <td>67.0</td>\n",
              "      <td>87.0</td>\n",
              "      <td>39.0</td>\n",
              "      <td>7.0</td>\n",
              "      <td>36.0</td>\n",
              "      <td>286.0</td>\n",
              "      <td>NaN</td>\n",
              "      <td>815.0</td>\n",
              "      <td>949.0</td>\n",
              "      <td>1.0</td>\n",
              "      <td>435.0</td>\n",
              "    </tr>\n",
              "    <tr>\n",
              "      <th>202301</th>\n",
              "      <td>NaN</td>\n",
              "      <td>NaN</td>\n",
              "      <td>NaN</td>\n",
              "      <td>NaN</td>\n",
              "      <td>NaN</td>\n",
              "      <td>NaN</td>\n",
              "      <td>4.0</td>\n",
              "      <td>NaN</td>\n",
              "      <td>11.0</td>\n",
              "      <td>6.0</td>\n",
              "      <td>2.0</td>\n",
              "      <td>NaN</td>\n",
              "    </tr>\n",
              "    <tr>\n",
              "      <th>202302</th>\n",
              "      <td>23.0</td>\n",
              "      <td>5.0</td>\n",
              "      <td>3.0</td>\n",
              "      <td>7.0</td>\n",
              "      <td>3.0</td>\n",
              "      <td>NaN</td>\n",
              "      <td>144.0</td>\n",
              "      <td>NaN</td>\n",
              "      <td>267.0</td>\n",
              "      <td>463.0</td>\n",
              "      <td>10.0</td>\n",
              "      <td>NaN</td>\n",
              "    </tr>\n",
              "    <tr>\n",
              "      <th>202303</th>\n",
              "      <td>132.0</td>\n",
              "      <td>44.0</td>\n",
              "      <td>106.0</td>\n",
              "      <td>176.0</td>\n",
              "      <td>12.0</td>\n",
              "      <td>3.0</td>\n",
              "      <td>475.0</td>\n",
              "      <td>NaN</td>\n",
              "      <td>1195.0</td>\n",
              "      <td>1384.0</td>\n",
              "      <td>135.0</td>\n",
              "      <td>NaN</td>\n",
              "    </tr>\n",
              "    <tr>\n",
              "      <th>202304</th>\n",
              "      <td>53.0</td>\n",
              "      <td>8.0</td>\n",
              "      <td>27.0</td>\n",
              "      <td>78.0</td>\n",
              "      <td>2.0</td>\n",
              "      <td>4.0</td>\n",
              "      <td>134.0</td>\n",
              "      <td>NaN</td>\n",
              "      <td>439.0</td>\n",
              "      <td>510.0</td>\n",
              "      <td>53.0</td>\n",
              "      <td>NaN</td>\n",
              "    </tr>\n",
              "    <tr>\n",
              "      <th>202305</th>\n",
              "      <td>88.0</td>\n",
              "      <td>42.0</td>\n",
              "      <td>69.0</td>\n",
              "      <td>138.0</td>\n",
              "      <td>3.0</td>\n",
              "      <td>11.0</td>\n",
              "      <td>289.0</td>\n",
              "      <td>NaN</td>\n",
              "      <td>633.0</td>\n",
              "      <td>838.0</td>\n",
              "      <td>134.0</td>\n",
              "      <td>NaN</td>\n",
              "    </tr>\n",
              "    <tr>\n",
              "      <th>202306</th>\n",
              "      <td>95.0</td>\n",
              "      <td>52.0</td>\n",
              "      <td>73.0</td>\n",
              "      <td>84.0</td>\n",
              "      <td>6.0</td>\n",
              "      <td>17.0</td>\n",
              "      <td>252.0</td>\n",
              "      <td>NaN</td>\n",
              "      <td>482.0</td>\n",
              "      <td>698.0</td>\n",
              "      <td>131.0</td>\n",
              "      <td>NaN</td>\n",
              "    </tr>\n",
              "  </tbody>\n",
              "</table>\n",
              "</div>\n",
              "      <button class=\"colab-df-convert\" onclick=\"convertToInteractive('df-6551f94c-29f6-4a2e-ba98-1b29a213d397')\"\n",
              "              title=\"Convert this dataframe to an interactive table.\"\n",
              "              style=\"display:none;\">\n",
              "\n",
              "  <svg xmlns=\"http://www.w3.org/2000/svg\" height=\"24px\"viewBox=\"0 0 24 24\"\n",
              "       width=\"24px\">\n",
              "    <path d=\"M0 0h24v24H0V0z\" fill=\"none\"/>\n",
              "    <path d=\"M18.56 5.44l.94 2.06.94-2.06 2.06-.94-2.06-.94-.94-2.06-.94 2.06-2.06.94zm-11 1L8.5 8.5l.94-2.06 2.06-.94-2.06-.94L8.5 2.5l-.94 2.06-2.06.94zm10 10l.94 2.06.94-2.06 2.06-.94-2.06-.94-.94-2.06-.94 2.06-2.06.94z\"/><path d=\"M17.41 7.96l-1.37-1.37c-.4-.4-.92-.59-1.43-.59-.52 0-1.04.2-1.43.59L10.3 9.45l-7.72 7.72c-.78.78-.78 2.05 0 2.83L4 21.41c.39.39.9.59 1.41.59.51 0 1.02-.2 1.41-.59l7.78-7.78 2.81-2.81c.8-.78.8-2.07 0-2.86zM5.41 20L4 18.59l7.72-7.72 1.47 1.35L5.41 20z\"/>\n",
              "  </svg>\n",
              "      </button>\n",
              "\n",
              "\n",
              "\n",
              "    <div id=\"df-b6186c67-d314-4403-b7de-a9b80fef64ad\">\n",
              "      <button class=\"colab-df-quickchart\" onclick=\"quickchart('df-b6186c67-d314-4403-b7de-a9b80fef64ad')\"\n",
              "              title=\"Suggest charts.\"\n",
              "              style=\"display:none;\">\n",
              "\n",
              "<svg xmlns=\"http://www.w3.org/2000/svg\" height=\"24px\"viewBox=\"0 0 24 24\"\n",
              "     width=\"24px\">\n",
              "    <g>\n",
              "        <path d=\"M19 3H5c-1.1 0-2 .9-2 2v14c0 1.1.9 2 2 2h14c1.1 0 2-.9 2-2V5c0-1.1-.9-2-2-2zM9 17H7v-7h2v7zm4 0h-2V7h2v10zm4 0h-2v-4h2v4z\"/>\n",
              "    </g>\n",
              "</svg>\n",
              "      </button>\n",
              "    </div>\n",
              "\n",
              "<style>\n",
              "  .colab-df-quickchart {\n",
              "    background-color: #E8F0FE;\n",
              "    border: none;\n",
              "    border-radius: 50%;\n",
              "    cursor: pointer;\n",
              "    display: none;\n",
              "    fill: #1967D2;\n",
              "    height: 32px;\n",
              "    padding: 0 0 0 0;\n",
              "    width: 32px;\n",
              "  }\n",
              "\n",
              "  .colab-df-quickchart:hover {\n",
              "    background-color: #E2EBFA;\n",
              "    box-shadow: 0px 1px 2px rgba(60, 64, 67, 0.3), 0px 1px 3px 1px rgba(60, 64, 67, 0.15);\n",
              "    fill: #174EA6;\n",
              "  }\n",
              "\n",
              "  [theme=dark] .colab-df-quickchart {\n",
              "    background-color: #3B4455;\n",
              "    fill: #D2E3FC;\n",
              "  }\n",
              "\n",
              "  [theme=dark] .colab-df-quickchart:hover {\n",
              "    background-color: #434B5C;\n",
              "    box-shadow: 0px 1px 3px 1px rgba(0, 0, 0, 0.15);\n",
              "    filter: drop-shadow(0px 1px 2px rgba(0, 0, 0, 0.3));\n",
              "    fill: #FFFFFF;\n",
              "  }\n",
              "</style>\n",
              "\n",
              "    <script>\n",
              "      async function quickchart(key) {\n",
              "        const containerElement = document.querySelector('#' + key);\n",
              "        const charts = await google.colab.kernel.invokeFunction(\n",
              "            'suggestCharts', [key], {});\n",
              "      }\n",
              "    </script>\n",
              "\n",
              "      <script>\n",
              "\n",
              "function displayQuickchartButton(domScope) {\n",
              "  let quickchartButtonEl =\n",
              "    domScope.querySelector('#df-b6186c67-d314-4403-b7de-a9b80fef64ad button.colab-df-quickchart');\n",
              "  quickchartButtonEl.style.display =\n",
              "    google.colab.kernel.accessAllowed ? 'block' : 'none';\n",
              "}\n",
              "\n",
              "        displayQuickchartButton(document);\n",
              "      </script>\n",
              "      <style>\n",
              "    .colab-df-container {\n",
              "      display:flex;\n",
              "      flex-wrap:wrap;\n",
              "      gap: 12px;\n",
              "    }\n",
              "\n",
              "    .colab-df-convert {\n",
              "      background-color: #E8F0FE;\n",
              "      border: none;\n",
              "      border-radius: 50%;\n",
              "      cursor: pointer;\n",
              "      display: none;\n",
              "      fill: #1967D2;\n",
              "      height: 32px;\n",
              "      padding: 0 0 0 0;\n",
              "      width: 32px;\n",
              "    }\n",
              "\n",
              "    .colab-df-convert:hover {\n",
              "      background-color: #E2EBFA;\n",
              "      box-shadow: 0px 1px 2px rgba(60, 64, 67, 0.3), 0px 1px 3px 1px rgba(60, 64, 67, 0.15);\n",
              "      fill: #174EA6;\n",
              "    }\n",
              "\n",
              "    [theme=dark] .colab-df-convert {\n",
              "      background-color: #3B4455;\n",
              "      fill: #D2E3FC;\n",
              "    }\n",
              "\n",
              "    [theme=dark] .colab-df-convert:hover {\n",
              "      background-color: #434B5C;\n",
              "      box-shadow: 0px 1px 3px 1px rgba(0, 0, 0, 0.15);\n",
              "      filter: drop-shadow(0px 1px 2px rgba(0, 0, 0, 0.3));\n",
              "      fill: #FFFFFF;\n",
              "    }\n",
              "  </style>\n",
              "\n",
              "      <script>\n",
              "        const buttonEl =\n",
              "          document.querySelector('#df-6551f94c-29f6-4a2e-ba98-1b29a213d397 button.colab-df-convert');\n",
              "        buttonEl.style.display =\n",
              "          google.colab.kernel.accessAllowed ? 'block' : 'none';\n",
              "\n",
              "        async function convertToInteractive(key) {\n",
              "          const element = document.querySelector('#df-6551f94c-29f6-4a2e-ba98-1b29a213d397');\n",
              "          const dataTable =\n",
              "            await google.colab.kernel.invokeFunction('convertToInteractive',\n",
              "                                                     [key], {});\n",
              "          if (!dataTable) return;\n",
              "\n",
              "          const docLinkHtml = 'Like what you see? Visit the ' +\n",
              "            '<a target=\"_blank\" href=https://colab.research.google.com/notebooks/data_table.ipynb>data table notebook</a>'\n",
              "            + ' to learn more about interactive tables.';\n",
              "          element.innerHTML = '';\n",
              "          dataTable['output_type'] = 'display_data';\n",
              "          await google.colab.output.renderOutput(dataTable, element);\n",
              "          const docLink = document.createElement('div');\n",
              "          docLink.innerHTML = docLinkHtml;\n",
              "          element.appendChild(docLink);\n",
              "        }\n",
              "      </script>\n",
              "    </div>\n",
              "  </div>\n"
            ]
          },
          "metadata": {},
          "execution_count": 195
        }
      ]
    },
    {
      "cell_type": "markdown",
      "source": [
        "## **g6. Gráficos de las ventas por catálogo mes a mes suma total**"
      ],
      "metadata": {
        "id": "Mtpg5Xn258Rr"
      }
    },
    {
      "cell_type": "code",
      "source": [
        "## **g6. Gráficos de las ventas por catálogo mes a mes suma total**\n",
        "\n",
        "df_Ventas_mayores_suma = df_Ventas_mayores.groupby(['PERIOD_FECHA_ÚLTIMO_ESTADO','CODIGO_ACUERDO_MARCO'])['SUB_TOTAL'].sum().unstack(1)\n",
        "df_Catalogos.plot(kind = 'bar', stacked = True, figsize = (10,8))\n",
        "plt.legend(loc = 'right',bbox_to_anchor = (1.2,0.5))"
      ],
      "metadata": {
        "colab": {
          "base_uri": "https://localhost:8080/",
          "height": 752
        },
        "id": "8fvEBjs_x5g7",
        "outputId": "4684c163-a90f-4260-bd34-9ac6219c5889"
      },
      "execution_count": null,
      "outputs": [
        {
          "output_type": "execute_result",
          "data": {
            "text/plain": [
              "<matplotlib.legend.Legend at 0x7cc995e77190>"
            ]
          },
          "metadata": {},
          "execution_count": 196
        },
        {
          "output_type": "display_data",
          "data": {
            "text/plain": [
              "<Figure size 1000x800 with 1 Axes>"
            ],
            "image/png": "[encoded data removed]"
          },
          "metadata": {}
        }
      ]
    },
    {
      "cell_type": "markdown",
      "source": [
        "# **g7. Lista de los catalogos mas vendidos**"
      ],
      "metadata": {
        "id": "4Iknjw9x-61N"
      }
    },
    {
      "cell_type": "code",
      "source": [
        "# **g7. Lista de los catalogos mas vendidos**\n",
        "df_Ventas_mayores_suma.sum().sort_values()"
      ],
      "metadata": {
        "colab": {
          "base_uri": "https://localhost:8080/"
        },
        "id": "XFDP7lSEx5ks",
        "outputId": "3f65f8c2-6efa-4a96-8161-a44261dbb21c"
      },
      "execution_count": null,
      "outputs": [
        {
          "output_type": "execute_result",
          "data": {
            "text/plain": [
              "CODIGO_ACUERDO_MARCO\n",
              "EXT-CE-2021-18    3.333816e+06\n",
              "EXT-CE-2021-2     3.496756e+06\n",
              "EXT-CE-2021-11    3.598271e+06\n",
              "EXT-CE-2021-4     3.812519e+06\n",
              "EXT-CE-2022-5     1.066804e+07\n",
              "EXT-CE-2021-10    1.847438e+07\n",
              "EXT-CE-2021-16    1.949211e+07\n",
              "EXT-CE-2021-3     2.875614e+07\n",
              "EXT-CE-2021-12    3.227367e+07\n",
              "IM-CE-2020-5      7.985192e+07\n",
              "EXT-CE-2021-6     9.823065e+07\n",
              "EXT-CE-2021-7     1.004291e+08\n",
              "dtype: float64"
            ]
          },
          "metadata": {},
          "execution_count": 46
        }
      ]
    },
    {
      "cell_type": "markdown",
      "source": [
        "## **g8. Analisis de los catalogos mas vendidos**"
      ],
      "metadata": {
        "id": "l9J8dsUP_CzU"
      }
    },
    {
      "cell_type": "code",
      "source": [
        "## **g8. Analisis de los catalogos mas vendidos**\n",
        "lista_Ventas_mayores_suma = ['EXT-CE-2021-6','EXT-CE-2021-7']\n",
        "df_Ventas_mayores_suma = df_Perú_compras2[df_Perú_compras2.CODIGO_ACUERDO_MARCO.isin(lista_Ventas_mayores_suma)][['CODIGO_ACUERDO_MARCO','ENTIDAD','RUC_MES',\n",
        "                                                                                                                  'SUB_TOTAL','TOTAL','PERIODO','PERIOD_FECHA_ÚLTIMO_ESTADO']]\n",
        "df_Ventas_mayores_suma"
      ],
      "metadata": {
        "colab": {
          "base_uri": "https://localhost:8080/",
          "height": 424
        },
        "id": "fCZZRkTSx5n7",
        "outputId": "22375e00-9142-453f-8185-ca942faf9f1c"
      },
      "execution_count": null,
      "outputs": [
        {
          "output_type": "execute_result",
          "data": {
            "text/plain": [
              "      CODIGO_ACUERDO_MARCO                                            ENTIDAD  \\\n",
              "1            EXT-CE-2021-6                      UNIVERSIDAD NACIONAL DE PIURA   \n",
              "2            EXT-CE-2021-6  UNIVERSIDAD NACIONAL DE EDUCACION ENRIQUE GUZM...   \n",
              "5            EXT-CE-2021-7  UNIVERSIDAD NACIONAL DE EDUCACION ENRIQUE GUZM...   \n",
              "6            EXT-CE-2021-7  UNIVERSIDAD NACIONAL DE EDUCACION ENRIQUE GUZM...   \n",
              "7            EXT-CE-2021-7  UNIVERSIDAD NACIONAL DE EDUCACION ENRIQUE GUZM...   \n",
              "...                    ...                                                ...   \n",
              "12242        EXT-CE-2021-7  MINISTERIO PUBLICO - GERENCIA ADMINISTRATIVA D...   \n",
              "12243        EXT-CE-2021-7                       GOBIERNO REGIONAL SAN MARTIN   \n",
              "12244        EXT-CE-2021-7        UNIDAD DE GESTION EDUCATIVA LOCAL CHURCAMPA   \n",
              "12245        EXT-CE-2021-7                UNIDAD EJECUTORA EDUCACION HUANCAYO   \n",
              "12248        EXT-CE-2021-7     UNIDAD EJECUTORA 406 RED DE SALUD HUANCAVELICA   \n",
              "\n",
              "                              RUC_MES  SUB_TOTAL     TOTAL PERIODO  \\\n",
              "1      20530182038_20172606777_202202    2894.79   3415.85  202201   \n",
              "2      20427497888_20174950971_202203   22640.80  26716.14  202201   \n",
              "5      20608085069_20174950971_202203     720.00    849.60  202201   \n",
              "6      20100049181_20174950971_202203     198.03    233.68  202201   \n",
              "7      20608085069_20174950971_202203     670.00    790.60  202201   \n",
              "...                               ...        ...       ...     ...   \n",
              "12242  20600007310_20539961919_202305     907.20   1070.50  202305   \n",
              "12243  10008334477_20531375808_202306    9660.00   9660.00  202305   \n",
              "12244  20603281706_20600937422_202305    8313.00   9809.34  202305   \n",
              "12245  20568169094_20600657594_202305    3243.90   3827.80  202305   \n",
              "12248  10430749736_20600985206_202305    3165.00   3734.70  202305   \n",
              "\n",
              "      PERIOD_FECHA_ÚLTIMO_ESTADO  \n",
              "1                         202202  \n",
              "2                         202203  \n",
              "5                         202203  \n",
              "6                         202203  \n",
              "7                         202203  \n",
              "...                          ...  \n",
              "12242                     202305  \n",
              "12243                     202306  \n",
              "12244                     202305  \n",
              "12245                     202305  \n",
              "12248                     202305  \n",
              "\n",
              "[37471 rows x 7 columns]"
            ],
            "text/html": [
              "\n",
              "\n",
              "  <div id=\"df-24056157-65c4-4fc2-bee0-e6525b578d84\">\n",
              "    <div class=\"colab-df-container\">\n",
              "      <div>\n",
              "<style scoped>\n",
              "    .dataframe tbody tr th:only-of-type {\n",
              "        vertical-align: middle;\n",
              "    }\n",
              "\n",
              "    .dataframe tbody tr th {\n",
              "        vertical-align: top;\n",
              "    }\n",
              "\n",
              "    .dataframe thead th {\n",
              "        text-align: right;\n",
              "    }\n",
              "</style>\n",
              "<table border=\"1\" class=\"dataframe\">\n",
              "  <thead>\n",
              "    <tr style=\"text-align: right;\">\n",
              "      <th></th>\n",
              "      <th>CODIGO_ACUERDO_MARCO</th>\n",
              "      <th>ENTIDAD</th>\n",
              "      <th>RUC_MES</th>\n",
              "      <th>SUB_TOTAL</th>\n",
              "      <th>TOTAL</th>\n",
              "      <th>PERIODO</th>\n",
              "      <th>PERIOD_FECHA_ÚLTIMO_ESTADO</th>\n",
              "    </tr>\n",
              "  </thead>\n",
              "  <tbody>\n",
              "    <tr>\n",
              "      <th>1</th>\n",
              "      <td>EXT-CE-2021-6</td>\n",
              "      <td>UNIVERSIDAD NACIONAL DE PIURA</td>\n",
              "      <td>20530182038_20172606777_202202</td>\n",
              "      <td>2894.79</td>\n",
              "      <td>3415.85</td>\n",
              "      <td>202201</td>\n",
              "      <td>202202</td>\n",
              "    </tr>\n",
              "    <tr>\n",
              "      <th>2</th>\n",
              "      <td>EXT-CE-2021-6</td>\n",
              "      <td>UNIVERSIDAD NACIONAL DE EDUCACION ENRIQUE GUZM...</td>\n",
              "      <td>20427497888_20174950971_202203</td>\n",
              "      <td>22640.80</td>\n",
              "      <td>26716.14</td>\n",
              "      <td>202201</td>\n",
              "      <td>202203</td>\n",
              "    </tr>\n",
              "    <tr>\n",
              "      <th>5</th>\n",
              "      <td>EXT-CE-2021-7</td>\n",
              "      <td>UNIVERSIDAD NACIONAL DE EDUCACION ENRIQUE GUZM...</td>\n",
              "      <td>20608085069_20174950971_202203</td>\n",
              "      <td>720.00</td>\n",
              "      <td>849.60</td>\n",
              "      <td>202201</td>\n",
              "      <td>202203</td>\n",
              "    </tr>\n",
              "    <tr>\n",
              "      <th>6</th>\n",
              "      <td>EXT-CE-2021-7</td>\n",
              "      <td>UNIVERSIDAD NACIONAL DE EDUCACION ENRIQUE GUZM...</td>\n",
              "      <td>20100049181_20174950971_202203</td>\n",
              "      <td>198.03</td>\n",
              "      <td>233.68</td>\n",
              "      <td>202201</td>\n",
              "      <td>202203</td>\n",
              "    </tr>\n",
              "    <tr>\n",
              "      <th>7</th>\n",
              "      <td>EXT-CE-2021-7</td>\n",
              "      <td>UNIVERSIDAD NACIONAL DE EDUCACION ENRIQUE GUZM...</td>\n",
              "      <td>20608085069_20174950971_202203</td>\n",
              "      <td>670.00</td>\n",
              "      <td>790.60</td>\n",
              "      <td>202201</td>\n",
              "      <td>202203</td>\n",
              "    </tr>\n",
              "    <tr>\n",
              "      <th>...</th>\n",
              "      <td>...</td>\n",
              "      <td>...</td>\n",
              "      <td>...</td>\n",
              "      <td>...</td>\n",
              "      <td>...</td>\n",
              "      <td>...</td>\n",
              "      <td>...</td>\n",
              "    </tr>\n",
              "    <tr>\n",
              "      <th>12242</th>\n",
              "      <td>EXT-CE-2021-7</td>\n",
              "      <td>MINISTERIO PUBLICO - GERENCIA ADMINISTRATIVA D...</td>\n",
              "      <td>20600007310_20539961919_202305</td>\n",
              "      <td>907.20</td>\n",
              "      <td>1070.50</td>\n",
              "      <td>202305</td>\n",
              "      <td>202305</td>\n",
              "    </tr>\n",
              "    <tr>\n",
              "      <th>12243</th>\n",
              "      <td>EXT-CE-2021-7</td>\n",
              "      <td>GOBIERNO REGIONAL SAN MARTIN</td>\n",
              "      <td>10008334477_20531375808_202306</td>\n",
              "      <td>9660.00</td>\n",
              "      <td>9660.00</td>\n",
              "      <td>202305</td>\n",
              "      <td>202306</td>\n",
              "    </tr>\n",
              "    <tr>\n",
              "      <th>12244</th>\n",
              "      <td>EXT-CE-2021-7</td>\n",
              "      <td>UNIDAD DE GESTION EDUCATIVA LOCAL CHURCAMPA</td>\n",
              "      <td>20603281706_20600937422_202305</td>\n",
              "      <td>8313.00</td>\n",
              "      <td>9809.34</td>\n",
              "      <td>202305</td>\n",
              "      <td>202305</td>\n",
              "    </tr>\n",
              "    <tr>\n",
              "      <th>12245</th>\n",
              "      <td>EXT-CE-2021-7</td>\n",
              "      <td>UNIDAD EJECUTORA EDUCACION HUANCAYO</td>\n",
              "      <td>20568169094_20600657594_202305</td>\n",
              "      <td>3243.90</td>\n",
              "      <td>3827.80</td>\n",
              "      <td>202305</td>\n",
              "      <td>202305</td>\n",
              "    </tr>\n",
              "    <tr>\n",
              "      <th>12248</th>\n",
              "      <td>EXT-CE-2021-7</td>\n",
              "      <td>UNIDAD EJECUTORA 406 RED DE SALUD HUANCAVELICA</td>\n",
              "      <td>10430749736_20600985206_202305</td>\n",
              "      <td>3165.00</td>\n",
              "      <td>3734.70</td>\n",
              "      <td>202305</td>\n",
              "      <td>202305</td>\n",
              "    </tr>\n",
              "  </tbody>\n",
              "</table>\n",
              "<p>37471 rows × 7 columns</p>\n",
              "</div>\n",
              "      <button class=\"colab-df-convert\" onclick=\"convertToInteractive('df-24056157-65c4-4fc2-bee0-e6525b578d84')\"\n",
              "              title=\"Convert this dataframe to an interactive table.\"\n",
              "              style=\"display:none;\">\n",
              "\n",
              "  <svg xmlns=\"http://www.w3.org/2000/svg\" height=\"24px\"viewBox=\"0 0 24 24\"\n",
              "       width=\"24px\">\n",
              "    <path d=\"M0 0h24v24H0V0z\" fill=\"none\"/>\n",
              "    <path d=\"M18.56 5.44l.94 2.06.94-2.06 2.06-.94-2.06-.94-.94-2.06-.94 2.06-2.06.94zm-11 1L8.5 8.5l.94-2.06 2.06-.94-2.06-.94L8.5 2.5l-.94 2.06-2.06.94zm10 10l.94 2.06.94-2.06 2.06-.94-2.06-.94-.94-2.06-.94 2.06-2.06.94z\"/><path d=\"M17.41 7.96l-1.37-1.37c-.4-.4-.92-.59-1.43-.59-.52 0-1.04.2-1.43.59L10.3 9.45l-7.72 7.72c-.78.78-.78 2.05 0 2.83L4 21.41c.39.39.9.59 1.41.59.51 0 1.02-.2 1.41-.59l7.78-7.78 2.81-2.81c.8-.78.8-2.07 0-2.86zM5.41 20L4 18.59l7.72-7.72 1.47 1.35L5.41 20z\"/>\n",
              "  </svg>\n",
              "      </button>\n",
              "\n",
              "\n",
              "\n",
              "    <div id=\"df-f714d4d2-6904-4535-a1bb-397e33377ed7\">\n",
              "      <button class=\"colab-df-quickchart\" onclick=\"quickchart('df-f714d4d2-6904-4535-a1bb-397e33377ed7')\"\n",
              "              title=\"Suggest charts.\"\n",
              "              style=\"display:none;\">\n",
              "\n",
              "<svg xmlns=\"http://www.w3.org/2000/svg\" height=\"24px\"viewBox=\"0 0 24 24\"\n",
              "     width=\"24px\">\n",
              "    <g>\n",
              "        <path d=\"M19 3H5c-1.1 0-2 .9-2 2v14c0 1.1.9 2 2 2h14c1.1 0 2-.9 2-2V5c0-1.1-.9-2-2-2zM9 17H7v-7h2v7zm4 0h-2V7h2v10zm4 0h-2v-4h2v4z\"/>\n",
              "    </g>\n",
              "</svg>\n",
              "      </button>\n",
              "    </div>\n",
              "\n",
              "<style>\n",
              "  .colab-df-quickchart {\n",
              "    background-color: #E8F0FE;\n",
              "    border: none;\n",
              "    border-radius: 50%;\n",
              "    cursor: pointer;\n",
              "    display: none;\n",
              "    fill: #1967D2;\n",
              "    height: 32px;\n",
              "    padding: 0 0 0 0;\n",
              "    width: 32px;\n",
              "  }\n",
              "\n",
              "  .colab-df-quickchart:hover {\n",
              "    background-color: #E2EBFA;\n",
              "    box-shadow: 0px 1px 2px rgba(60, 64, 67, 0.3), 0px 1px 3px 1px rgba(60, 64, 67, 0.15);\n",
              "    fill: #174EA6;\n",
              "  }\n",
              "\n",
              "  [theme=dark] .colab-df-quickchart {\n",
              "    background-color: #3B4455;\n",
              "    fill: #D2E3FC;\n",
              "  }\n",
              "\n",
              "  [theme=dark] .colab-df-quickchart:hover {\n",
              "    background-color: #434B5C;\n",
              "    box-shadow: 0px 1px 3px 1px rgba(0, 0, 0, 0.15);\n",
              "    filter: drop-shadow(0px 1px 2px rgba(0, 0, 0, 0.3));\n",
              "    fill: #FFFFFF;\n",
              "  }\n",
              "</style>\n",
              "\n",
              "    <script>\n",
              "      async function quickchart(key) {\n",
              "        const containerElement = document.querySelector('#' + key);\n",
              "        const charts = await google.colab.kernel.invokeFunction(\n",
              "            'suggestCharts', [key], {});\n",
              "      }\n",
              "    </script>\n",
              "\n",
              "      <script>\n",
              "\n",
              "function displayQuickchartButton(domScope) {\n",
              "  let quickchartButtonEl =\n",
              "    domScope.querySelector('#df-f714d4d2-6904-4535-a1bb-397e33377ed7 button.colab-df-quickchart');\n",
              "  quickchartButtonEl.style.display =\n",
              "    google.colab.kernel.accessAllowed ? 'block' : 'none';\n",
              "}\n",
              "\n",
              "        displayQuickchartButton(document);\n",
              "      </script>\n",
              "      <style>\n",
              "    .colab-df-container {\n",
              "      display:flex;\n",
              "      flex-wrap:wrap;\n",
              "      gap: 12px;\n",
              "    }\n",
              "\n",
              "    .colab-df-convert {\n",
              "      background-color: #E8F0FE;\n",
              "      border: none;\n",
              "      border-radius: 50%;\n",
              "      cursor: pointer;\n",
              "      display: none;\n",
              "      fill: #1967D2;\n",
              "      height: 32px;\n",
              "      padding: 0 0 0 0;\n",
              "      width: 32px;\n",
              "    }\n",
              "\n",
              "    .colab-df-convert:hover {\n",
              "      background-color: #E2EBFA;\n",
              "      box-shadow: 0px 1px 2px rgba(60, 64, 67, 0.3), 0px 1px 3px 1px rgba(60, 64, 67, 0.15);\n",
              "      fill: #174EA6;\n",
              "    }\n",
              "\n",
              "    [theme=dark] .colab-df-convert {\n",
              "      background-color: #3B4455;\n",
              "      fill: #D2E3FC;\n",
              "    }\n",
              "\n",
              "    [theme=dark] .colab-df-convert:hover {\n",
              "      background-color: #434B5C;\n",
              "      box-shadow: 0px 1px 3px 1px rgba(0, 0, 0, 0.15);\n",
              "      filter: drop-shadow(0px 1px 2px rgba(0, 0, 0, 0.3));\n",
              "      fill: #FFFFFF;\n",
              "    }\n",
              "  </style>\n",
              "\n",
              "      <script>\n",
              "        const buttonEl =\n",
              "          document.querySelector('#df-24056157-65c4-4fc2-bee0-e6525b578d84 button.colab-df-convert');\n",
              "        buttonEl.style.display =\n",
              "          google.colab.kernel.accessAllowed ? 'block' : 'none';\n",
              "\n",
              "        async function convertToInteractive(key) {\n",
              "          const element = document.querySelector('#df-24056157-65c4-4fc2-bee0-e6525b578d84');\n",
              "          const dataTable =\n",
              "            await google.colab.kernel.invokeFunction('convertToInteractive',\n",
              "                                                     [key], {});\n",
              "          if (!dataTable) return;\n",
              "\n",
              "          const docLinkHtml = 'Like what you see? Visit the ' +\n",
              "            '<a target=\"_blank\" href=https://colab.research.google.com/notebooks/data_table.ipynb>data table notebook</a>'\n",
              "            + ' to learn more about interactive tables.';\n",
              "          element.innerHTML = '';\n",
              "          dataTable['output_type'] = 'display_data';\n",
              "          await google.colab.output.renderOutput(dataTable, element);\n",
              "          const docLink = document.createElement('div');\n",
              "          docLink.innerHTML = docLinkHtml;\n",
              "          element.appendChild(docLink);\n",
              "        }\n",
              "      </script>\n",
              "    </div>\n",
              "  </div>\n"
            ]
          },
          "metadata": {},
          "execution_count": 197
        }
      ]
    },
    {
      "cell_type": "markdown",
      "source": [
        "## **g8. Analisis de los catalogos mas vendidos - Tamaño del Archivo**"
      ],
      "metadata": {
        "id": "IWAZTCCx_OPk"
      }
    },
    {
      "cell_type": "code",
      "source": [
        "## **g8. Analisis de los catalogos mas vendidos - Tamaño del Archivo**\n",
        "df_Ventas_mayores_suma.shape"
      ],
      "metadata": {
        "colab": {
          "base_uri": "https://localhost:8080/"
        },
        "id": "Mp2a-f-k9E9J",
        "outputId": "8f220b3e-4d62-486b-ae3f-909250b0bbae"
      },
      "execution_count": null,
      "outputs": [
        {
          "output_type": "execute_result",
          "data": {
            "text/plain": [
              "(37471, 7)"
            ]
          },
          "metadata": {},
          "execution_count": 198
        }
      ]
    },
    {
      "cell_type": "code",
      "source": [
        "\n",
        "df_Ventas_mayores_suma.groupby(['PERIOD_FECHA_ÚLTIMO_ESTADO','CODIGO_ACUERDO_MARCO'])['SUB_TOTAL'].sum().unstack(1).plot(kind = 'bar',  figsize = (10,8))\n",
        "plt.title('Suma de Monto Sub Total por periodo', fontsize = 12)\n",
        "plt.show()"
      ],
      "metadata": {
        "colab": {
          "base_uri": "https://localhost:8080/",
          "height": 760
        },
        "id": "hE95JO2b9FA3",
        "outputId": "6b6d85f8-e8d3-4d96-c9d1-0eff2f032a58"
      },
      "execution_count": null,
      "outputs": [
        {
          "output_type": "display_data",
          "data": {
            "text/plain": [
              "<Figure size 1000x800 with 1 Axes>"
            ],
            "image/png": "[encoded data removed]"
          },
          "metadata": {}
        }
      ]
    },
    {
      "cell_type": "markdown",
      "source": [
        "## **g9. Analisis de los catalogos mas vendidos - Variables en estudio**"
      ],
      "metadata": {
        "id": "4_dsycKJ_gZ0"
      }
    },
    {
      "cell_type": "code",
      "source": [
        "## **g9. Analisis de los catalogos mas vendidos - Variables en estudio**\n",
        "df_Perú_compras2.columns"
      ],
      "metadata": {
        "colab": {
          "base_uri": "https://localhost:8080/"
        },
        "id": "rk9FhRwr8IY4",
        "outputId": "a64ec20f-a010-452c-d8d6-3691fe3f035a"
      },
      "execution_count": null,
      "outputs": [
        {
          "output_type": "execute_result",
          "data": {
            "text/plain": [
              "Index(['FECHA_PROCESO', 'RUC_PROVEEDOR', 'PROVEEDOR', 'RUC_ENTIDAD', 'ENTIDAD',\n",
              "       'TIPO_PROCEDIMIENTO', 'ORDEN_ELECTRÓNICA', 'ORDEN_ELECTRÓNICA_GENERADA',\n",
              "       'ESTADO_ORDEN_ELECTRÓNICA', 'DOCUMENTO_ESTADO_OCAM',\n",
              "       'FECHA_FORMALIZACIÓN', 'FECHA_ÚLTIMO_ESTADO', 'SUB_TOTAL', 'IGV',\n",
              "       'TOTAL', 'ORDEN_DIGITALIZADA', 'DESCRIPCIÓN_ESTADO',\n",
              "       'DESCRIPCIÓN_CESIÓN_DERECHOS', 'ACUERDO_MARCO', 'ARCHIVO', 'PERIODO',\n",
              "       'PERIOD_FECHA_ÚLTIMO_ESTADO', 'RUC_MES', 'CODIGO_ACUERDO_MARCO'],\n",
              "      dtype='object')"
            ]
          },
          "metadata": {},
          "execution_count": 200
        }
      ]
    },
    {
      "cell_type": "markdown",
      "source": [
        "# **h. Medidas descriptivas**"
      ],
      "metadata": {
        "id": "1L5GqjD3_jpr"
      }
    },
    {
      "cell_type": "markdown",
      "source": [
        "## **h1. Escojamos el mas vendido**"
      ],
      "metadata": {
        "id": "AvQiCEfwAj8J"
      }
    },
    {
      "cell_type": "code",
      "source": [
        "## **h1. Escojamos el cataogo mas vendido en un mes especifico**\n",
        "df_Ventas_mayores_suma2 = df_Ventas_mayores_suma.query('PERIOD_FECHA_ÚLTIMO_ESTADO == \"202204\"')\n",
        "df_Ventas_mayores_suma2"
      ],
      "metadata": {
        "colab": {
          "base_uri": "https://localhost:8080/",
          "height": 424
        },
        "id": "gSrcV9YG_3md",
        "outputId": "752ba0ee-5e61-4e29-abaf-0180f864f596"
      },
      "execution_count": null,
      "outputs": [
        {
          "output_type": "execute_result",
          "data": {
            "text/plain": [
              "      CODIGO_ACUERDO_MARCO                                            ENTIDAD  \\\n",
              "18           EXT-CE-2021-7  GOBIERNO REGIONAL DE HUANUCO-EDUCACION DOS DE ...   \n",
              "19           EXT-CE-2021-7  GOBIERNO REGIONAL DE HUANUCO-EDUCACION DOS DE ...   \n",
              "39           EXT-CE-2021-6                MUNICIPALIDAD DISTRITAL DE PISACOMA   \n",
              "242          EXT-CE-2021-6                MUNICIPALIDAD PROVINCIAL DE REQUENA   \n",
              "326          EXT-CE-2021-7               MUNICIPALIDAD DISTRITAL DE COMBAPATA   \n",
              "...                    ...                                                ...   \n",
              "16691        EXT-CE-2021-6       MUNICIPALIDAD DISTRITAL DE CHILCA - HUANCAYO   \n",
              "16695        EXT-CE-2021-6          MUNICIPALIDAD DISTRITAL DE MARIANO MELGAR   \n",
              "16701        EXT-CE-2021-7            GOBIERNO REGIONAL DE MOQUEGUA-EDUCACION   \n",
              "16722        EXT-CE-2021-7  GOBIERNO REGIONAL DE LIMA - UNIDAD DE GESTION ...   \n",
              "16736        EXT-CE-2021-7  MUNICIPALIDAD DISTRITAL DE SAN JUAN BAUTISTA -...   \n",
              "\n",
              "                              RUC_MES  SUB_TOTAL     TOTAL PERIODO  \\\n",
              "18     20602991491_20489252784_202204    6974.00   8229.32  202201   \n",
              "19     20606231394_20489252784_202204    3992.59   4711.26  202201   \n",
              "39     20604564485_20188420509_202204    6737.01   7949.64  202201   \n",
              "242    20528169393_20165979967_202204   12294.57  14507.59  202201   \n",
              "326    10738781380_20216274459_202204     164.40    193.99  202201   \n",
              "...                               ...        ...       ...     ...   \n",
              "16691  10436493903_20133696661_202204     767.94    906.17  202203   \n",
              "16695  20516826887_20170422971_202204    1361.55   1606.63  202203   \n",
              "16701  20272690287_20166236950_202204    1800.00   2124.00  202203   \n",
              "16722  20600679091_20191551371_202204   13082.47  15437.31  202203   \n",
              "16736  20494692415_20143114911_202204     250.00    295.00  202203   \n",
              "\n",
              "      PERIOD_FECHA_ÚLTIMO_ESTADO  \n",
              "18                        202204  \n",
              "19                        202204  \n",
              "39                        202204  \n",
              "242                       202204  \n",
              "326                       202204  \n",
              "...                          ...  \n",
              "16691                     202204  \n",
              "16695                     202204  \n",
              "16701                     202204  \n",
              "16722                     202204  \n",
              "16736                     202204  \n",
              "\n",
              "[7121 rows x 7 columns]"
            ],
            "text/html": [
              "\n",
              "\n",
              "  <div id=\"df-0bd5a210-7a06-44a4-b6da-68c4f4ba3500\">\n",
              "    <div class=\"colab-df-container\">\n",
              "      <div>\n",
              "<style scoped>\n",
              "    .dataframe tbody tr th:only-of-type {\n",
              "        vertical-align: middle;\n",
              "    }\n",
              "\n",
              "    .dataframe tbody tr th {\n",
              "        vertical-align: top;\n",
              "    }\n",
              "\n",
              "    .dataframe thead th {\n",
              "        text-align: right;\n",
              "    }\n",
              "</style>\n",
              "<table border=\"1\" class=\"dataframe\">\n",
              "  <thead>\n",
              "    <tr style=\"text-align: right;\">\n",
              "      <th></th>\n",
              "      <th>CODIGO_ACUERDO_MARCO</th>\n",
              "      <th>ENTIDAD</th>\n",
              "      <th>RUC_MES</th>\n",
              "      <th>SUB_TOTAL</th>\n",
              "      <th>TOTAL</th>\n",
              "      <th>PERIODO</th>\n",
              "      <th>PERIOD_FECHA_ÚLTIMO_ESTADO</th>\n",
              "    </tr>\n",
              "  </thead>\n",
              "  <tbody>\n",
              "    <tr>\n",
              "      <th>18</th>\n",
              "      <td>EXT-CE-2021-7</td>\n",
              "      <td>GOBIERNO REGIONAL DE HUANUCO-EDUCACION DOS DE ...</td>\n",
              "      <td>20602991491_20489252784_202204</td>\n",
              "      <td>6974.00</td>\n",
              "      <td>8229.32</td>\n",
              "      <td>202201</td>\n",
              "      <td>202204</td>\n",
              "    </tr>\n",
              "    <tr>\n",
              "      <th>19</th>\n",
              "      <td>EXT-CE-2021-7</td>\n",
              "      <td>GOBIERNO REGIONAL DE HUANUCO-EDUCACION DOS DE ...</td>\n",
              "      <td>20606231394_20489252784_202204</td>\n",
              "      <td>3992.59</td>\n",
              "      <td>4711.26</td>\n",
              "      <td>202201</td>\n",
              "      <td>202204</td>\n",
              "    </tr>\n",
              "    <tr>\n",
              "      <th>39</th>\n",
              "      <td>EXT-CE-2021-6</td>\n",
              "      <td>MUNICIPALIDAD DISTRITAL DE PISACOMA</td>\n",
              "      <td>20604564485_20188420509_202204</td>\n",
              "      <td>6737.01</td>\n",
              "      <td>7949.64</td>\n",
              "      <td>202201</td>\n",
              "      <td>202204</td>\n",
              "    </tr>\n",
              "    <tr>\n",
              "      <th>242</th>\n",
              "      <td>EXT-CE-2021-6</td>\n",
              "      <td>MUNICIPALIDAD PROVINCIAL DE REQUENA</td>\n",
              "      <td>20528169393_20165979967_202204</td>\n",
              "      <td>12294.57</td>\n",
              "      <td>14507.59</td>\n",
              "      <td>202201</td>\n",
              "      <td>202204</td>\n",
              "    </tr>\n",
              "    <tr>\n",
              "      <th>326</th>\n",
              "      <td>EXT-CE-2021-7</td>\n",
              "      <td>MUNICIPALIDAD DISTRITAL DE COMBAPATA</td>\n",
              "      <td>10738781380_20216274459_202204</td>\n",
              "      <td>164.40</td>\n",
              "      <td>193.99</td>\n",
              "      <td>202201</td>\n",
              "      <td>202204</td>\n",
              "    </tr>\n",
              "    <tr>\n",
              "      <th>...</th>\n",
              "      <td>...</td>\n",
              "      <td>...</td>\n",
              "      <td>...</td>\n",
              "      <td>...</td>\n",
              "      <td>...</td>\n",
              "      <td>...</td>\n",
              "      <td>...</td>\n",
              "    </tr>\n",
              "    <tr>\n",
              "      <th>16691</th>\n",
              "      <td>EXT-CE-2021-6</td>\n",
              "      <td>MUNICIPALIDAD DISTRITAL DE CHILCA - HUANCAYO</td>\n",
              "      <td>10436493903_20133696661_202204</td>\n",
              "      <td>767.94</td>\n",
              "      <td>906.17</td>\n",
              "      <td>202203</td>\n",
              "      <td>202204</td>\n",
              "    </tr>\n",
              "    <tr>\n",
              "      <th>16695</th>\n",
              "      <td>EXT-CE-2021-6</td>\n",
              "      <td>MUNICIPALIDAD DISTRITAL DE MARIANO MELGAR</td>\n",
              "      <td>20516826887_20170422971_202204</td>\n",
              "      <td>1361.55</td>\n",
              "      <td>1606.63</td>\n",
              "      <td>202203</td>\n",
              "      <td>202204</td>\n",
              "    </tr>\n",
              "    <tr>\n",
              "      <th>16701</th>\n",
              "      <td>EXT-CE-2021-7</td>\n",
              "      <td>GOBIERNO REGIONAL DE MOQUEGUA-EDUCACION</td>\n",
              "      <td>20272690287_20166236950_202204</td>\n",
              "      <td>1800.00</td>\n",
              "      <td>2124.00</td>\n",
              "      <td>202203</td>\n",
              "      <td>202204</td>\n",
              "    </tr>\n",
              "    <tr>\n",
              "      <th>16722</th>\n",
              "      <td>EXT-CE-2021-7</td>\n",
              "      <td>GOBIERNO REGIONAL DE LIMA - UNIDAD DE GESTION ...</td>\n",
              "      <td>20600679091_20191551371_202204</td>\n",
              "      <td>13082.47</td>\n",
              "      <td>15437.31</td>\n",
              "      <td>202203</td>\n",
              "      <td>202204</td>\n",
              "    </tr>\n",
              "    <tr>\n",
              "      <th>16736</th>\n",
              "      <td>EXT-CE-2021-7</td>\n",
              "      <td>MUNICIPALIDAD DISTRITAL DE SAN JUAN BAUTISTA -...</td>\n",
              "      <td>20494692415_20143114911_202204</td>\n",
              "      <td>250.00</td>\n",
              "      <td>295.00</td>\n",
              "      <td>202203</td>\n",
              "      <td>202204</td>\n",
              "    </tr>\n",
              "  </tbody>\n",
              "</table>\n",
              "<p>7121 rows × 7 columns</p>\n",
              "</div>\n",
              "      <button class=\"colab-df-convert\" onclick=\"convertToInteractive('df-0bd5a210-7a06-44a4-b6da-68c4f4ba3500')\"\n",
              "              title=\"Convert this dataframe to an interactive table.\"\n",
              "              style=\"display:none;\">\n",
              "\n",
              "  <svg xmlns=\"http://www.w3.org/2000/svg\" height=\"24px\"viewBox=\"0 0 24 24\"\n",
              "       width=\"24px\">\n",
              "    <path d=\"M0 0h24v24H0V0z\" fill=\"none\"/>\n",
              "    <path d=\"M18.56 5.44l.94 2.06.94-2.06 2.06-.94-2.06-.94-.94-2.06-.94 2.06-2.06.94zm-11 1L8.5 8.5l.94-2.06 2.06-.94-2.06-.94L8.5 2.5l-.94 2.06-2.06.94zm10 10l.94 2.06.94-2.06 2.06-.94-2.06-.94-.94-2.06-.94 2.06-2.06.94z\"/><path d=\"M17.41 7.96l-1.37-1.37c-.4-.4-.92-.59-1.43-.59-.52 0-1.04.2-1.43.59L10.3 9.45l-7.72 7.72c-.78.78-.78 2.05 0 2.83L4 21.41c.39.39.9.59 1.41.59.51 0 1.02-.2 1.41-.59l7.78-7.78 2.81-2.81c.8-.78.8-2.07 0-2.86zM5.41 20L4 18.59l7.72-7.72 1.47 1.35L5.41 20z\"/>\n",
              "  </svg>\n",
              "      </button>\n",
              "\n",
              "\n",
              "\n",
              "    <div id=\"df-5d0edab9-a5d4-42e2-86b7-cdf2ef92ebcd\">\n",
              "      <button class=\"colab-df-quickchart\" onclick=\"quickchart('df-5d0edab9-a5d4-42e2-86b7-cdf2ef92ebcd')\"\n",
              "              title=\"Suggest charts.\"\n",
              "              style=\"display:none;\">\n",
              "\n",
              "<svg xmlns=\"http://www.w3.org/2000/svg\" height=\"24px\"viewBox=\"0 0 24 24\"\n",
              "     width=\"24px\">\n",
              "    <g>\n",
              "        <path d=\"M19 3H5c-1.1 0-2 .9-2 2v14c0 1.1.9 2 2 2h14c1.1 0 2-.9 2-2V5c0-1.1-.9-2-2-2zM9 17H7v-7h2v7zm4 0h-2V7h2v10zm4 0h-2v-4h2v4z\"/>\n",
              "    </g>\n",
              "</svg>\n",
              "      </button>\n",
              "    </div>\n",
              "\n",
              "<style>\n",
              "  .colab-df-quickchart {\n",
              "    background-color: #E8F0FE;\n",
              "    border: none;\n",
              "    border-radius: 50%;\n",
              "    cursor: pointer;\n",
              "    display: none;\n",
              "    fill: #1967D2;\n",
              "    height: 32px;\n",
              "    padding: 0 0 0 0;\n",
              "    width: 32px;\n",
              "  }\n",
              "\n",
              "  .colab-df-quickchart:hover {\n",
              "    background-color: #E2EBFA;\n",
              "    box-shadow: 0px 1px 2px rgba(60, 64, 67, 0.3), 0px 1px 3px 1px rgba(60, 64, 67, 0.15);\n",
              "    fill: #174EA6;\n",
              "  }\n",
              "\n",
              "  [theme=dark] .colab-df-quickchart {\n",
              "    background-color: #3B4455;\n",
              "    fill: #D2E3FC;\n",
              "  }\n",
              "\n",
              "  [theme=dark] .colab-df-quickchart:hover {\n",
              "    background-color: #434B5C;\n",
              "    box-shadow: 0px 1px 3px 1px rgba(0, 0, 0, 0.15);\n",
              "    filter: drop-shadow(0px 1px 2px rgba(0, 0, 0, 0.3));\n",
              "    fill: #FFFFFF;\n",
              "  }\n",
              "</style>\n",
              "\n",
              "    <script>\n",
              "      async function quickchart(key) {\n",
              "        const containerElement = document.querySelector('#' + key);\n",
              "        const charts = await google.colab.kernel.invokeFunction(\n",
              "            'suggestCharts', [key], {});\n",
              "      }\n",
              "    </script>\n",
              "\n",
              "      <script>\n",
              "\n",
              "function displayQuickchartButton(domScope) {\n",
              "  let quickchartButtonEl =\n",
              "    domScope.querySelector('#df-5d0edab9-a5d4-42e2-86b7-cdf2ef92ebcd button.colab-df-quickchart');\n",
              "  quickchartButtonEl.style.display =\n",
              "    google.colab.kernel.accessAllowed ? 'block' : 'none';\n",
              "}\n",
              "\n",
              "        displayQuickchartButton(document);\n",
              "      </script>\n",
              "      <style>\n",
              "    .colab-df-container {\n",
              "      display:flex;\n",
              "      flex-wrap:wrap;\n",
              "      gap: 12px;\n",
              "    }\n",
              "\n",
              "    .colab-df-convert {\n",
              "      background-color: #E8F0FE;\n",
              "      border: none;\n",
              "      border-radius: 50%;\n",
              "      cursor: pointer;\n",
              "      display: none;\n",
              "      fill: #1967D2;\n",
              "      height: 32px;\n",
              "      padding: 0 0 0 0;\n",
              "      width: 32px;\n",
              "    }\n",
              "\n",
              "    .colab-df-convert:hover {\n",
              "      background-color: #E2EBFA;\n",
              "      box-shadow: 0px 1px 2px rgba(60, 64, 67, 0.3), 0px 1px 3px 1px rgba(60, 64, 67, 0.15);\n",
              "      fill: #174EA6;\n",
              "    }\n",
              "\n",
              "    [theme=dark] .colab-df-convert {\n",
              "      background-color: #3B4455;\n",
              "      fill: #D2E3FC;\n",
              "    }\n",
              "\n",
              "    [theme=dark] .colab-df-convert:hover {\n",
              "      background-color: #434B5C;\n",
              "      box-shadow: 0px 1px 3px 1px rgba(0, 0, 0, 0.15);\n",
              "      filter: drop-shadow(0px 1px 2px rgba(0, 0, 0, 0.3));\n",
              "      fill: #FFFFFF;\n",
              "    }\n",
              "  </style>\n",
              "\n",
              "      <script>\n",
              "        const buttonEl =\n",
              "          document.querySelector('#df-0bd5a210-7a06-44a4-b6da-68c4f4ba3500 button.colab-df-convert');\n",
              "        buttonEl.style.display =\n",
              "          google.colab.kernel.accessAllowed ? 'block' : 'none';\n",
              "\n",
              "        async function convertToInteractive(key) {\n",
              "          const element = document.querySelector('#df-0bd5a210-7a06-44a4-b6da-68c4f4ba3500');\n",
              "          const dataTable =\n",
              "            await google.colab.kernel.invokeFunction('convertToInteractive',\n",
              "                                                     [key], {});\n",
              "          if (!dataTable) return;\n",
              "\n",
              "          const docLinkHtml = 'Like what you see? Visit the ' +\n",
              "            '<a target=\"_blank\" href=https://colab.research.google.com/notebooks/data_table.ipynb>data table notebook</a>'\n",
              "            + ' to learn more about interactive tables.';\n",
              "          element.innerHTML = '';\n",
              "          dataTable['output_type'] = 'display_data';\n",
              "          await google.colab.output.renderOutput(dataTable, element);\n",
              "          const docLink = document.createElement('div');\n",
              "          docLink.innerHTML = docLinkHtml;\n",
              "          element.appendChild(docLink);\n",
              "        }\n",
              "      </script>\n",
              "    </div>\n",
              "  </div>\n"
            ]
          },
          "metadata": {},
          "execution_count": 202
        }
      ]
    },
    {
      "cell_type": "markdown",
      "source": [
        "## **h2. Box- Plot para nuestra dos catalogos en Abril**\n",
        "+ Se requiere aplicar una transformación"
      ],
      "metadata": {
        "id": "01iEjWMwBfPk"
      }
    },
    {
      "cell_type": "code",
      "source": [
        "## **h2. Box- Plot para nuestra dos catalogos en Abril**\n",
        "sns.boxplot(x = 'CODIGO_ACUERDO_MARCO', y = 'SUB_TOTAL', data =df_Ventas_mayores_suma2 )"
      ],
      "metadata": {
        "colab": {
          "base_uri": "https://localhost:8080/",
          "height": 466
        },
        "id": "DsCe6EUM_3qW",
        "outputId": "2931e1eb-fe19-41d4-a41d-19aa8ae2c5f4"
      },
      "execution_count": null,
      "outputs": [
        {
          "output_type": "execute_result",
          "data": {
            "text/plain": [
              "<Axes: xlabel='CODIGO_ACUERDO_MARCO', ylabel='SUB_TOTAL'>"
            ]
          },
          "metadata": {},
          "execution_count": 52
        },
        {
          "output_type": "display_data",
          "data": {
            "text/plain": [
              "<Figure size 640x480 with 1 Axes>"
            ],
            "image/png": "[encoded data removed]"
          },
          "metadata": {}
        }
      ]
    },
    {
      "cell_type": "markdown",
      "source": [
        "## **h3. Agregamos la columna transformada a nuestra base nueva de datos**"
      ],
      "metadata": {
        "id": "C2-VuJfcCLMT"
      }
    },
    {
      "cell_type": "code",
      "source": [
        "## **h3. Agregamos la columna transformada a nuestra base nueva de datos**\n",
        "df_Ventas_mayores_suma2['LOG_TOTAL']=df_Ventas_mayores_suma2['SUB_TOTAL'].transform(np.log)"
      ],
      "metadata": {
        "colab": {
          "base_uri": "https://localhost:8080/"
        },
        "id": "CoUETWgW_3uf",
        "outputId": "5f2c92a2-db89-45d8-adfb-290288ed58d0"
      },
      "execution_count": null,
      "outputs": [
        {
          "output_type": "stream",
          "name": "stderr",
          "text": [
            "<ipython-input-53-b831a70b36bb>:2: SettingWithCopyWarning: \n",
            "A value is trying to be set on a copy of a slice from a DataFrame.\n",
            "Try using .loc[row_indexer,col_indexer] = value instead\n",
            "\n",
            "See the caveats in the documentation: https://pandas.pydata.org/pandas-docs/stable/user_guide/indexing.html#returning-a-view-versus-a-copy\n",
            "  df_Ventas_mayores_suma2['LOG_TOTAL']=df_Ventas_mayores_suma2['SUB_TOTAL'].transform(np.log)\n"
          ]
        }
      ]
    },
    {
      "cell_type": "markdown",
      "source": [
        "## **h4. Box- Plot para nuestra dos catalogos en Abril con la variable transformada**"
      ],
      "metadata": {
        "id": "NI8vQtdmCcGp"
      }
    },
    {
      "cell_type": "code",
      "source": [
        "## **h4. Box- Plot para nuestra dos catalogos en Abril con la variable transformada**\n",
        "sns.boxplot(x = 'CODIGO_ACUERDO_MARCO', y = 'LOG_TOTAL', data =df_Ventas_mayores_suma2 )\n",
        "plt.show()"
      ],
      "metadata": {
        "colab": {
          "base_uri": "https://localhost:8080/",
          "height": 449
        },
        "id": "SsuN5_IRB_sm",
        "outputId": "fef765ba-c76a-4c57-dbe2-1a4797e6fa06"
      },
      "execution_count": null,
      "outputs": [
        {
          "output_type": "display_data",
          "data": {
            "text/plain": [
              "<Figure size 640x480 with 1 Axes>"
            ],
            "image/png": "[encoded data removed]"
          },
          "metadata": {}
        }
      ]
    },
    {
      "cell_type": "markdown",
      "source": [
        "# **i. Tratamiento de valores atipicos**\n",
        "+ Método de Percentil - Mantenemos la simetría en ambos lados\n",
        "+ No es recomendable eliminar los atípicos.\n"
      ],
      "metadata": {
        "id": "DdwQf-WzDHUT"
      }
    },
    {
      "cell_type": "markdown",
      "source": [
        "## **i1. Usamos Winsorización - Hallamos el percentil 95**"
      ],
      "metadata": {
        "id": "GQ-KQqg0Ej63"
      }
    },
    {
      "cell_type": "code",
      "source": [
        "## **i1. Usamos Winsorización - Hallamos el percentil 95**\n",
        "df_Ventas_mayores_suma2.groupby('CODIGO_ACUERDO_MARCO').SUB_TOTAL.quantile([0.95])"
      ],
      "metadata": {
        "colab": {
          "base_uri": "https://localhost:8080/"
        },
        "id": "K6ic0Jdp_3yW",
        "outputId": "679b35e7-cee6-41d0-a83d-66f74949bc19"
      },
      "execution_count": null,
      "outputs": [
        {
          "output_type": "execute_result",
          "data": {
            "text/plain": [
              "CODIGO_ACUERDO_MARCO      \n",
              "EXT-CE-2021-6         0.95    20031.2140\n",
              "EXT-CE-2021-7         0.95    15874.1975\n",
              "Name: SUB_TOTAL, dtype: float64"
            ]
          },
          "metadata": {},
          "execution_count": 55
        }
      ]
    },
    {
      "cell_type": "markdown",
      "source": [
        "## **i2. Usamos Winsorización - Hallamos el percentil 5**"
      ],
      "metadata": {
        "id": "g2mQC9q6Em8P"
      }
    },
    {
      "cell_type": "code",
      "source": [
        "## **i2. Usamos Winsorización - Hallamos el percentil 5**\n",
        "df_Ventas_mayores_suma2.groupby('CODIGO_ACUERDO_MARCO').SUB_TOTAL.quantile([0.05])"
      ],
      "metadata": {
        "colab": {
          "base_uri": "https://localhost:8080/"
        },
        "id": "RaNQx68i_32M",
        "outputId": "560f1a54-6d09-4742-e9ed-4346cd4e0d82"
      },
      "execution_count": null,
      "outputs": [
        {
          "output_type": "execute_result",
          "data": {
            "text/plain": [
              "CODIGO_ACUERDO_MARCO      \n",
              "EXT-CE-2021-6         0.05    239.499\n",
              "EXT-CE-2021-7         0.05    112.395\n",
              "Name: SUB_TOTAL, dtype: float64"
            ]
          },
          "metadata": {},
          "execution_count": 150
        }
      ]
    },
    {
      "cell_type": "markdown",
      "source": [
        "## **i3. Medidads descriptivas**"
      ],
      "metadata": {
        "id": "g-vE1Hv4FHc7"
      }
    },
    {
      "cell_type": "code",
      "source": [
        "## **i3. Medidads descriptivas**\n",
        "df_Ventas_mayores_suma2.groupby('CODIGO_ACUERDO_MARCO').SUB_TOTAL.agg({'mean','median','sum','std','min','max','count'})"
      ],
      "metadata": {
        "colab": {
          "base_uri": "https://localhost:8080/",
          "height": 143
        },
        "id": "Tm_jsx3ZEU3Q",
        "outputId": "e0461692-8403-446f-b548-faa168cef2f3"
      },
      "execution_count": null,
      "outputs": [
        {
          "output_type": "execute_result",
          "data": {
            "text/plain": [
              "                        min   median         mean  count          sum  \\\n",
              "CODIGO_ACUERDO_MARCO                                                    \n",
              "EXT-CE-2021-6         25.03  1443.69  5113.795155   3327  17013596.48   \n",
              "EXT-CE-2021-7          3.31   743.20  4014.132746   3794  15229619.64   \n",
              "\n",
              "                               std       max  \n",
              "CODIGO_ACUERDO_MARCO                          \n",
              "EXT-CE-2021-6         17334.854056  652400.0  \n",
              "EXT-CE-2021-7         17133.029596  584656.0  "
            ],
            "text/html": [
              "\n",
              "\n",
              "  <div id=\"df-5cfc0938-d1c0-4ae3-ab59-2b6a4b91a674\">\n",
              "    <div class=\"colab-df-container\">\n",
              "      <div>\n",
              "<style scoped>\n",
              "    .dataframe tbody tr th:only-of-type {\n",
              "        vertical-align: middle;\n",
              "    }\n",
              "\n",
              "    .dataframe tbody tr th {\n",
              "        vertical-align: top;\n",
              "    }\n",
              "\n",
              "    .dataframe thead th {\n",
              "        text-align: right;\n",
              "    }\n",
              "</style>\n",
              "<table border=\"1\" class=\"dataframe\">\n",
              "  <thead>\n",
              "    <tr style=\"text-align: right;\">\n",
              "      <th></th>\n",
              "      <th>min</th>\n",
              "      <th>median</th>\n",
              "      <th>mean</th>\n",
              "      <th>count</th>\n",
              "      <th>sum</th>\n",
              "      <th>std</th>\n",
              "      <th>max</th>\n",
              "    </tr>\n",
              "    <tr>\n",
              "      <th>CODIGO_ACUERDO_MARCO</th>\n",
              "      <th></th>\n",
              "      <th></th>\n",
              "      <th></th>\n",
              "      <th></th>\n",
              "      <th></th>\n",
              "      <th></th>\n",
              "      <th></th>\n",
              "    </tr>\n",
              "  </thead>\n",
              "  <tbody>\n",
              "    <tr>\n",
              "      <th>EXT-CE-2021-6</th>\n",
              "      <td>25.03</td>\n",
              "      <td>1443.69</td>\n",
              "      <td>5113.795155</td>\n",
              "      <td>3327</td>\n",
              "      <td>17013596.48</td>\n",
              "      <td>17334.854056</td>\n",
              "      <td>652400.0</td>\n",
              "    </tr>\n",
              "    <tr>\n",
              "      <th>EXT-CE-2021-7</th>\n",
              "      <td>3.31</td>\n",
              "      <td>743.20</td>\n",
              "      <td>4014.132746</td>\n",
              "      <td>3794</td>\n",
              "      <td>15229619.64</td>\n",
              "      <td>17133.029596</td>\n",
              "      <td>584656.0</td>\n",
              "    </tr>\n",
              "  </tbody>\n",
              "</table>\n",
              "</div>\n",
              "      <button class=\"colab-df-convert\" onclick=\"convertToInteractive('df-5cfc0938-d1c0-4ae3-ab59-2b6a4b91a674')\"\n",
              "              title=\"Convert this dataframe to an interactive table.\"\n",
              "              style=\"display:none;\">\n",
              "\n",
              "  <svg xmlns=\"http://www.w3.org/2000/svg\" height=\"24px\"viewBox=\"0 0 24 24\"\n",
              "       width=\"24px\">\n",
              "    <path d=\"M0 0h24v24H0V0z\" fill=\"none\"/>\n",
              "    <path d=\"M18.56 5.44l.94 2.06.94-2.06 2.06-.94-2.06-.94-.94-2.06-.94 2.06-2.06.94zm-11 1L8.5 8.5l.94-2.06 2.06-.94-2.06-.94L8.5 2.5l-.94 2.06-2.06.94zm10 10l.94 2.06.94-2.06 2.06-.94-2.06-.94-.94-2.06-.94 2.06-2.06.94z\"/><path d=\"M17.41 7.96l-1.37-1.37c-.4-.4-.92-.59-1.43-.59-.52 0-1.04.2-1.43.59L10.3 9.45l-7.72 7.72c-.78.78-.78 2.05 0 2.83L4 21.41c.39.39.9.59 1.41.59.51 0 1.02-.2 1.41-.59l7.78-7.78 2.81-2.81c.8-.78.8-2.07 0-2.86zM5.41 20L4 18.59l7.72-7.72 1.47 1.35L5.41 20z\"/>\n",
              "  </svg>\n",
              "      </button>\n",
              "\n",
              "\n",
              "\n",
              "    <div id=\"df-14f2544e-bdc9-4529-92e7-1666406d7db2\">\n",
              "      <button class=\"colab-df-quickchart\" onclick=\"quickchart('df-14f2544e-bdc9-4529-92e7-1666406d7db2')\"\n",
              "              title=\"Suggest charts.\"\n",
              "              style=\"display:none;\">\n",
              "\n",
              "<svg xmlns=\"http://www.w3.org/2000/svg\" height=\"24px\"viewBox=\"0 0 24 24\"\n",
              "     width=\"24px\">\n",
              "    <g>\n",
              "        <path d=\"M19 3H5c-1.1 0-2 .9-2 2v14c0 1.1.9 2 2 2h14c1.1 0 2-.9 2-2V5c0-1.1-.9-2-2-2zM9 17H7v-7h2v7zm4 0h-2V7h2v10zm4 0h-2v-4h2v4z\"/>\n",
              "    </g>\n",
              "</svg>\n",
              "      </button>\n",
              "    </div>\n",
              "\n",
              "<style>\n",
              "  .colab-df-quickchart {\n",
              "    background-color: #E8F0FE;\n",
              "    border: none;\n",
              "    border-radius: 50%;\n",
              "    cursor: pointer;\n",
              "    display: none;\n",
              "    fill: #1967D2;\n",
              "    height: 32px;\n",
              "    padding: 0 0 0 0;\n",
              "    width: 32px;\n",
              "  }\n",
              "\n",
              "  .colab-df-quickchart:hover {\n",
              "    background-color: #E2EBFA;\n",
              "    box-shadow: 0px 1px 2px rgba(60, 64, 67, 0.3), 0px 1px 3px 1px rgba(60, 64, 67, 0.15);\n",
              "    fill: #174EA6;\n",
              "  }\n",
              "\n",
              "  [theme=dark] .colab-df-quickchart {\n",
              "    background-color: #3B4455;\n",
              "    fill: #D2E3FC;\n",
              "  }\n",
              "\n",
              "  [theme=dark] .colab-df-quickchart:hover {\n",
              "    background-color: #434B5C;\n",
              "    box-shadow: 0px 1px 3px 1px rgba(0, 0, 0, 0.15);\n",
              "    filter: drop-shadow(0px 1px 2px rgba(0, 0, 0, 0.3));\n",
              "    fill: #FFFFFF;\n",
              "  }\n",
              "</style>\n",
              "\n",
              "    <script>\n",
              "      async function quickchart(key) {\n",
              "        const containerElement = document.querySelector('#' + key);\n",
              "        const charts = await google.colab.kernel.invokeFunction(\n",
              "            'suggestCharts', [key], {});\n",
              "      }\n",
              "    </script>\n",
              "\n",
              "      <script>\n",
              "\n",
              "function displayQuickchartButton(domScope) {\n",
              "  let quickchartButtonEl =\n",
              "    domScope.querySelector('#df-14f2544e-bdc9-4529-92e7-1666406d7db2 button.colab-df-quickchart');\n",
              "  quickchartButtonEl.style.display =\n",
              "    google.colab.kernel.accessAllowed ? 'block' : 'none';\n",
              "}\n",
              "\n",
              "        displayQuickchartButton(document);\n",
              "      </script>\n",
              "      <style>\n",
              "    .colab-df-container {\n",
              "      display:flex;\n",
              "      flex-wrap:wrap;\n",
              "      gap: 12px;\n",
              "    }\n",
              "\n",
              "    .colab-df-convert {\n",
              "      background-color: #E8F0FE;\n",
              "      border: none;\n",
              "      border-radius: 50%;\n",
              "      cursor: pointer;\n",
              "      display: none;\n",
              "      fill: #1967D2;\n",
              "      height: 32px;\n",
              "      padding: 0 0 0 0;\n",
              "      width: 32px;\n",
              "    }\n",
              "\n",
              "    .colab-df-convert:hover {\n",
              "      background-color: #E2EBFA;\n",
              "      box-shadow: 0px 1px 2px rgba(60, 64, 67, 0.3), 0px 1px 3px 1px rgba(60, 64, 67, 0.15);\n",
              "      fill: #174EA6;\n",
              "    }\n",
              "\n",
              "    [theme=dark] .colab-df-convert {\n",
              "      background-color: #3B4455;\n",
              "      fill: #D2E3FC;\n",
              "    }\n",
              "\n",
              "    [theme=dark] .colab-df-convert:hover {\n",
              "      background-color: #434B5C;\n",
              "      box-shadow: 0px 1px 3px 1px rgba(0, 0, 0, 0.15);\n",
              "      filter: drop-shadow(0px 1px 2px rgba(0, 0, 0, 0.3));\n",
              "      fill: #FFFFFF;\n",
              "    }\n",
              "  </style>\n",
              "\n",
              "      <script>\n",
              "        const buttonEl =\n",
              "          document.querySelector('#df-5cfc0938-d1c0-4ae3-ab59-2b6a4b91a674 button.colab-df-convert');\n",
              "        buttonEl.style.display =\n",
              "          google.colab.kernel.accessAllowed ? 'block' : 'none';\n",
              "\n",
              "        async function convertToInteractive(key) {\n",
              "          const element = document.querySelector('#df-5cfc0938-d1c0-4ae3-ab59-2b6a4b91a674');\n",
              "          const dataTable =\n",
              "            await google.colab.kernel.invokeFunction('convertToInteractive',\n",
              "                                                     [key], {});\n",
              "          if (!dataTable) return;\n",
              "\n",
              "          const docLinkHtml = 'Like what you see? Visit the ' +\n",
              "            '<a target=\"_blank\" href=https://colab.research.google.com/notebooks/data_table.ipynb>data table notebook</a>'\n",
              "            + ' to learn more about interactive tables.';\n",
              "          element.innerHTML = '';\n",
              "          dataTable['output_type'] = 'display_data';\n",
              "          await google.colab.output.renderOutput(dataTable, element);\n",
              "          const docLink = document.createElement('div');\n",
              "          docLink.innerHTML = docLinkHtml;\n",
              "          element.appendChild(docLink);\n",
              "        }\n",
              "      </script>\n",
              "    </div>\n",
              "  </div>\n"
            ]
          },
          "metadata": {},
          "execution_count": 57
        }
      ]
    },
    {
      "cell_type": "markdown",
      "source": [
        "## **i4. Realizamos una copia de nuestro DataFrame**"
      ],
      "metadata": {
        "id": "o-bNlD-SFsOr"
      }
    },
    {
      "cell_type": "code",
      "source": [
        "## **i4. Realizamos una copia de nuestro DataFrame**\n",
        "df_Ventas_mayores_suma3 = df_Ventas_mayores_suma2.copy()"
      ],
      "metadata": {
        "id": "IwSFKRGwEU7A"
      },
      "execution_count": null,
      "outputs": []
    },
    {
      "cell_type": "markdown",
      "source": [
        "## **i5. Construimos dos diccionarios para cada cuantil**"
      ],
      "metadata": {
        "id": "4aqzoB3DGkP2"
      }
    },
    {
      "cell_type": "code",
      "source": [
        "## **i5. Construimos dos diccionarios para cada cuantil**\n",
        "dic_quantil95 = df_Ventas_mayores_suma3.groupby('CODIGO_ACUERDO_MARCO').SUB_TOTAL.quantile([0.95]).to_dict()\n",
        "dic_quantil05 = df_Ventas_mayores_suma3.groupby('CODIGO_ACUERDO_MARCO').SUB_TOTAL.quantile([0.05]).to_dict()"
      ],
      "metadata": {
        "id": "W8dRusRlEU-p"
      },
      "execution_count": null,
      "outputs": []
    },
    {
      "cell_type": "markdown",
      "source": [
        "## **i6. Chequeamos los cuantiles construidos**"
      ],
      "metadata": {
        "id": "KRZoKtWIGnJu"
      }
    },
    {
      "cell_type": "code",
      "source": [
        "## **i6. Chequeamos los cuantiles construidos**\n",
        "print('Valores criticos superiores al 95% tienen mínimo en ', dic_quantil95)\n",
        "print('Valores criticos inferiores al 05% tienen máximo en ', dic_quantil05)\n"
      ],
      "metadata": {
        "colab": {
          "base_uri": "https://localhost:8080/"
        },
        "id": "vXJ0oPLkEVBy",
        "outputId": "c4d24aee-0e9d-41df-dcaf-eadd7ede4e09"
      },
      "execution_count": null,
      "outputs": [
        {
          "output_type": "stream",
          "name": "stdout",
          "text": [
            "Valores criticos superiores al 95% tienen mínimo en  {('EXT-CE-2021-6', 0.95): 20031.214, ('EXT-CE-2021-7', 0.95): 15874.197499999995}\n",
            "Valores criticos inferiores al 05% tienen máximo en  {('EXT-CE-2021-6', 0.05): 239.49900000000002, ('EXT-CE-2021-7', 0.05): 112.395}\n"
          ]
        }
      ]
    },
    {
      "cell_type": "markdown",
      "source": [
        "## **i7. Construimos el diccionario para la mediana**"
      ],
      "metadata": {
        "id": "rKIaPIadHM2d"
      }
    },
    {
      "cell_type": "code",
      "source": [
        "## **i7. Construimos el diccionario para la mediana**\n",
        "dic_Mediana = df_Ventas_mayores_suma3.groupby('CODIGO_ACUERDO_MARCO').SUB_TOTAL.median().to_dict()\n",
        "print('Valores criticos inferiores al 05% y superiores al 95% seran reemplazados por ', dic_Mediana)"
      ],
      "metadata": {
        "colab": {
          "base_uri": "https://localhost:8080/"
        },
        "id": "xLEJtAggG6zM",
        "outputId": "8d2b245c-1818-4e57-bfdb-72516dfc29a8"
      },
      "execution_count": null,
      "outputs": [
        {
          "output_type": "stream",
          "name": "stdout",
          "text": [
            "Valores criticos inferiores al 05% y superiores al 95% seran reemplazados por  {'EXT-CE-2021-6': 1443.69, 'EXT-CE-2021-7': 743.2}\n"
          ]
        }
      ]
    },
    {
      "cell_type": "markdown",
      "source": [
        "## **i8. Chequeamos los valores para SUB_TOTAL con nuestro nuevo**"
      ],
      "metadata": {
        "id": "lY5UhixLRb0a"
      }
    },
    {
      "cell_type": "code",
      "source": [
        "## **i8. Chequeamos los valores para SUB_TOTAL**\n",
        "df_Ventas_mayores_suma3.SUB_TOTAL"
      ],
      "metadata": {
        "colab": {
          "base_uri": "https://localhost:8080/"
        },
        "id": "zwYehPBBM3vl",
        "outputId": "b4785806-a0d4-4a98-f142-b5da1545ac82"
      },
      "execution_count": null,
      "outputs": [
        {
          "output_type": "execute_result",
          "data": {
            "text/plain": [
              "18        6974.00\n",
              "19        3992.59\n",
              "39        6737.01\n",
              "242      12294.57\n",
              "326        164.40\n",
              "           ...   \n",
              "16691      767.94\n",
              "16695     1361.55\n",
              "16701     1800.00\n",
              "16722    13082.47\n",
              "16736      250.00\n",
              "Name: SUB_TOTAL, Length: 7121, dtype: float64"
            ]
          },
          "metadata": {},
          "execution_count": 85
        }
      ]
    },
    {
      "cell_type": "markdown",
      "source": [
        "## **i9. Chequeamos los valores para SUB_TOTAL donde se cumplen algunas condiciones**"
      ],
      "metadata": {
        "id": "h7rxZl--TR5v"
      }
    },
    {
      "cell_type": "code",
      "source": [
        "## **i9. Chequeamos los valores para SUB_TOTAL donde se cumplen algunas condiciones**\n",
        "a = (df_Ventas_mayores_suma3.CODIGO_ACUERDO_MARCO =='EXT-CE-2021-6')\n",
        "b = df_Ventas_mayores_suma3.SUB_TOTAL>dic_quantil95[('EXT-CE-2021-6', 0.95)]\n",
        "print(a, b)"
      ],
      "metadata": {
        "colab": {
          "base_uri": "https://localhost:8080/"
        },
        "id": "X0pYZYKhKWi9",
        "outputId": "7a7b3922-f42e-432b-93ce-c34901f55261"
      },
      "execution_count": null,
      "outputs": [
        {
          "output_type": "stream",
          "name": "stdout",
          "text": [
            "18       False\n",
            "19       False\n",
            "39        True\n",
            "242       True\n",
            "326      False\n",
            "         ...  \n",
            "16691     True\n",
            "16695     True\n",
            "16701    False\n",
            "16722    False\n",
            "16736    False\n",
            "Name: CODIGO_ACUERDO_MARCO, Length: 7121, dtype: bool 18       False\n",
            "19       False\n",
            "39       False\n",
            "242      False\n",
            "326      False\n",
            "         ...  \n",
            "16691    False\n",
            "16695    False\n",
            "16701    False\n",
            "16722    False\n",
            "16736    False\n",
            "Name: SUB_TOTAL, Length: 7121, dtype: bool\n"
          ]
        }
      ]
    },
    {
      "cell_type": "markdown",
      "source": [],
      "metadata": {
        "id": "43U10TToTc2u"
      }
    },
    {
      "cell_type": "markdown",
      "source": [
        "# **j. Realizamos la imputación de datos**"
      ],
      "metadata": {
        "id": "b_k-mw0XTVfZ"
      }
    },
    {
      "cell_type": "markdown",
      "source": [
        "## **j1. Imputamos los datos**"
      ],
      "metadata": {
        "id": "ptSR9nimTjcI"
      }
    },
    {
      "cell_type": "code",
      "source": [
        "## **j1. Imputamos los datos**\n",
        "df_Ventas_mayores_suma3.loc[(df_Ventas_mayores_suma3.CODIGO_ACUERDO_MARCO =='EXT-CE-2021-6') & ((df_Ventas_mayores_suma3.SUB_TOTAL > dic_quantil95[('EXT-CE-2021-6', 0.95)]) |\n",
        "\n",
        "  (df_Ventas_mayores_suma3.SUB_TOTAL < dic_quantil05[('EXT-CE-2021-6', 0.05)])),'SUB_TOTAL']=dic_Mediana['EXT-CE-2021-6']"
      ],
      "metadata": {
        "id": "JDkaBbF8G63d"
      },
      "execution_count": null,
      "outputs": []
    },
    {
      "cell_type": "code",
      "source": [
        "df_Ventas_mayores_suma3.loc[(df_Ventas_mayores_suma3.CODIGO_ACUERDO_MARCO =='EXT-CE-2021-7') & ((df_Ventas_mayores_suma3.SUB_TOTAL > dic_quantil95[('EXT-CE-2021-7', 0.95)]) |\n",
        "\n",
        "  (df_Ventas_mayores_suma3.SUB_TOTAL < dic_quantil05[('EXT-CE-2021-7', 0.05)])),'SUB_TOTAL']=dic_Mediana['EXT-CE-2021-7']"
      ],
      "metadata": {
        "id": "hLNFoj7fG67R"
      },
      "execution_count": null,
      "outputs": []
    },
    {
      "cell_type": "markdown",
      "source": [
        "## **j2. Box- Plot para nuestra dos catalogos en Abril con los datos imputados originales**"
      ],
      "metadata": {
        "id": "166C2g9SUKDb"
      }
    },
    {
      "cell_type": "code",
      "source": [
        "## **j2. Box- Plot para nuestra dos catalogos en Abril con los datos imputados originales**\n",
        "sns.boxplot(x = 'CODIGO_ACUERDO_MARCO', y = 'SUB_TOTAL', data =df_Ventas_mayores_suma3 )"
      ],
      "metadata": {
        "colab": {
          "base_uri": "https://localhost:8080/",
          "height": 466
        },
        "id": "gXEPFKc_Pnzj",
        "outputId": "26be3b97-6a49-4052-d2cc-83523497a91c"
      },
      "execution_count": null,
      "outputs": [
        {
          "output_type": "execute_result",
          "data": {
            "text/plain": [
              "<Axes: xlabel='CODIGO_ACUERDO_MARCO', ylabel='SUB_TOTAL'>"
            ]
          },
          "metadata": {},
          "execution_count": 95
        },
        {
          "output_type": "display_data",
          "data": {
            "text/plain": [
              "<Figure size 640x480 with 1 Axes>"
            ],
            "image/png": "[encoded data removed]"
          },
          "metadata": {}
        }
      ]
    },
    {
      "cell_type": "markdown",
      "source": [
        "## **j3. Transformamos nuestra variable SUB_TOTAL usando logartimo**"
      ],
      "metadata": {
        "id": "DDmQwOADUl2U"
      }
    },
    {
      "cell_type": "code",
      "source": [
        "## **j3. Transformamos nuestra variable SUB_TOTAL usando logartimo**\n",
        "df_Ventas_mayores_suma3['LOG_SUB_TOTAL']=df_Ventas_mayores_suma3['SUB_TOTAL'].transform(np.log)"
      ],
      "metadata": {
        "id": "iyVjaQerQn0c"
      },
      "execution_count": null,
      "outputs": []
    },
    {
      "cell_type": "markdown",
      "source": [
        "## **j4. Box- Plot para nuestra dos catalogos en Abril con la variable transformada LOG_SUB_TOTAL**"
      ],
      "metadata": {
        "id": "Ij9SOMj4U6Gv"
      }
    },
    {
      "cell_type": "code",
      "source": [
        "## **j4. Box- Plot para nuestra dos catalogos en Abril con la variable transformada LOG_SUB_TOTAL**\n",
        "sns.boxplot(x = 'CODIGO_ACUERDO_MARCO', y = 'LOG_SUB_TOTAL', data =df_Ventas_mayores_suma3 )\n",
        "plt.show()"
      ],
      "metadata": {
        "colab": {
          "base_uri": "https://localhost:8080/",
          "height": 449
        },
        "id": "G_uYsW6bQxC3",
        "outputId": "3ed62140-cef3-407a-999e-9e430ebe5d88"
      },
      "execution_count": null,
      "outputs": [
        {
          "output_type": "display_data",
          "data": {
            "text/plain": [
              "<Figure size 640x480 with 1 Axes>"
            ],
            "image/png": "[encoded data removed]"
          },
          "metadata": {}
        }
      ]
    },
    {
      "cell_type": "markdown",
      "source": [
        "\n"
      ],
      "metadata": {
        "id": "7D9ojULZQDUY"
      }
    },
    {
      "cell_type": "markdown",
      "source": [
        "# **k. Generalizando el procedimiento**"
      ],
      "metadata": {
        "id": "XrVkSnOaVlzL"
      }
    },
    {
      "cell_type": "code",
      "source": [
        "## **k1. Generalizando el proceso**\n",
        "def fun_generalizadora (df,P_Sup,P_inf):\n",
        "  df1 = df.copy()\n",
        "  dic_quantil95 = df1.groupby('CODIGO_ACUERDO_MARCO').SUB_TOTAL.quantile(P_Sup).to_dict()\n",
        "  dic_quantil05 = df1.groupby('CODIGO_ACUERDO_MARCO').SUB_TOTAL.quantile(P_inf).to_dict()\n",
        "  dic_Mediana = df1.groupby(['CODIGO_ACUERDO_MARCO'])['SUB_TOTAL'].median().to_dict()\n",
        "\n",
        "  # Realizando la imputación\n",
        "  df1['MOD_SUB_TOTAL'] = df1['SUB_TOTAL'].copy()\n",
        "  df1.loc[(df1.CODIGO_ACUERDO_MARCO =='EXT-CE-2021-6') & ((df1.SUB_TOTAL > dic_quantil95['EXT-CE-2021-6']) |\n",
        "   (df1.SUB_TOTAL < dic_quantil05['EXT-CE-2021-6'])),'MOD_SUB_TOTAL']=dic_Mediana['EXT-CE-2021-6']\n",
        "\n",
        "  df1.loc[(df1.CODIGO_ACUERDO_MARCO =='EXT-CE-2021-7') & ((df1.SUB_TOTAL > dic_quantil95['EXT-CE-2021-7']) |\n",
        "   (df1.SUB_TOTAL < dic_quantil05['EXT-CE-2021-7'])),'MOD_SUB_TOTAL']=dic_Mediana['EXT-CE-2021-7']\n",
        "\n",
        "\n",
        "\n",
        "   ## **. Transformamos nuestra variable SUB_TOTAL usando logartimo**\n",
        "  df1['LOG_MOD_SUB_TOTAL']=df1['MOD_SUB_TOTAL'].transform(np.log)\n",
        "\n",
        "  del  dic_quantil95, dic_Mediana\n",
        "  return df1"
      ],
      "metadata": {
        "id": "-Hb6fOPHVr3Z"
      },
      "execution_count": null,
      "outputs": []
    },
    {
      "cell_type": "markdown",
      "source": [
        "# **l. Elegimos el mes de Mayo 202205**"
      ],
      "metadata": {
        "id": "9qRDL-6ofHbO"
      }
    },
    {
      "cell_type": "markdown",
      "source": [
        "## **l1. Elegimos el mes de Enero de 202205**"
      ],
      "metadata": {
        "id": "-k8uF9TJoPuU"
      }
    },
    {
      "cell_type": "code",
      "source": [
        "## **l1. Elegimos el mes de Enero de 202205**\n",
        "df_temp202205 = fun_generalizadora (df_Ventas_mayores_suma[df_Ventas_mayores_suma.PERIOD_FECHA_ÚLTIMO_ESTADO=='202205'],0.95,0.05)"
      ],
      "metadata": {
        "id": "u4DJ0gjFVr7m"
      },
      "execution_count": null,
      "outputs": []
    },
    {
      "cell_type": "markdown",
      "source": [
        "## **l2. Box- Plot sin importar datos con los datos  originales**"
      ],
      "metadata": {
        "id": "AME9K5sboRzs"
      }
    },
    {
      "cell_type": "code",
      "source": [
        "## **l2. Box- Plot sin importar datos con los datos  originales**\n",
        "sns.boxplot(x = 'CODIGO_ACUERDO_MARCO', y = 'SUB_TOTAL', data =df_temp202205 )"
      ],
      "metadata": {
        "colab": {
          "base_uri": "https://localhost:8080/",
          "height": 466
        },
        "id": "-yoMVx5dVr-5",
        "outputId": "d7ec3487-cba9-43aa-fe04-21972752f1c6"
      },
      "execution_count": null,
      "outputs": [
        {
          "output_type": "execute_result",
          "data": {
            "text/plain": [
              "<Axes: xlabel='CODIGO_ACUERDO_MARCO', ylabel='SUB_TOTAL'>"
            ]
          },
          "metadata": {},
          "execution_count": 216
        },
        {
          "output_type": "display_data",
          "data": {
            "text/plain": [
              "<Figure size 640x480 with 1 Axes>"
            ],
            "image/png": "[encoded data removed]"
          },
          "metadata": {}
        }
      ]
    },
    {
      "cell_type": "markdown",
      "source": [
        "## **l3. Box- Plot sin importar datos con los datos limpiados por la mediana**"
      ],
      "metadata": {
        "id": "-HIYRfcloVie"
      }
    },
    {
      "cell_type": "code",
      "source": [
        "## **l3. Box- Plot sin importar datos con los datos limpiados por la mediana **\n",
        "sns.boxplot(x = 'CODIGO_ACUERDO_MARCO', y = 'MOD_SUB_TOTAL', data =df_temp202205 )"
      ],
      "metadata": {
        "colab": {
          "base_uri": "https://localhost:8080/",
          "height": 466
        },
        "id": "UYKahwrfn5y3",
        "outputId": "5905ff92-ad16-4916-a1a8-f1bb9b6d38c7"
      },
      "execution_count": null,
      "outputs": [
        {
          "output_type": "execute_result",
          "data": {
            "text/plain": [
              "<Axes: xlabel='CODIGO_ACUERDO_MARCO', ylabel='MOD_SUB_TOTAL'>"
            ]
          },
          "metadata": {},
          "execution_count": 217
        },
        {
          "output_type": "display_data",
          "data": {
            "text/plain": [
              "<Figure size 640x480 with 1 Axes>"
            ],
            "image/png": "[encoded data removed]"
          },
          "metadata": {}
        }
      ]
    },
    {
      "cell_type": "markdown",
      "source": [
        "## **l4. Box- Plot sin importar datos con los datos  limpios transformados**"
      ],
      "metadata": {
        "id": "KLxx2Fn3odzJ"
      }
    },
    {
      "cell_type": "code",
      "source": [
        "## **l4. Box- Plot sin importar datos con los datos  limpios transformados**\n",
        "sns.boxplot(x = 'CODIGO_ACUERDO_MARCO', y = 'LOG_MOD_SUB_TOTAL', data =df_temp202205 )"
      ],
      "metadata": {
        "colab": {
          "base_uri": "https://localhost:8080/",
          "height": 467
        },
        "id": "SxRnh2EEhwFH",
        "outputId": "fb5eeece-cc93-4663-c88e-2597a1295bd9"
      },
      "execution_count": null,
      "outputs": [
        {
          "output_type": "execute_result",
          "data": {
            "text/plain": [
              "<Axes: xlabel='CODIGO_ACUERDO_MARCO', ylabel='LOG_MOD_SUB_TOTAL'>"
            ]
          },
          "metadata": {},
          "execution_count": 218
        },
        {
          "output_type": "display_data",
          "data": {
            "text/plain": [
              "<Figure size 640x480 with 1 Axes>"
            ],
            "image/png": "[encoded data removed]"
          },
          "metadata": {}
        }
      ]
    },
    {
      "cell_type": "markdown",
      "source": [
        "# **m. Generalizando con todos los meses**"
      ],
      "metadata": {
        "id": "AQo3UaO1ooZy"
      }
    },
    {
      "cell_type": "markdown",
      "source": [
        "## **m1. Lista con todos los meses**"
      ],
      "metadata": {
        "id": "AHY81OKpp8dn"
      }
    },
    {
      "cell_type": "code",
      "source": [
        "## **m1. Lista con todos los meses**\n",
        "Meses_Peru_compras = df_Ventas_mayores_suma['PERIOD_FECHA_ÚLTIMO_ESTADO'].unique()\n",
        "Meses_Peru_compras"
      ],
      "metadata": {
        "colab": {
          "base_uri": "https://localhost:8080/"
        },
        "id": "N-ur0_q-hwTA",
        "outputId": "0981fc67-c9d8-4cf5-9932-182f998cb444"
      },
      "execution_count": null,
      "outputs": [
        {
          "output_type": "execute_result",
          "data": {
            "text/plain": [
              "array(['202202', '202203', '202201', '202204', '202205', '202207',\n",
              "       '202206', '202208', '202209', '202212', '202211', '202302',\n",
              "       '202301', '202303', '202210', '202306', '202307', '202304',\n",
              "       '202305'], dtype=object)"
            ]
          },
          "metadata": {},
          "execution_count": 219
        }
      ]
    },
    {
      "cell_type": "markdown",
      "source": [
        "## **m2. Este es el Bucle creado**"
      ],
      "metadata": {
        "id": "kBx98cCPr_zn"
      }
    },
    {
      "cell_type": "code",
      "source": [
        "## **m2. Este es el Bucle creado**\n",
        "Lista_dfMeses_Peru_compras =[]\n",
        "for i in sorted(Meses_Peru_compras):\n",
        "  print(i)\n",
        "  temp = df_Ventas_mayores_suma[df_Ventas_mayores_suma.PERIOD_FECHA_ÚLTIMO_ESTADO==i]\n",
        "  Lista_dfMeses_Peru_compras.append(fun_generalizadora (temp,0.95,0.05))\n",
        "  del temp"
      ],
      "metadata": {
        "colab": {
          "base_uri": "https://localhost:8080/"
        },
        "id": "nXX_NDCehwVv",
        "outputId": "98b091a5-1c37-40e7-dfa1-8eff32577d3f"
      },
      "execution_count": null,
      "outputs": [
        {
          "output_type": "stream",
          "name": "stdout",
          "text": [
            "202201\n",
            "202202\n",
            "202203\n",
            "202204\n",
            "202205\n",
            "202206\n",
            "202207\n",
            "202208\n",
            "202209\n",
            "202210\n",
            "202211\n",
            "202212\n",
            "202301\n",
            "202302\n",
            "202303\n",
            "202304\n",
            "202305\n",
            "202306\n",
            "202307\n"
          ]
        }
      ]
    },
    {
      "cell_type": "code",
      "source": [
        "# **m3. Concatenamos todos los dataFrames**\n",
        "df_Ventas_mayores_suma_Total = pd.concat(Lista_dfMeses_Peru_compras, axis = 0)"
      ],
      "metadata": {
        "id": "lelb9j_ap9oH"
      },
      "execution_count": null,
      "outputs": []
    },
    {
      "cell_type": "code",
      "source": [
        "## **l3. Box- Plot sin importar datos con los datos limpiados por la mediana **\n",
        "plt.figure(figsize=(17,7))\n",
        "sns.boxplot(x = 'PERIOD_FECHA_ÚLTIMO_ESTADO', y = 'MOD_SUB_TOTAL',hue='CODIGO_ACUERDO_MARCO', data =df_Ventas_mayores_suma_Total )\n",
        "plt.legend(loc='right')\n",
        "plt.show()"
      ],
      "metadata": {
        "colab": {
          "base_uri": "https://localhost:8080/",
          "height": 621
        },
        "id": "4p3JXPLQp9sD",
        "outputId": "ea195e60-66fa-4f77-a59a-6202231da544"
      },
      "execution_count": null,
      "outputs": [
        {
          "output_type": "display_data",
          "data": {
            "text/plain": [
              "<Figure size 1700x700 with 1 Axes>"
            ],
            "image/png": "[encoded data removed]"
          },
          "metadata": {}
        }
      ]
    },
    {
      "cell_type": "code",
      "source": [
        "## **l3. Box- Plot sin importar datos con los datos limpiados por la mediana **\n",
        "plt.figure(figsize=(17,7))\n",
        "sns.boxplot(x = 'PERIOD_FECHA_ÚLTIMO_ESTADO', y = 'LOG_MOD_SUB_TOTAL',hue='CODIGO_ACUERDO_MARCO', data =df_Ventas_mayores_suma_Total )\n",
        "plt.legend(loc='right')\n",
        "plt.show()"
      ],
      "metadata": {
        "colab": {
          "base_uri": "https://localhost:8080/",
          "height": 621
        },
        "id": "ydK67-upp9wf",
        "outputId": "c73cdb7e-9a15-4d80-fd75-59fc8be42f21"
      },
      "execution_count": null,
      "outputs": [
        {
          "output_type": "display_data",
          "data": {
            "text/plain": [
              "<Figure size 1700x700 with 1 Axes>"
            ],
            "image/png": "[encoded data removed]"
          },
          "metadata": {}
        }
      ]
    }
  ],
  "metadata": {
    "colab": {
      "provenance": [],
      "authorship_tag": "ABX9TyPilfTTrcA42G7GilOuhxPw",
      "include_colab_link": true
    },
    "kernelspec": {
      "display_name": "Python 3",
      "name": "python3"
    },
    "language_info": {
      "name": "python"
    }
  },
  "nbformat": 4,
  "nbformat_minor": 0
}