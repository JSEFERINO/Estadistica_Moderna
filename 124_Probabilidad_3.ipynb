{
  "nbformat": 4,
  "nbformat_minor": 0,
  "metadata": {
    "colab": {
      "provenance": [],
      "authorship_tag": "ABX9TyMBIsXR8PYQrqtA8Pd/UII8",
      "include_colab_link": true
    },
    "kernelspec": {
      "name": "python3",
      "display_name": "Python 3"
    },
    "language_info": {
      "name": "python"
    }
  },
  "cells": [
    {
      "cell_type": "markdown",
      "metadata": {
        "id": "view-in-github",
        "colab_type": "text"
      },
      "source": [
        "<a href=\"https://colab.research.google.com/github/JSEFERINO/Estadistica_Moderna/blob/main/124_Probabilidad_3.ipynb\" target=\"_parent\"><img src=\"https://colab.research.google.com/assets/colab-badge.svg\" alt=\"Open In Colab\"/></a>"
      ]
    },
    {
      "cell_type": "markdown",
      "source": [
        "\n",
        "# **Curso de Estadistica: Parte_III: Probabilidad**\n",
        "+ **Julio Hurtado Marquez**\"\n",
        "+ Año 2024\n",
        "   email: juliohurtado210307@gmail.com\n",
        "\n"
      ],
      "metadata": {
        "id": "UHwUwClMFTru"
      }
    },
    {
      "cell_type": "markdown",
      "source": [
        "\n",
        "# **3.0 Tipos de Experimentos**\n",
        "\n",
        "- Existen dos tipos de fenómenos o experimentos en la naturaleza: los deterministas y los aleatorios.\n",
        "\n",
        "## **3.1. Experimento determinista**\n",
        "\n",
        "- Es aquel que produce el mismo resultado cuando se le repite bajo las mismas condiciones.\n"
      ],
      "metadata": {
        "id": "yfMABFueSCb3"
      }
    },
    {
      "cell_type": "markdown",
      "source": [
        "# **1. Experimento determinista: Produce siempre el mismo resultado**\n",
        "\n",
        "## **$\\bullet$** **Ejemplo: Preguntar la Edad de 10 niños de 4 años**\n"
      ],
      "metadata": {
        "id": "kt5bAyK3CGFT"
      }
    },
    {
      "cell_type": "code",
      "source": [
        "import random # Importamos la libreria a usar\n",
        "# Anotemos la edad de cinco niños de 4 años\n",
        "def Edad():\n",
        "    resultado = random.choice(['4 años'])\n",
        "    return resultado\n",
        "\n",
        "# Simulación de lanzar la moneda 5 veces\n",
        "for i in range(10):\n",
        "    print(\"Niño\", i+1, \"tiene :\", Edad())\n"
      ],
      "metadata": {
        "colab": {
          "base_uri": "https://localhost:8080/"
        },
        "id": "l6m6OtAhBvDN",
        "outputId": "d17907f2-c4f6-4a8d-bcd4-750fe835313b"
      },
      "execution_count": 1,
      "outputs": [
        {
          "output_type": "stream",
          "name": "stdout",
          "text": [
            "Niño 1 tiene : 4 años\n",
            "Niño 2 tiene : 4 años\n",
            "Niño 3 tiene : 4 años\n",
            "Niño 4 tiene : 4 años\n",
            "Niño 5 tiene : 4 años\n",
            "Niño 6 tiene : 4 años\n",
            "Niño 7 tiene : 4 años\n",
            "Niño 8 tiene : 4 años\n",
            "Niño 9 tiene : 4 años\n",
            "Niño 10 tiene : 4 años\n"
          ]
        }
      ]
    },
    {
      "cell_type": "code",
      "source": [
        "import random # Importamos la libreria a usar\n",
        "import matplotlib.pyplot as plt # La usaremos para crear gráficos\n",
        "# Anotemos la edad de cinco niños de 4 años\n",
        "\n",
        "Datos = []\n",
        "\n",
        "def Edad():\n",
        "    resultado = random.choice(['4 años'])\n",
        "    return resultado\n",
        "\n",
        "# Simulación de lanzar la moneda 5 veces\n",
        "for i in range(10):\n",
        "    Datos.append(Edad())\n",
        "    print(\"Niño\", i+1, \"tiene :\", Edad())\n",
        "\n",
        "\n",
        "# Contar la frecuencia de cada resultado\n",
        "Edad_count = Datos.count('4 años')\n",
        "\n",
        "# Generar histograma\n",
        "plt.bar(['4 años'], [Edad_count], color = ['blue', 'salmon'])\n",
        "plt.title('Histograma Edad')\n",
        "plt.xlabel('Resultado')\n",
        "plt.ylabel('Frecuencia')\n",
        "plt.show()\n"
      ],
      "metadata": {
        "colab": {
          "base_uri": "https://localhost:8080/",
          "height": 657
        },
        "id": "N0XzeUYjCOGy",
        "outputId": "21da277b-82b0-48f4-d957-699138087493"
      },
      "execution_count": 3,
      "outputs": [
        {
          "output_type": "stream",
          "name": "stdout",
          "text": [
            "Niño 1 tiene : 4 años\n",
            "Niño 2 tiene : 4 años\n",
            "Niño 3 tiene : 4 años\n",
            "Niño 4 tiene : 4 años\n",
            "Niño 5 tiene : 4 años\n",
            "Niño 6 tiene : 4 años\n",
            "Niño 7 tiene : 4 años\n",
            "Niño 8 tiene : 4 años\n",
            "Niño 9 tiene : 4 años\n",
            "Niño 10 tiene : 4 años\n"
          ]
        },
        {
          "output_type": "display_data",
          "data": {
            "text/plain": [
              "<Figure size 640x480 with 1 Axes>"
            ],
            "image/png": "[encoded data removed]"
          },
          "metadata": {}
        }
      ]
    },
    {
      "cell_type": "markdown",
      "source": [
        "# **2. Experimento Aleatorio: Simulación de lanzamiento de moneda 1000 veces**\n",
        "### **$\\bullet$** **Este experimento simula el lanzamiento de una moneda el numero de veces que queramos**"
      ],
      "metadata": {
        "id": "RFRuMozNCjCO"
      }
    },
    {
      "cell_type": "code",
      "source": [
        "import matplotlib.pyplot as plt\n",
        "\n",
        "# Función para simular lanzamientos de moneda y obtener resultados\n",
        "def lanzamiento_moneda(n):\n",
        "    resultados = [random.choice(['cara', 'cruz']) for _ in range(n)]\n",
        "    return resultados\n",
        "\n",
        "# Simulación de lanzar la moneda 1000 veces\n",
        "resultados = lanzamiento_moneda(100)\n",
        "\n",
        "# Contar la frecuencia de cada resultado\n",
        "cara_count = resultados.count('cara')\n",
        "cruz_count = resultados.count('cruz')\n",
        "\n",
        "#!pip install texttable &>/dev/null # La usaremos para crea tablas\n",
        "from texttable import Texttable # La usaremos para crea tablas\n",
        "\n",
        "# Tabla Resumen\n",
        "t1 = Texttable()\n",
        "t1.add_rows([['Resultado','frecuencia', 'Porcentaje' ],\n",
        "           ['cara',\tcara_count, cara_count/(cara_count+cruz_count)*100],\n",
        "           ['cruz',\tcruz_count, cruz_count/(cara_count+cruz_count)*100]])\n",
        "print(t1.draw())\n",
        "\n",
        "# Generar histograma\n",
        "plt.bar(['Cara', 'Cruz'], [cara_count, cruz_count], color = ['blue', 'salmon'])\n",
        "plt.title('Histograma de Lanzamiento de Moneda')\n",
        "plt.xlabel('Resultado')\n",
        "plt.ylabel('Frecuencia')\n",
        "plt.show()\n"
      ],
      "metadata": {
        "colab": {
          "base_uri": "https://localhost:8080/",
          "height": 601
        },
        "id": "_1lD1aZgCkfF",
        "outputId": "34d37907-4d3f-46a6-fd8f-47c50aea8bda"
      },
      "execution_count": 11,
      "outputs": [
        {
          "output_type": "stream",
          "name": "stdout",
          "text": [
            "+-----------+------------+------------+\n",
            "| Resultado | frecuencia | Porcentaje |\n",
            "+===========+============+============+\n",
            "| cara      | 48         | 48         |\n",
            "+-----------+------------+------------+\n",
            "| cruz      | 52         | 52         |\n",
            "+-----------+------------+------------+\n"
          ]
        },
        {
          "output_type": "display_data",
          "data": {
            "text/plain": [
              "<Figure size 640x480 with 1 Axes>"
            ],
            "image/png": "[encoded data removed]"
          },
          "metadata": {}
        }
      ]
    },
    {
      "cell_type": "markdown",
      "source": [
        "# **4.0. Actividades independientes**\n",
        "- **Veamos el video Tipos de Experimentos**\n",
        "  - [Veamos el video Tipos de Experimentos](https://youtu.be/huSkDf3UOCc)\n"
      ],
      "metadata": {
        "id": "TEnruXAVSInw"
      }
    },
    {
      "cell_type": "markdown",
      "source": [
        "\n",
        "# **5.0. El espacio muestral de un experimento aleatorio $\\Omega$**\n",
        "\n",
        "- Es el conjunto de todos los posibles resultados del experimento aleatorio y se le denota, generalmente, por la letra griega $$\\Omega$$. A un resultado particular del experimento se le denota por la letra $$\\omega$$.\n",
        "\n",
        "- El espacio muestral no es necesariamente único y su determinación depende de lo que desea observar o estudiar la persona que realiza el experimento aleatorio.\n",
        "-  Se usa también la letra $S$ para denotar al espacio muestral.\n",
        "- Llamaremos ***evento o suceso*** a cualquier subconjunto del espacio muestral. Los eventos se denotan por las primeras letras del alfabeto en mayúsculas: $$A, \\ B, \\  C, \\  D, \\  E, \\  F,  \\ G, \\dots$$"
      ],
      "metadata": {
        "id": "0MZNzW5ZJvAl"
      }
    },
    {
      "cell_type": "markdown",
      "source": [
        "\n",
        "## **5.1 Veamos el video Espacio muestral de un experimento aleatorio**\n",
        "\n",
        "##**[Video Espacio muestral de un experimento aleatorio](https://www.youtube.com/watch?v=fd5kmNUwVK4&t=58s)**\n",
        "\n"
      ],
      "metadata": {
        "id": "6IPF5BSPKPEU"
      }
    },
    {
      "cell_type": "markdown",
      "source": [
        "## **5.2 Ejemplos de Espacio muestral de un experimento aleatorio**\n",
        "\n",
        "###  **a. Ejemplo 1**. E.A: Lanzamiento de un dado y observar el número que aparece en la cara superior.\n",
        "- Espacio muestral es $\\Omega=\\{1, 2, 3, 4, 5, 6\\}$\n",
        "- **Eventos**:  $A=\\{2, 4, 6\\}$ es un evento. $\\sharp(\\Omega)=6$ y  $\\sharp(A)=3$\n"
      ],
      "metadata": {
        "id": "C_s8niGJLbPL"
      }
    },
    {
      "cell_type": "markdown",
      "source": [
        "\n",
        "\n",
        "###  **b. Ejemplo 2**.  E.A:   Participar en una rifa de los números $\\{1,2, \\cdots, 100\\}$\n",
        "- Espacio muestral: $\\Omega_1=\\{1, 2, 3, 4, 5, ..., 100\\}$ con $\\sharp(\\Omega_1)=100$\n",
        "- o bien $\\Omega_2=\\{``GANAR\", ``PERDER\"\\}$.  con  $\\sharp(\\Omega_2)=2$\n"
      ],
      "metadata": {
        "id": "Xg-KeQvjLfLR"
      }
    },
    {
      "cell_type": "markdown",
      "source": [
        "\n",
        "\n",
        "###  **c. Ejemplo 3**. Considere el E.A:  Lanzamiento de una moneda balanceada.\n",
        "- El espacio muestral es $\\Omega=\\{``cara\",``sello\"\\}=\\{\\textbf{C},\\textbf{S}\\}$ y   o bien $\\Omega=\\{``0\", ``1\"\\}$. $\\sharp(\\Omega)=2$\n"
      ],
      "metadata": {
        "id": "FjjRMTnMLjDS"
      }
    },
    {
      "cell_type": "markdown",
      "source": [
        "\n",
        "###  **d. Ejemplo 4**.  *Considere el E.A:  Lanzamiento de un dado hasta que apaece un 6*\n",
        "- El espacio muestral es $$\\Omega=\\{(6),(1,6),(2,6),...,(5,6), (1,1,6),...,(1,5,6), (2,1,6), ...,(3,1,6),...\\}$$ . $$\\sharp(\\Omega)=\\infty$$\n",
        "\n"
      ],
      "metadata": {
        "id": "B_ytwvsGLln7"
      }
    },
    {
      "cell_type": "markdown",
      "source": [
        "\n",
        "###  **e. Ejemplo 5**.  Considere el E.A:  Tiempo de espera hasta que ocurre un evento.\n",
        "\n",
        "- El espacio muestral es $$\\Omega=\\{0, 1, 2, 3, 4, 5, ...\\}$$ y   o bien $$\\Omega=[0,\\infty), \\ \\sharp(\\Omega)=\\infty$$.\n"
      ],
      "metadata": {
        "id": "db81EBOELpGi"
      }
    },
    {
      "cell_type": "markdown",
      "source": [
        "###  **f. Ejemplo 6**.  E.A:  *Lanzar un dado en un tablero circular de radio 1.*\n",
        "\n",
        "- Espacio muestral es $\\Omega=\\{(x,y) \\mid x^2+y^2\\leqslant1\\}$    o bien $\\Omega=\\{(r,\\theta) \\mid 0\\leq r\\leq 1, 0\\leq \\theta\\leq 2\\pi\\}$.\n",
        "- $\\sharp(\\Omega)=2\\pi$"
      ],
      "metadata": {
        "id": "bgamdZMYM9fR"
      }
    },
    {
      "cell_type": "code",
      "source": [
        "import matplotlib.pyplot as plt\n",
        "import matplotlib.animation as animation\n",
        "from IPython.display import HTML\n",
        "import numpy as np\n",
        "\n",
        "# Paso 1: Crear el tablero circular\n",
        "circle = plt.Circle((0, 0), 1, edgecolor='black', facecolor='none')\n",
        "\n",
        "# Paso 2: Función para lanzar el dado dentro del círculo\n",
        "def lanzar_dado():\n",
        "    while True:\n",
        "        x, y = np.random.uniform(-1, 1, 2)\n",
        "        if x**2 + y**2 <= 1:\n",
        "            break\n",
        "    resultado_dado = np.random.randint(1, 7)\n",
        "    return x, y, resultado_dado\n",
        "\n",
        "# Paso 3: Crear la animación\n",
        "fig, ax = plt.subplots()\n",
        "ax.add_patch(circle)\n",
        "ax.set_xlim(-1.1, 1.1)\n",
        "ax.set_ylim(-1.1, 1.1)\n",
        "ax.set_aspect('equal')\n",
        "\n",
        "puntos, = ax.plot([], [], 'o', color='blue')\n",
        "resultado_text = ax.text(-1, 1.1, '', fontsize=15)\n",
        "\n",
        "def init():\n",
        "    puntos.set_data([], [])\n",
        "    resultado_text.set_text('')\n",
        "    return puntos, resultado_text\n",
        "\n",
        "def animate(i):\n",
        "    x, y, resultado_dado = lanzar_dado()\n",
        "    puntos.set_data(x, y)\n",
        "    resultado_text.set_text(f'Resultado del dado: {resultado_dado}')\n",
        "    return puntos, resultado_text\n",
        "\n",
        "ani = animation.FuncAnimation(fig, animate, init_func=init, frames=10, interval=1000, repeat=False)\n",
        "\n",
        "# Guardar la animación como un archivo de video\n",
        "# Muestra la animación en el notebook\n",
        "HTML(ani.to_html5_video())\n",
        "\n"
      ],
      "metadata": {
        "colab": {
          "base_uri": "https://localhost:8080/",
          "height": 952
        },
        "id": "EQ19WLh-L_U4",
        "outputId": "a99c183a-e1ac-471e-b99d-ee137caaeda8"
      },
      "execution_count": 17,
      "outputs": [
        {
          "output_type": "stream",
          "name": "stderr",
          "text": [
            "<ipython-input-17-3247485d76a2>:35: MatplotlibDeprecationWarning: Setting data with a non sequence type is deprecated since 3.7 and will be remove two minor releases later\n",
            "  puntos.set_data(x, y)\n"
          ]
        },
        {
          "output_type": "execute_result",
          "data": {
            "text/plain": [
              "<IPython.core.display.HTML object>"
            ],
            "text/html": [
              "<video width=\"640\" height=\"480\" controls autoplay>\n",
              "  <source type=\"video/mp4\" src=\"data:video/mp4;base64,AAAAIGZ0eXBNNFYgAAACAE00ViBpc29taXNvMmF2YzEAAAAIZnJlZQAAO7ZtZGF0AAACrQYF//+p\n",
              "3EXpvebZSLeWLNgg2SPu73gyNjQgLSBjb3JlIDE2MyByMzA2MCA1ZGI2YWE2IC0gSC4yNjQvTVBF\n",
              "Ry00IEFWQyBjb2RlYyAtIENvcHlsZWZ0IDIwMDMtMjAyMSAtIGh0dHA6Ly93d3cudmlkZW9sYW4u\n",
              "b3JnL3gyNjQuaHRtbCAtIG9wdGlvbnM6IGNhYmFjPTEgcmVmPTMgZGVibG9jaz0xOjA6MCBhbmFs\n",
              "eXNlPTB4MzoweDExMyBtZT1oZXggc3VibWU9NyBwc3k9MSBwc3lfcmQ9MS4wMDowLjAwIG1peGVk\n",
              "X3JlZj0xIG1lX3JhbmdlPTE2IGNocm9tYV9tZT0xIHRyZWxsaXM9MSA4eDhkY3Q9MSBjcW09MCBk\n",
              "ZWFkem9uZT0yMSwxMSBmYXN0X3Bza2lwPTEgY2hyb21hX3FwX29mZnNldD0tMiB0aHJlYWRzPTMg\n",
              "bG9va2FoZWFkX3RocmVhZHM9MSBzbGljZWRfdGhyZWFkcz0wIG5yPTAgZGVjaW1hdGU9MSBpbnRl\n",
              "cmxhY2VkPTAgYmx1cmF5X2NvbXBhdD0wIGNvbnN0cmFpbmVkX2ludHJhPTAgYmZyYW1lcz0zIGJf\n",
              "cHlyYW1pZD0yIGJfYWRhcHQ9MSBiX2JpYXM9MCBkaXJlY3Q9MSB3ZWlnaHRiPTEgb3Blbl9nb3A9\n",
              "MCB3ZWlnaHRwPTIga2V5aW50PTI1MCBrZXlpbnRfbWluPTEgc2NlbmVjdXQ9NDAgaW50cmFfcmVm\n",
              "cmVzaD0wIHJjX2xvb2thaGVhZD00MCByYz1jcmYgbWJ0cmVlPTEgY3JmPTIzLjAgcWNvbXA9MC42\n",
              "MCBxcG1pbj0wIHFwbWF4PTY5IHFwc3RlcD00IGlwX3JhdGlvPTEuNDAgYXE9MToxLjAwAIAAAC7E\n",
              "ZYiEABf//vfUt8yy7VNvtguo96KeJl9DdSUBm5bE7TqAAAADAAADAAAevBc4Al+JCvOvAAADAMrL\n",
              "pP6Byh6ceAAhRjorIu/vS1RpMsWBOkoiU5zQceQ8ZoV5uFIkBprrLDWAXI2Ycx+jhLb1PVYqUlez\n",
              "7mekC1+oXW5AcN6k/iE2fTWq/rxjhI0LHClYeRYeI+ykzRbC0GQDw3BWOoBCowO3edBUaIeKy9s/\n",
              "JOrcEtF/rqB0A9QM/M+TW3MtgaoIpfaTxokQ5HbYNbfkkHLw/JNatBhs6u/6+7YCLoXog5h+BuJM\n",
              "nscYnezyiasx7SrKehEFOvzFbAet8pytTmAlEXHeWBswms4HhmtSwV18YLipNepvSYCNQ7YB/z9+\n",
              "3z7HKh6y4/Ajxvd3L7pKzmP9r/vyQu9iS+96n7+s5XdzyR00jqNjTvunIDBYKn+p7Zm5iaS74Wr9\n",
              "xC6igaz4ISxWLOm/Bv8VmTuUjhC3HIWa+06t4LAxDbtft8byWa7+jF8h0kraAYGnewl9XuR2lbA4\n",
              "lCCYRRkUk4Do1ONptbKuXWod1lMUT81+/MFtgF5JIDxUr/8I6CpbFPK/nyznGK5I1pzNQkbND+b2\n",
              "J4DRdS2K+CCQ/14Z4vTzveWuDVXjGwdlhCN3Rfb1UZzRkAkJz7O355YEG/OeoyZUo4geTO8s9BSb\n",
              "bKjip/cMyRz0n3BwChb4EsfyH4orIzEWuogKMticS7OVDzUUCh28U/epHHVJVhUGF1LlYjBj1uQ1\n",
              "QcYOKF0PlDZ5+qOsyLBf4spucpvBvwqkt0uegAeVTSkO4ttRJ/DUy5WYsXSR21rr9O9lBiWHcYqQ\n",
              "WJ056vOOXCgxTLMAI9Tiao9zatXjWLFNb83W3e+dGeldLWIlY5+7vQgafj9yG5YmNJATWQq3x42Q\n",
              "kk16EMX2xEcTFCt9nDCwT1067oW3Hg2engzBo4NaNacLfyMFrHxKjj7vdRd0Itfa6nfmeQ4wmwRC\n",
              "sXFzzcdbqO70TLUzK367vUQQ3ooIyFx/vD1Tjqwd2tgJqVovPhWRov0G1SYvKG4hqaKdfi2/exJn\n",
              "skuHBKz9HmLpkupfkCb73IiP6kehMwt3B/hTM35Ki2YJnOL8BLXFaDnytPCAzUq8sjKSzB6Fl+WN\n",
              "+z2LjTUTZ9TY5Edh2NXxVOwIwNRZJVu2oViHzmuegXNDjOyU+HgqReVamLxs+GG/ewQeZ3TjPHdq\n",
              "2XnUmon5zB1uaR/Wk2EKGmk3hcrLt/+DEqZn5efhlQLBbiVLu2wV0dWZ3HQFPpFVUxn5DUtMpj7H\n",
              "3nG272dgKDZtweivKC8QQ9yM650E/FfJmXjVvXCcRjuxNxCkUqo9gj2nj1j47SmcKwEIH/BwvZcs\n",
              "rNXbCYK00O3tyrKXradGiGyBMasp2be8t4Df5Fg58OuWHvpIrl24TQphtLVTCpZrAX4rp3f8Sbmt\n",
              "f3COTTdqh+Dhv4XN4JLmFcy1fx0qzSG9r+NBhlcC+scVhJOml0lUsBmZz2z+8kXMcZVDsPqAbK8r\n",
              "yNDWR5b562AeuHPmuhVhwHLc0yNIfoqheXbu0tLHbxwsq3i57FUS/7yQPuONhJDcOp87R7DZgU0Q\n",
              "8mq4AkKnA3ZFdNikcNRZ2PETKMIhFyeBcdfgmO/rQOQ2g8mj2J5MNONCq7Av+mRbbghIdndV/B/Y\n",
              "cv94HJY8XHlFlGKQL6C2i49y4Qq+VA0S16+6Qlq0oiDjVO0yrdgfz5rgoP+Iz9rRj/+9WAvggXNh\n",
              "YxDw1YSF647wa3vB+AQJzwRQcrHXWjVKY9KD48kYp6iL9SAgzDQpCghi6ShyNg586EdGH14jnNco\n",
              "UcLEV0eCQ89/UBmuZTCAzfqQqAfhMiMVoZluV+HEdiLlS6z8ne49K23ihIyeaYhPYQ3jL/fEEpfW\n",
              "d34dyGfmmQmC7+1TAVS0QM/IdJFHS46+IujEBX/A3N/qNYHT9QiGjHU3nmv99XoRSjLoglDHNDaG\n",
              "vQhZdA7/GMSTU24WzyeS3/0NRN4eSDqraQnjXIO2fx3v8x5Wu/4rL8wHZPqjg4IgktCQuklAx8I8\n",
              "Uz3PKhul+0BRmdk7Sh1n7vc75jWQNtWc1J5u3VBP8m/GwPTnVQiuV3RazScBDqOJ3qWaoaDFOZyr\n",
              "2sIzpW1jTE5KeZbn7wYEg2Zguvqjf6pi/+ARcyQQ0eOD/1rOUZ+QSSWeoyfn+Jbp5RDHLVp6d/AE\n",
              "N2T2p+l4oLeA/0PNeCVnlOZdIZjl9P3flZgzFWWcPyHjmomnJeIay771V8f+8RV72IrLz38aMUqM\n",
              "+bI0mUFTdfmLovZ1BbT3x37vIxdbenBSBztrUYrpIBMb9OSSsPeqD7nZ/n1fKbVHtYiHub+nSuWJ\n",
              "2p0XPr78+4Z/GR0scdyqj4jqZQDajVZc6n1OT8m/fzllQnGPTKioTl/6jvIxSiLwUie2aibsw3u6\n",
              "46uPrQypILrbuJKSsmCvWGX///6YUj4WHOXf3f1FluZJW9KUubk6uLi5dVqSvJI05+v+/PvS8RMH\n",
              "8LSFG+bch6qCI3dTbv9B9s7f/tia0GpPItUDCuosekR2UTE0b9mHNie+l/8NuE+JWCehvD0dM1nm\n",
              "sBcxnWbAt3QRuPKDrw9U/1PG4PiPr2qZ0CS8yQVS7FquZfHGkLzNNcvBjC3/yotpOEVllnk3wuax\n",
              "sjjswRoV1YPEXwNE1C1cVLRSucbI00t5CvG3kW5bSuIc6pKYC4P1xVYOnycEk27ud8Oq1hS3Jhyt\n",
              "npKlvxWATToJDPwS45pHrxR54OKby7pUb4i9hy1A+UQvgg6mOuL/folx9kfuvFPSBWJimv9AKenG\n",
              "EfP8yO03euGb0Ucc3D+KEGfHQ8U1euZmpCbVJY6hGTsLypqdCi6Kg5C691lUM83Gz8SWYYE2EquI\n",
              "WE5A5K7+87pt3dpzTM0BA3nMGaISRL9dPkO+7RGL15IYTtKbdeCSDk2C/lRTTnILbMZ1Bxl3dlWx\n",
              "SmTOy8+qBOnbsX4qWmLb/bZgJKCIJDpgz//qJv4GXdsBp07fSVj54wQroJrL/r0hnYCGqFDgO1Z/\n",
              "nALrQFvh39LliIGovJvuomYqPj3s9sxhmBM9Iil6fC/mLJ14+rmBa2bhEHio1U2B1YV1hmQd8Cy6\n",
              "ZBkq9J/cQozOeF8QMlSepHnZ2kKx8h7Is1wczOfcpEBKENYZiHpvr3oCNqETj8I2moHegE4T1Zkf\n",
              "TwmZGs2LJ2JDK35nZeyVK+bsFeAiFgSgRw7Sr4P+r33sPXjdIWO7k1O9/uOVzhgR+espKyWRzdrQ\n",
              "L/r6nJfXT1MS124JbxEsXwRtbcRH2ErMv5T3+KErk/jGM1A/hqjgdC1+L1mI5z1sgR2+H//1Qa49\n",
              "pFlP7EZwZbk7Y8lBL6SC1nAqJqtVwmjzekJjeXNOySqU//uPjYeF+5UewG0MEhCMn16Tt430659t\n",
              "O1a2/uVipVoQeyDRasTUVUJpX3n9MduFbdCFEPLMcexaJz7nGpqPbvGY0sbOHG9t3AAAs+FtRrrw\n",
              "S2X07NVTkwrMcx15LTp0bTCuULDbU0Nhl1y7eTkxEK2b4BhHczOaETDObTCqKUyo/C60I9LDNmrs\n",
              "Cc1pIe2UhQIuCY8rPvqWTg5okCFjdVBC8DusmozUz/AY1UAVKYmJ7RxPW39vxq2vrAITaZqRz6ZT\n",
              "PfmDXaNnZ8x00gCJT52ugHeYCnN36WCsJClLe0x3Mt6Tn+GWcJiL3S7wIsqisMrDOJ8g1duXV+8/\n",
              "UOeVL8wJ4GternQIYJ8MfVX7mViv+zVcWozkHPk2HrC1CbVhn5bHTyz9Paj7dxmyCDcv3HLoJGSe\n",
              "LdKj5zJhvTJwHk9SDsCfs3SK2jaZVVdnT6LbScuQtqmZ5im1kNO1Pui+m7k4WcYZdDmBmltVpOy8\n",
              "bi3mhBKAT21hiDbCIW4z7OFWjVqzVMqGV44TqT4//E+HD10ZGdg5d/8YLhokGyTO60CPWan78peh\n",
              "SVxxXrLvcaWdXF1Si2DOWfI9EN6dLLXykeTffET3gl7s1cYvic4L/vq8QQ7EUuzWHvSbcBaWDCQh\n",
              "12ravx4nf5mww2XeabOwWFIpDt7kPf3J668RqiwNQL7XQFpwFzlqjJVrXbwAkC1Eb/jjxUYDc1Ul\n",
              "RTGjHXzYWWsuLNY+ddaEcN+UvEtg+sJCmdcZmITSO9vc2rtS4SJv4/ZqGLjHStNpqQmLQ9yQsDFM\n",
              "KlC1SYCeQycYZU/c6Rl0ePutgBuwsfgvwucYoJF4VCJLVxbnEL7tYcIOq6faji0pcZSKVUe9Qx83\n",
              "+VKgEzgAL8bVLP14+dYuykTpiIhh0Pv8hg2yl/k0ACf7tq71J7gR1wxfvlZ4DDLMH/ulFLx468o0\n",
              "pGcAjRxfCP+UE3DvmRq8APSSh/29anHvqKvLL7H2y1srpq/NYlr08MoS52ap/tCwsWLnZFVXjTtl\n",
              "WGEYC6S9L+hia4PpNuGFwRNNJqPLHUWRQMu6qhIp1WuISzZ7HA8svn3uaR3oo/aCuXfV5xLk57Bb\n",
              "bGX+tU90baNfbPaqKtty/zRY0d1LhoiEnphmHJ0jyLOi6w5IaorUXa8ZIAsuZnjPVkMpDTVZjO6u\n",
              "ynHNwO+eyLhbuyMz9uIdFdRfdqw6mDm+72om9j3i/t+ExP+HO3B6wBIPqGutDYJFHXM1nchYOIbp\n",
              "WO9vgAwmkovbUtrXxWi/liJDA/kP9tj7iFMgb2Azs8DOPccVUkYcJeUDyj7m6bXghmPD2D3LkMkg\n",
              "6FDyBo78nGU1PMoQ04mqmJC/kKUShdPu6MiyqfLfF0AapWNceDHydSeRUh4b5+7kl/iQPWQJysVw\n",
              "ch5GRo70lksJRkKtBe8kWzpMEtSbq8VRS7rCrZgCpzAoixsi7ABJpPoB/+KfVSiKJgtuRkaARKeL\n",
              "RISkHhOZgdOH+qQJcu+Z35MgZGmU4o4B8B2H/4nxa8rLdeluwbzQTpS1yuVYAiTeV08D1R5gOcdT\n",
              "3WRqHszYAFInlMGAZpRPVtj/EERiygVcYOCvAnZK1ginGi+QamrE6WZbV/Li4EyUS3U0PtonoDGk\n",
              "QvUr2bRG2ZtwhfOf5HJ8hvt8LE3L3is+VzCtjDyEYjprfgUv8YFsCtG11Vn3ZiW2ruUbpzHxlH31\n",
              "1R64jo1Tio/nUOaGDN8oN8IbDt4k2VkxSUAl2H6PRQg4Q2LyZDr4+4ZOzKyXNrEnPLQUFMDXJvMH\n",
              "ah9NDWrbdPgY6OwRpeHvWA3tAN9nLdnwd0t5/MOAnv402umQqxrX9M98tsW+UnhfzPPyf9xb+je1\n",
              "S4f3hDM/8QIjYGc6HqSt8mhAyMlcDZb8jITV23wAR8GWtOAf+eaAAWwmzuitJ4YKI5rS/Q7tr5OD\n",
              "SrAtBvt9gYDnBh2TuNhDLe2oU8CJZQ7pxdo8ozugq67jSA9RZY/AHtF2KVXTcYGSZq8iTZxUEcsT\n",
              "H7Z3auG825CD89Eh0DP9ri3WKrPI8blOS+yZno1kAyB+XNAoE4UqjH4j2caWIl6GvQMCKiBvICNP\n",
              "yXwm/T6KdhGKwhKIivRnXtcOcAjDBdFxplV5KN2D71p3vCzX592PP/IX5pUp4KtINScBf27cmMK5\n",
              "HEv80ziTFxpM/r3H+9d/njQQT38sKuPonl/QRx4IMdj0bpErl0WO9fbBKnJoFLm4rmTAds72AAbf\n",
              "mrshMsghjvOQDGaur5m6m9DpZjZnWjcFGZxHEUMx7uHQXYSYHQpvslYXwxlmz0Pm8fHV2/Z+cAEb\n",
              "fgFiJk7oqc5pBc1Kv0r99jVQdvbLvRT5z4tTwD0zZvkh1WLYtGJBrAzEJdRIdaCOy/EA4ObBmjTS\n",
              "n27Kp8B/v5ynqAQrcSg3t9/8PA5KB3PGQ2SmUO1oaJeYDJMuLEe4iD32LuxVpj9YozZ0Os8DLFy3\n",
              "h9DjlGeiwJCQ61VlepiRvhu/E2CJ95pew1ZuCY+WEj9lLngJsP5NxQG1Ancror5JhdSyk3tL1eV2\n",
              "gN2A8TBwdePXzJpiij7CqB6aaiBVVyPKj2ERwroFLrxe3Prns4n+aopE6Bp6+oRtbk2E3CbnOtXH\n",
              "LOGiC9Ytjw7o+ne2F1TNlpvjUKGC8b3xpEO/ao2TsYQ/qkqQC8b/UU33g/er1oRt524Fg14vTo8M\n",
              "twyXjLJ4skRmcaDN8lbFfLrjmNTYpSbtoMciKuGP/aEZhicKvR/QQCLBvr8TKLby4lcafmbBB2Xa\n",
              "3c76zz2z2vaJ+zRzq8QgQ5rmtELUfp2vpl59eVRCmHfYh21HBeQ2lKMqW//IH3tS7Znyu8ZoegO8\n",
              "ZVo5UuaVpso1dfn4uQBhqLIxbb1lQGivpDG5sZ8vKa/SrRWlWL3bHY2ODuJpXggaYIUmpWAf+3xM\n",
              "YnqsoSJLizUvqMXw8fhUFLXTPoHHuWs4w8cRhBD9ZttCZZUP8C5gNn/bhNp5MMfjqMNkRi4eMQaz\n",
              "TUc02t9i8R6O0zEFkgsubVXvBru0/Oio/2aJFnpwS4Y56pa+bno+0NZsC2h0979/7hCQF5kQDf7o\n",
              "4+nz3HQLnWsMHRFFxbzehIJDqqOR0hXiv9tJP8XtumCR1J+WtpVz3IKqlIpVVLfcUAEg8G8o9x/r\n",
              "tANO4NjB+ccN/7xxQ79G/WMzu+1n7QBdVEnn95d5GcNP+DVdAWOoiMo/4nJ05RILcSiGE/7KAqko\n",
              "QcJWqpNNWOxHiXgcrVi6NLWug7g0JmGK9qnn3cmO+wU9a1YIrSPZyUY836UI7SKwLvXE6fDBxGXx\n",
              "7obFJK9X1oJYkIFLnmgFFXC9eBwlVbhawbWqZMc/LWtPl+1drHod3lCJ5L2L5SxnvAxqSk464ugi\n",
              "tYcNTCq4xNqnfjLJs6/bTP9Lsz50eHjDoRzDorsC8eBOioUGnpSvflttCuoj0NMsI6x7w/8b1war\n",
              "IieGBIkho0eyvnlUltDW7PeQaf2jX5ALkhIlbWs5zDAFrWaogLK5kSCFMzLuzD7Jup8zQ0I59bIz\n",
              "J5j+Kn+4trDjrzr4weW0SxGTt7QT20CzsZiT/BsalbS1vLav0g8n8RxjsEoID/21wk/K/165sm0F\n",
              "rR0+i98Agu2YABndpaK9ZHNouL05lGbezy3N4B0HbbfwkNzZQJHFCjS8J44DyOl0vVuT0X0WW2rf\n",
              "rTn64u6xDi50mS1kklPh/9/RXgxv9f9wYytIuuYr86Z/VYwC98jn0zPQ58Hz+4/7mEraQjT0sdEo\n",
              "D6a+p5DG+Y7/LKImhRMrcvcD28h6f3fCoRGff0REodDxTc4w3V2exLyFyXFUTaqBxXQ6fKPkDUGH\n",
              "ENX9Il5vXlKf5L6Hy7nLS/VC5zAmyCCjyyOKRZP0D/4XNM7Lw569KwilgoCwvv7WM9WBbApuiLni\n",
              "yI9djwCiSNKbUJWfSsGsosBzJ+4rZ8Baz0/KMz51iyys9qOTqgPjyBzg/b8d/jfpy/V1IgDsEOy2\n",
              "ftfIzEQv+BXPVNYF4UWzePDdEZH74DSVrS1tNGoDtbmb+INN7uzSIhmphZTHPl8gd67cKoSB4OQx\n",
              "5NJptd0REpVZR2zPYAip3+6X0iLwkGhB8/78NFJAMqoSREsW1TUwBRX1nk0qw0Qoh568NA/TjD7i\n",
              "n9w18mNWHC/medbihlV1YbfmnL0BQw21Pe+YGc6HqSt8mhAyR/xDsvuSaQTkj4GXyRVwTQQFa7ys\n",
              "QnA7JyHHpJ7KaQao/8ifJ/o5FX5aB4VvKhC8jGXNJycKQiUsygVmkT4jWtjhcEv47zuQJdKJN+Oq\n",
              "PJiE9VB+26uC1ZVoKq95iBv6MBCbI8aVvJNZ+c4FOZUBkrSpXtoOlGgvayGBOmGA5aBGPyq9hj3p\n",
              "c/dPFNABw380o5oyX8PQMrTsEZpHPsG6QW6p/JOIo27YnWPYzJcwyNOfmnoht0nMuZ6rHUK5Tu3G\n",
              "Kr88110eFLsn7g3IeQvqQ4KnEKvz7mIZ0Ty+qYgCOqZIUHRIRPr5FpjlzQaiQTyDmZCXwiSPm3hO\n",
              "6SxyygL3/yei6ru2XFQ+smsugT56DjiXnhKQ3xavv5FK9tV/WNwwssFUrmNnwIc9YOCAbQK0uMym\n",
              "UFMSpqPPTUxIIOLMjffjsaKeBsEYQZ3hXnx4DWHHT8RakNs5grdBCcOtTKPS7HgdRhH0kP2bAyeE\n",
              "MHjocmYG+HPhDg+fWF24+97ijRwtdMulaI0h64Nh08n/dSBgKNE8L/e3EKDbo3S9AeLA5Csw5ISy\n",
              "EaN6XPJNlJ2zqS4Pks/7iVXp1SuTiGIxsTHRpNMdx/GYIxT8zMcP1P1VvbqbkAzZkbAzCVKY+uAt\n",
              "ZNd3jlJfOV9+7IlCp3sAt0Nv5QmoAJzmGv+At7BlsTaNQzEJmXWoi97h1gHaYHLYO8tvOJqfWnug\n",
              "BJc++CBB9TbCddrzsAlBgpoHAitjDj01JCkzcVEAdDjkafCSHYafmdnzApXfBuk3XcTbQL+vI4di\n",
              "TryHWKU9wi4cqmBzoueEOt2J4+/1KX7ydoUM3zkGsZvdFEhNwNlnRdAoCeK0fra9UrrAXTVOLVwP\n",
              "xrYXS81bwrP3TSkE1H0zlYp0iInEWoxElKpVKJa8L87vdU2BUn4LqpQybbIpsddrV4Ys8DFa2zsC\n",
              "4OUU93tn0MINsCsdK8znV/JY59YsNUWfY1eJb6hxTWTk7Z4b/eTa0/hPqBM3JnoaY/2tnY3R3s3X\n",
              "6FwYscQ9W89cqgbRK1JCmP2pDe10FO7w1AAPK6nS8jJLchQQp5MoCitMZ7+ReQJ88UM9NCI7nBEI\n",
              "pmhz0TIf+5rBqnDOOOqM5WYftLXAj/gDhG9c4w5JO8dV2gcrSwHtvtOlFTXxErQbRvkPg53gKQ2x\n",
              "v/2kcLCF4sFNdTBeAsejlienWywwiwa6ZCZNNb5iXc97RKz8+qQS+F9b582HgYvegn27Mon1n7/A\n",
              "WOzUN5qyZh2fwU0BbQTzb8i5jp/bu5C+T5o0OYXA+gqfwNKX1gaIi4lXzCa6TRlCFKWtYqFOmhBs\n",
              "rVtyTCC6BPvcDfk6qJLZcF3xgvSgnqGHiZgJRbch4gg3B+so39zW4QMVzui+OaVmxTqun8JRkoYr\n",
              "62j/kI83jTrNmgMFjhZV7UxFueKX/BMxDE1Qe5lRGJl21KLnKSqDTO0tbhbXex6xEucbK9cc9ibx\n",
              "j/MvzwAB8JGLGy1pzk0hSInWjFGddfBv4LjFZDnUhSRCB7HSV1YWVmcJSAYyt7gQ1kUkhnVH+p/Z\n",
              "XM1yRnq6nCAG0YO07ib5YR1wxt1iu/qtDMcdlecQB7T1KQR9bMLIX+TQPUpwA0JolMb/b7LWmqCI\n",
              "vzSkP6wfQ/8zEdx6ohVASGor8R52rN66SGUsBUXx9TkeuDElAH5whqh+fYj6q+OzqdtqR+ofo9oN\n",
              "x2fPI4nmMmr3d/hQwHcIZS5e2CtjnE3CzkI/926wKk4NXMty6wkY9nyrbs1FT7x+9ofQVDQEZncO\n",
              "IfCMYWyc6OR/jLCFHuHvlh1w3SxwN0XfXKAT8S/BZKy3nZ3LKZt1+TjcKs/5aDV/jTT6FQF6mh/V\n",
              "4zOM7VGM48+CP6rXb7FatzLezKPZDRi6WlgwP+feKAAF38fptfL1ZJVwmmcqv/Q4KQdMjqFLkqra\n",
              "PqGTmdrfkzt8jXLK4QI/pL7RpkUP0l3wXGMTCR0OuW3aBQL7O4mUyWApH67iGH6ORaWmZsdvPo8t\n",
              "j6jA87CFXTr1gs388q85z4WX0Q0golT/owhnxMLu+e5vYjnQdivABAvRIKPzbhDFcl3RnYPJ13+S\n",
              "jD4hnpi05fYce8GQgZczTwpUW33Y//M03Es9+eEI30IwmJISYQOgtUSPgTTYT75IcLo+b1S+FYAm\n",
              "pM47PQcjL5Aar2cbR0MZAKKtYZwUZfSugWmV6GIhfZR2CeSvqKK/Zc0n22BxXCPp0IbXfkbjd12/\n",
              "3J23Pbis1NlDXlV860R0OLSxAj6wcroIgjROcnrK1x16CeB8ZHG+x184CIMn+GsygofaZUNozvL7\n",
              "dWmVtUJtm1SGvqmqU+HrcykpTQWF7kvDzYwLFgBOpt8GV+O/76s0rdrcCl7tbWidtwB2GittaeW7\n",
              "BO1Jql8+o/Mk6ddDMOOeWtl7TuNdWkmOjwR946wZnXzfZbuOdhjnhozB3MMsTbidE0PQ6DZ9A4PN\n",
              "ZCXw/xGul9gWxCM5gKxyTeEPL87B6CcqeUmnjruJyLnmdanDV7tkSuKbOwjgAJyU6Vuxe61/2pC8\n",
              "Q2fRRZYawCLjCH8cGVAj8M24nQsVYns5POQ5cOOWIAWYsIALTKzBjbEytflykXDHv7iVEOwZkCDD\n",
              "NhVYZREH61FK0iMbrYq8NT5Xt0AH4ynmMLnvNJzAOq4m6ZTWp6MTv+uiYFkvipMgt/Ux18idkOAZ\n",
              "HUakd4olkAhLtzLWn/kG2Af1ulMCmAshjfKM8NbPMnDddxMs860W2ehg6vnua7vaM1lFIIsy9Z01\n",
              "fO9nrEkuNVHQHmXpvnZxcqZfTKqI0+Ubt5t4zSXYBK8ady82Xikogxm88PGNOtJvB39GWrVOkaPJ\n",
              "v2+wyGiESc8nK/SnYRMnx8v92d+Gp++sh3/uX1fSlt8pUB6hFsariUrKQ4m3CROaekXgQV7p+phb\n",
              "f9A6fMU3sAp++eoNB4+/XjxvCE2gugrJQXd+faIgbaw9pXy+y+TQOIPN3nN5UnFSZJHRkFdOny6R\n",
              "PYoLsyg81O8YF+QphA2Ud2FeM/yH2I/WRnWVevanzsXPoTs7LbB92g0N3hCiD7ndwAcWBKc9QJ97\n",
              "ZANWJKQ0xF0bkC14YAqxd3qIrd7EjTtE5/VsXuPr/UngbFdqbyZp+AV3kx9BTBWybvR+wFkml6Si\n",
              "Qxv2vSZwP8h5rBt/05igLBtNukIoeeGC9+sleS3WWzQ9Xb6FgI0s1hdxLHENhFQ+bvLZSKxVatow\n",
              "RrTzXfNtRduIy5X5tH7oB2FexbZr6EyTqaluT78xQwmvHWMw78RpI91dz3JG7tkSLsIM9rFFMCFv\n",
              "RjXTPYUYpTVthCfLkDoOIczuK/gf/xKieUX0EfiUuPR5evEEO9AP8HS57cWf/u5EOjQhjJzmTJUf\n",
              "UMYB+j/Nag9255NSmB+V6STPekRCGcnWhDLrZVjyaATfAfVKtbe8vjw+JMIPVF/zIGg1Z2lmjttK\n",
              "U7Ue8AQqpK59O/BT78AjQ7G6zi9tHdwZAGe08FUnmVBsRLiva6slB9vw2kLCs6Zel25yl9UChYrV\n",
              "Khaip8hO1ncPX0pzO0+yhSBobQ437RfasxrIUA48fFvtdG5nYL9YmC573bMnrNgugu6APkBZ9JII\n",
              "YL/55IG/u386CE6eMmu3fNw7TgeL/hlyqbzrCxxP776kI7IIgPO+xwEbI/mc/YhbgJ0Z/FVm8KSh\n",
              "2eDUwjwQMMuMLBaZnmcmwtx3CbxekM0RV5DLGc0D+hpS4mRPvWwD52aa6FsXvhMa99oPf9aQ0bPf\n",
              "MeMSQekkpv1ptmMyf9dXk3cPUm08sJ+KCNtXtgmqya8X8ql5l/MF240A+erFKgPt8oCpXaVAX9VN\n",
              "VQcnIBgXTcU++emRkkdY2QQB5CD0ERMi/c8ZBGfaCHhZDmuhkgIxZOuRJhrzrOZgrbquDaN2KDCq\n",
              "tVyzBCq/bWJYYSiUK2CZhnUk62y0E5PXHlgqrFIsIjRwFI8Nl0PHe5vD19WGPwzPnwZSnI8FWHB8\n",
              "AxXkHRt1JeW0nP0m+UQxDGs51B1ioAkjDQUhn2kDZGkJ16uuXMWpjE95avbwszCT95AypaEqirw2\n",
              "VLmPKpxfqtOa8qBANK1PqlmOfR8vHh1Ro4SyKH018uWkiVYY/OlsNxdiS2+iZYJ72m6vhrdIfdlk\n",
              "mZjwKkNffSNFS+UJhOC9HTuVe9BriQAp20SzhcP25L1bH1/9Pycgu2jHwR5EkffoEL0FcY9Gr3bn\n",
              "9hVmjR9xWeNhNnPx7x7HFPgKFjBQj9tG7sGuioOuzNBnweNWWpQtI7p6LWu1n/hEBnT+w/1rst0b\n",
              "jziDj7HdQSIeLURm6XWDHlQv0Td39VYffXIQrrmgudpGCqf1/inQFg5e8ep0A8zJb/3qUzkNYr6r\n",
              "zbFCTnlrJGy1c6e8ETo1VKDDBzfUug5ld/MCaxU43uZSobgDIxSmm9gAPNYlDuGHUvNL23xm9/ht\n",
              "iqkg/L8n9HXgTGCuvWlyyUWFhPpkbHBvFv2BmVdyWMjXtmJFZFslYrXEXFRiUEMT4rHQsXiInsvL\n",
              "Ti8D2WZVsGURu+9DFeksLXuNvmLwY7cauKTE6xj/n5uICcQ0FNOzvSIjBBDirsaOnWoCECJXXJoO\n",
              "kX7DuF/+XIZ8ORyCV+jrSXT+yfLj7WCtbL2nZtmLxeO9Tndv8c1xzMXvJkBFwZ9+FDg++gSju0sZ\n",
              "M9J8CW8/NZQqKE+wz5pjuWpC/ZwWRNtyMfxWDLtje5h8j7zARLbVe5Ta+mkH9488xc69hDoTRwXp\n",
              "TrxFzzPsv94/aaUbcijC9qkkagDdcnSd06Jojm/KrwLTvJjg2sPEyHnIVTAz85MkzPSi+S+3sK0F\n",
              "LmdOtP+emXWedMAU9hoEkhfg6y76oeapS1XSILCuL6mjqhu4uzIr4U9kyr07QY+0Ws52FLPw7RND\n",
              "XvnE0qD+sBgRAENaWIyZdNerdMf4kj2Pp7lsNBzLVPfFeZMm6r42qV8Pvqrx7iSGRyJCw5DsSwHS\n",
              "ieheloPAYn2cDknx1qfcaG2HK/c6zkOJclLcjRKfBwzke+04SPLggPKQcEy1l/H1AeiD5TtESiid\n",
              "IZQRJdnNyPgZvrzJiSUaNE8c2KIUvCS/tceQkoAzNu/0OmlT8/Wydh0ZYNCmwaGhePwh2U/cwBoa\n",
              "ZJjbNwCa4KjEO2RasNs8+23/py7pQUbzffBC/IMDyNx27B4lSIVQt7pAEok/CIOSq3Rhu0WQvCpX\n",
              "oFmwzGjxL6wsL215u23ih6M2Zl0Qb1Dhr5kMRH6VPIM4k3M7tTg9NkurJ1iy/Y9xx+nvtazXLltc\n",
              "PbaBo7NYYHUFoBQAJVmCvlVmD60wbsS10ZDhIAEB/HfjfEphV+t8ArjDZxFEJ1KxfeTzMsOuR7pT\n",
              "k6JTlRsqWX4YhGgctnnERN4rOrYcgkYRgs45lKLBNsVAyzQi8fnhGz0MOiuA4UcELOZNy0nHuWld\n",
              "J0VnFVvQ7bk8I+FfwgQaD2mnSMDsy4j7cPQlHKgtg9u882DMVl22seFtrWlM3D4N6ZC+7YwaaAGY\n",
              "zxX3WXQ1Ab/F1LJ6vz/KGj3ZYW5hoj0v4vR0BKs26E6RhyBG8efKXc1HfUqxdIGge2eDwVNnKCb8\n",
              "jjrbT4H0D+JzVDVIxyVmQef+I/r+y9hO0aBPT1t8Ty3CgZ/06BK2MxpTvc1lu1QUnTGjw1dURaU0\n",
              "pxJiT+wbKYQf+xhuTPHpN2J1Thy8oca+xZgz3vrNtchbCM8hPKKoFgK5tfMSswdo95PqjOaFWI+g\n",
              "iwUWsFB/pRweX7jTu4qnWekgfBommIMvkc2UdYYIlOe2NH23FRditcXDQD28Wl+whFglf7whKM6e\n",
              "g+rirfiWVAsYnSuQBl/mFwBfEsUUCCl9kJbQj0xdCZE342ccdTg10RXOCiZzp/iM2GGro48nrhBg\n",
              "1tkga3azmO3tDlC82rBFvk/rtJTJmOWIKnig93rS8P02LHWa8OHeH78bfdYVPzZYEt9mTz/cuaxb\n",
              "A5q86IkuFdtkZGMfmnttQkaX/VuMg+DkbeQhXx1qDqhOJFYULV+5Ugxla3po9AFuGklj/4NCIDj/\n",
              "wAzqI0oPhxDFZpfEk9LAeFtIRaeNplT6rO3e++brePB9/pAQOT73cPsOCu70xJRHyD/NAMATeYh5\n",
              "h6K1M4wUKpDwNZdHVXCA3Rm6Fov0NFJVIX9Av8G2vYZtSO6bxk816jPVd/nb1Cih23b7Ir6HpKNm\n",
              "YwjClJcOXp0pEz4dP/EOzdT53SFz9pSLG8r1typ/JHsbnCqGyKZBMO0H7vhuyWvqNqTIvrhrlrjs\n",
              "PEQEHnq6yyife4f4y3MA5zIHUYWltPo0WIX6+UK9r7xK575geUybIB5rws0fDSqLrq1mF2fCGiCF\n",
              "ErErY1VnMTMbgTaosTObEBfYue5VBsS6t3ddkYejmsHhRQkmn3R9/RHF7RP2NkM5oUaL48ZZVPmU\n",
              "0oxFV9kKUw4AG9rv4D4Mx3zW3lqO2lSWakcyJJyQdUSdhcVqQXNIocHXUaq3hQaXveM68UqLqQpy\n",
              "u4sih+uGSfZ3xUuyVWcaElTZyIjxYaZZbOWRS49y2t1D7gLW+KeWYAEH1IL06FOjK5zjyAQzuhjq\n",
              "npdsH3I9zKJJ5fByv6P+Cn1ScPcp8Z+nN6pc3SnHXNE6SIPd90JPz+pf7YLdQMf6u0hRO7EdhhRT\n",
              "KZw/11JfgLKpuqMzqAhYuCL35atuByl6PzlxpyKVdNQ+mC3GKc/d85gBi66/4iCaFjqBdgXBwzyT\n",
              "tmplstBWmw3Bgu+A3+NZPWGMUr7HRAN7mQnt3j9VC6TAN2DzXDfjXiTVJuNnQSwF4w5ybOqKgTTp\n",
              "Hpe1minCzT8fkl/oUSsi8gusOPpY0Kg/LtriP6xm/X02oaRopkJ+OZCjdnrxZ0j4E9BVhJ6rNdyJ\n",
              "P2SIJWnhDVj2MhEPM+I4m/7ANHX7JAzl3C5da17/ZLtvB6N+qSC/VZMDI3nR3r5aLAmb0qDmxMfG\n",
              "QXb3vftVVwtDv22QOgW1euKQ3d9URcfIQGQC/fGlIbsQZx+KoW+A5RSgnXEYPAfm9ehRMsa+SeDs\n",
              "vf38CLAJnOhAY9e+yPar3ojL/0wwD8dt8h9CUlKzRefDPIBEq8n+xR4KCsHlvQSI28C9mlDxSoSP\n",
              "33sJMro4U5ednOaqmPgqnCbo4OUlHiKBAYc/RPzfxqHlbqskbZar4/jyBoITvmVz7IBhnasKvYx3\n",
              "WD3YGjb3GdokAprYC3QtAHpEhB9N32F6fhKvR/5Vto6F0R44g+6ubYnrTAvcWtp2eoFHwX1e1VsK\n",
              "TJC1/zBjtVzd++DxrOrulZiuvCNxhjEkJSS9POY7313xw/Wh5uSt690YD2aY/xoSfYETKzs3P5qK\n",
              "mOeoE+9sgFOkanRKD9cjWvb/KK6lfzC0D10PyTI6h7D6YsgsfBvpNEUaEQ1pOLHdZLG1es1vU/tl\n",
              "7IuqB6xgJ7rl/65fEAOqRaRNEz1TWZXnBdRka0Fn91Z03VsDc6aOSGvzXCbsaMtz8XR/ZuLRq2dr\n",
              "wwBQlCXKkKUq9pQ+fUSZUCUgJStmWfE/++57WUuyeXNMpZd23JFeAPbHDi58J07TTWxyfgbin6xL\n",
              "UDg/j1bHq5AKTGkfudQe3uqF71Xi3fQV1QiaqYT1UxebN9Smxc/0TU+qHl9gS9wHmg+NBTTc8ClC\n",
              "hft5s83Ob7IH8K3BAK/b72LMkPR5RmZFCZ5yhsIWsPKi6Qebdr5VvsHC/u/D4JrwThVKlxxnQnD2\n",
              "b8GZbDEvQ6knfOzqizaBGE+0wGAqduTxUHdm8qOY9WAXkRWHO1FJYcMyl9xEvsOYFrYchBjeZIuR\n",
              "x/N564YhvOXg7TtzxmpLxYcTSCS0h03NiY+FhWS4egJc4Z35CibGk+rW0FqaEX+Jz5f8sUAq2iur\n",
              "MEtVgJ228NQ8SxoH5/cdQtATaPlkBx+A6ozuah1iTqjp2uuau2JzZD5W6bioX8C7VECh4AbunNR9\n",
              "rcQOHd2YlHU/tJtH6SzXph/unkaAvD4/dfTAc8fpgXUSxMTUnhGZZS7AdrV6LBve+EiVWB/hi7eX\n",
              "q3crzRy7VXOb71umTLAG1mtevKHnysk7LiHalH3NX7pCRymIgJe8VJ3s96jMt4Ah3lqXJ3kTkSIx\n",
              "T2j0fzmlQd/wazzWBrTC8hD0Ge4QLkL6G2mG+/vkCxM/o/U17+alsJeBJTVsXIkaM/7H1a5Nly7O\n",
              "L8hTgZELO6AKBq89898RbiApQudPkpLAY1hOnNqGDdjibIOr1rwlzZb05PAaCwXgcTOWZqcPJ6kr\n",
              "rgiQfC5fFowXQu1BFze/bcRfa3aD24aFKhbUKQ1BEPkpnw249NVPrjJU3ukPUEI1kif39RaGW9Xe\n",
              "TT7d4lUOHeWKvA/nYGPUBL290Sa9tjCrJFMmHnxLPjqy/VYTk0n1xhRaziaM5xCFgIRD9xEzJAAA\n",
              "HpEAAAF+QZokbEF//tqmWAEh6H/40D66gA+YyhtIWNhgezlDYS6z9BvtOptxmH+5reoe7m3Izvbn\n",
              "vkB+ESPJvdWRpKQaiS9opAC7rQ6ya40x5995NGAwQLLnpBWa6CgEV2LPuXT3aL+Ug/L++6ah1jS0\n",
              "WsBNHJYeIuMFs5DrF6xss0RF1LKbWpb7yJOVN3n8hPq1SW076djGPKO5n70XJVWL0KKWPcZOcxWW\n",
              "qvaMJUjT4RSFyEHO9px9ywb9+UA81EfHK+SxfNBlIvKZvZrouIFASI3aH3ycvoEbZVsJalKBP33w\n",
              "NAJIuP3utItdW+ZX4zHRctr84KSQg/rPJyfNkipIXzJ18gZQOHvdoW8yY1kYmeUIKch/3HV8MRwR\n",
              "6xNQwGvxUhA9VChSWmdXr3omJ8wQ4bDgBLGgLp4T7blmvECPmZmQxScexQtsGLHndu9VUmFDs8Ff\n",
              "+MtD5wmO4bItWrZfM3MCguPaxi+53shkDUKaNMJ2L5j4vvA+dteqU0enjuEoIAAAAXhBnkJ4gt8A\n",
              "AHuJMrm+4N9iAAQVOSMdO5WCAwmr080OAF37QKHg3iAC7wSlPgNFEAmWCRB0v6WYcqvSsvbyANMp\n",
              "lk59YNTafP6p5vz5wwdURU4WulmgKKNO59OSJzxVugovuvuigfavIkY661v848WL7h66gtBhh9sD\n",
              "De5FIB4KzRIrVq/8L2ve002kiRq0ENHYcI7ubsg4JNiy3eXXJIYR1ps729pE9qgLDY15THazXV0K\n",
              "2oGd1JD8kWutsxy1AFezkwr/6YyPCl8A8qKrMTAkH0S+BTaajxoy/Id9Gdwzn/Rubqee34qEoVFW\n",
              "6DlW0iKKiSF+EuL28vxxfTpoma0cPBkUx5QiheZjruE4YTTXFTMZXsoOwSt/u19XJ0n5e46vCFJy\n",
              "UX11euRhlSJtWhzNB3lnxCBphKkADenD5W2skVpyQgJlDDalGn/A7MG+imiOEP4yOL2s9dtSuz5w\n",
              "l+qU5bzkz8v97KktCwA+4hFlj8ZkHhF3MAuJAAAA4wGeYXRBXwAAw1o/PgOSSCS9jFyPd+FPyaXK\n",
              "Ix3IKF9gVeYOC++rh/DfdQl5AkGed63f1RORqC2nMuisngwkm/ZK+Kc4Fj6JbiHn6Cug+mlKJlQZ\n",
              "63Rb0pPRVrTeZsljDGcuIus5f9geGVrc3OhFVLF2bDC+QrpN347hN4oRPQuqeoW08OKqhSPtGXsS\n",
              "VuKrH6czNI5aUVOAc6TQ5IrNKkk5rn9g1XRgXvQeciOXeQkndAouVfPXiBBGrEQTjmoEo4aNOdrn\n",
              "0WNZfH6Nrox8qWzyjPGASVnMZJINKvaKgtDlgNmAAAABaAGeY2pBXwAAwaWiOBgBNam2fx1fFVeq\n",
              "c9NlX93pwgb2WCJvuFkNr2WLj6kkqR+P0TQtMWwZU+z37M6ZfvQ4dG7ch+eg1wvs/i3ooG8iDp5N\n",
              "2DpAncHgvJC8+OdmB7aPENpqezbIdPmj/eEUQiZQN/IJW4iPdVdXTEitCsz6R+FiHSJdypf6oNXT\n",
              "2Kcz4DWiHlIZkLJcHbaG2SBxxjXfcg0WUcsHEpQLlG8QLHRpdVFplmGVVoC+shuBMAM89oAhDxJ4\n",
              "iyDMRZ5aLc5dk/XPUxzKYBaWqn3/QQa0M1/covs8w34hlm8UlAC4XSMDhwXmDtvac12t5Z78KuHu\n",
              "QeXZOxE4k+gBss+1u8/1wrcsF8fy6DeiiqpYZiFmV1R8FkfrOYI8P/UDJo1PpcdRTvWEyzU6m8sJ\n",
              "nWD/BLW1rjWDJaC9OmT73gzgBj5yN6+5IQeKI47UoFwR5h9F+ImS/vfkYzCwcsJkNMoEPQAAAM1B\n",
              "mmZJqEFomUwU8F///tqmWAEgebakAIULvfaIrLN3loOrd8t/E/0E2wIn7Hbud/aQSZxKu5KRFEsa\n",
              "pgu94ASmPlO5Y6+apKUVVLB5XZlXHMJ8kiFgcseg2geD/9//seqjmVpjYX5JqUqD1jWHufwvUPs+\n",
              "F/klqbF29moEJlNzIOmAi8MWvcSAeFR2sNXctxb/BAABEbDEm66eIJLu59HV8Fudp2h07eQ6tWYi\n",
              "c9Wk9oUIDkORhFYrGuP69U+2a3nlg45tEkB8vLAN6ApfAAABTQGehWpBXwAAwfPf+ZGRNCAEC1uM\n",
              "UT/afDVtIAMNqzS3FP0fhvtRxpzyYstI4iSngg68j9iXmv7XF8MoPpesDXbFLf65MzgenZ5RXBgG\n",
              "hF1cyM00lH0l3+fPlpbl9pGe/zHzrU3FBQSJ1w07RlvTXe5/r1jlJxFJgmcL3OEFJ2bSbq+VkFbR\n",
              "5Fhn/wMJDea0yKEPM/KmsRoacslA8LQnhFcxv1qzhucYVl0rqVZsOcN6nk6WB0da0rtTpxukLQaC\n",
              "+hq4aN0+ZHElDQpFnL80UIbSzwNUVoNqUFgPhxSNzNK8Tc/78e2efAh6WFirAHKha+PHjJD2hlOW\n",
              "B6weiCmUsOPaMVqGPzL9OS/N/micbw5UM07ZlvX12CXTJKNUn3YWjqPil0Ov8IGjgcT+JtIe6j3S\n",
              "YKe96mE7488f4H5i2MNcw4Jv/qQCJ6VVJKoGpQAAANVBmolJ4QpSZTAgr//+1qVQASBcAKNq5D/B\n",
              "qTbj3Xv+TlzghAAhFchSG7CepAhLoBMEpz1oRYkaiT/GlDR2kw9gxaXs5TNl0I/q+qnC/CfZz3p2\n",
              "GypgbgIIsKaV0clpr39+l/Frhpemdrr0Vl7KIGoJ9Mtzrc0LW0ENAC07zOFv/vY9W7ajlITmc+dl\n",
              "Oda1DgdWQvswWX92xsZI7jxjY04+Eysb132waKR7gaWXX3RYsJG4/3fs4RbMvB1CcMcRBlwfxpAN\n",
              "HIiaZd7CsIivBBITIMlAAqcAAADyQZ6nRTRMFf8AAMMxrAfBgBu28HfBwa5XiKFkl0lTiDF/jgQ6\n",
              "xcCVDPXcITKkEvwZibnO1LBQGfZ0VNsOvSVIokkH70OHRqNiMrWj7047hcjc8fkY3DIkDBydweC8\n",
              "eyuqesxm99Dp/k0UNUldhumirDPwSAoFHP/12j8xfY+XFs/RspuWZfzLWLV1vHIEH0N6OsrHdLph\n",
              "CMPytaKPxkFNGUwohCmlGqQfKazfrJrBw5fcOj41ycR/AwHHa8PYehoXd/OSWWVGij6+9vGArGRO\n",
              "Uvu791m4HVg6az3wAwgGxRuV4+FC8Su3BaVGUqoAxrcmCXgAAADvAZ7IakFfAADDW0VMT9pucob4\n",
              "I/tupttab7coCZK6e6AyDVBHMsAA6O1TACEWNoAIA8QYN61vvzwiTu31LEiXYvJ7g2sxMCvwhTXB\n",
              "IfhIywkgJQ9pBI1T+xiXe2Fk+7t0H9K5LlKWpc/T2EMSaJ2bdziRVF2Dm8cjNGTMxyU9uKZKmJHm\n",
              "1Ui3n8kXk1MJsZ5u2S/s5orcYKrEqMQnix1UAGnYR5WWznT/qBNIZvJYtKraJZ1+EFhQGNXYny+j\n",
              "MyxPQF3TvFPtV78OYzSS1thoJy2z84G2u68460rByCAdQqw+vhbvsZj+ZK6TZAMgWUAAAAOibW9v\n",
              "dgAAAGxtdmhkAAAAAAAAAAAAAAAAAAAD6AAAJxAAAQAAAQAAAAAAAAAAAAAAAAEAAAAAAAAAAAAA\n",
              "AAAAAAABAAAAAAAAAAAAAAAAAABAAAAAAAAAAAAAAAAAAAAAAAAAAAAAAAAAAAAAAAAAAgAAAsx0\n",
              "cmFrAAAAXHRraGQAAAADAAAAAAAAAAAAAAABAAAAAAAAJxAAAAAAAAAAAAAAAAAAAAAAAAEAAAAA\n",
              "AAAAAAAAAAAAAAABAAAAAAAAAAAAAAAAAABAAAAAAoAAAAHgAAAAAAAkZWR0cwAAABxlbHN0AAAA\n",
              "AAAAAAEAACcQAACAAAABAAAAAAJEbWRpYQAAACBtZGhkAAAAAAAAAAAAAAAAAABAAAACgABVxAAA\n",
              "AAAALWhkbHIAAAAAAAAAAHZpZGUAAAAAAAAAAAAAAABWaWRlb0hhbmRsZXIAAAAB721pbmYAAAAU\n",
              "dm1oZAAAAAEAAAAAAAAAAAAAACRkaW5mAAAAHGRyZWYAAAAAAAAAAQAAAAx1cmwgAAAAAQAAAa9z\n",
              "dGJsAAAAt3N0c2QAAAAAAAAAAQAAAKdhdmMxAAAAAAAAAAEAAAAAAAAAAAAAAAAAAAAAAoAB4ABI\n",
              "AAAASAAAAAAAAAABAAAAAAAAAAAAAAAAAAAAAAAAAAAAAAAAAAAAAAAAAAAAGP//AAAANWF2Y0MB\n",
              "ZAAW/+EAGGdkABas2UCgPaEAAAMAAQAAAwACDxYtlgEABmjr48siwP34+AAAAAAcdXVpZGtoQPJf\n",
              "JE/FujmlG88DI/MAAAAAAAAAGHN0dHMAAAAAAAAAAQAAAAoAAEAAAAAAFHN0c3MAAAAAAAAAAQAA\n",
              "AAEAAABYY3R0cwAAAAAAAAAJAAAAAQAAgAAAAAABAAFAAAAAAAEAAIAAAAAAAQAAAAAAAAABAABA\n",
              "AAAAAAEAAMAAAAAAAQAAQAAAAAABAAEAAAAAAAIAAEAAAAAAHHN0c2MAAAAAAAAAAQAAAAEAAAAK\n",
              "AAAAAQAAADxzdHN6AAAAAAAAAAAAAAAKAAAxeQAAAYIAAAF8AAAA5wAAAWwAAADRAAABUQAAANkA\n",
              "AAD2AAAA8wAAABRzdGNvAAAAAAAAAAEAAAAwAAAAYnVkdGEAAABabWV0YQAAAAAAAAAhaGRscgAA\n",
              "AAAAAAAAbWRpcmFwcGwAAAAAAAAAAAAAAAAtaWxzdAAAACWpdG9vAAAAHWRhdGEAAAABAAAAAExh\n",
              "dmY1OC43Ni4xMDA=\n",
              "\">\n",
              "  Your browser does not support the video tag.\n",
              "</video>"
            ]
          },
          "metadata": {},
          "execution_count": 17
        },
        {
          "output_type": "display_data",
          "data": {
            "text/plain": [
              "<Figure size 640x480 with 1 Axes>"
            ],
            "image/png": "[encoded data removed]"
          },
          "metadata": {}
        }
      ]
    },
    {
      "cell_type": "markdown",
      "source": [
        "###  **g. Ejemplo 7**. Considere el E.A:  Consiste en lanzar un par de dados  **distinguibles**\n",
        "- El espacio muestral es $\\Omega=\\{(1,1),\\cdots,(1,6),(2,1),\\cdots,(2,6),(6,1),(6,6)\\}$ . $\\sharp(\\Omega)=36$\n"
      ],
      "metadata": {
        "id": "zLZiVywzNGSG"
      }
    },
    {
      "cell_type": "markdown",
      "source": [
        "###  **h. Ejemplo 8**.  Considere el E.A:  Consiste en lanzar un par de dados **no distinguibles**.\n",
        "\n",
        "- El espacio muestral es $\\Omega=\\{(1,1),\\cdots,(1,6),(2,2),\\cdots,(2,6),(3,3),\\cdots,(3,6),(4,4),\\cdots,(4,6),(5,5),(5,6),(6,6)\\}$. $\\sharp(\\Omega)=21$.\n"
      ],
      "metadata": {
        "id": "5xdP3WT6NGWv"
      }
    },
    {
      "cell_type": "markdown",
      "source": [
        "###  **i. Ejemplo 9**. Considere el E.A:  Lanzar un dado y luego tirar una moneda tantas veces como indicó el dado.\n",
        "- El espacio muestral es $$\\Omega = \\{(1C),(1S),(2CC),\\cdots,(2SS),\\cdots,(6CCCCCC),\\cdots,(6SSSSSS)\\}$$ .\n",
        "- $$\\sharp(\\Omega)=2^1+2^2+2^3+...+2^6=126$$.\n"
      ],
      "metadata": {
        "id": "O5Mha2PlNGbW"
      }
    },
    {
      "cell_type": "markdown",
      "source": [
        "\n",
        "##  **j. Ejemplo 10**.  Suponga que se lanzan dos dados y la moneda el total de veces que dicen los dados. ¿Cuántos resultados hay?\n",
        "\n",
        "\n",
        "|Resultado|Total|frecuencia|Total moneda|Total|\n",
        "|:-:|:-:|:-:|:-:|:-:|\n",
        "|(1,1)|2|1|$2^2=4$|1*4=4|\n",
        "|(1,2), (2,1)|3|2|$2^3=8$|2*8=16|\n",
        "|(1,3), (2,2), (3,1)|4|3|$2^4=16$|3*16=48|\n",
        "|(1,4), (2,3), (3,2), (4,1)|5|4|$2^5=32$|4*32=128|\n",
        "|(1,5), (2,4), (3,3), (4,2), (5,1)|6|5|$2^6=64$|5*64=320|\n",
        "|(1,6), (2,5), (3,4), (4,3), (5,2), (6,1)|7|6|$2^7=128$|6*128=768|\n",
        "|(2,6), (3,5), (4,4), (5,3), (6,2)|8|5|$2^8=256$|5*256=1280|\n",
        "|(3,6), (4,5), (5,4), (6,3)|9|4|$2^9=512$|4*512=2048|\n",
        "|(4,6), (5,5), (6,4)|10|3|$2^{10}=1024$|3*1024=3072|\n",
        "|(5,6), (6,5)|11|2|$2^{11}=2048$|2*2048=4096|\n",
        "|(6,6)|12|1|$2^{12}=4096$|1*4096=4096|\n"
      ],
      "metadata": {
        "id": "8WrWV24NZGGq"
      }
    },
    {
      "cell_type": "code",
      "source": [
        "def contar_resultados():\n",
        "    total_resultados = 0\n",
        "\n",
        "    for dado1 in range(1, 7):\n",
        "        for dado2 in range(1, 7):\n",
        "            suma_dados = dado1 + dado2\n",
        "            resultados_moneda = 2 ** suma_dados\n",
        "            total_resultados += resultados_moneda\n",
        "\n",
        "    return total_resultados\n",
        "\n",
        "total_resultados = contar_resultados()\n",
        "print(f\"El número total de resultados posibles es: {total_resultados}\")\n"
      ],
      "metadata": {
        "colab": {
          "base_uri": "https://localhost:8080/"
        },
        "id": "nZUdVSgqLLlU",
        "outputId": "bb64a916-a44c-4365-e5f9-e22788630229"
      },
      "execution_count": 18,
      "outputs": [
        {
          "output_type": "stream",
          "name": "stdout",
          "text": [
            "El número total de resultados posibles es: 15876\n"
          ]
        }
      ]
    }
  ]
}