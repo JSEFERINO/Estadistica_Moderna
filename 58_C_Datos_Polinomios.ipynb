{
  "cells": [
    {
      "cell_type": "markdown",
      "metadata": {
        "id": "view-in-github",
        "colab_type": "text"
      },
      "source": [
        "<a href=\"https://colab.research.google.com/github/JSEFERINO/Estadistica_Moderna/blob/main/58_C_Datos_Polinomios.ipynb\" target=\"_parent\"><img src=\"https://colab.research.google.com/assets/colab-badge.svg\" alt=\"Open In Colab\"/></a>"
      ]
    },
    {
      "cell_type": "markdown",
      "metadata": {
        "id": "tvWruVdAfPkW"
      },
      "source": [
        "# **Curso Teoría de Probabilidad por Julio Hurtado Márquez**\n",
        "## **Polinomios**\n",
        "# **Librerias para usar en esta parte del curso**"
      ]
    },
    {
      "cell_type": "code",
      "source": [
        "\"\"\"\n",
        "Programa que simula un juego de dados usando la libreria random\n",
        "\"\"\"\n",
        "\n",
        "#Importamos la libreria random\n",
        "import random\n",
        "print(\"** JUEGO DE AZAR CON DADOS**\")\n",
        "#Creamos una varable llamada dinero\n",
        "dinero = 0\n",
        "#Le pedimos al usuario la entrada de un entero que en este caso sera el numero de intents\n",
        "intentos = int(input(\"Ingrese cantidad de intentos:  \"))\n",
        "#Creamos un bucle for\n",
        "for i in range(intentos):\n",
        "    #Creamos nuestro dado\n",
        "    dado = random.randint(1,6)\n",
        "    #Si el dado es igual a 6, ganaras $4\n",
        "    if dado == 6:\n",
        "        dinero=dinero+4000\n",
        "        print(\"Dado = 6, Ha ganado $4000\")\n",
        "    #Si el dado es igual a 3, ganaras $1\n",
        "    elif dado==3:\n",
        "        dinero=dinero+1000\n",
        "        print(\"Dado = 3, Ha ganado $1000\")\n",
        "    #Si el dado es igual a 1, no ganaras ni perderas dinero.\n",
        "    elif dado==1:\n",
        "        print(\"Siga participando\")\n",
        "    #Si el dado es igual a 2, 4 0 5, perderas $2\n",
        "    elif dado==2 or dado==4 or dado==5:\n",
        "        dinero=dinero-2000\n",
        "        print(\"Pierde $2000\")\n",
        "#Mostramos tu dinero actual\n",
        "print(\"Ganancia Total: $\", dinero)\n",
        "print(\"Resultados en cada intento: \", dado)"
      ],
      "metadata": {
        "colab": {
          "base_uri": "https://localhost:8080/"
        },
        "id": "bFDR5rzp59Um",
        "outputId": "96f43312-baf2-4fcc-ef45-d3090cdeee4f"
      },
      "execution_count": 1,
      "outputs": [
        {
          "output_type": "stream",
          "name": "stdout",
          "text": [
            "** JUEGO DE AZAR CON DADOS**\n",
            "Ingrese cantidad de intentos:  10\n",
            "Pierde $2000\n",
            "Pierde $2000\n",
            "Pierde $2000\n",
            "Pierde $2000\n",
            "Siga participando\n",
            "Siga participando\n",
            "Pierde $2000\n",
            "Pierde $2000\n",
            "Pierde $2000\n",
            "Dado = 6, Ha ganado $4000\n",
            "Ganancia Total: $ -10000\n",
            "Resultados en cada intento:  6\n"
          ]
        }
      ]
    },
    {
      "cell_type": "code",
      "source": [
        "\"\"\"\n",
        "Algortimo para la resolucion de operaciones entre 2 polinomios\n",
        "\n",
        "Ejercicio: Resolver la siguiente multiplicación de polinomios\n",
        "\n",
        "P(x) = 7*x**3 + 2*x**2 + x - 7\n",
        "Q(x) = x**2 + 3\n",
        "\n",
        "\"\"\"\n",
        "# Creamos una función\n",
        "def Suma(a,b):\n",
        "    return a+b\n",
        "\n",
        "def Resta(a,b):\n",
        "    return a-b\n",
        "\n",
        "def Multiplicación(a,b):\n",
        "    return a*b\n",
        "\n",
        "def División(a,b):\n",
        "    if b ==0:\n",
        "        return 'ERROR'\n",
        "    return a/b\n",
        "\n",
        "\n",
        "\n",
        "import sympy\n",
        "\n",
        "#Obtenes los dos polinomios introducidos por el usuario\n",
        "P1 = input(\"Primer Polinomio: \")\n",
        "P2 = input(\"Segundo Polinomio: \")\n",
        "print(\"\\n\")\n",
        "\n",
        "#Definimos los simbolos\n",
        "sympy.init_printing()\n",
        "x,y = sympy.symbols('x,y')\n",
        "\n",
        "# Luego almacenamos en varibles los dos polinomios procesados por la funcion Poly de sympy\n",
        "Poly1 = sympy.Poly(P1)\n",
        "Poly2 = sympy.Poly(P2)\n",
        "\n",
        "continua = 1\n",
        "\n",
        "\n",
        "# Ingresa dos numeros\n",
        "\n",
        "while continua == 1:\n",
        "    # Menu\n",
        "    print(' Selecciona una opción: ')\n",
        "    print('1. Suma')\n",
        "    print('2. Resta')\n",
        "    print('3. Multiplicación')\n",
        "    print('4. División')\n",
        "\n",
        "    opción = int(input('Ingresa tu opción 1, 2, 3, 4: '))\n",
        "\n",
        "    # Condicional\n",
        "    if opción == 1:\n",
        "        print('1. Suma =', Poly1,'+',Poly2,'=', Suma(Poly1,Poly2))\n",
        "    elif opción == 2:\n",
        "        print('2. Resta =', Poly1,'-',Poly2,'=', Resta(Poly1,Poly2))\n",
        "    elif opción == 3:\n",
        "        print('3. Multiplicación =', Poly1,'*',Poly2,'=', Multiplicación(Poly1,Poly2))\n",
        "    elif opción == 4:\n",
        "        print('4. División =', Poly1,'/', Poly2,'=', División(Poly1,Poly2))\n",
        "\n",
        "    else:\n",
        "        print('Esta opción no es valida')\n",
        "\n",
        "    continua = int(input('¿Deseas continuar? 1: Si, 2. No '))\n",
        "    print('_________________________________________________')\n",
        "\n",
        "\n",
        "\n"
      ],
      "metadata": {
        "colab": {
          "base_uri": "https://localhost:8080/"
        },
        "id": "GctTI98pGsBv",
        "outputId": "075aae8e-8e4d-4e81-babe-43ff0e4552bd"
      },
      "execution_count": 2,
      "outputs": [
        {
          "output_type": "stream",
          "name": "stdout",
          "text": [
            "Primer Polinomio: 7*x**3 + 2*x**2 + x - 7\n",
            "Segundo Polinomio: x**2 + 3\n",
            "\n",
            "\n",
            " Selecciona una opción: \n",
            "1. Suma\n",
            "2. Resta\n",
            "3. Multiplicación\n",
            "4. División\n",
            "Ingresa tu opción 1, 2, 3, 4: 3\n",
            "3. Multiplicación = Poly(7*x**3 + 2*x**2 + x - 7, x, domain='ZZ') * Poly(x**2 + 3, x, domain='ZZ') = Poly(7*x**5 + 2*x**4 + 22*x**3 - x**2 + 3*x - 21, x, domain='ZZ')\n",
            "¿Deseas continuar? 1: Si, 2. No 2\n",
            "_________________________________________________\n"
          ]
        }
      ]
    }
  ],
  "metadata": {
    "colab": {
      "provenance": [],
      "mount_file_id": "13X7nPE01ohpMi0ISyxuJIiqLTpL66n3c",
      "authorship_tag": "ABX9TyMyGUh6jPbrOz+gIv8HWVW5",
      "include_colab_link": true
    },
    "kernelspec": {
      "display_name": "Python 3",
      "name": "python3"
    },
    "language_info": {
      "name": "python"
    }
  },
  "nbformat": 4,
  "nbformat_minor": 0
}