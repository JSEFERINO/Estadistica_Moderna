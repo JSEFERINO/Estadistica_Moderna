{
  "cells": [
    {
      "cell_type": "markdown",
      "metadata": {
        "id": "view-in-github",
        "colab_type": "text"
      },
      "source": [
        "<a href=\"https://colab.research.google.com/github/JSEFERINO/Estadistica_Moderna/blob/main/59_C_Datos_Simpy.ipynb\" target=\"_parent\"><img src=\"https://colab.research.google.com/assets/colab-badge.svg\" alt=\"Open In Colab\"/></a>"
      ]
    },
    {
      "cell_type": "code",
      "source": [
        "from sympy import *\n",
        "import sympy as sp"
      ],
      "metadata": {
        "id": "a6nmkqbg5xHq"
      },
      "execution_count": null,
      "outputs": []
    },
    {
      "cell_type": "code",
      "source": [
        "x, y, z, t = symbols('x y z t')"
      ],
      "metadata": {
        "id": "S2OCfJyA5f8u"
      },
      "execution_count": null,
      "outputs": []
    },
    {
      "cell_type": "code",
      "source": [
        "(x**2-18*x*y+9*y**2)**3"
      ],
      "metadata": {
        "colab": {
          "base_uri": "https://localhost:8080/",
          "height": 41
        },
        "id": "tU4GhgMV6NQF",
        "outputId": "f15f7141-1bae-4f81-d439-606b55146def"
      },
      "execution_count": null,
      "outputs": [
        {
          "output_type": "execute_result",
          "data": {
            "text/plain": [
              "(x**2 - 18*x*y + 9*y**2)**3"
            ],
            "text/latex": "$\\displaystyle \\left(x^{2} - 18 x y + 9 y^{2}\\right)^{3}$"
          },
          "metadata": {},
          "execution_count": 10
        }
      ]
    },
    {
      "cell_type": "code",
      "source": [
        "expand(_)"
      ],
      "metadata": {
        "colab": {
          "base_uri": "https://localhost:8080/",
          "height": 39
        },
        "id": "MsG91JMS6bWS",
        "outputId": "260436a9-480f-4f68-8a41-f5cc14eb668e"
      },
      "execution_count": null,
      "outputs": [
        {
          "output_type": "execute_result",
          "data": {
            "text/plain": [
              "x**6 - 54*x**5*y + 999*x**4*y**2 - 6804*x**3*y**3 + 8991*x**2*y**4 - 4374*x*y**5 + 729*y**6"
            ],
            "text/latex": "$\\displaystyle x^{6} - 54 x^{5} y + 999 x^{4} y^{2} - 6804 x^{3} y^{3} + 8991 x^{2} y^{4} - 4374 x y^{5} + 729 y^{6}$"
          },
          "metadata": {},
          "execution_count": 12
        }
      ]
    },
    {
      "cell_type": "code",
      "source": [
        "_10.expand()"
      ],
      "metadata": {
        "colab": {
          "base_uri": "https://localhost:8080/",
          "height": 39
        },
        "id": "qNs2PzDI6bcI",
        "outputId": "d6d350a4-b1cb-4da8-d7f9-a006a8213cbe"
      },
      "execution_count": null,
      "outputs": [
        {
          "output_type": "execute_result",
          "data": {
            "text/plain": [
              "x**6 - 54*x**5*y + 999*x**4*y**2 - 6804*x**3*y**3 + 8991*x**2*y**4 - 4374*x*y**5 + 729*y**6"
            ],
            "text/latex": "$\\displaystyle x^{6} - 54 x^{5} y + 999 x^{4} y^{2} - 6804 x^{3} y^{3} + 8991 x^{2} y^{4} - 4374 x y^{5} + 729 y^{6}$"
          },
          "metadata": {},
          "execution_count": 13
        }
      ]
    },
    {
      "cell_type": "code",
      "source": [
        "#apart?\n",
        "(3*x**2-2*x+1)/(x-1)"
      ],
      "metadata": {
        "colab": {
          "base_uri": "https://localhost:8080/",
          "height": 55
        },
        "id": "iLW67cBN6bi5",
        "outputId": "5d1b42a6-bd68-4974-bf18-490404970471"
      },
      "execution_count": null,
      "outputs": [
        {
          "output_type": "execute_result",
          "data": {
            "text/plain": [
              "(3*x**2 - 2*x + 1)/(x - 1)"
            ],
            "text/latex": "$\\displaystyle \\frac{3 x^{2} - 2 x + 1}{x - 1}$"
          },
          "metadata": {},
          "execution_count": 15
        }
      ]
    },
    {
      "cell_type": "code",
      "source": [
        "apart(_)"
      ],
      "metadata": {
        "colab": {
          "base_uri": "https://localhost:8080/",
          "height": 52
        },
        "id": "Ko5BInj47vYq",
        "outputId": "2fe6becf-0123-4163-b403-2472d196adf9"
      },
      "execution_count": null,
      "outputs": [
        {
          "output_type": "execute_result",
          "data": {
            "text/plain": [
              "3*x + 1 + 2/(x - 1)"
            ],
            "text/latex": "$\\displaystyle 3 x + 1 + \\frac{2}{x - 1}$"
          },
          "metadata": {},
          "execution_count": 16
        }
      ]
    },
    {
      "cell_type": "code",
      "source": [
        "_15.apart()"
      ],
      "metadata": {
        "colab": {
          "base_uri": "https://localhost:8080/",
          "height": 52
        },
        "id": "SmM4QBHm7ven",
        "outputId": "8e4f7365-edba-487a-ae89-a3eaaa1030ae"
      },
      "execution_count": null,
      "outputs": [
        {
          "output_type": "execute_result",
          "data": {
            "text/plain": [
              "3*x + 1 + 2/(x - 1)"
            ],
            "text/latex": "$\\displaystyle 3 x + 1 + \\frac{2}{x - 1}$"
          },
          "metadata": {},
          "execution_count": 17
        }
      ]
    },
    {
      "cell_type": "code",
      "source": [
        "x**3+9*x**2+27*x+27"
      ],
      "metadata": {
        "colab": {
          "base_uri": "https://localhost:8080/",
          "height": 39
        },
        "id": "0ohJhuxJ7vk1",
        "outputId": "7906158e-7014-4feb-dac5-f1e177dff824"
      },
      "execution_count": null,
      "outputs": [
        {
          "output_type": "execute_result",
          "data": {
            "text/plain": [
              "x**3 + 9*x**2 + 27*x + 27"
            ],
            "text/latex": "$\\displaystyle x^{3} + 9 x^{2} + 27 x + 27$"
          },
          "metadata": {},
          "execution_count": 19
        }
      ]
    },
    {
      "cell_type": "code",
      "source": [
        "factor(_)"
      ],
      "metadata": {
        "colab": {
          "base_uri": "https://localhost:8080/",
          "height": 39
        },
        "id": "Z9YBH-Vs8sVq",
        "outputId": "27ae1d69-263a-4f23-942c-def1ffbed7c6"
      },
      "execution_count": null,
      "outputs": [
        {
          "output_type": "execute_result",
          "data": {
            "text/plain": [
              "(x + 3)**3"
            ],
            "text/latex": "$\\displaystyle \\left(x + 3\\right)^{3}$"
          },
          "metadata": {},
          "execution_count": 20
        }
      ]
    },
    {
      "cell_type": "code",
      "source": [
        "_20.factor()"
      ],
      "metadata": {
        "colab": {
          "base_uri": "https://localhost:8080/",
          "height": 39
        },
        "id": "JRuqU6Ck8sb0",
        "outputId": "4687d25e-d807-4412-b2d7-092acd1d0c5b"
      },
      "execution_count": null,
      "outputs": [
        {
          "output_type": "execute_result",
          "data": {
            "text/plain": [
              "(x + 3)**3"
            ],
            "text/latex": "$\\displaystyle \\left(x + 3\\right)^{3}$"
          },
          "metadata": {},
          "execution_count": 21
        }
      ]
    },
    {
      "cell_type": "code",
      "source": [
        "sin(2*x+3*y)"
      ],
      "metadata": {
        "colab": {
          "base_uri": "https://localhost:8080/",
          "height": 39
        },
        "id": "9fxdyhSS8sg7",
        "outputId": "898536b9-2ff0-4fa4-9c82-64f28bec650c"
      },
      "execution_count": null,
      "outputs": [
        {
          "output_type": "execute_result",
          "data": {
            "text/plain": [
              "sin(2*x + 3*y)"
            ],
            "text/latex": "$\\displaystyle \\sin{\\left(2 x + 3 y \\right)}$"
          },
          "metadata": {},
          "execution_count": 22
        }
      ]
    },
    {
      "cell_type": "code",
      "source": [
        "expand?"
      ],
      "metadata": {
        "id": "GPJbw15b9ofL"
      },
      "execution_count": null,
      "outputs": []
    },
    {
      "cell_type": "code",
      "source": [
        "expand(_,trig =True)"
      ],
      "metadata": {
        "colab": {
          "base_uri": "https://localhost:8080/",
          "height": 60
        },
        "id": "Ma7TL3oC9T3x",
        "outputId": "51034621-1dc5-4a4b-eba1-336fba18b0b5"
      },
      "execution_count": null,
      "outputs": [
        {
          "output_type": "execute_result",
          "data": {
            "text/plain": [
              "8*sin(x)*cos(x)*cos(y)**3 - 6*sin(x)*cos(x)*cos(y) - 8*sin(y)**3*cos(x)**2 + 4*sin(y)**3 + 6*sin(y)*cos(x)**2 - 3*sin(y)"
            ],
            "text/latex": "$\\displaystyle 8 \\sin{\\left(x \\right)} \\cos{\\left(x \\right)} \\cos^{3}{\\left(y \\right)} - 6 \\sin{\\left(x \\right)} \\cos{\\left(x \\right)} \\cos{\\left(y \\right)} - 8 \\sin^{3}{\\left(y \\right)} \\cos^{2}{\\left(x \\right)} + 4 \\sin^{3}{\\left(y \\right)} + 6 \\sin{\\left(y \\right)} \\cos^{2}{\\left(x \\right)} - 3 \\sin{\\left(y \\right)}$"
          },
          "metadata": {},
          "execution_count": 24
        }
      ]
    },
    {
      "cell_type": "code",
      "source": [
        "expand_trig(_22)"
      ],
      "metadata": {
        "colab": {
          "base_uri": "https://localhost:8080/",
          "height": 39
        },
        "id": "Fn2VgA3-9T-g",
        "outputId": "63a5c2e7-e9cb-4418-8c2c-d8c725fba21a"
      },
      "execution_count": null,
      "outputs": [
        {
          "output_type": "execute_result",
          "data": {
            "text/plain": [
              "(-4*sin(y)**3 + 3*sin(y))*(2*cos(x)**2 - 1) + 2*(4*cos(y)**3 - 3*cos(y))*sin(x)*cos(x)"
            ],
            "text/latex": "$\\displaystyle \\left(- 4 \\sin^{3}{\\left(y \\right)} + 3 \\sin{\\left(y \\right)}\\right) \\left(2 \\cos^{2}{\\left(x \\right)} - 1\\right) + 2 \\cdot \\left(4 \\cos^{3}{\\left(y \\right)} - 3 \\cos{\\left(y \\right)}\\right) \\sin{\\left(x \\right)} \\cos{\\left(x \\right)}$"
          },
          "metadata": {},
          "execution_count": 27
        }
      ]
    },
    {
      "cell_type": "code",
      "source": [
        "expand(_)"
      ],
      "metadata": {
        "colab": {
          "base_uri": "https://localhost:8080/",
          "height": 60
        },
        "id": "EY9jQPIo9UDA",
        "outputId": "0334a3d7-13b6-406e-915a-b0383971f8f8"
      },
      "execution_count": null,
      "outputs": [
        {
          "output_type": "execute_result",
          "data": {
            "text/plain": [
              "8*sin(x)*cos(x)*cos(y)**3 - 6*sin(x)*cos(x)*cos(y) - 8*sin(y)**3*cos(x)**2 + 4*sin(y)**3 + 6*sin(y)*cos(x)**2 - 3*sin(y)"
            ],
            "text/latex": "$\\displaystyle 8 \\sin{\\left(x \\right)} \\cos{\\left(x \\right)} \\cos^{3}{\\left(y \\right)} - 6 \\sin{\\left(x \\right)} \\cos{\\left(x \\right)} \\cos{\\left(y \\right)} - 8 \\sin^{3}{\\left(y \\right)} \\cos^{2}{\\left(x \\right)} + 4 \\sin^{3}{\\left(y \\right)} + 6 \\sin{\\left(y \\right)} \\cos^{2}{\\left(x \\right)} - 3 \\sin{\\left(y \\right)}$"
          },
          "metadata": {},
          "execution_count": 28
        }
      ]
    },
    {
      "cell_type": "code",
      "source": [],
      "metadata": {
        "id": "xuSBWHZXdYnf"
      },
      "execution_count": null,
      "outputs": []
    }
  ],
  "metadata": {
    "colab": {
      "provenance": [],
      "mount_file_id": "13X7nPE01ohpMi0ISyxuJIiqLTpL66n3c",
      "authorship_tag": "ABX9TyN+TNeYM7SZgP8OvJcFEEFZ",
      "include_colab_link": true
    },
    "kernelspec": {
      "display_name": "Python 3",
      "name": "python3"
    },
    "language_info": {
      "name": "python"
    }
  },
  "nbformat": 4,
  "nbformat_minor": 0
}