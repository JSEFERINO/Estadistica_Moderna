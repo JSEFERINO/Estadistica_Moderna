{
  "cells": [
    {
      "cell_type": "markdown",
      "metadata": {
        "id": "view-in-github",
        "colab_type": "text"
      },
      "source": [
        "<a href=\"https://colab.research.google.com/github/JSEFERINO/Estadistica_Moderna/blob/main/01_C_Datos_Declaraci%C3%B3n_de_Variables.ipynb\" target=\"_parent\"><img src=\"https://colab.research.google.com/assets/colab-badge.svg\" alt=\"Open In Colab\"/></a>"
      ]
    },
    {
      "cell_type": "markdown",
      "source": [
        "# **Curso Introductorio de Estadistica Moderna por Julio Hurtado Márquez**\n",
        "- Python tiene por defecto un editor de texto llamado _idle_\n",
        "## **Parte I**"
      ],
      "metadata": {
        "id": "dtTDnApxnCpU"
      }
    },
    {
      "cell_type": "code",
      "execution_count": null,
      "metadata": {
        "id": "NUJLmwAkEDNa"
      },
      "outputs": [],
      "source": [
        "import pandas as pd\n",
        "import numpy as np"
      ]
    },
    {
      "cell_type": "markdown",
      "source": [
        "# **Clase No. 1: Introducción Informal**"
      ],
      "metadata": {
        "id": "xPcsXm1UnvF2"
      }
    },
    {
      "cell_type": "markdown",
      "source": [
        "# **1. Declaración de Variables**\n",
        "* Deben ir acompañadas por el signo igual (=) y no Deben comenzar por números\n",
        "- - Incorrecto 2x = \"Hola\"\n",
        "- - Correcto x2 = \"Hola\" o x_2=\"Hola\""
      ],
      "metadata": {
        "id": "1RbFnLwN4UCd"
      }
    },
    {
      "cell_type": "markdown",
      "source": [
        "## **a. Algunos objetos en Python**"
      ],
      "metadata": {
        "id": "zx7e1QhvaTR-"
      }
    },
    {
      "cell_type": "code",
      "source": [
        "## **a. Algunos objetos en Python**\n",
        "\n",
        "\"Hola Mundo\" # Una expresión\n",
        "[1, 10, 100] # Una lista\n",
        "-25          # Un entero\n",
        "1.167       # Un real\n",
        "[\"Hola\", \"Mundo\"]  #una lista\n",
        "' '        # Un espacio en blanco"
      ],
      "metadata": {
        "colab": {
          "base_uri": "https://localhost:8080/",
          "height": 35
        },
        "id": "IsvLNJ1MoKXm",
        "outputId": "aa4b037c-68ec-435b-b30c-7af2182dd440"
      },
      "execution_count": null,
      "outputs": [
        {
          "output_type": "execute_result",
          "data": {
            "text/plain": [
              "' '"
            ],
            "application/vnd.google.colaboratory.intrinsic+json": {
              "type": "string"
            }
          },
          "metadata": {},
          "execution_count": 2
        }
      ]
    },
    {
      "cell_type": "markdown",
      "metadata": {
        "id": "HNHcsFgOaUsN"
      },
      "source": [
        "# **2. Hello world: función print()**\n",
        "- Para mostrar un mensaje en pantalla\n",
        "* En Python se usa la función \"_print()_\" para imprimir valores en la consola o en un archivo de salida.\n",
        "Codigo print()\n",
        "\n"
      ]
    },
    {
      "cell_type": "code",
      "execution_count": null,
      "metadata": {
        "colab": {
          "base_uri": "https://localhost:8080/"
        },
        "id": "njDUEoRlanoT",
        "outputId": "c4ee9c12-7a0c-4004-8fb8-4417b88cfcc5"
      },
      "outputs": [
        {
          "output_type": "stream",
          "name": "stdout",
          "text": [
            "Hello world\n"
          ]
        }
      ],
      "source": [
        "print(\"Hello world\")"
      ]
    },
    {
      "cell_type": "code",
      "execution_count": null,
      "metadata": {
        "colab": {
          "base_uri": "https://localhost:8080/",
          "height": 35
        },
        "id": "fqlEOZxJaeG6",
        "outputId": "4c95fae0-7777-4e5c-97f8-7fc918da1cea"
      },
      "outputs": [
        {
          "output_type": "execute_result",
          "data": {
            "text/plain": [
              "'Hello world'"
            ],
            "application/vnd.google.colaboratory.intrinsic+json": {
              "type": "string"
            }
          },
          "metadata": {},
          "execution_count": 4
        }
      ],
      "source": [
        "\"Hello world\" # sin usar print"
      ]
    },
    {
      "cell_type": "code",
      "execution_count": null,
      "metadata": {
        "colab": {
          "base_uri": "https://localhost:8080/"
        },
        "id": "3wIG9cOGP3wf",
        "outputId": "d086be9a-44e3-4519-9869-546c9f25c1e3"
      },
      "outputs": [
        {
          "output_type": "stream",
          "name": "stdout",
          "text": [
            "Julio Hurtado es mi profesor Favorito\n"
          ]
        }
      ],
      "source": [
        "print(\"Julio Hurtado es mi profesor Favorito\") # imprime frase"
      ]
    },
    {
      "cell_type": "code",
      "source": [
        "edad = 25\n",
        "print(f'Cuanto quisiera tener {edad} años')"
      ],
      "metadata": {
        "id": "nP2PDVTbhRFM",
        "colab": {
          "base_uri": "https://localhost:8080/"
        },
        "outputId": "8d2d1d71-431d-42fc-d0ea-30e1e008bfba"
      },
      "execution_count": null,
      "outputs": [
        {
          "output_type": "stream",
          "name": "stdout",
          "text": [
            "Cuanto quisiera tener 25 años\n"
          ]
        }
      ]
    },
    {
      "cell_type": "code",
      "source": [
        "nombre = 'Julio Hurtado'\n",
        "edad   = 25\n",
        "print(f'Hola a todos, me llamo {nombre} y tengo {edad} años cumplidos')"
      ],
      "metadata": {
        "colab": {
          "base_uri": "https://localhost:8080/"
        },
        "id": "5fqaPNrf54AY",
        "outputId": "15dedfb7-9259-4539-9d43-b0b28ef300f4"
      },
      "execution_count": null,
      "outputs": [
        {
          "output_type": "stream",
          "name": "stdout",
          "text": [
            "Hola a todos, me llamo Julio Hurtado y tengo 25 años cumplidos\n"
          ]
        }
      ]
    },
    {
      "cell_type": "markdown",
      "metadata": {
        "id": "EwTdzyA9bWA-"
      },
      "source": [
        "# **3. Tipos de Datos: Función type** -\n",
        "* En Python, existen varios tipos de datos. Los mas comunes:\n",
        "- - Números: entero (int)\n",
        "- - - Son números enteros.\n",
        "- - Flotante (float)\n",
        "- - - son números decimales, se pueden representar por notación científica.\n",
        "- - Cadena de Texto (str)\n",
        "- - - Son secuencia de caracteres que se utilizan para representar texto. Se pueden oncluir letras, números, símbolos y espacios.\n",
        "- - Valores Booleanos.\n",
        "- - - Son valores que pueden ser Verdadero (True) o Falso (False). Se utilizan comunmeente en expresiones condicionales y operaciones lógicas."
      ]
    },
    {
      "cell_type": "markdown",
      "metadata": {
        "id": "ZAA-RRBAf_0J"
      },
      "source": [
        "# **a. Numéricos**"
      ]
    },
    {
      "cell_type": "code",
      "execution_count": null,
      "metadata": {
        "colab": {
          "base_uri": "https://localhost:8080/"
        },
        "id": "byS9qQvYbOPi",
        "outputId": "0c2fc7b3-2e4d-4688-fc73-a11b95200cd0"
      },
      "outputs": [
        {
          "output_type": "execute_result",
          "data": {
            "text/plain": [
              "int"
            ]
          },
          "metadata": {},
          "execution_count": 8
        }
      ],
      "source": [
        "type(1) # Conocr el tipo de variable"
      ]
    },
    {
      "cell_type": "code",
      "execution_count": null,
      "metadata": {
        "colab": {
          "base_uri": "https://localhost:8080/"
        },
        "id": "INmWTX1LbOZI",
        "outputId": "6e1b1a69-d45c-46f7-b4dc-be617e79c636"
      },
      "outputs": [
        {
          "output_type": "execute_result",
          "data": {
            "text/plain": [
              "float"
            ]
          },
          "metadata": {},
          "execution_count": 9
        }
      ],
      "source": [
        "type(2.5) # tipo de datos float o decimal"
      ]
    },
    {
      "cell_type": "code",
      "execution_count": null,
      "metadata": {
        "colab": {
          "base_uri": "https://localhost:8080/"
        },
        "id": "x7H5PdYAbOhj",
        "outputId": "dcef361e-7920-42ed-cf8c-992961ed789d"
      },
      "outputs": [
        {
          "output_type": "execute_result",
          "data": {
            "text/plain": [
              "0.8"
            ]
          },
          "metadata": {},
          "execution_count": 10
        }
      ],
      "source": [
        "1+2 #Operaciones\n",
        "3*5\n",
        "4/5"
      ]
    },
    {
      "cell_type": "code",
      "execution_count": null,
      "metadata": {
        "colab": {
          "base_uri": "https://localhost:8080/"
        },
        "id": "hq7OUSBQbOro",
        "outputId": "a176045a-2d2d-45ed-a97c-da3aaeff92c2"
      },
      "outputs": [
        {
          "output_type": "execute_result",
          "data": {
            "text/plain": [
              "bool"
            ]
          },
          "metadata": {},
          "execution_count": 11
        }
      ],
      "source": [
        "type(True)"
      ]
    },
    {
      "cell_type": "code",
      "execution_count": null,
      "metadata": {
        "colab": {
          "base_uri": "https://localhost:8080/"
        },
        "id": "mm_C9VWKcFlA",
        "outputId": "241df437-b507-4df2-8e2d-ff53ae7e011f"
      },
      "outputs": [
        {
          "output_type": "execute_result",
          "data": {
            "text/plain": [
              "bool"
            ]
          },
          "metadata": {},
          "execution_count": 12
        }
      ],
      "source": [
        "type(False)"
      ]
    },
    {
      "cell_type": "markdown",
      "metadata": {
        "id": "LsoKpN6pcYGV"
      },
      "source": [
        "# **b. Cadena de texto**"
      ]
    },
    {
      "cell_type": "code",
      "execution_count": null,
      "metadata": {
        "colab": {
          "base_uri": "https://localhost:8080/"
        },
        "id": "nvoIej8PcFsu",
        "outputId": "44ed0855-f371-4ae8-f122-1e6712c83bd1"
      },
      "outputs": [
        {
          "output_type": "execute_result",
          "data": {
            "text/plain": [
              "str"
            ]
          },
          "metadata": {},
          "execution_count": 13
        }
      ],
      "source": [
        "type(\"Julio Hurtado\") # str cadena de texto"
      ]
    },
    {
      "cell_type": "markdown",
      "source": [
        "# **4. Declaración de valores desde Teclado**\n",
        "\n",
        "* Para declarar un valor desde el teclado primero debemos definir una variable, a continuación debemos utilizar estas palabaras:\n",
        "- - int(): Se utiliza prar transformar un dato de tipo texto en númerico entero.\n",
        "- - float(): Se utiliza prar transformar un dato de tipo texto en númerico con decimal.\n",
        "- - input(): Permite ingresa datos tipo Texto.\n"
      ],
      "metadata": {
        "id": "FRSgUR6C6h06"
      }
    },
    {
      "cell_type": "code",
      "source": [
        "a = input(\"Ingrese su nombre \")\n",
        "b = int(input('Ingrese su edad en años cumplidos '))\n",
        "c = float(input(\"Ingrese su estatura en metros \"))\n",
        "print(f'Tu nombre es {a}, tienes {b} años cumplidos y mides {c} metros de estatura' )"
      ],
      "metadata": {
        "colab": {
          "base_uri": "https://localhost:8080/"
        },
        "id": "BOQjPVLm7pdv",
        "outputId": "6b221bf9-b674-4b26-b8d6-8c7e2466c7a9"
      },
      "execution_count": null,
      "outputs": [
        {
          "output_type": "stream",
          "name": "stdout",
          "text": [
            "Ingrese su nombre Julio Hurtado\n",
            "Ingrese su edad en años cumplidos 54\n",
            "Ingrese su estatura en metros 1.75\n",
            "Tu nombre es Julio Hurtado, tienes 54 años cumplidos y mides 1.75 metros de estatura\n"
          ]
        }
      ]
    },
    {
      "cell_type": "markdown",
      "source": [
        "# **5. Operadores Matemáticos**\n",
        "- - \"+\": Suma\n",
        "- - \"-\": Resta\n",
        "- - \"*\": Multiplicación\n",
        "- - \"/\": División\n",
        "- - \"%\": Resto de la División\n",
        "- - \"//\": El cociente entero de la división\n",
        "- - \"**\": Potencia\n",
        "* Nunca se deben usar corchetes o llaves para expresiones algebraicas solo ()"
      ],
      "metadata": {
        "id": "cXJjhUWc83Yu"
      }
    },
    {
      "cell_type": "markdown",
      "source": [
        "## **a. Expresión aritmética**"
      ],
      "metadata": {
        "id": "KRKxRdbUqigt"
      }
    },
    {
      "cell_type": "code",
      "source": [
        "## **a. Expresión aritmética**\n",
        "operación = ((2*4)/6+2**3)/(2+5)\n",
        "print(\"El resultado de esta operacion es\", operación)"
      ],
      "metadata": {
        "colab": {
          "base_uri": "https://localhost:8080/"
        },
        "id": "ORfRISF79moq",
        "outputId": "e19e5c59-7aa7-4153-d6ba-1ad63de41733"
      },
      "execution_count": null,
      "outputs": [
        {
          "output_type": "stream",
          "name": "stdout",
          "text": [
            "El resultado de esta operacion es 1.3333333333333335\n"
          ]
        }
      ]
    },
    {
      "cell_type": "markdown",
      "source": [
        "## **b. Determina mentalmente (sin programar) el resultado que aparecerá por pantalla a partir de las siguientes variables:**"
      ],
      "metadata": {
        "id": "CILL9n0sqzmL"
      }
    },
    {
      "cell_type": "code",
      "source": [
        "## **b. Determina mentalmente (sin programar) el resultado que aparecerá por pantalla a partir de las siguientes variables:**\n",
        "a =  int(input('Ingrese el primer numero '))\n",
        "b = int(input('Ingrese el segundo numero '))\n",
        "c = int(input('Ingrese el tercer numero '))\n",
        "d = [a, b, c]\n",
        "print(f'El binomio ({a}+{b})^{c} = {(a+b)**c}')\n",
        "print(f'El binomio ({a}+{c})^{b} = {(a+c)**b}')\n",
        "print(f'El binomio ({b}+{c})^{a} = {(b+c)**a}')\n",
        "print(f'se cumple que {a}^2+{b}^2={c}^2  y la respuesta es { a**2+b**2 == c**2}')\n",
        "print(f'se cumple que {a}^2+{c}^2={b}^2  y la respuesta es { a**2+c**2 == b**2}')\n",
        "print(f'se cumple que {b}^2+{c}^2={a}^2  y la respuesta es { b**2+c**2 == a**2}')\n",
        "print(f'La suma de {a} + {b} + {c} = {a + b + c}')\n",
        "print(f'La combinacion de 3{a} + 2{b} - 5{c} = {3*a + 2*b - 5*c}')\n",
        "print(f'El vector 5[{a}, {b}, {c}] =  ', 5*np.array([a, b, c]))\n",
        "# print(f'El vector [{a}, {b}, {c}]^2 = {pow([a, b, c],2)}')\n",
        "print(f'El vector [{a}, {b}, {c}]- [{c}, {a}, {b}] = {np.array([a, b, c])- np.array([c, a, b])}')"
      ],
      "metadata": {
        "colab": {
          "base_uri": "https://localhost:8080/"
        },
        "id": "th2xhX9jqsiS",
        "outputId": "a57d03ea-5d4d-42dc-ee74-4593598f5c73"
      },
      "execution_count": null,
      "outputs": [
        {
          "output_type": "stream",
          "name": "stdout",
          "text": [
            "Ingrese el primer numero 3\n",
            "Ingrese el segundo numero 4\n",
            "Ingrese el tercer numero 5\n",
            "El binomio (3+4)^5 = 16807\n",
            "El binomio (3+5)^4 = 4096\n",
            "El binomio (4+5)^3 = 729\n",
            "se cumple que 3^2+4^2=5^2  y la respuesta es True\n",
            "se cumple que 3^2+5^2=4^2  y la respuesta es False\n",
            "se cumple que 4^2+5^2=3^2  y la respuesta es False\n",
            "La suma de 3 + 4 + 5 = 12\n",
            "La combinacion de 33 + 24 - 55 = -8\n",
            "El vector 5[3, 4, 5] =   [15 20 25]\n",
            "El vector [3, 4, 5]- [5, 3, 4] = [-2  1  1]\n"
          ]
        }
      ]
    },
    {
      "cell_type": "markdown",
      "source": [
        "# **c. Expresiones algebraicas**"
      ],
      "metadata": {
        "id": "FNqMfLQmtaD4"
      }
    },
    {
      "cell_type": "code",
      "source": [
        "# **c. Expresiones algebraicas**\n",
        "\n",
        "A = int(input('Ingrese el valor de A ='))\n",
        "B = int(input('Ingrese el valor de B = '))\n",
        "operación = ((A+B)**(B-A))/((A-B)**(A+B))\n",
        "print(\"El resutado de la operación es\", operación)"
      ],
      "metadata": {
        "colab": {
          "base_uri": "https://localhost:8080/"
        },
        "id": "wOzJSBMt-O1N",
        "outputId": "f1f63ac6-cb3b-4136-d168-93ba45aa6d4b"
      },
      "execution_count": null,
      "outputs": [
        {
          "output_type": "stream",
          "name": "stdout",
          "text": [
            "Ingrese el valor de A =5\n",
            "Ingrese el valor de B = 8\n",
            "El resutado de la operación es -0.0013780143672267164\n"
          ]
        }
      ]
    },
    {
      "cell_type": "markdown",
      "source": [
        "# **d. Comprobar que 2 y 3 son las raíces del polinomio $P(x)=x^2-5x+6$**"
      ],
      "metadata": {
        "id": "MCTgMZ9ztlJ8"
      }
    },
    {
      "cell_type": "code",
      "source": [
        "# **d. Comprobar que 2 y 3 son las raíces del polinomio {P(x)=x^2-5x+6}**\n",
        "x = int(input('Ingrese el valor de x = '))\n",
        "C = x**2-5*x+6\n",
        "if C == 0:\n",
        " print(f'El valor de x = {x} es una raiz del polinomio porque su evaluación en C({x}) = {C} =  0')\n",
        "else:\n",
        "  print(f'El valor de x = {x} no es una raiz del polinomio porque su evaluación en C({x})= {C} != 0')"
      ],
      "metadata": {
        "colab": {
          "base_uri": "https://localhost:8080/"
        },
        "id": "UjK4sK6ytTof",
        "outputId": "92bd7781-3e8b-4828-ccce-a51b1fc1e7bb"
      },
      "execution_count": null,
      "outputs": [
        {
          "output_type": "stream",
          "name": "stdout",
          "text": [
            "Ingrese el valor de x = 4\n",
            "El valor de x = 4 no es una raiz del polinomio porque su evaluación en C(4)= 2 != 0\n"
          ]
        }
      ]
    },
    {
      "cell_type": "markdown",
      "source": [
        "# **e. Ejercicio: Halle todas las raices de los polinomios:**\n",
        "* $P(x) = x^2-6x + 8$\n",
        "* $P(x)= x^2-x-6$\n",
        "* $P(x) = x^3 + 3x^2-4x-12$\n",
        "* $P(x) = x^4-10x^2 + 9$"
      ],
      "metadata": {
        "id": "R8E1YJ0vxCLN"
      }
    },
    {
      "cell_type": "markdown",
      "metadata": {
        "id": "oT_d_3Tycv4I"
      },
      "source": [
        "# **6. Mayuscula: Función .upper()**\n",
        "## **a. Pasar todo a Mayuscula: Función .upper()**"
      ]
    },
    {
      "cell_type": "code",
      "execution_count": null,
      "metadata": {
        "colab": {
          "base_uri": "https://localhost:8080/",
          "height": 35
        },
        "id": "Ek2HQNgOcFzt",
        "outputId": "f5bc74a7-5b80-418c-da3c-d571fc9cb0b7"
      },
      "outputs": [
        {
          "output_type": "execute_result",
          "data": {
            "text/plain": [
              "'JULIO HURTADO'"
            ],
            "application/vnd.google.colaboratory.intrinsic+json": {
              "type": "string"
            }
          },
          "metadata": {},
          "execution_count": 44
        }
      ],
      "source": [
        "# **a. Pasar todo a Mayuscula: Función .upper()**\n",
        "\"Julio Hurtado\".upper()"
      ]
    },
    {
      "cell_type": "markdown",
      "source": [
        "## **b. Ejercicio. Pasar todo a Mayuscula**\n",
        "- La ciencia de datos es un campo académico interdisciplinario que utiliza estadística, computación científica, métodos, procesos, algoritmos y sistemas científicos para obtener (recolectar o extraer), tratar, analizar y presentar informes a partir de datos ruidosos, estructurados y no estructurados."
      ],
      "metadata": {
        "id": "TAEQO6LkyO1H"
      }
    },
    {
      "cell_type": "code",
      "source": [
        "'La ciencia de datos es un campo académico interdisciplinario que utiliza estadística, computación científica, métodos, procesos, algoritmos y sistemas científicos para obtener (recolectar o extraer), tratar, analizar y presentar informes a partir de datos ruidosos, estructurados y no estructurados.'.upper()"
      ],
      "metadata": {
        "colab": {
          "base_uri": "https://localhost:8080/",
          "height": 53
        },
        "id": "esnO2Cy3zscc",
        "outputId": "a18a08eb-b42c-4c53-8980-1f1edbc33489"
      },
      "execution_count": null,
      "outputs": [
        {
          "output_type": "execute_result",
          "data": {
            "text/plain": [
              "'LA CIENCIA DE DATOS ES UN CAMPO ACADÉMICO INTERDISCIPLINARIO QUE UTILIZA ESTADÍSTICA, COMPUTACIÓN CIENTÍFICA, MÉTODOS, PROCESOS, ALGORITMOS Y SISTEMAS CIENTÍFICOS PARA OBTENER (RECOLECTAR O EXTRAER), TRATAR, ANALIZAR Y PRESENTAR INFORMES A PARTIR DE DATOS RUIDOSOS, ESTRUCTURADOS Y NO ESTRUCTURADOS.'"
            ],
            "application/vnd.google.colaboratory.intrinsic+json": {
              "type": "string"
            }
          },
          "metadata": {},
          "execution_count": 48
        }
      ]
    },
    {
      "cell_type": "markdown",
      "source": [
        "\n",
        "# **7. minuscula: Función .lower()**"
      ],
      "metadata": {
        "id": "HJNwxSdf_5uX"
      }
    },
    {
      "cell_type": "code",
      "execution_count": null,
      "metadata": {
        "colab": {
          "base_uri": "https://localhost:8080/",
          "height": 35
        },
        "id": "y6dYHT2xcF5e",
        "outputId": "bf5507dc-14a7-4f8b-9331-d986b351a240"
      },
      "outputs": [
        {
          "output_type": "execute_result",
          "data": {
            "text/plain": [
              "'julio hurtado'"
            ],
            "application/vnd.google.colaboratory.intrinsic+json": {
              "type": "string"
            }
          },
          "metadata": {},
          "execution_count": 45
        }
      ],
      "source": [
        "\"Julio Hurtado\".lower()"
      ]
    },
    {
      "cell_type": "code",
      "source": [
        "'La ciencia de datos es un campo académico interdisciplinario que utiliza estadística, computación científica, métodos, procesos, algoritmos y sistemas científicos para obtener (recolectar o extraer), tratar, analizar y presentar informes a partir de datos ruidosos, estructurados y no estructurados.'.lower()"
      ],
      "metadata": {
        "colab": {
          "base_uri": "https://localhost:8080/",
          "height": 53
        },
        "id": "BsAZ_YK6z2jg",
        "outputId": "064867d7-282e-469a-c9bb-8c7c882a4f26"
      },
      "execution_count": null,
      "outputs": [
        {
          "output_type": "execute_result",
          "data": {
            "text/plain": [
              "'la ciencia de datos es un campo académico interdisciplinario que utiliza estadística, computación científica, métodos, procesos, algoritmos y sistemas científicos para obtener (recolectar o extraer), tratar, analizar y presentar informes a partir de datos ruidosos, estructurados y no estructurados.'"
            ],
            "application/vnd.google.colaboratory.intrinsic+json": {
              "type": "string"
            }
          },
          "metadata": {},
          "execution_count": 50
        }
      ]
    },
    {
      "cell_type": "markdown",
      "source": [
        "\n",
        "# **8. Pasar primeras letras a Mayuscula: Función .title()**"
      ],
      "metadata": {
        "id": "qvwUMc_jAADe"
      }
    },
    {
      "cell_type": "code",
      "execution_count": null,
      "metadata": {
        "colab": {
          "base_uri": "https://localhost:8080/",
          "height": 35
        },
        "id": "bUlDEQOoc8q8",
        "outputId": "4179fe48-8123-4d73-805a-a2dca0cea5d4"
      },
      "outputs": [
        {
          "output_type": "execute_result",
          "data": {
            "text/plain": [
              "'Cartagena, Barranquilla, Santa Marta, Montería, Sincelejo, Valledupar, Guajira'"
            ],
            "application/vnd.google.colaboratory.intrinsic+json": {
              "type": "string"
            }
          },
          "metadata": {},
          "execution_count": 79
        }
      ],
      "source": [
        "\"cartagena, barranquilla, santa marta, montería, sincelejo, valledupar, guajira\".title()"
      ]
    },
    {
      "cell_type": "code",
      "execution_count": null,
      "metadata": {
        "colab": {
          "base_uri": "https://localhost:8080/"
        },
        "id": "6lqdKKLBc8wL",
        "outputId": "186c1b41-20ba-4923-cebd-6e5d448552c3"
      },
      "outputs": [
        {
          "output_type": "stream",
          "name": "stdout",
          "text": [
            "Cartagena, Barranquilla, Santa Marta, Montería, Sincelejo, Valledupar, Guajira\n"
          ]
        }
      ],
      "source": [
        "print(\"cartagena, barranquilla, santa marta, montería, sincelejo, valledupar, guajira\".title())"
      ]
    },
    {
      "cell_type": "code",
      "source": [
        "'La ciencia de datos es un campo académico interdisciplinario que utiliza estadística, computación científica, métodos, procesos, algoritmos y sistemas científicos para obtener (recolectar o extraer), tratar, analizar y presentar informes a partir de datos ruidosos, estructurados y no estructurados.'.title()"
      ],
      "metadata": {
        "colab": {
          "base_uri": "https://localhost:8080/",
          "height": 53
        },
        "id": "AiZLXOgTzhPZ",
        "outputId": "110df0f2-5be1-4090-a520-41f61ec58b39"
      },
      "execution_count": null,
      "outputs": [
        {
          "output_type": "execute_result",
          "data": {
            "text/plain": [
              "'La Ciencia De Datos Es Un Campo Académico Interdisciplinario Que Utiliza Estadística, Computación Científica, Métodos, Procesos, Algoritmos Y Sistemas Científicos Para Obtener (Recolectar O Extraer), Tratar, Analizar Y Presentar Informes A Partir De Datos Ruidosos, Estructurados Y No Estructurados.'"
            ],
            "application/vnd.google.colaboratory.intrinsic+json": {
              "type": "string"
            }
          },
          "metadata": {},
          "execution_count": 47
        }
      ]
    },
    {
      "cell_type": "markdown",
      "metadata": {
        "id": "a8tGnmXDeV68"
      },
      "source": [
        "#**9. Función _count_ para contar**"
      ]
    },
    {
      "cell_type": "markdown",
      "source": [
        "# **a. Contando el numero de letras \"a\"**"
      ],
      "metadata": {
        "id": "AF0tVrvQ5Rru"
      }
    },
    {
      "cell_type": "code",
      "execution_count": null,
      "metadata": {
        "colab": {
          "base_uri": "https://localhost:8080/"
        },
        "id": "L2B8AZSMc81A",
        "outputId": "6714f77e-9b0f-4653-a134-d66611026627"
      },
      "outputs": [
        {
          "output_type": "execute_result",
          "data": {
            "text/plain": [
              "15"
            ]
          },
          "metadata": {},
          "execution_count": 81
        }
      ],
      "source": [
        "# **a. Contando el numero de letras \"a\"**\n",
        "\"cartagena, barranquilla, santa marta, montería, sincelejo, valledupar, guajira\".count(\"a\")"
      ]
    },
    {
      "cell_type": "code",
      "execution_count": null,
      "metadata": {
        "colab": {
          "base_uri": "https://localhost:8080/",
          "height": 35
        },
        "id": "7sNJYTHPXmMk",
        "outputId": "68004d71-19f3-4dea-934c-be9e5424e19c"
      },
      "outputs": [
        {
          "output_type": "execute_result",
          "data": {
            "text/plain": [
              "'cartagena, barranquilla, santa marta, montería, sincelejo, valledupar, guajira'"
            ],
            "application/vnd.google.colaboratory.intrinsic+json": {
              "type": "string"
            }
          },
          "metadata": {},
          "execution_count": 82
        }
      ],
      "source": [
        "ciudad_c = \"cartagena, barranquilla, santa marta, montería, sincelejo, valledupar, guajira\"\n",
        "ciudad_c"
      ]
    },
    {
      "cell_type": "code",
      "execution_count": null,
      "metadata": {
        "colab": {
          "base_uri": "https://localhost:8080/"
        },
        "id": "Ed6Hr1JIXxfj",
        "outputId": "3548762b-5446-47c2-eb01-3e80cf6ebd64"
      },
      "outputs": [
        {
          "output_type": "execute_result",
          "data": {
            "text/plain": [
              "15"
            ]
          },
          "metadata": {},
          "execution_count": 83
        }
      ],
      "source": [
        "ciudad_c.count(\"a\")"
      ]
    },
    {
      "cell_type": "markdown",
      "source": [
        "# **b. Contando el numero de letras \"c\"**"
      ],
      "metadata": {
        "id": "zoXj51cz5hQJ"
      }
    },
    {
      "cell_type": "code",
      "execution_count": null,
      "metadata": {
        "colab": {
          "base_uri": "https://localhost:8080/"
        },
        "id": "p_CinbW5c846",
        "outputId": "87fb55cd-9197-4d64-bc29-8c1f23a800b6"
      },
      "outputs": [
        {
          "output_type": "execute_result",
          "data": {
            "text/plain": [
              "2"
            ]
          },
          "metadata": {},
          "execution_count": 47
        }
      ],
      "source": [
        "# **b. Contando el numero de letras \"c\"**\n",
        "\"cartagena, barranquilla, santa marta, montería, sincelejo, valledupar, guajira\".count(\"c\")"
      ]
    },
    {
      "cell_type": "markdown",
      "source": [
        "# **c. Contando el numero de letras \"a\" en un párrafo**"
      ],
      "metadata": {
        "id": "st22s71v6TTs"
      }
    },
    {
      "cell_type": "code",
      "source": [
        "# **c. Contando el numero de letras \"a\" en un párrafo**\n",
        "c_datos = 'La ciencia de datos es un campo académico interdisciplinario que utiliza estadística, computación científica, métodos, procesos, algoritmos y sistemas científicos para obtener (recolectar o extraer), tratar, analizar y presentar informes a partir de datos ruidosos, estructurados y no estructurados.'"
      ],
      "metadata": {
        "id": "Sq3kE5NV5unn"
      },
      "execution_count": null,
      "outputs": []
    },
    {
      "cell_type": "code",
      "source": [
        "c_datos.count(\"a\")"
      ],
      "metadata": {
        "colab": {
          "base_uri": "https://localhost:8080/"
        },
        "id": "F3tL9FJ6580m",
        "outputId": "30bfab07-1c51-45e7-ec19-fa3aa4008a7e"
      },
      "execution_count": null,
      "outputs": [
        {
          "output_type": "execute_result",
          "data": {
            "text/plain": [
              "29"
            ]
          },
          "metadata": {},
          "execution_count": 2
        }
      ]
    },
    {
      "cell_type": "code",
      "source": [
        "abc = [\"a\", \"b\",\"c\", \"d\",\"e\", \"f\",\"g\", \"h\",\"i\", \"j\",\"k\", \"l\",\"m\", \"n\",\"o\", \"p\",\"q\", \"r\",\"s\", \"t\",\"u\", \"v\", \"x\", \"y\",\"z\", \"ñ\", \"w\"]\n",
        "len(abc)"
      ],
      "metadata": {
        "colab": {
          "base_uri": "https://localhost:8080/"
        },
        "id": "2LbDGb2S-TZH",
        "outputId": "e6dd8e9f-d335-4b8f-ac82-2fc1d0ec7cd1"
      },
      "execution_count": null,
      "outputs": [
        {
          "output_type": "execute_result",
          "data": {
            "text/plain": [
              "27"
            ]
          },
          "metadata": {},
          "execution_count": 48
        }
      ]
    },
    {
      "cell_type": "code",
      "source": [
        "# **d. El abecedario del español queda así reducido a las veintisiete letras siguientes:**\n",
        "abc\n",
        "c_datos\n",
        "for letra in abc:\n",
        "  frecuencia = c_datos.count(letra)\n",
        "  print('letra ', letra, 'frecuencia', frecuencia)"
      ],
      "metadata": {
        "colab": {
          "base_uri": "https://localhost:8080/"
        },
        "id": "Z1DDRTFc6YlL",
        "outputId": "0e57a0c3-73ca-40e2-acc8-17e4b166e3e6"
      },
      "execution_count": null,
      "outputs": [
        {
          "output_type": "stream",
          "name": "stdout",
          "text": [
            "letra  a frecuencia 29\n",
            "letra  b frecuencia 1\n",
            "letra  c frecuencia 18\n",
            "letra  d frecuencia 11\n",
            "letra  e frecuencia 22\n",
            "letra  f frecuencia 3\n",
            "letra  g frecuencia 1\n",
            "letra  h frecuencia 0\n",
            "letra  i frecuencia 22\n",
            "letra  j frecuencia 0\n",
            "letra  k frecuencia 0\n",
            "letra  l frecuencia 5\n",
            "letra  m frecuencia 7\n",
            "letra  n frecuencia 12\n",
            "letra  o frecuencia 22\n",
            "letra  p frecuencia 7\n",
            "letra  q frecuencia 1\n",
            "letra  r frecuencia 23\n",
            "letra  s frecuencia 22\n",
            "letra  t frecuencia 23\n",
            "letra  u frecuencia 9\n",
            "letra  v frecuencia 0\n",
            "letra  x frecuencia 1\n",
            "letra  y frecuencia 3\n",
            "letra  z frecuencia 2\n",
            "letra  ñ frecuencia 0\n",
            "letra  w frecuencia 0\n"
          ]
        }
      ]
    },
    {
      "cell_type": "code",
      "source": [
        "# Párrafo\n",
        "parrafo = 'La ciencia de datos es un campo académico interdisciplinario que utiliza estadística, computación científica, métodos, procesos, algoritmos y sistemas científicos para obtener (recolectar o extraer), tratar, analizar y presentar informes a partir de datos ruidosos, estructurados y no estructurados.'\n",
        "\n",
        "# Convertir el párrafo a minúsculas para contar letras sin distinción entre mayúsculas y minúsculas\n",
        "parrafo = parrafo.lower()\n",
        "\n",
        "# Crear un diccionario para almacenar la frecuencia de cada letra\n",
        "frecuencia_letras = {}\n",
        "\n",
        "# Iterar a través del párrafo y contar las letras\n",
        "for letra in parrafo:\n",
        "    if letra.isalpha():  # Verificar si es una letra\n",
        "        if letra in frecuencia_letras:\n",
        "            frecuencia_letras[letra] += 1\n",
        "        else:\n",
        "            frecuencia_letras[letra] = 1\n",
        "\n",
        "# Mostrar la tabla de frecuencia de letras\n",
        "print(\"Letra   Frecuencia\")\n",
        "print(\"-----------------\")\n",
        "for letra, frecuencia in frecuencia_letras.items():\n",
        "    print(f\"{letra}      {frecuencia}\")\n"
      ],
      "metadata": {
        "colab": {
          "base_uri": "https://localhost:8080/"
        },
        "id": "5E7xaLXM5PJu",
        "outputId": "39318d2b-8d08-4a6b-d156-7bdba533d33f"
      },
      "execution_count": 1,
      "outputs": [
        {
          "output_type": "stream",
          "name": "stdout",
          "text": [
            "Letra   Frecuencia\n",
            "-----------------\n",
            "l      6\n",
            "a      29\n",
            "c      18\n",
            "i      22\n",
            "e      22\n",
            "n      12\n",
            "d      11\n",
            "t      23\n",
            "o      22\n",
            "s      22\n",
            "u      9\n",
            "m      7\n",
            "p      7\n",
            "é      2\n",
            "r      23\n",
            "q      1\n",
            "z      2\n",
            "í      3\n",
            "ó      1\n",
            "f      3\n",
            "g      1\n",
            "y      3\n",
            "b      1\n",
            "x      1\n"
          ]
        }
      ]
    },
    {
      "cell_type": "markdown",
      "metadata": {
        "id": "BYRlW6isfDdy"
      },
      "source": [
        "# **10. Reemplazar una letra: funcion replace**"
      ]
    },
    {
      "cell_type": "code",
      "execution_count": null,
      "metadata": {
        "colab": {
          "base_uri": "https://localhost:8080/",
          "height": 35
        },
        "id": "mq7dQWLHewwF",
        "outputId": "d9b3cb9f-ee96-4d76-8a98-970ffec99fb3"
      },
      "outputs": [
        {
          "output_type": "execute_result",
          "data": {
            "text/plain": [
              "'cortogeno, borronquillo, sonto morto, monterío, sincelejo, volledupor, guojiro'"
            ],
            "application/vnd.google.colaboratory.intrinsic+json": {
              "type": "string"
            }
          },
          "metadata": {},
          "execution_count": 60
        }
      ],
      "source": [
        "\"cartagena, barranquilla, santa marta, montería, sincelejo, valledupar, guajira\".replace(\"a\",\"o\")"
      ]
    }
  ],
  "metadata": {
    "colab": {
      "provenance": [],
      "authorship_tag": "ABX9TyOfLELlDfFa1pEAc9MNzidZ",
      "include_colab_link": true
    },
    "kernelspec": {
      "display_name": "Python 3",
      "name": "python3"
    },
    "language_info": {
      "name": "python"
    }
  },
  "nbformat": 4,
  "nbformat_minor": 0
}