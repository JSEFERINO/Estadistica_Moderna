{
  "cells": [
    {
      "cell_type": "markdown",
      "metadata": {
        "id": "view-in-github",
        "colab_type": "text"
      },
      "source": [
        "<a href=\"https://colab.research.google.com/github/JSEFERINO/Estadistica_Moderna/blob/main/01_C_Datos_Declaraci%C3%B3n_de_Variables.ipynb\" target=\"_parent\"><img src=\"https://colab.research.google.com/assets/colab-badge.svg\" alt=\"Open In Colab\"/></a>"
      ]
    },
    {
      "cell_type": "markdown",
      "source": [
        "# **Curso Introductorio de Estadistica Moderna**\n",
        "## **Con Mi Profe: Julio Hurtado Marquez**\n",
        "**EMAIL: juliohur@gmail.com**"
      ],
      "metadata": {
        "id": "dtTDnApxnCpU"
      }
    },
    {
      "cell_type": "markdown",
      "source": [
        "## **Librerías de mayor uso**"
      ],
      "metadata": {
        "id": "Dyceb0mTYvNr"
      }
    },
    {
      "cell_type": "code",
      "execution_count": null,
      "metadata": {
        "id": "NUJLmwAkEDNa"
      },
      "outputs": [],
      "source": [
        "import pandas as pd\n",
        "import numpy as np"
      ]
    },
    {
      "cell_type": "markdown",
      "source": [
        "\n",
        "\n",
        "# **Clase No. 1: Declaración de Variables**"
      ],
      "metadata": {
        "id": "xPcsXm1UnvF2"
      }
    },
    {
      "cell_type": "markdown",
      "source": [
        "## **1. Declaración de Variables**\n",
        "* Deben ir acompañadas por el signo igual (=) y no Deben comenzar por números\n",
        "- - Incorrecto 2x = \"Hola\"\n",
        "- - Correcto x2 = \"Hola\" o x_2=\"Hola\""
      ],
      "metadata": {
        "id": "1RbFnLwN4UCd"
      }
    },
    {
      "cell_type": "markdown",
      "source": [
        "## **2. Algunos Ejemplos**\n",
        "$\\bullet$ **a. Una expresión**"
      ],
      "metadata": {
        "id": "zx7e1QhvaTR-"
      }
    },
    {
      "cell_type": "code",
      "source": [
        "\"Hola Mundo\" # Una expresión"
      ],
      "metadata": {
        "colab": {
          "base_uri": "https://localhost:8080/",
          "height": 36
        },
        "id": "iFU-djW-ag_L",
        "outputId": "531abc99-de36-478a-fe63-290e74efc377"
      },
      "execution_count": null,
      "outputs": [
        {
          "output_type": "execute_result",
          "data": {
            "text/plain": [
              "'Hola Mundo'"
            ],
            "application/vnd.google.colaboratory.intrinsic+json": {
              "type": "string"
            }
          },
          "metadata": {},
          "execution_count": 5
        }
      ]
    },
    {
      "cell_type": "code",
      "source": [
        "A = 'Mi equipo Favorito es el Junior de Barranquilla'\n",
        "A"
      ],
      "metadata": {
        "colab": {
          "base_uri": "https://localhost:8080/",
          "height": 36
        },
        "id": "dJke1k5tatJS",
        "outputId": "0e48031c-0428-498d-f11a-810a106c1386"
      },
      "execution_count": null,
      "outputs": [
        {
          "output_type": "execute_result",
          "data": {
            "text/plain": [
              "'Mi equipo Favorito es el Junior de Barranquilla'"
            ],
            "application/vnd.google.colaboratory.intrinsic+json": {
              "type": "string"
            }
          },
          "metadata": {},
          "execution_count": 6
        }
      ]
    },
    {
      "cell_type": "markdown",
      "source": [
        "$\\bullet$ **b. Una lista con números**"
      ],
      "metadata": {
        "id": "nuIKgcRVayVS"
      }
    },
    {
      "cell_type": "code",
      "source": [
        "[1, 10, 100] # Una lista"
      ],
      "metadata": {
        "colab": {
          "base_uri": "https://localhost:8080/"
        },
        "id": "nehApsD1a3IX",
        "outputId": "c4637e47-f7d7-41d4-c3ed-3fa0aa36509e"
      },
      "execution_count": null,
      "outputs": [
        {
          "output_type": "execute_result",
          "data": {
            "text/plain": [
              "[1, 10, 100]"
            ]
          },
          "metadata": {},
          "execution_count": 7
        }
      ]
    },
    {
      "cell_type": "markdown",
      "source": [
        "$\\bullet$ **c. Una lista con números con los digitos**"
      ],
      "metadata": {
        "id": "nMPCdUmja8Gv"
      }
    },
    {
      "cell_type": "code",
      "source": [
        "Digitos = range(10)\n",
        "\n",
        "list(Digitos)"
      ],
      "metadata": {
        "colab": {
          "base_uri": "https://localhost:8080/"
        },
        "id": "dBeVkM8ka5yz",
        "outputId": "cda9c9cf-596f-4581-9564-1bf252f6ffe3"
      },
      "execution_count": null,
      "outputs": [
        {
          "output_type": "execute_result",
          "data": {
            "text/plain": [
              "[0, 1, 2, 3, 4, 5, 6, 7, 8, 9]"
            ]
          },
          "metadata": {},
          "execution_count": 8
        }
      ]
    },
    {
      "cell_type": "markdown",
      "source": [
        "$\\bullet$ **d. Un entero**"
      ],
      "metadata": {
        "id": "PUIYAQLxbM1L"
      }
    },
    {
      "cell_type": "code",
      "source": [
        "-25          # Un entero\n"
      ],
      "metadata": {
        "colab": {
          "base_uri": "https://localhost:8080/"
        },
        "id": "IsvLNJ1MoKXm",
        "outputId": "172125af-f8ea-40e0-98d6-313878ecdcac"
      },
      "execution_count": null,
      "outputs": [
        {
          "output_type": "execute_result",
          "data": {
            "text/plain": [
              "-25"
            ]
          },
          "metadata": {},
          "execution_count": 9
        }
      ]
    },
    {
      "cell_type": "markdown",
      "source": [
        "$\\bullet$ **e. Un real**"
      ],
      "metadata": {
        "id": "okSi8_IibVwz"
      }
    },
    {
      "cell_type": "code",
      "source": [
        "1.167       # Un real"
      ],
      "metadata": {
        "colab": {
          "base_uri": "https://localhost:8080/"
        },
        "id": "pWaLTtxLbY7D",
        "outputId": "4a75752a-5228-496d-c1d6-eb1bca1eba64"
      },
      "execution_count": null,
      "outputs": [
        {
          "output_type": "execute_result",
          "data": {
            "text/plain": [
              "1.167"
            ]
          },
          "metadata": {},
          "execution_count": 10
        }
      ]
    },
    {
      "cell_type": "markdown",
      "source": [
        "$\\bullet$ **f. una lista con Nombres**"
      ],
      "metadata": {
        "id": "3OGQ3fgxbS9l"
      }
    },
    {
      "cell_type": "code",
      "source": [
        "[\"Cartagena\", \"Barranquilla\", 'Santa Marta']  #una lista"
      ],
      "metadata": {
        "id": "61SjY2VncuH-"
      },
      "execution_count": null,
      "outputs": []
    },
    {
      "cell_type": "code",
      "source": [
        "Ciudades =[\"Cartagena\", \"Barranquilla\", 'Santa Marta', 'Montería', 'Riohacha', 'Sincelejo', 'Valledupar']  #una lista\n",
        "Ciudades"
      ],
      "metadata": {
        "colab": {
          "base_uri": "https://localhost:8080/"
        },
        "id": "sYuX6Krpcwm-",
        "outputId": "358a44b6-57f7-4545-db9e-42b51e518799"
      },
      "execution_count": null,
      "outputs": [
        {
          "output_type": "execute_result",
          "data": {
            "text/plain": [
              "['Cartagena',\n",
              " 'Barranquilla',\n",
              " 'Santa Marta',\n",
              " 'Montería',\n",
              " 'Riohacha',\n",
              " 'Sincelejo',\n",
              " 'Valledupar']"
            ]
          },
          "metadata": {},
          "execution_count": 11
        }
      ]
    },
    {
      "cell_type": "markdown",
      "source": [
        " $\\bullet$ **g. Un espacio en blanco**"
      ],
      "metadata": {
        "id": "twNVU9EpdRJz"
      }
    },
    {
      "cell_type": "code",
      "source": [
        "''"
      ],
      "metadata": {
        "colab": {
          "base_uri": "https://localhost:8080/",
          "height": 36
        },
        "id": "VKw72IGTdTfi",
        "outputId": "65c625b2-26ec-45d5-d476-dd7ff667100b"
      },
      "execution_count": null,
      "outputs": [
        {
          "output_type": "execute_result",
          "data": {
            "text/plain": [
              "''"
            ],
            "application/vnd.google.colaboratory.intrinsic+json": {
              "type": "string"
            }
          },
          "metadata": {},
          "execution_count": 12
        }
      ]
    },
    {
      "cell_type": "markdown",
      "metadata": {
        "id": "HNHcsFgOaUsN"
      },
      "source": [
        "## **3. función print()**\n",
        "+  **La utilizamos para mostrar un mensaje en pantalla**\n",
        "+  **En Python se usa la función \"_print()_\" para imprimir valores en la consola o en un archivo de salida.**\n",
        "\n",
        "\n"
      ]
    },
    {
      "cell_type": "markdown",
      "source": [
        "$\\bullet$ **a. Usando la función print**"
      ],
      "metadata": {
        "id": "KluS0vnDdtvK"
      }
    },
    {
      "cell_type": "code",
      "execution_count": null,
      "metadata": {
        "colab": {
          "base_uri": "https://localhost:8080/"
        },
        "id": "njDUEoRlanoT",
        "outputId": "cfd6736e-3061-4eab-e76c-b8f67152306e"
      },
      "outputs": [
        {
          "output_type": "stream",
          "name": "stdout",
          "text": [
            "Hello world\n"
          ]
        }
      ],
      "source": [
        "print(\"Hello world\")"
      ]
    },
    {
      "cell_type": "markdown",
      "source": [
        "$\\bullet$ **b. sin usar print()**"
      ],
      "metadata": {
        "id": "jqTZ6mSvd-ux"
      }
    },
    {
      "cell_type": "code",
      "execution_count": null,
      "metadata": {
        "colab": {
          "base_uri": "https://localhost:8080/",
          "height": 36
        },
        "id": "fqlEOZxJaeG6",
        "outputId": "f43bbe64-3107-4b9a-f1f2-50fc84767f7f"
      },
      "outputs": [
        {
          "output_type": "execute_result",
          "data": {
            "text/plain": [
              "'Hello world'"
            ],
            "application/vnd.google.colaboratory.intrinsic+json": {
              "type": "string"
            }
          },
          "metadata": {},
          "execution_count": 14
        }
      ],
      "source": [
        "\"Hello world\" # sin usar print"
      ]
    },
    {
      "cell_type": "markdown",
      "source": [
        "$\\bullet$ **c. imprime frase**"
      ],
      "metadata": {
        "id": "Pe7kNVXmeC-c"
      }
    },
    {
      "cell_type": "code",
      "execution_count": null,
      "metadata": {
        "colab": {
          "base_uri": "https://localhost:8080/"
        },
        "id": "3wIG9cOGP3wf",
        "outputId": "24c15571-bf20-41b7-f3c0-7b482bcfe863"
      },
      "outputs": [
        {
          "output_type": "stream",
          "name": "stdout",
          "text": [
            "Julio Hurtado es mi profesor Favorito\n"
          ]
        }
      ],
      "source": [
        "print(\"Julio Hurtado es mi profesor Favorito\") # imprime frase"
      ]
    },
    {
      "cell_type": "markdown",
      "source": [
        "$\\bullet$ **d. Usando el comando f'' con {} para agilizar las impresiones**"
      ],
      "metadata": {
        "id": "wLsVbTYneH9q"
      }
    },
    {
      "cell_type": "code",
      "source": [
        "edad = 25\n",
        "print(f'Cuanto quisiera tener {edad} años')"
      ],
      "metadata": {
        "id": "nP2PDVTbhRFM",
        "colab": {
          "base_uri": "https://localhost:8080/"
        },
        "outputId": "8d2d1d71-431d-42fc-d0ea-30e1e008bfba"
      },
      "execution_count": null,
      "outputs": [
        {
          "output_type": "stream",
          "name": "stdout",
          "text": [
            "Cuanto quisiera tener 25 años\n"
          ]
        }
      ]
    },
    {
      "cell_type": "code",
      "source": [
        "nombre = 'Julio Hurtado'\n",
        "edad   = 55\n",
        "print(f'Hola a todos, me llamo {nombre} y tengo {edad} años cumplidos')"
      ],
      "metadata": {
        "colab": {
          "base_uri": "https://localhost:8080/"
        },
        "id": "5fqaPNrf54AY",
        "outputId": "babc1bfc-d9dc-413b-da24-42bceeef984d"
      },
      "execution_count": null,
      "outputs": [
        {
          "output_type": "stream",
          "name": "stdout",
          "text": [
            "Hola a todos, me llamo Julio Hurtado y tengo 55 años cumplidos\n"
          ]
        }
      ]
    },
    {
      "cell_type": "markdown",
      "source": [
        "$\\bullet$ **e. Concatenar mensajes mas fácil**"
      ],
      "metadata": {
        "id": "y2TXvIWle1Ih"
      }
    },
    {
      "cell_type": "code",
      "source": [
        "nombre = 'Julio Hurtado'\n",
        "edad   = 55\n",
        "email = 'juliohur@gmail.com'\n",
        "ciudad = 'Cartagena'\n",
        "print(f'Saludo, me llamo {nombre}, tengo {edad} años cumplidos, vivo en {ciudad} y este es mi correo de contacto {email}')"
      ],
      "metadata": {
        "colab": {
          "base_uri": "https://localhost:8080/"
        },
        "id": "vWU64aa2e2Ex",
        "outputId": "c0ca2696-b119-4dd4-82b1-c91adf140fc7"
      },
      "execution_count": null,
      "outputs": [
        {
          "output_type": "stream",
          "name": "stdout",
          "text": [
            "Saludo, me llamo Julio Hurtado, tengo 55 años cumplidos, vivo en Cartagena y este es mi correo de contacto juliohur@gmail.com\n"
          ]
        }
      ]
    },
    {
      "cell_type": "markdown",
      "metadata": {
        "id": "EwTdzyA9bWA-"
      },
      "source": [
        "# **4. Tipos de Datos: Función type** -\n",
        "* En Python, existen varios tipos de datos. Los mas comunes:\n",
        "- - Números: entero (int)\n",
        "- - - Son números enteros.\n",
        "- - Flotante (float)\n",
        "- - - son números decimales, se pueden representar por notación científica.\n",
        "- - Cadena de Texto (str)\n",
        "- - - Son secuencia de caracteres que se utilizan para representar texto. Se pueden oncluir letras, números, símbolos y espacios.\n",
        "- - Valores Booleanos.\n",
        "- - - Son valores que pueden ser Verdadero (True) o Falso (False). Se utilizan comunmeente en expresiones condicionales y operaciones lógicas."
      ]
    },
    {
      "cell_type": "markdown",
      "metadata": {
        "id": "ZAA-RRBAf_0J"
      },
      "source": [
        "$\\bullet$ **a. Números: entero (int)**.  Son números enteros."
      ]
    },
    {
      "cell_type": "code",
      "execution_count": null,
      "metadata": {
        "colab": {
          "base_uri": "https://localhost:8080/"
        },
        "id": "byS9qQvYbOPi",
        "outputId": "89c88903-53e4-441e-cd8b-b8e16a9a219a"
      },
      "outputs": [
        {
          "output_type": "execute_result",
          "data": {
            "text/plain": [
              "int"
            ]
          },
          "metadata": {},
          "execution_count": 17
        }
      ],
      "source": [
        "type(10) # Conocr el tipo de variable"
      ]
    },
    {
      "cell_type": "markdown",
      "source": [
        "$\\bullet$ **b. Flotante (float)**. son números decimales, se pueden representar por notación científica."
      ],
      "metadata": {
        "id": "mOqvmPFbgAr0"
      }
    },
    {
      "cell_type": "code",
      "execution_count": null,
      "metadata": {
        "colab": {
          "base_uri": "https://localhost:8080/"
        },
        "id": "INmWTX1LbOZI",
        "outputId": "ffd2a702-3196-4775-dd2c-153ff6b92237"
      },
      "outputs": [
        {
          "output_type": "execute_result",
          "data": {
            "text/plain": [
              "float"
            ]
          },
          "metadata": {},
          "execution_count": 19
        }
      ],
      "source": [
        "type(2.35) # tipo de datos float o decimal"
      ]
    },
    {
      "cell_type": "markdown",
      "source": [
        "$\\bullet$ **c. Cadena de Texto (str)**. Son secuencia de caracteres que se utilizan para representar texto. Se pueden oncluir letras, números, símbolos y espacios."
      ],
      "metadata": {
        "id": "lOyAo8X6gmGM"
      }
    },
    {
      "cell_type": "code",
      "source": [
        "type('Julio') # Conocer el tipo de variable\n",
        "type('Mi Profe') # tipo de datos float o decimal"
      ],
      "metadata": {
        "colab": {
          "base_uri": "https://localhost:8080/"
        },
        "id": "y4THCDawgoUO",
        "outputId": "daae93e7-5442-4605-dc90-3407bf61a429"
      },
      "execution_count": null,
      "outputs": [
        {
          "output_type": "execute_result",
          "data": {
            "text/plain": [
              "str"
            ]
          },
          "metadata": {},
          "execution_count": 20
        }
      ]
    },
    {
      "cell_type": "markdown",
      "source": [
        "$\\bullet$ **d. Valores Booleanos**. Son valores que pueden ser Verdadero (True) o Falso (False). Se utilizan comunmeente en expresiones condicionales y operaciones lógicas.\n"
      ],
      "metadata": {
        "id": "QJgFP1sggvgT"
      }
    },
    {
      "cell_type": "code",
      "source": [
        "type(3<2) # Conocer el tipo de variable"
      ],
      "metadata": {
        "colab": {
          "base_uri": "https://localhost:8080/"
        },
        "id": "h3By-Ocsg1x5",
        "outputId": "4fa92721-7b89-46f0-a2ba-dfadec4da51e"
      },
      "execution_count": null,
      "outputs": [
        {
          "output_type": "execute_result",
          "data": {
            "text/plain": [
              "bool"
            ]
          },
          "metadata": {},
          "execution_count": 21
        }
      ]
    },
    {
      "cell_type": "code",
      "execution_count": null,
      "metadata": {
        "colab": {
          "base_uri": "https://localhost:8080/"
        },
        "id": "hq7OUSBQbOro",
        "outputId": "6aeac99c-bf1c-4fb7-8a72-862f125f3053"
      },
      "outputs": [
        {
          "output_type": "execute_result",
          "data": {
            "text/plain": [
              "bool"
            ]
          },
          "metadata": {},
          "execution_count": 7
        }
      ],
      "source": [
        "type(True)"
      ]
    },
    {
      "cell_type": "code",
      "execution_count": null,
      "metadata": {
        "colab": {
          "base_uri": "https://localhost:8080/"
        },
        "id": "mm_C9VWKcFlA",
        "outputId": "d06824a7-c14c-4d82-d7fe-05e924f16933"
      },
      "outputs": [
        {
          "output_type": "execute_result",
          "data": {
            "text/plain": [
              "bool"
            ]
          },
          "metadata": {},
          "execution_count": 8
        }
      ],
      "source": [
        "type(False)"
      ]
    },
    {
      "cell_type": "code",
      "source": [
        "type(2>7)"
      ],
      "metadata": {
        "colab": {
          "base_uri": "https://localhost:8080/"
        },
        "id": "TdmjZW0b5Jcj",
        "outputId": "f727e2a7-be13-43e2-cbeb-11aeb4f336ad"
      },
      "execution_count": null,
      "outputs": [
        {
          "output_type": "execute_result",
          "data": {
            "text/plain": [
              "bool"
            ]
          },
          "metadata": {},
          "execution_count": 9
        }
      ]
    },
    {
      "cell_type": "markdown",
      "source": [
        "# **5. Declaración de valores desde Teclado**\n",
        "\n",
        "* Para declarar un valor desde el teclado primero debemos definir una variable, a continuación debemos utilizar estas palabaras:\n",
        "- - int(): Se utiliza prar transformar un dato de tipo texto en númerico entero.\n",
        "- - float(): Se utiliza prar transformar un dato de tipo texto en númerico con decimal.\n",
        "- - input(): Permite ingresa datos tipo Texto.\n"
      ],
      "metadata": {
        "id": "FRSgUR6C6h06"
      }
    },
    {
      "cell_type": "code",
      "source": [
        "a = input(\"Ingrese su nombre \")\n",
        "b = int(input('Ingrese su edad en años cumplidos '))\n",
        "c = float(input(\"Ingrese su estatura en centimetros \"))\n",
        "d = float(input(\"Ingrese su peso en kg \"))\n",
        "print(f'Tu nombre es {a}, tienes {b} años cumplidos, mides {c} cms de estatura y tu peso es {d} kgramos' )"
      ],
      "metadata": {
        "colab": {
          "base_uri": "https://localhost:8080/"
        },
        "id": "BOQjPVLm7pdv",
        "outputId": "ab5b70a1-fa84-449c-8510-41747903d897"
      },
      "execution_count": null,
      "outputs": [
        {
          "output_type": "stream",
          "name": "stdout",
          "text": [
            "Ingrese su nombre Julio Hurtado\n",
            "Ingrese su edad en años cumplidos 54\n",
            "Ingrese su estatura en centimetros 175\n",
            "Ingrese su peso en kg 80\n",
            "Tu nombre es Julio Hurtado, tienes 54 años cumplidos, mides 175.0 cms de estatura y tu peso es 80.0 kgramos\n"
          ]
        }
      ]
    },
    {
      "cell_type": "markdown",
      "source": [
        "# **6. Operadores Aritméticas en Python**"
      ],
      "metadata": {
        "id": "cXJjhUWc83Yu"
      }
    },
    {
      "cell_type": "markdown",
      "source": [
        "$\\bullet$ **a. Suma**."
      ],
      "metadata": {
        "id": "EPzJ7KF7mRup"
      }
    },
    {
      "cell_type": "code",
      "source": [
        "a = float(input(\"Ingrese un primer numero a = \"))\n",
        "b =  float(input(\"Ingrese un segundo numero b = \"))\n",
        "print(f'La suma {a}+{b} = {a+b}')"
      ],
      "metadata": {
        "colab": {
          "base_uri": "https://localhost:8080/"
        },
        "id": "68RR69FEmWDt",
        "outputId": "b1a1b090-1973-4e3b-afab-1a3d6845dbd1"
      },
      "execution_count": null,
      "outputs": [
        {
          "output_type": "stream",
          "name": "stdout",
          "text": [
            "Ingrese un primer numero a = 5\n",
            "Ingrese un segundo numero b = 3\n",
            "La suma 5.0+3.0 = 8.0\n"
          ]
        }
      ]
    },
    {
      "cell_type": "markdown",
      "source": [
        "$\\bullet$ **b. Resta**."
      ],
      "metadata": {
        "id": "CmY71WjQm8Ks"
      }
    },
    {
      "cell_type": "code",
      "source": [
        "a = float(input(\"Ingrese un primer numero a = \"))\n",
        "b =  float(input(\"Ingrese un segundo numero b = \"))\n",
        "print(f'La resta {a}-{b} = {a-b}')"
      ],
      "metadata": {
        "colab": {
          "base_uri": "https://localhost:8080/"
        },
        "id": "8H_h8wvSm_cc",
        "outputId": "3de3ff47-0bde-4e93-a868-5ade466cf2c3"
      },
      "execution_count": null,
      "outputs": [
        {
          "output_type": "stream",
          "name": "stdout",
          "text": [
            "Ingrese un primer numero a = 2.7\n",
            "Ingrese un segundo numero b = 1.9\n",
            "La resta 2.7-1.9 = 0.8000000000000003\n"
          ]
        }
      ]
    },
    {
      "cell_type": "markdown",
      "source": [
        "$\\bullet$ **c. La Multiplicación**."
      ],
      "metadata": {
        "id": "w5OlUNGLnKsz"
      }
    },
    {
      "cell_type": "code",
      "source": [
        "a = float(input(\"Ingrese un primer numero a = \"))\n",
        "b =  float(input(\"Ingrese un segundo numero b = \"))\n",
        "print(f'La Multiplicación {a}*{b} = {a*b}')"
      ],
      "metadata": {
        "colab": {
          "base_uri": "https://localhost:8080/"
        },
        "id": "BpoeGYOfnRjC",
        "outputId": "cdcd63ae-f653-4638-f13c-c3c1e0cbdeda"
      },
      "execution_count": null,
      "outputs": [
        {
          "output_type": "stream",
          "name": "stdout",
          "text": [
            "Ingrese un primer numero a = 8\n",
            "Ingrese un segundo numero b = 3\n",
            "La Multiplicación 8.0*3.0 = 24.0\n"
          ]
        }
      ]
    },
    {
      "cell_type": "markdown",
      "source": [
        "$\\bullet$ **d. La División**."
      ],
      "metadata": {
        "id": "hSWi5mFHnbNs"
      }
    },
    {
      "cell_type": "code",
      "source": [
        "a = float(input(\"Ingrese un primer numero a = \"))\n",
        "b =  float(input(\"Ingrese un segundo numero b = \"))\n",
        "print(f'La División {a}/{b} = {a/b}')"
      ],
      "metadata": {
        "colab": {
          "base_uri": "https://localhost:8080/"
        },
        "id": "1orEv9HFnfiT",
        "outputId": "8b470226-3d25-4703-b3e2-354427529a81"
      },
      "execution_count": null,
      "outputs": [
        {
          "output_type": "stream",
          "name": "stdout",
          "text": [
            "Ingrese un primer numero a = 25\n",
            "Ingrese un segundo numero b = 6\n",
            "La División 25.0/6.0 = 4.166666666666667\n"
          ]
        }
      ]
    },
    {
      "cell_type": "markdown",
      "source": [
        "$\\bullet$ **e. La Potencia**."
      ],
      "metadata": {
        "id": "FwKeSmNBnb7j"
      }
    },
    {
      "cell_type": "code",
      "source": [
        "a = float(input(\"Ingrese un primer numero a = \"))\n",
        "b =  float(input(\"Ingrese un segundo numero b = \"))\n",
        "print(f'La Potencia {a}^{b} = {a**b}')"
      ],
      "metadata": {
        "colab": {
          "base_uri": "https://localhost:8080/"
        },
        "id": "LynjrYmknghh",
        "outputId": "2dadfd40-a0bc-486d-8216-9f47b51ef85f"
      },
      "execution_count": null,
      "outputs": [
        {
          "output_type": "stream",
          "name": "stdout",
          "text": [
            "Ingrese un primer numero a = 4\n",
            "Ingrese un segundo numero b = 3\n",
            "La Potencia 4.0^3.0 = 64.0\n"
          ]
        }
      ]
    },
    {
      "cell_type": "markdown",
      "source": [
        "$\\bullet$ **f. El Residuo**."
      ],
      "metadata": {
        "id": "k898yk2sncWT"
      }
    },
    {
      "cell_type": "code",
      "source": [
        "a = float(input(\"Ingrese un primer numero a = \"))\n",
        "b =  float(input(\"Ingrese un segundo numero b = \"))\n",
        "print(f'El Residuo de dividir  {a} entre {b}, se denota por {a} % {b} = {a%b}')"
      ],
      "metadata": {
        "colab": {
          "base_uri": "https://localhost:8080/"
        },
        "id": "gmC_dC3snhig",
        "outputId": "641642a7-7daf-4be3-c001-6f61642f23c1"
      },
      "execution_count": null,
      "outputs": [
        {
          "output_type": "stream",
          "name": "stdout",
          "text": [
            "Ingrese un primer numero a = 9\n",
            "Ingrese un segundo numero b = 2\n",
            "El Residuo de dividir  9.0 entre 2.0, se denota por 9.0 % 2.0 = 1.0\n"
          ]
        }
      ]
    },
    {
      "cell_type": "markdown",
      "source": [
        "$\\bullet$ **g. El cociente**."
      ],
      "metadata": {
        "id": "BEKqYkZhndBc"
      }
    },
    {
      "cell_type": "code",
      "source": [
        "a = float(input(\"Ingrese un primer numero a = \"))\n",
        "b =  float(input(\"Ingrese un segundo numero b = \"))\n",
        "print(f'El cociente de dividir  {a} entre {b}, se denota por {a} // {b} = {a//b}')"
      ],
      "metadata": {
        "colab": {
          "base_uri": "https://localhost:8080/"
        },
        "id": "R1S-cOu_niYp",
        "outputId": "36c2f5ca-99a1-4815-f35c-3f3488b50bae"
      },
      "execution_count": null,
      "outputs": [
        {
          "output_type": "stream",
          "name": "stdout",
          "text": [
            "Ingrese un primer numero a = 9\n",
            "Ingrese un segundo numero b = 2\n",
            "El cociente de dividir  9.0 entre 2.0, se denota por 9.0 // 2.0 = 4.0\n"
          ]
        }
      ]
    },
    {
      "cell_type": "markdown",
      "source": [
        "$\\bullet$ **h. Raiz general**."
      ],
      "metadata": {
        "id": "YyPJGDeRndnL"
      }
    },
    {
      "cell_type": "code",
      "source": [
        "a = float(input(\"Ingrese un primer numero a = \"))\n",
        "b =  float(input(\"Ingrese un segundo numero b = \"))\n",
        "print(f'la raíz  {b} de {a}, se denota por {a} ^ 1/{b} = {pow(a,1/b)}')"
      ],
      "metadata": {
        "colab": {
          "base_uri": "https://localhost:8080/"
        },
        "id": "Gd-mSBoooneQ",
        "outputId": "4d7ca808-40f1-4c80-b65d-db70b661d0b1"
      },
      "execution_count": null,
      "outputs": [
        {
          "output_type": "stream",
          "name": "stdout",
          "text": [
            "Ingrese un primer numero a = 64\n",
            "Ingrese un segundo numero b = 3\n",
            "la raíz  3.0 de 64.0, se denota por 64.0 ^ 1/3.0 = 3.9999999999999996\n"
          ]
        }
      ]
    },
    {
      "cell_type": "markdown",
      "source": [
        "$\\bullet$ **i. Todas las operaciones juntas**."
      ],
      "metadata": {
        "id": "1aZwJihanQpr"
      }
    },
    {
      "cell_type": "code",
      "source": [
        "!pip install texttable &>/dev/null\n",
        "from texttable import Texttable"
      ],
      "metadata": {
        "id": "DEncVO_zlNTc"
      },
      "execution_count": null,
      "outputs": []
    },
    {
      "cell_type": "code",
      "source": [
        "a = float(input(\"Ingrese un primer numero a = \"))\n",
        "b =  float(input(\"Ingrese un segundo numero b = \"))\n",
        "t1 = Texttable()\n",
        "\n",
        "t1.add_rows([['OPERADOR ','DESCRIPCIÓN', 'OPERACION', 'resultado' ],\n",
        "           ['+',\t'Realiza Adición entre los operandos', f'{a} + {b} = ', a + b],\n",
        "           ['-',\t'Realiza Substracción  entre los operandos', f'{a} - {b} = ',  a - b],\n",
        "           ['*',\t'Realiza Multiplicación entre los operandos', f'{a} * {b} = ', a * b],\n",
        "           ['/',\t'Realiza División entre los operandos', f'{a} / {b} = ', a / b],\n",
        "           ['pow','Realiza la raiz entre los operandos', f'raíz {b} de {a} = ',pow(a,1/b)],\n",
        "           ['%',\t'Realiza el Residuo de dividir  {a} entre {b}', f'{a} % {b} = ', a % b],\n",
        "           ['**',\t'Realiza la potencia  entre los operandos', f'{a} ** {b} = ', a ** b],\n",
        "           ['//',\t'Realiza el cociente de dividir  {a} entre {b}\t', f'{a} // {b}', a// b]])\n",
        "print(t1.draw())"
      ],
      "metadata": {
        "colab": {
          "base_uri": "https://localhost:8080/"
        },
        "id": "tpJwvoekiouR",
        "outputId": "747ab0f6-284a-4159-f7fe-e140f8739273"
      },
      "execution_count": null,
      "outputs": [
        {
          "output_type": "stream",
          "name": "stdout",
          "text": [
            "Ingrese un primer numero a = 8\n",
            "Ingrese un segundo numero b = 2\n",
            "+-----------+---------------------------------+--------------------+-----------+\n",
            "| OPERADOR  |           DESCRIPCIÓN           |     OPERACION      | resultado |\n",
            "+===========+=================================+====================+===========+\n",
            "| +         | Realiza Adición entre los       | 8.0 + 2.0 =        | 10        |\n",
            "|           | operandos                       |                    |           |\n",
            "+-----------+---------------------------------+--------------------+-----------+\n",
            "| -         | Realiza Substracción  entre los | 8.0 - 2.0 =        | 6         |\n",
            "|           | operandos                       |                    |           |\n",
            "+-----------+---------------------------------+--------------------+-----------+\n",
            "| *         | Realiza Multiplicación entre    | 8.0 * 2.0 =        | 16        |\n",
            "|           | los operandos                   |                    |           |\n",
            "+-----------+---------------------------------+--------------------+-----------+\n",
            "| /         | Realiza División entre los      | 8.0 / 2.0 =        | 4         |\n",
            "|           | operandos                       |                    |           |\n",
            "+-----------+---------------------------------+--------------------+-----------+\n",
            "| pow       | Realiza la raiz entre los       | raíz 2.0 de 8.0 =  | 2.828     |\n",
            "|           | operandos                       |                    |           |\n",
            "+-----------+---------------------------------+--------------------+-----------+\n",
            "| %         | Realiza el Residuo de dividir   | 8.0 % 2.0 =        | 0         |\n",
            "|           | {a} entre {b}                   |                    |           |\n",
            "+-----------+---------------------------------+--------------------+-----------+\n",
            "| **        | Realiza la potencia  entre los  | 8.0 ** 2.0 =       | 64        |\n",
            "|           | operandos                       |                    |           |\n",
            "+-----------+---------------------------------+--------------------+-----------+\n",
            "| //        | Realiza el cociente de dividir  | 8.0 // 2.0         | 4         |\n",
            "|           | {a} entre {b}                   |                    |           |\n",
            "+-----------+---------------------------------+--------------------+-----------+\n"
          ]
        }
      ]
    },
    {
      "cell_type": "markdown",
      "source": [
        "# **7. Expresiones algebraicas**"
      ],
      "metadata": {
        "id": "gPKIToQ7rfMy"
      }
    },
    {
      "cell_type": "markdown",
      "source": [
        "## **a. Expresiones algebraicas sencillas**"
      ],
      "metadata": {
        "id": "Baan1PP9t82s"
      }
    },
    {
      "cell_type": "code",
      "source": [
        "x = float(input(\"Ingrese un primer numero x = \"))\n",
        "y =  float(input(\"Ingrese un segundo numero y = \"))\n",
        "z = float(input(\"Ingrese un primer numero z = \"))"
      ],
      "metadata": {
        "colab": {
          "base_uri": "https://localhost:8080/"
        },
        "id": "7CmdE8tls2g7",
        "outputId": "54bc66e4-e623-4bb0-9fea-54eec75711df"
      },
      "execution_count": null,
      "outputs": [
        {
          "name": "stdout",
          "output_type": "stream",
          "text": [
            "Ingrese un primer numero x = 5\n",
            "Ingrese un segundo numero y = 3\n",
            "Ingrese un primer numero z = 2\n"
          ]
        }
      ]
    },
    {
      "cell_type": "code",
      "source": [
        "a = x/2 + 3*y/4\n",
        "b = 2*x + 3*y - 4*z\n",
        "c = x**2 - 2*x +5"
      ],
      "metadata": {
        "id": "phiyr8c3sV0h"
      },
      "execution_count": null,
      "outputs": []
    },
    {
      "cell_type": "code",
      "source": [
        "print(f'El valor de {a}+{b}+{c} = {a+b+c}')\n",
        "print(f'El valor de {a}^2+{b}^2+{c}^2 = {a**2+b**2+c**2}')"
      ],
      "metadata": {
        "colab": {
          "base_uri": "https://localhost:8080/"
        },
        "id": "S3pJPgdlsV4u",
        "outputId": "65f5d12f-a6da-451b-e738-3a16e8203f4a"
      },
      "execution_count": null,
      "outputs": [
        {
          "output_type": "stream",
          "name": "stdout",
          "text": [
            "El valor de 4.75+11.0+20.0 = 35.75\n",
            "El valor de 4.75^2+11.0^2+20.0^2 = 543.5625\n"
          ]
        }
      ]
    },
    {
      "cell_type": "code",
      "source": [],
      "metadata": {
        "id": "Q_tt2KlYsV9G"
      },
      "execution_count": null,
      "outputs": []
    },
    {
      "cell_type": "code",
      "source": [
        "## **a. Expresión aritmética**\n",
        "operación = ((2*4)/6+2**3)/(2+5)\n",
        "print(\"El resultado de esta operacion es\", operación)"
      ],
      "metadata": {
        "colab": {
          "base_uri": "https://localhost:8080/"
        },
        "id": "ORfRISF79moq",
        "outputId": "e19e5c59-7aa7-4153-d6ba-1ad63de41733"
      },
      "execution_count": null,
      "outputs": [
        {
          "output_type": "stream",
          "name": "stdout",
          "text": [
            "El resultado de esta operacion es 1.3333333333333335\n"
          ]
        }
      ]
    },
    {
      "cell_type": "markdown",
      "source": [
        "## **b. Determina mentalmente (sin programar) el resultado que aparecerá por pantalla a partir de las siguientes variables:**"
      ],
      "metadata": {
        "id": "CILL9n0sqzmL"
      }
    },
    {
      "cell_type": "code",
      "source": [
        "## **b. Determina mentalmente (sin programar) el resultado que aparecerá por pantalla a partir de las siguientes variables:**\n",
        "a =  int(input('Ingrese el primer numero '))\n",
        "b = int(input('Ingrese el segundo numero '))\n",
        "c = int(input('Ingrese el tercer numero '))\n",
        "d = [a, b, c]\n",
        "print(f'El binomio ({a}+{b})^{c} = {(a+b)**c}')\n",
        "print(f'El binomio ({a}+{c})^{b} = {(a+c)**b}')\n",
        "print(f'El binomio ({b}+{c})^{a} = {(b+c)**a}')\n",
        "print(f'se cumple que {a}^2+{b}^2={c}^2  y la respuesta es { a**2+b**2 == c**2}')\n",
        "print(f'se cumple que {a}^2+{c}^2={b}^2  y la respuesta es { a**2+c**2 == b**2}')\n",
        "print(f'se cumple que {b}^2+{c}^2={a}^2  y la respuesta es { b**2+c**2 == a**2}')\n",
        "print(f'La suma de {a} + {b} + {c} = {a + b + c}')\n",
        "print(f'La combinacion de 3{a} + 2{b} - 5{c} = {3*a + 2*b - 5*c}')\n",
        "print(f'El vector 5[{a}, {b}, {c}] =  ', 5*np.array([a, b, c]))\n",
        "# print(f'El vector [{a}, {b}, {c}]^2 = {pow([a, b, c],2)}')\n",
        "print(f'El vector [{a}, {b}, {c}]- [{c}, {a}, {b}] = {np.array([a, b, c])- np.array([c, a, b])}')"
      ],
      "metadata": {
        "colab": {
          "base_uri": "https://localhost:8080/"
        },
        "id": "th2xhX9jqsiS",
        "outputId": "a57d03ea-5d4d-42dc-ee74-4593598f5c73"
      },
      "execution_count": null,
      "outputs": [
        {
          "output_type": "stream",
          "name": "stdout",
          "text": [
            "Ingrese el primer numero 3\n",
            "Ingrese el segundo numero 4\n",
            "Ingrese el tercer numero 5\n",
            "El binomio (3+4)^5 = 16807\n",
            "El binomio (3+5)^4 = 4096\n",
            "El binomio (4+5)^3 = 729\n",
            "se cumple que 3^2+4^2=5^2  y la respuesta es True\n",
            "se cumple que 3^2+5^2=4^2  y la respuesta es False\n",
            "se cumple que 4^2+5^2=3^2  y la respuesta es False\n",
            "La suma de 3 + 4 + 5 = 12\n",
            "La combinacion de 33 + 24 - 55 = -8\n",
            "El vector 5[3, 4, 5] =   [15 20 25]\n",
            "El vector [3, 4, 5]- [5, 3, 4] = [-2  1  1]\n"
          ]
        }
      ]
    },
    {
      "cell_type": "markdown",
      "source": [
        "# **c. Expresiones algebraicas**"
      ],
      "metadata": {
        "id": "FNqMfLQmtaD4"
      }
    },
    {
      "cell_type": "code",
      "source": [
        "# **c. Expresiones algebraicas**\n",
        "\n",
        "A = int(input('Ingrese el valor de A ='))\n",
        "B = int(input('Ingrese el valor de B = '))\n",
        "operación = ((A+B)**(B-A))/((A-B)**(A+B))\n",
        "print(\"El resutado de la operación es\", operación)"
      ],
      "metadata": {
        "colab": {
          "base_uri": "https://localhost:8080/"
        },
        "id": "wOzJSBMt-O1N",
        "outputId": "f1f63ac6-cb3b-4136-d168-93ba45aa6d4b"
      },
      "execution_count": null,
      "outputs": [
        {
          "output_type": "stream",
          "name": "stdout",
          "text": [
            "Ingrese el valor de A =5\n",
            "Ingrese el valor de B = 8\n",
            "El resutado de la operación es -0.0013780143672267164\n"
          ]
        }
      ]
    },
    {
      "cell_type": "markdown",
      "source": [
        "# **8.0 Polinomios**"
      ],
      "metadata": {
        "id": "rTvk_2BzvMdt"
      }
    },
    {
      "cell_type": "markdown",
      "source": [
        "# **a. Comprobar que 2 y 3 son las raíces del polinomio $P(x)=x^2-5x+6$**"
      ],
      "metadata": {
        "id": "MCTgMZ9ztlJ8"
      }
    },
    {
      "cell_type": "code",
      "source": [
        "# **d. Comprobar que 2 y 3 son las raíces del polinomio {P(x)=x^2-5x+6}**\n",
        "x = int(input('Ingrese el valor de x = '))\n",
        "C = x**2-5*x+6\n",
        "if C == 0:\n",
        " print(f'El valor de x = {x} es una raiz del polinomio porque su evaluación en C({x}) = {C} =  0')\n",
        "else:\n",
        "  print(f'El valor de x = {x} no es una raiz del polinomio porque su evaluación en C({x})= {C} != 0')"
      ],
      "metadata": {
        "colab": {
          "base_uri": "https://localhost:8080/"
        },
        "id": "UjK4sK6ytTof",
        "outputId": "92bd7781-3e8b-4828-ccce-a51b1fc1e7bb"
      },
      "execution_count": null,
      "outputs": [
        {
          "output_type": "stream",
          "name": "stdout",
          "text": [
            "Ingrese el valor de x = 4\n",
            "El valor de x = 4 no es una raiz del polinomio porque su evaluación en C(4)= 2 != 0\n"
          ]
        }
      ]
    },
    {
      "cell_type": "markdown",
      "source": [
        "## **b. Un pequeño programa para hallar las raices de un polinomio** $$P(x)=ax^2+bx+c$$"
      ],
      "metadata": {
        "id": "sTfp_vmXv1WK"
      }
    },
    {
      "cell_type": "markdown",
      "source": [
        "### **b1. La libreria de soporte matemático**"
      ],
      "metadata": {
        "id": "RBvDbYnAwZep"
      }
    },
    {
      "cell_type": "code",
      "source": [
        "# La libreria\n",
        "import cmath  # Importar el módulo cmath para manejar números complejos"
      ],
      "metadata": {
        "id": "_Ob5trSbwO_a"
      },
      "execution_count": null,
      "outputs": []
    },
    {
      "cell_type": "markdown",
      "source": [
        "## **b2. Coeficientes del polinomio cuadrático $P(x)=ax^2+bx+c$**\n",
        "* $P(x) = x^2-6x + 8$"
      ],
      "metadata": {
        "id": "9Jg1I56pwiHs"
      }
    },
    {
      "cell_type": "code",
      "source": [
        "# Coeficientes del polinomio cuadrático (ax^2 + bx + c)\n",
        "a = float(input(\"Ingrese el coeficiente 'a': \"))\n",
        "b = float(input(\"Ingrese el coeficiente 'b': \"))\n",
        "c = float(input(\"Ingrese el coeficiente 'c': \"))\n",
        "print(f'el polinomio es  P(x)={a}x^2+{b}x+{c}',)"
      ],
      "metadata": {
        "colab": {
          "base_uri": "https://localhost:8080/"
        },
        "id": "bkyA_ty2wu56",
        "outputId": "3272b5d7-69d0-443b-a53c-494184089f8d"
      },
      "execution_count": null,
      "outputs": [
        {
          "output_type": "stream",
          "name": "stdout",
          "text": [
            "Ingrese el coeficiente 'a': 1\n",
            "Ingrese el coeficiente 'b': -6\n",
            "Ingrese el coeficiente 'c': 8\n",
            "el polinomio es  $P(x)=1.0x^2+-6.0x+8.0$\n"
          ]
        }
      ]
    },
    {
      "cell_type": "markdown",
      "source": [
        "## **b3. El discriminante $D=b^2-4ac$**"
      ],
      "metadata": {
        "id": "ROy8sg-cww-J"
      }
    },
    {
      "cell_type": "code",
      "source": [
        "# Calcular el discriminante\n",
        "D = b**2 - 4*a*c\n",
        "print(f'El discriminante del polinomio es D = {D}')"
      ],
      "metadata": {
        "colab": {
          "base_uri": "https://localhost:8080/"
        },
        "id": "P1QO633JxAeh",
        "outputId": "30e63877-835a-48b0-846e-45b1360721b3"
      },
      "execution_count": null,
      "outputs": [
        {
          "output_type": "stream",
          "name": "stdout",
          "text": [
            "El discriminante del polinomio es D = 4.0\n"
          ]
        }
      ]
    },
    {
      "cell_type": "markdown",
      "source": [
        "## **b4. Las raíces del polinomio** $$x_1 = \\frac{b+\\sqrt{D}}{2a}$$ $$x_2 = \\frac{b-\\sqrt{D}}{2a}$$"
      ],
      "metadata": {
        "id": "2MCeO3i4xGmR"
      }
    },
    {
      "cell_type": "code",
      "source": [
        "# Encontrar las raíces\n",
        "raiz1 = (-b - cmath.sqrt(D)) / (2*a)\n",
        "raiz2 = (-b + cmath.sqrt(D)) / (2*a)\n",
        "\n",
        "# Imprimir las raíces (pueden ser números complejos)\n",
        "print(f\"Raíz 1: {raiz1}\")\n",
        "print(f\"Raíz 2: {raiz2}\")\n"
      ],
      "metadata": {
        "colab": {
          "base_uri": "https://localhost:8080/"
        },
        "id": "RFCNzp4cvSqi",
        "outputId": "7403ad5d-a905-4dcc-c8e5-e3ab04d37e1b"
      },
      "execution_count": null,
      "outputs": [
        {
          "output_type": "stream",
          "name": "stdout",
          "text": [
            "Raíz 1: (2+0j)\n",
            "Raíz 2: (4+0j)\n"
          ]
        }
      ]
    },
    {
      "cell_type": "markdown",
      "source": [
        "# **e. Ejercicio: Halle todas las raices de los polinomios:**\n",
        "\n",
        "* $P(x)= x^2-x-6$\n",
        "* $P(x) = x^3 + 3x^2-4x-12$\n",
        "* $P(x) = x^4-10x^2 + 9$"
      ],
      "metadata": {
        "id": "R8E1YJ0vxCLN"
      }
    },
    {
      "cell_type": "markdown",
      "metadata": {
        "id": "oT_d_3Tycv4I"
      },
      "source": [
        "# **9. MAYUSCULA SOSTENIDA**\n",
        "## **a. Pasar todo a Mayuscula: Función .upper()**"
      ]
    },
    {
      "cell_type": "code",
      "execution_count": null,
      "metadata": {
        "colab": {
          "base_uri": "https://localhost:8080/",
          "height": 36
        },
        "id": "Ek2HQNgOcFzt",
        "outputId": "3deb96cd-be64-4e75-d908-a4b4b4ba0e80"
      },
      "outputs": [
        {
          "output_type": "execute_result",
          "data": {
            "text/plain": [
              "'JULIO HURTADO'"
            ],
            "application/vnd.google.colaboratory.intrinsic+json": {
              "type": "string"
            }
          },
          "metadata": {},
          "execution_count": 7
        }
      ],
      "source": [
        "# **a. Pasar todo a Mayuscula: Función .upper()**\n",
        "\"Julio Hurtado\".upper()"
      ]
    },
    {
      "cell_type": "markdown",
      "source": [
        "## **b. Ejercicio. Pasar todo a Mayuscula**\n",
        "- La ciencia de datos es un campo académico interdisciplinario que utiliza estadística, computación científica, métodos, procesos, algoritmos y sistemas científicos para obtener (recolectar o extraer), tratar, analizar y presentar informes a partir de datos ruidosos, estructurados y no estructurados."
      ],
      "metadata": {
        "id": "TAEQO6LkyO1H"
      }
    },
    {
      "cell_type": "code",
      "source": [
        "parrafo = 'La ciencia de datos es un campo académico interdisciplinario que utiliza estadística, computación científica, métodos, procesos, algoritmos y sistemas científicos para obtener (recolectar o extraer), tratar, analizar y presentar informes a partir de datos ruidosos, estructurados y no estructurados.'\n",
        "parrafo.upper()"
      ],
      "metadata": {
        "colab": {
          "base_uri": "https://localhost:8080/",
          "height": 54
        },
        "id": "esnO2Cy3zscc",
        "outputId": "a95e0f3d-735d-4321-9aac-5d4bbdeb2f96"
      },
      "execution_count": null,
      "outputs": [
        {
          "output_type": "execute_result",
          "data": {
            "text/plain": [
              "'LA CIENCIA DE DATOS ES UN CAMPO ACADÉMICO INTERDISCIPLINARIO QUE UTILIZA ESTADÍSTICA, COMPUTACIÓN CIENTÍFICA, MÉTODOS, PROCESOS, ALGORITMOS Y SISTEMAS CIENTÍFICOS PARA OBTENER (RECOLECTAR O EXTRAER), TRATAR, ANALIZAR Y PRESENTAR INFORMES A PARTIR DE DATOS RUIDOSOS, ESTRUCTURADOS Y NO ESTRUCTURADOS.'"
            ],
            "application/vnd.google.colaboratory.intrinsic+json": {
              "type": "string"
            }
          },
          "metadata": {},
          "execution_count": 9
        }
      ]
    },
    {
      "cell_type": "markdown",
      "source": [
        "\n",
        "# **10. minuscula: Función .lower()**"
      ],
      "metadata": {
        "id": "HJNwxSdf_5uX"
      }
    },
    {
      "cell_type": "code",
      "execution_count": null,
      "metadata": {
        "colab": {
          "base_uri": "https://localhost:8080/",
          "height": 36
        },
        "id": "y6dYHT2xcF5e",
        "outputId": "53e9ac7f-0c98-42b1-d6e8-3700e2c504d3"
      },
      "outputs": [
        {
          "output_type": "execute_result",
          "data": {
            "text/plain": [
              "'julio hurtado'"
            ],
            "application/vnd.google.colaboratory.intrinsic+json": {
              "type": "string"
            }
          },
          "metadata": {},
          "execution_count": 10
        }
      ],
      "source": [
        "\"Julio Hurtado\".lower()"
      ]
    },
    {
      "cell_type": "code",
      "source": [
        "parrafo.lower()"
      ],
      "metadata": {
        "colab": {
          "base_uri": "https://localhost:8080/",
          "height": 54
        },
        "id": "1zUa-ifhLlHH",
        "outputId": "22f750bf-741f-47f3-c5b4-85d0a565edd5"
      },
      "execution_count": null,
      "outputs": [
        {
          "output_type": "execute_result",
          "data": {
            "text/plain": [
              "'la ciencia de datos es un campo académico interdisciplinario que utiliza estadística, computación científica, métodos, procesos, algoritmos y sistemas científicos para obtener (recolectar o extraer), tratar, analizar y presentar informes a partir de datos ruidosos, estructurados y no estructurados.'"
            ],
            "application/vnd.google.colaboratory.intrinsic+json": {
              "type": "string"
            }
          },
          "metadata": {},
          "execution_count": 11
        }
      ]
    },
    {
      "cell_type": "markdown",
      "source": [
        "\n",
        "# **10. Pasar primeras letras a Mayuscula**\n",
        "$\\bullet$ **Función .title()**"
      ],
      "metadata": {
        "id": "qvwUMc_jAADe"
      }
    },
    {
      "cell_type": "code",
      "execution_count": null,
      "metadata": {
        "colab": {
          "base_uri": "https://localhost:8080/",
          "height": 36
        },
        "id": "bUlDEQOoc8q8",
        "outputId": "07a4c5b7-02c2-4827-a3be-088dbaf68128"
      },
      "outputs": [
        {
          "output_type": "execute_result",
          "data": {
            "text/plain": [
              "'Cartagena, Barranquilla, Santa Marta, Montería, Sincelejo, Valledupar, Guajira'"
            ],
            "application/vnd.google.colaboratory.intrinsic+json": {
              "type": "string"
            }
          },
          "metadata": {},
          "execution_count": 12
        }
      ],
      "source": [
        "parrafo_2 = \"cartagena, barranquilla, santa marta, montería, sincelejo, valledupar, guajira\"\n",
        "parrafo_2.title()"
      ]
    },
    {
      "cell_type": "code",
      "source": [
        "parrafo.title()"
      ],
      "metadata": {
        "colab": {
          "base_uri": "https://localhost:8080/",
          "height": 54
        },
        "id": "1eHsL-O6MP0d",
        "outputId": "9c5a6463-4ecf-4a85-9ae5-6276dfdd4023"
      },
      "execution_count": null,
      "outputs": [
        {
          "output_type": "execute_result",
          "data": {
            "text/plain": [
              "'La Ciencia De Datos Es Un Campo Académico Interdisciplinario Que Utiliza Estadística, Computación Científica, Métodos, Procesos, Algoritmos Y Sistemas Científicos Para Obtener (Recolectar O Extraer), Tratar, Analizar Y Presentar Informes A Partir De Datos Ruidosos, Estructurados Y No Estructurados.'"
            ],
            "application/vnd.google.colaboratory.intrinsic+json": {
              "type": "string"
            }
          },
          "metadata": {},
          "execution_count": 13
        }
      ]
    },
    {
      "cell_type": "markdown",
      "metadata": {
        "id": "a8tGnmXDeV68"
      },
      "source": [
        "#**11. Función _count_ para contar**"
      ]
    },
    {
      "cell_type": "markdown",
      "source": [
        "# **a. Contando el numero de letras \"a\"**"
      ],
      "metadata": {
        "id": "AF0tVrvQ5Rru"
      }
    },
    {
      "cell_type": "code",
      "execution_count": null,
      "metadata": {
        "colab": {
          "base_uri": "https://localhost:8080/"
        },
        "id": "L2B8AZSMc81A",
        "outputId": "f742e7c2-659e-4a2b-dfad-acc079e9b6b4"
      },
      "outputs": [
        {
          "output_type": "execute_result",
          "data": {
            "text/plain": [
              "15"
            ]
          },
          "metadata": {},
          "execution_count": 27
        }
      ],
      "source": [
        "# **a. Contando el numero de letras \"a\"**\n",
        "parrafo_2.count(\"a\")"
      ]
    },
    {
      "cell_type": "code",
      "execution_count": null,
      "metadata": {
        "colab": {
          "base_uri": "https://localhost:8080/",
          "height": 36
        },
        "id": "7sNJYTHPXmMk",
        "outputId": "c2404a0e-c05c-4d71-c5eb-2accf75190d5"
      },
      "outputs": [
        {
          "output_type": "execute_result",
          "data": {
            "text/plain": [
              "'cartagena, barranquilla, santa marta, montería, sincelejo, valledupar, guajira'"
            ],
            "application/vnd.google.colaboratory.intrinsic+json": {
              "type": "string"
            }
          },
          "metadata": {},
          "execution_count": 28
        }
      ],
      "source": [
        "ciudad_c = \"cartagena, barranquilla, santa marta, montería, sincelejo, valledupar, guajira\"\n",
        "ciudad_c"
      ]
    },
    {
      "cell_type": "code",
      "execution_count": null,
      "metadata": {
        "colab": {
          "base_uri": "https://localhost:8080/"
        },
        "id": "Ed6Hr1JIXxfj",
        "outputId": "9d19c897-7a75-41ba-a443-221ea9c87446"
      },
      "outputs": [
        {
          "output_type": "execute_result",
          "data": {
            "text/plain": [
              "15"
            ]
          },
          "metadata": {},
          "execution_count": 16
        }
      ],
      "source": [
        "ciudad_c.count(\"a\")"
      ]
    },
    {
      "cell_type": "markdown",
      "source": [
        "# **b. Contando el numero de letras \"c\"**"
      ],
      "metadata": {
        "id": "zoXj51cz5hQJ"
      }
    },
    {
      "cell_type": "code",
      "execution_count": null,
      "metadata": {
        "colab": {
          "base_uri": "https://localhost:8080/"
        },
        "id": "p_CinbW5c846",
        "outputId": "aba5e8db-b6b4-4071-b8da-960751ee6978"
      },
      "outputs": [
        {
          "output_type": "execute_result",
          "data": {
            "text/plain": [
              "2"
            ]
          },
          "metadata": {},
          "execution_count": 29
        }
      ],
      "source": [
        "# **b. Contando el numero de letras \"c\"**\n",
        "\"cartagena, barranquilla, santa marta, montería, sincelejo, valledupar, guajira\".count(\"c\")"
      ]
    },
    {
      "cell_type": "markdown",
      "source": [
        "# **c. Contando el numero de letras \"a\" en un párrafo**"
      ],
      "metadata": {
        "id": "st22s71v6TTs"
      }
    },
    {
      "cell_type": "code",
      "source": [
        "# **c. Contando el numero de letras \"a\" en un párrafo**\n",
        "c_datos = 'La ciencia de datos es un campo académico interdisciplinario que utiliza estadística, computación científica, métodos, procesos, algoritmos y sistemas científicos para obtener (recolectar o extraer), tratar, analizar y presentar informes a partir de datos ruidosos, estructurados y no estructurados.'"
      ],
      "metadata": {
        "id": "Sq3kE5NV5unn"
      },
      "execution_count": 4,
      "outputs": []
    },
    {
      "cell_type": "code",
      "source": [
        "c_datos.count(\"a\")"
      ],
      "metadata": {
        "colab": {
          "base_uri": "https://localhost:8080/"
        },
        "id": "F3tL9FJ6580m",
        "outputId": "40c71371-6e7a-4d1f-ac0b-885c95c5dc85"
      },
      "execution_count": 5,
      "outputs": [
        {
          "output_type": "execute_result",
          "data": {
            "text/plain": [
              "29"
            ]
          },
          "metadata": {},
          "execution_count": 5
        }
      ]
    },
    {
      "cell_type": "markdown",
      "source": [
        "## **d. Quiero hacer un programa que me cuente todas las letras del párrafo**"
      ],
      "metadata": {
        "id": "BJtgTnYVQPIG"
      }
    },
    {
      "cell_type": "markdown",
      "source": [
        "$\\bullet$ **Paso_1. En una lista las letras del Alfabeto**."
      ],
      "metadata": {
        "id": "BNARWcJQQdce"
      }
    },
    {
      "cell_type": "code",
      "source": [
        "# Crear una lista de letras en el alfabeto\n",
        "alfabeto = ['a', 'b', 'c', 'd', 'e', 'f', 'g', 'h', 'i', 'j', 'k', 'l', 'm', 'n', 'o', 'p', 'q', 'r', 's', 't', 'u', 'v', 'w', 'x', 'y', 'z']\n",
        "print(alfabeto)"
      ],
      "metadata": {
        "colab": {
          "base_uri": "https://localhost:8080/"
        },
        "id": "2LbDGb2S-TZH",
        "outputId": "d0be9369-2cec-472a-ff1d-4eedb50bee6b"
      },
      "execution_count": 2,
      "outputs": [
        {
          "output_type": "stream",
          "name": "stdout",
          "text": [
            "['a', 'b', 'c', 'd', 'e', 'f', 'g', 'h', 'i', 'j', 'k', 'l', 'm', 'n', 'o', 'p', 'q', 'r', 's', 't', 'u', 'v', 'w', 'x', 'y', 'z']\n"
          ]
        }
      ]
    },
    {
      "cell_type": "markdown",
      "source": [
        "$\\bullet$ **Paso_2. Construimos el párrafo a analizar**."
      ],
      "metadata": {
        "id": "3OU2JCxqQ5XP"
      }
    },
    {
      "cell_type": "code",
      "source": [
        "# Párrafo de texto\n",
        "parrafo = 'La ciencia de datos es un campo académico interdisciplinario que utiliza estadística, computación científica, métodos, procesos, algoritmos y sistemas científicos para obtener (recolectar o extraer), tratar, analizar y presentar informes a partir de datos ruidosos, estructurados y no estructurados.'\n",
        "print(parrafo)"
      ],
      "metadata": {
        "colab": {
          "base_uri": "https://localhost:8080/"
        },
        "id": "Kinz3F-CIF1M",
        "outputId": "b5ca242c-3425-4ede-ef10-7e407d7dd2d3"
      },
      "execution_count": 4,
      "outputs": [
        {
          "output_type": "stream",
          "name": "stdout",
          "text": [
            "La ciencia de datos es un campo académico interdisciplinario que utiliza estadística, computación científica, métodos, procesos, algoritmos y sistemas científicos para obtener (recolectar o extraer), tratar, analizar y presentar informes a partir de datos ruidosos, estructurados y no estructurados.\n"
          ]
        }
      ]
    },
    {
      "cell_type": "markdown",
      "source": [
        "$\\bullet$ **Paso_3. Todas las letras en minusculas**."
      ],
      "metadata": {
        "id": "wS9bcAzbIP3d"
      }
    },
    {
      "cell_type": "code",
      "source": [
        "# Convertir el párrafo a minúsculas para evitar distinción entre mayúsculas y minúsculas\n",
        "parrafo = parrafo.lower()\n",
        "print(parrafo)"
      ],
      "metadata": {
        "colab": {
          "base_uri": "https://localhost:8080/"
        },
        "id": "yFDpDiM2IXdk",
        "outputId": "cc770a7c-cd4a-48be-a674-959120f80488"
      },
      "execution_count": 5,
      "outputs": [
        {
          "output_type": "stream",
          "name": "stdout",
          "text": [
            "la ciencia de datos es un campo académico interdisciplinario que utiliza estadística, computación científica, métodos, procesos, algoritmos y sistemas científicos para obtener (recolectar o extraer), tratar, analizar y presentar informes a partir de datos ruidosos, estructurados y no estructurados.\n"
          ]
        }
      ]
    },
    {
      "cell_type": "markdown",
      "source": [
        "$\\bullet$ **Paso_4. Creamos el lugar donde vamos almacenar la información de cada letra y su frecuencia en el párrafo**."
      ],
      "metadata": {
        "id": "gdUwA12_Ipgq"
      }
    },
    {
      "cell_type": "code",
      "source": [
        "# Inicializar un diccionario para almacenar la frecuencia de cada letra\n",
        "frecuencias = {letra: 0 for letra in alfabeto}\n",
        "print(frecuencias)"
      ],
      "metadata": {
        "colab": {
          "base_uri": "https://localhost:8080/"
        },
        "id": "orujLaLZI2gh",
        "outputId": "795e4338-c963-498e-ad39-b46df772ebff"
      },
      "execution_count": 6,
      "outputs": [
        {
          "output_type": "stream",
          "name": "stdout",
          "text": [
            "{'a': 0, 'b': 0, 'c': 0, 'd': 0, 'e': 0, 'f': 0, 'g': 0, 'h': 0, 'i': 0, 'j': 0, 'k': 0, 'l': 0, 'm': 0, 'n': 0, 'o': 0, 'p': 0, 'q': 0, 'r': 0, 's': 0, 't': 0, 'u': 0, 'v': 0, 'w': 0, 'x': 0, 'y': 0, 'z': 0}\n"
          ]
        }
      ]
    },
    {
      "cell_type": "markdown",
      "source": [
        "$\\bullet$ **Paso_5. Iniciamos el conteo de cada letra del parrafo**."
      ],
      "metadata": {
        "id": "LqPuKebKJGlb"
      }
    },
    {
      "cell_type": "code",
      "source": [
        "# Contar la frecuencia de cada letra en el párrafo\n",
        "for letra in parrafo:\n",
        "    if letra in alfabeto:\n",
        "        frecuencias[letra] += 1\n",
        "print(frecuencias)"
      ],
      "metadata": {
        "colab": {
          "base_uri": "https://localhost:8080/"
        },
        "id": "YoVo0zcXJXLx",
        "outputId": "30cefc0f-256b-4acd-db3f-14298bcf745d"
      },
      "execution_count": 7,
      "outputs": [
        {
          "output_type": "stream",
          "name": "stdout",
          "text": [
            "{'a': 29, 'b': 1, 'c': 18, 'd': 11, 'e': 22, 'f': 3, 'g': 1, 'h': 0, 'i': 22, 'j': 0, 'k': 0, 'l': 6, 'm': 7, 'n': 12, 'o': 22, 'p': 7, 'q': 1, 'r': 23, 's': 22, 't': 23, 'u': 9, 'v': 0, 'w': 0, 'x': 1, 'y': 3, 'z': 2}\n"
          ]
        }
      ]
    },
    {
      "cell_type": "markdown",
      "source": [
        "$\\bullet$ **Paso_6. Creamos la base de datos que contenga la tabla de frecuencias**."
      ],
      "metadata": {
        "id": "6fvaNMrXJmqZ"
      }
    },
    {
      "cell_type": "code",
      "source": [
        "# Crear un DataFrame a partir del diccionario de frecuencias\n",
        "import pandas as pd\n",
        "df = pd.DataFrame(frecuencias.values(), index=frecuencias.keys(), columns=['Frecuencia'])\n",
        "print(df)"
      ],
      "metadata": {
        "colab": {
          "base_uri": "https://localhost:8080/"
        },
        "id": "BnMA7Cp9JvmB",
        "outputId": "3bfc67a4-aa0a-4713-d6df-a6e3c6f244b2"
      },
      "execution_count": 9,
      "outputs": [
        {
          "output_type": "stream",
          "name": "stdout",
          "text": [
            "   Frecuencia\n",
            "a          29\n",
            "b           1\n",
            "c          18\n",
            "d          11\n",
            "e          22\n",
            "f           3\n",
            "g           1\n",
            "h           0\n",
            "i          22\n",
            "j           0\n",
            "k           0\n",
            "l           6\n",
            "m           7\n",
            "n          12\n",
            "o          22\n",
            "p           7\n",
            "q           1\n",
            "r          23\n",
            "s          22\n",
            "t          23\n",
            "u           9\n",
            "v           0\n",
            "w           0\n",
            "x           1\n",
            "y           3\n",
            "z           2\n"
          ]
        }
      ]
    },
    {
      "cell_type": "markdown",
      "source": [
        "$\\bullet$ **Paso_7. Creamos la Tabla de frecuencias para la base de datos creada**."
      ],
      "metadata": {
        "id": "hBkmLEDPKFjm"
      }
    },
    {
      "cell_type": "code",
      "source": [
        "import matplotlib.pyplot as plt\n",
        "import string\n",
        "\n",
        "# Crear un gráfico de barras\n",
        "plt.figure(figsize=(10, 4))\n",
        "df.plot(kind='bar', legend=False)\n",
        "plt.xlabel('Letra')\n",
        "plt.ylabel('Frecuencia')\n",
        "plt.title('Frecuencia de letras en el párrafo')\n",
        "plt.xticks(rotation=0)\n",
        "plt.show()"
      ],
      "metadata": {
        "colab": {
          "base_uri": "https://localhost:8080/",
          "height": 490
        },
        "id": "9ujlpCCUKQU4",
        "outputId": "26e385a6-eff6-482f-f005-1a7fcb95da57"
      },
      "execution_count": 10,
      "outputs": [
        {
          "output_type": "display_data",
          "data": {
            "text/plain": [
              "<Figure size 1000x400 with 0 Axes>"
            ]
          },
          "metadata": {}
        },
        {
          "output_type": "display_data",
          "data": {
            "text/plain": [
              "<Figure size 640x480 with 1 Axes>"
            ],
            "image/png": "[encoded data removed]"
          },
          "metadata": {}
        }
      ]
    },
    {
      "cell_type": "markdown",
      "source": [
        "$\\bullet$ **Paso_8. Creamos el gráfico de Pastel para la base de datos creada**."
      ],
      "metadata": {
        "id": "m_sKu4fhKcOC"
      }
    },
    {
      "cell_type": "code",
      "source": [
        "# Crear un gráfico de pastel\n",
        "plt.figure(figsize=(900, 900))\n",
        "df.plot(kind='pie', y='Frecuencia', autopct='%1.1f%%', legend=False)\n",
        "plt.title('Frecuencia de letras en el párrafo')\n",
        "plt.show()"
      ],
      "metadata": {
        "colab": {
          "base_uri": "https://localhost:8080/",
          "height": 447
        },
        "id": "eUTNHvnfKp5C",
        "outputId": "f7786289-b4cd-4e2f-c138-ea252db79299"
      },
      "execution_count": 20,
      "outputs": [
        {
          "output_type": "display_data",
          "data": {
            "text/plain": [
              "<Figure size 90000x90000 with 0 Axes>"
            ]
          },
          "metadata": {}
        },
        {
          "output_type": "display_data",
          "data": {
            "text/plain": [
              "<Figure size 640x480 with 1 Axes>"
            ],
            "image/png": "[encoded data removed]"
          },
          "metadata": {}
        }
      ]
    },
    {
      "cell_type": "markdown",
      "source": [
        "$\\bullet$ **Paso_9. Todo el algoritmo en un solo lugar**"
      ],
      "metadata": {
        "id": "qbddRVn7LV0q"
      }
    },
    {
      "cell_type": "code",
      "source": [
        "import matplotlib.pyplot as plt\n",
        "import pandas as pd\n",
        "import string\n",
        "\n",
        "\n",
        "# Convertir el párrafo a minúsculas para evitar distinción entre mayúsculas y minúsculas\n",
        "parrafo = parrafo.lower()\n",
        "\n",
        "# Crear una lista de letras en el alfabeto\n",
        "alfabeto = ['a', 'b', 'c', 'd', 'e', 'f', 'g', 'h', 'i', 'j', 'k', 'l', 'm', 'n', 'o', 'p', 'q', 'r', 's', 't', 'u', 'v', 'w', 'x', 'y', 'z']\n",
        "\n",
        "# Inicializar un diccionario para almacenar la frecuencia de cada letra\n",
        "frecuencias = {letra: 0 for letra in alfabeto}\n",
        "\n",
        "# Contar la frecuencia de cada letra en el párrafo\n",
        "for letra in parrafo:\n",
        "    if letra in alfabeto:\n",
        "        frecuencias[letra] += 1\n",
        "\n",
        "# Crear un DataFrame a partir del diccionario de frecuencias\n",
        "df = pd.DataFrame(frecuencias.values(), index=frecuencias.keys(), columns=['Frecuencia'])\n",
        "\n",
        "# Crear un gráfico de barras\n",
        "plt.figure(figsize=(10, 4))\n",
        "df.plot(kind='bar', legend=False)\n",
        "plt.xlabel('Letra')\n",
        "plt.ylabel('Frecuencia')\n",
        "plt.title('Frecuencia de letras en el párrafo')\n",
        "plt.xticks(rotation=0)\n",
        "plt.show()\n",
        "\n",
        "# Crear un gráfico de pastel\n",
        "plt.figure(figsize=(6, 6))\n",
        "df.plot(kind='pie', y='Frecuencia', autopct='%1.1f%%', legend=False)\n",
        "plt.title('Frecuencia de letras en el párrafo')\n",
        "plt.show()\n"
      ],
      "metadata": {
        "colab": {
          "base_uri": "https://localhost:8080/",
          "height": 920
        },
        "id": "Tqidw3ySOxLe",
        "outputId": "c2646de8-8646-4578-b739-d3f96dbe9982"
      },
      "execution_count": 21,
      "outputs": [
        {
          "output_type": "display_data",
          "data": {
            "text/plain": [
              "<Figure size 1000x400 with 0 Axes>"
            ]
          },
          "metadata": {}
        },
        {
          "output_type": "display_data",
          "data": {
            "text/plain": [
              "<Figure size 640x480 with 1 Axes>"
            ],
            "image/png": "[encoded data removed]"
          },
          "metadata": {}
        },
        {
          "output_type": "display_data",
          "data": {
            "text/plain": [
              "<Figure size 600x600 with 0 Axes>"
            ]
          },
          "metadata": {}
        },
        {
          "output_type": "display_data",
          "data": {
            "text/plain": [
              "<Figure size 640x480 with 1 Axes>"
            ],
            "image/png": "[encoded data removed]"
          },
          "metadata": {}
        }
      ]
    },
    {
      "cell_type": "markdown",
      "source": [
        "$\\bullet$ **Paso_10. Todo el algoritmo en un solo lugar pero con las letras que aparecen en el párrafo**"
      ],
      "metadata": {
        "id": "amJCLSyBMMWT"
      }
    },
    {
      "cell_type": "code",
      "source": [
        "import matplotlib.pyplot as plt\n",
        "import pandas as pd\n",
        "import string\n",
        "\n",
        "print(\"Letra   Frecuencia\")\n",
        "print(\"-----------------\")\n",
        "# Párrafo\n",
        "parrafo = 'La ciencia de datos es un campo académico interdisciplinario que utiliza estadística, computación científica, métodos, procesos, algoritmos y sistemas científicos para obtener (recolectar o extraer), tratar, analizar y presentar informes a partir de datos ruidosos, estructurados y no estructurados.'\n",
        "\n",
        "# Convertir el párrafo a minúsculas para contar letras sin distinción entre mayúsculas y minúsculas\n",
        "parrafo = parrafo.lower()\n",
        "\n",
        "# Crear un diccionario para almacenar la frecuencia de cada letra\n",
        "frecuencia_letras = {}\n",
        "\n",
        "# Iterar a través del párrafo y contar las letras\n",
        "for letra in parrafo:\n",
        "    if letra.isalpha():  # Verificar si es una letra\n",
        "        if letra in frecuencia_letras:\n",
        "            frecuencia_letras[letra] += 1\n",
        "        else:\n",
        "            frecuencia_letras[letra] = 1\n",
        "\n",
        "# Mostrar la tabla de frecuencia de letras\n",
        "\n",
        "for letra, frecuencia in frecuencia_letras.items():\n",
        "    print(f\"{letra}      {frecuencia}\")\n",
        "\n",
        "\n",
        "# Crear un DataFrame a partir del diccionario de frecuencias\n",
        "df = pd.DataFrame(frecuencia_letras.values(), index=frecuencia_letras.keys(), columns=['Frecuencia'])\n",
        "\n",
        "# Crear un gráfico de barras\n",
        "plt.figure(figsize=(10, 4))\n",
        "df.plot(kind='bar', legend=False)\n",
        "plt.xlabel('Letra')\n",
        "plt.ylabel('Frecuencia')\n",
        "plt.title('Frecuencia de letras en el párrafo')\n",
        "plt.xticks(rotation=0)\n",
        "plt.show()\n",
        "\n",
        "# Crear un gráfico de pastel\n",
        "plt.figure(figsize=(6, 6))\n",
        "df.plot(kind='pie', y='Frecuencia', autopct='%1.1f%%', legend=False)\n",
        "plt.title('Frecuencia de letras en el párrafo')\n",
        "plt.show()\n"
      ],
      "metadata": {
        "colab": {
          "base_uri": "https://localhost:8080/",
          "height": 1000
        },
        "id": "5E7xaLXM5PJu",
        "outputId": "d70cc2a5-5fcf-43a0-826a-c853c2b38cf6"
      },
      "execution_count": 23,
      "outputs": [
        {
          "output_type": "stream",
          "name": "stdout",
          "text": [
            "Letra   Frecuencia\n",
            "-----------------\n",
            "l      6\n",
            "a      29\n",
            "c      18\n",
            "i      22\n",
            "e      22\n",
            "n      12\n",
            "d      11\n",
            "t      23\n",
            "o      22\n",
            "s      22\n",
            "u      9\n",
            "m      7\n",
            "p      7\n",
            "é      2\n",
            "r      23\n",
            "q      1\n",
            "z      2\n",
            "í      3\n",
            "ó      1\n",
            "f      3\n",
            "g      1\n",
            "y      3\n",
            "b      1\n",
            "x      1\n"
          ]
        },
        {
          "output_type": "display_data",
          "data": {
            "text/plain": [
              "<Figure size 1000x400 with 0 Axes>"
            ]
          },
          "metadata": {}
        },
        {
          "output_type": "display_data",
          "data": {
            "text/plain": [
              "<Figure size 640x480 with 1 Axes>"
            ],
            "image/png": "[encoded data removed]"
          },
          "metadata": {}
        },
        {
          "output_type": "display_data",
          "data": {
            "text/plain": [
              "<Figure size 600x600 with 0 Axes>"
            ]
          },
          "metadata": {}
        },
        {
          "output_type": "display_data",
          "data": {
            "text/plain": [
              "<Figure size 640x480 with 1 Axes>"
            ],
            "image/png": "[encoded data removed]"
          },
          "metadata": {}
        }
      ]
    },
    {
      "cell_type": "markdown",
      "metadata": {
        "id": "BYRlW6isfDdy"
      },
      "source": [
        "# **12. Reemplazar una letra: funcion replace**"
      ]
    },
    {
      "cell_type": "code",
      "execution_count": null,
      "metadata": {
        "colab": {
          "base_uri": "https://localhost:8080/",
          "height": 35
        },
        "id": "mq7dQWLHewwF",
        "outputId": "d9b3cb9f-ee96-4d76-8a98-970ffec99fb3"
      },
      "outputs": [
        {
          "output_type": "execute_result",
          "data": {
            "text/plain": [
              "'cortogeno, borronquillo, sonto morto, monterío, sincelejo, volledupor, guojiro'"
            ],
            "application/vnd.google.colaboratory.intrinsic+json": {
              "type": "string"
            }
          },
          "metadata": {},
          "execution_count": 60
        }
      ],
      "source": [
        "\"cartagena, barranquilla, santa marta, montería, sincelejo, valledupar, guajira\".replace(\"a\",\"o\")"
      ]
    }
  ],
  "metadata": {
    "colab": {
      "provenance": [],
      "authorship_tag": "ABX9TyMJGRkiEzSsB/BYjgkS1MY2",
      "include_colab_link": true
    },
    "kernelspec": {
      "display_name": "Python 3",
      "name": "python3"
    },
    "language_info": {
      "name": "python"
    }
  },
  "nbformat": 4,
  "nbformat_minor": 0
}