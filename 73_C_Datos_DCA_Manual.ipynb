{
  "nbformat": 4,
  "nbformat_minor": 0,
  "metadata": {
    "colab": {
      "provenance": [],
      "authorship_tag": "ABX9TyPEulaY5/D3OZmZRTd+wdOb",
      "include_colab_link": true
    },
    "kernelspec": {
      "name": "python3",
      "display_name": "Python 3"
    },
    "language_info": {
      "name": "python"
    }
  },
  "cells": [
    {
      "cell_type": "markdown",
      "metadata": {
        "id": "view-in-github",
        "colab_type": "text"
      },
      "source": [
        "<a href=\"https://colab.research.google.com/github/JSEFERINO/Estadistica_Moderna/blob/main/73_C_Datos_DCA_Manual.ipynb\" target=\"_parent\"><img src=\"https://colab.research.google.com/assets/colab-badge.svg\" alt=\"Open In Colab\"/></a>"
      ]
    },
    {
      "cell_type": "markdown",
      "source": [
        "# **Ejemplo Ilustrativo. Se cuenta con las mediciones sobre la edad y la talla de 14 niños, y estamos interesados en determinar si existe algún tipo de relación entre la talla del niño y su edad**\n"
      ],
      "metadata": {
        "id": "4Tt1l5etgotn"
      }
    },
    {
      "cell_type": "markdown",
      "source": [
        "## **Paso_1. Ingresamos los datos manual**"
      ],
      "metadata": {
        "id": "iFC-fTx8h8iC"
      }
    },
    {
      "cell_type": "markdown",
      "source": [
        "## **a. Nuestros datos**"
      ],
      "metadata": {
        "id": "YYXa3o_hmAqx"
      }
    },
    {
      "cell_type": "code",
      "execution_count": 1,
      "metadata": {
        "id": "we0cPAi3ggFo"
      },
      "outputs": [],
      "source": [
        "## **1.3 Los datos en Python y definimos el DataFrame: Ingresamos los datos como columnas**\n",
        "import pandas as pd\n",
        "desgaste = [[264, 208, 220, 217],\n",
        "         [260, 220, 263, 226],\n",
        "         [258, 216, 219, 215],\n",
        "         [241, 200, 225, 224],\n",
        "         [262, 213, 230, 220],\n",
        "         [255, 206, 228, 222]]\n",
        "\n",
        "columnas = ['A', 'B', 'C', 'D'] # definimos los nombres de las columnas\n",
        "filas = ['F1', 'F2', 'F3', 'F4', 'F5', 'F6'] # definimos los nombres de las filas\n",
        "\n",
        "Datos = pd.DataFrame(desgaste, columns=columnas, index=filas)\n"
      ]
    },
    {
      "cell_type": "markdown",
      "source": [
        "## **b. Usando la libreria para crear el DataFrame**"
      ],
      "metadata": {
        "id": "e26YaGfymGQe"
      }
    },
    {
      "cell_type": "code",
      "source": [
        "print('Los datos son')\n",
        "print(Datos)"
      ],
      "metadata": {
        "colab": {
          "base_uri": "https://localhost:8080/"
        },
        "id": "rsBJTJ3AiE0o",
        "outputId": "f788424e-8c81-48fe-9d0d-73a3835c3399"
      },
      "execution_count": 2,
      "outputs": [
        {
          "output_type": "stream",
          "name": "stdout",
          "text": [
            "Los datos son\n",
            "      A    B    C    D\n",
            "F1  264  208  220  217\n",
            "F2  260  220  263  226\n",
            "F3  258  216  219  215\n",
            "F4  241  200  225  224\n",
            "F5  262  213  230  220\n",
            "F6  255  206  228  222\n"
          ]
        }
      ]
    },
    {
      "cell_type": "markdown",
      "source": [
        "# **Paso_2. Los Estadisticos que debemos calcular**\n",
        "\n",
        "$$Y_{ij} = μ + τ_i + ϵ_{ij}, \\\\ i =1, 2, ...,k; j =1, 2, ...,n$$\n",
        "1.  $Suma(Y_{i.})$, $$Y_{i.} = \\sum_{j=1}^{n_i}Y_{ij}; \\\\ \\bar{Y}_{i.}=Y_{i.}/n_i$$\n",
        "2. $Suma(Y_{..})$,   $$Y_{..} = \\sum_{i=1}^{k}\\sum_{j=1}^{n_i}Y_{ij}$$\n",
        "3. Variabilidad de $Total$,   $$SCT = \\sum_{i=1}^{k}\\sum_{j=1}^{n_i}(Y_{ij}-\\bar{Y_{..}})^2=\\sum_{i=1}^{k}\\sum_{j=1}^{n_i}Y_{ij}^2-\\frac{Y_{..}^2}{N}$$\n",
        "\n",
        "4. Variabilidad de $Tratamientos$,   $$SCTr = \\sum_{i=1}^{k}n_i(\\bar{Y}_{i.}-\\bar{Y_{..}})^2=\\sum_{i=1}^{k}\\frac{Y_{i.}^2}{n_i}-\\frac{Y_{..}^2}{N}$$\n",
        "5. Variabilidad de $Error$,   $$SCE = \\sum_{i=1}^{k}\\sum_{j=1}^{n_i}(Y_{ij}-\\bar{Y}_{i.})^2=SCT-SCTr$$\n",
        "\n"
      ],
      "metadata": {
        "id": "nD596-qAjhqD"
      }
    },
    {
      "cell_type": "markdown",
      "source": [
        "# **Paso_3. Calculando Los estadisticos**\n",
        "## **a. El Total y la media de los tratamientos**"
      ],
      "metadata": {
        "id": "iZWExvxVmkHv"
      }
    },
    {
      "cell_type": "code",
      "source": [
        "sum_A = Datos['A'].sum()\n",
        "media_A = Datos['A'].mean()\n",
        "sum_B = Datos['B'].sum()\n",
        "media_B = Datos['B'].mean()\n",
        "sum_C = Datos['C'].sum()\n",
        "media_C = Datos['C'].mean()\n",
        "sum_D = Datos['D'].sum()\n",
        "media_D = Datos['D'].mean()\n",
        "print(f'suma(A) = {sum_A} y la media(A) = {media_A}')\n",
        "print(f'suma(B) = {sum_B} y la media(B) = {media_B}')\n",
        "print(f'suma(C) = {sum_C} y la media(C) = {media_C}')\n",
        "print(f'suma(D) = {sum_D} y la media(D) = {media_D}')"
      ],
      "metadata": {
        "colab": {
          "base_uri": "https://localhost:8080/"
        },
        "id": "2Br_rLyLnI81",
        "outputId": "40d4003a-0dab-4797-ce3f-f0dd3bea617d"
      },
      "execution_count": 3,
      "outputs": [
        {
          "output_type": "stream",
          "name": "stdout",
          "text": [
            "suma(A) = 1540 y la media(A) = 256.6666666666667\n",
            "suma(B) = 1263 y la media(B) = 210.5\n",
            "suma(C) = 1385 y la media(C) = 230.83333333333334\n",
            "suma(D) = 1324 y la media(D) = 220.66666666666666\n"
          ]
        }
      ]
    },
    {
      "cell_type": "markdown",
      "source": [
        "## **b. El Total y la media de la variable dependiente**"
      ],
      "metadata": {
        "id": "FLBhNoQ6mtuf"
      }
    },
    {
      "cell_type": "code",
      "source": [
        "sum_Total = Datos.sum()\n",
        "media_Total = Datos.mean()\n",
        "print(f'suma(Total) = {sum_Total} y la media(Total) = {media_Total}')"
      ],
      "metadata": {
        "colab": {
          "base_uri": "https://localhost:8080/"
        },
        "id": "zWEkkfKBniZV",
        "outputId": "f22025ab-db5f-4f90-89b9-add8ea76f8a5"
      },
      "execution_count": 4,
      "outputs": [
        {
          "output_type": "stream",
          "name": "stdout",
          "text": [
            "suma(Total) = A    1540\n",
            "B    1263\n",
            "C    1385\n",
            "D    1324\n",
            "dtype: int64 y la media(Total) = A    256.666667\n",
            "B    210.500000\n",
            "C    230.833333\n",
            "D    220.666667\n",
            "dtype: float64\n"
          ]
        }
      ]
    },
    {
      "cell_type": "code",
      "source": [
        "print('Los datos son')\n",
        "print(Datos)"
      ],
      "metadata": {
        "colab": {
          "base_uri": "https://localhost:8080/"
        },
        "id": "tpyFJJRGDnPm",
        "outputId": "88de97c5-8566-4934-fec1-7d03e3d92322"
      },
      "execution_count": 5,
      "outputs": [
        {
          "output_type": "stream",
          "name": "stdout",
          "text": [
            "Los datos son\n",
            "      A    B    C    D\n",
            "F1  264  208  220  217\n",
            "F2  260  220  263  226\n",
            "F3  258  216  219  215\n",
            "F4  241  200  225  224\n",
            "F5  262  213  230  220\n",
            "F6  255  206  228  222\n"
          ]
        }
      ]
    },
    {
      "cell_type": "markdown",
      "source": [
        "# **Paso_3. Variabilidad Total y Varianza Total**\n",
        "## **a. Los cuadrados de Cada Tratamiento**"
      ],
      "metadata": {
        "id": "Z7zcZt-rF6bC"
      }
    },
    {
      "cell_type": "code",
      "source": [
        "Datos['A^2'] = Datos['A']*Datos['A']\n",
        "Datos['B^2'] = Datos['B']*Datos['B']\n",
        "Datos['C^2'] = Datos['C']*Datos['C']\n",
        "Datos['D^2'] = Datos['D']*Datos['D']\n",
        "Datos"
      ],
      "metadata": {
        "colab": {
          "base_uri": "https://localhost:8080/",
          "height": 237
        },
        "id": "u71BSAthDt57",
        "outputId": "81d456fc-a3c3-472a-b048-90c9b875028a"
      },
      "execution_count": 6,
      "outputs": [
        {
          "output_type": "execute_result",
          "data": {
            "text/plain": [
              "      A    B    C    D    A^2    B^2    C^2    D^2\n",
              "F1  264  208  220  217  69696  43264  48400  47089\n",
              "F2  260  220  263  226  67600  48400  69169  51076\n",
              "F3  258  216  219  215  66564  46656  47961  46225\n",
              "F4  241  200  225  224  58081  40000  50625  50176\n",
              "F5  262  213  230  220  68644  45369  52900  48400\n",
              "F6  255  206  228  222  65025  42436  51984  49284"
            ],
            "text/html": [
              "\n",
              "  <div id=\"df-b328e3db-ecb6-4c66-8b19-a4c9d62d8d1a\" class=\"colab-df-container\">\n",
              "    <div>\n",
              "<style scoped>\n",
              "    .dataframe tbody tr th:only-of-type {\n",
              "        vertical-align: middle;\n",
              "    }\n",
              "\n",
              "    .dataframe tbody tr th {\n",
              "        vertical-align: top;\n",
              "    }\n",
              "\n",
              "    .dataframe thead th {\n",
              "        text-align: right;\n",
              "    }\n",
              "</style>\n",
              "<table border=\"1\" class=\"dataframe\">\n",
              "  <thead>\n",
              "    <tr style=\"text-align: right;\">\n",
              "      <th></th>\n",
              "      <th>A</th>\n",
              "      <th>B</th>\n",
              "      <th>C</th>\n",
              "      <th>D</th>\n",
              "      <th>A^2</th>\n",
              "      <th>B^2</th>\n",
              "      <th>C^2</th>\n",
              "      <th>D^2</th>\n",
              "    </tr>\n",
              "  </thead>\n",
              "  <tbody>\n",
              "    <tr>\n",
              "      <th>F1</th>\n",
              "      <td>264</td>\n",
              "      <td>208</td>\n",
              "      <td>220</td>\n",
              "      <td>217</td>\n",
              "      <td>69696</td>\n",
              "      <td>43264</td>\n",
              "      <td>48400</td>\n",
              "      <td>47089</td>\n",
              "    </tr>\n",
              "    <tr>\n",
              "      <th>F2</th>\n",
              "      <td>260</td>\n",
              "      <td>220</td>\n",
              "      <td>263</td>\n",
              "      <td>226</td>\n",
              "      <td>67600</td>\n",
              "      <td>48400</td>\n",
              "      <td>69169</td>\n",
              "      <td>51076</td>\n",
              "    </tr>\n",
              "    <tr>\n",
              "      <th>F3</th>\n",
              "      <td>258</td>\n",
              "      <td>216</td>\n",
              "      <td>219</td>\n",
              "      <td>215</td>\n",
              "      <td>66564</td>\n",
              "      <td>46656</td>\n",
              "      <td>47961</td>\n",
              "      <td>46225</td>\n",
              "    </tr>\n",
              "    <tr>\n",
              "      <th>F4</th>\n",
              "      <td>241</td>\n",
              "      <td>200</td>\n",
              "      <td>225</td>\n",
              "      <td>224</td>\n",
              "      <td>58081</td>\n",
              "      <td>40000</td>\n",
              "      <td>50625</td>\n",
              "      <td>50176</td>\n",
              "    </tr>\n",
              "    <tr>\n",
              "      <th>F5</th>\n",
              "      <td>262</td>\n",
              "      <td>213</td>\n",
              "      <td>230</td>\n",
              "      <td>220</td>\n",
              "      <td>68644</td>\n",
              "      <td>45369</td>\n",
              "      <td>52900</td>\n",
              "      <td>48400</td>\n",
              "    </tr>\n",
              "    <tr>\n",
              "      <th>F6</th>\n",
              "      <td>255</td>\n",
              "      <td>206</td>\n",
              "      <td>228</td>\n",
              "      <td>222</td>\n",
              "      <td>65025</td>\n",
              "      <td>42436</td>\n",
              "      <td>51984</td>\n",
              "      <td>49284</td>\n",
              "    </tr>\n",
              "  </tbody>\n",
              "</table>\n",
              "</div>\n",
              "    <div class=\"colab-df-buttons\">\n",
              "\n",
              "  <div class=\"colab-df-container\">\n",
              "    <button class=\"colab-df-convert\" onclick=\"convertToInteractive('df-b328e3db-ecb6-4c66-8b19-a4c9d62d8d1a')\"\n",
              "            title=\"Convert this dataframe to an interactive table.\"\n",
              "            style=\"display:none;\">\n",
              "\n",
              "  <svg xmlns=\"http://www.w3.org/2000/svg\" height=\"24px\" viewBox=\"0 -960 960 960\">\n",
              "    <path d=\"M120-120v-720h720v720H120Zm60-500h600v-160H180v160Zm220 220h160v-160H400v160Zm0 220h160v-160H400v160ZM180-400h160v-160H180v160Zm440 0h160v-160H620v160ZM180-180h160v-160H180v160Zm440 0h160v-160H620v160Z\"/>\n",
              "  </svg>\n",
              "    </button>\n",
              "\n",
              "  <style>\n",
              "    .colab-df-container {\n",
              "      display:flex;\n",
              "      gap: 12px;\n",
              "    }\n",
              "\n",
              "    .colab-df-convert {\n",
              "      background-color: #E8F0FE;\n",
              "      border: none;\n",
              "      border-radius: 50%;\n",
              "      cursor: pointer;\n",
              "      display: none;\n",
              "      fill: #1967D2;\n",
              "      height: 32px;\n",
              "      padding: 0 0 0 0;\n",
              "      width: 32px;\n",
              "    }\n",
              "\n",
              "    .colab-df-convert:hover {\n",
              "      background-color: #E2EBFA;\n",
              "      box-shadow: 0px 1px 2px rgba(60, 64, 67, 0.3), 0px 1px 3px 1px rgba(60, 64, 67, 0.15);\n",
              "      fill: #174EA6;\n",
              "    }\n",
              "\n",
              "    .colab-df-buttons div {\n",
              "      margin-bottom: 4px;\n",
              "    }\n",
              "\n",
              "    [theme=dark] .colab-df-convert {\n",
              "      background-color: #3B4455;\n",
              "      fill: #D2E3FC;\n",
              "    }\n",
              "\n",
              "    [theme=dark] .colab-df-convert:hover {\n",
              "      background-color: #434B5C;\n",
              "      box-shadow: 0px 1px 3px 1px rgba(0, 0, 0, 0.15);\n",
              "      filter: drop-shadow(0px 1px 2px rgba(0, 0, 0, 0.3));\n",
              "      fill: #FFFFFF;\n",
              "    }\n",
              "  </style>\n",
              "\n",
              "    <script>\n",
              "      const buttonEl =\n",
              "        document.querySelector('#df-b328e3db-ecb6-4c66-8b19-a4c9d62d8d1a button.colab-df-convert');\n",
              "      buttonEl.style.display =\n",
              "        google.colab.kernel.accessAllowed ? 'block' : 'none';\n",
              "\n",
              "      async function convertToInteractive(key) {\n",
              "        const element = document.querySelector('#df-b328e3db-ecb6-4c66-8b19-a4c9d62d8d1a');\n",
              "        const dataTable =\n",
              "          await google.colab.kernel.invokeFunction('convertToInteractive',\n",
              "                                                    [key], {});\n",
              "        if (!dataTable) return;\n",
              "\n",
              "        const docLinkHtml = 'Like what you see? Visit the ' +\n",
              "          '<a target=\"_blank\" href=https://colab.research.google.com/notebooks/data_table.ipynb>data table notebook</a>'\n",
              "          + ' to learn more about interactive tables.';\n",
              "        element.innerHTML = '';\n",
              "        dataTable['output_type'] = 'display_data';\n",
              "        await google.colab.output.renderOutput(dataTable, element);\n",
              "        const docLink = document.createElement('div');\n",
              "        docLink.innerHTML = docLinkHtml;\n",
              "        element.appendChild(docLink);\n",
              "      }\n",
              "    </script>\n",
              "  </div>\n",
              "\n",
              "\n",
              "<div id=\"df-fa95de33-223f-4d45-b49c-99d0bb2556b4\">\n",
              "  <button class=\"colab-df-quickchart\" onclick=\"quickchart('df-fa95de33-223f-4d45-b49c-99d0bb2556b4')\"\n",
              "            title=\"Suggest charts.\"\n",
              "            style=\"display:none;\">\n",
              "\n",
              "<svg xmlns=\"http://www.w3.org/2000/svg\" height=\"24px\"viewBox=\"0 0 24 24\"\n",
              "     width=\"24px\">\n",
              "    <g>\n",
              "        <path d=\"M19 3H5c-1.1 0-2 .9-2 2v14c0 1.1.9 2 2 2h14c1.1 0 2-.9 2-2V5c0-1.1-.9-2-2-2zM9 17H7v-7h2v7zm4 0h-2V7h2v10zm4 0h-2v-4h2v4z\"/>\n",
              "    </g>\n",
              "</svg>\n",
              "  </button>\n",
              "\n",
              "<style>\n",
              "  .colab-df-quickchart {\n",
              "      --bg-color: #E8F0FE;\n",
              "      --fill-color: #1967D2;\n",
              "      --hover-bg-color: #E2EBFA;\n",
              "      --hover-fill-color: #174EA6;\n",
              "      --disabled-fill-color: #AAA;\n",
              "      --disabled-bg-color: #DDD;\n",
              "  }\n",
              "\n",
              "  [theme=dark] .colab-df-quickchart {\n",
              "      --bg-color: #3B4455;\n",
              "      --fill-color: #D2E3FC;\n",
              "      --hover-bg-color: #434B5C;\n",
              "      --hover-fill-color: #FFFFFF;\n",
              "      --disabled-bg-color: #3B4455;\n",
              "      --disabled-fill-color: #666;\n",
              "  }\n",
              "\n",
              "  .colab-df-quickchart {\n",
              "    background-color: var(--bg-color);\n",
              "    border: none;\n",
              "    border-radius: 50%;\n",
              "    cursor: pointer;\n",
              "    display: none;\n",
              "    fill: var(--fill-color);\n",
              "    height: 32px;\n",
              "    padding: 0;\n",
              "    width: 32px;\n",
              "  }\n",
              "\n",
              "  .colab-df-quickchart:hover {\n",
              "    background-color: var(--hover-bg-color);\n",
              "    box-shadow: 0 1px 2px rgba(60, 64, 67, 0.3), 0 1px 3px 1px rgba(60, 64, 67, 0.15);\n",
              "    fill: var(--button-hover-fill-color);\n",
              "  }\n",
              "\n",
              "  .colab-df-quickchart-complete:disabled,\n",
              "  .colab-df-quickchart-complete:disabled:hover {\n",
              "    background-color: var(--disabled-bg-color);\n",
              "    fill: var(--disabled-fill-color);\n",
              "    box-shadow: none;\n",
              "  }\n",
              "\n",
              "  .colab-df-spinner {\n",
              "    border: 2px solid var(--fill-color);\n",
              "    border-color: transparent;\n",
              "    border-bottom-color: var(--fill-color);\n",
              "    animation:\n",
              "      spin 1s steps(1) infinite;\n",
              "  }\n",
              "\n",
              "  @keyframes spin {\n",
              "    0% {\n",
              "      border-color: transparent;\n",
              "      border-bottom-color: var(--fill-color);\n",
              "      border-left-color: var(--fill-color);\n",
              "    }\n",
              "    20% {\n",
              "      border-color: transparent;\n",
              "      border-left-color: var(--fill-color);\n",
              "      border-top-color: var(--fill-color);\n",
              "    }\n",
              "    30% {\n",
              "      border-color: transparent;\n",
              "      border-left-color: var(--fill-color);\n",
              "      border-top-color: var(--fill-color);\n",
              "      border-right-color: var(--fill-color);\n",
              "    }\n",
              "    40% {\n",
              "      border-color: transparent;\n",
              "      border-right-color: var(--fill-color);\n",
              "      border-top-color: var(--fill-color);\n",
              "    }\n",
              "    60% {\n",
              "      border-color: transparent;\n",
              "      border-right-color: var(--fill-color);\n",
              "    }\n",
              "    80% {\n",
              "      border-color: transparent;\n",
              "      border-right-color: var(--fill-color);\n",
              "      border-bottom-color: var(--fill-color);\n",
              "    }\n",
              "    90% {\n",
              "      border-color: transparent;\n",
              "      border-bottom-color: var(--fill-color);\n",
              "    }\n",
              "  }\n",
              "</style>\n",
              "\n",
              "  <script>\n",
              "    async function quickchart(key) {\n",
              "      const quickchartButtonEl =\n",
              "        document.querySelector('#' + key + ' button');\n",
              "      quickchartButtonEl.disabled = true;  // To prevent multiple clicks.\n",
              "      quickchartButtonEl.classList.add('colab-df-spinner');\n",
              "      try {\n",
              "        const charts = await google.colab.kernel.invokeFunction(\n",
              "            'suggestCharts', [key], {});\n",
              "      } catch (error) {\n",
              "        console.error('Error during call to suggestCharts:', error);\n",
              "      }\n",
              "      quickchartButtonEl.classList.remove('colab-df-spinner');\n",
              "      quickchartButtonEl.classList.add('colab-df-quickchart-complete');\n",
              "    }\n",
              "    (() => {\n",
              "      let quickchartButtonEl =\n",
              "        document.querySelector('#df-fa95de33-223f-4d45-b49c-99d0bb2556b4 button');\n",
              "      quickchartButtonEl.style.display =\n",
              "        google.colab.kernel.accessAllowed ? 'block' : 'none';\n",
              "    })();\n",
              "  </script>\n",
              "</div>\n",
              "    </div>\n",
              "  </div>\n"
            ]
          },
          "metadata": {},
          "execution_count": 6
        }
      ]
    },
    {
      "cell_type": "markdown",
      "source": [
        "## **b. La variabilidad total es _SST_ y la Varianza Total _CMT_**"
      ],
      "metadata": {
        "id": "-WdPFKAEP-q9"
      }
    },
    {
      "cell_type": "code",
      "source": [
        "## **b. La variabilidad total es _SST_ y la Varianza Total _CMT_**\n",
        "N = 24; k = 4; n = 6\n",
        "sumT_2 = Datos['A^2'].sum()+Datos['B^2'].sum()+Datos['C^2'].sum()+Datos['D^2'].sum()\n",
        "sumT_ = Datos['A'].sum()+Datos['B'].sum()+Datos['C'].sum()+Datos['D'].sum()\n",
        "SST = sumT_2 - sumT_**2/N\n",
        "MST = SST/(N-1)\n",
        "print(f'La variabilidad total es SST = {SST}')\n",
        "print(f'La Varianza total es MST = {MST}')"
      ],
      "metadata": {
        "colab": {
          "base_uri": "https://localhost:8080/"
        },
        "id": "g3RggzDbDuEj",
        "outputId": "e43ea755-8986-4ee6-d0aa-b3313b94fe57"
      },
      "execution_count": 7,
      "outputs": [
        {
          "output_type": "stream",
          "name": "stdout",
          "text": [
            "La variabilidad total es SST = 9101.333333333256\n",
            "La Varianza total es MST = 395.71014492753284\n"
          ]
        }
      ]
    },
    {
      "cell_type": "markdown",
      "source": [
        "## **c. La variabilidad de los Tratamientos es _SSTr_ y la Varianza Total _CMTr_**"
      ],
      "metadata": {
        "id": "pFuUDQckUUsK"
      }
    },
    {
      "cell_type": "code",
      "source": [
        "## **c. La variabilidad de los Tratamientos es _SSTr_ y la Varianza Total _CMTr_\n",
        "N = 24; k = 4; n = 6\n",
        "SSTr = (sum_A**2+sum_B**2+sum_C**2+sum_D**2)/n+ - sumT_**2/N\n",
        "\n",
        "MSTr = SSTr/(k-1)\n",
        "print(f'La variabilidad de los tratamientos es SSTr = {SSTr}')\n",
        "print(f'La variabilidad de los tratamientos es MSTr = {MSTr}')"
      ],
      "metadata": {
        "colab": {
          "base_uri": "https://localhost:8080/"
        },
        "id": "U4t9TXQUUpIU",
        "outputId": "ca937bc2-9537-4b7d-b0c7-f4c34efc77cb"
      },
      "execution_count": 8,
      "outputs": [
        {
          "output_type": "stream",
          "name": "stdout",
          "text": [
            "La variabilidad de los tratamientos es SSTr = 7072.333333333256\n",
            "La variabilidad de los tratamientos es MSTr = 2357.4444444444184\n"
          ]
        }
      ]
    },
    {
      "cell_type": "markdown",
      "source": [
        "## **d. La variabilidad de los Residuos es _SSE_ y la Varianza Total _CME_**"
      ],
      "metadata": {
        "id": "WB7t5BYfVtk0"
      }
    },
    {
      "cell_type": "code",
      "source": [
        "SSE = SST - SSTr\n",
        "\n",
        "MSE = SSE/(N-k)\n",
        "print(f'La variabilidad de los residuos es SSE = {SSE}')\n",
        "print(f'La varianza de los residuos es MSE = {MSE}')"
      ],
      "metadata": {
        "colab": {
          "base_uri": "https://localhost:8080/"
        },
        "id": "kOaOxT4kV1me",
        "outputId": "c1474a31-ae62-43ec-f374-f10cf87a08cf"
      },
      "execution_count": 9,
      "outputs": [
        {
          "output_type": "stream",
          "name": "stdout",
          "text": [
            "La variabilidad de los residuos es SSE = 2029.0\n",
            "La varianza de los residuos es MSE = 101.45\n"
          ]
        }
      ]
    },
    {
      "cell_type": "markdown",
      "source": [
        "## **c. Agregamos una columna que contenga el producto de las variables $xy$**"
      ],
      "metadata": {
        "id": "vLpJdA9EmzAR"
      }
    },
    {
      "cell_type": "markdown",
      "source": [
        "# **Paso_4. Tabla Anova**\n",
        "\n",
        "\n",
        "## **a. Estructura de la Tabla Anova**\n",
        "\n",
        "|Fuente|SC|g.l|MS|F|p_value|\n",
        "|:--:|:--:|:--:|:--:|:--:|:--:|\n",
        "|Tratamientos|SSR|k-1|MSR=SSR/1|MSR/MSE|-|\n",
        "|Error|SSE|n-k|MSE=SSE/(n-k)|-|-|\n",
        "|Total|SST|n-1|-|-|-|\n",
        "\n"
      ],
      "metadata": {
        "id": "8Ip9Ro3qNqGq"
      }
    },
    {
      "cell_type": "markdown",
      "source": [
        "## **b. El coeficiente de determinación del ajuste**\n",
        "\n",
        "$$R^2 = 1- \\frac{SSE}{SST}$$"
      ],
      "metadata": {
        "id": "92zOneqzvA60"
      }
    },
    {
      "cell_type": "code",
      "source": [
        "R_2 = 1- SSE/SST\n",
        "print(f'El coeficente de R_cuadrado es {R_2*100}%')"
      ],
      "metadata": {
        "colab": {
          "base_uri": "https://localhost:8080/"
        },
        "id": "hsFepe9tvfkW",
        "outputId": "4ee81377-3dd3-4bc9-9986-e6d424911cd2"
      },
      "execution_count": 10,
      "outputs": [
        {
          "output_type": "stream",
          "name": "stdout",
          "text": [
            "El coeficente de R_cuadrado es 77.70656314093154%\n"
          ]
        }
      ]
    },
    {
      "cell_type": "markdown",
      "source": [
        "\n",
        "##  ***c. Análisis de Varianza - Usando Statgraphics***\n",
        "\n",
        "|Fuente|\tSuma de Cuadrados|\tGl\t|Cuadrado Medio|\tRazón-F|\tValor-P|\n",
        "|:--:|:--:|:--:|:--:|:--:|:--:|\n",
        "|Modelo\t|310,173|\t1\t|310,173|\t40,16|\t0,0000\n",
        "|Residuo|\t92,6841\t|12|\t7,72367|\n",
        "|Total (Corr.)|\t402,857\t|13\n",
        "\n"
      ],
      "metadata": {
        "id": "v3E0vOJtRuIS"
      }
    },
    {
      "cell_type": "markdown",
      "source": [
        "## **d. Instalando La librería Necesaria _texttable_**"
      ],
      "metadata": {
        "id": "xQS0R7lxrXx6"
      }
    },
    {
      "cell_type": "code",
      "source": [
        "!pip install texttable"
      ],
      "metadata": {
        "colab": {
          "base_uri": "https://localhost:8080/"
        },
        "id": "0Va14_zGTlXl",
        "outputId": "16445e10-8e5c-4701-c970-344c3f23d897"
      },
      "execution_count": 11,
      "outputs": [
        {
          "output_type": "stream",
          "name": "stdout",
          "text": [
            "Collecting texttable\n",
            "  Downloading texttable-1.6.7-py2.py3-none-any.whl (10 kB)\n",
            "Installing collected packages: texttable\n",
            "Successfully installed texttable-1.6.7\n"
          ]
        }
      ]
    },
    {
      "cell_type": "markdown",
      "source": [
        "## **c. El valor p, de la prueba**"
      ],
      "metadata": {
        "id": "EpT5zWMFrlv6"
      }
    },
    {
      "cell_type": "code",
      "source": [
        "from scipy import stats\n",
        "F = stats.f(k-1,N-k)\n",
        "valor_p = 1 - F.cdf(MSTr/MSE)\n",
        "valor_p"
      ],
      "metadata": {
        "id": "PCCTisy0gpFI",
        "colab": {
          "base_uri": "https://localhost:8080/"
        },
        "outputId": "13dc6577-85bf-4449-e36c-d153aa9e5c22"
      },
      "execution_count": 12,
      "outputs": [
        {
          "output_type": "execute_result",
          "data": {
            "text/plain": [
              "1.0017956916241744e-06"
            ]
          },
          "metadata": {},
          "execution_count": 12
        }
      ]
    },
    {
      "cell_type": "markdown",
      "source": [
        "## **d. Construyendo la Tabla Anova**"
      ],
      "metadata": {
        "id": "xJBZ4mPFruyI"
      }
    },
    {
      "cell_type": "code",
      "source": [
        "from texttable import Texttable\n",
        "t = Texttable()\n",
        "t.add_rows([['Fuente','SS', 'g.l', 'MS', 'F', 'valor_p'],\n",
        "           ['Tratamientos',\tSSTr,\tk-1,\tMSTr,\tMSTr/MSE, valor_p],\n",
        "           ['Error',\tSSE,\tN-k,\tMSE, '', ''],\n",
        "           ['Total',\tSST,\tN-1, '' , '', '']])\n",
        "print(t.draw())"
      ],
      "metadata": {
        "colab": {
          "base_uri": "https://localhost:8080/"
        },
        "id": "ID9nqu6uXCFx",
        "outputId": "5832f8d9-d18a-421a-a40c-4d46bd019c57"
      },
      "execution_count": 13,
      "outputs": [
        {
          "output_type": "stream",
          "name": "stdout",
          "text": [
            "+--------------+----------+-----+----------+--------+---------+\n",
            "|    Fuente    |    SS    | g.l |    MS    |   F    | valor_p |\n",
            "+==============+==========+=====+==========+========+=========+\n",
            "| Tratamientos | 7072.333 | 3   | 2357.444 | 23.238 | 0.000   |\n",
            "+--------------+----------+-----+----------+--------+---------+\n",
            "| Error        | 2029     | 20  | 101.450  |        |         |\n",
            "+--------------+----------+-----+----------+--------+---------+\n",
            "| Total        | 9101.333 | 23  |          |        |         |\n",
            "+--------------+----------+-----+----------+--------+---------+\n"
          ]
        }
      ]
    }
  ]
}