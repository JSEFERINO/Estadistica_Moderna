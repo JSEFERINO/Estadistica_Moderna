{
  "nbformat": 4,
  "nbformat_minor": 0,
  "metadata": {
    "colab": {
      "name": "Modelo maraton.ipynb",
      "provenance": [],
      "include_colab_link": true
    },
    "kernelspec": {
      "name": "python3",
      "display_name": "Python 3"
    }
  },
  "cells": [
    {
      "cell_type": "markdown",
      "metadata": {
        "id": "view-in-github",
        "colab_type": "text"
      },
      "source": [
        "<a href=\"https://colab.research.google.com/github/JSEFERINO/Estadistica_Moderna/blob/main/110.%20MLearning.ipynb\" target=\"_parent\"><img src=\"https://colab.research.google.com/assets/colab-badge.svg\" alt=\"Open In Colab\"/></a>"
      ]
    },
    {
      "cell_type": "markdown",
      "metadata": {
        "id": "ntD7Del_6KdT"
      },
      "source": [
        "**Mi primer modelo de Machine Learning**:\n",
        "\n",
        "Prediccion de tiempos de maraton"
      ]
    },
    {
      "cell_type": "code",
      "source": [],
      "metadata": {
        "id": "u8bF_TR0ja1u"
      },
      "execution_count": null,
      "outputs": []
    },
    {
      "cell_type": "code",
      "source": [],
      "metadata": {
        "id": "GxGSdKlPjbQB"
      },
      "execution_count": null,
      "outputs": []
    },
    {
      "cell_type": "markdown",
      "metadata": {
        "id": "GCXyQ8Zn6Z1D"
      },
      "source": [
        "**FASE 1. Preparacion de datos**"
      ]
    },
    {
      "cell_type": "markdown",
      "metadata": {
        "id": "-Ric2LG76ilb"
      },
      "source": [
        "Primero cargamos el archivo CSV\n"
      ]
    },
    {
      "cell_type": "code",
      "metadata": {
        "id": "sBaSLTnI9Wox",
        "outputId": "fbd0318a-acfc-465b-f13e-65c8c7026336",
        "colab": {
          "resources": {
            "http://localhost:8080/nbextensions/google.colab/files.js": {
              "data": "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",
              "ok": true,
              "headers": [
                [
                  "content-type",
                  "application/javascript"
                ]
              ],
              "status": 200,
              "status_text": ""
            }
          },
          "base_uri": "https://localhost:8080/",
          "height": 71
        }
      },
      "source": [
        "from google.colab import files\n",
        "uploaded = files.upload()"
      ],
      "execution_count": null,
      "outputs": [
        {
          "output_type": "display_data",
          "data": {
            "text/html": [
              "\n",
              "     <input type=\"file\" id=\"files-c10ecbab-eb26-43f2-bef5-676d87f3e8a3\" name=\"files[]\" multiple disabled />\n",
              "     <output id=\"result-c10ecbab-eb26-43f2-bef5-676d87f3e8a3\">\n",
              "      Upload widget is only available when the cell has been executed in the\n",
              "      current browser session. Please rerun this cell to enable.\n",
              "      </output>\n",
              "      <script src=\"/nbextensions/google.colab/files.js\"></script> "
            ],
            "text/plain": [
              "<IPython.core.display.HTML object>"
            ]
          },
          "metadata": {
            "tags": []
          }
        },
        {
          "output_type": "stream",
          "text": [
            "Saving DatosMaratonenCSV.csv to DatosMaratonenCSV.csv\n"
          ],
          "name": "stdout"
        }
      ]
    },
    {
      "cell_type": "code",
      "metadata": {
        "id": "I4jkDlnC9fK9"
      },
      "source": [
        "import io\n",
        "datos_maraton = pd.read_csv(io.BytesIO(uploaded['DatosMaratonenCSV.csv']))"
      ],
      "execution_count": null,
      "outputs": []
    },
    {
      "cell_type": "markdown",
      "metadata": {
        "id": "IEX0f0lt6pXg"
      },
      "source": [
        "Hacemos una primera inspeccion para ver que se haya cargado bien"
      ]
    },
    {
      "cell_type": "code",
      "metadata": {
        "id": "n-UR4apr9l5B",
        "outputId": "91a1badd-30e3-4df8-cdcf-1ee58673c702",
        "colab": {
          "base_uri": "https://localhost:8080/",
          "height": 588
        }
      },
      "source": [
        "datos_maraton"
      ],
      "execution_count": null,
      "outputs": [
        {
          "output_type": "execute_result",
          "data": {
            "text/html": [
              "<div>\n",
              "<style scoped>\n",
              "    .dataframe tbody tr th:only-of-type {\n",
              "        vertical-align: middle;\n",
              "    }\n",
              "\n",
              "    .dataframe tbody tr th {\n",
              "        vertical-align: top;\n",
              "    }\n",
              "\n",
              "    .dataframe thead th {\n",
              "        text-align: right;\n",
              "    }\n",
              "</style>\n",
              "<table border=\"1\" class=\"dataframe\">\n",
              "  <thead>\n",
              "    <tr style=\"text-align: right;\">\n",
              "      <th></th>\n",
              "      <th>id</th>\n",
              "      <th>Marathon</th>\n",
              "      <th>Name</th>\n",
              "      <th>Category</th>\n",
              "      <th>km4week</th>\n",
              "      <th>sp4week</th>\n",
              "      <th>CrossTraining</th>\n",
              "      <th>Wall21</th>\n",
              "      <th>MarathonTime</th>\n",
              "      <th>CATEGORY</th>\n",
              "    </tr>\n",
              "  </thead>\n",
              "  <tbody>\n",
              "    <tr>\n",
              "      <th>0</th>\n",
              "      <td>1</td>\n",
              "      <td>Prague17</td>\n",
              "      <td>Blair MORGAN</td>\n",
              "      <td>MAM</td>\n",
              "      <td>132.8</td>\n",
              "      <td>14.434783</td>\n",
              "      <td>NaN</td>\n",
              "      <td>1.16</td>\n",
              "      <td>2.37</td>\n",
              "      <td>A</td>\n",
              "    </tr>\n",
              "    <tr>\n",
              "      <th>1</th>\n",
              "      <td>2</td>\n",
              "      <td>Prague17</td>\n",
              "      <td>Robert Heczko</td>\n",
              "      <td>MAM</td>\n",
              "      <td>68.6</td>\n",
              "      <td>13.674419</td>\n",
              "      <td>NaN</td>\n",
              "      <td>1.23</td>\n",
              "      <td>2.59</td>\n",
              "      <td>A</td>\n",
              "    </tr>\n",
              "    <tr>\n",
              "      <th>2</th>\n",
              "      <td>3</td>\n",
              "      <td>Prague17</td>\n",
              "      <td>Michon Jerome</td>\n",
              "      <td>MAM</td>\n",
              "      <td>82.7</td>\n",
              "      <td>13.520436</td>\n",
              "      <td>NaN</td>\n",
              "      <td>1.30</td>\n",
              "      <td>2.66</td>\n",
              "      <td>A</td>\n",
              "    </tr>\n",
              "    <tr>\n",
              "      <th>3</th>\n",
              "      <td>4</td>\n",
              "      <td>Prague17</td>\n",
              "      <td>Daniel Or lek</td>\n",
              "      <td>M45</td>\n",
              "      <td>137.5</td>\n",
              "      <td>12.258544</td>\n",
              "      <td>NaN</td>\n",
              "      <td>1.32</td>\n",
              "      <td>2.68</td>\n",
              "      <td>A</td>\n",
              "    </tr>\n",
              "    <tr>\n",
              "      <th>4</th>\n",
              "      <td>5</td>\n",
              "      <td>Prague17</td>\n",
              "      <td>Luk ? Mr zek</td>\n",
              "      <td>MAM</td>\n",
              "      <td>84.6</td>\n",
              "      <td>13.945055</td>\n",
              "      <td>NaN</td>\n",
              "      <td>1.36</td>\n",
              "      <td>2.74</td>\n",
              "      <td>A</td>\n",
              "    </tr>\n",
              "    <tr>\n",
              "      <th>...</th>\n",
              "      <td>...</td>\n",
              "      <td>...</td>\n",
              "      <td>...</td>\n",
              "      <td>...</td>\n",
              "      <td>...</td>\n",
              "      <td>...</td>\n",
              "      <td>...</td>\n",
              "      <td>...</td>\n",
              "      <td>...</td>\n",
              "      <td>...</td>\n",
              "    </tr>\n",
              "    <tr>\n",
              "      <th>82</th>\n",
              "      <td>83</td>\n",
              "      <td>Prague17</td>\n",
              "      <td>Stefano Vegliani</td>\n",
              "      <td>M55</td>\n",
              "      <td>50.0</td>\n",
              "      <td>10.830325</td>\n",
              "      <td>NaN</td>\n",
              "      <td>2.02</td>\n",
              "      <td>3.93</td>\n",
              "      <td>D</td>\n",
              "    </tr>\n",
              "    <tr>\n",
              "      <th>83</th>\n",
              "      <td>84</td>\n",
              "      <td>Prague17</td>\n",
              "      <td>Andrej Madliak</td>\n",
              "      <td>M40</td>\n",
              "      <td>33.6</td>\n",
              "      <td>10.130653</td>\n",
              "      <td>ciclista 3h</td>\n",
              "      <td>1.94</td>\n",
              "      <td>3.93</td>\n",
              "      <td>D</td>\n",
              "    </tr>\n",
              "    <tr>\n",
              "      <th>84</th>\n",
              "      <td>85</td>\n",
              "      <td>Prague17</td>\n",
              "      <td>Yoi Ohsako</td>\n",
              "      <td>M40</td>\n",
              "      <td>55.4</td>\n",
              "      <td>11.043189</td>\n",
              "      <td>NaN</td>\n",
              "      <td>1.94</td>\n",
              "      <td>3.94</td>\n",
              "      <td>D</td>\n",
              "    </tr>\n",
              "    <tr>\n",
              "      <th>85</th>\n",
              "      <td>86</td>\n",
              "      <td>Prague17</td>\n",
              "      <td>Simon Dunn</td>\n",
              "      <td>M45</td>\n",
              "      <td>33.2</td>\n",
              "      <td>11.066667</td>\n",
              "      <td>NaN</td>\n",
              "      <td>2.05</td>\n",
              "      <td>3.95</td>\n",
              "      <td>D</td>\n",
              "    </tr>\n",
              "    <tr>\n",
              "      <th>86</th>\n",
              "      <td>87</td>\n",
              "      <td>Prague17</td>\n",
              "      <td>Pavel ?imek</td>\n",
              "      <td>M40</td>\n",
              "      <td>17.9</td>\n",
              "      <td>10.848485</td>\n",
              "      <td>ciclista 5h</td>\n",
              "      <td>2.05</td>\n",
              "      <td>3.98</td>\n",
              "      <td>D</td>\n",
              "    </tr>\n",
              "  </tbody>\n",
              "</table>\n",
              "<p>87 rows × 10 columns</p>\n",
              "</div>"
            ],
            "text/plain": [
              "    id  Marathon              Name  ... Wall21  MarathonTime  CATEGORY\n",
              "0    1  Prague17      Blair MORGAN  ...   1.16          2.37         A\n",
              "1    2  Prague17     Robert Heczko  ...   1.23          2.59         A\n",
              "2    3  Prague17     Michon Jerome  ...   1.30          2.66         A\n",
              "3    4  Prague17     Daniel Or lek  ...   1.32          2.68         A\n",
              "4    5  Prague17      Luk ? Mr zek  ...   1.36          2.74         A\n",
              "..  ..       ...               ...  ...    ...           ...       ...\n",
              "82  83  Prague17  Stefano Vegliani  ...   2.02          3.93         D\n",
              "83  84  Prague17    Andrej Madliak  ...   1.94          3.93         D\n",
              "84  85  Prague17        Yoi Ohsako  ...   1.94          3.94         D\n",
              "85  86  Prague17        Simon Dunn  ...   2.05          3.95         D\n",
              "86  87  Prague17       Pavel ?imek  ...   2.05          3.98         D\n",
              "\n",
              "[87 rows x 10 columns]"
            ]
          },
          "metadata": {
            "tags": []
          },
          "execution_count": 372
        }
      ]
    },
    {
      "cell_type": "markdown",
      "metadata": {
        "id": "I42-c5Vo8xuB"
      },
      "source": [
        "Voy a ver solo una columna ..."
      ]
    },
    {
      "cell_type": "code",
      "metadata": {
        "id": "e88wQ0798XAA",
        "outputId": "038f322a-08c1-4f4c-a5c6-74ae251c9220",
        "colab": {
          "base_uri": "https://localhost:8080/",
          "height": 223
        }
      },
      "source": [
        "datos_maraton[\"Name\"]"
      ],
      "execution_count": null,
      "outputs": [
        {
          "output_type": "execute_result",
          "data": {
            "text/plain": [
              "0         Blair MORGAN\n",
              "1        Robert Heczko\n",
              "2        Michon Jerome\n",
              "3        Daniel Or lek\n",
              "4         Luk ? Mr zek\n",
              "            ...       \n",
              "82    Stefano Vegliani\n",
              "83      Andrej Madliak\n",
              "84          Yoi Ohsako\n",
              "85          Simon Dunn\n",
              "86         Pavel ?imek\n",
              "Name: Name, Length: 87, dtype: object"
            ]
          },
          "metadata": {
            "tags": []
          },
          "execution_count": 373
        }
      ]
    },
    {
      "cell_type": "markdown",
      "metadata": {
        "id": "cGHDEVBy6vg7"
      },
      "source": [
        "Vamos a \"olfatear\" los datos, viendo su composicion, estadisticas etc .."
      ]
    },
    {
      "cell_type": "code",
      "metadata": {
        "id": "RUYNSxdg7DZH",
        "outputId": "55f3c694-d548-41ef-d27a-9a9520e10c5a",
        "colab": {
          "base_uri": "https://localhost:8080/",
          "height": 308
        }
      },
      "source": [
        "datos_maraton.info()"
      ],
      "execution_count": null,
      "outputs": [
        {
          "output_type": "stream",
          "text": [
            "<class 'pandas.core.frame.DataFrame'>\n",
            "RangeIndex: 87 entries, 0 to 86\n",
            "Data columns (total 10 columns):\n",
            " #   Column         Non-Null Count  Dtype  \n",
            "---  ------         --------------  -----  \n",
            " 0   id             87 non-null     int64  \n",
            " 1   Marathon       87 non-null     object \n",
            " 2   Name           87 non-null     object \n",
            " 3   Category       81 non-null     object \n",
            " 4   km4week        87 non-null     float64\n",
            " 5   sp4week        87 non-null     float64\n",
            " 6   CrossTraining  13 non-null     object \n",
            " 7   Wall21         87 non-null     object \n",
            " 8   MarathonTime   87 non-null     float64\n",
            " 9   CATEGORY       87 non-null     object \n",
            "dtypes: float64(3), int64(1), object(6)\n",
            "memory usage: 6.9+ KB\n"
          ],
          "name": "stdout"
        }
      ]
    },
    {
      "cell_type": "markdown",
      "metadata": {
        "id": "g_DKLC5V813r"
      },
      "source": [
        "Pasamos de object a numerico"
      ]
    },
    {
      "cell_type": "code",
      "metadata": {
        "id": "m1va4S3g8fL9"
      },
      "source": [
        "datos_maraton['Wall21'] = pd.to_numeric(datos_maraton['Wall21'],errors='coerce')"
      ],
      "execution_count": null,
      "outputs": []
    },
    {
      "cell_type": "code",
      "metadata": {
        "id": "1CuVKfQT7MWt",
        "outputId": "f36c1bd8-d5c3-4d76-da5a-2981950d8afd",
        "colab": {
          "base_uri": "https://localhost:8080/",
          "height": 295
        }
      },
      "source": [
        "datos_maraton.describe()"
      ],
      "execution_count": null,
      "outputs": [
        {
          "output_type": "execute_result",
          "data": {
            "text/html": [
              "<div>\n",
              "<style scoped>\n",
              "    .dataframe tbody tr th:only-of-type {\n",
              "        vertical-align: middle;\n",
              "    }\n",
              "\n",
              "    .dataframe tbody tr th {\n",
              "        vertical-align: top;\n",
              "    }\n",
              "\n",
              "    .dataframe thead th {\n",
              "        text-align: right;\n",
              "    }\n",
              "</style>\n",
              "<table border=\"1\" class=\"dataframe\">\n",
              "  <thead>\n",
              "    <tr style=\"text-align: right;\">\n",
              "      <th></th>\n",
              "      <th>id</th>\n",
              "      <th>km4week</th>\n",
              "      <th>sp4week</th>\n",
              "      <th>Wall21</th>\n",
              "      <th>MarathonTime</th>\n",
              "    </tr>\n",
              "  </thead>\n",
              "  <tbody>\n",
              "    <tr>\n",
              "      <th>count</th>\n",
              "      <td>87.000000</td>\n",
              "      <td>87.000000</td>\n",
              "      <td>87.000000</td>\n",
              "      <td>81.000000</td>\n",
              "      <td>87.000000</td>\n",
              "    </tr>\n",
              "    <tr>\n",
              "      <th>mean</th>\n",
              "      <td>44.000000</td>\n",
              "      <td>62.347126</td>\n",
              "      <td>139.840706</td>\n",
              "      <td>1.630617</td>\n",
              "      <td>3.319080</td>\n",
              "    </tr>\n",
              "    <tr>\n",
              "      <th>std</th>\n",
              "      <td>25.258662</td>\n",
              "      <td>26.956019</td>\n",
              "      <td>1191.427864</td>\n",
              "      <td>0.210490</td>\n",
              "      <td>0.376923</td>\n",
              "    </tr>\n",
              "    <tr>\n",
              "      <th>min</th>\n",
              "      <td>1.000000</td>\n",
              "      <td>17.900000</td>\n",
              "      <td>8.031414</td>\n",
              "      <td>1.160000</td>\n",
              "      <td>2.370000</td>\n",
              "    </tr>\n",
              "    <tr>\n",
              "      <th>25%</th>\n",
              "      <td>22.500000</td>\n",
              "      <td>44.200000</td>\n",
              "      <td>11.498168</td>\n",
              "      <td>1.450000</td>\n",
              "      <td>3.045000</td>\n",
              "    </tr>\n",
              "    <tr>\n",
              "      <th>50%</th>\n",
              "      <td>44.000000</td>\n",
              "      <td>58.800000</td>\n",
              "      <td>12.163424</td>\n",
              "      <td>1.620000</td>\n",
              "      <td>3.320000</td>\n",
              "    </tr>\n",
              "    <tr>\n",
              "      <th>75%</th>\n",
              "      <td>65.500000</td>\n",
              "      <td>77.500000</td>\n",
              "      <td>12.854036</td>\n",
              "      <td>1.760000</td>\n",
              "      <td>3.605000</td>\n",
              "    </tr>\n",
              "    <tr>\n",
              "      <th>max</th>\n",
              "      <td>87.000000</td>\n",
              "      <td>137.500000</td>\n",
              "      <td>11125.000000</td>\n",
              "      <td>2.050000</td>\n",
              "      <td>3.980000</td>\n",
              "    </tr>\n",
              "  </tbody>\n",
              "</table>\n",
              "</div>"
            ],
            "text/plain": [
              "              id     km4week       sp4week     Wall21  MarathonTime\n",
              "count  87.000000   87.000000     87.000000  81.000000     87.000000\n",
              "mean   44.000000   62.347126    139.840706   1.630617      3.319080\n",
              "std    25.258662   26.956019   1191.427864   0.210490      0.376923\n",
              "min     1.000000   17.900000      8.031414   1.160000      2.370000\n",
              "25%    22.500000   44.200000     11.498168   1.450000      3.045000\n",
              "50%    44.000000   58.800000     12.163424   1.620000      3.320000\n",
              "75%    65.500000   77.500000     12.854036   1.760000      3.605000\n",
              "max    87.000000  137.500000  11125.000000   2.050000      3.980000"
            ]
          },
          "metadata": {
            "tags": []
          },
          "execution_count": 376
        }
      ]
    },
    {
      "cell_type": "code",
      "metadata": {
        "id": "_NtPt_Pi26ux",
        "outputId": "6da7dada-569d-4941-a35e-9218ed356885",
        "colab": {
          "base_uri": "https://localhost:8080/",
          "height": 401
        }
      },
      "source": [
        "datos_maraton.hist()"
      ],
      "execution_count": null,
      "outputs": [
        {
          "output_type": "execute_result",
          "data": {
            "text/plain": [
              "array([[<matplotlib.axes._subplots.AxesSubplot object at 0x7fb1919c7a90>,\n",
              "        <matplotlib.axes._subplots.AxesSubplot object at 0x7fb1919ea9b0>],\n",
              "       [<matplotlib.axes._subplots.AxesSubplot object at 0x7fb191999cc0>,\n",
              "        <matplotlib.axes._subplots.AxesSubplot object at 0x7fb191955080>],\n",
              "       [<matplotlib.axes._subplots.AxesSubplot object at 0x7fb191a6aeb8>,\n",
              "        <matplotlib.axes._subplots.AxesSubplot object at 0x7fb191923cc0>]],\n",
              "      dtype=object)"
            ]
          },
          "metadata": {
            "tags": []
          },
          "execution_count": 377
        },
        {
          "output_type": "display_data",
          "data": {
            "image/png": "[encoded data removed]",
            "text/plain": [
              "<Figure size 432x288 with 6 Axes>"
            ]
          },
          "metadata": {
            "tags": [],
            "needs_background": "light"
          }
        }
      ]
    },
    {
      "cell_type": "markdown",
      "metadata": {
        "id": "ssRylSAD9IDn"
      },
      "source": [
        "vamos a eliminar las columnas que no tienen sentido"
      ]
    },
    {
      "cell_type": "code",
      "metadata": {
        "id": "aLdZTSGJ-f0T",
        "outputId": "3151d8ee-c0be-4109-b0d3-6095e2b1342a",
        "colab": {
          "base_uri": "https://localhost:8080/",
          "height": 417
        }
      },
      "source": [
        "datos_maraton = datos_maraton.drop(columns=['Name'])\n",
        "datos_maraton = datos_maraton.drop(columns=['id'])\n",
        "datos_maraton = datos_maraton.drop(columns=['Marathon'])\n",
        "datos_maraton = datos_maraton.drop(columns=['CATEGORY'])\n",
        "datos_maraton"
      ],
      "execution_count": null,
      "outputs": [
        {
          "output_type": "execute_result",
          "data": {
            "text/html": [
              "<div>\n",
              "<style scoped>\n",
              "    .dataframe tbody tr th:only-of-type {\n",
              "        vertical-align: middle;\n",
              "    }\n",
              "\n",
              "    .dataframe tbody tr th {\n",
              "        vertical-align: top;\n",
              "    }\n",
              "\n",
              "    .dataframe thead th {\n",
              "        text-align: right;\n",
              "    }\n",
              "</style>\n",
              "<table border=\"1\" class=\"dataframe\">\n",
              "  <thead>\n",
              "    <tr style=\"text-align: right;\">\n",
              "      <th></th>\n",
              "      <th>Category</th>\n",
              "      <th>km4week</th>\n",
              "      <th>sp4week</th>\n",
              "      <th>CrossTraining</th>\n",
              "      <th>Wall21</th>\n",
              "      <th>MarathonTime</th>\n",
              "    </tr>\n",
              "  </thead>\n",
              "  <tbody>\n",
              "    <tr>\n",
              "      <th>0</th>\n",
              "      <td>MAM</td>\n",
              "      <td>132.8</td>\n",
              "      <td>14.434783</td>\n",
              "      <td>NaN</td>\n",
              "      <td>1.16</td>\n",
              "      <td>2.37</td>\n",
              "    </tr>\n",
              "    <tr>\n",
              "      <th>1</th>\n",
              "      <td>MAM</td>\n",
              "      <td>68.6</td>\n",
              "      <td>13.674419</td>\n",
              "      <td>NaN</td>\n",
              "      <td>1.23</td>\n",
              "      <td>2.59</td>\n",
              "    </tr>\n",
              "    <tr>\n",
              "      <th>2</th>\n",
              "      <td>MAM</td>\n",
              "      <td>82.7</td>\n",
              "      <td>13.520436</td>\n",
              "      <td>NaN</td>\n",
              "      <td>1.30</td>\n",
              "      <td>2.66</td>\n",
              "    </tr>\n",
              "    <tr>\n",
              "      <th>3</th>\n",
              "      <td>M45</td>\n",
              "      <td>137.5</td>\n",
              "      <td>12.258544</td>\n",
              "      <td>NaN</td>\n",
              "      <td>1.32</td>\n",
              "      <td>2.68</td>\n",
              "    </tr>\n",
              "    <tr>\n",
              "      <th>4</th>\n",
              "      <td>MAM</td>\n",
              "      <td>84.6</td>\n",
              "      <td>13.945055</td>\n",
              "      <td>NaN</td>\n",
              "      <td>1.36</td>\n",
              "      <td>2.74</td>\n",
              "    </tr>\n",
              "    <tr>\n",
              "      <th>...</th>\n",
              "      <td>...</td>\n",
              "      <td>...</td>\n",
              "      <td>...</td>\n",
              "      <td>...</td>\n",
              "      <td>...</td>\n",
              "      <td>...</td>\n",
              "    </tr>\n",
              "    <tr>\n",
              "      <th>82</th>\n",
              "      <td>M55</td>\n",
              "      <td>50.0</td>\n",
              "      <td>10.830325</td>\n",
              "      <td>NaN</td>\n",
              "      <td>2.02</td>\n",
              "      <td>3.93</td>\n",
              "    </tr>\n",
              "    <tr>\n",
              "      <th>83</th>\n",
              "      <td>M40</td>\n",
              "      <td>33.6</td>\n",
              "      <td>10.130653</td>\n",
              "      <td>ciclista 3h</td>\n",
              "      <td>1.94</td>\n",
              "      <td>3.93</td>\n",
              "    </tr>\n",
              "    <tr>\n",
              "      <th>84</th>\n",
              "      <td>M40</td>\n",
              "      <td>55.4</td>\n",
              "      <td>11.043189</td>\n",
              "      <td>NaN</td>\n",
              "      <td>1.94</td>\n",
              "      <td>3.94</td>\n",
              "    </tr>\n",
              "    <tr>\n",
              "      <th>85</th>\n",
              "      <td>M45</td>\n",
              "      <td>33.2</td>\n",
              "      <td>11.066667</td>\n",
              "      <td>NaN</td>\n",
              "      <td>2.05</td>\n",
              "      <td>3.95</td>\n",
              "    </tr>\n",
              "    <tr>\n",
              "      <th>86</th>\n",
              "      <td>M40</td>\n",
              "      <td>17.9</td>\n",
              "      <td>10.848485</td>\n",
              "      <td>ciclista 5h</td>\n",
              "      <td>2.05</td>\n",
              "      <td>3.98</td>\n",
              "    </tr>\n",
              "  </tbody>\n",
              "</table>\n",
              "<p>87 rows × 6 columns</p>\n",
              "</div>"
            ],
            "text/plain": [
              "   Category  km4week    sp4week CrossTraining  Wall21  MarathonTime\n",
              "0       MAM    132.8  14.434783           NaN    1.16          2.37\n",
              "1       MAM     68.6  13.674419           NaN    1.23          2.59\n",
              "2       MAM     82.7  13.520436           NaN    1.30          2.66\n",
              "3       M45    137.5  12.258544           NaN    1.32          2.68\n",
              "4       MAM     84.6  13.945055           NaN    1.36          2.74\n",
              "..      ...      ...        ...           ...     ...           ...\n",
              "82      M55     50.0  10.830325           NaN    2.02          3.93\n",
              "83      M40     33.6  10.130653   ciclista 3h    1.94          3.93\n",
              "84      M40     55.4  11.043189           NaN    1.94          3.94\n",
              "85      M45     33.2  11.066667           NaN    2.05          3.95\n",
              "86      M40     17.9  10.848485   ciclista 5h    2.05          3.98\n",
              "\n",
              "[87 rows x 6 columns]"
            ]
          },
          "metadata": {
            "tags": []
          },
          "execution_count": 378
        }
      ]
    },
    {
      "cell_type": "markdown",
      "metadata": {
        "id": "QAIdSvI39QaY"
      },
      "source": [
        "Vamos a ver si \"faltan\" datos"
      ]
    },
    {
      "cell_type": "code",
      "metadata": {
        "id": "LgvOjba9uq9X",
        "outputId": "87bcbc20-8ad8-4580-f7ac-fd0b346ff002",
        "colab": {
          "base_uri": "https://localhost:8080/",
          "height": 137
        }
      },
      "source": [
        "datos_maraton.isna().sum()"
      ],
      "execution_count": null,
      "outputs": [
        {
          "output_type": "execute_result",
          "data": {
            "text/plain": [
              "Category          6\n",
              "km4week           0\n",
              "sp4week           0\n",
              "CrossTraining    74\n",
              "Wall21            6\n",
              "MarathonTime      0\n",
              "dtype: int64"
            ]
          },
          "metadata": {
            "tags": []
          },
          "execution_count": 379
        }
      ]
    },
    {
      "cell_type": "markdown",
      "metadata": {
        "id": "hE-npRMz9iIO"
      },
      "source": [
        "Lo vamos a rellenar con ceros"
      ]
    },
    {
      "cell_type": "code",
      "metadata": {
        "id": "Cj-C-2H0D2Ec",
        "outputId": "be48add8-acdc-47f2-95bf-0e9998c2f764",
        "colab": {
          "base_uri": "https://localhost:8080/",
          "height": 417
        }
      },
      "source": [
        "datos_maraton[\"CrossTraining\"] = datos_maraton[\"CrossTraining\"].fillna(0)\n",
        "datos_maraton"
      ],
      "execution_count": null,
      "outputs": [
        {
          "output_type": "execute_result",
          "data": {
            "text/html": [
              "<div>\n",
              "<style scoped>\n",
              "    .dataframe tbody tr th:only-of-type {\n",
              "        vertical-align: middle;\n",
              "    }\n",
              "\n",
              "    .dataframe tbody tr th {\n",
              "        vertical-align: top;\n",
              "    }\n",
              "\n",
              "    .dataframe thead th {\n",
              "        text-align: right;\n",
              "    }\n",
              "</style>\n",
              "<table border=\"1\" class=\"dataframe\">\n",
              "  <thead>\n",
              "    <tr style=\"text-align: right;\">\n",
              "      <th></th>\n",
              "      <th>Category</th>\n",
              "      <th>km4week</th>\n",
              "      <th>sp4week</th>\n",
              "      <th>CrossTraining</th>\n",
              "      <th>Wall21</th>\n",
              "      <th>MarathonTime</th>\n",
              "    </tr>\n",
              "  </thead>\n",
              "  <tbody>\n",
              "    <tr>\n",
              "      <th>0</th>\n",
              "      <td>MAM</td>\n",
              "      <td>132.8</td>\n",
              "      <td>14.434783</td>\n",
              "      <td>0</td>\n",
              "      <td>1.16</td>\n",
              "      <td>2.37</td>\n",
              "    </tr>\n",
              "    <tr>\n",
              "      <th>1</th>\n",
              "      <td>MAM</td>\n",
              "      <td>68.6</td>\n",
              "      <td>13.674419</td>\n",
              "      <td>0</td>\n",
              "      <td>1.23</td>\n",
              "      <td>2.59</td>\n",
              "    </tr>\n",
              "    <tr>\n",
              "      <th>2</th>\n",
              "      <td>MAM</td>\n",
              "      <td>82.7</td>\n",
              "      <td>13.520436</td>\n",
              "      <td>0</td>\n",
              "      <td>1.30</td>\n",
              "      <td>2.66</td>\n",
              "    </tr>\n",
              "    <tr>\n",
              "      <th>3</th>\n",
              "      <td>M45</td>\n",
              "      <td>137.5</td>\n",
              "      <td>12.258544</td>\n",
              "      <td>0</td>\n",
              "      <td>1.32</td>\n",
              "      <td>2.68</td>\n",
              "    </tr>\n",
              "    <tr>\n",
              "      <th>4</th>\n",
              "      <td>MAM</td>\n",
              "      <td>84.6</td>\n",
              "      <td>13.945055</td>\n",
              "      <td>0</td>\n",
              "      <td>1.36</td>\n",
              "      <td>2.74</td>\n",
              "    </tr>\n",
              "    <tr>\n",
              "      <th>...</th>\n",
              "      <td>...</td>\n",
              "      <td>...</td>\n",
              "      <td>...</td>\n",
              "      <td>...</td>\n",
              "      <td>...</td>\n",
              "      <td>...</td>\n",
              "    </tr>\n",
              "    <tr>\n",
              "      <th>82</th>\n",
              "      <td>M55</td>\n",
              "      <td>50.0</td>\n",
              "      <td>10.830325</td>\n",
              "      <td>0</td>\n",
              "      <td>2.02</td>\n",
              "      <td>3.93</td>\n",
              "    </tr>\n",
              "    <tr>\n",
              "      <th>83</th>\n",
              "      <td>M40</td>\n",
              "      <td>33.6</td>\n",
              "      <td>10.130653</td>\n",
              "      <td>ciclista 3h</td>\n",
              "      <td>1.94</td>\n",
              "      <td>3.93</td>\n",
              "    </tr>\n",
              "    <tr>\n",
              "      <th>84</th>\n",
              "      <td>M40</td>\n",
              "      <td>55.4</td>\n",
              "      <td>11.043189</td>\n",
              "      <td>0</td>\n",
              "      <td>1.94</td>\n",
              "      <td>3.94</td>\n",
              "    </tr>\n",
              "    <tr>\n",
              "      <th>85</th>\n",
              "      <td>M45</td>\n",
              "      <td>33.2</td>\n",
              "      <td>11.066667</td>\n",
              "      <td>0</td>\n",
              "      <td>2.05</td>\n",
              "      <td>3.95</td>\n",
              "    </tr>\n",
              "    <tr>\n",
              "      <th>86</th>\n",
              "      <td>M40</td>\n",
              "      <td>17.9</td>\n",
              "      <td>10.848485</td>\n",
              "      <td>ciclista 5h</td>\n",
              "      <td>2.05</td>\n",
              "      <td>3.98</td>\n",
              "    </tr>\n",
              "  </tbody>\n",
              "</table>\n",
              "<p>87 rows × 6 columns</p>\n",
              "</div>"
            ],
            "text/plain": [
              "   Category  km4week    sp4week CrossTraining  Wall21  MarathonTime\n",
              "0       MAM    132.8  14.434783             0    1.16          2.37\n",
              "1       MAM     68.6  13.674419             0    1.23          2.59\n",
              "2       MAM     82.7  13.520436             0    1.30          2.66\n",
              "3       M45    137.5  12.258544             0    1.32          2.68\n",
              "4       MAM     84.6  13.945055             0    1.36          2.74\n",
              "..      ...      ...        ...           ...     ...           ...\n",
              "82      M55     50.0  10.830325             0    2.02          3.93\n",
              "83      M40     33.6  10.130653   ciclista 3h    1.94          3.93\n",
              "84      M40     55.4  11.043189             0    1.94          3.94\n",
              "85      M45     33.2  11.066667             0    2.05          3.95\n",
              "86      M40     17.9  10.848485   ciclista 5h    2.05          3.98\n",
              "\n",
              "[87 rows x 6 columns]"
            ]
          },
          "metadata": {
            "tags": []
          },
          "execution_count": 380
        }
      ]
    },
    {
      "cell_type": "markdown",
      "metadata": {
        "id": "pngJKVMq9q2A"
      },
      "source": [
        "El resto los elimino ..."
      ]
    },
    {
      "cell_type": "code",
      "metadata": {
        "id": "bRqj8Q-7JUi5",
        "outputId": "d70a3585-b9b6-4987-c85f-167ee8940ef4",
        "colab": {
          "base_uri": "https://localhost:8080/",
          "height": 417
        }
      },
      "source": [
        "datos_maraton = datos_maraton.dropna(how='any')\n",
        "datos_maraton"
      ],
      "execution_count": null,
      "outputs": [
        {
          "output_type": "execute_result",
          "data": {
            "text/html": [
              "<div>\n",
              "<style scoped>\n",
              "    .dataframe tbody tr th:only-of-type {\n",
              "        vertical-align: middle;\n",
              "    }\n",
              "\n",
              "    .dataframe tbody tr th {\n",
              "        vertical-align: top;\n",
              "    }\n",
              "\n",
              "    .dataframe thead th {\n",
              "        text-align: right;\n",
              "    }\n",
              "</style>\n",
              "<table border=\"1\" class=\"dataframe\">\n",
              "  <thead>\n",
              "    <tr style=\"text-align: right;\">\n",
              "      <th></th>\n",
              "      <th>Category</th>\n",
              "      <th>km4week</th>\n",
              "      <th>sp4week</th>\n",
              "      <th>CrossTraining</th>\n",
              "      <th>Wall21</th>\n",
              "      <th>MarathonTime</th>\n",
              "    </tr>\n",
              "  </thead>\n",
              "  <tbody>\n",
              "    <tr>\n",
              "      <th>0</th>\n",
              "      <td>MAM</td>\n",
              "      <td>132.8</td>\n",
              "      <td>14.434783</td>\n",
              "      <td>0</td>\n",
              "      <td>1.16</td>\n",
              "      <td>2.37</td>\n",
              "    </tr>\n",
              "    <tr>\n",
              "      <th>1</th>\n",
              "      <td>MAM</td>\n",
              "      <td>68.6</td>\n",
              "      <td>13.674419</td>\n",
              "      <td>0</td>\n",
              "      <td>1.23</td>\n",
              "      <td>2.59</td>\n",
              "    </tr>\n",
              "    <tr>\n",
              "      <th>2</th>\n",
              "      <td>MAM</td>\n",
              "      <td>82.7</td>\n",
              "      <td>13.520436</td>\n",
              "      <td>0</td>\n",
              "      <td>1.30</td>\n",
              "      <td>2.66</td>\n",
              "    </tr>\n",
              "    <tr>\n",
              "      <th>3</th>\n",
              "      <td>M45</td>\n",
              "      <td>137.5</td>\n",
              "      <td>12.258544</td>\n",
              "      <td>0</td>\n",
              "      <td>1.32</td>\n",
              "      <td>2.68</td>\n",
              "    </tr>\n",
              "    <tr>\n",
              "      <th>4</th>\n",
              "      <td>MAM</td>\n",
              "      <td>84.6</td>\n",
              "      <td>13.945055</td>\n",
              "      <td>0</td>\n",
              "      <td>1.36</td>\n",
              "      <td>2.74</td>\n",
              "    </tr>\n",
              "    <tr>\n",
              "      <th>...</th>\n",
              "      <td>...</td>\n",
              "      <td>...</td>\n",
              "      <td>...</td>\n",
              "      <td>...</td>\n",
              "      <td>...</td>\n",
              "      <td>...</td>\n",
              "    </tr>\n",
              "    <tr>\n",
              "      <th>82</th>\n",
              "      <td>M55</td>\n",
              "      <td>50.0</td>\n",
              "      <td>10.830325</td>\n",
              "      <td>0</td>\n",
              "      <td>2.02</td>\n",
              "      <td>3.93</td>\n",
              "    </tr>\n",
              "    <tr>\n",
              "      <th>83</th>\n",
              "      <td>M40</td>\n",
              "      <td>33.6</td>\n",
              "      <td>10.130653</td>\n",
              "      <td>ciclista 3h</td>\n",
              "      <td>1.94</td>\n",
              "      <td>3.93</td>\n",
              "    </tr>\n",
              "    <tr>\n",
              "      <th>84</th>\n",
              "      <td>M40</td>\n",
              "      <td>55.4</td>\n",
              "      <td>11.043189</td>\n",
              "      <td>0</td>\n",
              "      <td>1.94</td>\n",
              "      <td>3.94</td>\n",
              "    </tr>\n",
              "    <tr>\n",
              "      <th>85</th>\n",
              "      <td>M45</td>\n",
              "      <td>33.2</td>\n",
              "      <td>11.066667</td>\n",
              "      <td>0</td>\n",
              "      <td>2.05</td>\n",
              "      <td>3.95</td>\n",
              "    </tr>\n",
              "    <tr>\n",
              "      <th>86</th>\n",
              "      <td>M40</td>\n",
              "      <td>17.9</td>\n",
              "      <td>10.848485</td>\n",
              "      <td>ciclista 5h</td>\n",
              "      <td>2.05</td>\n",
              "      <td>3.98</td>\n",
              "    </tr>\n",
              "  </tbody>\n",
              "</table>\n",
              "<p>81 rows × 6 columns</p>\n",
              "</div>"
            ],
            "text/plain": [
              "   Category  km4week    sp4week CrossTraining  Wall21  MarathonTime\n",
              "0       MAM    132.8  14.434783             0    1.16          2.37\n",
              "1       MAM     68.6  13.674419             0    1.23          2.59\n",
              "2       MAM     82.7  13.520436             0    1.30          2.66\n",
              "3       M45    137.5  12.258544             0    1.32          2.68\n",
              "4       MAM     84.6  13.945055             0    1.36          2.74\n",
              "..      ...      ...        ...           ...     ...           ...\n",
              "82      M55     50.0  10.830325             0    2.02          3.93\n",
              "83      M40     33.6  10.130653   ciclista 3h    1.94          3.93\n",
              "84      M40     55.4  11.043189             0    1.94          3.94\n",
              "85      M45     33.2  11.066667             0    2.05          3.95\n",
              "86      M40     17.9  10.848485   ciclista 5h    2.05          3.98\n",
              "\n",
              "[81 rows x 6 columns]"
            ]
          },
          "metadata": {
            "tags": []
          },
          "execution_count": 381
        }
      ]
    },
    {
      "cell_type": "markdown",
      "metadata": {
        "id": "eS1IKhWiBQxl"
      },
      "source": [
        "Vamos a tratar los datos no numericos"
      ]
    },
    {
      "cell_type": "code",
      "metadata": {
        "id": "Wp_84gCBCa1g",
        "outputId": "e680b111-910b-4f85-f3a8-bacaef145cf8",
        "colab": {
          "base_uri": "https://localhost:8080/",
          "height": 51
        }
      },
      "source": [
        "datos_maraton['CrossTraining'].unique()"
      ],
      "execution_count": null,
      "outputs": [
        {
          "output_type": "execute_result",
          "data": {
            "text/plain": [
              "array([0, 'ciclista 1h', 'ciclista 4h', 'ciclista 13h', 'ciclista 3h',\n",
              "       'ciclista 5h'], dtype=object)"
            ]
          },
          "metadata": {
            "tags": []
          },
          "execution_count": 383
        }
      ]
    },
    {
      "cell_type": "markdown",
      "metadata": {
        "id": "gNgDQ-UXBWj5"
      },
      "source": [
        "Los reemplazo por un valor numerico"
      ]
    },
    {
      "cell_type": "code",
      "metadata": {
        "id": "1p1SGUk_CpTl",
        "outputId": "d3af9496-6f71-4270-ae70-548170437850",
        "colab": {
          "base_uri": "https://localhost:8080/",
          "height": 540
        }
      },
      "source": [
        "valores_cross = {\"CrossTraining\":  {'ciclista 1h':1, 'ciclista 3h':2, 'ciclista 4h':3, 'ciclista 5h':4, 'ciclista 13h':5}}\n",
        "datos_maraton.replace(valores_cross, inplace=True)\n",
        "datos_maraton"
      ],
      "execution_count": null,
      "outputs": [
        {
          "output_type": "stream",
          "text": [
            "/usr/local/lib/python3.6/dist-packages/pandas/core/generic.py:6666: SettingWithCopyWarning: \n",
            "A value is trying to be set on a copy of a slice from a DataFrame.\n",
            "Try using .loc[row_indexer,col_indexer] = value instead\n",
            "\n",
            "See the caveats in the documentation: https://pandas.pydata.org/pandas-docs/stable/user_guide/indexing.html#returning-a-view-versus-a-copy\n",
            "  regex=regex,\n"
          ],
          "name": "stderr"
        },
        {
          "output_type": "execute_result",
          "data": {
            "text/html": [
              "<div>\n",
              "<style scoped>\n",
              "    .dataframe tbody tr th:only-of-type {\n",
              "        vertical-align: middle;\n",
              "    }\n",
              "\n",
              "    .dataframe tbody tr th {\n",
              "        vertical-align: top;\n",
              "    }\n",
              "\n",
              "    .dataframe thead th {\n",
              "        text-align: right;\n",
              "    }\n",
              "</style>\n",
              "<table border=\"1\" class=\"dataframe\">\n",
              "  <thead>\n",
              "    <tr style=\"text-align: right;\">\n",
              "      <th></th>\n",
              "      <th>Category</th>\n",
              "      <th>km4week</th>\n",
              "      <th>sp4week</th>\n",
              "      <th>CrossTraining</th>\n",
              "      <th>Wall21</th>\n",
              "      <th>MarathonTime</th>\n",
              "    </tr>\n",
              "  </thead>\n",
              "  <tbody>\n",
              "    <tr>\n",
              "      <th>0</th>\n",
              "      <td>MAM</td>\n",
              "      <td>132.8</td>\n",
              "      <td>14.434783</td>\n",
              "      <td>0</td>\n",
              "      <td>1.16</td>\n",
              "      <td>2.37</td>\n",
              "    </tr>\n",
              "    <tr>\n",
              "      <th>1</th>\n",
              "      <td>MAM</td>\n",
              "      <td>68.6</td>\n",
              "      <td>13.674419</td>\n",
              "      <td>0</td>\n",
              "      <td>1.23</td>\n",
              "      <td>2.59</td>\n",
              "    </tr>\n",
              "    <tr>\n",
              "      <th>2</th>\n",
              "      <td>MAM</td>\n",
              "      <td>82.7</td>\n",
              "      <td>13.520436</td>\n",
              "      <td>0</td>\n",
              "      <td>1.30</td>\n",
              "      <td>2.66</td>\n",
              "    </tr>\n",
              "    <tr>\n",
              "      <th>3</th>\n",
              "      <td>M45</td>\n",
              "      <td>137.5</td>\n",
              "      <td>12.258544</td>\n",
              "      <td>0</td>\n",
              "      <td>1.32</td>\n",
              "      <td>2.68</td>\n",
              "    </tr>\n",
              "    <tr>\n",
              "      <th>4</th>\n",
              "      <td>MAM</td>\n",
              "      <td>84.6</td>\n",
              "      <td>13.945055</td>\n",
              "      <td>0</td>\n",
              "      <td>1.36</td>\n",
              "      <td>2.74</td>\n",
              "    </tr>\n",
              "    <tr>\n",
              "      <th>...</th>\n",
              "      <td>...</td>\n",
              "      <td>...</td>\n",
              "      <td>...</td>\n",
              "      <td>...</td>\n",
              "      <td>...</td>\n",
              "      <td>...</td>\n",
              "    </tr>\n",
              "    <tr>\n",
              "      <th>82</th>\n",
              "      <td>M55</td>\n",
              "      <td>50.0</td>\n",
              "      <td>10.830325</td>\n",
              "      <td>0</td>\n",
              "      <td>2.02</td>\n",
              "      <td>3.93</td>\n",
              "    </tr>\n",
              "    <tr>\n",
              "      <th>83</th>\n",
              "      <td>M40</td>\n",
              "      <td>33.6</td>\n",
              "      <td>10.130653</td>\n",
              "      <td>2</td>\n",
              "      <td>1.94</td>\n",
              "      <td>3.93</td>\n",
              "    </tr>\n",
              "    <tr>\n",
              "      <th>84</th>\n",
              "      <td>M40</td>\n",
              "      <td>55.4</td>\n",
              "      <td>11.043189</td>\n",
              "      <td>0</td>\n",
              "      <td>1.94</td>\n",
              "      <td>3.94</td>\n",
              "    </tr>\n",
              "    <tr>\n",
              "      <th>85</th>\n",
              "      <td>M45</td>\n",
              "      <td>33.2</td>\n",
              "      <td>11.066667</td>\n",
              "      <td>0</td>\n",
              "      <td>2.05</td>\n",
              "      <td>3.95</td>\n",
              "    </tr>\n",
              "    <tr>\n",
              "      <th>86</th>\n",
              "      <td>M40</td>\n",
              "      <td>17.9</td>\n",
              "      <td>10.848485</td>\n",
              "      <td>4</td>\n",
              "      <td>2.05</td>\n",
              "      <td>3.98</td>\n",
              "    </tr>\n",
              "  </tbody>\n",
              "</table>\n",
              "<p>81 rows × 6 columns</p>\n",
              "</div>"
            ],
            "text/plain": [
              "   Category  km4week    sp4week  CrossTraining  Wall21  MarathonTime\n",
              "0       MAM    132.8  14.434783              0    1.16          2.37\n",
              "1       MAM     68.6  13.674419              0    1.23          2.59\n",
              "2       MAM     82.7  13.520436              0    1.30          2.66\n",
              "3       M45    137.5  12.258544              0    1.32          2.68\n",
              "4       MAM     84.6  13.945055              0    1.36          2.74\n",
              "..      ...      ...        ...            ...     ...           ...\n",
              "82      M55     50.0  10.830325              0    2.02          3.93\n",
              "83      M40     33.6  10.130653              2    1.94          3.93\n",
              "84      M40     55.4  11.043189              0    1.94          3.94\n",
              "85      M45     33.2  11.066667              0    2.05          3.95\n",
              "86      M40     17.9  10.848485              4    2.05          3.98\n",
              "\n",
              "[81 rows x 6 columns]"
            ]
          },
          "metadata": {
            "tags": []
          },
          "execution_count": 384
        }
      ]
    },
    {
      "cell_type": "code",
      "metadata": {
        "id": "VsFjc8KgGnwO",
        "outputId": "e9d65d07-af90-4d90-9059-b3a83c0b52eb",
        "colab": {
          "base_uri": "https://localhost:8080/",
          "height": 34
        }
      },
      "source": [
        "datos_maraton['CrossTraining'].unique()"
      ],
      "execution_count": null,
      "outputs": [
        {
          "output_type": "execute_result",
          "data": {
            "text/plain": [
              "array([0, 1, 3, 5, 2, 4])"
            ]
          },
          "metadata": {
            "tags": []
          },
          "execution_count": 385
        }
      ]
    },
    {
      "cell_type": "code",
      "metadata": {
        "id": "I_2yEtHkIn-i",
        "outputId": "5e6a73a7-2f51-4fdf-b161-c04e7e0608c4",
        "colab": {
          "base_uri": "https://localhost:8080/",
          "height": 34
        }
      },
      "source": [
        "datos_maraton['Category'].unique()"
      ],
      "execution_count": null,
      "outputs": [
        {
          "output_type": "execute_result",
          "data": {
            "text/plain": [
              "array(['MAM', 'M45', 'M40', 'M50', 'M55', 'WAM'], dtype=object)"
            ]
          },
          "metadata": {
            "tags": []
          },
          "execution_count": 386
        }
      ]
    },
    {
      "cell_type": "code",
      "metadata": {
        "id": "5zmfGoZuIyry",
        "outputId": "1a0ef465-fa14-49b1-fdb8-ef99ef3613b1",
        "colab": {
          "base_uri": "https://localhost:8080/",
          "height": 540
        }
      },
      "source": [
        "valores_categoria = {\"Category\":  {'MAM':1, 'M45':2, 'M40':3, 'M50':4, 'M55':5,'WAM':6}}\n",
        "datos_maraton.replace(valores_categoria, inplace=True)\n",
        "datos_maraton"
      ],
      "execution_count": null,
      "outputs": [
        {
          "output_type": "stream",
          "text": [
            "/usr/local/lib/python3.6/dist-packages/pandas/core/generic.py:6666: SettingWithCopyWarning: \n",
            "A value is trying to be set on a copy of a slice from a DataFrame.\n",
            "Try using .loc[row_indexer,col_indexer] = value instead\n",
            "\n",
            "See the caveats in the documentation: https://pandas.pydata.org/pandas-docs/stable/user_guide/indexing.html#returning-a-view-versus-a-copy\n",
            "  regex=regex,\n"
          ],
          "name": "stderr"
        },
        {
          "output_type": "execute_result",
          "data": {
            "text/html": [
              "<div>\n",
              "<style scoped>\n",
              "    .dataframe tbody tr th:only-of-type {\n",
              "        vertical-align: middle;\n",
              "    }\n",
              "\n",
              "    .dataframe tbody tr th {\n",
              "        vertical-align: top;\n",
              "    }\n",
              "\n",
              "    .dataframe thead th {\n",
              "        text-align: right;\n",
              "    }\n",
              "</style>\n",
              "<table border=\"1\" class=\"dataframe\">\n",
              "  <thead>\n",
              "    <tr style=\"text-align: right;\">\n",
              "      <th></th>\n",
              "      <th>Category</th>\n",
              "      <th>km4week</th>\n",
              "      <th>sp4week</th>\n",
              "      <th>CrossTraining</th>\n",
              "      <th>Wall21</th>\n",
              "      <th>MarathonTime</th>\n",
              "    </tr>\n",
              "  </thead>\n",
              "  <tbody>\n",
              "    <tr>\n",
              "      <th>0</th>\n",
              "      <td>1</td>\n",
              "      <td>132.8</td>\n",
              "      <td>14.434783</td>\n",
              "      <td>0</td>\n",
              "      <td>1.16</td>\n",
              "      <td>2.37</td>\n",
              "    </tr>\n",
              "    <tr>\n",
              "      <th>1</th>\n",
              "      <td>1</td>\n",
              "      <td>68.6</td>\n",
              "      <td>13.674419</td>\n",
              "      <td>0</td>\n",
              "      <td>1.23</td>\n",
              "      <td>2.59</td>\n",
              "    </tr>\n",
              "    <tr>\n",
              "      <th>2</th>\n",
              "      <td>1</td>\n",
              "      <td>82.7</td>\n",
              "      <td>13.520436</td>\n",
              "      <td>0</td>\n",
              "      <td>1.30</td>\n",
              "      <td>2.66</td>\n",
              "    </tr>\n",
              "    <tr>\n",
              "      <th>3</th>\n",
              "      <td>2</td>\n",
              "      <td>137.5</td>\n",
              "      <td>12.258544</td>\n",
              "      <td>0</td>\n",
              "      <td>1.32</td>\n",
              "      <td>2.68</td>\n",
              "    </tr>\n",
              "    <tr>\n",
              "      <th>4</th>\n",
              "      <td>1</td>\n",
              "      <td>84.6</td>\n",
              "      <td>13.945055</td>\n",
              "      <td>0</td>\n",
              "      <td>1.36</td>\n",
              "      <td>2.74</td>\n",
              "    </tr>\n",
              "    <tr>\n",
              "      <th>...</th>\n",
              "      <td>...</td>\n",
              "      <td>...</td>\n",
              "      <td>...</td>\n",
              "      <td>...</td>\n",
              "      <td>...</td>\n",
              "      <td>...</td>\n",
              "    </tr>\n",
              "    <tr>\n",
              "      <th>82</th>\n",
              "      <td>5</td>\n",
              "      <td>50.0</td>\n",
              "      <td>10.830325</td>\n",
              "      <td>0</td>\n",
              "      <td>2.02</td>\n",
              "      <td>3.93</td>\n",
              "    </tr>\n",
              "    <tr>\n",
              "      <th>83</th>\n",
              "      <td>3</td>\n",
              "      <td>33.6</td>\n",
              "      <td>10.130653</td>\n",
              "      <td>2</td>\n",
              "      <td>1.94</td>\n",
              "      <td>3.93</td>\n",
              "    </tr>\n",
              "    <tr>\n",
              "      <th>84</th>\n",
              "      <td>3</td>\n",
              "      <td>55.4</td>\n",
              "      <td>11.043189</td>\n",
              "      <td>0</td>\n",
              "      <td>1.94</td>\n",
              "      <td>3.94</td>\n",
              "    </tr>\n",
              "    <tr>\n",
              "      <th>85</th>\n",
              "      <td>2</td>\n",
              "      <td>33.2</td>\n",
              "      <td>11.066667</td>\n",
              "      <td>0</td>\n",
              "      <td>2.05</td>\n",
              "      <td>3.95</td>\n",
              "    </tr>\n",
              "    <tr>\n",
              "      <th>86</th>\n",
              "      <td>3</td>\n",
              "      <td>17.9</td>\n",
              "      <td>10.848485</td>\n",
              "      <td>4</td>\n",
              "      <td>2.05</td>\n",
              "      <td>3.98</td>\n",
              "    </tr>\n",
              "  </tbody>\n",
              "</table>\n",
              "<p>81 rows × 6 columns</p>\n",
              "</div>"
            ],
            "text/plain": [
              "    Category  km4week    sp4week  CrossTraining  Wall21  MarathonTime\n",
              "0          1    132.8  14.434783              0    1.16          2.37\n",
              "1          1     68.6  13.674419              0    1.23          2.59\n",
              "2          1     82.7  13.520436              0    1.30          2.66\n",
              "3          2    137.5  12.258544              0    1.32          2.68\n",
              "4          1     84.6  13.945055              0    1.36          2.74\n",
              "..       ...      ...        ...            ...     ...           ...\n",
              "82         5     50.0  10.830325              0    2.02          3.93\n",
              "83         3     33.6  10.130653              2    1.94          3.93\n",
              "84         3     55.4  11.043189              0    1.94          3.94\n",
              "85         2     33.2  11.066667              0    2.05          3.95\n",
              "86         3     17.9  10.848485              4    2.05          3.98\n",
              "\n",
              "[81 rows x 6 columns]"
            ]
          },
          "metadata": {
            "tags": []
          },
          "execution_count": 387
        }
      ]
    },
    {
      "cell_type": "markdown",
      "metadata": {
        "id": "n0mjIoviBh_Z"
      },
      "source": [
        "Vamos a analizarlos de nuevo, pintando algunas graficas"
      ]
    },
    {
      "cell_type": "code",
      "metadata": {
        "id": "kW15doqxvbF1",
        "outputId": "f8253953-a691-49b4-ce05-70926ef16db9",
        "colab": {
          "base_uri": "https://localhost:8080/",
          "height": 295
        }
      },
      "source": [
        "import matplotlib.pyplot as plt\n",
        "plt.scatter(x = datos_maraton['km4week'], y=datos_maraton['MarathonTime'])\n",
        "plt.title('km4week Vs Marathon Time')\n",
        "plt.xlabel('km4week')\n",
        "plt.ylabel('Marathon Time')\n",
        "plt.show()"
      ],
      "execution_count": null,
      "outputs": [
        {
          "output_type": "display_data",
          "data": {
            "image/png": "[encoded data removed]",
            "text/plain": [
              "<Figure size 432x288 with 1 Axes>"
            ]
          },
          "metadata": {
            "tags": [],
            "needs_background": "light"
          }
        }
      ]
    },
    {
      "cell_type": "code",
      "metadata": {
        "id": "6JlM_-m4wJVe",
        "outputId": "b8dd5113-bb64-42de-b0a7-dd2e9d08aed8",
        "colab": {
          "base_uri": "https://localhost:8080/",
          "height": 295
        }
      },
      "source": [
        "plt.scatter(x = datos_maraton['sp4week'], y=datos_maraton['MarathonTime'])\n",
        "plt.title('sp4week Vs Marathon Time')\n",
        "plt.xlabel('sp4week')\n",
        "plt.ylabel('Marathon Time')\n",
        "plt.show()"
      ],
      "execution_count": null,
      "outputs": [
        {
          "output_type": "display_data",
          "data": {
            "image/png": "[encoded data removed]",
            "text/plain": [
              "<Figure size 432x288 with 1 Axes>"
            ]
          },
          "metadata": {
            "tags": [],
            "needs_background": "light"
          }
        }
      ]
    },
    {
      "cell_type": "markdown",
      "metadata": {
        "id": "UCzCrpT3BpNl"
      },
      "source": [
        "vamos a eliminar ese \"outlier\""
      ]
    },
    {
      "cell_type": "code",
      "metadata": {
        "id": "FXvnYM7KwSD1"
      },
      "source": [
        "datos_maraton = datos_maraton.query('sp4week<1000')"
      ],
      "execution_count": null,
      "outputs": []
    },
    {
      "cell_type": "code",
      "metadata": {
        "id": "50WqG_EEwZoD",
        "outputId": "a8c24365-033f-4b2c-adbb-1aab08b66b1a",
        "colab": {
          "base_uri": "https://localhost:8080/",
          "height": 295
        }
      },
      "source": [
        "plt.scatter(x = datos_maraton['sp4week'], y=datos_maraton['MarathonTime'])\n",
        "plt.title('sp4week Vs Marathon Time')\n",
        "plt.xlabel('sp4week')\n",
        "plt.ylabel('Marathon Time')\n",
        "plt.show()"
      ],
      "execution_count": null,
      "outputs": [
        {
          "output_type": "display_data",
          "data": {
            "image/png": "[encoded data removed]",
            "text/plain": [
              "<Figure size 432x288 with 1 Axes>"
            ]
          },
          "metadata": {
            "tags": [],
            "needs_background": "light"
          }
        }
      ]
    },
    {
      "cell_type": "code",
      "metadata": {
        "id": "7utQIpcwwiqt",
        "outputId": "06b1f5cc-3361-4405-aced-9ec9bef76856",
        "colab": {
          "base_uri": "https://localhost:8080/",
          "height": 295
        }
      },
      "source": [
        "plt.scatter(x = datos_maraton['Wall21'], y=datos_maraton['MarathonTime'])\n",
        "plt.title('Wall21 Vs Marathon Time')\n",
        "plt.xlabel('Wall21')\n",
        "plt.ylabel('Marathon Time')\n",
        "plt.show()"
      ],
      "execution_count": null,
      "outputs": [
        {
          "output_type": "display_data",
          "data": {
            "image/png": "[encoded data removed]",
            "text/plain": [
              "<Figure size 432x288 with 1 Axes>"
            ]
          },
          "metadata": {
            "tags": [],
            "needs_background": "light"
          }
        }
      ]
    },
    {
      "cell_type": "code",
      "metadata": {
        "id": "gE7rwKTOyyVz",
        "outputId": "d3553918-65cf-4276-d435-db5eace44bd4",
        "colab": {
          "base_uri": "https://localhost:8080/",
          "height": 417
        }
      },
      "source": [
        "datos_maraton"
      ],
      "execution_count": null,
      "outputs": [
        {
          "output_type": "execute_result",
          "data": {
            "text/html": [
              "<div>\n",
              "<style scoped>\n",
              "    .dataframe tbody tr th:only-of-type {\n",
              "        vertical-align: middle;\n",
              "    }\n",
              "\n",
              "    .dataframe tbody tr th {\n",
              "        vertical-align: top;\n",
              "    }\n",
              "\n",
              "    .dataframe thead th {\n",
              "        text-align: right;\n",
              "    }\n",
              "</style>\n",
              "<table border=\"1\" class=\"dataframe\">\n",
              "  <thead>\n",
              "    <tr style=\"text-align: right;\">\n",
              "      <th></th>\n",
              "      <th>Category</th>\n",
              "      <th>km4week</th>\n",
              "      <th>sp4week</th>\n",
              "      <th>CrossTraining</th>\n",
              "      <th>Wall21</th>\n",
              "      <th>MarathonTime</th>\n",
              "    </tr>\n",
              "  </thead>\n",
              "  <tbody>\n",
              "    <tr>\n",
              "      <th>0</th>\n",
              "      <td>1</td>\n",
              "      <td>132.8</td>\n",
              "      <td>14.434783</td>\n",
              "      <td>0</td>\n",
              "      <td>1.16</td>\n",
              "      <td>2.37</td>\n",
              "    </tr>\n",
              "    <tr>\n",
              "      <th>1</th>\n",
              "      <td>1</td>\n",
              "      <td>68.6</td>\n",
              "      <td>13.674419</td>\n",
              "      <td>0</td>\n",
              "      <td>1.23</td>\n",
              "      <td>2.59</td>\n",
              "    </tr>\n",
              "    <tr>\n",
              "      <th>2</th>\n",
              "      <td>1</td>\n",
              "      <td>82.7</td>\n",
              "      <td>13.520436</td>\n",
              "      <td>0</td>\n",
              "      <td>1.30</td>\n",
              "      <td>2.66</td>\n",
              "    </tr>\n",
              "    <tr>\n",
              "      <th>3</th>\n",
              "      <td>2</td>\n",
              "      <td>137.5</td>\n",
              "      <td>12.258544</td>\n",
              "      <td>0</td>\n",
              "      <td>1.32</td>\n",
              "      <td>2.68</td>\n",
              "    </tr>\n",
              "    <tr>\n",
              "      <th>4</th>\n",
              "      <td>1</td>\n",
              "      <td>84.6</td>\n",
              "      <td>13.945055</td>\n",
              "      <td>0</td>\n",
              "      <td>1.36</td>\n",
              "      <td>2.74</td>\n",
              "    </tr>\n",
              "    <tr>\n",
              "      <th>...</th>\n",
              "      <td>...</td>\n",
              "      <td>...</td>\n",
              "      <td>...</td>\n",
              "      <td>...</td>\n",
              "      <td>...</td>\n",
              "      <td>...</td>\n",
              "    </tr>\n",
              "    <tr>\n",
              "      <th>82</th>\n",
              "      <td>5</td>\n",
              "      <td>50.0</td>\n",
              "      <td>10.830325</td>\n",
              "      <td>0</td>\n",
              "      <td>2.02</td>\n",
              "      <td>3.93</td>\n",
              "    </tr>\n",
              "    <tr>\n",
              "      <th>83</th>\n",
              "      <td>3</td>\n",
              "      <td>33.6</td>\n",
              "      <td>10.130653</td>\n",
              "      <td>2</td>\n",
              "      <td>1.94</td>\n",
              "      <td>3.93</td>\n",
              "    </tr>\n",
              "    <tr>\n",
              "      <th>84</th>\n",
              "      <td>3</td>\n",
              "      <td>55.4</td>\n",
              "      <td>11.043189</td>\n",
              "      <td>0</td>\n",
              "      <td>1.94</td>\n",
              "      <td>3.94</td>\n",
              "    </tr>\n",
              "    <tr>\n",
              "      <th>85</th>\n",
              "      <td>2</td>\n",
              "      <td>33.2</td>\n",
              "      <td>11.066667</td>\n",
              "      <td>0</td>\n",
              "      <td>2.05</td>\n",
              "      <td>3.95</td>\n",
              "    </tr>\n",
              "    <tr>\n",
              "      <th>86</th>\n",
              "      <td>3</td>\n",
              "      <td>17.9</td>\n",
              "      <td>10.848485</td>\n",
              "      <td>4</td>\n",
              "      <td>2.05</td>\n",
              "      <td>3.98</td>\n",
              "    </tr>\n",
              "  </tbody>\n",
              "</table>\n",
              "<p>80 rows × 6 columns</p>\n",
              "</div>"
            ],
            "text/plain": [
              "    Category  km4week    sp4week  CrossTraining  Wall21  MarathonTime\n",
              "0          1    132.8  14.434783              0    1.16          2.37\n",
              "1          1     68.6  13.674419              0    1.23          2.59\n",
              "2          1     82.7  13.520436              0    1.30          2.66\n",
              "3          2    137.5  12.258544              0    1.32          2.68\n",
              "4          1     84.6  13.945055              0    1.36          2.74\n",
              "..       ...      ...        ...            ...     ...           ...\n",
              "82         5     50.0  10.830325              0    2.02          3.93\n",
              "83         3     33.6  10.130653              2    1.94          3.93\n",
              "84         3     55.4  11.043189              0    1.94          3.94\n",
              "85         2     33.2  11.066667              0    2.05          3.95\n",
              "86         3     17.9  10.848485              4    2.05          3.98\n",
              "\n",
              "[80 rows x 6 columns]"
            ]
          },
          "metadata": {
            "tags": []
          },
          "execution_count": 394
        }
      ]
    },
    {
      "cell_type": "markdown",
      "metadata": {
        "id": "DggSovsaBymb"
      },
      "source": [
        "**FASE 2. Entrenamiento del modelo**"
      ]
    },
    {
      "cell_type": "markdown",
      "metadata": {
        "id": "kY5RZ0sIII1H"
      },
      "source": [
        "Separamos los datos entre entrenamiento (80%) y test (20%)"
      ]
    },
    {
      "cell_type": "code",
      "metadata": {
        "id": "vOvkyCl6BmKd"
      },
      "source": [
        "datos_entrenamiento = datos_maraton.sample(frac=0.8,random_state=0)\n",
        "datos_test = datos_maraton.drop(datos_entrenamiento.index)"
      ],
      "execution_count": null,
      "outputs": []
    },
    {
      "cell_type": "code",
      "metadata": {
        "id": "KyeVnBzLBzro",
        "outputId": "406425da-1e6b-44a1-ed97-8c71bcb8135c",
        "colab": {
          "base_uri": "https://localhost:8080/",
          "height": 417
        }
      },
      "source": [
        "datos_entrenamiento"
      ],
      "execution_count": null,
      "outputs": [
        {
          "output_type": "execute_result",
          "data": {
            "text/html": [
              "<div>\n",
              "<style scoped>\n",
              "    .dataframe tbody tr th:only-of-type {\n",
              "        vertical-align: middle;\n",
              "    }\n",
              "\n",
              "    .dataframe tbody tr th {\n",
              "        vertical-align: top;\n",
              "    }\n",
              "\n",
              "    .dataframe thead th {\n",
              "        text-align: right;\n",
              "    }\n",
              "</style>\n",
              "<table border=\"1\" class=\"dataframe\">\n",
              "  <thead>\n",
              "    <tr style=\"text-align: right;\">\n",
              "      <th></th>\n",
              "      <th>Category</th>\n",
              "      <th>km4week</th>\n",
              "      <th>sp4week</th>\n",
              "      <th>CrossTraining</th>\n",
              "      <th>Wall21</th>\n",
              "      <th>MarathonTime</th>\n",
              "    </tr>\n",
              "  </thead>\n",
              "  <tbody>\n",
              "    <tr>\n",
              "      <th>54</th>\n",
              "      <td>3</td>\n",
              "      <td>70.7</td>\n",
              "      <td>11.783333</td>\n",
              "      <td>0</td>\n",
              "      <td>1.77</td>\n",
              "      <td>3.47</td>\n",
              "    </tr>\n",
              "    <tr>\n",
              "      <th>28</th>\n",
              "      <td>2</td>\n",
              "      <td>51.6</td>\n",
              "      <td>13.008403</td>\n",
              "      <td>0</td>\n",
              "      <td>1.50</td>\n",
              "      <td>3.15</td>\n",
              "    </tr>\n",
              "    <tr>\n",
              "      <th>31</th>\n",
              "      <td>1</td>\n",
              "      <td>79.4</td>\n",
              "      <td>13.344538</td>\n",
              "      <td>0</td>\n",
              "      <td>1.60</td>\n",
              "      <td>3.19</td>\n",
              "    </tr>\n",
              "    <tr>\n",
              "      <th>84</th>\n",
              "      <td>3</td>\n",
              "      <td>55.4</td>\n",
              "      <td>11.043189</td>\n",
              "      <td>0</td>\n",
              "      <td>1.94</td>\n",
              "      <td>3.94</td>\n",
              "    </tr>\n",
              "    <tr>\n",
              "      <th>47</th>\n",
              "      <td>2</td>\n",
              "      <td>39.6</td>\n",
              "      <td>12.247423</td>\n",
              "      <td>0</td>\n",
              "      <td>1.67</td>\n",
              "      <td>3.35</td>\n",
              "    </tr>\n",
              "    <tr>\n",
              "      <th>...</th>\n",
              "      <td>...</td>\n",
              "      <td>...</td>\n",
              "      <td>...</td>\n",
              "      <td>...</td>\n",
              "      <td>...</td>\n",
              "      <td>...</td>\n",
              "    </tr>\n",
              "    <tr>\n",
              "      <th>55</th>\n",
              "      <td>1</td>\n",
              "      <td>26.9</td>\n",
              "      <td>13.121951</td>\n",
              "      <td>0</td>\n",
              "      <td>1.67</td>\n",
              "      <td>3.50</td>\n",
              "    </tr>\n",
              "    <tr>\n",
              "      <th>20</th>\n",
              "      <td>1</td>\n",
              "      <td>94.5</td>\n",
              "      <td>11.886792</td>\n",
              "      <td>0</td>\n",
              "      <td>1.45</td>\n",
              "      <td>2.99</td>\n",
              "    </tr>\n",
              "    <tr>\n",
              "      <th>79</th>\n",
              "      <td>1</td>\n",
              "      <td>53.9</td>\n",
              "      <td>11.802920</td>\n",
              "      <td>0</td>\n",
              "      <td>1.98</td>\n",
              "      <td>3.90</td>\n",
              "    </tr>\n",
              "    <tr>\n",
              "      <th>8</th>\n",
              "      <td>1</td>\n",
              "      <td>70.0</td>\n",
              "      <td>13.770492</td>\n",
              "      <td>1</td>\n",
              "      <td>1.38</td>\n",
              "      <td>2.83</td>\n",
              "    </tr>\n",
              "    <tr>\n",
              "      <th>13</th>\n",
              "      <td>3</td>\n",
              "      <td>84.4</td>\n",
              "      <td>13.836066</td>\n",
              "      <td>0</td>\n",
              "      <td>1.41</td>\n",
              "      <td>2.88</td>\n",
              "    </tr>\n",
              "  </tbody>\n",
              "</table>\n",
              "<p>64 rows × 6 columns</p>\n",
              "</div>"
            ],
            "text/plain": [
              "    Category  km4week    sp4week  CrossTraining  Wall21  MarathonTime\n",
              "54         3     70.7  11.783333              0    1.77          3.47\n",
              "28         2     51.6  13.008403              0    1.50          3.15\n",
              "31         1     79.4  13.344538              0    1.60          3.19\n",
              "84         3     55.4  11.043189              0    1.94          3.94\n",
              "47         2     39.6  12.247423              0    1.67          3.35\n",
              "..       ...      ...        ...            ...     ...           ...\n",
              "55         1     26.9  13.121951              0    1.67          3.50\n",
              "20         1     94.5  11.886792              0    1.45          2.99\n",
              "79         1     53.9  11.802920              0    1.98          3.90\n",
              "8          1     70.0  13.770492              1    1.38          2.83\n",
              "13         3     84.4  13.836066              0    1.41          2.88\n",
              "\n",
              "[64 rows x 6 columns]"
            ]
          },
          "metadata": {
            "tags": []
          },
          "execution_count": 396
        }
      ]
    },
    {
      "cell_type": "code",
      "metadata": {
        "id": "LrpVnzQDB-b-",
        "outputId": "88ed2425-a0d3-4bb9-cf0d-66f5fd6bb69b",
        "colab": {
          "base_uri": "https://localhost:8080/",
          "height": 542
        }
      },
      "source": [
        "datos_test"
      ],
      "execution_count": null,
      "outputs": [
        {
          "output_type": "execute_result",
          "data": {
            "text/html": [
              "<div>\n",
              "<style scoped>\n",
              "    .dataframe tbody tr th:only-of-type {\n",
              "        vertical-align: middle;\n",
              "    }\n",
              "\n",
              "    .dataframe tbody tr th {\n",
              "        vertical-align: top;\n",
              "    }\n",
              "\n",
              "    .dataframe thead th {\n",
              "        text-align: right;\n",
              "    }\n",
              "</style>\n",
              "<table border=\"1\" class=\"dataframe\">\n",
              "  <thead>\n",
              "    <tr style=\"text-align: right;\">\n",
              "      <th></th>\n",
              "      <th>Category</th>\n",
              "      <th>km4week</th>\n",
              "      <th>sp4week</th>\n",
              "      <th>CrossTraining</th>\n",
              "      <th>Wall21</th>\n",
              "      <th>MarathonTime</th>\n",
              "    </tr>\n",
              "  </thead>\n",
              "  <tbody>\n",
              "    <tr>\n",
              "      <th>9</th>\n",
              "      <td>2</td>\n",
              "      <td>84.2</td>\n",
              "      <td>13.365079</td>\n",
              "      <td>0</td>\n",
              "      <td>1.35</td>\n",
              "      <td>2.86</td>\n",
              "    </tr>\n",
              "    <tr>\n",
              "      <th>12</th>\n",
              "      <td>2</td>\n",
              "      <td>53.5</td>\n",
              "      <td>14.078947</td>\n",
              "      <td>3</td>\n",
              "      <td>1.37</td>\n",
              "      <td>2.88</td>\n",
              "    </tr>\n",
              "    <tr>\n",
              "      <th>21</th>\n",
              "      <td>3</td>\n",
              "      <td>67.3</td>\n",
              "      <td>13.239344</td>\n",
              "      <td>0</td>\n",
              "      <td>1.50</td>\n",
              "      <td>3.04</td>\n",
              "    </tr>\n",
              "    <tr>\n",
              "      <th>26</th>\n",
              "      <td>6</td>\n",
              "      <td>129.6</td>\n",
              "      <td>12.188088</td>\n",
              "      <td>0</td>\n",
              "      <td>1.54</td>\n",
              "      <td>3.12</td>\n",
              "    </tr>\n",
              "    <tr>\n",
              "      <th>38</th>\n",
              "      <td>1</td>\n",
              "      <td>64.7</td>\n",
              "      <td>13.294521</td>\n",
              "      <td>0</td>\n",
              "      <td>1.50</td>\n",
              "      <td>3.24</td>\n",
              "    </tr>\n",
              "    <tr>\n",
              "      <th>39</th>\n",
              "      <td>6</td>\n",
              "      <td>69.2</td>\n",
              "      <td>10.053269</td>\n",
              "      <td>0</td>\n",
              "      <td>1.60</td>\n",
              "      <td>3.25</td>\n",
              "    </tr>\n",
              "    <tr>\n",
              "      <th>41</th>\n",
              "      <td>5</td>\n",
              "      <td>58.8</td>\n",
              "      <td>12.829091</td>\n",
              "      <td>0</td>\n",
              "      <td>1.68</td>\n",
              "      <td>3.28</td>\n",
              "    </tr>\n",
              "    <tr>\n",
              "      <th>46</th>\n",
              "      <td>6</td>\n",
              "      <td>48.6</td>\n",
              "      <td>12.252101</td>\n",
              "      <td>0</td>\n",
              "      <td>1.66</td>\n",
              "      <td>3.33</td>\n",
              "    </tr>\n",
              "    <tr>\n",
              "      <th>48</th>\n",
              "      <td>2</td>\n",
              "      <td>60.1</td>\n",
              "      <td>12.182432</td>\n",
              "      <td>0</td>\n",
              "      <td>1.55</td>\n",
              "      <td>3.36</td>\n",
              "    </tr>\n",
              "    <tr>\n",
              "      <th>49</th>\n",
              "      <td>1</td>\n",
              "      <td>78.2</td>\n",
              "      <td>12.000000</td>\n",
              "      <td>0</td>\n",
              "      <td>1.64</td>\n",
              "      <td>3.39</td>\n",
              "    </tr>\n",
              "    <tr>\n",
              "      <th>62</th>\n",
              "      <td>2</td>\n",
              "      <td>48.8</td>\n",
              "      <td>11.665339</td>\n",
              "      <td>0</td>\n",
              "      <td>1.66</td>\n",
              "      <td>3.56</td>\n",
              "    </tr>\n",
              "    <tr>\n",
              "      <th>68</th>\n",
              "      <td>1</td>\n",
              "      <td>59.1</td>\n",
              "      <td>10.910769</td>\n",
              "      <td>0</td>\n",
              "      <td>1.75</td>\n",
              "      <td>3.65</td>\n",
              "    </tr>\n",
              "    <tr>\n",
              "      <th>69</th>\n",
              "      <td>1</td>\n",
              "      <td>41.6</td>\n",
              "      <td>12.235294</td>\n",
              "      <td>0</td>\n",
              "      <td>1.80</td>\n",
              "      <td>3.67</td>\n",
              "    </tr>\n",
              "    <tr>\n",
              "      <th>71</th>\n",
              "      <td>4</td>\n",
              "      <td>24.2</td>\n",
              "      <td>11.523810</td>\n",
              "      <td>2</td>\n",
              "      <td>1.76</td>\n",
              "      <td>3.69</td>\n",
              "    </tr>\n",
              "    <tr>\n",
              "      <th>75</th>\n",
              "      <td>1</td>\n",
              "      <td>23.9</td>\n",
              "      <td>12.050420</td>\n",
              "      <td>3</td>\n",
              "      <td>1.85</td>\n",
              "      <td>3.78</td>\n",
              "    </tr>\n",
              "    <tr>\n",
              "      <th>83</th>\n",
              "      <td>3</td>\n",
              "      <td>33.6</td>\n",
              "      <td>10.130653</td>\n",
              "      <td>2</td>\n",
              "      <td>1.94</td>\n",
              "      <td>3.93</td>\n",
              "    </tr>\n",
              "  </tbody>\n",
              "</table>\n",
              "</div>"
            ],
            "text/plain": [
              "    Category  km4week    sp4week  CrossTraining  Wall21  MarathonTime\n",
              "9          2     84.2  13.365079              0    1.35          2.86\n",
              "12         2     53.5  14.078947              3    1.37          2.88\n",
              "21         3     67.3  13.239344              0    1.50          3.04\n",
              "26         6    129.6  12.188088              0    1.54          3.12\n",
              "38         1     64.7  13.294521              0    1.50          3.24\n",
              "39         6     69.2  10.053269              0    1.60          3.25\n",
              "41         5     58.8  12.829091              0    1.68          3.28\n",
              "46         6     48.6  12.252101              0    1.66          3.33\n",
              "48         2     60.1  12.182432              0    1.55          3.36\n",
              "49         1     78.2  12.000000              0    1.64          3.39\n",
              "62         2     48.8  11.665339              0    1.66          3.56\n",
              "68         1     59.1  10.910769              0    1.75          3.65\n",
              "69         1     41.6  12.235294              0    1.80          3.67\n",
              "71         4     24.2  11.523810              2    1.76          3.69\n",
              "75         1     23.9  12.050420              3    1.85          3.78\n",
              "83         3     33.6  10.130653              2    1.94          3.93"
            ]
          },
          "metadata": {
            "tags": []
          },
          "execution_count": 397
        }
      ]
    },
    {
      "cell_type": "markdown",
      "metadata": {
        "id": "6-hbfaTeIUw3"
      },
      "source": [
        "Marcamos el valor a predecir"
      ]
    },
    {
      "cell_type": "code",
      "metadata": {
        "id": "MEWlelKrG8u5",
        "outputId": "8407e853-9b9d-4bb3-9a83-a564cbc32da9",
        "colab": {
          "base_uri": "https://localhost:8080/",
          "height": 723
        }
      },
      "source": [
        "etiquetas_entrenamiento = datos_entrenamiento.pop('MarathonTime')\n",
        "etiquetas_test = datos_test.pop('MarathonTime')"
      ],
      "execution_count": null,
      "outputs": [
        {
          "output_type": "error",
          "ename": "KeyError",
          "evalue": "ignored",
          "traceback": [
            "\u001b[0;31m---------------------------------------------------------------------------\u001b[0m",
            "\u001b[0;31mKeyError\u001b[0m                                  Traceback (most recent call last)",
            "\u001b[0;32m/usr/local/lib/python3.6/dist-packages/pandas/core/indexes/base.py\u001b[0m in \u001b[0;36mget_loc\u001b[0;34m(self, key, method, tolerance)\u001b[0m\n\u001b[1;32m   2645\u001b[0m             \u001b[0;32mtry\u001b[0m\u001b[0;34m:\u001b[0m\u001b[0;34m\u001b[0m\u001b[0;34m\u001b[0m\u001b[0m\n\u001b[0;32m-> 2646\u001b[0;31m                 \u001b[0;32mreturn\u001b[0m \u001b[0mself\u001b[0m\u001b[0;34m.\u001b[0m\u001b[0m_engine\u001b[0m\u001b[0;34m.\u001b[0m\u001b[0mget_loc\u001b[0m\u001b[0;34m(\u001b[0m\u001b[0mkey\u001b[0m\u001b[0;34m)\u001b[0m\u001b[0;34m\u001b[0m\u001b[0;34m\u001b[0m\u001b[0m\n\u001b[0m\u001b[1;32m   2647\u001b[0m             \u001b[0;32mexcept\u001b[0m \u001b[0mKeyError\u001b[0m\u001b[0;34m:\u001b[0m\u001b[0;34m\u001b[0m\u001b[0;34m\u001b[0m\u001b[0m\n",
            "\u001b[0;32mpandas/_libs/index.pyx\u001b[0m in \u001b[0;36mpandas._libs.index.IndexEngine.get_loc\u001b[0;34m()\u001b[0m\n",
            "\u001b[0;32mpandas/_libs/index.pyx\u001b[0m in \u001b[0;36mpandas._libs.index.IndexEngine.get_loc\u001b[0;34m()\u001b[0m\n",
            "\u001b[0;32mpandas/_libs/hashtable_class_helper.pxi\u001b[0m in \u001b[0;36mpandas._libs.hashtable.PyObjectHashTable.get_item\u001b[0;34m()\u001b[0m\n",
            "\u001b[0;32mpandas/_libs/hashtable_class_helper.pxi\u001b[0m in \u001b[0;36mpandas._libs.hashtable.PyObjectHashTable.get_item\u001b[0;34m()\u001b[0m\n",
            "\u001b[0;31mKeyError\u001b[0m: 'MarathonTime'",
            "\nDuring handling of the above exception, another exception occurred:\n",
            "\u001b[0;31mKeyError\u001b[0m                                  Traceback (most recent call last)",
            "\u001b[0;32m<ipython-input-402-38b445f45ecc>\u001b[0m in \u001b[0;36m<module>\u001b[0;34m()\u001b[0m\n\u001b[0;32m----> 1\u001b[0;31m \u001b[0metiquetas_entrenamiento\u001b[0m \u001b[0;34m=\u001b[0m \u001b[0mdatos_entrenamiento\u001b[0m\u001b[0;34m.\u001b[0m\u001b[0mpop\u001b[0m\u001b[0;34m(\u001b[0m\u001b[0;34m'MarathonTime'\u001b[0m\u001b[0;34m)\u001b[0m\u001b[0;34m\u001b[0m\u001b[0;34m\u001b[0m\u001b[0m\n\u001b[0m\u001b[1;32m      2\u001b[0m \u001b[0metiquetas_test\u001b[0m \u001b[0;34m=\u001b[0m \u001b[0mdatos_test\u001b[0m\u001b[0;34m.\u001b[0m\u001b[0mpop\u001b[0m\u001b[0;34m(\u001b[0m\u001b[0;34m'MarathonTime'\u001b[0m\u001b[0;34m)\u001b[0m\u001b[0;34m\u001b[0m\u001b[0;34m\u001b[0m\u001b[0m\n",
            "\u001b[0;32m/usr/local/lib/python3.6/dist-packages/pandas/core/generic.py\u001b[0m in \u001b[0;36mpop\u001b[0;34m(self, item)\u001b[0m\n\u001b[1;32m    788\u001b[0m         \u001b[0;36m3\u001b[0m  \u001b[0mmonkey\u001b[0m        \u001b[0mNaN\u001b[0m\u001b[0;34m\u001b[0m\u001b[0;34m\u001b[0m\u001b[0m\n\u001b[1;32m    789\u001b[0m         \"\"\"\n\u001b[0;32m--> 790\u001b[0;31m         \u001b[0mresult\u001b[0m \u001b[0;34m=\u001b[0m \u001b[0mself\u001b[0m\u001b[0;34m[\u001b[0m\u001b[0mitem\u001b[0m\u001b[0;34m]\u001b[0m\u001b[0;34m\u001b[0m\u001b[0;34m\u001b[0m\u001b[0m\n\u001b[0m\u001b[1;32m    791\u001b[0m         \u001b[0;32mdel\u001b[0m \u001b[0mself\u001b[0m\u001b[0;34m[\u001b[0m\u001b[0mitem\u001b[0m\u001b[0;34m]\u001b[0m\u001b[0;34m\u001b[0m\u001b[0;34m\u001b[0m\u001b[0m\n\u001b[1;32m    792\u001b[0m         \u001b[0;32mtry\u001b[0m\u001b[0;34m:\u001b[0m\u001b[0;34m\u001b[0m\u001b[0;34m\u001b[0m\u001b[0m\n",
            "\u001b[0;32m/usr/local/lib/python3.6/dist-packages/pandas/core/frame.py\u001b[0m in \u001b[0;36m__getitem__\u001b[0;34m(self, key)\u001b[0m\n\u001b[1;32m   2798\u001b[0m             \u001b[0;32mif\u001b[0m \u001b[0mself\u001b[0m\u001b[0;34m.\u001b[0m\u001b[0mcolumns\u001b[0m\u001b[0;34m.\u001b[0m\u001b[0mnlevels\u001b[0m \u001b[0;34m>\u001b[0m \u001b[0;36m1\u001b[0m\u001b[0;34m:\u001b[0m\u001b[0;34m\u001b[0m\u001b[0;34m\u001b[0m\u001b[0m\n\u001b[1;32m   2799\u001b[0m                 \u001b[0;32mreturn\u001b[0m \u001b[0mself\u001b[0m\u001b[0;34m.\u001b[0m\u001b[0m_getitem_multilevel\u001b[0m\u001b[0;34m(\u001b[0m\u001b[0mkey\u001b[0m\u001b[0;34m)\u001b[0m\u001b[0;34m\u001b[0m\u001b[0;34m\u001b[0m\u001b[0m\n\u001b[0;32m-> 2800\u001b[0;31m             \u001b[0mindexer\u001b[0m \u001b[0;34m=\u001b[0m \u001b[0mself\u001b[0m\u001b[0;34m.\u001b[0m\u001b[0mcolumns\u001b[0m\u001b[0;34m.\u001b[0m\u001b[0mget_loc\u001b[0m\u001b[0;34m(\u001b[0m\u001b[0mkey\u001b[0m\u001b[0;34m)\u001b[0m\u001b[0;34m\u001b[0m\u001b[0;34m\u001b[0m\u001b[0m\n\u001b[0m\u001b[1;32m   2801\u001b[0m             \u001b[0;32mif\u001b[0m \u001b[0mis_integer\u001b[0m\u001b[0;34m(\u001b[0m\u001b[0mindexer\u001b[0m\u001b[0;34m)\u001b[0m\u001b[0;34m:\u001b[0m\u001b[0;34m\u001b[0m\u001b[0;34m\u001b[0m\u001b[0m\n\u001b[1;32m   2802\u001b[0m                 \u001b[0mindexer\u001b[0m \u001b[0;34m=\u001b[0m \u001b[0;34m[\u001b[0m\u001b[0mindexer\u001b[0m\u001b[0;34m]\u001b[0m\u001b[0;34m\u001b[0m\u001b[0;34m\u001b[0m\u001b[0m\n",
            "\u001b[0;32m/usr/local/lib/python3.6/dist-packages/pandas/core/indexes/base.py\u001b[0m in \u001b[0;36mget_loc\u001b[0;34m(self, key, method, tolerance)\u001b[0m\n\u001b[1;32m   2646\u001b[0m                 \u001b[0;32mreturn\u001b[0m \u001b[0mself\u001b[0m\u001b[0;34m.\u001b[0m\u001b[0m_engine\u001b[0m\u001b[0;34m.\u001b[0m\u001b[0mget_loc\u001b[0m\u001b[0;34m(\u001b[0m\u001b[0mkey\u001b[0m\u001b[0;34m)\u001b[0m\u001b[0;34m\u001b[0m\u001b[0;34m\u001b[0m\u001b[0m\n\u001b[1;32m   2647\u001b[0m             \u001b[0;32mexcept\u001b[0m \u001b[0mKeyError\u001b[0m\u001b[0;34m:\u001b[0m\u001b[0;34m\u001b[0m\u001b[0;34m\u001b[0m\u001b[0m\n\u001b[0;32m-> 2648\u001b[0;31m                 \u001b[0;32mreturn\u001b[0m \u001b[0mself\u001b[0m\u001b[0;34m.\u001b[0m\u001b[0m_engine\u001b[0m\u001b[0;34m.\u001b[0m\u001b[0mget_loc\u001b[0m\u001b[0;34m(\u001b[0m\u001b[0mself\u001b[0m\u001b[0;34m.\u001b[0m\u001b[0m_maybe_cast_indexer\u001b[0m\u001b[0;34m(\u001b[0m\u001b[0mkey\u001b[0m\u001b[0;34m)\u001b[0m\u001b[0;34m)\u001b[0m\u001b[0;34m\u001b[0m\u001b[0;34m\u001b[0m\u001b[0m\n\u001b[0m\u001b[1;32m   2649\u001b[0m         \u001b[0mindexer\u001b[0m \u001b[0;34m=\u001b[0m \u001b[0mself\u001b[0m\u001b[0;34m.\u001b[0m\u001b[0mget_indexer\u001b[0m\u001b[0;34m(\u001b[0m\u001b[0;34m[\u001b[0m\u001b[0mkey\u001b[0m\u001b[0;34m]\u001b[0m\u001b[0;34m,\u001b[0m \u001b[0mmethod\u001b[0m\u001b[0;34m=\u001b[0m\u001b[0mmethod\u001b[0m\u001b[0;34m,\u001b[0m \u001b[0mtolerance\u001b[0m\u001b[0;34m=\u001b[0m\u001b[0mtolerance\u001b[0m\u001b[0;34m)\u001b[0m\u001b[0;34m\u001b[0m\u001b[0;34m\u001b[0m\u001b[0m\n\u001b[1;32m   2650\u001b[0m         \u001b[0;32mif\u001b[0m \u001b[0mindexer\u001b[0m\u001b[0;34m.\u001b[0m\u001b[0mndim\u001b[0m \u001b[0;34m>\u001b[0m \u001b[0;36m1\u001b[0m \u001b[0;32mor\u001b[0m \u001b[0mindexer\u001b[0m\u001b[0;34m.\u001b[0m\u001b[0msize\u001b[0m \u001b[0;34m>\u001b[0m \u001b[0;36m1\u001b[0m\u001b[0;34m:\u001b[0m\u001b[0;34m\u001b[0m\u001b[0;34m\u001b[0m\u001b[0m\n",
            "\u001b[0;32mpandas/_libs/index.pyx\u001b[0m in \u001b[0;36mpandas._libs.index.IndexEngine.get_loc\u001b[0;34m()\u001b[0m\n",
            "\u001b[0;32mpandas/_libs/index.pyx\u001b[0m in \u001b[0;36mpandas._libs.index.IndexEngine.get_loc\u001b[0;34m()\u001b[0m\n",
            "\u001b[0;32mpandas/_libs/hashtable_class_helper.pxi\u001b[0m in \u001b[0;36mpandas._libs.hashtable.PyObjectHashTable.get_item\u001b[0;34m()\u001b[0m\n",
            "\u001b[0;32mpandas/_libs/hashtable_class_helper.pxi\u001b[0m in \u001b[0;36mpandas._libs.hashtable.PyObjectHashTable.get_item\u001b[0;34m()\u001b[0m\n",
            "\u001b[0;31mKeyError\u001b[0m: 'MarathonTime'"
          ]
        }
      ]
    },
    {
      "cell_type": "code",
      "metadata": {
        "id": "k_ai6TuWHOhq",
        "outputId": "1428d932-fab4-4f90-a973-9d07bfbdf702",
        "colab": {
          "base_uri": "https://localhost:8080/",
          "height": 223
        }
      },
      "source": [
        "etiquetas_entrenamiento"
      ],
      "execution_count": null,
      "outputs": [
        {
          "output_type": "execute_result",
          "data": {
            "text/plain": [
              "54    3.47\n",
              "28    3.15\n",
              "31    3.19\n",
              "84    3.94\n",
              "47    3.35\n",
              "      ... \n",
              "55    3.50\n",
              "20    2.99\n",
              "79    3.90\n",
              "8     2.83\n",
              "13    2.88\n",
              "Name: MarathonTime, Length: 64, dtype: float64"
            ]
          },
          "metadata": {
            "tags": []
          },
          "execution_count": 399
        }
      ]
    },
    {
      "cell_type": "code",
      "metadata": {
        "id": "zQa_72qbHRQC",
        "outputId": "6a3cda32-f401-469b-d180-f538aa1bdf34",
        "colab": {
          "base_uri": "https://localhost:8080/",
          "height": 308
        }
      },
      "source": [
        "etiquetas_test"
      ],
      "execution_count": null,
      "outputs": [
        {
          "output_type": "execute_result",
          "data": {
            "text/plain": [
              "9     2.86\n",
              "12    2.88\n",
              "21    3.04\n",
              "26    3.12\n",
              "38    3.24\n",
              "39    3.25\n",
              "41    3.28\n",
              "46    3.33\n",
              "48    3.36\n",
              "49    3.39\n",
              "62    3.56\n",
              "68    3.65\n",
              "69    3.67\n",
              "71    3.69\n",
              "75    3.78\n",
              "83    3.93\n",
              "Name: MarathonTime, dtype: float64"
            ]
          },
          "metadata": {
            "tags": []
          },
          "execution_count": 400
        }
      ]
    },
    {
      "cell_type": "code",
      "metadata": {
        "id": "z5YlzUrJHUh6",
        "outputId": "b084163e-8b4d-4dc9-9fd9-f1a5547b9193",
        "colab": {
          "base_uri": "https://localhost:8080/",
          "height": 417
        }
      },
      "source": [
        "datos_entrenamiento"
      ],
      "execution_count": null,
      "outputs": [
        {
          "output_type": "execute_result",
          "data": {
            "text/html": [
              "<div>\n",
              "<style scoped>\n",
              "    .dataframe tbody tr th:only-of-type {\n",
              "        vertical-align: middle;\n",
              "    }\n",
              "\n",
              "    .dataframe tbody tr th {\n",
              "        vertical-align: top;\n",
              "    }\n",
              "\n",
              "    .dataframe thead th {\n",
              "        text-align: right;\n",
              "    }\n",
              "</style>\n",
              "<table border=\"1\" class=\"dataframe\">\n",
              "  <thead>\n",
              "    <tr style=\"text-align: right;\">\n",
              "      <th></th>\n",
              "      <th>Category</th>\n",
              "      <th>km4week</th>\n",
              "      <th>sp4week</th>\n",
              "      <th>CrossTraining</th>\n",
              "      <th>Wall21</th>\n",
              "    </tr>\n",
              "  </thead>\n",
              "  <tbody>\n",
              "    <tr>\n",
              "      <th>54</th>\n",
              "      <td>3</td>\n",
              "      <td>70.7</td>\n",
              "      <td>11.783333</td>\n",
              "      <td>0</td>\n",
              "      <td>1.77</td>\n",
              "    </tr>\n",
              "    <tr>\n",
              "      <th>28</th>\n",
              "      <td>2</td>\n",
              "      <td>51.6</td>\n",
              "      <td>13.008403</td>\n",
              "      <td>0</td>\n",
              "      <td>1.50</td>\n",
              "    </tr>\n",
              "    <tr>\n",
              "      <th>31</th>\n",
              "      <td>1</td>\n",
              "      <td>79.4</td>\n",
              "      <td>13.344538</td>\n",
              "      <td>0</td>\n",
              "      <td>1.60</td>\n",
              "    </tr>\n",
              "    <tr>\n",
              "      <th>84</th>\n",
              "      <td>3</td>\n",
              "      <td>55.4</td>\n",
              "      <td>11.043189</td>\n",
              "      <td>0</td>\n",
              "      <td>1.94</td>\n",
              "    </tr>\n",
              "    <tr>\n",
              "      <th>47</th>\n",
              "      <td>2</td>\n",
              "      <td>39.6</td>\n",
              "      <td>12.247423</td>\n",
              "      <td>0</td>\n",
              "      <td>1.67</td>\n",
              "    </tr>\n",
              "    <tr>\n",
              "      <th>...</th>\n",
              "      <td>...</td>\n",
              "      <td>...</td>\n",
              "      <td>...</td>\n",
              "      <td>...</td>\n",
              "      <td>...</td>\n",
              "    </tr>\n",
              "    <tr>\n",
              "      <th>55</th>\n",
              "      <td>1</td>\n",
              "      <td>26.9</td>\n",
              "      <td>13.121951</td>\n",
              "      <td>0</td>\n",
              "      <td>1.67</td>\n",
              "    </tr>\n",
              "    <tr>\n",
              "      <th>20</th>\n",
              "      <td>1</td>\n",
              "      <td>94.5</td>\n",
              "      <td>11.886792</td>\n",
              "      <td>0</td>\n",
              "      <td>1.45</td>\n",
              "    </tr>\n",
              "    <tr>\n",
              "      <th>79</th>\n",
              "      <td>1</td>\n",
              "      <td>53.9</td>\n",
              "      <td>11.802920</td>\n",
              "      <td>0</td>\n",
              "      <td>1.98</td>\n",
              "    </tr>\n",
              "    <tr>\n",
              "      <th>8</th>\n",
              "      <td>1</td>\n",
              "      <td>70.0</td>\n",
              "      <td>13.770492</td>\n",
              "      <td>1</td>\n",
              "      <td>1.38</td>\n",
              "    </tr>\n",
              "    <tr>\n",
              "      <th>13</th>\n",
              "      <td>3</td>\n",
              "      <td>84.4</td>\n",
              "      <td>13.836066</td>\n",
              "      <td>0</td>\n",
              "      <td>1.41</td>\n",
              "    </tr>\n",
              "  </tbody>\n",
              "</table>\n",
              "<p>64 rows × 5 columns</p>\n",
              "</div>"
            ],
            "text/plain": [
              "    Category  km4week    sp4week  CrossTraining  Wall21\n",
              "54         3     70.7  11.783333              0    1.77\n",
              "28         2     51.6  13.008403              0    1.50\n",
              "31         1     79.4  13.344538              0    1.60\n",
              "84         3     55.4  11.043189              0    1.94\n",
              "47         2     39.6  12.247423              0    1.67\n",
              "..       ...      ...        ...            ...     ...\n",
              "55         1     26.9  13.121951              0    1.67\n",
              "20         1     94.5  11.886792              0    1.45\n",
              "79         1     53.9  11.802920              0    1.98\n",
              "8          1     70.0  13.770492              1    1.38\n",
              "13         3     84.4  13.836066              0    1.41\n",
              "\n",
              "[64 rows x 5 columns]"
            ]
          },
          "metadata": {
            "tags": []
          },
          "execution_count": 401
        }
      ]
    },
    {
      "cell_type": "markdown",
      "metadata": {
        "id": "YUpefcOBIbGU"
      },
      "source": [
        "Vamos a entrenar nuestro modelo, una regresion lineal muy simple!"
      ]
    },
    {
      "cell_type": "code",
      "metadata": {
        "id": "TQOzjaq9zkY9",
        "outputId": "0e51b20a-b8d2-4613-a4b4-2527f8c024eb",
        "colab": {
          "base_uri": "https://localhost:8080/",
          "height": 34
        }
      },
      "source": [
        "from sklearn.linear_model import LinearRegression\n",
        "modelo = LinearRegression()\n",
        "modelo.fit(datos_entrenamiento,etiquetas_entrenamiento)"
      ],
      "execution_count": null,
      "outputs": [
        {
          "output_type": "execute_result",
          "data": {
            "text/plain": [
              "LinearRegression(copy_X=True, fit_intercept=True, n_jobs=None, normalize=False)"
            ]
          },
          "metadata": {
            "tags": []
          },
          "execution_count": 403
        }
      ]
    },
    {
      "cell_type": "markdown",
      "metadata": {
        "id": "Pm9X2Ij-IkEL"
      },
      "source": [
        "Ejecuto las predicciones para los datos de test que habia \"guardado\""
      ]
    },
    {
      "cell_type": "code",
      "metadata": {
        "id": "xNw9yKH5z72Y",
        "outputId": "02f05789-7591-4df1-ed43-31b1a7a77409",
        "colab": {
          "base_uri": "https://localhost:8080/",
          "height": 86
        }
      },
      "source": [
        "predicciones = modelo.predict(datos_test)\n",
        "predicciones"
      ],
      "execution_count": null,
      "outputs": [
        {
          "output_type": "execute_result",
          "data": {
            "text/plain": [
              "array([2.79390706, 2.81599412, 3.05747527, 3.0497715 , 3.0601308 ,\n",
              "       3.29473308, 3.36211907, 3.36226188, 3.17473152, 3.29138286,\n",
              "       3.37757783, 3.5216523 , 3.5919168 , 3.55016407, 3.66416024,\n",
              "       3.85281097])"
            ]
          },
          "metadata": {
            "tags": []
          },
          "execution_count": 404
        }
      ]
    },
    {
      "cell_type": "markdown",
      "metadata": {
        "id": "Wsp4ZeLVIsU8"
      },
      "source": [
        "Los comparo con el valor real"
      ]
    },
    {
      "cell_type": "code",
      "metadata": {
        "id": "yZWqFk0p0G0V",
        "outputId": "a6bdc493-c13a-4380-d0ba-a004cdef78df",
        "colab": {
          "base_uri": "https://localhost:8080/",
          "height": 34
        }
      },
      "source": [
        "import numpy as np\n",
        "from sklearn.metrics import mean_squared_error\n",
        "error = np.sqrt(mean_squared_error(etiquetas_test, predicciones))\n",
        "print(\"Error porcentual : %f\" % (error*100))"
      ],
      "execution_count": null,
      "outputs": [
        {
          "output_type": "stream",
          "text": [
            "Error porcentual : 11.030345\n"
          ],
          "name": "stdout"
        }
      ]
    },
    {
      "cell_type": "markdown",
      "metadata": {
        "id": "uYTJ4EMsI8a1"
      },
      "source": [
        "No esta mal, mis predicciones tendra un grado de acierto de 11%"
      ]
    },
    {
      "cell_type": "markdown",
      "metadata": {
        "id": "I2dLl3kLJHbv"
      },
      "source": [
        "Ejecuto una prediccion para un nuevo corredor"
      ]
    },
    {
      "cell_type": "code",
      "metadata": {
        "id": "JUHieMrdMPM5",
        "outputId": "8cebea88-fbad-49d9-8daa-6a442dd38d95",
        "colab": {
          "base_uri": "https://localhost:8080/",
          "height": 79
        }
      },
      "source": [
        "nuevo_corredor = pd.DataFrame(np.array([[1,400,20,0,1.4]]),columns=['Category', 'km4week','sp4week', 'CrossTraining','Wall21'])\n",
        "nuevo_corredor"
      ],
      "execution_count": null,
      "outputs": [
        {
          "output_type": "execute_result",
          "data": {
            "text/html": [
              "<div>\n",
              "<style scoped>\n",
              "    .dataframe tbody tr th:only-of-type {\n",
              "        vertical-align: middle;\n",
              "    }\n",
              "\n",
              "    .dataframe tbody tr th {\n",
              "        vertical-align: top;\n",
              "    }\n",
              "\n",
              "    .dataframe thead th {\n",
              "        text-align: right;\n",
              "    }\n",
              "</style>\n",
              "<table border=\"1\" class=\"dataframe\">\n",
              "  <thead>\n",
              "    <tr style=\"text-align: right;\">\n",
              "      <th></th>\n",
              "      <th>Category</th>\n",
              "      <th>km4week</th>\n",
              "      <th>sp4week</th>\n",
              "      <th>CrossTraining</th>\n",
              "      <th>Wall21</th>\n",
              "    </tr>\n",
              "  </thead>\n",
              "  <tbody>\n",
              "    <tr>\n",
              "      <th>0</th>\n",
              "      <td>1.0</td>\n",
              "      <td>400.0</td>\n",
              "      <td>20.0</td>\n",
              "      <td>0.0</td>\n",
              "      <td>1.4</td>\n",
              "    </tr>\n",
              "  </tbody>\n",
              "</table>\n",
              "</div>"
            ],
            "text/plain": [
              "   Category  km4week  sp4week  CrossTraining  Wall21\n",
              "0       1.0    400.0     20.0            0.0     1.4"
            ]
          },
          "metadata": {
            "tags": []
          },
          "execution_count": 409
        }
      ]
    },
    {
      "cell_type": "code",
      "metadata": {
        "id": "MtVUQj-INw7o",
        "outputId": "ded79a4c-a45b-4cd7-cae1-91fd2d1bbfe4",
        "colab": {
          "base_uri": "https://localhost:8080/",
          "height": 34
        }
      },
      "source": [
        "modelo.predict(nuevo_corredor)"
      ],
      "execution_count": null,
      "outputs": [
        {
          "output_type": "execute_result",
          "data": {
            "text/plain": [
              "array([2.199872])"
            ]
          },
          "metadata": {
            "tags": []
          },
          "execution_count": 410
        }
      ]
    }
  ]
}