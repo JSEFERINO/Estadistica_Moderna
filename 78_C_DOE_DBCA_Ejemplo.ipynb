{
  "cells": [
    {
      "cell_type": "markdown",
      "metadata": {
        "id": "view-in-github",
        "colab_type": "text"
      },
      "source": [
        "<a href=\"https://colab.research.google.com/github/JSEFERINO/Estadistica_Moderna/blob/main/78_C_DOE_DBCA_Ejemplo.ipynb\" target=\"_parent\"><img src=\"https://colab.research.google.com/assets/colab-badge.svg\" alt=\"Open In Colab\"/></a>"
      ]
    },
    {
      "cell_type": "markdown",
      "metadata": {
        "id": "OKPoQK5e2fS-"
      },
      "source": [
        "# **Diseño de Experimentos 2023**\n",
        "## **TEMA 1: Diseños completamente aleatorizados DCA**\n",
        "### **1.1 Librerias básicas**\n"
      ]
    },
    {
      "cell_type": "code",
      "execution_count": null,
      "metadata": {
        "id": "4VUZUNm41rSg"
      },
      "outputs": [],
      "source": [
        "import pandas as pd\n",
        "import numpy as np\n",
        "import matplotlib.pyplot as plt\n",
        "import matplotlib.colors as mcolors\n",
        "import seaborn as sns\n",
        "import statsmodels\n",
        "import statsmodels.api as sm\n",
        "from statsmodels.formula.api import ols\n",
        "from statsmodels.stats.multicomp import pairwise_tukeyhsd\n",
        "import statsmodels.formula.api as smf\n",
        "import scipy.stats as stats\n"
      ]
    },
    {
      "cell_type": "markdown",
      "metadata": {
        "id": "LMg-7FEruXJ_"
      },
      "source": [
        "# **2.0. Diseños en Bloques Completos al Azar - DBCA**\n",
        "\n",
        "### **2.1 Problema de Aplicación.** _Se evalúa la eficacia de sulfato ferroso a 4 diferentes concentraciones $2$, $2.5$, $3$, y $4$ $mg/kg/día$ para combatir la anemia en personas con desnutrición. Dada la variabilidad de pesos y sexos, se decidió agrupar en bloque de personas por pesos lo más semejantes posibles. Se les dio el tratamiento durante 4 meses y se procedió a determinar su volumen sanguíneo dando los siguientes resultados:_\n",
        "\n",
        "|Pesos\\Tratamientos|T1 |T2| T3| T4| Total ($Y_{.j}$)|\n",
        "|:--:|:--:|:--:|:--:|:--:|:--:|\n",
        "|I |4.1| 6.5| 4.1| 4.9| 19.6|\n",
        "|II |4.1| 5.3| 4.0| 6.2| 19.6|\n",
        "|III |6.5| 6.9| 4.5| 4.8| 22.7|\n",
        "|IV |4.3| 6.8| 4.3| 4.2| 19.6|\n",
        "|V |6.0| 6.5| 4.1| 6.9| 23.5|\n",
        "|Total Tratamiento ($Y_i.$)| 25| 32| 21| 27| 105|\n",
        "\n",
        "- **Las hipótesis a probar: Para los tratamientos**\n",
        "$$H_{01}: \\mu_{T_1}=\\mu_{T_2}=\\mu_{T_3}=\\mu_{T_4}$$ $$Vs$$ $$H_{a1}: \\mu_{T_i}\\neq\\mu_{T_j}$$ _Al menos un tratamiento es diferente_\n",
        "\n",
        "- **Las hipótesis a probar: Para los Bloques**\n",
        "$$H_{02}: \\mu_{B_1}=\\mu_{B_2}=\\mu_{B_3}=\\mu_{B_4}=\\mu_{B_4}$$ $$Vs$$ $$H_{a2}: \\mu_{B_i}\\neq\\mu_{B_j}$$  _Al menos un bloque (pesos) es\n",
        "diferente_"
      ]
    },
    {
      "cell_type": "markdown",
      "metadata": {
        "id": "yKPrt5k8VQHe"
      },
      "source": [
        "# **2.2 El DataFrame de los datos**"
      ]
    },
    {
      "cell_type": "code",
      "execution_count": null,
      "metadata": {
        "colab": {
          "base_uri": "https://localhost:8080/",
          "height": 677
        },
        "id": "Zo-FC7Bh08m3",
        "outputId": "16ae7e73-ad04-4308-eb9a-8a003372f0c8"
      },
      "outputs": [
        {
          "output_type": "execute_result",
          "data": {
            "text/plain": [
              "   Pesos S_Ferroso  V_Sanguineo\n",
              "0     B1        T1          4.1\n",
              "1     B1        T2          6.5\n",
              "2     B1        T3          4.1\n",
              "3     B1        T4          4.9\n",
              "4     B2        T1          4.1\n",
              "5     B2        T2          5.3\n",
              "6     B2        T3          4.0\n",
              "7     B2        T4          6.2\n",
              "8     B3        T1          6.5\n",
              "9     B3        T2          6.9\n",
              "10    B3        T3          4.5\n",
              "11    B3        T4          4.8\n",
              "12    B4        T1          4.3\n",
              "13    B4        T2          6.8\n",
              "14    B4        T3          4.3\n",
              "15    B4        T4          4.2\n",
              "16    B5        T1          6.0\n",
              "17    B5        T2          6.5\n",
              "18    B5        T3          4.1\n",
              "19    B5        T4          6.9"
            ],
            "text/html": [
              "\n",
              "  <div id=\"df-63271f0b-e131-4d61-95bc-5caafb319f3c\">\n",
              "    <div class=\"colab-df-container\">\n",
              "      <div>\n",
              "<style scoped>\n",
              "    .dataframe tbody tr th:only-of-type {\n",
              "        vertical-align: middle;\n",
              "    }\n",
              "\n",
              "    .dataframe tbody tr th {\n",
              "        vertical-align: top;\n",
              "    }\n",
              "\n",
              "    .dataframe thead th {\n",
              "        text-align: right;\n",
              "    }\n",
              "</style>\n",
              "<table border=\"1\" class=\"dataframe\">\n",
              "  <thead>\n",
              "    <tr style=\"text-align: right;\">\n",
              "      <th></th>\n",
              "      <th>Pesos</th>\n",
              "      <th>S_Ferroso</th>\n",
              "      <th>V_Sanguineo</th>\n",
              "    </tr>\n",
              "  </thead>\n",
              "  <tbody>\n",
              "    <tr>\n",
              "      <th>0</th>\n",
              "      <td>B1</td>\n",
              "      <td>T1</td>\n",
              "      <td>4.1</td>\n",
              "    </tr>\n",
              "    <tr>\n",
              "      <th>1</th>\n",
              "      <td>B1</td>\n",
              "      <td>T2</td>\n",
              "      <td>6.5</td>\n",
              "    </tr>\n",
              "    <tr>\n",
              "      <th>2</th>\n",
              "      <td>B1</td>\n",
              "      <td>T3</td>\n",
              "      <td>4.1</td>\n",
              "    </tr>\n",
              "    <tr>\n",
              "      <th>3</th>\n",
              "      <td>B1</td>\n",
              "      <td>T4</td>\n",
              "      <td>4.9</td>\n",
              "    </tr>\n",
              "    <tr>\n",
              "      <th>4</th>\n",
              "      <td>B2</td>\n",
              "      <td>T1</td>\n",
              "      <td>4.1</td>\n",
              "    </tr>\n",
              "    <tr>\n",
              "      <th>5</th>\n",
              "      <td>B2</td>\n",
              "      <td>T2</td>\n",
              "      <td>5.3</td>\n",
              "    </tr>\n",
              "    <tr>\n",
              "      <th>6</th>\n",
              "      <td>B2</td>\n",
              "      <td>T3</td>\n",
              "      <td>4.0</td>\n",
              "    </tr>\n",
              "    <tr>\n",
              "      <th>7</th>\n",
              "      <td>B2</td>\n",
              "      <td>T4</td>\n",
              "      <td>6.2</td>\n",
              "    </tr>\n",
              "    <tr>\n",
              "      <th>8</th>\n",
              "      <td>B3</td>\n",
              "      <td>T1</td>\n",
              "      <td>6.5</td>\n",
              "    </tr>\n",
              "    <tr>\n",
              "      <th>9</th>\n",
              "      <td>B3</td>\n",
              "      <td>T2</td>\n",
              "      <td>6.9</td>\n",
              "    </tr>\n",
              "    <tr>\n",
              "      <th>10</th>\n",
              "      <td>B3</td>\n",
              "      <td>T3</td>\n",
              "      <td>4.5</td>\n",
              "    </tr>\n",
              "    <tr>\n",
              "      <th>11</th>\n",
              "      <td>B3</td>\n",
              "      <td>T4</td>\n",
              "      <td>4.8</td>\n",
              "    </tr>\n",
              "    <tr>\n",
              "      <th>12</th>\n",
              "      <td>B4</td>\n",
              "      <td>T1</td>\n",
              "      <td>4.3</td>\n",
              "    </tr>\n",
              "    <tr>\n",
              "      <th>13</th>\n",
              "      <td>B4</td>\n",
              "      <td>T2</td>\n",
              "      <td>6.8</td>\n",
              "    </tr>\n",
              "    <tr>\n",
              "      <th>14</th>\n",
              "      <td>B4</td>\n",
              "      <td>T3</td>\n",
              "      <td>4.3</td>\n",
              "    </tr>\n",
              "    <tr>\n",
              "      <th>15</th>\n",
              "      <td>B4</td>\n",
              "      <td>T4</td>\n",
              "      <td>4.2</td>\n",
              "    </tr>\n",
              "    <tr>\n",
              "      <th>16</th>\n",
              "      <td>B5</td>\n",
              "      <td>T1</td>\n",
              "      <td>6.0</td>\n",
              "    </tr>\n",
              "    <tr>\n",
              "      <th>17</th>\n",
              "      <td>B5</td>\n",
              "      <td>T2</td>\n",
              "      <td>6.5</td>\n",
              "    </tr>\n",
              "    <tr>\n",
              "      <th>18</th>\n",
              "      <td>B5</td>\n",
              "      <td>T3</td>\n",
              "      <td>4.1</td>\n",
              "    </tr>\n",
              "    <tr>\n",
              "      <th>19</th>\n",
              "      <td>B5</td>\n",
              "      <td>T4</td>\n",
              "      <td>6.9</td>\n",
              "    </tr>\n",
              "  </tbody>\n",
              "</table>\n",
              "</div>\n",
              "      <button class=\"colab-df-convert\" onclick=\"convertToInteractive('df-63271f0b-e131-4d61-95bc-5caafb319f3c')\"\n",
              "              title=\"Convert this dataframe to an interactive table.\"\n",
              "              style=\"display:none;\">\n",
              "        \n",
              "  <svg xmlns=\"http://www.w3.org/2000/svg\" height=\"24px\"viewBox=\"0 0 24 24\"\n",
              "       width=\"24px\">\n",
              "    <path d=\"M0 0h24v24H0V0z\" fill=\"none\"/>\n",
              "    <path d=\"M18.56 5.44l.94 2.06.94-2.06 2.06-.94-2.06-.94-.94-2.06-.94 2.06-2.06.94zm-11 1L8.5 8.5l.94-2.06 2.06-.94-2.06-.94L8.5 2.5l-.94 2.06-2.06.94zm10 10l.94 2.06.94-2.06 2.06-.94-2.06-.94-.94-2.06-.94 2.06-2.06.94z\"/><path d=\"M17.41 7.96l-1.37-1.37c-.4-.4-.92-.59-1.43-.59-.52 0-1.04.2-1.43.59L10.3 9.45l-7.72 7.72c-.78.78-.78 2.05 0 2.83L4 21.41c.39.39.9.59 1.41.59.51 0 1.02-.2 1.41-.59l7.78-7.78 2.81-2.81c.8-.78.8-2.07 0-2.86zM5.41 20L4 18.59l7.72-7.72 1.47 1.35L5.41 20z\"/>\n",
              "  </svg>\n",
              "      </button>\n",
              "      \n",
              "  <style>\n",
              "    .colab-df-container {\n",
              "      display:flex;\n",
              "      flex-wrap:wrap;\n",
              "      gap: 12px;\n",
              "    }\n",
              "\n",
              "    .colab-df-convert {\n",
              "      background-color: #E8F0FE;\n",
              "      border: none;\n",
              "      border-radius: 50%;\n",
              "      cursor: pointer;\n",
              "      display: none;\n",
              "      fill: #1967D2;\n",
              "      height: 32px;\n",
              "      padding: 0 0 0 0;\n",
              "      width: 32px;\n",
              "    }\n",
              "\n",
              "    .colab-df-convert:hover {\n",
              "      background-color: #E2EBFA;\n",
              "      box-shadow: 0px 1px 2px rgba(60, 64, 67, 0.3), 0px 1px 3px 1px rgba(60, 64, 67, 0.15);\n",
              "      fill: #174EA6;\n",
              "    }\n",
              "\n",
              "    [theme=dark] .colab-df-convert {\n",
              "      background-color: #3B4455;\n",
              "      fill: #D2E3FC;\n",
              "    }\n",
              "\n",
              "    [theme=dark] .colab-df-convert:hover {\n",
              "      background-color: #434B5C;\n",
              "      box-shadow: 0px 1px 3px 1px rgba(0, 0, 0, 0.15);\n",
              "      filter: drop-shadow(0px 1px 2px rgba(0, 0, 0, 0.3));\n",
              "      fill: #FFFFFF;\n",
              "    }\n",
              "  </style>\n",
              "\n",
              "      <script>\n",
              "        const buttonEl =\n",
              "          document.querySelector('#df-63271f0b-e131-4d61-95bc-5caafb319f3c button.colab-df-convert');\n",
              "        buttonEl.style.display =\n",
              "          google.colab.kernel.accessAllowed ? 'block' : 'none';\n",
              "\n",
              "        async function convertToInteractive(key) {\n",
              "          const element = document.querySelector('#df-63271f0b-e131-4d61-95bc-5caafb319f3c');\n",
              "          const dataTable =\n",
              "            await google.colab.kernel.invokeFunction('convertToInteractive',\n",
              "                                                     [key], {});\n",
              "          if (!dataTable) return;\n",
              "\n",
              "          const docLinkHtml = 'Like what you see? Visit the ' +\n",
              "            '<a target=\"_blank\" href=https://colab.research.google.com/notebooks/data_table.ipynb>data table notebook</a>'\n",
              "            + ' to learn more about interactive tables.';\n",
              "          element.innerHTML = '';\n",
              "          dataTable['output_type'] = 'display_data';\n",
              "          await google.colab.output.renderOutput(dataTable, element);\n",
              "          const docLink = document.createElement('div');\n",
              "          docLink.innerHTML = docLinkHtml;\n",
              "          element.appendChild(docLink);\n",
              "        }\n",
              "      </script>\n",
              "    </div>\n",
              "  </div>\n",
              "  "
            ]
          },
          "metadata": {},
          "execution_count": 37
        }
      ],
      "source": [
        "# **2.2 El DataFrame de los datos**\n",
        "Pesos = (['B1']*4+['B2']*4+['B3']*4+['B4']*4+['B5']*4)*1\n",
        "S_Ferroso = (['T1']*1+['T2']*1+['T3']*1+['T4']*1)*5\n",
        "V_Sanguineo =[4.1, 6.5, 4.1, 4.9,  4.1, 5.3, 4.0, 6.2,  6.5, 6.9, 4.5, 4.8, 4.3, 6.8, 4.3, 4.2,  6.0, 6.5, 4.1, 6.9]\n",
        "dic_DBCA ={'Pesos': Pesos,'S_Ferroso': S_Ferroso, 'V_Sanguineo':V_Sanguineo}\n",
        "\n",
        "DBCA  = pd.DataFrame(dic_DBCA)\n",
        "DBCA"
      ]
    },
    {
      "cell_type": "markdown",
      "metadata": {
        "id": "dfCI2RmmVtgM"
      },
      "source": [
        "# **2.3. Analisis descriptivo de la variable**"
      ]
    },
    {
      "cell_type": "code",
      "execution_count": null,
      "metadata": {
        "colab": {
          "base_uri": "https://localhost:8080/",
          "height": 300
        },
        "id": "3Aqo5PkHOSmW",
        "outputId": "ec9d355c-6f4d-423e-8073-2664ac7dbcbb"
      },
      "outputs": [
        {
          "output_type": "execute_result",
          "data": {
            "text/plain": [
              "       V_Sanguineo\n",
              "count    20.000000\n",
              "mean      5.250000\n",
              "std       1.139021\n",
              "min       4.000000\n",
              "25%       4.175000\n",
              "50%       4.850000\n",
              "75%       6.500000\n",
              "max       6.900000"
            ],
            "text/html": [
              "\n",
              "  <div id=\"df-ca309a08-1b01-42f1-8224-c7e893f361ef\">\n",
              "    <div class=\"colab-df-container\">\n",
              "      <div>\n",
              "<style scoped>\n",
              "    .dataframe tbody tr th:only-of-type {\n",
              "        vertical-align: middle;\n",
              "    }\n",
              "\n",
              "    .dataframe tbody tr th {\n",
              "        vertical-align: top;\n",
              "    }\n",
              "\n",
              "    .dataframe thead th {\n",
              "        text-align: right;\n",
              "    }\n",
              "</style>\n",
              "<table border=\"1\" class=\"dataframe\">\n",
              "  <thead>\n",
              "    <tr style=\"text-align: right;\">\n",
              "      <th></th>\n",
              "      <th>V_Sanguineo</th>\n",
              "    </tr>\n",
              "  </thead>\n",
              "  <tbody>\n",
              "    <tr>\n",
              "      <th>count</th>\n",
              "      <td>20.000000</td>\n",
              "    </tr>\n",
              "    <tr>\n",
              "      <th>mean</th>\n",
              "      <td>5.250000</td>\n",
              "    </tr>\n",
              "    <tr>\n",
              "      <th>std</th>\n",
              "      <td>1.139021</td>\n",
              "    </tr>\n",
              "    <tr>\n",
              "      <th>min</th>\n",
              "      <td>4.000000</td>\n",
              "    </tr>\n",
              "    <tr>\n",
              "      <th>25%</th>\n",
              "      <td>4.175000</td>\n",
              "    </tr>\n",
              "    <tr>\n",
              "      <th>50%</th>\n",
              "      <td>4.850000</td>\n",
              "    </tr>\n",
              "    <tr>\n",
              "      <th>75%</th>\n",
              "      <td>6.500000</td>\n",
              "    </tr>\n",
              "    <tr>\n",
              "      <th>max</th>\n",
              "      <td>6.900000</td>\n",
              "    </tr>\n",
              "  </tbody>\n",
              "</table>\n",
              "</div>\n",
              "      <button class=\"colab-df-convert\" onclick=\"convertToInteractive('df-ca309a08-1b01-42f1-8224-c7e893f361ef')\"\n",
              "              title=\"Convert this dataframe to an interactive table.\"\n",
              "              style=\"display:none;\">\n",
              "        \n",
              "  <svg xmlns=\"http://www.w3.org/2000/svg\" height=\"24px\"viewBox=\"0 0 24 24\"\n",
              "       width=\"24px\">\n",
              "    <path d=\"M0 0h24v24H0V0z\" fill=\"none\"/>\n",
              "    <path d=\"M18.56 5.44l.94 2.06.94-2.06 2.06-.94-2.06-.94-.94-2.06-.94 2.06-2.06.94zm-11 1L8.5 8.5l.94-2.06 2.06-.94-2.06-.94L8.5 2.5l-.94 2.06-2.06.94zm10 10l.94 2.06.94-2.06 2.06-.94-2.06-.94-.94-2.06-.94 2.06-2.06.94z\"/><path d=\"M17.41 7.96l-1.37-1.37c-.4-.4-.92-.59-1.43-.59-.52 0-1.04.2-1.43.59L10.3 9.45l-7.72 7.72c-.78.78-.78 2.05 0 2.83L4 21.41c.39.39.9.59 1.41.59.51 0 1.02-.2 1.41-.59l7.78-7.78 2.81-2.81c.8-.78.8-2.07 0-2.86zM5.41 20L4 18.59l7.72-7.72 1.47 1.35L5.41 20z\"/>\n",
              "  </svg>\n",
              "      </button>\n",
              "      \n",
              "  <style>\n",
              "    .colab-df-container {\n",
              "      display:flex;\n",
              "      flex-wrap:wrap;\n",
              "      gap: 12px;\n",
              "    }\n",
              "\n",
              "    .colab-df-convert {\n",
              "      background-color: #E8F0FE;\n",
              "      border: none;\n",
              "      border-radius: 50%;\n",
              "      cursor: pointer;\n",
              "      display: none;\n",
              "      fill: #1967D2;\n",
              "      height: 32px;\n",
              "      padding: 0 0 0 0;\n",
              "      width: 32px;\n",
              "    }\n",
              "\n",
              "    .colab-df-convert:hover {\n",
              "      background-color: #E2EBFA;\n",
              "      box-shadow: 0px 1px 2px rgba(60, 64, 67, 0.3), 0px 1px 3px 1px rgba(60, 64, 67, 0.15);\n",
              "      fill: #174EA6;\n",
              "    }\n",
              "\n",
              "    [theme=dark] .colab-df-convert {\n",
              "      background-color: #3B4455;\n",
              "      fill: #D2E3FC;\n",
              "    }\n",
              "\n",
              "    [theme=dark] .colab-df-convert:hover {\n",
              "      background-color: #434B5C;\n",
              "      box-shadow: 0px 1px 3px 1px rgba(0, 0, 0, 0.15);\n",
              "      filter: drop-shadow(0px 1px 2px rgba(0, 0, 0, 0.3));\n",
              "      fill: #FFFFFF;\n",
              "    }\n",
              "  </style>\n",
              "\n",
              "      <script>\n",
              "        const buttonEl =\n",
              "          document.querySelector('#df-ca309a08-1b01-42f1-8224-c7e893f361ef button.colab-df-convert');\n",
              "        buttonEl.style.display =\n",
              "          google.colab.kernel.accessAllowed ? 'block' : 'none';\n",
              "\n",
              "        async function convertToInteractive(key) {\n",
              "          const element = document.querySelector('#df-ca309a08-1b01-42f1-8224-c7e893f361ef');\n",
              "          const dataTable =\n",
              "            await google.colab.kernel.invokeFunction('convertToInteractive',\n",
              "                                                     [key], {});\n",
              "          if (!dataTable) return;\n",
              "\n",
              "          const docLinkHtml = 'Like what you see? Visit the ' +\n",
              "            '<a target=\"_blank\" href=https://colab.research.google.com/notebooks/data_table.ipynb>data table notebook</a>'\n",
              "            + ' to learn more about interactive tables.';\n",
              "          element.innerHTML = '';\n",
              "          dataTable['output_type'] = 'display_data';\n",
              "          await google.colab.output.renderOutput(dataTable, element);\n",
              "          const docLink = document.createElement('div');\n",
              "          docLink.innerHTML = docLinkHtml;\n",
              "          element.appendChild(docLink);\n",
              "        }\n",
              "      </script>\n",
              "    </div>\n",
              "  </div>\n",
              "  "
            ]
          },
          "metadata": {},
          "execution_count": 38
        }
      ],
      "source": [
        "# **2.3. Analisis descriptivo de la variable**\n",
        "DBCA.describe()\n"
      ]
    },
    {
      "cell_type": "markdown",
      "metadata": {
        "id": "PuKoFeMIWgtT"
      },
      "source": [
        "# **2.4 Acediendo a algunos atributos del DataFrame**"
      ]
    },
    {
      "cell_type": "code",
      "execution_count": null,
      "metadata": {
        "colab": {
          "base_uri": "https://localhost:8080/"
        },
        "id": "9bgKv6BR08sE",
        "outputId": "d9cfe09f-90c8-4532-c5e2-59fbafcdb315"
      },
      "outputs": [
        {
          "output_type": "execute_result",
          "data": {
            "text/plain": [
              "Index(['Pesos', 'S_Ferroso', 'V_Sanguineo'], dtype='object')"
            ]
          },
          "metadata": {},
          "execution_count": 39
        }
      ],
      "source": [
        "# **a Acediendo al atributo columns**\n",
        "DBCA.columns"
      ]
    },
    {
      "cell_type": "code",
      "execution_count": null,
      "metadata": {
        "colab": {
          "base_uri": "https://localhost:8080/"
        },
        "id": "4SQF-PSW08wS",
        "outputId": "54f605af-bd5c-4e51-cadf-93d7defc6f58"
      },
      "outputs": [
        {
          "output_type": "execute_result",
          "data": {
            "text/plain": [
              "Pesos           object\n",
              "S_Ferroso       object\n",
              "V_Sanguineo    float64\n",
              "dtype: object"
            ]
          },
          "metadata": {},
          "execution_count": 40
        }
      ],
      "source": [
        "# **b Accediendo al atributo tipo de datos de cada columna**\n",
        "DBCA.dtypes"
      ]
    },
    {
      "cell_type": "code",
      "execution_count": null,
      "metadata": {
        "colab": {
          "base_uri": "https://localhost:8080/"
        },
        "id": "iomJNQzC080F",
        "outputId": "5e6a933c-7342-4ce0-b614-5e8087680dee"
      },
      "outputs": [
        {
          "output_type": "execute_result",
          "data": {
            "text/plain": [
              "B1    4\n",
              "B2    4\n",
              "B3    4\n",
              "B4    4\n",
              "B5    4\n",
              "Name: Pesos, dtype: int64"
            ]
          },
          "metadata": {},
          "execution_count": 41
        }
      ],
      "source": [
        "#**c. Contar las observaciones**\n",
        "DBCA[\"Pesos\"].value_counts()"
      ]
    },
    {
      "cell_type": "code",
      "execution_count": null,
      "metadata": {
        "colab": {
          "base_uri": "https://localhost:8080/"
        },
        "id": "zLmFre0Z083n",
        "outputId": "73f28b81-430c-4ec9-af34-9b42f4991d7e"
      },
      "outputs": [
        {
          "output_type": "execute_result",
          "data": {
            "text/plain": [
              "T1    5\n",
              "T2    5\n",
              "T3    5\n",
              "T4    5\n",
              "Name: S_Ferroso, dtype: int64"
            ]
          },
          "metadata": {},
          "execution_count": 42
        }
      ],
      "source": [
        "#**d. Contar las observaciones**\n",
        "DBCA[\"S_Ferroso\"].value_counts()"
      ]
    },
    {
      "cell_type": "code",
      "execution_count": null,
      "metadata": {
        "colab": {
          "base_uri": "https://localhost:8080/"
        },
        "id": "mn1Oz4qv087h",
        "outputId": "7d354859-9323-42ef-a6f9-b6271805216c"
      },
      "outputs": [
        {
          "output_type": "execute_result",
          "data": {
            "text/plain": [
              "4.1    4\n",
              "6.5    3\n",
              "6.9    2\n",
              "4.3    2\n",
              "4.9    1\n",
              "5.3    1\n",
              "4.0    1\n",
              "6.2    1\n",
              "4.5    1\n",
              "4.8    1\n",
              "6.8    1\n",
              "4.2    1\n",
              "6.0    1\n",
              "Name: V_Sanguineo, dtype: int64"
            ]
          },
          "metadata": {},
          "execution_count": 43
        }
      ],
      "source": [
        "#**e. Contar las observaciones**\n",
        "DBCA[\"V_Sanguineo\"].value_counts()"
      ]
    },
    {
      "cell_type": "code",
      "execution_count": null,
      "metadata": {
        "colab": {
          "base_uri": "https://localhost:8080/",
          "height": 300
        },
        "id": "S94HY--K08-2",
        "outputId": "78e055fe-7fd5-448f-8d30-cd673212b227"
      },
      "outputs": [
        {
          "output_type": "execute_result",
          "data": {
            "text/plain": [
              "       V_Sanguineo\n",
              "count    20.000000\n",
              "mean      5.250000\n",
              "std       1.139021\n",
              "min       4.000000\n",
              "25%       4.175000\n",
              "50%       4.850000\n",
              "75%       6.500000\n",
              "max       6.900000"
            ],
            "text/html": [
              "\n",
              "  <div id=\"df-4e241626-225f-4db6-89ff-d2ae9843c34c\">\n",
              "    <div class=\"colab-df-container\">\n",
              "      <div>\n",
              "<style scoped>\n",
              "    .dataframe tbody tr th:only-of-type {\n",
              "        vertical-align: middle;\n",
              "    }\n",
              "\n",
              "    .dataframe tbody tr th {\n",
              "        vertical-align: top;\n",
              "    }\n",
              "\n",
              "    .dataframe thead th {\n",
              "        text-align: right;\n",
              "    }\n",
              "</style>\n",
              "<table border=\"1\" class=\"dataframe\">\n",
              "  <thead>\n",
              "    <tr style=\"text-align: right;\">\n",
              "      <th></th>\n",
              "      <th>V_Sanguineo</th>\n",
              "    </tr>\n",
              "  </thead>\n",
              "  <tbody>\n",
              "    <tr>\n",
              "      <th>count</th>\n",
              "      <td>20.000000</td>\n",
              "    </tr>\n",
              "    <tr>\n",
              "      <th>mean</th>\n",
              "      <td>5.250000</td>\n",
              "    </tr>\n",
              "    <tr>\n",
              "      <th>std</th>\n",
              "      <td>1.139021</td>\n",
              "    </tr>\n",
              "    <tr>\n",
              "      <th>min</th>\n",
              "      <td>4.000000</td>\n",
              "    </tr>\n",
              "    <tr>\n",
              "      <th>25%</th>\n",
              "      <td>4.175000</td>\n",
              "    </tr>\n",
              "    <tr>\n",
              "      <th>50%</th>\n",
              "      <td>4.850000</td>\n",
              "    </tr>\n",
              "    <tr>\n",
              "      <th>75%</th>\n",
              "      <td>6.500000</td>\n",
              "    </tr>\n",
              "    <tr>\n",
              "      <th>max</th>\n",
              "      <td>6.900000</td>\n",
              "    </tr>\n",
              "  </tbody>\n",
              "</table>\n",
              "</div>\n",
              "      <button class=\"colab-df-convert\" onclick=\"convertToInteractive('df-4e241626-225f-4db6-89ff-d2ae9843c34c')\"\n",
              "              title=\"Convert this dataframe to an interactive table.\"\n",
              "              style=\"display:none;\">\n",
              "        \n",
              "  <svg xmlns=\"http://www.w3.org/2000/svg\" height=\"24px\"viewBox=\"0 0 24 24\"\n",
              "       width=\"24px\">\n",
              "    <path d=\"M0 0h24v24H0V0z\" fill=\"none\"/>\n",
              "    <path d=\"M18.56 5.44l.94 2.06.94-2.06 2.06-.94-2.06-.94-.94-2.06-.94 2.06-2.06.94zm-11 1L8.5 8.5l.94-2.06 2.06-.94-2.06-.94L8.5 2.5l-.94 2.06-2.06.94zm10 10l.94 2.06.94-2.06 2.06-.94-2.06-.94-.94-2.06-.94 2.06-2.06.94z\"/><path d=\"M17.41 7.96l-1.37-1.37c-.4-.4-.92-.59-1.43-.59-.52 0-1.04.2-1.43.59L10.3 9.45l-7.72 7.72c-.78.78-.78 2.05 0 2.83L4 21.41c.39.39.9.59 1.41.59.51 0 1.02-.2 1.41-.59l7.78-7.78 2.81-2.81c.8-.78.8-2.07 0-2.86zM5.41 20L4 18.59l7.72-7.72 1.47 1.35L5.41 20z\"/>\n",
              "  </svg>\n",
              "      </button>\n",
              "      \n",
              "  <style>\n",
              "    .colab-df-container {\n",
              "      display:flex;\n",
              "      flex-wrap:wrap;\n",
              "      gap: 12px;\n",
              "    }\n",
              "\n",
              "    .colab-df-convert {\n",
              "      background-color: #E8F0FE;\n",
              "      border: none;\n",
              "      border-radius: 50%;\n",
              "      cursor: pointer;\n",
              "      display: none;\n",
              "      fill: #1967D2;\n",
              "      height: 32px;\n",
              "      padding: 0 0 0 0;\n",
              "      width: 32px;\n",
              "    }\n",
              "\n",
              "    .colab-df-convert:hover {\n",
              "      background-color: #E2EBFA;\n",
              "      box-shadow: 0px 1px 2px rgba(60, 64, 67, 0.3), 0px 1px 3px 1px rgba(60, 64, 67, 0.15);\n",
              "      fill: #174EA6;\n",
              "    }\n",
              "\n",
              "    [theme=dark] .colab-df-convert {\n",
              "      background-color: #3B4455;\n",
              "      fill: #D2E3FC;\n",
              "    }\n",
              "\n",
              "    [theme=dark] .colab-df-convert:hover {\n",
              "      background-color: #434B5C;\n",
              "      box-shadow: 0px 1px 3px 1px rgba(0, 0, 0, 0.15);\n",
              "      filter: drop-shadow(0px 1px 2px rgba(0, 0, 0, 0.3));\n",
              "      fill: #FFFFFF;\n",
              "    }\n",
              "  </style>\n",
              "\n",
              "      <script>\n",
              "        const buttonEl =\n",
              "          document.querySelector('#df-4e241626-225f-4db6-89ff-d2ae9843c34c button.colab-df-convert');\n",
              "        buttonEl.style.display =\n",
              "          google.colab.kernel.accessAllowed ? 'block' : 'none';\n",
              "\n",
              "        async function convertToInteractive(key) {\n",
              "          const element = document.querySelector('#df-4e241626-225f-4db6-89ff-d2ae9843c34c');\n",
              "          const dataTable =\n",
              "            await google.colab.kernel.invokeFunction('convertToInteractive',\n",
              "                                                     [key], {});\n",
              "          if (!dataTable) return;\n",
              "\n",
              "          const docLinkHtml = 'Like what you see? Visit the ' +\n",
              "            '<a target=\"_blank\" href=https://colab.research.google.com/notebooks/data_table.ipynb>data table notebook</a>'\n",
              "            + ' to learn more about interactive tables.';\n",
              "          element.innerHTML = '';\n",
              "          dataTable['output_type'] = 'display_data';\n",
              "          await google.colab.output.renderOutput(dataTable, element);\n",
              "          const docLink = document.createElement('div');\n",
              "          docLink.innerHTML = docLinkHtml;\n",
              "          element.appendChild(docLink);\n",
              "        }\n",
              "      </script>\n",
              "    </div>\n",
              "  </div>\n",
              "  "
            ]
          },
          "metadata": {},
          "execution_count": 44
        }
      ],
      "source": [
        "DBCA[[\"Pesos\",\"V_Sanguineo\"]].describe()"
      ]
    },
    {
      "cell_type": "code",
      "execution_count": null,
      "metadata": {
        "colab": {
          "base_uri": "https://localhost:8080/",
          "height": 112
        },
        "id": "dX-BxDNiY5TK",
        "outputId": "7f7b8e1d-4354-46bf-9081-beff258cbb2c"
      },
      "outputs": [
        {
          "output_type": "execute_result",
          "data": {
            "text/plain": [
              "              0    1    2    3    4    5    6    7    8    9    10   11   12  \\\n",
              "Pesos         B1   B1   B1   B1   B2   B2   B2   B2   B3   B3   B3   B3   B4   \n",
              "V_Sanguineo  4.1  6.5  4.1  4.9  4.1  5.3  4.0  6.2  6.5  6.9  4.5  4.8  4.3   \n",
              "\n",
              "              13   14   15   16   17   18   19  \n",
              "Pesos         B4   B4   B4   B5   B5   B5   B5  \n",
              "V_Sanguineo  6.8  4.3  4.2  6.0  6.5  4.1  6.9  "
            ],
            "text/html": [
              "\n",
              "  <div id=\"df-3c2d7bb1-fb62-4239-a54e-aae0102b9696\">\n",
              "    <div class=\"colab-df-container\">\n",
              "      <div>\n",
              "<style scoped>\n",
              "    .dataframe tbody tr th:only-of-type {\n",
              "        vertical-align: middle;\n",
              "    }\n",
              "\n",
              "    .dataframe tbody tr th {\n",
              "        vertical-align: top;\n",
              "    }\n",
              "\n",
              "    .dataframe thead th {\n",
              "        text-align: right;\n",
              "    }\n",
              "</style>\n",
              "<table border=\"1\" class=\"dataframe\">\n",
              "  <thead>\n",
              "    <tr style=\"text-align: right;\">\n",
              "      <th></th>\n",
              "      <th>0</th>\n",
              "      <th>1</th>\n",
              "      <th>2</th>\n",
              "      <th>3</th>\n",
              "      <th>4</th>\n",
              "      <th>5</th>\n",
              "      <th>6</th>\n",
              "      <th>7</th>\n",
              "      <th>8</th>\n",
              "      <th>9</th>\n",
              "      <th>10</th>\n",
              "      <th>11</th>\n",
              "      <th>12</th>\n",
              "      <th>13</th>\n",
              "      <th>14</th>\n",
              "      <th>15</th>\n",
              "      <th>16</th>\n",
              "      <th>17</th>\n",
              "      <th>18</th>\n",
              "      <th>19</th>\n",
              "    </tr>\n",
              "  </thead>\n",
              "  <tbody>\n",
              "    <tr>\n",
              "      <th>Pesos</th>\n",
              "      <td>B1</td>\n",
              "      <td>B1</td>\n",
              "      <td>B1</td>\n",
              "      <td>B1</td>\n",
              "      <td>B2</td>\n",
              "      <td>B2</td>\n",
              "      <td>B2</td>\n",
              "      <td>B2</td>\n",
              "      <td>B3</td>\n",
              "      <td>B3</td>\n",
              "      <td>B3</td>\n",
              "      <td>B3</td>\n",
              "      <td>B4</td>\n",
              "      <td>B4</td>\n",
              "      <td>B4</td>\n",
              "      <td>B4</td>\n",
              "      <td>B5</td>\n",
              "      <td>B5</td>\n",
              "      <td>B5</td>\n",
              "      <td>B5</td>\n",
              "    </tr>\n",
              "    <tr>\n",
              "      <th>V_Sanguineo</th>\n",
              "      <td>4.1</td>\n",
              "      <td>6.5</td>\n",
              "      <td>4.1</td>\n",
              "      <td>4.9</td>\n",
              "      <td>4.1</td>\n",
              "      <td>5.3</td>\n",
              "      <td>4.0</td>\n",
              "      <td>6.2</td>\n",
              "      <td>6.5</td>\n",
              "      <td>6.9</td>\n",
              "      <td>4.5</td>\n",
              "      <td>4.8</td>\n",
              "      <td>4.3</td>\n",
              "      <td>6.8</td>\n",
              "      <td>4.3</td>\n",
              "      <td>4.2</td>\n",
              "      <td>6.0</td>\n",
              "      <td>6.5</td>\n",
              "      <td>4.1</td>\n",
              "      <td>6.9</td>\n",
              "    </tr>\n",
              "  </tbody>\n",
              "</table>\n",
              "</div>\n",
              "      <button class=\"colab-df-convert\" onclick=\"convertToInteractive('df-3c2d7bb1-fb62-4239-a54e-aae0102b9696')\"\n",
              "              title=\"Convert this dataframe to an interactive table.\"\n",
              "              style=\"display:none;\">\n",
              "        \n",
              "  <svg xmlns=\"http://www.w3.org/2000/svg\" height=\"24px\"viewBox=\"0 0 24 24\"\n",
              "       width=\"24px\">\n",
              "    <path d=\"M0 0h24v24H0V0z\" fill=\"none\"/>\n",
              "    <path d=\"M18.56 5.44l.94 2.06.94-2.06 2.06-.94-2.06-.94-.94-2.06-.94 2.06-2.06.94zm-11 1L8.5 8.5l.94-2.06 2.06-.94-2.06-.94L8.5 2.5l-.94 2.06-2.06.94zm10 10l.94 2.06.94-2.06 2.06-.94-2.06-.94-.94-2.06-.94 2.06-2.06.94z\"/><path d=\"M17.41 7.96l-1.37-1.37c-.4-.4-.92-.59-1.43-.59-.52 0-1.04.2-1.43.59L10.3 9.45l-7.72 7.72c-.78.78-.78 2.05 0 2.83L4 21.41c.39.39.9.59 1.41.59.51 0 1.02-.2 1.41-.59l7.78-7.78 2.81-2.81c.8-.78.8-2.07 0-2.86zM5.41 20L4 18.59l7.72-7.72 1.47 1.35L5.41 20z\"/>\n",
              "  </svg>\n",
              "      </button>\n",
              "      \n",
              "  <style>\n",
              "    .colab-df-container {\n",
              "      display:flex;\n",
              "      flex-wrap:wrap;\n",
              "      gap: 12px;\n",
              "    }\n",
              "\n",
              "    .colab-df-convert {\n",
              "      background-color: #E8F0FE;\n",
              "      border: none;\n",
              "      border-radius: 50%;\n",
              "      cursor: pointer;\n",
              "      display: none;\n",
              "      fill: #1967D2;\n",
              "      height: 32px;\n",
              "      padding: 0 0 0 0;\n",
              "      width: 32px;\n",
              "    }\n",
              "\n",
              "    .colab-df-convert:hover {\n",
              "      background-color: #E2EBFA;\n",
              "      box-shadow: 0px 1px 2px rgba(60, 64, 67, 0.3), 0px 1px 3px 1px rgba(60, 64, 67, 0.15);\n",
              "      fill: #174EA6;\n",
              "    }\n",
              "\n",
              "    [theme=dark] .colab-df-convert {\n",
              "      background-color: #3B4455;\n",
              "      fill: #D2E3FC;\n",
              "    }\n",
              "\n",
              "    [theme=dark] .colab-df-convert:hover {\n",
              "      background-color: #434B5C;\n",
              "      box-shadow: 0px 1px 3px 1px rgba(0, 0, 0, 0.15);\n",
              "      filter: drop-shadow(0px 1px 2px rgba(0, 0, 0, 0.3));\n",
              "      fill: #FFFFFF;\n",
              "    }\n",
              "  </style>\n",
              "\n",
              "      <script>\n",
              "        const buttonEl =\n",
              "          document.querySelector('#df-3c2d7bb1-fb62-4239-a54e-aae0102b9696 button.colab-df-convert');\n",
              "        buttonEl.style.display =\n",
              "          google.colab.kernel.accessAllowed ? 'block' : 'none';\n",
              "\n",
              "        async function convertToInteractive(key) {\n",
              "          const element = document.querySelector('#df-3c2d7bb1-fb62-4239-a54e-aae0102b9696');\n",
              "          const dataTable =\n",
              "            await google.colab.kernel.invokeFunction('convertToInteractive',\n",
              "                                                     [key], {});\n",
              "          if (!dataTable) return;\n",
              "\n",
              "          const docLinkHtml = 'Like what you see? Visit the ' +\n",
              "            '<a target=\"_blank\" href=https://colab.research.google.com/notebooks/data_table.ipynb>data table notebook</a>'\n",
              "            + ' to learn more about interactive tables.';\n",
              "          element.innerHTML = '';\n",
              "          dataTable['output_type'] = 'display_data';\n",
              "          await google.colab.output.renderOutput(dataTable, element);\n",
              "          const docLink = document.createElement('div');\n",
              "          docLink.innerHTML = docLinkHtml;\n",
              "          element.appendChild(docLink);\n",
              "        }\n",
              "      </script>\n",
              "    </div>\n",
              "  </div>\n",
              "  "
            ]
          },
          "metadata": {},
          "execution_count": 45
        }
      ],
      "source": [
        "DBCA[[\"Pesos\",'V_Sanguineo']].T"
      ]
    },
    {
      "cell_type": "markdown",
      "metadata": {
        "id": "45UDFPpPaWvt"
      },
      "source": [
        "# **2.5. BoxPlot para DBCA : V_Sanguineo vs S_Ferroso**"
      ]
    },
    {
      "cell_type": "code",
      "execution_count": null,
      "metadata": {
        "colab": {
          "base_uri": "https://localhost:8080/"
        },
        "id": "bBTKWOdOZ35u",
        "outputId": "404a6f11-ae75-4aa6-d5e0-d4e65de4993e"
      },
      "outputs": [
        {
          "output_type": "execute_result",
          "data": {
            "text/plain": [
              "<Axes: title={'center': 'V_Sanguineo vs S_Ferroso'}, xlabel='S_Ferroso', ylabel='V_Sanguineo'>"
            ]
          },
          "metadata": {},
          "execution_count": 46
        },
        {
          "output_type": "display_data",
          "data": {
            "text/plain": [
              "<Figure size 1000x1000 with 1 Axes>"
            ],
            "image/png": "[encoded data removed]"
          },
          "metadata": {}
        }
      ],
      "source": [
        "# **2.5. BoxPlot para DBCA: V_Sanguineo vs S_Ferroso**\n",
        "fig, ax = plt.subplots(1, 1, figsize=(10, 10))\n",
        "ax.set_title('V_Sanguineo vs S_Ferroso')\n",
        "sns.boxplot(x=\"S_Ferroso\", y='V_Sanguineo',data=DBCA,ax=ax)\n"
      ]
    },
    {
      "cell_type": "markdown",
      "metadata": {
        "id": "_Ma9oofWc9nU"
      },
      "source": [
        "# **2.6. BoxPlot para DBCA: V_Sanguineo vs Pesos**"
      ]
    },
    {
      "cell_type": "code",
      "execution_count": null,
      "metadata": {
        "colab": {
          "base_uri": "https://localhost:8080/",
          "height": 889
        },
        "id": "gSqzJzAOZ3-L",
        "outputId": "1af139d3-5425-4f27-edab-b548156ac434"
      },
      "outputs": [
        {
          "output_type": "execute_result",
          "data": {
            "text/plain": [
              "<Axes: title={'center': 'V_Sanguineo vs Pesos'}, xlabel='Pesos', ylabel='V_Sanguineo'>"
            ]
          },
          "metadata": {},
          "execution_count": 47
        },
        {
          "output_type": "display_data",
          "data": {
            "text/plain": [
              "<Figure size 1000x1000 with 1 Axes>"
            ],
            "image/png": "[encoded data removed]"
          },
          "metadata": {}
        }
      ],
      "source": [
        "# **2.6. BoxPlot para DBCA: V_Sanguineo vs Pesos**\n",
        "fig, ax = plt.subplots(1, 1, figsize=(10, 10))\n",
        "ax.set_title('V_Sanguineo vs Pesos')\n",
        "sns.boxplot(x=\"Pesos\", y='V_Sanguineo',data=DBCA,ax=ax)\n"
      ]
    },
    {
      "cell_type": "markdown",
      "source": [
        "# **2.7 Diagrama Bivariado no es sposible dado que no hay replicas**"
      ],
      "metadata": {
        "id": "b0d82p6-vYgt"
      }
    },
    {
      "cell_type": "code",
      "execution_count": null,
      "metadata": {
        "colab": {
          "base_uri": "https://localhost:8080/",
          "height": 410
        },
        "id": "Oys27TbwZ4Ck",
        "outputId": "56e2a665-bb02-4615-b672-decf441de1ce"
      },
      "outputs": [
        {
          "output_type": "display_data",
          "data": {
            "text/plain": [
              "<Figure size 800x400 with 1 Axes>"
            ],
            "image/png": "[encoded data removed]"
          },
          "metadata": {}
        }
      ],
      "source": [
        "# **2.7 Diagrama Bivariado no es sposible dado que no hay replicas**\n",
        "fig, ax = plt.subplots(1, 1, figsize=(8, 4))\n",
        "ax.set_title('V_Sanguineo vs S_Ferroso y Pesos')\n",
        "sns.boxplot(x=\"S_Ferroso\", y=\"V_Sanguineo\", hue='Pesos', data=DBCA, ax=ax);"
      ]
    },
    {
      "cell_type": "markdown",
      "source": [
        "# **2.8 Análisis de Varianza Tipo I**"
      ],
      "metadata": {
        "id": "Zyim0z8XwRuh"
      }
    },
    {
      "cell_type": "code",
      "source": [
        "# **2.8 Análisis de Varianza Tipo I**\n",
        "modeloDBCA = ols(\"V_Sanguineo ~ S_Ferroso + Pesos\", data = DBCA).fit()\n",
        "anova_result2 = sm.stats.anova_lm(modeloDBCA, typ=2)\n",
        "print (anova_result2)"
      ],
      "metadata": {
        "colab": {
          "base_uri": "https://localhost:8080/"
        },
        "id": "_uPzo9MPvhA8",
        "outputId": "525aabbb-ddbb-4cc2-d7bb-ffa0a5d36212"
      },
      "execution_count": null,
      "outputs": [
        {
          "output_type": "stream",
          "name": "stdout",
          "text": [
            "           sum_sq    df         F    PR(>F)\n",
            "S_Ferroso  12.550   3.0  6.015578  0.009644\n",
            "Pesos       3.755   4.0  1.349910  0.307973\n",
            "Residual    8.345  12.0       NaN       NaN\n"
          ]
        }
      ]
    },
    {
      "cell_type": "code",
      "source": [
        "anova_result2.T"
      ],
      "metadata": {
        "colab": {
          "base_uri": "https://localhost:8080/",
          "height": 175
        },
        "id": "HJsLrxJJwClb",
        "outputId": "6f7fc3fe-b538-4988-dc45-d30cdb8e935a"
      },
      "execution_count": null,
      "outputs": [
        {
          "output_type": "execute_result",
          "data": {
            "text/plain": [
              "        S_Ferroso     Pesos  Residual\n",
              "sum_sq  12.550000  3.755000     8.345\n",
              "df       3.000000  4.000000    12.000\n",
              "F        6.015578  1.349910       NaN\n",
              "PR(>F)   0.009644  0.307973       NaN"
            ],
            "text/html": [
              "\n",
              "  <div id=\"df-dd4b0e4d-cef0-42f6-9dc4-8b626a593341\">\n",
              "    <div class=\"colab-df-container\">\n",
              "      <div>\n",
              "<style scoped>\n",
              "    .dataframe tbody tr th:only-of-type {\n",
              "        vertical-align: middle;\n",
              "    }\n",
              "\n",
              "    .dataframe tbody tr th {\n",
              "        vertical-align: top;\n",
              "    }\n",
              "\n",
              "    .dataframe thead th {\n",
              "        text-align: right;\n",
              "    }\n",
              "</style>\n",
              "<table border=\"1\" class=\"dataframe\">\n",
              "  <thead>\n",
              "    <tr style=\"text-align: right;\">\n",
              "      <th></th>\n",
              "      <th>S_Ferroso</th>\n",
              "      <th>Pesos</th>\n",
              "      <th>Residual</th>\n",
              "    </tr>\n",
              "  </thead>\n",
              "  <tbody>\n",
              "    <tr>\n",
              "      <th>sum_sq</th>\n",
              "      <td>12.550000</td>\n",
              "      <td>3.755000</td>\n",
              "      <td>8.345</td>\n",
              "    </tr>\n",
              "    <tr>\n",
              "      <th>df</th>\n",
              "      <td>3.000000</td>\n",
              "      <td>4.000000</td>\n",
              "      <td>12.000</td>\n",
              "    </tr>\n",
              "    <tr>\n",
              "      <th>F</th>\n",
              "      <td>6.015578</td>\n",
              "      <td>1.349910</td>\n",
              "      <td>NaN</td>\n",
              "    </tr>\n",
              "    <tr>\n",
              "      <th>PR(&gt;F)</th>\n",
              "      <td>0.009644</td>\n",
              "      <td>0.307973</td>\n",
              "      <td>NaN</td>\n",
              "    </tr>\n",
              "  </tbody>\n",
              "</table>\n",
              "</div>\n",
              "      <button class=\"colab-df-convert\" onclick=\"convertToInteractive('df-dd4b0e4d-cef0-42f6-9dc4-8b626a593341')\"\n",
              "              title=\"Convert this dataframe to an interactive table.\"\n",
              "              style=\"display:none;\">\n",
              "        \n",
              "  <svg xmlns=\"http://www.w3.org/2000/svg\" height=\"24px\"viewBox=\"0 0 24 24\"\n",
              "       width=\"24px\">\n",
              "    <path d=\"M0 0h24v24H0V0z\" fill=\"none\"/>\n",
              "    <path d=\"M18.56 5.44l.94 2.06.94-2.06 2.06-.94-2.06-.94-.94-2.06-.94 2.06-2.06.94zm-11 1L8.5 8.5l.94-2.06 2.06-.94-2.06-.94L8.5 2.5l-.94 2.06-2.06.94zm10 10l.94 2.06.94-2.06 2.06-.94-2.06-.94-.94-2.06-.94 2.06-2.06.94z\"/><path d=\"M17.41 7.96l-1.37-1.37c-.4-.4-.92-.59-1.43-.59-.52 0-1.04.2-1.43.59L10.3 9.45l-7.72 7.72c-.78.78-.78 2.05 0 2.83L4 21.41c.39.39.9.59 1.41.59.51 0 1.02-.2 1.41-.59l7.78-7.78 2.81-2.81c.8-.78.8-2.07 0-2.86zM5.41 20L4 18.59l7.72-7.72 1.47 1.35L5.41 20z\"/>\n",
              "  </svg>\n",
              "      </button>\n",
              "      \n",
              "  <style>\n",
              "    .colab-df-container {\n",
              "      display:flex;\n",
              "      flex-wrap:wrap;\n",
              "      gap: 12px;\n",
              "    }\n",
              "\n",
              "    .colab-df-convert {\n",
              "      background-color: #E8F0FE;\n",
              "      border: none;\n",
              "      border-radius: 50%;\n",
              "      cursor: pointer;\n",
              "      display: none;\n",
              "      fill: #1967D2;\n",
              "      height: 32px;\n",
              "      padding: 0 0 0 0;\n",
              "      width: 32px;\n",
              "    }\n",
              "\n",
              "    .colab-df-convert:hover {\n",
              "      background-color: #E2EBFA;\n",
              "      box-shadow: 0px 1px 2px rgba(60, 64, 67, 0.3), 0px 1px 3px 1px rgba(60, 64, 67, 0.15);\n",
              "      fill: #174EA6;\n",
              "    }\n",
              "\n",
              "    [theme=dark] .colab-df-convert {\n",
              "      background-color: #3B4455;\n",
              "      fill: #D2E3FC;\n",
              "    }\n",
              "\n",
              "    [theme=dark] .colab-df-convert:hover {\n",
              "      background-color: #434B5C;\n",
              "      box-shadow: 0px 1px 3px 1px rgba(0, 0, 0, 0.15);\n",
              "      filter: drop-shadow(0px 1px 2px rgba(0, 0, 0, 0.3));\n",
              "      fill: #FFFFFF;\n",
              "    }\n",
              "  </style>\n",
              "\n",
              "      <script>\n",
              "        const buttonEl =\n",
              "          document.querySelector('#df-dd4b0e4d-cef0-42f6-9dc4-8b626a593341 button.colab-df-convert');\n",
              "        buttonEl.style.display =\n",
              "          google.colab.kernel.accessAllowed ? 'block' : 'none';\n",
              "\n",
              "        async function convertToInteractive(key) {\n",
              "          const element = document.querySelector('#df-dd4b0e4d-cef0-42f6-9dc4-8b626a593341');\n",
              "          const dataTable =\n",
              "            await google.colab.kernel.invokeFunction('convertToInteractive',\n",
              "                                                     [key], {});\n",
              "          if (!dataTable) return;\n",
              "\n",
              "          const docLinkHtml = 'Like what you see? Visit the ' +\n",
              "            '<a target=\"_blank\" href=https://colab.research.google.com/notebooks/data_table.ipynb>data table notebook</a>'\n",
              "            + ' to learn more about interactive tables.';\n",
              "          element.innerHTML = '';\n",
              "          dataTable['output_type'] = 'display_data';\n",
              "          await google.colab.output.renderOutput(dataTable, element);\n",
              "          const docLink = document.createElement('div');\n",
              "          docLink.innerHTML = docLinkHtml;\n",
              "          element.appendChild(docLink);\n",
              "        }\n",
              "      </script>\n",
              "    </div>\n",
              "  </div>\n",
              "  "
            ]
          },
          "metadata": {},
          "execution_count": 50
        }
      ]
    },
    {
      "cell_type": "code",
      "source": [
        "print(modeloDBCA.summary())"
      ],
      "metadata": {
        "colab": {
          "base_uri": "https://localhost:8080/"
        },
        "id": "aH_14PFvwqYx",
        "outputId": "81296156-9c81-4724-bf48-fde84d5588fc"
      },
      "execution_count": null,
      "outputs": [
        {
          "output_type": "stream",
          "name": "stdout",
          "text": [
            "                            OLS Regression Results                            \n",
            "==============================================================================\n",
            "Dep. Variable:            V_Sanguineo   R-squared:                       0.661\n",
            "Model:                            OLS   Adj. R-squared:                  0.464\n",
            "Method:                 Least Squares   F-statistic:                     3.349\n",
            "Date:                Tue, 09 May 2023   Prob (F-statistic):             0.0321\n",
            "Time:                        22:58:26   Log-Likelihood:                -19.638\n",
            "No. Observations:                  20   AIC:                             55.28\n",
            "Df Residuals:                      12   BIC:                             63.24\n",
            "Df Model:                           7                                         \n",
            "Covariance Type:            nonrobust                                         \n",
            "===================================================================================\n",
            "                      coef    std err          t      P>|t|      [0.025      0.975]\n",
            "-----------------------------------------------------------------------------------\n",
            "Intercept           4.6500      0.527      8.817      0.000       3.501       5.799\n",
            "S_Ferroso[T.T2]     1.4000      0.527      2.654      0.021       0.251       2.549\n",
            "S_Ferroso[T.T3]    -0.8000      0.527     -1.517      0.155      -1.949       0.349\n",
            "S_Ferroso[T.T4]     0.4000      0.527      0.758      0.463      -0.749       1.549\n",
            "Pesos[T.B2]     -4.406e-16      0.590  -7.47e-16      1.000      -1.285       1.285\n",
            "Pesos[T.B3]         0.7750      0.590      1.314      0.213      -0.510       2.060\n",
            "Pesos[T.B4]      2.207e-15      0.590   3.74e-15      1.000      -1.285       1.285\n",
            "Pesos[T.B5]         0.9750      0.590      1.653      0.124      -0.310       2.260\n",
            "==============================================================================\n",
            "Omnibus:                        2.197   Durbin-Watson:                   1.608\n",
            "Prob(Omnibus):                  0.333   Jarque-Bera (JB):                1.160\n",
            "Skew:                           0.202   Prob(JB):                        0.560\n",
            "Kurtosis:                       1.892   Cond. No.                         6.42\n",
            "==============================================================================\n",
            "\n",
            "Notes:\n",
            "[1] Standard Errors assume that the covariance matrix of the errors is correctly specified.\n"
          ]
        }
      ]
    },
    {
      "cell_type": "markdown",
      "source": [
        "# **2.9 Análisis de Varianza Tipo II**"
      ],
      "metadata": {
        "id": "GNHFFx3CxAOR"
      }
    },
    {
      "cell_type": "code",
      "source": [
        "# **2.9 Análisis de Varianza Tipo II**\n",
        "modeloDBCA2 = smf.ols(\"V_Sanguineo ~ S_Ferroso + Pesos\", data = DBCA).fit()\n",
        "print(modeloDBCA2.summary())"
      ],
      "metadata": {
        "colab": {
          "base_uri": "https://localhost:8080/"
        },
        "id": "K-xYuXhRwCqx",
        "outputId": "bb740cdf-0d22-4088-9281-4e24727601e5"
      },
      "execution_count": null,
      "outputs": [
        {
          "output_type": "stream",
          "name": "stdout",
          "text": [
            "                            OLS Regression Results                            \n",
            "==============================================================================\n",
            "Dep. Variable:            V_Sanguineo   R-squared:                       0.661\n",
            "Model:                            OLS   Adj. R-squared:                  0.464\n",
            "Method:                 Least Squares   F-statistic:                     3.349\n",
            "Date:                Tue, 09 May 2023   Prob (F-statistic):             0.0321\n",
            "Time:                        22:58:26   Log-Likelihood:                -19.638\n",
            "No. Observations:                  20   AIC:                             55.28\n",
            "Df Residuals:                      12   BIC:                             63.24\n",
            "Df Model:                           7                                         \n",
            "Covariance Type:            nonrobust                                         \n",
            "===================================================================================\n",
            "                      coef    std err          t      P>|t|      [0.025      0.975]\n",
            "-----------------------------------------------------------------------------------\n",
            "Intercept           4.6500      0.527      8.817      0.000       3.501       5.799\n",
            "S_Ferroso[T.T2]     1.4000      0.527      2.654      0.021       0.251       2.549\n",
            "S_Ferroso[T.T3]    -0.8000      0.527     -1.517      0.155      -1.949       0.349\n",
            "S_Ferroso[T.T4]     0.4000      0.527      0.758      0.463      -0.749       1.549\n",
            "Pesos[T.B2]     -4.406e-16      0.590  -7.47e-16      1.000      -1.285       1.285\n",
            "Pesos[T.B3]         0.7750      0.590      1.314      0.213      -0.510       2.060\n",
            "Pesos[T.B4]      2.207e-15      0.590   3.74e-15      1.000      -1.285       1.285\n",
            "Pesos[T.B5]         0.9750      0.590      1.653      0.124      -0.310       2.260\n",
            "==============================================================================\n",
            "Omnibus:                        2.197   Durbin-Watson:                   1.608\n",
            "Prob(Omnibus):                  0.333   Jarque-Bera (JB):                1.160\n",
            "Skew:                           0.202   Prob(JB):                        0.560\n",
            "Kurtosis:                       1.892   Cond. No.                         6.42\n",
            "==============================================================================\n",
            "\n",
            "Notes:\n",
            "[1] Standard Errors assume that the covariance matrix of the errors is correctly specified.\n"
          ]
        }
      ]
    },
    {
      "cell_type": "code",
      "source": [
        "anova_result3 = sm.stats.anova_lm(modeloDBCA2, typ=2)\n",
        "anova_result3.T"
      ],
      "metadata": {
        "colab": {
          "base_uri": "https://localhost:8080/"
        },
        "id": "oRxLsTr4xucE",
        "outputId": "f4f24edd-a10e-46e4-a48d-cf267821f871"
      },
      "execution_count": null,
      "outputs": [
        {
          "output_type": "execute_result",
          "data": {
            "text/plain": [
              "        S_Ferroso     Pesos  Residual\n",
              "sum_sq  12.550000  3.755000     8.345\n",
              "df       3.000000  4.000000    12.000\n",
              "F        6.015578  1.349910       NaN\n",
              "PR(>F)   0.009644  0.307973       NaN"
            ],
            "text/html": [
              "\n",
              "  <div id=\"df-408d36fd-c2fe-4017-bab1-f020585b94c6\">\n",
              "    <div class=\"colab-df-container\">\n",
              "      <div>\n",
              "<style scoped>\n",
              "    .dataframe tbody tr th:only-of-type {\n",
              "        vertical-align: middle;\n",
              "    }\n",
              "\n",
              "    .dataframe tbody tr th {\n",
              "        vertical-align: top;\n",
              "    }\n",
              "\n",
              "    .dataframe thead th {\n",
              "        text-align: right;\n",
              "    }\n",
              "</style>\n",
              "<table border=\"1\" class=\"dataframe\">\n",
              "  <thead>\n",
              "    <tr style=\"text-align: right;\">\n",
              "      <th></th>\n",
              "      <th>S_Ferroso</th>\n",
              "      <th>Pesos</th>\n",
              "      <th>Residual</th>\n",
              "    </tr>\n",
              "  </thead>\n",
              "  <tbody>\n",
              "    <tr>\n",
              "      <th>sum_sq</th>\n",
              "      <td>12.550000</td>\n",
              "      <td>3.755000</td>\n",
              "      <td>8.345</td>\n",
              "    </tr>\n",
              "    <tr>\n",
              "      <th>df</th>\n",
              "      <td>3.000000</td>\n",
              "      <td>4.000000</td>\n",
              "      <td>12.000</td>\n",
              "    </tr>\n",
              "    <tr>\n",
              "      <th>F</th>\n",
              "      <td>6.015578</td>\n",
              "      <td>1.349910</td>\n",
              "      <td>NaN</td>\n",
              "    </tr>\n",
              "    <tr>\n",
              "      <th>PR(&gt;F)</th>\n",
              "      <td>0.009644</td>\n",
              "      <td>0.307973</td>\n",
              "      <td>NaN</td>\n",
              "    </tr>\n",
              "  </tbody>\n",
              "</table>\n",
              "</div>\n",
              "      <button class=\"colab-df-convert\" onclick=\"convertToInteractive('df-408d36fd-c2fe-4017-bab1-f020585b94c6')\"\n",
              "              title=\"Convert this dataframe to an interactive table.\"\n",
              "              style=\"display:none;\">\n",
              "        \n",
              "  <svg xmlns=\"http://www.w3.org/2000/svg\" height=\"24px\"viewBox=\"0 0 24 24\"\n",
              "       width=\"24px\">\n",
              "    <path d=\"M0 0h24v24H0V0z\" fill=\"none\"/>\n",
              "    <path d=\"M18.56 5.44l.94 2.06.94-2.06 2.06-.94-2.06-.94-.94-2.06-.94 2.06-2.06.94zm-11 1L8.5 8.5l.94-2.06 2.06-.94-2.06-.94L8.5 2.5l-.94 2.06-2.06.94zm10 10l.94 2.06.94-2.06 2.06-.94-2.06-.94-.94-2.06-.94 2.06-2.06.94z\"/><path d=\"M17.41 7.96l-1.37-1.37c-.4-.4-.92-.59-1.43-.59-.52 0-1.04.2-1.43.59L10.3 9.45l-7.72 7.72c-.78.78-.78 2.05 0 2.83L4 21.41c.39.39.9.59 1.41.59.51 0 1.02-.2 1.41-.59l7.78-7.78 2.81-2.81c.8-.78.8-2.07 0-2.86zM5.41 20L4 18.59l7.72-7.72 1.47 1.35L5.41 20z\"/>\n",
              "  </svg>\n",
              "      </button>\n",
              "      \n",
              "  <style>\n",
              "    .colab-df-container {\n",
              "      display:flex;\n",
              "      flex-wrap:wrap;\n",
              "      gap: 12px;\n",
              "    }\n",
              "\n",
              "    .colab-df-convert {\n",
              "      background-color: #E8F0FE;\n",
              "      border: none;\n",
              "      border-radius: 50%;\n",
              "      cursor: pointer;\n",
              "      display: none;\n",
              "      fill: #1967D2;\n",
              "      height: 32px;\n",
              "      padding: 0 0 0 0;\n",
              "      width: 32px;\n",
              "    }\n",
              "\n",
              "    .colab-df-convert:hover {\n",
              "      background-color: #E2EBFA;\n",
              "      box-shadow: 0px 1px 2px rgba(60, 64, 67, 0.3), 0px 1px 3px 1px rgba(60, 64, 67, 0.15);\n",
              "      fill: #174EA6;\n",
              "    }\n",
              "\n",
              "    [theme=dark] .colab-df-convert {\n",
              "      background-color: #3B4455;\n",
              "      fill: #D2E3FC;\n",
              "    }\n",
              "\n",
              "    [theme=dark] .colab-df-convert:hover {\n",
              "      background-color: #434B5C;\n",
              "      box-shadow: 0px 1px 3px 1px rgba(0, 0, 0, 0.15);\n",
              "      filter: drop-shadow(0px 1px 2px rgba(0, 0, 0, 0.3));\n",
              "      fill: #FFFFFF;\n",
              "    }\n",
              "  </style>\n",
              "\n",
              "      <script>\n",
              "        const buttonEl =\n",
              "          document.querySelector('#df-408d36fd-c2fe-4017-bab1-f020585b94c6 button.colab-df-convert');\n",
              "        buttonEl.style.display =\n",
              "          google.colab.kernel.accessAllowed ? 'block' : 'none';\n",
              "\n",
              "        async function convertToInteractive(key) {\n",
              "          const element = document.querySelector('#df-408d36fd-c2fe-4017-bab1-f020585b94c6');\n",
              "          const dataTable =\n",
              "            await google.colab.kernel.invokeFunction('convertToInteractive',\n",
              "                                                     [key], {});\n",
              "          if (!dataTable) return;\n",
              "\n",
              "          const docLinkHtml = 'Like what you see? Visit the ' +\n",
              "            '<a target=\"_blank\" href=https://colab.research.google.com/notebooks/data_table.ipynb>data table notebook</a>'\n",
              "            + ' to learn more about interactive tables.';\n",
              "          element.innerHTML = '';\n",
              "          dataTable['output_type'] = 'display_data';\n",
              "          await google.colab.output.renderOutput(dataTable, element);\n",
              "          const docLink = document.createElement('div');\n",
              "          docLink.innerHTML = docLinkHtml;\n",
              "          element.appendChild(docLink);\n",
              "        }\n",
              "      </script>\n",
              "    </div>\n",
              "  </div>\n",
              "  "
            ]
          },
          "metadata": {},
          "execution_count": 53
        }
      ]
    },
    {
      "cell_type": "code",
      "source": [
        "# **2.9 Análisis de Varianza Tipo II**\n",
        "modeloDBCA2 = smf.ols(\"V_Sanguineo ~ S_Ferroso-1 + Pesos\", data = DBCA).fit()\n",
        "print(modeloDBCA2.summary())"
      ],
      "metadata": {
        "colab": {
          "base_uri": "https://localhost:8080/"
        },
        "id": "zAaYeb9-wCzk",
        "outputId": "863ce4dd-3899-41ef-9f0c-3256243e139c"
      },
      "execution_count": null,
      "outputs": [
        {
          "output_type": "stream",
          "name": "stdout",
          "text": [
            "                            OLS Regression Results                            \n",
            "==============================================================================\n",
            "Dep. Variable:            V_Sanguineo   R-squared:                       0.661\n",
            "Model:                            OLS   Adj. R-squared:                  0.464\n",
            "Method:                 Least Squares   F-statistic:                     3.349\n",
            "Date:                Tue, 09 May 2023   Prob (F-statistic):             0.0321\n",
            "Time:                        22:58:26   Log-Likelihood:                -19.638\n",
            "No. Observations:                  20   AIC:                             55.28\n",
            "Df Residuals:                      12   BIC:                             63.24\n",
            "Df Model:                           7                                         \n",
            "Covariance Type:            nonrobust                                         \n",
            "=================================================================================\n",
            "                    coef    std err          t      P>|t|      [0.025      0.975]\n",
            "---------------------------------------------------------------------------------\n",
            "S_Ferroso[T1]     4.6500      0.527      8.817      0.000       3.501       5.799\n",
            "S_Ferroso[T2]     6.0500      0.527     11.471      0.000       4.901       7.199\n",
            "S_Ferroso[T3]     3.8500      0.527      7.300      0.000       2.701       4.999\n",
            "S_Ferroso[T4]     5.0500      0.527      9.575      0.000       3.901       6.199\n",
            "Pesos[T.B2]    5.464e-15      0.590   9.27e-15      1.000      -1.285       1.285\n",
            "Pesos[T.B3]       0.7750      0.590      1.314      0.213      -0.510       2.060\n",
            "Pesos[T.B4]    4.496e-15      0.590   7.63e-15      1.000      -1.285       1.285\n",
            "Pesos[T.B5]       0.9750      0.590      1.653      0.124      -0.310       2.260\n",
            "==============================================================================\n",
            "Omnibus:                        2.197   Durbin-Watson:                   1.608\n",
            "Prob(Omnibus):                  0.333   Jarque-Bera (JB):                1.160\n",
            "Skew:                           0.202   Prob(JB):                        0.560\n",
            "Kurtosis:                       1.892   Cond. No.                         4.27\n",
            "==============================================================================\n",
            "\n",
            "Notes:\n",
            "[1] Standard Errors assume that the covariance matrix of the errors is correctly specified.\n"
          ]
        }
      ]
    },
    {
      "cell_type": "markdown",
      "source": [
        "# **2.10 Comparaciones Múltiples:S_Ferroso**"
      ],
      "metadata": {
        "id": "PiPKS2zy0V3H"
      }
    },
    {
      "cell_type": "code",
      "source": [
        "\n",
        "# **2.10 Comparaciones Múltiples:S_Ferroso**\n",
        "tukey = pairwise_tukeyhsd(endog=DBCA[\"V_Sanguineo\"],     # Data\n",
        "                          groups=DBCA[\"S_Ferroso\"],   # Groups\n",
        "                          alpha=0.05)          # Significance level\n",
        "\n",
        "tukey.plot_simultaneous()    # Plot group confidence intervals\n",
        "#plt.vlines(x=200,ymin=-0.5,ymax=14.5, color=\"red\")\n",
        "tukey.summary()"
      ],
      "metadata": {
        "colab": {
          "base_uri": "https://localhost:8080/",
          "height": 714
        },
        "id": "ISBtMTF5zguM",
        "outputId": "6a3f5fc0-d9f4-49e0-b45f-3e5cf7358fe4"
      },
      "execution_count": null,
      "outputs": [
        {
          "output_type": "execute_result",
          "data": {
            "text/plain": [
              "<class 'statsmodels.iolib.table.SimpleTable'>"
            ],
            "text/html": [
              "<table class=\"simpletable\">\n",
              "<caption>Multiple Comparison of Means - Tukey HSD, FWER=0.05</caption>\n",
              "<tr>\n",
              "  <th>group1</th> <th>group2</th> <th>meandiff</th>  <th>p-adj</th>  <th>lower</th>   <th>upper</th>  <th>reject</th>\n",
              "</tr>\n",
              "<tr>\n",
              "    <td>T1</td>     <td>T2</td>      <td>1.4</td>   <td>0.0903</td> <td>-0.1736</td> <td>2.9736</td>   <td>False</td>\n",
              "</tr>\n",
              "<tr>\n",
              "    <td>T1</td>     <td>T3</td>     <td>-0.8</td>   <td>0.4858</td> <td>-2.3736</td> <td>0.7736</td>   <td>False</td>\n",
              "</tr>\n",
              "<tr>\n",
              "    <td>T1</td>     <td>T4</td>      <td>0.4</td>   <td>0.8848</td> <td>-1.1736</td> <td>1.9736</td>   <td>False</td>\n",
              "</tr>\n",
              "<tr>\n",
              "    <td>T2</td>     <td>T3</td>     <td>-2.2</td>   <td>0.0051</td> <td>-3.7736</td> <td>-0.6264</td>  <td>True</td> \n",
              "</tr>\n",
              "<tr>\n",
              "    <td>T2</td>     <td>T4</td>     <td>-1.0</td>   <td>0.3011</td> <td>-2.5736</td> <td>0.5736</td>   <td>False</td>\n",
              "</tr>\n",
              "<tr>\n",
              "    <td>T3</td>     <td>T4</td>      <td>1.2</td>   <td>0.1705</td> <td>-0.3736</td> <td>2.7736</td>   <td>False</td>\n",
              "</tr>\n",
              "</table>"
            ]
          },
          "metadata": {},
          "execution_count": 55
        },
        {
          "output_type": "display_data",
          "data": {
            "text/plain": [
              "<Figure size 1000x600 with 1 Axes>"
            ],
            "image/png": "[encoded data removed]"
          },
          "metadata": {}
        }
      ]
    },
    {
      "cell_type": "markdown",
      "source": [
        "# **2.11 Comparaciones Múltiples:Pesos**"
      ],
      "metadata": {
        "id": "9AT-VBr80jxm"
      }
    },
    {
      "cell_type": "code",
      "source": [
        "\n",
        "# **2.11 Comparaciones Múltiples:Pesos**\n",
        "tukey = pairwise_tukeyhsd(endog=DBCA[\"V_Sanguineo\"],     # Data\n",
        "                          groups=DBCA[\"Pesos\"],   # Groups\n",
        "                          alpha=0.05)          # Significance level\n",
        "\n",
        "tukey.plot_simultaneous()    # Plot group confidence intervals\n",
        "#plt.vlines(x=200,ymin=-0.5,ymax=14.5, color=\"red\")\n",
        "tukey.summary()"
      ],
      "metadata": {
        "colab": {
          "base_uri": "https://localhost:8080/",
          "height": 817
        },
        "id": "P_tHVpZP0Y_V",
        "outputId": "a0a83435-26a2-4012-f865-cb9f660b7196"
      },
      "execution_count": null,
      "outputs": [
        {
          "output_type": "execute_result",
          "data": {
            "text/plain": [
              "<class 'statsmodels.iolib.table.SimpleTable'>"
            ],
            "text/html": [
              "<table class=\"simpletable\">\n",
              "<caption>Multiple Comparison of Means - Tukey HSD, FWER=0.05</caption>\n",
              "<tr>\n",
              "  <th>group1</th> <th>group2</th> <th>meandiff</th>  <th>p-adj</th>  <th>lower</th>   <th>upper</th> <th>reject</th>\n",
              "</tr>\n",
              "<tr>\n",
              "    <td>B1</td>     <td>B2</td>     <td>-0.0</td>     <td>1.0</td>  <td>-2.5771</td> <td>2.5771</td>  <td>False</td>\n",
              "</tr>\n",
              "<tr>\n",
              "    <td>B1</td>     <td>B3</td>     <td>0.775</td>  <td>0.8814</td> <td>-1.8021</td> <td>3.3521</td>  <td>False</td>\n",
              "</tr>\n",
              "<tr>\n",
              "    <td>B1</td>     <td>B4</td>     <td>-0.0</td>     <td>1.0</td>  <td>-2.5771</td> <td>2.5771</td>  <td>False</td>\n",
              "</tr>\n",
              "<tr>\n",
              "    <td>B1</td>     <td>B5</td>     <td>0.975</td>  <td>0.7686</td> <td>-1.6021</td> <td>3.5521</td>  <td>False</td>\n",
              "</tr>\n",
              "<tr>\n",
              "    <td>B2</td>     <td>B3</td>     <td>0.775</td>  <td>0.8814</td> <td>-1.8021</td> <td>3.3521</td>  <td>False</td>\n",
              "</tr>\n",
              "<tr>\n",
              "    <td>B2</td>     <td>B4</td>      <td>0.0</td>     <td>1.0</td>  <td>-2.5771</td> <td>2.5771</td>  <td>False</td>\n",
              "</tr>\n",
              "<tr>\n",
              "    <td>B2</td>     <td>B5</td>     <td>0.975</td>  <td>0.7686</td> <td>-1.6021</td> <td>3.5521</td>  <td>False</td>\n",
              "</tr>\n",
              "<tr>\n",
              "    <td>B3</td>     <td>B4</td>    <td>-0.775</td>  <td>0.8814</td> <td>-3.3521</td> <td>1.8021</td>  <td>False</td>\n",
              "</tr>\n",
              "<tr>\n",
              "    <td>B3</td>     <td>B5</td>      <td>0.2</td>   <td>0.9992</td> <td>-2.3771</td> <td>2.7771</td>  <td>False</td>\n",
              "</tr>\n",
              "<tr>\n",
              "    <td>B4</td>     <td>B5</td>     <td>0.975</td>  <td>0.7686</td> <td>-1.6021</td> <td>3.5521</td>  <td>False</td>\n",
              "</tr>\n",
              "</table>"
            ]
          },
          "metadata": {},
          "execution_count": 56
        },
        {
          "output_type": "display_data",
          "data": {
            "text/plain": [
              "<Figure size 1000x600 with 1 Axes>"
            ],
            "image/png": "[encoded data removed]"
          },
          "metadata": {}
        }
      ]
    },
    {
      "cell_type": "markdown",
      "source": [
        "# **2.12 Supuesto del Modelo: Normalidad Prueba de  Shapiro Wilks**"
      ],
      "metadata": {
        "id": "Jb1RjulT3YVd"
      }
    },
    {
      "cell_type": "code",
      "source": [
        "\n",
        "# **3.12 Supuesto del Modelo: Normalidad Prueba de  Shapiro Wilks**\n",
        "w, pvalue = stats.shapiro(modeloDBCA.resid)\n",
        "print(w, pvalue)"
      ],
      "metadata": {
        "colab": {
          "base_uri": "https://localhost:8080/"
        },
        "id": "9DSUaVkq2Ddz",
        "outputId": "1dc96c2f-13a2-4923-b333-42196240fa58"
      },
      "execution_count": null,
      "outputs": [
        {
          "output_type": "stream",
          "name": "stdout",
          "text": [
            "0.955288290977478 0.4545067846775055\n"
          ]
        }
      ]
    },
    {
      "cell_type": "markdown",
      "source": [
        "# **2.13  Supuesto del Modelo: Normalidad: Prueba gráfica con el gráfico de probabilidad Normal y el Histograma**"
      ],
      "metadata": {
        "id": "1PNAteHY3-dx"
      }
    },
    {
      "cell_type": "code",
      "source": [
        "# **2.13  Supuesto del Modelo: Normalidad: Prueba gráfica con el gráfico de probabilidad Normal y el Histograma**\n",
        "fig = plt.figure(figsize= (5, 5))\n",
        "ax = fig.add_subplot(111)\n",
        "normality_plot, stat = stats.probplot(modeloDBCA.resid, plot= plt, rvalue= False)\n",
        "ax.set_title(\"Gráfico de Probabiliad para los residuos\", fontsize= 10)\n",
        "ax.set\n",
        "\n",
        "plt.show()"
      ],
      "metadata": {
        "colab": {
          "base_uri": "https://localhost:8080/"
        },
        "id": "Xr0FQW6E2DhZ",
        "outputId": "6f3b5cee-f34d-4c06-a7d8-5b70ec851957"
      },
      "execution_count": null,
      "outputs": [
        {
          "output_type": "display_data",
          "data": {
            "text/plain": [
              "<Figure size 500x500 with 1 Axes>"
            ],
            "image/png": "[encoded data removed]"
          },
          "metadata": {}
        }
      ]
    },
    {
      "cell_type": "markdown",
      "source": [
        "# **2.14 Residuos del Modelo**"
      ],
      "metadata": {
        "id": "nHkFe3Iv64uN"
      }
    },
    {
      "cell_type": "code",
      "source": [
        "# **2.14 Residuos del Modelo**\n",
        "modeloDBCA.resid.describe()"
      ],
      "metadata": {
        "colab": {
          "base_uri": "https://localhost:8080/"
        },
        "id": "fJ_00hnu2Dk2",
        "outputId": "5825d46d-e370-4ef5-c0ce-3d7f35a1e3be"
      },
      "execution_count": null,
      "outputs": [
        {
          "output_type": "execute_result",
          "data": {
            "text/plain": [
              "count    2.000000e+01\n",
              "mean     6.217249e-16\n",
              "std      6.627296e-01\n",
              "min     -1.025000e+00\n",
              "25%     -5.500000e-01\n",
              "50%     -2.500000e-02\n",
              "75%      4.500000e-01\n",
              "max      1.150000e+00\n",
              "dtype: float64"
            ]
          },
          "metadata": {},
          "execution_count": 59
        }
      ]
    },
    {
      "cell_type": "markdown",
      "source": [
        "# **2.15 Histograma de Residuos**"
      ],
      "metadata": {
        "id": "ExO2IA3y689v"
      }
    },
    {
      "cell_type": "code",
      "source": [
        "\n",
        "# **2.15 Histograma de Residuos**\n",
        "plt.hist(modeloDBCA.resid, bins='auto', histtype='bar', ec='k')\n",
        "\n",
        "plt.xlabel(\"Residuals\")\n",
        "plt.ylabel('Frecuencia')\n",
        "plt.show()\n"
      ],
      "metadata": {
        "colab": {
          "base_uri": "https://localhost:8080/",
          "height": 449
        },
        "id": "D0KK4C8K6DME",
        "outputId": "bcea930b-6472-4d15-9d46-f2de7f13e7b7"
      },
      "execution_count": null,
      "outputs": [
        {
          "output_type": "display_data",
          "data": {
            "text/plain": [
              "<Figure size 640x480 with 1 Axes>"
            ],
            "image/png": "[encoded data removed]"
          },
          "metadata": {}
        }
      ]
    },
    {
      "cell_type": "markdown",
      "source": [
        "# **2.16 Histograma + curva normal teórica**"
      ],
      "metadata": {
        "id": "RVrKPGQt7Cwt"
      }
    },
    {
      "cell_type": "code",
      "source": [
        "# **2.16 Histograma + curva normal teórica**\n",
        "# ==============================================================================\n",
        "Volumen = modeloDBCA.resid\n",
        "# Valores de la media (mu) y desviación típica (sigma) de los datos\n",
        "mu, sigma = stats.norm.fit(Volumen)\n",
        "\n",
        "# Valores teóricos de la normal en el rango observado\n",
        "x_hat = np.linspace(min(Volumen), max(Volumen), num=20)\n",
        "y_hat = stats.norm.pdf(x_hat, mu, sigma)\n",
        "\n",
        "# Gráfico\n",
        "fig, ax = plt.subplots(figsize=(7,4))\n",
        "ax.plot(x_hat, y_hat, linewidth=2, label='normal')\n",
        "ax.hist(x=Volumen, density=True, bins=30,  alpha=0.5)\n",
        "ax.plot(Volumen, np.full_like(Volumen, -0.01), '|k', markeredgewidth=1)\n",
        "ax.set_title('Distribución del Volumen')\n",
        "ax.set_xlabel('Volumen')\n",
        "ax.set_ylabel('Densidad de probabilidad')\n",
        "ax.legend();"
      ],
      "metadata": {
        "colab": {
          "base_uri": "https://localhost:8080/",
          "height": 410
        },
        "id": "KCCn1tl82Dok",
        "outputId": "d7f8a13a-dd29-488a-c8e3-6ea229d8d4f7"
      },
      "execution_count": null,
      "outputs": [
        {
          "output_type": "display_data",
          "data": {
            "text/plain": [
              "<Figure size 700x400 with 1 Axes>"
            ],
            "image/png": "[encoded data removed]"
          },
          "metadata": {}
        }
      ]
    },
    {
      "cell_type": "markdown",
      "source": [
        "# **2.17 Gráfico Q-Q**"
      ],
      "metadata": {
        "id": "TNn6hqqw7ln-"
      }
    },
    {
      "cell_type": "code",
      "source": [
        "# **2.17 Gráfico Q-Q**\n",
        "# ==============================================================================\n",
        "fig, ax = plt.subplots(figsize=(7,4))\n",
        "sm.qqplot(\n",
        "    Volumen,\n",
        "    fit   = True,\n",
        "    line  = 'q',\n",
        "    alpha = 0.8,\n",
        "    lw    = 5,\n",
        "    ax    = ax\n",
        ")\n",
        "ax.set_title('Gráfico Q-Q para Volumen', fontsize = 10,\n",
        "             fontweight = \"bold\")\n",
        "ax.tick_params(labelsize = 8)"
      ],
      "metadata": {
        "colab": {
          "base_uri": "https://localhost:8080/"
        },
        "id": "_cEQAhOO7WHo",
        "outputId": "4951b489-2277-4ab1-8bb3-8129bc1a8b11"
      },
      "execution_count": null,
      "outputs": [
        {
          "output_type": "display_data",
          "data": {
            "text/plain": [
              "<Figure size 700x400 with 1 Axes>"
            ],
            "image/png": "[encoded data removed]"
          },
          "metadata": {}
        }
      ]
    },
    {
      "cell_type": "code",
      "source": [
        "# 2.18. Homocedasticidad de los residuos: Usando la prueba de Levene\n",
        "stats.levene(DBCA['V_Sanguineo'][DBCA['S_Ferroso'] == 'T1'],\n",
        "             DBCA['V_Sanguineo'][DBCA['S_Ferroso'] == 'T2'],\n",
        "             DBCA['V_Sanguineo'][DBCA['S_Ferroso'] == 'T3'],\n",
        "             DBCA['V_Sanguineo'][DBCA['S_Ferroso'] == 'T4'])"
      ],
      "metadata": {
        "id": "rXoerXiz7o5t",
        "colab": {
          "base_uri": "https://localhost:8080/"
        },
        "outputId": "3fa831e5-78f5-4f2a-a3d6-785abe20f5aa"
      },
      "execution_count": null,
      "outputs": [
        {
          "output_type": "execute_result",
          "data": {
            "text/plain": [
              "LeveneResult(statistic=1.2169576059850375, pvalue=0.33572362617286766)"
            ]
          },
          "metadata": {},
          "execution_count": 63
        }
      ]
    }
  ],
  "metadata": {
    "colab": {
      "provenance": [],
      "authorship_tag": "ABX9TyPE6W1SRXh4HPoGboT2Ptlf",
      "include_colab_link": true
    },
    "kernelspec": {
      "display_name": "Python 3",
      "name": "python3"
    },
    "language_info": {
      "name": "python"
    }
  },
  "nbformat": 4,
  "nbformat_minor": 0
}