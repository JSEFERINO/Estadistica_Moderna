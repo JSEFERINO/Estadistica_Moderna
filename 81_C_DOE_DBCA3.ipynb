{
  "cells": [
    {
      "cell_type": "markdown",
      "metadata": {
        "id": "view-in-github",
        "colab_type": "text"
      },
      "source": [
        "<a href=\"https://colab.research.google.com/github/JSEFERINO/Estadistica_Moderna/blob/main/81_C_DOE_DBCA3.ipynb\" target=\"_parent\"><img src=\"https://colab.research.google.com/assets/colab-badge.svg\" alt=\"Open In Colab\"/></a>"
      ]
    },
    {
      "cell_type": "markdown",
      "source": [
        "# **Diseño de Experimentos 2023 - DBCA**"
      ],
      "metadata": {
        "id": "USoQK2e29Lc2"
      }
    },
    {
      "cell_type": "markdown",
      "source": [
        "# **Librerías Básicas para Diseño de Experimentos**"
      ],
      "metadata": {
        "id": "5YChwvrcZVW2"
      }
    },
    {
      "cell_type": "code",
      "execution_count": null,
      "metadata": {
        "id": "NDsk6rM2o-2j"
      },
      "outputs": [],
      "source": [
        "import pandas as pd\n",
        "import numpy as np\n",
        "import matplotlib.pyplot as plt\n",
        "import matplotlib.colors as mcolors\n",
        "import seaborn as sns\n",
        "import statsmodels\n",
        "import statsmodels.api as sm\n",
        "from statsmodels.formula.api import ols\n",
        "from statsmodels.stats.multicomp import pairwise_tukeyhsd\n",
        "import statsmodels.formula.api as smf\n",
        "import scipy.stats as stats\n",
        "!pip install bioinfokit\n",
        "from bioinfokit.analys import stat\n",
        "!pip install pingouin\n",
        "import pingouin as pg"
      ]
    },
    {
      "cell_type": "markdown",
      "source": [
        "# **3.0 Problema de aplicación. Supóngase un estudio en el que se quiere comprobar si el precio de la compra varía entre 4 cadenas de supermercado. Para ello, se selecciona una serie de elementos de la compra cotidiana y se registra su valor en cada uno de los supermercados ¿Existen evidencias de que el precio medio de la compra es diferente dependiendo del supermercado?**\n"
      ],
      "metadata": {
        "id": "pMjcx5qZ1WDZ"
      }
    },
    {
      "cell_type": "markdown",
      "source": [
        "## **3.1 Los Datos: Productos comunes y los precios de cada uo de Ellos en la Tienda**"
      ],
      "metadata": {
        "id": "yhgRFTVy2LWd"
      }
    },
    {
      "cell_type": "code",
      "execution_count": null,
      "metadata": {
        "id": "Qv8i8GJraTfy"
      },
      "outputs": [],
      "source": [
        "## **3.1 Los Datos: Productos comunes y los precios de cada uo de Ellos en la Tienda**\n",
        "Producto  =  [ \"lechuga\" ,  \"papas\" ,  \"leche\" ,  \"huevos\" ,  \"pan\" ,  \"cereal\" ,  \"carne.molida\" , \"tomate.sopa\", \"lavandería.detergente\" , \" aspirina\" ]\n",
        "\n",
        "Tienda_A = [ 1.755 , 2.655 , 2.235 , 0.975 , 2.370 , 4.695 , 3.135 , 0.930 , 8.235 , 6.690 ]\n",
        "Tienda_B = [ 1.78,  1.98 ,  1.69 ,  0.99 ,  1.70 ,  3.15 ,  1.88 ,  0.65 ,  5.99 ,  4.84 ]\n",
        "Tienda_C  =  [ 1.29 ,  1.99 ,  1.79 ,  0.69 ,  1.89 ,  2.99 ,  2.09 ,  0.65 ,  5.99 ,  4.99 ]\n",
        "Tienda_D  =  [ 1.29 ,  1.99 ,  1.59 ,  1.09 ,  1.89 , 3.09 ,  2.49 ,  0.69 ,  6.99 ,  5.15 ]"
      ]
    },
    {
      "cell_type": "markdown",
      "source": [
        "## **3.2 Construyamos el dataFrame de los precios y productos**"
      ],
      "metadata": {
        "id": "looOZGMQ4DHt"
      }
    },
    {
      "cell_type": "code",
      "source": [
        "## **3.2 Construyamos el dataFrame de los precios y productos**\n",
        "datos = pd.DataFrame({'Producto':Producto*4, 'Tienda':np.repeat(['A', 'B', 'C', 'D'],10), 'Precio':Tienda_A+Tienda_B+Tienda_C+Tienda_D})"
      ],
      "metadata": {
        "id": "GnJFFFNq2NTf"
      },
      "execution_count": null,
      "outputs": []
    },
    {
      "cell_type": "markdown",
      "source": [
        "## **3.3 Veamos el DataFrame**"
      ],
      "metadata": {
        "id": "8I3kfPNM4YK7"
      }
    },
    {
      "cell_type": "code",
      "source": [
        "## **3.3 Veamos el DataFrame**\n",
        "datos"
      ],
      "metadata": {
        "colab": {
          "base_uri": "https://localhost:8080/",
          "height": 1000
        },
        "id": "ZQ6DiPF22NXc",
        "outputId": "1a77004f-6ead-498a-aaa0-ed0b05f58c57"
      },
      "execution_count": null,
      "outputs": [
        {
          "output_type": "execute_result",
          "data": {
            "text/plain": [
              "                 Producto Tienda  Precio\n",
              "0                 lechuga      A   1.755\n",
              "1                   papas      A   2.655\n",
              "2                   leche      A   2.235\n",
              "3                  huevos      A   0.975\n",
              "4                     pan      A   2.370\n",
              "5                  cereal      A   4.695\n",
              "6            carne.molida      A   3.135\n",
              "7             tomate.sopa      A   0.930\n",
              "8   lavandería.detergente      A   8.235\n",
              "9                aspirina      A   6.690\n",
              "10                lechuga      B   1.780\n",
              "11                  papas      B   1.980\n",
              "12                  leche      B   1.690\n",
              "13                 huevos      B   0.990\n",
              "14                    pan      B   1.700\n",
              "15                 cereal      B   3.150\n",
              "16           carne.molida      B   1.880\n",
              "17            tomate.sopa      B   0.650\n",
              "18  lavandería.detergente      B   5.990\n",
              "19               aspirina      B   4.840\n",
              "20                lechuga      C   1.290\n",
              "21                  papas      C   1.990\n",
              "22                  leche      C   1.790\n",
              "23                 huevos      C   0.690\n",
              "24                    pan      C   1.890\n",
              "25                 cereal      C   2.990\n",
              "26           carne.molida      C   2.090\n",
              "27            tomate.sopa      C   0.650\n",
              "28  lavandería.detergente      C   5.990\n",
              "29               aspirina      C   4.990\n",
              "30                lechuga      D   1.290\n",
              "31                  papas      D   1.990\n",
              "32                  leche      D   1.590\n",
              "33                 huevos      D   1.090\n",
              "34                    pan      D   1.890\n",
              "35                 cereal      D   3.090\n",
              "36           carne.molida      D   2.490\n",
              "37            tomate.sopa      D   0.690\n",
              "38  lavandería.detergente      D   6.990\n",
              "39               aspirina      D   5.150"
            ],
            "text/html": [
              "\n",
              "  <div id=\"df-4e344d9a-91b0-41e6-87c5-974b20660632\">\n",
              "    <div class=\"colab-df-container\">\n",
              "      <div>\n",
              "<style scoped>\n",
              "    .dataframe tbody tr th:only-of-type {\n",
              "        vertical-align: middle;\n",
              "    }\n",
              "\n",
              "    .dataframe tbody tr th {\n",
              "        vertical-align: top;\n",
              "    }\n",
              "\n",
              "    .dataframe thead th {\n",
              "        text-align: right;\n",
              "    }\n",
              "</style>\n",
              "<table border=\"1\" class=\"dataframe\">\n",
              "  <thead>\n",
              "    <tr style=\"text-align: right;\">\n",
              "      <th></th>\n",
              "      <th>Producto</th>\n",
              "      <th>Tienda</th>\n",
              "      <th>Precio</th>\n",
              "    </tr>\n",
              "  </thead>\n",
              "  <tbody>\n",
              "    <tr>\n",
              "      <th>0</th>\n",
              "      <td>lechuga</td>\n",
              "      <td>A</td>\n",
              "      <td>1.755</td>\n",
              "    </tr>\n",
              "    <tr>\n",
              "      <th>1</th>\n",
              "      <td>papas</td>\n",
              "      <td>A</td>\n",
              "      <td>2.655</td>\n",
              "    </tr>\n",
              "    <tr>\n",
              "      <th>2</th>\n",
              "      <td>leche</td>\n",
              "      <td>A</td>\n",
              "      <td>2.235</td>\n",
              "    </tr>\n",
              "    <tr>\n",
              "      <th>3</th>\n",
              "      <td>huevos</td>\n",
              "      <td>A</td>\n",
              "      <td>0.975</td>\n",
              "    </tr>\n",
              "    <tr>\n",
              "      <th>4</th>\n",
              "      <td>pan</td>\n",
              "      <td>A</td>\n",
              "      <td>2.370</td>\n",
              "    </tr>\n",
              "    <tr>\n",
              "      <th>5</th>\n",
              "      <td>cereal</td>\n",
              "      <td>A</td>\n",
              "      <td>4.695</td>\n",
              "    </tr>\n",
              "    <tr>\n",
              "      <th>6</th>\n",
              "      <td>carne.molida</td>\n",
              "      <td>A</td>\n",
              "      <td>3.135</td>\n",
              "    </tr>\n",
              "    <tr>\n",
              "      <th>7</th>\n",
              "      <td>tomate.sopa</td>\n",
              "      <td>A</td>\n",
              "      <td>0.930</td>\n",
              "    </tr>\n",
              "    <tr>\n",
              "      <th>8</th>\n",
              "      <td>lavandería.detergente</td>\n",
              "      <td>A</td>\n",
              "      <td>8.235</td>\n",
              "    </tr>\n",
              "    <tr>\n",
              "      <th>9</th>\n",
              "      <td>aspirina</td>\n",
              "      <td>A</td>\n",
              "      <td>6.690</td>\n",
              "    </tr>\n",
              "    <tr>\n",
              "      <th>10</th>\n",
              "      <td>lechuga</td>\n",
              "      <td>B</td>\n",
              "      <td>1.780</td>\n",
              "    </tr>\n",
              "    <tr>\n",
              "      <th>11</th>\n",
              "      <td>papas</td>\n",
              "      <td>B</td>\n",
              "      <td>1.980</td>\n",
              "    </tr>\n",
              "    <tr>\n",
              "      <th>12</th>\n",
              "      <td>leche</td>\n",
              "      <td>B</td>\n",
              "      <td>1.690</td>\n",
              "    </tr>\n",
              "    <tr>\n",
              "      <th>13</th>\n",
              "      <td>huevos</td>\n",
              "      <td>B</td>\n",
              "      <td>0.990</td>\n",
              "    </tr>\n",
              "    <tr>\n",
              "      <th>14</th>\n",
              "      <td>pan</td>\n",
              "      <td>B</td>\n",
              "      <td>1.700</td>\n",
              "    </tr>\n",
              "    <tr>\n",
              "      <th>15</th>\n",
              "      <td>cereal</td>\n",
              "      <td>B</td>\n",
              "      <td>3.150</td>\n",
              "    </tr>\n",
              "    <tr>\n",
              "      <th>16</th>\n",
              "      <td>carne.molida</td>\n",
              "      <td>B</td>\n",
              "      <td>1.880</td>\n",
              "    </tr>\n",
              "    <tr>\n",
              "      <th>17</th>\n",
              "      <td>tomate.sopa</td>\n",
              "      <td>B</td>\n",
              "      <td>0.650</td>\n",
              "    </tr>\n",
              "    <tr>\n",
              "      <th>18</th>\n",
              "      <td>lavandería.detergente</td>\n",
              "      <td>B</td>\n",
              "      <td>5.990</td>\n",
              "    </tr>\n",
              "    <tr>\n",
              "      <th>19</th>\n",
              "      <td>aspirina</td>\n",
              "      <td>B</td>\n",
              "      <td>4.840</td>\n",
              "    </tr>\n",
              "    <tr>\n",
              "      <th>20</th>\n",
              "      <td>lechuga</td>\n",
              "      <td>C</td>\n",
              "      <td>1.290</td>\n",
              "    </tr>\n",
              "    <tr>\n",
              "      <th>21</th>\n",
              "      <td>papas</td>\n",
              "      <td>C</td>\n",
              "      <td>1.990</td>\n",
              "    </tr>\n",
              "    <tr>\n",
              "      <th>22</th>\n",
              "      <td>leche</td>\n",
              "      <td>C</td>\n",
              "      <td>1.790</td>\n",
              "    </tr>\n",
              "    <tr>\n",
              "      <th>23</th>\n",
              "      <td>huevos</td>\n",
              "      <td>C</td>\n",
              "      <td>0.690</td>\n",
              "    </tr>\n",
              "    <tr>\n",
              "      <th>24</th>\n",
              "      <td>pan</td>\n",
              "      <td>C</td>\n",
              "      <td>1.890</td>\n",
              "    </tr>\n",
              "    <tr>\n",
              "      <th>25</th>\n",
              "      <td>cereal</td>\n",
              "      <td>C</td>\n",
              "      <td>2.990</td>\n",
              "    </tr>\n",
              "    <tr>\n",
              "      <th>26</th>\n",
              "      <td>carne.molida</td>\n",
              "      <td>C</td>\n",
              "      <td>2.090</td>\n",
              "    </tr>\n",
              "    <tr>\n",
              "      <th>27</th>\n",
              "      <td>tomate.sopa</td>\n",
              "      <td>C</td>\n",
              "      <td>0.650</td>\n",
              "    </tr>\n",
              "    <tr>\n",
              "      <th>28</th>\n",
              "      <td>lavandería.detergente</td>\n",
              "      <td>C</td>\n",
              "      <td>5.990</td>\n",
              "    </tr>\n",
              "    <tr>\n",
              "      <th>29</th>\n",
              "      <td>aspirina</td>\n",
              "      <td>C</td>\n",
              "      <td>4.990</td>\n",
              "    </tr>\n",
              "    <tr>\n",
              "      <th>30</th>\n",
              "      <td>lechuga</td>\n",
              "      <td>D</td>\n",
              "      <td>1.290</td>\n",
              "    </tr>\n",
              "    <tr>\n",
              "      <th>31</th>\n",
              "      <td>papas</td>\n",
              "      <td>D</td>\n",
              "      <td>1.990</td>\n",
              "    </tr>\n",
              "    <tr>\n",
              "      <th>32</th>\n",
              "      <td>leche</td>\n",
              "      <td>D</td>\n",
              "      <td>1.590</td>\n",
              "    </tr>\n",
              "    <tr>\n",
              "      <th>33</th>\n",
              "      <td>huevos</td>\n",
              "      <td>D</td>\n",
              "      <td>1.090</td>\n",
              "    </tr>\n",
              "    <tr>\n",
              "      <th>34</th>\n",
              "      <td>pan</td>\n",
              "      <td>D</td>\n",
              "      <td>1.890</td>\n",
              "    </tr>\n",
              "    <tr>\n",
              "      <th>35</th>\n",
              "      <td>cereal</td>\n",
              "      <td>D</td>\n",
              "      <td>3.090</td>\n",
              "    </tr>\n",
              "    <tr>\n",
              "      <th>36</th>\n",
              "      <td>carne.molida</td>\n",
              "      <td>D</td>\n",
              "      <td>2.490</td>\n",
              "    </tr>\n",
              "    <tr>\n",
              "      <th>37</th>\n",
              "      <td>tomate.sopa</td>\n",
              "      <td>D</td>\n",
              "      <td>0.690</td>\n",
              "    </tr>\n",
              "    <tr>\n",
              "      <th>38</th>\n",
              "      <td>lavandería.detergente</td>\n",
              "      <td>D</td>\n",
              "      <td>6.990</td>\n",
              "    </tr>\n",
              "    <tr>\n",
              "      <th>39</th>\n",
              "      <td>aspirina</td>\n",
              "      <td>D</td>\n",
              "      <td>5.150</td>\n",
              "    </tr>\n",
              "  </tbody>\n",
              "</table>\n",
              "</div>\n",
              "      <button class=\"colab-df-convert\" onclick=\"convertToInteractive('df-4e344d9a-91b0-41e6-87c5-974b20660632')\"\n",
              "              title=\"Convert this dataframe to an interactive table.\"\n",
              "              style=\"display:none;\">\n",
              "        \n",
              "  <svg xmlns=\"http://www.w3.org/2000/svg\" height=\"24px\"viewBox=\"0 0 24 24\"\n",
              "       width=\"24px\">\n",
              "    <path d=\"M0 0h24v24H0V0z\" fill=\"none\"/>\n",
              "    <path d=\"M18.56 5.44l.94 2.06.94-2.06 2.06-.94-2.06-.94-.94-2.06-.94 2.06-2.06.94zm-11 1L8.5 8.5l.94-2.06 2.06-.94-2.06-.94L8.5 2.5l-.94 2.06-2.06.94zm10 10l.94 2.06.94-2.06 2.06-.94-2.06-.94-.94-2.06-.94 2.06-2.06.94z\"/><path d=\"M17.41 7.96l-1.37-1.37c-.4-.4-.92-.59-1.43-.59-.52 0-1.04.2-1.43.59L10.3 9.45l-7.72 7.72c-.78.78-.78 2.05 0 2.83L4 21.41c.39.39.9.59 1.41.59.51 0 1.02-.2 1.41-.59l7.78-7.78 2.81-2.81c.8-.78.8-2.07 0-2.86zM5.41 20L4 18.59l7.72-7.72 1.47 1.35L5.41 20z\"/>\n",
              "  </svg>\n",
              "      </button>\n",
              "      \n",
              "  <style>\n",
              "    .colab-df-container {\n",
              "      display:flex;\n",
              "      flex-wrap:wrap;\n",
              "      gap: 12px;\n",
              "    }\n",
              "\n",
              "    .colab-df-convert {\n",
              "      background-color: #E8F0FE;\n",
              "      border: none;\n",
              "      border-radius: 50%;\n",
              "      cursor: pointer;\n",
              "      display: none;\n",
              "      fill: #1967D2;\n",
              "      height: 32px;\n",
              "      padding: 0 0 0 0;\n",
              "      width: 32px;\n",
              "    }\n",
              "\n",
              "    .colab-df-convert:hover {\n",
              "      background-color: #E2EBFA;\n",
              "      box-shadow: 0px 1px 2px rgba(60, 64, 67, 0.3), 0px 1px 3px 1px rgba(60, 64, 67, 0.15);\n",
              "      fill: #174EA6;\n",
              "    }\n",
              "\n",
              "    [theme=dark] .colab-df-convert {\n",
              "      background-color: #3B4455;\n",
              "      fill: #D2E3FC;\n",
              "    }\n",
              "\n",
              "    [theme=dark] .colab-df-convert:hover {\n",
              "      background-color: #434B5C;\n",
              "      box-shadow: 0px 1px 3px 1px rgba(0, 0, 0, 0.15);\n",
              "      filter: drop-shadow(0px 1px 2px rgba(0, 0, 0, 0.3));\n",
              "      fill: #FFFFFF;\n",
              "    }\n",
              "  </style>\n",
              "\n",
              "      <script>\n",
              "        const buttonEl =\n",
              "          document.querySelector('#df-4e344d9a-91b0-41e6-87c5-974b20660632 button.colab-df-convert');\n",
              "        buttonEl.style.display =\n",
              "          google.colab.kernel.accessAllowed ? 'block' : 'none';\n",
              "\n",
              "        async function convertToInteractive(key) {\n",
              "          const element = document.querySelector('#df-4e344d9a-91b0-41e6-87c5-974b20660632');\n",
              "          const dataTable =\n",
              "            await google.colab.kernel.invokeFunction('convertToInteractive',\n",
              "                                                     [key], {});\n",
              "          if (!dataTable) return;\n",
              "\n",
              "          const docLinkHtml = 'Like what you see? Visit the ' +\n",
              "            '<a target=\"_blank\" href=https://colab.research.google.com/notebooks/data_table.ipynb>data table notebook</a>'\n",
              "            + ' to learn more about interactive tables.';\n",
              "          element.innerHTML = '';\n",
              "          dataTable['output_type'] = 'display_data';\n",
              "          await google.colab.output.renderOutput(dataTable, element);\n",
              "          const docLink = document.createElement('div');\n",
              "          docLink.innerHTML = docLinkHtml;\n",
              "          element.appendChild(docLink);\n",
              "        }\n",
              "      </script>\n",
              "    </div>\n",
              "  </div>\n",
              "  "
            ]
          },
          "metadata": {},
          "execution_count": 84
        }
      ]
    },
    {
      "cell_type": "markdown",
      "source": [
        "## **3.4 Diagrama de caja**"
      ],
      "metadata": {
        "id": "iRHWeAKl49eS"
      }
    },
    {
      "cell_type": "code",
      "source": [
        "## **3.4 Diagrama de caja**\n",
        "fig, ax = plt.subplots(1, 1, figsize=(8, 4))\n",
        "ax.set_title('Precios vs Tienda')\n",
        "sns.boxplot(x=\"Tienda\", y=\"Precio\", data=datos, ax=ax)\n",
        "sns.swarmplot(x=\"Tienda\", y=\"Precio\", data=datos, color='black', alpha=0.5, ax=ax);"
      ],
      "metadata": {
        "colab": {
          "base_uri": "https://localhost:8080/",
          "height": 410
        },
        "id": "2lSdyj1t2NbF",
        "outputId": "ad641cab-c0bf-48d2-f8ba-86c930b20666"
      },
      "execution_count": null,
      "outputs": [
        {
          "output_type": "display_data",
          "data": {
            "text/plain": [
              "<Figure size 800x400 with 1 Axes>"
            ],
            "image/png": "[encoded data removed]"
          },
          "metadata": {}
        }
      ]
    },
    {
      "cell_type": "markdown",
      "source": [
        "## **3.5 Precio medios y desviación típica por tienda**"
      ],
      "metadata": {
        "id": "tdq4_N548rBW"
      }
    },
    {
      "cell_type": "code",
      "source": [
        "## **3.5 Precio medios y desviación típica por tienda**\n",
        "datos.groupby('Tienda')['Precio'].agg(['mean', 'std', 'min', 'max'])"
      ],
      "metadata": {
        "colab": {
          "base_uri": "https://localhost:8080/",
          "height": 206
        },
        "id": "RLOWVZ5f2NeV",
        "outputId": "478f40f9-3ab4-40e2-b2fc-c69639dbda59"
      },
      "execution_count": null,
      "outputs": [
        {
          "output_type": "execute_result",
          "data": {
            "text/plain": [
              "          mean       std   min    max\n",
              "Tienda                               \n",
              "A       3.3675  2.440371  0.93  8.235\n",
              "B       2.4650  1.707430  0.65  5.990\n",
              "C       2.4360  1.765296  0.65  5.990\n",
              "D       2.6260  1.987758  0.69  6.990"
            ],
            "text/html": [
              "\n",
              "  <div id=\"df-e2702475-eb96-4278-bf91-393c169773cc\" class=\"colab-df-container\">\n",
              "    <div>\n",
              "<style scoped>\n",
              "    .dataframe tbody tr th:only-of-type {\n",
              "        vertical-align: middle;\n",
              "    }\n",
              "\n",
              "    .dataframe tbody tr th {\n",
              "        vertical-align: top;\n",
              "    }\n",
              "\n",
              "    .dataframe thead th {\n",
              "        text-align: right;\n",
              "    }\n",
              "</style>\n",
              "<table border=\"1\" class=\"dataframe\">\n",
              "  <thead>\n",
              "    <tr style=\"text-align: right;\">\n",
              "      <th></th>\n",
              "      <th>mean</th>\n",
              "      <th>std</th>\n",
              "      <th>min</th>\n",
              "      <th>max</th>\n",
              "    </tr>\n",
              "    <tr>\n",
              "      <th>Tienda</th>\n",
              "      <th></th>\n",
              "      <th></th>\n",
              "      <th></th>\n",
              "      <th></th>\n",
              "    </tr>\n",
              "  </thead>\n",
              "  <tbody>\n",
              "    <tr>\n",
              "      <th>A</th>\n",
              "      <td>3.3675</td>\n",
              "      <td>2.440371</td>\n",
              "      <td>0.93</td>\n",
              "      <td>8.235</td>\n",
              "    </tr>\n",
              "    <tr>\n",
              "      <th>B</th>\n",
              "      <td>2.4650</td>\n",
              "      <td>1.707430</td>\n",
              "      <td>0.65</td>\n",
              "      <td>5.990</td>\n",
              "    </tr>\n",
              "    <tr>\n",
              "      <th>C</th>\n",
              "      <td>2.4360</td>\n",
              "      <td>1.765296</td>\n",
              "      <td>0.65</td>\n",
              "      <td>5.990</td>\n",
              "    </tr>\n",
              "    <tr>\n",
              "      <th>D</th>\n",
              "      <td>2.6260</td>\n",
              "      <td>1.987758</td>\n",
              "      <td>0.69</td>\n",
              "      <td>6.990</td>\n",
              "    </tr>\n",
              "  </tbody>\n",
              "</table>\n",
              "</div>\n",
              "    <div class=\"colab-df-buttons\">\n",
              "\n",
              "  <div class=\"colab-df-container\">\n",
              "    <button class=\"colab-df-convert\" onclick=\"convertToInteractive('df-e2702475-eb96-4278-bf91-393c169773cc')\"\n",
              "            title=\"Convert this dataframe to an interactive table.\"\n",
              "            style=\"display:none;\">\n",
              "\n",
              "  <svg xmlns=\"http://www.w3.org/2000/svg\" height=\"24px\" viewBox=\"0 -960 960 960\">\n",
              "    <path d=\"M120-120v-720h720v720H120Zm60-500h600v-160H180v160Zm220 220h160v-160H400v160Zm0 220h160v-160H400v160ZM180-400h160v-160H180v160Zm440 0h160v-160H620v160ZM180-180h160v-160H180v160Zm440 0h160v-160H620v160Z\"/>\n",
              "  </svg>\n",
              "    </button>\n",
              "\n",
              "  <style>\n",
              "    .colab-df-container {\n",
              "      display:flex;\n",
              "      gap: 12px;\n",
              "    }\n",
              "\n",
              "    .colab-df-convert {\n",
              "      background-color: #E8F0FE;\n",
              "      border: none;\n",
              "      border-radius: 50%;\n",
              "      cursor: pointer;\n",
              "      display: none;\n",
              "      fill: #1967D2;\n",
              "      height: 32px;\n",
              "      padding: 0 0 0 0;\n",
              "      width: 32px;\n",
              "    }\n",
              "\n",
              "    .colab-df-convert:hover {\n",
              "      background-color: #E2EBFA;\n",
              "      box-shadow: 0px 1px 2px rgba(60, 64, 67, 0.3), 0px 1px 3px 1px rgba(60, 64, 67, 0.15);\n",
              "      fill: #174EA6;\n",
              "    }\n",
              "\n",
              "    .colab-df-buttons div {\n",
              "      margin-bottom: 4px;\n",
              "    }\n",
              "\n",
              "    [theme=dark] .colab-df-convert {\n",
              "      background-color: #3B4455;\n",
              "      fill: #D2E3FC;\n",
              "    }\n",
              "\n",
              "    [theme=dark] .colab-df-convert:hover {\n",
              "      background-color: #434B5C;\n",
              "      box-shadow: 0px 1px 3px 1px rgba(0, 0, 0, 0.15);\n",
              "      filter: drop-shadow(0px 1px 2px rgba(0, 0, 0, 0.3));\n",
              "      fill: #FFFFFF;\n",
              "    }\n",
              "  </style>\n",
              "\n",
              "    <script>\n",
              "      const buttonEl =\n",
              "        document.querySelector('#df-e2702475-eb96-4278-bf91-393c169773cc button.colab-df-convert');\n",
              "      buttonEl.style.display =\n",
              "        google.colab.kernel.accessAllowed ? 'block' : 'none';\n",
              "\n",
              "      async function convertToInteractive(key) {\n",
              "        const element = document.querySelector('#df-e2702475-eb96-4278-bf91-393c169773cc');\n",
              "        const dataTable =\n",
              "          await google.colab.kernel.invokeFunction('convertToInteractive',\n",
              "                                                    [key], {});\n",
              "        if (!dataTable) return;\n",
              "\n",
              "        const docLinkHtml = 'Like what you see? Visit the ' +\n",
              "          '<a target=\"_blank\" href=https://colab.research.google.com/notebooks/data_table.ipynb>data table notebook</a>'\n",
              "          + ' to learn more about interactive tables.';\n",
              "        element.innerHTML = '';\n",
              "        dataTable['output_type'] = 'display_data';\n",
              "        await google.colab.output.renderOutput(dataTable, element);\n",
              "        const docLink = document.createElement('div');\n",
              "        docLink.innerHTML = docLinkHtml;\n",
              "        element.appendChild(docLink);\n",
              "      }\n",
              "    </script>\n",
              "  </div>\n",
              "\n",
              "    </div>\n",
              "  </div>\n"
            ]
          },
          "metadata": {},
          "execution_count": 56
        }
      ]
    },
    {
      "cell_type": "markdown",
      "source": [
        "## **3.6 Cuartiles**"
      ],
      "metadata": {
        "id": "UgM2LDui8_ll"
      }
    },
    {
      "cell_type": "code",
      "source": [
        "## **3.6 Cuartiles**\n",
        "datos.groupby('Tienda')['Precio'].quantile([.25, .50, .75])"
      ],
      "metadata": {
        "colab": {
          "base_uri": "https://localhost:8080/"
        },
        "id": "LM2kxEpT2Nks",
        "outputId": "fe304c9a-a5a5-4475-d16e-405e8a55c6e3"
      },
      "execution_count": null,
      "outputs": [
        {
          "output_type": "execute_result",
          "data": {
            "text/plain": [
              "Tienda      \n",
              "A       0.25    1.8750\n",
              "        0.50    2.5125\n",
              "        0.75    4.3050\n",
              "B       0.25    1.6925\n",
              "        0.50    1.8300\n",
              "        0.75    2.8575\n",
              "C       0.25    1.4150\n",
              "        0.50    1.9400\n",
              "        0.75    2.7650\n",
              "D       0.25    1.3650\n",
              "        0.50    1.9400\n",
              "        0.75    2.9400\n",
              "Name: Precio, dtype: float64"
            ]
          },
          "metadata": {},
          "execution_count": 57
        }
      ]
    },
    {
      "cell_type": "markdown",
      "source": [
        "## **3.7 Anova - Forma 1**"
      ],
      "metadata": {
        "id": "FG40kib49xq9"
      }
    },
    {
      "cell_type": "code",
      "source": [
        "## **3.7 Anova - Forma 1**\n",
        "\n",
        "modelodatos = ols(\"Precio ~ Tienda+Producto\", data = datos).fit()\n",
        "anova_result = sm.stats.anova_lm(modelodatos, typ=2)\n",
        "print (anova_result)"
      ],
      "metadata": {
        "colab": {
          "base_uri": "https://localhost:8080/"
        },
        "id": "qAQsHX1F2Nos",
        "outputId": "db7987e4-abba-457e-ebe9-0ea6c3685946"
      },
      "execution_count": null,
      "outputs": [
        {
          "output_type": "stream",
          "name": "stdout",
          "text": [
            "              sum_sq    df           F        PR(>F)\n",
            "Tienda      5.737207   3.0   13.025212  1.897557e-05\n",
            "Producto  139.479418   9.0  105.553625  1.102247e-18\n",
            "Residual    3.964224  27.0         NaN           NaN\n"
          ]
        }
      ]
    },
    {
      "cell_type": "markdown",
      "source": [
        "## **3.8 Anova - Forma 2**"
      ],
      "metadata": {
        "id": "hfkMgzy6-YNH"
      }
    },
    {
      "cell_type": "code",
      "source": [
        "## **3.8 Anova - Forma 2**\n",
        "\n",
        "modelodatos2 = smf.ols(\"Precio ~ Tienda+Producto\", data = datos).fit()\n",
        "\n",
        "print (modelodatos2.summary())"
      ],
      "metadata": {
        "colab": {
          "base_uri": "https://localhost:8080/"
        },
        "id": "Vw5kNdei9y2A",
        "outputId": "6cb32e65-caff-47fc-cff6-88cd26c5fd6f"
      },
      "execution_count": null,
      "outputs": [
        {
          "output_type": "stream",
          "name": "stdout",
          "text": [
            "                            OLS Regression Results                            \n",
            "==============================================================================\n",
            "Dep. Variable:                 Precio   R-squared:                       0.973\n",
            "Model:                            OLS   Adj. R-squared:                  0.962\n",
            "Method:                 Least Squares   F-statistic:                     82.42\n",
            "Date:                Fri, 25 Aug 2023   Prob (F-statistic):           4.74e-18\n",
            "Time:                        18:12:28   Log-Likelihood:                -10.526\n",
            "No. Observations:                  40   AIC:                             47.05\n",
            "Df Residuals:                      27   BIC:                             69.01\n",
            "Df Model:                          12                                         \n",
            "Covariance Type:            nonrobust                                         \n",
            "=====================================================================================================\n",
            "                                        coef    std err          t      P>|t|      [0.025      0.975]\n",
            "-----------------------------------------------------------------------------------------------------\n",
            "Intercept                             6.0614      0.218     27.748      0.000       5.613       6.510\n",
            "Tienda[T.B]                          -0.9025      0.171     -5.267      0.000      -1.254      -0.551\n",
            "Tienda[T.C]                          -0.9315      0.171     -5.436      0.000      -1.283      -0.580\n",
            "Tienda[T.D]                          -0.7415      0.171     -4.327      0.000      -1.093      -0.390\n",
            "Producto[T.carne.molida]             -3.0187      0.271    -11.142      0.000      -3.575      -2.463\n",
            "Producto[T.cereal]                   -1.9363      0.271     -7.146      0.000      -2.492      -1.380\n",
            "Producto[T.huevos]                   -4.4812      0.271    -16.539      0.000      -5.037      -3.925\n",
            "Producto[T.lavandería.detergente]     1.3837      0.271      5.107      0.000       0.828       1.940\n",
            "Producto[T.leche]                    -3.5912      0.271    -13.255      0.000      -4.147      -3.035\n",
            "Producto[T.lechuga]                  -3.8888      0.271    -14.353      0.000      -4.445      -3.333\n",
            "Producto[T.pan]                      -3.4550      0.271    -12.752      0.000      -4.011      -2.899\n",
            "Producto[T.papas]                    -3.2637      0.271    -12.046      0.000      -3.820      -2.708\n",
            "Producto[T.tomate.sopa]              -4.6875      0.271    -17.301      0.000      -5.243      -4.132\n",
            "==============================================================================\n",
            "Omnibus:                        0.833   Durbin-Watson:                   1.570\n",
            "Prob(Omnibus):                  0.659   Jarque-Bera (JB):                0.563\n",
            "Skew:                           0.289   Prob(JB):                        0.755\n",
            "Kurtosis:                       2.937   Cond. No.                         11.9\n",
            "==============================================================================\n",
            "\n",
            "Notes:\n",
            "[1] Standard Errors assume that the covariance matrix of the errors is correctly specified.\n"
          ]
        }
      ]
    },
    {
      "cell_type": "markdown",
      "source": [
        "## **3.9 Anova - Forma 2  Test ANOVA de dos vías (Two-way ANOVA)**"
      ],
      "metadata": {
        "id": "AZnZJpYjBocX"
      }
    },
    {
      "cell_type": "code",
      "source": [
        "## **3.9 Anova - Forma 2  Test ANOVA de dos vías (Two-way ANOVA)**\n",
        "# ==============================================================================\n",
        "pg.rm_anova(\n",
        "    data       = datos,\n",
        "    dv         = 'Precio',\n",
        "    within     = 'Tienda',\n",
        "    subject    = 'Producto',\n",
        "    detailed   = True,\n",
        "    correction = 'auto'\n",
        ").round(4)"
      ],
      "metadata": {
        "colab": {
          "base_uri": "https://localhost:8080/",
          "height": 112
        },
        "id": "wpbIXdbI9y5i",
        "outputId": "ffad63bb-c995-4d5c-ddea-68fa175eb42b"
      },
      "execution_count": null,
      "outputs": [
        {
          "output_type": "execute_result",
          "data": {
            "text/plain": [
              "   Source      SS  DF      MS        F  p-unc  p-GG-corr     ng2     eps  \\\n",
              "0  Tienda  5.7372   3  1.9124  13.0252    0.0     0.0017  0.0385  0.4682   \n",
              "1   Error  3.9642  27  0.1468      NaN    NaN        NaN     NaN     NaN   \n",
              "\n",
              "  sphericity  W-spher  p-spher  \n",
              "0      False    0.129   0.0079  \n",
              "1        NaN      NaN      NaN  "
            ],
            "text/html": [
              "\n",
              "  <div id=\"df-b7264649-bd09-4841-9bd7-9cf11f0159cf\">\n",
              "    <div class=\"colab-df-container\">\n",
              "      <div>\n",
              "<style scoped>\n",
              "    .dataframe tbody tr th:only-of-type {\n",
              "        vertical-align: middle;\n",
              "    }\n",
              "\n",
              "    .dataframe tbody tr th {\n",
              "        vertical-align: top;\n",
              "    }\n",
              "\n",
              "    .dataframe thead th {\n",
              "        text-align: right;\n",
              "    }\n",
              "</style>\n",
              "<table border=\"1\" class=\"dataframe\">\n",
              "  <thead>\n",
              "    <tr style=\"text-align: right;\">\n",
              "      <th></th>\n",
              "      <th>Source</th>\n",
              "      <th>SS</th>\n",
              "      <th>DF</th>\n",
              "      <th>MS</th>\n",
              "      <th>F</th>\n",
              "      <th>p-unc</th>\n",
              "      <th>p-GG-corr</th>\n",
              "      <th>ng2</th>\n",
              "      <th>eps</th>\n",
              "      <th>sphericity</th>\n",
              "      <th>W-spher</th>\n",
              "      <th>p-spher</th>\n",
              "    </tr>\n",
              "  </thead>\n",
              "  <tbody>\n",
              "    <tr>\n",
              "      <th>0</th>\n",
              "      <td>Tienda</td>\n",
              "      <td>5.7372</td>\n",
              "      <td>3</td>\n",
              "      <td>1.9124</td>\n",
              "      <td>13.0252</td>\n",
              "      <td>0.0</td>\n",
              "      <td>0.0017</td>\n",
              "      <td>0.0385</td>\n",
              "      <td>0.4682</td>\n",
              "      <td>False</td>\n",
              "      <td>0.129</td>\n",
              "      <td>0.0079</td>\n",
              "    </tr>\n",
              "    <tr>\n",
              "      <th>1</th>\n",
              "      <td>Error</td>\n",
              "      <td>3.9642</td>\n",
              "      <td>27</td>\n",
              "      <td>0.1468</td>\n",
              "      <td>NaN</td>\n",
              "      <td>NaN</td>\n",
              "      <td>NaN</td>\n",
              "      <td>NaN</td>\n",
              "      <td>NaN</td>\n",
              "      <td>NaN</td>\n",
              "      <td>NaN</td>\n",
              "      <td>NaN</td>\n",
              "    </tr>\n",
              "  </tbody>\n",
              "</table>\n",
              "</div>\n",
              "      <button class=\"colab-df-convert\" onclick=\"convertToInteractive('df-b7264649-bd09-4841-9bd7-9cf11f0159cf')\"\n",
              "              title=\"Convert this dataframe to an interactive table.\"\n",
              "              style=\"display:none;\">\n",
              "        \n",
              "  <svg xmlns=\"http://www.w3.org/2000/svg\" height=\"24px\"viewBox=\"0 0 24 24\"\n",
              "       width=\"24px\">\n",
              "    <path d=\"M0 0h24v24H0V0z\" fill=\"none\"/>\n",
              "    <path d=\"M18.56 5.44l.94 2.06.94-2.06 2.06-.94-2.06-.94-.94-2.06-.94 2.06-2.06.94zm-11 1L8.5 8.5l.94-2.06 2.06-.94-2.06-.94L8.5 2.5l-.94 2.06-2.06.94zm10 10l.94 2.06.94-2.06 2.06-.94-2.06-.94-.94-2.06-.94 2.06-2.06.94z\"/><path d=\"M17.41 7.96l-1.37-1.37c-.4-.4-.92-.59-1.43-.59-.52 0-1.04.2-1.43.59L10.3 9.45l-7.72 7.72c-.78.78-.78 2.05 0 2.83L4 21.41c.39.39.9.59 1.41.59.51 0 1.02-.2 1.41-.59l7.78-7.78 2.81-2.81c.8-.78.8-2.07 0-2.86zM5.41 20L4 18.59l7.72-7.72 1.47 1.35L5.41 20z\"/>\n",
              "  </svg>\n",
              "      </button>\n",
              "      \n",
              "  <style>\n",
              "    .colab-df-container {\n",
              "      display:flex;\n",
              "      flex-wrap:wrap;\n",
              "      gap: 12px;\n",
              "    }\n",
              "\n",
              "    .colab-df-convert {\n",
              "      background-color: #E8F0FE;\n",
              "      border: none;\n",
              "      border-radius: 50%;\n",
              "      cursor: pointer;\n",
              "      display: none;\n",
              "      fill: #1967D2;\n",
              "      height: 32px;\n",
              "      padding: 0 0 0 0;\n",
              "      width: 32px;\n",
              "    }\n",
              "\n",
              "    .colab-df-convert:hover {\n",
              "      background-color: #E2EBFA;\n",
              "      box-shadow: 0px 1px 2px rgba(60, 64, 67, 0.3), 0px 1px 3px 1px rgba(60, 64, 67, 0.15);\n",
              "      fill: #174EA6;\n",
              "    }\n",
              "\n",
              "    [theme=dark] .colab-df-convert {\n",
              "      background-color: #3B4455;\n",
              "      fill: #D2E3FC;\n",
              "    }\n",
              "\n",
              "    [theme=dark] .colab-df-convert:hover {\n",
              "      background-color: #434B5C;\n",
              "      box-shadow: 0px 1px 3px 1px rgba(0, 0, 0, 0.15);\n",
              "      filter: drop-shadow(0px 1px 2px rgba(0, 0, 0, 0.3));\n",
              "      fill: #FFFFFF;\n",
              "    }\n",
              "  </style>\n",
              "\n",
              "      <script>\n",
              "        const buttonEl =\n",
              "          document.querySelector('#df-b7264649-bd09-4841-9bd7-9cf11f0159cf button.colab-df-convert');\n",
              "        buttonEl.style.display =\n",
              "          google.colab.kernel.accessAllowed ? 'block' : 'none';\n",
              "\n",
              "        async function convertToInteractive(key) {\n",
              "          const element = document.querySelector('#df-b7264649-bd09-4841-9bd7-9cf11f0159cf');\n",
              "          const dataTable =\n",
              "            await google.colab.kernel.invokeFunction('convertToInteractive',\n",
              "                                                     [key], {});\n",
              "          if (!dataTable) return;\n",
              "\n",
              "          const docLinkHtml = 'Like what you see? Visit the ' +\n",
              "            '<a target=\"_blank\" href=https://colab.research.google.com/notebooks/data_table.ipynb>data table notebook</a>'\n",
              "            + ' to learn more about interactive tables.';\n",
              "          element.innerHTML = '';\n",
              "          dataTable['output_type'] = 'display_data';\n",
              "          await google.colab.output.renderOutput(dataTable, element);\n",
              "          const docLink = document.createElement('div');\n",
              "          docLink.innerHTML = docLinkHtml;\n",
              "          element.appendChild(docLink);\n",
              "        }\n",
              "      </script>\n",
              "    </div>\n",
              "  </div>\n",
              "  "
            ]
          },
          "metadata": {},
          "execution_count": 108
        }
      ]
    },
    {
      "cell_type": "markdown",
      "source": [
        "**Nota: Dado que la esfericidad no se cumple (sphericity = False), hay que utilizar el p-value corregido, que está en la columna p-GG-corr. El análisis de varianza muestra evidencias significativas con un tamaño de efecto grande.**"
      ],
      "metadata": {
        "id": "x64Sw5tIAlOi"
      }
    },
    {
      "cell_type": "markdown",
      "source": [
        "## **3.10 Comparaciones múltiples**\n",
        "\n",
        "\n",
        "Al tratarse de datos pareados, no se pueden calcular los intervalos Tukey HSD. En su lugar, se pueden utilizar t-test pareados."
      ],
      "metadata": {
        "id": "qj0BR1iwBkr_"
      }
    },
    {
      "cell_type": "markdown",
      "source": [
        "# **a. Comparaciones Múltiples Forma 1**"
      ],
      "metadata": {
        "id": "WoW_H1qACSi8"
      }
    },
    {
      "cell_type": "code",
      "source": [
        "# **a. Comparaciones Múltiples Forma 1**\n",
        "tukey = pairwise_tukeyhsd(endog=datos[\"Precio\"],     # Data\n",
        "                          groups=datos[\"Tienda\"],   # Groups\n",
        "                          alpha=0.05)          # Significance level\n",
        "\n",
        "tukey.plot_simultaneous()    # Plot group confidence intervals\n",
        "\n",
        "tukey.summary()"
      ],
      "metadata": {
        "colab": {
          "base_uri": "https://localhost:8080/",
          "height": 731
        },
        "id": "8w__KPDz9zBZ",
        "outputId": "5aa4c06e-c00a-4e9c-c18e-a78b4df77f39"
      },
      "execution_count": null,
      "outputs": [
        {
          "output_type": "execute_result",
          "data": {
            "text/plain": [
              "<class 'statsmodels.iolib.table.SimpleTable'>"
            ],
            "text/html": [
              "<table class=\"simpletable\">\n",
              "<caption>Multiple Comparison of Means - Tukey HSD, FWER=0.05</caption>\n",
              "<tr>\n",
              "  <th>group1</th> <th>group2</th> <th>meandiff</th>  <th>p-adj</th>  <th>lower</th>   <th>upper</th> <th>reject</th>\n",
              "</tr>\n",
              "<tr>\n",
              "     <td>A</td>      <td>B</td>    <td>-0.9025</td> <td>0.7441</td> <td>-3.3067</td> <td>1.5017</td>  <td>False</td>\n",
              "</tr>\n",
              "<tr>\n",
              "     <td>A</td>      <td>C</td>    <td>-0.9315</td> <td>0.7253</td> <td>-3.3357</td> <td>1.4727</td>  <td>False</td>\n",
              "</tr>\n",
              "<tr>\n",
              "     <td>A</td>      <td>D</td>    <td>-0.7415</td> <td>0.8396</td> <td>-3.1457</td> <td>1.6627</td>  <td>False</td>\n",
              "</tr>\n",
              "<tr>\n",
              "     <td>B</td>      <td>C</td>    <td>-0.029</td>    <td>1.0</td>  <td>-2.4332</td> <td>2.3752</td>  <td>False</td>\n",
              "</tr>\n",
              "<tr>\n",
              "     <td>B</td>      <td>D</td>     <td>0.161</td>  <td>0.9979</td> <td>-2.2432</td> <td>2.5652</td>  <td>False</td>\n",
              "</tr>\n",
              "<tr>\n",
              "     <td>C</td>      <td>D</td>     <td>0.19</td>   <td>0.9965</td> <td>-2.2142</td> <td>2.5942</td>  <td>False</td>\n",
              "</tr>\n",
              "</table>"
            ]
          },
          "metadata": {},
          "execution_count": 109
        },
        {
          "output_type": "display_data",
          "data": {
            "text/plain": [
              "<Figure size 1000x600 with 1 Axes>"
            ],
            "image/png": "[encoded data removed]"
          },
          "metadata": {}
        }
      ]
    },
    {
      "cell_type": "markdown",
      "source": [
        "# **b. Comparaciones Múltiples Forma 2**"
      ],
      "metadata": {
        "id": "CIG1mnNfIbH1"
      }
    },
    {
      "cell_type": "code",
      "source": [
        "# **b. Comparaciones Múltiples Forma 2**\n",
        "pg.pairwise_ttests(\n",
        "    dv      = 'Precio',\n",
        "    within  = 'Tienda',\n",
        "    subject = 'Producto',\n",
        "    padjust = 'holm',\n",
        "    data    = datos\n",
        ")"
      ],
      "metadata": {
        "colab": {
          "base_uri": "https://localhost:8080/",
          "height": 237
        },
        "id": "X0Cvki4GCjO8",
        "outputId": "703fea0e-81b8-4b6b-b386-4d2601636cfb"
      },
      "execution_count": null,
      "outputs": [
        {
          "output_type": "execute_result",
          "data": {
            "text/plain": [
              "  Contrast  A  B  Paired  Parametric         T  dof alternative     p-unc  \\\n",
              "0   Tienda  A  B    True        True  3.630938  9.0   two-sided  0.005478   \n",
              "1   Tienda  A  C    True        True  4.166418  9.0   two-sided  0.002424   \n",
              "2   Tienda  A  D    True        True  4.210567  9.0   two-sided  0.002271   \n",
              "3   Tienda  B  C    True        True  0.405600  9.0   two-sided  0.694510   \n",
              "4   Tienda  B  D    True        True -1.242763  9.0   two-sided  0.245358   \n",
              "5   Tienda  C  D    True        True -1.770733  9.0   two-sided  0.110379   \n",
              "\n",
              "     p-corr p-adjust    BF10    hedges  \n",
              "0  0.021910     holm  10.073  0.410424  \n",
              "1  0.013625     holm  19.615  0.418894  \n",
              "2  0.013625     holm  20.701  0.319091  \n",
              "3  0.694510     holm   0.331  0.015994  \n",
              "4  0.490715     holm   0.571 -0.083219  \n",
              "5  0.331137     holm   0.983 -0.096803  "
            ],
            "text/html": [
              "\n",
              "  <div id=\"df-e49a86fa-6712-4a53-8067-35cc5564652f\">\n",
              "    <div class=\"colab-df-container\">\n",
              "      <div>\n",
              "<style scoped>\n",
              "    .dataframe tbody tr th:only-of-type {\n",
              "        vertical-align: middle;\n",
              "    }\n",
              "\n",
              "    .dataframe tbody tr th {\n",
              "        vertical-align: top;\n",
              "    }\n",
              "\n",
              "    .dataframe thead th {\n",
              "        text-align: right;\n",
              "    }\n",
              "</style>\n",
              "<table border=\"1\" class=\"dataframe\">\n",
              "  <thead>\n",
              "    <tr style=\"text-align: right;\">\n",
              "      <th></th>\n",
              "      <th>Contrast</th>\n",
              "      <th>A</th>\n",
              "      <th>B</th>\n",
              "      <th>Paired</th>\n",
              "      <th>Parametric</th>\n",
              "      <th>T</th>\n",
              "      <th>dof</th>\n",
              "      <th>alternative</th>\n",
              "      <th>p-unc</th>\n",
              "      <th>p-corr</th>\n",
              "      <th>p-adjust</th>\n",
              "      <th>BF10</th>\n",
              "      <th>hedges</th>\n",
              "    </tr>\n",
              "  </thead>\n",
              "  <tbody>\n",
              "    <tr>\n",
              "      <th>0</th>\n",
              "      <td>Tienda</td>\n",
              "      <td>A</td>\n",
              "      <td>B</td>\n",
              "      <td>True</td>\n",
              "      <td>True</td>\n",
              "      <td>3.630938</td>\n",
              "      <td>9.0</td>\n",
              "      <td>two-sided</td>\n",
              "      <td>0.005478</td>\n",
              "      <td>0.021910</td>\n",
              "      <td>holm</td>\n",
              "      <td>10.073</td>\n",
              "      <td>0.410424</td>\n",
              "    </tr>\n",
              "    <tr>\n",
              "      <th>1</th>\n",
              "      <td>Tienda</td>\n",
              "      <td>A</td>\n",
              "      <td>C</td>\n",
              "      <td>True</td>\n",
              "      <td>True</td>\n",
              "      <td>4.166418</td>\n",
              "      <td>9.0</td>\n",
              "      <td>two-sided</td>\n",
              "      <td>0.002424</td>\n",
              "      <td>0.013625</td>\n",
              "      <td>holm</td>\n",
              "      <td>19.615</td>\n",
              "      <td>0.418894</td>\n",
              "    </tr>\n",
              "    <tr>\n",
              "      <th>2</th>\n",
              "      <td>Tienda</td>\n",
              "      <td>A</td>\n",
              "      <td>D</td>\n",
              "      <td>True</td>\n",
              "      <td>True</td>\n",
              "      <td>4.210567</td>\n",
              "      <td>9.0</td>\n",
              "      <td>two-sided</td>\n",
              "      <td>0.002271</td>\n",
              "      <td>0.013625</td>\n",
              "      <td>holm</td>\n",
              "      <td>20.701</td>\n",
              "      <td>0.319091</td>\n",
              "    </tr>\n",
              "    <tr>\n",
              "      <th>3</th>\n",
              "      <td>Tienda</td>\n",
              "      <td>B</td>\n",
              "      <td>C</td>\n",
              "      <td>True</td>\n",
              "      <td>True</td>\n",
              "      <td>0.405600</td>\n",
              "      <td>9.0</td>\n",
              "      <td>two-sided</td>\n",
              "      <td>0.694510</td>\n",
              "      <td>0.694510</td>\n",
              "      <td>holm</td>\n",
              "      <td>0.331</td>\n",
              "      <td>0.015994</td>\n",
              "    </tr>\n",
              "    <tr>\n",
              "      <th>4</th>\n",
              "      <td>Tienda</td>\n",
              "      <td>B</td>\n",
              "      <td>D</td>\n",
              "      <td>True</td>\n",
              "      <td>True</td>\n",
              "      <td>-1.242763</td>\n",
              "      <td>9.0</td>\n",
              "      <td>two-sided</td>\n",
              "      <td>0.245358</td>\n",
              "      <td>0.490715</td>\n",
              "      <td>holm</td>\n",
              "      <td>0.571</td>\n",
              "      <td>-0.083219</td>\n",
              "    </tr>\n",
              "    <tr>\n",
              "      <th>5</th>\n",
              "      <td>Tienda</td>\n",
              "      <td>C</td>\n",
              "      <td>D</td>\n",
              "      <td>True</td>\n",
              "      <td>True</td>\n",
              "      <td>-1.770733</td>\n",
              "      <td>9.0</td>\n",
              "      <td>two-sided</td>\n",
              "      <td>0.110379</td>\n",
              "      <td>0.331137</td>\n",
              "      <td>holm</td>\n",
              "      <td>0.983</td>\n",
              "      <td>-0.096803</td>\n",
              "    </tr>\n",
              "  </tbody>\n",
              "</table>\n",
              "</div>\n",
              "      <button class=\"colab-df-convert\" onclick=\"convertToInteractive('df-e49a86fa-6712-4a53-8067-35cc5564652f')\"\n",
              "              title=\"Convert this dataframe to an interactive table.\"\n",
              "              style=\"display:none;\">\n",
              "        \n",
              "  <svg xmlns=\"http://www.w3.org/2000/svg\" height=\"24px\"viewBox=\"0 0 24 24\"\n",
              "       width=\"24px\">\n",
              "    <path d=\"M0 0h24v24H0V0z\" fill=\"none\"/>\n",
              "    <path d=\"M18.56 5.44l.94 2.06.94-2.06 2.06-.94-2.06-.94-.94-2.06-.94 2.06-2.06.94zm-11 1L8.5 8.5l.94-2.06 2.06-.94-2.06-.94L8.5 2.5l-.94 2.06-2.06.94zm10 10l.94 2.06.94-2.06 2.06-.94-2.06-.94-.94-2.06-.94 2.06-2.06.94z\"/><path d=\"M17.41 7.96l-1.37-1.37c-.4-.4-.92-.59-1.43-.59-.52 0-1.04.2-1.43.59L10.3 9.45l-7.72 7.72c-.78.78-.78 2.05 0 2.83L4 21.41c.39.39.9.59 1.41.59.51 0 1.02-.2 1.41-.59l7.78-7.78 2.81-2.81c.8-.78.8-2.07 0-2.86zM5.41 20L4 18.59l7.72-7.72 1.47 1.35L5.41 20z\"/>\n",
              "  </svg>\n",
              "      </button>\n",
              "      \n",
              "  <style>\n",
              "    .colab-df-container {\n",
              "      display:flex;\n",
              "      flex-wrap:wrap;\n",
              "      gap: 12px;\n",
              "    }\n",
              "\n",
              "    .colab-df-convert {\n",
              "      background-color: #E8F0FE;\n",
              "      border: none;\n",
              "      border-radius: 50%;\n",
              "      cursor: pointer;\n",
              "      display: none;\n",
              "      fill: #1967D2;\n",
              "      height: 32px;\n",
              "      padding: 0 0 0 0;\n",
              "      width: 32px;\n",
              "    }\n",
              "\n",
              "    .colab-df-convert:hover {\n",
              "      background-color: #E2EBFA;\n",
              "      box-shadow: 0px 1px 2px rgba(60, 64, 67, 0.3), 0px 1px 3px 1px rgba(60, 64, 67, 0.15);\n",
              "      fill: #174EA6;\n",
              "    }\n",
              "\n",
              "    [theme=dark] .colab-df-convert {\n",
              "      background-color: #3B4455;\n",
              "      fill: #D2E3FC;\n",
              "    }\n",
              "\n",
              "    [theme=dark] .colab-df-convert:hover {\n",
              "      background-color: #434B5C;\n",
              "      box-shadow: 0px 1px 3px 1px rgba(0, 0, 0, 0.15);\n",
              "      filter: drop-shadow(0px 1px 2px rgba(0, 0, 0, 0.3));\n",
              "      fill: #FFFFFF;\n",
              "    }\n",
              "  </style>\n",
              "\n",
              "      <script>\n",
              "        const buttonEl =\n",
              "          document.querySelector('#df-e49a86fa-6712-4a53-8067-35cc5564652f button.colab-df-convert');\n",
              "        buttonEl.style.display =\n",
              "          google.colab.kernel.accessAllowed ? 'block' : 'none';\n",
              "\n",
              "        async function convertToInteractive(key) {\n",
              "          const element = document.querySelector('#df-e49a86fa-6712-4a53-8067-35cc5564652f');\n",
              "          const dataTable =\n",
              "            await google.colab.kernel.invokeFunction('convertToInteractive',\n",
              "                                                     [key], {});\n",
              "          if (!dataTable) return;\n",
              "\n",
              "          const docLinkHtml = 'Like what you see? Visit the ' +\n",
              "            '<a target=\"_blank\" href=https://colab.research.google.com/notebooks/data_table.ipynb>data table notebook</a>'\n",
              "            + ' to learn more about interactive tables.';\n",
              "          element.innerHTML = '';\n",
              "          dataTable['output_type'] = 'display_data';\n",
              "          await google.colab.output.renderOutput(dataTable, element);\n",
              "          const docLink = document.createElement('div');\n",
              "          docLink.innerHTML = docLinkHtml;\n",
              "          element.appendChild(docLink);\n",
              "        }\n",
              "      </script>\n",
              "    </div>\n",
              "  </div>\n",
              "  "
            ]
          },
          "metadata": {},
          "execution_count": 111
        }
      ]
    },
    {
      "cell_type": "markdown",
      "source": [
        "### **Conclusión: El análisis ANOVA (incluyendo las correcciones dada la falta de esfericidad) encuentra diferencias significativas en el precio de los alimentos entre al menos 2 tiendas, siendo el tamaño del efecto grande. La posterior comparación dos a dos por t-student con corrección de significancia holm identifica como significativas las diferencias entre las tiendas A-B, A-C y A-D pero no entre B-C, B-D y C-D.**"
      ],
      "metadata": {
        "id": "0tK5I1EKDClR"
      }
    },
    {
      "cell_type": "markdown",
      "source": [
        "## **3.11 Prueba gráfica con el gráfico de probabilidad Normal y el Histograma: Todos los datos**"
      ],
      "metadata": {
        "id": "QJFrgu9bHElr"
      }
    },
    {
      "cell_type": "markdown",
      "source": [
        "# **a. Forma 1. Shapiro Wilks**"
      ],
      "metadata": {
        "id": "nEQaVYuGIf5_"
      }
    },
    {
      "cell_type": "code",
      "source": [
        "# **a. Forma 1. Shapiro Wilks**\n",
        "stats.shapiro(modelodatos.resid)"
      ],
      "metadata": {
        "colab": {
          "base_uri": "https://localhost:8080/"
        },
        "id": "XdceYbaeCjSr",
        "outputId": "0e0c8c07-f389-40f4-ded8-1f7ec3ab3fd6"
      },
      "execution_count": null,
      "outputs": [
        {
          "output_type": "execute_result",
          "data": {
            "text/plain": [
              "ShapiroResult(statistic=0.9828951358795166, pvalue=0.7949318289756775)"
            ]
          },
          "metadata": {},
          "execution_count": 112
        }
      ]
    },
    {
      "cell_type": "markdown",
      "source": [
        "# **b. Prueba gráfica con el gráfico de probabilidad Normal y el Histograma- Todos los datos**"
      ],
      "metadata": {
        "id": "wJADRGv3Imvd"
      }
    },
    {
      "cell_type": "code",
      "source": [
        "# **b. Prueba gráfica con el gráfico de probabilidad Normal y el Histograma**\n",
        "fig = plt.figure(figsize= (5, 5))\n",
        "ax = fig.add_subplot(111)\n",
        "normality_plot, stat = stats.probplot(modelodatos.resid, plot= plt, rvalue= True)\n",
        "ax.set_title(\"Gráfico de Probabiliad para los residuos\", fontsize= 10)\n",
        "ax.set\n",
        "\n",
        "plt.show()"
      ],
      "metadata": {
        "colab": {
          "base_uri": "https://localhost:8080/",
          "height": 485
        },
        "id": "DrBBWkOSCjV_",
        "outputId": "fd68c969-e9f2-4c1b-a3b8-d461a02c1e4c"
      },
      "execution_count": null,
      "outputs": [
        {
          "output_type": "display_data",
          "data": {
            "text/plain": [
              "<Figure size 500x500 with 1 Axes>"
            ],
            "image/png": "[encoded data removed]"
          },
          "metadata": {}
        }
      ]
    },
    {
      "cell_type": "markdown",
      "source": [
        "## **c. Prueba gráfica con el gráfico de probabilidad Normal y el Histograma: Por tiendas**"
      ],
      "metadata": {
        "id": "K2E1ixz_HLiB"
      }
    },
    {
      "cell_type": "code",
      "source": [
        "## **c. Prueba gráfica con el gráfico de probabilidad Normal y el Histograma: Por tiendas**\n",
        "unique_tienda = datos['Tienda'].unique()\n",
        "for tienda in unique_tienda:\n",
        "    stats.probplot(datos[datos['Tienda'] == tienda]['Precio'], dist=\"norm\", plot=plt)\n",
        "    plt.title(\"Gráfico de Probabilidad - \"+tienda)\n",
        "    plt.show()"
      ],
      "metadata": {
        "colab": {
          "base_uri": "https://localhost:8080/",
          "height": 1000
        },
        "id": "eNU2qi6QFZhR",
        "outputId": "40c2bf80-0c32-476b-cb07-9e994ada128f"
      },
      "execution_count": null,
      "outputs": [
        {
          "output_type": "display_data",
          "data": {
            "text/plain": [
              "<Figure size 640x480 with 1 Axes>"
            ],
            "image/png": "[encoded data removed]"
          },
          "metadata": {}
        },
        {
          "output_type": "display_data",
          "data": {
            "text/plain": [
              "<Figure size 640x480 with 1 Axes>"
            ],
            "image/png": "[encoded data removed]"
          },
          "metadata": {}
        },
        {
          "output_type": "display_data",
          "data": {
            "text/plain": [
              "<Figure size 640x480 with 1 Axes>"
            ],
            "image/png": "[encoded data removed]"
          },
          "metadata": {}
        },
        {
          "output_type": "display_data",
          "data": {
            "text/plain": [
              "<Figure size 640x480 with 1 Axes>"
            ],
            "image/png": "[encoded data removed]"
          },
          "metadata": {}
        }
      ]
    },
    {
      "cell_type": "markdown",
      "source": [
        "## **d. Histograma + curva normal teórica**"
      ],
      "metadata": {
        "id": "8upqpVxsI3ZU"
      }
    },
    {
      "cell_type": "code",
      "source": [
        "## **d. Histograma + curva normal teórica**\n",
        "# ==============================================================================\n",
        "\n",
        "# Valores de la media (mu) y desviación típica (sigma) de los datos\n",
        "Precio2 = modelodatos.resid\n",
        "mu, sigma = stats.norm.fit(Precio2)\n",
        "\n",
        "# Valores teóricos de la normal en el rango observado\n",
        "x_hat = np.linspace(min(Precio2), max(Precio2), num=100)\n",
        "y_hat = stats.norm.pdf(x_hat, mu, sigma)\n",
        "\n",
        "# Gráfico\n",
        "fig, ax = plt.subplots(figsize=(7,4))\n",
        "ax.plot(x_hat, y_hat, linewidth=2, label='normal')\n",
        "ax.hist(x=Precio2, density=True, bins=30,  alpha=0.5)\n",
        "ax.plot(Precio2, np.full_like(Precio2, -0.01), '|k', markeredgewidth=1)\n",
        "ax.set_title('Distribución del Precio para Tiendas')\n",
        "ax.set_xlabel('Precio2')\n",
        "ax.set_ylabel('Densidad de probabilidad')\n",
        "ax.legend();"
      ],
      "metadata": {
        "colab": {
          "base_uri": "https://localhost:8080/",
          "height": 411
        },
        "id": "rqLM_RQ4HYF4",
        "outputId": "501d6bf0-0460-442a-f354-ff224e89813e"
      },
      "execution_count": null,
      "outputs": [
        {
          "output_type": "display_data",
          "data": {
            "text/plain": [
              "<Figure size 700x400 with 1 Axes>"
            ],
            "image/png": "[encoded data removed]"
          },
          "metadata": {}
        }
      ]
    },
    {
      "cell_type": "markdown",
      "source": [
        "## **e. Histograma de Residuos**"
      ],
      "metadata": {
        "id": "zYwtPKpDJDwd"
      }
    },
    {
      "cell_type": "code",
      "source": [
        "## **e. Histograma de Residuos**\n",
        "plt.hist(datos['Precio'], bins='auto', histtype='bar', ec='k')\n",
        "\n",
        "plt.xlabel(\"Precio\")\n",
        "plt.ylabel('Frecuencia')\n",
        "plt.show()"
      ],
      "metadata": {
        "colab": {
          "base_uri": "https://localhost:8080/",
          "height": 449
        },
        "id": "CbWYYi1CIGlu",
        "outputId": "d5dd309d-acaa-4464-b68e-ed75490dde3d"
      },
      "execution_count": null,
      "outputs": [
        {
          "output_type": "display_data",
          "data": {
            "text/plain": [
              "<Figure size 640x480 with 1 Axes>"
            ],
            "image/png": "[encoded data removed]"
          },
          "metadata": {}
        }
      ]
    },
    {
      "cell_type": "markdown",
      "source": [
        "## **f. Gráfico Q-Q**"
      ],
      "metadata": {
        "id": "lfYFWQfQJcQj"
      }
    },
    {
      "cell_type": "code",
      "source": [
        "## **f. Gráfico Q-Q**\n",
        "# ==============================================================================\n",
        "fig, ax = plt.subplots(figsize=(7,4))\n",
        "sm.qqplot(\n",
        "    Precio2,\n",
        "    fit   = True,\n",
        "    line  = 'q',\n",
        "    alpha = 0.8,\n",
        "    lw    = 5,\n",
        "    ax    = ax\n",
        ")\n",
        "ax.set_title('Gráfico Q-Q para Precio', fontsize = 10,\n",
        "             fontweight = \"bold\")\n",
        "ax.tick_params(labelsize = 8)"
      ],
      "metadata": {
        "colab": {
          "base_uri": "https://localhost:8080/",
          "height": 404
        },
        "id": "k7nF8PvAIGpV",
        "outputId": "ded90f1e-5b7a-4dcf-fae5-a89a0c32f57d"
      },
      "execution_count": null,
      "outputs": [
        {
          "output_type": "display_data",
          "data": {
            "text/plain": [
              "<Figure size 700x400 with 1 Axes>"
            ],
            "image/png": "[encoded data removed]"
          },
          "metadata": {}
        }
      ]
    },
    {
      "cell_type": "code",
      "source": [],
      "metadata": {
        "id": "zfANWL2yIGtn"
      },
      "execution_count": null,
      "outputs": []
    },
    {
      "cell_type": "code",
      "source": [
        "# q. Homocedasticidad de los residuos: Usando la prueba de Levene\n",
        "stats.levene(datos['Precio'][datos['Tienda'] == 'A'],\n",
        "             datos['Precio'][datos['Tienda'] == 'B'],\n",
        "             datos['Precio'][datos['Tienda'] == 'C'],\n",
        "             datos['Precio'][datos['Tienda'] == 'D'])"
      ],
      "metadata": {
        "colab": {
          "base_uri": "https://localhost:8080/"
        },
        "id": "4SMpLWVDIGxH",
        "outputId": "ff1f6b0a-1b88-4124-b383-ec14f933261a"
      },
      "execution_count": null,
      "outputs": [
        {
          "output_type": "execute_result",
          "data": {
            "text/plain": [
              "LeveneResult(statistic=0.30085718125540684, pvalue=0.8245451842719157)"
            ]
          },
          "metadata": {},
          "execution_count": 119
        }
      ]
    }
  ],
  "metadata": {
    "colab": {
      "provenance": [],
      "authorship_tag": "ABX9TyNaZpLxflEXWFDIf0misGRP",
      "include_colab_link": true
    },
    "kernelspec": {
      "display_name": "Python 3",
      "name": "python3"
    },
    "language_info": {
      "name": "python"
    }
  },
  "nbformat": 4,
  "nbformat_minor": 0
}