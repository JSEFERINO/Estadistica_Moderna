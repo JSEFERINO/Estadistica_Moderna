{
  "nbformat": 4,
  "nbformat_minor": 0,
  "metadata": {
    "colab": {
      "provenance": [],
      "authorship_tag": "ABX9TyMfIXQr+GNhLFxFCooQg+Sa",
      "include_colab_link": true
    },
    "kernelspec": {
      "name": "python3",
      "display_name": "Python 3"
    },
    "language_info": {
      "name": "python"
    }
  },
  "cells": [
    {
      "cell_type": "markdown",
      "metadata": {
        "id": "view-in-github",
        "colab_type": "text"
      },
      "source": [
        "<a href=\"https://colab.research.google.com/github/JSEFERINO/Estadistica_Moderna/blob/main/60_Redes_Neuronales.ipynb\" target=\"_parent\"><img src=\"https://colab.research.google.com/assets/colab-badge.svg\" alt=\"Open In Colab\"/></a>"
      ]
    },
    {
      "cell_type": "markdown",
      "source": [
        "# **1. Mi Primera Red Neuronal - aprendiendo con Ringa Tech**\n",
        "## **a. Programación Regular vs Aprendizaje Automático**\n"
      ],
      "metadata": {
        "id": "0ssf5_VH8ocC"
      }
    },
    {
      "cell_type": "markdown",
      "source": [
        "+ En la **programación regular** normalmente programamos algoritmoos para convertir entradas en resultados\n",
        "  - Escribimos las reglas y la lógica necesarios para lograrlos\n",
        "+ En el **Aprendizaje automático** funciona difrente. Tenemos las entradas y los resultados pero no necesariamnete conocemos cuales son las reglas para convertir las entradas en resultados.\n",
        "  - No conecemos el algoritmos que pueda hacer esa conversión\n",
        "  - Lo usamos cuando no conocemos la fromula o el algoritmo\n",
        "+ Lo que queremos es crear un modelo que pueda tomar esas entradas y los resultados esperados de cada entrada y pueda aprender por si solo el algoritmo necesario que pueda hacer la conversión."
      ],
      "metadata": {
        "id": "4-iU_CIn9SWI"
      }
    },
    {
      "cell_type": "markdown",
      "source": [
        "# **b. El Problema sencillo**\n",
        "## **b1. El Problema**\n",
        "+ **Problema. Quiero convertir grados Celsius a Fahrenheit**\n",
        "$$ F = C*1.8+32$$"
      ],
      "metadata": {
        "id": "FziE7LYd_d_I"
      }
    },
    {
      "cell_type": "markdown",
      "source": [
        "## **b2. Usando Programación regular**"
      ],
      "metadata": {
        "id": "z8IG-eE4Asye"
      }
    },
    {
      "cell_type": "code",
      "source": [
        "## **b2. Usando Programación regular**\n",
        "def F(C):\n",
        "  F = C*1.8+32\n",
        "  return F\n"
      ],
      "metadata": {
        "id": "QjXWImLs_75Z"
      },
      "execution_count": 10,
      "outputs": []
    },
    {
      "cell_type": "markdown",
      "source": [
        "## **b3. Veamos cuanto convierte 100°C**"
      ],
      "metadata": {
        "id": "PT_Z8KU4A3L5"
      }
    },
    {
      "cell_type": "code",
      "source": [
        "## **b3. Veamos cuanto convierte 100°C**\n",
        "C = float(input('Ingresa un valor de l temperatura en grados Celsius  '))\n",
        "print(f'La temperatura {C}°Celsius es {F(C)} °Fahrenheit')\n"
      ],
      "metadata": {
        "colab": {
          "base_uri": "https://localhost:8080/"
        },
        "id": "fyZ05R7fAf_2",
        "outputId": "67c547f5-2ab9-4cc1-9f45-cfc0dcc96c35"
      },
      "execution_count": 11,
      "outputs": [
        {
          "output_type": "stream",
          "name": "stdout",
          "text": [
            "Ingresa un valor de l temperatura en grados Celsius  100\n",
            "La temperatura 100.0°Celsius es 212.0 °Fahrenheit\n"
          ]
        }
      ]
    },
    {
      "cell_type": "markdown",
      "source": [
        "# **c. Resolveremos el Problema usando Aprendizaje Automático coon Redes Neuronales**"
      ],
      "metadata": {
        "id": "5bm6pvoDDpyH"
      }
    },
    {
      "cell_type": "markdown",
      "source": [
        "## **c1. Nuestras librerias**"
      ],
      "metadata": {
        "id": "zX2KcOmcEaDA"
      }
    },
    {
      "cell_type": "code",
      "execution_count": 1,
      "metadata": {
        "id": "JochAwRJvew-"
      },
      "outputs": [],
      "source": [
        "## **c1. Nuestras librerias**\n",
        "import tensorflow as tf # libreria para IA hecha por google\n",
        "import numpy as np"
      ]
    },
    {
      "cell_type": "markdown",
      "source": [
        "## **c2. Acerca de la  red Neuronal**\n",
        "+ Una red Neuronal grande puede tener millones de neuronas conectadas y puede tomar decisiones muy complejas basadas en muchos datos y variables\n",
        "+ Las redes neuronales siguen algunas reglas:\n",
        "  - Se separan en capas, cada capa puede tener una o más neuronas\n",
        "  - Cualquier red siempre tiene una capa de entrada que es donde se reciben los datos de entrada (grados Celsius a convertir) y una capa de salida (resultado calculado)\n",
        "  - En redes mas complejas podemos tener mas capas intermedias llamadas capas ocultas.\n",
        "  - Las neuronas se conectan con conexiones.\n",
        "  - En el caso simple solo tenemos una conexión: Conectando Entrada con salida.\n",
        "  - Cada una de las conexiones tiene un peso asignado y es un valor númerico que representa la importancia de la conexion con la neurona.\n",
        "  - Cada neurona a excepcion de la capa de entrada tiene un sesgo que es un valor numerico-\n",
        "  - Por último existe el concepto de funcion de activación.\n",
        "  - Al inicializar la red, los pesos y el sesgo se inician de manera aleatoria\n",
        "+ El papel del Aprendizaje automático aprenderá hacer esta conversión por si sola que los ajuste automaticamente"
      ],
      "metadata": {
        "id": "JOA4EZmeEvWV"
      }
    },
    {
      "cell_type": "markdown",
      "source": [
        "## **c3. Estos son nuestros datos con los cuales entrenaremos a nuestra red Neuronal**"
      ],
      "metadata": {
        "id": "cHYCCvl3pU0J"
      }
    },
    {
      "cell_type": "code",
      "source": [
        "## **c3. Estos son nuestros datos con los cuales entrenaremos a nuestra red Neuronal**\n",
        "celsius = np.array([-40, -10, 0, 8, 15, 22, 38], dtype = float) # datos o neurona de entrada\n",
        "fahrenheit = np.array([-40, 14, 32, 46, 59, 72, 100], dtype = float) #Datos o neurona de salida"
      ],
      "metadata": {
        "id": "qNsQnDGivxUx"
      },
      "execution_count": 3,
      "outputs": []
    },
    {
      "cell_type": "markdown",
      "source": [
        "## **c4. Modelo de Red Neuronal a construir**\n",
        "+ El Framework _keras_ nos permite hacer la red de manera simple, nos ahorra muchas lineas de código.\n",
        "+ En _keras_ puedo especificar las dos capas de entrada y salida por separado o puedo ahorrarme un paso y solo especificar la capa de salida.\n",
        "+ La variable _capa_ se inicia como una capa densa que tienen conexiones desde cada neurona hacia todas las neurnas da cada capa"
      ],
      "metadata": {
        "id": "M43naIO8pogH"
      }
    },
    {
      "cell_type": "code",
      "source": [
        "## **c4. Modelo de Red Neuronal a construir**\n",
        "capa = tf.keras.layers.Dense(units=1, input_shape=[1]) # Capa de salida (units=1), con una capa de salida (input_shape=[1])\n",
        "\n",
        "modelo = tf.keras.Sequential([capa]) # secuencial es para redes sencillas"
      ],
      "metadata": {
        "id": "6GQHZ9XEvxYo"
      },
      "execution_count": 4,
      "outputs": []
    },
    {
      "cell_type": "markdown",
      "source": [
        "## **c5. Preparemos el modelo para ser entrenado**\n",
        "+ optimizador = Adam le permite a la red como ajustar los pesos y sesgo de manera eficiente para que aprenda progresivamente\n",
        "+ 0.1 es la tasa de aprendizaje, no debe ser ni muy pequeño ni muy grande\n",
        "+ 'mean_squared_error' # Una poca cantidad de errores grande e speor que una gran cantidad de errores pequeño"
      ],
      "metadata": {
        "id": "1uBPCZuIrzWb"
      }
    },
    {
      "cell_type": "code",
      "source": [
        "## **c5. Preparemos el modelo para ser entrenado**\n",
        "modelo.compile(\n",
        "    optimizer = tf.keras.optimizers.Adam(0.1), # Adam le permite a la red como ajustar los pesos para que aprenda progresivamente\n",
        "    loss = 'mean_squared_error' # Una poca cantidad de errores grande e speor que una gran cantidad de errores pequeño\n",
        "\n",
        ")"
      ],
      "metadata": {
        "id": "H1j5eRqSvxcv"
      },
      "execution_count": 5,
      "outputs": []
    },
    {
      "cell_type": "markdown",
      "source": [
        "## **c6. Vamos a entrenar el modelo**\n",
        "+ _modelo.fit(celsius,fahrenheit, epochs =1000, verbose = False)_\n",
        "+_celsius # Entrada\n",
        "+ fahrenheit (salida)\n",
        "+ epochs =1000 (Cuantos intentos) para que se optimice\n",
        "+ verbose = False para que no imprima basura"
      ],
      "metadata": {
        "id": "OPvfScGIso1_"
      }
    },
    {
      "cell_type": "code",
      "source": [
        "## **c6. Vamos a entrenar el modelo**\n",
        "print('Comenzando el entrenamiento...')\n",
        "historial = modelo.fit(celsius,fahrenheit, epochs =1000, verbose = False)\n",
        "print('Modelo Entrenado')"
      ],
      "metadata": {
        "colab": {
          "base_uri": "https://localhost:8080/"
        },
        "id": "9tqRNwervxgh",
        "outputId": "0fc922df-d88b-45b6-acbe-14236137786a"
      },
      "execution_count": 7,
      "outputs": [
        {
          "output_type": "stream",
          "name": "stdout",
          "text": [
            "Comenzando el entrenamiento...\n",
            "Modelo Entrenado\n"
          ]
        }
      ]
    },
    {
      "cell_type": "markdown",
      "source": [
        "## **c7. Resultados de la función de pérdida**\n",
        "+ Que tan mal estan los resultados de la red en cada vuelta que dió\n",
        "+ Se observa que despues de 500 vueltas el error ya es cero, despues de 500 el modelo ya no mejoa mucho."
      ],
      "metadata": {
        "id": "c9TDoBaTtTZg"
      }
    },
    {
      "cell_type": "code",
      "source": [
        "## **c7. Resultados de la función de pérdida**\n",
        "import matplotlib.pyplot as plt\n",
        "plt.xlabel('# Epoca')\n",
        "plt.ylabel('Magnitud perdida')\n",
        "plt.plot(historial.history['loss'])"
      ],
      "metadata": {
        "colab": {
          "base_uri": "https://localhost:8080/",
          "height": 466
        },
        "id": "D_2co36JyBfK",
        "outputId": "844c10da-0c65-48c9-fbdc-6321711d3040"
      },
      "execution_count": 8,
      "outputs": [
        {
          "output_type": "execute_result",
          "data": {
            "text/plain": [
              "[<matplotlib.lines.Line2D at 0x79ae90d5ef20>]"
            ]
          },
          "metadata": {},
          "execution_count": 8
        },
        {
          "output_type": "display_data",
          "data": {
            "text/plain": [
              "<Figure size 640x480 with 1 Axes>"
            ],
            "image/png": "[encoded data removed]"
          },
          "metadata": {}
        }
      ]
    },
    {
      "cell_type": "markdown",
      "source": [
        "## **c8. Hagamos una predicción para 100°C**"
      ],
      "metadata": {
        "id": "gH6qNoynuRLB"
      }
    },
    {
      "cell_type": "code",
      "source": [
        "## **c8. Hagamos una predicción para 100°C**\n",
        "print('Hagamos una prediccion!')\n",
        "resultado = modelo.predict([100.0])\n",
        "print('El resultado predicho por la red es' , resultado , 'fahrenheit' )\n",
        "print(f'La temperatura real {100}°Celsius es {F(100)} °Fahrenheit')\n"
      ],
      "metadata": {
        "colab": {
          "base_uri": "https://localhost:8080/"
        },
        "id": "PFmPc7q8yBjW",
        "outputId": "5e7e41de-6a9a-4757-9a1e-dfab3a6cb64b"
      },
      "execution_count": 32,
      "outputs": [
        {
          "output_type": "stream",
          "name": "stdout",
          "text": [
            "Hagamos una prediccion!\n",
            "1/1 [==============================] - 0s 66ms/step\n",
            "El resultado predicho por la red es [[211.74744]] fahrenheit\n",
            "La temperatura real 100°Celsius es 212.0 °Fahrenheit\n"
          ]
        }
      ]
    },
    {
      "cell_type": "markdown",
      "source": [
        "## **c9. Estructura interna de la red - Peso y Sesgo**"
      ],
      "metadata": {
        "id": "_yq6HQxtvboE"
      }
    },
    {
      "cell_type": "code",
      "source": [
        "## **c9. Estructura interna de la red - Peso y Sesgo**\n",
        "print('Variables internas del modelo')\n",
        "print('peso y sesgo', capa.get_weights())"
      ],
      "metadata": {
        "colab": {
          "base_uri": "https://localhost:8080/"
        },
        "id": "zNXugQqezdbU",
        "outputId": "96c82bef-c169-4e03-b413-8449fc8d6fe2"
      },
      "execution_count": 13,
      "outputs": [
        {
          "output_type": "stream",
          "name": "stdout",
          "text": [
            "Variables internas del modelo\n",
            "peso y sesgo [array([[1.7979496]], dtype=float32), array([31.952477], dtype=float32)]\n"
          ]
        }
      ]
    },
    {
      "cell_type": "markdown",
      "source": [
        "## **c10. Asi funciona la red creada = Formula creada**\n",
        "### **Predicción por la red** $100*1.7984444 + 31.895525 = 211.73969$\n",
        "### **Usando la Formula Real**$$Fahrenheit = Celsius*1.8+32 = 100*1.8+32 = 212$$"
      ],
      "metadata": {
        "id": "glgmsLhX1WK6"
      }
    },
    {
      "cell_type": "markdown",
      "source": [
        "# **d. Una red mas compleja**"
      ],
      "metadata": {
        "id": "NzCDqaDazJyX"
      }
    },
    {
      "cell_type": "markdown",
      "source": [
        "# **d1. Vamos agregar dos capas intermedias ocultas cada una de ellas con 3 neuronas**\n",
        "+ oculta1 = tf.keras.layers.Dense(units=3, input_shape=[1])\n",
        "+ oculta2 = tf.keras.layers.Dense(units=3)\n",
        "+ salida = tf.keras.layers.Dense(units=1)\n",
        "+ modelo2 = tf.keras.Sequential([oculta1, oculta2, salida])"
      ],
      "metadata": {
        "id": "S-vQZP6lzphN"
      }
    },
    {
      "cell_type": "markdown",
      "source": [
        "# **d1. Vamos agregar dos capas ocultas cada una de ellas con 3 neuronas**"
      ],
      "metadata": {
        "id": "lwcTSwq40Nmw"
      }
    },
    {
      "cell_type": "code",
      "source": [
        "# **d1. Vamos agregar dos capas ocultas cada una de ellas con 3 neuronas**\n",
        "oculta1 = tf.keras.layers.Dense(units=3, input_shape=[1])\n",
        "oculta2 = tf.keras.layers.Dense(units=3)\n",
        "salida = tf.keras.layers.Dense(units=1)\n",
        "modelo2 = tf.keras.Sequential([oculta1, oculta2, salida])"
      ],
      "metadata": {
        "id": "-rqq8u-7zdfm"
      },
      "execution_count": 33,
      "outputs": []
    },
    {
      "cell_type": "markdown",
      "source": [
        "## **d2. Preparemos el modelo para ser entrenado**"
      ],
      "metadata": {
        "id": "Sq0k64Cq0cRG"
      }
    },
    {
      "cell_type": "code",
      "source": [
        "## **d2. Preparemos el modelo para ser entrenado**\n",
        "modelo2.compile(\n",
        "    optimizer = tf.keras.optimizers.Adam(0.1),\n",
        "    loss = 'mean_squared_error'\n",
        "\n",
        ")"
      ],
      "metadata": {
        "id": "K5N6TkqSzdkI"
      },
      "execution_count": 34,
      "outputs": []
    },
    {
      "cell_type": "markdown",
      "source": [
        "## **d3. Vamos a entrenar el modelo con dos capas ocultas**"
      ],
      "metadata": {
        "id": "9l-5ADnw0o_s"
      }
    },
    {
      "cell_type": "code",
      "source": [
        "## **d3. Vamos a entrenar el modelo con dos capas ocultas**\n",
        "print('Comenzando el entrenamiento...')\n",
        "historial = modelo2.fit(celsius,fahrenheit, epochs =1000, verbose = False)\n",
        "print('Modelo Entrenado')"
      ],
      "metadata": {
        "colab": {
          "base_uri": "https://localhost:8080/"
        },
        "id": "GYcraT7OyBng",
        "outputId": "e9781086-e4c8-4d05-fe83-759dbd7ba437"
      },
      "execution_count": 35,
      "outputs": [
        {
          "output_type": "stream",
          "name": "stdout",
          "text": [
            "Comenzando el entrenamiento...\n",
            "Modelo Entrenado\n"
          ]
        }
      ]
    },
    {
      "cell_type": "markdown",
      "source": [
        "## **d4. Resultados de la función de pérdida con dos capas ocultas**\n",
        "+ Que tan mal estan los resultados de la red en cada vuelta que dió\n",
        "+ Se observa que despues de 50 vueltas el error ya es cero el modelo no aprendió mas."
      ],
      "metadata": {
        "id": "r8N9kKuO0xq-"
      }
    },
    {
      "cell_type": "code",
      "source": [
        "## **d4. Resultados de la función de pérdida con dos capas ocultas**\n",
        "import matplotlib.pyplot as plt\n",
        "plt.xlabel('# Epoca')\n",
        "plt.ylabel('Magnitud perdida')\n",
        "plt.plot(historial.history['loss'])"
      ],
      "metadata": {
        "colab": {
          "base_uri": "https://localhost:8080/",
          "height": 466
        },
        "id": "b-YcRTQc6gop",
        "outputId": "58569101-585c-4bdb-dbbd-8c74ed406030"
      },
      "execution_count": 36,
      "outputs": [
        {
          "output_type": "execute_result",
          "data": {
            "text/plain": [
              "[<matplotlib.lines.Line2D at 0x79ae90ea9b40>]"
            ]
          },
          "metadata": {},
          "execution_count": 36
        },
        {
          "output_type": "display_data",
          "data": {
            "text/plain": [
              "<Figure size 640x480 with 1 Axes>"
            ],
            "image/png": "[encoded data removed]"
          },
          "metadata": {}
        }
      ]
    },
    {
      "cell_type": "markdown",
      "source": [
        "## **d5. Hagamos una predicción para 100°C**"
      ],
      "metadata": {
        "id": "75WWWQpi1gCc"
      }
    },
    {
      "cell_type": "code",
      "source": [
        "## **d5. Hagamos una predicción para 100°C**\n",
        "print('Hagamos una prediccion!')\n",
        "resultado2 = modelo2.predict([100.0])\n",
        "resultado1 = modelo.predict([100.0])\n",
        "print('El resultado predicho por la red con el primer modelo es ' , resultado1 , 'fahrenheit' )\n",
        "print('El resultado predicho por la red con el segundo modelo es ' , resultado2 , 'fahrenheit' )\n",
        "print(f'La temperatura real {100}°Celsius es {F(100)} °Fahrenheit')\n"
      ],
      "metadata": {
        "colab": {
          "base_uri": "https://localhost:8080/"
        },
        "id": "W_qU9mMg1aJ2",
        "outputId": "04076025-d203-4bcb-eba9-261ad2385c1d"
      },
      "execution_count": 39,
      "outputs": [
        {
          "output_type": "stream",
          "name": "stdout",
          "text": [
            "Hagamos una prediccion!\n",
            "1/1 [==============================] - 0s 46ms/step\n",
            "1/1 [==============================] - 0s 46ms/step\n",
            "El resultado predicho por la red con el primer modelo es  [[211.74744]] fahrenheit\n",
            "El resultado predicho por la red con el segundo modelo es  [[211.74748]] fahrenheit\n",
            "La temperatura real 100°Celsius es 212.0 °Fahrenheit\n"
          ]
        }
      ]
    },
    {
      "cell_type": "markdown",
      "source": [
        "## **d6. Red Neuronal2 Estructura interna de la red**"
      ],
      "metadata": {
        "id": "sBLYHLeg2a8b"
      }
    },
    {
      "cell_type": "code",
      "source": [
        "## **d6. Red Neuronal2 Estructura interna de la red**\n",
        "print('Variables internas del modelo')\n",
        "print('peso y sesgo', oculta1.get_weights())\n",
        "print('peso y sesgo', oculta2.get_weights())\n",
        "print('peso y sesgo', salida.get_weights())"
      ],
      "metadata": {
        "colab": {
          "base_uri": "https://localhost:8080/"
        },
        "id": "OO9YaxtX6oP3",
        "outputId": "72bfe407-352c-4b39-e423-26313c2e102a"
      },
      "execution_count": 40,
      "outputs": [
        {
          "output_type": "stream",
          "name": "stdout",
          "text": [
            "Variables internas del modelo\n",
            "peso y sesgo [array([[ 0.15062603,  0.94732136, -0.14305001]], dtype=float32), array([-2.1947281,  4.6867886, -4.6983275], dtype=float32)]\n",
            "peso y sesgo [array([[ 0.2107742 ,  0.56624395,  0.08687732],\n",
            "       [ 0.14157832, -1.4193287 ,  0.834897  ],\n",
            "       [ 0.10021985,  1.6176919 ,  0.55475056]], dtype=float32), array([ 3.1516726, -4.7087426, -2.4375563], dtype=float32)]\n",
            "peso y sesgo [array([[ 0.4170838 ],\n",
            "       [-1.2947772 ],\n",
            "       [-0.26958057]], dtype=float32), array([4.234576], dtype=float32)]\n"
          ]
        }
      ]
    },
    {
      "cell_type": "code",
      "source": [],
      "metadata": {
        "id": "H5LgFVOs6oUA"
      },
      "execution_count": null,
      "outputs": []
    }
  ]
}