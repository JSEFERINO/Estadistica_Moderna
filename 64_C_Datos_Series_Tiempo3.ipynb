{
  "nbformat": 4,
  "nbformat_minor": 0,
  "metadata": {
    "colab": {
      "provenance": [],
      "authorship_tag": "ABX9TyN1gggbvEWFbsRUIqHXQFd5",
      "include_colab_link": true
    },
    "kernelspec": {
      "name": "python3",
      "display_name": "Python 3"
    },
    "language_info": {
      "name": "python"
    },
    "widgets": {
      "application/vnd.jupyter.widget-state+json": {
        "e0b0b3ac93084d74bb5b6a9eaf7ceb64": {
          "model_module": "@jupyter-widgets/controls",
          "model_name": "HBoxModel",
          "model_module_version": "1.5.0",
          "state": {
            "_dom_classes": [],
            "_model_module": "@jupyter-widgets/controls",
            "_model_module_version": "1.5.0",
            "_model_name": "HBoxModel",
            "_view_count": null,
            "_view_module": "@jupyter-widgets/controls",
            "_view_module_version": "1.5.0",
            "_view_name": "HBoxView",
            "box_style": "",
            "children": [
              "IPY_MODEL_ca74e769db814620b42bc02de12064cd",
              "IPY_MODEL_d11c7b0cd0e547e4b2b9ecc7a4406f58",
              "IPY_MODEL_c17f4dbea49c4132bd2d203c65768778"
            ],
            "layout": "IPY_MODEL_c8eb0de347ea446c8562639821dc1539"
          }
        },
        "ca74e769db814620b42bc02de12064cd": {
          "model_module": "@jupyter-widgets/controls",
          "model_name": "HTMLModel",
          "model_module_version": "1.5.0",
          "state": {
            "_dom_classes": [],
            "_model_module": "@jupyter-widgets/controls",
            "_model_module_version": "1.5.0",
            "_model_name": "HTMLModel",
            "_view_count": null,
            "_view_module": "@jupyter-widgets/controls",
            "_view_module_version": "1.5.0",
            "_view_name": "HTMLView",
            "description": "",
            "description_tooltip": null,
            "layout": "IPY_MODEL_ca4abcf21bb548518a9581fdb2b6deb4",
            "placeholder": "​",
            "style": "IPY_MODEL_a2efdc9822184b83bfd44f6c97609b48",
            "value": "lags grid: 100%"
          }
        },
        "d11c7b0cd0e547e4b2b9ecc7a4406f58": {
          "model_module": "@jupyter-widgets/controls",
          "model_name": "FloatProgressModel",
          "model_module_version": "1.5.0",
          "state": {
            "_dom_classes": [],
            "_model_module": "@jupyter-widgets/controls",
            "_model_module_version": "1.5.0",
            "_model_name": "FloatProgressModel",
            "_view_count": null,
            "_view_module": "@jupyter-widgets/controls",
            "_view_module_version": "1.5.0",
            "_view_name": "ProgressView",
            "bar_style": "success",
            "description": "",
            "description_tooltip": null,
            "layout": "IPY_MODEL_0101769f2d734ffaa4719fd4b37688b6",
            "max": 1,
            "min": 0,
            "orientation": "horizontal",
            "style": "IPY_MODEL_d642b5b80e9c447591c8efa93365f2a8",
            "value": 1
          }
        },
        "c17f4dbea49c4132bd2d203c65768778": {
          "model_module": "@jupyter-widgets/controls",
          "model_name": "HTMLModel",
          "model_module_version": "1.5.0",
          "state": {
            "_dom_classes": [],
            "_model_module": "@jupyter-widgets/controls",
            "_model_module_version": "1.5.0",
            "_model_name": "HTMLModel",
            "_view_count": null,
            "_view_module": "@jupyter-widgets/controls",
            "_view_module_version": "1.5.0",
            "_view_name": "HTMLView",
            "description": "",
            "description_tooltip": null,
            "layout": "IPY_MODEL_00081f49f3ec442899105a140aba335f",
            "placeholder": "​",
            "style": "IPY_MODEL_7da8c22317474985b827379f415a2090",
            "value": " 1/1 [00:10&lt;00:00, 10.54s/it]"
          }
        },
        "c8eb0de347ea446c8562639821dc1539": {
          "model_module": "@jupyter-widgets/base",
          "model_name": "LayoutModel",
          "model_module_version": "1.2.0",
          "state": {
            "_model_module": "@jupyter-widgets/base",
            "_model_module_version": "1.2.0",
            "_model_name": "LayoutModel",
            "_view_count": null,
            "_view_module": "@jupyter-widgets/base",
            "_view_module_version": "1.2.0",
            "_view_name": "LayoutView",
            "align_content": null,
            "align_items": null,
            "align_self": null,
            "border": null,
            "bottom": null,
            "display": null,
            "flex": null,
            "flex_flow": null,
            "grid_area": null,
            "grid_auto_columns": null,
            "grid_auto_flow": null,
            "grid_auto_rows": null,
            "grid_column": null,
            "grid_gap": null,
            "grid_row": null,
            "grid_template_areas": null,
            "grid_template_columns": null,
            "grid_template_rows": null,
            "height": null,
            "justify_content": null,
            "justify_items": null,
            "left": null,
            "margin": null,
            "max_height": null,
            "max_width": null,
            "min_height": null,
            "min_width": null,
            "object_fit": null,
            "object_position": null,
            "order": null,
            "overflow": null,
            "overflow_x": null,
            "overflow_y": null,
            "padding": null,
            "right": null,
            "top": null,
            "visibility": null,
            "width": null
          }
        },
        "ca4abcf21bb548518a9581fdb2b6deb4": {
          "model_module": "@jupyter-widgets/base",
          "model_name": "LayoutModel",
          "model_module_version": "1.2.0",
          "state": {
            "_model_module": "@jupyter-widgets/base",
            "_model_module_version": "1.2.0",
            "_model_name": "LayoutModel",
            "_view_count": null,
            "_view_module": "@jupyter-widgets/base",
            "_view_module_version": "1.2.0",
            "_view_name": "LayoutView",
            "align_content": null,
            "align_items": null,
            "align_self": null,
            "border": null,
            "bottom": null,
            "display": null,
            "flex": null,
            "flex_flow": null,
            "grid_area": null,
            "grid_auto_columns": null,
            "grid_auto_flow": null,
            "grid_auto_rows": null,
            "grid_column": null,
            "grid_gap": null,
            "grid_row": null,
            "grid_template_areas": null,
            "grid_template_columns": null,
            "grid_template_rows": null,
            "height": null,
            "justify_content": null,
            "justify_items": null,
            "left": null,
            "margin": null,
            "max_height": null,
            "max_width": null,
            "min_height": null,
            "min_width": null,
            "object_fit": null,
            "object_position": null,
            "order": null,
            "overflow": null,
            "overflow_x": null,
            "overflow_y": null,
            "padding": null,
            "right": null,
            "top": null,
            "visibility": null,
            "width": null
          }
        },
        "a2efdc9822184b83bfd44f6c97609b48": {
          "model_module": "@jupyter-widgets/controls",
          "model_name": "DescriptionStyleModel",
          "model_module_version": "1.5.0",
          "state": {
            "_model_module": "@jupyter-widgets/controls",
            "_model_module_version": "1.5.0",
            "_model_name": "DescriptionStyleModel",
            "_view_count": null,
            "_view_module": "@jupyter-widgets/base",
            "_view_module_version": "1.2.0",
            "_view_name": "StyleView",
            "description_width": ""
          }
        },
        "0101769f2d734ffaa4719fd4b37688b6": {
          "model_module": "@jupyter-widgets/base",
          "model_name": "LayoutModel",
          "model_module_version": "1.2.0",
          "state": {
            "_model_module": "@jupyter-widgets/base",
            "_model_module_version": "1.2.0",
            "_model_name": "LayoutModel",
            "_view_count": null,
            "_view_module": "@jupyter-widgets/base",
            "_view_module_version": "1.2.0",
            "_view_name": "LayoutView",
            "align_content": null,
            "align_items": null,
            "align_self": null,
            "border": null,
            "bottom": null,
            "display": null,
            "flex": null,
            "flex_flow": null,
            "grid_area": null,
            "grid_auto_columns": null,
            "grid_auto_flow": null,
            "grid_auto_rows": null,
            "grid_column": null,
            "grid_gap": null,
            "grid_row": null,
            "grid_template_areas": null,
            "grid_template_columns": null,
            "grid_template_rows": null,
            "height": null,
            "justify_content": null,
            "justify_items": null,
            "left": null,
            "margin": null,
            "max_height": null,
            "max_width": null,
            "min_height": null,
            "min_width": null,
            "object_fit": null,
            "object_position": null,
            "order": null,
            "overflow": null,
            "overflow_x": null,
            "overflow_y": null,
            "padding": null,
            "right": null,
            "top": null,
            "visibility": null,
            "width": null
          }
        },
        "d642b5b80e9c447591c8efa93365f2a8": {
          "model_module": "@jupyter-widgets/controls",
          "model_name": "ProgressStyleModel",
          "model_module_version": "1.5.0",
          "state": {
            "_model_module": "@jupyter-widgets/controls",
            "_model_module_version": "1.5.0",
            "_model_name": "ProgressStyleModel",
            "_view_count": null,
            "_view_module": "@jupyter-widgets/base",
            "_view_module_version": "1.2.0",
            "_view_name": "StyleView",
            "bar_color": null,
            "description_width": ""
          }
        },
        "00081f49f3ec442899105a140aba335f": {
          "model_module": "@jupyter-widgets/base",
          "model_name": "LayoutModel",
          "model_module_version": "1.2.0",
          "state": {
            "_model_module": "@jupyter-widgets/base",
            "_model_module_version": "1.2.0",
            "_model_name": "LayoutModel",
            "_view_count": null,
            "_view_module": "@jupyter-widgets/base",
            "_view_module_version": "1.2.0",
            "_view_name": "LayoutView",
            "align_content": null,
            "align_items": null,
            "align_self": null,
            "border": null,
            "bottom": null,
            "display": null,
            "flex": null,
            "flex_flow": null,
            "grid_area": null,
            "grid_auto_columns": null,
            "grid_auto_flow": null,
            "grid_auto_rows": null,
            "grid_column": null,
            "grid_gap": null,
            "grid_row": null,
            "grid_template_areas": null,
            "grid_template_columns": null,
            "grid_template_rows": null,
            "height": null,
            "justify_content": null,
            "justify_items": null,
            "left": null,
            "margin": null,
            "max_height": null,
            "max_width": null,
            "min_height": null,
            "min_width": null,
            "object_fit": null,
            "object_position": null,
            "order": null,
            "overflow": null,
            "overflow_x": null,
            "overflow_y": null,
            "padding": null,
            "right": null,
            "top": null,
            "visibility": null,
            "width": null
          }
        },
        "7da8c22317474985b827379f415a2090": {
          "model_module": "@jupyter-widgets/controls",
          "model_name": "DescriptionStyleModel",
          "model_module_version": "1.5.0",
          "state": {
            "_model_module": "@jupyter-widgets/controls",
            "_model_module_version": "1.5.0",
            "_model_name": "DescriptionStyleModel",
            "_view_count": null,
            "_view_module": "@jupyter-widgets/base",
            "_view_module_version": "1.2.0",
            "_view_name": "StyleView",
            "description_width": ""
          }
        },
        "e2dd751853574d66a180a83ec96645ff": {
          "model_module": "@jupyter-widgets/controls",
          "model_name": "HBoxModel",
          "model_module_version": "1.5.0",
          "state": {
            "_dom_classes": [],
            "_model_module": "@jupyter-widgets/controls",
            "_model_module_version": "1.5.0",
            "_model_name": "HBoxModel",
            "_view_count": null,
            "_view_module": "@jupyter-widgets/controls",
            "_view_module_version": "1.5.0",
            "_view_name": "HBoxView",
            "box_style": "",
            "children": [
              "IPY_MODEL_20424bb8fb8140dbab817f18601bb639",
              "IPY_MODEL_8a467c3546bc4ef7b003e332b66f9486",
              "IPY_MODEL_06d0494a6a524d6f85f76e0c64d63c8f"
            ],
            "layout": "IPY_MODEL_c4a800de59e44b338988804700ac049c"
          }
        },
        "20424bb8fb8140dbab817f18601bb639": {
          "model_module": "@jupyter-widgets/controls",
          "model_name": "HTMLModel",
          "model_module_version": "1.5.0",
          "state": {
            "_dom_classes": [],
            "_model_module": "@jupyter-widgets/controls",
            "_model_module_version": "1.5.0",
            "_model_name": "HTMLModel",
            "_view_count": null,
            "_view_module": "@jupyter-widgets/controls",
            "_view_module_version": "1.5.0",
            "_view_name": "HTMLView",
            "description": "",
            "description_tooltip": null,
            "layout": "IPY_MODEL_d1371b9b23214b09a41efdd2ee7ccfbc",
            "placeholder": "​",
            "style": "IPY_MODEL_c165622ef3a24c069f722eab8c5dbf2d",
            "value": "params grid: 100%"
          }
        },
        "8a467c3546bc4ef7b003e332b66f9486": {
          "model_module": "@jupyter-widgets/controls",
          "model_name": "FloatProgressModel",
          "model_module_version": "1.5.0",
          "state": {
            "_dom_classes": [],
            "_model_module": "@jupyter-widgets/controls",
            "_model_module_version": "1.5.0",
            "_model_name": "FloatProgressModel",
            "_view_count": null,
            "_view_module": "@jupyter-widgets/controls",
            "_view_module_version": "1.5.0",
            "_view_name": "ProgressView",
            "bar_style": "",
            "description": "",
            "description_tooltip": null,
            "layout": "IPY_MODEL_01c7cf13b4bd4b1997c848cd0eed0d85",
            "max": 6,
            "min": 0,
            "orientation": "horizontal",
            "style": "IPY_MODEL_a492b0a8878d4bcc8dc8461f9dd2e2ea",
            "value": 6
          }
        },
        "06d0494a6a524d6f85f76e0c64d63c8f": {
          "model_module": "@jupyter-widgets/controls",
          "model_name": "HTMLModel",
          "model_module_version": "1.5.0",
          "state": {
            "_dom_classes": [],
            "_model_module": "@jupyter-widgets/controls",
            "_model_module_version": "1.5.0",
            "_model_name": "HTMLModel",
            "_view_count": null,
            "_view_module": "@jupyter-widgets/controls",
            "_view_module_version": "1.5.0",
            "_view_name": "HTMLView",
            "description": "",
            "description_tooltip": null,
            "layout": "IPY_MODEL_4408896a279d48619fe0c89eede378fd",
            "placeholder": "​",
            "style": "IPY_MODEL_0f768f5608db497e8212d7e18639e940",
            "value": " 6/6 [00:10&lt;00:00,  1.63s/it]"
          }
        },
        "c4a800de59e44b338988804700ac049c": {
          "model_module": "@jupyter-widgets/base",
          "model_name": "LayoutModel",
          "model_module_version": "1.2.0",
          "state": {
            "_model_module": "@jupyter-widgets/base",
            "_model_module_version": "1.2.0",
            "_model_name": "LayoutModel",
            "_view_count": null,
            "_view_module": "@jupyter-widgets/base",
            "_view_module_version": "1.2.0",
            "_view_name": "LayoutView",
            "align_content": null,
            "align_items": null,
            "align_self": null,
            "border": null,
            "bottom": null,
            "display": null,
            "flex": null,
            "flex_flow": null,
            "grid_area": null,
            "grid_auto_columns": null,
            "grid_auto_flow": null,
            "grid_auto_rows": null,
            "grid_column": null,
            "grid_gap": null,
            "grid_row": null,
            "grid_template_areas": null,
            "grid_template_columns": null,
            "grid_template_rows": null,
            "height": null,
            "justify_content": null,
            "justify_items": null,
            "left": null,
            "margin": null,
            "max_height": null,
            "max_width": null,
            "min_height": null,
            "min_width": null,
            "object_fit": null,
            "object_position": null,
            "order": null,
            "overflow": null,
            "overflow_x": null,
            "overflow_y": null,
            "padding": null,
            "right": null,
            "top": null,
            "visibility": "hidden",
            "width": null
          }
        },
        "d1371b9b23214b09a41efdd2ee7ccfbc": {
          "model_module": "@jupyter-widgets/base",
          "model_name": "LayoutModel",
          "model_module_version": "1.2.0",
          "state": {
            "_model_module": "@jupyter-widgets/base",
            "_model_module_version": "1.2.0",
            "_model_name": "LayoutModel",
            "_view_count": null,
            "_view_module": "@jupyter-widgets/base",
            "_view_module_version": "1.2.0",
            "_view_name": "LayoutView",
            "align_content": null,
            "align_items": null,
            "align_self": null,
            "border": null,
            "bottom": null,
            "display": null,
            "flex": null,
            "flex_flow": null,
            "grid_area": null,
            "grid_auto_columns": null,
            "grid_auto_flow": null,
            "grid_auto_rows": null,
            "grid_column": null,
            "grid_gap": null,
            "grid_row": null,
            "grid_template_areas": null,
            "grid_template_columns": null,
            "grid_template_rows": null,
            "height": null,
            "justify_content": null,
            "justify_items": null,
            "left": null,
            "margin": null,
            "max_height": null,
            "max_width": null,
            "min_height": null,
            "min_width": null,
            "object_fit": null,
            "object_position": null,
            "order": null,
            "overflow": null,
            "overflow_x": null,
            "overflow_y": null,
            "padding": null,
            "right": null,
            "top": null,
            "visibility": null,
            "width": null
          }
        },
        "c165622ef3a24c069f722eab8c5dbf2d": {
          "model_module": "@jupyter-widgets/controls",
          "model_name": "DescriptionStyleModel",
          "model_module_version": "1.5.0",
          "state": {
            "_model_module": "@jupyter-widgets/controls",
            "_model_module_version": "1.5.0",
            "_model_name": "DescriptionStyleModel",
            "_view_count": null,
            "_view_module": "@jupyter-widgets/base",
            "_view_module_version": "1.2.0",
            "_view_name": "StyleView",
            "description_width": ""
          }
        },
        "01c7cf13b4bd4b1997c848cd0eed0d85": {
          "model_module": "@jupyter-widgets/base",
          "model_name": "LayoutModel",
          "model_module_version": "1.2.0",
          "state": {
            "_model_module": "@jupyter-widgets/base",
            "_model_module_version": "1.2.0",
            "_model_name": "LayoutModel",
            "_view_count": null,
            "_view_module": "@jupyter-widgets/base",
            "_view_module_version": "1.2.0",
            "_view_name": "LayoutView",
            "align_content": null,
            "align_items": null,
            "align_self": null,
            "border": null,
            "bottom": null,
            "display": null,
            "flex": null,
            "flex_flow": null,
            "grid_area": null,
            "grid_auto_columns": null,
            "grid_auto_flow": null,
            "grid_auto_rows": null,
            "grid_column": null,
            "grid_gap": null,
            "grid_row": null,
            "grid_template_areas": null,
            "grid_template_columns": null,
            "grid_template_rows": null,
            "height": null,
            "justify_content": null,
            "justify_items": null,
            "left": null,
            "margin": null,
            "max_height": null,
            "max_width": null,
            "min_height": null,
            "min_width": null,
            "object_fit": null,
            "object_position": null,
            "order": null,
            "overflow": null,
            "overflow_x": null,
            "overflow_y": null,
            "padding": null,
            "right": null,
            "top": null,
            "visibility": null,
            "width": null
          }
        },
        "a492b0a8878d4bcc8dc8461f9dd2e2ea": {
          "model_module": "@jupyter-widgets/controls",
          "model_name": "ProgressStyleModel",
          "model_module_version": "1.5.0",
          "state": {
            "_model_module": "@jupyter-widgets/controls",
            "_model_module_version": "1.5.0",
            "_model_name": "ProgressStyleModel",
            "_view_count": null,
            "_view_module": "@jupyter-widgets/base",
            "_view_module_version": "1.2.0",
            "_view_name": "StyleView",
            "bar_color": null,
            "description_width": ""
          }
        },
        "4408896a279d48619fe0c89eede378fd": {
          "model_module": "@jupyter-widgets/base",
          "model_name": "LayoutModel",
          "model_module_version": "1.2.0",
          "state": {
            "_model_module": "@jupyter-widgets/base",
            "_model_module_version": "1.2.0",
            "_model_name": "LayoutModel",
            "_view_count": null,
            "_view_module": "@jupyter-widgets/base",
            "_view_module_version": "1.2.0",
            "_view_name": "LayoutView",
            "align_content": null,
            "align_items": null,
            "align_self": null,
            "border": null,
            "bottom": null,
            "display": null,
            "flex": null,
            "flex_flow": null,
            "grid_area": null,
            "grid_auto_columns": null,
            "grid_auto_flow": null,
            "grid_auto_rows": null,
            "grid_column": null,
            "grid_gap": null,
            "grid_row": null,
            "grid_template_areas": null,
            "grid_template_columns": null,
            "grid_template_rows": null,
            "height": null,
            "justify_content": null,
            "justify_items": null,
            "left": null,
            "margin": null,
            "max_height": null,
            "max_width": null,
            "min_height": null,
            "min_width": null,
            "object_fit": null,
            "object_position": null,
            "order": null,
            "overflow": null,
            "overflow_x": null,
            "overflow_y": null,
            "padding": null,
            "right": null,
            "top": null,
            "visibility": null,
            "width": null
          }
        },
        "0f768f5608db497e8212d7e18639e940": {
          "model_module": "@jupyter-widgets/controls",
          "model_name": "DescriptionStyleModel",
          "model_module_version": "1.5.0",
          "state": {
            "_model_module": "@jupyter-widgets/controls",
            "_model_module_version": "1.5.0",
            "_model_name": "DescriptionStyleModel",
            "_view_count": null,
            "_view_module": "@jupyter-widgets/base",
            "_view_module_version": "1.2.0",
            "_view_name": "StyleView",
            "description_width": ""
          }
        }
      }
    }
  },
  "cells": [
    {
      "cell_type": "markdown",
      "metadata": {
        "id": "view-in-github",
        "colab_type": "text"
      },
      "source": [
        "<a href=\"https://colab.research.google.com/github/JSEFERINO/Estadistica_Moderna/blob/main/64_C_Datos_Series_Tiempo3.ipynb\" target=\"_parent\"><img src=\"https://colab.research.google.com/assets/colab-badge.svg\" alt=\"Open In Colab\"/></a>"
      ]
    },
    {
      "cell_type": "markdown",
      "source": [
        "# **Curso Introductorio a la Ciencia de Datos por Julio Hurtado Márquez**\n",
        "## **1. Aprendiendo - Series de Tiempo - Python**\n",
        "#### **https://cienciadedatos.net/documentos/py27-forecasting-series-temporales-python-scikitlearn.html**"
      ],
      "metadata": {
        "id": "tvWruVdAfPkW"
      }
    },
    {
      "cell_type": "markdown",
      "source": [
        "# **a. Serie temporal o cronológica - Wikipedia**\n",
        "+ **Una serie temporal o cronológica** es una sucesión de datos medidos en determinados momentos y ordenados cronológicamente. Los datos pueden estar espaciados a intervalos iguales (como la temperatura en un observatorio meteorológico en días sucesivos al mediodía) o desiguales (como el peso de una persona en sucesivas mediciones en el consultorio médico, la farmacia, etc.).\n",
        "+ Para el análisis de las series temporales se usan métodos que ayudan a interpretarlas y que permiten extraer información representativa sobre las relaciones subyacentes entre los datos de la serie o de diversas series y que permiten en diferente medida y con distinta confianza extrapolar o interpolar los datos y así predecir el comportamiento de la serie en momentos no observados:\n",
        "  - Sean en el futuro (extrapolación pronóstica)\n",
        "  - En el pasado (extrapolación retrógrada) o\n",
        "  - En momentos intermedios (interpolación).\n",
        "\n",
        "+ Uno de los usos más habituales de las series de datos temporales es su análisis para _predicción y pronóstico_ (así se hace por ejemplo con los datos climáticos, las acciones de bolsa, o las series de datos demográficos).\n",
        "+ Resulta difícil imaginar una rama de las ciencias en la que no aparezcan datos que puedan ser considerados como series temporales. Las series temporales se estudian en estadística, procesamiento de señales, econometría y muchas otras áreas."
      ],
      "metadata": {
        "id": "wc1dEexwhl12"
      }
    },
    {
      "cell_type": "markdown",
      "source": [
        "# **b. Introducción - Wikipedia**\n",
        "+ **Las series temporales** se usan para estudiar la _relación causal entre diversas variables que cambian con el tiempo y se influyen entre sí_.\n",
        "+ _Desde el punto de vista probabilístico una serie temporal es una sucesión de variables aleatorias indexadas según parámetro creciente con el tiempo_.\n",
        "+ _Cuando la **esperanza matemática** de dichas variables aleatorias es constante o varía de manera cíclica, se dice que la serie es estacionaria y no tiene tendencia secular_.\n",
        "+ Muchas series temporales tienen:\n",
        "  - una **tendencia creciente** (por ejemplo, el número de automóviles en uso en casi todos los países durante los últimos cincuenta años)\n",
        "  - o **decreciente** (por ejemplo, el número de personas que trabajan en la agricultura);\n",
        "  - otras **no tienen tendencia** (la luminosidad a horas sucesivas, que varía cíclicamente a lo largo de las 24 horas del día) y son **estacionarias**.\n",
        "\n",
        "## **c. Componentes - Wikipedia**\n",
        "+ _El análisis más clásico de las series temporales se basa en que los valores que toma la variable de observación es la consecuencia de cinco componentes, cuya actuación conjunta da como resultado los valores medidos_, estos componentes son:\n",
        "\n",
        "- **Tendencia secular o regular**, que indica la marcha general y persistente del fenómeno observado, es una componente de la serie que refleja la evolución a largo plazo.\n",
        "  - Por ejemplo, la tendencia creciente del índice de reciclado de basuras en los países desarrollados, o el uso creciente de Internet en la sociedad, independientemente de que en un mes concreto en un país, por determinadas causas, haya una baja en la utilización de Internet.\n",
        "- **Variación estacional o variación cíclica regular**, el movimiento periódico de corto plazo.\n",
        " - Se trata de una componente causal debida a la influencia de ciertos fenómenos que se repiten de manera periódica en un año (las estaciones), una semana (los fines de semana) o un día (las horas puntas) o cualquier otro periodo. Recoge las oscilaciones que se producen en esos períodos de repetición.\n",
        "- **Variación cíclica**, el componente de la serie que recoge las oscilaciones periódicas de amplitud superior a un año. movimientos normalmente irregulares alrededor de la tendencia, en las que a diferencia de las variaciones estacionales, tiene un período y amplitud variables, pudiendo clasificarse como _cíclicos, cuasicíclicos o recurrentes._\n",
        "- **Variación aleatoria o ruido**, accidental, de carácter errático, también denominada residuo, no muestran ninguna regularidad (salvo las regularidades estadísticas), debidos a fenómenos de carácter ocasional como pueden ser tormentas, terremotos, inundaciones, huelgas, guerras, avances tecnológicos, etcétera.\n",
        "- **Variación transitoria**, accidental, de carácter errático, debido a fenómenos aislados que pueden llegar a modificar el comportamiento de la serie (tendencia, estacionalidad variaciones cíclicas y aleatoria)."
      ],
      "metadata": {
        "id": "i1yw2hrx2pFs"
      }
    },
    {
      "cell_type": "markdown",
      "source": [
        "# **d. Tipos de series temporales**\n",
        "- **Aditivas**, se componen sumando la Tendencia, estacionalidad, variación cíclica regular, variación cíclica irregular, ruido:\n",
        "$$ x_{t}=T_{t}+E_{t}+C_{t}+R_{t}$$\n",
        "- **Multiplicativas**, se componen multiplicando la Tendencia, estacionalidad, variación cíclica regular, variación cíclica irregular, ruido:\n",
        "$$ x_{t}=T_{t}\\cdot E_{t}\\cdot C_{t}\\cdot R_{t}$$\n",
        "- **Mixtas**, se componen sumando y multiplicando la Tendencia, estacionalidad, variación cíclica regular, variación cíclica irregular, ruido. Existen varias alternativas, entre otras:\n",
        "  - $$ x_{t}=T_{t}+E_{t}\\cdot C_{t}\\cdot R_{t}$$\n",
        "  - $$ x_{t}=T_{t}+E_{t}\\cdot R_{t}$$\n",
        "  - $$x_{t}=T_{t}\\cdot E_{t}\\cdot C_{t}+R_{t}$$\n",
        "- **Notación**. Existen diferentes notaciones empleadas para la representación matemática de una serie temporal:\n",
        "\n",
        "$$ X=\\{X_{1},X_{2},\\dots \\}$$ o $$\\{X_{k}\\}_{k\\geq 1}$$\n",
        "\n",
        "- Ésta es una de las comunes que representa un Serie de Tiempo $$X$$ que es indexada por números naturales. También estamos acostumbrados a ver:$$Y=\\{Y_{t}:t\\in T\\ \\}$$\n"
      ],
      "metadata": {
        "id": "oZf_KTLHRQUE"
      }
    },
    {
      "cell_type": "markdown",
      "source": [
        "## **e. Características de las Series de tiempo vs Regresión Lineal**\n",
        "\n",
        "+ **Son dependientes del tiempo**; por lo tanto el supuesto básico de los modelos de regresión de que las observaciones son independientes no se sostiene en este caso.\n",
        "\n",
        "+ **Suelen tener una tendencia**; la mayoría de las series de tiempo suelen tener algún tipo de tendencia de estacionalidad, es decir, las variaciones propias de un período de tiempo determinado.\n",
        "\n",
        "* ***Suelen estar autocorrelacionadas***; la mayoría de los procesos físicos presentan una inercia y no cambian tan rápidamente. Esto, combinado con la frecuencia del muestreo, a menudo hace que las observaciones consecutivas estén correlacionadas.\n",
        "  - Esta correlación entre observaciones consecutivas se llama autocorrelación.\n",
        "  -  Cuando los datos están autocorrelacionados, la mayoría de los métodos estadísticos estándares basados en la suposición de observaciones independientes pueden arrojar resultados engañosos o incluso ser inútiles."
      ],
      "metadata": {
        "id": "naYFtIhUVTh0"
      }
    },
    {
      "cell_type": "markdown",
      "source": [
        "# **f. Series de tiempo estacionarias**\n",
        "+ Un tipo muy importante de series de tiempo son las _series de tiempo estacionarias_.\n",
        "- Una series de tiempo se dice que es estrictamente estacionaria si sus propiedades no son afectadas por los cambios a lo largo del tiempo.\n",
        "- Es decir, que se deberían cumplir tres criterios básicos para poder considerar a una series de tiempo como estacionaria:\n",
        " - _**La media**_ de la serie no debe ser una función de tiempo; sino que debe ser constante.\n",
        " - _**La varianza**_ de la serie no debe ser una función del tiempo.\n",
        " - _**La covarianza**_ de la serie no debe ser una función del tiempo.\n",
        "\n",
        "## **g. ¿Por qué son importantes las series de tiempo estacionarias?**\n",
        "+ La razón por la que estas series son importantes es que la mayoría de los modelos de series de tiempo funcionan bajo el supuesto de que la serie es estacionaria.\n",
        "-  Intuitivamente, podemos suponer que si una serie tiene un comportamiento particular en el tiempo, hay una probabilidad muy alta de que se comportamiento continúe en el futuro.\n",
        "- Además, las teorías relacionadas con las series estacionarias son más maduras y más fáciles de implementar en comparación con series no estacionarias.\n",
        "- A pesar de que el supuesto de que la serie es estacionaria se utiliza en muchos modelos, casi ninguna de las series de tiempo que encontramos en la práctica son estacionarias.\n",
        "- Por tal motivo la estadística tuvo que desarrollar varias técnicas para hacer estacionaria, o lo más cercano posible a estacionaria, a una serie.\n",
        "\n",
        "# **h. Series de tiempo con Python**\n",
        "* Las principales librerías que nos ofrece Python para trabajar con series de tiempo son:\n",
        "\n",
        "  - _**Statsmodels:**_ Esta librería contiene muchos objetos y funciones de suma utilidad para el análisis de series de tiempo. Algunos de los modelos que están cubiertos por Statsmodels incluyen: el modelo autorregresivo (AR); el modelo autorregresivo de vectores (VAR); y el modelo autorregresivo de media móvil (ARMA). También incluye funciones de estadística descriptiva de series de tiempo, como por ejemplo la autocorrelación, así como las correspondientes propiedades teóricas de ARMA o procesos relacionados. Por último, también ofrece las pruebas estadísticas relacionadas y algunas funciones auxiliares muy útiles.\n",
        "  - _**Pandas:**_ Pandas proporciona un amplio soporte para trabajar con datos de series de tiempo. Generalmente cuando trabajamos con series de tiempo realizamos un amplio abanico de tareas, como: convertir fechas, estandarizar el tiempo de acuerdo a la zona horaria, crear secuencias a determinados intervalos o frecuencias, identificar datos faltantes, desplazar las fechas hacia atrás o hacia adelante por un determinado valor, calcular resúmenes agregados de valores a medida que el tiempo cambia, etc. Pandas nos brinda las herramientas para poder realizar estas y muchas otras tareas en forma muy sencilla.\n"
      ],
      "metadata": {
        "id": "KEADHk_gWYw7"
      }
    },
    {
      "cell_type": "markdown",
      "source": [
        "# **i. Forecasting autorregresivo recursivo con predictores custom**\n",
        "+ En determinados escenarios, puede ser interesante incorporar otras características de la serie temporal además de los ***lags***, por ejemplo, ***la media movil*** de los últimos _n_ valores puede servir para capturar la tendencia de la serie.\n",
        "\n",
        "+ La clase _ForecasterAutoregCustom_ se comporta de forma muy similar a la clase _ForecasterAutoreg_ vista en los apartados anteriores pero con la diferencia de que, es el usuario, quien define la función empleada para crear los predictores.\n",
        "\n",
        "- Se repite el primer ejemplo del documento, predecir los últimos 36 meses de la serie temporal, pero esta vez, utilizando como predictores los 10 primeros lags y la media móvil de los últimos 20 meses."
      ],
      "metadata": {
        "id": "o5eW20xw7Jwu"
      }
    },
    {
      "cell_type": "markdown",
      "source": [
        "# **2. Ejemplos de Series de Tiempo con Python**"
      ],
      "metadata": {
        "id": "lMJMLM96aD_6"
      }
    },
    {
      "cell_type": "markdown",
      "source": [
        "# **a. Nuestras librerias a usar**"
      ],
      "metadata": {
        "id": "nuNzDP2Qal9i"
      }
    },
    {
      "cell_type": "code",
      "source": [
        "# Tratamiento de datos\n",
        "# ==============================================================================\n",
        "import numpy as np\n",
        "import pandas as pd\n",
        "\n",
        "# Gráficos\n",
        "# ==============================================================================\n",
        "import matplotlib.pyplot as plt\n",
        "plt.style.use('fivethirtyeight')\n",
        "plt.rcParams['lines.linewidth'] = 1.5\n",
        "plt.rcParams['font.size'] = 10\n",
        "\n",
        "# Modelado y Forecasting\n",
        "# ==============================================================================\n",
        "from sklearn.linear_model import LinearRegression\n",
        "from sklearn.linear_model import Lasso\n",
        "from sklearn.ensemble import RandomForestRegressor\n",
        "from sklearn.metrics import mean_squared_error\n",
        "from sklearn.metrics import mean_absolute_error\n",
        "from sklearn.preprocessing import StandardScaler\n",
        "!pip install skforecast\n",
        "from skforecast.ForecasterAutoreg import ForecasterAutoreg\n",
        "from skforecast.ForecasterAutoregCustom import ForecasterAutoregCustom\n",
        "from skforecast.ForecasterAutoregDirect import ForecasterAutoregDirect\n",
        "from skforecast.model_selection import grid_search_forecaster\n",
        "from skforecast.model_selection import backtesting_forecaster\n",
        "from skforecast.utils import save_forecaster\n",
        "from skforecast.utils import load_forecaster\n",
        "\n",
        "# Configuración warnings\n",
        "# ==============================================================================\n",
        "import warnings\n",
        "# warnings.filterwarnings('ignore')"
      ],
      "metadata": {
        "id": "oMTb2sIusSdw"
      },
      "execution_count": null,
      "outputs": []
    },
    {
      "cell_type": "markdown",
      "source": [
        "# **b. Descarga de datos**"
      ],
      "metadata": {
        "id": "LQL6JrjLfEss"
      }
    },
    {
      "cell_type": "code",
      "source": [
        "# **b. Descarga de datos**\n",
        "# ==============================================================================\n",
        "url = 'https://raw.githubusercontent.com/JoaquinAmatRodrigo/skforecast/master/data/h2o_exog.csv'\n",
        "datos = pd.read_csv(url, sep=',')\n",
        "datos"
      ],
      "metadata": {
        "colab": {
          "base_uri": "https://localhost:8080/",
          "height": 423
        },
        "id": "dhyR6o8geugs",
        "outputId": "b94cb4e2-b5dc-4996-a556-1f2379cdb70a"
      },
      "execution_count": null,
      "outputs": [
        {
          "output_type": "execute_result",
          "data": {
            "text/plain": [
              "          fecha         y    exog_1    exog_2\n",
              "0    1992-04-01  0.379808  0.958792  1.166029\n",
              "1    1992-05-01  0.361801  0.951993  1.117859\n",
              "2    1992-06-01  0.410534  0.952955  1.067942\n",
              "3    1992-07-01  0.483389  0.958078  1.097376\n",
              "4    1992-08-01  0.475463  0.956370  1.122199\n",
              "..          ...       ...       ...       ...\n",
              "190  2008-02-01  0.761822  1.515840  1.786373\n",
              "191  2008-03-01  0.649435  1.506258  1.694264\n",
              "192  2008-04-01  0.827887  1.505253  1.627135\n",
              "193  2008-05-01  0.816255  1.491464  1.555068\n",
              "194  2008-06-01  0.762137  1.459856  1.463507\n",
              "\n",
              "[195 rows x 4 columns]"
            ],
            "text/html": [
              "\n",
              "  <div id=\"df-fd412f18-33ef-4cfc-a6a2-0d4781fe5ee8\" class=\"colab-df-container\">\n",
              "    <div>\n",
              "<style scoped>\n",
              "    .dataframe tbody tr th:only-of-type {\n",
              "        vertical-align: middle;\n",
              "    }\n",
              "\n",
              "    .dataframe tbody tr th {\n",
              "        vertical-align: top;\n",
              "    }\n",
              "\n",
              "    .dataframe thead th {\n",
              "        text-align: right;\n",
              "    }\n",
              "</style>\n",
              "<table border=\"1\" class=\"dataframe\">\n",
              "  <thead>\n",
              "    <tr style=\"text-align: right;\">\n",
              "      <th></th>\n",
              "      <th>fecha</th>\n",
              "      <th>y</th>\n",
              "      <th>exog_1</th>\n",
              "      <th>exog_2</th>\n",
              "    </tr>\n",
              "  </thead>\n",
              "  <tbody>\n",
              "    <tr>\n",
              "      <th>0</th>\n",
              "      <td>1992-04-01</td>\n",
              "      <td>0.379808</td>\n",
              "      <td>0.958792</td>\n",
              "      <td>1.166029</td>\n",
              "    </tr>\n",
              "    <tr>\n",
              "      <th>1</th>\n",
              "      <td>1992-05-01</td>\n",
              "      <td>0.361801</td>\n",
              "      <td>0.951993</td>\n",
              "      <td>1.117859</td>\n",
              "    </tr>\n",
              "    <tr>\n",
              "      <th>2</th>\n",
              "      <td>1992-06-01</td>\n",
              "      <td>0.410534</td>\n",
              "      <td>0.952955</td>\n",
              "      <td>1.067942</td>\n",
              "    </tr>\n",
              "    <tr>\n",
              "      <th>3</th>\n",
              "      <td>1992-07-01</td>\n",
              "      <td>0.483389</td>\n",
              "      <td>0.958078</td>\n",
              "      <td>1.097376</td>\n",
              "    </tr>\n",
              "    <tr>\n",
              "      <th>4</th>\n",
              "      <td>1992-08-01</td>\n",
              "      <td>0.475463</td>\n",
              "      <td>0.956370</td>\n",
              "      <td>1.122199</td>\n",
              "    </tr>\n",
              "    <tr>\n",
              "      <th>...</th>\n",
              "      <td>...</td>\n",
              "      <td>...</td>\n",
              "      <td>...</td>\n",
              "      <td>...</td>\n",
              "    </tr>\n",
              "    <tr>\n",
              "      <th>190</th>\n",
              "      <td>2008-02-01</td>\n",
              "      <td>0.761822</td>\n",
              "      <td>1.515840</td>\n",
              "      <td>1.786373</td>\n",
              "    </tr>\n",
              "    <tr>\n",
              "      <th>191</th>\n",
              "      <td>2008-03-01</td>\n",
              "      <td>0.649435</td>\n",
              "      <td>1.506258</td>\n",
              "      <td>1.694264</td>\n",
              "    </tr>\n",
              "    <tr>\n",
              "      <th>192</th>\n",
              "      <td>2008-04-01</td>\n",
              "      <td>0.827887</td>\n",
              "      <td>1.505253</td>\n",
              "      <td>1.627135</td>\n",
              "    </tr>\n",
              "    <tr>\n",
              "      <th>193</th>\n",
              "      <td>2008-05-01</td>\n",
              "      <td>0.816255</td>\n",
              "      <td>1.491464</td>\n",
              "      <td>1.555068</td>\n",
              "    </tr>\n",
              "    <tr>\n",
              "      <th>194</th>\n",
              "      <td>2008-06-01</td>\n",
              "      <td>0.762137</td>\n",
              "      <td>1.459856</td>\n",
              "      <td>1.463507</td>\n",
              "    </tr>\n",
              "  </tbody>\n",
              "</table>\n",
              "<p>195 rows × 4 columns</p>\n",
              "</div>\n",
              "    <div class=\"colab-df-buttons\">\n",
              "\n",
              "  <div class=\"colab-df-container\">\n",
              "    <button class=\"colab-df-convert\" onclick=\"convertToInteractive('df-fd412f18-33ef-4cfc-a6a2-0d4781fe5ee8')\"\n",
              "            title=\"Convert this dataframe to an interactive table.\"\n",
              "            style=\"display:none;\">\n",
              "\n",
              "  <svg xmlns=\"http://www.w3.org/2000/svg\" height=\"24px\" viewBox=\"0 -960 960 960\">\n",
              "    <path d=\"M120-120v-720h720v720H120Zm60-500h600v-160H180v160Zm220 220h160v-160H400v160Zm0 220h160v-160H400v160ZM180-400h160v-160H180v160Zm440 0h160v-160H620v160ZM180-180h160v-160H180v160Zm440 0h160v-160H620v160Z\"/>\n",
              "  </svg>\n",
              "    </button>\n",
              "\n",
              "  <style>\n",
              "    .colab-df-container {\n",
              "      display:flex;\n",
              "      gap: 12px;\n",
              "    }\n",
              "\n",
              "    .colab-df-convert {\n",
              "      background-color: #E8F0FE;\n",
              "      border: none;\n",
              "      border-radius: 50%;\n",
              "      cursor: pointer;\n",
              "      display: none;\n",
              "      fill: #1967D2;\n",
              "      height: 32px;\n",
              "      padding: 0 0 0 0;\n",
              "      width: 32px;\n",
              "    }\n",
              "\n",
              "    .colab-df-convert:hover {\n",
              "      background-color: #E2EBFA;\n",
              "      box-shadow: 0px 1px 2px rgba(60, 64, 67, 0.3), 0px 1px 3px 1px rgba(60, 64, 67, 0.15);\n",
              "      fill: #174EA6;\n",
              "    }\n",
              "\n",
              "    .colab-df-buttons div {\n",
              "      margin-bottom: 4px;\n",
              "    }\n",
              "\n",
              "    [theme=dark] .colab-df-convert {\n",
              "      background-color: #3B4455;\n",
              "      fill: #D2E3FC;\n",
              "    }\n",
              "\n",
              "    [theme=dark] .colab-df-convert:hover {\n",
              "      background-color: #434B5C;\n",
              "      box-shadow: 0px 1px 3px 1px rgba(0, 0, 0, 0.15);\n",
              "      filter: drop-shadow(0px 1px 2px rgba(0, 0, 0, 0.3));\n",
              "      fill: #FFFFFF;\n",
              "    }\n",
              "  </style>\n",
              "\n",
              "    <script>\n",
              "      const buttonEl =\n",
              "        document.querySelector('#df-fd412f18-33ef-4cfc-a6a2-0d4781fe5ee8 button.colab-df-convert');\n",
              "      buttonEl.style.display =\n",
              "        google.colab.kernel.accessAllowed ? 'block' : 'none';\n",
              "\n",
              "      async function convertToInteractive(key) {\n",
              "        const element = document.querySelector('#df-fd412f18-33ef-4cfc-a6a2-0d4781fe5ee8');\n",
              "        const dataTable =\n",
              "          await google.colab.kernel.invokeFunction('convertToInteractive',\n",
              "                                                    [key], {});\n",
              "        if (!dataTable) return;\n",
              "\n",
              "        const docLinkHtml = 'Like what you see? Visit the ' +\n",
              "          '<a target=\"_blank\" href=https://colab.research.google.com/notebooks/data_table.ipynb>data table notebook</a>'\n",
              "          + ' to learn more about interactive tables.';\n",
              "        element.innerHTML = '';\n",
              "        dataTable['output_type'] = 'display_data';\n",
              "        await google.colab.output.renderOutput(dataTable, element);\n",
              "        const docLink = document.createElement('div');\n",
              "        docLink.innerHTML = docLinkHtml;\n",
              "        element.appendChild(docLink);\n",
              "      }\n",
              "    </script>\n",
              "  </div>\n",
              "\n",
              "\n",
              "<div id=\"df-bf579be0-2cbc-45bb-9a97-dda71149b512\">\n",
              "  <button class=\"colab-df-quickchart\" onclick=\"quickchart('df-bf579be0-2cbc-45bb-9a97-dda71149b512')\"\n",
              "            title=\"Suggest charts.\"\n",
              "            style=\"display:none;\">\n",
              "\n",
              "<svg xmlns=\"http://www.w3.org/2000/svg\" height=\"24px\"viewBox=\"0 0 24 24\"\n",
              "     width=\"24px\">\n",
              "    <g>\n",
              "        <path d=\"M19 3H5c-1.1 0-2 .9-2 2v14c0 1.1.9 2 2 2h14c1.1 0 2-.9 2-2V5c0-1.1-.9-2-2-2zM9 17H7v-7h2v7zm4 0h-2V7h2v10zm4 0h-2v-4h2v4z\"/>\n",
              "    </g>\n",
              "</svg>\n",
              "  </button>\n",
              "\n",
              "<style>\n",
              "  .colab-df-quickchart {\n",
              "    background-color: #E8F0FE;\n",
              "    border: none;\n",
              "    border-radius: 50%;\n",
              "    cursor: pointer;\n",
              "    display: none;\n",
              "    fill: #1967D2;\n",
              "    height: 32px;\n",
              "    padding: 0 0 0 0;\n",
              "    width: 32px;\n",
              "  }\n",
              "\n",
              "  .colab-df-quickchart:hover {\n",
              "    background-color: #E2EBFA;\n",
              "    box-shadow: 0px 1px 2px rgba(60, 64, 67, 0.3), 0px 1px 3px 1px rgba(60, 64, 67, 0.15);\n",
              "    fill: #174EA6;\n",
              "  }\n",
              "\n",
              "  [theme=dark] .colab-df-quickchart {\n",
              "    background-color: #3B4455;\n",
              "    fill: #D2E3FC;\n",
              "  }\n",
              "\n",
              "  [theme=dark] .colab-df-quickchart:hover {\n",
              "    background-color: #434B5C;\n",
              "    box-shadow: 0px 1px 3px 1px rgba(0, 0, 0, 0.15);\n",
              "    filter: drop-shadow(0px 1px 2px rgba(0, 0, 0, 0.3));\n",
              "    fill: #FFFFFF;\n",
              "  }\n",
              "</style>\n",
              "\n",
              "  <script>\n",
              "    async function quickchart(key) {\n",
              "      const charts = await google.colab.kernel.invokeFunction(\n",
              "          'suggestCharts', [key], {});\n",
              "    }\n",
              "    (() => {\n",
              "      let quickchartButtonEl =\n",
              "        document.querySelector('#df-bf579be0-2cbc-45bb-9a97-dda71149b512 button');\n",
              "      quickchartButtonEl.style.display =\n",
              "        google.colab.kernel.accessAllowed ? 'block' : 'none';\n",
              "    })();\n",
              "  </script>\n",
              "</div>\n",
              "    </div>\n",
              "  </div>\n"
            ]
          },
          "metadata": {},
          "execution_count": 2
        }
      ]
    },
    {
      "cell_type": "markdown",
      "source": [
        "# **c. Examinando los datos**"
      ],
      "metadata": {
        "id": "adgcOxSTjRhG"
      }
    },
    {
      "cell_type": "code",
      "source": [
        "# **c. Examinando los datos**\n",
        "datos.dtypes"
      ],
      "metadata": {
        "colab": {
          "base_uri": "https://localhost:8080/"
        },
        "id": "yxhFI0hcjElk",
        "outputId": "76388b43-91ca-4e39-980d-5542d2f991d7"
      },
      "execution_count": null,
      "outputs": [
        {
          "output_type": "execute_result",
          "data": {
            "text/plain": [
              "fecha      object\n",
              "y         float64\n",
              "exog_1    float64\n",
              "exog_2    float64\n",
              "dtype: object"
            ]
          },
          "metadata": {},
          "execution_count": 3
        }
      ]
    },
    {
      "cell_type": "markdown",
      "source": [
        "### **Nota**\n",
        "- La columna _fecha_ se ha almacenado como string. Para convertirla en datetime, se emplea la función pd.to_datetime(). - Una vez en formato datetime, y para hacer uso de las funcionalidades de Pandas, se establece como índice. Además, dado que los datos son mensuales, se indica la frecuencia (Monthly Started 'MS')"
      ],
      "metadata": {
        "id": "4_8FNFGvfUKL"
      }
    },
    {
      "cell_type": "markdown",
      "source": [
        "# **d. Preparación del dato**"
      ],
      "metadata": {
        "id": "PAFYV-opioA3"
      }
    },
    {
      "cell_type": "code",
      "source": [
        "# **d. Preparación del dato**\n",
        "# ==============================================================================\n",
        "datos['fecha'] = pd.to_datetime(datos['fecha'], format='%Y-%m-%d')\n",
        "datos = datos.set_index('fecha')\n",
        "datos = datos.rename(columns={'x': 'y'})\n",
        "datos = datos.asfreq('MS')\n",
        "datos = datos.sort_index()\n",
        "datos.head()"
      ],
      "metadata": {
        "colab": {
          "base_uri": "https://localhost:8080/",
          "height": 237
        },
        "id": "1-UaVirEfIQ6",
        "outputId": "d3e151d4-3361-4ae7-ee00-1b1b07f6cbc1"
      },
      "execution_count": null,
      "outputs": [
        {
          "output_type": "execute_result",
          "data": {
            "text/plain": [
              "                   y    exog_1    exog_2\n",
              "fecha                                   \n",
              "1992-04-01  0.379808  0.958792  1.166029\n",
              "1992-05-01  0.361801  0.951993  1.117859\n",
              "1992-06-01  0.410534  0.952955  1.067942\n",
              "1992-07-01  0.483389  0.958078  1.097376\n",
              "1992-08-01  0.475463  0.956370  1.122199"
            ],
            "text/html": [
              "\n",
              "  <div id=\"df-0f828bed-c53d-4bf7-8a5f-0b9b76746bf4\" class=\"colab-df-container\">\n",
              "    <div>\n",
              "<style scoped>\n",
              "    .dataframe tbody tr th:only-of-type {\n",
              "        vertical-align: middle;\n",
              "    }\n",
              "\n",
              "    .dataframe tbody tr th {\n",
              "        vertical-align: top;\n",
              "    }\n",
              "\n",
              "    .dataframe thead th {\n",
              "        text-align: right;\n",
              "    }\n",
              "</style>\n",
              "<table border=\"1\" class=\"dataframe\">\n",
              "  <thead>\n",
              "    <tr style=\"text-align: right;\">\n",
              "      <th></th>\n",
              "      <th>y</th>\n",
              "      <th>exog_1</th>\n",
              "      <th>exog_2</th>\n",
              "    </tr>\n",
              "    <tr>\n",
              "      <th>fecha</th>\n",
              "      <th></th>\n",
              "      <th></th>\n",
              "      <th></th>\n",
              "    </tr>\n",
              "  </thead>\n",
              "  <tbody>\n",
              "    <tr>\n",
              "      <th>1992-04-01</th>\n",
              "      <td>0.379808</td>\n",
              "      <td>0.958792</td>\n",
              "      <td>1.166029</td>\n",
              "    </tr>\n",
              "    <tr>\n",
              "      <th>1992-05-01</th>\n",
              "      <td>0.361801</td>\n",
              "      <td>0.951993</td>\n",
              "      <td>1.117859</td>\n",
              "    </tr>\n",
              "    <tr>\n",
              "      <th>1992-06-01</th>\n",
              "      <td>0.410534</td>\n",
              "      <td>0.952955</td>\n",
              "      <td>1.067942</td>\n",
              "    </tr>\n",
              "    <tr>\n",
              "      <th>1992-07-01</th>\n",
              "      <td>0.483389</td>\n",
              "      <td>0.958078</td>\n",
              "      <td>1.097376</td>\n",
              "    </tr>\n",
              "    <tr>\n",
              "      <th>1992-08-01</th>\n",
              "      <td>0.475463</td>\n",
              "      <td>0.956370</td>\n",
              "      <td>1.122199</td>\n",
              "    </tr>\n",
              "  </tbody>\n",
              "</table>\n",
              "</div>\n",
              "    <div class=\"colab-df-buttons\">\n",
              "\n",
              "  <div class=\"colab-df-container\">\n",
              "    <button class=\"colab-df-convert\" onclick=\"convertToInteractive('df-0f828bed-c53d-4bf7-8a5f-0b9b76746bf4')\"\n",
              "            title=\"Convert this dataframe to an interactive table.\"\n",
              "            style=\"display:none;\">\n",
              "\n",
              "  <svg xmlns=\"http://www.w3.org/2000/svg\" height=\"24px\" viewBox=\"0 -960 960 960\">\n",
              "    <path d=\"M120-120v-720h720v720H120Zm60-500h600v-160H180v160Zm220 220h160v-160H400v160Zm0 220h160v-160H400v160ZM180-400h160v-160H180v160Zm440 0h160v-160H620v160ZM180-180h160v-160H180v160Zm440 0h160v-160H620v160Z\"/>\n",
              "  </svg>\n",
              "    </button>\n",
              "\n",
              "  <style>\n",
              "    .colab-df-container {\n",
              "      display:flex;\n",
              "      gap: 12px;\n",
              "    }\n",
              "\n",
              "    .colab-df-convert {\n",
              "      background-color: #E8F0FE;\n",
              "      border: none;\n",
              "      border-radius: 50%;\n",
              "      cursor: pointer;\n",
              "      display: none;\n",
              "      fill: #1967D2;\n",
              "      height: 32px;\n",
              "      padding: 0 0 0 0;\n",
              "      width: 32px;\n",
              "    }\n",
              "\n",
              "    .colab-df-convert:hover {\n",
              "      background-color: #E2EBFA;\n",
              "      box-shadow: 0px 1px 2px rgba(60, 64, 67, 0.3), 0px 1px 3px 1px rgba(60, 64, 67, 0.15);\n",
              "      fill: #174EA6;\n",
              "    }\n",
              "\n",
              "    .colab-df-buttons div {\n",
              "      margin-bottom: 4px;\n",
              "    }\n",
              "\n",
              "    [theme=dark] .colab-df-convert {\n",
              "      background-color: #3B4455;\n",
              "      fill: #D2E3FC;\n",
              "    }\n",
              "\n",
              "    [theme=dark] .colab-df-convert:hover {\n",
              "      background-color: #434B5C;\n",
              "      box-shadow: 0px 1px 3px 1px rgba(0, 0, 0, 0.15);\n",
              "      filter: drop-shadow(0px 1px 2px rgba(0, 0, 0, 0.3));\n",
              "      fill: #FFFFFF;\n",
              "    }\n",
              "  </style>\n",
              "\n",
              "    <script>\n",
              "      const buttonEl =\n",
              "        document.querySelector('#df-0f828bed-c53d-4bf7-8a5f-0b9b76746bf4 button.colab-df-convert');\n",
              "      buttonEl.style.display =\n",
              "        google.colab.kernel.accessAllowed ? 'block' : 'none';\n",
              "\n",
              "      async function convertToInteractive(key) {\n",
              "        const element = document.querySelector('#df-0f828bed-c53d-4bf7-8a5f-0b9b76746bf4');\n",
              "        const dataTable =\n",
              "          await google.colab.kernel.invokeFunction('convertToInteractive',\n",
              "                                                    [key], {});\n",
              "        if (!dataTable) return;\n",
              "\n",
              "        const docLinkHtml = 'Like what you see? Visit the ' +\n",
              "          '<a target=\"_blank\" href=https://colab.research.google.com/notebooks/data_table.ipynb>data table notebook</a>'\n",
              "          + ' to learn more about interactive tables.';\n",
              "        element.innerHTML = '';\n",
              "        dataTable['output_type'] = 'display_data';\n",
              "        await google.colab.output.renderOutput(dataTable, element);\n",
              "        const docLink = document.createElement('div');\n",
              "        docLink.innerHTML = docLinkHtml;\n",
              "        element.appendChild(docLink);\n",
              "      }\n",
              "    </script>\n",
              "  </div>\n",
              "\n",
              "\n",
              "<div id=\"df-e75c5d9e-8573-4660-b70c-f6d85d012870\">\n",
              "  <button class=\"colab-df-quickchart\" onclick=\"quickchart('df-e75c5d9e-8573-4660-b70c-f6d85d012870')\"\n",
              "            title=\"Suggest charts.\"\n",
              "            style=\"display:none;\">\n",
              "\n",
              "<svg xmlns=\"http://www.w3.org/2000/svg\" height=\"24px\"viewBox=\"0 0 24 24\"\n",
              "     width=\"24px\">\n",
              "    <g>\n",
              "        <path d=\"M19 3H5c-1.1 0-2 .9-2 2v14c0 1.1.9 2 2 2h14c1.1 0 2-.9 2-2V5c0-1.1-.9-2-2-2zM9 17H7v-7h2v7zm4 0h-2V7h2v10zm4 0h-2v-4h2v4z\"/>\n",
              "    </g>\n",
              "</svg>\n",
              "  </button>\n",
              "\n",
              "<style>\n",
              "  .colab-df-quickchart {\n",
              "    background-color: #E8F0FE;\n",
              "    border: none;\n",
              "    border-radius: 50%;\n",
              "    cursor: pointer;\n",
              "    display: none;\n",
              "    fill: #1967D2;\n",
              "    height: 32px;\n",
              "    padding: 0 0 0 0;\n",
              "    width: 32px;\n",
              "  }\n",
              "\n",
              "  .colab-df-quickchart:hover {\n",
              "    background-color: #E2EBFA;\n",
              "    box-shadow: 0px 1px 2px rgba(60, 64, 67, 0.3), 0px 1px 3px 1px rgba(60, 64, 67, 0.15);\n",
              "    fill: #174EA6;\n",
              "  }\n",
              "\n",
              "  [theme=dark] .colab-df-quickchart {\n",
              "    background-color: #3B4455;\n",
              "    fill: #D2E3FC;\n",
              "  }\n",
              "\n",
              "  [theme=dark] .colab-df-quickchart:hover {\n",
              "    background-color: #434B5C;\n",
              "    box-shadow: 0px 1px 3px 1px rgba(0, 0, 0, 0.15);\n",
              "    filter: drop-shadow(0px 1px 2px rgba(0, 0, 0, 0.3));\n",
              "    fill: #FFFFFF;\n",
              "  }\n",
              "</style>\n",
              "\n",
              "  <script>\n",
              "    async function quickchart(key) {\n",
              "      const charts = await google.colab.kernel.invokeFunction(\n",
              "          'suggestCharts', [key], {});\n",
              "    }\n",
              "    (() => {\n",
              "      let quickchartButtonEl =\n",
              "        document.querySelector('#df-e75c5d9e-8573-4660-b70c-f6d85d012870 button');\n",
              "      quickchartButtonEl.style.display =\n",
              "        google.colab.kernel.accessAllowed ? 'block' : 'none';\n",
              "    })();\n",
              "  </script>\n",
              "</div>\n",
              "    </div>\n",
              "  </div>\n"
            ]
          },
          "metadata": {},
          "execution_count": 4
        }
      ]
    },
    {
      "cell_type": "markdown",
      "source": [
        "# **e. Separación datos train-test**"
      ],
      "metadata": {
        "id": "uAJKER0Fl1pa"
      }
    },
    {
      "cell_type": "code",
      "source": [
        "# **e. Separación datos train-test**\n",
        "# ==============================================================================\n",
        "steps = 36\n",
        "datos_train = datos[:-steps]\n",
        "datos_test  = datos[-steps:]\n",
        "\n",
        "print(f\"Fechas train : {datos_train.index.min()} --- {datos_train.index.max()}  (n={len(datos_train)})\")\n",
        "print(f\"Fechas test  : {datos_test.index.min()} --- {datos_test.index.max()}  (n={len(datos_test)})\")\n",
        "\n",
        "fig, ax = plt.subplots(figsize=(7, 2.5))\n",
        "datos_train['y'].plot(ax=ax, label='train')\n",
        "datos_test['y'].plot(ax=ax, label='test')\n",
        "ax.legend()"
      ],
      "metadata": {
        "colab": {
          "base_uri": "https://localhost:8080/",
          "height": 335
        },
        "id": "9WpN-2oXfIoi",
        "outputId": "3d84096c-af43-4ee2-cd3d-9c15b7979e6d"
      },
      "execution_count": null,
      "outputs": [
        {
          "output_type": "stream",
          "name": "stdout",
          "text": [
            "Fechas train : 1992-04-01 00:00:00 --- 2005-06-01 00:00:00  (n=159)\n",
            "Fechas test  : 2005-07-01 00:00:00 --- 2008-06-01 00:00:00  (n=36)\n"
          ]
        },
        {
          "output_type": "execute_result",
          "data": {
            "text/plain": [
              "<matplotlib.legend.Legend at 0x7fc84f14a530>"
            ]
          },
          "metadata": {},
          "execution_count": 5
        },
        {
          "output_type": "display_data",
          "data": {
            "text/plain": [
              "<Figure size 700x250 with 1 Axes>"
            ],
            "image/png": "[encoded data removed]"
          },
          "metadata": {}
        }
      ]
    },
    {
      "cell_type": "markdown",
      "source": [
        "# **3. ForecasterAutoregCustom**\n",
        "- Se crea y entrena un ***ForecasterAutoregCustom*** a partir de un regresor ***RandomForestRegressor***. Para crear los predictores, se emplea la función _create_predictors()_ que calcula los primeros 10 lags y la media móvil de los últimos 20 valores"
      ],
      "metadata": {
        "id": "K8M6EldDm062"
      }
    },
    {
      "cell_type": "markdown",
      "source": [
        "# **a. Función para calcular los predictores a partir de la serie temporal**"
      ],
      "metadata": {
        "id": "639UsnhLIjkD"
      }
    },
    {
      "cell_type": "code",
      "source": [
        "# **a. Función para calcular los predictores a partir de la serie temporal**\n",
        "# ==============================================================================\n",
        "def custom_predictors(y):\n",
        "    '''\n",
        "    Create first 10 lags of a time series.\n",
        "    Calculate moving average with window 20.\n",
        "    '''\n",
        "\n",
        "    lags = y[-1:-11:-1]\n",
        "    mean = np.mean(y[-20:])\n",
        "    predictors = np.hstack([lags, mean])\n",
        "\n",
        "    return predictors"
      ],
      "metadata": {
        "id": "vjkxqVWoIaMb"
      },
      "execution_count": null,
      "outputs": []
    },
    {
      "cell_type": "markdown",
      "source": [
        "# **🖉 Nota 1**\n",
        "+ Al crear el forecaster, el argumento window_size debe ser igual a la ventana que utiliza la función que crea los predictores. En este caso 20\n"
      ],
      "metadata": {
        "id": "mZ_Nrg-vI1Ay"
      }
    },
    {
      "cell_type": "markdown",
      "source": [
        "# **b. Crear y entrenar forecaster**"
      ],
      "metadata": {
        "id": "EKXByqgBqzFE"
      }
    },
    {
      "cell_type": "code",
      "source": [
        "# Crear y entrenar forecaster\n",
        "# ==============================================================================\n",
        "forecaster = ForecasterAutoregCustom(\n",
        "                regressor      = RandomForestRegressor(random_state=123),\n",
        "                fun_predictors = custom_predictors,\n",
        "                window_size    = 20\n",
        "             )\n",
        "\n",
        "forecaster.fit(y=datos_train['y'])\n",
        "forecaster"
      ],
      "metadata": {
        "colab": {
          "base_uri": "https://localhost:8080/"
        },
        "id": "QB5MSjlLJK9D",
        "outputId": "df0a5edb-d4a4-4bb3-eb64-d475005e6e26"
      },
      "execution_count": null,
      "outputs": [
        {
          "output_type": "execute_result",
          "data": {
            "text/plain": [
              "======================= \n",
              "ForecasterAutoregCustom \n",
              "======================= \n",
              "Regressor: RandomForestRegressor(random_state=123) \n",
              "Predictors created with function: custom_predictors \n",
              "Transformer for y: None \n",
              "Transformer for exog: None \n",
              "Window size: 20 \n",
              "Weight function included: False \n",
              "Exogenous included: False \n",
              "Type of exogenous variable: None \n",
              "Exogenous variables names: None \n",
              "Training range: [Timestamp('1992-04-01 00:00:00'), Timestamp('2005-06-01 00:00:00')] \n",
              "Training index type: DatetimeIndex \n",
              "Training index frequency: MS \n",
              "Regressor parameters: {'bootstrap': True, 'ccp_alpha': 0.0, 'criterion': 'squared_error', 'max_depth': None, 'max_features': 1.0, 'max_leaf_nodes': None, 'max_samples': None, 'min_impurity_decrease': 0.0, 'min_samples_leaf': 1, 'min_samples_split': 2, 'min_weight_fraction_leaf': 0.0, 'n_estimators': 100, 'n_jobs': None, 'oob_score': False, 'random_state': 123, 'verbose': 0, 'warm_start': False} \n",
              "fit_kwargs: {} \n",
              "Creation date: 2023-08-22 16:47:35 \n",
              "Last fit date: 2023-08-22 16:47:35 \n",
              "Skforecast version: 0.9.1 \n",
              "Python version: 3.10.12 \n",
              "Forecaster id: None "
            ]
          },
          "metadata": {},
          "execution_count": 7
        }
      ]
    },
    {
      "cell_type": "markdown",
      "source": [
        "# **🖉 Nota 2**\n",
        "+ Se puede acceder al código de la función utilizada para crear lo predictores."
      ],
      "metadata": {
        "id": "svqCQFqmJdZK"
      }
    },
    {
      "cell_type": "code",
      "source": [
        "print(forecaster.source_code_fun_predictors)"
      ],
      "metadata": {
        "colab": {
          "base_uri": "https://localhost:8080/"
        },
        "id": "rNKOqv_JJYMj",
        "outputId": "29d728c7-94ba-43ac-ca53-b083e786e1f1"
      },
      "execution_count": null,
      "outputs": [
        {
          "output_type": "stream",
          "name": "stdout",
          "text": [
            "def custom_predictors(y):\n",
            "    '''\n",
            "    Create first 10 lags of a time series.\n",
            "    Calculate moving average with window 20.\n",
            "    '''\n",
            "    \n",
            "    lags = y[-1:-11:-1]\n",
            "    mean = np.mean(y[-20:])\n",
            "    predictors = np.hstack([lags, mean])\n",
            "    \n",
            "    return predictors\n",
            "\n"
          ]
        }
      ]
    },
    {
      "cell_type": "markdown",
      "source": [
        "# **🖉 Nota 3**\n",
        "+ Mediante el método create_train_X_y, se puede acceder a las matrices que se crean internamente en el proceso de entrenamiento del forecaster."
      ],
      "metadata": {
        "id": "zYVGlE5PJsbE"
      }
    },
    {
      "cell_type": "code",
      "source": [
        "X, y = forecaster.create_train_X_y(y=datos_train['y'])\n",
        "X.head(4)"
      ],
      "metadata": {
        "colab": {
          "base_uri": "https://localhost:8080/",
          "height": 295
        },
        "id": "vtvcDfR8J_hk",
        "outputId": "6146cb15-6834-4afb-9953-f4a1e13caa6a"
      },
      "execution_count": null,
      "outputs": [
        {
          "output_type": "execute_result",
          "data": {
            "text/plain": [
              "            custom_predictor_0  custom_predictor_1  custom_predictor_2  \\\n",
              "fecha                                                                    \n",
              "1993-12-01            0.699605            0.632947            0.601514   \n",
              "1994-01-01            0.963081            0.699605            0.632947   \n",
              "1994-02-01            0.819325            0.963081            0.699605   \n",
              "1994-03-01            0.437670            0.819325            0.963081   \n",
              "\n",
              "            custom_predictor_3  custom_predictor_4  custom_predictor_5  \\\n",
              "fecha                                                                    \n",
              "1993-12-01            0.558443            0.509210            0.470126   \n",
              "1994-01-01            0.601514            0.558443            0.509210   \n",
              "1994-02-01            0.632947            0.601514            0.558443   \n",
              "1994-03-01            0.699605            0.632947            0.601514   \n",
              "\n",
              "            custom_predictor_6  custom_predictor_7  custom_predictor_8  \\\n",
              "fecha                                                                    \n",
              "1993-12-01            0.428859            0.413890            0.427283   \n",
              "1994-01-01            0.470126            0.428859            0.413890   \n",
              "1994-02-01            0.509210            0.470126            0.428859   \n",
              "1994-03-01            0.558443            0.509210            0.470126   \n",
              "\n",
              "            custom_predictor_9  custom_predictor_10  \n",
              "fecha                                                \n",
              "1993-12-01            0.387554             0.523089  \n",
              "1994-01-01            0.427283             0.552253  \n",
              "1994-02-01            0.413890             0.575129  \n",
              "1994-03-01            0.428859             0.576486  "
            ],
            "text/html": [
              "\n",
              "  <div id=\"df-4888e7cc-f5dc-4e7c-8dbc-19840a19a285\" class=\"colab-df-container\">\n",
              "    <div>\n",
              "<style scoped>\n",
              "    .dataframe tbody tr th:only-of-type {\n",
              "        vertical-align: middle;\n",
              "    }\n",
              "\n",
              "    .dataframe tbody tr th {\n",
              "        vertical-align: top;\n",
              "    }\n",
              "\n",
              "    .dataframe thead th {\n",
              "        text-align: right;\n",
              "    }\n",
              "</style>\n",
              "<table border=\"1\" class=\"dataframe\">\n",
              "  <thead>\n",
              "    <tr style=\"text-align: right;\">\n",
              "      <th></th>\n",
              "      <th>custom_predictor_0</th>\n",
              "      <th>custom_predictor_1</th>\n",
              "      <th>custom_predictor_2</th>\n",
              "      <th>custom_predictor_3</th>\n",
              "      <th>custom_predictor_4</th>\n",
              "      <th>custom_predictor_5</th>\n",
              "      <th>custom_predictor_6</th>\n",
              "      <th>custom_predictor_7</th>\n",
              "      <th>custom_predictor_8</th>\n",
              "      <th>custom_predictor_9</th>\n",
              "      <th>custom_predictor_10</th>\n",
              "    </tr>\n",
              "    <tr>\n",
              "      <th>fecha</th>\n",
              "      <th></th>\n",
              "      <th></th>\n",
              "      <th></th>\n",
              "      <th></th>\n",
              "      <th></th>\n",
              "      <th></th>\n",
              "      <th></th>\n",
              "      <th></th>\n",
              "      <th></th>\n",
              "      <th></th>\n",
              "      <th></th>\n",
              "    </tr>\n",
              "  </thead>\n",
              "  <tbody>\n",
              "    <tr>\n",
              "      <th>1993-12-01</th>\n",
              "      <td>0.699605</td>\n",
              "      <td>0.632947</td>\n",
              "      <td>0.601514</td>\n",
              "      <td>0.558443</td>\n",
              "      <td>0.509210</td>\n",
              "      <td>0.470126</td>\n",
              "      <td>0.428859</td>\n",
              "      <td>0.413890</td>\n",
              "      <td>0.427283</td>\n",
              "      <td>0.387554</td>\n",
              "      <td>0.523089</td>\n",
              "    </tr>\n",
              "    <tr>\n",
              "      <th>1994-01-01</th>\n",
              "      <td>0.963081</td>\n",
              "      <td>0.699605</td>\n",
              "      <td>0.632947</td>\n",
              "      <td>0.601514</td>\n",
              "      <td>0.558443</td>\n",
              "      <td>0.509210</td>\n",
              "      <td>0.470126</td>\n",
              "      <td>0.428859</td>\n",
              "      <td>0.413890</td>\n",
              "      <td>0.427283</td>\n",
              "      <td>0.552253</td>\n",
              "    </tr>\n",
              "    <tr>\n",
              "      <th>1994-02-01</th>\n",
              "      <td>0.819325</td>\n",
              "      <td>0.963081</td>\n",
              "      <td>0.699605</td>\n",
              "      <td>0.632947</td>\n",
              "      <td>0.601514</td>\n",
              "      <td>0.558443</td>\n",
              "      <td>0.509210</td>\n",
              "      <td>0.470126</td>\n",
              "      <td>0.428859</td>\n",
              "      <td>0.413890</td>\n",
              "      <td>0.575129</td>\n",
              "    </tr>\n",
              "    <tr>\n",
              "      <th>1994-03-01</th>\n",
              "      <td>0.437670</td>\n",
              "      <td>0.819325</td>\n",
              "      <td>0.963081</td>\n",
              "      <td>0.699605</td>\n",
              "      <td>0.632947</td>\n",
              "      <td>0.601514</td>\n",
              "      <td>0.558443</td>\n",
              "      <td>0.509210</td>\n",
              "      <td>0.470126</td>\n",
              "      <td>0.428859</td>\n",
              "      <td>0.576486</td>\n",
              "    </tr>\n",
              "  </tbody>\n",
              "</table>\n",
              "</div>\n",
              "    <div class=\"colab-df-buttons\">\n",
              "\n",
              "  <div class=\"colab-df-container\">\n",
              "    <button class=\"colab-df-convert\" onclick=\"convertToInteractive('df-4888e7cc-f5dc-4e7c-8dbc-19840a19a285')\"\n",
              "            title=\"Convert this dataframe to an interactive table.\"\n",
              "            style=\"display:none;\">\n",
              "\n",
              "  <svg xmlns=\"http://www.w3.org/2000/svg\" height=\"24px\" viewBox=\"0 -960 960 960\">\n",
              "    <path d=\"M120-120v-720h720v720H120Zm60-500h600v-160H180v160Zm220 220h160v-160H400v160Zm0 220h160v-160H400v160ZM180-400h160v-160H180v160Zm440 0h160v-160H620v160ZM180-180h160v-160H180v160Zm440 0h160v-160H620v160Z\"/>\n",
              "  </svg>\n",
              "    </button>\n",
              "\n",
              "  <style>\n",
              "    .colab-df-container {\n",
              "      display:flex;\n",
              "      gap: 12px;\n",
              "    }\n",
              "\n",
              "    .colab-df-convert {\n",
              "      background-color: #E8F0FE;\n",
              "      border: none;\n",
              "      border-radius: 50%;\n",
              "      cursor: pointer;\n",
              "      display: none;\n",
              "      fill: #1967D2;\n",
              "      height: 32px;\n",
              "      padding: 0 0 0 0;\n",
              "      width: 32px;\n",
              "    }\n",
              "\n",
              "    .colab-df-convert:hover {\n",
              "      background-color: #E2EBFA;\n",
              "      box-shadow: 0px 1px 2px rgba(60, 64, 67, 0.3), 0px 1px 3px 1px rgba(60, 64, 67, 0.15);\n",
              "      fill: #174EA6;\n",
              "    }\n",
              "\n",
              "    .colab-df-buttons div {\n",
              "      margin-bottom: 4px;\n",
              "    }\n",
              "\n",
              "    [theme=dark] .colab-df-convert {\n",
              "      background-color: #3B4455;\n",
              "      fill: #D2E3FC;\n",
              "    }\n",
              "\n",
              "    [theme=dark] .colab-df-convert:hover {\n",
              "      background-color: #434B5C;\n",
              "      box-shadow: 0px 1px 3px 1px rgba(0, 0, 0, 0.15);\n",
              "      filter: drop-shadow(0px 1px 2px rgba(0, 0, 0, 0.3));\n",
              "      fill: #FFFFFF;\n",
              "    }\n",
              "  </style>\n",
              "\n",
              "    <script>\n",
              "      const buttonEl =\n",
              "        document.querySelector('#df-4888e7cc-f5dc-4e7c-8dbc-19840a19a285 button.colab-df-convert');\n",
              "      buttonEl.style.display =\n",
              "        google.colab.kernel.accessAllowed ? 'block' : 'none';\n",
              "\n",
              "      async function convertToInteractive(key) {\n",
              "        const element = document.querySelector('#df-4888e7cc-f5dc-4e7c-8dbc-19840a19a285');\n",
              "        const dataTable =\n",
              "          await google.colab.kernel.invokeFunction('convertToInteractive',\n",
              "                                                    [key], {});\n",
              "        if (!dataTable) return;\n",
              "\n",
              "        const docLinkHtml = 'Like what you see? Visit the ' +\n",
              "          '<a target=\"_blank\" href=https://colab.research.google.com/notebooks/data_table.ipynb>data table notebook</a>'\n",
              "          + ' to learn more about interactive tables.';\n",
              "        element.innerHTML = '';\n",
              "        dataTable['output_type'] = 'display_data';\n",
              "        await google.colab.output.renderOutput(dataTable, element);\n",
              "        const docLink = document.createElement('div');\n",
              "        docLink.innerHTML = docLinkHtml;\n",
              "        element.appendChild(docLink);\n",
              "      }\n",
              "    </script>\n",
              "  </div>\n",
              "\n",
              "\n",
              "<div id=\"df-593d9424-00cf-41d4-b22c-21eb459e232a\">\n",
              "  <button class=\"colab-df-quickchart\" onclick=\"quickchart('df-593d9424-00cf-41d4-b22c-21eb459e232a')\"\n",
              "            title=\"Suggest charts.\"\n",
              "            style=\"display:none;\">\n",
              "\n",
              "<svg xmlns=\"http://www.w3.org/2000/svg\" height=\"24px\"viewBox=\"0 0 24 24\"\n",
              "     width=\"24px\">\n",
              "    <g>\n",
              "        <path d=\"M19 3H5c-1.1 0-2 .9-2 2v14c0 1.1.9 2 2 2h14c1.1 0 2-.9 2-2V5c0-1.1-.9-2-2-2zM9 17H7v-7h2v7zm4 0h-2V7h2v10zm4 0h-2v-4h2v4z\"/>\n",
              "    </g>\n",
              "</svg>\n",
              "  </button>\n",
              "\n",
              "<style>\n",
              "  .colab-df-quickchart {\n",
              "    background-color: #E8F0FE;\n",
              "    border: none;\n",
              "    border-radius: 50%;\n",
              "    cursor: pointer;\n",
              "    display: none;\n",
              "    fill: #1967D2;\n",
              "    height: 32px;\n",
              "    padding: 0 0 0 0;\n",
              "    width: 32px;\n",
              "  }\n",
              "\n",
              "  .colab-df-quickchart:hover {\n",
              "    background-color: #E2EBFA;\n",
              "    box-shadow: 0px 1px 2px rgba(60, 64, 67, 0.3), 0px 1px 3px 1px rgba(60, 64, 67, 0.15);\n",
              "    fill: #174EA6;\n",
              "  }\n",
              "\n",
              "  [theme=dark] .colab-df-quickchart {\n",
              "    background-color: #3B4455;\n",
              "    fill: #D2E3FC;\n",
              "  }\n",
              "\n",
              "  [theme=dark] .colab-df-quickchart:hover {\n",
              "    background-color: #434B5C;\n",
              "    box-shadow: 0px 1px 3px 1px rgba(0, 0, 0, 0.15);\n",
              "    filter: drop-shadow(0px 1px 2px rgba(0, 0, 0, 0.3));\n",
              "    fill: #FFFFFF;\n",
              "  }\n",
              "</style>\n",
              "\n",
              "  <script>\n",
              "    async function quickchart(key) {\n",
              "      const charts = await google.colab.kernel.invokeFunction(\n",
              "          'suggestCharts', [key], {});\n",
              "    }\n",
              "    (() => {\n",
              "      let quickchartButtonEl =\n",
              "        document.querySelector('#df-593d9424-00cf-41d4-b22c-21eb459e232a button');\n",
              "      quickchartButtonEl.style.display =\n",
              "        google.colab.kernel.accessAllowed ? 'block' : 'none';\n",
              "    })();\n",
              "  </script>\n",
              "</div>\n",
              "    </div>\n",
              "  </div>\n"
            ]
          },
          "metadata": {},
          "execution_count": 9
        }
      ]
    },
    {
      "cell_type": "code",
      "source": [
        "y.head(4)"
      ],
      "metadata": {
        "colab": {
          "base_uri": "https://localhost:8080/"
        },
        "id": "Lsyi_XbuKH_s",
        "outputId": "d219d0d3-ef5a-47a2-e16d-3494a858adcf"
      },
      "execution_count": null,
      "outputs": [
        {
          "output_type": "execute_result",
          "data": {
            "text/plain": [
              "fecha\n",
              "1993-12-01    0.963081\n",
              "1994-01-01    0.819325\n",
              "1994-02-01    0.437670\n",
              "1994-03-01    0.506121\n",
              "Freq: MS, Name: y, dtype: float64"
            ]
          },
          "metadata": {},
          "execution_count": 10
        }
      ]
    },
    {
      "cell_type": "markdown",
      "source": [
        "# **b. Predicciones**\n",
        "+ Si el ForecasterAutoreg se entrena con una variable exógena, hay que pasarle el valor de esta variable al predict(). Por lo tanto, solo es aplicable a escenarios en los que se dispone de información a futuro de la variable exógena.."
      ],
      "metadata": {
        "id": "INw0t5-_qrr2"
      }
    },
    {
      "cell_type": "code",
      "source": [
        "# Predicciones\n",
        "# ==============================================================================\n",
        "steps = 36\n",
        "predicciones = forecaster.predict(steps=steps)\n",
        "predicciones"
      ],
      "metadata": {
        "colab": {
          "base_uri": "https://localhost:8080/"
        },
        "id": "MFSEhfojq2E5",
        "outputId": "bcbad53d-e7cf-47ff-91e8-50ce8d60cc2f"
      },
      "execution_count": null,
      "outputs": [
        {
          "output_type": "execute_result",
          "data": {
            "text/plain": [
              "2005-07-01    0.920412\n",
              "2005-08-01    0.954487\n",
              "2005-09-01    1.046268\n",
              "2005-10-01    1.103622\n",
              "2005-11-01    1.076582\n",
              "2005-12-01    1.076910\n",
              "2006-01-01    0.808179\n",
              "2006-02-01    0.699284\n",
              "2006-03-01    0.809004\n",
              "2006-04-01    0.818234\n",
              "2006-05-01    0.854983\n",
              "2006-06-01    0.895287\n",
              "2006-07-01    0.979343\n",
              "2006-08-01    1.055542\n",
              "2006-09-01    1.077396\n",
              "2006-10-01    1.062409\n",
              "2006-11-01    0.967910\n",
              "2006-12-01    0.778190\n",
              "2007-01-01    0.700696\n",
              "2007-02-01    0.815152\n",
              "2007-03-01    0.821681\n",
              "2007-04-01    0.864782\n",
              "2007-05-01    0.905786\n",
              "2007-06-01    0.978943\n",
              "2007-07-01    1.059134\n",
              "2007-08-01    1.091279\n",
              "2007-09-01    0.974572\n",
              "2007-10-01    0.918978\n",
              "2007-11-01    0.768477\n",
              "2007-12-01    0.763983\n",
              "2008-01-01    0.835843\n",
              "2008-02-01    0.869148\n",
              "2008-03-01    0.899905\n",
              "2008-04-01    0.921274\n",
              "2008-05-01    1.005909\n",
              "2008-06-01    1.077963\n",
              "Freq: MS, Name: pred, dtype: float64"
            ]
          },
          "metadata": {},
          "execution_count": 11
        }
      ]
    },
    {
      "cell_type": "markdown",
      "source": [
        "# **c. Gráfico**"
      ],
      "metadata": {
        "id": "gfjD9lFSrcMv"
      }
    },
    {
      "cell_type": "code",
      "source": [
        "# Gráfico\n",
        "# ==============================================================================\n",
        "fig, ax = plt.subplots(figsize=(7, 2.5))\n",
        "datos_train['y'].plot(ax=ax, label='train')\n",
        "datos_test['y'].plot(ax=ax, label='test')\n",
        "predicciones.plot(ax=ax, label='predicciones')\n",
        "ax.legend();"
      ],
      "metadata": {
        "colab": {
          "base_uri": "https://localhost:8080/",
          "height": 281
        },
        "id": "wGSLeLJirVee",
        "outputId": "3a5abcb1-5002-43e7-feae-2d0c9ac4bddb"
      },
      "execution_count": null,
      "outputs": [
        {
          "output_type": "display_data",
          "data": {
            "text/plain": [
              "<Figure size 700x250 with 1 Axes>"
            ],
            "image/png": "[encoded data removed]"
          },
          "metadata": {}
        }
      ]
    },
    {
      "cell_type": "markdown",
      "source": [
        "# **d. Error de las predicciones en el conjunto de test**\n",
        "\n",
        "+ Se cuantifica el error que comete el modelo en sus predicciones. En este caso, se emplea como métrica el mean squared error (***mse***)"
      ],
      "metadata": {
        "id": "dg0FtS8jvnWA"
      }
    },
    {
      "cell_type": "code",
      "source": [
        "# Error test\n",
        "# ==============================================================================\n",
        "error_mse = mean_squared_error(\n",
        "                y_true = datos_test['y'],\n",
        "                y_pred = predicciones\n",
        "            )\n",
        "\n",
        "print(f\"Error de test (mse): {error_mse}\")"
      ],
      "metadata": {
        "colab": {
          "base_uri": "https://localhost:8080/"
        },
        "id": "IrNKQZ2yrVi1",
        "outputId": "2a74933c-19a4-4598-e148-052fe5cc37af"
      },
      "execution_count": null,
      "outputs": [
        {
          "output_type": "stream",
          "name": "stdout",
          "text": [
            "Error de test (mse): 0.046232546768232\n"
          ]
        }
      ]
    },
    {
      "cell_type": "markdown",
      "source": [
        "# **4. Ajuste de hiperparámetros (tuning)**\n",
        "\n",
        "\n",
        "+ Al utilizar la función grid_search_forecaster con un ForecasterAutoregCustom, no se indica el argumento lags_grid."
      ],
      "metadata": {
        "id": "u4a3ja2ZwT_f"
      }
    },
    {
      "cell_type": "markdown",
      "source": [
        "# **a. Grid search de hiperparámetros**"
      ],
      "metadata": {
        "id": "T9C1ZZQly6or"
      }
    },
    {
      "cell_type": "code",
      "source": [
        "# Grid search de hiperparámetros\n",
        "# ==============================================================================\n",
        "steps = 36\n",
        "forecaster = ForecasterAutoregCustom(\n",
        "                regressor      = RandomForestRegressor(random_state=123),\n",
        "                fun_predictors = custom_predictors,\n",
        "                window_size    = 20\n",
        "             )\n",
        "\n",
        "# Hiperparámetros del regresor\n",
        "param_grid = {'n_estimators': [100, 500],\n",
        "              'max_depth': [3, 5, 10]}\n",
        "\n",
        "resultados_grid = grid_search_forecaster(\n",
        "                        forecaster  = forecaster,\n",
        "                        y           = datos_train['y'],\n",
        "                        param_grid  = param_grid,\n",
        "                        steps       = steps,\n",
        "                        refit       = False,\n",
        "                        metric      = 'mean_squared_error',\n",
        "                        initial_train_size = int(len(datos_train)*0.5),\n",
        "                        fixed_train_size = False,\n",
        "                        return_best = True,\n",
        "                        n_jobs      = 'auto',\n",
        "                        verbose     = False\n",
        "                    )"
      ],
      "metadata": {
        "colab": {
          "base_uri": "https://localhost:8080/",
          "height": 157,
          "referenced_widgets": [
            "e0b0b3ac93084d74bb5b6a9eaf7ceb64",
            "ca74e769db814620b42bc02de12064cd",
            "d11c7b0cd0e547e4b2b9ecc7a4406f58",
            "c17f4dbea49c4132bd2d203c65768778",
            "c8eb0de347ea446c8562639821dc1539",
            "ca4abcf21bb548518a9581fdb2b6deb4",
            "a2efdc9822184b83bfd44f6c97609b48",
            "0101769f2d734ffaa4719fd4b37688b6",
            "d642b5b80e9c447591c8efa93365f2a8",
            "00081f49f3ec442899105a140aba335f",
            "7da8c22317474985b827379f415a2090",
            "e2dd751853574d66a180a83ec96645ff",
            "20424bb8fb8140dbab817f18601bb639",
            "8a467c3546bc4ef7b003e332b66f9486",
            "06d0494a6a524d6f85f76e0c64d63c8f",
            "c4a800de59e44b338988804700ac049c",
            "d1371b9b23214b09a41efdd2ee7ccfbc",
            "c165622ef3a24c069f722eab8c5dbf2d",
            "01c7cf13b4bd4b1997c848cd0eed0d85",
            "a492b0a8878d4bcc8dc8461f9dd2e2ea",
            "4408896a279d48619fe0c89eede378fd",
            "0f768f5608db497e8212d7e18639e940"
          ]
        },
        "id": "mPRGz0LjrVmu",
        "outputId": "bb1c7594-77fc-4ed9-a876-f081be0f4f1c"
      },
      "execution_count": null,
      "outputs": [
        {
          "output_type": "stream",
          "name": "stdout",
          "text": [
            "Number of models compared: 6.\n"
          ]
        },
        {
          "output_type": "display_data",
          "data": {
            "text/plain": [
              "lags grid:   0%|          | 0/1 [00:00<?, ?it/s]"
            ],
            "application/vnd.jupyter.widget-view+json": {
              "version_major": 2,
              "version_minor": 0,
              "model_id": "e0b0b3ac93084d74bb5b6a9eaf7ceb64"
            }
          },
          "metadata": {}
        },
        {
          "output_type": "display_data",
          "data": {
            "text/plain": [
              "params grid:   0%|          | 0/6 [00:00<?, ?it/s]"
            ],
            "application/vnd.jupyter.widget-view+json": {
              "version_major": 2,
              "version_minor": 0,
              "model_id": "e2dd751853574d66a180a83ec96645ff"
            }
          },
          "metadata": {}
        },
        {
          "output_type": "stream",
          "name": "stdout",
          "text": [
            "`Forecaster` refitted using the best-found lags and parameters, and the whole data set: \n",
            "  Lags: custom predictors \n",
            "  Parameters: {'max_depth': 3, 'n_estimators': 100}\n",
            "  Backtesting metric: 0.0696399122820351\n",
            "\n"
          ]
        }
      ]
    },
    {
      "cell_type": "markdown",
      "source": [
        "# **b. Resultados Grid Search**"
      ],
      "metadata": {
        "id": "JlbGMfrHzEp2"
      }
    },
    {
      "cell_type": "code",
      "source": [
        "# **g. Resultados Grid Search**\n",
        "# ==============================================================================\n",
        "resultados_grid"
      ],
      "metadata": {
        "colab": {
          "base_uri": "https://localhost:8080/",
          "height": 237
        },
        "id": "_CjwMF3CrVq2",
        "outputId": "36061f9f-0c94-4251-bf92-169ad095db24"
      },
      "execution_count": null,
      "outputs": [
        {
          "output_type": "execute_result",
          "data": {
            "text/plain": [
              "                lags                                  params  \\\n",
              "0  custom predictors   {'max_depth': 3, 'n_estimators': 100}   \n",
              "1  custom predictors   {'max_depth': 3, 'n_estimators': 500}   \n",
              "5  custom predictors  {'max_depth': 10, 'n_estimators': 500}   \n",
              "2  custom predictors   {'max_depth': 5, 'n_estimators': 100}   \n",
              "3  custom predictors   {'max_depth': 5, 'n_estimators': 500}   \n",
              "4  custom predictors  {'max_depth': 10, 'n_estimators': 100}   \n",
              "\n",
              "   mean_squared_error  max_depth  n_estimators  \n",
              "0            0.069640          3           100  \n",
              "1            0.070582          3           500  \n",
              "5            0.070979         10           500  \n",
              "2            0.070994          5           100  \n",
              "3            0.071184          5           500  \n",
              "4            0.072681         10           100  "
            ],
            "text/html": [
              "\n",
              "  <div id=\"df-46d783b6-4719-4aa1-8a6c-51661e0ccfe0\" class=\"colab-df-container\">\n",
              "    <div>\n",
              "<style scoped>\n",
              "    .dataframe tbody tr th:only-of-type {\n",
              "        vertical-align: middle;\n",
              "    }\n",
              "\n",
              "    .dataframe tbody tr th {\n",
              "        vertical-align: top;\n",
              "    }\n",
              "\n",
              "    .dataframe thead th {\n",
              "        text-align: right;\n",
              "    }\n",
              "</style>\n",
              "<table border=\"1\" class=\"dataframe\">\n",
              "  <thead>\n",
              "    <tr style=\"text-align: right;\">\n",
              "      <th></th>\n",
              "      <th>lags</th>\n",
              "      <th>params</th>\n",
              "      <th>mean_squared_error</th>\n",
              "      <th>max_depth</th>\n",
              "      <th>n_estimators</th>\n",
              "    </tr>\n",
              "  </thead>\n",
              "  <tbody>\n",
              "    <tr>\n",
              "      <th>0</th>\n",
              "      <td>custom predictors</td>\n",
              "      <td>{'max_depth': 3, 'n_estimators': 100}</td>\n",
              "      <td>0.069640</td>\n",
              "      <td>3</td>\n",
              "      <td>100</td>\n",
              "    </tr>\n",
              "    <tr>\n",
              "      <th>1</th>\n",
              "      <td>custom predictors</td>\n",
              "      <td>{'max_depth': 3, 'n_estimators': 500}</td>\n",
              "      <td>0.070582</td>\n",
              "      <td>3</td>\n",
              "      <td>500</td>\n",
              "    </tr>\n",
              "    <tr>\n",
              "      <th>5</th>\n",
              "      <td>custom predictors</td>\n",
              "      <td>{'max_depth': 10, 'n_estimators': 500}</td>\n",
              "      <td>0.070979</td>\n",
              "      <td>10</td>\n",
              "      <td>500</td>\n",
              "    </tr>\n",
              "    <tr>\n",
              "      <th>2</th>\n",
              "      <td>custom predictors</td>\n",
              "      <td>{'max_depth': 5, 'n_estimators': 100}</td>\n",
              "      <td>0.070994</td>\n",
              "      <td>5</td>\n",
              "      <td>100</td>\n",
              "    </tr>\n",
              "    <tr>\n",
              "      <th>3</th>\n",
              "      <td>custom predictors</td>\n",
              "      <td>{'max_depth': 5, 'n_estimators': 500}</td>\n",
              "      <td>0.071184</td>\n",
              "      <td>5</td>\n",
              "      <td>500</td>\n",
              "    </tr>\n",
              "    <tr>\n",
              "      <th>4</th>\n",
              "      <td>custom predictors</td>\n",
              "      <td>{'max_depth': 10, 'n_estimators': 100}</td>\n",
              "      <td>0.072681</td>\n",
              "      <td>10</td>\n",
              "      <td>100</td>\n",
              "    </tr>\n",
              "  </tbody>\n",
              "</table>\n",
              "</div>\n",
              "    <div class=\"colab-df-buttons\">\n",
              "\n",
              "  <div class=\"colab-df-container\">\n",
              "    <button class=\"colab-df-convert\" onclick=\"convertToInteractive('df-46d783b6-4719-4aa1-8a6c-51661e0ccfe0')\"\n",
              "            title=\"Convert this dataframe to an interactive table.\"\n",
              "            style=\"display:none;\">\n",
              "\n",
              "  <svg xmlns=\"http://www.w3.org/2000/svg\" height=\"24px\" viewBox=\"0 -960 960 960\">\n",
              "    <path d=\"M120-120v-720h720v720H120Zm60-500h600v-160H180v160Zm220 220h160v-160H400v160Zm0 220h160v-160H400v160ZM180-400h160v-160H180v160Zm440 0h160v-160H620v160ZM180-180h160v-160H180v160Zm440 0h160v-160H620v160Z\"/>\n",
              "  </svg>\n",
              "    </button>\n",
              "\n",
              "  <style>\n",
              "    .colab-df-container {\n",
              "      display:flex;\n",
              "      gap: 12px;\n",
              "    }\n",
              "\n",
              "    .colab-df-convert {\n",
              "      background-color: #E8F0FE;\n",
              "      border: none;\n",
              "      border-radius: 50%;\n",
              "      cursor: pointer;\n",
              "      display: none;\n",
              "      fill: #1967D2;\n",
              "      height: 32px;\n",
              "      padding: 0 0 0 0;\n",
              "      width: 32px;\n",
              "    }\n",
              "\n",
              "    .colab-df-convert:hover {\n",
              "      background-color: #E2EBFA;\n",
              "      box-shadow: 0px 1px 2px rgba(60, 64, 67, 0.3), 0px 1px 3px 1px rgba(60, 64, 67, 0.15);\n",
              "      fill: #174EA6;\n",
              "    }\n",
              "\n",
              "    .colab-df-buttons div {\n",
              "      margin-bottom: 4px;\n",
              "    }\n",
              "\n",
              "    [theme=dark] .colab-df-convert {\n",
              "      background-color: #3B4455;\n",
              "      fill: #D2E3FC;\n",
              "    }\n",
              "\n",
              "    [theme=dark] .colab-df-convert:hover {\n",
              "      background-color: #434B5C;\n",
              "      box-shadow: 0px 1px 3px 1px rgba(0, 0, 0, 0.15);\n",
              "      filter: drop-shadow(0px 1px 2px rgba(0, 0, 0, 0.3));\n",
              "      fill: #FFFFFF;\n",
              "    }\n",
              "  </style>\n",
              "\n",
              "    <script>\n",
              "      const buttonEl =\n",
              "        document.querySelector('#df-46d783b6-4719-4aa1-8a6c-51661e0ccfe0 button.colab-df-convert');\n",
              "      buttonEl.style.display =\n",
              "        google.colab.kernel.accessAllowed ? 'block' : 'none';\n",
              "\n",
              "      async function convertToInteractive(key) {\n",
              "        const element = document.querySelector('#df-46d783b6-4719-4aa1-8a6c-51661e0ccfe0');\n",
              "        const dataTable =\n",
              "          await google.colab.kernel.invokeFunction('convertToInteractive',\n",
              "                                                    [key], {});\n",
              "        if (!dataTable) return;\n",
              "\n",
              "        const docLinkHtml = 'Like what you see? Visit the ' +\n",
              "          '<a target=\"_blank\" href=https://colab.research.google.com/notebooks/data_table.ipynb>data table notebook</a>'\n",
              "          + ' to learn more about interactive tables.';\n",
              "        element.innerHTML = '';\n",
              "        dataTable['output_type'] = 'display_data';\n",
              "        await google.colab.output.renderOutput(dataTable, element);\n",
              "        const docLink = document.createElement('div');\n",
              "        docLink.innerHTML = docLinkHtml;\n",
              "        element.appendChild(docLink);\n",
              "      }\n",
              "    </script>\n",
              "  </div>\n",
              "\n",
              "\n",
              "<div id=\"df-49776c5a-6c58-4005-8b61-36b55f1f4565\">\n",
              "  <button class=\"colab-df-quickchart\" onclick=\"quickchart('df-49776c5a-6c58-4005-8b61-36b55f1f4565')\"\n",
              "            title=\"Suggest charts.\"\n",
              "            style=\"display:none;\">\n",
              "\n",
              "<svg xmlns=\"http://www.w3.org/2000/svg\" height=\"24px\"viewBox=\"0 0 24 24\"\n",
              "     width=\"24px\">\n",
              "    <g>\n",
              "        <path d=\"M19 3H5c-1.1 0-2 .9-2 2v14c0 1.1.9 2 2 2h14c1.1 0 2-.9 2-2V5c0-1.1-.9-2-2-2zM9 17H7v-7h2v7zm4 0h-2V7h2v10zm4 0h-2v-4h2v4z\"/>\n",
              "    </g>\n",
              "</svg>\n",
              "  </button>\n",
              "\n",
              "<style>\n",
              "  .colab-df-quickchart {\n",
              "    background-color: #E8F0FE;\n",
              "    border: none;\n",
              "    border-radius: 50%;\n",
              "    cursor: pointer;\n",
              "    display: none;\n",
              "    fill: #1967D2;\n",
              "    height: 32px;\n",
              "    padding: 0 0 0 0;\n",
              "    width: 32px;\n",
              "  }\n",
              "\n",
              "  .colab-df-quickchart:hover {\n",
              "    background-color: #E2EBFA;\n",
              "    box-shadow: 0px 1px 2px rgba(60, 64, 67, 0.3), 0px 1px 3px 1px rgba(60, 64, 67, 0.15);\n",
              "    fill: #174EA6;\n",
              "  }\n",
              "\n",
              "  [theme=dark] .colab-df-quickchart {\n",
              "    background-color: #3B4455;\n",
              "    fill: #D2E3FC;\n",
              "  }\n",
              "\n",
              "  [theme=dark] .colab-df-quickchart:hover {\n",
              "    background-color: #434B5C;\n",
              "    box-shadow: 0px 1px 3px 1px rgba(0, 0, 0, 0.15);\n",
              "    filter: drop-shadow(0px 1px 2px rgba(0, 0, 0, 0.3));\n",
              "    fill: #FFFFFF;\n",
              "  }\n",
              "</style>\n",
              "\n",
              "  <script>\n",
              "    async function quickchart(key) {\n",
              "      const charts = await google.colab.kernel.invokeFunction(\n",
              "          'suggestCharts', [key], {});\n",
              "    }\n",
              "    (() => {\n",
              "      let quickchartButtonEl =\n",
              "        document.querySelector('#df-49776c5a-6c58-4005-8b61-36b55f1f4565 button');\n",
              "      quickchartButtonEl.style.display =\n",
              "        google.colab.kernel.accessAllowed ? 'block' : 'none';\n",
              "    })();\n",
              "  </script>\n",
              "</div>\n",
              "    </div>\n",
              "  </div>\n"
            ]
          },
          "metadata": {},
          "execution_count": 15
        }
      ]
    },
    {
      "cell_type": "markdown",
      "source": [
        "# **c. Modelo final**\n",
        "\n",
        "+ Como se ha indicado return_best = True en grid_search_forecaster, tras la búsqueda, el objeto ForecasterAutoreg ha sido modificado y entrenado con la mejor combinación encontrada."
      ],
      "metadata": {
        "id": "zJh5KvX5zmXZ"
      }
    },
    {
      "cell_type": "code",
      "source": [
        "# Predicciones\n",
        "# ==============================================================================\n",
        "predicciones = forecaster.predict(steps=steps)\n",
        "\n",
        "# Gráfico\n",
        "# ==============================================================================\n",
        "fig, ax = plt.subplots(figsize=(7, 2.5))\n",
        "datos_train['y'].plot(ax=ax, label='train')\n",
        "datos_test['y'].plot(ax=ax, label='test')\n",
        "predicciones.plot(ax=ax, label='predicciones')\n",
        "ax.legend();"
      ],
      "metadata": {
        "colab": {
          "base_uri": "https://localhost:8080/",
          "height": 281
        },
        "id": "TZ5BLTU8rVuB",
        "outputId": "59237a9b-2079-4ee4-c8be-a79d35d8d63f"
      },
      "execution_count": null,
      "outputs": [
        {
          "output_type": "display_data",
          "data": {
            "text/plain": [
              "<Figure size 700x250 with 1 Axes>"
            ],
            "image/png": "[encoded data removed]"
          },
          "metadata": {}
        }
      ]
    },
    {
      "cell_type": "markdown",
      "source": [
        "# **d. Error de test**"
      ],
      "metadata": {
        "id": "fb_7NEBh2BXf"
      }
    },
    {
      "cell_type": "code",
      "source": [
        "# Error test\n",
        "# ==============================================================================\n",
        "error_mse = mean_squared_error(y_true = datos_test['y'], y_pred = predicciones)\n",
        "print(f\"Error de test (mse) {error_mse}\")"
      ],
      "metadata": {
        "colab": {
          "base_uri": "https://localhost:8080/"
        },
        "id": "NEgRMd9VrVxW",
        "outputId": "a741520c-5265-41e5-a25b-f7c55d50a889"
      },
      "execution_count": null,
      "outputs": [
        {
          "output_type": "stream",
          "name": "stdout",
          "text": [
            "Error de test (mse) 0.035435886844525276\n"
          ]
        }
      ]
    }
  ]
}