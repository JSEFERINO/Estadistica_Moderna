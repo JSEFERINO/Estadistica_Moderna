{
  "cells": [
    {
      "cell_type": "markdown",
      "metadata": {
        "id": "view-in-github",
        "colab_type": "text"
      },
      "source": [
        "<a href=\"https://colab.research.google.com/github/JSEFERINO/Estadistica_Moderna/blob/main/02_C_Datos_Listas_Diccionarios.ipynb\" target=\"_parent\"><img src=\"https://colab.research.google.com/assets/colab-badge.svg\" alt=\"Open In Colab\"/></a>"
      ]
    },
    {
      "cell_type": "markdown",
      "source": [
        "# **Curso Introductorio de Estadistica Moderna**\n",
        "## **Con Mi Profe: Julio Hurtado Marquez**\n",
        "**EMAIL: juliohur@gmail.com**"
      ],
      "metadata": {
        "id": "IKh2T45AnwtN"
      }
    },
    {
      "cell_type": "code",
      "execution_count": null,
      "metadata": {
        "id": "NUJLmwAkEDNa"
      },
      "outputs": [],
      "source": [
        "import pandas as pd\n",
        "import numpy as np"
      ]
    },
    {
      "cell_type": "code",
      "source": [],
      "metadata": {
        "id": "yvTlAK5vQLiz"
      },
      "execution_count": null,
      "outputs": []
    },
    {
      "cell_type": "markdown",
      "source": [
        "# **Clase No. 2: Diccionarios y Listas**"
      ],
      "metadata": {
        "id": "xPcsXm1UnvF2"
      }
    },
    {
      "cell_type": "markdown",
      "metadata": {
        "id": "zqofJYIngQCB"
      },
      "source": [
        "# **1. Variables - Mensajes**"
      ]
    },
    {
      "cell_type": "markdown",
      "metadata": {
        "id": "LS_YSU-ChZwP"
      },
      "source": [
        "$\\bullet$ **a. Creamos varios mensajes o variables**"
      ]
    },
    {
      "cell_type": "code",
      "execution_count": 2,
      "metadata": {
        "colab": {
          "base_uri": "https://localhost:8080/"
        },
        "id": "dJUi0EX1ew1c",
        "outputId": "b6915cd3-9572-4def-c363-d8e1c3fcb735"
      },
      "outputs": [
        {
          "output_type": "stream",
          "name": "stdout",
          "text": [
            "Dayana esta de pasantía en Corea del Sur\n"
          ]
        }
      ],
      "source": [
        "message_1 = \"Dayana esta de pasantía en Corea del Sur\"\n",
        "print(message_1)"
      ]
    },
    {
      "cell_type": "code",
      "execution_count": 3,
      "metadata": {
        "id": "xbUqmOhhew5a",
        "colab": {
          "base_uri": "https://localhost:8080/"
        },
        "outputId": "b0a5f478-9596-4703-b837-02d72d4ddffc"
      },
      "outputs": [
        {
          "output_type": "stream",
          "name": "stdout",
          "text": [
            "y Aris esta realizando sus estudios doctorales\n"
          ]
        }
      ],
      "source": [
        "message_2 = \"y Aris esta realizando sus estudios doctorales\"\n",
        "print(message_2)"
      ]
    },
    {
      "cell_type": "code",
      "execution_count": 4,
      "metadata": {
        "id": "JshJif9mjmc7",
        "colab": {
          "base_uri": "https://localhost:8080/"
        },
        "outputId": "00fed34f-16b1-4c29-cead-1f69a914268a"
      },
      "outputs": [
        {
          "output_type": "stream",
          "name": "stdout",
          "text": [
            "Mi esposa y yo estamos muy felices\n"
          ]
        }
      ],
      "source": [
        "message_3 = \"Mi esposa y yo estamos muy felices\"\n",
        "print(message_3)"
      ]
    },
    {
      "cell_type": "markdown",
      "metadata": {
        "id": "TDhRDTf2hkpw"
      },
      "source": [
        "$\\bullet$ **b. Concatenando varios mensajes o variables: simbolo +**"
      ]
    },
    {
      "cell_type": "code",
      "execution_count": 5,
      "metadata": {
        "id": "fDZL5025ew94",
        "colab": {
          "base_uri": "https://localhost:8080/",
          "height": 36
        },
        "outputId": "4fe29c2c-800f-4cc5-96d3-4dbbdcf7ba7e"
      },
      "outputs": [
        {
          "output_type": "execute_result",
          "data": {
            "text/plain": [
              "'Dayana esta de pasantía en Corea del Sury Aris esta realizando sus estudios doctoralesMi esposa y yo estamos muy felices'"
            ],
            "application/vnd.google.colaboratory.intrinsic+json": {
              "type": "string"
            }
          },
          "metadata": {},
          "execution_count": 5
        }
      ],
      "source": [
        "message_1+message_2+message_3 # Los mensajes no se encuentran separados"
      ]
    },
    {
      "cell_type": "code",
      "source": [
        "print(message_1+message_2+message_3)"
      ],
      "metadata": {
        "colab": {
          "base_uri": "https://localhost:8080/"
        },
        "id": "f_5OGsW3Rf9T",
        "outputId": "91eee323-dae9-49f3-e621-f9311aa1335c"
      },
      "execution_count": 6,
      "outputs": [
        {
          "output_type": "stream",
          "name": "stdout",
          "text": [
            "Dayana esta de pasantía en Corea del Sury Aris esta realizando sus estudios doctoralesMi esposa y yo estamos muy felices\n"
          ]
        }
      ]
    },
    {
      "cell_type": "markdown",
      "metadata": {
        "id": "l4Db1jrKh9xK"
      },
      "source": [
        "#**c. Creando el espacio**"
      ]
    },
    {
      "cell_type": "code",
      "execution_count": 7,
      "metadata": {
        "id": "DIGYOt2QexBu",
        "colab": {
          "base_uri": "https://localhost:8080/",
          "height": 36
        },
        "outputId": "cd1f5962-c07a-44d4-fe0c-77be68bc59cc"
      },
      "outputs": [
        {
          "output_type": "execute_result",
          "data": {
            "text/plain": [
              "'Dayana esta de pasantía en Corea del Sur y Aris esta realizando sus estudios doctorales Mi esposa y yo estamos muy felices'"
            ],
            "application/vnd.google.colaboratory.intrinsic+json": {
              "type": "string"
            }
          },
          "metadata": {},
          "execution_count": 7
        }
      ],
      "source": [
        "message_1+\" \" +message_2 +\" \"+message_3 # Los mensajes fueron separados"
      ]
    },
    {
      "cell_type": "code",
      "source": [
        "print(message_1 + \" \" + message_2 + \" \" + message_3)"
      ],
      "metadata": {
        "colab": {
          "base_uri": "https://localhost:8080/"
        },
        "id": "4hpGSJBrRpQY",
        "outputId": "8f4b27d5-5286-4614-d971-e1d90f29f46e"
      },
      "execution_count": 8,
      "outputs": [
        {
          "output_type": "stream",
          "name": "stdout",
          "text": [
            "Dayana esta de pasantía en Corea del Sur y Aris esta realizando sus estudios doctorales Mi esposa y yo estamos muy felices\n"
          ]
        }
      ]
    },
    {
      "cell_type": "markdown",
      "metadata": {
        "id": "LxAsNtZKi1ef"
      },
      "source": [
        "# **d. Concatenando texto con la cadena f\"{}\"**"
      ]
    },
    {
      "cell_type": "code",
      "execution_count": 9,
      "metadata": {
        "id": "jWpOrloxexFX",
        "colab": {
          "base_uri": "https://localhost:8080/",
          "height": 36
        },
        "outputId": "b93c3294-c9c0-4658-cadf-6ab0fd408600"
      },
      "outputs": [
        {
          "output_type": "execute_result",
          "data": {
            "text/plain": [
              "'Dayana esta de pasantía en Corea del Sur y Aris esta realizando sus estudios doctorales'"
            ],
            "application/vnd.google.colaboratory.intrinsic+json": {
              "type": "string"
            }
          },
          "metadata": {},
          "execution_count": 9
        }
      ],
      "source": [
        "f\"{message_1} {message_2}\" # se deja un espacio entre las comillas"
      ]
    },
    {
      "cell_type": "code",
      "execution_count": 10,
      "metadata": {
        "id": "LVTaTgCaexIa",
        "colab": {
          "base_uri": "https://localhost:8080/",
          "height": 36
        },
        "outputId": "cae3b734-cc4e-4d03-825b-872a4b1a3778"
      },
      "outputs": [
        {
          "output_type": "execute_result",
          "data": {
            "text/plain": [
              "'Dayana esta de pasantía en Corea del Sur y Aris esta realizando sus estudios doctorales. Mi esposa y yo estamos muy felices'"
            ],
            "application/vnd.google.colaboratory.intrinsic+json": {
              "type": "string"
            }
          },
          "metadata": {},
          "execution_count": 10
        }
      ],
      "source": [
        "f\"{message_1} {message_2}. {message_3}\" #Colocamos un punto al final del mensaje 2"
      ]
    },
    {
      "cell_type": "markdown",
      "metadata": {
        "id": "aB1JikFpkLMW"
      },
      "source": [
        "#**2. Listas**\n",
        "- Las listas nos permiten almacenar cualquier tipo de valor como numeros enteros, numeros con decimal, valores booleanos y cadenas de texto\n",
        "- Los corchetes unicamente funcionan para crear listas\n",
        "- Su estructura es la siguiente\n",
        "- Lista = [4, 5, 7, \"Hola\", \"Julio\", 3.85]\n",
        "\n",
        "- **Un vistazo a los diferentes métodos**.\n",
        "Puedes utilizar los siguientes métodos en tu lista de Python. Probablemente ya conozcas algunos de ellos si leíste el tutorial para aprender Python.\n",
        "\n",
        "|Método\t|Descripción|\n",
        "|:--:|:--:|\n",
        "|Append|\tAñade un elemento al final de la lista.|\n",
        "|Clear|\tElimina todos los elementos de la lista de Python.|\n",
        "|Copy\t|Realiza una copia de tu lista.|\n",
        "|Count\t|Cuenta todos los elementos con un determinado valor en la lista de Python.|\n",
        "|Extend\t|Añade todos los elementos de otra lista a la lista actual.|\n",
        "|Index\t|Busca un elemento específico dentro de la lista de Python y retorna su número de índice.|\n",
        "|Insert|\tInserta un elemento en una posición determinada.|\n",
        "|Pop\t|Elimina un elemento de una posición concreta y lo utiliza como valor de retorno.|\n",
        "|Remove\t|Elimina el primer elemento que tiene un valor específico.|\n",
        "|Reverse|\tInvierte el orden de la lista de Python.|\n",
        "|Sort|\tOrdena la lista.|"
      ]
    },
    {
      "cell_type": "markdown",
      "metadata": {
        "id": "7TXlLGvUlZJW"
      },
      "source": [
        "#**a. Creando listas**\n",
        "## **Una lista con las ciudades capitales de Colombia**"
      ]
    },
    {
      "cell_type": "code",
      "execution_count": 12,
      "metadata": {
        "colab": {
          "base_uri": "https://localhost:8080/"
        },
        "id": "lZSOFpZxexMr",
        "outputId": "3acba155-1835-4618-c5a4-eb9aaf2775a5"
      },
      "outputs": [
        {
          "output_type": "stream",
          "name": "stdout",
          "text": [
            "['Cartagena', 'Barranquilla', 'Santa Marta', 'Montería', 'Sincelejo', 'Valledupar', 'Riohacha']\n"
          ]
        }
      ],
      "source": [
        "ciudad = [\"Cartagena\", \"Barranquilla\", \"Santa Marta\", \"Montería\", \"Sincelejo\", \"Valledupar\", \"Riohacha\"]\n",
        "print(ciudad)"
      ]
    },
    {
      "cell_type": "code",
      "execution_count": 13,
      "metadata": {
        "colab": {
          "base_uri": "https://localhost:8080/"
        },
        "id": "dnY1FbFVexQn",
        "outputId": "e889f312-2994-4ff0-ff47-962d607525f8"
      },
      "outputs": [
        {
          "output_type": "stream",
          "name": "stdout",
          "text": [
            "['Bolívar', 'Atlántico', 'Magdalena', 'Córdoba', 'Sucre', 'Cesar', 'Guajira']\n"
          ]
        }
      ],
      "source": [
        "dpto = [\"Bolívar\", \"Atlántico\", \"Magdalena\", \"Córdoba\", \"Sucre\", \"Cesar\", \"Guajira\"]\n",
        "print(dpto)"
      ]
    },
    {
      "cell_type": "markdown",
      "source": [
        "# **b. Creando una copia de una lista**"
      ],
      "metadata": {
        "id": "rXq1zoFXqiyl"
      }
    },
    {
      "cell_type": "code",
      "execution_count": 14,
      "metadata": {
        "id": "tQPtqi8pPmyw",
        "colab": {
          "base_uri": "https://localhost:8080/"
        },
        "outputId": "eaa24214-edbc-4b1f-f3f5-027fa865ebbd"
      },
      "outputs": [
        {
          "output_type": "stream",
          "name": "stdout",
          "text": [
            "['Cartagena', 'Barranquilla', 'Santa Marta', 'Montería', 'Sincelejo', 'Valledupar', 'Riohacha']\n"
          ]
        }
      ],
      "source": [
        "ciudad_2 = ciudad.copy()\n",
        "print(ciudad_2)"
      ]
    },
    {
      "cell_type": "code",
      "execution_count": 15,
      "metadata": {
        "id": "iXh4aTs_Pm3i",
        "colab": {
          "base_uri": "https://localhost:8080/"
        },
        "outputId": "658b2689-5e8d-4ddb-f86d-cec6522e11f5"
      },
      "outputs": [
        {
          "output_type": "stream",
          "name": "stdout",
          "text": [
            "['Bolívar', 'Atlántico', 'Magdalena', 'Córdoba', 'Sucre', 'Cesar', 'Guajira']\n"
          ]
        }
      ],
      "source": [
        "dpto_2 = dpto.copy()\n",
        "print(dpto_2)"
      ]
    },
    {
      "cell_type": "markdown",
      "metadata": {
        "id": "0pSFePsbldlI"
      },
      "source": [
        "#**3. Indexación: En python se comienza con el número 0**\n"
      ]
    },
    {
      "cell_type": "markdown",
      "source": [
        "$\\bullet$ **a. Posición_inicial**"
      ],
      "metadata": {
        "id": "o26BUj0ITd-z"
      }
    },
    {
      "cell_type": "code",
      "execution_count": 16,
      "metadata": {
        "colab": {
          "base_uri": "https://localhost:8080/"
        },
        "id": "gHrcMv6Nk3Sw",
        "outputId": "c82aad7b-2aad-4214-bf1a-67060a8861a9"
      },
      "outputs": [
        {
          "output_type": "execute_result",
          "data": {
            "text/plain": [
              "('Cartagena', 'Bolívar')"
            ]
          },
          "metadata": {},
          "execution_count": 16
        }
      ],
      "source": [
        "# Posición inicial\n",
        "ciudad[0], dpto[0]"
      ]
    },
    {
      "cell_type": "markdown",
      "source": [
        "$\\bullet$ **b. Posición_2**"
      ],
      "metadata": {
        "id": "5vJhJKJqhIyo"
      }
    },
    {
      "cell_type": "code",
      "execution_count": 17,
      "metadata": {
        "colab": {
          "base_uri": "https://localhost:8080/"
        },
        "id": "oNQEg41kk3W_",
        "outputId": "7c04dc1a-fc52-492c-c0c5-3ff19ee6d1e2"
      },
      "outputs": [
        {
          "output_type": "execute_result",
          "data": {
            "text/plain": [
              "('Barranquilla', 'Atlántico')"
            ]
          },
          "metadata": {},
          "execution_count": 17
        }
      ],
      "source": [
        "# Posición 2\n",
        "ciudad[1], dpto[1]"
      ]
    },
    {
      "cell_type": "markdown",
      "source": [
        "$\\bullet$ **c. Posición_7**"
      ],
      "metadata": {
        "id": "XRvTvWSXhNeI"
      }
    },
    {
      "cell_type": "code",
      "execution_count": 18,
      "metadata": {
        "colab": {
          "base_uri": "https://localhost:8080/"
        },
        "id": "O8ELZmnTk3a3",
        "outputId": "ac435ea1-736a-4aaf-b173-89776c1e57d8"
      },
      "outputs": [
        {
          "output_type": "execute_result",
          "data": {
            "text/plain": [
              "('Riohacha', 'Guajira')"
            ]
          },
          "metadata": {},
          "execution_count": 18
        }
      ],
      "source": [
        "# Posición 7\n",
        "ciudad[6], dpto[6]"
      ]
    },
    {
      "cell_type": "markdown",
      "source": [
        "$\\bullet$ **d. En orden contrario usamos el negativo**"
      ],
      "metadata": {
        "id": "bXmYG_k1rkNR"
      }
    },
    {
      "cell_type": "code",
      "execution_count": 19,
      "metadata": {
        "colab": {
          "base_uri": "https://localhost:8080/"
        },
        "id": "yXWioDVLk3fk",
        "outputId": "26529d6a-d4db-4bb1-ce18-0ea081f1d354"
      },
      "outputs": [
        {
          "output_type": "execute_result",
          "data": {
            "text/plain": [
              "('Riohacha', 'Guajira')"
            ]
          },
          "metadata": {},
          "execution_count": 19
        }
      ],
      "source": [
        "# Posición Final\n",
        "ciudad[-1], dpto[-1]"
      ]
    },
    {
      "cell_type": "code",
      "execution_count": 20,
      "metadata": {
        "colab": {
          "base_uri": "https://localhost:8080/"
        },
        "id": "8kcRJOp4l_zr",
        "outputId": "1171faf1-4eed-40d8-9255-f2a1dc822045"
      },
      "outputs": [
        {
          "output_type": "execute_result",
          "data": {
            "text/plain": [
              "('Santa Marta', 'Magdalena')"
            ]
          },
          "metadata": {},
          "execution_count": 20
        }
      ],
      "source": [
        "ciudad[-5], dpto[-5]"
      ]
    },
    {
      "cell_type": "markdown",
      "metadata": {
        "id": "0WdjR5fxmH1Y"
      },
      "source": [
        "#**4. Rebanada / Slicing**\n",
        "\n",
        "$\\bullet$ **a. Las dos listas**"
      ]
    },
    {
      "cell_type": "code",
      "source": [
        "print(ciudad)\n",
        "print(dpto)"
      ],
      "metadata": {
        "colab": {
          "base_uri": "https://localhost:8080/"
        },
        "id": "cz-tEYZVh9MW",
        "outputId": "7ebd81d4-f775-4749-9d17-a96819a37ac2"
      },
      "execution_count": 23,
      "outputs": [
        {
          "output_type": "stream",
          "name": "stdout",
          "text": [
            "['Cartagena', 'Barranquilla', 'Santa Marta', 'Montería', 'Sincelejo', 'Valledupar', 'Riohacha']\n",
            "['Bolívar', 'Atlántico', 'Magdalena', 'Córdoba', 'Sucre', 'Cesar', 'Guajira']\n"
          ]
        }
      ]
    },
    {
      "cell_type": "markdown",
      "source": [
        "$\\bullet$ **b. Las tres primeras observaciones de las dos listas**"
      ],
      "metadata": {
        "id": "rwtps0Xnie1K"
      }
    },
    {
      "cell_type": "code",
      "execution_count": 21,
      "metadata": {
        "id": "G4Tchesbl_46",
        "colab": {
          "base_uri": "https://localhost:8080/"
        },
        "outputId": "a85a4116-22fc-49bc-abc2-5243988c1860"
      },
      "outputs": [
        {
          "output_type": "execute_result",
          "data": {
            "text/plain": [
              "(['Cartagena', 'Barranquilla', 'Santa Marta'],\n",
              " ['Bolívar', 'Atlántico', 'Magdalena'])"
            ]
          },
          "metadata": {},
          "execution_count": 21
        }
      ],
      "source": [
        "ciudad[0:3],dpto[0:3]# recuerden que la posición 3 es obviado, la lista termina en uno menos"
      ]
    },
    {
      "cell_type": "markdown",
      "source": [
        "$\\bullet$ **c. Las tres penultimas observaciones de las dos listas**"
      ],
      "metadata": {
        "id": "Son-MR_PjzNf"
      }
    },
    {
      "cell_type": "code",
      "source": [
        "ciudad[-4:-1], dpto[-4:-1]# la posición -1 se omite"
      ],
      "metadata": {
        "colab": {
          "base_uri": "https://localhost:8080/"
        },
        "id": "-B9TOxA5kNNj",
        "outputId": "5d77e631-0b4f-445a-f90e-e5a0688785b9"
      },
      "execution_count": 30,
      "outputs": [
        {
          "output_type": "execute_result",
          "data": {
            "text/plain": [
              "(['Montería', 'Sincelejo', 'Valledupar'], ['Córdoba', 'Sucre', 'Cesar'])"
            ]
          },
          "metadata": {},
          "execution_count": 30
        }
      ]
    },
    {
      "cell_type": "markdown",
      "source": [
        "$\\bullet$ **d. La Posición tres en adelante**"
      ],
      "metadata": {
        "id": "ON07rMzWkcFP"
      }
    },
    {
      "cell_type": "code",
      "execution_count": 31,
      "metadata": {
        "id": "t66nHtOxmADq",
        "colab": {
          "base_uri": "https://localhost:8080/"
        },
        "outputId": "7bc77add-0a15-4043-db64-16cb63dd21f7"
      },
      "outputs": [
        {
          "output_type": "execute_result",
          "data": {
            "text/plain": [
              "(['Montería', 'Sincelejo', 'Valledupar', 'Riohacha'],\n",
              " ['Córdoba', 'Sucre', 'Cesar', 'Guajira'])"
            ]
          },
          "metadata": {},
          "execution_count": 31
        }
      ],
      "source": [
        "ciudad[3:], dpto[3:] # Posición tres en adelante"
      ]
    },
    {
      "cell_type": "markdown",
      "source": [
        "$\\bullet$ **e. Posición acumulada**"
      ],
      "metadata": {
        "id": "miEW7BXxsLhE"
      }
    },
    {
      "cell_type": "code",
      "execution_count": 32,
      "metadata": {
        "id": "LZZ6ZejMmAIT",
        "colab": {
          "base_uri": "https://localhost:8080/"
        },
        "outputId": "f0f3a375-e406-4028-ad35-f83899f52bab"
      },
      "outputs": [
        {
          "output_type": "execute_result",
          "data": {
            "text/plain": [
              "(['Cartagena', 'Barranquilla', 'Santa Marta'],\n",
              " ['Bolívar', 'Atlántico', 'Magdalena'])"
            ]
          },
          "metadata": {},
          "execution_count": 32
        }
      ],
      "source": [
        "ciudad[:3], dpto[:3] #Hasta la posición 2 porque la cuenta empieza desde cero"
      ]
    },
    {
      "cell_type": "markdown",
      "metadata": {
        "id": "r6ieNCAVoHoL"
      },
      "source": [
        "# **5. Operaciones y métodos: append**\n",
        "\n"
      ]
    },
    {
      "cell_type": "markdown",
      "source": [
        "$\\bullet$ **a. Las dos listas**"
      ],
      "metadata": {
        "id": "zHT-FWDOlgfb"
      }
    },
    {
      "cell_type": "code",
      "execution_count": 33,
      "metadata": {
        "id": "lZMEENC-n040",
        "colab": {
          "base_uri": "https://localhost:8080/"
        },
        "outputId": "fdc6da96-506c-43e6-c513-e579b143e73a"
      },
      "outputs": [
        {
          "output_type": "stream",
          "name": "stdout",
          "text": [
            "['Cartagena', 'Barranquilla', 'Santa Marta', 'Montería', 'Sincelejo', 'Valledupar', 'Riohacha']\n"
          ]
        }
      ],
      "source": [
        "ciudad = [\"Cartagena\", \"Barranquilla\", \"Santa Marta\", \"Montería\", \"Sincelejo\", \"Valledupar\", \"Riohacha\"]\n",
        "print(ciudad)"
      ]
    },
    {
      "cell_type": "code",
      "source": [
        "dpto = [\"Bolívar\", \"Atlántico\", \"Magdalena\", \"Córdoba\", \"Sucre\", \"Cesar\", \"Guajira\"]\n",
        "print(dpto)"
      ],
      "metadata": {
        "colab": {
          "base_uri": "https://localhost:8080/"
        },
        "id": "U1n0emJLlWh3",
        "outputId": "ee01fc18-913f-47a0-875b-5550e54045db"
      },
      "execution_count": 34,
      "outputs": [
        {
          "output_type": "stream",
          "name": "stdout",
          "text": [
            "['Bolívar', 'Atlántico', 'Magdalena', 'Córdoba', 'Sucre', 'Cesar', 'Guajira']\n"
          ]
        }
      ]
    },
    {
      "cell_type": "markdown",
      "source": [
        "$\\bullet$ **b. Añadir la ciudad de Bogotá**"
      ],
      "metadata": {
        "id": "xjyV17cvs1Qo"
      }
    },
    {
      "cell_type": "code",
      "execution_count": 35,
      "metadata": {
        "id": "tVi9r-hRn0-W",
        "colab": {
          "base_uri": "https://localhost:8080/"
        },
        "outputId": "32fd9687-2143-412c-ae6b-24b55fe1a24f"
      },
      "outputs": [
        {
          "output_type": "stream",
          "name": "stdout",
          "text": [
            "['Cartagena', 'Barranquilla', 'Santa Marta', 'Montería', 'Sincelejo', 'Valledupar', 'Riohacha', 'Bogotá']\n"
          ]
        }
      ],
      "source": [
        "ciudad.append(\"Bogotá\")\n",
        "print(ciudad)"
      ]
    },
    {
      "cell_type": "code",
      "source": [
        "ciudad[7]"
      ],
      "metadata": {
        "colab": {
          "base_uri": "https://localhost:8080/",
          "height": 36
        },
        "id": "hNqF-JeltNqY",
        "outputId": "17576d25-c80d-45f8-b16d-7547e460f39b"
      },
      "execution_count": 36,
      "outputs": [
        {
          "output_type": "execute_result",
          "data": {
            "text/plain": [
              "'Bogotá'"
            ],
            "application/vnd.google.colaboratory.intrinsic+json": {
              "type": "string"
            }
          },
          "metadata": {},
          "execution_count": 36
        }
      ]
    },
    {
      "cell_type": "markdown",
      "source": [
        "$\\bullet$ **c. Añadir el Dpto. de Cundinamarca**"
      ],
      "metadata": {
        "id": "KlxF-2sWtEgZ"
      }
    },
    {
      "cell_type": "code",
      "execution_count": 37,
      "metadata": {
        "id": "D5Ve5Ni-n1Cl",
        "colab": {
          "base_uri": "https://localhost:8080/"
        },
        "outputId": "677a6a04-7410-40bd-806a-bcfd06fb9d53"
      },
      "outputs": [
        {
          "output_type": "stream",
          "name": "stdout",
          "text": [
            "['Bolívar', 'Atlántico', 'Magdalena', 'Córdoba', 'Sucre', 'Cesar', 'Guajira', 'Cundinamarca']\n"
          ]
        }
      ],
      "source": [
        "dpto.append(\"Cundinamarca\")\n",
        "print(dpto)"
      ]
    },
    {
      "cell_type": "code",
      "execution_count": 38,
      "metadata": {
        "id": "75_wOidMn1G2",
        "colab": {
          "base_uri": "https://localhost:8080/",
          "height": 36
        },
        "outputId": "e582eb15-bc0f-4142-8e2f-c4a6658bada3"
      },
      "outputs": [
        {
          "output_type": "execute_result",
          "data": {
            "text/plain": [
              "'Cundinamarca'"
            ],
            "application/vnd.google.colaboratory.intrinsic+json": {
              "type": "string"
            }
          },
          "metadata": {},
          "execution_count": 38
        }
      ],
      "source": [
        "dpto[7]"
      ]
    },
    {
      "cell_type": "markdown",
      "metadata": {
        "id": "GsHWfeHyqVVx"
      },
      "source": [
        "# **6. Operaciones y métodos: insert**\n",
        "\n",
        "* **Insert**:\tInserta un elemento en una posición determinada."
      ]
    },
    {
      "cell_type": "markdown",
      "source": [
        "$\\bullet$ **a. Insertar Medellin en la posición inicial de _ciudad_**"
      ],
      "metadata": {
        "id": "QWDdElCktkLM"
      }
    },
    {
      "cell_type": "code",
      "execution_count": 39,
      "metadata": {
        "id": "C4Rme4Czn1Ll",
        "colab": {
          "base_uri": "https://localhost:8080/"
        },
        "outputId": "74b6cb18-d4af-4020-f145-9e181653ea59"
      },
      "outputs": [
        {
          "output_type": "stream",
          "name": "stdout",
          "text": [
            "['Medellin', 'Cartagena', 'Barranquilla', 'Santa Marta', 'Montería', 'Sincelejo', 'Valledupar', 'Riohacha', 'Bogotá']\n"
          ]
        }
      ],
      "source": [
        "ciudad.insert(0, \"Medellin\")\n",
        "print(ciudad)"
      ]
    },
    {
      "cell_type": "markdown",
      "source": [
        "$\\bullet$ **b. Insertar Antioquia en la posición inicial de _Dpto_**"
      ],
      "metadata": {
        "id": "Ye1-LbCEttoC"
      }
    },
    {
      "cell_type": "code",
      "execution_count": 40,
      "metadata": {
        "id": "hYsfmgIsn1eO",
        "colab": {
          "base_uri": "https://localhost:8080/"
        },
        "outputId": "3ae3c3c9-cbd2-442a-b8e2-8738b361d3ef"
      },
      "outputs": [
        {
          "output_type": "stream",
          "name": "stdout",
          "text": [
            "['Antioquia', 'Bolívar', 'Atlántico', 'Magdalena', 'Córdoba', 'Sucre', 'Cesar', 'Guajira', 'Cundinamarca']\n"
          ]
        }
      ],
      "source": [
        "dpto.insert(0,\"Antioquia\")\n",
        "print(dpto)"
      ]
    },
    {
      "cell_type": "markdown",
      "source": [
        "# **7. Vamos a concatenar ciudad con Dpto**\n",
        "\n",
        "$\\bullet$ **a. Usando la cadena _f_**"
      ],
      "metadata": {
        "id": "Da7B59F5t-47"
      }
    },
    {
      "cell_type": "code",
      "execution_count": 41,
      "metadata": {
        "id": "9LW6B5iun1j-",
        "colab": {
          "base_uri": "https://localhost:8080/",
          "height": 54
        },
        "outputId": "56629fb4-b3e3-42b2-e2e9-e9ac144eba70"
      },
      "outputs": [
        {
          "output_type": "execute_result",
          "data": {
            "text/plain": [
              "\"['Medellin', 'Cartagena', 'Barranquilla', 'Santa Marta', 'Montería', 'Sincelejo', 'Valledupar', 'Riohacha', 'Bogotá'] ['Antioquia', 'Bolívar', 'Atlántico', 'Magdalena', 'Córdoba', 'Sucre', 'Cesar', 'Guajira', 'Cundinamarca']\""
            ],
            "application/vnd.google.colaboratory.intrinsic+json": {
              "type": "string"
            }
          },
          "metadata": {},
          "execution_count": 41
        }
      ],
      "source": [
        "f\"{ciudad} {dpto}\""
      ]
    },
    {
      "cell_type": "code",
      "execution_count": 42,
      "metadata": {
        "id": "z1483Dcyn1ov",
        "colab": {
          "base_uri": "https://localhost:8080/"
        },
        "outputId": "73f895fe-94c6-4798-c726-95445cdb6479"
      },
      "outputs": [
        {
          "output_type": "stream",
          "name": "stdout",
          "text": [
            "['Medellin', 'Cartagena', 'Barranquilla', 'Santa Marta', 'Montería', 'Sincelejo', 'Valledupar', 'Riohacha', 'Bogotá'] ['Antioquia', 'Bolívar', 'Atlántico', 'Magdalena', 'Córdoba', 'Sucre', 'Cesar', 'Guajira', 'Cundinamarca']\n"
          ]
        }
      ],
      "source": [
        "print(f\"{ciudad} {dpto}\")"
      ]
    },
    {
      "cell_type": "markdown",
      "source": [
        "$\\bullet$ **b. sumamos ambas listas**"
      ],
      "metadata": {
        "id": "OP2dtVAIuew7"
      }
    },
    {
      "cell_type": "code",
      "execution_count": 44,
      "metadata": {
        "id": "oMhSk2Qhn1tj",
        "colab": {
          "base_uri": "https://localhost:8080/"
        },
        "outputId": "51b56962-5186-4793-8f0f-29858095339d"
      },
      "outputs": [
        {
          "output_type": "stream",
          "name": "stdout",
          "text": [
            "['Medellin', 'Cartagena', 'Barranquilla', 'Santa Marta', 'Montería', 'Sincelejo', 'Valledupar', 'Riohacha', 'Bogotá', 'Antioquia', 'Bolívar', 'Atlántico', 'Magdalena', 'Córdoba', 'Sucre', 'Cesar', 'Guajira', 'Cundinamarca']\n"
          ]
        }
      ],
      "source": [
        "ciudad + dpto # Concatenar dos listas\n",
        "print(ciudad + dpto)"
      ]
    },
    {
      "cell_type": "markdown",
      "metadata": {
        "id": "10C5sOhpsdrJ"
      },
      "source": [
        "#**8. Listas anidadas**"
      ]
    },
    {
      "cell_type": "code",
      "execution_count": 46,
      "metadata": {
        "id": "GJatNsE1n19e",
        "colab": {
          "base_uri": "https://localhost:8080/"
        },
        "outputId": "5710a7f2-361f-421d-8669-981728b806a9"
      },
      "outputs": [
        {
          "output_type": "stream",
          "name": "stdout",
          "text": [
            "[['Medellin', 'Cartagena', 'Barranquilla', 'Santa Marta', 'Montería', 'Sincelejo', 'Valledupar', 'Riohacha', 'Bogotá'], ['Antioquia', 'Bolívar', 'Atlántico', 'Magdalena', 'Córdoba', 'Sucre', 'Cesar', 'Guajira', 'Cundinamarca']]\n"
          ]
        }
      ],
      "source": [
        "region = [ciudad, dpto]\n",
        "print(region)"
      ]
    },
    {
      "cell_type": "markdown",
      "metadata": {
        "id": "W9itIh7ho4jR"
      },
      "source": [
        "#**9. Eliminar elementos de una lista usando remove(), pop(), del**"
      ]
    },
    {
      "cell_type": "markdown",
      "source": [
        "$\\bullet$ **a. copia de una lista**"
      ],
      "metadata": {
        "id": "bBEKI0dJnl4_"
      }
    },
    {
      "cell_type": "code",
      "source": [
        "# Conservemos nuestras ciudades originales\n",
        "ciudad3 =ciudad.copy()\n",
        "ciudad3"
      ],
      "metadata": {
        "colab": {
          "base_uri": "https://localhost:8080/"
        },
        "id": "S13ptVtQw4Ug",
        "outputId": "110cdaa6-a3f6-4e99-90c8-f633f853c454"
      },
      "execution_count": 47,
      "outputs": [
        {
          "output_type": "execute_result",
          "data": {
            "text/plain": [
              "['Medellin',\n",
              " 'Cartagena',\n",
              " 'Barranquilla',\n",
              " 'Santa Marta',\n",
              " 'Montería',\n",
              " 'Sincelejo',\n",
              " 'Valledupar',\n",
              " 'Riohacha',\n",
              " 'Bogotá']"
            ]
          },
          "metadata": {},
          "execution_count": 47
        }
      ]
    },
    {
      "cell_type": "markdown",
      "source": [
        "$\\bullet$ **b. Usando -remove_**\n",
        "- _Remove_:  \tElimina el primer elemento que tiene un valor específico."
      ],
      "metadata": {
        "id": "IIFzU3N2yE1i"
      }
    },
    {
      "cell_type": "code",
      "execution_count": 48,
      "metadata": {
        "id": "Z3xTn2HKn2C9",
        "colab": {
          "base_uri": "https://localhost:8080/"
        },
        "outputId": "f501e6db-1506-4e39-ef4e-42958031c942"
      },
      "outputs": [
        {
          "output_type": "execute_result",
          "data": {
            "text/plain": [
              "['Medellin',\n",
              " 'Cartagena',\n",
              " 'Barranquilla',\n",
              " 'Santa Marta',\n",
              " 'Montería',\n",
              " 'Sincelejo',\n",
              " 'Valledupar',\n",
              " 'Riohacha']"
            ]
          },
          "metadata": {},
          "execution_count": 48
        }
      ],
      "source": [
        "# Vamos a eliminar Bogota\n",
        "ciudad.remove(\"Bogotá\") # Usando remove()\n",
        "ciudad"
      ]
    },
    {
      "cell_type": "markdown",
      "source": [
        "$\\bullet$ **c. Usando _append_ para agregar**"
      ],
      "metadata": {
        "id": "A2RIHLEioedF"
      }
    },
    {
      "cell_type": "code",
      "source": [
        "dpto.append('Chocó')\n",
        "dpto"
      ],
      "metadata": {
        "colab": {
          "base_uri": "https://localhost:8080/"
        },
        "id": "qi7VaUWCogNH",
        "outputId": "0d03a2c1-995f-4a75-e328-c4ee398fa735"
      },
      "execution_count": 49,
      "outputs": [
        {
          "output_type": "execute_result",
          "data": {
            "text/plain": [
              "['Antioquia',\n",
              " 'Bolívar',\n",
              " 'Atlántico',\n",
              " 'Magdalena',\n",
              " 'Córdoba',\n",
              " 'Sucre',\n",
              " 'Cesar',\n",
              " 'Guajira',\n",
              " 'Cundinamarca',\n",
              " 'Chocó']"
            ]
          },
          "metadata": {},
          "execution_count": 49
        }
      ]
    },
    {
      "cell_type": "markdown",
      "source": [
        "$\\bullet$ **d. _Pop_\tElimina un elemento de una posición concreta y lo utiliza como valor de retorno.**"
      ],
      "metadata": {
        "id": "BeeRLvF_ydCa"
      }
    },
    {
      "cell_type": "code",
      "source": [
        "# Removamos Cundinamarca\n",
        "dpto.pop(9) # Usando pop()\n",
        "dpto"
      ],
      "metadata": {
        "colab": {
          "base_uri": "https://localhost:8080/"
        },
        "id": "HreAzk4_o9Ak",
        "outputId": "59b76eb0-77dc-490d-9df4-c704595a5d11"
      },
      "execution_count": 50,
      "outputs": [
        {
          "output_type": "execute_result",
          "data": {
            "text/plain": [
              "['Antioquia',\n",
              " 'Bolívar',\n",
              " 'Atlántico',\n",
              " 'Magdalena',\n",
              " 'Córdoba',\n",
              " 'Sucre',\n",
              " 'Cesar',\n",
              " 'Guajira',\n",
              " 'Cundinamarca']"
            ]
          },
          "metadata": {},
          "execution_count": 50
        }
      ]
    },
    {
      "cell_type": "markdown",
      "source": [
        "$\\bullet$ **e. _del_ tambien es util para eliminar una posión de la lista**"
      ],
      "metadata": {
        "id": "t02M_JF_y7pR"
      }
    },
    {
      "cell_type": "code",
      "execution_count": 51,
      "metadata": {
        "id": "hG3N_fwjp1Oe",
        "colab": {
          "base_uri": "https://localhost:8080/"
        },
        "outputId": "9974f842-4f4a-4ead-98a9-fa317ce80426"
      },
      "outputs": [
        {
          "output_type": "execute_result",
          "data": {
            "text/plain": [
              "['Antioquia',\n",
              " 'Bolívar',\n",
              " 'Atlántico',\n",
              " 'Magdalena',\n",
              " 'Córdoba',\n",
              " 'Sucre',\n",
              " 'Cesar',\n",
              " 'Guajira']"
            ]
          },
          "metadata": {},
          "execution_count": 51
        }
      ],
      "source": [
        "del dpto[8]\n",
        "dpto"
      ]
    },
    {
      "cell_type": "code",
      "execution_count": 52,
      "metadata": {
        "id": "yYE-iqCJp1Ve",
        "colab": {
          "base_uri": "https://localhost:8080/"
        },
        "outputId": "102afa51-04d0-43c2-d165-d659d6b7e518"
      },
      "outputs": [
        {
          "output_type": "execute_result",
          "data": {
            "text/plain": [
              "['Bolívar', 'Atlántico', 'Magdalena', 'Córdoba', 'Sucre', 'Cesar', 'Guajira']"
            ]
          },
          "metadata": {},
          "execution_count": 52
        }
      ],
      "source": [
        "del dpto[0]\n",
        "dpto"
      ]
    },
    {
      "cell_type": "markdown",
      "metadata": {
        "id": "PM6u7ehXPrmM"
      },
      "source": [
        "#**10. Ordenar una lista: sort() y reverse()**\n",
        "\n",
        "- **Reverse**\n",
        "- - Invierte el orden de la lista de Python.\n",
        "- **Sort**\n",
        "- - Ordena la lista."
      ]
    },
    {
      "cell_type": "markdown",
      "source": [
        "$\\bullet$ **a. Creamos una lista de números**"
      ],
      "metadata": {
        "id": "n7XYqRRVpvl8"
      }
    },
    {
      "cell_type": "code",
      "execution_count": 53,
      "metadata": {
        "id": "2KbjgThSPmM9",
        "colab": {
          "base_uri": "https://localhost:8080/"
        },
        "outputId": "5dae8bcc-c5ad-43a0-c6ed-9c29ebbc569c"
      },
      "outputs": [
        {
          "output_type": "execute_result",
          "data": {
            "text/plain": [
              "[1, 4, 7, 2, 9, 6, 3, 6, 7]"
            ]
          },
          "metadata": {},
          "execution_count": 53
        }
      ],
      "source": [
        "# Creamos una lista d numeros\n",
        "numeros = [1, 4, 7, 2,9,6, 3,6,7]\n",
        "numeros"
      ]
    },
    {
      "cell_type": "markdown",
      "source": [
        "$\\bullet$ **b. ordenamos la lista de menor a mayor**"
      ],
      "metadata": {
        "id": "b1s2H1gUp8ux"
      }
    },
    {
      "cell_type": "code",
      "execution_count": 54,
      "metadata": {
        "id": "qJg4VqSePmZ9",
        "colab": {
          "base_uri": "https://localhost:8080/"
        },
        "outputId": "63279441-9599-4fcc-b581-3eb0525d2801"
      },
      "outputs": [
        {
          "output_type": "execute_result",
          "data": {
            "text/plain": [
              "[1, 2, 3, 4, 6, 6, 7, 7, 9]"
            ]
          },
          "metadata": {},
          "execution_count": 54
        }
      ],
      "source": [
        "# ordenamos la lista\n",
        "numeros.sort()\n",
        "numeros"
      ]
    },
    {
      "cell_type": "markdown",
      "source": [
        "$\\bullet$ **c. Revertimos el orden**"
      ],
      "metadata": {
        "id": "UV3S--25qLoW"
      }
    },
    {
      "cell_type": "code",
      "execution_count": 55,
      "metadata": {
        "id": "A6AItIbsPmfK",
        "colab": {
          "base_uri": "https://localhost:8080/"
        },
        "outputId": "07522090-30e5-461d-eba6-09003c4a9c61"
      },
      "outputs": [
        {
          "output_type": "execute_result",
          "data": {
            "text/plain": [
              "[9, 7, 7, 6, 6, 4, 3, 2, 1]"
            ]
          },
          "metadata": {},
          "execution_count": 55
        }
      ],
      "source": [
        "# Revertimos el orden\n",
        "numeros.sort(reverse = True)\n",
        "numeros"
      ]
    },
    {
      "cell_type": "markdown",
      "source": [
        "$\\bullet$ **d. creamos otra lista y usamos reverse**"
      ],
      "metadata": {
        "id": "67fY-YA_rXrw"
      }
    },
    {
      "cell_type": "code",
      "source": [
        "#creamos otra lista\n",
        "numeros2 = [1, 4, 7, 2, 9, 6, 3, 6, 7, 3, 4, 5, 8, 9, 4, 6, 2]\n",
        "numeros2.reverse() #Revertimos el orden\n",
        "numeros2"
      ],
      "metadata": {
        "colab": {
          "base_uri": "https://localhost:8080/"
        },
        "id": "XuYwSANU0GQH",
        "outputId": "cd98ba51-8d6e-44a9-a103-350393c5ba69"
      },
      "execution_count": 56,
      "outputs": [
        {
          "output_type": "execute_result",
          "data": {
            "text/plain": [
              "[2, 6, 4, 9, 8, 5, 4, 3, 7, 6, 3, 6, 9, 2, 7, 4, 1]"
            ]
          },
          "metadata": {},
          "execution_count": 56
        }
      ]
    },
    {
      "cell_type": "markdown",
      "source": [
        "$\\bullet$ **e. Ordenamos la lista**"
      ],
      "metadata": {
        "id": "VDy6GNV_sqUq"
      }
    },
    {
      "cell_type": "code",
      "source": [
        "# Ordemamos la lista\n",
        "numeros2.sort()\n",
        "numeros2"
      ],
      "metadata": {
        "colab": {
          "base_uri": "https://localhost:8080/"
        },
        "id": "KiHJrYhb0ppV",
        "outputId": "c425f97e-07d4-487a-855e-679ff343c72c"
      },
      "execution_count": 57,
      "outputs": [
        {
          "output_type": "execute_result",
          "data": {
            "text/plain": [
              "[1, 2, 2, 3, 3, 4, 4, 4, 5, 6, 6, 6, 7, 7, 8, 9, 9]"
            ]
          },
          "metadata": {},
          "execution_count": 57
        }
      ]
    },
    {
      "cell_type": "markdown",
      "source": [
        "$\\bullet$ **f. Remplazamos la posición 3 por 5**"
      ],
      "metadata": {
        "id": "92CbED5Esy_0"
      }
    },
    {
      "cell_type": "code",
      "execution_count": 58,
      "metadata": {
        "id": "QV_YDBgRPmj8",
        "colab": {
          "base_uri": "https://localhost:8080/"
        },
        "outputId": "c9708426-4741-4a99-91c3-546621b04e40"
      },
      "outputs": [
        {
          "output_type": "execute_result",
          "data": {
            "text/plain": [
              "[1, 2, 2, 5, 3, 4, 4, 4, 5, 6, 6, 6, 7, 7, 8, 9, 9]"
            ]
          },
          "metadata": {},
          "execution_count": 58
        }
      ],
      "source": [
        "# Remplazamos la posición 3 por 5\n",
        "numeros2[3] = 5\n",
        "numeros2\n"
      ]
    },
    {
      "cell_type": "code",
      "execution_count": 59,
      "metadata": {
        "id": "BvXiO20uPmow",
        "colab": {
          "base_uri": "https://localhost:8080/"
        },
        "outputId": "a5f814da-207b-471e-876a-d23afd6fa99c"
      },
      "outputs": [
        {
          "output_type": "execute_result",
          "data": {
            "text/plain": [
              "[9, 9, 8, 7, 7, 6, 6, 6, 5, 5, 4, 4, 4, 3, 2, 2, 1]"
            ]
          },
          "metadata": {},
          "execution_count": 59
        }
      ],
      "source": [
        "numeros2.sort(reverse = True)\n",
        "numeros2"
      ]
    },
    {
      "cell_type": "code",
      "execution_count": 60,
      "metadata": {
        "id": "ImdTq9jtPmtw",
        "colab": {
          "base_uri": "https://localhost:8080/"
        },
        "outputId": "6bfed193-b924-4cb3-c404-89047cf079b9"
      },
      "outputs": [
        {
          "output_type": "execute_result",
          "data": {
            "text/plain": [
              "[9, 18, 8, 7, 7, 6, 6, 6, 5, 5, 4, 4, 4, 3, 2, 2, 1]"
            ]
          },
          "metadata": {},
          "execution_count": 60
        }
      ],
      "source": [
        "numeros2[1] = 18\n",
        "numeros2"
      ]
    },
    {
      "cell_type": "code",
      "source": [
        "numeros2.sort(reverse = True)\n",
        "numeros2"
      ],
      "metadata": {
        "id": "b81Ggult25io",
        "outputId": "b0cb69a6-988f-4220-b122-fa6f3de1048b",
        "colab": {
          "base_uri": "https://localhost:8080/"
        }
      },
      "execution_count": 61,
      "outputs": [
        {
          "output_type": "execute_result",
          "data": {
            "text/plain": [
              "[18, 9, 8, 7, 7, 6, 6, 6, 5, 5, 4, 4, 4, 3, 2, 2, 1]"
            ]
          },
          "metadata": {},
          "execution_count": 61
        }
      ]
    },
    {
      "cell_type": "markdown",
      "metadata": {
        "id": "Qjn8jw1ATxPH"
      },
      "source": [
        "# **11. Diccionarios - Parte I**\n",
        "## **¿Qué es un diccionario en Python?**\n",
        "\n",
        "- Los diccionarios en Python nos permiten almacenar una serie de mapeos entre dos conjuntos de elementos, llamados *keys* y *values* (Claves y Valores).\n",
        "\n",
        "- Todos los elementos en el diccionario se encuentran encerrados en un par de llaves {}.\n",
        "- Cada elemento en un diccionario contiene una clave y un valor - es decir un par de clave-valor.\n",
        "- Cada par de clave-valor es denominado como elemento (item).\n",
        "- La ventaja de esto es que puedes acceder a todos los valores almacenados usando simplemente las claves."
      ]
    },
    {
      "cell_type": "markdown",
      "source": [
        "$\\bullet$ **a. Estructura de un diccionario**"
      ],
      "metadata": {
        "id": "MYiikkNx70Ro"
      }
    },
    {
      "cell_type": "code",
      "execution_count": 63,
      "metadata": {
        "id": "8lKLpOLCZwSH",
        "colab": {
          "base_uri": "https://localhost:8080/"
        },
        "outputId": "83f83d93-8fb8-45ce-89ff-d25ec58d4e51"
      },
      "outputs": [
        {
          "output_type": "execute_result",
          "data": {
            "text/plain": [
              "{'key1': 'value1', 'key2': 'value2'}"
            ]
          },
          "metadata": {},
          "execution_count": 63
        }
      ],
      "source": [
        "## **a. Estructura de un diccionario**\n",
        "mi_diccionario = {\"key1\":\"value1\",\"key2\":\"value2\"}\n",
        "mi_diccionario"
      ]
    },
    {
      "cell_type": "markdown",
      "source": [
        "$\\bullet$ **b. Los Cumpleaños en mi Familia**"
      ],
      "metadata": {
        "id": "_ozdwPwN7-He"
      }
    },
    {
      "cell_type": "code",
      "execution_count": 64,
      "metadata": {
        "id": "wpuYRC0GS1Pd",
        "colab": {
          "base_uri": "https://localhost:8080/"
        },
        "outputId": "da04a3bc-2eaf-465c-e33c-3562d5af871e"
      },
      "outputs": [
        {
          "output_type": "execute_result",
          "data": {
            "text/plain": [
              "{'Papá': '6 de Febrero',\n",
              " 'Mamá': '23 de Septiembre',\n",
              " 'Hija_mayor': '21 de Marzo',\n",
              " 'Hija_menor': '21 de Julio'}"
            ]
          },
          "metadata": {},
          "execution_count": 64
        }
      ],
      "source": [
        "## **b. Los Cumpleaños en mi Familia**\n",
        "cumpleaños = {\"Papá\":\"6 de Febrero\", \"Mamá\":\"23 de Septiembre\", \"Hija_mayor\":\"21 de Marzo\", \"Hija_menor\":\"21 de Julio\"}\n",
        "cumpleaños"
      ]
    },
    {
      "cell_type": "markdown",
      "source": [
        "$\\bullet$ **c. ¿Cuando cumple Papá?**"
      ],
      "metadata": {
        "id": "tVEonKc38YBW"
      }
    },
    {
      "cell_type": "code",
      "execution_count": 67,
      "metadata": {
        "id": "cl-k14J6S1U2",
        "colab": {
          "base_uri": "https://localhost:8080/",
          "height": 36
        },
        "outputId": "b39d54d0-a4de-41cf-f2e6-f1e8e5913522"
      },
      "outputs": [
        {
          "output_type": "execute_result",
          "data": {
            "text/plain": [
              "'6 de Febrero'"
            ],
            "application/vnd.google.colaboratory.intrinsic+json": {
              "type": "string"
            }
          },
          "metadata": {},
          "execution_count": 67
        }
      ],
      "source": [
        "## **c. ¿Cuando cumple Papá?**\n",
        "cumpleaños[\"Papá\"]"
      ]
    },
    {
      "cell_type": "markdown",
      "source": [
        "$\\bullet$ **d. ¿Cuando cumple la hija menor?**\n"
      ],
      "metadata": {
        "id": "jsNFiPCs8a9N"
      }
    },
    {
      "cell_type": "code",
      "execution_count": 66,
      "metadata": {
        "id": "F4YMdOVcalWf",
        "colab": {
          "base_uri": "https://localhost:8080/",
          "height": 36
        },
        "outputId": "8aabbdc7-6633-4f3e-ea0d-4e235f250c45"
      },
      "outputs": [
        {
          "output_type": "execute_result",
          "data": {
            "text/plain": [
              "'21 de Julio'"
            ],
            "application/vnd.google.colaboratory.intrinsic+json": {
              "type": "string"
            }
          },
          "metadata": {},
          "execution_count": 66
        }
      ],
      "source": [
        "## **d. ¿Cuando cumple la hija menor?**\n",
        "cumpleaños[\"Hija_menor\"]"
      ]
    },
    {
      "cell_type": "markdown",
      "source": [
        "$\\bullet$ **e. ¿Los miembros de mi familia?**"
      ],
      "metadata": {
        "id": "N4apG5cE8y4N"
      }
    },
    {
      "cell_type": "code",
      "execution_count": 68,
      "metadata": {
        "id": "rdkjTIyFaljL",
        "colab": {
          "base_uri": "https://localhost:8080/"
        },
        "outputId": "d1d5ec57-944f-4248-b48b-7951633e24e3"
      },
      "outputs": [
        {
          "output_type": "execute_result",
          "data": {
            "text/plain": [
              "dict_keys(['Papá', 'Mamá', 'Hija_mayor', 'Hija_menor'])"
            ]
          },
          "metadata": {},
          "execution_count": 68
        }
      ],
      "source": [
        "## **e. ¿Los miembros de mi familia?**\n",
        "cumpleaños.keys()"
      ]
    },
    {
      "cell_type": "markdown",
      "source": [
        "$\\bullet$ **f. ¿las fechas de cumpleaños?**"
      ],
      "metadata": {
        "id": "utJuz0JVvgw4"
      }
    },
    {
      "cell_type": "code",
      "execution_count": 69,
      "metadata": {
        "id": "FDB8RDQ4alot",
        "colab": {
          "base_uri": "https://localhost:8080/"
        },
        "outputId": "2db3f576-444a-48c0-98db-9ba0510a616c"
      },
      "outputs": [
        {
          "output_type": "execute_result",
          "data": {
            "text/plain": [
              "dict_values(['6 de Febrero', '23 de Septiembre', '21 de Marzo', '21 de Julio'])"
            ]
          },
          "metadata": {},
          "execution_count": 69
        }
      ],
      "source": [
        "## **f. ¿las fechas de cumpleaños?**\n",
        "cumpleaños.values()"
      ]
    },
    {
      "cell_type": "markdown",
      "source": [
        "$\\bullet$ **g. Los items del diccionario**"
      ],
      "metadata": {
        "id": "iszU2ZlM9PGf"
      }
    },
    {
      "cell_type": "code",
      "execution_count": null,
      "metadata": {
        "id": "uam30Uq3als3",
        "colab": {
          "base_uri": "https://localhost:8080/"
        },
        "outputId": "92b06d1f-2861-4e30-8423-ca4812669339"
      },
      "outputs": [
        {
          "output_type": "execute_result",
          "data": {
            "text/plain": [
              "dict_items([('Papá', '6 de Febrero'), ('Mamá', '23 de Septiembre'), ('Hija_mayor', '21 de Marzo'), ('Hija_menor', '21 de Julio')])"
            ]
          },
          "metadata": {},
          "execution_count": 81
        }
      ],
      "source": [
        "## **g. Los items del diccionario**\n",
        "cumpleaños.items()"
      ]
    },
    {
      "cell_type": "markdown",
      "metadata": {
        "id": "dEMoyo2GcYLk"
      },
      "source": [
        "# **12. Diccionarios - Parte II**"
      ]
    },
    {
      "cell_type": "markdown",
      "source": [
        "$\\bullet$ **a. Recordemos los cumpleaños de mi familia**"
      ],
      "metadata": {
        "id": "OTfhMJut96pJ"
      }
    },
    {
      "cell_type": "code",
      "execution_count": 70,
      "metadata": {
        "id": "HTsZEAgzS1aG",
        "colab": {
          "base_uri": "https://localhost:8080/"
        },
        "outputId": "8a73b5e9-854b-47bf-e5a7-8ea1c2771473"
      },
      "outputs": [
        {
          "output_type": "execute_result",
          "data": {
            "text/plain": [
              "{'Papá': '6 de Febrero',\n",
              " 'Mamá': '23 de Septiembre',\n",
              " 'Hija_mayor': '21 de Marzo',\n",
              " 'Hija_menor': '21 de Julio'}"
            ]
          },
          "metadata": {},
          "execution_count": 70
        }
      ],
      "source": [
        "### **Recordemos los cumpleaños de mi familia**\n",
        "cumpleaños"
      ]
    },
    {
      "cell_type": "markdown",
      "source": [
        "$\\bullet$ **b. Agregamos el cumpleaños de la abuela paterna**"
      ],
      "metadata": {
        "id": "9LVMINcN9-CY"
      }
    },
    {
      "cell_type": "code",
      "execution_count": 71,
      "metadata": {
        "id": "aybzbK-7c_sC",
        "colab": {
          "base_uri": "https://localhost:8080/"
        },
        "outputId": "3de4c847-9594-4ed5-d147-adf4651752e5"
      },
      "outputs": [
        {
          "output_type": "execute_result",
          "data": {
            "text/plain": [
              "{'Papá': '6 de Febrero',\n",
              " 'Mamá': '23 de Septiembre',\n",
              " 'Hija_mayor': '21 de Marzo',\n",
              " 'Hija_menor': '21 de Julio',\n",
              " 'Abuela_P': '4 de Mayo'}"
            ]
          },
          "metadata": {},
          "execution_count": 71
        }
      ],
      "source": [
        "## **Agregamos el cumpleaños de la abuela paterna**\n",
        "cumpleaños[\"Abuela_P\"] = \"4 de Mayo\"\n",
        "cumpleaños"
      ]
    },
    {
      "cell_type": "markdown",
      "source": [
        "$\\bullet$ **c. Agregamos el cumpleaños de la abuela materna**"
      ],
      "metadata": {
        "id": "qUMXJ7he-Z7R"
      }
    },
    {
      "cell_type": "code",
      "source": [
        "## **Agregamos el cumpleaños de la abuela materna**\n",
        "cumpleaños[\"Abuela_M\"] = \"16 de Febrero\"\n",
        "cumpleaños"
      ],
      "metadata": {
        "colab": {
          "base_uri": "https://localhost:8080/"
        },
        "id": "53NBFCbd-LCO",
        "outputId": "aff4eb01-e8ec-4abc-d9ef-ac7fb552cb5f"
      },
      "execution_count": null,
      "outputs": [
        {
          "output_type": "execute_result",
          "data": {
            "text/plain": [
              "{'Papá': '6 de Febrero',\n",
              " 'Mamá': '23 de Septiembre',\n",
              " 'Hija_mayor': '21 de Marzo',\n",
              " 'Hija_menor': '21 de Julio',\n",
              " 'Abuela_P': '4 de Mayo',\n",
              " 'Abuela_M': '16 de Febrero'}"
            ]
          },
          "metadata": {},
          "execution_count": 84
        }
      ]
    },
    {
      "cell_type": "markdown",
      "source": [
        "$\\bullet$ **d. Agregamos el cumpleaños de las mascotas**"
      ],
      "metadata": {
        "id": "wR39RUpw--hF"
      }
    },
    {
      "cell_type": "code",
      "source": [
        "## **Agregamos el cumpleaños de las mascotas**\n",
        "cumpleaños[\"Mascota_1\"] = \"10 de Diciembre\"\n",
        "cumpleaños[\"Mascota_2\"] = \"21 de Septiembre\"\n",
        "cumpleaños"
      ],
      "metadata": {
        "colab": {
          "base_uri": "https://localhost:8080/"
        },
        "id": "XZb3QuRk-p11",
        "outputId": "c6b1ba9a-9072-45f5-a1f1-29148d6adb0c"
      },
      "execution_count": 72,
      "outputs": [
        {
          "output_type": "execute_result",
          "data": {
            "text/plain": [
              "{'Papá': '6 de Febrero',\n",
              " 'Mamá': '23 de Septiembre',\n",
              " 'Hija_mayor': '21 de Marzo',\n",
              " 'Hija_menor': '21 de Julio',\n",
              " 'Abuela_P': '4 de Mayo',\n",
              " 'Mascota_1': '10 de Diciembre',\n",
              " 'Mascota_2': '21 de Septiembre'}"
            ]
          },
          "metadata": {},
          "execution_count": 72
        }
      ]
    },
    {
      "cell_type": "markdown",
      "source": [
        "$\\bullet$ **e.  Hagamos una copia de mi diccionario**"
      ],
      "metadata": {
        "id": "LawjJhjc_Fpq"
      }
    },
    {
      "cell_type": "code",
      "source": [
        "## **i. Hagamos una copia de mi diccionario**\n",
        "cumpleaños2 = cumpleaños.copy()\n",
        "cumpleaños2"
      ],
      "metadata": {
        "colab": {
          "base_uri": "https://localhost:8080/"
        },
        "id": "CmB5NVjb_Qof",
        "outputId": "69e7e04d-017a-4703-8ae7-e51268213f43"
      },
      "execution_count": 73,
      "outputs": [
        {
          "output_type": "execute_result",
          "data": {
            "text/plain": [
              "{'Papá': '6 de Febrero',\n",
              " 'Mamá': '23 de Septiembre',\n",
              " 'Hija_mayor': '21 de Marzo',\n",
              " 'Hija_menor': '21 de Julio',\n",
              " 'Abuela_P': '4 de Mayo',\n",
              " 'Mascota_1': '10 de Diciembre',\n",
              " 'Mascota_2': '21 de Septiembre'}"
            ]
          },
          "metadata": {},
          "execution_count": 73
        }
      ]
    },
    {
      "cell_type": "markdown",
      "source": [
        "$\\bullet$ **f. Vamos Actualizar la información**"
      ],
      "metadata": {
        "id": "0-aDwN1v_fKu"
      }
    },
    {
      "cell_type": "code",
      "execution_count": 74,
      "metadata": {
        "id": "WSEV-rdhc_zN",
        "colab": {
          "base_uri": "https://localhost:8080/"
        },
        "outputId": "20ec76a1-a9e1-47c7-9c87-5b93ae0d444f"
      },
      "outputs": [
        {
          "output_type": "execute_result",
          "data": {
            "text/plain": [
              "{'Papá': '6 de Febrero',\n",
              " 'Mamá': '23 de Septiembre',\n",
              " 'Hija_mayor': '21 de Marzo',\n",
              " 'Hija_menor': '21 de Julio',\n",
              " 'Abuela_P': '4 de Mayo',\n",
              " 'Mascota_1': '10 de Diciembre',\n",
              " 'Mascota_2': '21 de Septiembre',\n",
              " 'Parentesco': ['Papa',\n",
              "  'Mama',\n",
              "  'Hija mayor',\n",
              "  'Hija menor',\n",
              "  'Abuela Paterna',\n",
              "  'Abuela Materna',\n",
              "  'Mascota_1',\n",
              "  'Mascota_2']}"
            ]
          },
          "metadata": {},
          "execution_count": 74
        }
      ],
      "source": [
        "cumpleaños.update({\"Parentesco\":[\"Papa\", \"Mama\", \"Hija mayor\", \"Hija menor\", \"Abuela Paterna\", \"Abuela Materna\", 'Mascota_1', 'Mascota_2']})\n",
        "cumpleaños"
      ]
    },
    {
      "cell_type": "markdown",
      "metadata": {
        "id": "zL1n3diRYfM-"
      },
      "source": [
        "$\\bullet$ **g. Eliminar elementos del diccionario: pop, del, clear**"
      ]
    },
    {
      "cell_type": "code",
      "execution_count": 75,
      "metadata": {
        "id": "b0f9VoEJiiTw",
        "colab": {
          "base_uri": "https://localhost:8080/"
        },
        "outputId": "75c6c0e1-4e8e-4bad-f7da-3685c48d831d"
      },
      "outputs": [
        {
          "output_type": "execute_result",
          "data": {
            "text/plain": [
              "{'Papá': '6 de Febrero',\n",
              " 'Mamá': '23 de Septiembre',\n",
              " 'Hija_mayor': '21 de Marzo',\n",
              " 'Hija_menor': '21 de Julio',\n",
              " 'Abuela_P': '4 de Mayo',\n",
              " 'Mascota_1': '10 de Diciembre',\n",
              " 'Mascota_2': '21 de Septiembre',\n",
              " 'Parentesco': ['Papa',\n",
              "  'Mama',\n",
              "  'Hija mayor',\n",
              "  'Hija menor',\n",
              "  'Abuela Paterna',\n",
              "  'Abuela Materna',\n",
              "  'Mascota_1',\n",
              "  'Mascota_2']}"
            ]
          },
          "metadata": {},
          "execution_count": 75
        }
      ],
      "source": [
        "# **Recordemos nuestro diccionario**\n",
        "cumpleaños"
      ]
    },
    {
      "cell_type": "markdown",
      "source": [
        "$\\bullet$ **h. Eliminar elementos del diccionario: pop, del, clear**"
      ],
      "metadata": {
        "id": "mbqEcI_3xZnT"
      }
    },
    {
      "cell_type": "code",
      "execution_count": 76,
      "metadata": {
        "id": "UlgZe_MjiifR",
        "colab": {
          "base_uri": "https://localhost:8080/"
        },
        "outputId": "34a27fad-8e15-42f0-c799-d0fb6c27a135"
      },
      "outputs": [
        {
          "output_type": "execute_result",
          "data": {
            "text/plain": [
              "{'Papá': '6 de Febrero',\n",
              " 'Mamá': '23 de Septiembre',\n",
              " 'Hija_mayor': '21 de Marzo',\n",
              " 'Hija_menor': '21 de Julio',\n",
              " 'Abuela_P': '4 de Mayo',\n",
              " 'Mascota_1': '10 de Diciembre',\n",
              " 'Mascota_2': '21 de Septiembre'}"
            ]
          },
          "metadata": {},
          "execution_count": 76
        }
      ],
      "source": [
        "## **a. Eliminemos del dicionario Parentesco**\n",
        "cumpleaños3 = cumpleaños.copy()\n",
        "cumpleaños3.pop(\"Parentesco\")\n",
        "cumpleaños3"
      ]
    },
    {
      "cell_type": "markdown",
      "source": [
        "$\\bullet$ **i. Eliminar elementos del diccionario:del**"
      ],
      "metadata": {
        "id": "vpKtXEGJxph0"
      }
    },
    {
      "cell_type": "code",
      "execution_count": 77,
      "metadata": {
        "id": "gHx8JBQzZjbG"
      },
      "outputs": [],
      "source": [
        "del cumpleaños3[\"Mascota_2\"]"
      ]
    },
    {
      "cell_type": "code",
      "execution_count": 78,
      "metadata": {
        "id": "s5nM9DrJZjiY",
        "colab": {
          "base_uri": "https://localhost:8080/"
        },
        "outputId": "55b24259-073e-4082-e6e7-6470cd348d6e"
      },
      "outputs": [
        {
          "output_type": "execute_result",
          "data": {
            "text/plain": [
              "{'Papá': '6 de Febrero',\n",
              " 'Mamá': '23 de Septiembre',\n",
              " 'Hija_mayor': '21 de Marzo',\n",
              " 'Hija_menor': '21 de Julio',\n",
              " 'Abuela_P': '4 de Mayo',\n",
              " 'Mascota_1': '10 de Diciembre'}"
            ]
          },
          "metadata": {},
          "execution_count": 78
        }
      ],
      "source": [
        "cumpleaños3"
      ]
    },
    {
      "cell_type": "markdown",
      "source": [
        "$\\bullet$ **h. Eliminar elementos del diccionario: clear**"
      ],
      "metadata": {
        "id": "ovrfVODZxuv1"
      }
    },
    {
      "cell_type": "code",
      "execution_count": 79,
      "metadata": {
        "id": "7yzqyHsZZjnk"
      },
      "outputs": [],
      "source": [
        "cumpleaños3.clear()#elimina los item de un diccionario"
      ]
    },
    {
      "cell_type": "code",
      "execution_count": 80,
      "metadata": {
        "id": "icbJqQncZjxY",
        "colab": {
          "base_uri": "https://localhost:8080/"
        },
        "outputId": "48d063ef-aba6-4612-9b14-ddf24da8775e"
      },
      "outputs": [
        {
          "output_type": "execute_result",
          "data": {
            "text/plain": [
              "{}"
            ]
          },
          "metadata": {},
          "execution_count": 80
        }
      ],
      "source": [
        "cumpleaños3"
      ]
    },
    {
      "cell_type": "markdown",
      "source": [
        "# **13. Diccionarios - Parte III - Creando un DataFrame a partir de un diccionario**"
      ],
      "metadata": {
        "id": "_5RMhHspx7Dg"
      }
    },
    {
      "cell_type": "markdown",
      "source": [
        "$\\bullet$ **a. Creando un DataFrame con el diciconario**"
      ],
      "metadata": {
        "id": "jI-i1s2By_Ik"
      }
    },
    {
      "cell_type": "code",
      "source": [
        "import pandas as pd\n",
        "cumpleaños = pd.DataFrame(cumpleaños2.values(), index=cumpleaños2.keys(), columns=['Dia del Cumpleaños'])\n",
        "print(cumpleaños)"
      ],
      "metadata": {
        "colab": {
          "base_uri": "https://localhost:8080/"
        },
        "id": "PMhAPqpCyQNv",
        "outputId": "8f2b8df8-19ac-40eb-f7ba-de87f2998d74"
      },
      "execution_count": 83,
      "outputs": [
        {
          "output_type": "stream",
          "name": "stdout",
          "text": [
            "           Dia del Cumpleaños\n",
            "Papá             6 de Febrero\n",
            "Mamá         23 de Septiembre\n",
            "Hija_mayor        21 de Marzo\n",
            "Hija_menor        21 de Julio\n",
            "Abuela_P            4 de Mayo\n",
            "Mascota_1     10 de Diciembre\n",
            "Mascota_2    21 de Septiembre\n"
          ]
        }
      ]
    },
    {
      "cell_type": "markdown",
      "source": [
        "$\\bullet$ **b. Agregando al DataFrame una nueva columna**"
      ],
      "metadata": {
        "id": "kzf1hjnh0DDM"
      }
    },
    {
      "cell_type": "code",
      "source": [
        "Año_nac = [1969, 1970, 1999, 2002, 1948, 2009, 2019 ]\n",
        "cumpleaños['Año de Nacimiento'] = Año_nac\n",
        "print(cumpleaños)"
      ],
      "metadata": {
        "colab": {
          "base_uri": "https://localhost:8080/"
        },
        "id": "QuzOxJ8IzI-L",
        "outputId": "8ec15d36-e4d9-4209-8cc8-32bc7c394bde"
      },
      "execution_count": 84,
      "outputs": [
        {
          "output_type": "stream",
          "name": "stdout",
          "text": [
            "           Dia del Cumpleaños  Año de Nacimiento\n",
            "Papá             6 de Febrero               1969\n",
            "Mamá         23 de Septiembre               1970\n",
            "Hija_mayor        21 de Marzo               1999\n",
            "Hija_menor        21 de Julio               2002\n",
            "Abuela_P            4 de Mayo               1948\n",
            "Mascota_1     10 de Diciembre               2009\n",
            "Mascota_2    21 de Septiembre               2019\n"
          ]
        }
      ]
    }
  ],
  "metadata": {
    "colab": {
      "provenance": [],
      "authorship_tag": "ABX9TyOtWev40KKibIQdX0fi698f",
      "include_colab_link": true
    },
    "kernelspec": {
      "display_name": "Python 3",
      "name": "python3"
    },
    "language_info": {
      "name": "python"
    }
  },
  "nbformat": 4,
  "nbformat_minor": 0
}