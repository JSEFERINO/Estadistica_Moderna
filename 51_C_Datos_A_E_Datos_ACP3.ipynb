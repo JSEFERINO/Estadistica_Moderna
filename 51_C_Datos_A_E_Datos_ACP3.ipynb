{
  "cells": [
    {
      "cell_type": "markdown",
      "metadata": {
        "id": "view-in-github",
        "colab_type": "text"
      },
      "source": [
        "<a href=\"https://colab.research.google.com/github/JSEFERINO/Estadistica_Moderna/blob/main/51_C_Datos_A_E_Datos_ACP3.ipynb\" target=\"_parent\"><img src=\"https://colab.research.google.com/assets/colab-badge.svg\" alt=\"Open In Colab\"/></a>"
      ]
    },
    {
      "cell_type": "markdown",
      "metadata": {
        "id": "tvWruVdAfPkW"
      },
      "source": [
        "# **Curso Teoría de Probabilidad por Julio Hurtado Márquez**\n",
        "## **Parte XIII- Análisis Exploratorio de Datos**\n",
        "# **Librerias para usar en esta parte del curso**"
      ]
    },
    {
      "cell_type": "code",
      "execution_count": null,
      "metadata": {
        "colab": {
          "base_uri": "https://localhost:8080/"
        },
        "id": "oMTb2sIusSdw",
        "outputId": "6185669c-f76e-4eee-91f5-1c87f4c6e55d"
      },
      "outputs": [
        {
          "output_type": "stream",
          "name": "stdout",
          "text": [
            "Setup Complete\n"
          ]
        }
      ],
      "source": [
        "# **Librerias para usar en esta parte del cursor**\n",
        "import pandas as pd\n",
        "import numpy as np\n",
        "import matplotlib.pyplot as plt # para visualizacion de datos\n",
        "%matplotlib inline\n",
        "import seaborn as sns # para visualizacion de datos\n",
        "from scipy import stats\n",
        "import warnings # Para ignorar todas las advertencias\n",
        "warnings.filterwarnings(\"ignore\", category=FutureWarning)\n",
        "from sympy.functions.combinatorial.factorials import factorial\n",
        "import math\n",
        "from math import sqrt\n",
        "from numpy.ma.core import log\n",
        "from sympy import integrate, init_printing\n",
        "from sympy.abc import x\n",
        "print(\"Setup Complete\")"
      ]
    },
    {
      "cell_type": "markdown",
      "source": [
        "# **218. Parte I: Ejemplo 1.  Análisis de Componentes Princiapales (PCA) - Análisis Exploratorio de Datos**\n",
        "\n",
        "# **a. Base de datos - PCA**"
      ],
      "metadata": {
        "id": "aehOhHGudMqp"
      }
    },
    {
      "cell_type": "code",
      "source": [
        "# **a. Base de datos - PCA**\n",
        "datos=pd.read_csv(\"/content/df_datos_LIMPIOS.csv\",delimiter=';')\n",
        "datos"
      ],
      "metadata": {
        "colab": {
          "base_uri": "https://localhost:8080/",
          "height": 424
        },
        "id": "P5IoYzC0mSWq",
        "outputId": "abea0599-1d5d-461d-c2e0-3d229956542e"
      },
      "execution_count": null,
      "outputs": [
        {
          "output_type": "execute_result",
          "data": {
            "text/plain": [
              "             CURSO  DEFINITIVA PROGRAMA  EDAD URBANO  PESO  ESTATURA  \\\n",
              "0    ESTADISTICA I          43     COMS    18     SI    55       164   \n",
              "1    ESTADISTICA I          31     COMS    19     SI    65       165   \n",
              "2    ESTADISTICA I          42     DERH    25     NO    56       170   \n",
              "3    ESTADISTICA I          36     DERH    23     SI    65       170   \n",
              "4    ESTADISTICA I          39     PSIC    19     SI    50       169   \n",
              "..             ...         ...      ...   ...    ...   ...       ...   \n",
              "116  ESTADISTICA I          35     PSIC    18     SI    60       163   \n",
              "117  ESTADISTICA I          35     PSIC    18     SI    60       180   \n",
              "118  ESTADISTICA I          25     COMS    21     NO    45       172   \n",
              "119  ESTADISTICA I          30     COMS    20     NO    50       160   \n",
              "120  ESTADISTICA I          35     DERH    21     NO    57       160   \n",
              "\n",
              "     SATISFACC  SABER 11  PROMEDIO SEXO ESTRATO Herramientas  \n",
              "0            4       350       426    F      II         PTWF  \n",
              "1            5       328       411    F       I         CYDT  \n",
              "2            5       285        37    M       I         CYDT  \n",
              "3            5       280        41    F      II         PCWF  \n",
              "4            5       319        40    F      II         CYWF  \n",
              "..         ...       ...       ...  ...     ...          ...  \n",
              "116          5       310        39    F     III         PTWF  \n",
              "117          3       346        39    M      IV         PCWF  \n",
              "118          5       221        37    F      II         CYWF  \n",
              "119          4       332        35    F      II         CYDT  \n",
              "120          4       293        35    F     III         PTWF  \n",
              "\n",
              "[121 rows x 13 columns]"
            ],
            "text/html": [
              "\n",
              "\n",
              "  <div id=\"df-d5fa81b6-2a8c-46de-8bac-bbe10e9ee9e6\">\n",
              "    <div class=\"colab-df-container\">\n",
              "      <div>\n",
              "<style scoped>\n",
              "    .dataframe tbody tr th:only-of-type {\n",
              "        vertical-align: middle;\n",
              "    }\n",
              "\n",
              "    .dataframe tbody tr th {\n",
              "        vertical-align: top;\n",
              "    }\n",
              "\n",
              "    .dataframe thead th {\n",
              "        text-align: right;\n",
              "    }\n",
              "</style>\n",
              "<table border=\"1\" class=\"dataframe\">\n",
              "  <thead>\n",
              "    <tr style=\"text-align: right;\">\n",
              "      <th></th>\n",
              "      <th>CURSO</th>\n",
              "      <th>DEFINITIVA</th>\n",
              "      <th>PROGRAMA</th>\n",
              "      <th>EDAD</th>\n",
              "      <th>URBANO</th>\n",
              "      <th>PESO</th>\n",
              "      <th>ESTATURA</th>\n",
              "      <th>SATISFACC</th>\n",
              "      <th>SABER 11</th>\n",
              "      <th>PROMEDIO</th>\n",
              "      <th>SEXO</th>\n",
              "      <th>ESTRATO</th>\n",
              "      <th>Herramientas</th>\n",
              "    </tr>\n",
              "  </thead>\n",
              "  <tbody>\n",
              "    <tr>\n",
              "      <th>0</th>\n",
              "      <td>ESTADISTICA I</td>\n",
              "      <td>43</td>\n",
              "      <td>COMS</td>\n",
              "      <td>18</td>\n",
              "      <td>SI</td>\n",
              "      <td>55</td>\n",
              "      <td>164</td>\n",
              "      <td>4</td>\n",
              "      <td>350</td>\n",
              "      <td>426</td>\n",
              "      <td>F</td>\n",
              "      <td>II</td>\n",
              "      <td>PTWF</td>\n",
              "    </tr>\n",
              "    <tr>\n",
              "      <th>1</th>\n",
              "      <td>ESTADISTICA I</td>\n",
              "      <td>31</td>\n",
              "      <td>COMS</td>\n",
              "      <td>19</td>\n",
              "      <td>SI</td>\n",
              "      <td>65</td>\n",
              "      <td>165</td>\n",
              "      <td>5</td>\n",
              "      <td>328</td>\n",
              "      <td>411</td>\n",
              "      <td>F</td>\n",
              "      <td>I</td>\n",
              "      <td>CYDT</td>\n",
              "    </tr>\n",
              "    <tr>\n",
              "      <th>2</th>\n",
              "      <td>ESTADISTICA I</td>\n",
              "      <td>42</td>\n",
              "      <td>DERH</td>\n",
              "      <td>25</td>\n",
              "      <td>NO</td>\n",
              "      <td>56</td>\n",
              "      <td>170</td>\n",
              "      <td>5</td>\n",
              "      <td>285</td>\n",
              "      <td>37</td>\n",
              "      <td>M</td>\n",
              "      <td>I</td>\n",
              "      <td>CYDT</td>\n",
              "    </tr>\n",
              "    <tr>\n",
              "      <th>3</th>\n",
              "      <td>ESTADISTICA I</td>\n",
              "      <td>36</td>\n",
              "      <td>DERH</td>\n",
              "      <td>23</td>\n",
              "      <td>SI</td>\n",
              "      <td>65</td>\n",
              "      <td>170</td>\n",
              "      <td>5</td>\n",
              "      <td>280</td>\n",
              "      <td>41</td>\n",
              "      <td>F</td>\n",
              "      <td>II</td>\n",
              "      <td>PCWF</td>\n",
              "    </tr>\n",
              "    <tr>\n",
              "      <th>4</th>\n",
              "      <td>ESTADISTICA I</td>\n",
              "      <td>39</td>\n",
              "      <td>PSIC</td>\n",
              "      <td>19</td>\n",
              "      <td>SI</td>\n",
              "      <td>50</td>\n",
              "      <td>169</td>\n",
              "      <td>5</td>\n",
              "      <td>319</td>\n",
              "      <td>40</td>\n",
              "      <td>F</td>\n",
              "      <td>II</td>\n",
              "      <td>CYWF</td>\n",
              "    </tr>\n",
              "    <tr>\n",
              "      <th>...</th>\n",
              "      <td>...</td>\n",
              "      <td>...</td>\n",
              "      <td>...</td>\n",
              "      <td>...</td>\n",
              "      <td>...</td>\n",
              "      <td>...</td>\n",
              "      <td>...</td>\n",
              "      <td>...</td>\n",
              "      <td>...</td>\n",
              "      <td>...</td>\n",
              "      <td>...</td>\n",
              "      <td>...</td>\n",
              "      <td>...</td>\n",
              "    </tr>\n",
              "    <tr>\n",
              "      <th>116</th>\n",
              "      <td>ESTADISTICA I</td>\n",
              "      <td>35</td>\n",
              "      <td>PSIC</td>\n",
              "      <td>18</td>\n",
              "      <td>SI</td>\n",
              "      <td>60</td>\n",
              "      <td>163</td>\n",
              "      <td>5</td>\n",
              "      <td>310</td>\n",
              "      <td>39</td>\n",
              "      <td>F</td>\n",
              "      <td>III</td>\n",
              "      <td>PTWF</td>\n",
              "    </tr>\n",
              "    <tr>\n",
              "      <th>117</th>\n",
              "      <td>ESTADISTICA I</td>\n",
              "      <td>35</td>\n",
              "      <td>PSIC</td>\n",
              "      <td>18</td>\n",
              "      <td>SI</td>\n",
              "      <td>60</td>\n",
              "      <td>180</td>\n",
              "      <td>3</td>\n",
              "      <td>346</td>\n",
              "      <td>39</td>\n",
              "      <td>M</td>\n",
              "      <td>IV</td>\n",
              "      <td>PCWF</td>\n",
              "    </tr>\n",
              "    <tr>\n",
              "      <th>118</th>\n",
              "      <td>ESTADISTICA I</td>\n",
              "      <td>25</td>\n",
              "      <td>COMS</td>\n",
              "      <td>21</td>\n",
              "      <td>NO</td>\n",
              "      <td>45</td>\n",
              "      <td>172</td>\n",
              "      <td>5</td>\n",
              "      <td>221</td>\n",
              "      <td>37</td>\n",
              "      <td>F</td>\n",
              "      <td>II</td>\n",
              "      <td>CYWF</td>\n",
              "    </tr>\n",
              "    <tr>\n",
              "      <th>119</th>\n",
              "      <td>ESTADISTICA I</td>\n",
              "      <td>30</td>\n",
              "      <td>COMS</td>\n",
              "      <td>20</td>\n",
              "      <td>NO</td>\n",
              "      <td>50</td>\n",
              "      <td>160</td>\n",
              "      <td>4</td>\n",
              "      <td>332</td>\n",
              "      <td>35</td>\n",
              "      <td>F</td>\n",
              "      <td>II</td>\n",
              "      <td>CYDT</td>\n",
              "    </tr>\n",
              "    <tr>\n",
              "      <th>120</th>\n",
              "      <td>ESTADISTICA I</td>\n",
              "      <td>35</td>\n",
              "      <td>DERH</td>\n",
              "      <td>21</td>\n",
              "      <td>NO</td>\n",
              "      <td>57</td>\n",
              "      <td>160</td>\n",
              "      <td>4</td>\n",
              "      <td>293</td>\n",
              "      <td>35</td>\n",
              "      <td>F</td>\n",
              "      <td>III</td>\n",
              "      <td>PTWF</td>\n",
              "    </tr>\n",
              "  </tbody>\n",
              "</table>\n",
              "<p>121 rows × 13 columns</p>\n",
              "</div>\n",
              "      <button class=\"colab-df-convert\" onclick=\"convertToInteractive('df-d5fa81b6-2a8c-46de-8bac-bbe10e9ee9e6')\"\n",
              "              title=\"Convert this dataframe to an interactive table.\"\n",
              "              style=\"display:none;\">\n",
              "\n",
              "  <svg xmlns=\"http://www.w3.org/2000/svg\" height=\"24px\"viewBox=\"0 0 24 24\"\n",
              "       width=\"24px\">\n",
              "    <path d=\"M0 0h24v24H0V0z\" fill=\"none\"/>\n",
              "    <path d=\"M18.56 5.44l.94 2.06.94-2.06 2.06-.94-2.06-.94-.94-2.06-.94 2.06-2.06.94zm-11 1L8.5 8.5l.94-2.06 2.06-.94-2.06-.94L8.5 2.5l-.94 2.06-2.06.94zm10 10l.94 2.06.94-2.06 2.06-.94-2.06-.94-.94-2.06-.94 2.06-2.06.94z\"/><path d=\"M17.41 7.96l-1.37-1.37c-.4-.4-.92-.59-1.43-.59-.52 0-1.04.2-1.43.59L10.3 9.45l-7.72 7.72c-.78.78-.78 2.05 0 2.83L4 21.41c.39.39.9.59 1.41.59.51 0 1.02-.2 1.41-.59l7.78-7.78 2.81-2.81c.8-.78.8-2.07 0-2.86zM5.41 20L4 18.59l7.72-7.72 1.47 1.35L5.41 20z\"/>\n",
              "  </svg>\n",
              "      </button>\n",
              "\n",
              "\n",
              "\n",
              "    <div id=\"df-8a5eff2c-3993-4766-9f83-3a0ff9cf0a58\">\n",
              "      <button class=\"colab-df-quickchart\" onclick=\"quickchart('df-8a5eff2c-3993-4766-9f83-3a0ff9cf0a58')\"\n",
              "              title=\"Suggest charts.\"\n",
              "              style=\"display:none;\">\n",
              "\n",
              "<svg xmlns=\"http://www.w3.org/2000/svg\" height=\"24px\"viewBox=\"0 0 24 24\"\n",
              "     width=\"24px\">\n",
              "    <g>\n",
              "        <path d=\"M19 3H5c-1.1 0-2 .9-2 2v14c0 1.1.9 2 2 2h14c1.1 0 2-.9 2-2V5c0-1.1-.9-2-2-2zM9 17H7v-7h2v7zm4 0h-2V7h2v10zm4 0h-2v-4h2v4z\"/>\n",
              "    </g>\n",
              "</svg>\n",
              "      </button>\n",
              "    </div>\n",
              "\n",
              "<style>\n",
              "  .colab-df-quickchart {\n",
              "    background-color: #E8F0FE;\n",
              "    border: none;\n",
              "    border-radius: 50%;\n",
              "    cursor: pointer;\n",
              "    display: none;\n",
              "    fill: #1967D2;\n",
              "    height: 32px;\n",
              "    padding: 0 0 0 0;\n",
              "    width: 32px;\n",
              "  }\n",
              "\n",
              "  .colab-df-quickchart:hover {\n",
              "    background-color: #E2EBFA;\n",
              "    box-shadow: 0px 1px 2px rgba(60, 64, 67, 0.3), 0px 1px 3px 1px rgba(60, 64, 67, 0.15);\n",
              "    fill: #174EA6;\n",
              "  }\n",
              "\n",
              "  [theme=dark] .colab-df-quickchart {\n",
              "    background-color: #3B4455;\n",
              "    fill: #D2E3FC;\n",
              "  }\n",
              "\n",
              "  [theme=dark] .colab-df-quickchart:hover {\n",
              "    background-color: #434B5C;\n",
              "    box-shadow: 0px 1px 3px 1px rgba(0, 0, 0, 0.15);\n",
              "    filter: drop-shadow(0px 1px 2px rgba(0, 0, 0, 0.3));\n",
              "    fill: #FFFFFF;\n",
              "  }\n",
              "</style>\n",
              "\n",
              "    <script>\n",
              "      async function quickchart(key) {\n",
              "        const containerElement = document.querySelector('#' + key);\n",
              "        const charts = await google.colab.kernel.invokeFunction(\n",
              "            'suggestCharts', [key], {});\n",
              "      }\n",
              "    </script>\n",
              "\n",
              "      <script>\n",
              "\n",
              "function displayQuickchartButton(domScope) {\n",
              "  let quickchartButtonEl =\n",
              "    domScope.querySelector('#df-8a5eff2c-3993-4766-9f83-3a0ff9cf0a58 button.colab-df-quickchart');\n",
              "  quickchartButtonEl.style.display =\n",
              "    google.colab.kernel.accessAllowed ? 'block' : 'none';\n",
              "}\n",
              "\n",
              "        displayQuickchartButton(document);\n",
              "      </script>\n",
              "      <style>\n",
              "    .colab-df-container {\n",
              "      display:flex;\n",
              "      flex-wrap:wrap;\n",
              "      gap: 12px;\n",
              "    }\n",
              "\n",
              "    .colab-df-convert {\n",
              "      background-color: #E8F0FE;\n",
              "      border: none;\n",
              "      border-radius: 50%;\n",
              "      cursor: pointer;\n",
              "      display: none;\n",
              "      fill: #1967D2;\n",
              "      height: 32px;\n",
              "      padding: 0 0 0 0;\n",
              "      width: 32px;\n",
              "    }\n",
              "\n",
              "    .colab-df-convert:hover {\n",
              "      background-color: #E2EBFA;\n",
              "      box-shadow: 0px 1px 2px rgba(60, 64, 67, 0.3), 0px 1px 3px 1px rgba(60, 64, 67, 0.15);\n",
              "      fill: #174EA6;\n",
              "    }\n",
              "\n",
              "    [theme=dark] .colab-df-convert {\n",
              "      background-color: #3B4455;\n",
              "      fill: #D2E3FC;\n",
              "    }\n",
              "\n",
              "    [theme=dark] .colab-df-convert:hover {\n",
              "      background-color: #434B5C;\n",
              "      box-shadow: 0px 1px 3px 1px rgba(0, 0, 0, 0.15);\n",
              "      filter: drop-shadow(0px 1px 2px rgba(0, 0, 0, 0.3));\n",
              "      fill: #FFFFFF;\n",
              "    }\n",
              "  </style>\n",
              "\n",
              "      <script>\n",
              "        const buttonEl =\n",
              "          document.querySelector('#df-d5fa81b6-2a8c-46de-8bac-bbe10e9ee9e6 button.colab-df-convert');\n",
              "        buttonEl.style.display =\n",
              "          google.colab.kernel.accessAllowed ? 'block' : 'none';\n",
              "\n",
              "        async function convertToInteractive(key) {\n",
              "          const element = document.querySelector('#df-d5fa81b6-2a8c-46de-8bac-bbe10e9ee9e6');\n",
              "          const dataTable =\n",
              "            await google.colab.kernel.invokeFunction('convertToInteractive',\n",
              "                                                     [key], {});\n",
              "          if (!dataTable) return;\n",
              "\n",
              "          const docLinkHtml = 'Like what you see? Visit the ' +\n",
              "            '<a target=\"_blank\" href=https://colab.research.google.com/notebooks/data_table.ipynb>data table notebook</a>'\n",
              "            + ' to learn more about interactive tables.';\n",
              "          element.innerHTML = '';\n",
              "          dataTable['output_type'] = 'display_data';\n",
              "          await google.colab.output.renderOutput(dataTable, element);\n",
              "          const docLink = document.createElement('div');\n",
              "          docLink.innerHTML = docLinkHtml;\n",
              "          element.appendChild(docLink);\n",
              "        }\n",
              "      </script>\n",
              "    </div>\n",
              "  </div>\n"
            ]
          },
          "metadata": {},
          "execution_count": 31
        }
      ]
    },
    {
      "cell_type": "markdown",
      "source": [
        "# **b. Todas las columnas a trabajar y dimension de la data**"
      ],
      "metadata": {
        "id": "Oggx6Ftv1oae"
      }
    },
    {
      "cell_type": "code",
      "source": [
        "# **b. Todas las columnas a trabajar**\n",
        "datos.columns"
      ],
      "metadata": {
        "colab": {
          "base_uri": "https://localhost:8080/"
        },
        "id": "M_aUAKmIxCLG",
        "outputId": "7cf85ec5-a925-4dec-fc62-33c9a709a717"
      },
      "execution_count": null,
      "outputs": [
        {
          "output_type": "execute_result",
          "data": {
            "text/plain": [
              "Index(['CURSO', 'DEFINITIVA', 'PROGRAMA', 'EDAD', 'URBANO', 'PESO', 'ESTATURA',\n",
              "       'SATISFACC', 'SABER 11', 'PROMEDIO', 'SEXO', 'ESTRATO', 'Herramientas'],\n",
              "      dtype='object')"
            ]
          },
          "metadata": {},
          "execution_count": 32
        }
      ]
    },
    {
      "cell_type": "code",
      "source": [
        "# **b. La dimensión de la data**\n",
        "datos.shape"
      ],
      "metadata": {
        "colab": {
          "base_uri": "https://localhost:8080/"
        },
        "id": "A2Obm87p13cc",
        "outputId": "5702fd11-b70a-4d08-a337-6a9a644f6b53"
      },
      "execution_count": null,
      "outputs": [
        {
          "output_type": "execute_result",
          "data": {
            "text/plain": [
              "(121, 13)"
            ]
          },
          "metadata": {},
          "execution_count": 33
        }
      ]
    },
    {
      "cell_type": "markdown",
      "source": [
        "# **c. Veamos si contiene datos perdidos**"
      ],
      "metadata": {
        "id": "sivqd8Fd5bHB"
      }
    },
    {
      "cell_type": "code",
      "source": [
        "# **c. Veamos si contiene datos perdidos**\n",
        "datos.isnull().sum()"
      ],
      "metadata": {
        "colab": {
          "base_uri": "https://localhost:8080/"
        },
        "id": "glXFmmdg1-qd",
        "outputId": "c67a2b28-8c00-4f5d-882a-9c211ba6da94"
      },
      "execution_count": null,
      "outputs": [
        {
          "output_type": "execute_result",
          "data": {
            "text/plain": [
              "CURSO           0\n",
              "DEFINITIVA      0\n",
              "PROGRAMA        0\n",
              "EDAD            0\n",
              "URBANO          0\n",
              "PESO            0\n",
              "ESTATURA        0\n",
              "SATISFACC       0\n",
              "SABER 11        0\n",
              "PROMEDIO        0\n",
              "SEXO            0\n",
              "ESTRATO         0\n",
              "Herramientas    0\n",
              "dtype: int64"
            ]
          },
          "metadata": {},
          "execution_count": 34
        }
      ]
    },
    {
      "cell_type": "markdown",
      "source": [
        "# **d. Veamos si contiene datos perdidos**\n",
        "+ Como en la parte _c_ no se observan todas las variables, sumamos todos los resultado y no tenemos un problema de imputacion de datos"
      ],
      "metadata": {
        "id": "2xqteuFS5l5w"
      }
    },
    {
      "cell_type": "code",
      "source": [
        "# **d. Veamos si contiene datos perdidos**\n",
        "datos.isnull().sum().sum()"
      ],
      "metadata": {
        "colab": {
          "base_uri": "https://localhost:8080/"
        },
        "id": "bwHEbDCZ5gPg",
        "outputId": "2a304743-1806-4400-8648-3253fa7eb217"
      },
      "execution_count": null,
      "outputs": [
        {
          "output_type": "execute_result",
          "data": {
            "text/plain": [
              "0"
            ]
          },
          "metadata": {},
          "execution_count": 35
        }
      ]
    },
    {
      "cell_type": "markdown",
      "source": [
        "# **e. Preguntemonos si hay correlación entre las variables**"
      ],
      "metadata": {
        "id": "KrukMOu267pn"
      }
    },
    {
      "cell_type": "code",
      "source": [
        "# **e. Preguntemonos si hay correlación entre las variables**\n",
        "datos.corr()"
      ],
      "metadata": {
        "colab": {
          "base_uri": "https://localhost:8080/",
          "height": 269
        },
        "id": "SH40cABouZsT",
        "outputId": "d2b5d930-92a8-4ac5-b39e-8dfa5c7dd968"
      },
      "execution_count": null,
      "outputs": [
        {
          "output_type": "execute_result",
          "data": {
            "text/plain": [
              "            DEFINITIVA      EDAD      PESO  ESTATURA  SATISFACC  SABER 11  \\\n",
              "DEFINITIVA    1.000000 -0.257484 -0.142738  0.008412   0.085619  0.142324   \n",
              "EDAD         -0.257484  1.000000  0.222894 -0.086632  -0.055683 -0.320182   \n",
              "PESO         -0.142738  0.222894  1.000000  0.435273   0.075739 -0.013083   \n",
              "ESTATURA      0.008412 -0.086632  0.435273  1.000000  -0.044383  0.297443   \n",
              "SATISFACC     0.085619 -0.055683  0.075739 -0.044383   1.000000 -0.181282   \n",
              "SABER 11      0.142324 -0.320182 -0.013083  0.297443  -0.181282  1.000000   \n",
              "PROMEDIO      0.457366 -0.391353 -0.091824  0.015706   0.104541  0.390916   \n",
              "\n",
              "            PROMEDIO  \n",
              "DEFINITIVA  0.457366  \n",
              "EDAD       -0.391353  \n",
              "PESO       -0.091824  \n",
              "ESTATURA    0.015706  \n",
              "SATISFACC   0.104541  \n",
              "SABER 11    0.390916  \n",
              "PROMEDIO    1.000000  "
            ],
            "text/html": [
              "\n",
              "\n",
              "  <div id=\"df-1d9cf629-0340-4799-b3fd-2f61d86cf4ea\">\n",
              "    <div class=\"colab-df-container\">\n",
              "      <div>\n",
              "<style scoped>\n",
              "    .dataframe tbody tr th:only-of-type {\n",
              "        vertical-align: middle;\n",
              "    }\n",
              "\n",
              "    .dataframe tbody tr th {\n",
              "        vertical-align: top;\n",
              "    }\n",
              "\n",
              "    .dataframe thead th {\n",
              "        text-align: right;\n",
              "    }\n",
              "</style>\n",
              "<table border=\"1\" class=\"dataframe\">\n",
              "  <thead>\n",
              "    <tr style=\"text-align: right;\">\n",
              "      <th></th>\n",
              "      <th>DEFINITIVA</th>\n",
              "      <th>EDAD</th>\n",
              "      <th>PESO</th>\n",
              "      <th>ESTATURA</th>\n",
              "      <th>SATISFACC</th>\n",
              "      <th>SABER 11</th>\n",
              "      <th>PROMEDIO</th>\n",
              "    </tr>\n",
              "  </thead>\n",
              "  <tbody>\n",
              "    <tr>\n",
              "      <th>DEFINITIVA</th>\n",
              "      <td>1.000000</td>\n",
              "      <td>-0.257484</td>\n",
              "      <td>-0.142738</td>\n",
              "      <td>0.008412</td>\n",
              "      <td>0.085619</td>\n",
              "      <td>0.142324</td>\n",
              "      <td>0.457366</td>\n",
              "    </tr>\n",
              "    <tr>\n",
              "      <th>EDAD</th>\n",
              "      <td>-0.257484</td>\n",
              "      <td>1.000000</td>\n",
              "      <td>0.222894</td>\n",
              "      <td>-0.086632</td>\n",
              "      <td>-0.055683</td>\n",
              "      <td>-0.320182</td>\n",
              "      <td>-0.391353</td>\n",
              "    </tr>\n",
              "    <tr>\n",
              "      <th>PESO</th>\n",
              "      <td>-0.142738</td>\n",
              "      <td>0.222894</td>\n",
              "      <td>1.000000</td>\n",
              "      <td>0.435273</td>\n",
              "      <td>0.075739</td>\n",
              "      <td>-0.013083</td>\n",
              "      <td>-0.091824</td>\n",
              "    </tr>\n",
              "    <tr>\n",
              "      <th>ESTATURA</th>\n",
              "      <td>0.008412</td>\n",
              "      <td>-0.086632</td>\n",
              "      <td>0.435273</td>\n",
              "      <td>1.000000</td>\n",
              "      <td>-0.044383</td>\n",
              "      <td>0.297443</td>\n",
              "      <td>0.015706</td>\n",
              "    </tr>\n",
              "    <tr>\n",
              "      <th>SATISFACC</th>\n",
              "      <td>0.085619</td>\n",
              "      <td>-0.055683</td>\n",
              "      <td>0.075739</td>\n",
              "      <td>-0.044383</td>\n",
              "      <td>1.000000</td>\n",
              "      <td>-0.181282</td>\n",
              "      <td>0.104541</td>\n",
              "    </tr>\n",
              "    <tr>\n",
              "      <th>SABER 11</th>\n",
              "      <td>0.142324</td>\n",
              "      <td>-0.320182</td>\n",
              "      <td>-0.013083</td>\n",
              "      <td>0.297443</td>\n",
              "      <td>-0.181282</td>\n",
              "      <td>1.000000</td>\n",
              "      <td>0.390916</td>\n",
              "    </tr>\n",
              "    <tr>\n",
              "      <th>PROMEDIO</th>\n",
              "      <td>0.457366</td>\n",
              "      <td>-0.391353</td>\n",
              "      <td>-0.091824</td>\n",
              "      <td>0.015706</td>\n",
              "      <td>0.104541</td>\n",
              "      <td>0.390916</td>\n",
              "      <td>1.000000</td>\n",
              "    </tr>\n",
              "  </tbody>\n",
              "</table>\n",
              "</div>\n",
              "      <button class=\"colab-df-convert\" onclick=\"convertToInteractive('df-1d9cf629-0340-4799-b3fd-2f61d86cf4ea')\"\n",
              "              title=\"Convert this dataframe to an interactive table.\"\n",
              "              style=\"display:none;\">\n",
              "\n",
              "  <svg xmlns=\"http://www.w3.org/2000/svg\" height=\"24px\"viewBox=\"0 0 24 24\"\n",
              "       width=\"24px\">\n",
              "    <path d=\"M0 0h24v24H0V0z\" fill=\"none\"/>\n",
              "    <path d=\"M18.56 5.44l.94 2.06.94-2.06 2.06-.94-2.06-.94-.94-2.06-.94 2.06-2.06.94zm-11 1L8.5 8.5l.94-2.06 2.06-.94-2.06-.94L8.5 2.5l-.94 2.06-2.06.94zm10 10l.94 2.06.94-2.06 2.06-.94-2.06-.94-.94-2.06-.94 2.06-2.06.94z\"/><path d=\"M17.41 7.96l-1.37-1.37c-.4-.4-.92-.59-1.43-.59-.52 0-1.04.2-1.43.59L10.3 9.45l-7.72 7.72c-.78.78-.78 2.05 0 2.83L4 21.41c.39.39.9.59 1.41.59.51 0 1.02-.2 1.41-.59l7.78-7.78 2.81-2.81c.8-.78.8-2.07 0-2.86zM5.41 20L4 18.59l7.72-7.72 1.47 1.35L5.41 20z\"/>\n",
              "  </svg>\n",
              "      </button>\n",
              "\n",
              "\n",
              "\n",
              "    <div id=\"df-a5ef6e8a-b399-4987-8823-cc188921177d\">\n",
              "      <button class=\"colab-df-quickchart\" onclick=\"quickchart('df-a5ef6e8a-b399-4987-8823-cc188921177d')\"\n",
              "              title=\"Suggest charts.\"\n",
              "              style=\"display:none;\">\n",
              "\n",
              "<svg xmlns=\"http://www.w3.org/2000/svg\" height=\"24px\"viewBox=\"0 0 24 24\"\n",
              "     width=\"24px\">\n",
              "    <g>\n",
              "        <path d=\"M19 3H5c-1.1 0-2 .9-2 2v14c0 1.1.9 2 2 2h14c1.1 0 2-.9 2-2V5c0-1.1-.9-2-2-2zM9 17H7v-7h2v7zm4 0h-2V7h2v10zm4 0h-2v-4h2v4z\"/>\n",
              "    </g>\n",
              "</svg>\n",
              "      </button>\n",
              "    </div>\n",
              "\n",
              "<style>\n",
              "  .colab-df-quickchart {\n",
              "    background-color: #E8F0FE;\n",
              "    border: none;\n",
              "    border-radius: 50%;\n",
              "    cursor: pointer;\n",
              "    display: none;\n",
              "    fill: #1967D2;\n",
              "    height: 32px;\n",
              "    padding: 0 0 0 0;\n",
              "    width: 32px;\n",
              "  }\n",
              "\n",
              "  .colab-df-quickchart:hover {\n",
              "    background-color: #E2EBFA;\n",
              "    box-shadow: 0px 1px 2px rgba(60, 64, 67, 0.3), 0px 1px 3px 1px rgba(60, 64, 67, 0.15);\n",
              "    fill: #174EA6;\n",
              "  }\n",
              "\n",
              "  [theme=dark] .colab-df-quickchart {\n",
              "    background-color: #3B4455;\n",
              "    fill: #D2E3FC;\n",
              "  }\n",
              "\n",
              "  [theme=dark] .colab-df-quickchart:hover {\n",
              "    background-color: #434B5C;\n",
              "    box-shadow: 0px 1px 3px 1px rgba(0, 0, 0, 0.15);\n",
              "    filter: drop-shadow(0px 1px 2px rgba(0, 0, 0, 0.3));\n",
              "    fill: #FFFFFF;\n",
              "  }\n",
              "</style>\n",
              "\n",
              "    <script>\n",
              "      async function quickchart(key) {\n",
              "        const containerElement = document.querySelector('#' + key);\n",
              "        const charts = await google.colab.kernel.invokeFunction(\n",
              "            'suggestCharts', [key], {});\n",
              "      }\n",
              "    </script>\n",
              "\n",
              "      <script>\n",
              "\n",
              "function displayQuickchartButton(domScope) {\n",
              "  let quickchartButtonEl =\n",
              "    domScope.querySelector('#df-a5ef6e8a-b399-4987-8823-cc188921177d button.colab-df-quickchart');\n",
              "  quickchartButtonEl.style.display =\n",
              "    google.colab.kernel.accessAllowed ? 'block' : 'none';\n",
              "}\n",
              "\n",
              "        displayQuickchartButton(document);\n",
              "      </script>\n",
              "      <style>\n",
              "    .colab-df-container {\n",
              "      display:flex;\n",
              "      flex-wrap:wrap;\n",
              "      gap: 12px;\n",
              "    }\n",
              "\n",
              "    .colab-df-convert {\n",
              "      background-color: #E8F0FE;\n",
              "      border: none;\n",
              "      border-radius: 50%;\n",
              "      cursor: pointer;\n",
              "      display: none;\n",
              "      fill: #1967D2;\n",
              "      height: 32px;\n",
              "      padding: 0 0 0 0;\n",
              "      width: 32px;\n",
              "    }\n",
              "\n",
              "    .colab-df-convert:hover {\n",
              "      background-color: #E2EBFA;\n",
              "      box-shadow: 0px 1px 2px rgba(60, 64, 67, 0.3), 0px 1px 3px 1px rgba(60, 64, 67, 0.15);\n",
              "      fill: #174EA6;\n",
              "    }\n",
              "\n",
              "    [theme=dark] .colab-df-convert {\n",
              "      background-color: #3B4455;\n",
              "      fill: #D2E3FC;\n",
              "    }\n",
              "\n",
              "    [theme=dark] .colab-df-convert:hover {\n",
              "      background-color: #434B5C;\n",
              "      box-shadow: 0px 1px 3px 1px rgba(0, 0, 0, 0.15);\n",
              "      filter: drop-shadow(0px 1px 2px rgba(0, 0, 0, 0.3));\n",
              "      fill: #FFFFFF;\n",
              "    }\n",
              "  </style>\n",
              "\n",
              "      <script>\n",
              "        const buttonEl =\n",
              "          document.querySelector('#df-1d9cf629-0340-4799-b3fd-2f61d86cf4ea button.colab-df-convert');\n",
              "        buttonEl.style.display =\n",
              "          google.colab.kernel.accessAllowed ? 'block' : 'none';\n",
              "\n",
              "        async function convertToInteractive(key) {\n",
              "          const element = document.querySelector('#df-1d9cf629-0340-4799-b3fd-2f61d86cf4ea');\n",
              "          const dataTable =\n",
              "            await google.colab.kernel.invokeFunction('convertToInteractive',\n",
              "                                                     [key], {});\n",
              "          if (!dataTable) return;\n",
              "\n",
              "          const docLinkHtml = 'Like what you see? Visit the ' +\n",
              "            '<a target=\"_blank\" href=https://colab.research.google.com/notebooks/data_table.ipynb>data table notebook</a>'\n",
              "            + ' to learn more about interactive tables.';\n",
              "          element.innerHTML = '';\n",
              "          dataTable['output_type'] = 'display_data';\n",
              "          await google.colab.output.renderOutput(dataTable, element);\n",
              "          const docLink = document.createElement('div');\n",
              "          docLink.innerHTML = docLinkHtml;\n",
              "          element.appendChild(docLink);\n",
              "        }\n",
              "      </script>\n",
              "    </div>\n",
              "  </div>\n"
            ]
          },
          "metadata": {},
          "execution_count": 12
        }
      ]
    },
    {
      "cell_type": "markdown",
      "source": [
        "# **f. Triangulo de correlación y mapa de calor - Heatmap**\n",
        "+ **La evidencia de una fuerte correlacion entre las variables es un indicio de que hay que usar el métodos de componentes principales**"
      ],
      "metadata": {
        "id": "tGwOzmg57HSJ"
      }
    },
    {
      "cell_type": "code",
      "source": [
        "# **f. Triangulo de correlación y mapa de calor - Heatmap**\n",
        "plt.figure(figsize=(20,10))\n",
        "# define the mask to set the values in the upper triangle to True\n",
        "mask = np.triu(np.ones_like(datos.corr(), dtype=np.bool))\n",
        "heatmap = sns.heatmap(datos.corr(), mask=mask, vmin=-1, vmax=1, annot=True, cmap='seismic')\n",
        "heatmap.set_title('Triangle Correlation Heatmap', fontdict={'fontsize':18}, pad=16);\n",
        "plt.show()"
      ],
      "metadata": {
        "colab": {
          "base_uri": "https://localhost:8080/",
          "height": 782
        },
        "id": "yTPkYYhR7KoJ",
        "outputId": "fe90febe-e81e-4cb2-f676-ad8a8efd0226"
      },
      "execution_count": null,
      "outputs": [
        {
          "output_type": "stream",
          "name": "stderr",
          "text": [
            "<ipython-input-36-f64e4c6237c7>:4: DeprecationWarning: `np.bool` is a deprecated alias for the builtin `bool`. To silence this warning, use `bool` by itself. Doing this will not modify any behavior and is safe. If you specifically wanted the numpy scalar type, use `np.bool_` here.\n",
            "Deprecated in NumPy 1.20; for more details and guidance: https://numpy.org/devdocs/release/1.20.0-notes.html#deprecations\n",
            "  mask = np.triu(np.ones_like(datos.corr(), dtype=np.bool))\n"
          ]
        },
        {
          "output_type": "display_data",
          "data": {
            "text/plain": [
              "<Figure size 2000x1000 with 2 Axes>"
            ],
            "image/png": "[encoded data removed]"
          },
          "metadata": {}
        }
      ]
    },
    {
      "cell_type": "markdown",
      "source": [
        "# **g. Matriz de Covarianza**"
      ],
      "metadata": {
        "id": "y9q4Plq_7pfj"
      }
    },
    {
      "cell_type": "code",
      "source": [
        "datos.cov()"
      ],
      "metadata": {
        "colab": {
          "base_uri": "https://localhost:8080/",
          "height": 269
        },
        "id": "pxQ8QpHq7KtA",
        "outputId": "c58d15dc-10c3-456c-fdf9-000d70ed512b"
      },
      "execution_count": null,
      "outputs": [
        {
          "output_type": "execute_result",
          "data": {
            "text/plain": [
              "            DEFINITIVA       EDAD        PESO    ESTATURA  SATISFACC  \\\n",
              "DEFINITIVA   74.646143  -3.677342  -15.952755    0.899036   0.468251   \n",
              "EDAD         -3.677342   2.732507    4.766185   -1.771419  -0.058264   \n",
              "PESO        -15.952755   4.766185  167.333747   69.649311   0.620179   \n",
              "ESTATURA      0.899036  -1.771419   69.649311  153.012259  -0.347521   \n",
              "SATISFACC     0.468251  -0.058264    0.620179   -0.347521   0.400689   \n",
              "SABER 11     52.947934 -22.789945   -7.287190  158.428650  -4.941116   \n",
              "PROMEDIO    377.225895 -63.768802   43.149449   69.214807   6.653650   \n",
              "\n",
              "               SABER 11      PROMEDIO  \n",
              "DEFINITIVA    52.947934    377.225895  \n",
              "EDAD         -22.789945    -63.768802  \n",
              "PESO          -7.287190     43.149449  \n",
              "ESTATURA     158.428650     69.214807  \n",
              "SATISFACC     -4.941116      6.653650  \n",
              "SABER 11    1854.097107   1435.491253  \n",
              "PROMEDIO    1435.491253  34269.278512  "
            ],
            "text/html": [
              "\n",
              "\n",
              "  <div id=\"df-4cb9ef4d-63e5-48d8-8d02-af6556ce7655\">\n",
              "    <div class=\"colab-df-container\">\n",
              "      <div>\n",
              "<style scoped>\n",
              "    .dataframe tbody tr th:only-of-type {\n",
              "        vertical-align: middle;\n",
              "    }\n",
              "\n",
              "    .dataframe tbody tr th {\n",
              "        vertical-align: top;\n",
              "    }\n",
              "\n",
              "    .dataframe thead th {\n",
              "        text-align: right;\n",
              "    }\n",
              "</style>\n",
              "<table border=\"1\" class=\"dataframe\">\n",
              "  <thead>\n",
              "    <tr style=\"text-align: right;\">\n",
              "      <th></th>\n",
              "      <th>DEFINITIVA</th>\n",
              "      <th>EDAD</th>\n",
              "      <th>PESO</th>\n",
              "      <th>ESTATURA</th>\n",
              "      <th>SATISFACC</th>\n",
              "      <th>SABER 11</th>\n",
              "      <th>PROMEDIO</th>\n",
              "    </tr>\n",
              "  </thead>\n",
              "  <tbody>\n",
              "    <tr>\n",
              "      <th>DEFINITIVA</th>\n",
              "      <td>74.646143</td>\n",
              "      <td>-3.677342</td>\n",
              "      <td>-15.952755</td>\n",
              "      <td>0.899036</td>\n",
              "      <td>0.468251</td>\n",
              "      <td>52.947934</td>\n",
              "      <td>377.225895</td>\n",
              "    </tr>\n",
              "    <tr>\n",
              "      <th>EDAD</th>\n",
              "      <td>-3.677342</td>\n",
              "      <td>2.732507</td>\n",
              "      <td>4.766185</td>\n",
              "      <td>-1.771419</td>\n",
              "      <td>-0.058264</td>\n",
              "      <td>-22.789945</td>\n",
              "      <td>-63.768802</td>\n",
              "    </tr>\n",
              "    <tr>\n",
              "      <th>PESO</th>\n",
              "      <td>-15.952755</td>\n",
              "      <td>4.766185</td>\n",
              "      <td>167.333747</td>\n",
              "      <td>69.649311</td>\n",
              "      <td>0.620179</td>\n",
              "      <td>-7.287190</td>\n",
              "      <td>43.149449</td>\n",
              "    </tr>\n",
              "    <tr>\n",
              "      <th>ESTATURA</th>\n",
              "      <td>0.899036</td>\n",
              "      <td>-1.771419</td>\n",
              "      <td>69.649311</td>\n",
              "      <td>153.012259</td>\n",
              "      <td>-0.347521</td>\n",
              "      <td>158.428650</td>\n",
              "      <td>69.214807</td>\n",
              "    </tr>\n",
              "    <tr>\n",
              "      <th>SATISFACC</th>\n",
              "      <td>0.468251</td>\n",
              "      <td>-0.058264</td>\n",
              "      <td>0.620179</td>\n",
              "      <td>-0.347521</td>\n",
              "      <td>0.400689</td>\n",
              "      <td>-4.941116</td>\n",
              "      <td>6.653650</td>\n",
              "    </tr>\n",
              "    <tr>\n",
              "      <th>SABER 11</th>\n",
              "      <td>52.947934</td>\n",
              "      <td>-22.789945</td>\n",
              "      <td>-7.287190</td>\n",
              "      <td>158.428650</td>\n",
              "      <td>-4.941116</td>\n",
              "      <td>1854.097107</td>\n",
              "      <td>1435.491253</td>\n",
              "    </tr>\n",
              "    <tr>\n",
              "      <th>PROMEDIO</th>\n",
              "      <td>377.225895</td>\n",
              "      <td>-63.768802</td>\n",
              "      <td>43.149449</td>\n",
              "      <td>69.214807</td>\n",
              "      <td>6.653650</td>\n",
              "      <td>1435.491253</td>\n",
              "      <td>34269.278512</td>\n",
              "    </tr>\n",
              "  </tbody>\n",
              "</table>\n",
              "</div>\n",
              "      <button class=\"colab-df-convert\" onclick=\"convertToInteractive('df-4cb9ef4d-63e5-48d8-8d02-af6556ce7655')\"\n",
              "              title=\"Convert this dataframe to an interactive table.\"\n",
              "              style=\"display:none;\">\n",
              "\n",
              "  <svg xmlns=\"http://www.w3.org/2000/svg\" height=\"24px\"viewBox=\"0 0 24 24\"\n",
              "       width=\"24px\">\n",
              "    <path d=\"M0 0h24v24H0V0z\" fill=\"none\"/>\n",
              "    <path d=\"M18.56 5.44l.94 2.06.94-2.06 2.06-.94-2.06-.94-.94-2.06-.94 2.06-2.06.94zm-11 1L8.5 8.5l.94-2.06 2.06-.94-2.06-.94L8.5 2.5l-.94 2.06-2.06.94zm10 10l.94 2.06.94-2.06 2.06-.94-2.06-.94-.94-2.06-.94 2.06-2.06.94z\"/><path d=\"M17.41 7.96l-1.37-1.37c-.4-.4-.92-.59-1.43-.59-.52 0-1.04.2-1.43.59L10.3 9.45l-7.72 7.72c-.78.78-.78 2.05 0 2.83L4 21.41c.39.39.9.59 1.41.59.51 0 1.02-.2 1.41-.59l7.78-7.78 2.81-2.81c.8-.78.8-2.07 0-2.86zM5.41 20L4 18.59l7.72-7.72 1.47 1.35L5.41 20z\"/>\n",
              "  </svg>\n",
              "      </button>\n",
              "\n",
              "\n",
              "\n",
              "    <div id=\"df-f164aff9-c9b9-44f3-a3a9-a6cb3781fb10\">\n",
              "      <button class=\"colab-df-quickchart\" onclick=\"quickchart('df-f164aff9-c9b9-44f3-a3a9-a6cb3781fb10')\"\n",
              "              title=\"Suggest charts.\"\n",
              "              style=\"display:none;\">\n",
              "\n",
              "<svg xmlns=\"http://www.w3.org/2000/svg\" height=\"24px\"viewBox=\"0 0 24 24\"\n",
              "     width=\"24px\">\n",
              "    <g>\n",
              "        <path d=\"M19 3H5c-1.1 0-2 .9-2 2v14c0 1.1.9 2 2 2h14c1.1 0 2-.9 2-2V5c0-1.1-.9-2-2-2zM9 17H7v-7h2v7zm4 0h-2V7h2v10zm4 0h-2v-4h2v4z\"/>\n",
              "    </g>\n",
              "</svg>\n",
              "      </button>\n",
              "    </div>\n",
              "\n",
              "<style>\n",
              "  .colab-df-quickchart {\n",
              "    background-color: #E8F0FE;\n",
              "    border: none;\n",
              "    border-radius: 50%;\n",
              "    cursor: pointer;\n",
              "    display: none;\n",
              "    fill: #1967D2;\n",
              "    height: 32px;\n",
              "    padding: 0 0 0 0;\n",
              "    width: 32px;\n",
              "  }\n",
              "\n",
              "  .colab-df-quickchart:hover {\n",
              "    background-color: #E2EBFA;\n",
              "    box-shadow: 0px 1px 2px rgba(60, 64, 67, 0.3), 0px 1px 3px 1px rgba(60, 64, 67, 0.15);\n",
              "    fill: #174EA6;\n",
              "  }\n",
              "\n",
              "  [theme=dark] .colab-df-quickchart {\n",
              "    background-color: #3B4455;\n",
              "    fill: #D2E3FC;\n",
              "  }\n",
              "\n",
              "  [theme=dark] .colab-df-quickchart:hover {\n",
              "    background-color: #434B5C;\n",
              "    box-shadow: 0px 1px 3px 1px rgba(0, 0, 0, 0.15);\n",
              "    filter: drop-shadow(0px 1px 2px rgba(0, 0, 0, 0.3));\n",
              "    fill: #FFFFFF;\n",
              "  }\n",
              "</style>\n",
              "\n",
              "    <script>\n",
              "      async function quickchart(key) {\n",
              "        const containerElement = document.querySelector('#' + key);\n",
              "        const charts = await google.colab.kernel.invokeFunction(\n",
              "            'suggestCharts', [key], {});\n",
              "      }\n",
              "    </script>\n",
              "\n",
              "      <script>\n",
              "\n",
              "function displayQuickchartButton(domScope) {\n",
              "  let quickchartButtonEl =\n",
              "    domScope.querySelector('#df-f164aff9-c9b9-44f3-a3a9-a6cb3781fb10 button.colab-df-quickchart');\n",
              "  quickchartButtonEl.style.display =\n",
              "    google.colab.kernel.accessAllowed ? 'block' : 'none';\n",
              "}\n",
              "\n",
              "        displayQuickchartButton(document);\n",
              "      </script>\n",
              "      <style>\n",
              "    .colab-df-container {\n",
              "      display:flex;\n",
              "      flex-wrap:wrap;\n",
              "      gap: 12px;\n",
              "    }\n",
              "\n",
              "    .colab-df-convert {\n",
              "      background-color: #E8F0FE;\n",
              "      border: none;\n",
              "      border-radius: 50%;\n",
              "      cursor: pointer;\n",
              "      display: none;\n",
              "      fill: #1967D2;\n",
              "      height: 32px;\n",
              "      padding: 0 0 0 0;\n",
              "      width: 32px;\n",
              "    }\n",
              "\n",
              "    .colab-df-convert:hover {\n",
              "      background-color: #E2EBFA;\n",
              "      box-shadow: 0px 1px 2px rgba(60, 64, 67, 0.3), 0px 1px 3px 1px rgba(60, 64, 67, 0.15);\n",
              "      fill: #174EA6;\n",
              "    }\n",
              "\n",
              "    [theme=dark] .colab-df-convert {\n",
              "      background-color: #3B4455;\n",
              "      fill: #D2E3FC;\n",
              "    }\n",
              "\n",
              "    [theme=dark] .colab-df-convert:hover {\n",
              "      background-color: #434B5C;\n",
              "      box-shadow: 0px 1px 3px 1px rgba(0, 0, 0, 0.15);\n",
              "      filter: drop-shadow(0px 1px 2px rgba(0, 0, 0, 0.3));\n",
              "      fill: #FFFFFF;\n",
              "    }\n",
              "  </style>\n",
              "\n",
              "      <script>\n",
              "        const buttonEl =\n",
              "          document.querySelector('#df-4cb9ef4d-63e5-48d8-8d02-af6556ce7655 button.colab-df-convert');\n",
              "        buttonEl.style.display =\n",
              "          google.colab.kernel.accessAllowed ? 'block' : 'none';\n",
              "\n",
              "        async function convertToInteractive(key) {\n",
              "          const element = document.querySelector('#df-4cb9ef4d-63e5-48d8-8d02-af6556ce7655');\n",
              "          const dataTable =\n",
              "            await google.colab.kernel.invokeFunction('convertToInteractive',\n",
              "                                                     [key], {});\n",
              "          if (!dataTable) return;\n",
              "\n",
              "          const docLinkHtml = 'Like what you see? Visit the ' +\n",
              "            '<a target=\"_blank\" href=https://colab.research.google.com/notebooks/data_table.ipynb>data table notebook</a>'\n",
              "            + ' to learn more about interactive tables.';\n",
              "          element.innerHTML = '';\n",
              "          dataTable['output_type'] = 'display_data';\n",
              "          await google.colab.output.renderOutput(dataTable, element);\n",
              "          const docLink = document.createElement('div');\n",
              "          docLink.innerHTML = docLinkHtml;\n",
              "          element.appendChild(docLink);\n",
              "        }\n",
              "      </script>\n",
              "    </div>\n",
              "  </div>\n"
            ]
          },
          "metadata": {},
          "execution_count": 37
        }
      ]
    },
    {
      "cell_type": "markdown",
      "source": [
        "# **j. Valores propios y vectores propios**"
      ],
      "metadata": {
        "id": "iZVYp8WT7yve"
      }
    },
    {
      "cell_type": "code",
      "source": [
        "from numpy.linalg import eig\n",
        "valores, vectores = eig(datos.cov())\n",
        "print(pd.DataFrame({'valores_propios':valores}))\n",
        "\n",
        "print({'vectores_propios':vectores})"
      ],
      "metadata": {
        "colab": {
          "base_uri": "https://localhost:8080/"
        },
        "id": "VS64s6T27KwZ",
        "outputId": "4758e477-a099-46bd-fad5-84d7bcfcac7d"
      },
      "execution_count": null,
      "outputs": [
        {
          "output_type": "stream",
          "name": "stdout",
          "text": [
            "   valores_propios\n",
            "0     34337.267587\n",
            "1      1806.225882\n",
            "2       225.845353\n",
            "3        84.929067\n",
            "4        64.700765\n",
            "5         2.161481\n",
            "6         0.370830\n",
            "{'vectores_propios': array([[-1.10663069e-02, -2.08146635e-02,  9.48364386e-02,\n",
            "        -4.22323784e-01,  9.00599525e-01, -3.11529556e-02,\n",
            "        -6.55338342e-03],\n",
            "       [ 1.88579143e-03,  1.11332207e-02, -1.84459498e-02,\n",
            "         4.20559861e-02, -1.21103719e-02, -9.97027970e-01,\n",
            "         5.95995224e-02],\n",
            "       [-1.25117232e-03,  1.85890573e-03, -7.75236889e-01,\n",
            "         5.35271236e-01,  3.33743482e-01,  3.24694841e-02,\n",
            "        -6.96205374e-03],\n",
            "       [-2.23031651e-03, -9.33750021e-02, -6.21832671e-01,\n",
            "        -7.26069295e-01, -2.77740424e-01, -1.66354530e-02,\n",
            "         2.67593907e-03],\n",
            "       [-1.87370864e-04,  2.89731153e-03, -2.20485059e-03,\n",
            "         1.25399053e-04,  9.68161182e-03,  5.96280952e-02,\n",
            "         9.98167045e-01],\n",
            "       [-4.41757016e-02, -9.94353105e-01,  5.46948062e-02,\n",
            "         7.85938670e-02,  7.29343710e-03, -8.76646247e-03,\n",
            "         3.44183571e-03],\n",
            "       [-9.98957413e-01,  4.44292910e-02, -1.14439719e-03,\n",
            "         2.23288648e-03, -1.01218296e-02, -1.16408282e-03,\n",
            "        -1.51574400e-04]])}\n"
          ]
        }
      ]
    },
    {
      "cell_type": "markdown",
      "source": [
        "# **219. Parte II: Ejemplo 1.  Aplicando el Análisis de Componentes Princiapales (PCA) - Análisis Exploratorio de Datos**"
      ],
      "metadata": {
        "id": "Gsucwtej9lqH"
      }
    },
    {
      "cell_type": "markdown",
      "source": [
        "# **a. Reorganicemos los datos**"
      ],
      "metadata": {
        "id": "5bAnjk-CSStw"
      }
    },
    {
      "cell_type": "code",
      "source": [
        "datos.columns"
      ],
      "metadata": {
        "colab": {
          "base_uri": "https://localhost:8080/"
        },
        "id": "D2fWP1eO_DC0",
        "outputId": "c0f4e509-a2e7-4eeb-df5e-0a5b96648afc"
      },
      "execution_count": null,
      "outputs": [
        {
          "output_type": "execute_result",
          "data": {
            "text/plain": [
              "Index(['CURSO', 'DEFINITIVA', 'PROGRAMA', 'EDAD', 'URBANO', 'PESO', 'ESTATURA',\n",
              "       'SATISFACC', 'SABER 11', 'PROMEDIO', 'SEXO', 'ESTRATO', 'Herramientas'],\n",
              "      dtype='object')"
            ]
          },
          "metadata": {},
          "execution_count": 48
        }
      ]
    },
    {
      "cell_type": "code",
      "source": [
        "X = datos.loc[:, [\"DEFINITIVA\", \"EDAD\", \"PESO\", \"ESTATURA\", 'SATISFACC', 'PROMEDIO','SABER 11']]\n",
        "Y1 = datos.loc[:, [\"CURSO\"]]\n",
        "Y2 = datos.loc[:, [\"PROGRAMA\"]]\n",
        "Y3 = datos.loc[:, [\"URBANO\"]]\n",
        "Y4 = datos.loc[:, [\"SEXO\"]]\n",
        "Y5 = datos.loc[:, [\"ESTRATO\"]]"
      ],
      "metadata": {
        "id": "wzUCkrWi-_IL"
      },
      "execution_count": null,
      "outputs": []
    },
    {
      "cell_type": "markdown",
      "source": [
        "# **b. Estandarizamos o escalamos las variables para datos_test**"
      ],
      "metadata": {
        "id": "nrRB454OSefM"
      }
    },
    {
      "cell_type": "code",
      "source": [
        "# **b. Estandarizamos o escalamos las variables para datos_test**\n",
        "\n",
        "from sklearn.preprocessing import StandardScaler # Nuestra libreria para el PCA\n",
        "std = StandardScaler() # Objeto de la clase StandarScaler tomara por defecto with_mean =0(True) y with_std =1(True)\n",
        "X_std = std.fit_transform(X) # hace lo solicitado a la base de datos\n",
        "X_std"
      ],
      "metadata": {
        "id": "vjSZe4bxLgim"
      },
      "execution_count": null,
      "outputs": []
    },
    {
      "cell_type": "markdown",
      "source": [
        "# **c. Usamos la libreria donde esta la componente principal**"
      ],
      "metadata": {
        "id": "OY--RM0fSk41"
      }
    },
    {
      "cell_type": "code",
      "source": [
        "# **c. Usamos la libreria donde esta la componente principal**\n",
        "from sklearn.decomposition import PCA\n",
        "\n",
        "# Creamos un gráfico para que nos diga cuantas componentes queremos\n",
        "\n",
        "PCA = PCA() # n_components = 2\n",
        "\n",
        "# Obtenemos los componentes principales\n",
        "\n",
        "X_std_pca = PCA.fit(X_std) # hace lo solicitado a la base de datos\n",
        "\n",
        "# veamos lo que hizo\n",
        "X_std_pca"
      ],
      "metadata": {
        "colab": {
          "base_uri": "https://localhost:8080/",
          "height": 75
        },
        "id": "0Tm93MZq_muJ",
        "outputId": "54c7eebf-339b-49b7-9424-5c52a0e4a7dd"
      },
      "execution_count": null,
      "outputs": [
        {
          "output_type": "execute_result",
          "data": {
            "text/plain": [
              "PCA()"
            ],
            "text/html": [
              "<style>#sk-container-id-3 {color: black;background-color: white;}#sk-container-id-3 pre{padding: 0;}#sk-container-id-3 div.sk-toggleable {background-color: white;}#sk-container-id-3 label.sk-toggleable__label {cursor: pointer;display: block;width: 100%;margin-bottom: 0;padding: 0.3em;box-sizing: border-box;text-align: center;}#sk-container-id-3 label.sk-toggleable__label-arrow:before {content: \"▸\";float: left;margin-right: 0.25em;color: #696969;}#sk-container-id-3 label.sk-toggleable__label-arrow:hover:before {color: black;}#sk-container-id-3 div.sk-estimator:hover label.sk-toggleable__label-arrow:before {color: black;}#sk-container-id-3 div.sk-toggleable__content {max-height: 0;max-width: 0;overflow: hidden;text-align: left;background-color: #f0f8ff;}#sk-container-id-3 div.sk-toggleable__content pre {margin: 0.2em;color: black;border-radius: 0.25em;background-color: #f0f8ff;}#sk-container-id-3 input.sk-toggleable__control:checked~div.sk-toggleable__content {max-height: 200px;max-width: 100%;overflow: auto;}#sk-container-id-3 input.sk-toggleable__control:checked~label.sk-toggleable__label-arrow:before {content: \"▾\";}#sk-container-id-3 div.sk-estimator input.sk-toggleable__control:checked~label.sk-toggleable__label {background-color: #d4ebff;}#sk-container-id-3 div.sk-label input.sk-toggleable__control:checked~label.sk-toggleable__label {background-color: #d4ebff;}#sk-container-id-3 input.sk-hidden--visually {border: 0;clip: rect(1px 1px 1px 1px);clip: rect(1px, 1px, 1px, 1px);height: 1px;margin: -1px;overflow: hidden;padding: 0;position: absolute;width: 1px;}#sk-container-id-3 div.sk-estimator {font-family: monospace;background-color: #f0f8ff;border: 1px dotted black;border-radius: 0.25em;box-sizing: border-box;margin-bottom: 0.5em;}#sk-container-id-3 div.sk-estimator:hover {background-color: #d4ebff;}#sk-container-id-3 div.sk-parallel-item::after {content: \"\";width: 100%;border-bottom: 1px solid gray;flex-grow: 1;}#sk-container-id-3 div.sk-label:hover label.sk-toggleable__label {background-color: #d4ebff;}#sk-container-id-3 div.sk-serial::before {content: \"\";position: absolute;border-left: 1px solid gray;box-sizing: border-box;top: 0;bottom: 0;left: 50%;z-index: 0;}#sk-container-id-3 div.sk-serial {display: flex;flex-direction: column;align-items: center;background-color: white;padding-right: 0.2em;padding-left: 0.2em;position: relative;}#sk-container-id-3 div.sk-item {position: relative;z-index: 1;}#sk-container-id-3 div.sk-parallel {display: flex;align-items: stretch;justify-content: center;background-color: white;position: relative;}#sk-container-id-3 div.sk-item::before, #sk-container-id-3 div.sk-parallel-item::before {content: \"\";position: absolute;border-left: 1px solid gray;box-sizing: border-box;top: 0;bottom: 0;left: 50%;z-index: -1;}#sk-container-id-3 div.sk-parallel-item {display: flex;flex-direction: column;z-index: 1;position: relative;background-color: white;}#sk-container-id-3 div.sk-parallel-item:first-child::after {align-self: flex-end;width: 50%;}#sk-container-id-3 div.sk-parallel-item:last-child::after {align-self: flex-start;width: 50%;}#sk-container-id-3 div.sk-parallel-item:only-child::after {width: 0;}#sk-container-id-3 div.sk-dashed-wrapped {border: 1px dashed gray;margin: 0 0.4em 0.5em 0.4em;box-sizing: border-box;padding-bottom: 0.4em;background-color: white;}#sk-container-id-3 div.sk-label label {font-family: monospace;font-weight: bold;display: inline-block;line-height: 1.2em;}#sk-container-id-3 div.sk-label-container {text-align: center;}#sk-container-id-3 div.sk-container {/* jupyter's `normalize.less` sets `[hidden] { display: none; }` but bootstrap.min.css set `[hidden] { display: none !important; }` so we also need the `!important` here to be able to override the default hidden behavior on the sphinx rendered scikit-learn.org. See: https://github.com/scikit-learn/scikit-learn/issues/21755 */display: inline-block !important;position: relative;}#sk-container-id-3 div.sk-text-repr-fallback {display: none;}</style><div id=\"sk-container-id-3\" class=\"sk-top-container\"><div class=\"sk-text-repr-fallback\"><pre>PCA()</pre><b>In a Jupyter environment, please rerun this cell to show the HTML representation or trust the notebook. <br />On GitHub, the HTML representation is unable to render, please try loading this page with nbviewer.org.</b></div><div class=\"sk-container\" hidden><div class=\"sk-item\"><div class=\"sk-estimator sk-toggleable\"><input class=\"sk-toggleable__control sk-hidden--visually\" id=\"sk-estimator-id-3\" type=\"checkbox\" checked><label for=\"sk-estimator-id-3\" class=\"sk-toggleable__label sk-toggleable__label-arrow\">PCA</label><div class=\"sk-toggleable__content\"><pre>PCA()</pre></div></div></div></div></div>"
            ]
          },
          "metadata": {},
          "execution_count": 99
        }
      ]
    },
    {
      "cell_type": "markdown",
      "source": [
        "# **d. Cuanta varianza corresponde a cada componente**"
      ],
      "metadata": {
        "id": "Oyx9hOEqSrsh"
      }
    },
    {
      "cell_type": "code",
      "source": [
        "# **d. Cuanta varianza corresponde a cada componente**\n",
        "X_std_pca.explained_variance_ratio_.shape # nos muestra la misma cantidad de variables"
      ],
      "metadata": {
        "colab": {
          "base_uri": "https://localhost:8080/"
        },
        "id": "dfZDSbdY72u_",
        "outputId": "9c2bcbd3-695d-42ed-8005-321132db0119"
      },
      "execution_count": null,
      "outputs": [
        {
          "output_type": "execute_result",
          "data": {
            "text/plain": [
              "(7,)"
            ]
          },
          "metadata": {},
          "execution_count": 100
        }
      ]
    },
    {
      "cell_type": "code",
      "source": [
        "# **d. Cuanta varianza corresponde a cada componente**\n",
        "print(X_std_pca.explained_variance_ratio_) # nos muestra la misma cantidad de variables"
      ],
      "metadata": {
        "colab": {
          "base_uri": "https://localhost:8080/"
        },
        "id": "6vMLtiye72y1",
        "outputId": "bf533f09-a832-47e1-adf2-5b2307edf35d"
      },
      "execution_count": null,
      "outputs": [
        {
          "output_type": "stream",
          "name": "stdout",
          "text": [
            "[0.24984368 0.21708883 0.16514954 0.12031823 0.10607946 0.07963838\n",
            " 0.06188188]\n"
          ]
        }
      ]
    },
    {
      "cell_type": "code",
      "source": [
        "# **d. Varianza y varianza acumulada por las nuevas componentes principales**\n",
        "var_exp = pd.DataFrame({'Varianza':X_std_pca.explained_variance_ratio_, 'Varianza_acumulada':np.cumsum(X_std_pca.explained_variance_ratio_)})\n",
        "var_exp"
      ],
      "metadata": {
        "colab": {
          "base_uri": "https://localhost:8080/",
          "height": 269
        },
        "id": "Np3vk6RC722X",
        "outputId": "145cf5ee-0843-4983-9808-612b4dba2ca1"
      },
      "execution_count": null,
      "outputs": [
        {
          "output_type": "execute_result",
          "data": {
            "text/plain": [
              "   Varianza  Varianza_acumulada\n",
              "0  0.249844            0.249844\n",
              "1  0.217089            0.466933\n",
              "2  0.165150            0.632082\n",
              "3  0.120318            0.752400\n",
              "4  0.106079            0.858480\n",
              "5  0.079638            0.938118\n",
              "6  0.061882            1.000000"
            ],
            "text/html": [
              "\n",
              "\n",
              "  <div id=\"df-c9b1bb91-dbb6-40e5-b757-adb288bb97ac\">\n",
              "    <div class=\"colab-df-container\">\n",
              "      <div>\n",
              "<style scoped>\n",
              "    .dataframe tbody tr th:only-of-type {\n",
              "        vertical-align: middle;\n",
              "    }\n",
              "\n",
              "    .dataframe tbody tr th {\n",
              "        vertical-align: top;\n",
              "    }\n",
              "\n",
              "    .dataframe thead th {\n",
              "        text-align: right;\n",
              "    }\n",
              "</style>\n",
              "<table border=\"1\" class=\"dataframe\">\n",
              "  <thead>\n",
              "    <tr style=\"text-align: right;\">\n",
              "      <th></th>\n",
              "      <th>Varianza</th>\n",
              "      <th>Varianza_acumulada</th>\n",
              "    </tr>\n",
              "  </thead>\n",
              "  <tbody>\n",
              "    <tr>\n",
              "      <th>0</th>\n",
              "      <td>0.249844</td>\n",
              "      <td>0.249844</td>\n",
              "    </tr>\n",
              "    <tr>\n",
              "      <th>1</th>\n",
              "      <td>0.217089</td>\n",
              "      <td>0.466933</td>\n",
              "    </tr>\n",
              "    <tr>\n",
              "      <th>2</th>\n",
              "      <td>0.165150</td>\n",
              "      <td>0.632082</td>\n",
              "    </tr>\n",
              "    <tr>\n",
              "      <th>3</th>\n",
              "      <td>0.120318</td>\n",
              "      <td>0.752400</td>\n",
              "    </tr>\n",
              "    <tr>\n",
              "      <th>4</th>\n",
              "      <td>0.106079</td>\n",
              "      <td>0.858480</td>\n",
              "    </tr>\n",
              "    <tr>\n",
              "      <th>5</th>\n",
              "      <td>0.079638</td>\n",
              "      <td>0.938118</td>\n",
              "    </tr>\n",
              "    <tr>\n",
              "      <th>6</th>\n",
              "      <td>0.061882</td>\n",
              "      <td>1.000000</td>\n",
              "    </tr>\n",
              "  </tbody>\n",
              "</table>\n",
              "</div>\n",
              "      <button class=\"colab-df-convert\" onclick=\"convertToInteractive('df-c9b1bb91-dbb6-40e5-b757-adb288bb97ac')\"\n",
              "              title=\"Convert this dataframe to an interactive table.\"\n",
              "              style=\"display:none;\">\n",
              "\n",
              "  <svg xmlns=\"http://www.w3.org/2000/svg\" height=\"24px\"viewBox=\"0 0 24 24\"\n",
              "       width=\"24px\">\n",
              "    <path d=\"M0 0h24v24H0V0z\" fill=\"none\"/>\n",
              "    <path d=\"M18.56 5.44l.94 2.06.94-2.06 2.06-.94-2.06-.94-.94-2.06-.94 2.06-2.06.94zm-11 1L8.5 8.5l.94-2.06 2.06-.94-2.06-.94L8.5 2.5l-.94 2.06-2.06.94zm10 10l.94 2.06.94-2.06 2.06-.94-2.06-.94-.94-2.06-.94 2.06-2.06.94z\"/><path d=\"M17.41 7.96l-1.37-1.37c-.4-.4-.92-.59-1.43-.59-.52 0-1.04.2-1.43.59L10.3 9.45l-7.72 7.72c-.78.78-.78 2.05 0 2.83L4 21.41c.39.39.9.59 1.41.59.51 0 1.02-.2 1.41-.59l7.78-7.78 2.81-2.81c.8-.78.8-2.07 0-2.86zM5.41 20L4 18.59l7.72-7.72 1.47 1.35L5.41 20z\"/>\n",
              "  </svg>\n",
              "      </button>\n",
              "\n",
              "\n",
              "\n",
              "    <div id=\"df-2aaec5ac-c132-48df-9a03-11d853d1ff9e\">\n",
              "      <button class=\"colab-df-quickchart\" onclick=\"quickchart('df-2aaec5ac-c132-48df-9a03-11d853d1ff9e')\"\n",
              "              title=\"Suggest charts.\"\n",
              "              style=\"display:none;\">\n",
              "\n",
              "<svg xmlns=\"http://www.w3.org/2000/svg\" height=\"24px\"viewBox=\"0 0 24 24\"\n",
              "     width=\"24px\">\n",
              "    <g>\n",
              "        <path d=\"M19 3H5c-1.1 0-2 .9-2 2v14c0 1.1.9 2 2 2h14c1.1 0 2-.9 2-2V5c0-1.1-.9-2-2-2zM9 17H7v-7h2v7zm4 0h-2V7h2v10zm4 0h-2v-4h2v4z\"/>\n",
              "    </g>\n",
              "</svg>\n",
              "      </button>\n",
              "    </div>\n",
              "\n",
              "<style>\n",
              "  .colab-df-quickchart {\n",
              "    background-color: #E8F0FE;\n",
              "    border: none;\n",
              "    border-radius: 50%;\n",
              "    cursor: pointer;\n",
              "    display: none;\n",
              "    fill: #1967D2;\n",
              "    height: 32px;\n",
              "    padding: 0 0 0 0;\n",
              "    width: 32px;\n",
              "  }\n",
              "\n",
              "  .colab-df-quickchart:hover {\n",
              "    background-color: #E2EBFA;\n",
              "    box-shadow: 0px 1px 2px rgba(60, 64, 67, 0.3), 0px 1px 3px 1px rgba(60, 64, 67, 0.15);\n",
              "    fill: #174EA6;\n",
              "  }\n",
              "\n",
              "  [theme=dark] .colab-df-quickchart {\n",
              "    background-color: #3B4455;\n",
              "    fill: #D2E3FC;\n",
              "  }\n",
              "\n",
              "  [theme=dark] .colab-df-quickchart:hover {\n",
              "    background-color: #434B5C;\n",
              "    box-shadow: 0px 1px 3px 1px rgba(0, 0, 0, 0.15);\n",
              "    filter: drop-shadow(0px 1px 2px rgba(0, 0, 0, 0.3));\n",
              "    fill: #FFFFFF;\n",
              "  }\n",
              "</style>\n",
              "\n",
              "    <script>\n",
              "      async function quickchart(key) {\n",
              "        const containerElement = document.querySelector('#' + key);\n",
              "        const charts = await google.colab.kernel.invokeFunction(\n",
              "            'suggestCharts', [key], {});\n",
              "      }\n",
              "    </script>\n",
              "\n",
              "      <script>\n",
              "\n",
              "function displayQuickchartButton(domScope) {\n",
              "  let quickchartButtonEl =\n",
              "    domScope.querySelector('#df-2aaec5ac-c132-48df-9a03-11d853d1ff9e button.colab-df-quickchart');\n",
              "  quickchartButtonEl.style.display =\n",
              "    google.colab.kernel.accessAllowed ? 'block' : 'none';\n",
              "}\n",
              "\n",
              "        displayQuickchartButton(document);\n",
              "      </script>\n",
              "      <style>\n",
              "    .colab-df-container {\n",
              "      display:flex;\n",
              "      flex-wrap:wrap;\n",
              "      gap: 12px;\n",
              "    }\n",
              "\n",
              "    .colab-df-convert {\n",
              "      background-color: #E8F0FE;\n",
              "      border: none;\n",
              "      border-radius: 50%;\n",
              "      cursor: pointer;\n",
              "      display: none;\n",
              "      fill: #1967D2;\n",
              "      height: 32px;\n",
              "      padding: 0 0 0 0;\n",
              "      width: 32px;\n",
              "    }\n",
              "\n",
              "    .colab-df-convert:hover {\n",
              "      background-color: #E2EBFA;\n",
              "      box-shadow: 0px 1px 2px rgba(60, 64, 67, 0.3), 0px 1px 3px 1px rgba(60, 64, 67, 0.15);\n",
              "      fill: #174EA6;\n",
              "    }\n",
              "\n",
              "    [theme=dark] .colab-df-convert {\n",
              "      background-color: #3B4455;\n",
              "      fill: #D2E3FC;\n",
              "    }\n",
              "\n",
              "    [theme=dark] .colab-df-convert:hover {\n",
              "      background-color: #434B5C;\n",
              "      box-shadow: 0px 1px 3px 1px rgba(0, 0, 0, 0.15);\n",
              "      filter: drop-shadow(0px 1px 2px rgba(0, 0, 0, 0.3));\n",
              "      fill: #FFFFFF;\n",
              "    }\n",
              "  </style>\n",
              "\n",
              "      <script>\n",
              "        const buttonEl =\n",
              "          document.querySelector('#df-c9b1bb91-dbb6-40e5-b757-adb288bb97ac button.colab-df-convert');\n",
              "        buttonEl.style.display =\n",
              "          google.colab.kernel.accessAllowed ? 'block' : 'none';\n",
              "\n",
              "        async function convertToInteractive(key) {\n",
              "          const element = document.querySelector('#df-c9b1bb91-dbb6-40e5-b757-adb288bb97ac');\n",
              "          const dataTable =\n",
              "            await google.colab.kernel.invokeFunction('convertToInteractive',\n",
              "                                                     [key], {});\n",
              "          if (!dataTable) return;\n",
              "\n",
              "          const docLinkHtml = 'Like what you see? Visit the ' +\n",
              "            '<a target=\"_blank\" href=https://colab.research.google.com/notebooks/data_table.ipynb>data table notebook</a>'\n",
              "            + ' to learn more about interactive tables.';\n",
              "          element.innerHTML = '';\n",
              "          dataTable['output_type'] = 'display_data';\n",
              "          await google.colab.output.renderOutput(dataTable, element);\n",
              "          const docLink = document.createElement('div');\n",
              "          docLink.innerHTML = docLinkHtml;\n",
              "          element.appendChild(docLink);\n",
              "        }\n",
              "      </script>\n",
              "    </div>\n",
              "  </div>\n"
            ]
          },
          "metadata": {},
          "execution_count": 75
        }
      ]
    },
    {
      "cell_type": "code",
      "source": [
        "# **d. Cuanta varianza corresponde a cada componente**\n",
        "var_exp = np.cumsum(X_std_pca.explained_variance_ratio_)# Esta es la varianza explicada\n",
        "plt.plot(var_exp)\n",
        "plt.xlabel('N componentes')\n",
        "plt.ylabel('Acumulado de varianza')\n",
        "plt.show()"
      ],
      "metadata": {
        "colab": {
          "base_uri": "https://localhost:8080/",
          "height": 449
        },
        "id": "y-AQeklx__d4",
        "outputId": "cf1e60b1-f530-4536-f040-fd608b389fcf"
      },
      "execution_count": null,
      "outputs": [
        {
          "output_type": "display_data",
          "data": {
            "text/plain": [
              "<Figure size 640x480 with 1 Axes>"
            ],
            "image/png": "[encoded data removed]"
          },
          "metadata": {}
        }
      ]
    },
    {
      "cell_type": "markdown",
      "source": [
        "# **e. Queremos saber cuantas componentes necesitamos**"
      ],
      "metadata": {
        "id": "HEGBxhGxS1OY"
      }
    },
    {
      "cell_type": "code",
      "source": [
        "# **e. Queremos saber cuantas componentes necesitamos**\n",
        "print('Cuantas componentes me explican mas del 60% de la varianza pero menos del 70%', np.where((var_exp>0.6)&(var_exp<0.7)))\n",
        "print('Cuantas componentes me explican mas del 60% de la varianza pero menos del 80%', np.where((var_exp>0.6)&(var_exp<0.8)))\n",
        "print('Cuantas componentes me explican mas del 60% de la varianza pero menos del 95%', np.where((var_exp>0.6)&(var_exp<0.90)))"
      ],
      "metadata": {
        "colab": {
          "base_uri": "https://localhost:8080/"
        },
        "id": "NyL1pBEE__iQ",
        "outputId": "45cedeb0-cd43-47be-c659-dc8d951ad4fa"
      },
      "execution_count": null,
      "outputs": [
        {
          "output_type": "stream",
          "name": "stdout",
          "text": [
            "Cuantas componentes me explican mas del 60% de la varianza pero menos del 70% (array([2]),)\n",
            "Cuantas componentes me explican mas del 60% de la varianza pero menos del 80% (array([2, 3]),)\n",
            "Cuantas componentes me explican mas del 60% de la varianza pero menos del 95% (array([2, 3, 4]),)\n"
          ]
        }
      ]
    },
    {
      "cell_type": "markdown",
      "source": [
        "# **f. Usamos la libreria donde esta la componente principal**"
      ],
      "metadata": {
        "id": "u93yVjZtTNms"
      }
    },
    {
      "cell_type": "code",
      "source": [
        "# **f. Usamos la libreria donde esta la componente principal**\n",
        "\n",
        "from sklearn.decomposition import PCA\n",
        "\n",
        "# Creamos un gráfico para que nos diga cuantas componentes queremos\n",
        "\n",
        "pca = PCA(n_components = 2) # n_components = 2\n",
        "\n",
        "# Obtenemos los componentes principales\n",
        "\n",
        "X_std_pca2 = pca.fit_transform(X_std) # hace lo solicitado a la base de datos\n",
        "\n",
        "# veamos lo que hizo nos da dos nuevas columnas\n",
        "X_std_pca2"
      ],
      "metadata": {
        "colab": {
          "base_uri": "https://localhost:8080/"
        },
        "id": "jBbOKa4cAjIn",
        "outputId": "2941be49-f00a-46ba-fb29-8613cdbd021f"
      },
      "execution_count": null,
      "outputs": [
        {
          "output_type": "execute_result",
          "data": {
            "text/plain": [
              "array([[-1.54736033,  0.52546408],\n",
              "       [-0.18370993, -0.15934278],\n",
              "       [ 2.44333933, -0.08801665],\n",
              "       [ 2.21956121, -0.47827338],\n",
              "       [ 0.14713054,  0.58138375],\n",
              "       [ 1.79551689, -0.95875273],\n",
              "       [-0.8247584 , -2.23634304],\n",
              "       [ 0.88187837,  1.15787845],\n",
              "       [ 0.06948475,  1.19534873],\n",
              "       [-0.04834265, -1.45759918],\n",
              "       [-2.06404125, -0.41511703],\n",
              "       [-0.83051242, -0.45830346],\n",
              "       [-0.48203241,  0.45405586],\n",
              "       [-1.24313437,  0.39499923],\n",
              "       [ 0.42368157,  1.04590238],\n",
              "       [ 1.13753106, -1.53658393],\n",
              "       [-1.60902319,  0.59087972],\n",
              "       [-0.49486932, -1.12456532],\n",
              "       [-0.00923369, -0.77468359],\n",
              "       [ 0.21174765, -1.57706576],\n",
              "       [ 1.52351373,  0.8338027 ],\n",
              "       [ 0.28783196,  1.22215192],\n",
              "       [-1.96463309, -1.34059224],\n",
              "       [-1.63162629, -0.98893878],\n",
              "       [-1.90961221,  1.59428496],\n",
              "       [-0.07597257, -1.40346157],\n",
              "       [ 1.68262195,  0.24619746],\n",
              "       [ 0.8328054 ,  0.97491015],\n",
              "       [-1.31135264, -1.0804033 ],\n",
              "       [-1.83434485, -1.34326518],\n",
              "       [-1.8077973 ,  1.72991416],\n",
              "       [ 0.42501144,  1.11086852],\n",
              "       [-0.13251797, -0.15723418],\n",
              "       [ 3.68591021,  3.96752849],\n",
              "       [-0.01535837,  0.0668701 ],\n",
              "       [ 0.40653047,  0.61148202],\n",
              "       [-1.8050735 , -2.04611104],\n",
              "       [-1.44205251, -1.03811977],\n",
              "       [-1.55925084, -0.96752502],\n",
              "       [ 2.80780217, -1.78179164],\n",
              "       [-0.33367874,  0.92579042],\n",
              "       [-0.13584911,  0.65514476],\n",
              "       [-1.2023324 , -0.82569176],\n",
              "       [ 0.70961985,  0.67299949],\n",
              "       [-0.54233913,  3.36160827],\n",
              "       [-0.91785685,  1.05826583],\n",
              "       [ 0.25696152,  0.20888616],\n",
              "       [-1.17336501, -1.18842158],\n",
              "       [ 0.81062617, -1.23575958],\n",
              "       [ 0.30159034, -0.05818911],\n",
              "       [-1.98325962,  0.2379985 ],\n",
              "       [ 0.35261415, -1.7377376 ],\n",
              "       [-1.199875  ,  0.4002366 ],\n",
              "       [-1.76412738,  1.22215765],\n",
              "       [ 0.11980047,  1.19214203],\n",
              "       [ 0.90949162, -0.08176267],\n",
              "       [-0.56549187, -0.39018917],\n",
              "       [-0.33547757,  0.24696815],\n",
              "       [-0.67969834, -1.1813202 ],\n",
              "       [-0.77760313, -0.30766032],\n",
              "       [ 1.98298653, -0.92828636],\n",
              "       [-1.9812965 ,  1.49564593],\n",
              "       [-0.11822077,  1.06676201],\n",
              "       [ 0.39792054, -1.74236907],\n",
              "       [-1.4774712 ,  2.51008809],\n",
              "       [-1.9634306 ,  0.29795439],\n",
              "       [-0.81425097, -0.46349384],\n",
              "       [-0.77321716, -2.07252508],\n",
              "       [ 0.29704879, -0.77618709],\n",
              "       [ 0.02257931, -0.76170594],\n",
              "       [-1.10056276, -1.02820335],\n",
              "       [-0.37875266,  0.0810337 ],\n",
              "       [ 0.09481178, -2.01428008],\n",
              "       [-0.27193678,  1.59492066],\n",
              "       [ 0.0795062 ,  0.52369846],\n",
              "       [ 0.01795541,  0.50491101],\n",
              "       [ 1.80324074, -0.02332426],\n",
              "       [-0.82766145, -2.46980519],\n",
              "       [-1.43467667,  0.64916   ],\n",
              "       [ 0.09436619,  1.22495055],\n",
              "       [ 0.28715032, -1.29821353],\n",
              "       [ 0.02712137,  0.11020084],\n",
              "       [-0.54869308, -1.52495699],\n",
              "       [-0.61661512, -0.49744358],\n",
              "       [-1.40753852,  0.24426723],\n",
              "       [ 0.05719779,  1.30251426],\n",
              "       [ 0.13940011,  0.32795905],\n",
              "       [-0.09778148,  0.48082746],\n",
              "       [ 0.343154  ,  0.6124761 ],\n",
              "       [-0.34540159,  1.12098929],\n",
              "       [ 1.64603856, -0.8526945 ],\n",
              "       [ 0.73623693, -1.15028232],\n",
              "       [-0.6204355 , -0.095858  ],\n",
              "       [-0.45887922,  1.73085032],\n",
              "       [ 1.33200643,  0.92135999],\n",
              "       [ 0.83646911, -0.66091903],\n",
              "       [ 0.0535703 , -1.39011368],\n",
              "       [-0.17076615,  1.97252977],\n",
              "       [ 0.78117137,  0.51658679],\n",
              "       [-1.43943746,  1.13838547],\n",
              "       [ 2.17369103, -0.43205468],\n",
              "       [ 0.26180458, -2.39781665],\n",
              "       [-1.25056936,  0.70058429],\n",
              "       [-0.61300333,  0.03999154],\n",
              "       [ 3.11545629, -0.34033955],\n",
              "       [-2.00447414,  0.34740263],\n",
              "       [-1.34850982,  0.32553419],\n",
              "       [ 0.97754529,  1.33046459],\n",
              "       [ 2.31274261, -1.28576337],\n",
              "       [ 0.44483784,  1.64085312],\n",
              "       [ 4.79284095, -1.96494149],\n",
              "       [ 2.69765598,  0.56260964],\n",
              "       [ 2.29071489,  3.02167629],\n",
              "       [-1.00700251, -0.72615755],\n",
              "       [-0.83523359,  1.70111411],\n",
              "       [ 0.91350369, -2.33476236],\n",
              "       [ 0.33065187,  0.43726184],\n",
              "       [-0.49503752, -0.9722953 ],\n",
              "       [ 2.6140468 ,  0.67060287],\n",
              "       [ 0.91486503,  0.52463205],\n",
              "       [ 1.52552872,  0.40669532]])"
            ]
          },
          "metadata": {},
          "execution_count": 101
        }
      ]
    },
    {
      "cell_type": "markdown",
      "source": [
        "# **g. Las dimensiones de la matriz**"
      ],
      "metadata": {
        "id": "p_kqFkWQTTnj"
      }
    },
    {
      "cell_type": "code",
      "source": [
        "# **g. Las dimensiones de la matriz**\n",
        "X_std_pca2.shape # Tenemos menos variables que las originales"
      ],
      "metadata": {
        "colab": {
          "base_uri": "https://localhost:8080/"
        },
        "id": "7XvgePfOAjNP",
        "outputId": "f7955dca-40a0-4a14-af5e-1f97044c94d4"
      },
      "execution_count": null,
      "outputs": [
        {
          "output_type": "execute_result",
          "data": {
            "text/plain": [
              "(121, 2)"
            ]
          },
          "metadata": {},
          "execution_count": 102
        }
      ]
    },
    {
      "cell_type": "markdown",
      "source": [
        "# **h. Varianza explicada por las componentes elegidas**"
      ],
      "metadata": {
        "id": "x6O-FH9HTWYr"
      }
    },
    {
      "cell_type": "code",
      "source": [
        "# **h. Varianza explicada por las componentes elegidas**\n",
        "print('Cuanto explica cada componente elegida',pca.explained_variance_ratio_)\n",
        "print( 'Cuanto explica la suma de las componentes elegidas', np.sum(pca.explained_variance_ratio_))"
      ],
      "metadata": {
        "colab": {
          "base_uri": "https://localhost:8080/"
        },
        "id": "hiLxm1a2AjRY",
        "outputId": "ff2b3609-bd01-44b0-8fad-644a7dc5c78c"
      },
      "execution_count": null,
      "outputs": [
        {
          "output_type": "stream",
          "name": "stdout",
          "text": [
            "Cuanto explica cada componente elegida [0.24984368 0.21708883]\n",
            "Cuanto explica la suma de las componentes elegidas 0.4669325143749979\n"
          ]
        }
      ]
    },
    {
      "cell_type": "markdown",
      "source": [
        "# **i. Cantidad de variables de las originales**"
      ],
      "metadata": {
        "id": "oZ4zsav6Tdcf"
      }
    },
    {
      "cell_type": "code",
      "source": [
        "# **i. Cantidad de variables de las originales**\n",
        "pca.components_# Pesos o coeficientes que nos muestra cuanto de cada variable original tienen nuestras nuevas variables"
      ],
      "metadata": {
        "colab": {
          "base_uri": "https://localhost:8080/"
        },
        "id": "VbtBqiW4B7IZ",
        "outputId": "0b2891f8-a373-4675-e63d-bcda78fce5aa"
      },
      "execution_count": null,
      "outputs": [
        {
          "output_type": "execute_result",
          "data": {
            "text/plain": [
              "array([[-0.44049592,  0.54777238,  0.11955191, -0.2221361 ,  0.02719336,\n",
              "        -0.41915934, -0.51559444],\n",
              "       [ 0.21177751, -0.15547306, -0.65705624, -0.66010703,  0.09591443,\n",
              "         0.02757086, -0.23141842]])"
            ]
          },
          "metadata": {},
          "execution_count": 104
        }
      ]
    },
    {
      "cell_type": "code",
      "source": [
        "# **i. Cantidad de variables de las originales**\n",
        "pca.components_.shape # Nos muestra que son tres variables combinado las 9"
      ],
      "metadata": {
        "colab": {
          "base_uri": "https://localhost:8080/"
        },
        "id": "vWwHpJlDND_i",
        "outputId": "a67bc7e4-37b3-4ddb-8909-5fcbe562965d"
      },
      "execution_count": null,
      "outputs": [
        {
          "output_type": "execute_result",
          "data": {
            "text/plain": [
              "(2, 7)"
            ]
          },
          "metadata": {},
          "execution_count": 83
        }
      ]
    },
    {
      "cell_type": "markdown",
      "source": [
        "# **j. Varianza acumulada**"
      ],
      "metadata": {
        "id": "fCrZNdpmTrow"
      }
    },
    {
      "cell_type": "code",
      "source": [
        "# **j. Varianza acumulada**\n",
        "cumVar = pd.DataFrame(np.cumsum(pca.explained_variance_ratio_)*100,\n",
        "                      columns=[\"cumVarPerc\"])\n",
        "expVar = pd.DataFrame(pca.explained_variance_ratio_*100, columns=[\"VarPerc\"])\n",
        "pd.concat([expVar, cumVar], axis=1)\\\n",
        "    .rename(index={0: \"PC1\", 1: \"PC2\"})"
      ],
      "metadata": {
        "colab": {
          "base_uri": "https://localhost:8080/",
          "height": 112
        },
        "id": "dm2odWupB7Mg",
        "outputId": "67eabe06-a46c-4cb7-d526-1cd4656224d7"
      },
      "execution_count": null,
      "outputs": [
        {
          "output_type": "execute_result",
          "data": {
            "text/plain": [
              "       VarPerc  cumVarPerc\n",
              "PC1  24.984368   24.984368\n",
              "PC2  21.708883   46.693251"
            ],
            "text/html": [
              "\n",
              "\n",
              "  <div id=\"df-02a6f2cf-4273-46ac-b7b7-f08a04fe428f\">\n",
              "    <div class=\"colab-df-container\">\n",
              "      <div>\n",
              "<style scoped>\n",
              "    .dataframe tbody tr th:only-of-type {\n",
              "        vertical-align: middle;\n",
              "    }\n",
              "\n",
              "    .dataframe tbody tr th {\n",
              "        vertical-align: top;\n",
              "    }\n",
              "\n",
              "    .dataframe thead th {\n",
              "        text-align: right;\n",
              "    }\n",
              "</style>\n",
              "<table border=\"1\" class=\"dataframe\">\n",
              "  <thead>\n",
              "    <tr style=\"text-align: right;\">\n",
              "      <th></th>\n",
              "      <th>VarPerc</th>\n",
              "      <th>cumVarPerc</th>\n",
              "    </tr>\n",
              "  </thead>\n",
              "  <tbody>\n",
              "    <tr>\n",
              "      <th>PC1</th>\n",
              "      <td>24.984368</td>\n",
              "      <td>24.984368</td>\n",
              "    </tr>\n",
              "    <tr>\n",
              "      <th>PC2</th>\n",
              "      <td>21.708883</td>\n",
              "      <td>46.693251</td>\n",
              "    </tr>\n",
              "  </tbody>\n",
              "</table>\n",
              "</div>\n",
              "      <button class=\"colab-df-convert\" onclick=\"convertToInteractive('df-02a6f2cf-4273-46ac-b7b7-f08a04fe428f')\"\n",
              "              title=\"Convert this dataframe to an interactive table.\"\n",
              "              style=\"display:none;\">\n",
              "\n",
              "  <svg xmlns=\"http://www.w3.org/2000/svg\" height=\"24px\"viewBox=\"0 0 24 24\"\n",
              "       width=\"24px\">\n",
              "    <path d=\"M0 0h24v24H0V0z\" fill=\"none\"/>\n",
              "    <path d=\"M18.56 5.44l.94 2.06.94-2.06 2.06-.94-2.06-.94-.94-2.06-.94 2.06-2.06.94zm-11 1L8.5 8.5l.94-2.06 2.06-.94-2.06-.94L8.5 2.5l-.94 2.06-2.06.94zm10 10l.94 2.06.94-2.06 2.06-.94-2.06-.94-.94-2.06-.94 2.06-2.06.94z\"/><path d=\"M17.41 7.96l-1.37-1.37c-.4-.4-.92-.59-1.43-.59-.52 0-1.04.2-1.43.59L10.3 9.45l-7.72 7.72c-.78.78-.78 2.05 0 2.83L4 21.41c.39.39.9.59 1.41.59.51 0 1.02-.2 1.41-.59l7.78-7.78 2.81-2.81c.8-.78.8-2.07 0-2.86zM5.41 20L4 18.59l7.72-7.72 1.47 1.35L5.41 20z\"/>\n",
              "  </svg>\n",
              "      </button>\n",
              "\n",
              "\n",
              "\n",
              "    <div id=\"df-a2655d49-3f4c-4937-be1c-8aca70fceefe\">\n",
              "      <button class=\"colab-df-quickchart\" onclick=\"quickchart('df-a2655d49-3f4c-4937-be1c-8aca70fceefe')\"\n",
              "              title=\"Suggest charts.\"\n",
              "              style=\"display:none;\">\n",
              "\n",
              "<svg xmlns=\"http://www.w3.org/2000/svg\" height=\"24px\"viewBox=\"0 0 24 24\"\n",
              "     width=\"24px\">\n",
              "    <g>\n",
              "        <path d=\"M19 3H5c-1.1 0-2 .9-2 2v14c0 1.1.9 2 2 2h14c1.1 0 2-.9 2-2V5c0-1.1-.9-2-2-2zM9 17H7v-7h2v7zm4 0h-2V7h2v10zm4 0h-2v-4h2v4z\"/>\n",
              "    </g>\n",
              "</svg>\n",
              "      </button>\n",
              "    </div>\n",
              "\n",
              "<style>\n",
              "  .colab-df-quickchart {\n",
              "    background-color: #E8F0FE;\n",
              "    border: none;\n",
              "    border-radius: 50%;\n",
              "    cursor: pointer;\n",
              "    display: none;\n",
              "    fill: #1967D2;\n",
              "    height: 32px;\n",
              "    padding: 0 0 0 0;\n",
              "    width: 32px;\n",
              "  }\n",
              "\n",
              "  .colab-df-quickchart:hover {\n",
              "    background-color: #E2EBFA;\n",
              "    box-shadow: 0px 1px 2px rgba(60, 64, 67, 0.3), 0px 1px 3px 1px rgba(60, 64, 67, 0.15);\n",
              "    fill: #174EA6;\n",
              "  }\n",
              "\n",
              "  [theme=dark] .colab-df-quickchart {\n",
              "    background-color: #3B4455;\n",
              "    fill: #D2E3FC;\n",
              "  }\n",
              "\n",
              "  [theme=dark] .colab-df-quickchart:hover {\n",
              "    background-color: #434B5C;\n",
              "    box-shadow: 0px 1px 3px 1px rgba(0, 0, 0, 0.15);\n",
              "    filter: drop-shadow(0px 1px 2px rgba(0, 0, 0, 0.3));\n",
              "    fill: #FFFFFF;\n",
              "  }\n",
              "</style>\n",
              "\n",
              "    <script>\n",
              "      async function quickchart(key) {\n",
              "        const containerElement = document.querySelector('#' + key);\n",
              "        const charts = await google.colab.kernel.invokeFunction(\n",
              "            'suggestCharts', [key], {});\n",
              "      }\n",
              "    </script>\n",
              "\n",
              "      <script>\n",
              "\n",
              "function displayQuickchartButton(domScope) {\n",
              "  let quickchartButtonEl =\n",
              "    domScope.querySelector('#df-a2655d49-3f4c-4937-be1c-8aca70fceefe button.colab-df-quickchart');\n",
              "  quickchartButtonEl.style.display =\n",
              "    google.colab.kernel.accessAllowed ? 'block' : 'none';\n",
              "}\n",
              "\n",
              "        displayQuickchartButton(document);\n",
              "      </script>\n",
              "      <style>\n",
              "    .colab-df-container {\n",
              "      display:flex;\n",
              "      flex-wrap:wrap;\n",
              "      gap: 12px;\n",
              "    }\n",
              "\n",
              "    .colab-df-convert {\n",
              "      background-color: #E8F0FE;\n",
              "      border: none;\n",
              "      border-radius: 50%;\n",
              "      cursor: pointer;\n",
              "      display: none;\n",
              "      fill: #1967D2;\n",
              "      height: 32px;\n",
              "      padding: 0 0 0 0;\n",
              "      width: 32px;\n",
              "    }\n",
              "\n",
              "    .colab-df-convert:hover {\n",
              "      background-color: #E2EBFA;\n",
              "      box-shadow: 0px 1px 2px rgba(60, 64, 67, 0.3), 0px 1px 3px 1px rgba(60, 64, 67, 0.15);\n",
              "      fill: #174EA6;\n",
              "    }\n",
              "\n",
              "    [theme=dark] .colab-df-convert {\n",
              "      background-color: #3B4455;\n",
              "      fill: #D2E3FC;\n",
              "    }\n",
              "\n",
              "    [theme=dark] .colab-df-convert:hover {\n",
              "      background-color: #434B5C;\n",
              "      box-shadow: 0px 1px 3px 1px rgba(0, 0, 0, 0.15);\n",
              "      filter: drop-shadow(0px 1px 2px rgba(0, 0, 0, 0.3));\n",
              "      fill: #FFFFFF;\n",
              "    }\n",
              "  </style>\n",
              "\n",
              "      <script>\n",
              "        const buttonEl =\n",
              "          document.querySelector('#df-02a6f2cf-4273-46ac-b7b7-f08a04fe428f button.colab-df-convert');\n",
              "        buttonEl.style.display =\n",
              "          google.colab.kernel.accessAllowed ? 'block' : 'none';\n",
              "\n",
              "        async function convertToInteractive(key) {\n",
              "          const element = document.querySelector('#df-02a6f2cf-4273-46ac-b7b7-f08a04fe428f');\n",
              "          const dataTable =\n",
              "            await google.colab.kernel.invokeFunction('convertToInteractive',\n",
              "                                                     [key], {});\n",
              "          if (!dataTable) return;\n",
              "\n",
              "          const docLinkHtml = 'Like what you see? Visit the ' +\n",
              "            '<a target=\"_blank\" href=https://colab.research.google.com/notebooks/data_table.ipynb>data table notebook</a>'\n",
              "            + ' to learn more about interactive tables.';\n",
              "          element.innerHTML = '';\n",
              "          dataTable['output_type'] = 'display_data';\n",
              "          await google.colab.output.renderOutput(dataTable, element);\n",
              "          const docLink = document.createElement('div');\n",
              "          docLink.innerHTML = docLinkHtml;\n",
              "          element.appendChild(docLink);\n",
              "        }\n",
              "      </script>\n",
              "    </div>\n",
              "  </div>\n"
            ]
          },
          "metadata": {},
          "execution_count": 84
        }
      ]
    },
    {
      "cell_type": "code",
      "source": [
        "X = datos.loc[:, [\"DEFINITIVA\", \"EDAD\", \"PESO\", \"ESTATURA\", 'SATISFACC', 'PROMEDIO','SABER 11']]\n",
        "Y1 = datos.loc[:, [\"CURSO\"]]\n",
        "Y2 = datos.loc[:, [\"PROGRAMA\"]]\n",
        "Y3 = datos.loc[:, [\"URBANO\"]]\n",
        "Y4 = datos.loc[:, [\"SEXO\"]]\n",
        "Y5 = datos.loc[:, [\"ESTRATO\"]]"
      ],
      "metadata": {
        "id": "yvrRdrDbNY36"
      },
      "execution_count": null,
      "outputs": []
    },
    {
      "cell_type": "markdown",
      "source": [
        "# **k. Visualización**\n",
        "+ En este apartado vamos a realizar dos gráficos para visualizar: un diagrama de dispersión y un biplot.\n",
        "\n",
        "+ El diagrama de dispersión nos sirve para ver los valores de las observaciones respecto de los dos componentes principales y resaltamos las diferentes observaciones por su especie."
      ],
      "metadata": {
        "id": "B7aYtNHlTyHk"
      }
    },
    {
      "cell_type": "code",
      "source": [
        "# **k. Visualización**\n",
        "componentsDf = pd.DataFrame(data = X_std_pca2, columns = ['PC1', 'PC2'])\n",
        "pcaDf = pd.concat([componentsDf, Y1], axis=1)\n",
        "\n",
        "plt.figure(figsize=(12, 6))\n",
        "sns.scatterplot(data=pcaDf, x=\"PC1\", y=\"PC2\", hue=\"CURSO\")"
      ],
      "metadata": {
        "colab": {
          "base_uri": "https://localhost:8080/",
          "height": 559
        },
        "id": "EnWEBC8YDkE7",
        "outputId": "4a6bd10c-5925-4ade-b3d9-460675bfa0ca"
      },
      "execution_count": null,
      "outputs": [
        {
          "output_type": "execute_result",
          "data": {
            "text/plain": [
              "<Axes: xlabel='PC1', ylabel='PC2'>"
            ]
          },
          "metadata": {},
          "execution_count": 88
        },
        {
          "output_type": "display_data",
          "data": {
            "text/plain": [
              "<Figure size 1200x600 with 1 Axes>"
            ],
            "image/png": "[encoded data removed]"
          },
          "metadata": {}
        }
      ]
    },
    {
      "cell_type": "code",
      "source": [
        "# **k. Visualización**\n",
        "componentsDf = pd.DataFrame(data = X_std_pca2, columns = ['PC1', 'PC2'])\n",
        "pcaDf = pd.concat([componentsDf, Y4], axis=1)\n",
        "\n",
        "plt.figure(figsize=(12, 6))\n",
        "sns.scatterplot(data=pcaDf, x=\"PC1\", y=\"PC2\", hue=\"SEXO\")"
      ],
      "metadata": {
        "colab": {
          "base_uri": "https://localhost:8080/",
          "height": 559
        },
        "id": "7wgq1SqzDvKU",
        "outputId": "d78667db-d28d-42de-b316-e3ba367a8224"
      },
      "execution_count": null,
      "outputs": [
        {
          "output_type": "execute_result",
          "data": {
            "text/plain": [
              "<Axes: xlabel='PC1', ylabel='PC2'>"
            ]
          },
          "metadata": {},
          "execution_count": 90
        },
        {
          "output_type": "display_data",
          "data": {
            "text/plain": [
              "<Figure size 1200x600 with 1 Axes>"
            ],
            "image/png": "[encoded data removed]"
          },
          "metadata": {}
        }
      ]
    },
    {
      "cell_type": "code",
      "source": [
        "# **k. Visualización**\n",
        "componentsDf = pd.DataFrame(data = X_std_pca2, columns = ['PC1', 'PC2'])\n",
        "pcaDf = pd.concat([componentsDf, Y2], axis=1)\n",
        "\n",
        "plt.figure(figsize=(12, 6))\n",
        "sns.scatterplot(data=pcaDf, x=\"PC1\", y=\"PC2\", hue=\"PROGRAMA\")"
      ],
      "metadata": {
        "colab": {
          "base_uri": "https://localhost:8080/",
          "height": 559
        },
        "id": "VVyDNponDvOO",
        "outputId": "4a49b056-5487-4866-d48f-8c08910d3d4a"
      },
      "execution_count": null,
      "outputs": [
        {
          "output_type": "execute_result",
          "data": {
            "text/plain": [
              "<Axes: xlabel='PC1', ylabel='PC2'>"
            ]
          },
          "metadata": {},
          "execution_count": 91
        },
        {
          "output_type": "display_data",
          "data": {
            "text/plain": [
              "<Figure size 1200x600 with 1 Axes>"
            ],
            "image/png": "[encoded data removed]"
          },
          "metadata": {}
        }
      ]
    },
    {
      "cell_type": "markdown",
      "source": [
        "# **l. Biplot**\n",
        "+ El biplot es un gráfico que permite representar las variables del dataset original y las observaciones transformadas en los ejes de los dos componentes principales.\n",
        "+ Las flechas representan las variables originales y es importante hacia dónde apuntan.\n",
        "+ La dirección y el sentido indican el peso y el signo de las variables originales en los dos componentes principales.\n",
        "\n",
        "+ Varias cosas que podemos comentar sobre las flechas son:\n",
        "\n",
        " - Dos flechas que tienen dirección y sentido semejantes indica una correlación positiva.\n",
        " -  Dos flechas que tienen la misma dirección pero sentidos diferentes indican una correlación negativa.\n",
        " - Un ángulo recto (90º) entre dos flechas indica no correlación entre ellas.\n",
        " - Un ángulo llano (180º) entre dos flechas indica correlación negativa perfecta.\n",
        " - Para calcular el biplot necesitamos definir antes la función que realizará el plot, para después mostrar el gráfico."
      ],
      "metadata": {
        "id": "lMPh2T9URxVZ"
      }
    },
    {
      "cell_type": "code",
      "source": [
        "# **l. Biplot**\n",
        "def biplot(score,coeff,labels=None):\n",
        "    xs = score[:,0]\n",
        "    ys = score[:,1]\n",
        "    n = coeff.shape[0]\n",
        "    scalex = 1.0/(xs.max() - xs.min())\n",
        "    scaley = 1.0/(ys.max() - ys.min())\n",
        "    plt.scatter(xs * scalex,ys * scaley,s=5)\n",
        "    for i in range(n):\n",
        "        plt.arrow(0, 0, coeff[i,0], coeff[i,1],color = 'r',alpha = 0.5)\n",
        "        if labels is None:\n",
        "            plt.text(coeff[i,0]* 1.15, coeff[i,1] * 1.15, \"Var\"+str(i+1), color = 'green', ha = 'center', va = 'center')\n",
        "        else:\n",
        "            plt.text(coeff[i,0]* 1.15, coeff[i,1] * 1.15, labels[i], color = 'g', ha = 'center', va = 'center')\n",
        "\n",
        "    plt.xlabel(\"PC{}\".format(1))\n",
        "    plt.ylabel(\"PC{}\".format(2))\n",
        "    plt.grid()"
      ],
      "metadata": {
        "id": "Sow2Oenwyx8N"
      },
      "execution_count": null,
      "outputs": []
    },
    {
      "cell_type": "code",
      "source": [
        "plt.figure(figsize=(12, 6))\n",
        "biplot(X_std_pca2, np.transpose(pca.components_), list(datos.columns))"
      ],
      "metadata": {
        "colab": {
          "base_uri": "https://localhost:8080/",
          "height": 542
        },
        "id": "CefKoynky1Yz",
        "outputId": "3e983cb5-4023-447b-8f49-2ef988f7a64a"
      },
      "execution_count": null,
      "outputs": [
        {
          "output_type": "display_data",
          "data": {
            "text/plain": [
              "<Figure size 1200x600 with 1 Axes>"
            ],
            "image/png": "[encoded data removed]"
          },
          "metadata": {}
        }
      ]
    },
    {
      "cell_type": "markdown",
      "source": [
        "# **m. Cantidad de variables de las originales tiene cada componente**\n",
        "\n",
        "+ **Variables**\n",
        "\n",
        "+ **Cualitativas**\n",
        " - Y1 = datos.loc[:, [\"CURSO\"]]\n",
        " - Y2 = datos.loc[:, [\"PROGRAMA\"]]\n",
        " - Y3 = datos.loc[:, [\"URBANO\"]]\n",
        " - Y4 = datos.loc[:, [\"SEXO\"]]\n",
        " - Y5 = datos.loc[:, [\"ESTRATO\"]]\n",
        "\n",
        "+ **Cualitativas**\n",
        " - $X_1=$'DEFINITIVA',\n",
        " - $X_2=$'EDAD',\n",
        " - $X_3=$'PESO',\n",
        " - $X_4=$'ESTATURA',\n",
        " - $X_5=$  'SATISFACC',\n",
        " - $X_6=$'PROMEDIO'\n",
        " - $X_7=$'SABER 11'\n",
        "+ La primera fila es la nueva variable que llamaremos\n",
        "\n",
        " - $$PC1=-0.44049592X_1+  0.54777238X_2+ 0.11955191X_3 -0.2221361X_4+  0.02719336X_5-0.41915934X_6 -0.51559444X_7$$\n",
        "\n",
        " - $$$PC2= 0.21177751X_1 -0.15547306X_2 -0.65705624X_3 -0.66010703X_4+  0.09591443X_5+0.02757086 X_6-0.23141842X_7$$"
      ],
      "metadata": {
        "id": "hQZO0w_XVO-0"
      }
    },
    {
      "cell_type": "code",
      "source": [
        "# **m. Cantidad de variables de las originales tiene cada componente**\n",
        "pca.components_#"
      ],
      "metadata": {
        "colab": {
          "base_uri": "https://localhost:8080/"
        },
        "id": "HL1faztlUnuR",
        "outputId": "49a0365c-6c7e-4353-ad0f-1040b82cab04"
      },
      "execution_count": null,
      "outputs": [
        {
          "output_type": "execute_result",
          "data": {
            "text/plain": [
              "array([[-0.44049592,  0.54777238,  0.11955191, -0.2221361 ,  0.02719336,\n",
              "        -0.41915934, -0.51559444],\n",
              "       [ 0.21177751, -0.15547306, -0.65705624, -0.66010703,  0.09591443,\n",
              "         0.02757086, -0.23141842]])"
            ]
          },
          "metadata": {},
          "execution_count": 107
        }
      ]
    },
    {
      "cell_type": "code",
      "source": [
        "# **m. Cantidad de variables de las originales tiene cada componente**\n",
        "pca.components_.shape"
      ],
      "metadata": {
        "colab": {
          "base_uri": "https://localhost:8080/"
        },
        "id": "gGERMrztUnyD",
        "outputId": "8fb933d6-b169-4748-9f23-9b9857802eec"
      },
      "execution_count": null,
      "outputs": [
        {
          "output_type": "execute_result",
          "data": {
            "text/plain": [
              "(2, 7)"
            ]
          },
          "metadata": {},
          "execution_count": 108
        }
      ]
    },
    {
      "cell_type": "code",
      "source": [
        "# **m. Cantidad de variables de las originales tiene cada componente**\n",
        "pca.components_.T"
      ],
      "metadata": {
        "colab": {
          "base_uri": "https://localhost:8080/"
        },
        "id": "7sSkmsspUyFw",
        "outputId": "4a44203a-e3a4-4ece-bb55-3e991e5d55da"
      },
      "execution_count": null,
      "outputs": [
        {
          "output_type": "execute_result",
          "data": {
            "text/plain": [
              "array([[-0.44049592,  0.21177751],\n",
              "       [ 0.54777238, -0.15547306],\n",
              "       [ 0.11955191, -0.65705624],\n",
              "       [-0.2221361 , -0.66010703],\n",
              "       [ 0.02719336,  0.09591443],\n",
              "       [-0.41915934,  0.02757086],\n",
              "       [-0.51559444, -0.23141842]])"
            ]
          },
          "metadata": {},
          "execution_count": 109
        }
      ]
    },
    {
      "cell_type": "code",
      "source": [
        "# **m. Cantidad de variables de las originales tiene cada componente**\n",
        "pca.components_.T.shape # Otra vez chequeamos las dimensones de nuestras matrices"
      ],
      "metadata": {
        "colab": {
          "base_uri": "https://localhost:8080/"
        },
        "id": "iROfQ_e3UyKF",
        "outputId": "48bf76a2-299f-4570-8b78-0c08b2ab176a"
      },
      "execution_count": null,
      "outputs": [
        {
          "output_type": "execute_result",
          "data": {
            "text/plain": [
              "(7, 2)"
            ]
          },
          "metadata": {},
          "execution_count": 110
        }
      ]
    },
    {
      "cell_type": "code",
      "source": [
        "# **m. Cantidad de variables de las originales tiene cada componente**\n",
        "pd.DataFrame(pca.components_.T)\n",
        "list_namepca = [f'PC{i}' for i in range(1,3)]\n",
        "df_pca_loading = pd.DataFrame(pca.components_.T, columns = list_namepca)\n",
        "df_pca_loading"
      ],
      "metadata": {
        "colab": {
          "base_uri": "https://localhost:8080/",
          "height": 269
        },
        "id": "S2ZLpRzKU4so",
        "outputId": "d2ee970b-b05d-4849-e613-8c51d40a324a"
      },
      "execution_count": null,
      "outputs": [
        {
          "output_type": "execute_result",
          "data": {
            "text/plain": [
              "        PC1       PC2\n",
              "0 -0.440496  0.211778\n",
              "1  0.547772 -0.155473\n",
              "2  0.119552 -0.657056\n",
              "3 -0.222136 -0.660107\n",
              "4  0.027193  0.095914\n",
              "5 -0.419159  0.027571\n",
              "6 -0.515594 -0.231418"
            ],
            "text/html": [
              "\n",
              "\n",
              "  <div id=\"df-1d4f3fa2-8281-4731-9a2a-95bca3d5a8d7\">\n",
              "    <div class=\"colab-df-container\">\n",
              "      <div>\n",
              "<style scoped>\n",
              "    .dataframe tbody tr th:only-of-type {\n",
              "        vertical-align: middle;\n",
              "    }\n",
              "\n",
              "    .dataframe tbody tr th {\n",
              "        vertical-align: top;\n",
              "    }\n",
              "\n",
              "    .dataframe thead th {\n",
              "        text-align: right;\n",
              "    }\n",
              "</style>\n",
              "<table border=\"1\" class=\"dataframe\">\n",
              "  <thead>\n",
              "    <tr style=\"text-align: right;\">\n",
              "      <th></th>\n",
              "      <th>PC1</th>\n",
              "      <th>PC2</th>\n",
              "    </tr>\n",
              "  </thead>\n",
              "  <tbody>\n",
              "    <tr>\n",
              "      <th>0</th>\n",
              "      <td>-0.440496</td>\n",
              "      <td>0.211778</td>\n",
              "    </tr>\n",
              "    <tr>\n",
              "      <th>1</th>\n",
              "      <td>0.547772</td>\n",
              "      <td>-0.155473</td>\n",
              "    </tr>\n",
              "    <tr>\n",
              "      <th>2</th>\n",
              "      <td>0.119552</td>\n",
              "      <td>-0.657056</td>\n",
              "    </tr>\n",
              "    <tr>\n",
              "      <th>3</th>\n",
              "      <td>-0.222136</td>\n",
              "      <td>-0.660107</td>\n",
              "    </tr>\n",
              "    <tr>\n",
              "      <th>4</th>\n",
              "      <td>0.027193</td>\n",
              "      <td>0.095914</td>\n",
              "    </tr>\n",
              "    <tr>\n",
              "      <th>5</th>\n",
              "      <td>-0.419159</td>\n",
              "      <td>0.027571</td>\n",
              "    </tr>\n",
              "    <tr>\n",
              "      <th>6</th>\n",
              "      <td>-0.515594</td>\n",
              "      <td>-0.231418</td>\n",
              "    </tr>\n",
              "  </tbody>\n",
              "</table>\n",
              "</div>\n",
              "      <button class=\"colab-df-convert\" onclick=\"convertToInteractive('df-1d4f3fa2-8281-4731-9a2a-95bca3d5a8d7')\"\n",
              "              title=\"Convert this dataframe to an interactive table.\"\n",
              "              style=\"display:none;\">\n",
              "\n",
              "  <svg xmlns=\"http://www.w3.org/2000/svg\" height=\"24px\"viewBox=\"0 0 24 24\"\n",
              "       width=\"24px\">\n",
              "    <path d=\"M0 0h24v24H0V0z\" fill=\"none\"/>\n",
              "    <path d=\"M18.56 5.44l.94 2.06.94-2.06 2.06-.94-2.06-.94-.94-2.06-.94 2.06-2.06.94zm-11 1L8.5 8.5l.94-2.06 2.06-.94-2.06-.94L8.5 2.5l-.94 2.06-2.06.94zm10 10l.94 2.06.94-2.06 2.06-.94-2.06-.94-.94-2.06-.94 2.06-2.06.94z\"/><path d=\"M17.41 7.96l-1.37-1.37c-.4-.4-.92-.59-1.43-.59-.52 0-1.04.2-1.43.59L10.3 9.45l-7.72 7.72c-.78.78-.78 2.05 0 2.83L4 21.41c.39.39.9.59 1.41.59.51 0 1.02-.2 1.41-.59l7.78-7.78 2.81-2.81c.8-.78.8-2.07 0-2.86zM5.41 20L4 18.59l7.72-7.72 1.47 1.35L5.41 20z\"/>\n",
              "  </svg>\n",
              "      </button>\n",
              "\n",
              "\n",
              "\n",
              "    <div id=\"df-22ff4c7a-ada2-45fc-aac3-86b0b48438d8\">\n",
              "      <button class=\"colab-df-quickchart\" onclick=\"quickchart('df-22ff4c7a-ada2-45fc-aac3-86b0b48438d8')\"\n",
              "              title=\"Suggest charts.\"\n",
              "              style=\"display:none;\">\n",
              "\n",
              "<svg xmlns=\"http://www.w3.org/2000/svg\" height=\"24px\"viewBox=\"0 0 24 24\"\n",
              "     width=\"24px\">\n",
              "    <g>\n",
              "        <path d=\"M19 3H5c-1.1 0-2 .9-2 2v14c0 1.1.9 2 2 2h14c1.1 0 2-.9 2-2V5c0-1.1-.9-2-2-2zM9 17H7v-7h2v7zm4 0h-2V7h2v10zm4 0h-2v-4h2v4z\"/>\n",
              "    </g>\n",
              "</svg>\n",
              "      </button>\n",
              "    </div>\n",
              "\n",
              "<style>\n",
              "  .colab-df-quickchart {\n",
              "    background-color: #E8F0FE;\n",
              "    border: none;\n",
              "    border-radius: 50%;\n",
              "    cursor: pointer;\n",
              "    display: none;\n",
              "    fill: #1967D2;\n",
              "    height: 32px;\n",
              "    padding: 0 0 0 0;\n",
              "    width: 32px;\n",
              "  }\n",
              "\n",
              "  .colab-df-quickchart:hover {\n",
              "    background-color: #E2EBFA;\n",
              "    box-shadow: 0px 1px 2px rgba(60, 64, 67, 0.3), 0px 1px 3px 1px rgba(60, 64, 67, 0.15);\n",
              "    fill: #174EA6;\n",
              "  }\n",
              "\n",
              "  [theme=dark] .colab-df-quickchart {\n",
              "    background-color: #3B4455;\n",
              "    fill: #D2E3FC;\n",
              "  }\n",
              "\n",
              "  [theme=dark] .colab-df-quickchart:hover {\n",
              "    background-color: #434B5C;\n",
              "    box-shadow: 0px 1px 3px 1px rgba(0, 0, 0, 0.15);\n",
              "    filter: drop-shadow(0px 1px 2px rgba(0, 0, 0, 0.3));\n",
              "    fill: #FFFFFF;\n",
              "  }\n",
              "</style>\n",
              "\n",
              "    <script>\n",
              "      async function quickchart(key) {\n",
              "        const containerElement = document.querySelector('#' + key);\n",
              "        const charts = await google.colab.kernel.invokeFunction(\n",
              "            'suggestCharts', [key], {});\n",
              "      }\n",
              "    </script>\n",
              "\n",
              "      <script>\n",
              "\n",
              "function displayQuickchartButton(domScope) {\n",
              "  let quickchartButtonEl =\n",
              "    domScope.querySelector('#df-22ff4c7a-ada2-45fc-aac3-86b0b48438d8 button.colab-df-quickchart');\n",
              "  quickchartButtonEl.style.display =\n",
              "    google.colab.kernel.accessAllowed ? 'block' : 'none';\n",
              "}\n",
              "\n",
              "        displayQuickchartButton(document);\n",
              "      </script>\n",
              "      <style>\n",
              "    .colab-df-container {\n",
              "      display:flex;\n",
              "      flex-wrap:wrap;\n",
              "      gap: 12px;\n",
              "    }\n",
              "\n",
              "    .colab-df-convert {\n",
              "      background-color: #E8F0FE;\n",
              "      border: none;\n",
              "      border-radius: 50%;\n",
              "      cursor: pointer;\n",
              "      display: none;\n",
              "      fill: #1967D2;\n",
              "      height: 32px;\n",
              "      padding: 0 0 0 0;\n",
              "      width: 32px;\n",
              "    }\n",
              "\n",
              "    .colab-df-convert:hover {\n",
              "      background-color: #E2EBFA;\n",
              "      box-shadow: 0px 1px 2px rgba(60, 64, 67, 0.3), 0px 1px 3px 1px rgba(60, 64, 67, 0.15);\n",
              "      fill: #174EA6;\n",
              "    }\n",
              "\n",
              "    [theme=dark] .colab-df-convert {\n",
              "      background-color: #3B4455;\n",
              "      fill: #D2E3FC;\n",
              "    }\n",
              "\n",
              "    [theme=dark] .colab-df-convert:hover {\n",
              "      background-color: #434B5C;\n",
              "      box-shadow: 0px 1px 3px 1px rgba(0, 0, 0, 0.15);\n",
              "      filter: drop-shadow(0px 1px 2px rgba(0, 0, 0, 0.3));\n",
              "      fill: #FFFFFF;\n",
              "    }\n",
              "  </style>\n",
              "\n",
              "      <script>\n",
              "        const buttonEl =\n",
              "          document.querySelector('#df-1d4f3fa2-8281-4731-9a2a-95bca3d5a8d7 button.colab-df-convert');\n",
              "        buttonEl.style.display =\n",
              "          google.colab.kernel.accessAllowed ? 'block' : 'none';\n",
              "\n",
              "        async function convertToInteractive(key) {\n",
              "          const element = document.querySelector('#df-1d4f3fa2-8281-4731-9a2a-95bca3d5a8d7');\n",
              "          const dataTable =\n",
              "            await google.colab.kernel.invokeFunction('convertToInteractive',\n",
              "                                                     [key], {});\n",
              "          if (!dataTable) return;\n",
              "\n",
              "          const docLinkHtml = 'Like what you see? Visit the ' +\n",
              "            '<a target=\"_blank\" href=https://colab.research.google.com/notebooks/data_table.ipynb>data table notebook</a>'\n",
              "            + ' to learn more about interactive tables.';\n",
              "          element.innerHTML = '';\n",
              "          dataTable['output_type'] = 'display_data';\n",
              "          await google.colab.output.renderOutput(dataTable, element);\n",
              "          const docLink = document.createElement('div');\n",
              "          docLink.innerHTML = docLinkHtml;\n",
              "          element.appendChild(docLink);\n",
              "        }\n",
              "      </script>\n",
              "    </div>\n",
              "  </div>\n"
            ]
          },
          "metadata": {},
          "execution_count": 111
        }
      ]
    },
    {
      "cell_type": "code",
      "source": [
        "# **n. Comprobando que se cumple las hipotesis acerca delos coeficientes**\n",
        "print('La suma de los coeficientes PC1 es igual a =',df_pca_loading[['PC1']].apply(lambda x:sum(x**2)))\n",
        "print('La suma de los coeficientes PC2 es igual a =',df_pca_loading[['PC2']].apply(lambda x:sum(x**2)))"
      ],
      "metadata": {
        "colab": {
          "base_uri": "https://localhost:8080/"
        },
        "id": "4FcTnxKwXXj9",
        "outputId": "8da6f8b1-e5aa-4af7-b94d-92ee8a3eaf79"
      },
      "execution_count": null,
      "outputs": [
        {
          "output_type": "stream",
          "name": "stdout",
          "text": [
            "La suma de los coeficientes PC1 es igual a = PC1    1.0\n",
            "dtype: float64\n",
            "La suma de los coeficientes PC2 es igual a = PC2    1.0\n",
            "dtype: float64\n"
          ]
        }
      ]
    }
  ],
  "metadata": {
    "colab": {
      "provenance": [],
      "mount_file_id": "13X7nPE01ohpMi0ISyxuJIiqLTpL66n3c",
      "authorship_tag": "ABX9TyNVlV+SEfmO02zjhZ6H6tos",
      "include_colab_link": true
    },
    "kernelspec": {
      "display_name": "Python 3",
      "name": "python3"
    },
    "language_info": {
      "name": "python"
    }
  },
  "nbformat": 4,
  "nbformat_minor": 0
}