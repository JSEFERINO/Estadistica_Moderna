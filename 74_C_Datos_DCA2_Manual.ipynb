{
  "nbformat": 4,
  "nbformat_minor": 0,
  "metadata": {
    "colab": {
      "provenance": [],
      "authorship_tag": "ABX9TyOD4YRER8Br1OSehTw2nW4W",
      "include_colab_link": true
    },
    "kernelspec": {
      "name": "python3",
      "display_name": "Python 3"
    },
    "language_info": {
      "name": "python"
    }
  },
  "cells": [
    {
      "cell_type": "markdown",
      "metadata": {
        "id": "view-in-github",
        "colab_type": "text"
      },
      "source": [
        "<a href=\"https://colab.research.google.com/github/JSEFERINO/Estadistica_Moderna/blob/main/74_C_Datos_DCA2_Manual.ipynb\" target=\"_parent\"><img src=\"https://colab.research.google.com/assets/colab-badge.svg\" alt=\"Open In Colab\"/></a>"
      ]
    },
    {
      "cell_type": "markdown",
      "source": [
        "#  **Tema 1: Diseños Completos Aleatorizados - DCA usando Python: Versión 2**</span>\n",
        "\n",
        "### <span style=\"color:green\"> **Ejemplo 1.2. (Texto Analisis y Diseno de Experimentos_Humberto-Roman_2da Ed_McGrawHill, pág. 63)**</span>\n",
        "### <span style=\"color:blue\"> **Problema: _Un fabricante de calzado desea mejorar la calidad de las suelas, las cuales se pueden hacer con uno de los cuatro tipos de cuero A, B, C y D disponibles en el mercado. Para ello, prueba los cueros con una máquina que hace pasar los zapatos por una superficie abrasiva. La suela de los zapatos se desgasta al pasarla por dicha superficie. Como criterio de desgaste se usa la pérrdida de peso después de un número fijo de ciclos. Se prueban en orden aleatorio 24 zapatos, seis de cada tipo de cuero. Al hacer las pruebas en orden completamente al azar se evitan sesgos y las mediciones en un tipo de cuero resultan independiente de las demás. Los datos (en mg) sobre el desgaste de cada tipo de cuero se muestran en la tabla siguiente:_.**</span>\n",
        "\n",
        "### <span style=\"color:blue\">**Tabla de datos**</span>\n",
        "\n",
        "\n",
        "|Tipos de Cuero|||Desgaste||||\n",
        "|:--:|:--:|:--:|:--:|:--:|:--:|:--:|\n",
        "|A|264|260| 258| 241| 262| 255|\n",
        "|B|208| 220| 216| 200| 213| 206|\n",
        "|C|220|263| 219| 225| 230| 228|\n",
        "|D|217| 226| 215|224| 220| 222|"
      ],
      "metadata": {
        "id": "4Tt1l5etgotn"
      }
    },
    {
      "cell_type": "markdown",
      "source": [
        "## **Paso_1. Ingresamos los datos manual**"
      ],
      "metadata": {
        "id": "iFC-fTx8h8iC"
      }
    },
    {
      "cell_type": "markdown",
      "source": [
        "## **a. Nuestros datos**"
      ],
      "metadata": {
        "id": "YYXa3o_hmAqx"
      }
    },
    {
      "cell_type": "code",
      "execution_count": null,
      "metadata": {
        "id": "we0cPAi3ggFo",
        "colab": {
          "base_uri": "https://localhost:8080/",
          "height": 801
        },
        "outputId": "cc88aef2-4e94-4a43-bea9-34566eb7757e"
      },
      "outputs": [
        {
          "output_type": "execute_result",
          "data": {
            "text/plain": [
              "   Tipo_Cuero  Desgaste\n",
              "0           A       264\n",
              "1           A       260\n",
              "2           A       258\n",
              "3           A       241\n",
              "4           A       262\n",
              "5           A       255\n",
              "6           B       208\n",
              "7           B       220\n",
              "8           B       216\n",
              "9           B       200\n",
              "10          B       213\n",
              "11          B       206\n",
              "12          C       220\n",
              "13          C       263\n",
              "14          C       219\n",
              "15          C       225\n",
              "16          C       230\n",
              "17          C       228\n",
              "18          D       217\n",
              "19          D       226\n",
              "20          D       215\n",
              "21          D       224\n",
              "22          D       220\n",
              "23          D       222"
            ],
            "text/html": [
              "\n",
              "  <div id=\"df-28c32212-95a5-4670-a1c8-5b0701d03bb6\" class=\"colab-df-container\">\n",
              "    <div>\n",
              "<style scoped>\n",
              "    .dataframe tbody tr th:only-of-type {\n",
              "        vertical-align: middle;\n",
              "    }\n",
              "\n",
              "    .dataframe tbody tr th {\n",
              "        vertical-align: top;\n",
              "    }\n",
              "\n",
              "    .dataframe thead th {\n",
              "        text-align: right;\n",
              "    }\n",
              "</style>\n",
              "<table border=\"1\" class=\"dataframe\">\n",
              "  <thead>\n",
              "    <tr style=\"text-align: right;\">\n",
              "      <th></th>\n",
              "      <th>Tipo_Cuero</th>\n",
              "      <th>Desgaste</th>\n",
              "    </tr>\n",
              "  </thead>\n",
              "  <tbody>\n",
              "    <tr>\n",
              "      <th>0</th>\n",
              "      <td>A</td>\n",
              "      <td>264</td>\n",
              "    </tr>\n",
              "    <tr>\n",
              "      <th>1</th>\n",
              "      <td>A</td>\n",
              "      <td>260</td>\n",
              "    </tr>\n",
              "    <tr>\n",
              "      <th>2</th>\n",
              "      <td>A</td>\n",
              "      <td>258</td>\n",
              "    </tr>\n",
              "    <tr>\n",
              "      <th>3</th>\n",
              "      <td>A</td>\n",
              "      <td>241</td>\n",
              "    </tr>\n",
              "    <tr>\n",
              "      <th>4</th>\n",
              "      <td>A</td>\n",
              "      <td>262</td>\n",
              "    </tr>\n",
              "    <tr>\n",
              "      <th>5</th>\n",
              "      <td>A</td>\n",
              "      <td>255</td>\n",
              "    </tr>\n",
              "    <tr>\n",
              "      <th>6</th>\n",
              "      <td>B</td>\n",
              "      <td>208</td>\n",
              "    </tr>\n",
              "    <tr>\n",
              "      <th>7</th>\n",
              "      <td>B</td>\n",
              "      <td>220</td>\n",
              "    </tr>\n",
              "    <tr>\n",
              "      <th>8</th>\n",
              "      <td>B</td>\n",
              "      <td>216</td>\n",
              "    </tr>\n",
              "    <tr>\n",
              "      <th>9</th>\n",
              "      <td>B</td>\n",
              "      <td>200</td>\n",
              "    </tr>\n",
              "    <tr>\n",
              "      <th>10</th>\n",
              "      <td>B</td>\n",
              "      <td>213</td>\n",
              "    </tr>\n",
              "    <tr>\n",
              "      <th>11</th>\n",
              "      <td>B</td>\n",
              "      <td>206</td>\n",
              "    </tr>\n",
              "    <tr>\n",
              "      <th>12</th>\n",
              "      <td>C</td>\n",
              "      <td>220</td>\n",
              "    </tr>\n",
              "    <tr>\n",
              "      <th>13</th>\n",
              "      <td>C</td>\n",
              "      <td>263</td>\n",
              "    </tr>\n",
              "    <tr>\n",
              "      <th>14</th>\n",
              "      <td>C</td>\n",
              "      <td>219</td>\n",
              "    </tr>\n",
              "    <tr>\n",
              "      <th>15</th>\n",
              "      <td>C</td>\n",
              "      <td>225</td>\n",
              "    </tr>\n",
              "    <tr>\n",
              "      <th>16</th>\n",
              "      <td>C</td>\n",
              "      <td>230</td>\n",
              "    </tr>\n",
              "    <tr>\n",
              "      <th>17</th>\n",
              "      <td>C</td>\n",
              "      <td>228</td>\n",
              "    </tr>\n",
              "    <tr>\n",
              "      <th>18</th>\n",
              "      <td>D</td>\n",
              "      <td>217</td>\n",
              "    </tr>\n",
              "    <tr>\n",
              "      <th>19</th>\n",
              "      <td>D</td>\n",
              "      <td>226</td>\n",
              "    </tr>\n",
              "    <tr>\n",
              "      <th>20</th>\n",
              "      <td>D</td>\n",
              "      <td>215</td>\n",
              "    </tr>\n",
              "    <tr>\n",
              "      <th>21</th>\n",
              "      <td>D</td>\n",
              "      <td>224</td>\n",
              "    </tr>\n",
              "    <tr>\n",
              "      <th>22</th>\n",
              "      <td>D</td>\n",
              "      <td>220</td>\n",
              "    </tr>\n",
              "    <tr>\n",
              "      <th>23</th>\n",
              "      <td>D</td>\n",
              "      <td>222</td>\n",
              "    </tr>\n",
              "  </tbody>\n",
              "</table>\n",
              "</div>\n",
              "    <div class=\"colab-df-buttons\">\n",
              "\n",
              "  <div class=\"colab-df-container\">\n",
              "    <button class=\"colab-df-convert\" onclick=\"convertToInteractive('df-28c32212-95a5-4670-a1c8-5b0701d03bb6')\"\n",
              "            title=\"Convert this dataframe to an interactive table.\"\n",
              "            style=\"display:none;\">\n",
              "\n",
              "  <svg xmlns=\"http://www.w3.org/2000/svg\" height=\"24px\" viewBox=\"0 -960 960 960\">\n",
              "    <path d=\"M120-120v-720h720v720H120Zm60-500h600v-160H180v160Zm220 220h160v-160H400v160Zm0 220h160v-160H400v160ZM180-400h160v-160H180v160Zm440 0h160v-160H620v160ZM180-180h160v-160H180v160Zm440 0h160v-160H620v160Z\"/>\n",
              "  </svg>\n",
              "    </button>\n",
              "\n",
              "  <style>\n",
              "    .colab-df-container {\n",
              "      display:flex;\n",
              "      gap: 12px;\n",
              "    }\n",
              "\n",
              "    .colab-df-convert {\n",
              "      background-color: #E8F0FE;\n",
              "      border: none;\n",
              "      border-radius: 50%;\n",
              "      cursor: pointer;\n",
              "      display: none;\n",
              "      fill: #1967D2;\n",
              "      height: 32px;\n",
              "      padding: 0 0 0 0;\n",
              "      width: 32px;\n",
              "    }\n",
              "\n",
              "    .colab-df-convert:hover {\n",
              "      background-color: #E2EBFA;\n",
              "      box-shadow: 0px 1px 2px rgba(60, 64, 67, 0.3), 0px 1px 3px 1px rgba(60, 64, 67, 0.15);\n",
              "      fill: #174EA6;\n",
              "    }\n",
              "\n",
              "    .colab-df-buttons div {\n",
              "      margin-bottom: 4px;\n",
              "    }\n",
              "\n",
              "    [theme=dark] .colab-df-convert {\n",
              "      background-color: #3B4455;\n",
              "      fill: #D2E3FC;\n",
              "    }\n",
              "\n",
              "    [theme=dark] .colab-df-convert:hover {\n",
              "      background-color: #434B5C;\n",
              "      box-shadow: 0px 1px 3px 1px rgba(0, 0, 0, 0.15);\n",
              "      filter: drop-shadow(0px 1px 2px rgba(0, 0, 0, 0.3));\n",
              "      fill: #FFFFFF;\n",
              "    }\n",
              "  </style>\n",
              "\n",
              "    <script>\n",
              "      const buttonEl =\n",
              "        document.querySelector('#df-28c32212-95a5-4670-a1c8-5b0701d03bb6 button.colab-df-convert');\n",
              "      buttonEl.style.display =\n",
              "        google.colab.kernel.accessAllowed ? 'block' : 'none';\n",
              "\n",
              "      async function convertToInteractive(key) {\n",
              "        const element = document.querySelector('#df-28c32212-95a5-4670-a1c8-5b0701d03bb6');\n",
              "        const dataTable =\n",
              "          await google.colab.kernel.invokeFunction('convertToInteractive',\n",
              "                                                    [key], {});\n",
              "        if (!dataTable) return;\n",
              "\n",
              "        const docLinkHtml = 'Like what you see? Visit the ' +\n",
              "          '<a target=\"_blank\" href=https://colab.research.google.com/notebooks/data_table.ipynb>data table notebook</a>'\n",
              "          + ' to learn more about interactive tables.';\n",
              "        element.innerHTML = '';\n",
              "        dataTable['output_type'] = 'display_data';\n",
              "        await google.colab.output.renderOutput(dataTable, element);\n",
              "        const docLink = document.createElement('div');\n",
              "        docLink.innerHTML = docLinkHtml;\n",
              "        element.appendChild(docLink);\n",
              "      }\n",
              "    </script>\n",
              "  </div>\n",
              "\n",
              "\n",
              "<div id=\"df-72ae41fb-20a8-4b2e-a97f-fa296836437c\">\n",
              "  <button class=\"colab-df-quickchart\" onclick=\"quickchart('df-72ae41fb-20a8-4b2e-a97f-fa296836437c')\"\n",
              "            title=\"Suggest charts.\"\n",
              "            style=\"display:none;\">\n",
              "\n",
              "<svg xmlns=\"http://www.w3.org/2000/svg\" height=\"24px\"viewBox=\"0 0 24 24\"\n",
              "     width=\"24px\">\n",
              "    <g>\n",
              "        <path d=\"M19 3H5c-1.1 0-2 .9-2 2v14c0 1.1.9 2 2 2h14c1.1 0 2-.9 2-2V5c0-1.1-.9-2-2-2zM9 17H7v-7h2v7zm4 0h-2V7h2v10zm4 0h-2v-4h2v4z\"/>\n",
              "    </g>\n",
              "</svg>\n",
              "  </button>\n",
              "\n",
              "<style>\n",
              "  .colab-df-quickchart {\n",
              "      --bg-color: #E8F0FE;\n",
              "      --fill-color: #1967D2;\n",
              "      --hover-bg-color: #E2EBFA;\n",
              "      --hover-fill-color: #174EA6;\n",
              "      --disabled-fill-color: #AAA;\n",
              "      --disabled-bg-color: #DDD;\n",
              "  }\n",
              "\n",
              "  [theme=dark] .colab-df-quickchart {\n",
              "      --bg-color: #3B4455;\n",
              "      --fill-color: #D2E3FC;\n",
              "      --hover-bg-color: #434B5C;\n",
              "      --hover-fill-color: #FFFFFF;\n",
              "      --disabled-bg-color: #3B4455;\n",
              "      --disabled-fill-color: #666;\n",
              "  }\n",
              "\n",
              "  .colab-df-quickchart {\n",
              "    background-color: var(--bg-color);\n",
              "    border: none;\n",
              "    border-radius: 50%;\n",
              "    cursor: pointer;\n",
              "    display: none;\n",
              "    fill: var(--fill-color);\n",
              "    height: 32px;\n",
              "    padding: 0;\n",
              "    width: 32px;\n",
              "  }\n",
              "\n",
              "  .colab-df-quickchart:hover {\n",
              "    background-color: var(--hover-bg-color);\n",
              "    box-shadow: 0 1px 2px rgba(60, 64, 67, 0.3), 0 1px 3px 1px rgba(60, 64, 67, 0.15);\n",
              "    fill: var(--button-hover-fill-color);\n",
              "  }\n",
              "\n",
              "  .colab-df-quickchart-complete:disabled,\n",
              "  .colab-df-quickchart-complete:disabled:hover {\n",
              "    background-color: var(--disabled-bg-color);\n",
              "    fill: var(--disabled-fill-color);\n",
              "    box-shadow: none;\n",
              "  }\n",
              "\n",
              "  .colab-df-spinner {\n",
              "    border: 2px solid var(--fill-color);\n",
              "    border-color: transparent;\n",
              "    border-bottom-color: var(--fill-color);\n",
              "    animation:\n",
              "      spin 1s steps(1) infinite;\n",
              "  }\n",
              "\n",
              "  @keyframes spin {\n",
              "    0% {\n",
              "      border-color: transparent;\n",
              "      border-bottom-color: var(--fill-color);\n",
              "      border-left-color: var(--fill-color);\n",
              "    }\n",
              "    20% {\n",
              "      border-color: transparent;\n",
              "      border-left-color: var(--fill-color);\n",
              "      border-top-color: var(--fill-color);\n",
              "    }\n",
              "    30% {\n",
              "      border-color: transparent;\n",
              "      border-left-color: var(--fill-color);\n",
              "      border-top-color: var(--fill-color);\n",
              "      border-right-color: var(--fill-color);\n",
              "    }\n",
              "    40% {\n",
              "      border-color: transparent;\n",
              "      border-right-color: var(--fill-color);\n",
              "      border-top-color: var(--fill-color);\n",
              "    }\n",
              "    60% {\n",
              "      border-color: transparent;\n",
              "      border-right-color: var(--fill-color);\n",
              "    }\n",
              "    80% {\n",
              "      border-color: transparent;\n",
              "      border-right-color: var(--fill-color);\n",
              "      border-bottom-color: var(--fill-color);\n",
              "    }\n",
              "    90% {\n",
              "      border-color: transparent;\n",
              "      border-bottom-color: var(--fill-color);\n",
              "    }\n",
              "  }\n",
              "</style>\n",
              "\n",
              "  <script>\n",
              "    async function quickchart(key) {\n",
              "      const quickchartButtonEl =\n",
              "        document.querySelector('#' + key + ' button');\n",
              "      quickchartButtonEl.disabled = true;  // To prevent multiple clicks.\n",
              "      quickchartButtonEl.classList.add('colab-df-spinner');\n",
              "      try {\n",
              "        const charts = await google.colab.kernel.invokeFunction(\n",
              "            'suggestCharts', [key], {});\n",
              "      } catch (error) {\n",
              "        console.error('Error during call to suggestCharts:', error);\n",
              "      }\n",
              "      quickchartButtonEl.classList.remove('colab-df-spinner');\n",
              "      quickchartButtonEl.classList.add('colab-df-quickchart-complete');\n",
              "    }\n",
              "    (() => {\n",
              "      let quickchartButtonEl =\n",
              "        document.querySelector('#df-72ae41fb-20a8-4b2e-a97f-fa296836437c button');\n",
              "      quickchartButtonEl.style.display =\n",
              "        google.colab.kernel.accessAllowed ? 'block' : 'none';\n",
              "    })();\n",
              "  </script>\n",
              "</div>\n",
              "    </div>\n",
              "  </div>\n"
            ]
          },
          "metadata": {},
          "execution_count": 78
        }
      ],
      "source": [
        "## **1.3 Los datos en Python y definimos el DataFrame: Ingresamos los datos como columnas**\n",
        "import pandas as pd\n",
        "\n",
        "Tipo_Cuero = (['A']*6+['B']*6+['C']*6+['D']*6)\n",
        "Desgaste = [264, 260, 258, 241, 262, 255, 208, 220, 216, 200, 213, 206,\n",
        "            220, 263, 219, 225, 230, 228, 217, 226, 215, 224, 220, 222]\n",
        "Datos  = pd.DataFrame({'Tipo_Cuero': Tipo_Cuero, 'Desgaste': Desgaste})\n",
        "Datos\n"
      ]
    },
    {
      "cell_type": "markdown",
      "source": [
        "## **b. Otra forma de los datos**"
      ],
      "metadata": {
        "id": "2L4_c0C6ywxT"
      }
    },
    {
      "cell_type": "code",
      "source": [
        "## **b. Otra forma de los datos**\n",
        "df = pd.DataFrame(Desgaste,index=Tipo_Cuero, columns=['Desgaste'] )\n",
        "df"
      ],
      "metadata": {
        "colab": {
          "base_uri": "https://localhost:8080/",
          "height": 801
        },
        "id": "62d6kWTquNwO",
        "outputId": "f54c48d4-4094-4e47-bbd2-0ed77c2b3457"
      },
      "execution_count": null,
      "outputs": [
        {
          "output_type": "execute_result",
          "data": {
            "text/plain": [
              "   Desgaste\n",
              "A       264\n",
              "A       260\n",
              "A       258\n",
              "A       241\n",
              "A       262\n",
              "A       255\n",
              "B       208\n",
              "B       220\n",
              "B       216\n",
              "B       200\n",
              "B       213\n",
              "B       206\n",
              "C       220\n",
              "C       263\n",
              "C       219\n",
              "C       225\n",
              "C       230\n",
              "C       228\n",
              "D       217\n",
              "D       226\n",
              "D       215\n",
              "D       224\n",
              "D       220\n",
              "D       222"
            ],
            "text/html": [
              "\n",
              "  <div id=\"df-75694ebe-2384-4e39-bb81-9290d814dca5\" class=\"colab-df-container\">\n",
              "    <div>\n",
              "<style scoped>\n",
              "    .dataframe tbody tr th:only-of-type {\n",
              "        vertical-align: middle;\n",
              "    }\n",
              "\n",
              "    .dataframe tbody tr th {\n",
              "        vertical-align: top;\n",
              "    }\n",
              "\n",
              "    .dataframe thead th {\n",
              "        text-align: right;\n",
              "    }\n",
              "</style>\n",
              "<table border=\"1\" class=\"dataframe\">\n",
              "  <thead>\n",
              "    <tr style=\"text-align: right;\">\n",
              "      <th></th>\n",
              "      <th>Desgaste</th>\n",
              "    </tr>\n",
              "  </thead>\n",
              "  <tbody>\n",
              "    <tr>\n",
              "      <th>A</th>\n",
              "      <td>264</td>\n",
              "    </tr>\n",
              "    <tr>\n",
              "      <th>A</th>\n",
              "      <td>260</td>\n",
              "    </tr>\n",
              "    <tr>\n",
              "      <th>A</th>\n",
              "      <td>258</td>\n",
              "    </tr>\n",
              "    <tr>\n",
              "      <th>A</th>\n",
              "      <td>241</td>\n",
              "    </tr>\n",
              "    <tr>\n",
              "      <th>A</th>\n",
              "      <td>262</td>\n",
              "    </tr>\n",
              "    <tr>\n",
              "      <th>A</th>\n",
              "      <td>255</td>\n",
              "    </tr>\n",
              "    <tr>\n",
              "      <th>B</th>\n",
              "      <td>208</td>\n",
              "    </tr>\n",
              "    <tr>\n",
              "      <th>B</th>\n",
              "      <td>220</td>\n",
              "    </tr>\n",
              "    <tr>\n",
              "      <th>B</th>\n",
              "      <td>216</td>\n",
              "    </tr>\n",
              "    <tr>\n",
              "      <th>B</th>\n",
              "      <td>200</td>\n",
              "    </tr>\n",
              "    <tr>\n",
              "      <th>B</th>\n",
              "      <td>213</td>\n",
              "    </tr>\n",
              "    <tr>\n",
              "      <th>B</th>\n",
              "      <td>206</td>\n",
              "    </tr>\n",
              "    <tr>\n",
              "      <th>C</th>\n",
              "      <td>220</td>\n",
              "    </tr>\n",
              "    <tr>\n",
              "      <th>C</th>\n",
              "      <td>263</td>\n",
              "    </tr>\n",
              "    <tr>\n",
              "      <th>C</th>\n",
              "      <td>219</td>\n",
              "    </tr>\n",
              "    <tr>\n",
              "      <th>C</th>\n",
              "      <td>225</td>\n",
              "    </tr>\n",
              "    <tr>\n",
              "      <th>C</th>\n",
              "      <td>230</td>\n",
              "    </tr>\n",
              "    <tr>\n",
              "      <th>C</th>\n",
              "      <td>228</td>\n",
              "    </tr>\n",
              "    <tr>\n",
              "      <th>D</th>\n",
              "      <td>217</td>\n",
              "    </tr>\n",
              "    <tr>\n",
              "      <th>D</th>\n",
              "      <td>226</td>\n",
              "    </tr>\n",
              "    <tr>\n",
              "      <th>D</th>\n",
              "      <td>215</td>\n",
              "    </tr>\n",
              "    <tr>\n",
              "      <th>D</th>\n",
              "      <td>224</td>\n",
              "    </tr>\n",
              "    <tr>\n",
              "      <th>D</th>\n",
              "      <td>220</td>\n",
              "    </tr>\n",
              "    <tr>\n",
              "      <th>D</th>\n",
              "      <td>222</td>\n",
              "    </tr>\n",
              "  </tbody>\n",
              "</table>\n",
              "</div>\n",
              "    <div class=\"colab-df-buttons\">\n",
              "\n",
              "  <div class=\"colab-df-container\">\n",
              "    <button class=\"colab-df-convert\" onclick=\"convertToInteractive('df-75694ebe-2384-4e39-bb81-9290d814dca5')\"\n",
              "            title=\"Convert this dataframe to an interactive table.\"\n",
              "            style=\"display:none;\">\n",
              "\n",
              "  <svg xmlns=\"http://www.w3.org/2000/svg\" height=\"24px\" viewBox=\"0 -960 960 960\">\n",
              "    <path d=\"M120-120v-720h720v720H120Zm60-500h600v-160H180v160Zm220 220h160v-160H400v160Zm0 220h160v-160H400v160ZM180-400h160v-160H180v160Zm440 0h160v-160H620v160ZM180-180h160v-160H180v160Zm440 0h160v-160H620v160Z\"/>\n",
              "  </svg>\n",
              "    </button>\n",
              "\n",
              "  <style>\n",
              "    .colab-df-container {\n",
              "      display:flex;\n",
              "      gap: 12px;\n",
              "    }\n",
              "\n",
              "    .colab-df-convert {\n",
              "      background-color: #E8F0FE;\n",
              "      border: none;\n",
              "      border-radius: 50%;\n",
              "      cursor: pointer;\n",
              "      display: none;\n",
              "      fill: #1967D2;\n",
              "      height: 32px;\n",
              "      padding: 0 0 0 0;\n",
              "      width: 32px;\n",
              "    }\n",
              "\n",
              "    .colab-df-convert:hover {\n",
              "      background-color: #E2EBFA;\n",
              "      box-shadow: 0px 1px 2px rgba(60, 64, 67, 0.3), 0px 1px 3px 1px rgba(60, 64, 67, 0.15);\n",
              "      fill: #174EA6;\n",
              "    }\n",
              "\n",
              "    .colab-df-buttons div {\n",
              "      margin-bottom: 4px;\n",
              "    }\n",
              "\n",
              "    [theme=dark] .colab-df-convert {\n",
              "      background-color: #3B4455;\n",
              "      fill: #D2E3FC;\n",
              "    }\n",
              "\n",
              "    [theme=dark] .colab-df-convert:hover {\n",
              "      background-color: #434B5C;\n",
              "      box-shadow: 0px 1px 3px 1px rgba(0, 0, 0, 0.15);\n",
              "      filter: drop-shadow(0px 1px 2px rgba(0, 0, 0, 0.3));\n",
              "      fill: #FFFFFF;\n",
              "    }\n",
              "  </style>\n",
              "\n",
              "    <script>\n",
              "      const buttonEl =\n",
              "        document.querySelector('#df-75694ebe-2384-4e39-bb81-9290d814dca5 button.colab-df-convert');\n",
              "      buttonEl.style.display =\n",
              "        google.colab.kernel.accessAllowed ? 'block' : 'none';\n",
              "\n",
              "      async function convertToInteractive(key) {\n",
              "        const element = document.querySelector('#df-75694ebe-2384-4e39-bb81-9290d814dca5');\n",
              "        const dataTable =\n",
              "          await google.colab.kernel.invokeFunction('convertToInteractive',\n",
              "                                                    [key], {});\n",
              "        if (!dataTable) return;\n",
              "\n",
              "        const docLinkHtml = 'Like what you see? Visit the ' +\n",
              "          '<a target=\"_blank\" href=https://colab.research.google.com/notebooks/data_table.ipynb>data table notebook</a>'\n",
              "          + ' to learn more about interactive tables.';\n",
              "        element.innerHTML = '';\n",
              "        dataTable['output_type'] = 'display_data';\n",
              "        await google.colab.output.renderOutput(dataTable, element);\n",
              "        const docLink = document.createElement('div');\n",
              "        docLink.innerHTML = docLinkHtml;\n",
              "        element.appendChild(docLink);\n",
              "      }\n",
              "    </script>\n",
              "  </div>\n",
              "\n",
              "\n",
              "<div id=\"df-722719b2-30bf-418b-a4b9-c82fdc447654\">\n",
              "  <button class=\"colab-df-quickchart\" onclick=\"quickchart('df-722719b2-30bf-418b-a4b9-c82fdc447654')\"\n",
              "            title=\"Suggest charts.\"\n",
              "            style=\"display:none;\">\n",
              "\n",
              "<svg xmlns=\"http://www.w3.org/2000/svg\" height=\"24px\"viewBox=\"0 0 24 24\"\n",
              "     width=\"24px\">\n",
              "    <g>\n",
              "        <path d=\"M19 3H5c-1.1 0-2 .9-2 2v14c0 1.1.9 2 2 2h14c1.1 0 2-.9 2-2V5c0-1.1-.9-2-2-2zM9 17H7v-7h2v7zm4 0h-2V7h2v10zm4 0h-2v-4h2v4z\"/>\n",
              "    </g>\n",
              "</svg>\n",
              "  </button>\n",
              "\n",
              "<style>\n",
              "  .colab-df-quickchart {\n",
              "      --bg-color: #E8F0FE;\n",
              "      --fill-color: #1967D2;\n",
              "      --hover-bg-color: #E2EBFA;\n",
              "      --hover-fill-color: #174EA6;\n",
              "      --disabled-fill-color: #AAA;\n",
              "      --disabled-bg-color: #DDD;\n",
              "  }\n",
              "\n",
              "  [theme=dark] .colab-df-quickchart {\n",
              "      --bg-color: #3B4455;\n",
              "      --fill-color: #D2E3FC;\n",
              "      --hover-bg-color: #434B5C;\n",
              "      --hover-fill-color: #FFFFFF;\n",
              "      --disabled-bg-color: #3B4455;\n",
              "      --disabled-fill-color: #666;\n",
              "  }\n",
              "\n",
              "  .colab-df-quickchart {\n",
              "    background-color: var(--bg-color);\n",
              "    border: none;\n",
              "    border-radius: 50%;\n",
              "    cursor: pointer;\n",
              "    display: none;\n",
              "    fill: var(--fill-color);\n",
              "    height: 32px;\n",
              "    padding: 0;\n",
              "    width: 32px;\n",
              "  }\n",
              "\n",
              "  .colab-df-quickchart:hover {\n",
              "    background-color: var(--hover-bg-color);\n",
              "    box-shadow: 0 1px 2px rgba(60, 64, 67, 0.3), 0 1px 3px 1px rgba(60, 64, 67, 0.15);\n",
              "    fill: var(--button-hover-fill-color);\n",
              "  }\n",
              "\n",
              "  .colab-df-quickchart-complete:disabled,\n",
              "  .colab-df-quickchart-complete:disabled:hover {\n",
              "    background-color: var(--disabled-bg-color);\n",
              "    fill: var(--disabled-fill-color);\n",
              "    box-shadow: none;\n",
              "  }\n",
              "\n",
              "  .colab-df-spinner {\n",
              "    border: 2px solid var(--fill-color);\n",
              "    border-color: transparent;\n",
              "    border-bottom-color: var(--fill-color);\n",
              "    animation:\n",
              "      spin 1s steps(1) infinite;\n",
              "  }\n",
              "\n",
              "  @keyframes spin {\n",
              "    0% {\n",
              "      border-color: transparent;\n",
              "      border-bottom-color: var(--fill-color);\n",
              "      border-left-color: var(--fill-color);\n",
              "    }\n",
              "    20% {\n",
              "      border-color: transparent;\n",
              "      border-left-color: var(--fill-color);\n",
              "      border-top-color: var(--fill-color);\n",
              "    }\n",
              "    30% {\n",
              "      border-color: transparent;\n",
              "      border-left-color: var(--fill-color);\n",
              "      border-top-color: var(--fill-color);\n",
              "      border-right-color: var(--fill-color);\n",
              "    }\n",
              "    40% {\n",
              "      border-color: transparent;\n",
              "      border-right-color: var(--fill-color);\n",
              "      border-top-color: var(--fill-color);\n",
              "    }\n",
              "    60% {\n",
              "      border-color: transparent;\n",
              "      border-right-color: var(--fill-color);\n",
              "    }\n",
              "    80% {\n",
              "      border-color: transparent;\n",
              "      border-right-color: var(--fill-color);\n",
              "      border-bottom-color: var(--fill-color);\n",
              "    }\n",
              "    90% {\n",
              "      border-color: transparent;\n",
              "      border-bottom-color: var(--fill-color);\n",
              "    }\n",
              "  }\n",
              "</style>\n",
              "\n",
              "  <script>\n",
              "    async function quickchart(key) {\n",
              "      const quickchartButtonEl =\n",
              "        document.querySelector('#' + key + ' button');\n",
              "      quickchartButtonEl.disabled = true;  // To prevent multiple clicks.\n",
              "      quickchartButtonEl.classList.add('colab-df-spinner');\n",
              "      try {\n",
              "        const charts = await google.colab.kernel.invokeFunction(\n",
              "            'suggestCharts', [key], {});\n",
              "      } catch (error) {\n",
              "        console.error('Error during call to suggestCharts:', error);\n",
              "      }\n",
              "      quickchartButtonEl.classList.remove('colab-df-spinner');\n",
              "      quickchartButtonEl.classList.add('colab-df-quickchart-complete');\n",
              "    }\n",
              "    (() => {\n",
              "      let quickchartButtonEl =\n",
              "        document.querySelector('#df-722719b2-30bf-418b-a4b9-c82fdc447654 button');\n",
              "      quickchartButtonEl.style.display =\n",
              "        google.colab.kernel.accessAllowed ? 'block' : 'none';\n",
              "    })();\n",
              "  </script>\n",
              "</div>\n",
              "    </div>\n",
              "  </div>\n"
            ]
          },
          "metadata": {},
          "execution_count": 79
        }
      ]
    },
    {
      "cell_type": "markdown",
      "source": [
        "## **c. Los tratamientos**"
      ],
      "metadata": {
        "id": "XWoPMzb959pN"
      }
    },
    {
      "cell_type": "code",
      "source": [
        "## **c. Los tratamientos**\n",
        "df.loc['A'], df.loc['B'], df.loc['C'], df.loc['D']"
      ],
      "metadata": {
        "colab": {
          "base_uri": "https://localhost:8080/"
        },
        "id": "yalKsyEKxPwv",
        "outputId": "a03be7f3-6f0e-4cb2-ec17-aff63800967c"
      },
      "execution_count": null,
      "outputs": [
        {
          "output_type": "execute_result",
          "data": {
            "text/plain": [
              "(   Desgaste\n",
              " A       264\n",
              " A       260\n",
              " A       258\n",
              " A       241\n",
              " A       262\n",
              " A       255,\n",
              "    Desgaste\n",
              " B       208\n",
              " B       220\n",
              " B       216\n",
              " B       200\n",
              " B       213\n",
              " B       206,\n",
              "    Desgaste\n",
              " C       220\n",
              " C       263\n",
              " C       219\n",
              " C       225\n",
              " C       230\n",
              " C       228,\n",
              "    Desgaste\n",
              " D       217\n",
              " D       226\n",
              " D       215\n",
              " D       224\n",
              " D       220\n",
              " D       222)"
            ]
          },
          "metadata": {},
          "execution_count": 80
        }
      ]
    },
    {
      "cell_type": "markdown",
      "source": [
        "# **d. Total por tratamiento**"
      ],
      "metadata": {
        "id": "7RmEqJQ-5k8R"
      }
    },
    {
      "cell_type": "code",
      "source": [
        "sum_A = df.loc['A'].sum()\n",
        "sum_B = df.loc['B'].sum()\n",
        "sum_C = df.loc['C'].sum()\n",
        "sum_D = df.loc['D'].sum()\n",
        "sum_T = sum_A+sum_B+sum_C+sum_D\n",
        "sum_T\n"
      ],
      "metadata": {
        "colab": {
          "base_uri": "https://localhost:8080/"
        },
        "id": "uxhfmtWlyHNW",
        "outputId": "52f5b3d4-acbe-44b7-bafa-10e46c0f64a5"
      },
      "execution_count": null,
      "outputs": [
        {
          "output_type": "execute_result",
          "data": {
            "text/plain": [
              "Desgaste    5512\n",
              "dtype: int64"
            ]
          },
          "metadata": {},
          "execution_count": 81
        }
      ]
    },
    {
      "cell_type": "markdown",
      "source": [
        "# **e. Medias por tratamiento**"
      ],
      "metadata": {
        "id": "lHEkigjmCHN7"
      }
    },
    {
      "cell_type": "code",
      "source": [
        "media_A = df.loc['A'].mean()\n",
        "media_B = df.loc['B'].mean()\n",
        "media_C = df.loc['C'].mean()\n",
        "media_D = df.loc['D'].mean()\n"
      ],
      "metadata": {
        "id": "3ehUeuhrByjQ"
      },
      "execution_count": null,
      "outputs": []
    },
    {
      "cell_type": "markdown",
      "source": [
        "## **e. Gráfico de Caja y Bigotes**"
      ],
      "metadata": {
        "id": "e26YaGfymGQe"
      }
    },
    {
      "cell_type": "markdown",
      "source": [
        "![image.png](data:image/png;base64,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)"
      ],
      "metadata": {
        "id": "Z7Mqwt9iuCQs"
      }
    },
    {
      "cell_type": "markdown",
      "source": [
        "# **Paso_2. Los Estadisticos que debemos calcular**\n",
        "\n",
        "$$Y_{ij} = μ + τ_i + ϵ_{ij}, \\\\ i =1, 2, ...,k; j =1, 2, ...,n$$\n",
        "1.  $Suma(Y_{i.})$, $$Y_{i.} = \\sum_{j=1}^{n_i}Y_{ij}; \\\\ \\bar{Y}_{i.}=Y_{i.}/n_i$$\n",
        "2. $Suma(Y_{..})$,   $$Y_{..} = \\sum_{i=1}^{k}\\sum_{j=1}^{n_i}Y_{ij}$$\n",
        "3. Variabilidad de $Total$,   $$SCT = \\sum_{i=1}^{k}\\sum_{j=1}^{n_i}(Y_{ij}-\\bar{Y_{..}})^2=\\sum_{i=1}^{k}\\sum_{j=1}^{n_i}Y_{ij}^2-\\frac{Y_{..}^2}{N}$$\n",
        "\n",
        "4. Variabilidad de $Tratamientos$,   $$SCTr = \\sum_{i=1}^{k}n_i(\\bar{Y}_{i.}-\\bar{Y_{..}})^2=\\sum_{i=1}^{k}\\frac{Y_{i.}^2}{n_i}-\\frac{Y_{..}^2}{N}$$\n",
        "5. Variabilidad de $Error$,   $$SCE = \\sum_{i=1}^{k}\\sum_{j=1}^{n_i}(Y_{ij}-\\bar{Y}_{i.})^2=SCT-SCTr$$\n",
        "\n"
      ],
      "metadata": {
        "id": "nD596-qAjhqD"
      }
    },
    {
      "cell_type": "markdown",
      "source": [
        "# **Paso_3. Calculando Los estadisticos**\n",
        "## **a. El Total y la media de los tratamientos**"
      ],
      "metadata": {
        "id": "iZWExvxVmkHv"
      }
    },
    {
      "cell_type": "code",
      "source": [
        "N = 24; k = 4; n = 6\n",
        "print(f'suma(A) = {sum_A} y la media(A) = {sum_A/n}')\n",
        "print(f'suma(B) = {sum_B} y la media(B) = {sum_B/n}')\n",
        "print(f'suma(C) = {sum_C} y la media(C) = {sum_C/n}')\n",
        "print(f'suma(D) = {sum_D} y la media(D) = {sum_D/n}')\n",
        "print(f'suma(T) = {sum_T} y la media(D) = {sum_T/N}')"
      ],
      "metadata": {
        "colab": {
          "base_uri": "https://localhost:8080/"
        },
        "id": "2Br_rLyLnI81",
        "outputId": "eb4b1822-73c0-40fa-ee10-a225638710cb"
      },
      "execution_count": null,
      "outputs": [
        {
          "output_type": "stream",
          "name": "stdout",
          "text": [
            "suma(A) = Desgaste    1540\n",
            "dtype: int64 y la media(A) = Desgaste    256.666667\n",
            "dtype: float64\n",
            "suma(B) = Desgaste    1263\n",
            "dtype: int64 y la media(B) = Desgaste    210.5\n",
            "dtype: float64\n",
            "suma(C) = Desgaste    1385\n",
            "dtype: int64 y la media(C) = Desgaste    230.833333\n",
            "dtype: float64\n",
            "suma(D) = Desgaste    1324\n",
            "dtype: int64 y la media(D) = Desgaste    220.666667\n",
            "dtype: float64\n",
            "suma(T) = Desgaste    5512\n",
            "dtype: int64 y la media(D) = Desgaste    229.666667\n",
            "dtype: float64\n"
          ]
        }
      ]
    },
    {
      "cell_type": "markdown",
      "source": [
        "# **Paso_3. Variabilidad Total y Varianza Total**\n",
        "## **a. Los cuadrados de Cada Tratamiento**"
      ],
      "metadata": {
        "id": "Z7zcZt-rF6bC"
      }
    },
    {
      "cell_type": "code",
      "source": [
        "sum_Tr2 = sum_A**2+sum_B**2+sum_C**2+sum_D**2\n",
        "sum_Tr2"
      ],
      "metadata": {
        "colab": {
          "base_uri": "https://localhost:8080/"
        },
        "id": "u71BSAthDt57",
        "outputId": "eba32a76-abf7-4ed5-bb1e-12dd1f0e1581"
      },
      "execution_count": null,
      "outputs": [
        {
          "output_type": "execute_result",
          "data": {
            "text/plain": [
              "Desgaste    7637970\n",
              "dtype: int64"
            ]
          },
          "metadata": {},
          "execution_count": 84
        }
      ]
    },
    {
      "cell_type": "markdown",
      "source": [
        "## **b. La variabilidad total es _SST_ y la Varianza Total _CMT_**"
      ],
      "metadata": {
        "id": "-WdPFKAEP-q9"
      }
    },
    {
      "cell_type": "code",
      "source": [
        "sumT_2 =(df['Desgaste']*df['Desgaste']).sum()\n",
        "sumT_2"
      ],
      "metadata": {
        "colab": {
          "base_uri": "https://localhost:8080/"
        },
        "id": "J2_lXtKR9god",
        "outputId": "07891a67-a495-437b-cc41-47810e3c4802"
      },
      "execution_count": null,
      "outputs": [
        {
          "output_type": "execute_result",
          "data": {
            "text/plain": [
              "1275024"
            ]
          },
          "metadata": {},
          "execution_count": 85
        }
      ]
    },
    {
      "cell_type": "code",
      "source": [
        "sum_T**2/N"
      ],
      "metadata": {
        "colab": {
          "base_uri": "https://localhost:8080/"
        },
        "id": "nf9kXJFs9otL",
        "outputId": "107401fb-aa9d-4477-d278-5dda14dc73cf"
      },
      "execution_count": null,
      "outputs": [
        {
          "output_type": "execute_result",
          "data": {
            "text/plain": [
              "Desgaste    1.265923e+06\n",
              "dtype: float64"
            ]
          },
          "metadata": {},
          "execution_count": 86
        }
      ]
    },
    {
      "cell_type": "code",
      "source": [
        "\n",
        "sumT_2 - sum_T**2/N"
      ],
      "metadata": {
        "colab": {
          "base_uri": "https://localhost:8080/"
        },
        "id": "_VdwVJsl9v3j",
        "outputId": "105e846f-b6e2-43a7-89f5-e6ffd34cd6cd"
      },
      "execution_count": null,
      "outputs": [
        {
          "output_type": "execute_result",
          "data": {
            "text/plain": [
              "Desgaste    9101.333333\n",
              "dtype: float64"
            ]
          },
          "metadata": {},
          "execution_count": 87
        }
      ]
    },
    {
      "cell_type": "code",
      "source": [
        "## **b. La variabilidad total es _SST_ y la Varianza Total _CMT_**\n",
        "N = 24; k = 4; n = 6\n",
        "SST = sumT_2 - sum_T**2/N\n",
        "MST = SST/(N-1)\n",
        "print(f'La variabilidad total es SST = {SST}')\n",
        "print(f'La Varianza total es MST = {MST}')"
      ],
      "metadata": {
        "colab": {
          "base_uri": "https://localhost:8080/"
        },
        "id": "g3RggzDbDuEj",
        "outputId": "9127dcd9-0750-49ad-b67d-586e686c8b52"
      },
      "execution_count": null,
      "outputs": [
        {
          "output_type": "stream",
          "name": "stdout",
          "text": [
            "La variabilidad total es SST = Desgaste    9101.333333\n",
            "dtype: float64\n",
            "La Varianza total es MST = Desgaste    395.710145\n",
            "dtype: float64\n"
          ]
        }
      ]
    },
    {
      "cell_type": "markdown",
      "source": [
        "## **c. La variabilidad de los Tratamientos es _SSTr_ y la Varianza Total _CMTr_**"
      ],
      "metadata": {
        "id": "pFuUDQckUUsK"
      }
    },
    {
      "cell_type": "code",
      "source": [
        "## **c. La variabilidad de los Tratamientos es _SSTr_ y la Varianza Total _CMTr_\n",
        "N = 24; k = 4; n = 6\n",
        "SSTr = sum_Tr2/n+ - sum_T**2/N\n",
        "\n",
        "MSTr = SSTr/(k-1)\n",
        "print(f'La variabilidad de los tratamientos es SSTr = {SSTr}')\n",
        "print(f'La variabilidad de los tratamientos es MSTr = {MSTr}')"
      ],
      "metadata": {
        "colab": {
          "base_uri": "https://localhost:8080/"
        },
        "id": "U4t9TXQUUpIU",
        "outputId": "e060d463-190c-42a7-83a4-693cebe453b2"
      },
      "execution_count": null,
      "outputs": [
        {
          "output_type": "stream",
          "name": "stdout",
          "text": [
            "La variabilidad de los tratamientos es SSTr = Desgaste    7072.333333\n",
            "dtype: float64\n",
            "La variabilidad de los tratamientos es MSTr = Desgaste    2357.444444\n",
            "dtype: float64\n"
          ]
        }
      ]
    },
    {
      "cell_type": "markdown",
      "source": [
        "## **d. La variabilidad de los Residuos es _SSE_ y la Varianza Total _CME_**"
      ],
      "metadata": {
        "id": "WB7t5BYfVtk0"
      }
    },
    {
      "cell_type": "code",
      "source": [
        "SSE = SST - SSTr\n",
        "\n",
        "MSE = SSE/(N-k)\n",
        "print(f'La variabilidad de los residuos es SSE = {SSE}')\n",
        "print(f'La varianza de los residuos es MSE = {MSE}')"
      ],
      "metadata": {
        "colab": {
          "base_uri": "https://localhost:8080/"
        },
        "id": "kOaOxT4kV1me",
        "outputId": "6b77afa9-78c9-436a-cb5d-a9fd71c8981a"
      },
      "execution_count": null,
      "outputs": [
        {
          "output_type": "stream",
          "name": "stdout",
          "text": [
            "La variabilidad de los residuos es SSE = Desgaste    2029.0\n",
            "dtype: float64\n",
            "La varianza de los residuos es MSE = Desgaste    101.45\n",
            "dtype: float64\n"
          ]
        }
      ]
    },
    {
      "cell_type": "markdown",
      "source": [
        "## **c. Agregamos una columna que contenga el producto de las variables $xy$**"
      ],
      "metadata": {
        "id": "vLpJdA9EmzAR"
      }
    },
    {
      "cell_type": "markdown",
      "source": [
        "# **Paso_4. Tabla Anova**\n",
        "\n",
        "\n",
        "## **a. Estructura de la Tabla Anova**\n",
        "\n",
        "|Fuente|SC|g.l|MS|F|p_value|\n",
        "|:--:|:--:|:--:|:--:|:--:|:--:|\n",
        "|Tratamientos|SSR|k-1|MSR=SSR/1|MSR/MSE|-|\n",
        "|Error|SSE|n-k|MSE=SSE/(n-k)|-|-|\n",
        "|Total|SST|n-1|-|-|-|\n",
        "\n"
      ],
      "metadata": {
        "id": "8Ip9Ro3qNqGq"
      }
    },
    {
      "cell_type": "markdown",
      "source": [
        "## **b. El coeficiente de determinación del ajuste**\n",
        "\n",
        "$$R^2 = 1- \\frac{SSE}{SST}$$"
      ],
      "metadata": {
        "id": "92zOneqzvA60"
      }
    },
    {
      "cell_type": "code",
      "source": [
        "R_2 = 1- SSE/SST\n",
        "print(f'El coeficente de R_cuadrado es {R_2*100} por ciento')"
      ],
      "metadata": {
        "colab": {
          "base_uri": "https://localhost:8080/"
        },
        "id": "hsFepe9tvfkW",
        "outputId": "110cfb15-f964-4947-958d-839342e0424b"
      },
      "execution_count": null,
      "outputs": [
        {
          "output_type": "stream",
          "name": "stdout",
          "text": [
            "El coeficente de R_cuadrado es Desgaste    77.706563\n",
            "dtype: float64 por ciento\n"
          ]
        }
      ]
    },
    {
      "cell_type": "markdown",
      "source": [
        "\n",
        "##  ***c. Análisis de Varianza - Usando Statgraphics***\n",
        "\n",
        "- Tabla ANOVA para DESGASTE por T_CUERO\n",
        "\n",
        "|Fuente\t|Suma de Cuadrados|\tGl|\tCuadrado Medio|\tRazón-F|\tValor-P|\n",
        "|:--:|:--:|:--:|:--:|:--:|:--:|\n",
        "|Entre grupos|\t7072,33|\t3|\t2357,44\t|23,24\t|0,0000\n",
        "|Intra grupos\t|2029,0\t|20\t|101,45\n",
        "|Total (Corr.)|\t9101,33|\t23|\n",
        "\n",
        "- **El StatAdvisor**\n",
        "- La tabla ANOVA descompone la varianza de DESGASTE en dos componentes: un componente entre-grupos y un componente dentro-de-grupos.  \n",
        "- La razón-F, que en este caso es igual a 23,2375, es el cociente entre el estimado entre-grupos y el estimado dentro-de-grupos.  Puesto que el valor-P de la prueba-F es menor que 0,05, existe una diferencia estadísticamente significativa entre la media de DESGASTE entre un nivel de T_CUERO y otro, con un nivel del 5% de significación.  \n",
        "\n",
        "\n",
        "\n",
        "\n"
      ],
      "metadata": {
        "id": "v3E0vOJtRuIS"
      }
    },
    {
      "cell_type": "markdown",
      "source": [
        "## **d. Instalando La librería Necesaria _texttable_**"
      ],
      "metadata": {
        "id": "xQS0R7lxrXx6"
      }
    },
    {
      "cell_type": "code",
      "source": [
        "!pip install texttable"
      ],
      "metadata": {
        "colab": {
          "base_uri": "https://localhost:8080/"
        },
        "id": "0Va14_zGTlXl",
        "outputId": "b15ddff0-d3dc-4c96-c8a6-fb1574f02ec4"
      },
      "execution_count": null,
      "outputs": [
        {
          "output_type": "stream",
          "name": "stdout",
          "text": [
            "Requirement already satisfied: texttable in /usr/local/lib/python3.10/dist-packages (1.6.7)\n"
          ]
        }
      ]
    },
    {
      "cell_type": "markdown",
      "source": [
        "## **c. El valor p, de la prueba**"
      ],
      "metadata": {
        "id": "EpT5zWMFrlv6"
      }
    },
    {
      "cell_type": "code",
      "source": [
        "from scipy import stats\n",
        "F = stats.f(k-1,N-k)\n",
        "valor_p = 1 - F.cdf(MSTr/MSE)\n",
        "valor_p"
      ],
      "metadata": {
        "id": "PCCTisy0gpFI",
        "colab": {
          "base_uri": "https://localhost:8080/"
        },
        "outputId": "3adf65e0-c819-4d49-cb44-84b18c3f2ddc"
      },
      "execution_count": null,
      "outputs": [
        {
          "output_type": "execute_result",
          "data": {
            "text/plain": [
              "array([1.00179569e-06])"
            ]
          },
          "metadata": {},
          "execution_count": 93
        }
      ]
    },
    {
      "cell_type": "markdown",
      "source": [
        "## **d. Construyendo la Tabla Anova**"
      ],
      "metadata": {
        "id": "xJBZ4mPFruyI"
      }
    },
    {
      "cell_type": "code",
      "source": [
        "from texttable import Texttable\n",
        "t = Texttable()\n",
        "t.add_rows([['Fuente','SS', 'g.l', 'MS', 'F', 'valor_p'],\n",
        "           ['Tratamientos',\tSSTr,\tk-1,\tMSTr,\tMSTr/MSE, valor_p],\n",
        "           ['Error',\tSSE,\tN-k,\tMSE, '', ''],\n",
        "           ['Total',\tSST,\tN-1, '' , '', '']])\n",
        "print(t.draw())"
      ],
      "metadata": {
        "colab": {
          "base_uri": "https://localhost:8080/"
        },
        "id": "ID9nqu6uXCFx",
        "outputId": "79ea4df4-267f-482c-889e-2588b71e3055"
      },
      "execution_count": null,
      "outputs": [
        {
          "output_type": "stream",
          "name": "stdout",
          "text": [
            "+--------------+----------+-----+----------+--------+---------+\n",
            "|    Fuente    |    SS    | g.l |    MS    |   F    | valor_p |\n",
            "+==============+==========+=====+==========+========+=========+\n",
            "| Tratamientos | 7072.333 | 3   | 2357.444 | 23.238 | 0.000   |\n",
            "+--------------+----------+-----+----------+--------+---------+\n",
            "| Error        | 2029     | 20  | 101.450  |        |         |\n",
            "+--------------+----------+-----+----------+--------+---------+\n",
            "| Total        | 9101.333 | 23  |          |        |         |\n",
            "+--------------+----------+-----+----------+--------+---------+\n"
          ]
        }
      ]
    },
    {
      "cell_type": "markdown",
      "source": [
        "# **e. Prueba de Tukey**\n",
        "\n",
        "$$Tukey = Q_{α,k,N-k}\\sqrt{\\frac{CME}{n}} = Q_{0.05,4,20}\\sqrt{\\frac{CME}{n}}$$"
      ],
      "metadata": {
        "id": "feuN_L8jlLx3"
      }
    },
    {
      "cell_type": "markdown",
      "source": [
        "![https://image.slidesharecdn.com/tablasdetukeyyduncan-140609084807-phpapp01/75/tablas-de-tukeyyduncan-1-2048.jpg?cb=1666068938](https://image.slidesharecdn.com/tablasdetukeyyduncan-140609084807-phpapp01/75/tablas-de-tukeyyduncan-1-2048.jpg?cb=1666068938)"
      ],
      "metadata": {
        "id": "RXUAqcNevdZ_"
      }
    },
    {
      "cell_type": "markdown",
      "source": [
        "![](https://image.slidesharecdn.com/tablasdetukeyyduncan-140609084807-phpapp01/75/tablas-de-tukeyyduncan-2-2048.jpg?cb=1666068938)"
      ],
      "metadata": {
        "id": "02cmf6wgv0J3"
      }
    },
    {
      "cell_type": "markdown",
      "source": [
        "![](https://image.slidesharecdn.com/tablasdetukeyyduncan-140609084807-phpapp01/75/tablas-de-tukeyyduncan-3-2048.jpg?cb=1666068938)"
      ],
      "metadata": {
        "id": "QKFu1qMBwGfI"
      }
    },
    {
      "cell_type": "code",
      "source": [
        "Tukey = 16.283"
      ],
      "metadata": {
        "id": "VjH4AbYGmkDg"
      },
      "execution_count": null,
      "outputs": []
    },
    {
      "cell_type": "code",
      "source": [
        "HSD = Texttable()\n",
        "HSD.add_rows([['Tratamiento','valor absoluto diferencia Media', 'Tukey', 'HAY DIFERENCIAS','LINF', 'LSUP' ],\n",
        "           ['A-B', abs(media_A-media_B)\t,\tTukey,\tabs(media_A-media_B)>Tukey, media_A-media_B-Tukey, media_A-media_B+Tukey \t],\n",
        "           ['A-C', abs(media_A-media_C)\t,\tTukey,\tabs(media_A-media_C)>Tukey, media_A-media_C-Tukey, media_A-media_C+Tukey ],\n",
        "           ['A-D', abs(media_A-media_D)\t,\tTukey,\tabs(media_A-media_D)>Tukey, media_A-media_D-Tukey, media_A-media_D+Tukey ],\n",
        "           ['B-C', abs(media_B-media_C)\t,\tTukey,\tabs(media_B-media_C)>Tukey, media_B-media_C-Tukey, media_B-media_C+Tukey\t],\n",
        "           ['B-D', abs(media_B-media_D)\t,\tTukey,\tabs(media_B-media_D)>Tukey, media_B-media_D-Tukey, media_B-media_D+Tukey ],\n",
        "           ['C-D', abs(media_C-media_D)\t,\tTukey,\tabs(media_C-media_D)>Tukey, media_C-media_D-Tukey, media_C-media_D+Tukey ]])\n",
        "print(HSD.draw())"
      ],
      "metadata": {
        "colab": {
          "base_uri": "https://localhost:8080/"
        },
        "id": "QN7hD83ykyB3",
        "outputId": "d7530bca-eba5-4592-cff0-ff956dedb607"
      },
      "execution_count": null,
      "outputs": [
        {
          "output_type": "stream",
          "name": "stdout",
          "text": [
            "+-------------+------------------+--------+-----------------+---------+--------+\n",
            "| Tratamiento |  valor absoluto  | Tukey  | HAY DIFERENCIAS |  LINF   |  LSUP  |\n",
            "|             | diferencia Media |        |                 |         |        |\n",
            "+=============+==================+========+=================+=========+========+\n",
            "| A-B         | 46.167           | 16.283 | 1               | 29.884  | 62.450 |\n",
            "+-------------+------------------+--------+-----------------+---------+--------+\n",
            "| A-C         | 25.833           | 16.283 | 1               | 9.550   | 42.116 |\n",
            "+-------------+------------------+--------+-----------------+---------+--------+\n",
            "| A-D         | 36.000           | 16.283 | 1               | 19.717  | 52.283 |\n",
            "+-------------+------------------+--------+-----------------+---------+--------+\n",
            "| B-C         | 20.333           | 16.283 | 1               | -36.616 | -4.050 |\n",
            "+-------------+------------------+--------+-----------------+---------+--------+\n",
            "| B-D         | 10.167           | 16.283 | 0               | -26.450 | 6.116  |\n",
            "+-------------+------------------+--------+-----------------+---------+--------+\n",
            "| C-D         | 10.167           | 16.283 | 0               | -6.116  | 26.450 |\n",
            "+-------------+------------------+--------+-----------------+---------+--------+\n"
          ]
        }
      ]
    },
    {
      "cell_type": "markdown",
      "source": [
        "![image.png](data:image/png;base64,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)"
      ],
      "metadata": {
        "id": "LjBrm8BHtvrF"
      }
    },
    {
      "cell_type": "code",
      "source": [],
      "metadata": {
        "id": "7nfVTkbjtzAF"
      },
      "execution_count": null,
      "outputs": []
    }
  ]
}