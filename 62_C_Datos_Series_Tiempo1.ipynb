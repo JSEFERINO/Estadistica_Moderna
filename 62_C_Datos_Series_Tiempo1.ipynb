{
  "nbformat": 4,
  "nbformat_minor": 0,
  "metadata": {
    "colab": {
      "provenance": [],
      "authorship_tag": "ABX9TyPU9naXD+ZdTK7zbwd//39m",
      "include_colab_link": true
    },
    "kernelspec": {
      "name": "python3",
      "display_name": "Python 3"
    },
    "language_info": {
      "name": "python"
    },
    "widgets": {
      "application/vnd.jupyter.widget-state+json": {
        "87932ef613f64cd1bb6921fdb9d79e68": {
          "model_module": "@jupyter-widgets/controls",
          "model_name": "HBoxModel",
          "model_module_version": "1.5.0",
          "state": {
            "_dom_classes": [],
            "_model_module": "@jupyter-widgets/controls",
            "_model_module_version": "1.5.0",
            "_model_name": "HBoxModel",
            "_view_count": null,
            "_view_module": "@jupyter-widgets/controls",
            "_view_module_version": "1.5.0",
            "_view_name": "HBoxView",
            "box_style": "",
            "children": [
              "IPY_MODEL_a080cd2a572546b58f1f7e46fa921b3c",
              "IPY_MODEL_9baaf80885e44e31a2b331e2cc22dfe7",
              "IPY_MODEL_af0ae42453ce46c1b9fbcb75de958f07"
            ],
            "layout": "IPY_MODEL_0d8501cd46ad47fe9b25a7a1781481e6"
          }
        },
        "a080cd2a572546b58f1f7e46fa921b3c": {
          "model_module": "@jupyter-widgets/controls",
          "model_name": "HTMLModel",
          "model_module_version": "1.5.0",
          "state": {
            "_dom_classes": [],
            "_model_module": "@jupyter-widgets/controls",
            "_model_module_version": "1.5.0",
            "_model_name": "HTMLModel",
            "_view_count": null,
            "_view_module": "@jupyter-widgets/controls",
            "_view_module_version": "1.5.0",
            "_view_name": "HTMLView",
            "description": "",
            "description_tooltip": null,
            "layout": "IPY_MODEL_f5633b94ec674b53b32ffb953a24eda0",
            "placeholder": "​",
            "style": "IPY_MODEL_608604c0b9224d01897488a8a9cdf0d9",
            "value": "lags grid: 100%"
          }
        },
        "9baaf80885e44e31a2b331e2cc22dfe7": {
          "model_module": "@jupyter-widgets/controls",
          "model_name": "FloatProgressModel",
          "model_module_version": "1.5.0",
          "state": {
            "_dom_classes": [],
            "_model_module": "@jupyter-widgets/controls",
            "_model_module_version": "1.5.0",
            "_model_name": "FloatProgressModel",
            "_view_count": null,
            "_view_module": "@jupyter-widgets/controls",
            "_view_module_version": "1.5.0",
            "_view_name": "ProgressView",
            "bar_style": "success",
            "description": "",
            "description_tooltip": null,
            "layout": "IPY_MODEL_522208912f854ee496b13ae0795256dc",
            "max": 2,
            "min": 0,
            "orientation": "horizontal",
            "style": "IPY_MODEL_ce626c482a144951b04bc5157d9f3c22",
            "value": 2
          }
        },
        "af0ae42453ce46c1b9fbcb75de958f07": {
          "model_module": "@jupyter-widgets/controls",
          "model_name": "HTMLModel",
          "model_module_version": "1.5.0",
          "state": {
            "_dom_classes": [],
            "_model_module": "@jupyter-widgets/controls",
            "_model_module_version": "1.5.0",
            "_model_name": "HTMLModel",
            "_view_count": null,
            "_view_module": "@jupyter-widgets/controls",
            "_view_module_version": "1.5.0",
            "_view_name": "HTMLView",
            "description": "",
            "description_tooltip": null,
            "layout": "IPY_MODEL_1b3040810aca467fb1774d320c028a81",
            "placeholder": "​",
            "style": "IPY_MODEL_b5460b88c6f449538f162335961819e2",
            "value": " 2/2 [00:11&lt;00:00,  5.97s/it]"
          }
        },
        "0d8501cd46ad47fe9b25a7a1781481e6": {
          "model_module": "@jupyter-widgets/base",
          "model_name": "LayoutModel",
          "model_module_version": "1.2.0",
          "state": {
            "_model_module": "@jupyter-widgets/base",
            "_model_module_version": "1.2.0",
            "_model_name": "LayoutModel",
            "_view_count": null,
            "_view_module": "@jupyter-widgets/base",
            "_view_module_version": "1.2.0",
            "_view_name": "LayoutView",
            "align_content": null,
            "align_items": null,
            "align_self": null,
            "border": null,
            "bottom": null,
            "display": null,
            "flex": null,
            "flex_flow": null,
            "grid_area": null,
            "grid_auto_columns": null,
            "grid_auto_flow": null,
            "grid_auto_rows": null,
            "grid_column": null,
            "grid_gap": null,
            "grid_row": null,
            "grid_template_areas": null,
            "grid_template_columns": null,
            "grid_template_rows": null,
            "height": null,
            "justify_content": null,
            "justify_items": null,
            "left": null,
            "margin": null,
            "max_height": null,
            "max_width": null,
            "min_height": null,
            "min_width": null,
            "object_fit": null,
            "object_position": null,
            "order": null,
            "overflow": null,
            "overflow_x": null,
            "overflow_y": null,
            "padding": null,
            "right": null,
            "top": null,
            "visibility": null,
            "width": null
          }
        },
        "f5633b94ec674b53b32ffb953a24eda0": {
          "model_module": "@jupyter-widgets/base",
          "model_name": "LayoutModel",
          "model_module_version": "1.2.0",
          "state": {
            "_model_module": "@jupyter-widgets/base",
            "_model_module_version": "1.2.0",
            "_model_name": "LayoutModel",
            "_view_count": null,
            "_view_module": "@jupyter-widgets/base",
            "_view_module_version": "1.2.0",
            "_view_name": "LayoutView",
            "align_content": null,
            "align_items": null,
            "align_self": null,
            "border": null,
            "bottom": null,
            "display": null,
            "flex": null,
            "flex_flow": null,
            "grid_area": null,
            "grid_auto_columns": null,
            "grid_auto_flow": null,
            "grid_auto_rows": null,
            "grid_column": null,
            "grid_gap": null,
            "grid_row": null,
            "grid_template_areas": null,
            "grid_template_columns": null,
            "grid_template_rows": null,
            "height": null,
            "justify_content": null,
            "justify_items": null,
            "left": null,
            "margin": null,
            "max_height": null,
            "max_width": null,
            "min_height": null,
            "min_width": null,
            "object_fit": null,
            "object_position": null,
            "order": null,
            "overflow": null,
            "overflow_x": null,
            "overflow_y": null,
            "padding": null,
            "right": null,
            "top": null,
            "visibility": null,
            "width": null
          }
        },
        "608604c0b9224d01897488a8a9cdf0d9": {
          "model_module": "@jupyter-widgets/controls",
          "model_name": "DescriptionStyleModel",
          "model_module_version": "1.5.0",
          "state": {
            "_model_module": "@jupyter-widgets/controls",
            "_model_module_version": "1.5.0",
            "_model_name": "DescriptionStyleModel",
            "_view_count": null,
            "_view_module": "@jupyter-widgets/base",
            "_view_module_version": "1.2.0",
            "_view_name": "StyleView",
            "description_width": ""
          }
        },
        "522208912f854ee496b13ae0795256dc": {
          "model_module": "@jupyter-widgets/base",
          "model_name": "LayoutModel",
          "model_module_version": "1.2.0",
          "state": {
            "_model_module": "@jupyter-widgets/base",
            "_model_module_version": "1.2.0",
            "_model_name": "LayoutModel",
            "_view_count": null,
            "_view_module": "@jupyter-widgets/base",
            "_view_module_version": "1.2.0",
            "_view_name": "LayoutView",
            "align_content": null,
            "align_items": null,
            "align_self": null,
            "border": null,
            "bottom": null,
            "display": null,
            "flex": null,
            "flex_flow": null,
            "grid_area": null,
            "grid_auto_columns": null,
            "grid_auto_flow": null,
            "grid_auto_rows": null,
            "grid_column": null,
            "grid_gap": null,
            "grid_row": null,
            "grid_template_areas": null,
            "grid_template_columns": null,
            "grid_template_rows": null,
            "height": null,
            "justify_content": null,
            "justify_items": null,
            "left": null,
            "margin": null,
            "max_height": null,
            "max_width": null,
            "min_height": null,
            "min_width": null,
            "object_fit": null,
            "object_position": null,
            "order": null,
            "overflow": null,
            "overflow_x": null,
            "overflow_y": null,
            "padding": null,
            "right": null,
            "top": null,
            "visibility": null,
            "width": null
          }
        },
        "ce626c482a144951b04bc5157d9f3c22": {
          "model_module": "@jupyter-widgets/controls",
          "model_name": "ProgressStyleModel",
          "model_module_version": "1.5.0",
          "state": {
            "_model_module": "@jupyter-widgets/controls",
            "_model_module_version": "1.5.0",
            "_model_name": "ProgressStyleModel",
            "_view_count": null,
            "_view_module": "@jupyter-widgets/base",
            "_view_module_version": "1.2.0",
            "_view_name": "StyleView",
            "bar_color": null,
            "description_width": ""
          }
        },
        "1b3040810aca467fb1774d320c028a81": {
          "model_module": "@jupyter-widgets/base",
          "model_name": "LayoutModel",
          "model_module_version": "1.2.0",
          "state": {
            "_model_module": "@jupyter-widgets/base",
            "_model_module_version": "1.2.0",
            "_model_name": "LayoutModel",
            "_view_count": null,
            "_view_module": "@jupyter-widgets/base",
            "_view_module_version": "1.2.0",
            "_view_name": "LayoutView",
            "align_content": null,
            "align_items": null,
            "align_self": null,
            "border": null,
            "bottom": null,
            "display": null,
            "flex": null,
            "flex_flow": null,
            "grid_area": null,
            "grid_auto_columns": null,
            "grid_auto_flow": null,
            "grid_auto_rows": null,
            "grid_column": null,
            "grid_gap": null,
            "grid_row": null,
            "grid_template_areas": null,
            "grid_template_columns": null,
            "grid_template_rows": null,
            "height": null,
            "justify_content": null,
            "justify_items": null,
            "left": null,
            "margin": null,
            "max_height": null,
            "max_width": null,
            "min_height": null,
            "min_width": null,
            "object_fit": null,
            "object_position": null,
            "order": null,
            "overflow": null,
            "overflow_x": null,
            "overflow_y": null,
            "padding": null,
            "right": null,
            "top": null,
            "visibility": null,
            "width": null
          }
        },
        "b5460b88c6f449538f162335961819e2": {
          "model_module": "@jupyter-widgets/controls",
          "model_name": "DescriptionStyleModel",
          "model_module_version": "1.5.0",
          "state": {
            "_model_module": "@jupyter-widgets/controls",
            "_model_module_version": "1.5.0",
            "_model_name": "DescriptionStyleModel",
            "_view_count": null,
            "_view_module": "@jupyter-widgets/base",
            "_view_module_version": "1.2.0",
            "_view_name": "StyleView",
            "description_width": ""
          }
        },
        "d9dbf2208a2e4df0a8eaf91754400261": {
          "model_module": "@jupyter-widgets/controls",
          "model_name": "HBoxModel",
          "model_module_version": "1.5.0",
          "state": {
            "_dom_classes": [],
            "_model_module": "@jupyter-widgets/controls",
            "_model_module_version": "1.5.0",
            "_model_name": "HBoxModel",
            "_view_count": null,
            "_view_module": "@jupyter-widgets/controls",
            "_view_module_version": "1.5.0",
            "_view_name": "HBoxView",
            "box_style": "",
            "children": [
              "IPY_MODEL_6932da0b90674bfb81fe3584d06a28f6",
              "IPY_MODEL_440e46d4ad9b4af3876c101feab1038a",
              "IPY_MODEL_926ff0de3d314c218c729ab2a4cf70a0"
            ],
            "layout": "IPY_MODEL_2da84f24e6bc44109a8ba1ca099e6657"
          }
        },
        "6932da0b90674bfb81fe3584d06a28f6": {
          "model_module": "@jupyter-widgets/controls",
          "model_name": "HTMLModel",
          "model_module_version": "1.5.0",
          "state": {
            "_dom_classes": [],
            "_model_module": "@jupyter-widgets/controls",
            "_model_module_version": "1.5.0",
            "_model_name": "HTMLModel",
            "_view_count": null,
            "_view_module": "@jupyter-widgets/controls",
            "_view_module_version": "1.5.0",
            "_view_name": "HTMLView",
            "description": "",
            "description_tooltip": null,
            "layout": "IPY_MODEL_5d9b24b90e794d19a978ee4242ae88be",
            "placeholder": "​",
            "style": "IPY_MODEL_7fd8ecd782ea4f64b3ff570585fb5c2f",
            "value": "params grid: 100%"
          }
        },
        "440e46d4ad9b4af3876c101feab1038a": {
          "model_module": "@jupyter-widgets/controls",
          "model_name": "FloatProgressModel",
          "model_module_version": "1.5.0",
          "state": {
            "_dom_classes": [],
            "_model_module": "@jupyter-widgets/controls",
            "_model_module_version": "1.5.0",
            "_model_name": "FloatProgressModel",
            "_view_count": null,
            "_view_module": "@jupyter-widgets/controls",
            "_view_module_version": "1.5.0",
            "_view_name": "ProgressView",
            "bar_style": "",
            "description": "",
            "description_tooltip": null,
            "layout": "IPY_MODEL_c7af9f925b67450892a3cf9f51c0b944",
            "max": 6,
            "min": 0,
            "orientation": "horizontal",
            "style": "IPY_MODEL_5ff67518d7b748ce8533c8ce0837ace5",
            "value": 6
          }
        },
        "926ff0de3d314c218c729ab2a4cf70a0": {
          "model_module": "@jupyter-widgets/controls",
          "model_name": "HTMLModel",
          "model_module_version": "1.5.0",
          "state": {
            "_dom_classes": [],
            "_model_module": "@jupyter-widgets/controls",
            "_model_module_version": "1.5.0",
            "_model_name": "HTMLModel",
            "_view_count": null,
            "_view_module": "@jupyter-widgets/controls",
            "_view_module_version": "1.5.0",
            "_view_name": "HTMLView",
            "description": "",
            "description_tooltip": null,
            "layout": "IPY_MODEL_2c0ec18927fd47a1b49e85f910d76bc5",
            "placeholder": "​",
            "style": "IPY_MODEL_19559096a46a4b31861c5540b0415951",
            "value": " 6/6 [00:05&lt;00:00,  1.05it/s]"
          }
        },
        "2da84f24e6bc44109a8ba1ca099e6657": {
          "model_module": "@jupyter-widgets/base",
          "model_name": "LayoutModel",
          "model_module_version": "1.2.0",
          "state": {
            "_model_module": "@jupyter-widgets/base",
            "_model_module_version": "1.2.0",
            "_model_name": "LayoutModel",
            "_view_count": null,
            "_view_module": "@jupyter-widgets/base",
            "_view_module_version": "1.2.0",
            "_view_name": "LayoutView",
            "align_content": null,
            "align_items": null,
            "align_self": null,
            "border": null,
            "bottom": null,
            "display": null,
            "flex": null,
            "flex_flow": null,
            "grid_area": null,
            "grid_auto_columns": null,
            "grid_auto_flow": null,
            "grid_auto_rows": null,
            "grid_column": null,
            "grid_gap": null,
            "grid_row": null,
            "grid_template_areas": null,
            "grid_template_columns": null,
            "grid_template_rows": null,
            "height": null,
            "justify_content": null,
            "justify_items": null,
            "left": null,
            "margin": null,
            "max_height": null,
            "max_width": null,
            "min_height": null,
            "min_width": null,
            "object_fit": null,
            "object_position": null,
            "order": null,
            "overflow": null,
            "overflow_x": null,
            "overflow_y": null,
            "padding": null,
            "right": null,
            "top": null,
            "visibility": "hidden",
            "width": null
          }
        },
        "5d9b24b90e794d19a978ee4242ae88be": {
          "model_module": "@jupyter-widgets/base",
          "model_name": "LayoutModel",
          "model_module_version": "1.2.0",
          "state": {
            "_model_module": "@jupyter-widgets/base",
            "_model_module_version": "1.2.0",
            "_model_name": "LayoutModel",
            "_view_count": null,
            "_view_module": "@jupyter-widgets/base",
            "_view_module_version": "1.2.0",
            "_view_name": "LayoutView",
            "align_content": null,
            "align_items": null,
            "align_self": null,
            "border": null,
            "bottom": null,
            "display": null,
            "flex": null,
            "flex_flow": null,
            "grid_area": null,
            "grid_auto_columns": null,
            "grid_auto_flow": null,
            "grid_auto_rows": null,
            "grid_column": null,
            "grid_gap": null,
            "grid_row": null,
            "grid_template_areas": null,
            "grid_template_columns": null,
            "grid_template_rows": null,
            "height": null,
            "justify_content": null,
            "justify_items": null,
            "left": null,
            "margin": null,
            "max_height": null,
            "max_width": null,
            "min_height": null,
            "min_width": null,
            "object_fit": null,
            "object_position": null,
            "order": null,
            "overflow": null,
            "overflow_x": null,
            "overflow_y": null,
            "padding": null,
            "right": null,
            "top": null,
            "visibility": null,
            "width": null
          }
        },
        "7fd8ecd782ea4f64b3ff570585fb5c2f": {
          "model_module": "@jupyter-widgets/controls",
          "model_name": "DescriptionStyleModel",
          "model_module_version": "1.5.0",
          "state": {
            "_model_module": "@jupyter-widgets/controls",
            "_model_module_version": "1.5.0",
            "_model_name": "DescriptionStyleModel",
            "_view_count": null,
            "_view_module": "@jupyter-widgets/base",
            "_view_module_version": "1.2.0",
            "_view_name": "StyleView",
            "description_width": ""
          }
        },
        "c7af9f925b67450892a3cf9f51c0b944": {
          "model_module": "@jupyter-widgets/base",
          "model_name": "LayoutModel",
          "model_module_version": "1.2.0",
          "state": {
            "_model_module": "@jupyter-widgets/base",
            "_model_module_version": "1.2.0",
            "_model_name": "LayoutModel",
            "_view_count": null,
            "_view_module": "@jupyter-widgets/base",
            "_view_module_version": "1.2.0",
            "_view_name": "LayoutView",
            "align_content": null,
            "align_items": null,
            "align_self": null,
            "border": null,
            "bottom": null,
            "display": null,
            "flex": null,
            "flex_flow": null,
            "grid_area": null,
            "grid_auto_columns": null,
            "grid_auto_flow": null,
            "grid_auto_rows": null,
            "grid_column": null,
            "grid_gap": null,
            "grid_row": null,
            "grid_template_areas": null,
            "grid_template_columns": null,
            "grid_template_rows": null,
            "height": null,
            "justify_content": null,
            "justify_items": null,
            "left": null,
            "margin": null,
            "max_height": null,
            "max_width": null,
            "min_height": null,
            "min_width": null,
            "object_fit": null,
            "object_position": null,
            "order": null,
            "overflow": null,
            "overflow_x": null,
            "overflow_y": null,
            "padding": null,
            "right": null,
            "top": null,
            "visibility": null,
            "width": null
          }
        },
        "5ff67518d7b748ce8533c8ce0837ace5": {
          "model_module": "@jupyter-widgets/controls",
          "model_name": "ProgressStyleModel",
          "model_module_version": "1.5.0",
          "state": {
            "_model_module": "@jupyter-widgets/controls",
            "_model_module_version": "1.5.0",
            "_model_name": "ProgressStyleModel",
            "_view_count": null,
            "_view_module": "@jupyter-widgets/base",
            "_view_module_version": "1.2.0",
            "_view_name": "StyleView",
            "bar_color": null,
            "description_width": ""
          }
        },
        "2c0ec18927fd47a1b49e85f910d76bc5": {
          "model_module": "@jupyter-widgets/base",
          "model_name": "LayoutModel",
          "model_module_version": "1.2.0",
          "state": {
            "_model_module": "@jupyter-widgets/base",
            "_model_module_version": "1.2.0",
            "_model_name": "LayoutModel",
            "_view_count": null,
            "_view_module": "@jupyter-widgets/base",
            "_view_module_version": "1.2.0",
            "_view_name": "LayoutView",
            "align_content": null,
            "align_items": null,
            "align_self": null,
            "border": null,
            "bottom": null,
            "display": null,
            "flex": null,
            "flex_flow": null,
            "grid_area": null,
            "grid_auto_columns": null,
            "grid_auto_flow": null,
            "grid_auto_rows": null,
            "grid_column": null,
            "grid_gap": null,
            "grid_row": null,
            "grid_template_areas": null,
            "grid_template_columns": null,
            "grid_template_rows": null,
            "height": null,
            "justify_content": null,
            "justify_items": null,
            "left": null,
            "margin": null,
            "max_height": null,
            "max_width": null,
            "min_height": null,
            "min_width": null,
            "object_fit": null,
            "object_position": null,
            "order": null,
            "overflow": null,
            "overflow_x": null,
            "overflow_y": null,
            "padding": null,
            "right": null,
            "top": null,
            "visibility": null,
            "width": null
          }
        },
        "19559096a46a4b31861c5540b0415951": {
          "model_module": "@jupyter-widgets/controls",
          "model_name": "DescriptionStyleModel",
          "model_module_version": "1.5.0",
          "state": {
            "_model_module": "@jupyter-widgets/controls",
            "_model_module_version": "1.5.0",
            "_model_name": "DescriptionStyleModel",
            "_view_count": null,
            "_view_module": "@jupyter-widgets/base",
            "_view_module_version": "1.2.0",
            "_view_name": "StyleView",
            "description_width": ""
          }
        },
        "3eed526da5414a2aaca969a93ff301e6": {
          "model_module": "@jupyter-widgets/controls",
          "model_name": "HBoxModel",
          "model_module_version": "1.5.0",
          "state": {
            "_dom_classes": [],
            "_model_module": "@jupyter-widgets/controls",
            "_model_module_version": "1.5.0",
            "_model_name": "HBoxModel",
            "_view_count": null,
            "_view_module": "@jupyter-widgets/controls",
            "_view_module_version": "1.5.0",
            "_view_name": "HBoxView",
            "box_style": "",
            "children": [
              "IPY_MODEL_e53031642bda4a9aa5246028c30e4296",
              "IPY_MODEL_5bf4e95a478947f7899c8416bfe08449",
              "IPY_MODEL_ca9726f6312e4aeab3600b87e933afab"
            ],
            "layout": "IPY_MODEL_4fcf49a9e3364f17aa57a51d3483615f"
          }
        },
        "e53031642bda4a9aa5246028c30e4296": {
          "model_module": "@jupyter-widgets/controls",
          "model_name": "HTMLModel",
          "model_module_version": "1.5.0",
          "state": {
            "_dom_classes": [],
            "_model_module": "@jupyter-widgets/controls",
            "_model_module_version": "1.5.0",
            "_model_name": "HTMLModel",
            "_view_count": null,
            "_view_module": "@jupyter-widgets/controls",
            "_view_module_version": "1.5.0",
            "_view_name": "HTMLView",
            "description": "",
            "description_tooltip": null,
            "layout": "IPY_MODEL_e64ea51775694e3888524fb9112b7d76",
            "placeholder": "​",
            "style": "IPY_MODEL_58f81d45c3df4d67b0bfa6894849896e",
            "value": "100%"
          }
        },
        "5bf4e95a478947f7899c8416bfe08449": {
          "model_module": "@jupyter-widgets/controls",
          "model_name": "FloatProgressModel",
          "model_module_version": "1.5.0",
          "state": {
            "_dom_classes": [],
            "_model_module": "@jupyter-widgets/controls",
            "_model_module_version": "1.5.0",
            "_model_name": "FloatProgressModel",
            "_view_count": null,
            "_view_module": "@jupyter-widgets/controls",
            "_view_module_version": "1.5.0",
            "_view_name": "ProgressView",
            "bar_style": "success",
            "description": "",
            "description_tooltip": null,
            "layout": "IPY_MODEL_e0e7c90c50a64d57a2343b6a48487dc6",
            "max": 3,
            "min": 0,
            "orientation": "horizontal",
            "style": "IPY_MODEL_a84355a0848845168c6232ca20dba9d6",
            "value": 3
          }
        },
        "ca9726f6312e4aeab3600b87e933afab": {
          "model_module": "@jupyter-widgets/controls",
          "model_name": "HTMLModel",
          "model_module_version": "1.5.0",
          "state": {
            "_dom_classes": [],
            "_model_module": "@jupyter-widgets/controls",
            "_model_module_version": "1.5.0",
            "_model_name": "HTMLModel",
            "_view_count": null,
            "_view_module": "@jupyter-widgets/controls",
            "_view_module_version": "1.5.0",
            "_view_name": "HTMLView",
            "description": "",
            "description_tooltip": null,
            "layout": "IPY_MODEL_3d13e38ee80944e6abfff261215e9ef8",
            "placeholder": "​",
            "style": "IPY_MODEL_a013fbea259843aa99b8c115026d822a",
            "value": " 3/3 [00:00&lt;00:00, 18.66it/s]"
          }
        },
        "4fcf49a9e3364f17aa57a51d3483615f": {
          "model_module": "@jupyter-widgets/base",
          "model_name": "LayoutModel",
          "model_module_version": "1.2.0",
          "state": {
            "_model_module": "@jupyter-widgets/base",
            "_model_module_version": "1.2.0",
            "_model_name": "LayoutModel",
            "_view_count": null,
            "_view_module": "@jupyter-widgets/base",
            "_view_module_version": "1.2.0",
            "_view_name": "LayoutView",
            "align_content": null,
            "align_items": null,
            "align_self": null,
            "border": null,
            "bottom": null,
            "display": null,
            "flex": null,
            "flex_flow": null,
            "grid_area": null,
            "grid_auto_columns": null,
            "grid_auto_flow": null,
            "grid_auto_rows": null,
            "grid_column": null,
            "grid_gap": null,
            "grid_row": null,
            "grid_template_areas": null,
            "grid_template_columns": null,
            "grid_template_rows": null,
            "height": null,
            "justify_content": null,
            "justify_items": null,
            "left": null,
            "margin": null,
            "max_height": null,
            "max_width": null,
            "min_height": null,
            "min_width": null,
            "object_fit": null,
            "object_position": null,
            "order": null,
            "overflow": null,
            "overflow_x": null,
            "overflow_y": null,
            "padding": null,
            "right": null,
            "top": null,
            "visibility": null,
            "width": null
          }
        },
        "e64ea51775694e3888524fb9112b7d76": {
          "model_module": "@jupyter-widgets/base",
          "model_name": "LayoutModel",
          "model_module_version": "1.2.0",
          "state": {
            "_model_module": "@jupyter-widgets/base",
            "_model_module_version": "1.2.0",
            "_model_name": "LayoutModel",
            "_view_count": null,
            "_view_module": "@jupyter-widgets/base",
            "_view_module_version": "1.2.0",
            "_view_name": "LayoutView",
            "align_content": null,
            "align_items": null,
            "align_self": null,
            "border": null,
            "bottom": null,
            "display": null,
            "flex": null,
            "flex_flow": null,
            "grid_area": null,
            "grid_auto_columns": null,
            "grid_auto_flow": null,
            "grid_auto_rows": null,
            "grid_column": null,
            "grid_gap": null,
            "grid_row": null,
            "grid_template_areas": null,
            "grid_template_columns": null,
            "grid_template_rows": null,
            "height": null,
            "justify_content": null,
            "justify_items": null,
            "left": null,
            "margin": null,
            "max_height": null,
            "max_width": null,
            "min_height": null,
            "min_width": null,
            "object_fit": null,
            "object_position": null,
            "order": null,
            "overflow": null,
            "overflow_x": null,
            "overflow_y": null,
            "padding": null,
            "right": null,
            "top": null,
            "visibility": null,
            "width": null
          }
        },
        "58f81d45c3df4d67b0bfa6894849896e": {
          "model_module": "@jupyter-widgets/controls",
          "model_name": "DescriptionStyleModel",
          "model_module_version": "1.5.0",
          "state": {
            "_model_module": "@jupyter-widgets/controls",
            "_model_module_version": "1.5.0",
            "_model_name": "DescriptionStyleModel",
            "_view_count": null,
            "_view_module": "@jupyter-widgets/base",
            "_view_module_version": "1.2.0",
            "_view_name": "StyleView",
            "description_width": ""
          }
        },
        "e0e7c90c50a64d57a2343b6a48487dc6": {
          "model_module": "@jupyter-widgets/base",
          "model_name": "LayoutModel",
          "model_module_version": "1.2.0",
          "state": {
            "_model_module": "@jupyter-widgets/base",
            "_model_module_version": "1.2.0",
            "_model_name": "LayoutModel",
            "_view_count": null,
            "_view_module": "@jupyter-widgets/base",
            "_view_module_version": "1.2.0",
            "_view_name": "LayoutView",
            "align_content": null,
            "align_items": null,
            "align_self": null,
            "border": null,
            "bottom": null,
            "display": null,
            "flex": null,
            "flex_flow": null,
            "grid_area": null,
            "grid_auto_columns": null,
            "grid_auto_flow": null,
            "grid_auto_rows": null,
            "grid_column": null,
            "grid_gap": null,
            "grid_row": null,
            "grid_template_areas": null,
            "grid_template_columns": null,
            "grid_template_rows": null,
            "height": null,
            "justify_content": null,
            "justify_items": null,
            "left": null,
            "margin": null,
            "max_height": null,
            "max_width": null,
            "min_height": null,
            "min_width": null,
            "object_fit": null,
            "object_position": null,
            "order": null,
            "overflow": null,
            "overflow_x": null,
            "overflow_y": null,
            "padding": null,
            "right": null,
            "top": null,
            "visibility": null,
            "width": null
          }
        },
        "a84355a0848845168c6232ca20dba9d6": {
          "model_module": "@jupyter-widgets/controls",
          "model_name": "ProgressStyleModel",
          "model_module_version": "1.5.0",
          "state": {
            "_model_module": "@jupyter-widgets/controls",
            "_model_module_version": "1.5.0",
            "_model_name": "ProgressStyleModel",
            "_view_count": null,
            "_view_module": "@jupyter-widgets/base",
            "_view_module_version": "1.2.0",
            "_view_name": "StyleView",
            "bar_color": null,
            "description_width": ""
          }
        },
        "3d13e38ee80944e6abfff261215e9ef8": {
          "model_module": "@jupyter-widgets/base",
          "model_name": "LayoutModel",
          "model_module_version": "1.2.0",
          "state": {
            "_model_module": "@jupyter-widgets/base",
            "_model_module_version": "1.2.0",
            "_model_name": "LayoutModel",
            "_view_count": null,
            "_view_module": "@jupyter-widgets/base",
            "_view_module_version": "1.2.0",
            "_view_name": "LayoutView",
            "align_content": null,
            "align_items": null,
            "align_self": null,
            "border": null,
            "bottom": null,
            "display": null,
            "flex": null,
            "flex_flow": null,
            "grid_area": null,
            "grid_auto_columns": null,
            "grid_auto_flow": null,
            "grid_auto_rows": null,
            "grid_column": null,
            "grid_gap": null,
            "grid_row": null,
            "grid_template_areas": null,
            "grid_template_columns": null,
            "grid_template_rows": null,
            "height": null,
            "justify_content": null,
            "justify_items": null,
            "left": null,
            "margin": null,
            "max_height": null,
            "max_width": null,
            "min_height": null,
            "min_width": null,
            "object_fit": null,
            "object_position": null,
            "order": null,
            "overflow": null,
            "overflow_x": null,
            "overflow_y": null,
            "padding": null,
            "right": null,
            "top": null,
            "visibility": null,
            "width": null
          }
        },
        "a013fbea259843aa99b8c115026d822a": {
          "model_module": "@jupyter-widgets/controls",
          "model_name": "DescriptionStyleModel",
          "model_module_version": "1.5.0",
          "state": {
            "_model_module": "@jupyter-widgets/controls",
            "_model_module_version": "1.5.0",
            "_model_name": "DescriptionStyleModel",
            "_view_count": null,
            "_view_module": "@jupyter-widgets/base",
            "_view_module_version": "1.2.0",
            "_view_name": "StyleView",
            "description_width": ""
          }
        }
      }
    }
  },
  "cells": [
    {
      "cell_type": "markdown",
      "metadata": {
        "id": "view-in-github",
        "colab_type": "text"
      },
      "source": [
        "<a href=\"https://colab.research.google.com/github/JSEFERINO/Estadistica_Moderna/blob/main/62_C_Datos_Series_Tiempo1.ipynb\" target=\"_parent\"><img src=\"https://colab.research.google.com/assets/colab-badge.svg\" alt=\"Open In Colab\"/></a>"
      ]
    },
    {
      "cell_type": "markdown",
      "source": [
        "# **Curso Introductorio a la Ciencia de Datos por Julio Hurtado Márquez**\n",
        "## **1. Aprendiendo - Series de Tiempo - Python**\n",
        "#### **https://cienciadedatos.net/documentos/py27-forecasting-series-temporales-python-scikitlearn.html**"
      ],
      "metadata": {
        "id": "tvWruVdAfPkW"
      }
    },
    {
      "cell_type": "markdown",
      "source": [
        "# **a. Serie temporal o cronológica - Wikipedia**\n",
        "+ **Una serie temporal o cronológica** es una sucesión de datos medidos en determinados momentos y ordenados cronológicamente. Los datos pueden estar espaciados a intervalos iguales (como la temperatura en un observatorio meteorológico en días sucesivos al mediodía) o desiguales (como el peso de una persona en sucesivas mediciones en el consultorio médico, la farmacia, etc.).\n",
        "+ Para el análisis de las series temporales se usan métodos que ayudan a interpretarlas y que permiten extraer información representativa sobre las relaciones subyacentes entre los datos de la serie o de diversas series y que permiten en diferente medida y con distinta confianza extrapolar o interpolar los datos y así predecir el comportamiento de la serie en momentos no observados:\n",
        "  - Sean en el futuro (extrapolación pronóstica)\n",
        "  - En el pasado (extrapolación retrógrada) o\n",
        "  - En momentos intermedios (interpolación).\n",
        "\n",
        "+ Uno de los usos más habituales de las series de datos temporales es su análisis para _predicción y pronóstico_ (así se hace por ejemplo con los datos climáticos, las acciones de bolsa, o las series de datos demográficos).\n",
        "+ Resulta difícil imaginar una rama de las ciencias en la que no aparezcan datos que puedan ser considerados como series temporales. Las series temporales se estudian en estadística, procesamiento de señales, econometría y muchas otras áreas."
      ],
      "metadata": {
        "id": "wc1dEexwhl12"
      }
    },
    {
      "cell_type": "markdown",
      "source": [
        "# **b. Introducción - Wikipedia**\n",
        "+ **Las series temporales** se usan para estudiar la _relación causal entre diversas variables que cambian con el tiempo y se influyen entre sí_.\n",
        "+ _Desde el punto de vista probabilístico una serie temporal es una sucesión de variables aleatorias indexadas según parámetro creciente con el tiempo_.\n",
        "+ _Cuando la **esperanza matemática** de dichas variables aleatorias es constante o varía de manera cíclica, se dice que la serie es estacionaria y no tiene tendencia secular_.\n",
        "+ Muchas series temporales tienen:\n",
        "  - una **tendencia creciente** (por ejemplo, el número de automóviles en uso en casi todos los países durante los últimos cincuenta años)\n",
        "  - o **decreciente** (por ejemplo, el número de personas que trabajan en la agricultura);\n",
        "  - otras **no tienen tendencia** (la luminosidad a horas sucesivas, que varía cíclicamente a lo largo de las 24 horas del día) y son **estacionarias**.\n",
        "\n",
        "## **c. Componentes - Wikipedia**\n",
        "+ _El análisis más clásico de las series temporales se basa en que los valores que toma la variable de observación es la consecuencia de cinco componentes, cuya actuación conjunta da como resultado los valores medidos_, estos componentes son:\n",
        "\n",
        "- **Tendencia secular o regular**, que indica la marcha general y persistente del fenómeno observado, es una componente de la serie que refleja la evolución a largo plazo.\n",
        "  - Por ejemplo, la tendencia creciente del índice de reciclado de basuras en los países desarrollados, o el uso creciente de Internet en la sociedad, independientemente de que en un mes concreto en un país, por determinadas causas, haya una baja en la utilización de Internet.\n",
        "- **Variación estacional o variación cíclica regular**, el movimiento periódico de corto plazo.\n",
        " - Se trata de una componente causal debida a la influencia de ciertos fenómenos que se repiten de manera periódica en un año (las estaciones), una semana (los fines de semana) o un día (las horas puntas) o cualquier otro periodo. Recoge las oscilaciones que se producen en esos períodos de repetición.\n",
        "- **Variación cíclica**, el componente de la serie que recoge las oscilaciones periódicas de amplitud superior a un año. movimientos normalmente irregulares alrededor de la tendencia, en las que a diferencia de las variaciones estacionales, tiene un período y amplitud variables, pudiendo clasificarse como _cíclicos, cuasicíclicos o recurrentes._\n",
        "- **Variación aleatoria o ruido**, accidental, de carácter errático, también denominada residuo, no muestran ninguna regularidad (salvo las regularidades estadísticas), debidos a fenómenos de carácter ocasional como pueden ser tormentas, terremotos, inundaciones, huelgas, guerras, avances tecnológicos, etcétera.\n",
        "- **Variación transitoria**, accidental, de carácter errático, debido a fenómenos aislados que pueden llegar a modificar el comportamiento de la serie (tendencia, estacionalidad variaciones cíclicas y aleatoria)."
      ],
      "metadata": {
        "id": "i1yw2hrx2pFs"
      }
    },
    {
      "cell_type": "markdown",
      "source": [
        "# **d. Tipos de series temporales**\n",
        "- **Aditivas**, se componen sumando la Tendencia, estacionalidad, variación cíclica regular, variación cíclica irregular, ruido:\n",
        "$$ x_{t}=T_{t}+E_{t}+C_{t}+R_{t}$$\n",
        "- **Multiplicativas**, se componen multiplicando la Tendencia, estacionalidad, variación cíclica regular, variación cíclica irregular, ruido:\n",
        "$$ x_{t}=T_{t}\\cdot E_{t}\\cdot C_{t}\\cdot R_{t}$$\n",
        "- **Mixtas**, se componen sumando y multiplicando la Tendencia, estacionalidad, variación cíclica regular, variación cíclica irregular, ruido. Existen varias alternativas, entre otras:\n",
        "  - $$ x_{t}=T_{t}+E_{t}\\cdot C_{t}\\cdot R_{t}$$\n",
        "  - $$ x_{t}=T_{t}+E_{t}\\cdot R_{t}$$\n",
        "  - $$x_{t}=T_{t}\\cdot E_{t}\\cdot C_{t}+R_{t}$$\n",
        "- **Notación**. Existen diferentes notaciones empleadas para la representación matemática de una serie temporal:\n",
        "\n",
        "$$ X=\\{X_{1},X_{2},\\dots \\}$$ o $$\\{X_{k}\\}_{k\\geq 1}$$\n",
        "\n",
        "- Ésta es una de las comunes que representa un Serie de Tiempo $$X$$ que es indexada por números naturales. También estamos acostumbrados a ver:$$Y=\\{Y_{t}:t\\in T\\ \\}$$\n"
      ],
      "metadata": {
        "id": "oZf_KTLHRQUE"
      }
    },
    {
      "cell_type": "markdown",
      "source": [
        "## **e. Características de las Series de tiempo vs Regresión Lineal**\n",
        "\n",
        "+ **Son dependientes del tiempo**; por lo tanto el supuesto básico de los modelos de regresión de que las observaciones son independientes no se sostiene en este caso.\n",
        "\n",
        "+ **Suelen tener una tendencia**; la mayoría de las series de tiempo suelen tener algún tipo de tendencia de estacionalidad, es decir, las variaciones propias de un período de tiempo determinado.\n",
        "\n",
        "* ***Suelen estar autocorrelacionadas***; la mayoría de los procesos físicos presentan una inercia y no cambian tan rápidamente. Esto, combinado con la frecuencia del muestreo, a menudo hace que las observaciones consecutivas estén correlacionadas.\n",
        "  - Esta correlación entre observaciones consecutivas se llama autocorrelación.\n",
        "  -  Cuando los datos están autocorrelacionados, la mayoría de los métodos estadísticos estándares basados en la suposición de observaciones independientes pueden arrojar resultados engañosos o incluso ser inútiles."
      ],
      "metadata": {
        "id": "naYFtIhUVTh0"
      }
    },
    {
      "cell_type": "markdown",
      "source": [
        "# **f. Series de tiempo estacionarias**\n",
        "+ Un tipo muy importante de series de tiempo son las _series de tiempo estacionarias_.\n",
        "- Una series de tiempo se dice que es estrictamente estacionaria si sus propiedades no son afectadas por los cambios a lo largo del tiempo.\n",
        "- Es decir, que se deberían cumplir tres criterios básicos para poder considerar a una series de tiempo como estacionaria:\n",
        " - _**La media**_ de la serie no debe ser una función de tiempo; sino que debe ser constante.\n",
        " - _**La varianza**_ de la serie no debe ser una función del tiempo.\n",
        " - _**La covarianza**_ de la serie no debe ser una función del tiempo.\n",
        "\n",
        "## **g. ¿Por qué son importantes las series de tiempo estacionarias?**\n",
        "+ La razón por la que estas series son importantes es que la mayoría de los modelos de series de tiempo funcionan bajo el supuesto de que la serie es estacionaria.\n",
        "-  Intuitivamente, podemos suponer que si una serie tiene un comportamiento particular en el tiempo, hay una probabilidad muy alta de que se comportamiento continúe en el futuro.\n",
        "- Además, las teorías relacionadas con las series estacionarias son más maduras y más fáciles de implementar en comparación con series no estacionarias.\n",
        "- A pesar de que el supuesto de que la serie es estacionaria se utiliza en muchos modelos, casi ninguna de las series de tiempo que encontramos en la práctica son estacionarias.\n",
        "- Por tal motivo la estadística tuvo que desarrollar varias técnicas para hacer estacionaria, o lo más cercano posible a estacionaria, a una serie.\n",
        "\n",
        "# **h. Series de tiempo con Python**\n",
        "* Las principales librerías que nos ofrece Python para trabajar con series de tiempo son:\n",
        "\n",
        "  - _**Statsmodels:**_ Esta librería contiene muchos objetos y funciones de suma utilidad para el análisis de series de tiempo. Algunos de los modelos que están cubiertos por Statsmodels incluyen: el modelo autorregresivo (AR); el modelo autorregresivo de vectores (VAR); y el modelo autorregresivo de media móvil (ARMA). También incluye funciones de estadística descriptiva de series de tiempo, como por ejemplo la autocorrelación, así como las correspondientes propiedades teóricas de ARMA o procesos relacionados. Por último, también ofrece las pruebas estadísticas relacionadas y algunas funciones auxiliares muy útiles.\n",
        "  - _**Pandas:**_ Pandas proporciona un amplio soporte para trabajar con datos de series de tiempo. Generalmente cuando trabajamos con series de tiempo realizamos un amplio abanico de tareas, como: convertir fechas, estandarizar el tiempo de acuerdo a la zona horaria, crear secuencias a determinados intervalos o frecuencias, identificar datos faltantes, desplazar las fechas hacia atrás o hacia adelante por un determinado valor, calcular resúmenes agregados de valores a medida que el tiempo cambia, etc. Pandas nos brinda las herramientas para poder realizar estas y muchas otras tareas en forma muy sencilla.\n"
      ],
      "metadata": {
        "id": "KEADHk_gWYw7"
      }
    },
    {
      "cell_type": "markdown",
      "source": [
        "# **2. Ejemplos de Series de Tiempo con Python**"
      ],
      "metadata": {
        "id": "lMJMLM96aD_6"
      }
    },
    {
      "cell_type": "markdown",
      "source": [
        "# **a. Nuestras librerias a usar**"
      ],
      "metadata": {
        "id": "nuNzDP2Qal9i"
      }
    },
    {
      "cell_type": "code",
      "source": [
        "# Tratamiento de datos\n",
        "# ==============================================================================\n",
        "import numpy as np\n",
        "import pandas as pd\n",
        "\n",
        "# Gráficos\n",
        "# ==============================================================================\n",
        "import matplotlib.pyplot as plt\n",
        "plt.style.use('fivethirtyeight')\n",
        "plt.rcParams['lines.linewidth'] = 1.5\n",
        "plt.rcParams['font.size'] = 10\n",
        "\n",
        "# Modelado y Forecasting\n",
        "# ==============================================================================\n",
        "from sklearn.linear_model import LinearRegression\n",
        "from sklearn.linear_model import Lasso\n",
        "from sklearn.ensemble import RandomForestRegressor\n",
        "from sklearn.metrics import mean_squared_error\n",
        "from sklearn.metrics import mean_absolute_error\n",
        "from sklearn.preprocessing import StandardScaler\n",
        "# pip install skforecast\n",
        "from skforecast.ForecasterAutoreg import ForecasterAutoreg\n",
        "from skforecast.ForecasterAutoregCustom import ForecasterAutoregCustom\n",
        "from skforecast.ForecasterAutoregDirect import ForecasterAutoregDirect\n",
        "from skforecast.model_selection import grid_search_forecaster\n",
        "from skforecast.model_selection import backtesting_forecaster\n",
        "from skforecast.utils import save_forecaster\n",
        "from skforecast.utils import load_forecaster\n",
        "\n",
        "# Configuración warnings\n",
        "# ==============================================================================\n",
        "import warnings\n",
        "# warnings.filterwarnings('ignore')"
      ],
      "metadata": {
        "id": "oMTb2sIusSdw"
      },
      "execution_count": null,
      "outputs": []
    },
    {
      "cell_type": "markdown",
      "source": [
        "# **b. Descarga de datos**"
      ],
      "metadata": {
        "id": "LQL6JrjLfEss"
      }
    },
    {
      "cell_type": "code",
      "source": [
        "# **b. Descarga de datos**\n",
        "# ==============================================================================\n",
        "url = 'https://raw.githubusercontent.com/JoaquinAmatRodrigo/skforecast/master/data/h2o_exog.csv'\n",
        "datos = pd.read_csv(url, sep=',')\n",
        "datos"
      ],
      "metadata": {
        "colab": {
          "base_uri": "https://localhost:8080/",
          "height": 423
        },
        "id": "dhyR6o8geugs",
        "outputId": "08caefeb-7163-45e5-d818-8ad45c6ada25"
      },
      "execution_count": null,
      "outputs": [
        {
          "output_type": "execute_result",
          "data": {
            "text/plain": [
              "          fecha         y    exog_1    exog_2\n",
              "0    1992-04-01  0.379808  0.958792  1.166029\n",
              "1    1992-05-01  0.361801  0.951993  1.117859\n",
              "2    1992-06-01  0.410534  0.952955  1.067942\n",
              "3    1992-07-01  0.483389  0.958078  1.097376\n",
              "4    1992-08-01  0.475463  0.956370  1.122199\n",
              "..          ...       ...       ...       ...\n",
              "190  2008-02-01  0.761822  1.515840  1.786373\n",
              "191  2008-03-01  0.649435  1.506258  1.694264\n",
              "192  2008-04-01  0.827887  1.505253  1.627135\n",
              "193  2008-05-01  0.816255  1.491464  1.555068\n",
              "194  2008-06-01  0.762137  1.459856  1.463507\n",
              "\n",
              "[195 rows x 4 columns]"
            ],
            "text/html": [
              "\n",
              "  <div id=\"df-dc8a55eb-707b-4999-bdd9-4cee7f30ee12\" class=\"colab-df-container\">\n",
              "    <div>\n",
              "<style scoped>\n",
              "    .dataframe tbody tr th:only-of-type {\n",
              "        vertical-align: middle;\n",
              "    }\n",
              "\n",
              "    .dataframe tbody tr th {\n",
              "        vertical-align: top;\n",
              "    }\n",
              "\n",
              "    .dataframe thead th {\n",
              "        text-align: right;\n",
              "    }\n",
              "</style>\n",
              "<table border=\"1\" class=\"dataframe\">\n",
              "  <thead>\n",
              "    <tr style=\"text-align: right;\">\n",
              "      <th></th>\n",
              "      <th>fecha</th>\n",
              "      <th>y</th>\n",
              "      <th>exog_1</th>\n",
              "      <th>exog_2</th>\n",
              "    </tr>\n",
              "  </thead>\n",
              "  <tbody>\n",
              "    <tr>\n",
              "      <th>0</th>\n",
              "      <td>1992-04-01</td>\n",
              "      <td>0.379808</td>\n",
              "      <td>0.958792</td>\n",
              "      <td>1.166029</td>\n",
              "    </tr>\n",
              "    <tr>\n",
              "      <th>1</th>\n",
              "      <td>1992-05-01</td>\n",
              "      <td>0.361801</td>\n",
              "      <td>0.951993</td>\n",
              "      <td>1.117859</td>\n",
              "    </tr>\n",
              "    <tr>\n",
              "      <th>2</th>\n",
              "      <td>1992-06-01</td>\n",
              "      <td>0.410534</td>\n",
              "      <td>0.952955</td>\n",
              "      <td>1.067942</td>\n",
              "    </tr>\n",
              "    <tr>\n",
              "      <th>3</th>\n",
              "      <td>1992-07-01</td>\n",
              "      <td>0.483389</td>\n",
              "      <td>0.958078</td>\n",
              "      <td>1.097376</td>\n",
              "    </tr>\n",
              "    <tr>\n",
              "      <th>4</th>\n",
              "      <td>1992-08-01</td>\n",
              "      <td>0.475463</td>\n",
              "      <td>0.956370</td>\n",
              "      <td>1.122199</td>\n",
              "    </tr>\n",
              "    <tr>\n",
              "      <th>...</th>\n",
              "      <td>...</td>\n",
              "      <td>...</td>\n",
              "      <td>...</td>\n",
              "      <td>...</td>\n",
              "    </tr>\n",
              "    <tr>\n",
              "      <th>190</th>\n",
              "      <td>2008-02-01</td>\n",
              "      <td>0.761822</td>\n",
              "      <td>1.515840</td>\n",
              "      <td>1.786373</td>\n",
              "    </tr>\n",
              "    <tr>\n",
              "      <th>191</th>\n",
              "      <td>2008-03-01</td>\n",
              "      <td>0.649435</td>\n",
              "      <td>1.506258</td>\n",
              "      <td>1.694264</td>\n",
              "    </tr>\n",
              "    <tr>\n",
              "      <th>192</th>\n",
              "      <td>2008-04-01</td>\n",
              "      <td>0.827887</td>\n",
              "      <td>1.505253</td>\n",
              "      <td>1.627135</td>\n",
              "    </tr>\n",
              "    <tr>\n",
              "      <th>193</th>\n",
              "      <td>2008-05-01</td>\n",
              "      <td>0.816255</td>\n",
              "      <td>1.491464</td>\n",
              "      <td>1.555068</td>\n",
              "    </tr>\n",
              "    <tr>\n",
              "      <th>194</th>\n",
              "      <td>2008-06-01</td>\n",
              "      <td>0.762137</td>\n",
              "      <td>1.459856</td>\n",
              "      <td>1.463507</td>\n",
              "    </tr>\n",
              "  </tbody>\n",
              "</table>\n",
              "<p>195 rows × 4 columns</p>\n",
              "</div>\n",
              "    <div class=\"colab-df-buttons\">\n",
              "\n",
              "  <div class=\"colab-df-container\">\n",
              "    <button class=\"colab-df-convert\" onclick=\"convertToInteractive('df-dc8a55eb-707b-4999-bdd9-4cee7f30ee12')\"\n",
              "            title=\"Convert this dataframe to an interactive table.\"\n",
              "            style=\"display:none;\">\n",
              "\n",
              "  <svg xmlns=\"http://www.w3.org/2000/svg\" height=\"24px\" viewBox=\"0 -960 960 960\">\n",
              "    <path d=\"M120-120v-720h720v720H120Zm60-500h600v-160H180v160Zm220 220h160v-160H400v160Zm0 220h160v-160H400v160ZM180-400h160v-160H180v160Zm440 0h160v-160H620v160ZM180-180h160v-160H180v160Zm440 0h160v-160H620v160Z\"/>\n",
              "  </svg>\n",
              "    </button>\n",
              "\n",
              "  <style>\n",
              "    .colab-df-container {\n",
              "      display:flex;\n",
              "      gap: 12px;\n",
              "    }\n",
              "\n",
              "    .colab-df-convert {\n",
              "      background-color: #E8F0FE;\n",
              "      border: none;\n",
              "      border-radius: 50%;\n",
              "      cursor: pointer;\n",
              "      display: none;\n",
              "      fill: #1967D2;\n",
              "      height: 32px;\n",
              "      padding: 0 0 0 0;\n",
              "      width: 32px;\n",
              "    }\n",
              "\n",
              "    .colab-df-convert:hover {\n",
              "      background-color: #E2EBFA;\n",
              "      box-shadow: 0px 1px 2px rgba(60, 64, 67, 0.3), 0px 1px 3px 1px rgba(60, 64, 67, 0.15);\n",
              "      fill: #174EA6;\n",
              "    }\n",
              "\n",
              "    .colab-df-buttons div {\n",
              "      margin-bottom: 4px;\n",
              "    }\n",
              "\n",
              "    [theme=dark] .colab-df-convert {\n",
              "      background-color: #3B4455;\n",
              "      fill: #D2E3FC;\n",
              "    }\n",
              "\n",
              "    [theme=dark] .colab-df-convert:hover {\n",
              "      background-color: #434B5C;\n",
              "      box-shadow: 0px 1px 3px 1px rgba(0, 0, 0, 0.15);\n",
              "      filter: drop-shadow(0px 1px 2px rgba(0, 0, 0, 0.3));\n",
              "      fill: #FFFFFF;\n",
              "    }\n",
              "  </style>\n",
              "\n",
              "    <script>\n",
              "      const buttonEl =\n",
              "        document.querySelector('#df-dc8a55eb-707b-4999-bdd9-4cee7f30ee12 button.colab-df-convert');\n",
              "      buttonEl.style.display =\n",
              "        google.colab.kernel.accessAllowed ? 'block' : 'none';\n",
              "\n",
              "      async function convertToInteractive(key) {\n",
              "        const element = document.querySelector('#df-dc8a55eb-707b-4999-bdd9-4cee7f30ee12');\n",
              "        const dataTable =\n",
              "          await google.colab.kernel.invokeFunction('convertToInteractive',\n",
              "                                                    [key], {});\n",
              "        if (!dataTable) return;\n",
              "\n",
              "        const docLinkHtml = 'Like what you see? Visit the ' +\n",
              "          '<a target=\"_blank\" href=https://colab.research.google.com/notebooks/data_table.ipynb>data table notebook</a>'\n",
              "          + ' to learn more about interactive tables.';\n",
              "        element.innerHTML = '';\n",
              "        dataTable['output_type'] = 'display_data';\n",
              "        await google.colab.output.renderOutput(dataTable, element);\n",
              "        const docLink = document.createElement('div');\n",
              "        docLink.innerHTML = docLinkHtml;\n",
              "        element.appendChild(docLink);\n",
              "      }\n",
              "    </script>\n",
              "  </div>\n",
              "\n",
              "\n",
              "<div id=\"df-c059b0cf-d740-468e-8496-47e4a794901a\">\n",
              "  <button class=\"colab-df-quickchart\" onclick=\"quickchart('df-c059b0cf-d740-468e-8496-47e4a794901a')\"\n",
              "            title=\"Suggest charts.\"\n",
              "            style=\"display:none;\">\n",
              "\n",
              "<svg xmlns=\"http://www.w3.org/2000/svg\" height=\"24px\"viewBox=\"0 0 24 24\"\n",
              "     width=\"24px\">\n",
              "    <g>\n",
              "        <path d=\"M19 3H5c-1.1 0-2 .9-2 2v14c0 1.1.9 2 2 2h14c1.1 0 2-.9 2-2V5c0-1.1-.9-2-2-2zM9 17H7v-7h2v7zm4 0h-2V7h2v10zm4 0h-2v-4h2v4z\"/>\n",
              "    </g>\n",
              "</svg>\n",
              "  </button>\n",
              "\n",
              "<style>\n",
              "  .colab-df-quickchart {\n",
              "    background-color: #E8F0FE;\n",
              "    border: none;\n",
              "    border-radius: 50%;\n",
              "    cursor: pointer;\n",
              "    display: none;\n",
              "    fill: #1967D2;\n",
              "    height: 32px;\n",
              "    padding: 0 0 0 0;\n",
              "    width: 32px;\n",
              "  }\n",
              "\n",
              "  .colab-df-quickchart:hover {\n",
              "    background-color: #E2EBFA;\n",
              "    box-shadow: 0px 1px 2px rgba(60, 64, 67, 0.3), 0px 1px 3px 1px rgba(60, 64, 67, 0.15);\n",
              "    fill: #174EA6;\n",
              "  }\n",
              "\n",
              "  [theme=dark] .colab-df-quickchart {\n",
              "    background-color: #3B4455;\n",
              "    fill: #D2E3FC;\n",
              "  }\n",
              "\n",
              "  [theme=dark] .colab-df-quickchart:hover {\n",
              "    background-color: #434B5C;\n",
              "    box-shadow: 0px 1px 3px 1px rgba(0, 0, 0, 0.15);\n",
              "    filter: drop-shadow(0px 1px 2px rgba(0, 0, 0, 0.3));\n",
              "    fill: #FFFFFF;\n",
              "  }\n",
              "</style>\n",
              "\n",
              "  <script>\n",
              "    async function quickchart(key) {\n",
              "      const charts = await google.colab.kernel.invokeFunction(\n",
              "          'suggestCharts', [key], {});\n",
              "    }\n",
              "    (() => {\n",
              "      let quickchartButtonEl =\n",
              "        document.querySelector('#df-c059b0cf-d740-468e-8496-47e4a794901a button');\n",
              "      quickchartButtonEl.style.display =\n",
              "        google.colab.kernel.accessAllowed ? 'block' : 'none';\n",
              "    })();\n",
              "  </script>\n",
              "</div>\n",
              "    </div>\n",
              "  </div>\n"
            ]
          },
          "metadata": {},
          "execution_count": 14
        }
      ]
    },
    {
      "cell_type": "markdown",
      "source": [
        "# **c. Examinando los datos**"
      ],
      "metadata": {
        "id": "adgcOxSTjRhG"
      }
    },
    {
      "cell_type": "code",
      "source": [
        "# **c. Examinando los datos**\n",
        "datos.dtypes"
      ],
      "metadata": {
        "colab": {
          "base_uri": "https://localhost:8080/"
        },
        "id": "yxhFI0hcjElk",
        "outputId": "46579071-13b5-4519-a0aa-58d7bb4b504c"
      },
      "execution_count": null,
      "outputs": [
        {
          "output_type": "execute_result",
          "data": {
            "text/plain": [
              "fecha      object\n",
              "y         float64\n",
              "exog_1    float64\n",
              "exog_2    float64\n",
              "dtype: object"
            ]
          },
          "metadata": {},
          "execution_count": 15
        }
      ]
    },
    {
      "cell_type": "markdown",
      "source": [
        "### **Nota**\n",
        "- La columna _fecha_ se ha almacenado como string. Para convertirla en datetime, se emplea la función pd.to_datetime(). - Una vez en formato datetime, y para hacer uso de las funcionalidades de Pandas, se establece como índice. Además, dado que los datos son mensuales, se indica la frecuencia (Monthly Started 'MS')"
      ],
      "metadata": {
        "id": "4_8FNFGvfUKL"
      }
    },
    {
      "cell_type": "markdown",
      "source": [
        "# **d. Preparación del dato**"
      ],
      "metadata": {
        "id": "PAFYV-opioA3"
      }
    },
    {
      "cell_type": "code",
      "source": [
        "# **d. Preparación del dato**\n",
        "# ==============================================================================\n",
        "datos['fecha'] = pd.to_datetime(datos['fecha'], format='%Y-%m-%d')\n",
        "datos = datos.set_index('fecha')\n",
        "datos = datos.rename(columns={'x': 'y'})\n",
        "datos = datos.asfreq('MS')\n",
        "datos = datos.sort_index()\n",
        "datos.head()"
      ],
      "metadata": {
        "colab": {
          "base_uri": "https://localhost:8080/",
          "height": 237
        },
        "id": "1-UaVirEfIQ6",
        "outputId": "3bdb635b-9326-44e5-ba2d-59567c90ebed"
      },
      "execution_count": null,
      "outputs": [
        {
          "output_type": "execute_result",
          "data": {
            "text/plain": [
              "                   y    exog_1    exog_2\n",
              "fecha                                   \n",
              "1992-04-01  0.379808  0.958792  1.166029\n",
              "1992-05-01  0.361801  0.951993  1.117859\n",
              "1992-06-01  0.410534  0.952955  1.067942\n",
              "1992-07-01  0.483389  0.958078  1.097376\n",
              "1992-08-01  0.475463  0.956370  1.122199"
            ],
            "text/html": [
              "\n",
              "  <div id=\"df-503c4d1e-b80d-48df-8052-b2c349eaa254\" class=\"colab-df-container\">\n",
              "    <div>\n",
              "<style scoped>\n",
              "    .dataframe tbody tr th:only-of-type {\n",
              "        vertical-align: middle;\n",
              "    }\n",
              "\n",
              "    .dataframe tbody tr th {\n",
              "        vertical-align: top;\n",
              "    }\n",
              "\n",
              "    .dataframe thead th {\n",
              "        text-align: right;\n",
              "    }\n",
              "</style>\n",
              "<table border=\"1\" class=\"dataframe\">\n",
              "  <thead>\n",
              "    <tr style=\"text-align: right;\">\n",
              "      <th></th>\n",
              "      <th>y</th>\n",
              "      <th>exog_1</th>\n",
              "      <th>exog_2</th>\n",
              "    </tr>\n",
              "    <tr>\n",
              "      <th>fecha</th>\n",
              "      <th></th>\n",
              "      <th></th>\n",
              "      <th></th>\n",
              "    </tr>\n",
              "  </thead>\n",
              "  <tbody>\n",
              "    <tr>\n",
              "      <th>1992-04-01</th>\n",
              "      <td>0.379808</td>\n",
              "      <td>0.958792</td>\n",
              "      <td>1.166029</td>\n",
              "    </tr>\n",
              "    <tr>\n",
              "      <th>1992-05-01</th>\n",
              "      <td>0.361801</td>\n",
              "      <td>0.951993</td>\n",
              "      <td>1.117859</td>\n",
              "    </tr>\n",
              "    <tr>\n",
              "      <th>1992-06-01</th>\n",
              "      <td>0.410534</td>\n",
              "      <td>0.952955</td>\n",
              "      <td>1.067942</td>\n",
              "    </tr>\n",
              "    <tr>\n",
              "      <th>1992-07-01</th>\n",
              "      <td>0.483389</td>\n",
              "      <td>0.958078</td>\n",
              "      <td>1.097376</td>\n",
              "    </tr>\n",
              "    <tr>\n",
              "      <th>1992-08-01</th>\n",
              "      <td>0.475463</td>\n",
              "      <td>0.956370</td>\n",
              "      <td>1.122199</td>\n",
              "    </tr>\n",
              "  </tbody>\n",
              "</table>\n",
              "</div>\n",
              "    <div class=\"colab-df-buttons\">\n",
              "\n",
              "  <div class=\"colab-df-container\">\n",
              "    <button class=\"colab-df-convert\" onclick=\"convertToInteractive('df-503c4d1e-b80d-48df-8052-b2c349eaa254')\"\n",
              "            title=\"Convert this dataframe to an interactive table.\"\n",
              "            style=\"display:none;\">\n",
              "\n",
              "  <svg xmlns=\"http://www.w3.org/2000/svg\" height=\"24px\" viewBox=\"0 -960 960 960\">\n",
              "    <path d=\"M120-120v-720h720v720H120Zm60-500h600v-160H180v160Zm220 220h160v-160H400v160Zm0 220h160v-160H400v160ZM180-400h160v-160H180v160Zm440 0h160v-160H620v160ZM180-180h160v-160H180v160Zm440 0h160v-160H620v160Z\"/>\n",
              "  </svg>\n",
              "    </button>\n",
              "\n",
              "  <style>\n",
              "    .colab-df-container {\n",
              "      display:flex;\n",
              "      gap: 12px;\n",
              "    }\n",
              "\n",
              "    .colab-df-convert {\n",
              "      background-color: #E8F0FE;\n",
              "      border: none;\n",
              "      border-radius: 50%;\n",
              "      cursor: pointer;\n",
              "      display: none;\n",
              "      fill: #1967D2;\n",
              "      height: 32px;\n",
              "      padding: 0 0 0 0;\n",
              "      width: 32px;\n",
              "    }\n",
              "\n",
              "    .colab-df-convert:hover {\n",
              "      background-color: #E2EBFA;\n",
              "      box-shadow: 0px 1px 2px rgba(60, 64, 67, 0.3), 0px 1px 3px 1px rgba(60, 64, 67, 0.15);\n",
              "      fill: #174EA6;\n",
              "    }\n",
              "\n",
              "    .colab-df-buttons div {\n",
              "      margin-bottom: 4px;\n",
              "    }\n",
              "\n",
              "    [theme=dark] .colab-df-convert {\n",
              "      background-color: #3B4455;\n",
              "      fill: #D2E3FC;\n",
              "    }\n",
              "\n",
              "    [theme=dark] .colab-df-convert:hover {\n",
              "      background-color: #434B5C;\n",
              "      box-shadow: 0px 1px 3px 1px rgba(0, 0, 0, 0.15);\n",
              "      filter: drop-shadow(0px 1px 2px rgba(0, 0, 0, 0.3));\n",
              "      fill: #FFFFFF;\n",
              "    }\n",
              "  </style>\n",
              "\n",
              "    <script>\n",
              "      const buttonEl =\n",
              "        document.querySelector('#df-503c4d1e-b80d-48df-8052-b2c349eaa254 button.colab-df-convert');\n",
              "      buttonEl.style.display =\n",
              "        google.colab.kernel.accessAllowed ? 'block' : 'none';\n",
              "\n",
              "      async function convertToInteractive(key) {\n",
              "        const element = document.querySelector('#df-503c4d1e-b80d-48df-8052-b2c349eaa254');\n",
              "        const dataTable =\n",
              "          await google.colab.kernel.invokeFunction('convertToInteractive',\n",
              "                                                    [key], {});\n",
              "        if (!dataTable) return;\n",
              "\n",
              "        const docLinkHtml = 'Like what you see? Visit the ' +\n",
              "          '<a target=\"_blank\" href=https://colab.research.google.com/notebooks/data_table.ipynb>data table notebook</a>'\n",
              "          + ' to learn more about interactive tables.';\n",
              "        element.innerHTML = '';\n",
              "        dataTable['output_type'] = 'display_data';\n",
              "        await google.colab.output.renderOutput(dataTable, element);\n",
              "        const docLink = document.createElement('div');\n",
              "        docLink.innerHTML = docLinkHtml;\n",
              "        element.appendChild(docLink);\n",
              "      }\n",
              "    </script>\n",
              "  </div>\n",
              "\n",
              "\n",
              "<div id=\"df-a44e0cef-ab94-463b-b441-aeebdf7a0341\">\n",
              "  <button class=\"colab-df-quickchart\" onclick=\"quickchart('df-a44e0cef-ab94-463b-b441-aeebdf7a0341')\"\n",
              "            title=\"Suggest charts.\"\n",
              "            style=\"display:none;\">\n",
              "\n",
              "<svg xmlns=\"http://www.w3.org/2000/svg\" height=\"24px\"viewBox=\"0 0 24 24\"\n",
              "     width=\"24px\">\n",
              "    <g>\n",
              "        <path d=\"M19 3H5c-1.1 0-2 .9-2 2v14c0 1.1.9 2 2 2h14c1.1 0 2-.9 2-2V5c0-1.1-.9-2-2-2zM9 17H7v-7h2v7zm4 0h-2V7h2v10zm4 0h-2v-4h2v4z\"/>\n",
              "    </g>\n",
              "</svg>\n",
              "  </button>\n",
              "\n",
              "<style>\n",
              "  .colab-df-quickchart {\n",
              "    background-color: #E8F0FE;\n",
              "    border: none;\n",
              "    border-radius: 50%;\n",
              "    cursor: pointer;\n",
              "    display: none;\n",
              "    fill: #1967D2;\n",
              "    height: 32px;\n",
              "    padding: 0 0 0 0;\n",
              "    width: 32px;\n",
              "  }\n",
              "\n",
              "  .colab-df-quickchart:hover {\n",
              "    background-color: #E2EBFA;\n",
              "    box-shadow: 0px 1px 2px rgba(60, 64, 67, 0.3), 0px 1px 3px 1px rgba(60, 64, 67, 0.15);\n",
              "    fill: #174EA6;\n",
              "  }\n",
              "\n",
              "  [theme=dark] .colab-df-quickchart {\n",
              "    background-color: #3B4455;\n",
              "    fill: #D2E3FC;\n",
              "  }\n",
              "\n",
              "  [theme=dark] .colab-df-quickchart:hover {\n",
              "    background-color: #434B5C;\n",
              "    box-shadow: 0px 1px 3px 1px rgba(0, 0, 0, 0.15);\n",
              "    filter: drop-shadow(0px 1px 2px rgba(0, 0, 0, 0.3));\n",
              "    fill: #FFFFFF;\n",
              "  }\n",
              "</style>\n",
              "\n",
              "  <script>\n",
              "    async function quickchart(key) {\n",
              "      const charts = await google.colab.kernel.invokeFunction(\n",
              "          'suggestCharts', [key], {});\n",
              "    }\n",
              "    (() => {\n",
              "      let quickchartButtonEl =\n",
              "        document.querySelector('#df-a44e0cef-ab94-463b-b441-aeebdf7a0341 button');\n",
              "      quickchartButtonEl.style.display =\n",
              "        google.colab.kernel.accessAllowed ? 'block' : 'none';\n",
              "    })();\n",
              "  </script>\n",
              "</div>\n",
              "    </div>\n",
              "  </div>\n"
            ]
          },
          "metadata": {},
          "execution_count": 16
        }
      ]
    },
    {
      "cell_type": "markdown",
      "source": [
        "# **e. Verificando el proceso**"
      ],
      "metadata": {
        "id": "n7DOTvNFjwFv"
      }
    },
    {
      "cell_type": "code",
      "source": [
        "# **e. Verificando el proceso**\n",
        "datos.dtypes"
      ],
      "metadata": {
        "colab": {
          "base_uri": "https://localhost:8080/"
        },
        "id": "alpiZPnnfIVt",
        "outputId": "940dfce4-c16b-4e77-8644-518b6d4cce4f"
      },
      "execution_count": null,
      "outputs": [
        {
          "output_type": "execute_result",
          "data": {
            "text/plain": [
              "y         float64\n",
              "exog_1    float64\n",
              "exog_2    float64\n",
              "dtype: object"
            ]
          },
          "metadata": {},
          "execution_count": 17
        }
      ]
    },
    {
      "cell_type": "markdown",
      "source": [
        "### **Nota**\n",
        "- Al establecer una frecuencia con el método _asfreq()_, Pandas completa los huecos que puedan existir en la serie temporal con el valor de _Null_ con el fin de asegurar la frecuencia indicada. Por ello, se debe comprobar si han aparecido _missing values_ tras esta transformación."
      ],
      "metadata": {
        "id": "SB1VYY5Ej-Fk"
      }
    },
    {
      "cell_type": "markdown",
      "source": [
        "# **f. Hay datos perdidos**"
      ],
      "metadata": {
        "id": "u7wiPyzkkgCM"
      }
    },
    {
      "cell_type": "code",
      "source": [
        "# **f. Hay datos perdidos**\n",
        "print(f'Número de filas con missing values: {datos.isnull().any(axis=1).mean()}')"
      ],
      "metadata": {
        "colab": {
          "base_uri": "https://localhost:8080/"
        },
        "id": "bBUFUWbNfIdC",
        "outputId": "0e2c4d75-417e-47d1-e18e-c1904baa32cf"
      },
      "execution_count": null,
      "outputs": [
        {
          "output_type": "stream",
          "name": "stdout",
          "text": [
            "Número de filas con missing values: 0.0\n"
          ]
        }
      ]
    },
    {
      "cell_type": "markdown",
      "source": [
        "### **Nota**\n",
        "- Aunque no es necesario al haber establecido un frecuencia, se puede verificar que la serie temporal esté completa."
      ],
      "metadata": {
        "id": "suxQ2fTskq_2"
      }
    },
    {
      "cell_type": "code",
      "source": [
        "datos.to_csv('datos_S_Tiempo.csv',index=False)"
      ],
      "metadata": {
        "id": "X7mmrFSJEKwc"
      },
      "execution_count": null,
      "outputs": []
    },
    {
      "cell_type": "markdown",
      "source": [
        "# **g. Verificar que un índice temporal está completo**"
      ],
      "metadata": {
        "id": "dwyZOhIrluOV"
      }
    },
    {
      "cell_type": "code",
      "source": [
        "# **g. Verificar que un índice temporal está completo**\n",
        "# ==============================================================================\n",
        "(datos.index == pd.date_range(\n",
        "                    start = datos.index.min(),\n",
        "                    end   = datos.index.max(),\n",
        "                    freq  = datos.index.freq)\n",
        ").all()"
      ],
      "metadata": {
        "colab": {
          "base_uri": "https://localhost:8080/"
        },
        "id": "o7_YhZERfIhE",
        "outputId": "4fff5162-9803-4c23-8e7a-4cbd9ad93a73"
      },
      "execution_count": null,
      "outputs": [
        {
          "output_type": "execute_result",
          "data": {
            "text/plain": [
              "True"
            ]
          },
          "metadata": {},
          "execution_count": 19
        }
      ]
    },
    {
      "cell_type": "code",
      "source": [
        "# Completar huecos en un índice temporal\n",
        "# ==============================================================================\n",
        "# datos.asfreq(freq='30min', fill_value=np.nan)"
      ],
      "metadata": {
        "id": "_u1Nzfx1fIk1"
      },
      "execution_count": null,
      "outputs": []
    },
    {
      "cell_type": "markdown",
      "source": [
        "### **Nota**\n",
        "- Se utilizan los últimos 36 meses como conjunto de test para evaluar la capacidad predictiva del modelo."
      ],
      "metadata": {
        "id": "r1_JzNaslf8s"
      }
    },
    {
      "cell_type": "markdown",
      "source": [
        "# **h. Separación datos train-test**"
      ],
      "metadata": {
        "id": "uAJKER0Fl1pa"
      }
    },
    {
      "cell_type": "code",
      "source": [
        "# **h. Separación datos train-test**\n",
        "# ==============================================================================\n",
        "steps = 36\n",
        "datos_train = datos[:-steps]\n",
        "datos_test  = datos[-steps:]\n",
        "\n",
        "print(f\"Fechas train : {datos_train.index.min()} --- {datos_train.index.max()}  (n={len(datos_train)})\")\n",
        "print(f\"Fechas test  : {datos_test.index.min()} --- {datos_test.index.max()}  (n={len(datos_test)})\")\n",
        "\n",
        "fig, ax = plt.subplots(figsize=(7, 2.5))\n",
        "datos_train['y'].plot(ax=ax, label='train')\n",
        "datos_test['y'].plot(ax=ax, label='test')\n",
        "ax.legend()"
      ],
      "metadata": {
        "colab": {
          "base_uri": "https://localhost:8080/",
          "height": 335
        },
        "id": "9WpN-2oXfIoi",
        "outputId": "45ed9de3-3c02-4fef-b19e-82b373c2928b"
      },
      "execution_count": null,
      "outputs": [
        {
          "output_type": "stream",
          "name": "stdout",
          "text": [
            "Fechas train : 1992-04-01 00:00:00 --- 2005-06-01 00:00:00  (n=159)\n",
            "Fechas test  : 2005-07-01 00:00:00 --- 2008-06-01 00:00:00  (n=36)\n"
          ]
        },
        {
          "output_type": "execute_result",
          "data": {
            "text/plain": [
              "<matplotlib.legend.Legend at 0x7e0cf1d3ec20>"
            ]
          },
          "metadata": {},
          "execution_count": 22
        },
        {
          "output_type": "display_data",
          "data": {
            "text/plain": [
              "<Figure size 700x250 with 1 Axes>"
            ],
            "image/png": "[encoded data removed]"
          },
          "metadata": {}
        }
      ]
    },
    {
      "cell_type": "markdown",
      "source": [
        "# **3. Forecasting autorregresivo recursivo**\n",
        "- ***ForecasterAutoreg**. Se crea y entrena un modelo _ForecasterAutoreg_ a partir de un regresor RandomForestRegressor y una ventana temporal de 6 lags. Esto último significa que, el modelo, utiliza como predictores los 6 meses anteriores"
      ],
      "metadata": {
        "id": "K8M6EldDm062"
      }
    },
    {
      "cell_type": "markdown",
      "source": [
        "# **a. Crear y entrenar forecaster**"
      ],
      "metadata": {
        "id": "EKXByqgBqzFE"
      }
    },
    {
      "cell_type": "code",
      "source": [
        "# **a. Crear y entrenar forecaster**\n",
        "# ==============================================================================\n",
        "forecaster = ForecasterAutoreg(\n",
        "                regressor = RandomForestRegressor(random_state=123),\n",
        "                lags = 6\n",
        "             )\n",
        "\n",
        "forecaster.fit(y=datos_train['y'])\n",
        "forecaster"
      ],
      "metadata": {
        "colab": {
          "base_uri": "https://localhost:8080/"
        },
        "id": "Dmi4VtIDfIso",
        "outputId": "ea0d392b-c51f-448c-d932-7311e5eeb1b4"
      },
      "execution_count": null,
      "outputs": [
        {
          "output_type": "execute_result",
          "data": {
            "text/plain": [
              "================= \n",
              "ForecasterAutoreg \n",
              "================= \n",
              "Regressor: RandomForestRegressor(random_state=123) \n",
              "Lags: [1 2 3 4 5 6] \n",
              "Transformer for y: None \n",
              "Transformer for exog: None \n",
              "Window size: 6 \n",
              "Weight function included: False \n",
              "Exogenous included: False \n",
              "Type of exogenous variable: None \n",
              "Exogenous variables names: None \n",
              "Training range: [Timestamp('1992-04-01 00:00:00'), Timestamp('2005-06-01 00:00:00')] \n",
              "Training index type: DatetimeIndex \n",
              "Training index frequency: MS \n",
              "Regressor parameters: {'bootstrap': True, 'ccp_alpha': 0.0, 'criterion': 'squared_error', 'max_depth': None, 'max_features': 1.0, 'max_leaf_nodes': None, 'max_samples': None, 'min_impurity_decrease': 0.0, 'min_samples_leaf': 1, 'min_samples_split': 2, 'min_weight_fraction_leaf': 0.0, 'n_estimators': 100, 'n_jobs': None, 'oob_score': False, 'random_state': 123, 'verbose': 0, 'warm_start': False} \n",
              "fit_kwargs: {} \n",
              "Creation date: 2023-08-19 21:17:29 \n",
              "Last fit date: 2023-08-19 21:17:29 \n",
              "Skforecast version: 0.9.1 \n",
              "Python version: 3.10.12 \n",
              "Forecaster id: None "
            ]
          },
          "metadata": {},
          "execution_count": 23
        }
      ]
    },
    {
      "cell_type": "markdown",
      "source": [
        "# **b. Predicciones**\n",
        "+ Una vez entrenado el modelo, se predicen los datos de test (36 meses a futuro)."
      ],
      "metadata": {
        "id": "INw0t5-_qrr2"
      }
    },
    {
      "cell_type": "code",
      "source": [
        "# Predicciones\n",
        "# ==============================================================================\n",
        "steps = 36\n",
        "predicciones = forecaster.predict(steps=steps)\n",
        "predicciones"
      ],
      "metadata": {
        "colab": {
          "base_uri": "https://localhost:8080/"
        },
        "id": "MFSEhfojq2E5",
        "outputId": "001a4e5c-441c-46d1-b330-f331b9fd522e"
      },
      "execution_count": null,
      "outputs": [
        {
          "output_type": "execute_result",
          "data": {
            "text/plain": [
              "2005-07-01    0.878756\n",
              "2005-08-01    0.882167\n",
              "2005-09-01    0.973184\n",
              "2005-10-01    0.983678\n",
              "2005-11-01    0.849494\n",
              "2005-12-01    0.714687\n",
              "2006-01-01    0.746887\n",
              "2006-02-01    0.792966\n",
              "2006-03-01    0.804479\n",
              "2006-04-01    0.861614\n",
              "2006-05-01    0.904859\n",
              "2006-06-01    0.953375\n",
              "2006-07-01    0.964563\n",
              "2006-08-01    0.915581\n",
              "2006-09-01    0.801672\n",
              "2006-10-01    0.718724\n",
              "2006-11-01    0.808007\n",
              "2006-12-01    0.820536\n",
              "2007-01-01    0.874896\n",
              "2007-02-01    0.879381\n",
              "2007-03-01    0.907124\n",
              "2007-04-01    0.981138\n",
              "2007-05-01    0.963307\n",
              "2007-06-01    0.806895\n",
              "2007-07-01    0.591677\n",
              "2007-08-01    0.661481\n",
              "2007-09-01    0.696752\n",
              "2007-10-01    0.760050\n",
              "2007-11-01    0.801492\n",
              "2007-12-01    0.850072\n",
              "2008-01-01    0.937549\n",
              "2008-02-01    0.925201\n",
              "2008-03-01    0.932615\n",
              "2008-04-01    0.889663\n",
              "2008-05-01    0.827401\n",
              "2008-06-01    0.864452\n",
              "Freq: MS, Name: pred, dtype: float64"
            ]
          },
          "metadata": {},
          "execution_count": 26
        }
      ]
    },
    {
      "cell_type": "markdown",
      "source": [
        "# **c. Gráfico**"
      ],
      "metadata": {
        "id": "gfjD9lFSrcMv"
      }
    },
    {
      "cell_type": "code",
      "source": [
        "# **c. Gráfico**\n",
        "# ==============================================================================\n",
        "fig, ax = plt.subplots(figsize=(7, 2.5))\n",
        "datos_train['y'].plot(ax=ax, label='train')\n",
        "datos_test['y'].plot(ax=ax, label='test')\n",
        "predicciones.plot(ax=ax, label='predicciones')\n",
        "ax.legend();"
      ],
      "metadata": {
        "colab": {
          "base_uri": "https://localhost:8080/",
          "height": 281
        },
        "id": "wGSLeLJirVee",
        "outputId": "3e0cd047-8215-4512-b901-8929ef60a2fc"
      },
      "execution_count": null,
      "outputs": [
        {
          "output_type": "display_data",
          "data": {
            "text/plain": [
              "<Figure size 700x250 with 1 Axes>"
            ],
            "image/png": "[encoded data removed]"
          },
          "metadata": {}
        }
      ]
    },
    {
      "cell_type": "markdown",
      "source": [
        "# **d. Error de las predicciones en el conjunto de test**\n",
        "\n",
        "+ Se cuantifica el error que comete el modelo en sus predicciones. En este caso, se emplea como métrica el mean squared error (***mse***)"
      ],
      "metadata": {
        "id": "dg0FtS8jvnWA"
      }
    },
    {
      "cell_type": "code",
      "source": [
        "# Error test\n",
        "# ==============================================================================\n",
        "error_mse = mean_squared_error(\n",
        "                y_true = datos_test['y'],\n",
        "                y_pred = predicciones\n",
        "            )\n",
        "\n",
        "print(f\"Error de test (mse): {error_mse}\")"
      ],
      "metadata": {
        "colab": {
          "base_uri": "https://localhost:8080/"
        },
        "id": "IrNKQZ2yrVi1",
        "outputId": "354b8d67-0b63-4330-9188-3f3034a8dae7"
      },
      "execution_count": null,
      "outputs": [
        {
          "output_type": "stream",
          "name": "stdout",
          "text": [
            "Error de test (mse): 0.07326833976120374\n"
          ]
        }
      ]
    },
    {
      "cell_type": "markdown",
      "source": [
        "# **4. Ajuste de hiperparámetros (tuning)**\n",
        "\n",
        "\n",
        "+ El _ForecasterAutoreg_ entrenado ha utilizado una ventana temporal de 6 lags y un modelo Random Forest con los hiperparámetros por defecto. Sin embargo, no hay ninguna razón por la que estos valores sean los más adecuados.\n",
        "+ La librería Skforecast dispone de la función ***grid_search_forecaster*** con la que comparar los resultados obtenidos con múltiples combinaciones de hiperparámetros y lags, e identificar la mejor."
      ],
      "metadata": {
        "id": "u4a3ja2ZwT_f"
      }
    },
    {
      "cell_type": "markdown",
      "source": [
        "# **Nota**\n",
        "\n",
        "+ El coste computacional del ajuste de hiperparámetros depende en gran medida del enfoque de backtesting elegido para evaluar cada combinación de hiperparámetros.\n",
        "+ En general, la duración del proceso de ajuste aumenta a medida que crece el número de reentrenamientos implicados en el backtesting.\n",
        "* Para acelerar la fase de prototipado, es muy recomendable adoptar una estrategia en dos pasos.\n",
        "* En primer lugar, utilizar _refit=False_ durante la búsqueda inicial para reducir el rango de valores.\n",
        "+ A continuación, focalizarse en la región de interés identificada y aplicar una estrategia de backtesting que cumpla los requisitos específicos del caso de uso. Para una documentación más detallada visitar: Hyperparameter tuning and lags selection"
      ],
      "metadata": {
        "id": "J_EXv8BcxRwW"
      }
    },
    {
      "cell_type": "markdown",
      "source": [
        "# **a. Grid search de hiperparámetros**"
      ],
      "metadata": {
        "id": "T9C1ZZQly6or"
      }
    },
    {
      "cell_type": "code",
      "source": [
        "# **a. Grid search de hiperparámetros**\n",
        "# ==============================================================================\n",
        "steps = 36\n",
        "forecaster = ForecasterAutoreg(\n",
        "                regressor = RandomForestRegressor(random_state=123),\n",
        "                lags      = 12 # Este valor será remplazado en el grid search\n",
        "             )\n",
        "\n",
        "# Lags utilizados como predictores\n",
        "lags_grid = [10, 20]\n",
        "\n",
        "# Hiperparámetros del regresor\n",
        "param_grid = {'n_estimators': [100, 500],\n",
        "              'max_depth': [3, 5, 10]}\n",
        "\n",
        "resultados_grid = grid_search_forecaster(\n",
        "                        forecaster         = forecaster,\n",
        "                        y                  = datos_train['y'],\n",
        "                        param_grid         = param_grid,\n",
        "                        lags_grid          = lags_grid,\n",
        "                        steps              = steps,\n",
        "                        refit              = False,\n",
        "                        metric             = 'mean_squared_error',\n",
        "                        initial_train_size = int(len(datos_train)*0.5),\n",
        "                        fixed_train_size   = False,\n",
        "                        return_best        = True,\n",
        "                        n_jobs             = 'auto',\n",
        "                        verbose            = False\n",
        "                  )"
      ],
      "metadata": {
        "colab": {
          "base_uri": "https://localhost:8080/",
          "height": 157,
          "referenced_widgets": [
            "87932ef613f64cd1bb6921fdb9d79e68",
            "a080cd2a572546b58f1f7e46fa921b3c",
            "9baaf80885e44e31a2b331e2cc22dfe7",
            "af0ae42453ce46c1b9fbcb75de958f07",
            "0d8501cd46ad47fe9b25a7a1781481e6",
            "f5633b94ec674b53b32ffb953a24eda0",
            "608604c0b9224d01897488a8a9cdf0d9",
            "522208912f854ee496b13ae0795256dc",
            "ce626c482a144951b04bc5157d9f3c22",
            "1b3040810aca467fb1774d320c028a81",
            "b5460b88c6f449538f162335961819e2",
            "d9dbf2208a2e4df0a8eaf91754400261",
            "6932da0b90674bfb81fe3584d06a28f6",
            "440e46d4ad9b4af3876c101feab1038a",
            "926ff0de3d314c218c729ab2a4cf70a0",
            "2da84f24e6bc44109a8ba1ca099e6657",
            "5d9b24b90e794d19a978ee4242ae88be",
            "7fd8ecd782ea4f64b3ff570585fb5c2f",
            "c7af9f925b67450892a3cf9f51c0b944",
            "5ff67518d7b748ce8533c8ce0837ace5",
            "2c0ec18927fd47a1b49e85f910d76bc5",
            "19559096a46a4b31861c5540b0415951"
          ]
        },
        "id": "mPRGz0LjrVmu",
        "outputId": "78e22825-a766-4759-99b2-f3bac52956aa"
      },
      "execution_count": null,
      "outputs": [
        {
          "output_type": "stream",
          "name": "stdout",
          "text": [
            "Number of models compared: 12.\n"
          ]
        },
        {
          "output_type": "display_data",
          "data": {
            "text/plain": [
              "lags grid:   0%|          | 0/2 [00:00<?, ?it/s]"
            ],
            "application/vnd.jupyter.widget-view+json": {
              "version_major": 2,
              "version_minor": 0,
              "model_id": "87932ef613f64cd1bb6921fdb9d79e68"
            }
          },
          "metadata": {}
        },
        {
          "output_type": "display_data",
          "data": {
            "text/plain": [
              "params grid:   0%|          | 0/6 [00:00<?, ?it/s]"
            ],
            "application/vnd.jupyter.widget-view+json": {
              "version_major": 2,
              "version_minor": 0,
              "model_id": "d9dbf2208a2e4df0a8eaf91754400261"
            }
          },
          "metadata": {}
        },
        {
          "output_type": "stream",
          "name": "stdout",
          "text": [
            "`Forecaster` refitted using the best-found lags and parameters, and the whole data set: \n",
            "  Lags: [ 1  2  3  4  5  6  7  8  9 10 11 12 13 14 15 16 17 18 19 20] \n",
            "  Parameters: {'max_depth': 3, 'n_estimators': 500}\n",
            "  Backtesting metric: 0.021992765856921042\n",
            "\n"
          ]
        }
      ]
    },
    {
      "cell_type": "markdown",
      "source": [
        "# **b. Resultados Grid Search**"
      ],
      "metadata": {
        "id": "JlbGMfrHzEp2"
      }
    },
    {
      "cell_type": "code",
      "source": [
        "# **g. Resultados Grid Search**\n",
        "# ==============================================================================\n",
        "resultados_grid"
      ],
      "metadata": {
        "colab": {
          "base_uri": "https://localhost:8080/",
          "height": 633
        },
        "id": "_CjwMF3CrVq2",
        "outputId": "8eea6caf-b512-41fb-9dc9-b5054a04ddb7"
      },
      "execution_count": null,
      "outputs": [
        {
          "output_type": "execute_result",
          "data": {
            "text/plain": [
              "                                                 lags  \\\n",
              "7   [1, 2, 3, 4, 5, 6, 7, 8, 9, 10, 11, 12, 13, 14...   \n",
              "9   [1, 2, 3, 4, 5, 6, 7, 8, 9, 10, 11, 12, 13, 14...   \n",
              "11  [1, 2, 3, 4, 5, 6, 7, 8, 9, 10, 11, 12, 13, 14...   \n",
              "8   [1, 2, 3, 4, 5, 6, 7, 8, 9, 10, 11, 12, 13, 14...   \n",
              "6   [1, 2, 3, 4, 5, 6, 7, 8, 9, 10, 11, 12, 13, 14...   \n",
              "10  [1, 2, 3, 4, 5, 6, 7, 8, 9, 10, 11, 12, 13, 14...   \n",
              "0                     [1, 2, 3, 4, 5, 6, 7, 8, 9, 10]   \n",
              "1                     [1, 2, 3, 4, 5, 6, 7, 8, 9, 10]   \n",
              "4                     [1, 2, 3, 4, 5, 6, 7, 8, 9, 10]   \n",
              "2                     [1, 2, 3, 4, 5, 6, 7, 8, 9, 10]   \n",
              "3                     [1, 2, 3, 4, 5, 6, 7, 8, 9, 10]   \n",
              "5                     [1, 2, 3, 4, 5, 6, 7, 8, 9, 10]   \n",
              "\n",
              "                                    params  mean_squared_error  max_depth  \\\n",
              "7    {'max_depth': 3, 'n_estimators': 500}            0.021993          3   \n",
              "9    {'max_depth': 5, 'n_estimators': 500}            0.022114          5   \n",
              "11  {'max_depth': 10, 'n_estimators': 500}            0.022224         10   \n",
              "8    {'max_depth': 5, 'n_estimators': 100}            0.022530          5   \n",
              "6    {'max_depth': 3, 'n_estimators': 100}            0.022569          3   \n",
              "10  {'max_depth': 10, 'n_estimators': 100}            0.023400         10   \n",
              "0    {'max_depth': 3, 'n_estimators': 100}            0.063144          3   \n",
              "1    {'max_depth': 3, 'n_estimators': 500}            0.064775          3   \n",
              "4   {'max_depth': 10, 'n_estimators': 100}            0.066307         10   \n",
              "2    {'max_depth': 5, 'n_estimators': 100}            0.067151          5   \n",
              "3    {'max_depth': 5, 'n_estimators': 500}            0.067227          5   \n",
              "5   {'max_depth': 10, 'n_estimators': 500}            0.068109         10   \n",
              "\n",
              "    n_estimators  \n",
              "7            500  \n",
              "9            500  \n",
              "11           500  \n",
              "8            100  \n",
              "6            100  \n",
              "10           100  \n",
              "0            100  \n",
              "1            500  \n",
              "4            100  \n",
              "2            100  \n",
              "3            500  \n",
              "5            500  "
            ],
            "text/html": [
              "\n",
              "  <div id=\"df-82981083-1eea-41c3-bf43-16051a9f4aab\" class=\"colab-df-container\">\n",
              "    <div>\n",
              "<style scoped>\n",
              "    .dataframe tbody tr th:only-of-type {\n",
              "        vertical-align: middle;\n",
              "    }\n",
              "\n",
              "    .dataframe tbody tr th {\n",
              "        vertical-align: top;\n",
              "    }\n",
              "\n",
              "    .dataframe thead th {\n",
              "        text-align: right;\n",
              "    }\n",
              "</style>\n",
              "<table border=\"1\" class=\"dataframe\">\n",
              "  <thead>\n",
              "    <tr style=\"text-align: right;\">\n",
              "      <th></th>\n",
              "      <th>lags</th>\n",
              "      <th>params</th>\n",
              "      <th>mean_squared_error</th>\n",
              "      <th>max_depth</th>\n",
              "      <th>n_estimators</th>\n",
              "    </tr>\n",
              "  </thead>\n",
              "  <tbody>\n",
              "    <tr>\n",
              "      <th>7</th>\n",
              "      <td>[1, 2, 3, 4, 5, 6, 7, 8, 9, 10, 11, 12, 13, 14...</td>\n",
              "      <td>{'max_depth': 3, 'n_estimators': 500}</td>\n",
              "      <td>0.021993</td>\n",
              "      <td>3</td>\n",
              "      <td>500</td>\n",
              "    </tr>\n",
              "    <tr>\n",
              "      <th>9</th>\n",
              "      <td>[1, 2, 3, 4, 5, 6, 7, 8, 9, 10, 11, 12, 13, 14...</td>\n",
              "      <td>{'max_depth': 5, 'n_estimators': 500}</td>\n",
              "      <td>0.022114</td>\n",
              "      <td>5</td>\n",
              "      <td>500</td>\n",
              "    </tr>\n",
              "    <tr>\n",
              "      <th>11</th>\n",
              "      <td>[1, 2, 3, 4, 5, 6, 7, 8, 9, 10, 11, 12, 13, 14...</td>\n",
              "      <td>{'max_depth': 10, 'n_estimators': 500}</td>\n",
              "      <td>0.022224</td>\n",
              "      <td>10</td>\n",
              "      <td>500</td>\n",
              "    </tr>\n",
              "    <tr>\n",
              "      <th>8</th>\n",
              "      <td>[1, 2, 3, 4, 5, 6, 7, 8, 9, 10, 11, 12, 13, 14...</td>\n",
              "      <td>{'max_depth': 5, 'n_estimators': 100}</td>\n",
              "      <td>0.022530</td>\n",
              "      <td>5</td>\n",
              "      <td>100</td>\n",
              "    </tr>\n",
              "    <tr>\n",
              "      <th>6</th>\n",
              "      <td>[1, 2, 3, 4, 5, 6, 7, 8, 9, 10, 11, 12, 13, 14...</td>\n",
              "      <td>{'max_depth': 3, 'n_estimators': 100}</td>\n",
              "      <td>0.022569</td>\n",
              "      <td>3</td>\n",
              "      <td>100</td>\n",
              "    </tr>\n",
              "    <tr>\n",
              "      <th>10</th>\n",
              "      <td>[1, 2, 3, 4, 5, 6, 7, 8, 9, 10, 11, 12, 13, 14...</td>\n",
              "      <td>{'max_depth': 10, 'n_estimators': 100}</td>\n",
              "      <td>0.023400</td>\n",
              "      <td>10</td>\n",
              "      <td>100</td>\n",
              "    </tr>\n",
              "    <tr>\n",
              "      <th>0</th>\n",
              "      <td>[1, 2, 3, 4, 5, 6, 7, 8, 9, 10]</td>\n",
              "      <td>{'max_depth': 3, 'n_estimators': 100}</td>\n",
              "      <td>0.063144</td>\n",
              "      <td>3</td>\n",
              "      <td>100</td>\n",
              "    </tr>\n",
              "    <tr>\n",
              "      <th>1</th>\n",
              "      <td>[1, 2, 3, 4, 5, 6, 7, 8, 9, 10]</td>\n",
              "      <td>{'max_depth': 3, 'n_estimators': 500}</td>\n",
              "      <td>0.064775</td>\n",
              "      <td>3</td>\n",
              "      <td>500</td>\n",
              "    </tr>\n",
              "    <tr>\n",
              "      <th>4</th>\n",
              "      <td>[1, 2, 3, 4, 5, 6, 7, 8, 9, 10]</td>\n",
              "      <td>{'max_depth': 10, 'n_estimators': 100}</td>\n",
              "      <td>0.066307</td>\n",
              "      <td>10</td>\n",
              "      <td>100</td>\n",
              "    </tr>\n",
              "    <tr>\n",
              "      <th>2</th>\n",
              "      <td>[1, 2, 3, 4, 5, 6, 7, 8, 9, 10]</td>\n",
              "      <td>{'max_depth': 5, 'n_estimators': 100}</td>\n",
              "      <td>0.067151</td>\n",
              "      <td>5</td>\n",
              "      <td>100</td>\n",
              "    </tr>\n",
              "    <tr>\n",
              "      <th>3</th>\n",
              "      <td>[1, 2, 3, 4, 5, 6, 7, 8, 9, 10]</td>\n",
              "      <td>{'max_depth': 5, 'n_estimators': 500}</td>\n",
              "      <td>0.067227</td>\n",
              "      <td>5</td>\n",
              "      <td>500</td>\n",
              "    </tr>\n",
              "    <tr>\n",
              "      <th>5</th>\n",
              "      <td>[1, 2, 3, 4, 5, 6, 7, 8, 9, 10]</td>\n",
              "      <td>{'max_depth': 10, 'n_estimators': 500}</td>\n",
              "      <td>0.068109</td>\n",
              "      <td>10</td>\n",
              "      <td>500</td>\n",
              "    </tr>\n",
              "  </tbody>\n",
              "</table>\n",
              "</div>\n",
              "    <div class=\"colab-df-buttons\">\n",
              "\n",
              "  <div class=\"colab-df-container\">\n",
              "    <button class=\"colab-df-convert\" onclick=\"convertToInteractive('df-82981083-1eea-41c3-bf43-16051a9f4aab')\"\n",
              "            title=\"Convert this dataframe to an interactive table.\"\n",
              "            style=\"display:none;\">\n",
              "\n",
              "  <svg xmlns=\"http://www.w3.org/2000/svg\" height=\"24px\" viewBox=\"0 -960 960 960\">\n",
              "    <path d=\"M120-120v-720h720v720H120Zm60-500h600v-160H180v160Zm220 220h160v-160H400v160Zm0 220h160v-160H400v160ZM180-400h160v-160H180v160Zm440 0h160v-160H620v160ZM180-180h160v-160H180v160Zm440 0h160v-160H620v160Z\"/>\n",
              "  </svg>\n",
              "    </button>\n",
              "\n",
              "  <style>\n",
              "    .colab-df-container {\n",
              "      display:flex;\n",
              "      gap: 12px;\n",
              "    }\n",
              "\n",
              "    .colab-df-convert {\n",
              "      background-color: #E8F0FE;\n",
              "      border: none;\n",
              "      border-radius: 50%;\n",
              "      cursor: pointer;\n",
              "      display: none;\n",
              "      fill: #1967D2;\n",
              "      height: 32px;\n",
              "      padding: 0 0 0 0;\n",
              "      width: 32px;\n",
              "    }\n",
              "\n",
              "    .colab-df-convert:hover {\n",
              "      background-color: #E2EBFA;\n",
              "      box-shadow: 0px 1px 2px rgba(60, 64, 67, 0.3), 0px 1px 3px 1px rgba(60, 64, 67, 0.15);\n",
              "      fill: #174EA6;\n",
              "    }\n",
              "\n",
              "    .colab-df-buttons div {\n",
              "      margin-bottom: 4px;\n",
              "    }\n",
              "\n",
              "    [theme=dark] .colab-df-convert {\n",
              "      background-color: #3B4455;\n",
              "      fill: #D2E3FC;\n",
              "    }\n",
              "\n",
              "    [theme=dark] .colab-df-convert:hover {\n",
              "      background-color: #434B5C;\n",
              "      box-shadow: 0px 1px 3px 1px rgba(0, 0, 0, 0.15);\n",
              "      filter: drop-shadow(0px 1px 2px rgba(0, 0, 0, 0.3));\n",
              "      fill: #FFFFFF;\n",
              "    }\n",
              "  </style>\n",
              "\n",
              "    <script>\n",
              "      const buttonEl =\n",
              "        document.querySelector('#df-82981083-1eea-41c3-bf43-16051a9f4aab button.colab-df-convert');\n",
              "      buttonEl.style.display =\n",
              "        google.colab.kernel.accessAllowed ? 'block' : 'none';\n",
              "\n",
              "      async function convertToInteractive(key) {\n",
              "        const element = document.querySelector('#df-82981083-1eea-41c3-bf43-16051a9f4aab');\n",
              "        const dataTable =\n",
              "          await google.colab.kernel.invokeFunction('convertToInteractive',\n",
              "                                                    [key], {});\n",
              "        if (!dataTable) return;\n",
              "\n",
              "        const docLinkHtml = 'Like what you see? Visit the ' +\n",
              "          '<a target=\"_blank\" href=https://colab.research.google.com/notebooks/data_table.ipynb>data table notebook</a>'\n",
              "          + ' to learn more about interactive tables.';\n",
              "        element.innerHTML = '';\n",
              "        dataTable['output_type'] = 'display_data';\n",
              "        await google.colab.output.renderOutput(dataTable, element);\n",
              "        const docLink = document.createElement('div');\n",
              "        docLink.innerHTML = docLinkHtml;\n",
              "        element.appendChild(docLink);\n",
              "      }\n",
              "    </script>\n",
              "  </div>\n",
              "\n",
              "\n",
              "<div id=\"df-45edc0d9-93a4-425f-a5c7-ffb54eb37690\">\n",
              "  <button class=\"colab-df-quickchart\" onclick=\"quickchart('df-45edc0d9-93a4-425f-a5c7-ffb54eb37690')\"\n",
              "            title=\"Suggest charts.\"\n",
              "            style=\"display:none;\">\n",
              "\n",
              "<svg xmlns=\"http://www.w3.org/2000/svg\" height=\"24px\"viewBox=\"0 0 24 24\"\n",
              "     width=\"24px\">\n",
              "    <g>\n",
              "        <path d=\"M19 3H5c-1.1 0-2 .9-2 2v14c0 1.1.9 2 2 2h14c1.1 0 2-.9 2-2V5c0-1.1-.9-2-2-2zM9 17H7v-7h2v7zm4 0h-2V7h2v10zm4 0h-2v-4h2v4z\"/>\n",
              "    </g>\n",
              "</svg>\n",
              "  </button>\n",
              "\n",
              "<style>\n",
              "  .colab-df-quickchart {\n",
              "    background-color: #E8F0FE;\n",
              "    border: none;\n",
              "    border-radius: 50%;\n",
              "    cursor: pointer;\n",
              "    display: none;\n",
              "    fill: #1967D2;\n",
              "    height: 32px;\n",
              "    padding: 0 0 0 0;\n",
              "    width: 32px;\n",
              "  }\n",
              "\n",
              "  .colab-df-quickchart:hover {\n",
              "    background-color: #E2EBFA;\n",
              "    box-shadow: 0px 1px 2px rgba(60, 64, 67, 0.3), 0px 1px 3px 1px rgba(60, 64, 67, 0.15);\n",
              "    fill: #174EA6;\n",
              "  }\n",
              "\n",
              "  [theme=dark] .colab-df-quickchart {\n",
              "    background-color: #3B4455;\n",
              "    fill: #D2E3FC;\n",
              "  }\n",
              "\n",
              "  [theme=dark] .colab-df-quickchart:hover {\n",
              "    background-color: #434B5C;\n",
              "    box-shadow: 0px 1px 3px 1px rgba(0, 0, 0, 0.15);\n",
              "    filter: drop-shadow(0px 1px 2px rgba(0, 0, 0, 0.3));\n",
              "    fill: #FFFFFF;\n",
              "  }\n",
              "</style>\n",
              "\n",
              "  <script>\n",
              "    async function quickchart(key) {\n",
              "      const charts = await google.colab.kernel.invokeFunction(\n",
              "          'suggestCharts', [key], {});\n",
              "    }\n",
              "    (() => {\n",
              "      let quickchartButtonEl =\n",
              "        document.querySelector('#df-45edc0d9-93a4-425f-a5c7-ffb54eb37690 button');\n",
              "      quickchartButtonEl.style.display =\n",
              "        google.colab.kernel.accessAllowed ? 'block' : 'none';\n",
              "    })();\n",
              "  </script>\n",
              "</div>\n",
              "    </div>\n",
              "  </div>\n"
            ]
          },
          "metadata": {},
          "execution_count": 30
        }
      ]
    },
    {
      "cell_type": "markdown",
      "source": [
        "# **Nota**\n",
        "\n",
        "+ Los mejores resultados se obtienen si se utiliza una ventana temporal de 20 lags y una configuración de Random Forest {'max_depth': 3, 'n_estimators': 500}."
      ],
      "metadata": {
        "id": "M5-swD5pzTAh"
      }
    },
    {
      "cell_type": "markdown",
      "source": [
        "# **c. Modelo final**\n",
        "\n",
        "+ Finalmente, se entrena de nuevo un ForecasterAutoreg con la configuración óptima encontrada mediante validación. Este paso no es necesario si se indica return_best = True en la función grid_search_forecaster."
      ],
      "metadata": {
        "id": "zJh5KvX5zmXZ"
      }
    },
    {
      "cell_type": "code",
      "source": [
        "# **c. Modelo final -Crear y entrenar forecaster con mejores hiperparámetros**\n",
        "# ==============================================================================\n",
        "regressor = RandomForestRegressor(max_depth=3, n_estimators=500, random_state=123)\n",
        "forecaster = ForecasterAutoreg(\n",
        "                regressor = regressor,\n",
        "                lags      = 20\n",
        "             )\n",
        "\n",
        "forecaster.fit(y=datos_train['y'])\n",
        "# Predicciones\n",
        "# ==============================================================================\n",
        "predicciones = forecaster.predict(steps=steps)\n",
        "# Gráfico\n",
        "# ==============================================================================\n",
        "fig, ax = plt.subplots(figsize=(7, 2.5))\n",
        "datos_train['y'].plot(ax=ax, label='train')\n",
        "datos_test['y'].plot(ax=ax, label='test')\n",
        "predicciones.plot(ax=ax, label='predicciones')\n",
        "ax.legend();"
      ],
      "metadata": {
        "colab": {
          "base_uri": "https://localhost:8080/",
          "height": 281
        },
        "id": "TZ5BLTU8rVuB",
        "outputId": "e3fb34f4-025a-4509-a65e-5145d30eda9c"
      },
      "execution_count": null,
      "outputs": [
        {
          "output_type": "display_data",
          "data": {
            "text/plain": [
              "<Figure size 700x250 with 1 Axes>"
            ],
            "image/png": "[encoded data removed]"
          },
          "metadata": {}
        }
      ]
    },
    {
      "cell_type": "markdown",
      "source": [
        "# **d. Error de test**"
      ],
      "metadata": {
        "id": "fb_7NEBh2BXf"
      }
    },
    {
      "cell_type": "code",
      "source": [
        "# **d. Error de test**\n",
        "# ==============================================================================\n",
        "error_mse = mean_squared_error(\n",
        "                y_true = datos_test['y'],\n",
        "                y_pred = predicciones\n",
        "            )\n",
        "\n",
        "print(f\"Error de test (mse) {error_mse}\")"
      ],
      "metadata": {
        "colab": {
          "base_uri": "https://localhost:8080/"
        },
        "id": "NEgRMd9VrVxW",
        "outputId": "34a181c2-1f5b-47a7-cde2-ab98e85e1c0a"
      },
      "execution_count": null,
      "outputs": [
        {
          "output_type": "stream",
          "name": "stdout",
          "text": [
            "Error de test (mse) 0.004392699665157793\n"
          ]
        }
      ]
    },
    {
      "cell_type": "markdown",
      "source": [
        "# **Nota**\n",
        "\n",
        "+ Con la combinación óptima de hiperparámetros se consigue reducir notablemente el error de test."
      ],
      "metadata": {
        "id": "N7LpRvO82fHq"
      }
    },
    {
      "cell_type": "markdown",
      "source": [
        "# **5. Backtesting**\n",
        "\n",
        "+ El proceso de ***backtesting*** consiste en evaluar el comportamiento de un modelo predictivo al aplicarlo de forma retrospectiva sobre datos históricos. Por lo tanto, es una estrategia de validación que permite cuantificar la capacidad predictiva de un modelo.\n",
        "\n",
        "# **🖉 Nota 1**\n",
        "+ Para garantizar una evaluación precisa de su modelo y ganar confianza en su rendimiento predictivo con nuevos datos, es fundamental emplear una estrategia de _backtesting adecuada_.\n",
        "+ Factores como las características del caso de uso, los recursos informáticos disponibles y los intervalos de tiempo entre predicciones deben tenerse en cuenta para determinar qué estrategia utilizar.\n",
        "+ En términos generales, cuanto más se parezca el proceso de _backtesting_ al escenario real en el que se utilizará el modelo, más fiable será la métrica estimada.\n",
        "\n",
        "# **a. Backtesting con reentrenamiento**\n",
        "\n",
        "+ El modelo se entrena cada vez antes de realizar las predicciones, de esta forma, se incorpora toda la información disponible hasta el momento.\n",
        "+ Se trata de una adaptación del proceso de _cross-validation_ en el que, en lugar de hacer un reparto aleatorio de las observaciones, el conjunto de entrenamiento se incrementa de manera secuencial, manteniendo el orden temporal de los datos.\n",
        "\n",
        "\n",
        "![https://d33wubrfki0l68.cloudfront.net/2b77d8649b855abde7df9427673ed9e265136750/15f70/images/backtesting_refit.gif](https://d33wubrfki0l68.cloudfront.net/2b77d8649b855abde7df9427673ed9e265136750/15f70/images/backtesting_refit.gif)\n",
        "   - _Diagrama de time series backtesting con un tamaño inicial de entrenamiento de 10 observaciones, un horizonte de predicción de 3 steps y reentrenamiento en cada iteración._\n",
        "\n",
        "\n",
        "# **b. Backtesting con reentrenamiento y tamaño de entrenamiento constante**\n",
        "\n",
        "+ Similar a la estrategia anterior, pero, en este caso, el tamaño del conjunto de entrenamiento no se incrementa sino que la ventana de tiempo que abarca se desplaza.\n",
        "+ Esta estrategia se conoce también como time series cross-validation o walk-forward validation.\n",
        "\n",
        "![https://d33wubrfki0l68.cloudfront.net/f9e6d3495ba5437512a3ff12ac0bdef7fa1745ae/7ef53/images/backtesting_refit_fixed_train_size.gif](https://d33wubrfki0l68.cloudfront.net/f9e6d3495ba5437512a3ff12ac0bdef7fa1745ae/7ef53/images/backtesting_refit_fixed_train_size.gif)\n",
        "\n",
        " - _Diagrama de time series backtesting con un tamaño inicial de entrenamiento de 10 observaciones, un horizonte de predicción de 3 steps y set de entrenamiento con tamaño constante._\n",
        "\n",
        "\n",
        "\n",
        "# **c. Backtesting con reentrenamiento cada n periodos (intermitente)**\n",
        "\n",
        "+ El modelo se reentrena de forma intermitente cada  $n$   periodos de predicción.\n",
        "\n",
        "# **🖉 Nota 2**\n",
        "\n",
        "+ Esta estrategia suele lograr un buen equilibrio entre el coste computacional del reentrenamiento y evitar la degradación del modelo.\n",
        "\n",
        "![https://d33wubrfki0l68.cloudfront.net/534ef9e96dd557ad9b891171757fd95b77cd3cd8/2c277/images/backtesting_intermittent_refit.gif](https://d33wubrfki0l68.cloudfront.net/534ef9e96dd557ad9b891171757fd95b77cd3cd8/2c277/images/backtesting_intermittent_refit.gif)\n",
        "\n",
        "  - _Diagrama de time series backtesting con un tamaño inicial de entrenamiento de 10 observaciones, un horizonte de predicción de 3 steps y una frecuencia de reentrenamiento intermitente._\n",
        "\n",
        "\n",
        "\n",
        "\n",
        "# **d. Backtesting sin reentrenamiento**\n",
        "\n",
        "+ Con esta estrategia, el modelo se entrena una única vez con un conjunto inicial y se realizan las predicciones de forma secuencial sin actualizar el modelo y siguiendo el orden temporal de los datos.\n",
        "+ Esta estrategia tiene la ventaja de ser mucho más rápida puesto que el modelo solo se entrena una vez.\n",
        "+ La desventaja es que el modelo no incorpora la última información disponible por lo que puede perder capacidad predictiva con el tiempo.\n",
        "\n",
        "![https://d33wubrfki0l68.cloudfront.net/4863ddaed710fbf2a52cd291047519c001da479a/86ef7/images/backtesting_no_refit.gif](https://d33wubrfki0l68.cloudfront.net/4863ddaed710fbf2a52cd291047519c001da479a/86ef7/images/backtesting_no_refit.gif)\n",
        "  - _Diagrama de time series backtesting con un tamaño inicial de entrenamiento de 10 observaciones, un horizonte de predicción de 3 steps, sin reentrenamiento en cada iteración._\n",
        "\n",
        "# **🖉 Nota 3**\n",
        "\n",
        "+ La librería **skforecast** dispone de múltiples estrategias de backtesting mencionadas.\n",
        "+ Independientemente de cuál se utilice, es importante no incluir los datos de test en el proceso de búsqueda para no caer en problemas de overfitting.\n",
        "\n",
        "\n",
        "# **🖉 Nota 4**\n",
        "\n",
        "+ ***Para este ejemplo, se sigue una estrategia de backtesting con reentrenamiento.*** Internamente, el proceso seguido por la función es el siguiente:\n",
        "\n",
        "  - En la primera iteración, el modelo se entrena con las observaciones seleccionadas para el entrenamiento inicial (en este caso, 87). Después, las siguientes 36 observaciones se utilizan para validar las predicciones de este primer modelo (también 36).\n",
        "\n",
        " -  En la segunda iteración, se reentrena el modelo añadiendo, al conjunto de entrenamiento inicial, las 36 observaciones de validación anteriores (87 + 36). De la misma manera, se establece como nuevo conjunto de validación las 36 observaciones siguientes.\n",
        "\n",
        " - Este proceso se repite hasta que se utilizan todas las observaciones disponibles. Siguiendo esta estrategia, el conjunto de entrenamiento aumenta en cada iteración con tantas observaciones como steps se estén prediciendo."
      ],
      "metadata": {
        "id": "q6TAf1XU3SkP"
      }
    },
    {
      "cell_type": "markdown",
      "source": [
        "#**e. Backtesting**"
      ],
      "metadata": {
        "id": "CPVQvull-mUN"
      }
    },
    {
      "cell_type": "code",
      "source": [
        "#**e. Backtesting**\n",
        "# ==============================================================================\n",
        "steps = 36\n",
        "n_backtesting = 36*3 # Se separan para el backtest los últimos 9 años\n",
        "\n",
        "metrica, predicciones_backtest = backtesting_forecaster(\n",
        "                                    forecaster         = forecaster,\n",
        "                                    y                  = datos['y'],\n",
        "                                    initial_train_size = len(datos) - n_backtesting,\n",
        "                                    fixed_train_size   = False,\n",
        "                                    steps              = steps,\n",
        "                                    refit              = True,\n",
        "                                    metric             = 'mean_squared_error',\n",
        "                                    verbose            = True\n",
        "                                 )\n",
        "\n",
        "print(f\"Error de backtest: {metrica}\")"
      ],
      "metadata": {
        "colab": {
          "base_uri": "https://localhost:8080/",
          "height": 390,
          "referenced_widgets": [
            "3eed526da5414a2aaca969a93ff301e6",
            "e53031642bda4a9aa5246028c30e4296",
            "5bf4e95a478947f7899c8416bfe08449",
            "ca9726f6312e4aeab3600b87e933afab",
            "4fcf49a9e3364f17aa57a51d3483615f",
            "e64ea51775694e3888524fb9112b7d76",
            "58f81d45c3df4d67b0bfa6894849896e",
            "e0e7c90c50a64d57a2343b6a48487dc6",
            "a84355a0848845168c6232ca20dba9d6",
            "3d13e38ee80944e6abfff261215e9ef8",
            "a013fbea259843aa99b8c115026d822a"
          ]
        },
        "id": "uJUxU-7brV0h",
        "outputId": "23fa7a1b-450a-4d72-f313-e39245a0a92f"
      },
      "execution_count": null,
      "outputs": [
        {
          "output_type": "stream",
          "name": "stdout",
          "text": [
            "Information of backtesting process\n",
            "----------------------------------\n",
            "Number of observations used for initial training: 87\n",
            "Number of observations used for backtesting: 108\n",
            "    Number of folds: 3\n",
            "    Number of steps per fold: 36\n",
            "    Number of steps to exclude from the end of each train set before test (gap): 0\n",
            "\n",
            "Fold: 0\n",
            "    Training:   1992-04-01 00:00:00 -- 1999-06-01 00:00:00  (n=87)\n",
            "    Validation: 1999-07-01 00:00:00 -- 2002-06-01 00:00:00  (n=36)\n",
            "Fold: 1\n",
            "    Training:   1992-04-01 00:00:00 -- 2002-06-01 00:00:00  (n=123)\n",
            "    Validation: 2002-07-01 00:00:00 -- 2005-06-01 00:00:00  (n=36)\n",
            "Fold: 2\n",
            "    Training:   1992-04-01 00:00:00 -- 2005-06-01 00:00:00  (n=159)\n",
            "    Validation: 2005-07-01 00:00:00 -- 2008-06-01 00:00:00  (n=36)\n",
            "\n"
          ]
        },
        {
          "output_type": "display_data",
          "data": {
            "text/plain": [
              "  0%|          | 0/3 [00:00<?, ?it/s]"
            ],
            "application/vnd.jupyter.widget-view+json": {
              "version_major": 2,
              "version_minor": 0,
              "model_id": "3eed526da5414a2aaca969a93ff301e6"
            }
          },
          "metadata": {}
        },
        {
          "output_type": "stream",
          "name": "stdout",
          "text": [
            "Error de backtest: 0.010578977232387663\n"
          ]
        }
      ]
    },
    {
      "cell_type": "code",
      "source": [
        "fig, ax = plt.subplots(figsize=(7, 2.5))\n",
        "datos.loc[predicciones_backtest.index, 'y'].plot(ax=ax, label='test')\n",
        "predicciones_backtest.plot(ax=ax, label='predicciones')\n",
        "ax.legend();"
      ],
      "metadata": {
        "colab": {
          "base_uri": "https://localhost:8080/",
          "height": 258
        },
        "id": "6dRdfter905V",
        "outputId": "08119d4e-5095-4922-8ac6-6a96617f45d7"
      },
      "execution_count": null,
      "outputs": [
        {
          "output_type": "display_data",
          "data": {
            "text/plain": [
              "<Figure size 700x250 with 1 Axes>"
            ],
            "image/png": "[encoded data removed]"
          },
          "metadata": {}
        }
      ]
    },
    {
      "cell_type": "markdown",
      "source": [
        "## **f. Importancia predictores**\n",
        "+ Dado que el objeto ***ForecasterAutoreg*** utiliza modelos _scikit-learn_, una vez entrenado, se puede acceder a la importancia de los predictores.\n",
        "+ Cuando el regresor empleado es un ***LinearRegression, Lasso o Ridge***, la importancia queda reflejada en los coeficientes del modelo.\n",
        "+ En regresores como _GradientBoostingRegressor, RandomForestRegressor o HistGradientBoostingRegressor_, la importancia de los predictores está basada en la reducción de impureza.\n",
        "\n",
        "# **🖉 Nota 5**\n",
        "\n",
        "+ _get_feature_importances()_ solo devuelve valores si el regresor utilizado dentro del forecaster tiene el atributo coef_ o feature_importances_."
      ],
      "metadata": {
        "id": "os_XS--hAtDK"
      }
    },
    {
      "cell_type": "code",
      "source": [
        "# Importancia predictores\n",
        "# ==============================================================================\n",
        "impotancia = forecaster.get_feature_importances()\n",
        "impotancia"
      ],
      "metadata": {
        "colab": {
          "base_uri": "https://localhost:8080/",
          "height": 676
        },
        "id": "6UQPxYVd9096",
        "outputId": "a94a47cf-ba06-4030-f818-c7d5ca46ca03"
      },
      "execution_count": null,
      "outputs": [
        {
          "output_type": "execute_result",
          "data": {
            "text/plain": [
              "   feature  importance\n",
              "0    lag_1    0.009412\n",
              "1    lag_2    0.087268\n",
              "2    lag_3    0.012754\n",
              "3    lag_4    0.001446\n",
              "4    lag_5    0.000401\n",
              "5    lag_6    0.001386\n",
              "6    lag_7    0.001273\n",
              "7    lag_8    0.006926\n",
              "8    lag_9    0.005839\n",
              "9   lag_10    0.013076\n",
              "10  lag_11    0.008868\n",
              "11  lag_12    0.816041\n",
              "12  lag_13    0.001266\n",
              "13  lag_14    0.019411\n",
              "14  lag_15    0.008746\n",
              "15  lag_16    0.001766\n",
              "16  lag_17    0.000578\n",
              "17  lag_18    0.000329\n",
              "18  lag_19    0.000853\n",
              "19  lag_20    0.002359"
            ],
            "text/html": [
              "\n",
              "  <div id=\"df-e3816611-f955-411f-9e15-0213f1d8a91c\" class=\"colab-df-container\">\n",
              "    <div>\n",
              "<style scoped>\n",
              "    .dataframe tbody tr th:only-of-type {\n",
              "        vertical-align: middle;\n",
              "    }\n",
              "\n",
              "    .dataframe tbody tr th {\n",
              "        vertical-align: top;\n",
              "    }\n",
              "\n",
              "    .dataframe thead th {\n",
              "        text-align: right;\n",
              "    }\n",
              "</style>\n",
              "<table border=\"1\" class=\"dataframe\">\n",
              "  <thead>\n",
              "    <tr style=\"text-align: right;\">\n",
              "      <th></th>\n",
              "      <th>feature</th>\n",
              "      <th>importance</th>\n",
              "    </tr>\n",
              "  </thead>\n",
              "  <tbody>\n",
              "    <tr>\n",
              "      <th>0</th>\n",
              "      <td>lag_1</td>\n",
              "      <td>0.009412</td>\n",
              "    </tr>\n",
              "    <tr>\n",
              "      <th>1</th>\n",
              "      <td>lag_2</td>\n",
              "      <td>0.087268</td>\n",
              "    </tr>\n",
              "    <tr>\n",
              "      <th>2</th>\n",
              "      <td>lag_3</td>\n",
              "      <td>0.012754</td>\n",
              "    </tr>\n",
              "    <tr>\n",
              "      <th>3</th>\n",
              "      <td>lag_4</td>\n",
              "      <td>0.001446</td>\n",
              "    </tr>\n",
              "    <tr>\n",
              "      <th>4</th>\n",
              "      <td>lag_5</td>\n",
              "      <td>0.000401</td>\n",
              "    </tr>\n",
              "    <tr>\n",
              "      <th>5</th>\n",
              "      <td>lag_6</td>\n",
              "      <td>0.001386</td>\n",
              "    </tr>\n",
              "    <tr>\n",
              "      <th>6</th>\n",
              "      <td>lag_7</td>\n",
              "      <td>0.001273</td>\n",
              "    </tr>\n",
              "    <tr>\n",
              "      <th>7</th>\n",
              "      <td>lag_8</td>\n",
              "      <td>0.006926</td>\n",
              "    </tr>\n",
              "    <tr>\n",
              "      <th>8</th>\n",
              "      <td>lag_9</td>\n",
              "      <td>0.005839</td>\n",
              "    </tr>\n",
              "    <tr>\n",
              "      <th>9</th>\n",
              "      <td>lag_10</td>\n",
              "      <td>0.013076</td>\n",
              "    </tr>\n",
              "    <tr>\n",
              "      <th>10</th>\n",
              "      <td>lag_11</td>\n",
              "      <td>0.008868</td>\n",
              "    </tr>\n",
              "    <tr>\n",
              "      <th>11</th>\n",
              "      <td>lag_12</td>\n",
              "      <td>0.816041</td>\n",
              "    </tr>\n",
              "    <tr>\n",
              "      <th>12</th>\n",
              "      <td>lag_13</td>\n",
              "      <td>0.001266</td>\n",
              "    </tr>\n",
              "    <tr>\n",
              "      <th>13</th>\n",
              "      <td>lag_14</td>\n",
              "      <td>0.019411</td>\n",
              "    </tr>\n",
              "    <tr>\n",
              "      <th>14</th>\n",
              "      <td>lag_15</td>\n",
              "      <td>0.008746</td>\n",
              "    </tr>\n",
              "    <tr>\n",
              "      <th>15</th>\n",
              "      <td>lag_16</td>\n",
              "      <td>0.001766</td>\n",
              "    </tr>\n",
              "    <tr>\n",
              "      <th>16</th>\n",
              "      <td>lag_17</td>\n",
              "      <td>0.000578</td>\n",
              "    </tr>\n",
              "    <tr>\n",
              "      <th>17</th>\n",
              "      <td>lag_18</td>\n",
              "      <td>0.000329</td>\n",
              "    </tr>\n",
              "    <tr>\n",
              "      <th>18</th>\n",
              "      <td>lag_19</td>\n",
              "      <td>0.000853</td>\n",
              "    </tr>\n",
              "    <tr>\n",
              "      <th>19</th>\n",
              "      <td>lag_20</td>\n",
              "      <td>0.002359</td>\n",
              "    </tr>\n",
              "  </tbody>\n",
              "</table>\n",
              "</div>\n",
              "    <div class=\"colab-df-buttons\">\n",
              "\n",
              "  <div class=\"colab-df-container\">\n",
              "    <button class=\"colab-df-convert\" onclick=\"convertToInteractive('df-e3816611-f955-411f-9e15-0213f1d8a91c')\"\n",
              "            title=\"Convert this dataframe to an interactive table.\"\n",
              "            style=\"display:none;\">\n",
              "\n",
              "  <svg xmlns=\"http://www.w3.org/2000/svg\" height=\"24px\" viewBox=\"0 -960 960 960\">\n",
              "    <path d=\"M120-120v-720h720v720H120Zm60-500h600v-160H180v160Zm220 220h160v-160H400v160Zm0 220h160v-160H400v160ZM180-400h160v-160H180v160Zm440 0h160v-160H620v160ZM180-180h160v-160H180v160Zm440 0h160v-160H620v160Z\"/>\n",
              "  </svg>\n",
              "    </button>\n",
              "\n",
              "  <style>\n",
              "    .colab-df-container {\n",
              "      display:flex;\n",
              "      gap: 12px;\n",
              "    }\n",
              "\n",
              "    .colab-df-convert {\n",
              "      background-color: #E8F0FE;\n",
              "      border: none;\n",
              "      border-radius: 50%;\n",
              "      cursor: pointer;\n",
              "      display: none;\n",
              "      fill: #1967D2;\n",
              "      height: 32px;\n",
              "      padding: 0 0 0 0;\n",
              "      width: 32px;\n",
              "    }\n",
              "\n",
              "    .colab-df-convert:hover {\n",
              "      background-color: #E2EBFA;\n",
              "      box-shadow: 0px 1px 2px rgba(60, 64, 67, 0.3), 0px 1px 3px 1px rgba(60, 64, 67, 0.15);\n",
              "      fill: #174EA6;\n",
              "    }\n",
              "\n",
              "    .colab-df-buttons div {\n",
              "      margin-bottom: 4px;\n",
              "    }\n",
              "\n",
              "    [theme=dark] .colab-df-convert {\n",
              "      background-color: #3B4455;\n",
              "      fill: #D2E3FC;\n",
              "    }\n",
              "\n",
              "    [theme=dark] .colab-df-convert:hover {\n",
              "      background-color: #434B5C;\n",
              "      box-shadow: 0px 1px 3px 1px rgba(0, 0, 0, 0.15);\n",
              "      filter: drop-shadow(0px 1px 2px rgba(0, 0, 0, 0.3));\n",
              "      fill: #FFFFFF;\n",
              "    }\n",
              "  </style>\n",
              "\n",
              "    <script>\n",
              "      const buttonEl =\n",
              "        document.querySelector('#df-e3816611-f955-411f-9e15-0213f1d8a91c button.colab-df-convert');\n",
              "      buttonEl.style.display =\n",
              "        google.colab.kernel.accessAllowed ? 'block' : 'none';\n",
              "\n",
              "      async function convertToInteractive(key) {\n",
              "        const element = document.querySelector('#df-e3816611-f955-411f-9e15-0213f1d8a91c');\n",
              "        const dataTable =\n",
              "          await google.colab.kernel.invokeFunction('convertToInteractive',\n",
              "                                                    [key], {});\n",
              "        if (!dataTable) return;\n",
              "\n",
              "        const docLinkHtml = 'Like what you see? Visit the ' +\n",
              "          '<a target=\"_blank\" href=https://colab.research.google.com/notebooks/data_table.ipynb>data table notebook</a>'\n",
              "          + ' to learn more about interactive tables.';\n",
              "        element.innerHTML = '';\n",
              "        dataTable['output_type'] = 'display_data';\n",
              "        await google.colab.output.renderOutput(dataTable, element);\n",
              "        const docLink = document.createElement('div');\n",
              "        docLink.innerHTML = docLinkHtml;\n",
              "        element.appendChild(docLink);\n",
              "      }\n",
              "    </script>\n",
              "  </div>\n",
              "\n",
              "\n",
              "<div id=\"df-4a37973b-bbd8-46b0-9bf6-ce9a905e94e0\">\n",
              "  <button class=\"colab-df-quickchart\" onclick=\"quickchart('df-4a37973b-bbd8-46b0-9bf6-ce9a905e94e0')\"\n",
              "            title=\"Suggest charts.\"\n",
              "            style=\"display:none;\">\n",
              "\n",
              "<svg xmlns=\"http://www.w3.org/2000/svg\" height=\"24px\"viewBox=\"0 0 24 24\"\n",
              "     width=\"24px\">\n",
              "    <g>\n",
              "        <path d=\"M19 3H5c-1.1 0-2 .9-2 2v14c0 1.1.9 2 2 2h14c1.1 0 2-.9 2-2V5c0-1.1-.9-2-2-2zM9 17H7v-7h2v7zm4 0h-2V7h2v10zm4 0h-2v-4h2v4z\"/>\n",
              "    </g>\n",
              "</svg>\n",
              "  </button>\n",
              "\n",
              "<style>\n",
              "  .colab-df-quickchart {\n",
              "    background-color: #E8F0FE;\n",
              "    border: none;\n",
              "    border-radius: 50%;\n",
              "    cursor: pointer;\n",
              "    display: none;\n",
              "    fill: #1967D2;\n",
              "    height: 32px;\n",
              "    padding: 0 0 0 0;\n",
              "    width: 32px;\n",
              "  }\n",
              "\n",
              "  .colab-df-quickchart:hover {\n",
              "    background-color: #E2EBFA;\n",
              "    box-shadow: 0px 1px 2px rgba(60, 64, 67, 0.3), 0px 1px 3px 1px rgba(60, 64, 67, 0.15);\n",
              "    fill: #174EA6;\n",
              "  }\n",
              "\n",
              "  [theme=dark] .colab-df-quickchart {\n",
              "    background-color: #3B4455;\n",
              "    fill: #D2E3FC;\n",
              "  }\n",
              "\n",
              "  [theme=dark] .colab-df-quickchart:hover {\n",
              "    background-color: #434B5C;\n",
              "    box-shadow: 0px 1px 3px 1px rgba(0, 0, 0, 0.15);\n",
              "    filter: drop-shadow(0px 1px 2px rgba(0, 0, 0, 0.3));\n",
              "    fill: #FFFFFF;\n",
              "  }\n",
              "</style>\n",
              "\n",
              "  <script>\n",
              "    async function quickchart(key) {\n",
              "      const charts = await google.colab.kernel.invokeFunction(\n",
              "          'suggestCharts', [key], {});\n",
              "    }\n",
              "    (() => {\n",
              "      let quickchartButtonEl =\n",
              "        document.querySelector('#df-4a37973b-bbd8-46b0-9bf6-ce9a905e94e0 button');\n",
              "      quickchartButtonEl.style.display =\n",
              "        google.colab.kernel.accessAllowed ? 'block' : 'none';\n",
              "    })();\n",
              "  </script>\n",
              "</div>\n",
              "    </div>\n",
              "  </div>\n"
            ]
          },
          "metadata": {},
          "execution_count": 35
        }
      ]
    },
    {
      "cell_type": "code",
      "source": [],
      "metadata": {
        "id": "fAQSL3_X91Bx"
      },
      "execution_count": null,
      "outputs": []
    }
  ]
}