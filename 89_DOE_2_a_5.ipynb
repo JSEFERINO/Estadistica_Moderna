{
  "nbformat": 4,
  "nbformat_minor": 0,
  "metadata": {
    "colab": {
      "provenance": [],
      "authorship_tag": "ABX9TyPpK8A7ZUjrUNpoZ7J0t43j",
      "include_colab_link": true
    },
    "kernelspec": {
      "name": "python3",
      "display_name": "Python 3"
    },
    "language_info": {
      "name": "python"
    }
  },
  "cells": [
    {
      "cell_type": "markdown",
      "metadata": {
        "id": "view-in-github",
        "colab_type": "text"
      },
      "source": [
        "<a href=\"https://colab.research.google.com/github/JSEFERINO/Estadistica_Moderna/blob/main/89_DOE_2_a_5.ipynb\" target=\"_parent\"><img src=\"https://colab.research.google.com/assets/colab-badge.svg\" alt=\"Open In Colab\"/></a>"
      ]
    },
    {
      "cell_type": "markdown",
      "source": [
        "# **Diseño de Experimentos - 2023**"
      ],
      "metadata": {
        "id": "yUHrRVmrM2ED"
      }
    },
    {
      "cell_type": "markdown",
      "source": [
        "# **Experimento 2^5 no replicado - Ejemplo, pág. 199**\n",
        "## **1. Ejemplo integrador**\n",
        "*En una planta donde se fabrican semiconductores se quiere mejorar el rendimiento del proceso vía diseño de experimentos. De acuerdo con la experiencia del grupo de mejora, los factores que podrían tener mayor influencia sobre la variable de respuesta (rendimiento), así como los niveles de prueba utilizados son los siguientes:*\n",
        "- A = Nivel de la abertura (pequeña, grande).\n",
        "- B = Tiempo de exposición (20% abajo, 20% arriba).\n",
        "- C = Tiempo de revelado (30 seg, 45 seg).\n",
        "- D = Dimensión de la máscara (pequeña, grande).\n",
        "- E = Tiempo de grabado (14.5 min, 15.5 min).\n",
        "\n",
        "*Se decide correr un experimento 25 con una sola corrida o réplica para estudiar estos cinco factores. Se hacen las 32 corridas a nivel proceso.*\n"
      ],
      "metadata": {
        "id": "ANJ0pn4lsd4c"
      }
    },
    {
      "cell_type": "markdown",
      "source": [
        "\n",
        "## **2. Librerias**"
      ],
      "metadata": {
        "id": "myc16U89NE_B"
      }
    },
    {
      "cell_type": "code",
      "source": [
        "import pandas as pd\n",
        "import numpy as np\n",
        "import matplotlib.pyplot as plt\n",
        "import seaborn as sns"
      ],
      "metadata": {
        "id": "QuyoSKq0uN_8"
      },
      "execution_count": null,
      "outputs": []
    },
    {
      "cell_type": "markdown",
      "source": [
        "## **3. Datos**"
      ],
      "metadata": {
        "id": "u8mifkALNIoi"
      }
    },
    {
      "cell_type": "code",
      "execution_count": null,
      "metadata": {
        "id": "QZbUf-4XsX3y"
      },
      "outputs": [],
      "source": [
        "A = Nivel_abertura =  [ \"A1\" ,  \"A2\" ]\n",
        "B = Tiempo_exposición  =  [ \"B1\" ,  \"B2\" ]\n",
        "C = Tiempo_revelado  =  [ \"C1\" ,  \"C2\" ]\n",
        "D = Dimensión_máscara  =  [ \"D1\" ,  \"D2\" ]\n",
        "E = Tiempo_grabado  =  [ \"E1\" ,  \"E2\" ]\n",
        "rendimiento = [7, 9, 34, 55, 16, 20, 40, 60,\n",
        "                8, 10, 32, 50, 18, 21, 44, 61,\n",
        "                18, 12, 35, 52, 15, 22, 45, 65,\n",
        "                6, 10, 30, 53, 15, 20, 41, 63]"
      ]
    },
    {
      "cell_type": "code",
      "source": [
        "Nivel_abertura =  ([\"A1\"] * 1 + [\"A2\"] * 1)*16\n",
        "\n",
        "Tiempo_exposición = ([\"B1\"] * 2 + [\"B2\"] * 2 ) * 8\n",
        "Tiempo_revelado = ([\"C1\"] * 4 + [\"C2\"] * 4)*4\n",
        "\n",
        "Dimensión_máscara = ([\"D1\"] * 8 + [\"D2\"] * 8 ) * 2\n",
        "Tiempo_grabado = [\"E1\"] * 16 + [\"E2\"] * 16"
      ],
      "metadata": {
        "id": "EcTjaA1MzBej"
      },
      "execution_count": null,
      "outputs": []
    },
    {
      "cell_type": "markdown",
      "source": [
        "## **4. Nuestro DataFrame**"
      ],
      "metadata": {
        "id": "kfkZd3giNUvi"
      }
    },
    {
      "cell_type": "code",
      "source": [
        "datos  = pd.DataFrame({'Nivel_abertura': Nivel_abertura, 'Tiempo_exposición': Tiempo_exposición, 'Tiempo_revelado': Tiempo_revelado,\n",
        "                       'Dimensión_máscara': Dimensión_máscara, 'Tiempo_grabado': Tiempo_grabado, 'rendimiento': rendimiento})"
      ],
      "metadata": {
        "id": "PfdbO-jizBoh"
      },
      "execution_count": null,
      "outputs": []
    },
    {
      "cell_type": "code",
      "source": [
        "datos"
      ],
      "metadata": {
        "colab": {
          "base_uri": "https://localhost:8080/",
          "height": 1000
        },
        "id": "Gb89KlAkzBym",
        "outputId": "400199cc-7091-48a3-a7ab-4732ca37cb69"
      },
      "execution_count": null,
      "outputs": [
        {
          "output_type": "execute_result",
          "data": {
            "text/plain": [
              "   Nivel_abertura Tiempo_exposición Tiempo_revelado Dimensión_máscara  \\\n",
              "0              A1                B1              C1                D1   \n",
              "1              A2                B1              C1                D1   \n",
              "2              A1                B2              C1                D1   \n",
              "3              A2                B2              C1                D1   \n",
              "4              A1                B1              C2                D1   \n",
              "5              A2                B1              C2                D1   \n",
              "6              A1                B2              C2                D1   \n",
              "7              A2                B2              C2                D1   \n",
              "8              A1                B1              C1                D2   \n",
              "9              A2                B1              C1                D2   \n",
              "10             A1                B2              C1                D2   \n",
              "11             A2                B2              C1                D2   \n",
              "12             A1                B1              C2                D2   \n",
              "13             A2                B1              C2                D2   \n",
              "14             A1                B2              C2                D2   \n",
              "15             A2                B2              C2                D2   \n",
              "16             A1                B1              C1                D1   \n",
              "17             A2                B1              C1                D1   \n",
              "18             A1                B2              C1                D1   \n",
              "19             A2                B2              C1                D1   \n",
              "20             A1                B1              C2                D1   \n",
              "21             A2                B1              C2                D1   \n",
              "22             A1                B2              C2                D1   \n",
              "23             A2                B2              C2                D1   \n",
              "24             A1                B1              C1                D2   \n",
              "25             A2                B1              C1                D2   \n",
              "26             A1                B2              C1                D2   \n",
              "27             A2                B2              C1                D2   \n",
              "28             A1                B1              C2                D2   \n",
              "29             A2                B1              C2                D2   \n",
              "30             A1                B2              C2                D2   \n",
              "31             A2                B2              C2                D2   \n",
              "\n",
              "   Tiempo_grabado  rendimiento  \n",
              "0              E1            7  \n",
              "1              E1            9  \n",
              "2              E1           34  \n",
              "3              E1           55  \n",
              "4              E1           16  \n",
              "5              E1           20  \n",
              "6              E1           40  \n",
              "7              E1           60  \n",
              "8              E1            8  \n",
              "9              E1           10  \n",
              "10             E1           32  \n",
              "11             E1           50  \n",
              "12             E1           18  \n",
              "13             E1           21  \n",
              "14             E1           44  \n",
              "15             E1           61  \n",
              "16             E2           18  \n",
              "17             E2           12  \n",
              "18             E2           35  \n",
              "19             E2           52  \n",
              "20             E2           15  \n",
              "21             E2           22  \n",
              "22             E2           45  \n",
              "23             E2           65  \n",
              "24             E2            6  \n",
              "25             E2           10  \n",
              "26             E2           30  \n",
              "27             E2           53  \n",
              "28             E2           15  \n",
              "29             E2           20  \n",
              "30             E2           41  \n",
              "31             E2           63  "
            ],
            "text/html": [
              "\n",
              "  <div id=\"df-1b8c7e76-5f24-4014-b0ed-10fe1fed7cc5\">\n",
              "    <div class=\"colab-df-container\">\n",
              "      <div>\n",
              "<style scoped>\n",
              "    .dataframe tbody tr th:only-of-type {\n",
              "        vertical-align: middle;\n",
              "    }\n",
              "\n",
              "    .dataframe tbody tr th {\n",
              "        vertical-align: top;\n",
              "    }\n",
              "\n",
              "    .dataframe thead th {\n",
              "        text-align: right;\n",
              "    }\n",
              "</style>\n",
              "<table border=\"1\" class=\"dataframe\">\n",
              "  <thead>\n",
              "    <tr style=\"text-align: right;\">\n",
              "      <th></th>\n",
              "      <th>Nivel_abertura</th>\n",
              "      <th>Tiempo_exposición</th>\n",
              "      <th>Tiempo_revelado</th>\n",
              "      <th>Dimensión_máscara</th>\n",
              "      <th>Tiempo_grabado</th>\n",
              "      <th>rendimiento</th>\n",
              "    </tr>\n",
              "  </thead>\n",
              "  <tbody>\n",
              "    <tr>\n",
              "      <th>0</th>\n",
              "      <td>A1</td>\n",
              "      <td>B1</td>\n",
              "      <td>C1</td>\n",
              "      <td>D1</td>\n",
              "      <td>E1</td>\n",
              "      <td>7</td>\n",
              "    </tr>\n",
              "    <tr>\n",
              "      <th>1</th>\n",
              "      <td>A2</td>\n",
              "      <td>B1</td>\n",
              "      <td>C1</td>\n",
              "      <td>D1</td>\n",
              "      <td>E1</td>\n",
              "      <td>9</td>\n",
              "    </tr>\n",
              "    <tr>\n",
              "      <th>2</th>\n",
              "      <td>A1</td>\n",
              "      <td>B2</td>\n",
              "      <td>C1</td>\n",
              "      <td>D1</td>\n",
              "      <td>E1</td>\n",
              "      <td>34</td>\n",
              "    </tr>\n",
              "    <tr>\n",
              "      <th>3</th>\n",
              "      <td>A2</td>\n",
              "      <td>B2</td>\n",
              "      <td>C1</td>\n",
              "      <td>D1</td>\n",
              "      <td>E1</td>\n",
              "      <td>55</td>\n",
              "    </tr>\n",
              "    <tr>\n",
              "      <th>4</th>\n",
              "      <td>A1</td>\n",
              "      <td>B1</td>\n",
              "      <td>C2</td>\n",
              "      <td>D1</td>\n",
              "      <td>E1</td>\n",
              "      <td>16</td>\n",
              "    </tr>\n",
              "    <tr>\n",
              "      <th>5</th>\n",
              "      <td>A2</td>\n",
              "      <td>B1</td>\n",
              "      <td>C2</td>\n",
              "      <td>D1</td>\n",
              "      <td>E1</td>\n",
              "      <td>20</td>\n",
              "    </tr>\n",
              "    <tr>\n",
              "      <th>6</th>\n",
              "      <td>A1</td>\n",
              "      <td>B2</td>\n",
              "      <td>C2</td>\n",
              "      <td>D1</td>\n",
              "      <td>E1</td>\n",
              "      <td>40</td>\n",
              "    </tr>\n",
              "    <tr>\n",
              "      <th>7</th>\n",
              "      <td>A2</td>\n",
              "      <td>B2</td>\n",
              "      <td>C2</td>\n",
              "      <td>D1</td>\n",
              "      <td>E1</td>\n",
              "      <td>60</td>\n",
              "    </tr>\n",
              "    <tr>\n",
              "      <th>8</th>\n",
              "      <td>A1</td>\n",
              "      <td>B1</td>\n",
              "      <td>C1</td>\n",
              "      <td>D2</td>\n",
              "      <td>E1</td>\n",
              "      <td>8</td>\n",
              "    </tr>\n",
              "    <tr>\n",
              "      <th>9</th>\n",
              "      <td>A2</td>\n",
              "      <td>B1</td>\n",
              "      <td>C1</td>\n",
              "      <td>D2</td>\n",
              "      <td>E1</td>\n",
              "      <td>10</td>\n",
              "    </tr>\n",
              "    <tr>\n",
              "      <th>10</th>\n",
              "      <td>A1</td>\n",
              "      <td>B2</td>\n",
              "      <td>C1</td>\n",
              "      <td>D2</td>\n",
              "      <td>E1</td>\n",
              "      <td>32</td>\n",
              "    </tr>\n",
              "    <tr>\n",
              "      <th>11</th>\n",
              "      <td>A2</td>\n",
              "      <td>B2</td>\n",
              "      <td>C1</td>\n",
              "      <td>D2</td>\n",
              "      <td>E1</td>\n",
              "      <td>50</td>\n",
              "    </tr>\n",
              "    <tr>\n",
              "      <th>12</th>\n",
              "      <td>A1</td>\n",
              "      <td>B1</td>\n",
              "      <td>C2</td>\n",
              "      <td>D2</td>\n",
              "      <td>E1</td>\n",
              "      <td>18</td>\n",
              "    </tr>\n",
              "    <tr>\n",
              "      <th>13</th>\n",
              "      <td>A2</td>\n",
              "      <td>B1</td>\n",
              "      <td>C2</td>\n",
              "      <td>D2</td>\n",
              "      <td>E1</td>\n",
              "      <td>21</td>\n",
              "    </tr>\n",
              "    <tr>\n",
              "      <th>14</th>\n",
              "      <td>A1</td>\n",
              "      <td>B2</td>\n",
              "      <td>C2</td>\n",
              "      <td>D2</td>\n",
              "      <td>E1</td>\n",
              "      <td>44</td>\n",
              "    </tr>\n",
              "    <tr>\n",
              "      <th>15</th>\n",
              "      <td>A2</td>\n",
              "      <td>B2</td>\n",
              "      <td>C2</td>\n",
              "      <td>D2</td>\n",
              "      <td>E1</td>\n",
              "      <td>61</td>\n",
              "    </tr>\n",
              "    <tr>\n",
              "      <th>16</th>\n",
              "      <td>A1</td>\n",
              "      <td>B1</td>\n",
              "      <td>C1</td>\n",
              "      <td>D1</td>\n",
              "      <td>E2</td>\n",
              "      <td>18</td>\n",
              "    </tr>\n",
              "    <tr>\n",
              "      <th>17</th>\n",
              "      <td>A2</td>\n",
              "      <td>B1</td>\n",
              "      <td>C1</td>\n",
              "      <td>D1</td>\n",
              "      <td>E2</td>\n",
              "      <td>12</td>\n",
              "    </tr>\n",
              "    <tr>\n",
              "      <th>18</th>\n",
              "      <td>A1</td>\n",
              "      <td>B2</td>\n",
              "      <td>C1</td>\n",
              "      <td>D1</td>\n",
              "      <td>E2</td>\n",
              "      <td>35</td>\n",
              "    </tr>\n",
              "    <tr>\n",
              "      <th>19</th>\n",
              "      <td>A2</td>\n",
              "      <td>B2</td>\n",
              "      <td>C1</td>\n",
              "      <td>D1</td>\n",
              "      <td>E2</td>\n",
              "      <td>52</td>\n",
              "    </tr>\n",
              "    <tr>\n",
              "      <th>20</th>\n",
              "      <td>A1</td>\n",
              "      <td>B1</td>\n",
              "      <td>C2</td>\n",
              "      <td>D1</td>\n",
              "      <td>E2</td>\n",
              "      <td>15</td>\n",
              "    </tr>\n",
              "    <tr>\n",
              "      <th>21</th>\n",
              "      <td>A2</td>\n",
              "      <td>B1</td>\n",
              "      <td>C2</td>\n",
              "      <td>D1</td>\n",
              "      <td>E2</td>\n",
              "      <td>22</td>\n",
              "    </tr>\n",
              "    <tr>\n",
              "      <th>22</th>\n",
              "      <td>A1</td>\n",
              "      <td>B2</td>\n",
              "      <td>C2</td>\n",
              "      <td>D1</td>\n",
              "      <td>E2</td>\n",
              "      <td>45</td>\n",
              "    </tr>\n",
              "    <tr>\n",
              "      <th>23</th>\n",
              "      <td>A2</td>\n",
              "      <td>B2</td>\n",
              "      <td>C2</td>\n",
              "      <td>D1</td>\n",
              "      <td>E2</td>\n",
              "      <td>65</td>\n",
              "    </tr>\n",
              "    <tr>\n",
              "      <th>24</th>\n",
              "      <td>A1</td>\n",
              "      <td>B1</td>\n",
              "      <td>C1</td>\n",
              "      <td>D2</td>\n",
              "      <td>E2</td>\n",
              "      <td>6</td>\n",
              "    </tr>\n",
              "    <tr>\n",
              "      <th>25</th>\n",
              "      <td>A2</td>\n",
              "      <td>B1</td>\n",
              "      <td>C1</td>\n",
              "      <td>D2</td>\n",
              "      <td>E2</td>\n",
              "      <td>10</td>\n",
              "    </tr>\n",
              "    <tr>\n",
              "      <th>26</th>\n",
              "      <td>A1</td>\n",
              "      <td>B2</td>\n",
              "      <td>C1</td>\n",
              "      <td>D2</td>\n",
              "      <td>E2</td>\n",
              "      <td>30</td>\n",
              "    </tr>\n",
              "    <tr>\n",
              "      <th>27</th>\n",
              "      <td>A2</td>\n",
              "      <td>B2</td>\n",
              "      <td>C1</td>\n",
              "      <td>D2</td>\n",
              "      <td>E2</td>\n",
              "      <td>53</td>\n",
              "    </tr>\n",
              "    <tr>\n",
              "      <th>28</th>\n",
              "      <td>A1</td>\n",
              "      <td>B1</td>\n",
              "      <td>C2</td>\n",
              "      <td>D2</td>\n",
              "      <td>E2</td>\n",
              "      <td>15</td>\n",
              "    </tr>\n",
              "    <tr>\n",
              "      <th>29</th>\n",
              "      <td>A2</td>\n",
              "      <td>B1</td>\n",
              "      <td>C2</td>\n",
              "      <td>D2</td>\n",
              "      <td>E2</td>\n",
              "      <td>20</td>\n",
              "    </tr>\n",
              "    <tr>\n",
              "      <th>30</th>\n",
              "      <td>A1</td>\n",
              "      <td>B2</td>\n",
              "      <td>C2</td>\n",
              "      <td>D2</td>\n",
              "      <td>E2</td>\n",
              "      <td>41</td>\n",
              "    </tr>\n",
              "    <tr>\n",
              "      <th>31</th>\n",
              "      <td>A2</td>\n",
              "      <td>B2</td>\n",
              "      <td>C2</td>\n",
              "      <td>D2</td>\n",
              "      <td>E2</td>\n",
              "      <td>63</td>\n",
              "    </tr>\n",
              "  </tbody>\n",
              "</table>\n",
              "</div>\n",
              "      <button class=\"colab-df-convert\" onclick=\"convertToInteractive('df-1b8c7e76-5f24-4014-b0ed-10fe1fed7cc5')\"\n",
              "              title=\"Convert this dataframe to an interactive table.\"\n",
              "              style=\"display:none;\">\n",
              "        \n",
              "  <svg xmlns=\"http://www.w3.org/2000/svg\" height=\"24px\"viewBox=\"0 0 24 24\"\n",
              "       width=\"24px\">\n",
              "    <path d=\"M0 0h24v24H0V0z\" fill=\"none\"/>\n",
              "    <path d=\"M18.56 5.44l.94 2.06.94-2.06 2.06-.94-2.06-.94-.94-2.06-.94 2.06-2.06.94zm-11 1L8.5 8.5l.94-2.06 2.06-.94-2.06-.94L8.5 2.5l-.94 2.06-2.06.94zm10 10l.94 2.06.94-2.06 2.06-.94-2.06-.94-.94-2.06-.94 2.06-2.06.94z\"/><path d=\"M17.41 7.96l-1.37-1.37c-.4-.4-.92-.59-1.43-.59-.52 0-1.04.2-1.43.59L10.3 9.45l-7.72 7.72c-.78.78-.78 2.05 0 2.83L4 21.41c.39.39.9.59 1.41.59.51 0 1.02-.2 1.41-.59l7.78-7.78 2.81-2.81c.8-.78.8-2.07 0-2.86zM5.41 20L4 18.59l7.72-7.72 1.47 1.35L5.41 20z\"/>\n",
              "  </svg>\n",
              "      </button>\n",
              "      \n",
              "  <style>\n",
              "    .colab-df-container {\n",
              "      display:flex;\n",
              "      flex-wrap:wrap;\n",
              "      gap: 12px;\n",
              "    }\n",
              "\n",
              "    .colab-df-convert {\n",
              "      background-color: #E8F0FE;\n",
              "      border: none;\n",
              "      border-radius: 50%;\n",
              "      cursor: pointer;\n",
              "      display: none;\n",
              "      fill: #1967D2;\n",
              "      height: 32px;\n",
              "      padding: 0 0 0 0;\n",
              "      width: 32px;\n",
              "    }\n",
              "\n",
              "    .colab-df-convert:hover {\n",
              "      background-color: #E2EBFA;\n",
              "      box-shadow: 0px 1px 2px rgba(60, 64, 67, 0.3), 0px 1px 3px 1px rgba(60, 64, 67, 0.15);\n",
              "      fill: #174EA6;\n",
              "    }\n",
              "\n",
              "    [theme=dark] .colab-df-convert {\n",
              "      background-color: #3B4455;\n",
              "      fill: #D2E3FC;\n",
              "    }\n",
              "\n",
              "    [theme=dark] .colab-df-convert:hover {\n",
              "      background-color: #434B5C;\n",
              "      box-shadow: 0px 1px 3px 1px rgba(0, 0, 0, 0.15);\n",
              "      filter: drop-shadow(0px 1px 2px rgba(0, 0, 0, 0.3));\n",
              "      fill: #FFFFFF;\n",
              "    }\n",
              "  </style>\n",
              "\n",
              "      <script>\n",
              "        const buttonEl =\n",
              "          document.querySelector('#df-1b8c7e76-5f24-4014-b0ed-10fe1fed7cc5 button.colab-df-convert');\n",
              "        buttonEl.style.display =\n",
              "          google.colab.kernel.accessAllowed ? 'block' : 'none';\n",
              "\n",
              "        async function convertToInteractive(key) {\n",
              "          const element = document.querySelector('#df-1b8c7e76-5f24-4014-b0ed-10fe1fed7cc5');\n",
              "          const dataTable =\n",
              "            await google.colab.kernel.invokeFunction('convertToInteractive',\n",
              "                                                     [key], {});\n",
              "          if (!dataTable) return;\n",
              "\n",
              "          const docLinkHtml = 'Like what you see? Visit the ' +\n",
              "            '<a target=\"_blank\" href=https://colab.research.google.com/notebooks/data_table.ipynb>data table notebook</a>'\n",
              "            + ' to learn more about interactive tables.';\n",
              "          element.innerHTML = '';\n",
              "          dataTable['output_type'] = 'display_data';\n",
              "          await google.colab.output.renderOutput(dataTable, element);\n",
              "          const docLink = document.createElement('div');\n",
              "          docLink.innerHTML = docLinkHtml;\n",
              "          element.appendChild(docLink);\n",
              "        }\n",
              "      </script>\n",
              "    </div>\n",
              "  </div>\n",
              "  "
            ]
          },
          "metadata": {},
          "execution_count": 5
        }
      ]
    },
    {
      "cell_type": "markdown",
      "source": [
        "# **5. Box_PLot**"
      ],
      "metadata": {
        "id": "tkxm6IyoOnAa"
      }
    },
    {
      "cell_type": "code",
      "source": [
        "fig, axs = plt.subplots(1, 5, figsize=(15, 8))\n",
        "axs[0].set_title('rendimiento vs Nivel_abertura')\n",
        "sns.boxplot(x=\"Nivel_abertura\", y=\"rendimiento\", data=datos, ax=axs[0])\n",
        "sns.swarmplot(x=\"Nivel_abertura\", y=\"rendimiento\", data=datos, color='black',\n",
        "              alpha = 0.5, ax=axs[0])\n",
        "\n",
        "axs[1].set_title('rendimiento vs Tiempo_exposición')\n",
        "sns.boxplot(x=\"Tiempo_exposición\", y=\"rendimiento\", data=datos, ax=axs[1])\n",
        "sns.swarmplot(x=\"Tiempo_exposición\", y=\"rendimiento\", data=datos, color='black',\n",
        "              alpha = 0.5, ax=axs[1])\n",
        "axs[2].set_title('rendimiento vs Tiempo_revelado')\n",
        "sns.boxplot(x=\"Tiempo_revelado\", y=\"rendimiento\", data=datos, ax=axs[2])\n",
        "sns.swarmplot(x=\"Tiempo_revelado\", y=\"rendimiento\", data=datos, color='black',\n",
        "              alpha = 0.5, ax=axs[2])\n",
        "\n",
        "axs[3].set_title('rendimiento vs Tiempo_exposición')\n",
        "sns.boxplot(x=\"Dimensión_máscara\", y=\"rendimiento\", data=datos, ax=axs[3])\n",
        "sns.swarmplot(x=\"Dimensión_máscara\", y=\"rendimiento\", data=datos, color='black',\n",
        "              alpha = 0.5, ax=axs[3])\n",
        "axs[4].set_title('rendimiento vs Tiempo_exposición')\n",
        "sns.boxplot(x=\"Tiempo_grabado\", y=\"rendimiento\", data=datos, ax=axs[4])\n",
        "sns.swarmplot(x=\"Tiempo_grabado\", y=\"rendimiento\", data=datos, color='black',\n",
        "              alpha = 0.5, ax=axs[4]);"
      ],
      "metadata": {
        "colab": {
          "base_uri": "https://localhost:8080/",
          "height": 514
        },
        "id": "yD3_o0rt2Ip1",
        "outputId": "3b67f3cf-b04c-426e-e7fe-8234ef0ea33b"
      },
      "execution_count": null,
      "outputs": [
        {
          "output_type": "display_data",
          "data": {
            "text/plain": [
              "<Figure size 1080x576 with 5 Axes>"
            ],
            "image/png": "[encoded data removed]"
          },
          "metadata": {
            "needs_background": "light"
          }
        }
      ]
    },
    {
      "cell_type": "code",
      "source": [
        "fig, ax = plt.subplots(1, 1, figsize=(10, 10))\n",
        "ax.set_title('rendimiento vs A y B')\n",
        "sns.boxplot(x=\"Nivel_abertura\", y=\"rendimiento\", hue='Tiempo_exposición', data=datos,\n",
        "             ax=ax);"
      ],
      "metadata": {
        "colab": {
          "base_uri": "https://localhost:8080/",
          "height": 622
        },
        "id": "LhfPakSg2I2L",
        "outputId": "a766df96-f803-4fbb-bba2-c6557a8d6466"
      },
      "execution_count": null,
      "outputs": [
        {
          "output_type": "display_data",
          "data": {
            "text/plain": [
              "<Figure size 720x720 with 1 Axes>"
            ],
            "image/png": "[encoded data removed]"
          },
          "metadata": {
            "needs_background": "light"
          }
        }
      ]
    },
    {
      "cell_type": "code",
      "source": [
        "fig, ax = plt.subplots(1, 1, figsize=(10, 10))\n",
        "ax.set_title('rendimiento vs A y C')\n",
        "sns.boxplot(x=\"Nivel_abertura\", y=\"rendimiento\", hue='Tiempo_revelado',data=datos,               ax=ax)"
      ],
      "metadata": {
        "colab": {
          "base_uri": "https://localhost:8080/",
          "height": 639
        },
        "id": "LV2C1V6l9yd7",
        "outputId": "e8702cee-ea0d-479e-f34e-b0e3d2c44b53"
      },
      "execution_count": null,
      "outputs": [
        {
          "output_type": "execute_result",
          "data": {
            "text/plain": [
              "<matplotlib.axes._subplots.AxesSubplot at 0x7fa3da17fa90>"
            ]
          },
          "metadata": {},
          "execution_count": 8
        },
        {
          "output_type": "display_data",
          "data": {
            "text/plain": [
              "<Figure size 720x720 with 1 Axes>"
            ],
            "image/png": "[encoded data removed]"
          },
          "metadata": {
            "needs_background": "light"
          }
        }
      ]
    },
    {
      "cell_type": "markdown",
      "source": [
        "# **6. Los datos por grupos**"
      ],
      "metadata": {
        "id": "WLq9YPggOuuB"
      }
    },
    {
      "cell_type": "code",
      "source": [
        "print('rendimiento media y desviación típica para Molde y Catalizador')\n",
        "datos.groupby(['Nivel_abertura', 'Tiempo_exposición', 'Tiempo_revelado',\n",
        "                       'Dimensión_máscara', 'Tiempo_grabado'])['rendimiento'].agg(['mean', 'std'])"
      ],
      "metadata": {
        "colab": {
          "base_uri": "https://localhost:8080/",
          "height": 1000
        },
        "id": "aIb9mrbB-KKd",
        "outputId": "32d86505-9ed3-4cdd-9aa7-f43e312ac29e"
      },
      "execution_count": null,
      "outputs": [
        {
          "output_type": "stream",
          "name": "stdout",
          "text": [
            "rendimiento media y desviación típica para Molde y Catalizador\n"
          ]
        },
        {
          "output_type": "execute_result",
          "data": {
            "text/plain": [
              "                                                                                   mean  \\\n",
              "Nivel_abertura Tiempo_exposición Tiempo_revelado Dimensión_máscara Tiempo_grabado         \n",
              "A1             B1                C1              D1                E1               7.0   \n",
              "                                                                   E2              18.0   \n",
              "                                                 D2                E1               8.0   \n",
              "                                                                   E2               6.0   \n",
              "                                 C2              D1                E1              16.0   \n",
              "                                                                   E2              15.0   \n",
              "                                                 D2                E1              18.0   \n",
              "                                                                   E2              15.0   \n",
              "               B2                C1              D1                E1              34.0   \n",
              "                                                                   E2              35.0   \n",
              "                                                 D2                E1              32.0   \n",
              "                                                                   E2              30.0   \n",
              "                                 C2              D1                E1              40.0   \n",
              "                                                                   E2              45.0   \n",
              "                                                 D2                E1              44.0   \n",
              "                                                                   E2              41.0   \n",
              "A2             B1                C1              D1                E1               9.0   \n",
              "                                                                   E2              12.0   \n",
              "                                                 D2                E1              10.0   \n",
              "                                                                   E2              10.0   \n",
              "                                 C2              D1                E1              20.0   \n",
              "                                                                   E2              22.0   \n",
              "                                                 D2                E1              21.0   \n",
              "                                                                   E2              20.0   \n",
              "               B2                C1              D1                E1              55.0   \n",
              "                                                                   E2              52.0   \n",
              "                                                 D2                E1              50.0   \n",
              "                                                                   E2              53.0   \n",
              "                                 C2              D1                E1              60.0   \n",
              "                                                                   E2              65.0   \n",
              "                                                 D2                E1              61.0   \n",
              "                                                                   E2              63.0   \n",
              "\n",
              "                                                                                   std  \n",
              "Nivel_abertura Tiempo_exposición Tiempo_revelado Dimensión_máscara Tiempo_grabado       \n",
              "A1             B1                C1              D1                E1              NaN  \n",
              "                                                                   E2              NaN  \n",
              "                                                 D2                E1              NaN  \n",
              "                                                                   E2              NaN  \n",
              "                                 C2              D1                E1              NaN  \n",
              "                                                                   E2              NaN  \n",
              "                                                 D2                E1              NaN  \n",
              "                                                                   E2              NaN  \n",
              "               B2                C1              D1                E1              NaN  \n",
              "                                                                   E2              NaN  \n",
              "                                                 D2                E1              NaN  \n",
              "                                                                   E2              NaN  \n",
              "                                 C2              D1                E1              NaN  \n",
              "                                                                   E2              NaN  \n",
              "                                                 D2                E1              NaN  \n",
              "                                                                   E2              NaN  \n",
              "A2             B1                C1              D1                E1              NaN  \n",
              "                                                                   E2              NaN  \n",
              "                                                 D2                E1              NaN  \n",
              "                                                                   E2              NaN  \n",
              "                                 C2              D1                E1              NaN  \n",
              "                                                                   E2              NaN  \n",
              "                                                 D2                E1              NaN  \n",
              "                                                                   E2              NaN  \n",
              "               B2                C1              D1                E1              NaN  \n",
              "                                                                   E2              NaN  \n",
              "                                                 D2                E1              NaN  \n",
              "                                                                   E2              NaN  \n",
              "                                 C2              D1                E1              NaN  \n",
              "                                                                   E2              NaN  \n",
              "                                                 D2                E1              NaN  \n",
              "                                                                   E2              NaN  "
            ],
            "text/html": [
              "\n",
              "  <div id=\"df-9f42ed0f-4a67-4230-bb29-c6d8db5bc239\">\n",
              "    <div class=\"colab-df-container\">\n",
              "      <div>\n",
              "<style scoped>\n",
              "    .dataframe tbody tr th:only-of-type {\n",
              "        vertical-align: middle;\n",
              "    }\n",
              "\n",
              "    .dataframe tbody tr th {\n",
              "        vertical-align: top;\n",
              "    }\n",
              "\n",
              "    .dataframe thead th {\n",
              "        text-align: right;\n",
              "    }\n",
              "</style>\n",
              "<table border=\"1\" class=\"dataframe\">\n",
              "  <thead>\n",
              "    <tr style=\"text-align: right;\">\n",
              "      <th></th>\n",
              "      <th></th>\n",
              "      <th></th>\n",
              "      <th></th>\n",
              "      <th></th>\n",
              "      <th>mean</th>\n",
              "      <th>std</th>\n",
              "    </tr>\n",
              "    <tr>\n",
              "      <th>Nivel_abertura</th>\n",
              "      <th>Tiempo_exposición</th>\n",
              "      <th>Tiempo_revelado</th>\n",
              "      <th>Dimensión_máscara</th>\n",
              "      <th>Tiempo_grabado</th>\n",
              "      <th></th>\n",
              "      <th></th>\n",
              "    </tr>\n",
              "  </thead>\n",
              "  <tbody>\n",
              "    <tr>\n",
              "      <th rowspan=\"16\" valign=\"top\">A1</th>\n",
              "      <th rowspan=\"8\" valign=\"top\">B1</th>\n",
              "      <th rowspan=\"4\" valign=\"top\">C1</th>\n",
              "      <th rowspan=\"2\" valign=\"top\">D1</th>\n",
              "      <th>E1</th>\n",
              "      <td>7.0</td>\n",
              "      <td>NaN</td>\n",
              "    </tr>\n",
              "    <tr>\n",
              "      <th>E2</th>\n",
              "      <td>18.0</td>\n",
              "      <td>NaN</td>\n",
              "    </tr>\n",
              "    <tr>\n",
              "      <th rowspan=\"2\" valign=\"top\">D2</th>\n",
              "      <th>E1</th>\n",
              "      <td>8.0</td>\n",
              "      <td>NaN</td>\n",
              "    </tr>\n",
              "    <tr>\n",
              "      <th>E2</th>\n",
              "      <td>6.0</td>\n",
              "      <td>NaN</td>\n",
              "    </tr>\n",
              "    <tr>\n",
              "      <th rowspan=\"4\" valign=\"top\">C2</th>\n",
              "      <th rowspan=\"2\" valign=\"top\">D1</th>\n",
              "      <th>E1</th>\n",
              "      <td>16.0</td>\n",
              "      <td>NaN</td>\n",
              "    </tr>\n",
              "    <tr>\n",
              "      <th>E2</th>\n",
              "      <td>15.0</td>\n",
              "      <td>NaN</td>\n",
              "    </tr>\n",
              "    <tr>\n",
              "      <th rowspan=\"2\" valign=\"top\">D2</th>\n",
              "      <th>E1</th>\n",
              "      <td>18.0</td>\n",
              "      <td>NaN</td>\n",
              "    </tr>\n",
              "    <tr>\n",
              "      <th>E2</th>\n",
              "      <td>15.0</td>\n",
              "      <td>NaN</td>\n",
              "    </tr>\n",
              "    <tr>\n",
              "      <th rowspan=\"8\" valign=\"top\">B2</th>\n",
              "      <th rowspan=\"4\" valign=\"top\">C1</th>\n",
              "      <th rowspan=\"2\" valign=\"top\">D1</th>\n",
              "      <th>E1</th>\n",
              "      <td>34.0</td>\n",
              "      <td>NaN</td>\n",
              "    </tr>\n",
              "    <tr>\n",
              "      <th>E2</th>\n",
              "      <td>35.0</td>\n",
              "      <td>NaN</td>\n",
              "    </tr>\n",
              "    <tr>\n",
              "      <th rowspan=\"2\" valign=\"top\">D2</th>\n",
              "      <th>E1</th>\n",
              "      <td>32.0</td>\n",
              "      <td>NaN</td>\n",
              "    </tr>\n",
              "    <tr>\n",
              "      <th>E2</th>\n",
              "      <td>30.0</td>\n",
              "      <td>NaN</td>\n",
              "    </tr>\n",
              "    <tr>\n",
              "      <th rowspan=\"4\" valign=\"top\">C2</th>\n",
              "      <th rowspan=\"2\" valign=\"top\">D1</th>\n",
              "      <th>E1</th>\n",
              "      <td>40.0</td>\n",
              "      <td>NaN</td>\n",
              "    </tr>\n",
              "    <tr>\n",
              "      <th>E2</th>\n",
              "      <td>45.0</td>\n",
              "      <td>NaN</td>\n",
              "    </tr>\n",
              "    <tr>\n",
              "      <th rowspan=\"2\" valign=\"top\">D2</th>\n",
              "      <th>E1</th>\n",
              "      <td>44.0</td>\n",
              "      <td>NaN</td>\n",
              "    </tr>\n",
              "    <tr>\n",
              "      <th>E2</th>\n",
              "      <td>41.0</td>\n",
              "      <td>NaN</td>\n",
              "    </tr>\n",
              "    <tr>\n",
              "      <th rowspan=\"16\" valign=\"top\">A2</th>\n",
              "      <th rowspan=\"8\" valign=\"top\">B1</th>\n",
              "      <th rowspan=\"4\" valign=\"top\">C1</th>\n",
              "      <th rowspan=\"2\" valign=\"top\">D1</th>\n",
              "      <th>E1</th>\n",
              "      <td>9.0</td>\n",
              "      <td>NaN</td>\n",
              "    </tr>\n",
              "    <tr>\n",
              "      <th>E2</th>\n",
              "      <td>12.0</td>\n",
              "      <td>NaN</td>\n",
              "    </tr>\n",
              "    <tr>\n",
              "      <th rowspan=\"2\" valign=\"top\">D2</th>\n",
              "      <th>E1</th>\n",
              "      <td>10.0</td>\n",
              "      <td>NaN</td>\n",
              "    </tr>\n",
              "    <tr>\n",
              "      <th>E2</th>\n",
              "      <td>10.0</td>\n",
              "      <td>NaN</td>\n",
              "    </tr>\n",
              "    <tr>\n",
              "      <th rowspan=\"4\" valign=\"top\">C2</th>\n",
              "      <th rowspan=\"2\" valign=\"top\">D1</th>\n",
              "      <th>E1</th>\n",
              "      <td>20.0</td>\n",
              "      <td>NaN</td>\n",
              "    </tr>\n",
              "    <tr>\n",
              "      <th>E2</th>\n",
              "      <td>22.0</td>\n",
              "      <td>NaN</td>\n",
              "    </tr>\n",
              "    <tr>\n",
              "      <th rowspan=\"2\" valign=\"top\">D2</th>\n",
              "      <th>E1</th>\n",
              "      <td>21.0</td>\n",
              "      <td>NaN</td>\n",
              "    </tr>\n",
              "    <tr>\n",
              "      <th>E2</th>\n",
              "      <td>20.0</td>\n",
              "      <td>NaN</td>\n",
              "    </tr>\n",
              "    <tr>\n",
              "      <th rowspan=\"8\" valign=\"top\">B2</th>\n",
              "      <th rowspan=\"4\" valign=\"top\">C1</th>\n",
              "      <th rowspan=\"2\" valign=\"top\">D1</th>\n",
              "      <th>E1</th>\n",
              "      <td>55.0</td>\n",
              "      <td>NaN</td>\n",
              "    </tr>\n",
              "    <tr>\n",
              "      <th>E2</th>\n",
              "      <td>52.0</td>\n",
              "      <td>NaN</td>\n",
              "    </tr>\n",
              "    <tr>\n",
              "      <th rowspan=\"2\" valign=\"top\">D2</th>\n",
              "      <th>E1</th>\n",
              "      <td>50.0</td>\n",
              "      <td>NaN</td>\n",
              "    </tr>\n",
              "    <tr>\n",
              "      <th>E2</th>\n",
              "      <td>53.0</td>\n",
              "      <td>NaN</td>\n",
              "    </tr>\n",
              "    <tr>\n",
              "      <th rowspan=\"4\" valign=\"top\">C2</th>\n",
              "      <th rowspan=\"2\" valign=\"top\">D1</th>\n",
              "      <th>E1</th>\n",
              "      <td>60.0</td>\n",
              "      <td>NaN</td>\n",
              "    </tr>\n",
              "    <tr>\n",
              "      <th>E2</th>\n",
              "      <td>65.0</td>\n",
              "      <td>NaN</td>\n",
              "    </tr>\n",
              "    <tr>\n",
              "      <th rowspan=\"2\" valign=\"top\">D2</th>\n",
              "      <th>E1</th>\n",
              "      <td>61.0</td>\n",
              "      <td>NaN</td>\n",
              "    </tr>\n",
              "    <tr>\n",
              "      <th>E2</th>\n",
              "      <td>63.0</td>\n",
              "      <td>NaN</td>\n",
              "    </tr>\n",
              "  </tbody>\n",
              "</table>\n",
              "</div>\n",
              "      <button class=\"colab-df-convert\" onclick=\"convertToInteractive('df-9f42ed0f-4a67-4230-bb29-c6d8db5bc239')\"\n",
              "              title=\"Convert this dataframe to an interactive table.\"\n",
              "              style=\"display:none;\">\n",
              "        \n",
              "  <svg xmlns=\"http://www.w3.org/2000/svg\" height=\"24px\"viewBox=\"0 0 24 24\"\n",
              "       width=\"24px\">\n",
              "    <path d=\"M0 0h24v24H0V0z\" fill=\"none\"/>\n",
              "    <path d=\"M18.56 5.44l.94 2.06.94-2.06 2.06-.94-2.06-.94-.94-2.06-.94 2.06-2.06.94zm-11 1L8.5 8.5l.94-2.06 2.06-.94-2.06-.94L8.5 2.5l-.94 2.06-2.06.94zm10 10l.94 2.06.94-2.06 2.06-.94-2.06-.94-.94-2.06-.94 2.06-2.06.94z\"/><path d=\"M17.41 7.96l-1.37-1.37c-.4-.4-.92-.59-1.43-.59-.52 0-1.04.2-1.43.59L10.3 9.45l-7.72 7.72c-.78.78-.78 2.05 0 2.83L4 21.41c.39.39.9.59 1.41.59.51 0 1.02-.2 1.41-.59l7.78-7.78 2.81-2.81c.8-.78.8-2.07 0-2.86zM5.41 20L4 18.59l7.72-7.72 1.47 1.35L5.41 20z\"/>\n",
              "  </svg>\n",
              "      </button>\n",
              "      \n",
              "  <style>\n",
              "    .colab-df-container {\n",
              "      display:flex;\n",
              "      flex-wrap:wrap;\n",
              "      gap: 12px;\n",
              "    }\n",
              "\n",
              "    .colab-df-convert {\n",
              "      background-color: #E8F0FE;\n",
              "      border: none;\n",
              "      border-radius: 50%;\n",
              "      cursor: pointer;\n",
              "      display: none;\n",
              "      fill: #1967D2;\n",
              "      height: 32px;\n",
              "      padding: 0 0 0 0;\n",
              "      width: 32px;\n",
              "    }\n",
              "\n",
              "    .colab-df-convert:hover {\n",
              "      background-color: #E2EBFA;\n",
              "      box-shadow: 0px 1px 2px rgba(60, 64, 67, 0.3), 0px 1px 3px 1px rgba(60, 64, 67, 0.15);\n",
              "      fill: #174EA6;\n",
              "    }\n",
              "\n",
              "    [theme=dark] .colab-df-convert {\n",
              "      background-color: #3B4455;\n",
              "      fill: #D2E3FC;\n",
              "    }\n",
              "\n",
              "    [theme=dark] .colab-df-convert:hover {\n",
              "      background-color: #434B5C;\n",
              "      box-shadow: 0px 1px 3px 1px rgba(0, 0, 0, 0.15);\n",
              "      filter: drop-shadow(0px 1px 2px rgba(0, 0, 0, 0.3));\n",
              "      fill: #FFFFFF;\n",
              "    }\n",
              "  </style>\n",
              "\n",
              "      <script>\n",
              "        const buttonEl =\n",
              "          document.querySelector('#df-9f42ed0f-4a67-4230-bb29-c6d8db5bc239 button.colab-df-convert');\n",
              "        buttonEl.style.display =\n",
              "          google.colab.kernel.accessAllowed ? 'block' : 'none';\n",
              "\n",
              "        async function convertToInteractive(key) {\n",
              "          const element = document.querySelector('#df-9f42ed0f-4a67-4230-bb29-c6d8db5bc239');\n",
              "          const dataTable =\n",
              "            await google.colab.kernel.invokeFunction('convertToInteractive',\n",
              "                                                     [key], {});\n",
              "          if (!dataTable) return;\n",
              "\n",
              "          const docLinkHtml = 'Like what you see? Visit the ' +\n",
              "            '<a target=\"_blank\" href=https://colab.research.google.com/notebooks/data_table.ipynb>data table notebook</a>'\n",
              "            + ' to learn more about interactive tables.';\n",
              "          element.innerHTML = '';\n",
              "          dataTable['output_type'] = 'display_data';\n",
              "          await google.colab.output.renderOutput(dataTable, element);\n",
              "          const docLink = document.createElement('div');\n",
              "          docLink.innerHTML = docLinkHtml;\n",
              "          element.appendChild(docLink);\n",
              "        }\n",
              "      </script>\n",
              "    </div>\n",
              "  </div>\n",
              "  "
            ]
          },
          "metadata": {},
          "execution_count": 9
        }
      ]
    },
    {
      "cell_type": "markdown",
      "source": [
        "# **7. Graficos de interacción**"
      ],
      "metadata": {
        "id": "U89dPSb3O19Z"
      }
    },
    {
      "cell_type": "code",
      "source": [
        "from statsmodels.graphics.factorplots import interaction_plot"
      ],
      "metadata": {
        "id": "BFtpHuJGIYk9"
      },
      "execution_count": null,
      "outputs": []
    },
    {
      "cell_type": "code",
      "source": [
        "fig, ax = plt.subplots(figsize=(6, 4))\n",
        "fig = interaction_plot(\n",
        "    x        = datos.Tiempo_exposición,\n",
        "    trace    = datos.Dimensión_máscara,\n",
        "    response = datos.rendimiento,\n",
        "    ax       = ax,\n",
        ")"
      ],
      "metadata": {
        "colab": {
          "base_uri": "https://localhost:8080/",
          "height": 281
        },
        "id": "znXoCy1TLWxQ",
        "outputId": "66b6944c-f5e8-40ec-fe4e-4293f3134fc1"
      },
      "execution_count": null,
      "outputs": [
        {
          "output_type": "display_data",
          "data": {
            "text/plain": [
              "<Figure size 432x288 with 1 Axes>"
            ],
            "image/png": "[encoded data removed]"
          },
          "metadata": {
            "needs_background": "light"
          }
        }
      ]
    },
    {
      "cell_type": "code",
      "source": [
        "fig, ax = plt.subplots(figsize=(6, 4))\n",
        "fig = interaction_plot(\n",
        "    x        = datos.Tiempo_exposición,\n",
        "    trace    = datos.Tiempo_revelado,\n",
        "    response = datos.rendimiento,\n",
        "    ax       = ax,\n",
        ")"
      ],
      "metadata": {
        "colab": {
          "base_uri": "https://localhost:8080/",
          "height": 281
        },
        "id": "n3WXsCkMLOzU",
        "outputId": "c8dd2e8b-0d41-4723-8e90-868e70527923"
      },
      "execution_count": null,
      "outputs": [
        {
          "output_type": "display_data",
          "data": {
            "text/plain": [
              "<Figure size 432x288 with 1 Axes>"
            ],
            "image/png": "[encoded data removed]"
          },
          "metadata": {
            "needs_background": "light"
          }
        }
      ]
    },
    {
      "cell_type": "code",
      "source": [
        "fig, ax = plt.subplots(figsize=(6, 4))\n",
        "fig = interaction_plot(\n",
        "    x        = datos.Nivel_abertura,\n",
        "    trace    = datos.Tiempo_exposición,\n",
        "    response = datos.rendimiento,\n",
        "    ax       = ax,\n",
        ")"
      ],
      "metadata": {
        "colab": {
          "base_uri": "https://localhost:8080/",
          "height": 280
        },
        "id": "df5Y4toXIdsF",
        "outputId": "718115ec-29c0-489d-eaf8-59fcda100011"
      },
      "execution_count": null,
      "outputs": [
        {
          "output_type": "display_data",
          "data": {
            "text/plain": [
              "<Figure size 432x288 with 1 Axes>"
            ],
            "image/png": "[encoded data removed]"
          },
          "metadata": {
            "needs_background": "light"
          }
        }
      ]
    },
    {
      "cell_type": "code",
      "source": [
        "fig, ax = plt.subplots(figsize=(6, 4))\n",
        "fig = interaction_plot(\n",
        "    x        = datos.Nivel_abertura,\n",
        "    trace    = datos.Tiempo_revelado,\n",
        "    response = datos.rendimiento,\n",
        "    ax       = ax,\n",
        ")"
      ],
      "metadata": {
        "colab": {
          "base_uri": "https://localhost:8080/",
          "height": 280
        },
        "id": "oACrN23HId2k",
        "outputId": "a5026ee0-a9ec-467d-ef35-83171025a526"
      },
      "execution_count": null,
      "outputs": [
        {
          "output_type": "display_data",
          "data": {
            "text/plain": [
              "<Figure size 432x288 with 1 Axes>"
            ],
            "image/png": "[encoded data removed]"
          },
          "metadata": {
            "needs_background": "light"
          }
        }
      ]
    },
    {
      "cell_type": "code",
      "source": [
        "fig, ax = plt.subplots(figsize=(6, 4))\n",
        "fig = interaction_plot(\n",
        "    x        = datos.Nivel_abertura,\n",
        "    trace    = datos.Dimensión_máscara,\n",
        "    response = datos.rendimiento,\n",
        "    ax       = ax,\n",
        ")"
      ],
      "metadata": {
        "colab": {
          "base_uri": "https://localhost:8080/",
          "height": 282
        },
        "id": "vyIioh_2I-vK",
        "outputId": "6b55be35-9177-4b28-edde-cb1b511a353b"
      },
      "execution_count": null,
      "outputs": [
        {
          "output_type": "display_data",
          "data": {
            "text/plain": [
              "<Figure size 432x288 with 1 Axes>"
            ],
            "image/png": "[encoded data removed]"
          },
          "metadata": {
            "needs_background": "light"
          }
        }
      ]
    },
    {
      "cell_type": "code",
      "source": [
        "fig, ax = plt.subplots(figsize=(6, 4))\n",
        "fig = interaction_plot(\n",
        "    x        = datos.Nivel_abertura,\n",
        "    trace    = datos.Tiempo_grabado,\n",
        "    response = datos.rendimiento,\n",
        "    ax       = ax,\n",
        ")"
      ],
      "metadata": {
        "colab": {
          "base_uri": "https://localhost:8080/",
          "height": 280
        },
        "id": "3PYVzKO2LAkQ",
        "outputId": "aed3d3f2-0d81-47cb-8b7d-6605c1372265"
      },
      "execution_count": null,
      "outputs": [
        {
          "output_type": "display_data",
          "data": {
            "text/plain": [
              "<Figure size 432x288 with 1 Axes>"
            ],
            "image/png": "[encoded data removed]"
          },
          "metadata": {
            "needs_background": "light"
          }
        }
      ]
    },
    {
      "cell_type": "markdown",
      "source": [
        "# **8. No es posible el anova con todos los efectos**"
      ],
      "metadata": {
        "id": "8TkhRur2O9oo"
      }
    },
    {
      "cell_type": "code",
      "source": [
        "import statsmodels.api as sm\n",
        "from statsmodels.formula.api import ols"
      ],
      "metadata": {
        "id": "uDzlGHrsLkVs"
      },
      "execution_count": null,
      "outputs": []
    },
    {
      "cell_type": "code",
      "source": [
        "model2 = ols(\"rendimiento ~ Nivel_abertura*Tiempo_exposición*Tiempo_revelado*Dimensión_máscara*Tiempo_grabado\", data = datos).fit()\n",
        "anova_result = sm.stats.anova_lm(model2, typ=2)\n",
        "print (anova_result)"
      ],
      "metadata": {
        "colab": {
          "base_uri": "https://localhost:8080/",
          "height": 380
        },
        "id": "MfA1pb1vLmSR",
        "outputId": "762f5f76-6424-4a23-8a6e-4b7d987a89bd"
      },
      "execution_count": null,
      "outputs": [
        {
          "output_type": "stream",
          "name": "stderr",
          "text": [
            "/usr/local/lib/python3.7/dist-packages/statsmodels/regression/linear_model.py:1650: RuntimeWarning: divide by zero encountered in double_scalars\n",
            "  return np.dot(wresid, wresid) / self.df_resid\n"
          ]
        },
        {
          "output_type": "error",
          "ename": "ValueError",
          "evalue": "ignored",
          "traceback": [
            "\u001b[0;31m---------------------------------------------------------------------------\u001b[0m",
            "\u001b[0;31mValueError\u001b[0m                                Traceback (most recent call last)",
            "\u001b[0;32m<ipython-input-19-64db478a4617>\u001b[0m in \u001b[0;36m<module>\u001b[0;34m\u001b[0m\n\u001b[1;32m      1\u001b[0m \u001b[0mmodel2\u001b[0m \u001b[0;34m=\u001b[0m \u001b[0mols\u001b[0m\u001b[0;34m(\u001b[0m\u001b[0;34m\"rendimiento ~ Nivel_abertura*Tiempo_exposición*Tiempo_revelado*Dimensión_máscara*Tiempo_grabado\"\u001b[0m\u001b[0;34m,\u001b[0m \u001b[0mdata\u001b[0m \u001b[0;34m=\u001b[0m \u001b[0mdatos\u001b[0m\u001b[0;34m)\u001b[0m\u001b[0;34m.\u001b[0m\u001b[0mfit\u001b[0m\u001b[0;34m(\u001b[0m\u001b[0;34m)\u001b[0m\u001b[0;34m\u001b[0m\u001b[0;34m\u001b[0m\u001b[0m\n\u001b[0;32m----> 2\u001b[0;31m \u001b[0manova_result\u001b[0m \u001b[0;34m=\u001b[0m \u001b[0msm\u001b[0m\u001b[0;34m.\u001b[0m\u001b[0mstats\u001b[0m\u001b[0;34m.\u001b[0m\u001b[0manova_lm\u001b[0m\u001b[0;34m(\u001b[0m\u001b[0mmodel2\u001b[0m\u001b[0;34m,\u001b[0m \u001b[0mtyp\u001b[0m\u001b[0;34m=\u001b[0m\u001b[0;36m2\u001b[0m\u001b[0;34m)\u001b[0m\u001b[0;34m\u001b[0m\u001b[0;34m\u001b[0m\u001b[0m\n\u001b[0m\u001b[1;32m      3\u001b[0m \u001b[0mprint\u001b[0m \u001b[0;34m(\u001b[0m\u001b[0manova_result\u001b[0m\u001b[0;34m)\u001b[0m\u001b[0;34m\u001b[0m\u001b[0;34m\u001b[0m\u001b[0m\n",
            "\u001b[0;32m/usr/local/lib/python3.7/dist-packages/statsmodels/stats/anova.py\u001b[0m in \u001b[0;36manova_lm\u001b[0;34m(*args, **kwargs)\u001b[0m\n\u001b[1;32m    347\u001b[0m     \u001b[0;32mif\u001b[0m \u001b[0mlen\u001b[0m\u001b[0;34m(\u001b[0m\u001b[0margs\u001b[0m\u001b[0;34m)\u001b[0m \u001b[0;34m==\u001b[0m \u001b[0;36m1\u001b[0m\u001b[0;34m:\u001b[0m\u001b[0;34m\u001b[0m\u001b[0;34m\u001b[0m\u001b[0m\n\u001b[1;32m    348\u001b[0m         \u001b[0mmodel\u001b[0m \u001b[0;34m=\u001b[0m \u001b[0margs\u001b[0m\u001b[0;34m[\u001b[0m\u001b[0;36m0\u001b[0m\u001b[0;34m]\u001b[0m\u001b[0;34m\u001b[0m\u001b[0;34m\u001b[0m\u001b[0m\n\u001b[0;32m--> 349\u001b[0;31m         \u001b[0;32mreturn\u001b[0m \u001b[0manova_single\u001b[0m\u001b[0;34m(\u001b[0m\u001b[0mmodel\u001b[0m\u001b[0;34m,\u001b[0m \u001b[0;34m**\u001b[0m\u001b[0mkwargs\u001b[0m\u001b[0;34m)\u001b[0m\u001b[0;34m\u001b[0m\u001b[0;34m\u001b[0m\u001b[0m\n\u001b[0m\u001b[1;32m    350\u001b[0m \u001b[0;34m\u001b[0m\u001b[0m\n\u001b[1;32m    351\u001b[0m     \u001b[0;32mif\u001b[0m \u001b[0mtyp\u001b[0m \u001b[0;32mnot\u001b[0m \u001b[0;32min\u001b[0m \u001b[0;34m[\u001b[0m\u001b[0;36m1\u001b[0m\u001b[0;34m,\u001b[0m \u001b[0;34m\"I\"\u001b[0m\u001b[0;34m]\u001b[0m\u001b[0;34m:\u001b[0m\u001b[0;34m\u001b[0m\u001b[0;34m\u001b[0m\u001b[0m\n",
            "\u001b[0;32m/usr/local/lib/python3.7/dist-packages/statsmodels/stats/anova.py\u001b[0m in \u001b[0;36manova_single\u001b[0;34m(model, **kwargs)\u001b[0m\n\u001b[1;32m     79\u001b[0m     \u001b[0;32melif\u001b[0m \u001b[0mtyp\u001b[0m \u001b[0;32min\u001b[0m \u001b[0;34m[\u001b[0m\u001b[0;36m2\u001b[0m\u001b[0;34m,\u001b[0m \u001b[0;34m\"II\"\u001b[0m\u001b[0;34m]\u001b[0m\u001b[0;34m:\u001b[0m\u001b[0;34m\u001b[0m\u001b[0;34m\u001b[0m\u001b[0m\n\u001b[1;32m     80\u001b[0m         return anova2_lm_single(model, design_info, n_rows, test, pr_test,\n\u001b[0;32m---> 81\u001b[0;31m                                 robust)\n\u001b[0m\u001b[1;32m     82\u001b[0m     \u001b[0;32melif\u001b[0m \u001b[0mtyp\u001b[0m \u001b[0;32min\u001b[0m \u001b[0;34m[\u001b[0m\u001b[0;36m3\u001b[0m\u001b[0;34m,\u001b[0m \u001b[0;34m\"III\"\u001b[0m\u001b[0;34m]\u001b[0m\u001b[0;34m:\u001b[0m\u001b[0;34m\u001b[0m\u001b[0;34m\u001b[0m\u001b[0m\n\u001b[1;32m     83\u001b[0m         return anova3_lm_single(model, design_info, n_rows, test, pr_test,\n",
            "\u001b[0;32m/usr/local/lib/python3.7/dist-packages/statsmodels/stats/anova.py\u001b[0m in \u001b[0;36manova2_lm_single\u001b[0;34m(model, design_info, n_rows, test, pr_test, robust)\u001b[0m\n\u001b[1;32m    201\u001b[0m             \u001b[0mLVL\u001b[0m \u001b[0;34m=\u001b[0m \u001b[0mnp\u001b[0m\u001b[0;34m.\u001b[0m\u001b[0mdot\u001b[0m\u001b[0;34m(\u001b[0m\u001b[0mnp\u001b[0m\u001b[0;34m.\u001b[0m\u001b[0mdot\u001b[0m\u001b[0;34m(\u001b[0m\u001b[0mL1\u001b[0m\u001b[0;34m,\u001b[0m\u001b[0mrobust_cov\u001b[0m\u001b[0;34m)\u001b[0m\u001b[0;34m,\u001b[0m\u001b[0mL2\u001b[0m\u001b[0;34m.\u001b[0m\u001b[0mT\u001b[0m\u001b[0;34m)\u001b[0m\u001b[0;34m\u001b[0m\u001b[0;34m\u001b[0m\u001b[0m\n\u001b[1;32m    202\u001b[0m             \u001b[0;32mfrom\u001b[0m \u001b[0mscipy\u001b[0m \u001b[0;32mimport\u001b[0m \u001b[0mlinalg\u001b[0m\u001b[0;34m\u001b[0m\u001b[0;34m\u001b[0m\u001b[0m\n\u001b[0;32m--> 203\u001b[0;31m             \u001b[0morth_compl\u001b[0m\u001b[0;34m,\u001b[0m\u001b[0m_\u001b[0m \u001b[0;34m=\u001b[0m \u001b[0mlinalg\u001b[0m\u001b[0;34m.\u001b[0m\u001b[0mqr\u001b[0m\u001b[0;34m(\u001b[0m\u001b[0mLVL\u001b[0m\u001b[0;34m)\u001b[0m\u001b[0;34m\u001b[0m\u001b[0;34m\u001b[0m\u001b[0m\n\u001b[0m\u001b[1;32m    204\u001b[0m             \u001b[0mr\u001b[0m \u001b[0;34m=\u001b[0m \u001b[0mL1\u001b[0m\u001b[0;34m.\u001b[0m\u001b[0mshape\u001b[0m\u001b[0;34m[\u001b[0m\u001b[0;36m0\u001b[0m\u001b[0;34m]\u001b[0m \u001b[0;34m-\u001b[0m \u001b[0mL2\u001b[0m\u001b[0;34m.\u001b[0m\u001b[0mshape\u001b[0m\u001b[0;34m[\u001b[0m\u001b[0;36m0\u001b[0m\u001b[0;34m]\u001b[0m\u001b[0;34m\u001b[0m\u001b[0;34m\u001b[0m\u001b[0m\n\u001b[1;32m    205\u001b[0m             \u001b[0;31m# L1|2\u001b[0m\u001b[0;34m\u001b[0m\u001b[0;34m\u001b[0m\u001b[0;34m\u001b[0m\u001b[0m\n",
            "\u001b[0;32m/usr/local/lib/python3.7/dist-packages/scipy/linalg/decomp_qr.py\u001b[0m in \u001b[0;36mqr\u001b[0;34m(a, overwrite_a, lwork, mode, pivoting, check_finite)\u001b[0m\n\u001b[1;32m    125\u001b[0m \u001b[0;34m\u001b[0m\u001b[0m\n\u001b[1;32m    126\u001b[0m     \u001b[0;32mif\u001b[0m \u001b[0mcheck_finite\u001b[0m\u001b[0;34m:\u001b[0m\u001b[0;34m\u001b[0m\u001b[0;34m\u001b[0m\u001b[0m\n\u001b[0;32m--> 127\u001b[0;31m         \u001b[0ma1\u001b[0m \u001b[0;34m=\u001b[0m \u001b[0mnumpy\u001b[0m\u001b[0;34m.\u001b[0m\u001b[0masarray_chkfinite\u001b[0m\u001b[0;34m(\u001b[0m\u001b[0ma\u001b[0m\u001b[0;34m)\u001b[0m\u001b[0;34m\u001b[0m\u001b[0;34m\u001b[0m\u001b[0m\n\u001b[0m\u001b[1;32m    128\u001b[0m     \u001b[0;32melse\u001b[0m\u001b[0;34m:\u001b[0m\u001b[0;34m\u001b[0m\u001b[0;34m\u001b[0m\u001b[0m\n\u001b[1;32m    129\u001b[0m         \u001b[0ma1\u001b[0m \u001b[0;34m=\u001b[0m \u001b[0mnumpy\u001b[0m\u001b[0;34m.\u001b[0m\u001b[0masarray\u001b[0m\u001b[0;34m(\u001b[0m\u001b[0ma\u001b[0m\u001b[0;34m)\u001b[0m\u001b[0;34m\u001b[0m\u001b[0;34m\u001b[0m\u001b[0m\n",
            "\u001b[0;32m/usr/local/lib/python3.7/dist-packages/numpy/lib/function_base.py\u001b[0m in \u001b[0;36masarray_chkfinite\u001b[0;34m(a, dtype, order)\u001b[0m\n\u001b[1;32m    487\u001b[0m     \u001b[0;32mif\u001b[0m \u001b[0ma\u001b[0m\u001b[0;34m.\u001b[0m\u001b[0mdtype\u001b[0m\u001b[0;34m.\u001b[0m\u001b[0mchar\u001b[0m \u001b[0;32min\u001b[0m \u001b[0mtypecodes\u001b[0m\u001b[0;34m[\u001b[0m\u001b[0;34m'AllFloat'\u001b[0m\u001b[0;34m]\u001b[0m \u001b[0;32mand\u001b[0m \u001b[0;32mnot\u001b[0m \u001b[0mnp\u001b[0m\u001b[0;34m.\u001b[0m\u001b[0misfinite\u001b[0m\u001b[0;34m(\u001b[0m\u001b[0ma\u001b[0m\u001b[0;34m)\u001b[0m\u001b[0;34m.\u001b[0m\u001b[0mall\u001b[0m\u001b[0;34m(\u001b[0m\u001b[0;34m)\u001b[0m\u001b[0;34m:\u001b[0m\u001b[0;34m\u001b[0m\u001b[0;34m\u001b[0m\u001b[0m\n\u001b[1;32m    488\u001b[0m         raise ValueError(\n\u001b[0;32m--> 489\u001b[0;31m             \"array must not contain infs or NaNs\")\n\u001b[0m\u001b[1;32m    490\u001b[0m     \u001b[0;32mreturn\u001b[0m \u001b[0ma\u001b[0m\u001b[0;34m\u001b[0m\u001b[0;34m\u001b[0m\u001b[0m\n\u001b[1;32m    491\u001b[0m \u001b[0;34m\u001b[0m\u001b[0m\n",
            "\u001b[0;31mValueError\u001b[0m: array must not contain infs or NaNs"
          ]
        }
      ]
    },
    {
      "cell_type": "markdown",
      "source": [
        "# **9. El anova con todos los efectos**"
      ],
      "metadata": {
        "id": "QlC9Yl4tPFsh"
      }
    },
    {
      "cell_type": "code",
      "source": [
        "model2 = ols(\"rendimiento ~ Nivel_abertura*Tiempo_exposición*Tiempo_revelado*Dimensión_máscara\", data = datos).fit()\n",
        "anova_result = sm.stats.anova_lm(model2, typ=2)\n",
        "print (anova_result)"
      ],
      "metadata": {
        "colab": {
          "base_uri": "https://localhost:8080/"
        },
        "id": "Xa13xFrGN6H6",
        "outputId": "7d4f0592-2210-4adb-9e7c-eb503f12f4ef"
      },
      "execution_count": null,
      "outputs": [
        {
          "output_type": "stream",
          "name": "stdout",
          "text": [
            "                                                        sum_sq    df  \\\n",
            "Nivel_abertura                                      1001.28125   1.0   \n",
            "Tiempo_exposición                                   8877.78125   1.0   \n",
            "Tiempo_revelado                                      657.03125   1.0   \n",
            "Dimensión_máscara                                     16.53125   1.0   \n",
            "Nivel_abertura:Tiempo_exposición                     586.53125   1.0   \n",
            "Nivel_abertura:Tiempo_revelado                         9.03125   1.0   \n",
            "Tiempo_exposición:Tiempo_revelado                      3.78125   1.0   \n",
            "Nivel_abertura:Dimensión_máscara                       2.53125   1.0   \n",
            "Tiempo_exposición:Dimensión_máscara                    0.03125   1.0   \n",
            "Tiempo_revelado:Dimensión_máscara                     16.53125   1.0   \n",
            "Nivel_abertura:Tiempo_exposición:Tiempo_revelado       9.03125   1.0   \n",
            "Nivel_abertura:Tiempo_exposición:Dimensión_máscara     0.78125   1.0   \n",
            "Nivel_abertura:Tiempo_revelado:Dimensión_máscara       9.03125   1.0   \n",
            "Tiempo_exposición:Tiempo_revelado:Dimensión_más...     0.28125   1.0   \n",
            "Nivel_abertura:Tiempo_exposición:Tiempo_revelad...     2.53125   1.0   \n",
            "Residual                                             117.50000  16.0   \n",
            "\n",
            "                                                              F        PR(>F)  \n",
            "Nivel_abertura                                       136.344681  3.053113e-09  \n",
            "Tiempo_exposición                                   1208.889362  1.674248e-16  \n",
            "Tiempo_revelado                                       89.468085  5.923691e-08  \n",
            "Dimensión_máscara                                      2.251064  1.529967e-01  \n",
            "Nivel_abertura:Tiempo_exposición                      79.868085  1.281139e-07  \n",
            "Nivel_abertura:Tiempo_revelado                         1.229787  2.838395e-01  \n",
            "Tiempo_exposición:Tiempo_revelado                      0.514894  4.833738e-01  \n",
            "Nivel_abertura:Dimensión_máscara                       0.344681  5.653330e-01  \n",
            "Tiempo_exposición:Dimensión_máscara                    0.004255  9.487967e-01  \n",
            "Tiempo_revelado:Dimensión_máscara                      2.251064  1.529967e-01  \n",
            "Nivel_abertura:Tiempo_exposición:Tiempo_revelado       1.229787  2.838395e-01  \n",
            "Nivel_abertura:Tiempo_exposición:Dimensión_máscara     0.106383  7.485275e-01  \n",
            "Nivel_abertura:Tiempo_revelado:Dimensión_máscara       1.229787  2.838395e-01  \n",
            "Tiempo_exposición:Tiempo_revelado:Dimensión_más...     0.038298  8.473100e-01  \n",
            "Nivel_abertura:Tiempo_exposición:Tiempo_revelad...     0.344681  5.653330e-01  \n",
            "Residual                                                    NaN           NaN  \n"
          ]
        }
      ]
    },
    {
      "cell_type": "code",
      "source": [
        "model2 = ols(\"rendimiento ~ Nivel_abertura*Tiempo_exposición*Tiempo_revelado\", data = datos).fit()\n",
        "anova_result = sm.stats.anova_lm(model2, typ=2)\n",
        "print (anova_result)"
      ],
      "metadata": {
        "colab": {
          "base_uri": "https://localhost:8080/"
        },
        "id": "QGFe_i5pOFOa",
        "outputId": "2f6400ab-1cfe-453c-ae90-3c91342cb92e"
      },
      "execution_count": null,
      "outputs": [
        {
          "output_type": "stream",
          "name": "stdout",
          "text": [
            "                                                      sum_sq    df  \\\n",
            "Nivel_abertura                                    1001.28125   1.0   \n",
            "Tiempo_exposición                                 8877.78125   1.0   \n",
            "Tiempo_revelado                                    657.03125   1.0   \n",
            "Nivel_abertura:Tiempo_exposición                   586.53125   1.0   \n",
            "Nivel_abertura:Tiempo_revelado                       9.03125   1.0   \n",
            "Tiempo_exposición:Tiempo_revelado                    3.78125   1.0   \n",
            "Nivel_abertura:Tiempo_exposición:Tiempo_revelado     9.03125   1.0   \n",
            "Residual                                           165.75000  24.0   \n",
            "\n",
            "                                                            F        PR(>F)  \n",
            "Nivel_abertura                                     144.981900  1.164935e-11  \n",
            "Tiempo_exposición                                 1285.470588  2.335626e-22  \n",
            "Tiempo_revelado                                     95.135747  7.981175e-10  \n",
            "Nivel_abertura:Tiempo_exposición                    84.927602  2.363893e-09  \n",
            "Nivel_abertura:Tiempo_revelado                       1.307692  2.640915e-01  \n",
            "Tiempo_exposición:Tiempo_revelado                    0.547511  4.665134e-01  \n",
            "Nivel_abertura:Tiempo_exposición:Tiempo_revelado     1.307692  2.640915e-01  \n",
            "Residual                                                  NaN           NaN  \n"
          ]
        }
      ]
    },
    {
      "cell_type": "markdown",
      "source": [
        "# **10. El anova con  los efectos significativos**"
      ],
      "metadata": {
        "id": "GoiutfZjPUOY"
      }
    },
    {
      "cell_type": "code",
      "source": [
        "model2 = ols(\"rendimiento ~ Nivel_abertura * Tiempo_exposición + Tiempo_revelado\", data = datos).fit()\n",
        "anova_result = sm.stats.anova_lm(model2, typ=2)\n",
        "print (anova_result)"
      ],
      "metadata": {
        "colab": {
          "base_uri": "https://localhost:8080/"
        },
        "id": "hlBLV3upf6D-",
        "outputId": "1976e61c-ef11-44ad-aaf8-a5f527f4a87b"
      },
      "execution_count": null,
      "outputs": [
        {
          "output_type": "stream",
          "name": "stdout",
          "text": [
            "                                      sum_sq    df            F        PR(>F)\n",
            "Nivel_abertura                    1001.28125   1.0   144.112444  2.459643e-12\n",
            "Tiempo_exposición                 8877.78125   1.0  1277.761619  2.819698e-24\n",
            "Tiempo_revelado                    657.03125   1.0    94.565217  2.576790e-10\n",
            "Nivel_abertura:Tiempo_exposición   586.53125   1.0    84.418291  8.459071e-10\n",
            "Residual                           187.59375  27.0          NaN           NaN\n"
          ]
        }
      ]
    },
    {
      "cell_type": "code",
      "source": [
        "anova_result.T"
      ],
      "metadata": {
        "colab": {
          "base_uri": "https://localhost:8080/",
          "height": 175
        },
        "id": "5vR92HjFgpcw",
        "outputId": "ffd52726-f22c-4d0c-a966-69b095377b43"
      },
      "execution_count": null,
      "outputs": [
        {
          "output_type": "execute_result",
          "data": {
            "text/plain": [
              "        Nivel_abertura  Tiempo_exposición  Tiempo_revelado  \\\n",
              "sum_sq    1.001281e+03       8.877781e+03     6.570312e+02   \n",
              "df        1.000000e+00       1.000000e+00     1.000000e+00   \n",
              "F         1.441124e+02       1.277762e+03     9.456522e+01   \n",
              "PR(>F)    2.459643e-12       2.819698e-24     2.576790e-10   \n",
              "\n",
              "        Nivel_abertura:Tiempo_exposición   Residual  \n",
              "sum_sq                      5.865312e+02  187.59375  \n",
              "df                          1.000000e+00   27.00000  \n",
              "F                           8.441829e+01        NaN  \n",
              "PR(>F)                      8.459071e-10        NaN  "
            ],
            "text/html": [
              "\n",
              "  <div id=\"df-e786d574-24f5-46f6-9bc5-47c1e6cc3d1b\">\n",
              "    <div class=\"colab-df-container\">\n",
              "      <div>\n",
              "<style scoped>\n",
              "    .dataframe tbody tr th:only-of-type {\n",
              "        vertical-align: middle;\n",
              "    }\n",
              "\n",
              "    .dataframe tbody tr th {\n",
              "        vertical-align: top;\n",
              "    }\n",
              "\n",
              "    .dataframe thead th {\n",
              "        text-align: right;\n",
              "    }\n",
              "</style>\n",
              "<table border=\"1\" class=\"dataframe\">\n",
              "  <thead>\n",
              "    <tr style=\"text-align: right;\">\n",
              "      <th></th>\n",
              "      <th>Nivel_abertura</th>\n",
              "      <th>Tiempo_exposición</th>\n",
              "      <th>Tiempo_revelado</th>\n",
              "      <th>Nivel_abertura:Tiempo_exposición</th>\n",
              "      <th>Residual</th>\n",
              "    </tr>\n",
              "  </thead>\n",
              "  <tbody>\n",
              "    <tr>\n",
              "      <th>sum_sq</th>\n",
              "      <td>1.001281e+03</td>\n",
              "      <td>8.877781e+03</td>\n",
              "      <td>6.570312e+02</td>\n",
              "      <td>5.865312e+02</td>\n",
              "      <td>187.59375</td>\n",
              "    </tr>\n",
              "    <tr>\n",
              "      <th>df</th>\n",
              "      <td>1.000000e+00</td>\n",
              "      <td>1.000000e+00</td>\n",
              "      <td>1.000000e+00</td>\n",
              "      <td>1.000000e+00</td>\n",
              "      <td>27.00000</td>\n",
              "    </tr>\n",
              "    <tr>\n",
              "      <th>F</th>\n",
              "      <td>1.441124e+02</td>\n",
              "      <td>1.277762e+03</td>\n",
              "      <td>9.456522e+01</td>\n",
              "      <td>8.441829e+01</td>\n",
              "      <td>NaN</td>\n",
              "    </tr>\n",
              "    <tr>\n",
              "      <th>PR(&gt;F)</th>\n",
              "      <td>2.459643e-12</td>\n",
              "      <td>2.819698e-24</td>\n",
              "      <td>2.576790e-10</td>\n",
              "      <td>8.459071e-10</td>\n",
              "      <td>NaN</td>\n",
              "    </tr>\n",
              "  </tbody>\n",
              "</table>\n",
              "</div>\n",
              "      <button class=\"colab-df-convert\" onclick=\"convertToInteractive('df-e786d574-24f5-46f6-9bc5-47c1e6cc3d1b')\"\n",
              "              title=\"Convert this dataframe to an interactive table.\"\n",
              "              style=\"display:none;\">\n",
              "        \n",
              "  <svg xmlns=\"http://www.w3.org/2000/svg\" height=\"24px\"viewBox=\"0 0 24 24\"\n",
              "       width=\"24px\">\n",
              "    <path d=\"M0 0h24v24H0V0z\" fill=\"none\"/>\n",
              "    <path d=\"M18.56 5.44l.94 2.06.94-2.06 2.06-.94-2.06-.94-.94-2.06-.94 2.06-2.06.94zm-11 1L8.5 8.5l.94-2.06 2.06-.94-2.06-.94L8.5 2.5l-.94 2.06-2.06.94zm10 10l.94 2.06.94-2.06 2.06-.94-2.06-.94-.94-2.06-.94 2.06-2.06.94z\"/><path d=\"M17.41 7.96l-1.37-1.37c-.4-.4-.92-.59-1.43-.59-.52 0-1.04.2-1.43.59L10.3 9.45l-7.72 7.72c-.78.78-.78 2.05 0 2.83L4 21.41c.39.39.9.59 1.41.59.51 0 1.02-.2 1.41-.59l7.78-7.78 2.81-2.81c.8-.78.8-2.07 0-2.86zM5.41 20L4 18.59l7.72-7.72 1.47 1.35L5.41 20z\"/>\n",
              "  </svg>\n",
              "      </button>\n",
              "      \n",
              "  <style>\n",
              "    .colab-df-container {\n",
              "      display:flex;\n",
              "      flex-wrap:wrap;\n",
              "      gap: 12px;\n",
              "    }\n",
              "\n",
              "    .colab-df-convert {\n",
              "      background-color: #E8F0FE;\n",
              "      border: none;\n",
              "      border-radius: 50%;\n",
              "      cursor: pointer;\n",
              "      display: none;\n",
              "      fill: #1967D2;\n",
              "      height: 32px;\n",
              "      padding: 0 0 0 0;\n",
              "      width: 32px;\n",
              "    }\n",
              "\n",
              "    .colab-df-convert:hover {\n",
              "      background-color: #E2EBFA;\n",
              "      box-shadow: 0px 1px 2px rgba(60, 64, 67, 0.3), 0px 1px 3px 1px rgba(60, 64, 67, 0.15);\n",
              "      fill: #174EA6;\n",
              "    }\n",
              "\n",
              "    [theme=dark] .colab-df-convert {\n",
              "      background-color: #3B4455;\n",
              "      fill: #D2E3FC;\n",
              "    }\n",
              "\n",
              "    [theme=dark] .colab-df-convert:hover {\n",
              "      background-color: #434B5C;\n",
              "      box-shadow: 0px 1px 3px 1px rgba(0, 0, 0, 0.15);\n",
              "      filter: drop-shadow(0px 1px 2px rgba(0, 0, 0, 0.3));\n",
              "      fill: #FFFFFF;\n",
              "    }\n",
              "  </style>\n",
              "\n",
              "      <script>\n",
              "        const buttonEl =\n",
              "          document.querySelector('#df-e786d574-24f5-46f6-9bc5-47c1e6cc3d1b button.colab-df-convert');\n",
              "        buttonEl.style.display =\n",
              "          google.colab.kernel.accessAllowed ? 'block' : 'none';\n",
              "\n",
              "        async function convertToInteractive(key) {\n",
              "          const element = document.querySelector('#df-e786d574-24f5-46f6-9bc5-47c1e6cc3d1b');\n",
              "          const dataTable =\n",
              "            await google.colab.kernel.invokeFunction('convertToInteractive',\n",
              "                                                     [key], {});\n",
              "          if (!dataTable) return;\n",
              "\n",
              "          const docLinkHtml = 'Like what you see? Visit the ' +\n",
              "            '<a target=\"_blank\" href=https://colab.research.google.com/notebooks/data_table.ipynb>data table notebook</a>'\n",
              "            + ' to learn more about interactive tables.';\n",
              "          element.innerHTML = '';\n",
              "          dataTable['output_type'] = 'display_data';\n",
              "          await google.colab.output.renderOutput(dataTable, element);\n",
              "          const docLink = document.createElement('div');\n",
              "          docLink.innerHTML = docLinkHtml;\n",
              "          element.appendChild(docLink);\n",
              "        }\n",
              "      </script>\n",
              "    </div>\n",
              "  </div>\n",
              "  "
            ]
          },
          "metadata": {},
          "execution_count": 23
        }
      ]
    },
    {
      "cell_type": "markdown",
      "source": [
        "# **11. Comparaciones Multiples**"
      ],
      "metadata": {
        "id": "ds1pdZ7I9_bW"
      }
    },
    {
      "cell_type": "code",
      "source": [
        "from statsmodels.stats.multicomp import pairwise_tukeyhsd"
      ],
      "metadata": {
        "id": "Sdjs2l04iC9P"
      },
      "execution_count": null,
      "outputs": []
    },
    {
      "cell_type": "code",
      "source": [
        "tukey = pairwise_tukeyhsd(endog=datos[\"rendimiento\"],     # Data\n",
        "                          groups=datos[\"Nivel_abertura\"],   # Groups\n",
        "                          alpha=0.05)          # Significance level\n",
        "\n",
        "#tukey.plot_simultaneous()    # Plot group confidence intervals\n",
        "plt.vlines(x=49.57,ymin=-0.5,ymax=14.5, color=\"red\")\n",
        "\n",
        "tukey.summary()"
      ],
      "metadata": {
        "colab": {
          "base_uri": "https://localhost:8080/",
          "height": 327
        },
        "id": "9YO3cmwFiEjj",
        "outputId": "085a1955-7a5e-41f5-fe9a-270b1723b87c"
      },
      "execution_count": null,
      "outputs": [
        {
          "output_type": "execute_result",
          "data": {
            "text/plain": [
              "<class 'statsmodels.iolib.table.SimpleTable'>"
            ],
            "text/html": [
              "<table class=\"simpletable\">\n",
              "<caption>Multiple Comparison of Means - Tukey HSD, FWER=0.05</caption>\n",
              "<tr>\n",
              "  <th>group1</th> <th>group2</th> <th>meandiff</th>  <th>p-adj</th>  <th>lower</th>   <th>upper</th>  <th>reject</th>\n",
              "</tr>\n",
              "<tr>\n",
              "    <td>A1</td>     <td>A2</td>    <td>11.1875</td> <td>0.0982</td> <td>-2.1974</td> <td>24.5724</td>  <td>False</td>\n",
              "</tr>\n",
              "</table>"
            ]
          },
          "metadata": {},
          "execution_count": 28
        },
        {
          "output_type": "display_data",
          "data": {
            "text/plain": [
              "<Figure size 432x288 with 1 Axes>"
            ],
            "image/png": "[encoded data removed]"
          },
          "metadata": {
            "needs_background": "light"
          }
        }
      ]
    },
    {
      "cell_type": "code",
      "source": [
        "import statsmodels.stats.multicomp as mc"
      ],
      "metadata": {
        "id": "LTdCAI40iEvS"
      },
      "execution_count": null,
      "outputs": []
    },
    {
      "cell_type": "code",
      "source": [
        "interaction_groups = datos.Nivel_abertura.astype(str) + \" & \"  + datos.Tiempo_exposición.astype(str)\n",
        "\n",
        "comp = mc.MultiComparison(datos[\"rendimiento\"], interaction_groups)\n",
        "post_hoc_res = comp.tukeyhsd()\n",
        "post_hoc_res.summary()"
      ],
      "metadata": {
        "colab": {
          "base_uri": "https://localhost:8080/",
          "height": 186
        },
        "id": "lngZIbd0iE6n",
        "outputId": "1f3c669f-b951-4a69-f455-25382947de87"
      },
      "execution_count": null,
      "outputs": [
        {
          "output_type": "execute_result",
          "data": {
            "text/plain": [
              "<class 'statsmodels.iolib.table.SimpleTable'>"
            ],
            "text/html": [
              "<table class=\"simpletable\">\n",
              "<caption>Multiple Comparison of Means - Tukey HSD, FWER=0.05</caption>\n",
              "<tr>\n",
              "  <th>group1</th>  <th>group2</th>  <th>meandiff</th>  <th>p-adj</th>   <th>lower</th>    <th>upper</th>  <th>reject</th>\n",
              "</tr>\n",
              "<tr>\n",
              "  <td>A1 & B1</td> <td>A1 & B2</td>   <td>24.75</td>   <td>0.001</td>  <td>17.2522</td>  <td>32.2478</td>  <td>True</td> \n",
              "</tr>\n",
              "<tr>\n",
              "  <td>A1 & B1</td> <td>A2 & B1</td>   <td>2.625</td>  <td>0.7532</td>  <td>-4.8728</td>  <td>10.1228</td>  <td>False</td>\n",
              "</tr>\n",
              "<tr>\n",
              "  <td>A1 & B1</td> <td>A2 & B2</td>   <td>44.5</td>    <td>0.001</td>  <td>37.0022</td>  <td>51.9978</td>  <td>True</td> \n",
              "</tr>\n",
              "<tr>\n",
              "  <td>A1 & B2</td> <td>A2 & B1</td>  <td>-22.125</td>  <td>0.001</td> <td>-29.6228</td> <td>-14.6272</td>  <td>True</td> \n",
              "</tr>\n",
              "<tr>\n",
              "  <td>A1 & B2</td> <td>A2 & B2</td>   <td>19.75</td>   <td>0.001</td>  <td>12.2522</td>  <td>27.2478</td>  <td>True</td> \n",
              "</tr>\n",
              "<tr>\n",
              "  <td>A2 & B1</td> <td>A2 & B2</td>  <td>41.875</td>   <td>0.001</td>  <td>34.3772</td>  <td>49.3728</td>  <td>True</td> \n",
              "</tr>\n",
              "</table>"
            ]
          },
          "metadata": {},
          "execution_count": 31
        }
      ]
    },
    {
      "cell_type": "code",
      "source": [
        "interaction_groups = datos.Nivel_abertura.astype(str) + \" & \"  + datos.Tiempo_revelado.astype(str)\n",
        "\n",
        "comp = mc.MultiComparison(datos[\"rendimiento\"], interaction_groups)\n",
        "post_hoc_res = comp.tukeyhsd()\n",
        "post_hoc_res.summary()"
      ],
      "metadata": {
        "colab": {
          "base_uri": "https://localhost:8080/",
          "height": 186
        },
        "id": "zZqqxLujkNa7",
        "outputId": "a3883841-f544-4642-c440-49db0b5b93cd"
      },
      "execution_count": null,
      "outputs": [
        {
          "output_type": "execute_result",
          "data": {
            "text/plain": [
              "<class 'statsmodels.iolib.table.SimpleTable'>"
            ],
            "text/html": [
              "<table class=\"simpletable\">\n",
              "<caption>Multiple Comparison of Means - Tukey HSD, FWER=0.05</caption>\n",
              "<tr>\n",
              "  <th>group1</th>  <th>group2</th>  <th>meandiff</th>  <th>p-adj</th>   <th>lower</th>   <th>upper</th>  <th>reject</th>\n",
              "</tr>\n",
              "<tr>\n",
              "  <td>A1 & C1</td> <td>A1 & C2</td>    <td>8.0</td>   <td>0.8048</td> <td>-17.3341</td> <td>33.3341</td>  <td>False</td>\n",
              "</tr>\n",
              "<tr>\n",
              "  <td>A1 & C1</td> <td>A2 & C1</td>  <td>10.125</td>  <td>0.6788</td> <td>-15.2091</td> <td>35.4591</td>  <td>False</td>\n",
              "</tr>\n",
              "<tr>\n",
              "  <td>A1 & C1</td> <td>A2 & C2</td>   <td>20.25</td>   <td>0.153</td>  <td>-5.0841</td> <td>45.5841</td>  <td>False</td>\n",
              "</tr>\n",
              "<tr>\n",
              "  <td>A1 & C2</td> <td>A2 & C1</td>   <td>2.125</td>    <td>0.9</td>  <td>-23.2091</td> <td>27.4591</td>  <td>False</td>\n",
              "</tr>\n",
              "<tr>\n",
              "  <td>A1 & C2</td> <td>A2 & C2</td>   <td>12.25</td>  <td>0.5528</td> <td>-13.0841</td> <td>37.5841</td>  <td>False</td>\n",
              "</tr>\n",
              "<tr>\n",
              "  <td>A2 & C1</td> <td>A2 & C2</td>  <td>10.125</td>  <td>0.6788</td> <td>-15.2091</td> <td>35.4591</td>  <td>False</td>\n",
              "</tr>\n",
              "</table>"
            ]
          },
          "metadata": {},
          "execution_count": 32
        }
      ]
    },
    {
      "cell_type": "code",
      "source": [
        "interaction_groups = datos.Tiempo_exposición.astype(str) + \" & \"  + datos.Tiempo_revelado.astype(str)\n",
        "\n",
        "comp = mc.MultiComparison(datos[\"rendimiento\"], interaction_groups)\n",
        "post_hoc_res = comp.tukeyhsd()\n",
        "post_hoc_res.summary()"
      ],
      "metadata": {
        "colab": {
          "base_uri": "https://localhost:8080/",
          "height": 186
        },
        "id": "XO8Ws6YQkfmg",
        "outputId": "a27a433b-e8e6-4d4d-d4cf-2bdd1830fce9"
      },
      "execution_count": null,
      "outputs": [
        {
          "output_type": "execute_result",
          "data": {
            "text/plain": [
              "<class 'statsmodels.iolib.table.SimpleTable'>"
            ],
            "text/html": [
              "<table class=\"simpletable\">\n",
              "<caption>Multiple Comparison of Means - Tukey HSD, FWER=0.05</caption>\n",
              "<tr>\n",
              "  <th>group1</th>  <th>group2</th>  <th>meandiff</th>  <th>p-adj</th>  <th>lower</th>  <th>upper</th> <th>reject</th>\n",
              "</tr>\n",
              "<tr>\n",
              "  <td>B1 & C1</td> <td>B1 & C2</td>   <td>8.375</td>  <td>0.1759</td> <td>-2.484</td> <td>19.234</td>  <td>False</td>\n",
              "</tr>\n",
              "<tr>\n",
              "  <td>B1 & C1</td> <td>B2 & C1</td>  <td>32.625</td>   <td>0.001</td> <td>21.766</td> <td>43.484</td>  <td>True</td> \n",
              "</tr>\n",
              "<tr>\n",
              "  <td>B1 & C1</td> <td>B2 & C2</td>  <td>42.375</td>   <td>0.001</td> <td>31.516</td> <td>53.234</td>  <td>True</td> \n",
              "</tr>\n",
              "<tr>\n",
              "  <td>B1 & C2</td> <td>B2 & C1</td>   <td>24.25</td>   <td>0.001</td> <td>13.391</td> <td>35.109</td>  <td>True</td> \n",
              "</tr>\n",
              "<tr>\n",
              "  <td>B1 & C2</td> <td>B2 & C2</td>   <td>34.0</td>    <td>0.001</td> <td>23.141</td> <td>44.859</td>  <td>True</td> \n",
              "</tr>\n",
              "<tr>\n",
              "  <td>B2 & C1</td> <td>B2 & C2</td>   <td>9.75</td>   <td>0.0903</td> <td>-1.109</td> <td>20.609</td>  <td>False</td>\n",
              "</tr>\n",
              "</table>"
            ]
          },
          "metadata": {},
          "execution_count": 33
        }
      ]
    },
    {
      "cell_type": "markdown",
      "source": [
        "# **11. Supuestos del Modelo - Normalidad**"
      ],
      "metadata": {
        "id": "X2yKjbqJPk0x"
      }
    },
    {
      "cell_type": "markdown",
      "source": [
        " ***COMPROBACIÓN DE SUPUESTOS***\n",
        "*Los supuestos de esta sección deben cumplirse para que los resultados de la prueba se consideren válidos. Aquí se proporciona una mirada más profunda a las suposiciones paramétricas , que incluye algunos remedios potenciales.*\n",
        "\n",
        " - **INDEPENDENCIA**. *Esta suposición se prueba cuando se diseña el estudio. Lo que esto significa es que todos los grupos son mutuamente excluyentes, es decir, un individuo solo puede pertenecer a un grupo. Además, esto significa que los datos no son medidas repetidas (no se recopilan a lo largo del tiempo). En este ejemplo, esta condición se cumple.*\n",
        "\n",
        "- **NORMALIDAD**. *El supuesto de normalidad se prueba en los residuos del modelo cuando proviene de un ANOVA o marco de regresión. Un método para probar la suposición de normalidad es la prueba de Shapiro-Wilk. Esto se puede completar usando el método shapiro() de scipy.stats. Asegúrese de importar scipy.stats para que funcione el siguiente método. Desafortunadamente, la salida no está etiquetada, pero sí (estadística de prueba W, valor p).*"
      ],
      "metadata": {
        "id": "xORKmB7LlEr4"
      }
    },
    {
      "cell_type": "code",
      "source": [
        "import scipy.stats as stats"
      ],
      "metadata": {
        "id": "4bLMIUldkNyk"
      },
      "execution_count": null,
      "outputs": []
    },
    {
      "cell_type": "code",
      "source": [
        "stats.shapiro(model2.resid)"
      ],
      "metadata": {
        "colab": {
          "base_uri": "https://localhost:8080/"
        },
        "id": "BDR25ctBlMjJ",
        "outputId": "de215891-134e-4e85-81e2-7a547deb4be1"
      },
      "execution_count": null,
      "outputs": [
        {
          "output_type": "execute_result",
          "data": {
            "text/plain": [
              "ShapiroResult(statistic=0.8407571911811829, pvalue=0.00026333305868320167)"
            ]
          },
          "metadata": {},
          "execution_count": 35
        }
      ]
    },
    {
      "cell_type": "code",
      "source": [
        "import matplotlib.pyplot as plt"
      ],
      "metadata": {
        "id": "7vMuTKb0lMv7"
      },
      "execution_count": null,
      "outputs": []
    },
    {
      "cell_type": "code",
      "source": [
        "fig = plt.figure(figsize= (10, 10))\n",
        "ax = fig.add_subplot(111)\n",
        "\n",
        "normality_plot, stat = stats.probplot(model2.resid, plot= plt, rvalue= True)\n",
        "ax.set_title(\"Gráfico de Probabiliad para los residuos\", fontsize= 20)\n",
        "ax.set\n",
        "\n",
        "plt.show()"
      ],
      "metadata": {
        "colab": {
          "base_uri": "https://localhost:8080/",
          "height": 628
        },
        "id": "CorOQSXLlM8j",
        "outputId": "7e7a982b-bdf6-4ba2-ad64-f5b1218cea90"
      },
      "execution_count": null,
      "outputs": [
        {
          "output_type": "display_data",
          "data": {
            "text/plain": [
              "<Figure size 720x720 with 1 Axes>"
            ],
            "image/png": "[encoded data removed]"
          },
          "metadata": {
            "needs_background": "light"
          }
        }
      ]
    },
    {
      "cell_type": "markdown",
      "source": [
        "# **11. Supuestos del Modelo - Homocedasticidad**\n",
        "*La suposición final es que todos los grupos tienen varianzas iguales. Un método para probar esta suposición es la prueba de homogeneidad de varianzas de Levene. Esto se puede completar usando el método levene() de Scipy.stats.*"
      ],
      "metadata": {
        "id": "sLXgFlxfmwlP"
      }
    },
    {
      "cell_type": "code",
      "source": [
        "stats.levene(datos['rendimiento'][datos['Nivel_abertura'] == 'A1'],\n",
        "             datos['rendimiento'][datos['Nivel_abertura'] == 'A2'])"
      ],
      "metadata": {
        "colab": {
          "base_uri": "https://localhost:8080/"
        },
        "id": "_1dq9Wj5mvQf",
        "outputId": "6184cfa3-eef6-4428-b0b5-d7a2bae68ace"
      },
      "execution_count": null,
      "outputs": [
        {
          "output_type": "execute_result",
          "data": {
            "text/plain": [
              "LeveneResult(statistic=20.162930602306094, pvalue=9.781197691056506e-05)"
            ]
          },
          "metadata": {},
          "execution_count": 38
        }
      ]
    },
    {
      "cell_type": "code",
      "source": [
        "stats.levene(datos['rendimiento'][datos['Tiempo_exposición'] == 'B1'],\n",
        "             datos['rendimiento'][datos['Tiempo_exposición'] == 'B2'])"
      ],
      "metadata": {
        "colab": {
          "base_uri": "https://localhost:8080/"
        },
        "id": "B4vxorwSnwrj",
        "outputId": "35f8a5b8-fd48-4b7c-efd5-55f517c58b72"
      },
      "execution_count": null,
      "outputs": [
        {
          "output_type": "execute_result",
          "data": {
            "text/plain": [
              "LeveneResult(statistic=12.32234223990904, pvalue=0.0014368776546787268)"
            ]
          },
          "metadata": {},
          "execution_count": 39
        }
      ]
    }
  ]
}