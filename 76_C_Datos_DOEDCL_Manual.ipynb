{
  "nbformat": 4,
  "nbformat_minor": 0,
  "metadata": {
    "colab": {
      "provenance": [],
      "authorship_tag": "ABX9TyNIkpHc7cCOBcKtdK7s35TA",
      "include_colab_link": true
    },
    "kernelspec": {
      "name": "python3",
      "display_name": "Python 3"
    },
    "language_info": {
      "name": "python"
    }
  },
  "cells": [
    {
      "cell_type": "markdown",
      "metadata": {
        "id": "view-in-github",
        "colab_type": "text"
      },
      "source": [
        "<a href=\"https://colab.research.google.com/github/JSEFERINO/Estadistica_Moderna/blob/main/76_C_Datos_DOEDCL_Manual.ipynb\" target=\"_parent\"><img src=\"https://colab.research.google.com/assets/colab-badge.svg\" alt=\"Open In Colab\"/></a>"
      ]
    },
    {
      "cell_type": "code",
      "source": [
        "Rango_Tukey = [[6.08,\t8.33,\t9.80,\t10.88,\t11.73,\t12.43,\t13.03,\t13.54,\t13.99,\t14.40,\t14.76,\t15.09,\t15.39,\t15.67,\t15.92,\t16.16,\t16.38,\t16.59,\t16.78,\t16.97,\t17.14,\t17.30,\t17.46,\t17.61,\t17.75,\t17.88,\t18.01,\t18.13,\t18.25],\n",
        "[4.50,\t5.91,\t6.82,\t7.50,\t8.04,\t8.48,\t8.85,\t9.18,\t9.46,\t9.72,\t9.95,\t10.15,\t10.35,\t10.52,\t10.69,\t10.84,\t10.98,\t11.11,\t11.24,\t11.36,\t11.47,\t11.58,\t11.68,\t11.78,\t11.87,\t11.96,\t12.05,\t12.13,\t12.21],\n",
        "[3.93,\t5.04,\t5.76,\t6.29,\t6.71,\t7.05,\t7.35,\t7.60,\t7.83,\t8.03,\t8.21,\t8.37,\t8.52,\t8.66,\t8.79,\t8.91,\t9.03,\t9.13,\t9.23,\t9.33,\t9.42,\t9.50,\t9.58,\t9.66,\t9.74,\t9.81,\t9.88,\t9.94,\t10.00],\n",
        "[3.64,\t4.60,\t5.22,\t5.67,\t6.03,\t6.33,\t6.58,\t6.80,\t6.99,\t7.17,\t7.32,\t7.47,\t7.60,\t7.72,\t7.83,\t7.93,\t8.03,\t8.12,\t8.21,\t8.29,\t8.37,\t8.44,\t8.51,\t8.58,\t8.64,\t8.70,\t8.76,\t8.82,\t8.87],\n",
        "[3.46,\t4.34,\t4.90,\t5.30,\t5.63,\t5.90,\t6.12,\t6.32,\t6.49,\t6.65,\t6.79,\t6.92,\t7.03,\t7.14,\t7.24,\t7.34,\t7.43,\t7.51,\t7.59,\t7.66,\t7.73,\t7.80,\t7.86,\t7.92,\t7.98,\t8.03,\t8.09,\t8.14,\t8.19],\n",
        "[3.34,\t4.16,\t4.68,\t5.06,\t5.36,\t5.61,\t5.82,\t6.00,\t6.16,\t6.30,\t6.43,\t6.55,\t6.66,\t6.76,\t6.85,\t6.94,\t7.02,\t7.10,\t7.17,\t7.24,\t7.30,\t7.36,\t7.42,\t7.48,\t7.53,\t7.58,\t7.63,\t7.68,\t7.73],\n",
        "[3.26,\t4.04,\t4.53,\t4.89,\t5.17,\t5.40,\t5.60,\t5.77,\t5.92,\t6.05,\t6.18,\t6.29,\t6.39,\t6.48,\t6.57,\t6.65,\t6.73,\t6.80,\t6.87,\t6.93,\t6.99,\t7.05,\t7.11,\t7.16,\t7.21,\t7.26,\t7.31,\t7.35,\t7.40],\n",
        "[3.20,\t3.95,\t4.41,\t4.76,\t5.02,\t5.24,\t5.43,\t5.59,\t5.74,\t5.87,\t5.98,\t6.09,\t6.19,\t6.28,\t6.36,\t6.44,\t6.51,\t6.58,\t6.64,\t6.70,\t6.76,\t6.82,\t6.87,\t6.92,\t6.97,\t7.02,\t7.06,\t7.10,\t7.14],\n",
        "[3.15,\t3.88,\t4.33,\t4.65,\t4.91,\t5.12,\t5.30,\t5.46,\t5.60,\t5.72,\t5.83,\t5.93,\t6.03,\t6.11,\t6.19,\t6.27,\t6.34,\t6.40,\t6.47,\t6.53,\t6.58,\t6.63,\t6.69,\t6.73,\t6.78,\t6.82,\t6.87,\t6.91,\t6.95],\n",
        "[3.11,\t3.82,\t4.26,\t4.57,\t4.82,\t5.03,\t5.20,\t5.35,\t5.49,\t5.61,\t5.71,\t5.81,\t5.90,\t5.98,\t6.06,\t6.13,\t6.20,\t6.27,\t6.33,\t6.38,\t6.44,\t6.49,\t6.54,\t6.58,\t6.63,\t6.67,\t6.71,\t6.75,\t6.79],\n",
        "[3.08,\t3.77,\t4.20,\t4.51,\t4.75,\t4.95,\t5.12,\t5.27,\t5.39,\t5.51,\t5.61,\t5.71,\t5.80,\t5.88,\t5.95,\t6.02,\t6.09,\t6.15,\t6.21,\t6.26,\t6.32,\t6.37,\t6.41,\t6.46,\t6.50,\t6.54,\t6.58,\t6.62,\t6.66],\n",
        "[3.06,\t3.73,\t4.15,\t4.45,\t4.69,\t4.88,\t5.05,\t5.19,\t5.32,\t5.43,\t5.53,\t5.63,\t5.71,\t5.79,\t5.86,\t5.93,\t5.99,\t6.05,\t6.11,\t6.17,\t6.22,\t6.26,\t6.31,\t6.36,\t6.40,\t6.44,\t6.48,\t6.52,\t6.55],\n",
        "[3.03,\t3.70,\t4.11,\t4.41,\t4.64,\t4.83,\t4.99,\t5.13,\t5.25,\t5.36,\t5.46,\t5.55,\t5.64,\t5.71,\t5.79,\t5.85,\t5.91,\t5.97,\t6.03,\t6.08,\t6.13,\t6.18,\t6.22,\t6.27,\t6.31,\t6.35,\t6.39,\t6.42,\t6.46],\n",
        "[3.01,\t3.67,\t4.08,\t4.37,\t4.59,\t4.78,\t4.94,\t5.08,\t5.20,\t5.31,\t5.40,\t5.49,\t5.57,\t5.65,\t5.72,\t5.78,\t5.85,\t5.90,\t5.96,\t6.01,\t6.06,\t6.10,\t6.15,\t6.19,\t6.23,\t6.27,\t6.31,\t6.34,\t6.38],\n",
        "[3.00,\t3.65,\t4.05,\t4.33,\t4.56,\t4.74,\t4.90,\t5.03,\t5.15,\t5.26,\t5.35,\t5.44,\t5.52,\t5.59,\t5.66,\t5.73,\t5.79,\t5.84,\t5.90,\t5.95,\t5.99,\t6.04,\t6.08,\t6.13,\t6.17,\t6.20,\t6.24,\t6.28,\t6.31],\n",
        "[2.98,\t3.63,\t4.02,\t4.30,\t4.52,\t4.70,\t4.86,\t4.99,\t5.11,\t5.21,\t5.31,\t5.39,\t5.47,\t5.54,\t5.61,\t5.67,\t5.73,\t5.79,\t5.84,\t5.89,\t5.94,\t5.98,\t6.03,\t6.07,\t6.11,\t6.14,\t6.18,\t6.22,\t6.25],\n",
        "[2.97,\t3.61,\t4.00,\t4.28,\t4.49,\t4.67,\t4.82,\t4.96,\t5.07,\t5.17,\t5.27,\t5.35,\t5.43,\t5.50,\t5.57,\t5.63,\t5.69,\t5.74,\t5.79,\t5.84,\t5.89,\t5.93,\t5.98,\t6.02,\t6.06,\t6.09,\t6.13,\t6.16,\t6.20],\n",
        "[2.96,\t3.59,\t3.98,\t4.25,\t4.47,\t4.65,\t4.79,\t4.92,\t5.04,\t5.14,\t5.23,\t5.31,\t5.39,\t5.46,\t5.53,\t5.59,\t5.65,\t5.70,\t5.75,\t5.80,\t5.85,\t5.89,\t5.93,\t5.97,\t6.01,\t6.05,\t6.08,\t6.11,\t6.15],\n",
        "[2.95,\t3.58,\t3.96,\t4.23,\t4.45,\t4.62,\t4.77,\t4.90,\t5.01,\t5.11,\t5.20,\t5.28,\t5.36,\t5.43,\t5.49,\t5.55,\t5.61,\t5.66,\t5.71,\t5.76,\t5.81,\t5.85,\t5.89,\t5.93,\t5.97,\t6.00,\t6.04,\t6.07,\t6.10],\n",
        "[2.94,\t3.56,\t3.94,\t4.21,\t4.42,\t4.60,\t4.74,\t4.87,\t4.98,\t5.08,\t5.17,\t5.25,\t5.33,\t5.40,\t5.46,\t5.52,\t5.58,\t5.63,\t5.68,\t5.73,\t5.77,\t5.81,\t5.85,\t5.89,\t5.93,\t5.97,\t6.00,\t6.03,\t6.07],\n",
        "[2.93,\t3.55,\t3.93,\t4.20,\t4.41,\t4.58,\t4.72,\t4.85,\t4.96,\t5.06,\t5.14,\t5.23,\t5.30,\t5.37,\t5.43,\t5.49,\t5.55,\t5.60,\t5.65,\t5.69,\t5.74,\t5.78,\t5.82,\t5.86,\t5.90,\t5.93,\t5.97,\t6.00,\t6.03],\n",
        "[2.93,\t3.54,\t3.91,\t4.18,\t4.39,\t4.56,\t4.70,\t4.83,\t4.94,\t5.03,\t5.12,\t5.20,\t5.27,\t5.34,\t5.41,\t5.46,\t5.52,\t5.57,\t5.62,\t5.67,\t5.71,\t5.75,\t5.79,\t5.83,\t5.87,\t5.90,\t5.93,\t5.97,\t6.00],\n",
        "[2.92,\t3.53,\t3.90,\t4.17,\t4.37,\t4.54,\t4.68,\t4.81,\t4.92,\t5.01,\t5.10,\t5.18,\t5.25,\t5.32,\t5.38,\t5.44,\t5.49,\t5.55,\t5.59,\t5.64,\t5.68,\t5.72,\t5.76,\t5.80,\t5.84,\t5.87,\t5.91,\t5.94,\t5.97],\n",
        "[2.91,\t3.52,\t3.89,\t4.15,\t4.36,\t4.53,\t4.67,\t4.79,\t4.90,\t4.99,\t5.08,\t5.16,\t5.23,\t5.30,\t5.36,\t5.42,\t5.47,\t5.52,\t5.57,\t5.62,\t5.66,\t5.70,\t5.74,\t5.78,\t5.81,\t5.85,\t5.88,\t5.91,\t5.94],\n",
        "[2.91,\t3.51,\t3.88,\t4.14,\t4.35,\t4.51,\t4.65,\t4.77,\t4.88,\t4.98,\t5.06,\t5.14,\t5.21,\t5.28,\t5.34,\t5.40,\t5.45,\t5.50,\t5.55,\t5.59,\t5.64,\t5.68,\t5.72,\t5.75,\t5.79,\t5.82,\t5.85,\t5.89,\t5.92],\n",
        "[2.90,\t3.51,\t3.87,\t4.13,\t4.33,\t4.50,\t4.64,\t4.76,\t4.86,\t4.96,\t5.04,\t5.12,\t5.19,\t5.26,\t5.32,\t5.38,\t5.43,\t5.48,\t5.53,\t5.57,\t5.61,\t5.66,\t5.69,\t5.73,\t5.77,\t5.80,\t5.83,\t5.86,\t5.89],\n",
        "[2.90,\t3.50,\t3.86,\t4.12,\t4.32,\t4.49,\t4.62,\t4.74,\t4.85,\t4.94,\t5.03,\t5.11,\t5.18,\t5.24,\t5.30,\t5.36,\t5.41,\t5.46,\t5.51,\t5.55,\t5.60,\t5.64,\t5.67,\t5.71,\t5.75,\t5.78,\t5.81,\t5.84,\t5.87],\n",
        "[2.89,\t3.49,\t3.85,\t4.11,\t4.31,\t4.47,\t4.61,\t4.73,\t4.84,\t4.93,\t5.01,\t5.09,\t5.16,\t5.23,\t5.29,\t5.34,\t5.40,\t5.44,\t5.49,\t5.54,\t5.58,\t5.62,\t5.66,\t5.69,\t5.73,\t5.76,\t5.79,\t5.82,\t5.85],\n",
        "[2.89,\t3.49,\t3.85,\t4.10,\t4.30,\t4.46,\t4.60,\t4.72,\t4.82,\t4.92,\t5.00,\t5.08,\t5.15,\t5.21,\t5.27,\t5.33,\t5.38,\t5.43,\t5.47,\t5.52,\t5.56,\t5.60,\t5.64,\t5.67,\t5.71,\t5.74,\t5.77,\t5.80,\t5.83],\n",
        "[2.88,\t3.48,\t3.84,\t4.09,\t4.29,\t4.45,\t4.59,\t4.71,\t4.81,\t4.90,\t4.99,\t5.06,\t5.13,\t5.20,\t5.26,\t5.31,\t5.36,\t5.41,\t5.46,\t5.50,\t5.54,\t5.58,\t5.62,\t5.66,\t5.69,\t5.72,\t5.76,\t5.79,\t5.82],\n",
        "[2.88,\t3.48,\t3.83,\t4.09,\t4.28,\t4.45,\t4.58,\t4.70,\t4.80,\t4.89,\t4.98,\t5.05,\t5.12,\t5.18,\t5.24,\t5.30,\t5.35,\t5.40,\t5.45,\t5.49,\t5.53,\t5.57,\t5.61,\t5.64,\t5.68,\t5.71,\t5.74,\t5.77,\t5.80],\n",
        "[2.88,\t3.47,\t3.83,\t4.08,\t4.28,\t4.44,\t4.57,\t4.69,\t4.79,\t4.88,\t4.97,\t5.04,\t5.11,\t5.17,\t5.23,\t5.29,\t5.34,\t5.39,\t5.43,\t5.48,\t5.52,\t5.56,\t5.59,\t5.63,\t5.66,\t5.69,\t5.73,\t5.76,\t5.78],\n",
        "[2.87,\t3.47,\t3.82,\t4.07,\t4.27,\t4.43,\t4.56,\t4.68,\t4.78,\t4.87,\t4.96,\t5.03,\t5.10,\t5.16,\t5.22,\t5.27,\t5.33,\t5.37,\t5.42,\t5.46,\t5.50,\t5.54,\t5.58,\t5.61,\t5.65,\t5.68,\t5.71,\t5.74,\t5.77],\n",
        "[2.87,\t3.46,\t3.81,\t4.07,\t4.26,\t4.42,\t4.56,\t4.67,\t4.77,\t4.86,\t4.95,\t5.02,\t5.09,\t5.15,\t5.21,\t5.26,\t5.31,\t5.36,\t5.41,\t5.45,\t5.49,\t5.53,\t5.57,\t5.60,\t5.64,\t5.67,\t5.70,\t5.73,\t5.76],\n",
        "[2.87,\t3.46,\t3.81,\t4.06,\t4.25,\t4.41,\t4.55,\t4.66,\t4.76,\t4.85,\t4.94,\t5.01,\t5.08,\t5.14,\t5.20,\t5.25,\t5.30,\t5.35,\t5.40,\t5.44,\t5.48,\t5.52,\t5.55,\t5.59,\t5.62,\t5.66,\t5.69,\t5.72,\t5.74],\n",
        "[2.87,\t3.45,\t3.80,\t4.05,\t4.25,\t4.41,\t4.54,\t4.66,\t4.76,\t4.85,\t4.93,\t5.00,\t5.07,\t5.13,\t5.19,\t5.24,\t5.29,\t5.34,\t5.39,\t5.43,\t5.47,\t5.51,\t5.54,\t5.58,\t5.61,\t5.64,\t5.67,\t5.70,\t5.73],\n",
        "[2.86,\t3.45,\t3.80,\t4.05,\t4.24,\t4.40,\t4.53,\t4.65,\t4.75,\t4.84,\t4.92,\t4.99,\t5.06,\t5.12,\t5.18,\t5.23,\t5.28,\t5.33,\t5.38,\t5.42,\t5.46,\t5.50,\t5.53,\t5.57,\t5.60,\t5.63,\t5.66,\t5.69,\t5.72],\n",
        "[2.86,\t3.45,\t3.79,\t4.04,\t4.24,\t4.39,\t4.53,\t4.64,\t4.74,\t4.83,\t4.91,\t4.98,\t5.05,\t5.11,\t5.17,\t5.22,\t5.27,\t5.32,\t5.37,\t5.41,\t5.45,\t5.49,\t5.52,\t5.56,\t5.59,\t5.62,\t5.65,\t5.68,\t5.71],\n",
        "[2.86,\t3.44,\t3.79,\t4.04,\t4.23,\t4.39,\t4.52,\t4.63,\t4.73,\t4.82,\t4.90,\t4.98,\t5.04,\t5.11,\t5.16,\t5.22,\t5.27,\t5.31,\t5.36,\t5.40,\t5.44,\t5.48,\t5.51,\t5.55,\t5.58,\t5.61,\t5.64,\t5.67,\t5.70],\n",
        "[2.86,\t3.44,\t3.79,\t4.03,\t4.23,\t4.38,\t4.51,\t4.63,\t4.73,\t4.82,\t4.90,\t4.97,\t5.04,\t5.10,\t5.15,\t5.21,\t5.26,\t5.30,\t5.35,\t5.39,\t5.43,\t5.47,\t5.50,\t5.54,\t5.57,\t5.60,\t5.63,\t5.66,\t5.69],\n",
        "[2.85,\t3.44,\t3.78,\t4.03,\t4.22,\t4.38,\t4.51,\t4.62,\t4.72,\t4.81,\t4.89,\t4.96,\t5.03,\t5.09,\t5.15,\t5.20,\t5.25,\t5.30,\t5.34,\t5.38,\t5.42,\t5.46,\t5.50,\t5.53,\t5.56,\t5.59,\t5.62,\t5.65,\t5.68],\n",
        "[2.85,\t3.43,\t3.78,\t4.03,\t4.22,\t4.37,\t4.50,\t4.62,\t4.72,\t4.80,\t4.88,\t4.96,\t5.02,\t5.08,\t5.14,\t5.19,\t5.24,\t5.29,\t5.33,\t5.37,\t5.41,\t5.45,\t5.49,\t5.52,\t5.55,\t5.58,\t5.61,\t5.64,\t5.67],\n",
        "[2.85,\t3.43,\t3.78,\t4.02,\t4.21,\t4.37,\t4.50,\t4.61,\t4.71,\t4.80,\t4.88,\t4.95,\t5.02,\t5.08,\t5.13,\t5.19,\t5.24,\t5.28,\t5.33,\t5.37,\t5.41,\t5.44,\t5.48,\t5.51,\t5.55,\t5.58,\t5.61,\t5.64,\t5.66],\n",
        "[2.85,\t3.43,\t3.77,\t4.02,\t4.21,\t4.36,\t4.49,\t4.61,\t4.70,\t4.79,\t4.87,\t4.94,\t5.01,\t5.07,\t5.13,\t5.18,\t5.23,\t5.28,\t5.32,\t5.36,\t5.40,\t5.44,\t5.47,\t5.51,\t5.54,\t5.57,\t5.60,\t5.63,\t5.66],\n",
        "[2.85,\t3.42,\t3.77,\t4.01,\t4.20,\t4.36,\t4.49,\t4.60,\t4.70,\t4.79,\t4.87,\t4.94,\t5.00,\t5.06,\t5.12,\t5.17,\t5.22,\t5.27,\t5.31,\t5.35,\t5.39,\t5.43,\t5.46,\t5.50,\t5.53,\t5.56,\t5.59,\t5.62,\t5.65],\n",
        "[2.85,\t3.42,\t3.77,\t4.01,\t4.20,\t4.36,\t4.48,\t4.60,\t4.69,\t4.78,\t4.86,\t4.93,\t5.00,\t5.06,\t5.11,\t5.17,\t5.22,\t5.26,\t5.31,\t5.35,\t5.39,\t5.42,\t5.46,\t5.49,\t5.52,\t5.55,\t5.58,\t5.61,\t5.64],\n",
        "[2.84,\t3.42,\t3.76,\t4.01,\t4.20,\t4.35,\t4.48,\t4.59,\t4.69,\t4.78,\t4.86,\t4.93,\t4.99,\t5.05,\t5.11,\t5.16,\t5.21,\t5.26,\t5.30,\t5.34,\t5.38,\t5.42,\t5.45,\t5.48,\t5.52,\t5.55,\t5.58,\t5.61,\t5.63],\n",
        "[2.84,\t3.42,\t3.76,\t4.00,\t4.19,\t4.35,\t4.48,\t4.59,\t4.69,\t4.77,\t4.85,\t4.92,\t4.99,\t5.05,\t5.10,\t5.16,\t5.20,\t5.25,\t5.29,\t5.33,\t5.37,\t5.41,\t5.44,\t5.48,\t5.51,\t5.54,\t5.57,\t5.60,\t5.63],\n",
        "[2.84,\t3.42,\t3.76,\t4.00,\t4.19,\t4.34,\t4.47,\t4.58,\t4.68,\t4.77,\t4.85,\t4.92,\t4.98,\t5.04,\t5.10,\t5.15,\t5.20,\t5.24,\t5.29,\t5.33,\t5.37,\t5.40,\t5.44,\t5.47,\t5.50,\t5.53,\t5.56,\t5.59,\t5.62]]\n",
        "RST_Q = pd.DataFrame(Rango_Tukey)"
      ],
      "metadata": {
        "id": "rLEm2qeYYZQR"
      },
      "execution_count": 42,
      "outputs": []
    },
    {
      "cell_type": "markdown",
      "source": [
        "#  **Tema : Diseño en Cuadrado Latino - usando Python**\n",
        "# **El Problema a estudiar**\n",
        "\n",
        "### **Un Ingeniero esta estudiando métodos para medir la capacidad de detección de ciertos radadres de alcance. Los Factores que se consideran importantes son la cantidad de ruido de fondo (bajo, medio, alto) y el tipo de filtro (1 y 2) situado sobre la pantalla. El experimento es desarrollado seleccionando aleatoriamente una combinación de tratamientos (ruido de fondo y tipo de filtro) y luego introduciendo una señal que representa el objetivo en el radar. La intensidad de la señal es incrementada hasta que el operario la observa. La vaiable respuesta que se considera, es por tanto, el nivel de intensidad a la que el operario detecta la señal. A causa de la capacidad del operador, es conveniente seleccionar a uno y mantenerlo en pantalla hasta que se hayan realizado todas las observaciones. De esta forma se dispone de seis operadores que permaneceran en su puesto hasta que se hayan ejecutado las seis combinaciones de tratamientos. Supongamos ademas que el experimento sólo se puede llevar a cabo seis veces al dia. Se piensa, además, que tanto el operario como el momento del día en el que se lleva a cabo la recogida de datos pueden influir sobre los resultados. Obtenemos los siguientes datos:**\n",
        "\n",
        "|Momento \\ Operador|\t1\t| 2\t|3 | 4 | 5 | 6 |\n",
        "|:--:|:--:|:--:|:--:|:--:|:--:|:--:|\n",
        "|1|(1, bajo) 90 |(1, medio) 106 |(1, alto) 108 |(2, bajo) 81 |(2, alto) 90 |(2, medio) 88 |\n",
        "|2|(1, alto) 114 |(1, bajo) 96 |(1, medio) 105 |(2, alto) 83 |(2,medio ) 86 |(2, bajo) 84 |\n",
        "|3|(1, medio) 102 |(2, medio) 90 |(2, alto) 95 |(1, bajo) 92 |(2,bajo ) 85 |((1, alto) 104 |\n",
        "|4|(2, medio) 87|(2, bajo) 84|(1, bajo) 100|(1, medio) 96|(1, alto) 110|(2, alto) 91|\n",
        "|5|(2, alto) 93|(1, alto) 112|(2, bajo) 92|(2, medio) 80|(1, bajo) 90|(1, medio) 98|\n",
        "|6|(2, bajo) 86|(2, alto) 91|(2, medio) 97|(1, alto) 98|(1, medio) 100|(1, bajo) 92|\n",
        "\n",
        "\n",
        "|Momento \\ Operador|\t1\t| 2\t|3 | 4 | 5 | 6 |\n",
        "|:--:|:--:|:--:|:--:|:--:|:--:|:--:|\n",
        "|1|A  90 |B 106 |C 108 |D 81 |F 90 |E 88 |\n",
        "|2|C 114 |A 96 |B 105 |F 83 |E 86 |D 84 |\n",
        "|3|B 102 |E 90 |F 95 |A 92 |D 85 |C 104 |\n",
        "|4|E 87|D 84|A 100|B 96|C 110|F 91|\n",
        "|5|F 93|C 112|D 92|E 80|A 90|B 98|\n",
        "|6|D 86|F 91|E 97|C 98|B 100|A 92|"
      ],
      "metadata": {
        "id": "4Tt1l5etgotn"
      }
    },
    {
      "cell_type": "markdown",
      "source": [
        "## **Paso_1. Ingresamos los datos manual**"
      ],
      "metadata": {
        "id": "iFC-fTx8h8iC"
      }
    },
    {
      "cell_type": "markdown",
      "source": [
        "## **a. Libreria para usar**"
      ],
      "metadata": {
        "id": "YYXa3o_hmAqx"
      }
    },
    {
      "cell_type": "code",
      "source": [
        "!pip install texttable\n",
        "from texttable import Texttable\n",
        "import pandas as pd"
      ],
      "metadata": {
        "id": "jl2B3fA1xIlE",
        "colab": {
          "base_uri": "https://localhost:8080/"
        },
        "outputId": "24b680da-247b-4ce9-b4cd-42a1804ddf6d"
      },
      "execution_count": 43,
      "outputs": [
        {
          "output_type": "stream",
          "name": "stdout",
          "text": [
            "Requirement already satisfied: texttable in /usr/local/lib/python3.10/dist-packages (1.6.7)\n"
          ]
        }
      ]
    },
    {
      "cell_type": "markdown",
      "source": [
        "## **b. Todos los datos**"
      ],
      "metadata": {
        "id": "qxdikuHaLFNi"
      }
    },
    {
      "cell_type": "code",
      "source": [
        "## **4.1 Los Datos del Problema**\n",
        "N = 36; k = 6; k = 6; n = 1\n",
        "Combinacion  =  ['A','B','C','D','F','E',\n",
        "                 'C','A','B','F','E','D',\n",
        "                 'B','E','F','A','D','C',\n",
        "                 'E','D','A','B','C','F',\n",
        "                 'F','C','D','E','A','B',\n",
        "                 'D','F','E','C','B','A']\n",
        "FILTRO =        ['F1','F1','F1','F2','F2','F2',\n",
        "                 'F1','F1','F1','F2','F2','F2',\n",
        "                 'F1','F2','F2','F1','F2','F1',\n",
        "                 'F2','F2','F1','F1','F1','F2',\n",
        "                 'F2','F1','F2','F2','F1','F1',\n",
        "                 'F2','F2','F2','F1','F1','F1']\n",
        "RUIDO =          ['R1','R2','R3','R1','R3','R2',\n",
        "                 'R3','R1','R2','R3','R2','R1',\n",
        "                 'R2','R2','R3','R1','R1','R3',\n",
        "                 'R2','R1','R1','R2','R3','R3',\n",
        "                 'R3','R3','R1','R2','R1','R2',\n",
        "                 'R1','R3','R2','R3','R2','R1']\n",
        "\n",
        "MOMENTO =        ['M1','M1','M1','M1','M1','M1',\n",
        "                 'M2','M2','M2','M2','M2','M2',\n",
        "                 'M3','M3','M3','M3','M3','M3',\n",
        "                 'M4','M4','M4','M4','M4','M4',\n",
        "                 'M5','M5','M5','M5','M5','M5',\n",
        "                 'M6','M6','M6','M6','M6','M6']\n",
        "\n",
        "OPERADOR =        ['O1','O2','O3','O4','O5','O6',\n",
        "                 'O1','O2','O3','O4','O5','O6',\n",
        "                 'O1','O2','O3','O4','O5','O6',\n",
        "                 'O1','O2','O3','O4','O5','O6',\n",
        "                 'O1','O2','O3','O4','O5','O6',\n",
        "                 'O1','O2','O3','O4','O5','O6']\n",
        "\n",
        "Intensidad =[90, 106, 108, 81, 90, 88, 114, 96, 105, 83, 86, 84,\n",
        "          102 , 90 , 95 , 92 , 85 , 104, 87, 84, 100, 96, 110, 91,\n",
        "          93\t, 112\t, 92\t, 80\t, 90\t, 98,  86\t, 91\t, 97\t, 98\t, 100\t, 92 ]"
      ],
      "metadata": {
        "id": "dBMhSCAsw71N"
      },
      "execution_count": 44,
      "outputs": []
    },
    {
      "cell_type": "markdown",
      "source": [
        "# **Paso_2. El Modelo a estudiar**\n",
        "$$Y_{ij} = μ+Comb_i + Momento_j + Operador_k + 𝛆_{ijk}$$"
      ],
      "metadata": {
        "id": "RA0u4lQBx5U2"
      }
    },
    {
      "cell_type": "markdown",
      "source": [
        "## **a. El DataFrame para nuestro modelo**"
      ],
      "metadata": {
        "id": "Um5lY-b_LQd_"
      }
    },
    {
      "cell_type": "code",
      "source": [
        "## **a. El DataFrame**\n",
        "df1 = pd.DataFrame({'MOMENTO':MOMENTO,'OPERADOR':OPERADOR, 'Combinacion':Combinacion, 'Intensidad':Intensidad})\n",
        "df1.head(12)"
      ],
      "metadata": {
        "colab": {
          "base_uri": "https://localhost:8080/",
          "height": 425
        },
        "id": "gGWqxf0dCYff",
        "outputId": "d482da2a-ca92-4efd-b7be-185ae46161ec"
      },
      "execution_count": 45,
      "outputs": [
        {
          "output_type": "execute_result",
          "data": {
            "text/plain": [
              "   MOMENTO OPERADOR Combinacion  Intensidad\n",
              "0       M1       O1           A          90\n",
              "1       M1       O2           B         106\n",
              "2       M1       O3           C         108\n",
              "3       M1       O4           D          81\n",
              "4       M1       O5           F          90\n",
              "5       M1       O6           E          88\n",
              "6       M2       O1           C         114\n",
              "7       M2       O2           A          96\n",
              "8       M2       O3           B         105\n",
              "9       M2       O4           F          83\n",
              "10      M2       O5           E          86\n",
              "11      M2       O6           D          84"
            ],
            "text/html": [
              "\n",
              "  <div id=\"df-00a551bb-f05b-4f0d-819f-ead5d0bf19c2\" class=\"colab-df-container\">\n",
              "    <div>\n",
              "<style scoped>\n",
              "    .dataframe tbody tr th:only-of-type {\n",
              "        vertical-align: middle;\n",
              "    }\n",
              "\n",
              "    .dataframe tbody tr th {\n",
              "        vertical-align: top;\n",
              "    }\n",
              "\n",
              "    .dataframe thead th {\n",
              "        text-align: right;\n",
              "    }\n",
              "</style>\n",
              "<table border=\"1\" class=\"dataframe\">\n",
              "  <thead>\n",
              "    <tr style=\"text-align: right;\">\n",
              "      <th></th>\n",
              "      <th>MOMENTO</th>\n",
              "      <th>OPERADOR</th>\n",
              "      <th>Combinacion</th>\n",
              "      <th>Intensidad</th>\n",
              "    </tr>\n",
              "  </thead>\n",
              "  <tbody>\n",
              "    <tr>\n",
              "      <th>0</th>\n",
              "      <td>M1</td>\n",
              "      <td>O1</td>\n",
              "      <td>A</td>\n",
              "      <td>90</td>\n",
              "    </tr>\n",
              "    <tr>\n",
              "      <th>1</th>\n",
              "      <td>M1</td>\n",
              "      <td>O2</td>\n",
              "      <td>B</td>\n",
              "      <td>106</td>\n",
              "    </tr>\n",
              "    <tr>\n",
              "      <th>2</th>\n",
              "      <td>M1</td>\n",
              "      <td>O3</td>\n",
              "      <td>C</td>\n",
              "      <td>108</td>\n",
              "    </tr>\n",
              "    <tr>\n",
              "      <th>3</th>\n",
              "      <td>M1</td>\n",
              "      <td>O4</td>\n",
              "      <td>D</td>\n",
              "      <td>81</td>\n",
              "    </tr>\n",
              "    <tr>\n",
              "      <th>4</th>\n",
              "      <td>M1</td>\n",
              "      <td>O5</td>\n",
              "      <td>F</td>\n",
              "      <td>90</td>\n",
              "    </tr>\n",
              "    <tr>\n",
              "      <th>5</th>\n",
              "      <td>M1</td>\n",
              "      <td>O6</td>\n",
              "      <td>E</td>\n",
              "      <td>88</td>\n",
              "    </tr>\n",
              "    <tr>\n",
              "      <th>6</th>\n",
              "      <td>M2</td>\n",
              "      <td>O1</td>\n",
              "      <td>C</td>\n",
              "      <td>114</td>\n",
              "    </tr>\n",
              "    <tr>\n",
              "      <th>7</th>\n",
              "      <td>M2</td>\n",
              "      <td>O2</td>\n",
              "      <td>A</td>\n",
              "      <td>96</td>\n",
              "    </tr>\n",
              "    <tr>\n",
              "      <th>8</th>\n",
              "      <td>M2</td>\n",
              "      <td>O3</td>\n",
              "      <td>B</td>\n",
              "      <td>105</td>\n",
              "    </tr>\n",
              "    <tr>\n",
              "      <th>9</th>\n",
              "      <td>M2</td>\n",
              "      <td>O4</td>\n",
              "      <td>F</td>\n",
              "      <td>83</td>\n",
              "    </tr>\n",
              "    <tr>\n",
              "      <th>10</th>\n",
              "      <td>M2</td>\n",
              "      <td>O5</td>\n",
              "      <td>E</td>\n",
              "      <td>86</td>\n",
              "    </tr>\n",
              "    <tr>\n",
              "      <th>11</th>\n",
              "      <td>M2</td>\n",
              "      <td>O6</td>\n",
              "      <td>D</td>\n",
              "      <td>84</td>\n",
              "    </tr>\n",
              "  </tbody>\n",
              "</table>\n",
              "</div>\n",
              "    <div class=\"colab-df-buttons\">\n",
              "\n",
              "  <div class=\"colab-df-container\">\n",
              "    <button class=\"colab-df-convert\" onclick=\"convertToInteractive('df-00a551bb-f05b-4f0d-819f-ead5d0bf19c2')\"\n",
              "            title=\"Convert this dataframe to an interactive table.\"\n",
              "            style=\"display:none;\">\n",
              "\n",
              "  <svg xmlns=\"http://www.w3.org/2000/svg\" height=\"24px\" viewBox=\"0 -960 960 960\">\n",
              "    <path d=\"M120-120v-720h720v720H120Zm60-500h600v-160H180v160Zm220 220h160v-160H400v160Zm0 220h160v-160H400v160ZM180-400h160v-160H180v160Zm440 0h160v-160H620v160ZM180-180h160v-160H180v160Zm440 0h160v-160H620v160Z\"/>\n",
              "  </svg>\n",
              "    </button>\n",
              "\n",
              "  <style>\n",
              "    .colab-df-container {\n",
              "      display:flex;\n",
              "      gap: 12px;\n",
              "    }\n",
              "\n",
              "    .colab-df-convert {\n",
              "      background-color: #E8F0FE;\n",
              "      border: none;\n",
              "      border-radius: 50%;\n",
              "      cursor: pointer;\n",
              "      display: none;\n",
              "      fill: #1967D2;\n",
              "      height: 32px;\n",
              "      padding: 0 0 0 0;\n",
              "      width: 32px;\n",
              "    }\n",
              "\n",
              "    .colab-df-convert:hover {\n",
              "      background-color: #E2EBFA;\n",
              "      box-shadow: 0px 1px 2px rgba(60, 64, 67, 0.3), 0px 1px 3px 1px rgba(60, 64, 67, 0.15);\n",
              "      fill: #174EA6;\n",
              "    }\n",
              "\n",
              "    .colab-df-buttons div {\n",
              "      margin-bottom: 4px;\n",
              "    }\n",
              "\n",
              "    [theme=dark] .colab-df-convert {\n",
              "      background-color: #3B4455;\n",
              "      fill: #D2E3FC;\n",
              "    }\n",
              "\n",
              "    [theme=dark] .colab-df-convert:hover {\n",
              "      background-color: #434B5C;\n",
              "      box-shadow: 0px 1px 3px 1px rgba(0, 0, 0, 0.15);\n",
              "      filter: drop-shadow(0px 1px 2px rgba(0, 0, 0, 0.3));\n",
              "      fill: #FFFFFF;\n",
              "    }\n",
              "  </style>\n",
              "\n",
              "    <script>\n",
              "      const buttonEl =\n",
              "        document.querySelector('#df-00a551bb-f05b-4f0d-819f-ead5d0bf19c2 button.colab-df-convert');\n",
              "      buttonEl.style.display =\n",
              "        google.colab.kernel.accessAllowed ? 'block' : 'none';\n",
              "\n",
              "      async function convertToInteractive(key) {\n",
              "        const element = document.querySelector('#df-00a551bb-f05b-4f0d-819f-ead5d0bf19c2');\n",
              "        const dataTable =\n",
              "          await google.colab.kernel.invokeFunction('convertToInteractive',\n",
              "                                                    [key], {});\n",
              "        if (!dataTable) return;\n",
              "\n",
              "        const docLinkHtml = 'Like what you see? Visit the ' +\n",
              "          '<a target=\"_blank\" href=https://colab.research.google.com/notebooks/data_table.ipynb>data table notebook</a>'\n",
              "          + ' to learn more about interactive tables.';\n",
              "        element.innerHTML = '';\n",
              "        dataTable['output_type'] = 'display_data';\n",
              "        await google.colab.output.renderOutput(dataTable, element);\n",
              "        const docLink = document.createElement('div');\n",
              "        docLink.innerHTML = docLinkHtml;\n",
              "        element.appendChild(docLink);\n",
              "      }\n",
              "    </script>\n",
              "  </div>\n",
              "\n",
              "\n",
              "<div id=\"df-83a8cd19-deed-48f8-8bbe-34b0f1550293\">\n",
              "  <button class=\"colab-df-quickchart\" onclick=\"quickchart('df-83a8cd19-deed-48f8-8bbe-34b0f1550293')\"\n",
              "            title=\"Suggest charts.\"\n",
              "            style=\"display:none;\">\n",
              "\n",
              "<svg xmlns=\"http://www.w3.org/2000/svg\" height=\"24px\"viewBox=\"0 0 24 24\"\n",
              "     width=\"24px\">\n",
              "    <g>\n",
              "        <path d=\"M19 3H5c-1.1 0-2 .9-2 2v14c0 1.1.9 2 2 2h14c1.1 0 2-.9 2-2V5c0-1.1-.9-2-2-2zM9 17H7v-7h2v7zm4 0h-2V7h2v10zm4 0h-2v-4h2v4z\"/>\n",
              "    </g>\n",
              "</svg>\n",
              "  </button>\n",
              "\n",
              "<style>\n",
              "  .colab-df-quickchart {\n",
              "      --bg-color: #E8F0FE;\n",
              "      --fill-color: #1967D2;\n",
              "      --hover-bg-color: #E2EBFA;\n",
              "      --hover-fill-color: #174EA6;\n",
              "      --disabled-fill-color: #AAA;\n",
              "      --disabled-bg-color: #DDD;\n",
              "  }\n",
              "\n",
              "  [theme=dark] .colab-df-quickchart {\n",
              "      --bg-color: #3B4455;\n",
              "      --fill-color: #D2E3FC;\n",
              "      --hover-bg-color: #434B5C;\n",
              "      --hover-fill-color: #FFFFFF;\n",
              "      --disabled-bg-color: #3B4455;\n",
              "      --disabled-fill-color: #666;\n",
              "  }\n",
              "\n",
              "  .colab-df-quickchart {\n",
              "    background-color: var(--bg-color);\n",
              "    border: none;\n",
              "    border-radius: 50%;\n",
              "    cursor: pointer;\n",
              "    display: none;\n",
              "    fill: var(--fill-color);\n",
              "    height: 32px;\n",
              "    padding: 0;\n",
              "    width: 32px;\n",
              "  }\n",
              "\n",
              "  .colab-df-quickchart:hover {\n",
              "    background-color: var(--hover-bg-color);\n",
              "    box-shadow: 0 1px 2px rgba(60, 64, 67, 0.3), 0 1px 3px 1px rgba(60, 64, 67, 0.15);\n",
              "    fill: var(--button-hover-fill-color);\n",
              "  }\n",
              "\n",
              "  .colab-df-quickchart-complete:disabled,\n",
              "  .colab-df-quickchart-complete:disabled:hover {\n",
              "    background-color: var(--disabled-bg-color);\n",
              "    fill: var(--disabled-fill-color);\n",
              "    box-shadow: none;\n",
              "  }\n",
              "\n",
              "  .colab-df-spinner {\n",
              "    border: 2px solid var(--fill-color);\n",
              "    border-color: transparent;\n",
              "    border-bottom-color: var(--fill-color);\n",
              "    animation:\n",
              "      spin 1s steps(1) infinite;\n",
              "  }\n",
              "\n",
              "  @keyframes spin {\n",
              "    0% {\n",
              "      border-color: transparent;\n",
              "      border-bottom-color: var(--fill-color);\n",
              "      border-left-color: var(--fill-color);\n",
              "    }\n",
              "    20% {\n",
              "      border-color: transparent;\n",
              "      border-left-color: var(--fill-color);\n",
              "      border-top-color: var(--fill-color);\n",
              "    }\n",
              "    30% {\n",
              "      border-color: transparent;\n",
              "      border-left-color: var(--fill-color);\n",
              "      border-top-color: var(--fill-color);\n",
              "      border-right-color: var(--fill-color);\n",
              "    }\n",
              "    40% {\n",
              "      border-color: transparent;\n",
              "      border-right-color: var(--fill-color);\n",
              "      border-top-color: var(--fill-color);\n",
              "    }\n",
              "    60% {\n",
              "      border-color: transparent;\n",
              "      border-right-color: var(--fill-color);\n",
              "    }\n",
              "    80% {\n",
              "      border-color: transparent;\n",
              "      border-right-color: var(--fill-color);\n",
              "      border-bottom-color: var(--fill-color);\n",
              "    }\n",
              "    90% {\n",
              "      border-color: transparent;\n",
              "      border-bottom-color: var(--fill-color);\n",
              "    }\n",
              "  }\n",
              "</style>\n",
              "\n",
              "  <script>\n",
              "    async function quickchart(key) {\n",
              "      const quickchartButtonEl =\n",
              "        document.querySelector('#' + key + ' button');\n",
              "      quickchartButtonEl.disabled = true;  // To prevent multiple clicks.\n",
              "      quickchartButtonEl.classList.add('colab-df-spinner');\n",
              "      try {\n",
              "        const charts = await google.colab.kernel.invokeFunction(\n",
              "            'suggestCharts', [key], {});\n",
              "      } catch (error) {\n",
              "        console.error('Error during call to suggestCharts:', error);\n",
              "      }\n",
              "      quickchartButtonEl.classList.remove('colab-df-spinner');\n",
              "      quickchartButtonEl.classList.add('colab-df-quickchart-complete');\n",
              "    }\n",
              "    (() => {\n",
              "      let quickchartButtonEl =\n",
              "        document.querySelector('#df-83a8cd19-deed-48f8-8bbe-34b0f1550293 button');\n",
              "      quickchartButtonEl.style.display =\n",
              "        google.colab.kernel.accessAllowed ? 'block' : 'none';\n",
              "    })();\n",
              "  </script>\n",
              "</div>\n",
              "    </div>\n",
              "  </div>\n"
            ]
          },
          "metadata": {},
          "execution_count": 45
        }
      ]
    },
    {
      "cell_type": "markdown",
      "source": [
        "## **b. Preguntando por un nivel de un factor**"
      ],
      "metadata": {
        "id": "lJ27lt9Sx8vD"
      }
    },
    {
      "cell_type": "code",
      "source": [
        "df1[(df1[\"Combinacion\"]==\"A\")]"
      ],
      "metadata": {
        "colab": {
          "base_uri": "https://localhost:8080/",
          "height": 237
        },
        "id": "LcI_eea_8RXk",
        "outputId": "72b30eb0-1cb5-4f60-cf37-c43253c0c8b0"
      },
      "execution_count": 46,
      "outputs": [
        {
          "output_type": "execute_result",
          "data": {
            "text/plain": [
              "   MOMENTO OPERADOR Combinacion  Intensidad\n",
              "0       M1       O1           A          90\n",
              "7       M2       O2           A          96\n",
              "15      M3       O4           A          92\n",
              "20      M4       O3           A         100\n",
              "28      M5       O5           A          90\n",
              "35      M6       O6           A          92"
            ],
            "text/html": [
              "\n",
              "  <div id=\"df-faf3a3d5-14f2-4e76-ad39-0cb746334465\" class=\"colab-df-container\">\n",
              "    <div>\n",
              "<style scoped>\n",
              "    .dataframe tbody tr th:only-of-type {\n",
              "        vertical-align: middle;\n",
              "    }\n",
              "\n",
              "    .dataframe tbody tr th {\n",
              "        vertical-align: top;\n",
              "    }\n",
              "\n",
              "    .dataframe thead th {\n",
              "        text-align: right;\n",
              "    }\n",
              "</style>\n",
              "<table border=\"1\" class=\"dataframe\">\n",
              "  <thead>\n",
              "    <tr style=\"text-align: right;\">\n",
              "      <th></th>\n",
              "      <th>MOMENTO</th>\n",
              "      <th>OPERADOR</th>\n",
              "      <th>Combinacion</th>\n",
              "      <th>Intensidad</th>\n",
              "    </tr>\n",
              "  </thead>\n",
              "  <tbody>\n",
              "    <tr>\n",
              "      <th>0</th>\n",
              "      <td>M1</td>\n",
              "      <td>O1</td>\n",
              "      <td>A</td>\n",
              "      <td>90</td>\n",
              "    </tr>\n",
              "    <tr>\n",
              "      <th>7</th>\n",
              "      <td>M2</td>\n",
              "      <td>O2</td>\n",
              "      <td>A</td>\n",
              "      <td>96</td>\n",
              "    </tr>\n",
              "    <tr>\n",
              "      <th>15</th>\n",
              "      <td>M3</td>\n",
              "      <td>O4</td>\n",
              "      <td>A</td>\n",
              "      <td>92</td>\n",
              "    </tr>\n",
              "    <tr>\n",
              "      <th>20</th>\n",
              "      <td>M4</td>\n",
              "      <td>O3</td>\n",
              "      <td>A</td>\n",
              "      <td>100</td>\n",
              "    </tr>\n",
              "    <tr>\n",
              "      <th>28</th>\n",
              "      <td>M5</td>\n",
              "      <td>O5</td>\n",
              "      <td>A</td>\n",
              "      <td>90</td>\n",
              "    </tr>\n",
              "    <tr>\n",
              "      <th>35</th>\n",
              "      <td>M6</td>\n",
              "      <td>O6</td>\n",
              "      <td>A</td>\n",
              "      <td>92</td>\n",
              "    </tr>\n",
              "  </tbody>\n",
              "</table>\n",
              "</div>\n",
              "    <div class=\"colab-df-buttons\">\n",
              "\n",
              "  <div class=\"colab-df-container\">\n",
              "    <button class=\"colab-df-convert\" onclick=\"convertToInteractive('df-faf3a3d5-14f2-4e76-ad39-0cb746334465')\"\n",
              "            title=\"Convert this dataframe to an interactive table.\"\n",
              "            style=\"display:none;\">\n",
              "\n",
              "  <svg xmlns=\"http://www.w3.org/2000/svg\" height=\"24px\" viewBox=\"0 -960 960 960\">\n",
              "    <path d=\"M120-120v-720h720v720H120Zm60-500h600v-160H180v160Zm220 220h160v-160H400v160Zm0 220h160v-160H400v160ZM180-400h160v-160H180v160Zm440 0h160v-160H620v160ZM180-180h160v-160H180v160Zm440 0h160v-160H620v160Z\"/>\n",
              "  </svg>\n",
              "    </button>\n",
              "\n",
              "  <style>\n",
              "    .colab-df-container {\n",
              "      display:flex;\n",
              "      gap: 12px;\n",
              "    }\n",
              "\n",
              "    .colab-df-convert {\n",
              "      background-color: #E8F0FE;\n",
              "      border: none;\n",
              "      border-radius: 50%;\n",
              "      cursor: pointer;\n",
              "      display: none;\n",
              "      fill: #1967D2;\n",
              "      height: 32px;\n",
              "      padding: 0 0 0 0;\n",
              "      width: 32px;\n",
              "    }\n",
              "\n",
              "    .colab-df-convert:hover {\n",
              "      background-color: #E2EBFA;\n",
              "      box-shadow: 0px 1px 2px rgba(60, 64, 67, 0.3), 0px 1px 3px 1px rgba(60, 64, 67, 0.15);\n",
              "      fill: #174EA6;\n",
              "    }\n",
              "\n",
              "    .colab-df-buttons div {\n",
              "      margin-bottom: 4px;\n",
              "    }\n",
              "\n",
              "    [theme=dark] .colab-df-convert {\n",
              "      background-color: #3B4455;\n",
              "      fill: #D2E3FC;\n",
              "    }\n",
              "\n",
              "    [theme=dark] .colab-df-convert:hover {\n",
              "      background-color: #434B5C;\n",
              "      box-shadow: 0px 1px 3px 1px rgba(0, 0, 0, 0.15);\n",
              "      filter: drop-shadow(0px 1px 2px rgba(0, 0, 0, 0.3));\n",
              "      fill: #FFFFFF;\n",
              "    }\n",
              "  </style>\n",
              "\n",
              "    <script>\n",
              "      const buttonEl =\n",
              "        document.querySelector('#df-faf3a3d5-14f2-4e76-ad39-0cb746334465 button.colab-df-convert');\n",
              "      buttonEl.style.display =\n",
              "        google.colab.kernel.accessAllowed ? 'block' : 'none';\n",
              "\n",
              "      async function convertToInteractive(key) {\n",
              "        const element = document.querySelector('#df-faf3a3d5-14f2-4e76-ad39-0cb746334465');\n",
              "        const dataTable =\n",
              "          await google.colab.kernel.invokeFunction('convertToInteractive',\n",
              "                                                    [key], {});\n",
              "        if (!dataTable) return;\n",
              "\n",
              "        const docLinkHtml = 'Like what you see? Visit the ' +\n",
              "          '<a target=\"_blank\" href=https://colab.research.google.com/notebooks/data_table.ipynb>data table notebook</a>'\n",
              "          + ' to learn more about interactive tables.';\n",
              "        element.innerHTML = '';\n",
              "        dataTable['output_type'] = 'display_data';\n",
              "        await google.colab.output.renderOutput(dataTable, element);\n",
              "        const docLink = document.createElement('div');\n",
              "        docLink.innerHTML = docLinkHtml;\n",
              "        element.appendChild(docLink);\n",
              "      }\n",
              "    </script>\n",
              "  </div>\n",
              "\n",
              "\n",
              "<div id=\"df-b4276a87-3fa3-4a07-a8c8-a2b3901c4746\">\n",
              "  <button class=\"colab-df-quickchart\" onclick=\"quickchart('df-b4276a87-3fa3-4a07-a8c8-a2b3901c4746')\"\n",
              "            title=\"Suggest charts.\"\n",
              "            style=\"display:none;\">\n",
              "\n",
              "<svg xmlns=\"http://www.w3.org/2000/svg\" height=\"24px\"viewBox=\"0 0 24 24\"\n",
              "     width=\"24px\">\n",
              "    <g>\n",
              "        <path d=\"M19 3H5c-1.1 0-2 .9-2 2v14c0 1.1.9 2 2 2h14c1.1 0 2-.9 2-2V5c0-1.1-.9-2-2-2zM9 17H7v-7h2v7zm4 0h-2V7h2v10zm4 0h-2v-4h2v4z\"/>\n",
              "    </g>\n",
              "</svg>\n",
              "  </button>\n",
              "\n",
              "<style>\n",
              "  .colab-df-quickchart {\n",
              "      --bg-color: #E8F0FE;\n",
              "      --fill-color: #1967D2;\n",
              "      --hover-bg-color: #E2EBFA;\n",
              "      --hover-fill-color: #174EA6;\n",
              "      --disabled-fill-color: #AAA;\n",
              "      --disabled-bg-color: #DDD;\n",
              "  }\n",
              "\n",
              "  [theme=dark] .colab-df-quickchart {\n",
              "      --bg-color: #3B4455;\n",
              "      --fill-color: #D2E3FC;\n",
              "      --hover-bg-color: #434B5C;\n",
              "      --hover-fill-color: #FFFFFF;\n",
              "      --disabled-bg-color: #3B4455;\n",
              "      --disabled-fill-color: #666;\n",
              "  }\n",
              "\n",
              "  .colab-df-quickchart {\n",
              "    background-color: var(--bg-color);\n",
              "    border: none;\n",
              "    border-radius: 50%;\n",
              "    cursor: pointer;\n",
              "    display: none;\n",
              "    fill: var(--fill-color);\n",
              "    height: 32px;\n",
              "    padding: 0;\n",
              "    width: 32px;\n",
              "  }\n",
              "\n",
              "  .colab-df-quickchart:hover {\n",
              "    background-color: var(--hover-bg-color);\n",
              "    box-shadow: 0 1px 2px rgba(60, 64, 67, 0.3), 0 1px 3px 1px rgba(60, 64, 67, 0.15);\n",
              "    fill: var(--button-hover-fill-color);\n",
              "  }\n",
              "\n",
              "  .colab-df-quickchart-complete:disabled,\n",
              "  .colab-df-quickchart-complete:disabled:hover {\n",
              "    background-color: var(--disabled-bg-color);\n",
              "    fill: var(--disabled-fill-color);\n",
              "    box-shadow: none;\n",
              "  }\n",
              "\n",
              "  .colab-df-spinner {\n",
              "    border: 2px solid var(--fill-color);\n",
              "    border-color: transparent;\n",
              "    border-bottom-color: var(--fill-color);\n",
              "    animation:\n",
              "      spin 1s steps(1) infinite;\n",
              "  }\n",
              "\n",
              "  @keyframes spin {\n",
              "    0% {\n",
              "      border-color: transparent;\n",
              "      border-bottom-color: var(--fill-color);\n",
              "      border-left-color: var(--fill-color);\n",
              "    }\n",
              "    20% {\n",
              "      border-color: transparent;\n",
              "      border-left-color: var(--fill-color);\n",
              "      border-top-color: var(--fill-color);\n",
              "    }\n",
              "    30% {\n",
              "      border-color: transparent;\n",
              "      border-left-color: var(--fill-color);\n",
              "      border-top-color: var(--fill-color);\n",
              "      border-right-color: var(--fill-color);\n",
              "    }\n",
              "    40% {\n",
              "      border-color: transparent;\n",
              "      border-right-color: var(--fill-color);\n",
              "      border-top-color: var(--fill-color);\n",
              "    }\n",
              "    60% {\n",
              "      border-color: transparent;\n",
              "      border-right-color: var(--fill-color);\n",
              "    }\n",
              "    80% {\n",
              "      border-color: transparent;\n",
              "      border-right-color: var(--fill-color);\n",
              "      border-bottom-color: var(--fill-color);\n",
              "    }\n",
              "    90% {\n",
              "      border-color: transparent;\n",
              "      border-bottom-color: var(--fill-color);\n",
              "    }\n",
              "  }\n",
              "</style>\n",
              "\n",
              "  <script>\n",
              "    async function quickchart(key) {\n",
              "      const quickchartButtonEl =\n",
              "        document.querySelector('#' + key + ' button');\n",
              "      quickchartButtonEl.disabled = true;  // To prevent multiple clicks.\n",
              "      quickchartButtonEl.classList.add('colab-df-spinner');\n",
              "      try {\n",
              "        const charts = await google.colab.kernel.invokeFunction(\n",
              "            'suggestCharts', [key], {});\n",
              "      } catch (error) {\n",
              "        console.error('Error during call to suggestCharts:', error);\n",
              "      }\n",
              "      quickchartButtonEl.classList.remove('colab-df-spinner');\n",
              "      quickchartButtonEl.classList.add('colab-df-quickchart-complete');\n",
              "    }\n",
              "    (() => {\n",
              "      let quickchartButtonEl =\n",
              "        document.querySelector('#df-b4276a87-3fa3-4a07-a8c8-a2b3901c4746 button');\n",
              "      quickchartButtonEl.style.display =\n",
              "        google.colab.kernel.accessAllowed ? 'block' : 'none';\n",
              "    })();\n",
              "  </script>\n",
              "</div>\n",
              "    </div>\n",
              "  </div>\n"
            ]
          },
          "metadata": {},
          "execution_count": 46
        }
      ]
    },
    {
      "cell_type": "markdown",
      "source": [
        "# **c. Preguntando por la suma y la media de los tratamientos**"
      ],
      "metadata": {
        "id": "ft02mk74yK1E"
      }
    },
    {
      "cell_type": "markdown",
      "source": [
        "## **c1. El Total de los tratamientos**"
      ],
      "metadata": {
        "id": "ummK7yOoIHPG"
      }
    },
    {
      "cell_type": "code",
      "source": [
        "df1[(df1[\"Combinacion\"]==\"A\")].sum()"
      ],
      "metadata": {
        "colab": {
          "base_uri": "https://localhost:8080/"
        },
        "id": "dJh8GCwo__kL",
        "outputId": "df6eedf4-0bac-4ca6-a010-5426f07b6e98"
      },
      "execution_count": 47,
      "outputs": [
        {
          "output_type": "execute_result",
          "data": {
            "text/plain": [
              "MOMENTO        M1M2M3M4M5M6\n",
              "OPERADOR       O1O2O4O3O5O6\n",
              "Combinacion          AAAAAA\n",
              "Intensidad              560\n",
              "dtype: object"
            ]
          },
          "metadata": {},
          "execution_count": 47
        }
      ]
    },
    {
      "cell_type": "code",
      "source": [
        "M, O,  C,   sum_A = (df1[(df1[\"Combinacion\"]==\"A\")].sum())\n",
        "M, O,  C,   sum_B = (df1[(df1[\"Combinacion\"]==\"B\")].sum())\n",
        "M, O,  C,   sum_C = (df1[(df1[\"Combinacion\"]==\"C\")].sum())\n",
        "M, O,  C,   sum_D = (df1[(df1[\"Combinacion\"]==\"D\")].sum())\n",
        "M, O,  C,   sum_E = (df1[(df1[\"Combinacion\"]==\"E\")].sum())\n",
        "M, O,  C,   sum_F = (df1[(df1[\"Combinacion\"]==\"F\")].sum())\n",
        "sum_Y_ij = sum_A + sum_B + sum_C + sum_D + sum_E + sum_F\n",
        "sum_Tr_2 = sum_A**2 + sum_B**2 + sum_C**2 + sum_D**2 + sum_E**2 + sum_F**2\n",
        "sum_Y2_ij = (df1['Intensidad']*df1['Intensidad']).sum()"
      ],
      "metadata": {
        "id": "bL_eW4F5DInG"
      },
      "execution_count": 48,
      "outputs": []
    },
    {
      "cell_type": "markdown",
      "source": [
        "## **c2. La media de los de los tratamientos**"
      ],
      "metadata": {
        "id": "PMAEDyi2IO6Q"
      }
    },
    {
      "cell_type": "code",
      "source": [
        "media_A = sum_A/6\n",
        "media_B = sum_B/6\n",
        "media_C = sum_C/6\n",
        "media_D = sum_D/6\n",
        "media_E = sum_E/6\n",
        "media_F = sum_F/6"
      ],
      "metadata": {
        "id": "_1T_7l2lDIrf"
      },
      "execution_count": 49,
      "outputs": []
    },
    {
      "cell_type": "markdown",
      "source": [
        "## **c3.Tabla Resumen**"
      ],
      "metadata": {
        "id": "4lGxWmBNIU5N"
      }
    },
    {
      "cell_type": "code",
      "source": [
        "# Tabla Resumen\n",
        "t1 = Texttable()\n",
        "t1.add_rows([['Tratamiento = T','suma_T','media_T', 'suma_T^2' ],\n",
        "           ['A',\tsum_A, media_A,\tsum_A**2],\n",
        "           ['B',\tsum_B, media_B,\tsum_B**2],\n",
        "           ['C',\tsum_C, media_C,\tsum_C**2],\n",
        "           ['D',\tsum_D, media_D,\tsum_D**2],\n",
        "           ['E',\tsum_E, media_E, sum_E**2],\n",
        "           ['F',\tsum_F, media_F, sum_F**2],\n",
        "           ['sum_Y_ij',\tsum_Y_ij, 'sum_Y_ij2', sum_Y_ij**2],\n",
        "           ['sum_Y2_ij',\tsum_Y2_ij, 'sum_Tr_2', sum_Tr_2]  ])\n",
        "print(t1.draw())"
      ],
      "metadata": {
        "colab": {
          "base_uri": "https://localhost:8080/"
        },
        "id": "pN_pIHbuDIvH",
        "outputId": "3af88caa-a966-472b-ee42-71fb5c211491"
      },
      "execution_count": 50,
      "outputs": [
        {
          "output_type": "stream",
          "name": "stdout",
          "text": [
            "+-----------------+--------+-----------+----------+\n",
            "| Tratamiento = T | suma_T |  media_T  | suma_T^2 |\n",
            "+=================+========+===========+==========+\n",
            "| A               | 560    | 93.333    | 313600   |\n",
            "+-----------------+--------+-----------+----------+\n",
            "| B               | 607    | 101.167   | 368449   |\n",
            "+-----------------+--------+-----------+----------+\n",
            "| C               | 646    | 107.667   | 417316   |\n",
            "+-----------------+--------+-----------+----------+\n",
            "| D               | 512    | 85.333    | 262144   |\n",
            "+-----------------+--------+-----------+----------+\n",
            "| E               | 528    | 88        | 278784   |\n",
            "+-----------------+--------+-----------+----------+\n",
            "| F               | 543    | 90.500    | 294849   |\n",
            "+-----------------+--------+-----------+----------+\n",
            "| sum_Y_ij        | 3396   | sum_Y_ij2 | 11532816 |\n",
            "+-----------------+--------+-----------+----------+\n",
            "| sum_Y2_ij       | 323154 | sum_Tr_2  | 1935142  |\n",
            "+-----------------+--------+-----------+----------+\n"
          ]
        }
      ]
    },
    {
      "cell_type": "markdown",
      "source": [
        "# **d. Preguntando por la suma y la media de los Bloques**"
      ],
      "metadata": {
        "id": "SWbbiRdrLrrj"
      }
    },
    {
      "cell_type": "code",
      "source": [
        "M, O,  C,   sum_M1 = (df1[(df1[\"MOMENTO\"]==\"M1\")].sum())\n",
        "M, O,  C,   sum_M2 = (df1[(df1[\"MOMENTO\"]==\"M2\")].sum())\n",
        "M, O,  C,   sum_M3 = (df1[(df1[\"MOMENTO\"]==\"M3\")].sum())\n",
        "M, O,  C,   sum_M4 = (df1[(df1[\"MOMENTO\"]==\"M4\")].sum())\n",
        "M, O,  C,   sum_M5 = (df1[(df1[\"MOMENTO\"]==\"M5\")].sum())\n",
        "M, O,  C,   sum_M6 = (df1[(df1[\"MOMENTO\"]==\"M6\")].sum())\n",
        "\n",
        "M, O,  C,   sum_O1 = (df1[(df1[\"OPERADOR\"]==\"O1\")].sum())\n",
        "M, O,  C,   sum_O2 = (df1[(df1[\"OPERADOR\"]==\"O2\")].sum())\n",
        "M, O,  C,   sum_O3 = (df1[(df1[\"OPERADOR\"]==\"O3\")].sum())\n",
        "M, O,  C,   sum_O4 = (df1[(df1[\"OPERADOR\"]==\"O4\")].sum())\n",
        "M, O,  C,   sum_O5 = (df1[(df1[\"OPERADOR\"]==\"O5\")].sum())\n",
        "M, O,  C,   sum_O6 = (df1[(df1[\"OPERADOR\"]==\"O6\")].sum())\n",
        "\n",
        "\n"
      ],
      "metadata": {
        "id": "n8wHcyo8LvoC"
      },
      "execution_count": 51,
      "outputs": []
    },
    {
      "cell_type": "markdown",
      "source": [
        "# **Paso_3. Anova del modelo 1**"
      ],
      "metadata": {
        "id": "xbwS2QNTNa9h"
      }
    },
    {
      "cell_type": "markdown",
      "source": [
        "## **a. Variabilidad y varianza de los tratamientos**"
      ],
      "metadata": {
        "id": "J-_3hDu19Yj1"
      }
    },
    {
      "cell_type": "code",
      "source": [
        "## **a. Variabilidad y varianza de los tratamientos**\n",
        "k = 6 # Total Tratamientos\n",
        "SCTr = sum_Tr_2/k - sum_Y_ij**2/k**2\n",
        "CMTr = SCTr/(k-1)\n",
        "print(f'Variabilidad de los tratamientos es SCTr = {SCTr}')\n",
        "print(f'Varianza de los tratamientos es CMTr = {CMTr}')"
      ],
      "metadata": {
        "colab": {
          "base_uri": "https://localhost:8080/"
        },
        "id": "OibclBPwLvsI",
        "outputId": "a9ce1ef6-2d4f-4f55-8e15-cbe83632d4e4"
      },
      "execution_count": 52,
      "outputs": [
        {
          "output_type": "stream",
          "name": "stdout",
          "text": [
            "Variabilidad de los tratamientos es SCTr = 2167.666666666686\n",
            "Varianza de los tratamientos es CMTr = 433.5333333333372\n"
          ]
        }
      ]
    },
    {
      "cell_type": "markdown",
      "source": [
        "## **b. Variabilidad y varianza de los Bloques**"
      ],
      "metadata": {
        "id": "5ZhMpry19rf9"
      }
    },
    {
      "cell_type": "code",
      "source": [
        "## **b. Variabilidad y varianza de los Bloques**\n",
        "SCB1 = (sum_M1**2+sum_M2**2+sum_M3**2+sum_M4**2+sum_M5**2+sum_M6**2)/k - sum_Y_ij**2/k**2\n",
        "CMB1 = SCB1/(k-1)\n",
        "print(f'Variabilidad de Bloque 1 es SCB1 = {SCB1}')\n",
        "print(f'Varianza de Bloque 1 e es CMB1 = {CMB1}')"
      ],
      "metadata": {
        "colab": {
          "base_uri": "https://localhost:8080/"
        },
        "id": "34ulIH3FLvw6",
        "outputId": "168335e1-0a99-4752-e8db-f8cc78cf2d30"
      },
      "execution_count": 53,
      "outputs": [
        {
          "output_type": "stream",
          "name": "stdout",
          "text": [
            "Variabilidad de Bloque 1 es SCB1 = 4.333333333313931\n",
            "Varianza de Bloque 1 e es CMB1 = 0.8666666666627861\n"
          ]
        }
      ]
    },
    {
      "cell_type": "code",
      "source": [
        "## **b. Variabilidad y varianza de los Bloques**\n",
        "SCB2 = (sum_O1**2+sum_O2**2+sum_O3**2+sum_O4**2+sum_O5**2+sum_O6**2)/k - sum_Y_ij**2/k**2\n",
        "CMB2 = SCB2/(k-1)\n",
        "print(f'Variabilidad de Bloque 2 es SCB2 = {SCB2}')\n",
        "print(f'Varianza de Bloque 2 e es CMB2 = {CMB2}')"
      ],
      "metadata": {
        "colab": {
          "base_uri": "https://localhost:8080/"
        },
        "id": "ZQBOW-s-PHkB",
        "outputId": "ff44bb93-6c30-44b3-d507-46badd6057a3"
      },
      "execution_count": 54,
      "outputs": [
        {
          "output_type": "stream",
          "name": "stdout",
          "text": [
            "Variabilidad de Bloque 2 es SCB2 = 428.0\n",
            "Varianza de Bloque 2 e es CMB2 = 85.6\n"
          ]
        }
      ]
    },
    {
      "cell_type": "markdown",
      "source": [
        "## **c. La variabilidad y varianza de los datos**"
      ],
      "metadata": {
        "id": "7gzmz_wU-cbs"
      }
    },
    {
      "cell_type": "code",
      "source": [
        "## **c. La variabilidad y varianza de los datos**\n",
        "SCT = sum_Y2_ij - sum_Y_ij**2/k**2\n",
        "CMT = SCT/(k**2-1)\n",
        "print(f'Variabilidad Total es SCT = {SCT}')\n",
        "print(f'Varianza Total es CMT  = {CMT}')"
      ],
      "metadata": {
        "colab": {
          "base_uri": "https://localhost:8080/"
        },
        "id": "YfHUpZ4yDIzL",
        "outputId": "e6ba0307-d431-449f-a6fe-245142d55fe9"
      },
      "execution_count": 55,
      "outputs": [
        {
          "output_type": "stream",
          "name": "stdout",
          "text": [
            "Variabilidad Total es SCT = 2798.0\n",
            "Varianza Total es CMT  = 79.94285714285714\n"
          ]
        }
      ]
    },
    {
      "cell_type": "markdown",
      "source": [
        "## **d. La variabilidad y varianza del Error**"
      ],
      "metadata": {
        "id": "63VwifVX-joe"
      }
    },
    {
      "cell_type": "code",
      "source": [
        "## **d. La variabilidad y varianza del Error**\n",
        "SCE = SCT - SCTr -SCB1 - SCB2\n",
        "CME = SCE/((k-2)*(k-1))\n",
        "print(f'Variabilidad del error es SCE = {SCE}')\n",
        "print(f'Varuanza del Error es  CME = {CME}')"
      ],
      "metadata": {
        "colab": {
          "base_uri": "https://localhost:8080/"
        },
        "id": "AbY8K_Y3QjyR",
        "outputId": "9202c071-b19b-4376-b954-a2a4140c52fe"
      },
      "execution_count": 56,
      "outputs": [
        {
          "output_type": "stream",
          "name": "stdout",
          "text": [
            "Variabilidad del error es SCE = 198.0\n",
            "Varuanza del Error es  CME = 9.9\n"
          ]
        }
      ]
    },
    {
      "cell_type": "markdown",
      "source": [
        "## **e. El Valor p para cada prueba del Anova**"
      ],
      "metadata": {
        "id": "0jxiOe3Z-8KO"
      }
    },
    {
      "cell_type": "code",
      "source": [
        "## **e. El Valor p para cada prueba del Anova**\n",
        "from scipy import stats\n",
        "F = stats.f(k-1,(k-3)*(k-1))\n",
        "\n",
        "valor_p1 = 1 - F.cdf(CMTr/CME)\n",
        "valor_p2 = 1 - F.cdf(CMB1/CME)\n",
        "valor_p3 = 1 - F.cdf(CMB2/CME)"
      ],
      "metadata": {
        "id": "JVGkXZKDPHxK"
      },
      "execution_count": 57,
      "outputs": []
    },
    {
      "cell_type": "markdown",
      "source": [
        "## **f. La Tabla Anova es**"
      ],
      "metadata": {
        "id": "XfV6_xsp_MFa"
      }
    },
    {
      "cell_type": "code",
      "source": [
        "## **f. La Tabla Anova es**\n",
        "t2 = Texttable()\n",
        "t2.add_rows([['Fuente','SS', 'g.l', 'MS', 'F', 'valor_p'],\n",
        "           ['Tratamiento',\tSCTr,\tk-1,\tCMTr,\tCMTr/CME, valor_p1],\n",
        "           ['MOMENTO',\tSCB1,\tk-1,\tCMB1,\tCMB1/CME, valor_p2],\n",
        "           ['OPERADOR',\tSCB2,\tk-1,\tCMB2,\tCMB2/CME, valor_p3],\n",
        "           ['Error',\tSCE,\t(k-2)*(k-1),\tCME, '', ''],\n",
        "           ['Total',\tSCT,\tk**2-1, '' , '', '']])\n",
        "print(t2.draw())"
      ],
      "metadata": {
        "colab": {
          "base_uri": "https://localhost:8080/"
        },
        "id": "e1CQLr_DPHoV",
        "outputId": "86be8d11-cb14-44a7-faa4-c4c38b8b2d7c"
      },
      "execution_count": 58,
      "outputs": [
        {
          "output_type": "stream",
          "name": "stdout",
          "text": [
            "+-------------+----------+-----+---------+--------+---------+\n",
            "|   Fuente    |    SS    | g.l |   MS    |   F    | valor_p |\n",
            "+=============+==========+=====+=========+========+=========+\n",
            "| Tratamiento | 2167.667 | 5   | 433.533 | 43.791 | 0.000   |\n",
            "+-------------+----------+-----+---------+--------+---------+\n",
            "| MOMENTO     | 4.333    | 5   | 0.867   | 0.088  | 0.993   |\n",
            "+-------------+----------+-----+---------+--------+---------+\n",
            "| OPERADOR    | 428      | 5   | 85.600  | 8.646  | 0.001   |\n",
            "+-------------+----------+-----+---------+--------+---------+\n",
            "| Error       | 198      | 20  | 9.900   |        |         |\n",
            "+-------------+----------+-----+---------+--------+---------+\n",
            "| Total       | 2798     | 35  |         |        |         |\n",
            "+-------------+----------+-----+---------+--------+---------+\n"
          ]
        }
      ]
    },
    {
      "cell_type": "markdown",
      "source": [
        "## **g. Prueba de rangos Múltiples**"
      ],
      "metadata": {
        "id": "4hZuDScKAnX8"
      }
    },
    {
      "cell_type": "markdown",
      "source": [
        "# **h. Prueba de Tukey**\n",
        "\n",
        "- $$Tukey_{DCL} = Q_{0.05,k,(k-2)(k-1)}\\sqrt{\\frac{CME}{k}}$$"
      ],
      "metadata": {
        "id": "wdVx92ggA-pM"
      }
    },
    {
      "cell_type": "markdown",
      "source": [
        "## **h1 Valor critico de la tabla de rango Estudentizado**"
      ],
      "metadata": {
        "id": "gKDTovsCFE1d"
      }
    },
    {
      "cell_type": "code",
      "source": [
        "## **h1 Valor critico de la tabla de rango Estudentizado**\n",
        "k = 6\n",
        "num = k-2; denom = (k-2)*(k-1)-2\n",
        "Q_Tukey = RST_Q[num][denom]\n",
        "print(f'El valor crítico de la tabla de Rango estudentizado es Q_Tukey = {Q_Tukey}')"
      ],
      "metadata": {
        "colab": {
          "base_uri": "https://localhost:8080/"
        },
        "id": "ui6V6K4yD-sE",
        "outputId": "610ca2ff-a6b1-421e-f086-638326f7d727"
      },
      "execution_count": 59,
      "outputs": [
        {
          "output_type": "stream",
          "name": "stdout",
          "text": [
            "El valor crítico de la tabla de Rango estudentizado es Q_Tukey = 4.45\n"
          ]
        }
      ]
    },
    {
      "cell_type": "markdown",
      "source": [
        "## **h2. Los Límites de los intervalos de Tukey es**"
      ],
      "metadata": {
        "id": "0kmQ_LAPFhyo"
      }
    },
    {
      "cell_type": "code",
      "source": [
        "Tukey_DCL = Q_Tukey*((CME/k)**0.5)\n",
        "print(f'El valor para el intervalo de confianza de Tukey es Tukey_DCL = {Tukey_DCL}')\n"
      ],
      "metadata": {
        "colab": {
          "base_uri": "https://localhost:8080/"
        },
        "id": "2L1IM9HUFqhW",
        "outputId": "d875b6a5-d6ce-4ed2-fc37-cd85b5504dc7"
      },
      "execution_count": 60,
      "outputs": [
        {
          "output_type": "stream",
          "name": "stdout",
          "text": [
            "El valor para el intervalo de confianza de Tukey es Tukey_DCL = 5.7161284975059825\n"
          ]
        }
      ]
    },
    {
      "cell_type": "markdown",
      "source": [
        "## **h3. Prueba HSD de Tukey manual**"
      ],
      "metadata": {
        "id": "PsPn46UEJjel"
      }
    },
    {
      "cell_type": "code",
      "source": [
        "HSD = Texttable()\n",
        "HSD.add_rows ([['Tratamiento','valor absoluto diferencia Media', 'Tukey', 'HAY DIFERENCIAS: 1 = SI, 0 = NO','LINF', 'LSUP' ],\n",
        "  ['A-B', abs(media_A-media_B)\t,\tTukey_DCL,\tabs(media_A-media_B)>Tukey_DCL, media_A-media_B-Tukey_DCL, media_A-media_B +Tukey_DCL],\n",
        "  ['A-C', abs(media_A-media_C)\t,\tTukey_DCL,\tabs(media_A-media_C)>Tukey_DCL, media_A-media_C-Tukey_DCL, media_A-media_C +Tukey_DCL],\n",
        "  ['A-D', abs(media_A-media_D)\t,\tTukey_DCL,\tabs(media_A-media_D)>Tukey_DCL, media_A-media_D-Tukey_DCL, media_A-media_D +Tukey_DCL],\n",
        "  ['A-E', abs(media_A-media_E)\t,\tTukey_DCL,\tabs(media_A-media_E)>Tukey_DCL, media_A-media_E-Tukey_DCL, media_A-media_E +Tukey_DCL],\n",
        "  ['A-F', abs(media_A-media_F)\t,\tTukey_DCL,\tabs(media_A-media_F)>Tukey_DCL, media_A-media_F-Tukey_DCL, media_A-media_F +Tukey_DCL],\n",
        "  ['B-C', abs(media_B-media_C)\t,\tTukey_DCL,\tabs(media_B-media_C)>Tukey_DCL, media_B-media_C-Tukey_DCL, media_B-media_C +Tukey_DCL],\n",
        "  ['B-D', abs(media_B-media_D)\t,\tTukey_DCL,\tabs(media_B-media_D)>Tukey_DCL, media_B-media_D-Tukey_DCL, media_B-media_D +Tukey_DCL],\n",
        "  ['B-E', abs(media_B-media_E)\t,\tTukey_DCL,\tabs(media_B-media_E)>Tukey_DCL, media_B-media_E-Tukey_DCL, media_B-media_E +Tukey_DCL],\n",
        "  ['B-F', abs(media_B-media_F)\t,\tTukey_DCL,\tabs(media_B-media_F)>Tukey_DCL, media_B-media_F-Tukey_DCL, media_B-media_F +Tukey_DCL],\n",
        "  ['C-D', abs(media_C-media_D)\t,\tTukey_DCL,\tabs(media_C-media_D)>Tukey_DCL, media_C-media_D-Tukey_DCL, media_C-media_D +Tukey_DCL],\n",
        "  ['C-E', abs(media_C-media_E)\t,\tTukey_DCL,\tabs(media_C-media_E)>Tukey_DCL, media_C-media_E-Tukey_DCL, media_C-media_E +Tukey_DCL],\n",
        "  ['C-F', abs(media_C-media_F)\t,\tTukey_DCL,\tabs(media_C-media_F)>Tukey_DCL, media_C-media_F-Tukey_DCL, media_C-media_F +Tukey_DCL],\n",
        "  ['D-E', abs(media_D-media_E)\t,\tTukey_DCL,\tabs(media_D-media_E)>Tukey_DCL, media_D-media_E-Tukey_DCL, media_D-media_E +Tukey_DCL],\n",
        "  ['D-F', abs(media_D-media_F)\t,\tTukey_DCL,\tabs(media_D-media_F)>Tukey_DCL, media_D-media_F-Tukey_DCL, media_D-media_F +Tukey_DCL],\n",
        "  ['E-F', abs(media_E-media_F)\t,\tTukey_DCL,\tabs(media_E-media_F)>Tukey_DCL, media_E-media_F-Tukey_DCL, media_E-media_F +Tukey_DCL]])\n",
        "print(HSD.draw())"
      ],
      "metadata": {
        "colab": {
          "base_uri": "https://localhost:8080/"
        },
        "id": "FVQA0SElDI3L",
        "outputId": "9e730e00-883f-4b26-e3e8-628ca6d168bd"
      },
      "execution_count": 61,
      "outputs": [
        {
          "output_type": "stream",
          "name": "stdout",
          "text": [
            "+-------------+------------------+-------+------------------+---------+--------+\n",
            "| Tratamiento |  valor absoluto  | Tukey | HAY DIFERENCIAS: |  LINF   |  LSUP  |\n",
            "|             | diferencia Media |       |  1 = SI, 0 = NO  |         |        |\n",
            "+=============+==================+=======+==================+=========+========+\n",
            "| A-B         | 7.833            | 5.716 | 1                | -13.549 | -2.117 |\n",
            "+-------------+------------------+-------+------------------+---------+--------+\n",
            "| A-C         | 14.333           | 5.716 | 1                | -20.049 | -8.617 |\n",
            "+-------------+------------------+-------+------------------+---------+--------+\n",
            "| A-D         | 8                | 5.716 | 1                | 2.284   | 13.716 |\n",
            "+-------------+------------------+-------+------------------+---------+--------+\n",
            "| A-E         | 5.333            | 5.716 | 0                | -0.383  | 11.049 |\n",
            "+-------------+------------------+-------+------------------+---------+--------+\n",
            "| A-F         | 2.833            | 5.716 | 0                | -2.883  | 8.549  |\n",
            "+-------------+------------------+-------+------------------+---------+--------+\n",
            "| B-C         | 6.500            | 5.716 | 1                | -12.216 | -0.784 |\n",
            "+-------------+------------------+-------+------------------+---------+--------+\n",
            "| B-D         | 15.833           | 5.716 | 1                | 10.117  | 21.549 |\n",
            "+-------------+------------------+-------+------------------+---------+--------+\n",
            "| B-E         | 13.167           | 5.716 | 1                | 7.451   | 18.883 |\n",
            "+-------------+------------------+-------+------------------+---------+--------+\n",
            "| B-F         | 10.667           | 5.716 | 1                | 4.951   | 16.383 |\n",
            "+-------------+------------------+-------+------------------+---------+--------+\n",
            "| C-D         | 22.333           | 5.716 | 1                | 16.617  | 28.049 |\n",
            "+-------------+------------------+-------+------------------+---------+--------+\n",
            "| C-E         | 19.667           | 5.716 | 1                | 13.951  | 25.383 |\n",
            "+-------------+------------------+-------+------------------+---------+--------+\n",
            "| C-F         | 17.167           | 5.716 | 1                | 11.451  | 22.883 |\n",
            "+-------------+------------------+-------+------------------+---------+--------+\n",
            "| D-E         | 2.667            | 5.716 | 0                | -8.383  | 3.049  |\n",
            "+-------------+------------------+-------+------------------+---------+--------+\n",
            "| D-F         | 5.167            | 5.716 | 0                | -10.883 | 0.549  |\n",
            "+-------------+------------------+-------+------------------+---------+--------+\n",
            "| E-F         | 2.500            | 5.716 | 0                | -8.216  | 3.216  |\n",
            "+-------------+------------------+-------+------------------+---------+--------+\n"
          ]
        }
      ]
    },
    {
      "cell_type": "markdown",
      "source": [
        "![image.png](data:image/png;base64,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)"
      ],
      "metadata": {
        "id": "L_cvoO_HYMD4"
      }
    },
    {
      "cell_type": "markdown",
      "source": [
        "# **Paso_3. El Modelo a estudiar**\n",
        "$$Y_{ij} = μ + Filtro_i +Ruido_j + (FR)_{ij} + Momento_k + Operador_k + 𝛆_{ijkl}$$"
      ],
      "metadata": {
        "id": "Ttk9q3mOLbiK"
      }
    },
    {
      "cell_type": "markdown",
      "source": [
        "## **a. Construimos el DataFrame**"
      ],
      "metadata": {
        "id": "Pbj4k1_4yRG_"
      }
    },
    {
      "cell_type": "code",
      "source": [
        "## **b. El DataFrame**\n",
        "df = pd.DataFrame({'MOMENTO':MOMENTO,'OPERADOR':OPERADOR , 'FILTRO':FILTRO,'RUIDO':RUIDO , 'Intensidad':Intensidad})\n",
        "df.head(12)"
      ],
      "metadata": {
        "colab": {
          "base_uri": "https://localhost:8080/",
          "height": 425
        },
        "id": "62d6kWTquNwO",
        "outputId": "c35229e6-6b21-46b1-8112-cf0892a4eefb"
      },
      "execution_count": 62,
      "outputs": [
        {
          "output_type": "execute_result",
          "data": {
            "text/plain": [
              "   MOMENTO OPERADOR FILTRO RUIDO  Intensidad\n",
              "0       M1       O1     F1    R1          90\n",
              "1       M1       O2     F1    R2         106\n",
              "2       M1       O3     F1    R3         108\n",
              "3       M1       O4     F2    R1          81\n",
              "4       M1       O5     F2    R3          90\n",
              "5       M1       O6     F2    R2          88\n",
              "6       M2       O1     F1    R3         114\n",
              "7       M2       O2     F1    R1          96\n",
              "8       M2       O3     F1    R2         105\n",
              "9       M2       O4     F2    R3          83\n",
              "10      M2       O5     F2    R2          86\n",
              "11      M2       O6     F2    R1          84"
            ],
            "text/html": [
              "\n",
              "  <div id=\"df-ad23d6c9-708d-44d2-874b-8eff61b4c498\" class=\"colab-df-container\">\n",
              "    <div>\n",
              "<style scoped>\n",
              "    .dataframe tbody tr th:only-of-type {\n",
              "        vertical-align: middle;\n",
              "    }\n",
              "\n",
              "    .dataframe tbody tr th {\n",
              "        vertical-align: top;\n",
              "    }\n",
              "\n",
              "    .dataframe thead th {\n",
              "        text-align: right;\n",
              "    }\n",
              "</style>\n",
              "<table border=\"1\" class=\"dataframe\">\n",
              "  <thead>\n",
              "    <tr style=\"text-align: right;\">\n",
              "      <th></th>\n",
              "      <th>MOMENTO</th>\n",
              "      <th>OPERADOR</th>\n",
              "      <th>FILTRO</th>\n",
              "      <th>RUIDO</th>\n",
              "      <th>Intensidad</th>\n",
              "    </tr>\n",
              "  </thead>\n",
              "  <tbody>\n",
              "    <tr>\n",
              "      <th>0</th>\n",
              "      <td>M1</td>\n",
              "      <td>O1</td>\n",
              "      <td>F1</td>\n",
              "      <td>R1</td>\n",
              "      <td>90</td>\n",
              "    </tr>\n",
              "    <tr>\n",
              "      <th>1</th>\n",
              "      <td>M1</td>\n",
              "      <td>O2</td>\n",
              "      <td>F1</td>\n",
              "      <td>R2</td>\n",
              "      <td>106</td>\n",
              "    </tr>\n",
              "    <tr>\n",
              "      <th>2</th>\n",
              "      <td>M1</td>\n",
              "      <td>O3</td>\n",
              "      <td>F1</td>\n",
              "      <td>R3</td>\n",
              "      <td>108</td>\n",
              "    </tr>\n",
              "    <tr>\n",
              "      <th>3</th>\n",
              "      <td>M1</td>\n",
              "      <td>O4</td>\n",
              "      <td>F2</td>\n",
              "      <td>R1</td>\n",
              "      <td>81</td>\n",
              "    </tr>\n",
              "    <tr>\n",
              "      <th>4</th>\n",
              "      <td>M1</td>\n",
              "      <td>O5</td>\n",
              "      <td>F2</td>\n",
              "      <td>R3</td>\n",
              "      <td>90</td>\n",
              "    </tr>\n",
              "    <tr>\n",
              "      <th>5</th>\n",
              "      <td>M1</td>\n",
              "      <td>O6</td>\n",
              "      <td>F2</td>\n",
              "      <td>R2</td>\n",
              "      <td>88</td>\n",
              "    </tr>\n",
              "    <tr>\n",
              "      <th>6</th>\n",
              "      <td>M2</td>\n",
              "      <td>O1</td>\n",
              "      <td>F1</td>\n",
              "      <td>R3</td>\n",
              "      <td>114</td>\n",
              "    </tr>\n",
              "    <tr>\n",
              "      <th>7</th>\n",
              "      <td>M2</td>\n",
              "      <td>O2</td>\n",
              "      <td>F1</td>\n",
              "      <td>R1</td>\n",
              "      <td>96</td>\n",
              "    </tr>\n",
              "    <tr>\n",
              "      <th>8</th>\n",
              "      <td>M2</td>\n",
              "      <td>O3</td>\n",
              "      <td>F1</td>\n",
              "      <td>R2</td>\n",
              "      <td>105</td>\n",
              "    </tr>\n",
              "    <tr>\n",
              "      <th>9</th>\n",
              "      <td>M2</td>\n",
              "      <td>O4</td>\n",
              "      <td>F2</td>\n",
              "      <td>R3</td>\n",
              "      <td>83</td>\n",
              "    </tr>\n",
              "    <tr>\n",
              "      <th>10</th>\n",
              "      <td>M2</td>\n",
              "      <td>O5</td>\n",
              "      <td>F2</td>\n",
              "      <td>R2</td>\n",
              "      <td>86</td>\n",
              "    </tr>\n",
              "    <tr>\n",
              "      <th>11</th>\n",
              "      <td>M2</td>\n",
              "      <td>O6</td>\n",
              "      <td>F2</td>\n",
              "      <td>R1</td>\n",
              "      <td>84</td>\n",
              "    </tr>\n",
              "  </tbody>\n",
              "</table>\n",
              "</div>\n",
              "    <div class=\"colab-df-buttons\">\n",
              "\n",
              "  <div class=\"colab-df-container\">\n",
              "    <button class=\"colab-df-convert\" onclick=\"convertToInteractive('df-ad23d6c9-708d-44d2-874b-8eff61b4c498')\"\n",
              "            title=\"Convert this dataframe to an interactive table.\"\n",
              "            style=\"display:none;\">\n",
              "\n",
              "  <svg xmlns=\"http://www.w3.org/2000/svg\" height=\"24px\" viewBox=\"0 -960 960 960\">\n",
              "    <path d=\"M120-120v-720h720v720H120Zm60-500h600v-160H180v160Zm220 220h160v-160H400v160Zm0 220h160v-160H400v160ZM180-400h160v-160H180v160Zm440 0h160v-160H620v160ZM180-180h160v-160H180v160Zm440 0h160v-160H620v160Z\"/>\n",
              "  </svg>\n",
              "    </button>\n",
              "\n",
              "  <style>\n",
              "    .colab-df-container {\n",
              "      display:flex;\n",
              "      gap: 12px;\n",
              "    }\n",
              "\n",
              "    .colab-df-convert {\n",
              "      background-color: #E8F0FE;\n",
              "      border: none;\n",
              "      border-radius: 50%;\n",
              "      cursor: pointer;\n",
              "      display: none;\n",
              "      fill: #1967D2;\n",
              "      height: 32px;\n",
              "      padding: 0 0 0 0;\n",
              "      width: 32px;\n",
              "    }\n",
              "\n",
              "    .colab-df-convert:hover {\n",
              "      background-color: #E2EBFA;\n",
              "      box-shadow: 0px 1px 2px rgba(60, 64, 67, 0.3), 0px 1px 3px 1px rgba(60, 64, 67, 0.15);\n",
              "      fill: #174EA6;\n",
              "    }\n",
              "\n",
              "    .colab-df-buttons div {\n",
              "      margin-bottom: 4px;\n",
              "    }\n",
              "\n",
              "    [theme=dark] .colab-df-convert {\n",
              "      background-color: #3B4455;\n",
              "      fill: #D2E3FC;\n",
              "    }\n",
              "\n",
              "    [theme=dark] .colab-df-convert:hover {\n",
              "      background-color: #434B5C;\n",
              "      box-shadow: 0px 1px 3px 1px rgba(0, 0, 0, 0.15);\n",
              "      filter: drop-shadow(0px 1px 2px rgba(0, 0, 0, 0.3));\n",
              "      fill: #FFFFFF;\n",
              "    }\n",
              "  </style>\n",
              "\n",
              "    <script>\n",
              "      const buttonEl =\n",
              "        document.querySelector('#df-ad23d6c9-708d-44d2-874b-8eff61b4c498 button.colab-df-convert');\n",
              "      buttonEl.style.display =\n",
              "        google.colab.kernel.accessAllowed ? 'block' : 'none';\n",
              "\n",
              "      async function convertToInteractive(key) {\n",
              "        const element = document.querySelector('#df-ad23d6c9-708d-44d2-874b-8eff61b4c498');\n",
              "        const dataTable =\n",
              "          await google.colab.kernel.invokeFunction('convertToInteractive',\n",
              "                                                    [key], {});\n",
              "        if (!dataTable) return;\n",
              "\n",
              "        const docLinkHtml = 'Like what you see? Visit the ' +\n",
              "          '<a target=\"_blank\" href=https://colab.research.google.com/notebooks/data_table.ipynb>data table notebook</a>'\n",
              "          + ' to learn more about interactive tables.';\n",
              "        element.innerHTML = '';\n",
              "        dataTable['output_type'] = 'display_data';\n",
              "        await google.colab.output.renderOutput(dataTable, element);\n",
              "        const docLink = document.createElement('div');\n",
              "        docLink.innerHTML = docLinkHtml;\n",
              "        element.appendChild(docLink);\n",
              "      }\n",
              "    </script>\n",
              "  </div>\n",
              "\n",
              "\n",
              "<div id=\"df-cf4112f1-dcdd-4ded-8bd0-68e7216b4a3c\">\n",
              "  <button class=\"colab-df-quickchart\" onclick=\"quickchart('df-cf4112f1-dcdd-4ded-8bd0-68e7216b4a3c')\"\n",
              "            title=\"Suggest charts.\"\n",
              "            style=\"display:none;\">\n",
              "\n",
              "<svg xmlns=\"http://www.w3.org/2000/svg\" height=\"24px\"viewBox=\"0 0 24 24\"\n",
              "     width=\"24px\">\n",
              "    <g>\n",
              "        <path d=\"M19 3H5c-1.1 0-2 .9-2 2v14c0 1.1.9 2 2 2h14c1.1 0 2-.9 2-2V5c0-1.1-.9-2-2-2zM9 17H7v-7h2v7zm4 0h-2V7h2v10zm4 0h-2v-4h2v4z\"/>\n",
              "    </g>\n",
              "</svg>\n",
              "  </button>\n",
              "\n",
              "<style>\n",
              "  .colab-df-quickchart {\n",
              "      --bg-color: #E8F0FE;\n",
              "      --fill-color: #1967D2;\n",
              "      --hover-bg-color: #E2EBFA;\n",
              "      --hover-fill-color: #174EA6;\n",
              "      --disabled-fill-color: #AAA;\n",
              "      --disabled-bg-color: #DDD;\n",
              "  }\n",
              "\n",
              "  [theme=dark] .colab-df-quickchart {\n",
              "      --bg-color: #3B4455;\n",
              "      --fill-color: #D2E3FC;\n",
              "      --hover-bg-color: #434B5C;\n",
              "      --hover-fill-color: #FFFFFF;\n",
              "      --disabled-bg-color: #3B4455;\n",
              "      --disabled-fill-color: #666;\n",
              "  }\n",
              "\n",
              "  .colab-df-quickchart {\n",
              "    background-color: var(--bg-color);\n",
              "    border: none;\n",
              "    border-radius: 50%;\n",
              "    cursor: pointer;\n",
              "    display: none;\n",
              "    fill: var(--fill-color);\n",
              "    height: 32px;\n",
              "    padding: 0;\n",
              "    width: 32px;\n",
              "  }\n",
              "\n",
              "  .colab-df-quickchart:hover {\n",
              "    background-color: var(--hover-bg-color);\n",
              "    box-shadow: 0 1px 2px rgba(60, 64, 67, 0.3), 0 1px 3px 1px rgba(60, 64, 67, 0.15);\n",
              "    fill: var(--button-hover-fill-color);\n",
              "  }\n",
              "\n",
              "  .colab-df-quickchart-complete:disabled,\n",
              "  .colab-df-quickchart-complete:disabled:hover {\n",
              "    background-color: var(--disabled-bg-color);\n",
              "    fill: var(--disabled-fill-color);\n",
              "    box-shadow: none;\n",
              "  }\n",
              "\n",
              "  .colab-df-spinner {\n",
              "    border: 2px solid var(--fill-color);\n",
              "    border-color: transparent;\n",
              "    border-bottom-color: var(--fill-color);\n",
              "    animation:\n",
              "      spin 1s steps(1) infinite;\n",
              "  }\n",
              "\n",
              "  @keyframes spin {\n",
              "    0% {\n",
              "      border-color: transparent;\n",
              "      border-bottom-color: var(--fill-color);\n",
              "      border-left-color: var(--fill-color);\n",
              "    }\n",
              "    20% {\n",
              "      border-color: transparent;\n",
              "      border-left-color: var(--fill-color);\n",
              "      border-top-color: var(--fill-color);\n",
              "    }\n",
              "    30% {\n",
              "      border-color: transparent;\n",
              "      border-left-color: var(--fill-color);\n",
              "      border-top-color: var(--fill-color);\n",
              "      border-right-color: var(--fill-color);\n",
              "    }\n",
              "    40% {\n",
              "      border-color: transparent;\n",
              "      border-right-color: var(--fill-color);\n",
              "      border-top-color: var(--fill-color);\n",
              "    }\n",
              "    60% {\n",
              "      border-color: transparent;\n",
              "      border-right-color: var(--fill-color);\n",
              "    }\n",
              "    80% {\n",
              "      border-color: transparent;\n",
              "      border-right-color: var(--fill-color);\n",
              "      border-bottom-color: var(--fill-color);\n",
              "    }\n",
              "    90% {\n",
              "      border-color: transparent;\n",
              "      border-bottom-color: var(--fill-color);\n",
              "    }\n",
              "  }\n",
              "</style>\n",
              "\n",
              "  <script>\n",
              "    async function quickchart(key) {\n",
              "      const quickchartButtonEl =\n",
              "        document.querySelector('#' + key + ' button');\n",
              "      quickchartButtonEl.disabled = true;  // To prevent multiple clicks.\n",
              "      quickchartButtonEl.classList.add('colab-df-spinner');\n",
              "      try {\n",
              "        const charts = await google.colab.kernel.invokeFunction(\n",
              "            'suggestCharts', [key], {});\n",
              "      } catch (error) {\n",
              "        console.error('Error during call to suggestCharts:', error);\n",
              "      }\n",
              "      quickchartButtonEl.classList.remove('colab-df-spinner');\n",
              "      quickchartButtonEl.classList.add('colab-df-quickchart-complete');\n",
              "    }\n",
              "    (() => {\n",
              "      let quickchartButtonEl =\n",
              "        document.querySelector('#df-cf4112f1-dcdd-4ded-8bd0-68e7216b4a3c button');\n",
              "      quickchartButtonEl.style.display =\n",
              "        google.colab.kernel.accessAllowed ? 'block' : 'none';\n",
              "    })();\n",
              "  </script>\n",
              "</div>\n",
              "    </div>\n",
              "  </div>\n"
            ]
          },
          "metadata": {},
          "execution_count": 62
        }
      ]
    },
    {
      "cell_type": "markdown",
      "source": [
        "## **b. Preguntando por un medida de una combinación de niveles**"
      ],
      "metadata": {
        "id": "KbErUi2OybDa"
      }
    },
    {
      "cell_type": "code",
      "source": [
        "df[(df[\"FILTRO\"]==\"F1\") & (df[\"RUIDO\"]==\"R1\")]"
      ],
      "metadata": {
        "colab": {
          "base_uri": "https://localhost:8080/",
          "height": 237
        },
        "id": "Wq-l3c-s6PJd",
        "outputId": "a3a65cc8-4a88-4e85-ab54-78b915baf913"
      },
      "execution_count": 63,
      "outputs": [
        {
          "output_type": "execute_result",
          "data": {
            "text/plain": [
              "   MOMENTO OPERADOR FILTRO RUIDO  Intensidad\n",
              "0       M1       O1     F1    R1          90\n",
              "7       M2       O2     F1    R1          96\n",
              "15      M3       O4     F1    R1          92\n",
              "20      M4       O3     F1    R1         100\n",
              "28      M5       O5     F1    R1          90\n",
              "35      M6       O6     F1    R1          92"
            ],
            "text/html": [
              "\n",
              "  <div id=\"df-a70bfede-adab-4337-8290-c80f62ee60ee\" class=\"colab-df-container\">\n",
              "    <div>\n",
              "<style scoped>\n",
              "    .dataframe tbody tr th:only-of-type {\n",
              "        vertical-align: middle;\n",
              "    }\n",
              "\n",
              "    .dataframe tbody tr th {\n",
              "        vertical-align: top;\n",
              "    }\n",
              "\n",
              "    .dataframe thead th {\n",
              "        text-align: right;\n",
              "    }\n",
              "</style>\n",
              "<table border=\"1\" class=\"dataframe\">\n",
              "  <thead>\n",
              "    <tr style=\"text-align: right;\">\n",
              "      <th></th>\n",
              "      <th>MOMENTO</th>\n",
              "      <th>OPERADOR</th>\n",
              "      <th>FILTRO</th>\n",
              "      <th>RUIDO</th>\n",
              "      <th>Intensidad</th>\n",
              "    </tr>\n",
              "  </thead>\n",
              "  <tbody>\n",
              "    <tr>\n",
              "      <th>0</th>\n",
              "      <td>M1</td>\n",
              "      <td>O1</td>\n",
              "      <td>F1</td>\n",
              "      <td>R1</td>\n",
              "      <td>90</td>\n",
              "    </tr>\n",
              "    <tr>\n",
              "      <th>7</th>\n",
              "      <td>M2</td>\n",
              "      <td>O2</td>\n",
              "      <td>F1</td>\n",
              "      <td>R1</td>\n",
              "      <td>96</td>\n",
              "    </tr>\n",
              "    <tr>\n",
              "      <th>15</th>\n",
              "      <td>M3</td>\n",
              "      <td>O4</td>\n",
              "      <td>F1</td>\n",
              "      <td>R1</td>\n",
              "      <td>92</td>\n",
              "    </tr>\n",
              "    <tr>\n",
              "      <th>20</th>\n",
              "      <td>M4</td>\n",
              "      <td>O3</td>\n",
              "      <td>F1</td>\n",
              "      <td>R1</td>\n",
              "      <td>100</td>\n",
              "    </tr>\n",
              "    <tr>\n",
              "      <th>28</th>\n",
              "      <td>M5</td>\n",
              "      <td>O5</td>\n",
              "      <td>F1</td>\n",
              "      <td>R1</td>\n",
              "      <td>90</td>\n",
              "    </tr>\n",
              "    <tr>\n",
              "      <th>35</th>\n",
              "      <td>M6</td>\n",
              "      <td>O6</td>\n",
              "      <td>F1</td>\n",
              "      <td>R1</td>\n",
              "      <td>92</td>\n",
              "    </tr>\n",
              "  </tbody>\n",
              "</table>\n",
              "</div>\n",
              "    <div class=\"colab-df-buttons\">\n",
              "\n",
              "  <div class=\"colab-df-container\">\n",
              "    <button class=\"colab-df-convert\" onclick=\"convertToInteractive('df-a70bfede-adab-4337-8290-c80f62ee60ee')\"\n",
              "            title=\"Convert this dataframe to an interactive table.\"\n",
              "            style=\"display:none;\">\n",
              "\n",
              "  <svg xmlns=\"http://www.w3.org/2000/svg\" height=\"24px\" viewBox=\"0 -960 960 960\">\n",
              "    <path d=\"M120-120v-720h720v720H120Zm60-500h600v-160H180v160Zm220 220h160v-160H400v160Zm0 220h160v-160H400v160ZM180-400h160v-160H180v160Zm440 0h160v-160H620v160ZM180-180h160v-160H180v160Zm440 0h160v-160H620v160Z\"/>\n",
              "  </svg>\n",
              "    </button>\n",
              "\n",
              "  <style>\n",
              "    .colab-df-container {\n",
              "      display:flex;\n",
              "      gap: 12px;\n",
              "    }\n",
              "\n",
              "    .colab-df-convert {\n",
              "      background-color: #E8F0FE;\n",
              "      border: none;\n",
              "      border-radius: 50%;\n",
              "      cursor: pointer;\n",
              "      display: none;\n",
              "      fill: #1967D2;\n",
              "      height: 32px;\n",
              "      padding: 0 0 0 0;\n",
              "      width: 32px;\n",
              "    }\n",
              "\n",
              "    .colab-df-convert:hover {\n",
              "      background-color: #E2EBFA;\n",
              "      box-shadow: 0px 1px 2px rgba(60, 64, 67, 0.3), 0px 1px 3px 1px rgba(60, 64, 67, 0.15);\n",
              "      fill: #174EA6;\n",
              "    }\n",
              "\n",
              "    .colab-df-buttons div {\n",
              "      margin-bottom: 4px;\n",
              "    }\n",
              "\n",
              "    [theme=dark] .colab-df-convert {\n",
              "      background-color: #3B4455;\n",
              "      fill: #D2E3FC;\n",
              "    }\n",
              "\n",
              "    [theme=dark] .colab-df-convert:hover {\n",
              "      background-color: #434B5C;\n",
              "      box-shadow: 0px 1px 3px 1px rgba(0, 0, 0, 0.15);\n",
              "      filter: drop-shadow(0px 1px 2px rgba(0, 0, 0, 0.3));\n",
              "      fill: #FFFFFF;\n",
              "    }\n",
              "  </style>\n",
              "\n",
              "    <script>\n",
              "      const buttonEl =\n",
              "        document.querySelector('#df-a70bfede-adab-4337-8290-c80f62ee60ee button.colab-df-convert');\n",
              "      buttonEl.style.display =\n",
              "        google.colab.kernel.accessAllowed ? 'block' : 'none';\n",
              "\n",
              "      async function convertToInteractive(key) {\n",
              "        const element = document.querySelector('#df-a70bfede-adab-4337-8290-c80f62ee60ee');\n",
              "        const dataTable =\n",
              "          await google.colab.kernel.invokeFunction('convertToInteractive',\n",
              "                                                    [key], {});\n",
              "        if (!dataTable) return;\n",
              "\n",
              "        const docLinkHtml = 'Like what you see? Visit the ' +\n",
              "          '<a target=\"_blank\" href=https://colab.research.google.com/notebooks/data_table.ipynb>data table notebook</a>'\n",
              "          + ' to learn more about interactive tables.';\n",
              "        element.innerHTML = '';\n",
              "        dataTable['output_type'] = 'display_data';\n",
              "        await google.colab.output.renderOutput(dataTable, element);\n",
              "        const docLink = document.createElement('div');\n",
              "        docLink.innerHTML = docLinkHtml;\n",
              "        element.appendChild(docLink);\n",
              "      }\n",
              "    </script>\n",
              "  </div>\n",
              "\n",
              "\n",
              "<div id=\"df-49fb55a7-cd55-469c-897d-db117ad6f122\">\n",
              "  <button class=\"colab-df-quickchart\" onclick=\"quickchart('df-49fb55a7-cd55-469c-897d-db117ad6f122')\"\n",
              "            title=\"Suggest charts.\"\n",
              "            style=\"display:none;\">\n",
              "\n",
              "<svg xmlns=\"http://www.w3.org/2000/svg\" height=\"24px\"viewBox=\"0 0 24 24\"\n",
              "     width=\"24px\">\n",
              "    <g>\n",
              "        <path d=\"M19 3H5c-1.1 0-2 .9-2 2v14c0 1.1.9 2 2 2h14c1.1 0 2-.9 2-2V5c0-1.1-.9-2-2-2zM9 17H7v-7h2v7zm4 0h-2V7h2v10zm4 0h-2v-4h2v4z\"/>\n",
              "    </g>\n",
              "</svg>\n",
              "  </button>\n",
              "\n",
              "<style>\n",
              "  .colab-df-quickchart {\n",
              "      --bg-color: #E8F0FE;\n",
              "      --fill-color: #1967D2;\n",
              "      --hover-bg-color: #E2EBFA;\n",
              "      --hover-fill-color: #174EA6;\n",
              "      --disabled-fill-color: #AAA;\n",
              "      --disabled-bg-color: #DDD;\n",
              "  }\n",
              "\n",
              "  [theme=dark] .colab-df-quickchart {\n",
              "      --bg-color: #3B4455;\n",
              "      --fill-color: #D2E3FC;\n",
              "      --hover-bg-color: #434B5C;\n",
              "      --hover-fill-color: #FFFFFF;\n",
              "      --disabled-bg-color: #3B4455;\n",
              "      --disabled-fill-color: #666;\n",
              "  }\n",
              "\n",
              "  .colab-df-quickchart {\n",
              "    background-color: var(--bg-color);\n",
              "    border: none;\n",
              "    border-radius: 50%;\n",
              "    cursor: pointer;\n",
              "    display: none;\n",
              "    fill: var(--fill-color);\n",
              "    height: 32px;\n",
              "    padding: 0;\n",
              "    width: 32px;\n",
              "  }\n",
              "\n",
              "  .colab-df-quickchart:hover {\n",
              "    background-color: var(--hover-bg-color);\n",
              "    box-shadow: 0 1px 2px rgba(60, 64, 67, 0.3), 0 1px 3px 1px rgba(60, 64, 67, 0.15);\n",
              "    fill: var(--button-hover-fill-color);\n",
              "  }\n",
              "\n",
              "  .colab-df-quickchart-complete:disabled,\n",
              "  .colab-df-quickchart-complete:disabled:hover {\n",
              "    background-color: var(--disabled-bg-color);\n",
              "    fill: var(--disabled-fill-color);\n",
              "    box-shadow: none;\n",
              "  }\n",
              "\n",
              "  .colab-df-spinner {\n",
              "    border: 2px solid var(--fill-color);\n",
              "    border-color: transparent;\n",
              "    border-bottom-color: var(--fill-color);\n",
              "    animation:\n",
              "      spin 1s steps(1) infinite;\n",
              "  }\n",
              "\n",
              "  @keyframes spin {\n",
              "    0% {\n",
              "      border-color: transparent;\n",
              "      border-bottom-color: var(--fill-color);\n",
              "      border-left-color: var(--fill-color);\n",
              "    }\n",
              "    20% {\n",
              "      border-color: transparent;\n",
              "      border-left-color: var(--fill-color);\n",
              "      border-top-color: var(--fill-color);\n",
              "    }\n",
              "    30% {\n",
              "      border-color: transparent;\n",
              "      border-left-color: var(--fill-color);\n",
              "      border-top-color: var(--fill-color);\n",
              "      border-right-color: var(--fill-color);\n",
              "    }\n",
              "    40% {\n",
              "      border-color: transparent;\n",
              "      border-right-color: var(--fill-color);\n",
              "      border-top-color: var(--fill-color);\n",
              "    }\n",
              "    60% {\n",
              "      border-color: transparent;\n",
              "      border-right-color: var(--fill-color);\n",
              "    }\n",
              "    80% {\n",
              "      border-color: transparent;\n",
              "      border-right-color: var(--fill-color);\n",
              "      border-bottom-color: var(--fill-color);\n",
              "    }\n",
              "    90% {\n",
              "      border-color: transparent;\n",
              "      border-bottom-color: var(--fill-color);\n",
              "    }\n",
              "  }\n",
              "</style>\n",
              "\n",
              "  <script>\n",
              "    async function quickchart(key) {\n",
              "      const quickchartButtonEl =\n",
              "        document.querySelector('#' + key + ' button');\n",
              "      quickchartButtonEl.disabled = true;  // To prevent multiple clicks.\n",
              "      quickchartButtonEl.classList.add('colab-df-spinner');\n",
              "      try {\n",
              "        const charts = await google.colab.kernel.invokeFunction(\n",
              "            'suggestCharts', [key], {});\n",
              "      } catch (error) {\n",
              "        console.error('Error during call to suggestCharts:', error);\n",
              "      }\n",
              "      quickchartButtonEl.classList.remove('colab-df-spinner');\n",
              "      quickchartButtonEl.classList.add('colab-df-quickchart-complete');\n",
              "    }\n",
              "    (() => {\n",
              "      let quickchartButtonEl =\n",
              "        document.querySelector('#df-49fb55a7-cd55-469c-897d-db117ad6f122 button');\n",
              "      quickchartButtonEl.style.display =\n",
              "        google.colab.kernel.accessAllowed ? 'block' : 'none';\n",
              "    })();\n",
              "  </script>\n",
              "</div>\n",
              "    </div>\n",
              "  </div>\n"
            ]
          },
          "metadata": {},
          "execution_count": 63
        }
      ]
    },
    {
      "cell_type": "code",
      "source": [
        "M, O, F, R, suma_F1R1 = df[(df[\"FILTRO\"]==\"F1\") & (df[\"RUIDO\"]==\"R1\")].sum()\n",
        "print(f'la suma de la combinacion F1R1 es suma_F1R1 = {suma_F1R1}')"
      ],
      "metadata": {
        "colab": {
          "base_uri": "https://localhost:8080/"
        },
        "id": "Pcv1jiymADWS",
        "outputId": "9c34dc98-4e4f-4507-efb4-3d9e5f34bc79"
      },
      "execution_count": 64,
      "outputs": [
        {
          "output_type": "stream",
          "name": "stdout",
          "text": [
            "la suma de la combinacion F1R1 es suma_F1R1 = 560\n"
          ]
        }
      ]
    },
    {
      "cell_type": "markdown",
      "source": [
        "## **c. Eligiendo la forma de extraer las medidas que vamos a utilizar**"
      ],
      "metadata": {
        "id": "7RmEqJQ-5k8R"
      }
    },
    {
      "cell_type": "code",
      "source": [
        "M, O, F, R,   sum_F1 = (df[(df[\"FILTRO\"]==\"F1\")].sum())\n",
        "M, O, F, R,   sum_F2 = (df[(df[\"FILTRO\"]==\"F2\")].sum())\n",
        "sum_FILTRO = sum_F1 + sum_F2\n",
        "sum2_FILTRO = sum_F1**2 + sum_F2**2\n",
        "media_F1 = sum_F1/18\n",
        "media_F2 = sum_F2/18\n",
        "\n",
        "M, O, F, R,    sum_R1 = (df[(df[\"RUIDO\"]==\"R1\")].sum())\n",
        "M, O, F, R,    sum_R2 = (df[(df[\"RUIDO\"]==\"R2\")].sum())\n",
        "M, O, F, R,    sum_R3 = (df[(df[\"RUIDO\"]==\"R3\")].sum())\n",
        "sum_RUIDO = sum_R1 + sum_R2 + sum_R3\n",
        "sum2_RUIDO = sum_R1**2 + sum_R2**2 + sum_R3**2\n",
        "media_R1 = sum_R1/12\n",
        "media_R2 = sum_R2/12\n",
        "media_R3 = sum_R3/12\n",
        "\n",
        "M, O, F, R,  sum_F1R1 = df[(df[\"FILTRO\"]==\"F1\") & (df[\"RUIDO\"]==\"R1\")].sum()\n",
        "M, O, F, R,  sum_F1R2 = df[(df[\"FILTRO\"]==\"F1\") & (df[\"RUIDO\"]==\"R2\")].sum()\n",
        "M, O, F, R,  sum_F1R3 = df[(df[\"FILTRO\"]==\"F1\") & (df[\"RUIDO\"]==\"R3\")].sum()\n",
        "M, O, F, R,  sum_F2R1 = df[(df[\"FILTRO\"]==\"F2\") & (df[\"RUIDO\"]==\"R1\")].sum()\n",
        "M, O, F, R,  sum_F2R2 = df[(df[\"FILTRO\"]==\"F2\") & (df[\"RUIDO\"]==\"R2\")].sum()\n",
        "M, O, F, R,  sum_F2R3 = df[(df[\"FILTRO\"]==\"F2\") & (df[\"RUIDO\"]==\"R3\")].sum()\n",
        "sum_FR = sum_F1R1 + sum_F1R2 + sum_F1R3 + sum_F2R1 + sum_F2R2 + sum_F2R3\n",
        "sum2_FR = sum_F1R1**2 + sum_F1R2**2 + sum_F1R3**2 + sum_F2R1**2 + sum_F2R2**2 + sum_F2R3**2\n",
        "media_F1R1 = sum_F1R1/6\n",
        "media_F1R2 = sum_F1R2/6\n",
        "media_F1R3 = sum_F1R3/6\n",
        "media_F2R1 = sum_F2R1/6\n",
        "media_F2R2 = sum_F2R2/6\n",
        "media_F2R3 = sum_F2R3/6\n",
        "\n",
        "sum_Yij = df['Intensidad'].sum()\n",
        "\n",
        "sum2_Yij = (df['Intensidad']*df['Intensidad']).sum()\n",
        "\n"
      ],
      "metadata": {
        "id": "uxhfmtWlyHNW"
      },
      "execution_count": 65,
      "outputs": []
    },
    {
      "cell_type": "markdown",
      "source": [
        "## **c. Construimos la Tabla para la informacion**"
      ],
      "metadata": {
        "id": "n-hpaoWvzJcc"
      }
    },
    {
      "cell_type": "code",
      "source": [
        "from texttable import Texttable\n",
        "t3 = Texttable()\n",
        "t3.add_rows([['Tratamiento = T','suma_T','media_T', 'suma_T^2' ],\n",
        "           ['F1',\tsum_F1,\tmedia_F1, sum_F1**2],\n",
        "           ['F2',\tsum_F2,\tmedia_F2, sum_F2**2],\n",
        "           ['R1',\tsum_R1,\tmedia_R1, sum_R1**2],\n",
        "           ['R2',\tsum_R2,\tmedia_R2, sum_R2**2],\n",
        "           ['R3',\tsum_R3,\tmedia_R3, sum_R3**2],\n",
        "           ['sum_Yij',\tsum_Yij,\tsum_Yij/36, sum_Yij**2],\n",
        "           ['RUIDO',\tsum_RUIDO,\t'',\tsum2_RUIDO],\n",
        "           ['FILTRO',\tsum_FILTRO,\t'',\tsum2_FILTRO]])\n",
        "print(t3.draw())"
      ],
      "metadata": {
        "colab": {
          "base_uri": "https://localhost:8080/"
        },
        "id": "h_HlChNZDQ9w",
        "outputId": "92424166-8032-4ede-e0b8-4649f67e8d14"
      },
      "execution_count": 66,
      "outputs": [
        {
          "output_type": "stream",
          "name": "stdout",
          "text": [
            "+-----------------+--------+---------+----------+\n",
            "| Tratamiento = T | suma_T | media_T | suma_T^2 |\n",
            "+=================+========+=========+==========+\n",
            "| F1              | 1813   | 100.722 | 3286969  |\n",
            "+-----------------+--------+---------+----------+\n",
            "| F2              | 1583   | 87.944  | 2505889  |\n",
            "+-----------------+--------+---------+----------+\n",
            "| R1              | 1072   | 89.333  | 1149184  |\n",
            "+-----------------+--------+---------+----------+\n",
            "| R2              | 1135   | 94.583  | 1288225  |\n",
            "+-----------------+--------+---------+----------+\n",
            "| R3              | 1189   | 99.083  | 1413721  |\n",
            "+-----------------+--------+---------+----------+\n",
            "| sum_Yij         | 3396   | 94.333  | 11532816 |\n",
            "+-----------------+--------+---------+----------+\n",
            "| RUIDO           | 3396   |         | 3851130  |\n",
            "+-----------------+--------+---------+----------+\n",
            "| FILTRO          | 3396   |         | 5792858  |\n",
            "+-----------------+--------+---------+----------+\n"
          ]
        }
      ]
    },
    {
      "cell_type": "markdown",
      "source": [
        "## **d. La variabilidad total es _SST_ y la Varianza Total _CMT_**"
      ],
      "metadata": {
        "id": "-WdPFKAEP-q9"
      }
    },
    {
      "cell_type": "code",
      "source": [
        "## **b. La variabilidad total es _SST_ y la Varianza Total _CMT_**\n",
        "I = 2 ; J = 3;  n = 6; N = I*J*n\n",
        "SST = sum2_Yij - sum_Yij**2/N\n",
        "MST = SST/(N-1)\n",
        "print(f'La variabilidad total es SST = {SST}')\n",
        "print(f'La Varianza total es MST = {MST}')"
      ],
      "metadata": {
        "colab": {
          "base_uri": "https://localhost:8080/"
        },
        "id": "g3RggzDbDuEj",
        "outputId": "bbbcd9c7-0730-4da3-bc44-3c253647c200"
      },
      "execution_count": 67,
      "outputs": [
        {
          "output_type": "stream",
          "name": "stdout",
          "text": [
            "La variabilidad total es SST = 2798.0\n",
            "La Varianza total es MST = 79.94285714285714\n"
          ]
        }
      ]
    },
    {
      "cell_type": "markdown",
      "source": [
        "## **e. Para los filtros: variabilidad y Varianza**"
      ],
      "metadata": {
        "id": "pFuUDQckUUsK"
      }
    },
    {
      "cell_type": "code",
      "source": [
        "## **e. Para los filtros: variabilidad y Varianza**\n",
        "SSF = sum2_FILTRO/(J*n) - sum_Yij**2/N\n",
        "\n",
        "MSF = SSF/(I-1)\n",
        "print(f'La variabilidad de los tratamientos es SSF = {SSF}')\n",
        "print(f'La variabilidad de los tratamientos es MSF = {MSF}')"
      ],
      "metadata": {
        "colab": {
          "base_uri": "https://localhost:8080/"
        },
        "id": "U4t9TXQUUpIU",
        "outputId": "9e52a2c9-542f-417b-e9cf-06341c559a66"
      },
      "execution_count": 68,
      "outputs": [
        {
          "output_type": "stream",
          "name": "stdout",
          "text": [
            "La variabilidad de los tratamientos es SSF = 1469.444444444438\n",
            "La variabilidad de los tratamientos es MSF = 1469.444444444438\n"
          ]
        }
      ]
    },
    {
      "cell_type": "markdown",
      "source": [
        "## **f. Para los Ruidos: variabilidad y Varianza**"
      ],
      "metadata": {
        "id": "IJGGltO9S9th"
      }
    },
    {
      "cell_type": "code",
      "source": [
        "## **f. Para los Ruidos: variabilidad y Varianza**\n",
        "SSR = sum2_RUIDO/(I*n) - sum_Yij**2/N\n",
        "\n",
        "MSR = SSR/(J-1)\n",
        "print(f'La variabilidad de los tratamientos es SSR = {SSR}')\n",
        "print(f'La variabilidad de los tratamientos es MSR = {MSR}')"
      ],
      "metadata": {
        "colab": {
          "base_uri": "https://localhost:8080/"
        },
        "id": "-eF8nm36TD62",
        "outputId": "8663f150-7377-4217-ba4e-a96785ac590c"
      },
      "execution_count": 69,
      "outputs": [
        {
          "output_type": "stream",
          "name": "stdout",
          "text": [
            "La variabilidad de los tratamientos es SSR = 571.5\n",
            "La variabilidad de los tratamientos es MSR = 285.75\n"
          ]
        }
      ]
    },
    {
      "cell_type": "markdown",
      "source": [
        "## **g. La variabilidad de la Interacción**"
      ],
      "metadata": {
        "id": "gUDgseMmB4Gq"
      }
    },
    {
      "cell_type": "code",
      "source": [
        "## **g. La variabilidad de la Interacción**\n",
        "SSFIL_RUI = sum2_FR/n - sum_Yij**2/N - SSR - SSF\n",
        "\n",
        "MSFIL_RUI = SSFIL_RUI/((J-1)*(I-1))\n",
        "print(f'La variabilidad de los tratamientos es SSFIL_RUI = {SSFIL_RUI}')\n",
        "print(f'La variabilidad de los tratamientos es MSFILTRO = {MSFIL_RUI}')"
      ],
      "metadata": {
        "colab": {
          "base_uri": "https://localhost:8080/"
        },
        "id": "p-3tvgzPNsJ4",
        "outputId": "3ebaa916-b77b-4020-f7f7-87b6f419ee2f"
      },
      "execution_count": 70,
      "outputs": [
        {
          "output_type": "stream",
          "name": "stdout",
          "text": [
            "La variabilidad de los tratamientos es SSFIL_RUI = 126.72222222224809\n",
            "La variabilidad de los tratamientos es MSFILTRO = 63.361111111124046\n"
          ]
        }
      ]
    },
    {
      "cell_type": "markdown",
      "source": [
        "## **h. Variabilidad y varianza de los Bloques: MOMENTOS**"
      ],
      "metadata": {
        "id": "y6uCLwQcC_Jb"
      }
    },
    {
      "cell_type": "code",
      "source": [
        "## **h. Variabilidad y varianza de los Bloques: MOMENTOS**\n",
        "SCB1 = (sum_M1**2+sum_M2**2+sum_M3**2+sum_M4**2+sum_M5**2+sum_M6**2)/k - sum_Y_ij**2/k**2\n",
        "CMB1 = SCB1/(k-1)\n",
        "print(f'Variabilidad de Bloque 1 es SCB1 = {SCB1}')\n",
        "print(f'Varianza de Bloque 1 e es CMB1 = {CMB1}')"
      ],
      "metadata": {
        "colab": {
          "base_uri": "https://localhost:8080/"
        },
        "id": "rbvaPuVEC3x1",
        "outputId": "eb8e0ed9-675a-43a6-d388-5248e813571e"
      },
      "execution_count": 71,
      "outputs": [
        {
          "output_type": "stream",
          "name": "stdout",
          "text": [
            "Variabilidad de Bloque 1 es SCB1 = 4.333333333313931\n",
            "Varianza de Bloque 1 e es CMB1 = 0.8666666666627861\n"
          ]
        }
      ]
    },
    {
      "cell_type": "code",
      "source": [
        "## **I. Variabilidad y varianza de los Bloques: OPERADOR**\n",
        "SCB2 = (sum_O1**2+sum_O2**2+sum_O3**2+sum_O4**2+sum_O5**2+sum_O6**2)/k - sum_Y_ij**2/k**2\n",
        "CMB2 = SCB2/(k-1)\n",
        "print(f'Variabilidad de Bloque 2 es SCB2 = {SCB2}')\n",
        "print(f'Varianza de Bloque 2 e es CMB2 = {CMB2}')"
      ],
      "metadata": {
        "colab": {
          "base_uri": "https://localhost:8080/"
        },
        "id": "Gi2qM4ZZDLq9",
        "outputId": "3202292c-1de3-4b20-e13d-aca9eb2fdc61"
      },
      "execution_count": 72,
      "outputs": [
        {
          "output_type": "stream",
          "name": "stdout",
          "text": [
            "Variabilidad de Bloque 2 es SCB2 = 428.0\n",
            "Varianza de Bloque 2 e es CMB2 = 85.6\n"
          ]
        }
      ]
    },
    {
      "cell_type": "markdown",
      "source": [
        "## **h. La variabilidad de los Residuos es _SSE_ y la Varianza Total _CME_**"
      ],
      "metadata": {
        "id": "WB7t5BYfVtk0"
      }
    },
    {
      "cell_type": "code",
      "source": [
        "SSE = SST - SSF - SSR - SSFIL_RUI - SCB1 - SCB2\n",
        "\n",
        "MSE = SSE/((k-2)*(k-1))\n",
        "print(f'La variabilidad de los residuos es SSE = {SSE}')\n",
        "print(f'La varianza de los residuos es MSE = {MSE}')"
      ],
      "metadata": {
        "colab": {
          "base_uri": "https://localhost:8080/"
        },
        "id": "kOaOxT4kV1me",
        "outputId": "06e58445-44f7-45ce-9906-6c6baccef2da"
      },
      "execution_count": 80,
      "outputs": [
        {
          "output_type": "stream",
          "name": "stdout",
          "text": [
            "La variabilidad de los residuos es SSE = 198.0\n",
            "La varianza de los residuos es MSE = 9.9\n"
          ]
        }
      ]
    },
    {
      "cell_type": "markdown",
      "source": [
        "## **i. El _valor_p_ de la prueba**"
      ],
      "metadata": {
        "id": "EpT5zWMFrlv6"
      }
    },
    {
      "cell_type": "code",
      "source": [
        "from scipy import stats\n",
        "F1 = stats.f(I-1,(k-2)*(k-1))\n",
        "F2 = stats.f(J-1,(k-2)*(k-1))\n",
        "F3 = stats.f((I-1)*(J-1),(k-2)*(k-1))\n",
        "F4 = stats.f((k-1),(k-2)*(k-1))\n",
        "F5 = stats.f((k-1),(k-2)*(k-1))\n",
        "valor_p1 = 1 - F1.cdf(MSF/MSE)\n",
        "valor_p2 = 1 - F2.cdf(MSR/MSE)\n",
        "valor_p3 = 1 - F3.cdf(MSFIL_RUI/MSE)\n",
        "valor_p4 = 1 - F4.cdf(CMB1/MSE)\n",
        "valor_p5 = 1 - F5.cdf(CMB2/MSE)"
      ],
      "metadata": {
        "id": "PCCTisy0gpFI"
      },
      "execution_count": 87,
      "outputs": []
    },
    {
      "cell_type": "markdown",
      "source": [
        "## **j. El coeficiente de determinación del ajuste**\n",
        "\n",
        "$$R^2 = 1- \\frac{SSE}{SST}$$\n",
        "$$R_{adj}^2 = 1- \\frac{MSE}{MST}$$"
      ],
      "metadata": {
        "id": "92zOneqzvA60"
      }
    },
    {
      "cell_type": "code",
      "source": [
        "R_2 = 1- SSE/SST\n",
        "print(f'El coeficente de R_cuadrado es {R_2*100} por ciento')"
      ],
      "metadata": {
        "colab": {
          "base_uri": "https://localhost:8080/"
        },
        "id": "hsFepe9tvfkW",
        "outputId": "3038f136-0026-4194-d914-7623dc210f23"
      },
      "execution_count": 82,
      "outputs": [
        {
          "output_type": "stream",
          "name": "stdout",
          "text": [
            "El coeficente de R_cuadrado es 92.92351679771265 por ciento\n"
          ]
        }
      ]
    },
    {
      "cell_type": "code",
      "source": [
        "Radj_2 = 1- MSE/MST\n",
        "print(f'El coeficente de R_cuadrado ajustado es {Radj_2*100} por ciento')"
      ],
      "metadata": {
        "colab": {
          "base_uri": "https://localhost:8080/"
        },
        "id": "CYw0vdGnLNZS",
        "outputId": "8cbf79d4-5af8-4e43-c4e6-422dae4dce0a"
      },
      "execution_count": 83,
      "outputs": [
        {
          "output_type": "stream",
          "name": "stdout",
          "text": [
            "El coeficente de R_cuadrado es 87.61615439599714 por ciento\n"
          ]
        }
      ]
    },
    {
      "cell_type": "markdown",
      "source": [
        "## **k. Construyendo la Tabla Anova**"
      ],
      "metadata": {
        "id": "xJBZ4mPFruyI"
      }
    },
    {
      "cell_type": "code",
      "source": [
        "from texttable import Texttable\n",
        "t4 = Texttable()\n",
        "t4.add_rows([['Fuente','SS', 'g.l', 'MS', 'F', 'valor_p'],\n",
        "           ['FILTRO',\tSSF,\tI-1,\tMSF,\tMSF/MSE, valor_p1],\n",
        "           ['RUIDO',\tSSR,\tJ-1,\tMSR,\tMSR/MSE, valor_p2],\n",
        "           ['FILTRO*RUIDO',\tSSFIL_RUI,\t(I-1)*(J-1),\tMSFIL_RUI,\tMSFIL_RUI/MSE, valor_p3],\n",
        "           ['MOMENTOS',\tSCB1,\tk-1,\tCMB1,\tCMB1/MSE, valor_p4],\n",
        "           ['OPERADOR',\tSCB2,\tk-1,\tCMB2,\tCMB2/MSE, valor_p5],\n",
        "           ['Error',\tSSE,\t(k-2)*(k-1),\tMSE, '', ''],\n",
        "           ['Total',\tSST,\tN-1, '' , '', '']])\n",
        "print(t4.draw())"
      ],
      "metadata": {
        "colab": {
          "base_uri": "https://localhost:8080/"
        },
        "id": "ID9nqu6uXCFx",
        "outputId": "786af023-31c8-4d16-fbf3-303d7eff732e"
      },
      "execution_count": 88,
      "outputs": [
        {
          "output_type": "stream",
          "name": "stdout",
          "text": [
            "+--------------+----------+-----+----------+---------+---------+\n",
            "|    Fuente    |    SS    | g.l |    MS    |    F    | valor_p |\n",
            "+==============+==========+=====+==========+=========+=========+\n",
            "| FILTRO       | 1469.444 | 1   | 1469.444 | 148.429 | 0.000   |\n",
            "+--------------+----------+-----+----------+---------+---------+\n",
            "| RUIDO        | 571.500  | 2   | 285.750  | 28.864  | 0.000   |\n",
            "+--------------+----------+-----+----------+---------+---------+\n",
            "| FILTRO*RUIDO | 126.722  | 2   | 63.361   | 6.400   | 0.007   |\n",
            "+--------------+----------+-----+----------+---------+---------+\n",
            "| MOMENTOS     | 4.333    | 5   | 0.867    | 0.088   | 0.993   |\n",
            "+--------------+----------+-----+----------+---------+---------+\n",
            "| OPERADOR     | 428      | 5   | 85.600   | 8.646   | 0.000   |\n",
            "+--------------+----------+-----+----------+---------+---------+\n",
            "| Error        | 198      | 20  | 9.900    |         |         |\n",
            "+--------------+----------+-----+----------+---------+---------+\n",
            "| Total        | 2798     | 35  |          |         |         |\n",
            "+--------------+----------+-----+----------+---------+---------+\n"
          ]
        }
      ]
    },
    {
      "cell_type": "markdown",
      "source": [
        "# **h. Prueba de Tukey**\n",
        "\n",
        "- $$Tukey_A = Q_{α=0.05,I,IJ(n-1)}\\sqrt{\\frac{CME}{nJ}}  $$\n",
        "\n",
        "- $$Tukey_B = Q_{α=0.05,J,IJ(n-1)}\\sqrt{\\frac{CME}{nI}}  $$\n",
        "\n"
      ],
      "metadata": {
        "id": "feuN_L8jlLx3"
      }
    },
    {
      "cell_type": "code",
      "source": [
        "## **Para el factor Filtro**\n",
        "I = 2; k = 6\n",
        "num = I-2; denom = (k-2)*(k-1)-2\n",
        "Q_F = RST_Q[num][denom]\n",
        "Tukey_F = Q_F*((MSE/(k*J))**0.5)\n",
        "\n",
        "print(f'El valor crítico de la tabla de Rango estudentizado es Q_F = {Q_F}')\n",
        "print(f'El valor para el intervalo de confianza de Tukey es Tukey_F = {Tukey_F}')"
      ],
      "metadata": {
        "colab": {
          "base_uri": "https://localhost:8080/"
        },
        "id": "z-PnahXLd9fh",
        "outputId": "a9690c8d-3857-4c28-b715-ae951bda7ad7"
      },
      "execution_count": 97,
      "outputs": [
        {
          "output_type": "stream",
          "name": "stdout",
          "text": [
            "El valor crítico de la tabla de Rango estudentizado es Q_F = 2.95\n",
            "El valor para el intervalo de confianza de Tukey es Tukey_F = 2.187778553693221\n"
          ]
        }
      ]
    },
    {
      "cell_type": "code",
      "source": [
        "## **Para el factor Ruido**\n",
        "J = 3; k = 6\n",
        "num = J-2; denom = (k-2)*(k-1)-2\n",
        "Q_R = RST_Q[num][denom]\n",
        "Tukey_R = Q_R*((MSE/(k*I))**0.5)\n",
        "print(f'El valor crítico de la tabla de Rango estudentizado es Q_R = {Q_R}')\n",
        "print(f'El valor para el intervalo de confianza de Tukey es Tukey_R = {Tukey_R}')"
      ],
      "metadata": {
        "colab": {
          "base_uri": "https://localhost:8080/"
        },
        "id": "g1Z1C1AYnmAv",
        "outputId": "e46979e3-c918-49c0-b9b5-9f92dd307410"
      },
      "execution_count": 98,
      "outputs": [
        {
          "output_type": "stream",
          "name": "stdout",
          "text": [
            "El valor crítico de la tabla de Rango estudentizado es Q_R = 3.58\n",
            "El valor para el intervalo de confianza de Tukey es Tukey_R = 3.2516964803007062\n"
          ]
        }
      ]
    },
    {
      "cell_type": "code",
      "source": [
        "HSD = Texttable()\n",
        "HSD.add_rows ([['Tratamiento','valor absoluto diferencia Media', 'Tukey', 'HAY DIFERENCIAS: 1 = SI, 0 = NO','LINF', 'LSUP' ],\n",
        "  ['F1-F2', abs(media_F1-media_F2)\t,\tTukey_F,\tabs(media_F1-media_F2)>Tukey_F, media_F1-media_F2-Tukey_F, media_F1-media_F2+Tukey_F],\n",
        "  ['R1-R2', abs(media_R1-media_R2)\t,\tTukey_R,\tabs(media_R1-media_R2)>Tukey_R, media_R1-media_R2-Tukey_R, media_R1-media_R2+Tukey_R],\n",
        "  ['R1-R3', abs(media_R1-media_R3)\t,\tTukey_R,\tabs(media_R1-media_R3)>Tukey_R, media_R1-media_R3-Tukey_R, media_R1-media_R3+Tukey_R],\n",
        "  ['R2-R3', abs(media_R2-media_R3)\t,\tTukey_R,\tabs(media_R2-media_R3)>Tukey_R, media_R2-media_R3-Tukey_R, media_R2-media_R3+Tukey_R]])\n",
        "print(HSD.draw())"
      ],
      "metadata": {
        "colab": {
          "base_uri": "https://localhost:8080/"
        },
        "id": "QN7hD83ykyB3",
        "outputId": "bdb7b7a8-f176-41b4-f525-e8669bd124c4"
      },
      "execution_count": 99,
      "outputs": [
        {
          "output_type": "stream",
          "name": "stdout",
          "text": [
            "+-------------+------------------+-------+------------------+---------+--------+\n",
            "| Tratamiento |  valor absoluto  | Tukey | HAY DIFERENCIAS: |  LINF   |  LSUP  |\n",
            "|             | diferencia Media |       |  1 = SI, 0 = NO  |         |        |\n",
            "+=============+==================+=======+==================+=========+========+\n",
            "| F1-F2       | 12.778           | 2.188 | 1                | 10.590  | 14.966 |\n",
            "+-------------+------------------+-------+------------------+---------+--------+\n",
            "| R1-R2       | 5.250            | 3.252 | 1                | -8.502  | -1.998 |\n",
            "+-------------+------------------+-------+------------------+---------+--------+\n",
            "| R1-R3       | 9.750            | 3.252 | 1                | -13.002 | -6.498 |\n",
            "+-------------+------------------+-------+------------------+---------+--------+\n",
            "| R2-R3       | 4.500            | 3.252 | 1                | -7.752  | -1.248 |\n",
            "+-------------+------------------+-------+------------------+---------+--------+\n"
          ]
        }
      ]
    }
  ]
}