{
  "nbformat": 4,
  "nbformat_minor": 0,
  "metadata": {
    "colab": {
      "provenance": [],
      "authorship_tag": "ABX9TyM0NktFF2qSwlNNw7kQmrpf",
      "include_colab_link": true
    },
    "kernelspec": {
      "name": "python3",
      "display_name": "Python 3"
    },
    "language_info": {
      "name": "python"
    }
  },
  "cells": [
    {
      "cell_type": "markdown",
      "metadata": {
        "id": "view-in-github",
        "colab_type": "text"
      },
      "source": [
        "<a href=\"https://colab.research.google.com/github/JSEFERINO/Estadistica_Moderna/blob/main/76_C_Datos_DOEDCL_Manual.ipynb\" target=\"_parent\"><img src=\"https://colab.research.google.com/assets/colab-badge.svg\" alt=\"Open In Colab\"/></a>"
      ]
    },
    {
      "cell_type": "markdown",
      "source": [
        "## **a. Libreria para usar**"
      ],
      "metadata": {
        "id": "YYXa3o_hmAqx"
      }
    },
    {
      "cell_type": "code",
      "source": [
        "!pip install texttable\n",
        "from texttable import Texttable\n",
        "import pandas as pd"
      ],
      "metadata": {
        "id": "jl2B3fA1xIlE",
        "colab": {
          "base_uri": "https://localhost:8080/"
        },
        "outputId": "b83afcd5-30b4-4602-b507-7bc0939d6150"
      },
      "execution_count": 2,
      "outputs": [
        {
          "output_type": "stream",
          "name": "stdout",
          "text": [
            "Requirement already satisfied: texttable in /usr/local/lib/python3.10/dist-packages (1.6.7)\n"
          ]
        }
      ]
    },
    {
      "cell_type": "code",
      "source": [
        "Rango_Tukey = [[6.08,\t8.33,\t9.80,\t10.88,\t11.73,\t12.43,\t13.03,\t13.54,\t13.99,\t14.40,\t14.76,\t15.09,\t15.39,\t15.67,\t15.92,\t16.16,\t16.38,\t16.59,\t16.78,\t16.97,\t17.14,\t17.30,\t17.46,\t17.61,\t17.75,\t17.88,\t18.01,\t18.13,\t18.25],\n",
        "[4.50,\t5.91,\t6.82,\t7.50,\t8.04,\t8.48,\t8.85,\t9.18,\t9.46,\t9.72,\t9.95,\t10.15,\t10.35,\t10.52,\t10.69,\t10.84,\t10.98,\t11.11,\t11.24,\t11.36,\t11.47,\t11.58,\t11.68,\t11.78,\t11.87,\t11.96,\t12.05,\t12.13,\t12.21],\n",
        "[3.93,\t5.04,\t5.76,\t6.29,\t6.71,\t7.05,\t7.35,\t7.60,\t7.83,\t8.03,\t8.21,\t8.37,\t8.52,\t8.66,\t8.79,\t8.91,\t9.03,\t9.13,\t9.23,\t9.33,\t9.42,\t9.50,\t9.58,\t9.66,\t9.74,\t9.81,\t9.88,\t9.94,\t10.00],\n",
        "[3.64,\t4.60,\t5.22,\t5.67,\t6.03,\t6.33,\t6.58,\t6.80,\t6.99,\t7.17,\t7.32,\t7.47,\t7.60,\t7.72,\t7.83,\t7.93,\t8.03,\t8.12,\t8.21,\t8.29,\t8.37,\t8.44,\t8.51,\t8.58,\t8.64,\t8.70,\t8.76,\t8.82,\t8.87],\n",
        "[3.46,\t4.34,\t4.90,\t5.30,\t5.63,\t5.90,\t6.12,\t6.32,\t6.49,\t6.65,\t6.79,\t6.92,\t7.03,\t7.14,\t7.24,\t7.34,\t7.43,\t7.51,\t7.59,\t7.66,\t7.73,\t7.80,\t7.86,\t7.92,\t7.98,\t8.03,\t8.09,\t8.14,\t8.19],\n",
        "[3.34,\t4.16,\t4.68,\t5.06,\t5.36,\t5.61,\t5.82,\t6.00,\t6.16,\t6.30,\t6.43,\t6.55,\t6.66,\t6.76,\t6.85,\t6.94,\t7.02,\t7.10,\t7.17,\t7.24,\t7.30,\t7.36,\t7.42,\t7.48,\t7.53,\t7.58,\t7.63,\t7.68,\t7.73],\n",
        "[3.26,\t4.04,\t4.53,\t4.89,\t5.17,\t5.40,\t5.60,\t5.77,\t5.92,\t6.05,\t6.18,\t6.29,\t6.39,\t6.48,\t6.57,\t6.65,\t6.73,\t6.80,\t6.87,\t6.93,\t6.99,\t7.05,\t7.11,\t7.16,\t7.21,\t7.26,\t7.31,\t7.35,\t7.40],\n",
        "[3.20,\t3.95,\t4.41,\t4.76,\t5.02,\t5.24,\t5.43,\t5.59,\t5.74,\t5.87,\t5.98,\t6.09,\t6.19,\t6.28,\t6.36,\t6.44,\t6.51,\t6.58,\t6.64,\t6.70,\t6.76,\t6.82,\t6.87,\t6.92,\t6.97,\t7.02,\t7.06,\t7.10,\t7.14],\n",
        "[3.15,\t3.88,\t4.33,\t4.65,\t4.91,\t5.12,\t5.30,\t5.46,\t5.60,\t5.72,\t5.83,\t5.93,\t6.03,\t6.11,\t6.19,\t6.27,\t6.34,\t6.40,\t6.47,\t6.53,\t6.58,\t6.63,\t6.69,\t6.73,\t6.78,\t6.82,\t6.87,\t6.91,\t6.95],\n",
        "[3.11,\t3.82,\t4.26,\t4.57,\t4.82,\t5.03,\t5.20,\t5.35,\t5.49,\t5.61,\t5.71,\t5.81,\t5.90,\t5.98,\t6.06,\t6.13,\t6.20,\t6.27,\t6.33,\t6.38,\t6.44,\t6.49,\t6.54,\t6.58,\t6.63,\t6.67,\t6.71,\t6.75,\t6.79],\n",
        "[3.08,\t3.77,\t4.20,\t4.51,\t4.75,\t4.95,\t5.12,\t5.27,\t5.39,\t5.51,\t5.61,\t5.71,\t5.80,\t5.88,\t5.95,\t6.02,\t6.09,\t6.15,\t6.21,\t6.26,\t6.32,\t6.37,\t6.41,\t6.46,\t6.50,\t6.54,\t6.58,\t6.62,\t6.66],\n",
        "[3.06,\t3.73,\t4.15,\t4.45,\t4.69,\t4.88,\t5.05,\t5.19,\t5.32,\t5.43,\t5.53,\t5.63,\t5.71,\t5.79,\t5.86,\t5.93,\t5.99,\t6.05,\t6.11,\t6.17,\t6.22,\t6.26,\t6.31,\t6.36,\t6.40,\t6.44,\t6.48,\t6.52,\t6.55],\n",
        "[3.03,\t3.70,\t4.11,\t4.41,\t4.64,\t4.83,\t4.99,\t5.13,\t5.25,\t5.36,\t5.46,\t5.55,\t5.64,\t5.71,\t5.79,\t5.85,\t5.91,\t5.97,\t6.03,\t6.08,\t6.13,\t6.18,\t6.22,\t6.27,\t6.31,\t6.35,\t6.39,\t6.42,\t6.46],\n",
        "[3.01,\t3.67,\t4.08,\t4.37,\t4.59,\t4.78,\t4.94,\t5.08,\t5.20,\t5.31,\t5.40,\t5.49,\t5.57,\t5.65,\t5.72,\t5.78,\t5.85,\t5.90,\t5.96,\t6.01,\t6.06,\t6.10,\t6.15,\t6.19,\t6.23,\t6.27,\t6.31,\t6.34,\t6.38],\n",
        "[3.00,\t3.65,\t4.05,\t4.33,\t4.56,\t4.74,\t4.90,\t5.03,\t5.15,\t5.26,\t5.35,\t5.44,\t5.52,\t5.59,\t5.66,\t5.73,\t5.79,\t5.84,\t5.90,\t5.95,\t5.99,\t6.04,\t6.08,\t6.13,\t6.17,\t6.20,\t6.24,\t6.28,\t6.31],\n",
        "[2.98,\t3.63,\t4.02,\t4.30,\t4.52,\t4.70,\t4.86,\t4.99,\t5.11,\t5.21,\t5.31,\t5.39,\t5.47,\t5.54,\t5.61,\t5.67,\t5.73,\t5.79,\t5.84,\t5.89,\t5.94,\t5.98,\t6.03,\t6.07,\t6.11,\t6.14,\t6.18,\t6.22,\t6.25],\n",
        "[2.97,\t3.61,\t4.00,\t4.28,\t4.49,\t4.67,\t4.82,\t4.96,\t5.07,\t5.17,\t5.27,\t5.35,\t5.43,\t5.50,\t5.57,\t5.63,\t5.69,\t5.74,\t5.79,\t5.84,\t5.89,\t5.93,\t5.98,\t6.02,\t6.06,\t6.09,\t6.13,\t6.16,\t6.20],\n",
        "[2.96,\t3.59,\t3.98,\t4.25,\t4.47,\t4.65,\t4.79,\t4.92,\t5.04,\t5.14,\t5.23,\t5.31,\t5.39,\t5.46,\t5.53,\t5.59,\t5.65,\t5.70,\t5.75,\t5.80,\t5.85,\t5.89,\t5.93,\t5.97,\t6.01,\t6.05,\t6.08,\t6.11,\t6.15],\n",
        "[2.95,\t3.58,\t3.96,\t4.23,\t4.45,\t4.62,\t4.77,\t4.90,\t5.01,\t5.11,\t5.20,\t5.28,\t5.36,\t5.43,\t5.49,\t5.55,\t5.61,\t5.66,\t5.71,\t5.76,\t5.81,\t5.85,\t5.89,\t5.93,\t5.97,\t6.00,\t6.04,\t6.07,\t6.10],\n",
        "[2.94,\t3.56,\t3.94,\t4.21,\t4.42,\t4.60,\t4.74,\t4.87,\t4.98,\t5.08,\t5.17,\t5.25,\t5.33,\t5.40,\t5.46,\t5.52,\t5.58,\t5.63,\t5.68,\t5.73,\t5.77,\t5.81,\t5.85,\t5.89,\t5.93,\t5.97,\t6.00,\t6.03,\t6.07],\n",
        "[2.93,\t3.55,\t3.93,\t4.20,\t4.41,\t4.58,\t4.72,\t4.85,\t4.96,\t5.06,\t5.14,\t5.23,\t5.30,\t5.37,\t5.43,\t5.49,\t5.55,\t5.60,\t5.65,\t5.69,\t5.74,\t5.78,\t5.82,\t5.86,\t5.90,\t5.93,\t5.97,\t6.00,\t6.03],\n",
        "[2.93,\t3.54,\t3.91,\t4.18,\t4.39,\t4.56,\t4.70,\t4.83,\t4.94,\t5.03,\t5.12,\t5.20,\t5.27,\t5.34,\t5.41,\t5.46,\t5.52,\t5.57,\t5.62,\t5.67,\t5.71,\t5.75,\t5.79,\t5.83,\t5.87,\t5.90,\t5.93,\t5.97,\t6.00],\n",
        "[2.92,\t3.53,\t3.90,\t4.17,\t4.37,\t4.54,\t4.68,\t4.81,\t4.92,\t5.01,\t5.10,\t5.18,\t5.25,\t5.32,\t5.38,\t5.44,\t5.49,\t5.55,\t5.59,\t5.64,\t5.68,\t5.72,\t5.76,\t5.80,\t5.84,\t5.87,\t5.91,\t5.94,\t5.97],\n",
        "[2.91,\t3.52,\t3.89,\t4.15,\t4.36,\t4.53,\t4.67,\t4.79,\t4.90,\t4.99,\t5.08,\t5.16,\t5.23,\t5.30,\t5.36,\t5.42,\t5.47,\t5.52,\t5.57,\t5.62,\t5.66,\t5.70,\t5.74,\t5.78,\t5.81,\t5.85,\t5.88,\t5.91,\t5.94],\n",
        "[2.91,\t3.51,\t3.88,\t4.14,\t4.35,\t4.51,\t4.65,\t4.77,\t4.88,\t4.98,\t5.06,\t5.14,\t5.21,\t5.28,\t5.34,\t5.40,\t5.45,\t5.50,\t5.55,\t5.59,\t5.64,\t5.68,\t5.72,\t5.75,\t5.79,\t5.82,\t5.85,\t5.89,\t5.92],\n",
        "[2.90,\t3.51,\t3.87,\t4.13,\t4.33,\t4.50,\t4.64,\t4.76,\t4.86,\t4.96,\t5.04,\t5.12,\t5.19,\t5.26,\t5.32,\t5.38,\t5.43,\t5.48,\t5.53,\t5.57,\t5.61,\t5.66,\t5.69,\t5.73,\t5.77,\t5.80,\t5.83,\t5.86,\t5.89],\n",
        "[2.90,\t3.50,\t3.86,\t4.12,\t4.32,\t4.49,\t4.62,\t4.74,\t4.85,\t4.94,\t5.03,\t5.11,\t5.18,\t5.24,\t5.30,\t5.36,\t5.41,\t5.46,\t5.51,\t5.55,\t5.60,\t5.64,\t5.67,\t5.71,\t5.75,\t5.78,\t5.81,\t5.84,\t5.87],\n",
        "[2.89,\t3.49,\t3.85,\t4.11,\t4.31,\t4.47,\t4.61,\t4.73,\t4.84,\t4.93,\t5.01,\t5.09,\t5.16,\t5.23,\t5.29,\t5.34,\t5.40,\t5.44,\t5.49,\t5.54,\t5.58,\t5.62,\t5.66,\t5.69,\t5.73,\t5.76,\t5.79,\t5.82,\t5.85],\n",
        "[2.89,\t3.49,\t3.85,\t4.10,\t4.30,\t4.46,\t4.60,\t4.72,\t4.82,\t4.92,\t5.00,\t5.08,\t5.15,\t5.21,\t5.27,\t5.33,\t5.38,\t5.43,\t5.47,\t5.52,\t5.56,\t5.60,\t5.64,\t5.67,\t5.71,\t5.74,\t5.77,\t5.80,\t5.83],\n",
        "[2.88,\t3.48,\t3.84,\t4.09,\t4.29,\t4.45,\t4.59,\t4.71,\t4.81,\t4.90,\t4.99,\t5.06,\t5.13,\t5.20,\t5.26,\t5.31,\t5.36,\t5.41,\t5.46,\t5.50,\t5.54,\t5.58,\t5.62,\t5.66,\t5.69,\t5.72,\t5.76,\t5.79,\t5.82],\n",
        "[2.88,\t3.48,\t3.83,\t4.09,\t4.28,\t4.45,\t4.58,\t4.70,\t4.80,\t4.89,\t4.98,\t5.05,\t5.12,\t5.18,\t5.24,\t5.30,\t5.35,\t5.40,\t5.45,\t5.49,\t5.53,\t5.57,\t5.61,\t5.64,\t5.68,\t5.71,\t5.74,\t5.77,\t5.80],\n",
        "[2.88,\t3.47,\t3.83,\t4.08,\t4.28,\t4.44,\t4.57,\t4.69,\t4.79,\t4.88,\t4.97,\t5.04,\t5.11,\t5.17,\t5.23,\t5.29,\t5.34,\t5.39,\t5.43,\t5.48,\t5.52,\t5.56,\t5.59,\t5.63,\t5.66,\t5.69,\t5.73,\t5.76,\t5.78],\n",
        "[2.87,\t3.47,\t3.82,\t4.07,\t4.27,\t4.43,\t4.56,\t4.68,\t4.78,\t4.87,\t4.96,\t5.03,\t5.10,\t5.16,\t5.22,\t5.27,\t5.33,\t5.37,\t5.42,\t5.46,\t5.50,\t5.54,\t5.58,\t5.61,\t5.65,\t5.68,\t5.71,\t5.74,\t5.77],\n",
        "[2.87,\t3.46,\t3.81,\t4.07,\t4.26,\t4.42,\t4.56,\t4.67,\t4.77,\t4.86,\t4.95,\t5.02,\t5.09,\t5.15,\t5.21,\t5.26,\t5.31,\t5.36,\t5.41,\t5.45,\t5.49,\t5.53,\t5.57,\t5.60,\t5.64,\t5.67,\t5.70,\t5.73,\t5.76],\n",
        "[2.87,\t3.46,\t3.81,\t4.06,\t4.25,\t4.41,\t4.55,\t4.66,\t4.76,\t4.85,\t4.94,\t5.01,\t5.08,\t5.14,\t5.20,\t5.25,\t5.30,\t5.35,\t5.40,\t5.44,\t5.48,\t5.52,\t5.55,\t5.59,\t5.62,\t5.66,\t5.69,\t5.72,\t5.74],\n",
        "[2.87,\t3.45,\t3.80,\t4.05,\t4.25,\t4.41,\t4.54,\t4.66,\t4.76,\t4.85,\t4.93,\t5.00,\t5.07,\t5.13,\t5.19,\t5.24,\t5.29,\t5.34,\t5.39,\t5.43,\t5.47,\t5.51,\t5.54,\t5.58,\t5.61,\t5.64,\t5.67,\t5.70,\t5.73],\n",
        "[2.86,\t3.45,\t3.80,\t4.05,\t4.24,\t4.40,\t4.53,\t4.65,\t4.75,\t4.84,\t4.92,\t4.99,\t5.06,\t5.12,\t5.18,\t5.23,\t5.28,\t5.33,\t5.38,\t5.42,\t5.46,\t5.50,\t5.53,\t5.57,\t5.60,\t5.63,\t5.66,\t5.69,\t5.72],\n",
        "[2.86,\t3.45,\t3.79,\t4.04,\t4.24,\t4.39,\t4.53,\t4.64,\t4.74,\t4.83,\t4.91,\t4.98,\t5.05,\t5.11,\t5.17,\t5.22,\t5.27,\t5.32,\t5.37,\t5.41,\t5.45,\t5.49,\t5.52,\t5.56,\t5.59,\t5.62,\t5.65,\t5.68,\t5.71],\n",
        "[2.86,\t3.44,\t3.79,\t4.04,\t4.23,\t4.39,\t4.52,\t4.63,\t4.73,\t4.82,\t4.90,\t4.98,\t5.04,\t5.11,\t5.16,\t5.22,\t5.27,\t5.31,\t5.36,\t5.40,\t5.44,\t5.48,\t5.51,\t5.55,\t5.58,\t5.61,\t5.64,\t5.67,\t5.70],\n",
        "[2.86,\t3.44,\t3.79,\t4.03,\t4.23,\t4.38,\t4.51,\t4.63,\t4.73,\t4.82,\t4.90,\t4.97,\t5.04,\t5.10,\t5.15,\t5.21,\t5.26,\t5.30,\t5.35,\t5.39,\t5.43,\t5.47,\t5.50,\t5.54,\t5.57,\t5.60,\t5.63,\t5.66,\t5.69],\n",
        "[2.85,\t3.44,\t3.78,\t4.03,\t4.22,\t4.38,\t4.51,\t4.62,\t4.72,\t4.81,\t4.89,\t4.96,\t5.03,\t5.09,\t5.15,\t5.20,\t5.25,\t5.30,\t5.34,\t5.38,\t5.42,\t5.46,\t5.50,\t5.53,\t5.56,\t5.59,\t5.62,\t5.65,\t5.68],\n",
        "[2.85,\t3.43,\t3.78,\t4.03,\t4.22,\t4.37,\t4.50,\t4.62,\t4.72,\t4.80,\t4.88,\t4.96,\t5.02,\t5.08,\t5.14,\t5.19,\t5.24,\t5.29,\t5.33,\t5.37,\t5.41,\t5.45,\t5.49,\t5.52,\t5.55,\t5.58,\t5.61,\t5.64,\t5.67],\n",
        "[2.85,\t3.43,\t3.78,\t4.02,\t4.21,\t4.37,\t4.50,\t4.61,\t4.71,\t4.80,\t4.88,\t4.95,\t5.02,\t5.08,\t5.13,\t5.19,\t5.24,\t5.28,\t5.33,\t5.37,\t5.41,\t5.44,\t5.48,\t5.51,\t5.55,\t5.58,\t5.61,\t5.64,\t5.66],\n",
        "[2.85,\t3.43,\t3.77,\t4.02,\t4.21,\t4.36,\t4.49,\t4.61,\t4.70,\t4.79,\t4.87,\t4.94,\t5.01,\t5.07,\t5.13,\t5.18,\t5.23,\t5.28,\t5.32,\t5.36,\t5.40,\t5.44,\t5.47,\t5.51,\t5.54,\t5.57,\t5.60,\t5.63,\t5.66],\n",
        "[2.85,\t3.42,\t3.77,\t4.01,\t4.20,\t4.36,\t4.49,\t4.60,\t4.70,\t4.79,\t4.87,\t4.94,\t5.00,\t5.06,\t5.12,\t5.17,\t5.22,\t5.27,\t5.31,\t5.35,\t5.39,\t5.43,\t5.46,\t5.50,\t5.53,\t5.56,\t5.59,\t5.62,\t5.65],\n",
        "[2.85,\t3.42,\t3.77,\t4.01,\t4.20,\t4.36,\t4.48,\t4.60,\t4.69,\t4.78,\t4.86,\t4.93,\t5.00,\t5.06,\t5.11,\t5.17,\t5.22,\t5.26,\t5.31,\t5.35,\t5.39,\t5.42,\t5.46,\t5.49,\t5.52,\t5.55,\t5.58,\t5.61,\t5.64],\n",
        "[2.84,\t3.42,\t3.76,\t4.01,\t4.20,\t4.35,\t4.48,\t4.59,\t4.69,\t4.78,\t4.86,\t4.93,\t4.99,\t5.05,\t5.11,\t5.16,\t5.21,\t5.26,\t5.30,\t5.34,\t5.38,\t5.42,\t5.45,\t5.48,\t5.52,\t5.55,\t5.58,\t5.61,\t5.63],\n",
        "[2.84,\t3.42,\t3.76,\t4.00,\t4.19,\t4.35,\t4.48,\t4.59,\t4.69,\t4.77,\t4.85,\t4.92,\t4.99,\t5.05,\t5.10,\t5.16,\t5.20,\t5.25,\t5.29,\t5.33,\t5.37,\t5.41,\t5.44,\t5.48,\t5.51,\t5.54,\t5.57,\t5.60,\t5.63],\n",
        "[2.84,\t3.42,\t3.76,\t4.00,\t4.19,\t4.34,\t4.47,\t4.58,\t4.68,\t4.77,\t4.85,\t4.92,\t4.98,\t5.04,\t5.10,\t5.15,\t5.20,\t5.24,\t5.29,\t5.33,\t5.37,\t5.40,\t5.44,\t5.47,\t5.50,\t5.53,\t5.56,\t5.59,\t5.62]]\n",
        "RST_Q = pd.DataFrame(Rango_Tukey)"
      ],
      "metadata": {
        "id": "rLEm2qeYYZQR"
      },
      "execution_count": 3,
      "outputs": []
    },
    {
      "cell_type": "markdown",
      "source": [
        "#  **Tema : Diseño en Cuadrado Latino - usando Python**\n",
        "# **El Problema a estudiar**\n",
        "\n",
        "### **Un Ingeniero esta estudiando métodos para medir la capacidad de detección de ciertos radadres de alcance. Los Factores que se consideran importantes son la cantidad de ruido de fondo (bajo, medio, alto) y el tipo de filtro (1 y 2) situado sobre la pantalla. El experimento es desarrollado seleccionando aleatoriamente una combinación de tratamientos (ruido de fondo y tipo de filtro) y luego introduciendo una señal que representa el objetivo en el radar. La intensidad de la señal es incrementada hasta que el operario la observa. La vaiable respuesta que se considera, es por tanto, el nivel de intensidad a la que el operario detecta la señal. A causa de la capacidad del operador, es conveniente seleccionar a uno y mantenerlo en pantalla hasta que se hayan realizado todas las observaciones. De esta forma se dispone de seis operadores que permaneceran en su puesto hasta que se hayan ejecutado las seis combinaciones de tratamientos. Supongamos ademas que el experimento sólo se puede llevar a cabo seis veces al dia. Se piensa, además, que tanto el operario como el momento del día en el que se lleva a cabo la recogida de datos pueden influir sobre los resultados. Obtenemos los siguientes datos:**\n",
        "\n",
        "|Momento \\ Operador|\t1\t| 2\t|3 | 4 | 5 | 6 |\n",
        "|:--:|:--:|:--:|:--:|:--:|:--:|:--:|\n",
        "|1|(1, bajo) 90 |(1, medio) 106 |(1, alto) 108 |(2, bajo) 81 |(2, alto) 90 |(2, medio) 88 |\n",
        "|2|(1, alto) 114 |(1, bajo) 96 |(1, medio) 105 |(2, alto) 83 |(2,medio ) 86 |(2, bajo) 84 |\n",
        "|3|(1, medio) 102 |(2, medio) 90 |(2, alto) 95 |(1, bajo) 92 |(2,bajo ) 85 |((1, alto) 104 |\n",
        "|4|(2, medio) 87|(2, bajo) 84|(1, bajo) 100|(1, medio) 96|(1, alto) 110|(2, alto) 91|\n",
        "|5|(2, alto) 93|(1, alto) 112|(2, bajo) 92|(2, medio) 80|(1, bajo) 90|(1, medio) 98|\n",
        "|6|(2, bajo) 86|(2, alto) 91|(2, medio) 97|(1, alto) 98|(1, medio) 100|(1, bajo) 92|\n",
        "\n",
        "\n",
        "|Momento \\ Operador|\t1\t| 2\t|3 | 4 | 5 | 6 |\n",
        "|:--:|:--:|:--:|:--:|:--:|:--:|:--:|\n",
        "|1|A  90 |B 106 |C 108 |D 81 |F 90 |E 88 |\n",
        "|2|C 114 |A 96 |B 105 |F 83 |E 86 |D 84 |\n",
        "|3|B 102 |E 90 |F 95 |A 92 |D 85 |C 104 |\n",
        "|4|E 87|D 84|A 100|B 96|C 110|F 91|\n",
        "|5|F 93|C 112|D 92|E 80|A 90|B 98|\n",
        "|6|D 86|F 91|E 97|C 98|B 100|A 92|"
      ],
      "metadata": {
        "id": "4Tt1l5etgotn"
      }
    },
    {
      "cell_type": "markdown",
      "source": [
        "## **Paso_1. Ingresamos los datos manual**"
      ],
      "metadata": {
        "id": "iFC-fTx8h8iC"
      }
    },
    {
      "cell_type": "markdown",
      "source": [
        "## **b. Todos los datos**"
      ],
      "metadata": {
        "id": "qxdikuHaLFNi"
      }
    },
    {
      "cell_type": "code",
      "source": [
        "## **4.1 Los Datos del Problema**\n",
        "N = 36; k = 6; k = 6; n = 1\n",
        "Combinacion  =  ['A','B','C','D','F','E',\n",
        "                 'C','A','B','F','E','D',\n",
        "                 'B','E','F','A','D','C',\n",
        "                 'E','D','A','B','C','F',\n",
        "                 'F','C','D','E','A','B',\n",
        "                 'D','F','E','C','B','A']\n",
        "FILTRO =        ['F1','F1','F1','F2','F2','F2',\n",
        "                 'F1','F1','F1','F2','F2','F2',\n",
        "                 'F1','F2','F2','F1','F2','F1',\n",
        "                 'F2','F2','F1','F1','F1','F2',\n",
        "                 'F2','F1','F2','F2','F1','F1',\n",
        "                 'F2','F2','F2','F1','F1','F1']\n",
        "RUIDO =          ['R1','R2','R3','R1','R3','R2',\n",
        "                 'R3','R1','R2','R3','R2','R1',\n",
        "                 'R2','R2','R3','R1','R1','R3',\n",
        "                 'R2','R1','R1','R2','R3','R3',\n",
        "                 'R3','R3','R1','R2','R1','R2',\n",
        "                 'R1','R3','R2','R3','R2','R1']\n",
        "\n",
        "MOMENTO =        ['M1','M1','M1','M1','M1','M1',\n",
        "                 'M2','M2','M2','M2','M2','M2',\n",
        "                 'M3','M3','M3','M3','M3','M3',\n",
        "                 'M4','M4','M4','M4','M4','M4',\n",
        "                 'M5','M5','M5','M5','M5','M5',\n",
        "                 'M6','M6','M6','M6','M6','M6']\n",
        "\n",
        "OPERADOR =        ['O1','O2','O3','O4','O5','O6',\n",
        "                 'O1','O2','O3','O4','O5','O6',\n",
        "                 'O1','O2','O3','O4','O5','O6',\n",
        "                 'O1','O2','O3','O4','O5','O6',\n",
        "                 'O1','O2','O3','O4','O5','O6',\n",
        "                 'O1','O2','O3','O4','O5','O6']\n",
        "\n",
        "Intensidad =[90, 106, 108, 81, 90, 88, 114, 96, 105, 83, 86, 84,\n",
        "          102 , 90 , 95 , 92 , 85 , 104, 87, 84, 100, 96, 110, 91,\n",
        "          93\t, 112\t, 92\t, 80\t, 90\t, 98,  86\t, 91\t, 97\t, 98\t, 100\t, 92 ]"
      ],
      "metadata": {
        "id": "dBMhSCAsw71N"
      },
      "execution_count": 4,
      "outputs": []
    },
    {
      "cell_type": "markdown",
      "source": [
        "# **Paso_2. El Modelo a estudiar**\n",
        "$$Y_{ij} = μ+Comb_i + Momento_j + Operador_k + 𝛆_{ijk}$$"
      ],
      "metadata": {
        "id": "RA0u4lQBx5U2"
      }
    },
    {
      "cell_type": "markdown",
      "source": [
        "## **a. El DataFrame para nuestro modelo**"
      ],
      "metadata": {
        "id": "Um5lY-b_LQd_"
      }
    },
    {
      "cell_type": "code",
      "source": [
        "## **a. El DataFrame**\n",
        "df1 = pd.DataFrame({'MOMENTO':MOMENTO,'OPERADOR':OPERADOR, 'Combinacion':Combinacion, 'Intensidad':Intensidad})\n",
        "df1.head(12)"
      ],
      "metadata": {
        "colab": {
          "base_uri": "https://localhost:8080/",
          "height": 425
        },
        "id": "gGWqxf0dCYff",
        "outputId": "c5c8d462-14b7-4310-a6ed-6920d985736d"
      },
      "execution_count": 5,
      "outputs": [
        {
          "output_type": "execute_result",
          "data": {
            "text/plain": [
              "   MOMENTO OPERADOR Combinacion  Intensidad\n",
              "0       M1       O1           A          90\n",
              "1       M1       O2           B         106\n",
              "2       M1       O3           C         108\n",
              "3       M1       O4           D          81\n",
              "4       M1       O5           F          90\n",
              "5       M1       O6           E          88\n",
              "6       M2       O1           C         114\n",
              "7       M2       O2           A          96\n",
              "8       M2       O3           B         105\n",
              "9       M2       O4           F          83\n",
              "10      M2       O5           E          86\n",
              "11      M2       O6           D          84"
            ],
            "text/html": [
              "\n",
              "  <div id=\"df-628388ca-b634-4265-9304-c6e65f46b1e3\" class=\"colab-df-container\">\n",
              "    <div>\n",
              "<style scoped>\n",
              "    .dataframe tbody tr th:only-of-type {\n",
              "        vertical-align: middle;\n",
              "    }\n",
              "\n",
              "    .dataframe tbody tr th {\n",
              "        vertical-align: top;\n",
              "    }\n",
              "\n",
              "    .dataframe thead th {\n",
              "        text-align: right;\n",
              "    }\n",
              "</style>\n",
              "<table border=\"1\" class=\"dataframe\">\n",
              "  <thead>\n",
              "    <tr style=\"text-align: right;\">\n",
              "      <th></th>\n",
              "      <th>MOMENTO</th>\n",
              "      <th>OPERADOR</th>\n",
              "      <th>Combinacion</th>\n",
              "      <th>Intensidad</th>\n",
              "    </tr>\n",
              "  </thead>\n",
              "  <tbody>\n",
              "    <tr>\n",
              "      <th>0</th>\n",
              "      <td>M1</td>\n",
              "      <td>O1</td>\n",
              "      <td>A</td>\n",
              "      <td>90</td>\n",
              "    </tr>\n",
              "    <tr>\n",
              "      <th>1</th>\n",
              "      <td>M1</td>\n",
              "      <td>O2</td>\n",
              "      <td>B</td>\n",
              "      <td>106</td>\n",
              "    </tr>\n",
              "    <tr>\n",
              "      <th>2</th>\n",
              "      <td>M1</td>\n",
              "      <td>O3</td>\n",
              "      <td>C</td>\n",
              "      <td>108</td>\n",
              "    </tr>\n",
              "    <tr>\n",
              "      <th>3</th>\n",
              "      <td>M1</td>\n",
              "      <td>O4</td>\n",
              "      <td>D</td>\n",
              "      <td>81</td>\n",
              "    </tr>\n",
              "    <tr>\n",
              "      <th>4</th>\n",
              "      <td>M1</td>\n",
              "      <td>O5</td>\n",
              "      <td>F</td>\n",
              "      <td>90</td>\n",
              "    </tr>\n",
              "    <tr>\n",
              "      <th>5</th>\n",
              "      <td>M1</td>\n",
              "      <td>O6</td>\n",
              "      <td>E</td>\n",
              "      <td>88</td>\n",
              "    </tr>\n",
              "    <tr>\n",
              "      <th>6</th>\n",
              "      <td>M2</td>\n",
              "      <td>O1</td>\n",
              "      <td>C</td>\n",
              "      <td>114</td>\n",
              "    </tr>\n",
              "    <tr>\n",
              "      <th>7</th>\n",
              "      <td>M2</td>\n",
              "      <td>O2</td>\n",
              "      <td>A</td>\n",
              "      <td>96</td>\n",
              "    </tr>\n",
              "    <tr>\n",
              "      <th>8</th>\n",
              "      <td>M2</td>\n",
              "      <td>O3</td>\n",
              "      <td>B</td>\n",
              "      <td>105</td>\n",
              "    </tr>\n",
              "    <tr>\n",
              "      <th>9</th>\n",
              "      <td>M2</td>\n",
              "      <td>O4</td>\n",
              "      <td>F</td>\n",
              "      <td>83</td>\n",
              "    </tr>\n",
              "    <tr>\n",
              "      <th>10</th>\n",
              "      <td>M2</td>\n",
              "      <td>O5</td>\n",
              "      <td>E</td>\n",
              "      <td>86</td>\n",
              "    </tr>\n",
              "    <tr>\n",
              "      <th>11</th>\n",
              "      <td>M2</td>\n",
              "      <td>O6</td>\n",
              "      <td>D</td>\n",
              "      <td>84</td>\n",
              "    </tr>\n",
              "  </tbody>\n",
              "</table>\n",
              "</div>\n",
              "    <div class=\"colab-df-buttons\">\n",
              "\n",
              "  <div class=\"colab-df-container\">\n",
              "    <button class=\"colab-df-convert\" onclick=\"convertToInteractive('df-628388ca-b634-4265-9304-c6e65f46b1e3')\"\n",
              "            title=\"Convert this dataframe to an interactive table.\"\n",
              "            style=\"display:none;\">\n",
              "\n",
              "  <svg xmlns=\"http://www.w3.org/2000/svg\" height=\"24px\" viewBox=\"0 -960 960 960\">\n",
              "    <path d=\"M120-120v-720h720v720H120Zm60-500h600v-160H180v160Zm220 220h160v-160H400v160Zm0 220h160v-160H400v160ZM180-400h160v-160H180v160Zm440 0h160v-160H620v160ZM180-180h160v-160H180v160Zm440 0h160v-160H620v160Z\"/>\n",
              "  </svg>\n",
              "    </button>\n",
              "\n",
              "  <style>\n",
              "    .colab-df-container {\n",
              "      display:flex;\n",
              "      gap: 12px;\n",
              "    }\n",
              "\n",
              "    .colab-df-convert {\n",
              "      background-color: #E8F0FE;\n",
              "      border: none;\n",
              "      border-radius: 50%;\n",
              "      cursor: pointer;\n",
              "      display: none;\n",
              "      fill: #1967D2;\n",
              "      height: 32px;\n",
              "      padding: 0 0 0 0;\n",
              "      width: 32px;\n",
              "    }\n",
              "\n",
              "    .colab-df-convert:hover {\n",
              "      background-color: #E2EBFA;\n",
              "      box-shadow: 0px 1px 2px rgba(60, 64, 67, 0.3), 0px 1px 3px 1px rgba(60, 64, 67, 0.15);\n",
              "      fill: #174EA6;\n",
              "    }\n",
              "\n",
              "    .colab-df-buttons div {\n",
              "      margin-bottom: 4px;\n",
              "    }\n",
              "\n",
              "    [theme=dark] .colab-df-convert {\n",
              "      background-color: #3B4455;\n",
              "      fill: #D2E3FC;\n",
              "    }\n",
              "\n",
              "    [theme=dark] .colab-df-convert:hover {\n",
              "      background-color: #434B5C;\n",
              "      box-shadow: 0px 1px 3px 1px rgba(0, 0, 0, 0.15);\n",
              "      filter: drop-shadow(0px 1px 2px rgba(0, 0, 0, 0.3));\n",
              "      fill: #FFFFFF;\n",
              "    }\n",
              "  </style>\n",
              "\n",
              "    <script>\n",
              "      const buttonEl =\n",
              "        document.querySelector('#df-628388ca-b634-4265-9304-c6e65f46b1e3 button.colab-df-convert');\n",
              "      buttonEl.style.display =\n",
              "        google.colab.kernel.accessAllowed ? 'block' : 'none';\n",
              "\n",
              "      async function convertToInteractive(key) {\n",
              "        const element = document.querySelector('#df-628388ca-b634-4265-9304-c6e65f46b1e3');\n",
              "        const dataTable =\n",
              "          await google.colab.kernel.invokeFunction('convertToInteractive',\n",
              "                                                    [key], {});\n",
              "        if (!dataTable) return;\n",
              "\n",
              "        const docLinkHtml = 'Like what you see? Visit the ' +\n",
              "          '<a target=\"_blank\" href=https://colab.research.google.com/notebooks/data_table.ipynb>data table notebook</a>'\n",
              "          + ' to learn more about interactive tables.';\n",
              "        element.innerHTML = '';\n",
              "        dataTable['output_type'] = 'display_data';\n",
              "        await google.colab.output.renderOutput(dataTable, element);\n",
              "        const docLink = document.createElement('div');\n",
              "        docLink.innerHTML = docLinkHtml;\n",
              "        element.appendChild(docLink);\n",
              "      }\n",
              "    </script>\n",
              "  </div>\n",
              "\n",
              "\n",
              "<div id=\"df-dda2903a-c29f-4ff7-bb5a-842bcef75999\">\n",
              "  <button class=\"colab-df-quickchart\" onclick=\"quickchart('df-dda2903a-c29f-4ff7-bb5a-842bcef75999')\"\n",
              "            title=\"Suggest charts.\"\n",
              "            style=\"display:none;\">\n",
              "\n",
              "<svg xmlns=\"http://www.w3.org/2000/svg\" height=\"24px\"viewBox=\"0 0 24 24\"\n",
              "     width=\"24px\">\n",
              "    <g>\n",
              "        <path d=\"M19 3H5c-1.1 0-2 .9-2 2v14c0 1.1.9 2 2 2h14c1.1 0 2-.9 2-2V5c0-1.1-.9-2-2-2zM9 17H7v-7h2v7zm4 0h-2V7h2v10zm4 0h-2v-4h2v4z\"/>\n",
              "    </g>\n",
              "</svg>\n",
              "  </button>\n",
              "\n",
              "<style>\n",
              "  .colab-df-quickchart {\n",
              "      --bg-color: #E8F0FE;\n",
              "      --fill-color: #1967D2;\n",
              "      --hover-bg-color: #E2EBFA;\n",
              "      --hover-fill-color: #174EA6;\n",
              "      --disabled-fill-color: #AAA;\n",
              "      --disabled-bg-color: #DDD;\n",
              "  }\n",
              "\n",
              "  [theme=dark] .colab-df-quickchart {\n",
              "      --bg-color: #3B4455;\n",
              "      --fill-color: #D2E3FC;\n",
              "      --hover-bg-color: #434B5C;\n",
              "      --hover-fill-color: #FFFFFF;\n",
              "      --disabled-bg-color: #3B4455;\n",
              "      --disabled-fill-color: #666;\n",
              "  }\n",
              "\n",
              "  .colab-df-quickchart {\n",
              "    background-color: var(--bg-color);\n",
              "    border: none;\n",
              "    border-radius: 50%;\n",
              "    cursor: pointer;\n",
              "    display: none;\n",
              "    fill: var(--fill-color);\n",
              "    height: 32px;\n",
              "    padding: 0;\n",
              "    width: 32px;\n",
              "  }\n",
              "\n",
              "  .colab-df-quickchart:hover {\n",
              "    background-color: var(--hover-bg-color);\n",
              "    box-shadow: 0 1px 2px rgba(60, 64, 67, 0.3), 0 1px 3px 1px rgba(60, 64, 67, 0.15);\n",
              "    fill: var(--button-hover-fill-color);\n",
              "  }\n",
              "\n",
              "  .colab-df-quickchart-complete:disabled,\n",
              "  .colab-df-quickchart-complete:disabled:hover {\n",
              "    background-color: var(--disabled-bg-color);\n",
              "    fill: var(--disabled-fill-color);\n",
              "    box-shadow: none;\n",
              "  }\n",
              "\n",
              "  .colab-df-spinner {\n",
              "    border: 2px solid var(--fill-color);\n",
              "    border-color: transparent;\n",
              "    border-bottom-color: var(--fill-color);\n",
              "    animation:\n",
              "      spin 1s steps(1) infinite;\n",
              "  }\n",
              "\n",
              "  @keyframes spin {\n",
              "    0% {\n",
              "      border-color: transparent;\n",
              "      border-bottom-color: var(--fill-color);\n",
              "      border-left-color: var(--fill-color);\n",
              "    }\n",
              "    20% {\n",
              "      border-color: transparent;\n",
              "      border-left-color: var(--fill-color);\n",
              "      border-top-color: var(--fill-color);\n",
              "    }\n",
              "    30% {\n",
              "      border-color: transparent;\n",
              "      border-left-color: var(--fill-color);\n",
              "      border-top-color: var(--fill-color);\n",
              "      border-right-color: var(--fill-color);\n",
              "    }\n",
              "    40% {\n",
              "      border-color: transparent;\n",
              "      border-right-color: var(--fill-color);\n",
              "      border-top-color: var(--fill-color);\n",
              "    }\n",
              "    60% {\n",
              "      border-color: transparent;\n",
              "      border-right-color: var(--fill-color);\n",
              "    }\n",
              "    80% {\n",
              "      border-color: transparent;\n",
              "      border-right-color: var(--fill-color);\n",
              "      border-bottom-color: var(--fill-color);\n",
              "    }\n",
              "    90% {\n",
              "      border-color: transparent;\n",
              "      border-bottom-color: var(--fill-color);\n",
              "    }\n",
              "  }\n",
              "</style>\n",
              "\n",
              "  <script>\n",
              "    async function quickchart(key) {\n",
              "      const quickchartButtonEl =\n",
              "        document.querySelector('#' + key + ' button');\n",
              "      quickchartButtonEl.disabled = true;  // To prevent multiple clicks.\n",
              "      quickchartButtonEl.classList.add('colab-df-spinner');\n",
              "      try {\n",
              "        const charts = await google.colab.kernel.invokeFunction(\n",
              "            'suggestCharts', [key], {});\n",
              "      } catch (error) {\n",
              "        console.error('Error during call to suggestCharts:', error);\n",
              "      }\n",
              "      quickchartButtonEl.classList.remove('colab-df-spinner');\n",
              "      quickchartButtonEl.classList.add('colab-df-quickchart-complete');\n",
              "    }\n",
              "    (() => {\n",
              "      let quickchartButtonEl =\n",
              "        document.querySelector('#df-dda2903a-c29f-4ff7-bb5a-842bcef75999 button');\n",
              "      quickchartButtonEl.style.display =\n",
              "        google.colab.kernel.accessAllowed ? 'block' : 'none';\n",
              "    })();\n",
              "  </script>\n",
              "</div>\n",
              "    </div>\n",
              "  </div>\n"
            ]
          },
          "metadata": {},
          "execution_count": 5
        }
      ]
    },
    {
      "cell_type": "markdown",
      "source": [
        "## **b. Preguntando por un nivel de un factor**"
      ],
      "metadata": {
        "id": "lJ27lt9Sx8vD"
      }
    },
    {
      "cell_type": "code",
      "source": [
        "df1[(df1[\"Combinacion\"]==\"A\")]"
      ],
      "metadata": {
        "colab": {
          "base_uri": "https://localhost:8080/",
          "height": 237
        },
        "id": "LcI_eea_8RXk",
        "outputId": "559fb143-dc7a-41d1-baf1-c33d9bbb12bf"
      },
      "execution_count": 6,
      "outputs": [
        {
          "output_type": "execute_result",
          "data": {
            "text/plain": [
              "   MOMENTO OPERADOR Combinacion  Intensidad\n",
              "0       M1       O1           A          90\n",
              "7       M2       O2           A          96\n",
              "15      M3       O4           A          92\n",
              "20      M4       O3           A         100\n",
              "28      M5       O5           A          90\n",
              "35      M6       O6           A          92"
            ],
            "text/html": [
              "\n",
              "  <div id=\"df-a60dc056-4c39-4d03-b7da-6616aea7529d\" class=\"colab-df-container\">\n",
              "    <div>\n",
              "<style scoped>\n",
              "    .dataframe tbody tr th:only-of-type {\n",
              "        vertical-align: middle;\n",
              "    }\n",
              "\n",
              "    .dataframe tbody tr th {\n",
              "        vertical-align: top;\n",
              "    }\n",
              "\n",
              "    .dataframe thead th {\n",
              "        text-align: right;\n",
              "    }\n",
              "</style>\n",
              "<table border=\"1\" class=\"dataframe\">\n",
              "  <thead>\n",
              "    <tr style=\"text-align: right;\">\n",
              "      <th></th>\n",
              "      <th>MOMENTO</th>\n",
              "      <th>OPERADOR</th>\n",
              "      <th>Combinacion</th>\n",
              "      <th>Intensidad</th>\n",
              "    </tr>\n",
              "  </thead>\n",
              "  <tbody>\n",
              "    <tr>\n",
              "      <th>0</th>\n",
              "      <td>M1</td>\n",
              "      <td>O1</td>\n",
              "      <td>A</td>\n",
              "      <td>90</td>\n",
              "    </tr>\n",
              "    <tr>\n",
              "      <th>7</th>\n",
              "      <td>M2</td>\n",
              "      <td>O2</td>\n",
              "      <td>A</td>\n",
              "      <td>96</td>\n",
              "    </tr>\n",
              "    <tr>\n",
              "      <th>15</th>\n",
              "      <td>M3</td>\n",
              "      <td>O4</td>\n",
              "      <td>A</td>\n",
              "      <td>92</td>\n",
              "    </tr>\n",
              "    <tr>\n",
              "      <th>20</th>\n",
              "      <td>M4</td>\n",
              "      <td>O3</td>\n",
              "      <td>A</td>\n",
              "      <td>100</td>\n",
              "    </tr>\n",
              "    <tr>\n",
              "      <th>28</th>\n",
              "      <td>M5</td>\n",
              "      <td>O5</td>\n",
              "      <td>A</td>\n",
              "      <td>90</td>\n",
              "    </tr>\n",
              "    <tr>\n",
              "      <th>35</th>\n",
              "      <td>M6</td>\n",
              "      <td>O6</td>\n",
              "      <td>A</td>\n",
              "      <td>92</td>\n",
              "    </tr>\n",
              "  </tbody>\n",
              "</table>\n",
              "</div>\n",
              "    <div class=\"colab-df-buttons\">\n",
              "\n",
              "  <div class=\"colab-df-container\">\n",
              "    <button class=\"colab-df-convert\" onclick=\"convertToInteractive('df-a60dc056-4c39-4d03-b7da-6616aea7529d')\"\n",
              "            title=\"Convert this dataframe to an interactive table.\"\n",
              "            style=\"display:none;\">\n",
              "\n",
              "  <svg xmlns=\"http://www.w3.org/2000/svg\" height=\"24px\" viewBox=\"0 -960 960 960\">\n",
              "    <path d=\"M120-120v-720h720v720H120Zm60-500h600v-160H180v160Zm220 220h160v-160H400v160Zm0 220h160v-160H400v160ZM180-400h160v-160H180v160Zm440 0h160v-160H620v160ZM180-180h160v-160H180v160Zm440 0h160v-160H620v160Z\"/>\n",
              "  </svg>\n",
              "    </button>\n",
              "\n",
              "  <style>\n",
              "    .colab-df-container {\n",
              "      display:flex;\n",
              "      gap: 12px;\n",
              "    }\n",
              "\n",
              "    .colab-df-convert {\n",
              "      background-color: #E8F0FE;\n",
              "      border: none;\n",
              "      border-radius: 50%;\n",
              "      cursor: pointer;\n",
              "      display: none;\n",
              "      fill: #1967D2;\n",
              "      height: 32px;\n",
              "      padding: 0 0 0 0;\n",
              "      width: 32px;\n",
              "    }\n",
              "\n",
              "    .colab-df-convert:hover {\n",
              "      background-color: #E2EBFA;\n",
              "      box-shadow: 0px 1px 2px rgba(60, 64, 67, 0.3), 0px 1px 3px 1px rgba(60, 64, 67, 0.15);\n",
              "      fill: #174EA6;\n",
              "    }\n",
              "\n",
              "    .colab-df-buttons div {\n",
              "      margin-bottom: 4px;\n",
              "    }\n",
              "\n",
              "    [theme=dark] .colab-df-convert {\n",
              "      background-color: #3B4455;\n",
              "      fill: #D2E3FC;\n",
              "    }\n",
              "\n",
              "    [theme=dark] .colab-df-convert:hover {\n",
              "      background-color: #434B5C;\n",
              "      box-shadow: 0px 1px 3px 1px rgba(0, 0, 0, 0.15);\n",
              "      filter: drop-shadow(0px 1px 2px rgba(0, 0, 0, 0.3));\n",
              "      fill: #FFFFFF;\n",
              "    }\n",
              "  </style>\n",
              "\n",
              "    <script>\n",
              "      const buttonEl =\n",
              "        document.querySelector('#df-a60dc056-4c39-4d03-b7da-6616aea7529d button.colab-df-convert');\n",
              "      buttonEl.style.display =\n",
              "        google.colab.kernel.accessAllowed ? 'block' : 'none';\n",
              "\n",
              "      async function convertToInteractive(key) {\n",
              "        const element = document.querySelector('#df-a60dc056-4c39-4d03-b7da-6616aea7529d');\n",
              "        const dataTable =\n",
              "          await google.colab.kernel.invokeFunction('convertToInteractive',\n",
              "                                                    [key], {});\n",
              "        if (!dataTable) return;\n",
              "\n",
              "        const docLinkHtml = 'Like what you see? Visit the ' +\n",
              "          '<a target=\"_blank\" href=https://colab.research.google.com/notebooks/data_table.ipynb>data table notebook</a>'\n",
              "          + ' to learn more about interactive tables.';\n",
              "        element.innerHTML = '';\n",
              "        dataTable['output_type'] = 'display_data';\n",
              "        await google.colab.output.renderOutput(dataTable, element);\n",
              "        const docLink = document.createElement('div');\n",
              "        docLink.innerHTML = docLinkHtml;\n",
              "        element.appendChild(docLink);\n",
              "      }\n",
              "    </script>\n",
              "  </div>\n",
              "\n",
              "\n",
              "<div id=\"df-785a79fa-5450-4b49-a7e2-c6fb7e1a2592\">\n",
              "  <button class=\"colab-df-quickchart\" onclick=\"quickchart('df-785a79fa-5450-4b49-a7e2-c6fb7e1a2592')\"\n",
              "            title=\"Suggest charts.\"\n",
              "            style=\"display:none;\">\n",
              "\n",
              "<svg xmlns=\"http://www.w3.org/2000/svg\" height=\"24px\"viewBox=\"0 0 24 24\"\n",
              "     width=\"24px\">\n",
              "    <g>\n",
              "        <path d=\"M19 3H5c-1.1 0-2 .9-2 2v14c0 1.1.9 2 2 2h14c1.1 0 2-.9 2-2V5c0-1.1-.9-2-2-2zM9 17H7v-7h2v7zm4 0h-2V7h2v10zm4 0h-2v-4h2v4z\"/>\n",
              "    </g>\n",
              "</svg>\n",
              "  </button>\n",
              "\n",
              "<style>\n",
              "  .colab-df-quickchart {\n",
              "      --bg-color: #E8F0FE;\n",
              "      --fill-color: #1967D2;\n",
              "      --hover-bg-color: #E2EBFA;\n",
              "      --hover-fill-color: #174EA6;\n",
              "      --disabled-fill-color: #AAA;\n",
              "      --disabled-bg-color: #DDD;\n",
              "  }\n",
              "\n",
              "  [theme=dark] .colab-df-quickchart {\n",
              "      --bg-color: #3B4455;\n",
              "      --fill-color: #D2E3FC;\n",
              "      --hover-bg-color: #434B5C;\n",
              "      --hover-fill-color: #FFFFFF;\n",
              "      --disabled-bg-color: #3B4455;\n",
              "      --disabled-fill-color: #666;\n",
              "  }\n",
              "\n",
              "  .colab-df-quickchart {\n",
              "    background-color: var(--bg-color);\n",
              "    border: none;\n",
              "    border-radius: 50%;\n",
              "    cursor: pointer;\n",
              "    display: none;\n",
              "    fill: var(--fill-color);\n",
              "    height: 32px;\n",
              "    padding: 0;\n",
              "    width: 32px;\n",
              "  }\n",
              "\n",
              "  .colab-df-quickchart:hover {\n",
              "    background-color: var(--hover-bg-color);\n",
              "    box-shadow: 0 1px 2px rgba(60, 64, 67, 0.3), 0 1px 3px 1px rgba(60, 64, 67, 0.15);\n",
              "    fill: var(--button-hover-fill-color);\n",
              "  }\n",
              "\n",
              "  .colab-df-quickchart-complete:disabled,\n",
              "  .colab-df-quickchart-complete:disabled:hover {\n",
              "    background-color: var(--disabled-bg-color);\n",
              "    fill: var(--disabled-fill-color);\n",
              "    box-shadow: none;\n",
              "  }\n",
              "\n",
              "  .colab-df-spinner {\n",
              "    border: 2px solid var(--fill-color);\n",
              "    border-color: transparent;\n",
              "    border-bottom-color: var(--fill-color);\n",
              "    animation:\n",
              "      spin 1s steps(1) infinite;\n",
              "  }\n",
              "\n",
              "  @keyframes spin {\n",
              "    0% {\n",
              "      border-color: transparent;\n",
              "      border-bottom-color: var(--fill-color);\n",
              "      border-left-color: var(--fill-color);\n",
              "    }\n",
              "    20% {\n",
              "      border-color: transparent;\n",
              "      border-left-color: var(--fill-color);\n",
              "      border-top-color: var(--fill-color);\n",
              "    }\n",
              "    30% {\n",
              "      border-color: transparent;\n",
              "      border-left-color: var(--fill-color);\n",
              "      border-top-color: var(--fill-color);\n",
              "      border-right-color: var(--fill-color);\n",
              "    }\n",
              "    40% {\n",
              "      border-color: transparent;\n",
              "      border-right-color: var(--fill-color);\n",
              "      border-top-color: var(--fill-color);\n",
              "    }\n",
              "    60% {\n",
              "      border-color: transparent;\n",
              "      border-right-color: var(--fill-color);\n",
              "    }\n",
              "    80% {\n",
              "      border-color: transparent;\n",
              "      border-right-color: var(--fill-color);\n",
              "      border-bottom-color: var(--fill-color);\n",
              "    }\n",
              "    90% {\n",
              "      border-color: transparent;\n",
              "      border-bottom-color: var(--fill-color);\n",
              "    }\n",
              "  }\n",
              "</style>\n",
              "\n",
              "  <script>\n",
              "    async function quickchart(key) {\n",
              "      const quickchartButtonEl =\n",
              "        document.querySelector('#' + key + ' button');\n",
              "      quickchartButtonEl.disabled = true;  // To prevent multiple clicks.\n",
              "      quickchartButtonEl.classList.add('colab-df-spinner');\n",
              "      try {\n",
              "        const charts = await google.colab.kernel.invokeFunction(\n",
              "            'suggestCharts', [key], {});\n",
              "      } catch (error) {\n",
              "        console.error('Error during call to suggestCharts:', error);\n",
              "      }\n",
              "      quickchartButtonEl.classList.remove('colab-df-spinner');\n",
              "      quickchartButtonEl.classList.add('colab-df-quickchart-complete');\n",
              "    }\n",
              "    (() => {\n",
              "      let quickchartButtonEl =\n",
              "        document.querySelector('#df-785a79fa-5450-4b49-a7e2-c6fb7e1a2592 button');\n",
              "      quickchartButtonEl.style.display =\n",
              "        google.colab.kernel.accessAllowed ? 'block' : 'none';\n",
              "    })();\n",
              "  </script>\n",
              "</div>\n",
              "    </div>\n",
              "  </div>\n"
            ]
          },
          "metadata": {},
          "execution_count": 6
        }
      ]
    },
    {
      "cell_type": "markdown",
      "source": [
        "# **c. Preguntando por la suma y la media de los tratamientos**"
      ],
      "metadata": {
        "id": "ft02mk74yK1E"
      }
    },
    {
      "cell_type": "markdown",
      "source": [
        "## **c1. El Total de los tratamientos**"
      ],
      "metadata": {
        "id": "ummK7yOoIHPG"
      }
    },
    {
      "cell_type": "code",
      "source": [
        "df1[(df1[\"Combinacion\"]==\"A\")].sum()"
      ],
      "metadata": {
        "colab": {
          "base_uri": "https://localhost:8080/"
        },
        "id": "dJh8GCwo__kL",
        "outputId": "e9f8e091-ca38-48b7-dcf5-157344861cac"
      },
      "execution_count": 7,
      "outputs": [
        {
          "output_type": "execute_result",
          "data": {
            "text/plain": [
              "MOMENTO        M1M2M3M4M5M6\n",
              "OPERADOR       O1O2O4O3O5O6\n",
              "Combinacion          AAAAAA\n",
              "Intensidad              560\n",
              "dtype: object"
            ]
          },
          "metadata": {},
          "execution_count": 7
        }
      ]
    },
    {
      "cell_type": "code",
      "source": [
        "M, O,  C,   sum_A = (df1[(df1[\"Combinacion\"]==\"A\")].sum())\n",
        "M, O,  C,   sum_B = (df1[(df1[\"Combinacion\"]==\"B\")].sum())\n",
        "M, O,  C,   sum_C = (df1[(df1[\"Combinacion\"]==\"C\")].sum())\n",
        "M, O,  C,   sum_D = (df1[(df1[\"Combinacion\"]==\"D\")].sum())\n",
        "M, O,  C,   sum_E = (df1[(df1[\"Combinacion\"]==\"E\")].sum())\n",
        "M, O,  C,   sum_F = (df1[(df1[\"Combinacion\"]==\"F\")].sum())\n",
        "sum_Y_ij = sum_A + sum_B + sum_C + sum_D + sum_E + sum_F\n",
        "sum_Tr_2 = sum_A**2 + sum_B**2 + sum_C**2 + sum_D**2 + sum_E**2 + sum_F**2\n",
        "sum_Y2_ij = (df1['Intensidad']*df1['Intensidad']).sum()"
      ],
      "metadata": {
        "id": "bL_eW4F5DInG"
      },
      "execution_count": 8,
      "outputs": []
    },
    {
      "cell_type": "markdown",
      "source": [
        "## **c2. La media de los de los tratamientos**"
      ],
      "metadata": {
        "id": "PMAEDyi2IO6Q"
      }
    },
    {
      "cell_type": "code",
      "source": [
        "media_A = sum_A/6\n",
        "media_B = sum_B/6\n",
        "media_C = sum_C/6\n",
        "media_D = sum_D/6\n",
        "media_E = sum_E/6\n",
        "media_F = sum_F/6"
      ],
      "metadata": {
        "id": "_1T_7l2lDIrf"
      },
      "execution_count": 9,
      "outputs": []
    },
    {
      "cell_type": "markdown",
      "source": [
        "## **c3.Tabla Resumen**"
      ],
      "metadata": {
        "id": "4lGxWmBNIU5N"
      }
    },
    {
      "cell_type": "code",
      "source": [
        "# Tabla Resumen\n",
        "t1 = Texttable()\n",
        "t1.add_rows([['Tratamiento = T','suma_T','media_T', 'suma_T^2' ],\n",
        "           ['A',\tsum_A, media_A,\tsum_A**2],\n",
        "           ['B',\tsum_B, media_B,\tsum_B**2],\n",
        "           ['C',\tsum_C, media_C,\tsum_C**2],\n",
        "           ['D',\tsum_D, media_D,\tsum_D**2],\n",
        "           ['E',\tsum_E, media_E, sum_E**2],\n",
        "           ['F',\tsum_F, media_F, sum_F**2],\n",
        "           ['sum_Y_ij',\tsum_Y_ij, 'sum_Y_ij2', sum_Y_ij**2],\n",
        "           ['sum_Y2_ij',\tsum_Y2_ij, 'sum_Tr_2', sum_Tr_2]  ])\n",
        "print(t1.draw())"
      ],
      "metadata": {
        "colab": {
          "base_uri": "https://localhost:8080/"
        },
        "id": "pN_pIHbuDIvH",
        "outputId": "1ea00459-b9de-42b9-b3a1-7ea9488dd9f2"
      },
      "execution_count": 10,
      "outputs": [
        {
          "output_type": "stream",
          "name": "stdout",
          "text": [
            "+-----------------+--------+-----------+----------+\n",
            "| Tratamiento = T | suma_T |  media_T  | suma_T^2 |\n",
            "+=================+========+===========+==========+\n",
            "| A               | 560    | 93.333    | 313600   |\n",
            "+-----------------+--------+-----------+----------+\n",
            "| B               | 607    | 101.167   | 368449   |\n",
            "+-----------------+--------+-----------+----------+\n",
            "| C               | 646    | 107.667   | 417316   |\n",
            "+-----------------+--------+-----------+----------+\n",
            "| D               | 512    | 85.333    | 262144   |\n",
            "+-----------------+--------+-----------+----------+\n",
            "| E               | 528    | 88        | 278784   |\n",
            "+-----------------+--------+-----------+----------+\n",
            "| F               | 543    | 90.500    | 294849   |\n",
            "+-----------------+--------+-----------+----------+\n",
            "| sum_Y_ij        | 3396   | sum_Y_ij2 | 11532816 |\n",
            "+-----------------+--------+-----------+----------+\n",
            "| sum_Y2_ij       | 323154 | sum_Tr_2  | 1935142  |\n",
            "+-----------------+--------+-----------+----------+\n"
          ]
        }
      ]
    },
    {
      "cell_type": "markdown",
      "source": [
        "# **d. Preguntando por la suma y la media de los Bloques**"
      ],
      "metadata": {
        "id": "SWbbiRdrLrrj"
      }
    },
    {
      "cell_type": "code",
      "source": [
        "M, O,  C,   sum_M1 = (df1[(df1[\"MOMENTO\"]==\"M1\")].sum())\n",
        "M, O,  C,   sum_M2 = (df1[(df1[\"MOMENTO\"]==\"M2\")].sum())\n",
        "M, O,  C,   sum_M3 = (df1[(df1[\"MOMENTO\"]==\"M3\")].sum())\n",
        "M, O,  C,   sum_M4 = (df1[(df1[\"MOMENTO\"]==\"M4\")].sum())\n",
        "M, O,  C,   sum_M5 = (df1[(df1[\"MOMENTO\"]==\"M5\")].sum())\n",
        "M, O,  C,   sum_M6 = (df1[(df1[\"MOMENTO\"]==\"M6\")].sum())\n",
        "\n",
        "M, O,  C,   sum_O1 = (df1[(df1[\"OPERADOR\"]==\"O1\")].sum())\n",
        "M, O,  C,   sum_O2 = (df1[(df1[\"OPERADOR\"]==\"O2\")].sum())\n",
        "M, O,  C,   sum_O3 = (df1[(df1[\"OPERADOR\"]==\"O3\")].sum())\n",
        "M, O,  C,   sum_O4 = (df1[(df1[\"OPERADOR\"]==\"O4\")].sum())\n",
        "M, O,  C,   sum_O5 = (df1[(df1[\"OPERADOR\"]==\"O5\")].sum())\n",
        "M, O,  C,   sum_O6 = (df1[(df1[\"OPERADOR\"]==\"O6\")].sum())\n",
        "\n",
        "\n"
      ],
      "metadata": {
        "id": "n8wHcyo8LvoC"
      },
      "execution_count": 11,
      "outputs": []
    },
    {
      "cell_type": "markdown",
      "source": [
        "# **Paso_3. Anova del modelo 1**"
      ],
      "metadata": {
        "id": "xbwS2QNTNa9h"
      }
    },
    {
      "cell_type": "markdown",
      "source": [
        "## **a. Variabilidad y varianza de los tratamientos**"
      ],
      "metadata": {
        "id": "J-_3hDu19Yj1"
      }
    },
    {
      "cell_type": "code",
      "source": [
        "## **a. Variabilidad y varianza de los tratamientos**\n",
        "k = 6 # Total Tratamientos\n",
        "SCTr = sum_Tr_2/k - sum_Y_ij**2/k**2\n",
        "CMTr = SCTr/(k-1)\n",
        "print(f'Variabilidad de los tratamientos es SCTr = {SCTr}')\n",
        "print(f'Varianza de los tratamientos es CMTr = {CMTr}')"
      ],
      "metadata": {
        "colab": {
          "base_uri": "https://localhost:8080/"
        },
        "id": "OibclBPwLvsI",
        "outputId": "28c63973-3a10-4790-cdc4-c9de59ef88a4"
      },
      "execution_count": 12,
      "outputs": [
        {
          "output_type": "stream",
          "name": "stdout",
          "text": [
            "Variabilidad de los tratamientos es SCTr = 2167.666666666686\n",
            "Varianza de los tratamientos es CMTr = 433.5333333333372\n"
          ]
        }
      ]
    },
    {
      "cell_type": "markdown",
      "source": [
        "## **b. Variabilidad y varianza de los Bloques**"
      ],
      "metadata": {
        "id": "5ZhMpry19rf9"
      }
    },
    {
      "cell_type": "code",
      "source": [
        "## **b. Variabilidad y varianza de los Bloques**\n",
        "SCB1 = (sum_M1**2+sum_M2**2+sum_M3**2+sum_M4**2+sum_M5**2+sum_M6**2)/k - sum_Y_ij**2/k**2\n",
        "CMB1 = SCB1/(k-1)\n",
        "print(f'Variabilidad de Bloque 1 es SCB1 = {SCB1}')\n",
        "print(f'Varianza de Bloque 1 e es CMB1 = {CMB1}')"
      ],
      "metadata": {
        "colab": {
          "base_uri": "https://localhost:8080/"
        },
        "id": "34ulIH3FLvw6",
        "outputId": "44c2c536-4cf8-426d-8c64-52e2f499cfde"
      },
      "execution_count": 13,
      "outputs": [
        {
          "output_type": "stream",
          "name": "stdout",
          "text": [
            "Variabilidad de Bloque 1 es SCB1 = 4.333333333313931\n",
            "Varianza de Bloque 1 e es CMB1 = 0.8666666666627861\n"
          ]
        }
      ]
    },
    {
      "cell_type": "code",
      "source": [
        "## **b. Variabilidad y varianza de los Bloques**\n",
        "SCB2 = (sum_O1**2+sum_O2**2+sum_O3**2+sum_O4**2+sum_O5**2+sum_O6**2)/k - sum_Y_ij**2/k**2\n",
        "CMB2 = SCB2/(k-1)\n",
        "print(f'Variabilidad de Bloque 2 es SCB2 = {SCB2}')\n",
        "print(f'Varianza de Bloque 2 e es CMB2 = {CMB2}')"
      ],
      "metadata": {
        "colab": {
          "base_uri": "https://localhost:8080/"
        },
        "id": "ZQBOW-s-PHkB",
        "outputId": "f81b8694-26fc-4828-ffe4-1b0d608c9861"
      },
      "execution_count": 14,
      "outputs": [
        {
          "output_type": "stream",
          "name": "stdout",
          "text": [
            "Variabilidad de Bloque 2 es SCB2 = 428.0\n",
            "Varianza de Bloque 2 e es CMB2 = 85.6\n"
          ]
        }
      ]
    },
    {
      "cell_type": "markdown",
      "source": [
        "## **c. La variabilidad y varianza de los datos**"
      ],
      "metadata": {
        "id": "7gzmz_wU-cbs"
      }
    },
    {
      "cell_type": "code",
      "source": [
        "## **c. La variabilidad y varianza de los datos**\n",
        "SCT = sum_Y2_ij - sum_Y_ij**2/k**2\n",
        "CMT = SCT/(k**2-1)\n",
        "print(f'Variabilidad Total es SCT = {SCT}')\n",
        "print(f'Varianza Total es CMT  = {CMT}')"
      ],
      "metadata": {
        "colab": {
          "base_uri": "https://localhost:8080/"
        },
        "id": "YfHUpZ4yDIzL",
        "outputId": "2cfa1152-88ed-4daf-b304-977810da0a8c"
      },
      "execution_count": 15,
      "outputs": [
        {
          "output_type": "stream",
          "name": "stdout",
          "text": [
            "Variabilidad Total es SCT = 2798.0\n",
            "Varianza Total es CMT  = 79.94285714285714\n"
          ]
        }
      ]
    },
    {
      "cell_type": "markdown",
      "source": [
        "## **d. La variabilidad y varianza del Error**"
      ],
      "metadata": {
        "id": "63VwifVX-joe"
      }
    },
    {
      "cell_type": "code",
      "source": [
        "## **d. La variabilidad y varianza del Error**\n",
        "SCE = SCT - SCTr -SCB1 - SCB2\n",
        "CME = SCE/((k-2)*(k-1))\n",
        "print(f'Variabilidad del error es SCE = {SCE}')\n",
        "print(f'Varuanza del Error es  CME = {CME}')"
      ],
      "metadata": {
        "colab": {
          "base_uri": "https://localhost:8080/"
        },
        "id": "AbY8K_Y3QjyR",
        "outputId": "e7a2dad3-e326-49e1-a142-cd952932cd86"
      },
      "execution_count": 16,
      "outputs": [
        {
          "output_type": "stream",
          "name": "stdout",
          "text": [
            "Variabilidad del error es SCE = 198.0\n",
            "Varuanza del Error es  CME = 9.9\n"
          ]
        }
      ]
    },
    {
      "cell_type": "markdown",
      "source": [
        "## **e. El Valor p para cada prueba del Anova**"
      ],
      "metadata": {
        "id": "0jxiOe3Z-8KO"
      }
    },
    {
      "cell_type": "code",
      "source": [
        "## **e. El Valor p para cada prueba del Anova**\n",
        "from scipy import stats\n",
        "F = stats.f(k-1,(k-3)*(k-1))\n",
        "\n",
        "valor_p1 = 1 - F.cdf(CMTr/CME)\n",
        "valor_p2 = 1 - F.cdf(CMB1/CME)\n",
        "valor_p3 = 1 - F.cdf(CMB2/CME)"
      ],
      "metadata": {
        "id": "JVGkXZKDPHxK"
      },
      "execution_count": 17,
      "outputs": []
    },
    {
      "cell_type": "markdown",
      "source": [
        "## **f. La Tabla Anova es**"
      ],
      "metadata": {
        "id": "XfV6_xsp_MFa"
      }
    },
    {
      "cell_type": "code",
      "source": [
        "## **f. La Tabla Anova es**\n",
        "t2 = Texttable()\n",
        "t2.add_rows([['Fuente','SS', 'g.l', 'MS', 'F', 'valor_p'],\n",
        "           ['Tratamiento',\tSCTr,\tk-1,\tCMTr,\tCMTr/CME, valor_p1],\n",
        "           ['MOMENTO',\tSCB1,\tk-1,\tCMB1,\tCMB1/CME, valor_p2],\n",
        "           ['OPERADOR',\tSCB2,\tk-1,\tCMB2,\tCMB2/CME, valor_p3],\n",
        "           ['Error',\tSCE,\t(k-2)*(k-1),\tCME, '', ''],\n",
        "           ['Total',\tSCT,\tk**2-1, '' , '', '']])\n",
        "print(t2.draw())"
      ],
      "metadata": {
        "colab": {
          "base_uri": "https://localhost:8080/"
        },
        "id": "e1CQLr_DPHoV",
        "outputId": "8397ebfb-8b12-43e0-e3c8-1c60cb693dba"
      },
      "execution_count": 18,
      "outputs": [
        {
          "output_type": "stream",
          "name": "stdout",
          "text": [
            "+-------------+----------+-----+---------+--------+---------+\n",
            "|   Fuente    |    SS    | g.l |   MS    |   F    | valor_p |\n",
            "+=============+==========+=====+=========+========+=========+\n",
            "| Tratamiento | 2167.667 | 5   | 433.533 | 43.791 | 0.000   |\n",
            "+-------------+----------+-----+---------+--------+---------+\n",
            "| MOMENTO     | 4.333    | 5   | 0.867   | 0.088  | 0.993   |\n",
            "+-------------+----------+-----+---------+--------+---------+\n",
            "| OPERADOR    | 428      | 5   | 85.600  | 8.646  | 0.001   |\n",
            "+-------------+----------+-----+---------+--------+---------+\n",
            "| Error       | 198      | 20  | 9.900   |        |         |\n",
            "+-------------+----------+-----+---------+--------+---------+\n",
            "| Total       | 2798     | 35  |         |        |         |\n",
            "+-------------+----------+-----+---------+--------+---------+\n"
          ]
        }
      ]
    },
    {
      "cell_type": "markdown",
      "source": [
        "## **g. Prueba de rangos Múltiples**"
      ],
      "metadata": {
        "id": "4hZuDScKAnX8"
      }
    },
    {
      "cell_type": "markdown",
      "source": [
        "# **h. Prueba de Tukey**\n",
        "\n",
        "- $$Tukey_{DCL} = Q_{0.05,k,(k-2)(k-1)}\\sqrt{\\frac{CME}{k}}$$"
      ],
      "metadata": {
        "id": "wdVx92ggA-pM"
      }
    },
    {
      "cell_type": "markdown",
      "source": [
        "## **h1 Valor critico de la tabla de rango Estudentizado**"
      ],
      "metadata": {
        "id": "gKDTovsCFE1d"
      }
    },
    {
      "cell_type": "code",
      "source": [
        "## **h1 Valor critico de la tabla de rango Estudentizado**\n",
        "k = 6\n",
        "num = k-2; denom = (k-2)*(k-1)-2\n",
        "Q_Tukey = RST_Q[num][denom]\n",
        "print(f'El valor crítico de la tabla de Rango estudentizado es Q_Tukey = {Q_Tukey}')"
      ],
      "metadata": {
        "colab": {
          "base_uri": "https://localhost:8080/"
        },
        "id": "ui6V6K4yD-sE",
        "outputId": "27ac552f-5d31-4500-ee80-566b412cc359"
      },
      "execution_count": 19,
      "outputs": [
        {
          "output_type": "stream",
          "name": "stdout",
          "text": [
            "El valor crítico de la tabla de Rango estudentizado es Q_Tukey = 4.45\n"
          ]
        }
      ]
    },
    {
      "cell_type": "markdown",
      "source": [
        "## **h2. Los Límites de los intervalos de Tukey es**"
      ],
      "metadata": {
        "id": "0kmQ_LAPFhyo"
      }
    },
    {
      "cell_type": "code",
      "source": [
        "Tukey_DCL = Q_Tukey*((CME/k)**0.5)\n",
        "print(f'El valor para el intervalo de confianza de Tukey es Tukey_DCL = {Tukey_DCL}')\n"
      ],
      "metadata": {
        "colab": {
          "base_uri": "https://localhost:8080/"
        },
        "id": "2L1IM9HUFqhW",
        "outputId": "32675631-7afa-4f2e-f495-430504d3bbb5"
      },
      "execution_count": 20,
      "outputs": [
        {
          "output_type": "stream",
          "name": "stdout",
          "text": [
            "El valor para el intervalo de confianza de Tukey es Tukey_DCL = 5.7161284975059825\n"
          ]
        }
      ]
    },
    {
      "cell_type": "markdown",
      "source": [
        "## **h3. Prueba HSD de Tukey manual**"
      ],
      "metadata": {
        "id": "PsPn46UEJjel"
      }
    },
    {
      "cell_type": "code",
      "source": [
        "HSD_1 = Texttable()\n",
        "HSD_1.add_rows ([['Tratamiento','valor absoluto diferencia Media', 'Tukey', 'HAY DIFERENCIAS: 1 = SI, 0 = NO','LINF', 'LSUP' ],\n",
        "  ['A-B', abs(media_A-media_B)\t,\tTukey_DCL,\tabs(media_A-media_B)>Tukey_DCL, media_A-media_B-Tukey_DCL, media_A-media_B +Tukey_DCL],\n",
        "  ['A-C', abs(media_A-media_C)\t,\tTukey_DCL,\tabs(media_A-media_C)>Tukey_DCL, media_A-media_C-Tukey_DCL, media_A-media_C +Tukey_DCL],\n",
        "  ['A-D', abs(media_A-media_D)\t,\tTukey_DCL,\tabs(media_A-media_D)>Tukey_DCL, media_A-media_D-Tukey_DCL, media_A-media_D +Tukey_DCL],\n",
        "  ['A-E', abs(media_A-media_E)\t,\tTukey_DCL,\tabs(media_A-media_E)>Tukey_DCL, media_A-media_E-Tukey_DCL, media_A-media_E +Tukey_DCL],\n",
        "  ['A-F', abs(media_A-media_F)\t,\tTukey_DCL,\tabs(media_A-media_F)>Tukey_DCL, media_A-media_F-Tukey_DCL, media_A-media_F +Tukey_DCL],\n",
        "  ['B-C', abs(media_B-media_C)\t,\tTukey_DCL,\tabs(media_B-media_C)>Tukey_DCL, media_B-media_C-Tukey_DCL, media_B-media_C +Tukey_DCL],\n",
        "  ['B-D', abs(media_B-media_D)\t,\tTukey_DCL,\tabs(media_B-media_D)>Tukey_DCL, media_B-media_D-Tukey_DCL, media_B-media_D +Tukey_DCL],\n",
        "  ['B-E', abs(media_B-media_E)\t,\tTukey_DCL,\tabs(media_B-media_E)>Tukey_DCL, media_B-media_E-Tukey_DCL, media_B-media_E +Tukey_DCL],\n",
        "  ['B-F', abs(media_B-media_F)\t,\tTukey_DCL,\tabs(media_B-media_F)>Tukey_DCL, media_B-media_F-Tukey_DCL, media_B-media_F +Tukey_DCL],\n",
        "  ['C-D', abs(media_C-media_D)\t,\tTukey_DCL,\tabs(media_C-media_D)>Tukey_DCL, media_C-media_D-Tukey_DCL, media_C-media_D +Tukey_DCL],\n",
        "  ['C-E', abs(media_C-media_E)\t,\tTukey_DCL,\tabs(media_C-media_E)>Tukey_DCL, media_C-media_E-Tukey_DCL, media_C-media_E +Tukey_DCL],\n",
        "  ['C-F', abs(media_C-media_F)\t,\tTukey_DCL,\tabs(media_C-media_F)>Tukey_DCL, media_C-media_F-Tukey_DCL, media_C-media_F +Tukey_DCL],\n",
        "  ['D-E', abs(media_D-media_E)\t,\tTukey_DCL,\tabs(media_D-media_E)>Tukey_DCL, media_D-media_E-Tukey_DCL, media_D-media_E +Tukey_DCL],\n",
        "  ['D-F', abs(media_D-media_F)\t,\tTukey_DCL,\tabs(media_D-media_F)>Tukey_DCL, media_D-media_F-Tukey_DCL, media_D-media_F +Tukey_DCL],\n",
        "  ['E-F', abs(media_E-media_F)\t,\tTukey_DCL,\tabs(media_E-media_F)>Tukey_DCL, media_E-media_F-Tukey_DCL, media_E-media_F +Tukey_DCL]])\n",
        "print(HSD_1.draw())"
      ],
      "metadata": {
        "colab": {
          "base_uri": "https://localhost:8080/"
        },
        "id": "FVQA0SElDI3L",
        "outputId": "0dd18daf-7c50-4336-8188-685ea2dc3c92"
      },
      "execution_count": 70,
      "outputs": [
        {
          "output_type": "stream",
          "name": "stdout",
          "text": [
            "+-------------+------------------+-------+------------------+---------+--------+\n",
            "| Tratamiento |  valor absoluto  | Tukey | HAY DIFERENCIAS: |  LINF   |  LSUP  |\n",
            "|             | diferencia Media |       |  1 = SI, 0 = NO  |         |        |\n",
            "+=============+==================+=======+==================+=========+========+\n",
            "| A-B         | 7.833            | 5.716 | 1                | -13.549 | -2.117 |\n",
            "+-------------+------------------+-------+------------------+---------+--------+\n",
            "| A-C         | 14.333           | 5.716 | 1                | -20.049 | -8.617 |\n",
            "+-------------+------------------+-------+------------------+---------+--------+\n",
            "| A-D         | 8                | 5.716 | 1                | 2.284   | 13.716 |\n",
            "+-------------+------------------+-------+------------------+---------+--------+\n",
            "| A-E         | 5.333            | 5.716 | 0                | -0.383  | 11.049 |\n",
            "+-------------+------------------+-------+------------------+---------+--------+\n",
            "| A-F         | 2.833            | 5.716 | 0                | -2.883  | 8.549  |\n",
            "+-------------+------------------+-------+------------------+---------+--------+\n",
            "| B-C         | 6.500            | 5.716 | 1                | -12.216 | -0.784 |\n",
            "+-------------+------------------+-------+------------------+---------+--------+\n",
            "| B-D         | 15.833           | 5.716 | 1                | 10.117  | 21.549 |\n",
            "+-------------+------------------+-------+------------------+---------+--------+\n",
            "| B-E         | 13.167           | 5.716 | 1                | 7.451   | 18.883 |\n",
            "+-------------+------------------+-------+------------------+---------+--------+\n",
            "| B-F         | 10.667           | 5.716 | 1                | 4.951   | 16.383 |\n",
            "+-------------+------------------+-------+------------------+---------+--------+\n",
            "| C-D         | 22.333           | 5.716 | 1                | 16.617  | 28.049 |\n",
            "+-------------+------------------+-------+------------------+---------+--------+\n",
            "| C-E         | 19.667           | 5.716 | 1                | 13.951  | 25.383 |\n",
            "+-------------+------------------+-------+------------------+---------+--------+\n",
            "| C-F         | 17.167           | 5.716 | 1                | 11.451  | 22.883 |\n",
            "+-------------+------------------+-------+------------------+---------+--------+\n",
            "| D-E         | 2.667            | 5.716 | 0                | -8.383  | 3.049  |\n",
            "+-------------+------------------+-------+------------------+---------+--------+\n",
            "| D-F         | 5.167            | 5.716 | 0                | -10.883 | 0.549  |\n",
            "+-------------+------------------+-------+------------------+---------+--------+\n",
            "| E-F         | 2.500            | 5.716 | 0                | -8.216  | 3.216  |\n",
            "+-------------+------------------+-------+------------------+---------+--------+\n"
          ]
        }
      ]
    },
    {
      "cell_type": "markdown",
      "source": [
        "![image.png](data:image/png;base64,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)"
      ],
      "metadata": {
        "id": "L_cvoO_HYMD4"
      }
    },
    {
      "cell_type": "markdown",
      "source": [
        "# **Paso_3. El Modelo a estudiar**\n",
        "$$Y_{ij} = μ + Filtro_i +Ruido_j + (FR)_{ij} + Momento_k + Operador_k + 𝛆_{ijkl}$$"
      ],
      "metadata": {
        "id": "Ttk9q3mOLbiK"
      }
    },
    {
      "cell_type": "markdown",
      "source": [
        "## **a. Construimos el DataFrame**"
      ],
      "metadata": {
        "id": "Pbj4k1_4yRG_"
      }
    },
    {
      "cell_type": "code",
      "source": [
        "## **b. El DataFrame**\n",
        "df = pd.DataFrame({'MOMENTO':MOMENTO,'OPERADOR':OPERADOR , 'FILTRO':FILTRO,'RUIDO':RUIDO , 'Intensidad':Intensidad})\n",
        "df.head(12)"
      ],
      "metadata": {
        "colab": {
          "base_uri": "https://localhost:8080/",
          "height": 425
        },
        "id": "62d6kWTquNwO",
        "outputId": "116a45f1-d641-40bf-f487-5739312709e1"
      },
      "execution_count": 22,
      "outputs": [
        {
          "output_type": "execute_result",
          "data": {
            "text/plain": [
              "   MOMENTO OPERADOR FILTRO RUIDO  Intensidad\n",
              "0       M1       O1     F1    R1          90\n",
              "1       M1       O2     F1    R2         106\n",
              "2       M1       O3     F1    R3         108\n",
              "3       M1       O4     F2    R1          81\n",
              "4       M1       O5     F2    R3          90\n",
              "5       M1       O6     F2    R2          88\n",
              "6       M2       O1     F1    R3         114\n",
              "7       M2       O2     F1    R1          96\n",
              "8       M2       O3     F1    R2         105\n",
              "9       M2       O4     F2    R3          83\n",
              "10      M2       O5     F2    R2          86\n",
              "11      M2       O6     F2    R1          84"
            ],
            "text/html": [
              "\n",
              "  <div id=\"df-c072a5a1-12f2-444e-a58f-0b387ebd4344\" class=\"colab-df-container\">\n",
              "    <div>\n",
              "<style scoped>\n",
              "    .dataframe tbody tr th:only-of-type {\n",
              "        vertical-align: middle;\n",
              "    }\n",
              "\n",
              "    .dataframe tbody tr th {\n",
              "        vertical-align: top;\n",
              "    }\n",
              "\n",
              "    .dataframe thead th {\n",
              "        text-align: right;\n",
              "    }\n",
              "</style>\n",
              "<table border=\"1\" class=\"dataframe\">\n",
              "  <thead>\n",
              "    <tr style=\"text-align: right;\">\n",
              "      <th></th>\n",
              "      <th>MOMENTO</th>\n",
              "      <th>OPERADOR</th>\n",
              "      <th>FILTRO</th>\n",
              "      <th>RUIDO</th>\n",
              "      <th>Intensidad</th>\n",
              "    </tr>\n",
              "  </thead>\n",
              "  <tbody>\n",
              "    <tr>\n",
              "      <th>0</th>\n",
              "      <td>M1</td>\n",
              "      <td>O1</td>\n",
              "      <td>F1</td>\n",
              "      <td>R1</td>\n",
              "      <td>90</td>\n",
              "    </tr>\n",
              "    <tr>\n",
              "      <th>1</th>\n",
              "      <td>M1</td>\n",
              "      <td>O2</td>\n",
              "      <td>F1</td>\n",
              "      <td>R2</td>\n",
              "      <td>106</td>\n",
              "    </tr>\n",
              "    <tr>\n",
              "      <th>2</th>\n",
              "      <td>M1</td>\n",
              "      <td>O3</td>\n",
              "      <td>F1</td>\n",
              "      <td>R3</td>\n",
              "      <td>108</td>\n",
              "    </tr>\n",
              "    <tr>\n",
              "      <th>3</th>\n",
              "      <td>M1</td>\n",
              "      <td>O4</td>\n",
              "      <td>F2</td>\n",
              "      <td>R1</td>\n",
              "      <td>81</td>\n",
              "    </tr>\n",
              "    <tr>\n",
              "      <th>4</th>\n",
              "      <td>M1</td>\n",
              "      <td>O5</td>\n",
              "      <td>F2</td>\n",
              "      <td>R3</td>\n",
              "      <td>90</td>\n",
              "    </tr>\n",
              "    <tr>\n",
              "      <th>5</th>\n",
              "      <td>M1</td>\n",
              "      <td>O6</td>\n",
              "      <td>F2</td>\n",
              "      <td>R2</td>\n",
              "      <td>88</td>\n",
              "    </tr>\n",
              "    <tr>\n",
              "      <th>6</th>\n",
              "      <td>M2</td>\n",
              "      <td>O1</td>\n",
              "      <td>F1</td>\n",
              "      <td>R3</td>\n",
              "      <td>114</td>\n",
              "    </tr>\n",
              "    <tr>\n",
              "      <th>7</th>\n",
              "      <td>M2</td>\n",
              "      <td>O2</td>\n",
              "      <td>F1</td>\n",
              "      <td>R1</td>\n",
              "      <td>96</td>\n",
              "    </tr>\n",
              "    <tr>\n",
              "      <th>8</th>\n",
              "      <td>M2</td>\n",
              "      <td>O3</td>\n",
              "      <td>F1</td>\n",
              "      <td>R2</td>\n",
              "      <td>105</td>\n",
              "    </tr>\n",
              "    <tr>\n",
              "      <th>9</th>\n",
              "      <td>M2</td>\n",
              "      <td>O4</td>\n",
              "      <td>F2</td>\n",
              "      <td>R3</td>\n",
              "      <td>83</td>\n",
              "    </tr>\n",
              "    <tr>\n",
              "      <th>10</th>\n",
              "      <td>M2</td>\n",
              "      <td>O5</td>\n",
              "      <td>F2</td>\n",
              "      <td>R2</td>\n",
              "      <td>86</td>\n",
              "    </tr>\n",
              "    <tr>\n",
              "      <th>11</th>\n",
              "      <td>M2</td>\n",
              "      <td>O6</td>\n",
              "      <td>F2</td>\n",
              "      <td>R1</td>\n",
              "      <td>84</td>\n",
              "    </tr>\n",
              "  </tbody>\n",
              "</table>\n",
              "</div>\n",
              "    <div class=\"colab-df-buttons\">\n",
              "\n",
              "  <div class=\"colab-df-container\">\n",
              "    <button class=\"colab-df-convert\" onclick=\"convertToInteractive('df-c072a5a1-12f2-444e-a58f-0b387ebd4344')\"\n",
              "            title=\"Convert this dataframe to an interactive table.\"\n",
              "            style=\"display:none;\">\n",
              "\n",
              "  <svg xmlns=\"http://www.w3.org/2000/svg\" height=\"24px\" viewBox=\"0 -960 960 960\">\n",
              "    <path d=\"M120-120v-720h720v720H120Zm60-500h600v-160H180v160Zm220 220h160v-160H400v160Zm0 220h160v-160H400v160ZM180-400h160v-160H180v160Zm440 0h160v-160H620v160ZM180-180h160v-160H180v160Zm440 0h160v-160H620v160Z\"/>\n",
              "  </svg>\n",
              "    </button>\n",
              "\n",
              "  <style>\n",
              "    .colab-df-container {\n",
              "      display:flex;\n",
              "      gap: 12px;\n",
              "    }\n",
              "\n",
              "    .colab-df-convert {\n",
              "      background-color: #E8F0FE;\n",
              "      border: none;\n",
              "      border-radius: 50%;\n",
              "      cursor: pointer;\n",
              "      display: none;\n",
              "      fill: #1967D2;\n",
              "      height: 32px;\n",
              "      padding: 0 0 0 0;\n",
              "      width: 32px;\n",
              "    }\n",
              "\n",
              "    .colab-df-convert:hover {\n",
              "      background-color: #E2EBFA;\n",
              "      box-shadow: 0px 1px 2px rgba(60, 64, 67, 0.3), 0px 1px 3px 1px rgba(60, 64, 67, 0.15);\n",
              "      fill: #174EA6;\n",
              "    }\n",
              "\n",
              "    .colab-df-buttons div {\n",
              "      margin-bottom: 4px;\n",
              "    }\n",
              "\n",
              "    [theme=dark] .colab-df-convert {\n",
              "      background-color: #3B4455;\n",
              "      fill: #D2E3FC;\n",
              "    }\n",
              "\n",
              "    [theme=dark] .colab-df-convert:hover {\n",
              "      background-color: #434B5C;\n",
              "      box-shadow: 0px 1px 3px 1px rgba(0, 0, 0, 0.15);\n",
              "      filter: drop-shadow(0px 1px 2px rgba(0, 0, 0, 0.3));\n",
              "      fill: #FFFFFF;\n",
              "    }\n",
              "  </style>\n",
              "\n",
              "    <script>\n",
              "      const buttonEl =\n",
              "        document.querySelector('#df-c072a5a1-12f2-444e-a58f-0b387ebd4344 button.colab-df-convert');\n",
              "      buttonEl.style.display =\n",
              "        google.colab.kernel.accessAllowed ? 'block' : 'none';\n",
              "\n",
              "      async function convertToInteractive(key) {\n",
              "        const element = document.querySelector('#df-c072a5a1-12f2-444e-a58f-0b387ebd4344');\n",
              "        const dataTable =\n",
              "          await google.colab.kernel.invokeFunction('convertToInteractive',\n",
              "                                                    [key], {});\n",
              "        if (!dataTable) return;\n",
              "\n",
              "        const docLinkHtml = 'Like what you see? Visit the ' +\n",
              "          '<a target=\"_blank\" href=https://colab.research.google.com/notebooks/data_table.ipynb>data table notebook</a>'\n",
              "          + ' to learn more about interactive tables.';\n",
              "        element.innerHTML = '';\n",
              "        dataTable['output_type'] = 'display_data';\n",
              "        await google.colab.output.renderOutput(dataTable, element);\n",
              "        const docLink = document.createElement('div');\n",
              "        docLink.innerHTML = docLinkHtml;\n",
              "        element.appendChild(docLink);\n",
              "      }\n",
              "    </script>\n",
              "  </div>\n",
              "\n",
              "\n",
              "<div id=\"df-6101b325-eb15-44e0-a549-f5c66ccf8753\">\n",
              "  <button class=\"colab-df-quickchart\" onclick=\"quickchart('df-6101b325-eb15-44e0-a549-f5c66ccf8753')\"\n",
              "            title=\"Suggest charts.\"\n",
              "            style=\"display:none;\">\n",
              "\n",
              "<svg xmlns=\"http://www.w3.org/2000/svg\" height=\"24px\"viewBox=\"0 0 24 24\"\n",
              "     width=\"24px\">\n",
              "    <g>\n",
              "        <path d=\"M19 3H5c-1.1 0-2 .9-2 2v14c0 1.1.9 2 2 2h14c1.1 0 2-.9 2-2V5c0-1.1-.9-2-2-2zM9 17H7v-7h2v7zm4 0h-2V7h2v10zm4 0h-2v-4h2v4z\"/>\n",
              "    </g>\n",
              "</svg>\n",
              "  </button>\n",
              "\n",
              "<style>\n",
              "  .colab-df-quickchart {\n",
              "      --bg-color: #E8F0FE;\n",
              "      --fill-color: #1967D2;\n",
              "      --hover-bg-color: #E2EBFA;\n",
              "      --hover-fill-color: #174EA6;\n",
              "      --disabled-fill-color: #AAA;\n",
              "      --disabled-bg-color: #DDD;\n",
              "  }\n",
              "\n",
              "  [theme=dark] .colab-df-quickchart {\n",
              "      --bg-color: #3B4455;\n",
              "      --fill-color: #D2E3FC;\n",
              "      --hover-bg-color: #434B5C;\n",
              "      --hover-fill-color: #FFFFFF;\n",
              "      --disabled-bg-color: #3B4455;\n",
              "      --disabled-fill-color: #666;\n",
              "  }\n",
              "\n",
              "  .colab-df-quickchart {\n",
              "    background-color: var(--bg-color);\n",
              "    border: none;\n",
              "    border-radius: 50%;\n",
              "    cursor: pointer;\n",
              "    display: none;\n",
              "    fill: var(--fill-color);\n",
              "    height: 32px;\n",
              "    padding: 0;\n",
              "    width: 32px;\n",
              "  }\n",
              "\n",
              "  .colab-df-quickchart:hover {\n",
              "    background-color: var(--hover-bg-color);\n",
              "    box-shadow: 0 1px 2px rgba(60, 64, 67, 0.3), 0 1px 3px 1px rgba(60, 64, 67, 0.15);\n",
              "    fill: var(--button-hover-fill-color);\n",
              "  }\n",
              "\n",
              "  .colab-df-quickchart-complete:disabled,\n",
              "  .colab-df-quickchart-complete:disabled:hover {\n",
              "    background-color: var(--disabled-bg-color);\n",
              "    fill: var(--disabled-fill-color);\n",
              "    box-shadow: none;\n",
              "  }\n",
              "\n",
              "  .colab-df-spinner {\n",
              "    border: 2px solid var(--fill-color);\n",
              "    border-color: transparent;\n",
              "    border-bottom-color: var(--fill-color);\n",
              "    animation:\n",
              "      spin 1s steps(1) infinite;\n",
              "  }\n",
              "\n",
              "  @keyframes spin {\n",
              "    0% {\n",
              "      border-color: transparent;\n",
              "      border-bottom-color: var(--fill-color);\n",
              "      border-left-color: var(--fill-color);\n",
              "    }\n",
              "    20% {\n",
              "      border-color: transparent;\n",
              "      border-left-color: var(--fill-color);\n",
              "      border-top-color: var(--fill-color);\n",
              "    }\n",
              "    30% {\n",
              "      border-color: transparent;\n",
              "      border-left-color: var(--fill-color);\n",
              "      border-top-color: var(--fill-color);\n",
              "      border-right-color: var(--fill-color);\n",
              "    }\n",
              "    40% {\n",
              "      border-color: transparent;\n",
              "      border-right-color: var(--fill-color);\n",
              "      border-top-color: var(--fill-color);\n",
              "    }\n",
              "    60% {\n",
              "      border-color: transparent;\n",
              "      border-right-color: var(--fill-color);\n",
              "    }\n",
              "    80% {\n",
              "      border-color: transparent;\n",
              "      border-right-color: var(--fill-color);\n",
              "      border-bottom-color: var(--fill-color);\n",
              "    }\n",
              "    90% {\n",
              "      border-color: transparent;\n",
              "      border-bottom-color: var(--fill-color);\n",
              "    }\n",
              "  }\n",
              "</style>\n",
              "\n",
              "  <script>\n",
              "    async function quickchart(key) {\n",
              "      const quickchartButtonEl =\n",
              "        document.querySelector('#' + key + ' button');\n",
              "      quickchartButtonEl.disabled = true;  // To prevent multiple clicks.\n",
              "      quickchartButtonEl.classList.add('colab-df-spinner');\n",
              "      try {\n",
              "        const charts = await google.colab.kernel.invokeFunction(\n",
              "            'suggestCharts', [key], {});\n",
              "      } catch (error) {\n",
              "        console.error('Error during call to suggestCharts:', error);\n",
              "      }\n",
              "      quickchartButtonEl.classList.remove('colab-df-spinner');\n",
              "      quickchartButtonEl.classList.add('colab-df-quickchart-complete');\n",
              "    }\n",
              "    (() => {\n",
              "      let quickchartButtonEl =\n",
              "        document.querySelector('#df-6101b325-eb15-44e0-a549-f5c66ccf8753 button');\n",
              "      quickchartButtonEl.style.display =\n",
              "        google.colab.kernel.accessAllowed ? 'block' : 'none';\n",
              "    })();\n",
              "  </script>\n",
              "</div>\n",
              "    </div>\n",
              "  </div>\n"
            ]
          },
          "metadata": {},
          "execution_count": 22
        }
      ]
    },
    {
      "cell_type": "markdown",
      "source": [
        "## **b. Preguntando por un medida de una combinación de niveles**"
      ],
      "metadata": {
        "id": "KbErUi2OybDa"
      }
    },
    {
      "cell_type": "code",
      "source": [
        "df[(df[\"FILTRO\"]==\"F1\") & (df[\"RUIDO\"]==\"R1\")]"
      ],
      "metadata": {
        "colab": {
          "base_uri": "https://localhost:8080/",
          "height": 237
        },
        "id": "Wq-l3c-s6PJd",
        "outputId": "a2ba54f1-05f4-49d0-b213-08a389134706"
      },
      "execution_count": 23,
      "outputs": [
        {
          "output_type": "execute_result",
          "data": {
            "text/plain": [
              "   MOMENTO OPERADOR FILTRO RUIDO  Intensidad\n",
              "0       M1       O1     F1    R1          90\n",
              "7       M2       O2     F1    R1          96\n",
              "15      M3       O4     F1    R1          92\n",
              "20      M4       O3     F1    R1         100\n",
              "28      M5       O5     F1    R1          90\n",
              "35      M6       O6     F1    R1          92"
            ],
            "text/html": [
              "\n",
              "  <div id=\"df-a96a305c-f902-40f6-8705-bc7f1909cc70\" class=\"colab-df-container\">\n",
              "    <div>\n",
              "<style scoped>\n",
              "    .dataframe tbody tr th:only-of-type {\n",
              "        vertical-align: middle;\n",
              "    }\n",
              "\n",
              "    .dataframe tbody tr th {\n",
              "        vertical-align: top;\n",
              "    }\n",
              "\n",
              "    .dataframe thead th {\n",
              "        text-align: right;\n",
              "    }\n",
              "</style>\n",
              "<table border=\"1\" class=\"dataframe\">\n",
              "  <thead>\n",
              "    <tr style=\"text-align: right;\">\n",
              "      <th></th>\n",
              "      <th>MOMENTO</th>\n",
              "      <th>OPERADOR</th>\n",
              "      <th>FILTRO</th>\n",
              "      <th>RUIDO</th>\n",
              "      <th>Intensidad</th>\n",
              "    </tr>\n",
              "  </thead>\n",
              "  <tbody>\n",
              "    <tr>\n",
              "      <th>0</th>\n",
              "      <td>M1</td>\n",
              "      <td>O1</td>\n",
              "      <td>F1</td>\n",
              "      <td>R1</td>\n",
              "      <td>90</td>\n",
              "    </tr>\n",
              "    <tr>\n",
              "      <th>7</th>\n",
              "      <td>M2</td>\n",
              "      <td>O2</td>\n",
              "      <td>F1</td>\n",
              "      <td>R1</td>\n",
              "      <td>96</td>\n",
              "    </tr>\n",
              "    <tr>\n",
              "      <th>15</th>\n",
              "      <td>M3</td>\n",
              "      <td>O4</td>\n",
              "      <td>F1</td>\n",
              "      <td>R1</td>\n",
              "      <td>92</td>\n",
              "    </tr>\n",
              "    <tr>\n",
              "      <th>20</th>\n",
              "      <td>M4</td>\n",
              "      <td>O3</td>\n",
              "      <td>F1</td>\n",
              "      <td>R1</td>\n",
              "      <td>100</td>\n",
              "    </tr>\n",
              "    <tr>\n",
              "      <th>28</th>\n",
              "      <td>M5</td>\n",
              "      <td>O5</td>\n",
              "      <td>F1</td>\n",
              "      <td>R1</td>\n",
              "      <td>90</td>\n",
              "    </tr>\n",
              "    <tr>\n",
              "      <th>35</th>\n",
              "      <td>M6</td>\n",
              "      <td>O6</td>\n",
              "      <td>F1</td>\n",
              "      <td>R1</td>\n",
              "      <td>92</td>\n",
              "    </tr>\n",
              "  </tbody>\n",
              "</table>\n",
              "</div>\n",
              "    <div class=\"colab-df-buttons\">\n",
              "\n",
              "  <div class=\"colab-df-container\">\n",
              "    <button class=\"colab-df-convert\" onclick=\"convertToInteractive('df-a96a305c-f902-40f6-8705-bc7f1909cc70')\"\n",
              "            title=\"Convert this dataframe to an interactive table.\"\n",
              "            style=\"display:none;\">\n",
              "\n",
              "  <svg xmlns=\"http://www.w3.org/2000/svg\" height=\"24px\" viewBox=\"0 -960 960 960\">\n",
              "    <path d=\"M120-120v-720h720v720H120Zm60-500h600v-160H180v160Zm220 220h160v-160H400v160Zm0 220h160v-160H400v160ZM180-400h160v-160H180v160Zm440 0h160v-160H620v160ZM180-180h160v-160H180v160Zm440 0h160v-160H620v160Z\"/>\n",
              "  </svg>\n",
              "    </button>\n",
              "\n",
              "  <style>\n",
              "    .colab-df-container {\n",
              "      display:flex;\n",
              "      gap: 12px;\n",
              "    }\n",
              "\n",
              "    .colab-df-convert {\n",
              "      background-color: #E8F0FE;\n",
              "      border: none;\n",
              "      border-radius: 50%;\n",
              "      cursor: pointer;\n",
              "      display: none;\n",
              "      fill: #1967D2;\n",
              "      height: 32px;\n",
              "      padding: 0 0 0 0;\n",
              "      width: 32px;\n",
              "    }\n",
              "\n",
              "    .colab-df-convert:hover {\n",
              "      background-color: #E2EBFA;\n",
              "      box-shadow: 0px 1px 2px rgba(60, 64, 67, 0.3), 0px 1px 3px 1px rgba(60, 64, 67, 0.15);\n",
              "      fill: #174EA6;\n",
              "    }\n",
              "\n",
              "    .colab-df-buttons div {\n",
              "      margin-bottom: 4px;\n",
              "    }\n",
              "\n",
              "    [theme=dark] .colab-df-convert {\n",
              "      background-color: #3B4455;\n",
              "      fill: #D2E3FC;\n",
              "    }\n",
              "\n",
              "    [theme=dark] .colab-df-convert:hover {\n",
              "      background-color: #434B5C;\n",
              "      box-shadow: 0px 1px 3px 1px rgba(0, 0, 0, 0.15);\n",
              "      filter: drop-shadow(0px 1px 2px rgba(0, 0, 0, 0.3));\n",
              "      fill: #FFFFFF;\n",
              "    }\n",
              "  </style>\n",
              "\n",
              "    <script>\n",
              "      const buttonEl =\n",
              "        document.querySelector('#df-a96a305c-f902-40f6-8705-bc7f1909cc70 button.colab-df-convert');\n",
              "      buttonEl.style.display =\n",
              "        google.colab.kernel.accessAllowed ? 'block' : 'none';\n",
              "\n",
              "      async function convertToInteractive(key) {\n",
              "        const element = document.querySelector('#df-a96a305c-f902-40f6-8705-bc7f1909cc70');\n",
              "        const dataTable =\n",
              "          await google.colab.kernel.invokeFunction('convertToInteractive',\n",
              "                                                    [key], {});\n",
              "        if (!dataTable) return;\n",
              "\n",
              "        const docLinkHtml = 'Like what you see? Visit the ' +\n",
              "          '<a target=\"_blank\" href=https://colab.research.google.com/notebooks/data_table.ipynb>data table notebook</a>'\n",
              "          + ' to learn more about interactive tables.';\n",
              "        element.innerHTML = '';\n",
              "        dataTable['output_type'] = 'display_data';\n",
              "        await google.colab.output.renderOutput(dataTable, element);\n",
              "        const docLink = document.createElement('div');\n",
              "        docLink.innerHTML = docLinkHtml;\n",
              "        element.appendChild(docLink);\n",
              "      }\n",
              "    </script>\n",
              "  </div>\n",
              "\n",
              "\n",
              "<div id=\"df-316d310e-34a4-4422-97f3-4435ab14114e\">\n",
              "  <button class=\"colab-df-quickchart\" onclick=\"quickchart('df-316d310e-34a4-4422-97f3-4435ab14114e')\"\n",
              "            title=\"Suggest charts.\"\n",
              "            style=\"display:none;\">\n",
              "\n",
              "<svg xmlns=\"http://www.w3.org/2000/svg\" height=\"24px\"viewBox=\"0 0 24 24\"\n",
              "     width=\"24px\">\n",
              "    <g>\n",
              "        <path d=\"M19 3H5c-1.1 0-2 .9-2 2v14c0 1.1.9 2 2 2h14c1.1 0 2-.9 2-2V5c0-1.1-.9-2-2-2zM9 17H7v-7h2v7zm4 0h-2V7h2v10zm4 0h-2v-4h2v4z\"/>\n",
              "    </g>\n",
              "</svg>\n",
              "  </button>\n",
              "\n",
              "<style>\n",
              "  .colab-df-quickchart {\n",
              "      --bg-color: #E8F0FE;\n",
              "      --fill-color: #1967D2;\n",
              "      --hover-bg-color: #E2EBFA;\n",
              "      --hover-fill-color: #174EA6;\n",
              "      --disabled-fill-color: #AAA;\n",
              "      --disabled-bg-color: #DDD;\n",
              "  }\n",
              "\n",
              "  [theme=dark] .colab-df-quickchart {\n",
              "      --bg-color: #3B4455;\n",
              "      --fill-color: #D2E3FC;\n",
              "      --hover-bg-color: #434B5C;\n",
              "      --hover-fill-color: #FFFFFF;\n",
              "      --disabled-bg-color: #3B4455;\n",
              "      --disabled-fill-color: #666;\n",
              "  }\n",
              "\n",
              "  .colab-df-quickchart {\n",
              "    background-color: var(--bg-color);\n",
              "    border: none;\n",
              "    border-radius: 50%;\n",
              "    cursor: pointer;\n",
              "    display: none;\n",
              "    fill: var(--fill-color);\n",
              "    height: 32px;\n",
              "    padding: 0;\n",
              "    width: 32px;\n",
              "  }\n",
              "\n",
              "  .colab-df-quickchart:hover {\n",
              "    background-color: var(--hover-bg-color);\n",
              "    box-shadow: 0 1px 2px rgba(60, 64, 67, 0.3), 0 1px 3px 1px rgba(60, 64, 67, 0.15);\n",
              "    fill: var(--button-hover-fill-color);\n",
              "  }\n",
              "\n",
              "  .colab-df-quickchart-complete:disabled,\n",
              "  .colab-df-quickchart-complete:disabled:hover {\n",
              "    background-color: var(--disabled-bg-color);\n",
              "    fill: var(--disabled-fill-color);\n",
              "    box-shadow: none;\n",
              "  }\n",
              "\n",
              "  .colab-df-spinner {\n",
              "    border: 2px solid var(--fill-color);\n",
              "    border-color: transparent;\n",
              "    border-bottom-color: var(--fill-color);\n",
              "    animation:\n",
              "      spin 1s steps(1) infinite;\n",
              "  }\n",
              "\n",
              "  @keyframes spin {\n",
              "    0% {\n",
              "      border-color: transparent;\n",
              "      border-bottom-color: var(--fill-color);\n",
              "      border-left-color: var(--fill-color);\n",
              "    }\n",
              "    20% {\n",
              "      border-color: transparent;\n",
              "      border-left-color: var(--fill-color);\n",
              "      border-top-color: var(--fill-color);\n",
              "    }\n",
              "    30% {\n",
              "      border-color: transparent;\n",
              "      border-left-color: var(--fill-color);\n",
              "      border-top-color: var(--fill-color);\n",
              "      border-right-color: var(--fill-color);\n",
              "    }\n",
              "    40% {\n",
              "      border-color: transparent;\n",
              "      border-right-color: var(--fill-color);\n",
              "      border-top-color: var(--fill-color);\n",
              "    }\n",
              "    60% {\n",
              "      border-color: transparent;\n",
              "      border-right-color: var(--fill-color);\n",
              "    }\n",
              "    80% {\n",
              "      border-color: transparent;\n",
              "      border-right-color: var(--fill-color);\n",
              "      border-bottom-color: var(--fill-color);\n",
              "    }\n",
              "    90% {\n",
              "      border-color: transparent;\n",
              "      border-bottom-color: var(--fill-color);\n",
              "    }\n",
              "  }\n",
              "</style>\n",
              "\n",
              "  <script>\n",
              "    async function quickchart(key) {\n",
              "      const quickchartButtonEl =\n",
              "        document.querySelector('#' + key + ' button');\n",
              "      quickchartButtonEl.disabled = true;  // To prevent multiple clicks.\n",
              "      quickchartButtonEl.classList.add('colab-df-spinner');\n",
              "      try {\n",
              "        const charts = await google.colab.kernel.invokeFunction(\n",
              "            'suggestCharts', [key], {});\n",
              "      } catch (error) {\n",
              "        console.error('Error during call to suggestCharts:', error);\n",
              "      }\n",
              "      quickchartButtonEl.classList.remove('colab-df-spinner');\n",
              "      quickchartButtonEl.classList.add('colab-df-quickchart-complete');\n",
              "    }\n",
              "    (() => {\n",
              "      let quickchartButtonEl =\n",
              "        document.querySelector('#df-316d310e-34a4-4422-97f3-4435ab14114e button');\n",
              "      quickchartButtonEl.style.display =\n",
              "        google.colab.kernel.accessAllowed ? 'block' : 'none';\n",
              "    })();\n",
              "  </script>\n",
              "</div>\n",
              "    </div>\n",
              "  </div>\n"
            ]
          },
          "metadata": {},
          "execution_count": 23
        }
      ]
    },
    {
      "cell_type": "code",
      "source": [
        "M, O, F, R, suma_F1R1 = df[(df[\"FILTRO\"]==\"F1\") & (df[\"RUIDO\"]==\"R1\")].sum()\n",
        "print(f'la suma de la combinacion F1R1 es suma_F1R1 = {suma_F1R1}')"
      ],
      "metadata": {
        "colab": {
          "base_uri": "https://localhost:8080/"
        },
        "id": "Pcv1jiymADWS",
        "outputId": "06f47f26-c6eb-43ca-e47e-f36f4edb0214"
      },
      "execution_count": 24,
      "outputs": [
        {
          "output_type": "stream",
          "name": "stdout",
          "text": [
            "la suma de la combinacion F1R1 es suma_F1R1 = 560\n"
          ]
        }
      ]
    },
    {
      "cell_type": "markdown",
      "source": [
        "## **c. Eligiendo la forma de extraer las medidas que vamos a utilizar**"
      ],
      "metadata": {
        "id": "7RmEqJQ-5k8R"
      }
    },
    {
      "cell_type": "code",
      "source": [
        "M, O, F, R,   sum_F1 = (df[(df[\"FILTRO\"]==\"F1\")].sum())\n",
        "M, O, F, R,   sum_F2 = (df[(df[\"FILTRO\"]==\"F2\")].sum())\n",
        "sum_FILTRO = sum_F1 + sum_F2\n",
        "sum2_FILTRO = sum_F1**2 + sum_F2**2\n",
        "media_F1 = sum_F1/18\n",
        "media_F2 = sum_F2/18\n",
        "\n",
        "M, O, F, R,    sum_R1 = (df[(df[\"RUIDO\"]==\"R1\")].sum())\n",
        "M, O, F, R,    sum_R2 = (df[(df[\"RUIDO\"]==\"R2\")].sum())\n",
        "M, O, F, R,    sum_R3 = (df[(df[\"RUIDO\"]==\"R3\")].sum())\n",
        "sum_RUIDO = sum_R1 + sum_R2 + sum_R3\n",
        "sum2_RUIDO = sum_R1**2 + sum_R2**2 + sum_R3**2\n",
        "media_R1 = sum_R1/12\n",
        "media_R2 = sum_R2/12\n",
        "media_R3 = sum_R3/12\n",
        "\n",
        "M, O, F, R,  sum_F1R1 = df[(df[\"FILTRO\"]==\"F1\") & (df[\"RUIDO\"]==\"R1\")].sum()\n",
        "M, O, F, R,  sum_F1R2 = df[(df[\"FILTRO\"]==\"F1\") & (df[\"RUIDO\"]==\"R2\")].sum()\n",
        "M, O, F, R,  sum_F1R3 = df[(df[\"FILTRO\"]==\"F1\") & (df[\"RUIDO\"]==\"R3\")].sum()\n",
        "M, O, F, R,  sum_F2R1 = df[(df[\"FILTRO\"]==\"F2\") & (df[\"RUIDO\"]==\"R1\")].sum()\n",
        "M, O, F, R,  sum_F2R2 = df[(df[\"FILTRO\"]==\"F2\") & (df[\"RUIDO\"]==\"R2\")].sum()\n",
        "M, O, F, R,  sum_F2R3 = df[(df[\"FILTRO\"]==\"F2\") & (df[\"RUIDO\"]==\"R3\")].sum()\n",
        "sum_FR = sum_F1R1 + sum_F1R2 + sum_F1R3 + sum_F2R1 + sum_F2R2 + sum_F2R3\n",
        "sum2_FR = sum_F1R1**2 + sum_F1R2**2 + sum_F1R3**2 + sum_F2R1**2 + sum_F2R2**2 + sum_F2R3**2\n",
        "media_F1R1 = sum_F1R1/6\n",
        "media_F1R2 = sum_F1R2/6\n",
        "media_F1R3 = sum_F1R3/6\n",
        "media_F2R1 = sum_F2R1/6\n",
        "media_F2R2 = sum_F2R2/6\n",
        "media_F2R3 = sum_F2R3/6\n",
        "\n",
        "sum_Yij = df['Intensidad'].sum()\n",
        "\n",
        "sum2_Yij = (df['Intensidad']*df['Intensidad']).sum()\n",
        "\n"
      ],
      "metadata": {
        "id": "uxhfmtWlyHNW"
      },
      "execution_count": 25,
      "outputs": []
    },
    {
      "cell_type": "markdown",
      "source": [
        "## **c. Construimos la Tabla para la informacion**"
      ],
      "metadata": {
        "id": "n-hpaoWvzJcc"
      }
    },
    {
      "cell_type": "code",
      "source": [
        "from texttable import Texttable\n",
        "t3 = Texttable()\n",
        "t3.add_rows([['Tratamiento = T','suma_T','media_T', 'suma_T^2' ],\n",
        "           ['F1',\tsum_F1,\tmedia_F1, sum_F1**2],\n",
        "           ['F2',\tsum_F2,\tmedia_F2, sum_F2**2],\n",
        "           ['R1',\tsum_R1,\tmedia_R1, sum_R1**2],\n",
        "           ['R2',\tsum_R2,\tmedia_R2, sum_R2**2],\n",
        "           ['R3',\tsum_R3,\tmedia_R3, sum_R3**2],\n",
        "           ['sum_Yij',\tsum_Yij,\tsum_Yij/36, sum_Yij**2],\n",
        "           ['RUIDO',\tsum_RUIDO,\t'',\tsum2_RUIDO],\n",
        "           ['FILTRO',\tsum_FILTRO,\t'',\tsum2_FILTRO]])\n",
        "print(t3.draw())"
      ],
      "metadata": {
        "colab": {
          "base_uri": "https://localhost:8080/"
        },
        "id": "h_HlChNZDQ9w",
        "outputId": "6dcddb1f-8cbf-4bfb-a6b0-6f3e321f1ba7"
      },
      "execution_count": 26,
      "outputs": [
        {
          "output_type": "stream",
          "name": "stdout",
          "text": [
            "+-----------------+--------+---------+----------+\n",
            "| Tratamiento = T | suma_T | media_T | suma_T^2 |\n",
            "+=================+========+=========+==========+\n",
            "| F1              | 1813   | 100.722 | 3286969  |\n",
            "+-----------------+--------+---------+----------+\n",
            "| F2              | 1583   | 87.944  | 2505889  |\n",
            "+-----------------+--------+---------+----------+\n",
            "| R1              | 1072   | 89.333  | 1149184  |\n",
            "+-----------------+--------+---------+----------+\n",
            "| R2              | 1135   | 94.583  | 1288225  |\n",
            "+-----------------+--------+---------+----------+\n",
            "| R3              | 1189   | 99.083  | 1413721  |\n",
            "+-----------------+--------+---------+----------+\n",
            "| sum_Yij         | 3396   | 94.333  | 11532816 |\n",
            "+-----------------+--------+---------+----------+\n",
            "| RUIDO           | 3396   |         | 3851130  |\n",
            "+-----------------+--------+---------+----------+\n",
            "| FILTRO          | 3396   |         | 5792858  |\n",
            "+-----------------+--------+---------+----------+\n"
          ]
        }
      ]
    },
    {
      "cell_type": "markdown",
      "source": [
        "## **d. La variabilidad total es _SST_ y la Varianza Total _CMT_**"
      ],
      "metadata": {
        "id": "-WdPFKAEP-q9"
      }
    },
    {
      "cell_type": "code",
      "source": [
        "## **b. La variabilidad total es _SST_ y la Varianza Total _CMT_**\n",
        "I = 2 ; J = 3;  n = 6; N = I*J*n\n",
        "SST = sum2_Yij - sum_Yij**2/N\n",
        "MST = SST/(N-1)\n",
        "print(f'La variabilidad total es SST = {SST}')\n",
        "print(f'La Varianza total es MST = {MST}')"
      ],
      "metadata": {
        "colab": {
          "base_uri": "https://localhost:8080/"
        },
        "id": "g3RggzDbDuEj",
        "outputId": "e3b47f54-272d-44b3-f588-4d98ceb4f9e0"
      },
      "execution_count": 27,
      "outputs": [
        {
          "output_type": "stream",
          "name": "stdout",
          "text": [
            "La variabilidad total es SST = 2798.0\n",
            "La Varianza total es MST = 79.94285714285714\n"
          ]
        }
      ]
    },
    {
      "cell_type": "markdown",
      "source": [
        "## **e. Para los filtros: variabilidad y Varianza**"
      ],
      "metadata": {
        "id": "pFuUDQckUUsK"
      }
    },
    {
      "cell_type": "code",
      "source": [
        "## **e. Para los filtros: variabilidad y Varianza**\n",
        "SSF = sum2_FILTRO/(J*n) - sum_Yij**2/N\n",
        "\n",
        "MSF = SSF/(I-1)\n",
        "print(f'La variabilidad de los tratamientos es SSF = {SSF}')\n",
        "print(f'La variabilidad de los tratamientos es MSF = {MSF}')"
      ],
      "metadata": {
        "colab": {
          "base_uri": "https://localhost:8080/"
        },
        "id": "U4t9TXQUUpIU",
        "outputId": "41b88af1-fcf4-44c3-ae58-28b2de4c5e5a"
      },
      "execution_count": 28,
      "outputs": [
        {
          "output_type": "stream",
          "name": "stdout",
          "text": [
            "La variabilidad de los tratamientos es SSF = 1469.444444444438\n",
            "La variabilidad de los tratamientos es MSF = 1469.444444444438\n"
          ]
        }
      ]
    },
    {
      "cell_type": "markdown",
      "source": [
        "## **f. Para los Ruidos: variabilidad y Varianza**"
      ],
      "metadata": {
        "id": "IJGGltO9S9th"
      }
    },
    {
      "cell_type": "code",
      "source": [
        "## **f. Para los Ruidos: variabilidad y Varianza**\n",
        "SSR = sum2_RUIDO/(I*n) - sum_Yij**2/N\n",
        "\n",
        "MSR = SSR/(J-1)\n",
        "print(f'La variabilidad de los tratamientos es SSR = {SSR}')\n",
        "print(f'La variabilidad de los tratamientos es MSR = {MSR}')"
      ],
      "metadata": {
        "colab": {
          "base_uri": "https://localhost:8080/"
        },
        "id": "-eF8nm36TD62",
        "outputId": "1cbbc861-9472-4658-c099-4a42189c71d3"
      },
      "execution_count": 29,
      "outputs": [
        {
          "output_type": "stream",
          "name": "stdout",
          "text": [
            "La variabilidad de los tratamientos es SSR = 571.5\n",
            "La variabilidad de los tratamientos es MSR = 285.75\n"
          ]
        }
      ]
    },
    {
      "cell_type": "markdown",
      "source": [
        "## **g. La variabilidad de la Interacción**"
      ],
      "metadata": {
        "id": "gUDgseMmB4Gq"
      }
    },
    {
      "cell_type": "code",
      "source": [
        "## **g. La variabilidad de la Interacción**\n",
        "SSFIL_RUI = sum2_FR/n - sum_Yij**2/N - SSR - SSF\n",
        "\n",
        "MSFIL_RUI = SSFIL_RUI/((J-1)*(I-1))\n",
        "print(f'La variabilidad de los tratamientos es SSFIL_RUI = {SSFIL_RUI}')\n",
        "print(f'La variabilidad de los tratamientos es MSFILTRO = {MSFIL_RUI}')"
      ],
      "metadata": {
        "colab": {
          "base_uri": "https://localhost:8080/"
        },
        "id": "p-3tvgzPNsJ4",
        "outputId": "b7d744b1-9a26-4f8c-957a-751a958b3a65"
      },
      "execution_count": 30,
      "outputs": [
        {
          "output_type": "stream",
          "name": "stdout",
          "text": [
            "La variabilidad de los tratamientos es SSFIL_RUI = 126.72222222224809\n",
            "La variabilidad de los tratamientos es MSFILTRO = 63.361111111124046\n"
          ]
        }
      ]
    },
    {
      "cell_type": "markdown",
      "source": [
        "## **h. Variabilidad y varianza de los Bloques: MOMENTOS**"
      ],
      "metadata": {
        "id": "y6uCLwQcC_Jb"
      }
    },
    {
      "cell_type": "code",
      "source": [
        "## **h. Variabilidad y varianza de los Bloques: MOMENTOS**\n",
        "SCB1 = (sum_M1**2+sum_M2**2+sum_M3**2+sum_M4**2+sum_M5**2+sum_M6**2)/k - sum_Y_ij**2/k**2\n",
        "CMB1 = SCB1/(k-1)\n",
        "print(f'Variabilidad de Bloque 1 es SCB1 = {SCB1}')\n",
        "print(f'Varianza de Bloque 1 e es CMB1 = {CMB1}')"
      ],
      "metadata": {
        "colab": {
          "base_uri": "https://localhost:8080/"
        },
        "id": "rbvaPuVEC3x1",
        "outputId": "6399ed90-b11b-4765-db26-2dcb9b8aea31"
      },
      "execution_count": 31,
      "outputs": [
        {
          "output_type": "stream",
          "name": "stdout",
          "text": [
            "Variabilidad de Bloque 1 es SCB1 = 4.333333333313931\n",
            "Varianza de Bloque 1 e es CMB1 = 0.8666666666627861\n"
          ]
        }
      ]
    },
    {
      "cell_type": "code",
      "source": [
        "## **I. Variabilidad y varianza de los Bloques: OPERADOR**\n",
        "SCB2 = (sum_O1**2+sum_O2**2+sum_O3**2+sum_O4**2+sum_O5**2+sum_O6**2)/k - sum_Y_ij**2/k**2\n",
        "CMB2 = SCB2/(k-1)\n",
        "print(f'Variabilidad de Bloque 2 es SCB2 = {SCB2}')\n",
        "print(f'Varianza de Bloque 2 e es CMB2 = {CMB2}')"
      ],
      "metadata": {
        "colab": {
          "base_uri": "https://localhost:8080/"
        },
        "id": "Gi2qM4ZZDLq9",
        "outputId": "dcb89ba5-1f9e-4ffa-eceb-8bcc94f5fcc3"
      },
      "execution_count": 32,
      "outputs": [
        {
          "output_type": "stream",
          "name": "stdout",
          "text": [
            "Variabilidad de Bloque 2 es SCB2 = 428.0\n",
            "Varianza de Bloque 2 e es CMB2 = 85.6\n"
          ]
        }
      ]
    },
    {
      "cell_type": "markdown",
      "source": [
        "## **h. La variabilidad de los Residuos es _SSE_ y la Varianza Total _CME_**"
      ],
      "metadata": {
        "id": "WB7t5BYfVtk0"
      }
    },
    {
      "cell_type": "code",
      "source": [
        "SSE = SST - SSF - SSR - SSFIL_RUI - SCB1 - SCB2\n",
        "\n",
        "MSE = SSE/((k-2)*(k-1))\n",
        "print(f'La variabilidad de los residuos es SSE = {SSE}')\n",
        "print(f'La varianza de los residuos es MSE = {MSE}')"
      ],
      "metadata": {
        "colab": {
          "base_uri": "https://localhost:8080/"
        },
        "id": "kOaOxT4kV1me",
        "outputId": "e3b58212-c270-4c94-d882-cca7a1b49917"
      },
      "execution_count": 33,
      "outputs": [
        {
          "output_type": "stream",
          "name": "stdout",
          "text": [
            "La variabilidad de los residuos es SSE = 198.0\n",
            "La varianza de los residuos es MSE = 9.9\n"
          ]
        }
      ]
    },
    {
      "cell_type": "markdown",
      "source": [
        "## **i. El _valor_p_ de la prueba**"
      ],
      "metadata": {
        "id": "EpT5zWMFrlv6"
      }
    },
    {
      "cell_type": "code",
      "source": [
        "from scipy import stats\n",
        "F1 = stats.f(I-1,(k-2)*(k-1))\n",
        "F2 = stats.f(J-1,(k-2)*(k-1))\n",
        "F3 = stats.f((I-1)*(J-1),(k-2)*(k-1))\n",
        "F4 = stats.f((k-1),(k-2)*(k-1))\n",
        "F5 = stats.f((k-1),(k-2)*(k-1))\n",
        "valor_p1 = 1 - F1.cdf(MSF/MSE)\n",
        "valor_p2 = 1 - F2.cdf(MSR/MSE)\n",
        "valor_p3 = 1 - F3.cdf(MSFIL_RUI/MSE)\n",
        "valor_p4 = 1 - F4.cdf(CMB1/MSE)\n",
        "valor_p5 = 1 - F5.cdf(CMB2/MSE)"
      ],
      "metadata": {
        "id": "PCCTisy0gpFI"
      },
      "execution_count": 34,
      "outputs": []
    },
    {
      "cell_type": "markdown",
      "source": [
        "## **j. El coeficiente de determinación del ajuste**\n",
        "\n",
        "$$R^2 = 1- \\frac{SSE}{SST}$$\n",
        "$$R_{adj}^2 = 1- \\frac{MSE}{MST}$$"
      ],
      "metadata": {
        "id": "92zOneqzvA60"
      }
    },
    {
      "cell_type": "code",
      "source": [
        "R_2 = 1- SSE/SST\n",
        "print(f'El coeficente de R_cuadrado es {R_2*100} por ciento')"
      ],
      "metadata": {
        "colab": {
          "base_uri": "https://localhost:8080/"
        },
        "id": "hsFepe9tvfkW",
        "outputId": "2d0d73f1-6399-4a73-d4dc-8bbbb4ca73ac"
      },
      "execution_count": 35,
      "outputs": [
        {
          "output_type": "stream",
          "name": "stdout",
          "text": [
            "El coeficente de R_cuadrado es 92.92351679771265 por ciento\n"
          ]
        }
      ]
    },
    {
      "cell_type": "code",
      "source": [
        "Radj_2 = 1- MSE/MST\n",
        "print(f'El coeficente de R_cuadrado ajustado es {Radj_2*100} por ciento')"
      ],
      "metadata": {
        "colab": {
          "base_uri": "https://localhost:8080/"
        },
        "id": "CYw0vdGnLNZS",
        "outputId": "2f817e2a-19fb-4048-bf4d-67feaf6d2134"
      },
      "execution_count": 36,
      "outputs": [
        {
          "output_type": "stream",
          "name": "stdout",
          "text": [
            "El coeficente de R_cuadrado ajustado es 87.61615439599714 por ciento\n"
          ]
        }
      ]
    },
    {
      "cell_type": "markdown",
      "source": [
        "## **k. Construyendo la Tabla Anova**"
      ],
      "metadata": {
        "id": "xJBZ4mPFruyI"
      }
    },
    {
      "cell_type": "code",
      "source": [
        "from texttable import Texttable\n",
        "t4 = Texttable()\n",
        "t4.add_rows([['Fuente','SS', 'g.l', 'MS', 'F', 'valor_p'],\n",
        "           ['FILTRO',\tSSF,\tI-1,\tMSF,\tMSF/MSE, valor_p1],\n",
        "           ['RUIDO',\tSSR,\tJ-1,\tMSR,\tMSR/MSE, valor_p2],\n",
        "           ['FILTRO*RUIDO',\tSSFIL_RUI,\t(I-1)*(J-1),\tMSFIL_RUI,\tMSFIL_RUI/MSE, valor_p3],\n",
        "           ['MOMENTOS',\tSCB1,\tk-1,\tCMB1,\tCMB1/MSE, valor_p4],\n",
        "           ['OPERADOR',\tSCB2,\tk-1,\tCMB2,\tCMB2/MSE, valor_p5],\n",
        "           ['Error',\tSSE,\t(k-2)*(k-1),\tMSE, '', ''],\n",
        "           ['Total',\tSST,\tN-1, '' , '', '']])\n",
        "print(t4.draw())"
      ],
      "metadata": {
        "colab": {
          "base_uri": "https://localhost:8080/"
        },
        "id": "ID9nqu6uXCFx",
        "outputId": "1d2c8852-786d-4353-c10f-bc445b296018"
      },
      "execution_count": 37,
      "outputs": [
        {
          "output_type": "stream",
          "name": "stdout",
          "text": [
            "+--------------+----------+-----+----------+---------+---------+\n",
            "|    Fuente    |    SS    | g.l |    MS    |    F    | valor_p |\n",
            "+==============+==========+=====+==========+=========+=========+\n",
            "| FILTRO       | 1469.444 | 1   | 1469.444 | 148.429 | 0.000   |\n",
            "+--------------+----------+-----+----------+---------+---------+\n",
            "| RUIDO        | 571.500  | 2   | 285.750  | 28.864  | 0.000   |\n",
            "+--------------+----------+-----+----------+---------+---------+\n",
            "| FILTRO*RUIDO | 126.722  | 2   | 63.361   | 6.400   | 0.007   |\n",
            "+--------------+----------+-----+----------+---------+---------+\n",
            "| MOMENTOS     | 4.333    | 5   | 0.867    | 0.088   | 0.993   |\n",
            "+--------------+----------+-----+----------+---------+---------+\n",
            "| OPERADOR     | 428      | 5   | 85.600   | 8.646   | 0.000   |\n",
            "+--------------+----------+-----+----------+---------+---------+\n",
            "| Error        | 198      | 20  | 9.900    |         |         |\n",
            "+--------------+----------+-----+----------+---------+---------+\n",
            "| Total        | 2798     | 35  |          |         |         |\n",
            "+--------------+----------+-----+----------+---------+---------+\n"
          ]
        }
      ]
    },
    {
      "cell_type": "markdown",
      "source": [
        "# **h. Prueba de Tukey**\n",
        "\n",
        "- $$Tukey_A = Q_{α=0.05,I,IJ(n-1)}\\sqrt{\\frac{CME}{nJ}}  $$\n",
        "\n",
        "- $$Tukey_B = Q_{α=0.05,J,IJ(n-1)}\\sqrt{\\frac{CME}{nI}}  $$\n",
        "\n"
      ],
      "metadata": {
        "id": "feuN_L8jlLx3"
      }
    },
    {
      "cell_type": "code",
      "source": [
        "## **Para el factor Filtro**\n",
        "I = 2; k = 6\n",
        "num = I-2; denom = (k-2)*(k-1)-2\n",
        "Q_F = RST_Q[num][denom]\n",
        "Tukey_F = Q_F*((MSE/(k*J))**0.5)\n",
        "\n",
        "print(f'El valor crítico de la tabla de Rango estudentizado es Q_F = {Q_F}')\n",
        "print(f'El valor para el intervalo de confianza de Tukey es Tukey_F = {Tukey_F}')"
      ],
      "metadata": {
        "colab": {
          "base_uri": "https://localhost:8080/"
        },
        "id": "z-PnahXLd9fh",
        "outputId": "a2b5afe8-3db8-44be-bb73-be6aa68f4d86"
      },
      "execution_count": 38,
      "outputs": [
        {
          "output_type": "stream",
          "name": "stdout",
          "text": [
            "El valor crítico de la tabla de Rango estudentizado es Q_F = 2.95\n",
            "El valor para el intervalo de confianza de Tukey es Tukey_F = 2.187778553693221\n"
          ]
        }
      ]
    },
    {
      "cell_type": "code",
      "source": [
        "## **Para el factor Ruido**\n",
        "J = 3; k = 6\n",
        "num = J-2; denom = (k-2)*(k-1)-2\n",
        "Q_R = RST_Q[num][denom]\n",
        "Tukey_R = Q_R*((MSE/(k*I))**0.5)\n",
        "print(f'El valor crítico de la tabla de Rango estudentizado es Q_R = {Q_R}')\n",
        "print(f'El valor para el intervalo de confianza de Tukey es Tukey_R = {Tukey_R}')"
      ],
      "metadata": {
        "colab": {
          "base_uri": "https://localhost:8080/"
        },
        "id": "g1Z1C1AYnmAv",
        "outputId": "70b9c30d-d015-40c1-c479-8289be3442bb"
      },
      "execution_count": 39,
      "outputs": [
        {
          "output_type": "stream",
          "name": "stdout",
          "text": [
            "El valor crítico de la tabla de Rango estudentizado es Q_R = 3.58\n",
            "El valor para el intervalo de confianza de Tukey es Tukey_R = 3.2516964803007062\n"
          ]
        }
      ]
    },
    {
      "cell_type": "code",
      "source": [
        "HSD = Texttable()\n",
        "HSD.add_rows ([['Tratamiento','valor absoluto diferencia Media', 'Tukey', 'HAY DIFERENCIAS: 1 = SI, 0 = NO','LINF', 'LSUP' ],\n",
        "  ['F1-F2', abs(media_F1-media_F2)\t,\tTukey_F,\tabs(media_F1-media_F2)>Tukey_F, media_F1-media_F2-Tukey_F, media_F1-media_F2+Tukey_F],\n",
        "  ['R1-R2', abs(media_R1-media_R2)\t,\tTukey_R,\tabs(media_R1-media_R2)>Tukey_R, media_R1-media_R2-Tukey_R, media_R1-media_R2+Tukey_R],\n",
        "  ['R1-R3', abs(media_R1-media_R3)\t,\tTukey_R,\tabs(media_R1-media_R3)>Tukey_R, media_R1-media_R3-Tukey_R, media_R1-media_R3+Tukey_R],\n",
        "  ['R2-R3', abs(media_R2-media_R3)\t,\tTukey_R,\tabs(media_R2-media_R3)>Tukey_R, media_R2-media_R3-Tukey_R, media_R2-media_R3+Tukey_R]])\n",
        "print(HSD.draw())"
      ],
      "metadata": {
        "colab": {
          "base_uri": "https://localhost:8080/"
        },
        "id": "QN7hD83ykyB3",
        "outputId": "904971a5-ad50-4fd8-a834-5ee037545395"
      },
      "execution_count": 40,
      "outputs": [
        {
          "output_type": "stream",
          "name": "stdout",
          "text": [
            "+-------------+------------------+-------+------------------+---------+--------+\n",
            "| Tratamiento |  valor absoluto  | Tukey | HAY DIFERENCIAS: |  LINF   |  LSUP  |\n",
            "|             | diferencia Media |       |  1 = SI, 0 = NO  |         |        |\n",
            "+=============+==================+=======+==================+=========+========+\n",
            "| F1-F2       | 12.778           | 2.188 | 1                | 10.590  | 14.966 |\n",
            "+-------------+------------------+-------+------------------+---------+--------+\n",
            "| R1-R2       | 5.250            | 3.252 | 1                | -8.502  | -1.998 |\n",
            "+-------------+------------------+-------+------------------+---------+--------+\n",
            "| R1-R3       | 9.750            | 3.252 | 1                | -13.002 | -6.498 |\n",
            "+-------------+------------------+-------+------------------+---------+--------+\n",
            "| R2-R3       | 4.500            | 3.252 | 1                | -7.752  | -1.248 |\n",
            "+-------------+------------------+-------+------------------+---------+--------+\n"
          ]
        }
      ]
    },
    {
      "cell_type": "markdown",
      "source": [
        "# **Paso_4. DCL - usando las librerias**"
      ],
      "metadata": {
        "id": "BakuKLXrk6oV"
      }
    },
    {
      "cell_type": "markdown",
      "source": [
        "## **a. Nuestras Librerias**\n"
      ],
      "metadata": {
        "id": "MtiSApsPlBse"
      }
    },
    {
      "cell_type": "code",
      "source": [
        "import pandas as pd\n",
        "import numpy as np\n",
        "import matplotlib.pyplot as plt\n",
        "import matplotlib.colors as mcolors\n",
        "import seaborn as sns\n",
        "import statsmodels\n",
        "import statsmodels.api as sm\n",
        "from statsmodels.formula.api import ols\n",
        "from statsmodels.stats.multicomp import pairwise_tukeyhsd\n",
        "import statsmodels.formula.api as smf\n",
        "import scipy.stats as stats\n",
        "#!pip install bioinfokit\n",
        "from bioinfokit.analys import stat\n",
        "#!pip install pingouin\n",
        "import pingouin as pg"
      ],
      "metadata": {
        "id": "IbhN-JXAlHg2"
      },
      "execution_count": 53,
      "outputs": []
    },
    {
      "cell_type": "markdown",
      "source": [
        "## **b. El DataFrame**"
      ],
      "metadata": {
        "id": "ay6j1hRtlTJm"
      }
    },
    {
      "cell_type": "code",
      "source": [
        "## **b. El DataFrame**\n",
        "DCL = pd.DataFrame({'MOMENTO':MOMENTO,'OPERADOR':OPERADOR, 'Combinacion':Combinacion, 'Intensidad':Intensidad})\n",
        "DCL.head(12)"
      ],
      "metadata": {
        "colab": {
          "base_uri": "https://localhost:8080/",
          "height": 425
        },
        "id": "LecyfIl1kpR-",
        "outputId": "5f4cd5c0-16af-46f3-f8fd-660aa68a7e19"
      },
      "execution_count": 43,
      "outputs": [
        {
          "output_type": "execute_result",
          "data": {
            "text/plain": [
              "   MOMENTO OPERADOR Combinacion  Intensidad\n",
              "0       M1       O1           A          90\n",
              "1       M1       O2           B         106\n",
              "2       M1       O3           C         108\n",
              "3       M1       O4           D          81\n",
              "4       M1       O5           F          90\n",
              "5       M1       O6           E          88\n",
              "6       M2       O1           C         114\n",
              "7       M2       O2           A          96\n",
              "8       M2       O3           B         105\n",
              "9       M2       O4           F          83\n",
              "10      M2       O5           E          86\n",
              "11      M2       O6           D          84"
            ],
            "text/html": [
              "\n",
              "  <div id=\"df-1d812d94-8f5a-44b4-83b5-fdcda3dc0022\" class=\"colab-df-container\">\n",
              "    <div>\n",
              "<style scoped>\n",
              "    .dataframe tbody tr th:only-of-type {\n",
              "        vertical-align: middle;\n",
              "    }\n",
              "\n",
              "    .dataframe tbody tr th {\n",
              "        vertical-align: top;\n",
              "    }\n",
              "\n",
              "    .dataframe thead th {\n",
              "        text-align: right;\n",
              "    }\n",
              "</style>\n",
              "<table border=\"1\" class=\"dataframe\">\n",
              "  <thead>\n",
              "    <tr style=\"text-align: right;\">\n",
              "      <th></th>\n",
              "      <th>MOMENTO</th>\n",
              "      <th>OPERADOR</th>\n",
              "      <th>Combinacion</th>\n",
              "      <th>Intensidad</th>\n",
              "    </tr>\n",
              "  </thead>\n",
              "  <tbody>\n",
              "    <tr>\n",
              "      <th>0</th>\n",
              "      <td>M1</td>\n",
              "      <td>O1</td>\n",
              "      <td>A</td>\n",
              "      <td>90</td>\n",
              "    </tr>\n",
              "    <tr>\n",
              "      <th>1</th>\n",
              "      <td>M1</td>\n",
              "      <td>O2</td>\n",
              "      <td>B</td>\n",
              "      <td>106</td>\n",
              "    </tr>\n",
              "    <tr>\n",
              "      <th>2</th>\n",
              "      <td>M1</td>\n",
              "      <td>O3</td>\n",
              "      <td>C</td>\n",
              "      <td>108</td>\n",
              "    </tr>\n",
              "    <tr>\n",
              "      <th>3</th>\n",
              "      <td>M1</td>\n",
              "      <td>O4</td>\n",
              "      <td>D</td>\n",
              "      <td>81</td>\n",
              "    </tr>\n",
              "    <tr>\n",
              "      <th>4</th>\n",
              "      <td>M1</td>\n",
              "      <td>O5</td>\n",
              "      <td>F</td>\n",
              "      <td>90</td>\n",
              "    </tr>\n",
              "    <tr>\n",
              "      <th>5</th>\n",
              "      <td>M1</td>\n",
              "      <td>O6</td>\n",
              "      <td>E</td>\n",
              "      <td>88</td>\n",
              "    </tr>\n",
              "    <tr>\n",
              "      <th>6</th>\n",
              "      <td>M2</td>\n",
              "      <td>O1</td>\n",
              "      <td>C</td>\n",
              "      <td>114</td>\n",
              "    </tr>\n",
              "    <tr>\n",
              "      <th>7</th>\n",
              "      <td>M2</td>\n",
              "      <td>O2</td>\n",
              "      <td>A</td>\n",
              "      <td>96</td>\n",
              "    </tr>\n",
              "    <tr>\n",
              "      <th>8</th>\n",
              "      <td>M2</td>\n",
              "      <td>O3</td>\n",
              "      <td>B</td>\n",
              "      <td>105</td>\n",
              "    </tr>\n",
              "    <tr>\n",
              "      <th>9</th>\n",
              "      <td>M2</td>\n",
              "      <td>O4</td>\n",
              "      <td>F</td>\n",
              "      <td>83</td>\n",
              "    </tr>\n",
              "    <tr>\n",
              "      <th>10</th>\n",
              "      <td>M2</td>\n",
              "      <td>O5</td>\n",
              "      <td>E</td>\n",
              "      <td>86</td>\n",
              "    </tr>\n",
              "    <tr>\n",
              "      <th>11</th>\n",
              "      <td>M2</td>\n",
              "      <td>O6</td>\n",
              "      <td>D</td>\n",
              "      <td>84</td>\n",
              "    </tr>\n",
              "  </tbody>\n",
              "</table>\n",
              "</div>\n",
              "    <div class=\"colab-df-buttons\">\n",
              "\n",
              "  <div class=\"colab-df-container\">\n",
              "    <button class=\"colab-df-convert\" onclick=\"convertToInteractive('df-1d812d94-8f5a-44b4-83b5-fdcda3dc0022')\"\n",
              "            title=\"Convert this dataframe to an interactive table.\"\n",
              "            style=\"display:none;\">\n",
              "\n",
              "  <svg xmlns=\"http://www.w3.org/2000/svg\" height=\"24px\" viewBox=\"0 -960 960 960\">\n",
              "    <path d=\"M120-120v-720h720v720H120Zm60-500h600v-160H180v160Zm220 220h160v-160H400v160Zm0 220h160v-160H400v160ZM180-400h160v-160H180v160Zm440 0h160v-160H620v160ZM180-180h160v-160H180v160Zm440 0h160v-160H620v160Z\"/>\n",
              "  </svg>\n",
              "    </button>\n",
              "\n",
              "  <style>\n",
              "    .colab-df-container {\n",
              "      display:flex;\n",
              "      gap: 12px;\n",
              "    }\n",
              "\n",
              "    .colab-df-convert {\n",
              "      background-color: #E8F0FE;\n",
              "      border: none;\n",
              "      border-radius: 50%;\n",
              "      cursor: pointer;\n",
              "      display: none;\n",
              "      fill: #1967D2;\n",
              "      height: 32px;\n",
              "      padding: 0 0 0 0;\n",
              "      width: 32px;\n",
              "    }\n",
              "\n",
              "    .colab-df-convert:hover {\n",
              "      background-color: #E2EBFA;\n",
              "      box-shadow: 0px 1px 2px rgba(60, 64, 67, 0.3), 0px 1px 3px 1px rgba(60, 64, 67, 0.15);\n",
              "      fill: #174EA6;\n",
              "    }\n",
              "\n",
              "    .colab-df-buttons div {\n",
              "      margin-bottom: 4px;\n",
              "    }\n",
              "\n",
              "    [theme=dark] .colab-df-convert {\n",
              "      background-color: #3B4455;\n",
              "      fill: #D2E3FC;\n",
              "    }\n",
              "\n",
              "    [theme=dark] .colab-df-convert:hover {\n",
              "      background-color: #434B5C;\n",
              "      box-shadow: 0px 1px 3px 1px rgba(0, 0, 0, 0.15);\n",
              "      filter: drop-shadow(0px 1px 2px rgba(0, 0, 0, 0.3));\n",
              "      fill: #FFFFFF;\n",
              "    }\n",
              "  </style>\n",
              "\n",
              "    <script>\n",
              "      const buttonEl =\n",
              "        document.querySelector('#df-1d812d94-8f5a-44b4-83b5-fdcda3dc0022 button.colab-df-convert');\n",
              "      buttonEl.style.display =\n",
              "        google.colab.kernel.accessAllowed ? 'block' : 'none';\n",
              "\n",
              "      async function convertToInteractive(key) {\n",
              "        const element = document.querySelector('#df-1d812d94-8f5a-44b4-83b5-fdcda3dc0022');\n",
              "        const dataTable =\n",
              "          await google.colab.kernel.invokeFunction('convertToInteractive',\n",
              "                                                    [key], {});\n",
              "        if (!dataTable) return;\n",
              "\n",
              "        const docLinkHtml = 'Like what you see? Visit the ' +\n",
              "          '<a target=\"_blank\" href=https://colab.research.google.com/notebooks/data_table.ipynb>data table notebook</a>'\n",
              "          + ' to learn more about interactive tables.';\n",
              "        element.innerHTML = '';\n",
              "        dataTable['output_type'] = 'display_data';\n",
              "        await google.colab.output.renderOutput(dataTable, element);\n",
              "        const docLink = document.createElement('div');\n",
              "        docLink.innerHTML = docLinkHtml;\n",
              "        element.appendChild(docLink);\n",
              "      }\n",
              "    </script>\n",
              "  </div>\n",
              "\n",
              "\n",
              "<div id=\"df-895e4ea9-da37-432a-99e5-10bd46330529\">\n",
              "  <button class=\"colab-df-quickchart\" onclick=\"quickchart('df-895e4ea9-da37-432a-99e5-10bd46330529')\"\n",
              "            title=\"Suggest charts.\"\n",
              "            style=\"display:none;\">\n",
              "\n",
              "<svg xmlns=\"http://www.w3.org/2000/svg\" height=\"24px\"viewBox=\"0 0 24 24\"\n",
              "     width=\"24px\">\n",
              "    <g>\n",
              "        <path d=\"M19 3H5c-1.1 0-2 .9-2 2v14c0 1.1.9 2 2 2h14c1.1 0 2-.9 2-2V5c0-1.1-.9-2-2-2zM9 17H7v-7h2v7zm4 0h-2V7h2v10zm4 0h-2v-4h2v4z\"/>\n",
              "    </g>\n",
              "</svg>\n",
              "  </button>\n",
              "\n",
              "<style>\n",
              "  .colab-df-quickchart {\n",
              "      --bg-color: #E8F0FE;\n",
              "      --fill-color: #1967D2;\n",
              "      --hover-bg-color: #E2EBFA;\n",
              "      --hover-fill-color: #174EA6;\n",
              "      --disabled-fill-color: #AAA;\n",
              "      --disabled-bg-color: #DDD;\n",
              "  }\n",
              "\n",
              "  [theme=dark] .colab-df-quickchart {\n",
              "      --bg-color: #3B4455;\n",
              "      --fill-color: #D2E3FC;\n",
              "      --hover-bg-color: #434B5C;\n",
              "      --hover-fill-color: #FFFFFF;\n",
              "      --disabled-bg-color: #3B4455;\n",
              "      --disabled-fill-color: #666;\n",
              "  }\n",
              "\n",
              "  .colab-df-quickchart {\n",
              "    background-color: var(--bg-color);\n",
              "    border: none;\n",
              "    border-radius: 50%;\n",
              "    cursor: pointer;\n",
              "    display: none;\n",
              "    fill: var(--fill-color);\n",
              "    height: 32px;\n",
              "    padding: 0;\n",
              "    width: 32px;\n",
              "  }\n",
              "\n",
              "  .colab-df-quickchart:hover {\n",
              "    background-color: var(--hover-bg-color);\n",
              "    box-shadow: 0 1px 2px rgba(60, 64, 67, 0.3), 0 1px 3px 1px rgba(60, 64, 67, 0.15);\n",
              "    fill: var(--button-hover-fill-color);\n",
              "  }\n",
              "\n",
              "  .colab-df-quickchart-complete:disabled,\n",
              "  .colab-df-quickchart-complete:disabled:hover {\n",
              "    background-color: var(--disabled-bg-color);\n",
              "    fill: var(--disabled-fill-color);\n",
              "    box-shadow: none;\n",
              "  }\n",
              "\n",
              "  .colab-df-spinner {\n",
              "    border: 2px solid var(--fill-color);\n",
              "    border-color: transparent;\n",
              "    border-bottom-color: var(--fill-color);\n",
              "    animation:\n",
              "      spin 1s steps(1) infinite;\n",
              "  }\n",
              "\n",
              "  @keyframes spin {\n",
              "    0% {\n",
              "      border-color: transparent;\n",
              "      border-bottom-color: var(--fill-color);\n",
              "      border-left-color: var(--fill-color);\n",
              "    }\n",
              "    20% {\n",
              "      border-color: transparent;\n",
              "      border-left-color: var(--fill-color);\n",
              "      border-top-color: var(--fill-color);\n",
              "    }\n",
              "    30% {\n",
              "      border-color: transparent;\n",
              "      border-left-color: var(--fill-color);\n",
              "      border-top-color: var(--fill-color);\n",
              "      border-right-color: var(--fill-color);\n",
              "    }\n",
              "    40% {\n",
              "      border-color: transparent;\n",
              "      border-right-color: var(--fill-color);\n",
              "      border-top-color: var(--fill-color);\n",
              "    }\n",
              "    60% {\n",
              "      border-color: transparent;\n",
              "      border-right-color: var(--fill-color);\n",
              "    }\n",
              "    80% {\n",
              "      border-color: transparent;\n",
              "      border-right-color: var(--fill-color);\n",
              "      border-bottom-color: var(--fill-color);\n",
              "    }\n",
              "    90% {\n",
              "      border-color: transparent;\n",
              "      border-bottom-color: var(--fill-color);\n",
              "    }\n",
              "  }\n",
              "</style>\n",
              "\n",
              "  <script>\n",
              "    async function quickchart(key) {\n",
              "      const quickchartButtonEl =\n",
              "        document.querySelector('#' + key + ' button');\n",
              "      quickchartButtonEl.disabled = true;  // To prevent multiple clicks.\n",
              "      quickchartButtonEl.classList.add('colab-df-spinner');\n",
              "      try {\n",
              "        const charts = await google.colab.kernel.invokeFunction(\n",
              "            'suggestCharts', [key], {});\n",
              "      } catch (error) {\n",
              "        console.error('Error during call to suggestCharts:', error);\n",
              "      }\n",
              "      quickchartButtonEl.classList.remove('colab-df-spinner');\n",
              "      quickchartButtonEl.classList.add('colab-df-quickchart-complete');\n",
              "    }\n",
              "    (() => {\n",
              "      let quickchartButtonEl =\n",
              "        document.querySelector('#df-895e4ea9-da37-432a-99e5-10bd46330529 button');\n",
              "      quickchartButtonEl.style.display =\n",
              "        google.colab.kernel.accessAllowed ? 'block' : 'none';\n",
              "    })();\n",
              "  </script>\n",
              "</div>\n",
              "    </div>\n",
              "  </div>\n"
            ]
          },
          "metadata": {},
          "execution_count": 43
        }
      ]
    },
    {
      "cell_type": "markdown",
      "source": [
        "## **c. BoxPlot para DCL - Intensidad**"
      ],
      "metadata": {
        "id": "Wh0zlmbels30"
      }
    },
    {
      "cell_type": "code",
      "source": [
        "## **c. BoxPlot para DCL - Intensidad**\n",
        "fig, axs = plt.subplots(1, 3, figsize=(10, 6))\n",
        "axs[0].set_title('Intensidad vs MOMENTO')\n",
        "sns.boxplot(x=\"MOMENTO\", y=\"Intensidad\", data=DCL, ax=axs[0])\n",
        "sns.swarmplot(x=\"MOMENTO\", y=\"Intensidad\", data=DCL, color='black',\n",
        "              alpha = 0.5, ax=axs[0])\n",
        "\n",
        "axs[1].set_title('TGP vs Patologías')\n",
        "sns.boxplot(x=\"OPERADOR\", y=\"Intensidad\", data=DCL, ax=axs[1])\n",
        "sns.swarmplot(x=\"OPERADOR\", y=\"Intensidad\", data=DCL, color='black',\n",
        "              alpha = 0.5, ax=axs[1])\n",
        "axs[2].set_title('TGP vs VITAMINAS')\n",
        "sns.boxplot(x=\"Combinacion\", y=\"Intensidad\", data=DCL, ax=axs[2])\n",
        "sns.swarmplot(x=\"Combinacion\", y=\"Intensidad\", data=DCL, color='black',\n",
        "              alpha = 0.5, ax=axs[2])"
      ],
      "metadata": {
        "colab": {
          "base_uri": "https://localhost:8080/",
          "height": 582
        },
        "id": "3i1EXHfxlUVe",
        "outputId": "867e9897-f3d6-4d97-96c9-2a51920ce507"
      },
      "execution_count": 49,
      "outputs": [
        {
          "output_type": "execute_result",
          "data": {
            "text/plain": [
              "<Axes: title={'center': 'TGP vs VITAMINAS'}, xlabel='Combinacion', ylabel='Intensidad'>"
            ]
          },
          "metadata": {},
          "execution_count": 49
        },
        {
          "output_type": "display_data",
          "data": {
            "text/plain": [
              "<Figure size 1000x600 with 3 Axes>"
            ],
            "image/png": "[encoded data removed]"
          },
          "metadata": {}
        }
      ]
    },
    {
      "cell_type": "markdown",
      "source": [
        "## **d. Análisis de Varianza Tipo I**"
      ],
      "metadata": {
        "id": "h5O73RacoXGw"
      }
    },
    {
      "cell_type": "code",
      "source": [
        "## **d Análisis de Varianza Tipo I**\n",
        "modeloDCL = ols(\"Intensidad ~ Combinacion + MOMENTO + OPERADOR\", data = DCL).fit()\n",
        "anova_result1 = sm.stats.anova_lm(modeloDCL, typ=1)\n",
        "print(anova_result1)"
      ],
      "metadata": {
        "colab": {
          "base_uri": "https://localhost:8080/"
        },
        "id": "aXZQIhrPpOlE",
        "outputId": "ad29d673-b84b-402c-c9ab-31742af05aa3"
      },
      "execution_count": 63,
      "outputs": [
        {
          "output_type": "stream",
          "name": "stdout",
          "text": [
            "               df       sum_sq     mean_sq          F        PR(>F)\n",
            "Combinacion   5.0  2167.666667  433.533333  43.791246  4.250066e-10\n",
            "MOMENTO       5.0     4.333333    0.866667   0.087542  9.933648e-01\n",
            "OPERADOR      5.0   428.000000   85.600000   8.646465  1.710381e-04\n",
            "Residual     20.0   198.000000    9.900000        NaN           NaN\n"
          ]
        }
      ]
    },
    {
      "cell_type": "markdown",
      "source": [
        "## **e Análisis de Varianza Tipo II**"
      ],
      "metadata": {
        "id": "8RCl5Y3VpkYw"
      }
    },
    {
      "cell_type": "code",
      "source": [
        "## **e Análisis de Varianza Tipo II**\n",
        "modeloDCL = ols(\"Intensidad ~ Combinacion + MOMENTO + OPERADOR\", data = DCL).fit()\n",
        "anova_result2 = sm.stats.anova_lm(modeloDCL, typ=2)\n",
        "print(anova_result2)"
      ],
      "metadata": {
        "colab": {
          "base_uri": "https://localhost:8080/"
        },
        "id": "nk9lnh6WlUZP",
        "outputId": "2c398479-770a-43bb-e9d2-8a038ab5b3f1"
      },
      "execution_count": 64,
      "outputs": [
        {
          "output_type": "stream",
          "name": "stdout",
          "text": [
            "                  sum_sq    df          F        PR(>F)\n",
            "Combinacion  2167.666667   5.0  43.791246  4.250066e-10\n",
            "MOMENTO         4.333333   5.0   0.087542  9.933648e-01\n",
            "OPERADOR      428.000000   5.0   8.646465  1.710381e-04\n",
            "Residual      198.000000  20.0        NaN           NaN\n"
          ]
        }
      ]
    },
    {
      "cell_type": "markdown",
      "source": [
        "## **f. Resumen del Modelo del DCL - Análisis de Varianza Tipo II**"
      ],
      "metadata": {
        "id": "LahM6zRmowPH"
      }
    },
    {
      "cell_type": "code",
      "source": [
        "## **f. Resumen del Modelo del DCL - Análisis de Varianza Tipo II**\n",
        "print(modeloDCL.summary())"
      ],
      "metadata": {
        "colab": {
          "base_uri": "https://localhost:8080/"
        },
        "id": "4pt2wp_alUg0",
        "outputId": "b3a845e8-85f4-4c3d-8f87-d03953c9db48"
      },
      "execution_count": 60,
      "outputs": [
        {
          "output_type": "stream",
          "name": "stdout",
          "text": [
            "                            OLS Regression Results                            \n",
            "==============================================================================\n",
            "Dep. Variable:             Intensidad   R-squared:                       0.929\n",
            "Model:                            OLS   Adj. R-squared:                  0.876\n",
            "Method:                 Least Squares   F-statistic:                     17.51\n",
            "Date:                Mon, 18 Sep 2023   Prob (F-statistic):           2.58e-08\n",
            "Time:                        18:50:35   Log-Likelihood:                -81.767\n",
            "No. Observations:                  36   AIC:                             195.5\n",
            "Df Residuals:                      20   BIC:                             220.9\n",
            "Df Model:                          15                                         \n",
            "Covariance Type:            nonrobust                                         \n",
            "====================================================================================\n",
            "                       coef    std err          t      P>|t|      [0.025      0.975]\n",
            "------------------------------------------------------------------------------------\n",
            "Intercept           93.8333      2.098     44.733      0.000      89.458      98.209\n",
            "Combinacion[T.B]     7.8333      1.817      4.312      0.000       4.044      11.623\n",
            "Combinacion[T.C]    14.3333      1.817      7.890      0.000      10.544      18.123\n",
            "Combinacion[T.D]    -8.0000      1.817     -4.404      0.000     -11.789      -4.211\n",
            "Combinacion[T.E]    -5.3333      1.817     -2.936      0.008      -9.123      -1.544\n",
            "Combinacion[T.F]    -2.8333      1.817     -1.560      0.135      -6.623       0.956\n",
            "MOMENTO[T.M2]        0.8333      1.817      0.459      0.651      -2.956       4.623\n",
            "MOMENTO[T.M3]        0.8333      1.817      0.459      0.651      -2.956       4.623\n",
            "MOMENTO[T.M4]        0.8333      1.817      0.459      0.651      -2.956       4.623\n",
            "MOMENTO[T.M5]        0.3333      1.817      0.183      0.856      -3.456       4.123\n",
            "MOMENTO[T.M6]        0.1667      1.817      0.092      0.928      -3.623       3.956\n",
            "OPERADOR[T.O2]       1.1667      1.817      0.642      0.528      -2.623       4.956\n",
            "OPERADOR[T.O3]       4.1667      1.817      2.294      0.033       0.377       7.956\n",
            "OPERADOR[T.O4]      -7.0000      1.817     -3.853      0.001     -10.789      -3.211\n",
            "OPERADOR[T.O5]      -1.8333      1.817     -1.009      0.325      -5.623       1.956\n",
            "OPERADOR[T.O6]      -2.5000      1.817     -1.376      0.184      -6.289       1.289\n",
            "==============================================================================\n",
            "Omnibus:                        0.703   Durbin-Watson:                   1.980\n",
            "Prob(Omnibus):                  0.703   Jarque-Bera (JB):                0.765\n",
            "Skew:                           0.174   Prob(JB):                        0.682\n",
            "Kurtosis:                       2.377   Cond. No.                         8.55\n",
            "==============================================================================\n",
            "\n",
            "Notes:\n",
            "[1] Standard Errors assume that the covariance matrix of the errors is correctly specified.\n"
          ]
        }
      ]
    },
    {
      "cell_type": "markdown",
      "source": [
        "# **g Análisis de Varianza Tipo III**\n"
      ],
      "metadata": {
        "id": "cU9lvrBZo7Qt"
      }
    },
    {
      "cell_type": "code",
      "source": [
        "modeloDCL = ols(\"Intensidad ~ Combinacion + MOMENTO + OPERADOR\", data = DCL).fit()\n",
        "anova_result3 = sm.stats.anova_lm(modeloDCL, typ=3)\n",
        "print(anova_result3)"
      ],
      "metadata": {
        "colab": {
          "base_uri": "https://localhost:8080/"
        },
        "id": "vngbQ2tHpCQ8",
        "outputId": "4fef8405-c880-4478-8e1b-619ee18677c0"
      },
      "execution_count": 67,
      "outputs": [
        {
          "output_type": "stream",
          "name": "stdout",
          "text": [
            "                   sum_sq    df            F        PR(>F)\n",
            "Intercept    19810.562500   1.0  2001.066919  1.593874e-21\n",
            "Combinacion   2167.666667   5.0    43.791246  4.250066e-10\n",
            "MOMENTO          4.333333   5.0     0.087542  9.933648e-01\n",
            "OPERADOR       428.000000   5.0     8.646465  1.710381e-04\n",
            "Residual       198.000000  20.0          NaN           NaN\n"
          ]
        }
      ]
    },
    {
      "cell_type": "markdown",
      "source": [
        "## **h. Comparaciones Múltiples: Intensidad VS Combinacion**"
      ],
      "metadata": {
        "id": "obtLd9IZr_13"
      }
    },
    {
      "cell_type": "code",
      "source": [
        "## **h. Comparaciones Múltiples: Intensidad VS Combinacion**\n",
        "tukey = pairwise_tukeyhsd(endog=DCL[\"Intensidad\"],     # Data\n",
        "                          groups=DCL[\"Combinacion\"],   # Groups\n",
        "                          alpha=0.05)          # Significance level\n",
        "\n",
        "tukey.plot_simultaneous()    # Plot group confidence intervals\n",
        "#plt.vlines(x=200,ymin=-0.5,ymax=14.5, color=\"red\")\n",
        "tukey.summary()"
      ],
      "metadata": {
        "colab": {
          "base_uri": "https://localhost:8080/",
          "height": 906
        },
        "id": "xtNaLJxFpCVF",
        "outputId": "11225863-7b56-4915-af3b-89f31ffb4beb"
      },
      "execution_count": 68,
      "outputs": [
        {
          "output_type": "execute_result",
          "data": {
            "text/plain": [
              "<class 'statsmodels.iolib.table.SimpleTable'>"
            ],
            "text/html": [
              "<table class=\"simpletable\">\n",
              "<caption>Multiple Comparison of Means - Tukey HSD, FWER=0.05</caption>\n",
              "<tr>\n",
              "  <th>group1</th> <th>group2</th> <th>meandiff</th>  <th>p-adj</th>   <th>lower</th>    <th>upper</th>  <th>reject</th>\n",
              "</tr>\n",
              "<tr>\n",
              "     <td>A</td>      <td>B</td>    <td>7.8333</td>  <td>0.0601</td>  <td>-0.2161</td>  <td>15.8828</td>  <td>False</td>\n",
              "</tr>\n",
              "<tr>\n",
              "     <td>A</td>      <td>C</td>    <td>14.3333</td> <td>0.0001</td>  <td>6.2839</td>   <td>22.3828</td>  <td>True</td> \n",
              "</tr>\n",
              "<tr>\n",
              "     <td>A</td>      <td>D</td>     <td>-8.0</td>   <td>0.0522</td> <td>-16.0494</td>  <td>0.0494</td>   <td>False</td>\n",
              "</tr>\n",
              "<tr>\n",
              "     <td>A</td>      <td>E</td>    <td>-5.3333</td> <td>0.3577</td> <td>-13.3828</td>  <td>2.7161</td>   <td>False</td>\n",
              "</tr>\n",
              "<tr>\n",
              "     <td>A</td>      <td>F</td>    <td>-2.8333</td> <td>0.8891</td> <td>-10.8828</td>  <td>5.2161</td>   <td>False</td>\n",
              "</tr>\n",
              "<tr>\n",
              "     <td>B</td>      <td>C</td>      <td>6.5</td>   <td>0.1697</td>  <td>-1.5494</td>  <td>14.5494</td>  <td>False</td>\n",
              "</tr>\n",
              "<tr>\n",
              "     <td>B</td>      <td>D</td>   <td>-15.8333</td>   <td>0.0</td>  <td>-23.8828</td>  <td>-7.7839</td>  <td>True</td> \n",
              "</tr>\n",
              "<tr>\n",
              "     <td>B</td>      <td>E</td>   <td>-13.1667</td> <td>0.0003</td> <td>-21.2161</td>  <td>-5.1172</td>  <td>True</td> \n",
              "</tr>\n",
              "<tr>\n",
              "     <td>B</td>      <td>F</td>   <td>-10.6667</td> <td>0.0043</td> <td>-18.7161</td>  <td>-2.6172</td>  <td>True</td> \n",
              "</tr>\n",
              "<tr>\n",
              "     <td>C</td>      <td>D</td>   <td>-22.3333</td>   <td>0.0</td>  <td>-30.3828</td> <td>-14.2839</td>  <td>True</td> \n",
              "</tr>\n",
              "<tr>\n",
              "     <td>C</td>      <td>E</td>   <td>-19.6667</td>   <td>0.0</td>  <td>-27.7161</td> <td>-11.6172</td>  <td>True</td> \n",
              "</tr>\n",
              "<tr>\n",
              "     <td>C</td>      <td>F</td>   <td>-17.1667</td>   <td>0.0</td>  <td>-25.2161</td>  <td>-9.1172</td>  <td>True</td> \n",
              "</tr>\n",
              "<tr>\n",
              "     <td>D</td>      <td>E</td>    <td>2.6667</td>  <td>0.9117</td>  <td>-5.3828</td>  <td>10.7161</td>  <td>False</td>\n",
              "</tr>\n",
              "<tr>\n",
              "     <td>D</td>      <td>F</td>    <td>5.1667</td>   <td>0.392</td>  <td>-2.8828</td>  <td>13.2161</td>  <td>False</td>\n",
              "</tr>\n",
              "<tr>\n",
              "     <td>E</td>      <td>F</td>      <td>2.5</td>   <td>0.9314</td>  <td>-5.5494</td>  <td>10.5494</td>  <td>False</td>\n",
              "</tr>\n",
              "</table>"
            ],
            "text/latex": "\\begin{center}\n\\begin{tabular}{ccccccc}\n\\toprule\n\\textbf{group1} & \\textbf{group2} & \\textbf{meandiff} & \\textbf{p-adj} & \\textbf{lower} & \\textbf{upper} & \\textbf{reject}  \\\\\n\\midrule\n       A        &        B        &       7.8333      &     0.0601     &    -0.2161     &    15.8828     &      False       \\\\\n       A        &        C        &      14.3333      &     0.0001     &     6.2839     &    22.3828     &       True       \\\\\n       A        &        D        &        -8.0       &     0.0522     &    -16.0494    &     0.0494     &      False       \\\\\n       A        &        E        &      -5.3333      &     0.3577     &    -13.3828    &     2.7161     &      False       \\\\\n       A        &        F        &      -2.8333      &     0.8891     &    -10.8828    &     5.2161     &      False       \\\\\n       B        &        C        &        6.5        &     0.1697     &    -1.5494     &    14.5494     &      False       \\\\\n       B        &        D        &      -15.8333     &      0.0       &    -23.8828    &    -7.7839     &       True       \\\\\n       B        &        E        &      -13.1667     &     0.0003     &    -21.2161    &    -5.1172     &       True       \\\\\n       B        &        F        &      -10.6667     &     0.0043     &    -18.7161    &    -2.6172     &       True       \\\\\n       C        &        D        &      -22.3333     &      0.0       &    -30.3828    &    -14.2839    &       True       \\\\\n       C        &        E        &      -19.6667     &      0.0       &    -27.7161    &    -11.6172    &       True       \\\\\n       C        &        F        &      -17.1667     &      0.0       &    -25.2161    &    -9.1172     &       True       \\\\\n       D        &        E        &       2.6667      &     0.9117     &    -5.3828     &    10.7161     &      False       \\\\\n       D        &        F        &       5.1667      &     0.392      &    -2.8828     &    13.2161     &      False       \\\\\n       E        &        F        &        2.5        &     0.9314     &    -5.5494     &    10.5494     &      False       \\\\\n\\bottomrule\n\\end{tabular}\n%\\caption{Multiple Comparison of Means - Tukey HSD, FWER=0.05}\n\\end{center}"
          },
          "metadata": {},
          "execution_count": 68
        },
        {
          "output_type": "display_data",
          "data": {
            "text/plain": [
              "<Figure size 1000x600 with 1 Axes>"
            ],
            "image/png": "[encoded data removed]"
          },
          "metadata": {}
        }
      ]
    },
    {
      "cell_type": "code",
      "source": [
        "print(HSD_1.draw())"
      ],
      "metadata": {
        "colab": {
          "base_uri": "https://localhost:8080/"
        },
        "id": "xuPZQbBxpCZC",
        "outputId": "12065187-4822-445b-ad75-fadf71193972"
      },
      "execution_count": 71,
      "outputs": [
        {
          "output_type": "stream",
          "name": "stdout",
          "text": [
            "+-------------+------------------+-------+------------------+---------+--------+\n",
            "| Tratamiento |  valor absoluto  | Tukey | HAY DIFERENCIAS: |  LINF   |  LSUP  |\n",
            "|             | diferencia Media |       |  1 = SI, 0 = NO  |         |        |\n",
            "+=============+==================+=======+==================+=========+========+\n",
            "| A-B         | 7.833            | 5.716 | 1                | -13.549 | -2.117 |\n",
            "+-------------+------------------+-------+------------------+---------+--------+\n",
            "| A-C         | 14.333           | 5.716 | 1                | -20.049 | -8.617 |\n",
            "+-------------+------------------+-------+------------------+---------+--------+\n",
            "| A-D         | 8                | 5.716 | 1                | 2.284   | 13.716 |\n",
            "+-------------+------------------+-------+------------------+---------+--------+\n",
            "| A-E         | 5.333            | 5.716 | 0                | -0.383  | 11.049 |\n",
            "+-------------+------------------+-------+------------------+---------+--------+\n",
            "| A-F         | 2.833            | 5.716 | 0                | -2.883  | 8.549  |\n",
            "+-------------+------------------+-------+------------------+---------+--------+\n",
            "| B-C         | 6.500            | 5.716 | 1                | -12.216 | -0.784 |\n",
            "+-------------+------------------+-------+------------------+---------+--------+\n",
            "| B-D         | 15.833           | 5.716 | 1                | 10.117  | 21.549 |\n",
            "+-------------+------------------+-------+------------------+---------+--------+\n",
            "| B-E         | 13.167           | 5.716 | 1                | 7.451   | 18.883 |\n",
            "+-------------+------------------+-------+------------------+---------+--------+\n",
            "| B-F         | 10.667           | 5.716 | 1                | 4.951   | 16.383 |\n",
            "+-------------+------------------+-------+------------------+---------+--------+\n",
            "| C-D         | 22.333           | 5.716 | 1                | 16.617  | 28.049 |\n",
            "+-------------+------------------+-------+------------------+---------+--------+\n",
            "| C-E         | 19.667           | 5.716 | 1                | 13.951  | 25.383 |\n",
            "+-------------+------------------+-------+------------------+---------+--------+\n",
            "| C-F         | 17.167           | 5.716 | 1                | 11.451  | 22.883 |\n",
            "+-------------+------------------+-------+------------------+---------+--------+\n",
            "| D-E         | 2.667            | 5.716 | 0                | -8.383  | 3.049  |\n",
            "+-------------+------------------+-------+------------------+---------+--------+\n",
            "| D-F         | 5.167            | 5.716 | 0                | -10.883 | 0.549  |\n",
            "+-------------+------------------+-------+------------------+---------+--------+\n",
            "| E-F         | 2.500            | 5.716 | 0                | -8.216  | 3.216  |\n",
            "+-------------+------------------+-------+------------------+---------+--------+\n"
          ]
        }
      ]
    },
    {
      "cell_type": "markdown",
      "source": [
        "![image.png](data:image/png;base64,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)"
      ],
      "metadata": {
        "id": "f2oezvaNssk_"
      }
    },
    {
      "cell_type": "markdown",
      "source": [
        "## **i. Comparaciones Múltiples: Intensidad VS MOMENTO**"
      ],
      "metadata": {
        "id": "Lw0EQ8zAu7cl"
      }
    },
    {
      "cell_type": "code",
      "source": [
        "## **i. Comparaciones Múltiples: Intensidad VS MOMENTO**\n",
        "tukey = pairwise_tukeyhsd(endog=DCL[\"Intensidad\"],     # Data\n",
        "                          groups=DCL[\"MOMENTO\"],   # Groups\n",
        "                          alpha=0.05)          # Significance level\n",
        "\n",
        "tukey.plot_simultaneous()    # Plot group confidence intervals\n",
        "#plt.vlines(x=200,ymin=-0.5,ymax=14.5, color=\"red\")\n",
        "tukey.summary()"
      ],
      "metadata": {
        "colab": {
          "base_uri": "https://localhost:8080/",
          "height": 906
        },
        "id": "TKoYnX-tpCcL",
        "outputId": "98b0e62b-7b96-490c-c91e-9bff44b6f12c"
      },
      "execution_count": 73,
      "outputs": [
        {
          "output_type": "execute_result",
          "data": {
            "text/plain": [
              "<class 'statsmodels.iolib.table.SimpleTable'>"
            ],
            "text/html": [
              "<table class=\"simpletable\">\n",
              "<caption>Multiple Comparison of Means - Tukey HSD, FWER=0.05</caption>\n",
              "<tr>\n",
              "  <th>group1</th> <th>group2</th> <th>meandiff</th> <th>p-adj</th>   <th>lower</th>   <th>upper</th>  <th>reject</th>\n",
              "</tr>\n",
              "<tr>\n",
              "    <td>M1</td>     <td>M2</td>    <td>0.8333</td>   <td>1.0</td>  <td>-16.1127</td> <td>17.7793</td>  <td>False</td>\n",
              "</tr>\n",
              "<tr>\n",
              "    <td>M1</td>     <td>M3</td>    <td>0.8333</td>   <td>1.0</td>  <td>-16.1127</td> <td>17.7793</td>  <td>False</td>\n",
              "</tr>\n",
              "<tr>\n",
              "    <td>M1</td>     <td>M4</td>    <td>0.8333</td>   <td>1.0</td>  <td>-16.1127</td> <td>17.7793</td>  <td>False</td>\n",
              "</tr>\n",
              "<tr>\n",
              "    <td>M1</td>     <td>M5</td>    <td>0.3333</td>   <td>1.0</td>  <td>-16.6127</td> <td>17.2793</td>  <td>False</td>\n",
              "</tr>\n",
              "<tr>\n",
              "    <td>M1</td>     <td>M6</td>    <td>0.1667</td>   <td>1.0</td>  <td>-16.7793</td> <td>17.1127</td>  <td>False</td>\n",
              "</tr>\n",
              "<tr>\n",
              "    <td>M2</td>     <td>M3</td>      <td>0.0</td>    <td>1.0</td>   <td>-16.946</td> <td>16.946</td>   <td>False</td>\n",
              "</tr>\n",
              "<tr>\n",
              "    <td>M2</td>     <td>M4</td>      <td>0.0</td>    <td>1.0</td>   <td>-16.946</td> <td>16.946</td>   <td>False</td>\n",
              "</tr>\n",
              "<tr>\n",
              "    <td>M2</td>     <td>M5</td>     <td>-0.5</td>    <td>1.0</td>   <td>-17.446</td> <td>16.446</td>   <td>False</td>\n",
              "</tr>\n",
              "<tr>\n",
              "    <td>M2</td>     <td>M6</td>    <td>-0.6667</td>  <td>1.0</td>  <td>-17.6127</td> <td>16.2793</td>  <td>False</td>\n",
              "</tr>\n",
              "<tr>\n",
              "    <td>M3</td>     <td>M4</td>      <td>0.0</td>    <td>1.0</td>   <td>-16.946</td> <td>16.946</td>   <td>False</td>\n",
              "</tr>\n",
              "<tr>\n",
              "    <td>M3</td>     <td>M5</td>     <td>-0.5</td>    <td>1.0</td>   <td>-17.446</td> <td>16.446</td>   <td>False</td>\n",
              "</tr>\n",
              "<tr>\n",
              "    <td>M3</td>     <td>M6</td>    <td>-0.6667</td>  <td>1.0</td>  <td>-17.6127</td> <td>16.2793</td>  <td>False</td>\n",
              "</tr>\n",
              "<tr>\n",
              "    <td>M4</td>     <td>M5</td>     <td>-0.5</td>    <td>1.0</td>   <td>-17.446</td> <td>16.446</td>   <td>False</td>\n",
              "</tr>\n",
              "<tr>\n",
              "    <td>M4</td>     <td>M6</td>    <td>-0.6667</td>  <td>1.0</td>  <td>-17.6127</td> <td>16.2793</td>  <td>False</td>\n",
              "</tr>\n",
              "<tr>\n",
              "    <td>M5</td>     <td>M6</td>    <td>-0.1667</td>  <td>1.0</td>  <td>-17.1127</td> <td>16.7793</td>  <td>False</td>\n",
              "</tr>\n",
              "</table>"
            ],
            "text/latex": "\\begin{center}\n\\begin{tabular}{ccccccc}\n\\toprule\n\\textbf{group1} & \\textbf{group2} & \\textbf{meandiff} & \\textbf{p-adj} & \\textbf{lower} & \\textbf{upper} & \\textbf{reject}  \\\\\n\\midrule\n       M1       &        M2       &       0.8333      &      1.0       &    -16.1127    &    17.7793     &      False       \\\\\n       M1       &        M3       &       0.8333      &      1.0       &    -16.1127    &    17.7793     &      False       \\\\\n       M1       &        M4       &       0.8333      &      1.0       &    -16.1127    &    17.7793     &      False       \\\\\n       M1       &        M5       &       0.3333      &      1.0       &    -16.6127    &    17.2793     &      False       \\\\\n       M1       &        M6       &       0.1667      &      1.0       &    -16.7793    &    17.1127     &      False       \\\\\n       M2       &        M3       &        0.0        &      1.0       &    -16.946     &     16.946     &      False       \\\\\n       M2       &        M4       &        0.0        &      1.0       &    -16.946     &     16.946     &      False       \\\\\n       M2       &        M5       &        -0.5       &      1.0       &    -17.446     &     16.446     &      False       \\\\\n       M2       &        M6       &      -0.6667      &      1.0       &    -17.6127    &    16.2793     &      False       \\\\\n       M3       &        M4       &        0.0        &      1.0       &    -16.946     &     16.946     &      False       \\\\\n       M3       &        M5       &        -0.5       &      1.0       &    -17.446     &     16.446     &      False       \\\\\n       M3       &        M6       &      -0.6667      &      1.0       &    -17.6127    &    16.2793     &      False       \\\\\n       M4       &        M5       &        -0.5       &      1.0       &    -17.446     &     16.446     &      False       \\\\\n       M4       &        M6       &      -0.6667      &      1.0       &    -17.6127    &    16.2793     &      False       \\\\\n       M5       &        M6       &      -0.1667      &      1.0       &    -17.1127    &    16.7793     &      False       \\\\\n\\bottomrule\n\\end{tabular}\n%\\caption{Multiple Comparison of Means - Tukey HSD, FWER=0.05}\n\\end{center}"
          },
          "metadata": {},
          "execution_count": 73
        },
        {
          "output_type": "display_data",
          "data": {
            "text/plain": [
              "<Figure size 1000x600 with 1 Axes>"
            ],
            "image/png": "[encoded data removed]"
          },
          "metadata": {}
        }
      ]
    },
    {
      "cell_type": "markdown",
      "source": [
        "![dclmomentos.png](data:image/png;base64,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)"
      ],
      "metadata": {
        "id": "4R4YE4aMu94L"
      }
    },
    {
      "cell_type": "markdown",
      "source": [
        "## **j. Comparaciones Múltiples: Intensidad VS OPERADOR**"
      ],
      "metadata": {
        "id": "ByhQA98XvnX7"
      }
    },
    {
      "cell_type": "code",
      "source": [
        "## **j. Comparaciones Múltiples: Intensidad VS OPERADOR**\n",
        "tukey = pairwise_tukeyhsd(endog=DCL[\"Intensidad\"],     # Data\n",
        "                          groups=DCL[\"OPERADOR\"],   # Groups\n",
        "                          alpha=0.05)          # Significance level\n",
        "\n",
        "tukey.plot_simultaneous()    # Plot group confidence intervals\n",
        "#plt.vlines(x=200,ymin=-0.5,ymax=14.5, color=\"red\")\n",
        "tukey.summary()"
      ],
      "metadata": {
        "colab": {
          "base_uri": "https://localhost:8080/",
          "height": 906
        },
        "id": "3BLdNDHQpCfq",
        "outputId": "bbcebcc8-6b7e-402f-eeb6-1fa4d488bf4d"
      },
      "execution_count": 74,
      "outputs": [
        {
          "output_type": "execute_result",
          "data": {
            "text/plain": [
              "<class 'statsmodels.iolib.table.SimpleTable'>"
            ],
            "text/html": [
              "<table class=\"simpletable\">\n",
              "<caption>Multiple Comparison of Means - Tukey HSD, FWER=0.05</caption>\n",
              "<tr>\n",
              "  <th>group1</th> <th>group2</th> <th>meandiff</th>  <th>p-adj</th>   <th>lower</th>   <th>upper</th>  <th>reject</th>\n",
              "</tr>\n",
              "<tr>\n",
              "    <td>O1</td>     <td>O2</td>    <td>1.1667</td>  <td>0.9999</td> <td>-14.4416</td> <td>16.7749</td>  <td>False</td>\n",
              "</tr>\n",
              "<tr>\n",
              "    <td>O1</td>     <td>O3</td>    <td>4.1667</td>  <td>0.9631</td> <td>-11.4416</td> <td>19.7749</td>  <td>False</td>\n",
              "</tr>\n",
              "<tr>\n",
              "    <td>O1</td>     <td>O4</td>     <td>-7.0</td>   <td>0.7473</td> <td>-22.6082</td> <td>8.6082</td>   <td>False</td>\n",
              "</tr>\n",
              "<tr>\n",
              "    <td>O1</td>     <td>O5</td>    <td>-1.8333</td> <td>0.9992</td> <td>-17.4416</td> <td>13.7749</td>  <td>False</td>\n",
              "</tr>\n",
              "<tr>\n",
              "    <td>O1</td>     <td>O6</td>     <td>-2.5</td>   <td>0.9963</td> <td>-18.1082</td> <td>13.1082</td>  <td>False</td>\n",
              "</tr>\n",
              "<tr>\n",
              "    <td>O2</td>     <td>O3</td>      <td>3.0</td>   <td>0.9913</td> <td>-12.6082</td> <td>18.6082</td>  <td>False</td>\n",
              "</tr>\n",
              "<tr>\n",
              "    <td>O2</td>     <td>O4</td>    <td>-8.1667</td> <td>0.6102</td> <td>-23.7749</td> <td>7.4416</td>   <td>False</td>\n",
              "</tr>\n",
              "<tr>\n",
              "    <td>O2</td>     <td>O5</td>     <td>-3.0</td>   <td>0.9913</td> <td>-18.6082</td> <td>12.6082</td>  <td>False</td>\n",
              "</tr>\n",
              "<tr>\n",
              "    <td>O2</td>     <td>O6</td>    <td>-3.6667</td> <td>0.9787</td> <td>-19.2749</td> <td>11.9416</td>  <td>False</td>\n",
              "</tr>\n",
              "<tr>\n",
              "    <td>O3</td>     <td>O4</td>   <td>-11.1667</td> <td>0.2782</td> <td>-26.7749</td> <td>4.4416</td>   <td>False</td>\n",
              "</tr>\n",
              "<tr>\n",
              "    <td>O3</td>     <td>O5</td>     <td>-6.0</td>   <td>0.8477</td> <td>-21.6082</td> <td>9.6082</td>   <td>False</td>\n",
              "</tr>\n",
              "<tr>\n",
              "    <td>O3</td>     <td>O6</td>    <td>-6.6667</td> <td>0.7831</td> <td>-22.2749</td> <td>8.9416</td>   <td>False</td>\n",
              "</tr>\n",
              "<tr>\n",
              "    <td>O4</td>     <td>O5</td>    <td>5.1667</td>   <td>0.912</td> <td>-10.4416</td> <td>20.7749</td>  <td>False</td>\n",
              "</tr>\n",
              "<tr>\n",
              "    <td>O4</td>     <td>O6</td>      <td>4.5</td>   <td>0.9491</td> <td>-11.1082</td> <td>20.1082</td>  <td>False</td>\n",
              "</tr>\n",
              "<tr>\n",
              "    <td>O5</td>     <td>O6</td>    <td>-0.6667</td>   <td>1.0</td>  <td>-16.2749</td> <td>14.9416</td>  <td>False</td>\n",
              "</tr>\n",
              "</table>"
            ],
            "text/latex": "\\begin{center}\n\\begin{tabular}{ccccccc}\n\\toprule\n\\textbf{group1} & \\textbf{group2} & \\textbf{meandiff} & \\textbf{p-adj} & \\textbf{lower} & \\textbf{upper} & \\textbf{reject}  \\\\\n\\midrule\n       O1       &        O2       &       1.1667      &     0.9999     &    -14.4416    &    16.7749     &      False       \\\\\n       O1       &        O3       &       4.1667      &     0.9631     &    -11.4416    &    19.7749     &      False       \\\\\n       O1       &        O4       &        -7.0       &     0.7473     &    -22.6082    &     8.6082     &      False       \\\\\n       O1       &        O5       &      -1.8333      &     0.9992     &    -17.4416    &    13.7749     &      False       \\\\\n       O1       &        O6       &        -2.5       &     0.9963     &    -18.1082    &    13.1082     &      False       \\\\\n       O2       &        O3       &        3.0        &     0.9913     &    -12.6082    &    18.6082     &      False       \\\\\n       O2       &        O4       &      -8.1667      &     0.6102     &    -23.7749    &     7.4416     &      False       \\\\\n       O2       &        O5       &        -3.0       &     0.9913     &    -18.6082    &    12.6082     &      False       \\\\\n       O2       &        O6       &      -3.6667      &     0.9787     &    -19.2749    &    11.9416     &      False       \\\\\n       O3       &        O4       &      -11.1667     &     0.2782     &    -26.7749    &     4.4416     &      False       \\\\\n       O3       &        O5       &        -6.0       &     0.8477     &    -21.6082    &     9.6082     &      False       \\\\\n       O3       &        O6       &      -6.6667      &     0.7831     &    -22.2749    &     8.9416     &      False       \\\\\n       O4       &        O5       &       5.1667      &     0.912      &    -10.4416    &    20.7749     &      False       \\\\\n       O4       &        O6       &        4.5        &     0.9491     &    -11.1082    &    20.1082     &      False       \\\\\n       O5       &        O6       &      -0.6667      &      1.0       &    -16.2749    &    14.9416     &      False       \\\\\n\\bottomrule\n\\end{tabular}\n%\\caption{Multiple Comparison of Means - Tukey HSD, FWER=0.05}\n\\end{center}"
          },
          "metadata": {},
          "execution_count": 74
        },
        {
          "output_type": "display_data",
          "data": {
            "text/plain": [
              "<Figure size 1000x600 with 1 Axes>"
            ],
            "image/png": "[encoded data removed]"
          },
          "metadata": {}
        }
      ]
    },
    {
      "cell_type": "markdown",
      "source": [
        "![image.png](data:image/png;base64,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)![image.png]()"
      ],
      "metadata": {
        "id": "CrCEvX_dvtbD"
      }
    },
    {
      "cell_type": "markdown",
      "source": [
        "# **k. Prueba de Normalidad. Shapiro Wilks**"
      ],
      "metadata": {
        "id": "-DEufJdryQ-F"
      }
    },
    {
      "cell_type": "code",
      "source": [
        "# **k. Prueba de Normalidad. Shapiro Wilks**\n",
        "statistic, pvalue = stats.shapiro(modeloDCL.resid)"
      ],
      "metadata": {
        "id": "0LjXtL-PpCmX"
      },
      "execution_count": 77,
      "outputs": []
    },
    {
      "cell_type": "code",
      "source": [
        "Shapiro = Texttable()\n",
        "Shapiro.add_rows ([['Estadistico','Valor p', 'Se cumple Normalidad: 1 = SI, 0 = NO' ],\n",
        "  [statistic, pvalue\t,\tpvalue > 0.05]])\n",
        "print(Shapiro.draw())"
      ],
      "metadata": {
        "colab": {
          "base_uri": "https://localhost:8080/"
        },
        "id": "q6Jwxv9QxB4h",
        "outputId": "bd127e72-e923-4e8a-f5ce-f8becbf7fb8c"
      },
      "execution_count": 78,
      "outputs": [
        {
          "output_type": "stream",
          "name": "stdout",
          "text": [
            "+-------------+---------+--------------------------------------+\n",
            "| Estadistico | Valor p | Se cumple Normalidad: 1 = SI, 0 = NO |\n",
            "+=============+=========+======================================+\n",
            "| 0.982       | 0.812   | 1                                    |\n",
            "+-------------+---------+--------------------------------------+\n"
          ]
        }
      ]
    },
    {
      "cell_type": "markdown",
      "source": [
        "## **l. Prueba gráfica con el gráfico de probabilidad Normal y el Histograma**"
      ],
      "metadata": {
        "id": "7l_jO_KiyfR7"
      }
    },
    {
      "cell_type": "code",
      "source": [
        "## **l. Prueba gráfica con el gráfico de probabilidad Normal y el Histograma**\n",
        "fig = plt.figure(figsize= (5, 5))\n",
        "ax = fig.add_subplot(111)\n",
        "normality_plot, stat = stats.probplot(modeloDCL.resid, plot= plt, rvalue= True)\n",
        "ax.set_title(\"Gráfico de Probabiliad para los residuos\", fontsize= 10)\n",
        "ax.set\n",
        "\n",
        "plt.show()"
      ],
      "metadata": {
        "colab": {
          "base_uri": "https://localhost:8080/",
          "height": 485
        },
        "id": "Ap4kGTYpyYje",
        "outputId": "50f2b020-9902-4cd6-edee-083b94da80be"
      },
      "execution_count": 79,
      "outputs": [
        {
          "output_type": "display_data",
          "data": {
            "text/plain": [
              "<Figure size 500x500 with 1 Axes>"
            ],
            "image/png": "[encoded data removed]"
          },
          "metadata": {}
        }
      ]
    },
    {
      "cell_type": "markdown",
      "source": [
        "## **m. Prueba gráfica con el gráfico de probabilidad Normal y el Histograma: Por Combinacion**"
      ],
      "metadata": {
        "id": "p9DNIMuPzjTr"
      }
    },
    {
      "cell_type": "code",
      "source": [
        "## **m. Prueba gráfica con el gráfico de probabilidad Normal y el Histograma: Por Combinacion**\n",
        "unique_Combinacion = DCL['Combinacion'].unique()\n",
        "for Combinacion in unique_Combinacion:\n",
        "    stats.probplot(DCL[DCL['Combinacion'] == Combinacion]['Intensidad'], dist=\"norm\", plot=plt)\n",
        "    plt.title(\"Gráfico de Probabilidad - \" + Combinacion)\n",
        "    plt.show()"
      ],
      "metadata": {
        "colab": {
          "base_uri": "https://localhost:8080/",
          "height": 1000
        },
        "id": "Q0xNKbxZyYni",
        "outputId": "0e7a4776-67a4-4810-ba09-df4c3efb0f43"
      },
      "execution_count": 80,
      "outputs": [
        {
          "output_type": "display_data",
          "data": {
            "text/plain": [
              "<Figure size 640x480 with 1 Axes>"
            ],
            "image/png": "[encoded data removed]"
          },
          "metadata": {}
        },
        {
          "output_type": "display_data",
          "data": {
            "text/plain": [
              "<Figure size 640x480 with 1 Axes>"
            ],
            "image/png": "[encoded data removed]"
          },
          "metadata": {}
        },
        {
          "output_type": "display_data",
          "data": {
            "text/plain": [
              "<Figure size 640x480 with 1 Axes>"
            ],
            "image/png": "[encoded data removed]"
          },
          "metadata": {}
        },
        {
          "output_type": "display_data",
          "data": {
            "text/plain": [
              "<Figure size 640x480 with 1 Axes>"
            ],
            "image/png": "[encoded data removed]"
          },
          "metadata": {}
        },
        {
          "output_type": "display_data",
          "data": {
            "text/plain": [
              "<Figure size 640x480 with 1 Axes>"
            ],
            "image/png": "[encoded data removed]"
          },
          "metadata": {}
        },
        {
          "output_type": "display_data",
          "data": {
            "text/plain": [
              "<Figure size 640x480 with 1 Axes>"
            ],
            "image/png": "[encoded data removed]"
          },
          "metadata": {}
        }
      ]
    },
    {
      "cell_type": "markdown",
      "source": [
        "# **n. Homocedasticidad de los residuos: Usando la prueba de Levene**"
      ],
      "metadata": {
        "id": "GeSE8kDL1Rj_"
      }
    },
    {
      "cell_type": "code",
      "source": [
        "# **N. Homocedasticidad de los residuos: Usando la prueba de Levene**\n",
        "Estadistico, Valor_p = stats.levene(DCL['Intensidad'][DCL['Combinacion'] == 'A'],\n",
        "             DCL['Intensidad'][DCL['Combinacion'] == 'B'],\n",
        "             DCL['Intensidad'][DCL['Combinacion'] == 'C'],\n",
        "             DCL['Intensidad'][DCL['Combinacion'] == 'D'],\n",
        "             DCL['Intensidad'][DCL['Combinacion'] == 'E'],\n",
        "             DCL['Intensidad'][DCL['Combinacion'] == 'F'])"
      ],
      "metadata": {
        "id": "-gg7H67eyYq_"
      },
      "execution_count": 82,
      "outputs": []
    },
    {
      "cell_type": "code",
      "source": [
        "Levene = Texttable()\n",
        "Levene.add_rows ([['Estadistico','Valor_p', 'Se cumple Normalidad: 1 = SI, 0 = NO' ],\n",
        "[Estadistico, Valor_p\t,\tValor_p > 0.05]])\n",
        "print(Levene.draw())"
      ],
      "metadata": {
        "colab": {
          "base_uri": "https://localhost:8080/"
        },
        "id": "xipyFzp7yYup",
        "outputId": "023bb49e-c584-4d31-c8a7-2faafac004c9"
      },
      "execution_count": 84,
      "outputs": [
        {
          "output_type": "stream",
          "name": "stdout",
          "text": [
            "+-------------+---------+--------------------------------------+\n",
            "| Estadistico | Valor_p | Se cumple Normalidad: 1 = SI, 0 = NO |\n",
            "+=============+=========+======================================+\n",
            "| 0.367       | 0.867   | 1                                    |\n",
            "+-------------+---------+--------------------------------------+\n"
          ]
        }
      ]
    }
  ]
}