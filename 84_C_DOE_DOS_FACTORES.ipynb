{
  "nbformat": 4,
  "nbformat_minor": 0,
  "metadata": {
    "colab": {
      "provenance": [],
      "authorship_tag": "ABX9TyN3URAEjAC1DMSnVKxeRP5i",
      "include_colab_link": true
    },
    "kernelspec": {
      "name": "python3",
      "display_name": "Python 3"
    },
    "language_info": {
      "name": "python"
    }
  },
  "cells": [
    {
      "cell_type": "markdown",
      "metadata": {
        "id": "view-in-github",
        "colab_type": "text"
      },
      "source": [
        "<a href=\"https://colab.research.google.com/github/JSEFERINO/Estadistica_Moderna/blob/main/84_C_DOE_DOS_FACTORES.ipynb\" target=\"_parent\"><img src=\"https://colab.research.google.com/assets/colab-badge.svg\" alt=\"Open In Colab\"/></a>"
      ]
    },
    {
      "cell_type": "markdown",
      "source": [
        "# **Librerías Básicas para Diseño de Experimentos**"
      ],
      "metadata": {
        "id": "GgVEQ_NhMqmy"
      }
    },
    {
      "cell_type": "code",
      "execution_count": null,
      "metadata": {
        "id": "xm-ySncdMOz_"
      },
      "outputs": [],
      "source": [
        "import pandas as pd\n",
        "import numpy as np\n",
        "import matplotlib.pyplot as plt\n",
        "import matplotlib.colors as mcolors\n",
        "import seaborn as sns\n",
        "import statsmodels\n",
        "import statsmodels.api as sm\n",
        "from statsmodels.formula.api import ols\n",
        "from statsmodels.stats.multicomp import pairwise_tukeyhsd\n",
        "import statsmodels.formula.api as smf\n",
        "import scipy.stats as stats\n",
        "from statsmodels.graphics.factorplots import interaction_plot\n",
        "#!pip install bioinfokit\n",
        "#from bioinfokit.analys import stat\n",
        "#!pip install pingouin\n",
        "import pingouin as pg"
      ]
    },
    {
      "cell_type": "markdown",
      "source": [
        "#  **Tema 6: Diseño Factorial -Dos Factores usando Python**\n",
        "\n",
        "##  **Ejemplo de un Diseño Factorial $4\\bigotimes3$**.\n",
        "\n",
        "### **Consideremos un experimento en el que se quiere estudiar el efecto de los factores velocidad de alimentación y profundidad de corte sobre el acabado de un metal. Aunque los factores son de naturaleza continua, en este proceso sólo se pueden trabajar en 3 y 4 niveles, respectivamente. Por ello, se decide correr un factorial completo $4\\bigotimes3$ con tres réplicas, que permitirá obtener toda la información relevante en relación al efecto de estos factores sobre el acabado. Aleatorizando las 36 pruebas se obtienen los datos en la tabla siguiente. El acabado ($Y$) está en unidades de gramos e interesa minimizar su valor.**\n",
        "\n",
        "|B: Velocidad \\ A: Profundidad|\t0.15\t|0.18\t|0.21\t|0.24|\n",
        "|:--:|:--:|:--:|:--:|:--:|\n",
        "|0.20\t|74, 64, 60|\t79, 68, 73|\t82, 88, 92|\t99, 104, 96|\n",
        "|0.25\t|92, 86, 88|\t98, 104, 88|\t99, 108, 95|\t104, 110, 99|\n",
        "|0.30\t|99, 98, 102|\t104, 99, 95\t|108, 110, 99|\t114, 111, 107|\n",
        "\n"
      ],
      "metadata": {
        "id": "FOKrvtlUNpfj"
      }
    },
    {
      "cell_type": "markdown",
      "source": [
        "## **6.1 Los Datos del Problema**"
      ],
      "metadata": {
        "id": "kU_IMEsjTCez"
      }
    },
    {
      "cell_type": "code",
      "source": [
        "## **4.1 Los Datos del Problema**\n",
        "Profundidad  =  ([0.15]*3+[0.18]*3+[0.21]*3+[0.24]*3)*3\n",
        "Velocidad  =  [0.20]*12+[0.25]*12+[0.30]*12\n",
        "\n",
        "Acabado =[74, 64, 60, 79, 68, 73, 82, 88, 92, 99, 104, 96, 92,\n",
        "          86, 88,\t98, 104, 88,\t99, 108, 95,\t104, 110, 99, 99,\n",
        "          98, 102,\t104, 99, 95,\t108, 110, 99,\t114, 111, 107]"
      ],
      "metadata": {
        "id": "2QNLLNoZMuv-"
      },
      "execution_count": null,
      "outputs": []
    },
    {
      "cell_type": "markdown",
      "source": [
        "## **6.2 Construyamos el dataFrame de los Datos**"
      ],
      "metadata": {
        "id": "fdv8XQLrV6BJ"
      }
    },
    {
      "cell_type": "code",
      "source": [
        "## **6.2 Construyamos el dataFrame de los datos**\n",
        "D2F = pd.DataFrame({'Velocidad':Velocidad, 'Profundidad':Profundidad, 'Acabado':Acabado})\n",
        "\n"
      ],
      "metadata": {
        "id": "7EkyHkN5MuzW"
      },
      "execution_count": null,
      "outputs": []
    },
    {
      "cell_type": "markdown",
      "source": [
        "## **6.3 Veamos el DataFrame**\n",
        "### **a. DataFrame**"
      ],
      "metadata": {
        "id": "JphEq3yiWDGY"
      }
    },
    {
      "cell_type": "code",
      "source": [
        "## **6.3 Veamos el DataFrame**\n",
        "D2F.head()"
      ],
      "metadata": {
        "colab": {
          "base_uri": "https://localhost:8080/",
          "height": 206
        },
        "id": "Ox0ZBPh4Mu2q",
        "outputId": "72b29929-f69e-4f8c-9d95-b4ba8df7081f"
      },
      "execution_count": null,
      "outputs": [
        {
          "output_type": "execute_result",
          "data": {
            "text/plain": [
              "   Velocidad  Profundidad  Acabado\n",
              "0        0.2         0.15       74\n",
              "1        0.2         0.15       64\n",
              "2        0.2         0.15       60\n",
              "3        0.2         0.18       79\n",
              "4        0.2         0.18       68"
            ],
            "text/html": [
              "\n",
              "  <div id=\"df-08d1b4ea-45c1-4a39-a8c0-336e88fcc857\">\n",
              "    <div class=\"colab-df-container\">\n",
              "      <div>\n",
              "<style scoped>\n",
              "    .dataframe tbody tr th:only-of-type {\n",
              "        vertical-align: middle;\n",
              "    }\n",
              "\n",
              "    .dataframe tbody tr th {\n",
              "        vertical-align: top;\n",
              "    }\n",
              "\n",
              "    .dataframe thead th {\n",
              "        text-align: right;\n",
              "    }\n",
              "</style>\n",
              "<table border=\"1\" class=\"dataframe\">\n",
              "  <thead>\n",
              "    <tr style=\"text-align: right;\">\n",
              "      <th></th>\n",
              "      <th>Velocidad</th>\n",
              "      <th>Profundidad</th>\n",
              "      <th>Acabado</th>\n",
              "    </tr>\n",
              "  </thead>\n",
              "  <tbody>\n",
              "    <tr>\n",
              "      <th>0</th>\n",
              "      <td>0.2</td>\n",
              "      <td>0.15</td>\n",
              "      <td>74</td>\n",
              "    </tr>\n",
              "    <tr>\n",
              "      <th>1</th>\n",
              "      <td>0.2</td>\n",
              "      <td>0.15</td>\n",
              "      <td>64</td>\n",
              "    </tr>\n",
              "    <tr>\n",
              "      <th>2</th>\n",
              "      <td>0.2</td>\n",
              "      <td>0.15</td>\n",
              "      <td>60</td>\n",
              "    </tr>\n",
              "    <tr>\n",
              "      <th>3</th>\n",
              "      <td>0.2</td>\n",
              "      <td>0.18</td>\n",
              "      <td>79</td>\n",
              "    </tr>\n",
              "    <tr>\n",
              "      <th>4</th>\n",
              "      <td>0.2</td>\n",
              "      <td>0.18</td>\n",
              "      <td>68</td>\n",
              "    </tr>\n",
              "  </tbody>\n",
              "</table>\n",
              "</div>\n",
              "      <button class=\"colab-df-convert\" onclick=\"convertToInteractive('df-08d1b4ea-45c1-4a39-a8c0-336e88fcc857')\"\n",
              "              title=\"Convert this dataframe to an interactive table.\"\n",
              "              style=\"display:none;\">\n",
              "        \n",
              "  <svg xmlns=\"http://www.w3.org/2000/svg\" height=\"24px\"viewBox=\"0 0 24 24\"\n",
              "       width=\"24px\">\n",
              "    <path d=\"M0 0h24v24H0V0z\" fill=\"none\"/>\n",
              "    <path d=\"M18.56 5.44l.94 2.06.94-2.06 2.06-.94-2.06-.94-.94-2.06-.94 2.06-2.06.94zm-11 1L8.5 8.5l.94-2.06 2.06-.94-2.06-.94L8.5 2.5l-.94 2.06-2.06.94zm10 10l.94 2.06.94-2.06 2.06-.94-2.06-.94-.94-2.06-.94 2.06-2.06.94z\"/><path d=\"M17.41 7.96l-1.37-1.37c-.4-.4-.92-.59-1.43-.59-.52 0-1.04.2-1.43.59L10.3 9.45l-7.72 7.72c-.78.78-.78 2.05 0 2.83L4 21.41c.39.39.9.59 1.41.59.51 0 1.02-.2 1.41-.59l7.78-7.78 2.81-2.81c.8-.78.8-2.07 0-2.86zM5.41 20L4 18.59l7.72-7.72 1.47 1.35L5.41 20z\"/>\n",
              "  </svg>\n",
              "      </button>\n",
              "      \n",
              "  <style>\n",
              "    .colab-df-container {\n",
              "      display:flex;\n",
              "      flex-wrap:wrap;\n",
              "      gap: 12px;\n",
              "    }\n",
              "\n",
              "    .colab-df-convert {\n",
              "      background-color: #E8F0FE;\n",
              "      border: none;\n",
              "      border-radius: 50%;\n",
              "      cursor: pointer;\n",
              "      display: none;\n",
              "      fill: #1967D2;\n",
              "      height: 32px;\n",
              "      padding: 0 0 0 0;\n",
              "      width: 32px;\n",
              "    }\n",
              "\n",
              "    .colab-df-convert:hover {\n",
              "      background-color: #E2EBFA;\n",
              "      box-shadow: 0px 1px 2px rgba(60, 64, 67, 0.3), 0px 1px 3px 1px rgba(60, 64, 67, 0.15);\n",
              "      fill: #174EA6;\n",
              "    }\n",
              "\n",
              "    [theme=dark] .colab-df-convert {\n",
              "      background-color: #3B4455;\n",
              "      fill: #D2E3FC;\n",
              "    }\n",
              "\n",
              "    [theme=dark] .colab-df-convert:hover {\n",
              "      background-color: #434B5C;\n",
              "      box-shadow: 0px 1px 3px 1px rgba(0, 0, 0, 0.15);\n",
              "      filter: drop-shadow(0px 1px 2px rgba(0, 0, 0, 0.3));\n",
              "      fill: #FFFFFF;\n",
              "    }\n",
              "  </style>\n",
              "\n",
              "      <script>\n",
              "        const buttonEl =\n",
              "          document.querySelector('#df-08d1b4ea-45c1-4a39-a8c0-336e88fcc857 button.colab-df-convert');\n",
              "        buttonEl.style.display =\n",
              "          google.colab.kernel.accessAllowed ? 'block' : 'none';\n",
              "\n",
              "        async function convertToInteractive(key) {\n",
              "          const element = document.querySelector('#df-08d1b4ea-45c1-4a39-a8c0-336e88fcc857');\n",
              "          const dataTable =\n",
              "            await google.colab.kernel.invokeFunction('convertToInteractive',\n",
              "                                                     [key], {});\n",
              "          if (!dataTable) return;\n",
              "\n",
              "          const docLinkHtml = 'Like what you see? Visit the ' +\n",
              "            '<a target=\"_blank\" href=https://colab.research.google.com/notebooks/data_table.ipynb>data table notebook</a>'\n",
              "            + ' to learn more about interactive tables.';\n",
              "          element.innerHTML = '';\n",
              "          dataTable['output_type'] = 'display_data';\n",
              "          await google.colab.output.renderOutput(dataTable, element);\n",
              "          const docLink = document.createElement('div');\n",
              "          docLink.innerHTML = docLinkHtml;\n",
              "          element.appendChild(docLink);\n",
              "        }\n",
              "      </script>\n",
              "    </div>\n",
              "  </div>\n",
              "  "
            ]
          },
          "metadata": {},
          "execution_count": 7
        }
      ]
    },
    {
      "cell_type": "markdown",
      "source": [
        "### **b. Media y desviación estandard por Factores**"
      ],
      "metadata": {
        "id": "D52lLgs8v2Ye"
      }
    },
    {
      "cell_type": "code",
      "source": [
        "# **b. Media y desviación estandard**\n",
        "print('Acabado media y desviación típica por Velocidad')\n",
        "D2F.groupby('Velocidad')['Acabado'].agg(['mean', 'std'])"
      ],
      "metadata": {
        "colab": {
          "base_uri": "https://localhost:8080/",
          "height": 192
        },
        "id": "VdsR3iFmvA_W",
        "outputId": "2d8ceff5-3ec1-4349-d516-7e15ef0a51ba"
      },
      "execution_count": null,
      "outputs": [
        {
          "output_type": "stream",
          "name": "stdout",
          "text": [
            "Acabado media y desviación típica por Velocidad\n"
          ]
        },
        {
          "output_type": "execute_result",
          "data": {
            "text/plain": [
              "                 mean        std\n",
              "Velocidad                       \n",
              "0.20        81.583333  14.336592\n",
              "0.25        97.583333   8.005207\n",
              "0.30       103.833333   6.072791"
            ],
            "text/html": [
              "\n",
              "  <div id=\"df-c35d30fd-7eca-4d22-b842-39e073ca9ecb\">\n",
              "    <div class=\"colab-df-container\">\n",
              "      <div>\n",
              "<style scoped>\n",
              "    .dataframe tbody tr th:only-of-type {\n",
              "        vertical-align: middle;\n",
              "    }\n",
              "\n",
              "    .dataframe tbody tr th {\n",
              "        vertical-align: top;\n",
              "    }\n",
              "\n",
              "    .dataframe thead th {\n",
              "        text-align: right;\n",
              "    }\n",
              "</style>\n",
              "<table border=\"1\" class=\"dataframe\">\n",
              "  <thead>\n",
              "    <tr style=\"text-align: right;\">\n",
              "      <th></th>\n",
              "      <th>mean</th>\n",
              "      <th>std</th>\n",
              "    </tr>\n",
              "    <tr>\n",
              "      <th>Velocidad</th>\n",
              "      <th></th>\n",
              "      <th></th>\n",
              "    </tr>\n",
              "  </thead>\n",
              "  <tbody>\n",
              "    <tr>\n",
              "      <th>0.20</th>\n",
              "      <td>81.583333</td>\n",
              "      <td>14.336592</td>\n",
              "    </tr>\n",
              "    <tr>\n",
              "      <th>0.25</th>\n",
              "      <td>97.583333</td>\n",
              "      <td>8.005207</td>\n",
              "    </tr>\n",
              "    <tr>\n",
              "      <th>0.30</th>\n",
              "      <td>103.833333</td>\n",
              "      <td>6.072791</td>\n",
              "    </tr>\n",
              "  </tbody>\n",
              "</table>\n",
              "</div>\n",
              "      <button class=\"colab-df-convert\" onclick=\"convertToInteractive('df-c35d30fd-7eca-4d22-b842-39e073ca9ecb')\"\n",
              "              title=\"Convert this dataframe to an interactive table.\"\n",
              "              style=\"display:none;\">\n",
              "        \n",
              "  <svg xmlns=\"http://www.w3.org/2000/svg\" height=\"24px\"viewBox=\"0 0 24 24\"\n",
              "       width=\"24px\">\n",
              "    <path d=\"M0 0h24v24H0V0z\" fill=\"none\"/>\n",
              "    <path d=\"M18.56 5.44l.94 2.06.94-2.06 2.06-.94-2.06-.94-.94-2.06-.94 2.06-2.06.94zm-11 1L8.5 8.5l.94-2.06 2.06-.94-2.06-.94L8.5 2.5l-.94 2.06-2.06.94zm10 10l.94 2.06.94-2.06 2.06-.94-2.06-.94-.94-2.06-.94 2.06-2.06.94z\"/><path d=\"M17.41 7.96l-1.37-1.37c-.4-.4-.92-.59-1.43-.59-.52 0-1.04.2-1.43.59L10.3 9.45l-7.72 7.72c-.78.78-.78 2.05 0 2.83L4 21.41c.39.39.9.59 1.41.59.51 0 1.02-.2 1.41-.59l7.78-7.78 2.81-2.81c.8-.78.8-2.07 0-2.86zM5.41 20L4 18.59l7.72-7.72 1.47 1.35L5.41 20z\"/>\n",
              "  </svg>\n",
              "      </button>\n",
              "      \n",
              "  <style>\n",
              "    .colab-df-container {\n",
              "      display:flex;\n",
              "      flex-wrap:wrap;\n",
              "      gap: 12px;\n",
              "    }\n",
              "\n",
              "    .colab-df-convert {\n",
              "      background-color: #E8F0FE;\n",
              "      border: none;\n",
              "      border-radius: 50%;\n",
              "      cursor: pointer;\n",
              "      display: none;\n",
              "      fill: #1967D2;\n",
              "      height: 32px;\n",
              "      padding: 0 0 0 0;\n",
              "      width: 32px;\n",
              "    }\n",
              "\n",
              "    .colab-df-convert:hover {\n",
              "      background-color: #E2EBFA;\n",
              "      box-shadow: 0px 1px 2px rgba(60, 64, 67, 0.3), 0px 1px 3px 1px rgba(60, 64, 67, 0.15);\n",
              "      fill: #174EA6;\n",
              "    }\n",
              "\n",
              "    [theme=dark] .colab-df-convert {\n",
              "      background-color: #3B4455;\n",
              "      fill: #D2E3FC;\n",
              "    }\n",
              "\n",
              "    [theme=dark] .colab-df-convert:hover {\n",
              "      background-color: #434B5C;\n",
              "      box-shadow: 0px 1px 3px 1px rgba(0, 0, 0, 0.15);\n",
              "      filter: drop-shadow(0px 1px 2px rgba(0, 0, 0, 0.3));\n",
              "      fill: #FFFFFF;\n",
              "    }\n",
              "  </style>\n",
              "\n",
              "      <script>\n",
              "        const buttonEl =\n",
              "          document.querySelector('#df-c35d30fd-7eca-4d22-b842-39e073ca9ecb button.colab-df-convert');\n",
              "        buttonEl.style.display =\n",
              "          google.colab.kernel.accessAllowed ? 'block' : 'none';\n",
              "\n",
              "        async function convertToInteractive(key) {\n",
              "          const element = document.querySelector('#df-c35d30fd-7eca-4d22-b842-39e073ca9ecb');\n",
              "          const dataTable =\n",
              "            await google.colab.kernel.invokeFunction('convertToInteractive',\n",
              "                                                     [key], {});\n",
              "          if (!dataTable) return;\n",
              "\n",
              "          const docLinkHtml = 'Like what you see? Visit the ' +\n",
              "            '<a target=\"_blank\" href=https://colab.research.google.com/notebooks/data_table.ipynb>data table notebook</a>'\n",
              "            + ' to learn more about interactive tables.';\n",
              "          element.innerHTML = '';\n",
              "          dataTable['output_type'] = 'display_data';\n",
              "          await google.colab.output.renderOutput(dataTable, element);\n",
              "          const docLink = document.createElement('div');\n",
              "          docLink.innerHTML = docLinkHtml;\n",
              "          element.appendChild(docLink);\n",
              "        }\n",
              "      </script>\n",
              "    </div>\n",
              "  </div>\n",
              "  "
            ]
          },
          "metadata": {},
          "execution_count": 24
        }
      ]
    },
    {
      "cell_type": "code",
      "source": [
        "# **b. Media y desviación estandard**\n",
        "print('Acabado media y desviación típica por Profundidad')\n",
        "D2F.groupby('Profundidad')['Acabado'].agg(['mean', 'std'])"
      ],
      "metadata": {
        "colab": {
          "base_uri": "https://localhost:8080/",
          "height": 224
        },
        "id": "WnrTKJg2vjDq",
        "outputId": "0b89e823-3837-4bc8-a8d0-9ce9a40e2001"
      },
      "execution_count": null,
      "outputs": [
        {
          "output_type": "stream",
          "name": "stdout",
          "text": [
            "Acabado media y desviación típica por Profundidad\n"
          ]
        },
        {
          "output_type": "execute_result",
          "data": {
            "text/plain": [
              "                   mean        std\n",
              "Profundidad                       \n",
              "0.15          84.777778  15.409232\n",
              "0.18          89.777778  13.507200\n",
              "0.21          97.888889   9.662355\n",
              "0.24         104.888889   6.132790"
            ],
            "text/html": [
              "\n",
              "  <div id=\"df-04c77a5e-56af-407a-a175-370e71e005b2\">\n",
              "    <div class=\"colab-df-container\">\n",
              "      <div>\n",
              "<style scoped>\n",
              "    .dataframe tbody tr th:only-of-type {\n",
              "        vertical-align: middle;\n",
              "    }\n",
              "\n",
              "    .dataframe tbody tr th {\n",
              "        vertical-align: top;\n",
              "    }\n",
              "\n",
              "    .dataframe thead th {\n",
              "        text-align: right;\n",
              "    }\n",
              "</style>\n",
              "<table border=\"1\" class=\"dataframe\">\n",
              "  <thead>\n",
              "    <tr style=\"text-align: right;\">\n",
              "      <th></th>\n",
              "      <th>mean</th>\n",
              "      <th>std</th>\n",
              "    </tr>\n",
              "    <tr>\n",
              "      <th>Profundidad</th>\n",
              "      <th></th>\n",
              "      <th></th>\n",
              "    </tr>\n",
              "  </thead>\n",
              "  <tbody>\n",
              "    <tr>\n",
              "      <th>0.15</th>\n",
              "      <td>84.777778</td>\n",
              "      <td>15.409232</td>\n",
              "    </tr>\n",
              "    <tr>\n",
              "      <th>0.18</th>\n",
              "      <td>89.777778</td>\n",
              "      <td>13.507200</td>\n",
              "    </tr>\n",
              "    <tr>\n",
              "      <th>0.21</th>\n",
              "      <td>97.888889</td>\n",
              "      <td>9.662355</td>\n",
              "    </tr>\n",
              "    <tr>\n",
              "      <th>0.24</th>\n",
              "      <td>104.888889</td>\n",
              "      <td>6.132790</td>\n",
              "    </tr>\n",
              "  </tbody>\n",
              "</table>\n",
              "</div>\n",
              "      <button class=\"colab-df-convert\" onclick=\"convertToInteractive('df-04c77a5e-56af-407a-a175-370e71e005b2')\"\n",
              "              title=\"Convert this dataframe to an interactive table.\"\n",
              "              style=\"display:none;\">\n",
              "        \n",
              "  <svg xmlns=\"http://www.w3.org/2000/svg\" height=\"24px\"viewBox=\"0 0 24 24\"\n",
              "       width=\"24px\">\n",
              "    <path d=\"M0 0h24v24H0V0z\" fill=\"none\"/>\n",
              "    <path d=\"M18.56 5.44l.94 2.06.94-2.06 2.06-.94-2.06-.94-.94-2.06-.94 2.06-2.06.94zm-11 1L8.5 8.5l.94-2.06 2.06-.94-2.06-.94L8.5 2.5l-.94 2.06-2.06.94zm10 10l.94 2.06.94-2.06 2.06-.94-2.06-.94-.94-2.06-.94 2.06-2.06.94z\"/><path d=\"M17.41 7.96l-1.37-1.37c-.4-.4-.92-.59-1.43-.59-.52 0-1.04.2-1.43.59L10.3 9.45l-7.72 7.72c-.78.78-.78 2.05 0 2.83L4 21.41c.39.39.9.59 1.41.59.51 0 1.02-.2 1.41-.59l7.78-7.78 2.81-2.81c.8-.78.8-2.07 0-2.86zM5.41 20L4 18.59l7.72-7.72 1.47 1.35L5.41 20z\"/>\n",
              "  </svg>\n",
              "      </button>\n",
              "      \n",
              "  <style>\n",
              "    .colab-df-container {\n",
              "      display:flex;\n",
              "      flex-wrap:wrap;\n",
              "      gap: 12px;\n",
              "    }\n",
              "\n",
              "    .colab-df-convert {\n",
              "      background-color: #E8F0FE;\n",
              "      border: none;\n",
              "      border-radius: 50%;\n",
              "      cursor: pointer;\n",
              "      display: none;\n",
              "      fill: #1967D2;\n",
              "      height: 32px;\n",
              "      padding: 0 0 0 0;\n",
              "      width: 32px;\n",
              "    }\n",
              "\n",
              "    .colab-df-convert:hover {\n",
              "      background-color: #E2EBFA;\n",
              "      box-shadow: 0px 1px 2px rgba(60, 64, 67, 0.3), 0px 1px 3px 1px rgba(60, 64, 67, 0.15);\n",
              "      fill: #174EA6;\n",
              "    }\n",
              "\n",
              "    [theme=dark] .colab-df-convert {\n",
              "      background-color: #3B4455;\n",
              "      fill: #D2E3FC;\n",
              "    }\n",
              "\n",
              "    [theme=dark] .colab-df-convert:hover {\n",
              "      background-color: #434B5C;\n",
              "      box-shadow: 0px 1px 3px 1px rgba(0, 0, 0, 0.15);\n",
              "      filter: drop-shadow(0px 1px 2px rgba(0, 0, 0, 0.3));\n",
              "      fill: #FFFFFF;\n",
              "    }\n",
              "  </style>\n",
              "\n",
              "      <script>\n",
              "        const buttonEl =\n",
              "          document.querySelector('#df-04c77a5e-56af-407a-a175-370e71e005b2 button.colab-df-convert');\n",
              "        buttonEl.style.display =\n",
              "          google.colab.kernel.accessAllowed ? 'block' : 'none';\n",
              "\n",
              "        async function convertToInteractive(key) {\n",
              "          const element = document.querySelector('#df-04c77a5e-56af-407a-a175-370e71e005b2');\n",
              "          const dataTable =\n",
              "            await google.colab.kernel.invokeFunction('convertToInteractive',\n",
              "                                                     [key], {});\n",
              "          if (!dataTable) return;\n",
              "\n",
              "          const docLinkHtml = 'Like what you see? Visit the ' +\n",
              "            '<a target=\"_blank\" href=https://colab.research.google.com/notebooks/data_table.ipynb>data table notebook</a>'\n",
              "            + ' to learn more about interactive tables.';\n",
              "          element.innerHTML = '';\n",
              "          dataTable['output_type'] = 'display_data';\n",
              "          await google.colab.output.renderOutput(dataTable, element);\n",
              "          const docLink = document.createElement('div');\n",
              "          docLink.innerHTML = docLinkHtml;\n",
              "          element.appendChild(docLink);\n",
              "        }\n",
              "      </script>\n",
              "    </div>\n",
              "  </div>\n",
              "  "
            ]
          },
          "metadata": {},
          "execution_count": 25
        }
      ]
    },
    {
      "cell_type": "markdown",
      "source": [
        "# **c. Media y desviación estandard por combinación de Factores**"
      ],
      "metadata": {
        "id": "TJuzphXVw-JF"
      }
    },
    {
      "cell_type": "code",
      "source": [
        "# **c. Media y desviación estandard por combinación de Factores**\n",
        "print('Resistencia media y desviación típica por templado y grosor')\n",
        "D2F.groupby(['Velocidad', 'Profundidad'])['Acabado'].agg(['mean', 'std'])"
      ],
      "metadata": {
        "colab": {
          "base_uri": "https://localhost:8080/",
          "height": 474
        },
        "id": "ZjwZykupwDU1",
        "outputId": "28d3866d-4e27-4b94-a4a2-a7d88d5cf837"
      },
      "execution_count": null,
      "outputs": [
        {
          "output_type": "stream",
          "name": "stdout",
          "text": [
            "Resistencia media y desviación típica por templado y grosor\n"
          ]
        },
        {
          "output_type": "execute_result",
          "data": {
            "text/plain": [
              "                             mean       std\n",
              "Velocidad Profundidad                      \n",
              "0.20      0.15          66.000000  7.211103\n",
              "          0.18          73.333333  5.507571\n",
              "          0.21          87.333333  5.033223\n",
              "          0.24          99.666667  4.041452\n",
              "0.25      0.15          88.666667  3.055050\n",
              "          0.18          96.666667  8.082904\n",
              "          0.21         100.666667  6.658328\n",
              "          0.24         104.333333  5.507571\n",
              "0.30      0.15          99.666667  2.081666\n",
              "          0.18          99.333333  4.509250\n",
              "          0.21         105.666667  5.859465\n",
              "          0.24         110.666667  3.511885"
            ],
            "text/html": [
              "\n",
              "  <div id=\"df-a4dc17a5-a801-44c1-bf13-26e23af7904c\">\n",
              "    <div class=\"colab-df-container\">\n",
              "      <div>\n",
              "<style scoped>\n",
              "    .dataframe tbody tr th:only-of-type {\n",
              "        vertical-align: middle;\n",
              "    }\n",
              "\n",
              "    .dataframe tbody tr th {\n",
              "        vertical-align: top;\n",
              "    }\n",
              "\n",
              "    .dataframe thead th {\n",
              "        text-align: right;\n",
              "    }\n",
              "</style>\n",
              "<table border=\"1\" class=\"dataframe\">\n",
              "  <thead>\n",
              "    <tr style=\"text-align: right;\">\n",
              "      <th></th>\n",
              "      <th></th>\n",
              "      <th>mean</th>\n",
              "      <th>std</th>\n",
              "    </tr>\n",
              "    <tr>\n",
              "      <th>Velocidad</th>\n",
              "      <th>Profundidad</th>\n",
              "      <th></th>\n",
              "      <th></th>\n",
              "    </tr>\n",
              "  </thead>\n",
              "  <tbody>\n",
              "    <tr>\n",
              "      <th rowspan=\"4\" valign=\"top\">0.20</th>\n",
              "      <th>0.15</th>\n",
              "      <td>66.000000</td>\n",
              "      <td>7.211103</td>\n",
              "    </tr>\n",
              "    <tr>\n",
              "      <th>0.18</th>\n",
              "      <td>73.333333</td>\n",
              "      <td>5.507571</td>\n",
              "    </tr>\n",
              "    <tr>\n",
              "      <th>0.21</th>\n",
              "      <td>87.333333</td>\n",
              "      <td>5.033223</td>\n",
              "    </tr>\n",
              "    <tr>\n",
              "      <th>0.24</th>\n",
              "      <td>99.666667</td>\n",
              "      <td>4.041452</td>\n",
              "    </tr>\n",
              "    <tr>\n",
              "      <th rowspan=\"4\" valign=\"top\">0.25</th>\n",
              "      <th>0.15</th>\n",
              "      <td>88.666667</td>\n",
              "      <td>3.055050</td>\n",
              "    </tr>\n",
              "    <tr>\n",
              "      <th>0.18</th>\n",
              "      <td>96.666667</td>\n",
              "      <td>8.082904</td>\n",
              "    </tr>\n",
              "    <tr>\n",
              "      <th>0.21</th>\n",
              "      <td>100.666667</td>\n",
              "      <td>6.658328</td>\n",
              "    </tr>\n",
              "    <tr>\n",
              "      <th>0.24</th>\n",
              "      <td>104.333333</td>\n",
              "      <td>5.507571</td>\n",
              "    </tr>\n",
              "    <tr>\n",
              "      <th rowspan=\"4\" valign=\"top\">0.30</th>\n",
              "      <th>0.15</th>\n",
              "      <td>99.666667</td>\n",
              "      <td>2.081666</td>\n",
              "    </tr>\n",
              "    <tr>\n",
              "      <th>0.18</th>\n",
              "      <td>99.333333</td>\n",
              "      <td>4.509250</td>\n",
              "    </tr>\n",
              "    <tr>\n",
              "      <th>0.21</th>\n",
              "      <td>105.666667</td>\n",
              "      <td>5.859465</td>\n",
              "    </tr>\n",
              "    <tr>\n",
              "      <th>0.24</th>\n",
              "      <td>110.666667</td>\n",
              "      <td>3.511885</td>\n",
              "    </tr>\n",
              "  </tbody>\n",
              "</table>\n",
              "</div>\n",
              "      <button class=\"colab-df-convert\" onclick=\"convertToInteractive('df-a4dc17a5-a801-44c1-bf13-26e23af7904c')\"\n",
              "              title=\"Convert this dataframe to an interactive table.\"\n",
              "              style=\"display:none;\">\n",
              "        \n",
              "  <svg xmlns=\"http://www.w3.org/2000/svg\" height=\"24px\"viewBox=\"0 0 24 24\"\n",
              "       width=\"24px\">\n",
              "    <path d=\"M0 0h24v24H0V0z\" fill=\"none\"/>\n",
              "    <path d=\"M18.56 5.44l.94 2.06.94-2.06 2.06-.94-2.06-.94-.94-2.06-.94 2.06-2.06.94zm-11 1L8.5 8.5l.94-2.06 2.06-.94-2.06-.94L8.5 2.5l-.94 2.06-2.06.94zm10 10l.94 2.06.94-2.06 2.06-.94-2.06-.94-.94-2.06-.94 2.06-2.06.94z\"/><path d=\"M17.41 7.96l-1.37-1.37c-.4-.4-.92-.59-1.43-.59-.52 0-1.04.2-1.43.59L10.3 9.45l-7.72 7.72c-.78.78-.78 2.05 0 2.83L4 21.41c.39.39.9.59 1.41.59.51 0 1.02-.2 1.41-.59l7.78-7.78 2.81-2.81c.8-.78.8-2.07 0-2.86zM5.41 20L4 18.59l7.72-7.72 1.47 1.35L5.41 20z\"/>\n",
              "  </svg>\n",
              "      </button>\n",
              "      \n",
              "  <style>\n",
              "    .colab-df-container {\n",
              "      display:flex;\n",
              "      flex-wrap:wrap;\n",
              "      gap: 12px;\n",
              "    }\n",
              "\n",
              "    .colab-df-convert {\n",
              "      background-color: #E8F0FE;\n",
              "      border: none;\n",
              "      border-radius: 50%;\n",
              "      cursor: pointer;\n",
              "      display: none;\n",
              "      fill: #1967D2;\n",
              "      height: 32px;\n",
              "      padding: 0 0 0 0;\n",
              "      width: 32px;\n",
              "    }\n",
              "\n",
              "    .colab-df-convert:hover {\n",
              "      background-color: #E2EBFA;\n",
              "      box-shadow: 0px 1px 2px rgba(60, 64, 67, 0.3), 0px 1px 3px 1px rgba(60, 64, 67, 0.15);\n",
              "      fill: #174EA6;\n",
              "    }\n",
              "\n",
              "    [theme=dark] .colab-df-convert {\n",
              "      background-color: #3B4455;\n",
              "      fill: #D2E3FC;\n",
              "    }\n",
              "\n",
              "    [theme=dark] .colab-df-convert:hover {\n",
              "      background-color: #434B5C;\n",
              "      box-shadow: 0px 1px 3px 1px rgba(0, 0, 0, 0.15);\n",
              "      filter: drop-shadow(0px 1px 2px rgba(0, 0, 0, 0.3));\n",
              "      fill: #FFFFFF;\n",
              "    }\n",
              "  </style>\n",
              "\n",
              "      <script>\n",
              "        const buttonEl =\n",
              "          document.querySelector('#df-a4dc17a5-a801-44c1-bf13-26e23af7904c button.colab-df-convert');\n",
              "        buttonEl.style.display =\n",
              "          google.colab.kernel.accessAllowed ? 'block' : 'none';\n",
              "\n",
              "        async function convertToInteractive(key) {\n",
              "          const element = document.querySelector('#df-a4dc17a5-a801-44c1-bf13-26e23af7904c');\n",
              "          const dataTable =\n",
              "            await google.colab.kernel.invokeFunction('convertToInteractive',\n",
              "                                                     [key], {});\n",
              "          if (!dataTable) return;\n",
              "\n",
              "          const docLinkHtml = 'Like what you see? Visit the ' +\n",
              "            '<a target=\"_blank\" href=https://colab.research.google.com/notebooks/data_table.ipynb>data table notebook</a>'\n",
              "            + ' to learn more about interactive tables.';\n",
              "          element.innerHTML = '';\n",
              "          dataTable['output_type'] = 'display_data';\n",
              "          await google.colab.output.renderOutput(dataTable, element);\n",
              "          const docLink = document.createElement('div');\n",
              "          docLink.innerHTML = docLinkHtml;\n",
              "          element.appendChild(docLink);\n",
              "        }\n",
              "      </script>\n",
              "    </div>\n",
              "  </div>\n",
              "  "
            ]
          },
          "metadata": {},
          "execution_count": 27
        }
      ]
    },
    {
      "cell_type": "markdown",
      "source": [
        "## **6.4. BoxPlot para el Diseño**"
      ],
      "metadata": {
        "id": "-OLDnC3cW6RO"
      }
    },
    {
      "cell_type": "code",
      "source": [
        "fig, axs = plt.subplots(1, 2, figsize=(18, 10))\n",
        "axs[0].set_title('Acabado vs Velocidad')\n",
        "sns.boxplot(x=\"Velocidad\", y=\"Acabado\", data=D2F, ax=axs[0])\n",
        "sns.swarmplot(x=\"Velocidad\", y=\"Acabado\", data=D2F, color='black',\n",
        "              alpha = 0.5, ax=axs[0])\n",
        "\n",
        "axs[1].set_title('Acabado vs Velocidad')\n",
        "sns.boxplot(x=\"Profundidad\", y=\"Acabado\", data=D2F, ax=axs[1])\n",
        "sns.swarmplot(x=\"Profundidad\", y=\"Acabado\", data=D2F, color='black',\n",
        "              alpha = 0.5, ax=axs[1])\n",
        "\n"
      ],
      "metadata": {
        "colab": {
          "base_uri": "https://localhost:8080/",
          "height": 889
        },
        "id": "UN5N_GDaYKek",
        "outputId": "a9675835-7d3d-4a3c-db39-7106b2dee9c6"
      },
      "execution_count": null,
      "outputs": [
        {
          "output_type": "execute_result",
          "data": {
            "text/plain": [
              "<Axes: title={'center': 'Acabado vs Velocidad'}, xlabel='Profundidad', ylabel='Acabado'>"
            ]
          },
          "metadata": {},
          "execution_count": 8
        },
        {
          "output_type": "display_data",
          "data": {
            "text/plain": [
              "<Figure size 1800x1000 with 2 Axes>"
            ],
            "image/png": "[encoded data removed]"
          },
          "metadata": {}
        }
      ]
    },
    {
      "cell_type": "markdown",
      "source": [
        "## **6.5 Diagrama Bivariado esposible dado que  hay replicas**"
      ],
      "metadata": {
        "id": "2ku_4PLUcG0U"
      }
    },
    {
      "cell_type": "code",
      "source": [
        "## **4.6 Diagrama Bivariado no es sposible dado que no hay replicas**\n",
        "fig, ax = plt.subplots(1, 1, figsize=(8, 4))\n",
        "ax.set_title('Acabado vs Velocidad y Profundidad')\n",
        "sns.boxplot(x=\"Velocidad\", y=\"Acabado\", hue='Profundidad', data=D2F, ax=ax);"
      ],
      "metadata": {
        "colab": {
          "base_uri": "https://localhost:8080/",
          "height": 410
        },
        "id": "uI6SaURrMvE_",
        "outputId": "c0387ab9-fdda-4669-e332-b5aff39aa6b9"
      },
      "execution_count": null,
      "outputs": [
        {
          "output_type": "display_data",
          "data": {
            "text/plain": [
              "<Figure size 800x400 with 1 Axes>"
            ],
            "image/png": "[encoded data removed]"
          },
          "metadata": {}
        }
      ]
    },
    {
      "cell_type": "markdown",
      "source": [
        "## **6.6 Análisis de Varianza Tipo II**"
      ],
      "metadata": {
        "id": "jDpfj2e7dAS6"
      }
    },
    {
      "cell_type": "code",
      "source": [
        "# **a. Análisis de Varianza2**\n",
        "modeloD2F = smf.ols(\"Acabado ~ C(Velocidad) + C(Profundidad)+C(Velocidad) * C(Profundidad)\", data = D2F).fit()\n",
        "print(modeloD2F.summary())"
      ],
      "metadata": {
        "colab": {
          "base_uri": "https://localhost:8080/"
        },
        "id": "NFUROjUJsZLr",
        "outputId": "185d84ba-7026-4584-a2bd-914e1c0b8c0a"
      },
      "execution_count": null,
      "outputs": [
        {
          "output_type": "stream",
          "name": "stdout",
          "text": [
            "                            OLS Regression Results                            \n",
            "==============================================================================\n",
            "Dep. Variable:                Acabado   R-squared:                       0.894\n",
            "Model:                            OLS   Adj. R-squared:                  0.846\n",
            "Method:                 Least Squares   F-statistic:                     18.49\n",
            "Date:                Wed, 10 May 2023   Prob (F-statistic):           4.11e-09\n",
            "Time:                        12:43:51   Log-Likelihood:                -104.22\n",
            "No. Observations:                  36   AIC:                             232.4\n",
            "Df Residuals:                      24   BIC:                             251.4\n",
            "Df Model:                          11                                         \n",
            "Covariance Type:            nonrobust                                         \n",
            "===============================================================================================================\n",
            "                                                  coef    std err          t      P>|t|      [0.025      0.975]\n",
            "---------------------------------------------------------------------------------------------------------------\n",
            "Intercept                                      66.0000      3.094     21.330      0.000      59.614      72.386\n",
            "C(Velocidad)[T.0.25]                           22.6667      4.376      5.180      0.000      13.635      31.698\n",
            "C(Velocidad)[T.0.3]                            33.6667      4.376      7.694      0.000      24.635      42.698\n",
            "C(Profundidad)[T.0.18]                          7.3333      4.376      1.676      0.107      -1.698      16.365\n",
            "C(Profundidad)[T.0.21]                         21.3333      4.376      4.875      0.000      12.302      30.365\n",
            "C(Profundidad)[T.0.24]                         33.6667      4.376      7.694      0.000      24.635      42.698\n",
            "C(Velocidad)[T.0.25]:C(Profundidad)[T.0.18]     0.6667      6.188      0.108      0.915     -12.106      13.439\n",
            "C(Velocidad)[T.0.3]:C(Profundidad)[T.0.18]     -7.6667      6.188     -1.239      0.227     -20.439       5.106\n",
            "C(Velocidad)[T.0.25]:C(Profundidad)[T.0.21]    -9.3333      6.188     -1.508      0.145     -22.106       3.439\n",
            "C(Velocidad)[T.0.3]:C(Profundidad)[T.0.21]    -15.3333      6.188     -2.478      0.021     -28.106      -2.561\n",
            "C(Velocidad)[T.0.25]:C(Profundidad)[T.0.24]   -18.0000      6.188     -2.909      0.008     -30.772      -5.228\n",
            "C(Velocidad)[T.0.3]:C(Profundidad)[T.0.24]    -22.6667      6.188     -3.663      0.001     -35.439      -9.894\n",
            "==============================================================================\n",
            "Omnibus:                        2.636   Durbin-Watson:                   2.672\n",
            "Prob(Omnibus):                  0.268   Jarque-Bera (JB):                1.359\n",
            "Skew:                           0.038   Prob(JB):                        0.507\n",
            "Kurtosis:                       2.051   Cond. No.                         17.9\n",
            "==============================================================================\n",
            "\n",
            "Notes:\n",
            "[1] Standard Errors assume that the covariance matrix of the errors is correctly specified.\n"
          ]
        }
      ]
    },
    {
      "cell_type": "code",
      "source": [
        "# **b Análisis de Varianza Tipo II**\n",
        "modeloD2F = ols(\"Acabado ~ C(Velocidad) + C(Profundidad)+C(Velocidad) * C(Profundidad)\", data = D2F).fit()\n",
        "anova_result = sm.stats.anova_lm(modeloD2F, typ=2)\n",
        "print (anova_result)"
      ],
      "metadata": {
        "colab": {
          "base_uri": "https://localhost:8080/"
        },
        "id": "RCgkFxVIcLJV",
        "outputId": "eaf4523f-3687-41d4-ef6a-1b04c45b603e"
      },
      "execution_count": null,
      "outputs": [
        {
          "output_type": "stream",
          "name": "stdout",
          "text": [
            "                                  sum_sq    df          F        PR(>F)\n",
            "C(Velocidad)                 3160.500000   2.0  55.018375  1.086046e-09\n",
            "C(Profundidad)               2125.111111   3.0  24.662798  1.652000e-07\n",
            "C(Velocidad):C(Profundidad)   557.055556   6.0   3.232431  1.797302e-02\n",
            "Residual                      689.333333  24.0        NaN           NaN\n"
          ]
        }
      ]
    },
    {
      "cell_type": "code",
      "source": [
        "anova_result.T"
      ],
      "metadata": {
        "colab": {
          "base_uri": "https://localhost:8080/",
          "height": 175
        },
        "id": "sVevSu2zdJ2C",
        "outputId": "6bf8dd8b-d3d8-4891-c935-56c5a815adf3"
      },
      "execution_count": null,
      "outputs": [
        {
          "output_type": "execute_result",
          "data": {
            "text/plain": [
              "        C(Velocidad)  C(Profundidad)  C(Velocidad):C(Profundidad)    Residual\n",
              "sum_sq  3.160500e+03    2.125111e+03                   557.055556  689.333333\n",
              "df      2.000000e+00    3.000000e+00                     6.000000   24.000000\n",
              "F       5.501838e+01    2.466280e+01                     3.232431         NaN\n",
              "PR(>F)  1.086046e-09    1.652000e-07                     0.017973         NaN"
            ],
            "text/html": [
              "\n",
              "  <div id=\"df-d1931c57-70ab-458c-8237-dc794f070415\">\n",
              "    <div class=\"colab-df-container\">\n",
              "      <div>\n",
              "<style scoped>\n",
              "    .dataframe tbody tr th:only-of-type {\n",
              "        vertical-align: middle;\n",
              "    }\n",
              "\n",
              "    .dataframe tbody tr th {\n",
              "        vertical-align: top;\n",
              "    }\n",
              "\n",
              "    .dataframe thead th {\n",
              "        text-align: right;\n",
              "    }\n",
              "</style>\n",
              "<table border=\"1\" class=\"dataframe\">\n",
              "  <thead>\n",
              "    <tr style=\"text-align: right;\">\n",
              "      <th></th>\n",
              "      <th>C(Velocidad)</th>\n",
              "      <th>C(Profundidad)</th>\n",
              "      <th>C(Velocidad):C(Profundidad)</th>\n",
              "      <th>Residual</th>\n",
              "    </tr>\n",
              "  </thead>\n",
              "  <tbody>\n",
              "    <tr>\n",
              "      <th>sum_sq</th>\n",
              "      <td>3.160500e+03</td>\n",
              "      <td>2.125111e+03</td>\n",
              "      <td>557.055556</td>\n",
              "      <td>689.333333</td>\n",
              "    </tr>\n",
              "    <tr>\n",
              "      <th>df</th>\n",
              "      <td>2.000000e+00</td>\n",
              "      <td>3.000000e+00</td>\n",
              "      <td>6.000000</td>\n",
              "      <td>24.000000</td>\n",
              "    </tr>\n",
              "    <tr>\n",
              "      <th>F</th>\n",
              "      <td>5.501838e+01</td>\n",
              "      <td>2.466280e+01</td>\n",
              "      <td>3.232431</td>\n",
              "      <td>NaN</td>\n",
              "    </tr>\n",
              "    <tr>\n",
              "      <th>PR(&gt;F)</th>\n",
              "      <td>1.086046e-09</td>\n",
              "      <td>1.652000e-07</td>\n",
              "      <td>0.017973</td>\n",
              "      <td>NaN</td>\n",
              "    </tr>\n",
              "  </tbody>\n",
              "</table>\n",
              "</div>\n",
              "      <button class=\"colab-df-convert\" onclick=\"convertToInteractive('df-d1931c57-70ab-458c-8237-dc794f070415')\"\n",
              "              title=\"Convert this dataframe to an interactive table.\"\n",
              "              style=\"display:none;\">\n",
              "        \n",
              "  <svg xmlns=\"http://www.w3.org/2000/svg\" height=\"24px\"viewBox=\"0 0 24 24\"\n",
              "       width=\"24px\">\n",
              "    <path d=\"M0 0h24v24H0V0z\" fill=\"none\"/>\n",
              "    <path d=\"M18.56 5.44l.94 2.06.94-2.06 2.06-.94-2.06-.94-.94-2.06-.94 2.06-2.06.94zm-11 1L8.5 8.5l.94-2.06 2.06-.94-2.06-.94L8.5 2.5l-.94 2.06-2.06.94zm10 10l.94 2.06.94-2.06 2.06-.94-2.06-.94-.94-2.06-.94 2.06-2.06.94z\"/><path d=\"M17.41 7.96l-1.37-1.37c-.4-.4-.92-.59-1.43-.59-.52 0-1.04.2-1.43.59L10.3 9.45l-7.72 7.72c-.78.78-.78 2.05 0 2.83L4 21.41c.39.39.9.59 1.41.59.51 0 1.02-.2 1.41-.59l7.78-7.78 2.81-2.81c.8-.78.8-2.07 0-2.86zM5.41 20L4 18.59l7.72-7.72 1.47 1.35L5.41 20z\"/>\n",
              "  </svg>\n",
              "      </button>\n",
              "      \n",
              "  <style>\n",
              "    .colab-df-container {\n",
              "      display:flex;\n",
              "      flex-wrap:wrap;\n",
              "      gap: 12px;\n",
              "    }\n",
              "\n",
              "    .colab-df-convert {\n",
              "      background-color: #E8F0FE;\n",
              "      border: none;\n",
              "      border-radius: 50%;\n",
              "      cursor: pointer;\n",
              "      display: none;\n",
              "      fill: #1967D2;\n",
              "      height: 32px;\n",
              "      padding: 0 0 0 0;\n",
              "      width: 32px;\n",
              "    }\n",
              "\n",
              "    .colab-df-convert:hover {\n",
              "      background-color: #E2EBFA;\n",
              "      box-shadow: 0px 1px 2px rgba(60, 64, 67, 0.3), 0px 1px 3px 1px rgba(60, 64, 67, 0.15);\n",
              "      fill: #174EA6;\n",
              "    }\n",
              "\n",
              "    [theme=dark] .colab-df-convert {\n",
              "      background-color: #3B4455;\n",
              "      fill: #D2E3FC;\n",
              "    }\n",
              "\n",
              "    [theme=dark] .colab-df-convert:hover {\n",
              "      background-color: #434B5C;\n",
              "      box-shadow: 0px 1px 3px 1px rgba(0, 0, 0, 0.15);\n",
              "      filter: drop-shadow(0px 1px 2px rgba(0, 0, 0, 0.3));\n",
              "      fill: #FFFFFF;\n",
              "    }\n",
              "  </style>\n",
              "\n",
              "      <script>\n",
              "        const buttonEl =\n",
              "          document.querySelector('#df-d1931c57-70ab-458c-8237-dc794f070415 button.colab-df-convert');\n",
              "        buttonEl.style.display =\n",
              "          google.colab.kernel.accessAllowed ? 'block' : 'none';\n",
              "\n",
              "        async function convertToInteractive(key) {\n",
              "          const element = document.querySelector('#df-d1931c57-70ab-458c-8237-dc794f070415');\n",
              "          const dataTable =\n",
              "            await google.colab.kernel.invokeFunction('convertToInteractive',\n",
              "                                                     [key], {});\n",
              "          if (!dataTable) return;\n",
              "\n",
              "          const docLinkHtml = 'Like what you see? Visit the ' +\n",
              "            '<a target=\"_blank\" href=https://colab.research.google.com/notebooks/data_table.ipynb>data table notebook</a>'\n",
              "            + ' to learn more about interactive tables.';\n",
              "          element.innerHTML = '';\n",
              "          dataTable['output_type'] = 'display_data';\n",
              "          await google.colab.output.renderOutput(dataTable, element);\n",
              "          const docLink = document.createElement('div');\n",
              "          docLink.innerHTML = docLinkHtml;\n",
              "          element.appendChild(docLink);\n",
              "        }\n",
              "      </script>\n",
              "    </div>\n",
              "  </div>\n",
              "  "
            ]
          },
          "metadata": {},
          "execution_count": 12
        }
      ]
    },
    {
      "cell_type": "code",
      "source": [
        "print(modeloD2F.summary())"
      ],
      "metadata": {
        "colab": {
          "base_uri": "https://localhost:8080/"
        },
        "id": "rl0ympdKdUdA",
        "outputId": "fc6442d7-101c-40df-c8f4-473e67150d36"
      },
      "execution_count": null,
      "outputs": [
        {
          "output_type": "stream",
          "name": "stdout",
          "text": [
            "                            OLS Regression Results                            \n",
            "==============================================================================\n",
            "Dep. Variable:                Acabado   R-squared:                       0.894\n",
            "Model:                            OLS   Adj. R-squared:                  0.846\n",
            "Method:                 Least Squares   F-statistic:                     18.49\n",
            "Date:                Wed, 10 May 2023   Prob (F-statistic):           4.11e-09\n",
            "Time:                        12:43:52   Log-Likelihood:                -104.22\n",
            "No. Observations:                  36   AIC:                             232.4\n",
            "Df Residuals:                      24   BIC:                             251.4\n",
            "Df Model:                          11                                         \n",
            "Covariance Type:            nonrobust                                         \n",
            "===============================================================================================================\n",
            "                                                  coef    std err          t      P>|t|      [0.025      0.975]\n",
            "---------------------------------------------------------------------------------------------------------------\n",
            "Intercept                                      66.0000      3.094     21.330      0.000      59.614      72.386\n",
            "C(Velocidad)[T.0.25]                           22.6667      4.376      5.180      0.000      13.635      31.698\n",
            "C(Velocidad)[T.0.3]                            33.6667      4.376      7.694      0.000      24.635      42.698\n",
            "C(Profundidad)[T.0.18]                          7.3333      4.376      1.676      0.107      -1.698      16.365\n",
            "C(Profundidad)[T.0.21]                         21.3333      4.376      4.875      0.000      12.302      30.365\n",
            "C(Profundidad)[T.0.24]                         33.6667      4.376      7.694      0.000      24.635      42.698\n",
            "C(Velocidad)[T.0.25]:C(Profundidad)[T.0.18]     0.6667      6.188      0.108      0.915     -12.106      13.439\n",
            "C(Velocidad)[T.0.3]:C(Profundidad)[T.0.18]     -7.6667      6.188     -1.239      0.227     -20.439       5.106\n",
            "C(Velocidad)[T.0.25]:C(Profundidad)[T.0.21]    -9.3333      6.188     -1.508      0.145     -22.106       3.439\n",
            "C(Velocidad)[T.0.3]:C(Profundidad)[T.0.21]    -15.3333      6.188     -2.478      0.021     -28.106      -2.561\n",
            "C(Velocidad)[T.0.25]:C(Profundidad)[T.0.24]   -18.0000      6.188     -2.909      0.008     -30.772      -5.228\n",
            "C(Velocidad)[T.0.3]:C(Profundidad)[T.0.24]    -22.6667      6.188     -3.663      0.001     -35.439      -9.894\n",
            "==============================================================================\n",
            "Omnibus:                        2.636   Durbin-Watson:                   2.672\n",
            "Prob(Omnibus):                  0.268   Jarque-Bera (JB):                1.359\n",
            "Skew:                           0.038   Prob(JB):                        0.507\n",
            "Kurtosis:                       2.051   Cond. No.                         17.9\n",
            "==============================================================================\n",
            "\n",
            "Notes:\n",
            "[1] Standard Errors assume that the covariance matrix of the errors is correctly specified.\n"
          ]
        }
      ]
    },
    {
      "cell_type": "markdown",
      "source": [
        "# **Anova 2**"
      ],
      "metadata": {
        "id": "CbswIO1YvMS9"
      }
    },
    {
      "cell_type": "code",
      "source": [
        "# **Anova 2**\n",
        "pg.anova(\n",
        "    data     = D2F,\n",
        "    dv       = 'Acabado',\n",
        "    between  = ['Velocidad', 'Profundidad'],\n",
        "    detailed = True\n",
        ").round(4)"
      ],
      "metadata": {
        "colab": {
          "base_uri": "https://localhost:8080/",
          "height": 175
        },
        "id": "5Z20KRlnrHtJ",
        "outputId": "7bd85f5c-6e73-494d-dcfb-98dd66a54b38"
      },
      "execution_count": null,
      "outputs": [
        {
          "output_type": "execute_result",
          "data": {
            "text/plain": [
              "                    Source         SS  DF         MS        F  p-unc     np2\n",
              "0                Velocidad  3160.5000   2  1580.2500  55.0184  0.000  0.8209\n",
              "1              Profundidad  2125.1111   3   708.3704  24.6628  0.000  0.7551\n",
              "2  Velocidad * Profundidad   557.0556   6    92.8426   3.2324  0.018  0.4469\n",
              "3                 Residual   689.3333  24    28.7222      NaN    NaN     NaN"
            ],
            "text/html": [
              "\n",
              "  <div id=\"df-d947e187-c403-4743-a963-a463b2975eb7\">\n",
              "    <div class=\"colab-df-container\">\n",
              "      <div>\n",
              "<style scoped>\n",
              "    .dataframe tbody tr th:only-of-type {\n",
              "        vertical-align: middle;\n",
              "    }\n",
              "\n",
              "    .dataframe tbody tr th {\n",
              "        vertical-align: top;\n",
              "    }\n",
              "\n",
              "    .dataframe thead th {\n",
              "        text-align: right;\n",
              "    }\n",
              "</style>\n",
              "<table border=\"1\" class=\"dataframe\">\n",
              "  <thead>\n",
              "    <tr style=\"text-align: right;\">\n",
              "      <th></th>\n",
              "      <th>Source</th>\n",
              "      <th>SS</th>\n",
              "      <th>DF</th>\n",
              "      <th>MS</th>\n",
              "      <th>F</th>\n",
              "      <th>p-unc</th>\n",
              "      <th>np2</th>\n",
              "    </tr>\n",
              "  </thead>\n",
              "  <tbody>\n",
              "    <tr>\n",
              "      <th>0</th>\n",
              "      <td>Velocidad</td>\n",
              "      <td>3160.5000</td>\n",
              "      <td>2</td>\n",
              "      <td>1580.2500</td>\n",
              "      <td>55.0184</td>\n",
              "      <td>0.000</td>\n",
              "      <td>0.8209</td>\n",
              "    </tr>\n",
              "    <tr>\n",
              "      <th>1</th>\n",
              "      <td>Profundidad</td>\n",
              "      <td>2125.1111</td>\n",
              "      <td>3</td>\n",
              "      <td>708.3704</td>\n",
              "      <td>24.6628</td>\n",
              "      <td>0.000</td>\n",
              "      <td>0.7551</td>\n",
              "    </tr>\n",
              "    <tr>\n",
              "      <th>2</th>\n",
              "      <td>Velocidad * Profundidad</td>\n",
              "      <td>557.0556</td>\n",
              "      <td>6</td>\n",
              "      <td>92.8426</td>\n",
              "      <td>3.2324</td>\n",
              "      <td>0.018</td>\n",
              "      <td>0.4469</td>\n",
              "    </tr>\n",
              "    <tr>\n",
              "      <th>3</th>\n",
              "      <td>Residual</td>\n",
              "      <td>689.3333</td>\n",
              "      <td>24</td>\n",
              "      <td>28.7222</td>\n",
              "      <td>NaN</td>\n",
              "      <td>NaN</td>\n",
              "      <td>NaN</td>\n",
              "    </tr>\n",
              "  </tbody>\n",
              "</table>\n",
              "</div>\n",
              "      <button class=\"colab-df-convert\" onclick=\"convertToInteractive('df-d947e187-c403-4743-a963-a463b2975eb7')\"\n",
              "              title=\"Convert this dataframe to an interactive table.\"\n",
              "              style=\"display:none;\">\n",
              "        \n",
              "  <svg xmlns=\"http://www.w3.org/2000/svg\" height=\"24px\"viewBox=\"0 0 24 24\"\n",
              "       width=\"24px\">\n",
              "    <path d=\"M0 0h24v24H0V0z\" fill=\"none\"/>\n",
              "    <path d=\"M18.56 5.44l.94 2.06.94-2.06 2.06-.94-2.06-.94-.94-2.06-.94 2.06-2.06.94zm-11 1L8.5 8.5l.94-2.06 2.06-.94-2.06-.94L8.5 2.5l-.94 2.06-2.06.94zm10 10l.94 2.06.94-2.06 2.06-.94-2.06-.94-.94-2.06-.94 2.06-2.06.94z\"/><path d=\"M17.41 7.96l-1.37-1.37c-.4-.4-.92-.59-1.43-.59-.52 0-1.04.2-1.43.59L10.3 9.45l-7.72 7.72c-.78.78-.78 2.05 0 2.83L4 21.41c.39.39.9.59 1.41.59.51 0 1.02-.2 1.41-.59l7.78-7.78 2.81-2.81c.8-.78.8-2.07 0-2.86zM5.41 20L4 18.59l7.72-7.72 1.47 1.35L5.41 20z\"/>\n",
              "  </svg>\n",
              "      </button>\n",
              "      \n",
              "  <style>\n",
              "    .colab-df-container {\n",
              "      display:flex;\n",
              "      flex-wrap:wrap;\n",
              "      gap: 12px;\n",
              "    }\n",
              "\n",
              "    .colab-df-convert {\n",
              "      background-color: #E8F0FE;\n",
              "      border: none;\n",
              "      border-radius: 50%;\n",
              "      cursor: pointer;\n",
              "      display: none;\n",
              "      fill: #1967D2;\n",
              "      height: 32px;\n",
              "      padding: 0 0 0 0;\n",
              "      width: 32px;\n",
              "    }\n",
              "\n",
              "    .colab-df-convert:hover {\n",
              "      background-color: #E2EBFA;\n",
              "      box-shadow: 0px 1px 2px rgba(60, 64, 67, 0.3), 0px 1px 3px 1px rgba(60, 64, 67, 0.15);\n",
              "      fill: #174EA6;\n",
              "    }\n",
              "\n",
              "    [theme=dark] .colab-df-convert {\n",
              "      background-color: #3B4455;\n",
              "      fill: #D2E3FC;\n",
              "    }\n",
              "\n",
              "    [theme=dark] .colab-df-convert:hover {\n",
              "      background-color: #434B5C;\n",
              "      box-shadow: 0px 1px 3px 1px rgba(0, 0, 0, 0.15);\n",
              "      filter: drop-shadow(0px 1px 2px rgba(0, 0, 0, 0.3));\n",
              "      fill: #FFFFFF;\n",
              "    }\n",
              "  </style>\n",
              "\n",
              "      <script>\n",
              "        const buttonEl =\n",
              "          document.querySelector('#df-d947e187-c403-4743-a963-a463b2975eb7 button.colab-df-convert');\n",
              "        buttonEl.style.display =\n",
              "          google.colab.kernel.accessAllowed ? 'block' : 'none';\n",
              "\n",
              "        async function convertToInteractive(key) {\n",
              "          const element = document.querySelector('#df-d947e187-c403-4743-a963-a463b2975eb7');\n",
              "          const dataTable =\n",
              "            await google.colab.kernel.invokeFunction('convertToInteractive',\n",
              "                                                     [key], {});\n",
              "          if (!dataTable) return;\n",
              "\n",
              "          const docLinkHtml = 'Like what you see? Visit the ' +\n",
              "            '<a target=\"_blank\" href=https://colab.research.google.com/notebooks/data_table.ipynb>data table notebook</a>'\n",
              "            + ' to learn more about interactive tables.';\n",
              "          element.innerHTML = '';\n",
              "          dataTable['output_type'] = 'display_data';\n",
              "          await google.colab.output.renderOutput(dataTable, element);\n",
              "          const docLink = document.createElement('div');\n",
              "          docLink.innerHTML = docLinkHtml;\n",
              "          element.appendChild(docLink);\n",
              "        }\n",
              "      </script>\n",
              "    </div>\n",
              "  </div>\n",
              "  "
            ]
          },
          "metadata": {},
          "execution_count": 14
        }
      ]
    },
    {
      "cell_type": "markdown",
      "source": [
        "# **6.7 Gráfico de interacciones**"
      ],
      "metadata": {
        "id": "_e2meCa5okxu"
      }
    },
    {
      "cell_type": "code",
      "source": [
        "# **6.7 Gráfico de interacciones**\n",
        "fig, ax = plt.subplots(figsize=(6, 4))\n",
        "fig = interaction_plot(\n",
        "    x        = D2F.Velocidad,\n",
        "    trace    = D2F.Profundidad,\n",
        "    response = D2F.Acabado,\n",
        "    ax       = ax,\n",
        ")"
      ],
      "metadata": {
        "colab": {
          "base_uri": "https://localhost:8080/",
          "height": 388
        },
        "id": "Rh0Ff_pLorBF",
        "outputId": "64ed91f7-fcd1-4707-878e-82c4782f0e4d"
      },
      "execution_count": null,
      "outputs": [
        {
          "output_type": "display_data",
          "data": {
            "text/plain": [
              "<Figure size 600x400 with 1 Axes>"
            ],
            "image/png": "[encoded data removed]"
          },
          "metadata": {}
        }
      ]
    },
    {
      "cell_type": "code",
      "source": [
        "# **6.7 Gráfico de interacciones**\n",
        "fig, ax = plt.subplots(figsize=(6, 4))\n",
        "fig = interaction_plot(\n",
        "    x        = D2F.Profundidad,\n",
        "    trace    = D2F.Velocidad,\n",
        "    response = D2F.Acabado,\n",
        "    ax       = ax,\n",
        ")"
      ],
      "metadata": {
        "colab": {
          "base_uri": "https://localhost:8080/",
          "height": 388
        },
        "id": "BczN-WQ0pd_s",
        "outputId": "76aebc9d-0ecd-4cf2-8d27-e7d889c303b8"
      },
      "execution_count": null,
      "outputs": [
        {
          "output_type": "display_data",
          "data": {
            "text/plain": [
              "<Figure size 600x400 with 1 Axes>"
            ],
            "image/png": "[encoded data removed]"
          },
          "metadata": {}
        }
      ]
    },
    {
      "cell_type": "markdown",
      "source": [
        "## **6.8 Comparaciones Múltiples - HSD TUKEY**\n",
        "### **a. Comparaciones Múltiples: Acabado VS Profundidad**"
      ],
      "metadata": {
        "id": "1s6eQxvNgo8u"
      }
    },
    {
      "cell_type": "code",
      "source": [
        "### **a. Comparaciones Múltiples: Acabado VS Profundidad**\n",
        "tukey = pairwise_tukeyhsd(endog=D2F[\"Acabado\"],     # Data\n",
        "                          groups=D2F[\"Profundidad\"],   # Groups\n",
        "                          alpha=0.05)          # Significance level\n",
        "\n",
        "tukey.plot_simultaneous()    # Plot group confidence intervals\n",
        "#plt.vlines(x=200,ymin=-0.5,ymax=14.5, color=\"red\")\n",
        "tukey.summary()"
      ],
      "metadata": {
        "colab": {
          "base_uri": "https://localhost:8080/",
          "height": 714
        },
        "id": "ncj_dVu5fWRI",
        "outputId": "7fdf5c91-8f08-4a10-9535-2c47307d41d5"
      },
      "execution_count": null,
      "outputs": [
        {
          "output_type": "execute_result",
          "data": {
            "text/plain": [
              "<class 'statsmodels.iolib.table.SimpleTable'>"
            ],
            "text/html": [
              "<table class=\"simpletable\">\n",
              "<caption>Multiple Comparison of Means - Tukey HSD, FWER=0.05</caption>\n",
              "<tr>\n",
              "  <th>group1</th> <th>group2</th> <th>meandiff</th>  <th>p-adj</th>  <th>lower</th>   <th>upper</th>  <th>reject</th>\n",
              "</tr>\n",
              "<tr>\n",
              "   <td>0.15</td>   <td>0.18</td>     <td>5.0</td>   <td>0.8029</td> <td>-9.9883</td> <td>19.9883</td>  <td>False</td>\n",
              "</tr>\n",
              "<tr>\n",
              "   <td>0.15</td>   <td>0.21</td>   <td>13.1111</td> <td>0.1036</td> <td>-1.8772</td> <td>28.0994</td>  <td>False</td>\n",
              "</tr>\n",
              "<tr>\n",
              "   <td>0.15</td>   <td>0.24</td>   <td>20.1111</td> <td>0.0051</td> <td>5.1228</td>  <td>35.0994</td>  <td>True</td> \n",
              "</tr>\n",
              "<tr>\n",
              "   <td>0.18</td>   <td>0.21</td>   <td>8.1111</td>   <td>0.469</td> <td>-6.8772</td> <td>23.0994</td>  <td>False</td>\n",
              "</tr>\n",
              "<tr>\n",
              "   <td>0.18</td>   <td>0.24</td>   <td>15.1111</td> <td>0.0476</td> <td>0.1228</td>  <td>30.0994</td>  <td>True</td> \n",
              "</tr>\n",
              "<tr>\n",
              "   <td>0.21</td>   <td>0.24</td>     <td>7.0</td>    <td>0.591</td> <td>-7.9883</td> <td>21.9883</td>  <td>False</td>\n",
              "</tr>\n",
              "</table>"
            ]
          },
          "metadata": {},
          "execution_count": 17
        },
        {
          "output_type": "display_data",
          "data": {
            "text/plain": [
              "<Figure size 1000x600 with 1 Axes>"
            ],
            "image/png": "[encoded data removed]"
          },
          "metadata": {}
        }
      ]
    },
    {
      "cell_type": "markdown",
      "source": [
        "### **b. Comparaciones Múltiples: Acabado VS Velocidad**"
      ],
      "metadata": {
        "id": "denYt_OShUmj"
      }
    },
    {
      "cell_type": "code",
      "source": [
        "### **b. Comparaciones Múltiples: Acabado VS Velocidad**\n",
        "tukey = pairwise_tukeyhsd(endog=D2F[\"Acabado\"],     # Data\n",
        "                          groups=D2F[\"Velocidad\"],   # Groups\n",
        "                          alpha=0.05)          # Significance level\n",
        "\n",
        "tukey.plot_simultaneous()    # Plot group confidence intervals\n",
        "#plt.vlines(x=200,ymin=-0.5,ymax=14.5, color=\"red\")\n",
        "tukey.summary()"
      ],
      "metadata": {
        "colab": {
          "base_uri": "https://localhost:8080/",
          "height": 650
        },
        "id": "fwEWWPVdfWU3",
        "outputId": "9de8fb91-8a3e-44f5-d762-56ef67f322a2"
      },
      "execution_count": null,
      "outputs": [
        {
          "output_type": "execute_result",
          "data": {
            "text/plain": [
              "<class 'statsmodels.iolib.table.SimpleTable'>"
            ],
            "text/html": [
              "<table class=\"simpletable\">\n",
              "<caption>Multiple Comparison of Means - Tukey HSD, FWER=0.05</caption>\n",
              "<tr>\n",
              "  <th>group1</th> <th>group2</th> <th>meandiff</th>  <th>p-adj</th>  <th>lower</th>   <th>upper</th>  <th>reject</th>\n",
              "</tr>\n",
              "<tr>\n",
              "    <td>0.2</td>   <td>0.25</td>    <td>16.0</td>   <td>0.0013</td> <td>5.8745</td>  <td>26.1255</td>  <td>True</td> \n",
              "</tr>\n",
              "<tr>\n",
              "    <td>0.2</td>    <td>0.3</td>    <td>22.25</td>    <td>0.0</td>  <td>12.1245</td> <td>32.3755</td>  <td>True</td> \n",
              "</tr>\n",
              "<tr>\n",
              "   <td>0.25</td>    <td>0.3</td>    <td>6.25</td>   <td>0.2972</td> <td>-3.8755</td> <td>16.3755</td>  <td>False</td>\n",
              "</tr>\n",
              "</table>"
            ]
          },
          "metadata": {},
          "execution_count": 18
        },
        {
          "output_type": "display_data",
          "data": {
            "text/plain": [
              "<Figure size 1000x600 with 1 Axes>"
            ],
            "image/png": "[encoded data removed]"
          },
          "metadata": {}
        }
      ]
    },
    {
      "cell_type": "markdown",
      "source": [
        "# **6.9 Supuestos del Modelo**\n",
        "## **a. Normalidad con Shapiro Wilks**"
      ],
      "metadata": {
        "id": "DPG8G2Dwi1Ak"
      }
    },
    {
      "cell_type": "code",
      "source": [
        "# **a. Forma 1. Shapiro Wilks**\n",
        "w, pvalue =stats.shapiro(modeloD2F.resid)\n",
        "print('El estadístico de prueba es w = ',w,'y su valor p =', pvalue, 'mayor que 5%')"
      ],
      "metadata": {
        "colab": {
          "base_uri": "https://localhost:8080/"
        },
        "id": "Vn0BW0msfWbY",
        "outputId": "c15937e1-79a6-46fa-9366-e64b924352fa"
      },
      "execution_count": null,
      "outputs": [
        {
          "output_type": "stream",
          "name": "stdout",
          "text": [
            "El estadístico de prueba es w =  0.9705113768577576 y su valor p = 0.43967142701148987 mayor que 5%\n"
          ]
        }
      ]
    },
    {
      "cell_type": "markdown",
      "source": [
        "# **b. Prueba gráfica con el gráfico de probabilidad Normal y el Histograma**"
      ],
      "metadata": {
        "id": "hcLiA16IlwTN"
      }
    },
    {
      "cell_type": "code",
      "source": [
        "# **b. Prueba gráfica con el gráfico de probabilidad Normal y el Histograma**\n",
        "fig = plt.figure(figsize= (5, 5))\n",
        "ax = fig.add_subplot(111)\n",
        "normality_plot, stat = stats.probplot(modeloD2F.resid, plot= plt, rvalue= True)\n",
        "ax.set_title(\"Gráfico de Probabiliad para los residuos\", fontsize= 10)\n",
        "ax.set\n",
        "\n",
        "plt.show()"
      ],
      "metadata": {
        "colab": {
          "base_uri": "https://localhost:8080/",
          "height": 485
        },
        "id": "ITNOXra7jN7F",
        "outputId": "f0361155-99bf-4ee9-f311-fd95ba4050b5"
      },
      "execution_count": null,
      "outputs": [
        {
          "output_type": "display_data",
          "data": {
            "text/plain": [
              "<Figure size 500x500 with 1 Axes>"
            ],
            "image/png": "[encoded data removed]"
          },
          "metadata": {}
        }
      ]
    },
    {
      "cell_type": "markdown",
      "source": [
        "## **C. Histograma + curva normal teórica**"
      ],
      "metadata": {
        "id": "1z9FbVael4P7"
      }
    },
    {
      "cell_type": "code",
      "source": [
        "## **c. Histograma + curva normal teórica**\n",
        "# ==============================================================================\n",
        "\n",
        "# Valores de la media (mu) y desviación típica (sigma) de los datos\n",
        "tgp2 = modeloD2F.resid\n",
        "mu, sigma = stats.norm.fit(tgp2)\n",
        "\n",
        "# Valores teóricos de la normal en el rango observado\n",
        "x_hat = np.linspace(min(tgp2), max(tgp2), num=10)\n",
        "y_hat = stats.norm.pdf(x_hat, mu, sigma)\n",
        "\n",
        "# Gráfico\n",
        "fig, ax = plt.subplots(figsize=(7,4))\n",
        "ax.plot(x_hat, y_hat, linewidth=2, label='normal')\n",
        "ax.hist(x=tgp2, density=True, bins=30,  alpha=0.5)\n",
        "ax.plot(tgp2, np.full_like(tgp2, -0.01), '|k', markeredgewidth=1)\n",
        "ax.set_title('Distribución del Acabado')\n",
        "ax.set_xlabel('Acabado')\n",
        "ax.set_ylabel('Densidad de probabilidad')\n",
        "ax.legend();"
      ],
      "metadata": {
        "colab": {
          "base_uri": "https://localhost:8080/",
          "height": 410
        },
        "id": "UJzySISEjOGq",
        "outputId": "c00e17e4-b496-4440-dbc9-33a20a97d395"
      },
      "execution_count": null,
      "outputs": [
        {
          "output_type": "display_data",
          "data": {
            "text/plain": [
              "<Figure size 700x400 with 1 Axes>"
            ],
            "image/png": "[encoded data removed]"
          },
          "metadata": {}
        }
      ]
    },
    {
      "cell_type": "markdown",
      "source": [
        "## **d. Homocedasticidad de los residuos: Usando la prueba de Levene**"
      ],
      "metadata": {
        "id": "iR8hfmevl81c"
      }
    },
    {
      "cell_type": "code",
      "source": [
        "# d. Homocedasticidad de los residuos: Usando la prueba de Levene\n",
        "stats.levene(D2F['Acabado'][D2F['Profundidad'] == 0.15],\n",
        "             D2F['Acabado'][D2F['Profundidad'] == 0.18],\n",
        "             D2F['Acabado'][D2F['Profundidad'] == 0.21],\n",
        "            D2F['Acabado'][D2F['Profundidad'] == 0.24])"
      ],
      "metadata": {
        "colab": {
          "base_uri": "https://localhost:8080/"
        },
        "id": "Vv0rPw_bjOMQ",
        "outputId": "5daaebaa-0f0a-4aca-f200-1dc5776e0799"
      },
      "execution_count": null,
      "outputs": [
        {
          "output_type": "execute_result",
          "data": {
            "text/plain": [
              "LeveneResult(statistic=1.6933626601112695, pvalue=0.18808805130523845)"
            ]
          },
          "metadata": {},
          "execution_count": 22
        }
      ]
    },
    {
      "cell_type": "code",
      "source": [
        "# d. Homocedasticidad de los residuos: Usando la prueba de Levene\n",
        "stats.levene(D2F['Acabado'][D2F['Velocidad'] == 0.20],\n",
        "             D2F['Acabado'][D2F['Velocidad'] == 0.25],\n",
        "             D2F['Acabado'][D2F['Velocidad'] == 0.30])"
      ],
      "metadata": {
        "id": "YcGDBNJVjOR7",
        "colab": {
          "base_uri": "https://localhost:8080/"
        },
        "outputId": "d21e10c4-fa0a-44d3-f1de-fa90534cfdfb"
      },
      "execution_count": null,
      "outputs": [
        {
          "output_type": "execute_result",
          "data": {
            "text/plain": [
              "LeveneResult(statistic=5.767080745341613, pvalue=0.007112804860195111)"
            ]
          },
          "metadata": {},
          "execution_count": 23
        }
      ]
    }
  ]
}