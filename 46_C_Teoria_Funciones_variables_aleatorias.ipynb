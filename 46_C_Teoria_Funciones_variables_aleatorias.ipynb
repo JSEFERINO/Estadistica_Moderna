{
  "cells": [
    {
      "cell_type": "markdown",
      "metadata": {
        "id": "view-in-github",
        "colab_type": "text"
      },
      "source": [
        "<a href=\"https://colab.research.google.com/github/JSEFERINO/Estadistica_Moderna/blob/main/46_C_Teoria_Funciones_variables_aleatorias.ipynb\" target=\"_parent\"><img src=\"https://colab.research.google.com/assets/colab-badge.svg\" alt=\"Open In Colab\"/></a>"
      ]
    },
    {
      "cell_type": "markdown",
      "metadata": {
        "id": "tvWruVdAfPkW"
      },
      "source": [
        "# **Curso Teoría de Probabilidad por Julio Hurtado Márquez**\n",
        "## **Parte XII- Modelos Probabilísticos Continuos**\n",
        "# **Librerias para usar en esta parte del curso**"
      ]
    },
    {
      "cell_type": "code",
      "execution_count": 5,
      "metadata": {
        "colab": {
          "base_uri": "https://localhost:8080/"
        },
        "id": "oMTb2sIusSdw",
        "outputId": "0a711383-0622-435d-e993-c77524213818"
      },
      "outputs": [
        {
          "output_type": "stream",
          "name": "stdout",
          "text": [
            "Setup Complete\n"
          ]
        }
      ],
      "source": [
        "# **Librerias para usar en esta parte del cursor**\n",
        "import pandas as pd\n",
        "import numpy as np\n",
        "import matplotlib.pyplot as plt\n",
        "%matplotlib inline\n",
        "import seaborn as sns\n",
        "from scipy import stats\n",
        "import warnings\n",
        "warnings.filterwarnings(\"ignore\", category=FutureWarning)\n",
        "from sympy.functions.combinatorial.factorials import factorial\n",
        "import math\n",
        "from math import sqrt\n",
        "from numpy.ma.core import log\n",
        "from sympy import integrate, init_printing\n",
        "from sympy.abc import x\n",
        "print(\"Setup Complete\")"
      ]
    },
    {
      "cell_type": "markdown",
      "metadata": {
        "id": "ME3A1G-8qEaL"
      },
      "source": [
        "#  **206. Funciones de variables aleatorias**\n",
        "\n",
        "# **a. Definición de una función de Variable Aleatoria**\n",
        "- Sean una variable aleatoria $X$ definida sobre ${\\displaystyle (\\Omega ,{\\mathcal {A}},P)}$  y ${\\displaystyle g:\\mathbb {R} \\rightarrow \\mathbb {R} }$ una función medible de Borel, entonces ${\\displaystyle Y=g(X)}$ será también una variable aleatoria sobre ${\\displaystyle (\\Omega ,{\\mathcal {A}},P)}$ dado que la composición de funciones medibles también es medible\n",
        "- El mismo procedimiento que permite ir de un espacio de probabilidad ${\\displaystyle (\\Omega ,P)}$ a ${\\displaystyle (\\mathbb {R} ,dF_{X})}$ puede ser utilizado para obtener la distribución de $Y$.\n",
        "- La función de distribución acumulada de ${\\displaystyle Y}$ es\n",
        "\n",
        "$${\\displaystyle F_{Y}(y)=\\operatorname {P} [g(X)\\leq y].}$$\n",
        "- Si la función $g$ es invertible, es decir $g^{-1}$ existe, y es monótona creciente entonces la anterior relación puede ser extendida para obtener\n",
        "\n",
        "$${\\displaystyle F_{Y}(y)=\\operatorname {P} [g(X)\\leq y]=\\operatorname {P} [X\\leq g^{-1}(y)]=F_{X}(g^{-1}(y))}$$\n",
        "- y, trabajando de nuevo bajo las mismas hipótesis de invertibilidad de $g$ y asumiendo además diferenciabilidad, podemos hallar la relación entre las funciones de densidad de probabilidad al diferenciar ambos términos respecto de y, obteniendo\n",
        "\n",
        "$${\\displaystyle f_{Y}(y)=f_{X}(g^{-1}(y))\\left|{\\frac {dg^{-1}(y)}{dy}}\\right|}$$\n",
        "- Si $g$ es no invertible pero cada $y$ tiene un número finito de raíces, entonces la relación previa con la función de densidad de probabilidad puede generalizarse como\n",
        "\n",
        "$${\\displaystyle f_{Y}(y)=\\sum _{i}f_{X}(g_{i}^{-1}(y))\\left|{\\frac {dg_{i}^{-1}(y)}{dy}}\\right|}$$\n",
        "  - donde ${\\displaystyle x_{i}=g_{i}^{-1}(y)}$. Las fórmulas de densidad no requieren que $g$ sea\n",
        "  \n",
        "  "
      ]
    },
    {
      "cell_type": "markdown",
      "source": [
        "\n",
        "# **b. Ejemplo 1. La distribución de probabilidad de $X^2$**\n",
        "- Sean $X$ una variable aleatoria continua y $Y=X^{2}$ entonces\n",
        "\n",
        " - ${\\displaystyle F_{Y}(y)=\\operatorname {P} [Y\\leq y]=\\operatorname {P} [X^{2}\\leq y]}$\n",
        "\n",
        " - Si $y<0$ entonces $\\operatorname {P} [X^{2}=y]=0$ por lo que ${\\displaystyle F_{Y}(y)=0\\quad {\\hbox{si}}\\quad y<0}$\n",
        " - Si ${\\displaystyle y\\geq 0}$ entonces ${\\displaystyle \\operatorname {P} [X^{2}\\leq y]=\\operatorname {P} [|X|\\leq {\\sqrt {y}}]=\\operatorname {P} [-{\\sqrt {y}}\\leq X\\leq {\\sqrt {y}}]}$. por lo tanto\n",
        "\n",
        " - ${\\displaystyle F_{Y}(y)=F_{X}({\\sqrt {y}})-F_{X}(-{\\sqrt {y}})\\quad {\\hbox{si}}\\quad y\\geq 0}$\n",
        "  \n",
        "  \n",
        "  \n"
      ],
      "metadata": {
        "id": "ymW16QelcFgo"
      }
    },
    {
      "cell_type": "markdown",
      "source": [
        "# **c. Ejemplo 2**\n",
        "\n",
        "- Sea $X$ una variable aleatoria con función de distribución acumulada\n",
        "\n",
        "$${\\displaystyle F_{X}(x)=\\operatorname {P} [X\\leq x]={\\frac {1}{(1+e^{-x})^{\\theta }}}}$$\n",
        "- donde ${\\displaystyle \\theta >0}$ es un parámetro. Considere la variable aleatoria $${\\displaystyle Y=\\ln(1+e^{-X})}$$ entonces\n",
        "\n",
        "$${\\displaystyle F_{Y}(y)=\\operatorname {P} [Y\\leq y]=\\operatorname {P} [\\ln(1+e^{-X})\\leq y]=\\operatorname {P} [X\\geq -\\ln(e^{y}-1)]}$$\n",
        "\n",
        "- La expresión anterior puede ser calculada en términos de la función de distribución acumulada de $X$ como\n",
        "\n",
        "$${\\displaystyle {\\begin{aligned}F_{Y}(y)&=\\operatorname {P} [X\\geq -\\ln(e^{y}-1)]\\\\&=1-\\operatorname {P} [X<-\\ln(e^{y}-1)]\\\\&=1-F_{X}(-\\ln(e^{y}-1))\\\\&=1-{\\frac {1}{(1+e^{\\ln(e^{y}-1)})^{\\theta }}}\\\\&=1-e^{-\\theta y}\\end{aligned}}}$$\n",
        "- que corresponde a la función de distribución acumulada de la distribución exponencial.\n",
        "  \n",
        "  \n",
        "  "
      ],
      "metadata": {
        "id": "U4Z3t24Dczo9"
      }
    },
    {
      "cell_type": "markdown",
      "source": [
        "  \n",
        "# **d. Ejemplo 3**\n",
        "\n",
        "- Supóngase que $X$ es una variable aleatoria con ${\\displaystyle X\\sim N(0,1)}$ por lo que su función de densidad está dada por\n",
        "\n",
        "$${\\displaystyle f_{X}(x)={\\frac {1}{\\sqrt {2\\pi }}}e^{-x^{2}/2}}$$\n",
        "- Considere la variable aleatoria ${\\displaystyle Y=X^{2}}$, podemos la función de densidad de ${\\displaystyle Y}$ utilizando la fórmula para el cambio de variable:\n",
        "\n",
        "- ${\\displaystyle f_{Y}(y)=\\sum _{i}f_{X}(g_{i}^{-1}(y))\\left|{\\frac {dg_{i}^{-1}(y)}{dy}}\\right|}$\n",
        "- En este caso el cambio no es monótico pues cada valor de ${\\displaystyle Y}$ tiene asociado dos posibles valores de $X$ (uno positivo y otro negativo), sin embargo, por simetría, ambos valores se transformarán de forma idéntica, esto es\n",
        "\n",
        "- ${\\displaystyle f_{Y}(y)=2f_{X}(g^{-1}(y))\\left|{\\frac {dg^{-1}(y)}{dy}}\\right|}$\n",
        "- La transformación inversa es\n",
        " + ${\\displaystyle x=g^{-1}(y)={\\sqrt {y}}}$ su derivada es\n",
        "\n",
        " - ${\\displaystyle {\\frac {dg^{-1}(y)}{dy}}={\\frac {1}{2{\\sqrt {y}}}}}$ entonces\n",
        "\n",
        "$${\\displaystyle {\\begin{aligned}f_{Y}(y)&=2{\\frac {1}{\\sqrt {2\\pi }}}\\;e^{y/2}\\;{\\frac {1}{2{\\sqrt {y}}}}\\\\&={\\frac {1}{\\sqrt {2\\pi y}}}e^{-y/2}\\end{aligned}}}$$\n",
        "- que corresponde a la función de densidad de la distribución distribución $\\chi ^2$ con un grado de libertad.\n",
        "\n"
      ],
      "metadata": {
        "id": "yt7gmAdZdWKD"
      }
    },
    {
      "cell_type": "markdown",
      "source": [
        "\n",
        "+ Una variable aleatoria discreta $X$ sigue una distribución de Poisson si tiene funcion FMP dada por la formula:\n",
        "$$ P(X=x)= f(x,λ) = e^{-λ}\\frac{λ^x}{x!},  x≥0$$\n"
      ],
      "metadata": {
        "id": "GnhbG0xSZ1vr"
      }
    },
    {
      "cell_type": "markdown",
      "source": [],
      "metadata": {
        "id": "aehOhHGudMqp"
      }
    }
  ],
  "metadata": {
    "colab": {
      "provenance": [],
      "mount_file_id": "13X7nPE01ohpMi0ISyxuJIiqLTpL66n3c",
      "authorship_tag": "ABX9TyOaSCbBNqKlYdE9Fm0Ln9nH",
      "include_colab_link": true
    },
    "kernelspec": {
      "display_name": "Python 3",
      "name": "python3"
    },
    "language_info": {
      "name": "python"
    }
  },
  "nbformat": 4,
  "nbformat_minor": 0
}