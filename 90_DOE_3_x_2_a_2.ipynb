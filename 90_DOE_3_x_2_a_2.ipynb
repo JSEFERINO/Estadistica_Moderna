{
  "nbformat": 4,
  "nbformat_minor": 0,
  "metadata": {
    "colab": {
      "provenance": [],
      "authorship_tag": "ABX9TyMJ5C0mgI8W/AIz8zKrs+Xd",
      "include_colab_link": true
    },
    "kernelspec": {
      "name": "python3",
      "display_name": "Python 3"
    },
    "language_info": {
      "name": "python"
    }
  },
  "cells": [
    {
      "cell_type": "markdown",
      "metadata": {
        "id": "view-in-github",
        "colab_type": "text"
      },
      "source": [
        "<a href=\"https://colab.research.google.com/github/JSEFERINO/Estadistica_Moderna/blob/main/90_DOE_3_x_2_a_2.ipynb\" target=\"_parent\"><img src=\"https://colab.research.google.com/assets/colab-badge.svg\" alt=\"Open In Colab\"/></a>"
      ]
    },
    {
      "cell_type": "markdown",
      "source": [
        "# ***Diseños factoriales con tres factores***\n",
        "\n",
        "## ***1. El Problema: Ejemplo 5.3, página 144***\n",
        "###**Problema de aplicación.** *Se desea investigar el efecto del tipo de suspensión (A), abertura de malla (B) y temperatura de ciclaje (C) en el volumen de sedimentación Y(%) de una suspensión. Para ello se decide correr un experimento factorial _3 × 2 × 2_ con seis réplicas, y las observaciones obtenidas en las 72 corridas experimentales se muestran en la siguiente tabla:"
      ],
      "metadata": {
        "id": "7SVW56A12swd"
      }
    },
    {
      "cell_type": "markdown",
      "source": [
        "# **2. Librerias a usar**"
      ],
      "metadata": {
        "id": "xy7xKpbtYwR4"
      }
    },
    {
      "cell_type": "code",
      "source": [
        "import pandas as pd\n",
        "import numpy as np\n",
        "import matplotlib.pyplot as plt\n",
        "import seaborn as sns"
      ],
      "metadata": {
        "id": "2zy3VAb9Ocg0"
      },
      "execution_count": null,
      "outputs": []
    },
    {
      "cell_type": "markdown",
      "source": [
        "# **3. Ingresando los datos del problema a Python**"
      ],
      "metadata": {
        "id": "z6LoInMzY2jc"
      }
    },
    {
      "cell_type": "code",
      "source": [
        "tipo_suspensión_A  =  [ \"A1\",  \"A2\",  \"A3\" ]\n",
        "abertura_malla_B  =  [ \"B1\" ,  \"B2\" ]\n",
        "temperatura_ciclaje_C  =  [ \"C1\" ,  \"C2\" ]\n",
        "volumen_Y = [60, 75, 75, 86, 70, 70, 55, 53, 53, 55, 55, 55, 67, 73, 73, 67, 68, 68, 52, 52, 57, 52, 54, 54, 62, 68, 65, 76, 65, 65, 44, 44, 45, 48, 48, 45, 71, 80, 80, 80, 80, 72, 60, 60, 60, 67, 67, 65, 76, 71, 75, 70, 68, 73, 52, 51, 50, 52, 48, 54, 75, 75, 75, 75, 75, 77, 56, 55, 57, 59, 50, 55]"
      ],
      "metadata": {
        "id": "XdtHVqls3zj-"
      },
      "execution_count": null,
      "outputs": []
    },
    {
      "cell_type": "code",
      "source": [
        "tipo_suspensión_A = [\"A1\"] * 24 + [\"A2\"] * 24 + [\"A3\"] * 24\n",
        "\n",
        "abertura_malla_B = ([\"B1\"] * 12 + [\"B2\"] * 12 ) * 3\n",
        "temperatura_ciclaje_C = ([\"C1\"] * 6 + [\"C2\"] * 6) * 6"
      ],
      "metadata": {
        "id": "eVTyDQpO6vL7"
      },
      "execution_count": null,
      "outputs": []
    },
    {
      "cell_type": "code",
      "source": [
        "datos  = pd.DataFrame({    'tipo_suspensión_A': tipo_suspensión_A,    'abertura_malla_B': abertura_malla_B,   'temperatura_ciclaje_C': temperatura_ciclaje_C, 'volumen_Y': volumen_Y})"
      ],
      "metadata": {
        "id": "yDKjvWtD7vTQ"
      },
      "execution_count": null,
      "outputs": []
    },
    {
      "cell_type": "code",
      "source": [
        "datos.head(72)"
      ],
      "metadata": {
        "colab": {
          "base_uri": "https://localhost:8080/"
        },
        "id": "mBcOOAPO7_Th",
        "outputId": "35e6fab1-d253-45fe-a781-78451f0873a5"
      },
      "execution_count": null,
      "outputs": [
        {
          "output_type": "execute_result",
          "data": {
            "text/plain": [
              "   tipo_suspensión_A abertura_malla_B temperatura_ciclaje_C  volumen_Y\n",
              "0                 A1               B1                    C1         60\n",
              "1                 A1               B1                    C1         75\n",
              "2                 A1               B1                    C1         75\n",
              "3                 A1               B1                    C1         86\n",
              "4                 A1               B1                    C1         70\n",
              "..               ...              ...                   ...        ...\n",
              "67                A3               B2                    C2         55\n",
              "68                A3               B2                    C2         57\n",
              "69                A3               B2                    C2         59\n",
              "70                A3               B2                    C2         50\n",
              "71                A3               B2                    C2         55\n",
              "\n",
              "[72 rows x 4 columns]"
            ],
            "text/html": [
              "\n",
              "  <div id=\"df-11fe1414-c6b2-4d2a-b151-2622a5300782\">\n",
              "    <div class=\"colab-df-container\">\n",
              "      <div>\n",
              "<style scoped>\n",
              "    .dataframe tbody tr th:only-of-type {\n",
              "        vertical-align: middle;\n",
              "    }\n",
              "\n",
              "    .dataframe tbody tr th {\n",
              "        vertical-align: top;\n",
              "    }\n",
              "\n",
              "    .dataframe thead th {\n",
              "        text-align: right;\n",
              "    }\n",
              "</style>\n",
              "<table border=\"1\" class=\"dataframe\">\n",
              "  <thead>\n",
              "    <tr style=\"text-align: right;\">\n",
              "      <th></th>\n",
              "      <th>tipo_suspensión_A</th>\n",
              "      <th>abertura_malla_B</th>\n",
              "      <th>temperatura_ciclaje_C</th>\n",
              "      <th>volumen_Y</th>\n",
              "    </tr>\n",
              "  </thead>\n",
              "  <tbody>\n",
              "    <tr>\n",
              "      <th>0</th>\n",
              "      <td>A1</td>\n",
              "      <td>B1</td>\n",
              "      <td>C1</td>\n",
              "      <td>60</td>\n",
              "    </tr>\n",
              "    <tr>\n",
              "      <th>1</th>\n",
              "      <td>A1</td>\n",
              "      <td>B1</td>\n",
              "      <td>C1</td>\n",
              "      <td>75</td>\n",
              "    </tr>\n",
              "    <tr>\n",
              "      <th>2</th>\n",
              "      <td>A1</td>\n",
              "      <td>B1</td>\n",
              "      <td>C1</td>\n",
              "      <td>75</td>\n",
              "    </tr>\n",
              "    <tr>\n",
              "      <th>3</th>\n",
              "      <td>A1</td>\n",
              "      <td>B1</td>\n",
              "      <td>C1</td>\n",
              "      <td>86</td>\n",
              "    </tr>\n",
              "    <tr>\n",
              "      <th>4</th>\n",
              "      <td>A1</td>\n",
              "      <td>B1</td>\n",
              "      <td>C1</td>\n",
              "      <td>70</td>\n",
              "    </tr>\n",
              "    <tr>\n",
              "      <th>...</th>\n",
              "      <td>...</td>\n",
              "      <td>...</td>\n",
              "      <td>...</td>\n",
              "      <td>...</td>\n",
              "    </tr>\n",
              "    <tr>\n",
              "      <th>67</th>\n",
              "      <td>A3</td>\n",
              "      <td>B2</td>\n",
              "      <td>C2</td>\n",
              "      <td>55</td>\n",
              "    </tr>\n",
              "    <tr>\n",
              "      <th>68</th>\n",
              "      <td>A3</td>\n",
              "      <td>B2</td>\n",
              "      <td>C2</td>\n",
              "      <td>57</td>\n",
              "    </tr>\n",
              "    <tr>\n",
              "      <th>69</th>\n",
              "      <td>A3</td>\n",
              "      <td>B2</td>\n",
              "      <td>C2</td>\n",
              "      <td>59</td>\n",
              "    </tr>\n",
              "    <tr>\n",
              "      <th>70</th>\n",
              "      <td>A3</td>\n",
              "      <td>B2</td>\n",
              "      <td>C2</td>\n",
              "      <td>50</td>\n",
              "    </tr>\n",
              "    <tr>\n",
              "      <th>71</th>\n",
              "      <td>A3</td>\n",
              "      <td>B2</td>\n",
              "      <td>C2</td>\n",
              "      <td>55</td>\n",
              "    </tr>\n",
              "  </tbody>\n",
              "</table>\n",
              "<p>72 rows × 4 columns</p>\n",
              "</div>\n",
              "      <button class=\"colab-df-convert\" onclick=\"convertToInteractive('df-11fe1414-c6b2-4d2a-b151-2622a5300782')\"\n",
              "              title=\"Convert this dataframe to an interactive table.\"\n",
              "              style=\"display:none;\">\n",
              "        \n",
              "  <svg xmlns=\"http://www.w3.org/2000/svg\" height=\"24px\"viewBox=\"0 0 24 24\"\n",
              "       width=\"24px\">\n",
              "    <path d=\"M0 0h24v24H0V0z\" fill=\"none\"/>\n",
              "    <path d=\"M18.56 5.44l.94 2.06.94-2.06 2.06-.94-2.06-.94-.94-2.06-.94 2.06-2.06.94zm-11 1L8.5 8.5l.94-2.06 2.06-.94-2.06-.94L8.5 2.5l-.94 2.06-2.06.94zm10 10l.94 2.06.94-2.06 2.06-.94-2.06-.94-.94-2.06-.94 2.06-2.06.94z\"/><path d=\"M17.41 7.96l-1.37-1.37c-.4-.4-.92-.59-1.43-.59-.52 0-1.04.2-1.43.59L10.3 9.45l-7.72 7.72c-.78.78-.78 2.05 0 2.83L4 21.41c.39.39.9.59 1.41.59.51 0 1.02-.2 1.41-.59l7.78-7.78 2.81-2.81c.8-.78.8-2.07 0-2.86zM5.41 20L4 18.59l7.72-7.72 1.47 1.35L5.41 20z\"/>\n",
              "  </svg>\n",
              "      </button>\n",
              "      \n",
              "  <style>\n",
              "    .colab-df-container {\n",
              "      display:flex;\n",
              "      flex-wrap:wrap;\n",
              "      gap: 12px;\n",
              "    }\n",
              "\n",
              "    .colab-df-convert {\n",
              "      background-color: #E8F0FE;\n",
              "      border: none;\n",
              "      border-radius: 50%;\n",
              "      cursor: pointer;\n",
              "      display: none;\n",
              "      fill: #1967D2;\n",
              "      height: 32px;\n",
              "      padding: 0 0 0 0;\n",
              "      width: 32px;\n",
              "    }\n",
              "\n",
              "    .colab-df-convert:hover {\n",
              "      background-color: #E2EBFA;\n",
              "      box-shadow: 0px 1px 2px rgba(60, 64, 67, 0.3), 0px 1px 3px 1px rgba(60, 64, 67, 0.15);\n",
              "      fill: #174EA6;\n",
              "    }\n",
              "\n",
              "    [theme=dark] .colab-df-convert {\n",
              "      background-color: #3B4455;\n",
              "      fill: #D2E3FC;\n",
              "    }\n",
              "\n",
              "    [theme=dark] .colab-df-convert:hover {\n",
              "      background-color: #434B5C;\n",
              "      box-shadow: 0px 1px 3px 1px rgba(0, 0, 0, 0.15);\n",
              "      filter: drop-shadow(0px 1px 2px rgba(0, 0, 0, 0.3));\n",
              "      fill: #FFFFFF;\n",
              "    }\n",
              "  </style>\n",
              "\n",
              "      <script>\n",
              "        const buttonEl =\n",
              "          document.querySelector('#df-11fe1414-c6b2-4d2a-b151-2622a5300782 button.colab-df-convert');\n",
              "        buttonEl.style.display =\n",
              "          google.colab.kernel.accessAllowed ? 'block' : 'none';\n",
              "\n",
              "        async function convertToInteractive(key) {\n",
              "          const element = document.querySelector('#df-11fe1414-c6b2-4d2a-b151-2622a5300782');\n",
              "          const dataTable =\n",
              "            await google.colab.kernel.invokeFunction('convertToInteractive',\n",
              "                                                     [key], {});\n",
              "          if (!dataTable) return;\n",
              "\n",
              "          const docLinkHtml = 'Like what you see? Visit the ' +\n",
              "            '<a target=\"_blank\" href=https://colab.research.google.com/notebooks/data_table.ipynb>data table notebook</a>'\n",
              "            + ' to learn more about interactive tables.';\n",
              "          element.innerHTML = '';\n",
              "          dataTable['output_type'] = 'display_data';\n",
              "          await google.colab.output.renderOutput(dataTable, element);\n",
              "          const docLink = document.createElement('div');\n",
              "          docLink.innerHTML = docLinkHtml;\n",
              "          element.appendChild(docLink);\n",
              "        }\n",
              "      </script>\n",
              "    </div>\n",
              "  </div>\n",
              "  "
            ]
          },
          "metadata": {},
          "execution_count": 26
        }
      ]
    },
    {
      "cell_type": "markdown",
      "source": [
        "# **4. Análisis descriptivos - Box_Plots**"
      ],
      "metadata": {
        "id": "brCpn5uKbTG2"
      }
    },
    {
      "cell_type": "code",
      "source": [
        "fig, ax = plt.subplots(1, 1, figsize=(8, 5))\n",
        "ax.set_title('Volumen Y(%) vs tipo de suspensión (A)')\n",
        "sns.boxplot(x=\"tipo_suspensión_A\", y=\"volumen_Y\", data=datos, ax=ax)\n",
        "sns.swarmplot(x=\"tipo_suspensión_A\", y=\"volumen_Y\", data=datos, color='black', alpha=0.5, ax=ax);\n"
      ],
      "metadata": {
        "colab": {
          "base_uri": "https://localhost:8080/"
        },
        "id": "ipikb6HK9hpX",
        "outputId": "e68c93e9-423f-4685-b121-76443ab5076f"
      },
      "execution_count": null,
      "outputs": [
        {
          "output_type": "display_data",
          "data": {
            "text/plain": [
              "<Figure size 576x360 with 1 Axes>"
            ],
            "image/png": "[encoded data removed]"
          },
          "metadata": {
            "needs_background": "light"
          }
        }
      ]
    },
    {
      "cell_type": "code",
      "source": [
        "fig, ax = plt.subplots(1, 1, figsize=(8, 5))\n",
        "ax.set_title('Volumen Y(%) vs abertura_malla_B')\n",
        "sns.boxplot(x=\"abertura_malla_B\", y=\"volumen_Y\", data=datos, ax=ax)\n",
        "sns.swarmplot(x=\"abertura_malla_B\", y=\"volumen_Y\", data=datos, color='black', alpha=0.5, ax=ax);"
      ],
      "metadata": {
        "colab": {
          "base_uri": "https://localhost:8080/"
        },
        "id": "z1jWj5fy-nsl",
        "outputId": "d811412a-6528-4cb9-efc5-f62614dbb4eb"
      },
      "execution_count": null,
      "outputs": [
        {
          "output_type": "display_data",
          "data": {
            "text/plain": [
              "<Figure size 576x360 with 1 Axes>"
            ],
            "image/png": "[encoded data removed]"
          },
          "metadata": {
            "needs_background": "light"
          }
        }
      ]
    },
    {
      "cell_type": "code",
      "source": [
        "fig, ax = plt.subplots(1, 1, figsize=(8, 5))\n",
        "ax.set_title('Volumen Y(%) vs abertura_malla_B')\n",
        "sns.boxplot(x=\"temperatura_ciclaje_C\", y=\"volumen_Y\", data=datos, ax=ax)\n",
        "sns.swarmplot(x=\"temperatura_ciclaje_C\", y=\"volumen_Y\", data=datos, color='black', alpha=0.5, ax=ax);"
      ],
      "metadata": {
        "colab": {
          "base_uri": "https://localhost:8080/"
        },
        "id": "e4KT6bYV9hzq",
        "outputId": "2fe38fa6-5240-4178-a960-09247a83dff0"
      },
      "execution_count": null,
      "outputs": [
        {
          "output_type": "display_data",
          "data": {
            "text/plain": [
              "<Figure size 576x360 with 1 Axes>"
            ],
            "image/png": "[encoded data removed]"
          },
          "metadata": {
            "needs_background": "light"
          }
        }
      ]
    },
    {
      "cell_type": "code",
      "source": [
        "fig, ax = plt.subplots(1, 1, figsize=(8, 4))\n",
        "ax.set_title('volumen_Y vs tipo_suspensión_A y abertura_malla_B')\n",
        "sns.boxplot(x=\"tipo_suspensión_A\", y=\"volumen_Y\", hue='abertura_malla_B', data=datos, ax=ax);"
      ],
      "metadata": {
        "colab": {
          "base_uri": "https://localhost:8080/"
        },
        "id": "isLFgVx19h8t",
        "outputId": "9a3145fe-2cfe-409f-aaf1-e01d16d0e440"
      },
      "execution_count": null,
      "outputs": [
        {
          "output_type": "display_data",
          "data": {
            "text/plain": [
              "<Figure size 576x288 with 1 Axes>"
            ],
            "image/png": "[encoded data removed]"
          },
          "metadata": {
            "needs_background": "light"
          }
        }
      ]
    },
    {
      "cell_type": "code",
      "source": [
        "fig, ax = plt.subplots(1, 1, figsize=(8, 4))\n",
        "ax.set_title('volumen_Y vs tipo_suspensión_A y temperatura_ciclaje_C')\n",
        "sns.boxplot(x=\"tipo_suspensión_A\", y=\"volumen_Y\", hue='temperatura_ciclaje_C', data=datos, ax=ax);"
      ],
      "metadata": {
        "colab": {
          "base_uri": "https://localhost:8080/"
        },
        "id": "1ax5AIkp9iCt",
        "outputId": "dadb5449-9f23-4362-8f58-65beb665f864"
      },
      "execution_count": null,
      "outputs": [
        {
          "output_type": "display_data",
          "data": {
            "text/plain": [
              "<Figure size 576x288 with 1 Axes>"
            ],
            "image/png": "[encoded data removed]"
          },
          "metadata": {
            "needs_background": "light"
          }
        }
      ]
    },
    {
      "cell_type": "code",
      "source": [
        "fig, ax = plt.subplots(1, 1, figsize=(8, 4))\n",
        "ax.set_title('volumen_Y vs temperatura_ciclaje_C y abertura_malla_B')\n",
        "sns.boxplot(x=\"abertura_malla_B\", y=\"volumen_Y\", hue='temperatura_ciclaje_C', data=datos, ax=ax);"
      ],
      "metadata": {
        "colab": {
          "base_uri": "https://localhost:8080/"
        },
        "id": "oVq8gnN7BBb3",
        "outputId": "3c701133-b5ac-457a-960b-57c5e2ab0cec"
      },
      "execution_count": null,
      "outputs": [
        {
          "output_type": "display_data",
          "data": {
            "text/plain": [
              "<Figure size 576x288 with 1 Axes>"
            ],
            "image/png": "[encoded data removed]"
          },
          "metadata": {
            "needs_background": "light"
          }
        }
      ]
    },
    {
      "cell_type": "markdown",
      "source": [
        "# **5. Análisis descriptivos - Medidas descriptivas**"
      ],
      "metadata": {
        "id": "S6LdoP0bRUiJ"
      }
    },
    {
      "cell_type": "code",
      "source": [
        "print('volumen_Y media y desviación típica para tipo_suspensión_A, abertura_malla_B, temperatura_ciclaje_C ')\n",
        "datos.groupby(['tipo_suspensión_A', 'abertura_malla_B', 'temperatura_ciclaje_C'])['volumen_Y'].agg(['mean', 'std'])"
      ],
      "metadata": {
        "colab": {
          "base_uri": "https://localhost:8080/"
        },
        "id": "3Ci0iVt7BBli",
        "outputId": "d3e27fa2-ff1f-4297-abbd-4a4e90e526bc"
      },
      "execution_count": null,
      "outputs": [
        {
          "output_type": "stream",
          "name": "stdout",
          "text": [
            "volumen_Y media y desviación típica para tipo_suspensión_A, abertura_malla_B, temperatura_ciclaje_C \n"
          ]
        },
        {
          "output_type": "execute_result",
          "data": {
            "text/plain": [
              "                                                               mean       std\n",
              "tipo_suspensión_A abertura_malla_B temperatura_ciclaje_C                     \n",
              "A1                B1               C1                     72.666667  8.524475\n",
              "                                   C2                     54.333333  1.032796\n",
              "                  B2               C1                     69.333333  2.875181\n",
              "                                   C2                     53.500000  1.974842\n",
              "A2                B1               C1                     66.833333  4.875107\n",
              "                                   C2                     45.666667  1.861899\n",
              "                  B2               C1                     77.166667  4.400758\n",
              "                                   C2                     63.166667  3.544949\n",
              "A3                B1               C1                     72.166667  3.060501\n",
              "                                   C2                     51.166667  2.041241\n",
              "                  B2               C1                     75.333333  0.816497\n",
              "                                   C2                     55.333333  3.011091"
            ],
            "text/html": [
              "\n",
              "  <div id=\"df-fb34f427-b7b3-48f1-841f-8003f7672100\">\n",
              "    <div class=\"colab-df-container\">\n",
              "      <div>\n",
              "<style scoped>\n",
              "    .dataframe tbody tr th:only-of-type {\n",
              "        vertical-align: middle;\n",
              "    }\n",
              "\n",
              "    .dataframe tbody tr th {\n",
              "        vertical-align: top;\n",
              "    }\n",
              "\n",
              "    .dataframe thead th {\n",
              "        text-align: right;\n",
              "    }\n",
              "</style>\n",
              "<table border=\"1\" class=\"dataframe\">\n",
              "  <thead>\n",
              "    <tr style=\"text-align: right;\">\n",
              "      <th></th>\n",
              "      <th></th>\n",
              "      <th></th>\n",
              "      <th>mean</th>\n",
              "      <th>std</th>\n",
              "    </tr>\n",
              "    <tr>\n",
              "      <th>tipo_suspensión_A</th>\n",
              "      <th>abertura_malla_B</th>\n",
              "      <th>temperatura_ciclaje_C</th>\n",
              "      <th></th>\n",
              "      <th></th>\n",
              "    </tr>\n",
              "  </thead>\n",
              "  <tbody>\n",
              "    <tr>\n",
              "      <th rowspan=\"4\" valign=\"top\">A1</th>\n",
              "      <th rowspan=\"2\" valign=\"top\">B1</th>\n",
              "      <th>C1</th>\n",
              "      <td>72.666667</td>\n",
              "      <td>8.524475</td>\n",
              "    </tr>\n",
              "    <tr>\n",
              "      <th>C2</th>\n",
              "      <td>54.333333</td>\n",
              "      <td>1.032796</td>\n",
              "    </tr>\n",
              "    <tr>\n",
              "      <th rowspan=\"2\" valign=\"top\">B2</th>\n",
              "      <th>C1</th>\n",
              "      <td>69.333333</td>\n",
              "      <td>2.875181</td>\n",
              "    </tr>\n",
              "    <tr>\n",
              "      <th>C2</th>\n",
              "      <td>53.500000</td>\n",
              "      <td>1.974842</td>\n",
              "    </tr>\n",
              "    <tr>\n",
              "      <th rowspan=\"4\" valign=\"top\">A2</th>\n",
              "      <th rowspan=\"2\" valign=\"top\">B1</th>\n",
              "      <th>C1</th>\n",
              "      <td>66.833333</td>\n",
              "      <td>4.875107</td>\n",
              "    </tr>\n",
              "    <tr>\n",
              "      <th>C2</th>\n",
              "      <td>45.666667</td>\n",
              "      <td>1.861899</td>\n",
              "    </tr>\n",
              "    <tr>\n",
              "      <th rowspan=\"2\" valign=\"top\">B2</th>\n",
              "      <th>C1</th>\n",
              "      <td>77.166667</td>\n",
              "      <td>4.400758</td>\n",
              "    </tr>\n",
              "    <tr>\n",
              "      <th>C2</th>\n",
              "      <td>63.166667</td>\n",
              "      <td>3.544949</td>\n",
              "    </tr>\n",
              "    <tr>\n",
              "      <th rowspan=\"4\" valign=\"top\">A3</th>\n",
              "      <th rowspan=\"2\" valign=\"top\">B1</th>\n",
              "      <th>C1</th>\n",
              "      <td>72.166667</td>\n",
              "      <td>3.060501</td>\n",
              "    </tr>\n",
              "    <tr>\n",
              "      <th>C2</th>\n",
              "      <td>51.166667</td>\n",
              "      <td>2.041241</td>\n",
              "    </tr>\n",
              "    <tr>\n",
              "      <th rowspan=\"2\" valign=\"top\">B2</th>\n",
              "      <th>C1</th>\n",
              "      <td>75.333333</td>\n",
              "      <td>0.816497</td>\n",
              "    </tr>\n",
              "    <tr>\n",
              "      <th>C2</th>\n",
              "      <td>55.333333</td>\n",
              "      <td>3.011091</td>\n",
              "    </tr>\n",
              "  </tbody>\n",
              "</table>\n",
              "</div>\n",
              "      <button class=\"colab-df-convert\" onclick=\"convertToInteractive('df-fb34f427-b7b3-48f1-841f-8003f7672100')\"\n",
              "              title=\"Convert this dataframe to an interactive table.\"\n",
              "              style=\"display:none;\">\n",
              "        \n",
              "  <svg xmlns=\"http://www.w3.org/2000/svg\" height=\"24px\"viewBox=\"0 0 24 24\"\n",
              "       width=\"24px\">\n",
              "    <path d=\"M0 0h24v24H0V0z\" fill=\"none\"/>\n",
              "    <path d=\"M18.56 5.44l.94 2.06.94-2.06 2.06-.94-2.06-.94-.94-2.06-.94 2.06-2.06.94zm-11 1L8.5 8.5l.94-2.06 2.06-.94-2.06-.94L8.5 2.5l-.94 2.06-2.06.94zm10 10l.94 2.06.94-2.06 2.06-.94-2.06-.94-.94-2.06-.94 2.06-2.06.94z\"/><path d=\"M17.41 7.96l-1.37-1.37c-.4-.4-.92-.59-1.43-.59-.52 0-1.04.2-1.43.59L10.3 9.45l-7.72 7.72c-.78.78-.78 2.05 0 2.83L4 21.41c.39.39.9.59 1.41.59.51 0 1.02-.2 1.41-.59l7.78-7.78 2.81-2.81c.8-.78.8-2.07 0-2.86zM5.41 20L4 18.59l7.72-7.72 1.47 1.35L5.41 20z\"/>\n",
              "  </svg>\n",
              "      </button>\n",
              "      \n",
              "  <style>\n",
              "    .colab-df-container {\n",
              "      display:flex;\n",
              "      flex-wrap:wrap;\n",
              "      gap: 12px;\n",
              "    }\n",
              "\n",
              "    .colab-df-convert {\n",
              "      background-color: #E8F0FE;\n",
              "      border: none;\n",
              "      border-radius: 50%;\n",
              "      cursor: pointer;\n",
              "      display: none;\n",
              "      fill: #1967D2;\n",
              "      height: 32px;\n",
              "      padding: 0 0 0 0;\n",
              "      width: 32px;\n",
              "    }\n",
              "\n",
              "    .colab-df-convert:hover {\n",
              "      background-color: #E2EBFA;\n",
              "      box-shadow: 0px 1px 2px rgba(60, 64, 67, 0.3), 0px 1px 3px 1px rgba(60, 64, 67, 0.15);\n",
              "      fill: #174EA6;\n",
              "    }\n",
              "\n",
              "    [theme=dark] .colab-df-convert {\n",
              "      background-color: #3B4455;\n",
              "      fill: #D2E3FC;\n",
              "    }\n",
              "\n",
              "    [theme=dark] .colab-df-convert:hover {\n",
              "      background-color: #434B5C;\n",
              "      box-shadow: 0px 1px 3px 1px rgba(0, 0, 0, 0.15);\n",
              "      filter: drop-shadow(0px 1px 2px rgba(0, 0, 0, 0.3));\n",
              "      fill: #FFFFFF;\n",
              "    }\n",
              "  </style>\n",
              "\n",
              "      <script>\n",
              "        const buttonEl =\n",
              "          document.querySelector('#df-fb34f427-b7b3-48f1-841f-8003f7672100 button.colab-df-convert');\n",
              "        buttonEl.style.display =\n",
              "          google.colab.kernel.accessAllowed ? 'block' : 'none';\n",
              "\n",
              "        async function convertToInteractive(key) {\n",
              "          const element = document.querySelector('#df-fb34f427-b7b3-48f1-841f-8003f7672100');\n",
              "          const dataTable =\n",
              "            await google.colab.kernel.invokeFunction('convertToInteractive',\n",
              "                                                     [key], {});\n",
              "          if (!dataTable) return;\n",
              "\n",
              "          const docLinkHtml = 'Like what you see? Visit the ' +\n",
              "            '<a target=\"_blank\" href=https://colab.research.google.com/notebooks/data_table.ipynb>data table notebook</a>'\n",
              "            + ' to learn more about interactive tables.';\n",
              "          element.innerHTML = '';\n",
              "          dataTable['output_type'] = 'display_data';\n",
              "          await google.colab.output.renderOutput(dataTable, element);\n",
              "          const docLink = document.createElement('div');\n",
              "          docLink.innerHTML = docLinkHtml;\n",
              "          element.appendChild(docLink);\n",
              "        }\n",
              "      </script>\n",
              "    </div>\n",
              "  </div>\n",
              "  "
            ]
          },
          "metadata": {},
          "execution_count": 33
        }
      ]
    },
    {
      "cell_type": "markdown",
      "source": [
        "# **6. Análisis descriptivos - Gráficos de Interacción**"
      ],
      "metadata": {
        "id": "sSB25NaRbbKE"
      }
    },
    {
      "cell_type": "code",
      "source": [
        "from statsmodels.graphics.factorplots import interaction_plot"
      ],
      "metadata": {
        "id": "l7zIkJut9iH8"
      },
      "execution_count": null,
      "outputs": []
    },
    {
      "cell_type": "code",
      "source": [
        "fig, ax = plt.subplots(figsize=(6, 4))\n",
        "fig = interaction_plot(\n",
        "    x        = datos.tipo_suspensión_A,\n",
        "    trace    = datos.abertura_malla_B,\n",
        "    response = datos.volumen_Y,\n",
        "    ax       = ax,\n",
        ")"
      ],
      "metadata": {
        "colab": {
          "base_uri": "https://localhost:8080/"
        },
        "id": "p4tmgr35C43t",
        "outputId": "7bb9254c-c97a-4e94-feb8-9c0c7f3a6ad1"
      },
      "execution_count": null,
      "outputs": [
        {
          "output_type": "display_data",
          "data": {
            "text/plain": [
              "<Figure size 432x288 with 1 Axes>"
            ],
            "image/png": "[encoded data removed]"
          },
          "metadata": {
            "needs_background": "light"
          }
        }
      ]
    },
    {
      "cell_type": "code",
      "source": [
        "fig, ax = plt.subplots(figsize=(6, 4))\n",
        "fig = interaction_plot(\n",
        "    trace        = datos.tipo_suspensión_A,\n",
        "    x    = datos.abertura_malla_B,\n",
        "    response = datos.volumen_Y,\n",
        "    ax       = ax,\n",
        ")"
      ],
      "metadata": {
        "colab": {
          "base_uri": "https://localhost:8080/"
        },
        "id": "owWUCLWAC4-F",
        "outputId": "38ec9c00-2e00-44fa-8129-37bc0096f566"
      },
      "execution_count": null,
      "outputs": [
        {
          "output_type": "display_data",
          "data": {
            "text/plain": [
              "<Figure size 432x288 with 1 Axes>"
            ],
            "image/png": "[encoded data removed]"
          },
          "metadata": {
            "needs_background": "light"
          }
        }
      ]
    },
    {
      "cell_type": "code",
      "source": [
        "fig, ax = plt.subplots(figsize=(6, 4))\n",
        "fig = interaction_plot(\n",
        "    x        = datos.tipo_suspensión_A,\n",
        "    trace    = datos.temperatura_ciclaje_C,\n",
        "    response = datos.volumen_Y,\n",
        "    ax       = ax,\n",
        ")"
      ],
      "metadata": {
        "colab": {
          "base_uri": "https://localhost:8080/"
        },
        "id": "I26whKFyC5DV",
        "outputId": "d0f119cd-12e5-404e-9bf4-307177805302"
      },
      "execution_count": null,
      "outputs": [
        {
          "output_type": "display_data",
          "data": {
            "text/plain": [
              "<Figure size 432x288 with 1 Axes>"
            ],
            "image/png": "[encoded data removed]"
          },
          "metadata": {
            "needs_background": "light"
          }
        }
      ]
    },
    {
      "cell_type": "code",
      "source": [
        "fig, ax = plt.subplots(figsize=(6, 4))\n",
        "fig = interaction_plot(\n",
        "    trace        = datos.tipo_suspensión_A,\n",
        "    x    = datos.temperatura_ciclaje_C,\n",
        "    response = datos.volumen_Y,\n",
        "    ax       = ax,\n",
        ")"
      ],
      "metadata": {
        "colab": {
          "base_uri": "https://localhost:8080/"
        },
        "id": "63oyxuT1C5I0",
        "outputId": "a25d50cb-61c3-4712-8045-c33e2b58c61b"
      },
      "execution_count": null,
      "outputs": [
        {
          "output_type": "display_data",
          "data": {
            "text/plain": [
              "<Figure size 432x288 with 1 Axes>"
            ],
            "image/png": "[encoded data removed]"
          },
          "metadata": {
            "needs_background": "light"
          }
        }
      ]
    },
    {
      "cell_type": "code",
      "source": [
        "fig, ax = plt.subplots(figsize=(6, 4))\n",
        "fig = interaction_plot(\n",
        "    x        = datos.abertura_malla_B,\n",
        "    trace    = datos.temperatura_ciclaje_C,\n",
        "    response = datos.volumen_Y,\n",
        "    ax       = ax,\n",
        ")"
      ],
      "metadata": {
        "colab": {
          "base_uri": "https://localhost:8080/"
        },
        "id": "h_pktR_FDrJs",
        "outputId": "1140d4e9-e2a5-49c1-cf1a-32ba2477702a"
      },
      "execution_count": null,
      "outputs": [
        {
          "output_type": "display_data",
          "data": {
            "text/plain": [
              "<Figure size 432x288 with 1 Axes>"
            ],
            "image/png": "[encoded data removed]"
          },
          "metadata": {
            "needs_background": "light"
          }
        }
      ]
    },
    {
      "cell_type": "code",
      "source": [
        "fig, ax = plt.subplots(figsize=(6, 4))\n",
        "fig = interaction_plot(\n",
        "    trace        = datos.abertura_malla_B,\n",
        "    x    = datos.temperatura_ciclaje_C,\n",
        "    response = datos.volumen_Y,\n",
        "    ax       = ax,\n",
        ")"
      ],
      "metadata": {
        "colab": {
          "base_uri": "https://localhost:8080/"
        },
        "id": "tj427CLjDrPJ",
        "outputId": "234449de-2c45-4bf8-b1ea-7dc7a1a1505d"
      },
      "execution_count": null,
      "outputs": [
        {
          "output_type": "display_data",
          "data": {
            "text/plain": [
              "<Figure size 432x288 with 1 Axes>"
            ],
            "image/png": "[encoded data removed]"
          },
          "metadata": {
            "needs_background": "light"
          }
        }
      ]
    },
    {
      "cell_type": "markdown",
      "source": [
        "# **7. Análisis descriptivos - Análisis de Varianza**"
      ],
      "metadata": {
        "id": "MNzBOFGubh5B"
      }
    },
    {
      "cell_type": "code",
      "source": [
        "import statsmodels.api as sm\n",
        "from statsmodels.formula.api import ols"
      ],
      "metadata": {
        "id": "yYF4V6_kDrTq"
      },
      "execution_count": null,
      "outputs": []
    },
    {
      "cell_type": "code",
      "source": [
        "model2 = ols('volumen_Y ~ tipo_suspensión_A*abertura_malla_B*temperatura_ciclaje_C',                 # Model formula\n",
        "            data = datos).fit()\n",
        "\n",
        "anova_result = sm.stats.anova_lm(model2, typ=2)\n",
        "print (anova_result)"
      ],
      "metadata": {
        "colab": {
          "base_uri": "https://localhost:8080/"
        },
        "id": "tDIcs2tDDrYl",
        "outputId": "0653564b-db1d-482b-e7a9-9c15f77a5811"
      },
      "execution_count": null,
      "outputs": [
        {
          "output_type": "stream",
          "name": "stdout",
          "text": [
            "                                                         sum_sq    df  \\\n",
            "tipo_suspensión_A                                     13.861111   2.0   \n",
            "abertura_malla_B                                     480.500000   1.0   \n",
            "temperatura_ciclaje_C                               6086.722222   1.0   \n",
            "tipo_suspensión_A:abertura_malla_B                   788.250000   2.0   \n",
            "tipo_suspensión_A:temperatura_ciclaje_C               40.861111   2.0   \n",
            "abertura_malla_B:temperatura_ciclaje_C                56.888889   1.0   \n",
            "tipo_suspensión_A:abertura_malla_B:temperatura_...    31.027778   2.0   \n",
            "Residual                                             841.666667  60.0   \n",
            "\n",
            "                                                             F        PR(>F)  \n",
            "tipo_suspensión_A                                     0.494059  6.126048e-01  \n",
            "abertura_malla_B                                     34.253465  2.162425e-07  \n",
            "temperatura_ciclaje_C                               433.904950  3.745002e-29  \n",
            "tipo_suspensión_A:abertura_malla_B                   28.096040  2.450427e-09  \n",
            "tipo_suspensión_A:temperatura_ciclaje_C               1.456436  2.411861e-01  \n",
            "abertura_malla_B:temperatura_ciclaje_C                4.055446  4.852002e-02  \n",
            "tipo_suspensión_A:abertura_malla_B:temperatura_...    1.105941  3.375495e-01  \n",
            "Residual                                                   NaN           NaN  \n"
          ]
        }
      ]
    },
    {
      "cell_type": "markdown",
      "source": [
        "# **7. Análisis descriptivos - Comparaciones múltiples**"
      ],
      "metadata": {
        "id": "Q4FnG1q3bm_J"
      }
    },
    {
      "cell_type": "code",
      "source": [
        "from statsmodels.stats.multicomp import pairwise_tukeyhsd"
      ],
      "metadata": {
        "id": "Y06SLzBADrc-"
      },
      "execution_count": null,
      "outputs": []
    },
    {
      "cell_type": "code",
      "source": [
        "tukey = pairwise_tukeyhsd(endog=datos[\"volumen_Y\"],     # Data\n",
        "                          groups=datos[\"tipo_suspensión_A\"],   # Groups\n",
        "                          alpha=0.05)          # Significance level\n",
        "\n",
        "tukey.plot_simultaneous()    # Plot group confidence intervals\n",
        "plt.vlines(x=49.57,ymin=-0.5,ymax=14.5, color=\"red\")\n",
        "\n",
        "tukey.summary()"
      ],
      "metadata": {
        "colab": {
          "base_uri": "https://localhost:8080/"
        },
        "id": "P810bHKLFOOZ",
        "outputId": "cd40bbd3-cc02-4185-a6a6-504d18ef28b3"
      },
      "execution_count": null,
      "outputs": [
        {
          "output_type": "execute_result",
          "data": {
            "text/plain": [
              "<class 'statsmodels.iolib.table.SimpleTable'>"
            ],
            "text/html": [
              "<table class=\"simpletable\">\n",
              "<caption>Multiple Comparison of Means - Tukey HSD, FWER=0.05</caption>\n",
              "<tr>\n",
              "  <th>group1</th> <th>group2</th> <th>meandiff</th> <th>p-adj</th>  <th>lower</th>   <th>upper</th> <th>reject</th>\n",
              "</tr>\n",
              "<tr>\n",
              "    <td>A1</td>     <td>A2</td>     <td>0.75</td>    <td>0.9</td>  <td>-6.8456</td> <td>8.3456</td>  <td>False</td>\n",
              "</tr>\n",
              "<tr>\n",
              "    <td>A1</td>     <td>A3</td>    <td>1.0417</td>   <td>0.9</td>  <td>-6.554</td>  <td>8.6373</td>  <td>False</td>\n",
              "</tr>\n",
              "<tr>\n",
              "    <td>A2</td>     <td>A3</td>    <td>0.2917</td>   <td>0.9</td>  <td>-7.304</td>  <td>7.8873</td>  <td>False</td>\n",
              "</tr>\n",
              "</table>"
            ]
          },
          "metadata": {},
          "execution_count": 44
        },
        {
          "output_type": "display_data",
          "data": {
            "text/plain": [
              "<Figure size 720x432 with 1 Axes>"
            ],
            "image/png": "[encoded data removed]"
          },
          "metadata": {
            "needs_background": "light"
          }
        }
      ]
    },
    {
      "cell_type": "code",
      "source": [
        "tukey = pairwise_tukeyhsd(endog=datos[\"volumen_Y\"],     # Data\n",
        "                          groups=datos[\"abertura_malla_B\"],   # Groups\n",
        "                          alpha=0.05)          # Significance level\n",
        "\n",
        "#tukey.plot_simultaneous()    # Plot group confidence intervals\n",
        "#plt.vlines(x=49.57,ymin=-0.5,ymax=14.5, color=\"red\")\n",
        "\n",
        "tukey.summary()"
      ],
      "metadata": {
        "colab": {
          "base_uri": "https://localhost:8080/"
        },
        "id": "HbHmFGMCFOU5",
        "outputId": "5f17c69f-da58-4e51-f7a8-b4d432762efb"
      },
      "execution_count": null,
      "outputs": [
        {
          "output_type": "execute_result",
          "data": {
            "text/plain": [
              "<class 'statsmodels.iolib.table.SimpleTable'>"
            ],
            "text/html": [
              "<table class=\"simpletable\">\n",
              "<caption>Multiple Comparison of Means - Tukey HSD, FWER=0.05</caption>\n",
              "<tr>\n",
              "  <th>group1</th> <th>group2</th> <th>meandiff</th>  <th>p-adj</th>  <th>lower</th>  <th>upper</th>  <th>reject</th>\n",
              "</tr>\n",
              "<tr>\n",
              "    <td>B1</td>     <td>B2</td>    <td>5.1667</td>  <td>0.0423</td> <td>0.1856</td> <td>10.1478</td>  <td>True</td> \n",
              "</tr>\n",
              "</table>"
            ]
          },
          "metadata": {},
          "execution_count": 45
        }
      ]
    },
    {
      "cell_type": "code",
      "source": [
        "import statsmodels.stats.multicomp as mc\n",
        "\n",
        "interaction_groups = \"Susp_\" + datos.tipo_suspensión_A.astype(str) + \" & \" + \"Aber_\" + datos.abertura_malla_B.astype(str)\n",
        "\n",
        "comp = mc.MultiComparison(datos[\"volumen_Y\"], interaction_groups)\n",
        "post_hoc_res = comp.tukeyhsd()\n",
        "post_hoc_res.summary()"
      ],
      "metadata": {
        "colab": {
          "base_uri": "https://localhost:8080/"
        },
        "id": "Wt9mNGB6FOZt",
        "outputId": "da2cd7ee-3b7b-4dd2-efd9-a87783e5eed5"
      },
      "execution_count": null,
      "outputs": [
        {
          "output_type": "execute_result",
          "data": {
            "text/plain": [
              "<class 'statsmodels.iolib.table.SimpleTable'>"
            ],
            "text/html": [
              "<table class=\"simpletable\">\n",
              "<caption>Multiple Comparison of Means - Tukey HSD, FWER=0.05</caption>\n",
              "<tr>\n",
              "       <th>group1</th>            <th>group2</th>       <th>meandiff</th>  <th>p-adj</th>   <th>lower</th>   <th>upper</th>  <th>reject</th>\n",
              "</tr>\n",
              "<tr>\n",
              "  <td>Susp_A1 & Aber_B1</td> <td>Susp_A1 & Aber_B2</td>  <td>-2.0833</td>   <td>0.9</td>  <td>-14.4734</td> <td>10.3068</td>  <td>False</td>\n",
              "</tr>\n",
              "<tr>\n",
              "  <td>Susp_A1 & Aber_B1</td> <td>Susp_A2 & Aber_B1</td>   <td>-7.25</td>   <td>0.522</td> <td>-19.6401</td> <td>5.1401</td>   <td>False</td>\n",
              "</tr>\n",
              "<tr>\n",
              "  <td>Susp_A1 & Aber_B1</td> <td>Susp_A2 & Aber_B2</td>  <td>6.6667</td>  <td>0.6001</td>  <td>-5.7234</td> <td>19.0568</td>  <td>False</td>\n",
              "</tr>\n",
              "<tr>\n",
              "  <td>Susp_A1 & Aber_B1</td> <td>Susp_A3 & Aber_B1</td>  <td>-1.8333</td>   <td>0.9</td>  <td>-14.2234</td> <td>10.5568</td>  <td>False</td>\n",
              "</tr>\n",
              "<tr>\n",
              "  <td>Susp_A1 & Aber_B1</td> <td>Susp_A3 & Aber_B2</td>  <td>1.8333</td>    <td>0.9</td>  <td>-10.5568</td> <td>14.2234</td>  <td>False</td>\n",
              "</tr>\n",
              "<tr>\n",
              "  <td>Susp_A1 & Aber_B2</td> <td>Susp_A2 & Aber_B1</td>  <td>-5.1667</td> <td>0.8012</td> <td>-17.5568</td> <td>7.2234</td>   <td>False</td>\n",
              "</tr>\n",
              "<tr>\n",
              "  <td>Susp_A1 & Aber_B2</td> <td>Susp_A2 & Aber_B2</td>   <td>8.75</td>   <td>0.3141</td>  <td>-3.6401</td> <td>21.1401</td>  <td>False</td>\n",
              "</tr>\n",
              "<tr>\n",
              "  <td>Susp_A1 & Aber_B2</td> <td>Susp_A3 & Aber_B1</td>   <td>0.25</td>     <td>0.9</td>  <td>-12.1401</td> <td>12.6401</td>  <td>False</td>\n",
              "</tr>\n",
              "<tr>\n",
              "  <td>Susp_A1 & Aber_B2</td> <td>Susp_A3 & Aber_B2</td>  <td>3.9167</td>    <td>0.9</td>   <td>-8.4734</td> <td>16.3068</td>  <td>False</td>\n",
              "</tr>\n",
              "<tr>\n",
              "  <td>Susp_A2 & Aber_B1</td> <td>Susp_A2 & Aber_B2</td>  <td>13.9167</td> <td>0.0189</td>  <td>1.5266</td>  <td>26.3068</td>  <td>True</td> \n",
              "</tr>\n",
              "<tr>\n",
              "  <td>Susp_A2 & Aber_B1</td> <td>Susp_A3 & Aber_B1</td>  <td>5.4167</td>  <td>0.7677</td>  <td>-6.9734</td> <td>17.8068</td>  <td>False</td>\n",
              "</tr>\n",
              "<tr>\n",
              "  <td>Susp_A2 & Aber_B1</td> <td>Susp_A3 & Aber_B2</td>  <td>9.0833</td>  <td>0.2745</td>  <td>-3.3068</td> <td>21.4734</td>  <td>False</td>\n",
              "</tr>\n",
              "<tr>\n",
              "  <td>Susp_A2 & Aber_B2</td> <td>Susp_A3 & Aber_B1</td>   <td>-8.5</td>   <td>0.3463</td> <td>-20.8901</td> <td>3.8901</td>   <td>False</td>\n",
              "</tr>\n",
              "<tr>\n",
              "  <td>Susp_A2 & Aber_B2</td> <td>Susp_A3 & Aber_B2</td>  <td>-4.8333</td> <td>0.8458</td> <td>-17.2234</td> <td>7.5568</td>   <td>False</td>\n",
              "</tr>\n",
              "<tr>\n",
              "  <td>Susp_A3 & Aber_B1</td> <td>Susp_A3 & Aber_B2</td>  <td>3.6667</td>    <td>0.9</td>   <td>-8.7234</td> <td>16.0568</td>  <td>False</td>\n",
              "</tr>\n",
              "</table>"
            ]
          },
          "metadata": {},
          "execution_count": 46
        }
      ]
    },
    {
      "cell_type": "code",
      "source": [
        "interaction_groups = \"Susp_\" + datos.tipo_suspensión_A.astype(str) + \" & \" + \"Tem_\" + datos.temperatura_ciclaje_C.astype(str)\n",
        "\n",
        "comp = mc.MultiComparison(datos[\"volumen_Y\"], interaction_groups)\n",
        "post_hoc_res = comp.tukeyhsd()\n",
        "post_hoc_res.summary()"
      ],
      "metadata": {
        "colab": {
          "base_uri": "https://localhost:8080/"
        },
        "id": "KRu2hWJaFOeY",
        "outputId": "fc8fba26-6f20-4620-9d58-be2186d86220"
      },
      "execution_count": null,
      "outputs": [
        {
          "output_type": "execute_result",
          "data": {
            "text/plain": [
              "<class 'statsmodels.iolib.table.SimpleTable'>"
            ],
            "text/html": [
              "<table class=\"simpletable\">\n",
              "<caption>Multiple Comparison of Means - Tukey HSD, FWER=0.05</caption>\n",
              "<tr>\n",
              "       <th>group1</th>           <th>group2</th>      <th>meandiff</th>  <th>p-adj</th>   <th>lower</th>    <th>upper</th>  <th>reject</th>\n",
              "</tr>\n",
              "<tr>\n",
              "  <td>Susp_A1 & Tem_C1</td> <td>Susp_A1 & Tem_C2</td> <td>-17.0833</td>  <td>0.001</td> <td>-23.9986</td> <td>-10.1681</td>  <td>True</td> \n",
              "</tr>\n",
              "<tr>\n",
              "  <td>Susp_A1 & Tem_C1</td> <td>Susp_A2 & Tem_C1</td>    <td>1.0</td>     <td>0.9</td>   <td>-5.9152</td>  <td>7.9152</td>   <td>False</td>\n",
              "</tr>\n",
              "<tr>\n",
              "  <td>Susp_A1 & Tem_C1</td> <td>Susp_A2 & Tem_C2</td> <td>-16.5833</td>  <td>0.001</td> <td>-23.4986</td>  <td>-9.6681</td>  <td>True</td> \n",
              "</tr>\n",
              "<tr>\n",
              "  <td>Susp_A1 & Tem_C1</td> <td>Susp_A3 & Tem_C1</td>   <td>2.75</td>   <td>0.8333</td>  <td>-4.1652</td>  <td>9.6652</td>   <td>False</td>\n",
              "</tr>\n",
              "<tr>\n",
              "  <td>Susp_A1 & Tem_C1</td> <td>Susp_A3 & Tem_C2</td>  <td>-17.75</td>   <td>0.001</td> <td>-24.6652</td> <td>-10.8348</td>  <td>True</td> \n",
              "</tr>\n",
              "<tr>\n",
              "  <td>Susp_A1 & Tem_C2</td> <td>Susp_A2 & Tem_C1</td>  <td>18.0833</td>  <td>0.001</td>  <td>11.1681</td>  <td>24.9986</td>  <td>True</td> \n",
              "</tr>\n",
              "<tr>\n",
              "  <td>Susp_A1 & Tem_C2</td> <td>Susp_A2 & Tem_C2</td>    <td>0.5</td>     <td>0.9</td>   <td>-6.4152</td>  <td>7.4152</td>   <td>False</td>\n",
              "</tr>\n",
              "<tr>\n",
              "  <td>Susp_A1 & Tem_C2</td> <td>Susp_A3 & Tem_C1</td>  <td>19.8333</td>  <td>0.001</td>  <td>12.9181</td>  <td>26.7486</td>  <td>True</td> \n",
              "</tr>\n",
              "<tr>\n",
              "  <td>Susp_A1 & Tem_C2</td> <td>Susp_A3 & Tem_C2</td>  <td>-0.6667</td>   <td>0.9</td>   <td>-7.5819</td>  <td>6.2486</td>   <td>False</td>\n",
              "</tr>\n",
              "<tr>\n",
              "  <td>Susp_A2 & Tem_C1</td> <td>Susp_A2 & Tem_C2</td> <td>-17.5833</td>  <td>0.001</td> <td>-24.4986</td> <td>-10.6681</td>  <td>True</td> \n",
              "</tr>\n",
              "<tr>\n",
              "  <td>Susp_A2 & Tem_C1</td> <td>Susp_A3 & Tem_C1</td>   <td>1.75</td>     <td>0.9</td>   <td>-5.1652</td>  <td>8.6652</td>   <td>False</td>\n",
              "</tr>\n",
              "<tr>\n",
              "  <td>Susp_A2 & Tem_C1</td> <td>Susp_A3 & Tem_C2</td>  <td>-18.75</td>   <td>0.001</td> <td>-25.6652</td> <td>-11.8348</td>  <td>True</td> \n",
              "</tr>\n",
              "<tr>\n",
              "  <td>Susp_A2 & Tem_C2</td> <td>Susp_A3 & Tem_C1</td>  <td>19.3333</td>  <td>0.001</td>  <td>12.4181</td>  <td>26.2486</td>  <td>True</td> \n",
              "</tr>\n",
              "<tr>\n",
              "  <td>Susp_A2 & Tem_C2</td> <td>Susp_A3 & Tem_C2</td>  <td>-1.1667</td>   <td>0.9</td>   <td>-8.0819</td>  <td>5.7486</td>   <td>False</td>\n",
              "</tr>\n",
              "<tr>\n",
              "  <td>Susp_A3 & Tem_C1</td> <td>Susp_A3 & Tem_C2</td>   <td>-20.5</td>   <td>0.001</td> <td>-27.4152</td> <td>-13.5848</td>  <td>True</td> \n",
              "</tr>\n",
              "</table>"
            ]
          },
          "metadata": {},
          "execution_count": 47
        }
      ]
    },
    {
      "cell_type": "code",
      "source": [
        "interaction_groups = \"Aber_\" + datos.abertura_malla_B.astype(str) + \" & \" + \"Tem_\" + datos.temperatura_ciclaje_C.astype(str)\n",
        "\n",
        "comp = mc.MultiComparison(datos[\"volumen_Y\"], interaction_groups)\n",
        "post_hoc_res = comp.tukeyhsd()\n",
        "post_hoc_res.summary()"
      ],
      "metadata": {
        "colab": {
          "base_uri": "https://localhost:8080/"
        },
        "id": "4E1X5YseFOj2",
        "outputId": "e40649ec-b422-4927-c725-20f696ea8433"
      },
      "execution_count": null,
      "outputs": [
        {
          "output_type": "execute_result",
          "data": {
            "text/plain": [
              "<class 'statsmodels.iolib.table.SimpleTable'>"
            ],
            "text/html": [
              "<table class=\"simpletable\">\n",
              "<caption>Multiple Comparison of Means - Tukey HSD, FWER=0.05</caption>\n",
              "<tr>\n",
              "       <th>group1</th>           <th>group2</th>      <th>meandiff</th>  <th>p-adj</th>   <th>lower</th>    <th>upper</th>  <th>reject</th>\n",
              "</tr>\n",
              "<tr>\n",
              "  <td>Aber_B1 & Tem_C1</td> <td>Aber_B1 & Tem_C2</td> <td>-20.1667</td>  <td>0.001</td> <td>-24.5765</td> <td>-15.7568</td>  <td>True</td> \n",
              "</tr>\n",
              "<tr>\n",
              "  <td>Aber_B1 & Tem_C1</td> <td>Aber_B2 & Tem_C1</td>  <td>3.3889</td>  <td>0.1894</td>  <td>-1.0209</td>  <td>7.7987</td>   <td>False</td>\n",
              "</tr>\n",
              "<tr>\n",
              "  <td>Aber_B1 & Tem_C1</td> <td>Aber_B2 & Tem_C2</td> <td>-13.2222</td>  <td>0.001</td> <td>-17.6321</td>  <td>-8.8124</td>  <td>True</td> \n",
              "</tr>\n",
              "<tr>\n",
              "  <td>Aber_B1 & Tem_C2</td> <td>Aber_B2 & Tem_C1</td>  <td>23.5556</td>  <td>0.001</td>  <td>19.1457</td>  <td>27.9654</td>  <td>True</td> \n",
              "</tr>\n",
              "<tr>\n",
              "  <td>Aber_B1 & Tem_C2</td> <td>Aber_B2 & Tem_C2</td>  <td>6.9444</td>   <td>0.001</td>  <td>2.5346</td>   <td>11.3543</td>  <td>True</td> \n",
              "</tr>\n",
              "<tr>\n",
              "  <td>Aber_B2 & Tem_C1</td> <td>Aber_B2 & Tem_C2</td> <td>-16.6111</td>  <td>0.001</td> <td>-21.0209</td> <td>-12.2013</td>  <td>True</td> \n",
              "</tr>\n",
              "</table>"
            ]
          },
          "metadata": {},
          "execution_count": 48
        }
      ]
    },
    {
      "cell_type": "markdown",
      "source": [
        "# **8. Análisis descriptivos - Supuestos del Modelo**\n",
        "## Los supuestos de esta sección deben cumplirse para que los resultados de la prueba se consideren válidos. Aquí se proporciona una mirada más profunda a las suposiciones paramétricas , que incluye algunos remedios potenciales.*\n",
        "\n",
        "### **INDEPENDENCIA**. *Esta suposición se prueba cuando se diseña el estudio. Lo que esto significa es que todos los grupos son mutuamente excluyentes, es decir, un individuo solo puede pertenecer a un grupo. Además, esto significa que los datos no son medidas repetidas (no se recopilan a lo largo del tiempo). En este ejemplo, esta condición se cumple.*\n",
        "\n",
        "### **NORMALIDAD**. *El supuesto de normalidad se prueba en los residuos del modelo cuando proviene de un ANOVA o marco de regresión. Un método para probar la suposición de normalidad es la prueba de Shapiro-Wilk. Esto se puede completar usando el método shapiro() de scipy.stats. Asegúrese de importar scipy.stats para que funcione el siguiente método. Desafortunadamente, la salida no está etiquetada, pero sí (estadística de prueba W, valor p).*"
      ],
      "metadata": {
        "id": "82-4AOJOMDaj"
      }
    },
    {
      "cell_type": "markdown",
      "source": [
        "# **9. Normalidad - Supuestos del Modelo**"
      ],
      "metadata": {
        "id": "5y-7EYlTR4VW"
      }
    },
    {
      "cell_type": "code",
      "source": [
        "import scipy.stats as stats\n",
        "\n",
        "stats.shapiro(model2.resid)"
      ],
      "metadata": {
        "colab": {
          "base_uri": "https://localhost:8080/"
        },
        "id": "QoHgUGdcMCvA",
        "outputId": "0069408f-6069-4ea1-f686-b71eca6097ec"
      },
      "execution_count": null,
      "outputs": [
        {
          "output_type": "execute_result",
          "data": {
            "text/plain": [
              "ShapiroResult(statistic=0.919877827167511, pvalue=0.0002114002563757822)"
            ]
          },
          "metadata": {},
          "execution_count": 49
        }
      ]
    },
    {
      "cell_type": "code",
      "source": [
        "import matplotlib.pyplot as plt\n",
        "\n",
        "fig = plt.figure(figsize= (10, 10))\n",
        "ax = fig.add_subplot(111)\n",
        "\n",
        "normality_plot, stat = stats.probplot(model2.resid, plot= plt, rvalue= True)\n",
        "ax.set_title(\"Gráfico de Probabiliad para los residuos\", fontsize= 20)\n",
        "ax.set\n",
        "\n",
        "plt.show()"
      ],
      "metadata": {
        "colab": {
          "base_uri": "https://localhost:8080/"
        },
        "id": "A7arh7-rM5FV",
        "outputId": "db256658-0f13-4f37-a9d2-768887305419"
      },
      "execution_count": null,
      "outputs": [
        {
          "output_type": "display_data",
          "data": {
            "text/plain": [
              "<Figure size 720x720 with 1 Axes>"
            ],
            "image/png": "[encoded data removed]"
          },
          "metadata": {
            "needs_background": "light"
          }
        }
      ]
    },
    {
      "cell_type": "markdown",
      "source": [
        "### **Conclusión.**Este es un caso en el que el método de prueba estadística indicó que los residuos no se distribuyeron normalmente segun la prueba de Shapiro-Wilk. Sin embargo, mirando el gráfico de probabilidad trazado y la estructura residual, también sería razonable transformar pensar que no se viola el pricipio de normalidad."
      ],
      "metadata": {
        "id": "UtmAazfWNNMj"
      }
    },
    {
      "cell_type": "markdown",
      "source": [
        "# **10. Supuestos del Modelo - Homocedasticidad**\n",
        "### La suposición final es que todos los grupos tienen varianzas iguales. Un método para probar esta suposición es la prueba de homogeneidad de varianzas de Levene. Esto se puede completar usando el método levene() de Scipy.stats.*"
      ],
      "metadata": {
        "id": "6_yKx2OQN_Bu"
      }
    },
    {
      "cell_type": "code",
      "source": [
        "stats.levene(datos['volumen_Y'][datos['tipo_suspensión_A'] == 'A1'],\n",
        "             datos['volumen_Y'][datos['tipo_suspensión_A'] == 'A2'],\n",
        "             datos['volumen_Y'][datos['tipo_suspensión_A'] == 'A3'])"
      ],
      "metadata": {
        "colab": {
          "base_uri": "https://localhost:8080/"
        },
        "id": "9qBoAZriOHdB",
        "outputId": "ec5ef4e4-d503-41a8-e169-896d2b2036df"
      },
      "execution_count": null,
      "outputs": [
        {
          "output_type": "execute_result",
          "data": {
            "text/plain": [
              "LeveneResult(statistic=0.5041369720146014, pvalue=0.6062340941488165)"
            ]
          },
          "metadata": {},
          "execution_count": 51
        }
      ]
    },
    {
      "cell_type": "code",
      "source": [
        "stats.levene(datos['volumen_Y'][datos['abertura_malla_B'] == 'B1'],\n",
        "             datos['volumen_Y'][datos['abertura_malla_B'] == 'B2'])"
      ],
      "metadata": {
        "colab": {
          "base_uri": "https://localhost:8080/"
        },
        "id": "PQzpyknDQJ4X",
        "outputId": "460bdea8-25b1-463b-ef29-e768bf55cdd7"
      },
      "execution_count": null,
      "outputs": [
        {
          "output_type": "execute_result",
          "data": {
            "text/plain": [
              "LeveneResult(statistic=1.8959451953341993, pvalue=0.17292063007055783)"
            ]
          },
          "metadata": {},
          "execution_count": 52
        }
      ]
    },
    {
      "cell_type": "code",
      "source": [
        "stats.levene(datos['volumen_Y'][datos['temperatura_ciclaje_C'] == 'C1'],\n",
        "             datos['volumen_Y'][datos['temperatura_ciclaje_C'] == 'C2'])"
      ],
      "metadata": {
        "colab": {
          "base_uri": "https://localhost:8080/"
        },
        "id": "aWOyUQDqQKBy",
        "outputId": "805a315a-6f32-4ffa-bc75-c63335c48fb0"
      },
      "execution_count": null,
      "outputs": [
        {
          "output_type": "execute_result",
          "data": {
            "text/plain": [
              "LeveneResult(statistic=0.06885104813425962, pvalue=0.7937877346577176)"
            ]
          },
          "metadata": {},
          "execution_count": 53
        }
      ]
    },
    {
      "cell_type": "code",
      "source": [
        "fig = plt.figure(figsize= (10, 10))\n",
        "ax = fig.add_subplot(111)\n",
        "\n",
        "ax.set_title(\"Box Plot of volumen_Y por  tipo_suspensión_A\", fontsize= 20)\n",
        "ax.set\n",
        "\n",
        "data = [datos['volumen_Y'][datos['tipo_suspensión_A'] == 'A1'],\n",
        "             datos['volumen_Y'][datos['tipo_suspensión_A'] == 'A2'],\n",
        "             datos['volumen_Y'][datos['tipo_suspensión_A'] == 'A3']]\n",
        "\n",
        "ax.boxplot(data,\n",
        "           labels= ['A1', 'A2', 'A3'],\n",
        "           showmeans= True)\n",
        "\n",
        "plt.xlabel(\"tipo_suspensión_A\")\n",
        "plt.ylabel(\"volumen_Y\")\n",
        "\n",
        "plt.show()"
      ],
      "metadata": {
        "colab": {
          "base_uri": "https://localhost:8080/"
        },
        "id": "ogCVTb3oRIcA",
        "outputId": "0c6acad4-7db0-4657-c440-cdb028b76923"
      },
      "execution_count": null,
      "outputs": [
        {
          "output_type": "display_data",
          "data": {
            "text/plain": [
              "<Figure size 720x720 with 1 Axes>"
            ],
            "image/png": "[encoded data removed]"
          },
          "metadata": {
            "needs_background": "light"
          }
        }
      ]
    },
    {
      "cell_type": "code",
      "source": [],
      "metadata": {
        "id": "t1vcJd2ru9Ae"
      },
      "execution_count": null,
      "outputs": []
    }
  ]
}