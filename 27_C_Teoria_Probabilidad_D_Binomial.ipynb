{
  "cells": [
    {
      "cell_type": "markdown",
      "metadata": {
        "id": "view-in-github",
        "colab_type": "text"
      },
      "source": [
        "<a href=\"https://colab.research.google.com/github/JSEFERINO/Estadistica_Moderna/blob/main/27_C_Teoria_Probabilidad_D_Binomial.ipynb\" target=\"_parent\"><img src=\"https://colab.research.google.com/assets/colab-badge.svg\" alt=\"Open In Colab\"/></a>"
      ]
    },
    {
      "cell_type": "markdown",
      "metadata": {
        "id": "tvWruVdAfPkW"
      },
      "source": [
        "# **Curso Teoría de Probabilidad por Julio Hurtado Márquez**\n",
        "## **Parte XII- Modelos Probabilísticos Discretos**\n",
        "# **Librerias para usar en esta parte del curso**"
      ]
    },
    {
      "cell_type": "code",
      "execution_count": null,
      "metadata": {
        "colab": {
          "base_uri": "https://localhost:8080/"
        },
        "id": "oMTb2sIusSdw",
        "outputId": "0f5252b3-6e0a-49bd-c8e4-b6faabbd83c0"
      },
      "outputs": [
        {
          "output_type": "stream",
          "name": "stdout",
          "text": [
            "Setup Complete\n"
          ]
        }
      ],
      "source": [
        "# **Librerias para usar en esta parte del cursor**\n",
        "import pandas as pd\n",
        "import numpy as np\n",
        "import matplotlib.pyplot as plt\n",
        "%matplotlib inline\n",
        "import seaborn as sns\n",
        "from scipy import stats\n",
        "import warnings\n",
        "warnings.filterwarnings(\"ignore\", category=FutureWarning)\n",
        "\n",
        "print(\"Setup Complete\")"
      ]
    },
    {
      "cell_type": "markdown",
      "metadata": {
        "id": "YhKEaGR4bm2D"
      },
      "source": [
        "# **153. Modelos Probabilísticos Discretos - Modelo de Bernoulli**\n",
        "## **a. La Defincición**\n",
        "+ (Wikipedia) En teoría de probabilidad y estadística, _la distribución Bernoulli_ (o distribución dicotómica), nombrada así por el matemático suizo Jacob Bernoulli, es una distribución de probabilidad discreta, dónde el valor\n",
        "1 (éxito) ocurre con la probabilidad $p$ y el valor $0$ (fracaso) con la probabilidad $q = 1-p$\n",
        "\n",
        "+ Un experimento al cual se aplica la distribución de Bernoulli se conoce como Ensayo de Bernoulli o simplemente ensayo y la serie de esos experimentos como experimento Bernoulli.\n",
        "\n",
        "+ Una variable aleatoria discreta $X$ sigue una distribución Bernoulli de parámetros $n = 1$ y $p$, lo cual denotamos por $$X∼B(1,p)$$ si tiene funcion FMP dada por la formula:\n",
        "$$ P(X=x)= f(x,p) = \\begin{pmatrix} 1 \\\\ x \\end{pmatrix}p^x(1-p)^{(1-x)}=p^x(1-p)^{(1-x)}, \\ \\ x=0, 1$$\n",
        "+ En forma alternativa $P[X=x]=px+(1-p)(1-x), \\ \\ x=0,1$\n",
        "\n",
        "## **b. Valor Esperado y Varianza de una variable aleatoria discreta de Bernoulli**\n",
        "\n",
        "+ **Valor Esperado** $$E(X)=\\mu=(0)(1-p)+(1)(p)=p$$\n",
        "\n",
        "+ **Varianza** $$V(X)=E(X-μ)^2=σ^2=E(X^2)- {\\mu}^2 = [(0)^2(1-p)+(1)^2(p)]- p^2 = p- p^2 = p(1-p)$$\n",
        "\n",
        "+ En dónde $ X=x$ representa el número de exitos que ocurren en  $1$ ensayo  del experimento aleatorio.\n",
        "+ $\\mu = p$ representa al número esperado de exitos en todo el experimento.\n",
        "+ $V(X)=p(1-p)$ representa a la variabilidad presente durante el experimento aleatorio.\n",
        "\n",
        "\n",
        "## **c. Función de Distribución Acumulada (FDA)** La función de Distribución acumulada para una variable $$X∼B(1,p)$$ viene dada por\n",
        "\n",
        "$$F(x)=P[X\\leq x]= \\left\\{ \\begin{array}{lcc}\n",
        "             0 &   si  & x <0 \\\\\n",
        "             \\\\ 1-p &  si & 0 \\leq x < 1 \\\\\n",
        "             \\\\ 1 &  si  & x \\geq 1\n",
        "             \\end{array}\n",
        "   \\right.$$\n",
        "## **d. Otras Propiedades**\n",
        "+ **Momentos** $$E[X^n]=p$$\n",
        "+ **Función Generadora de Momentos** $$M_X(t)=1-p+pe^t$$\n",
        "\n",
        "+ **Función Generadora de Probabilidad** $$G_X(t)=1-p+pt$$\n",
        "\n",
        "+ **Función característica** $$\\Phi_X(t)=1-p+pe^{it}$$"
      ]
    },
    {
      "cell_type": "markdown",
      "source": [
        "# **154. Ejemplo con la distribución de Bernoulli**\n",
        "**Un cazador experto tiene probabilidad de 0.8 de acertar una presa a 200 metros de Distancia. Encuentre la distribución de Probabilidad para la variable $X$ si el cazador tiene una única oportunidad de cazar su presa**\n"
      ],
      "metadata": {
        "id": "zKCDpyuZYcoy"
      }
    },
    {
      "cell_type": "markdown",
      "metadata": {
        "id": "JvENHowwc_XQ"
      },
      "source": [
        "# **a. Graficando la Distribución de Bernoulli**"
      ]
    },
    {
      "cell_type": "code",
      "execution_count": null,
      "metadata": {
        "colab": {
          "base_uri": "https://localhost:8080/",
          "height": 472
        },
        "id": "3AHKuylsbq_f",
        "outputId": "5b0cb106-fd1c-48d5-d45c-bd0fed6277af"
      },
      "outputs": [
        {
          "output_type": "display_data",
          "data": {
            "text/plain": [
              "<Figure size 640x480 with 1 Axes>"
            ],
            "image/png": "[encoded data removed]"
          },
          "metadata": {}
        }
      ],
      "source": [
        "# **a. Graficando la Distribución de Bernoulli**\n",
        "p =  0.8 # parametro de forma\n",
        "bernoulli = stats.bernoulli(p)\n",
        "x = np.arange(-1, 3)\n",
        "fmp = bernoulli.pmf(x) # Función de Masa de Probabilidad\n",
        "fig, ax = plt.subplots()\n",
        "ax.plot(x, fmp, 'ro')\n",
        "ax.vlines(x, 0, fmp, colors='b', lw=5, alpha=0.5)\n",
        "ax.set_yticks([0., 0.2, 0.4, 0.6, 0.8,1.])\n",
        "plt.title('Distribución Bernoulli')\n",
        "plt.ylabel('probabilidad')\n",
        "plt.xlabel('valores')\n",
        "plt.show()"
      ]
    },
    {
      "cell_type": "markdown",
      "metadata": {
        "id": "avBFRrJkeA6L"
      },
      "source": [
        "# **b. Graficando la Distribución Binomial con n=1**"
      ]
    },
    {
      "cell_type": "code",
      "execution_count": null,
      "metadata": {
        "colab": {
          "base_uri": "https://localhost:8080/",
          "height": 564
        },
        "id": "ltIf5akndafy",
        "outputId": "407f694d-f598-4941-b013-0133d19951b9"
      },
      "outputs": [
        {
          "output_type": "display_data",
          "data": {
            "text/plain": [
              "<Figure size 600x600 with 1 Axes>"
            ],
            "image/png": "[encoded data removed]"
          },
          "metadata": {}
        }
      ],
      "source": [
        "# **b. Graficando la Distribución Binomial con n=1**\n",
        "plt.figure(figsize=(6, 6))\n",
        "x = np.arange(0, 2)\n",
        "n, p = 1, 0.8 # parametros de forma\n",
        "binomial = stats.binom(n, p) # Distribución\n",
        "fmp = binomial.pmf(x) # Función de Masa de Probabilidad\n",
        "plt.plot(x, fmp, 'b')\n",
        "plt.vlines(x, 0, fmp, colors='r', lw=5, alpha=0.5)\n",
        "plt.title('Distribución Binomial n=1')\n",
        "ax.set_ylim(0, 1)\n",
        "plt.ylabel('probabilidad')\n",
        "plt.xlabel('valores')\n",
        "plt.show()"
      ]
    },
    {
      "cell_type": "markdown",
      "metadata": {
        "id": "3tDhAPl2eszA"
      },
      "source": [
        "# **c. Calculando la PMF y la FDA para X = binom(1,0.8)**"
      ]
    },
    {
      "cell_type": "code",
      "execution_count": null,
      "metadata": {
        "colab": {
          "base_uri": "https://localhost:8080/",
          "height": 112
        },
        "id": "e2f78hyAdIUi",
        "outputId": "4d6a665a-1c16-4d7a-c035-c37ea0796faa"
      },
      "outputs": [
        {
          "data": {
            "text/html": [
              "\n",
              "  <div id=\"df-1d894818-da2a-4dc7-b685-954d16d506db\">\n",
              "    <div class=\"colab-df-container\">\n",
              "      <div>\n",
              "<style scoped>\n",
              "    .dataframe tbody tr th:only-of-type {\n",
              "        vertical-align: middle;\n",
              "    }\n",
              "\n",
              "    .dataframe tbody tr th {\n",
              "        vertical-align: top;\n",
              "    }\n",
              "\n",
              "    .dataframe thead th {\n",
              "        text-align: right;\n",
              "    }\n",
              "</style>\n",
              "<table border=\"1\" class=\"dataframe\">\n",
              "  <thead>\n",
              "    <tr style=\"text-align: right;\">\n",
              "      <th></th>\n",
              "      <th>i</th>\n",
              "      <th>P{X = i}</th>\n",
              "      <th>F(i)</th>\n",
              "    </tr>\n",
              "  </thead>\n",
              "  <tbody>\n",
              "    <tr>\n",
              "      <th>0</th>\n",
              "      <td>0</td>\n",
              "      <td>0.2</td>\n",
              "      <td>0.2</td>\n",
              "    </tr>\n",
              "    <tr>\n",
              "      <th>1</th>\n",
              "      <td>1</td>\n",
              "      <td>0.8</td>\n",
              "      <td>1.0</td>\n",
              "    </tr>\n",
              "  </tbody>\n",
              "</table>\n",
              "</div>\n",
              "      <button class=\"colab-df-convert\" onclick=\"convertToInteractive('df-1d894818-da2a-4dc7-b685-954d16d506db')\"\n",
              "              title=\"Convert this dataframe to an interactive table.\"\n",
              "              style=\"display:none;\">\n",
              "        \n",
              "  <svg xmlns=\"http://www.w3.org/2000/svg\" height=\"24px\"viewBox=\"0 0 24 24\"\n",
              "       width=\"24px\">\n",
              "    <path d=\"M0 0h24v24H0V0z\" fill=\"none\"/>\n",
              "    <path d=\"M18.56 5.44l.94 2.06.94-2.06 2.06-.94-2.06-.94-.94-2.06-.94 2.06-2.06.94zm-11 1L8.5 8.5l.94-2.06 2.06-.94-2.06-.94L8.5 2.5l-.94 2.06-2.06.94zm10 10l.94 2.06.94-2.06 2.06-.94-2.06-.94-.94-2.06-.94 2.06-2.06.94z\"/><path d=\"M17.41 7.96l-1.37-1.37c-.4-.4-.92-.59-1.43-.59-.52 0-1.04.2-1.43.59L10.3 9.45l-7.72 7.72c-.78.78-.78 2.05 0 2.83L4 21.41c.39.39.9.59 1.41.59.51 0 1.02-.2 1.41-.59l7.78-7.78 2.81-2.81c.8-.78.8-2.07 0-2.86zM5.41 20L4 18.59l7.72-7.72 1.47 1.35L5.41 20z\"/>\n",
              "  </svg>\n",
              "      </button>\n",
              "      \n",
              "  <style>\n",
              "    .colab-df-container {\n",
              "      display:flex;\n",
              "      flex-wrap:wrap;\n",
              "      gap: 12px;\n",
              "    }\n",
              "\n",
              "    .colab-df-convert {\n",
              "      background-color: #E8F0FE;\n",
              "      border: none;\n",
              "      border-radius: 50%;\n",
              "      cursor: pointer;\n",
              "      display: none;\n",
              "      fill: #1967D2;\n",
              "      height: 32px;\n",
              "      padding: 0 0 0 0;\n",
              "      width: 32px;\n",
              "    }\n",
              "\n",
              "    .colab-df-convert:hover {\n",
              "      background-color: #E2EBFA;\n",
              "      box-shadow: 0px 1px 2px rgba(60, 64, 67, 0.3), 0px 1px 3px 1px rgba(60, 64, 67, 0.15);\n",
              "      fill: #174EA6;\n",
              "    }\n",
              "\n",
              "    [theme=dark] .colab-df-convert {\n",
              "      background-color: #3B4455;\n",
              "      fill: #D2E3FC;\n",
              "    }\n",
              "\n",
              "    [theme=dark] .colab-df-convert:hover {\n",
              "      background-color: #434B5C;\n",
              "      box-shadow: 0px 1px 3px 1px rgba(0, 0, 0, 0.15);\n",
              "      filter: drop-shadow(0px 1px 2px rgba(0, 0, 0, 0.3));\n",
              "      fill: #FFFFFF;\n",
              "    }\n",
              "  </style>\n",
              "\n",
              "      <script>\n",
              "        const buttonEl =\n",
              "          document.querySelector('#df-1d894818-da2a-4dc7-b685-954d16d506db button.colab-df-convert');\n",
              "        buttonEl.style.display =\n",
              "          google.colab.kernel.accessAllowed ? 'block' : 'none';\n",
              "\n",
              "        async function convertToInteractive(key) {\n",
              "          const element = document.querySelector('#df-1d894818-da2a-4dc7-b685-954d16d506db');\n",
              "          const dataTable =\n",
              "            await google.colab.kernel.invokeFunction('convertToInteractive',\n",
              "                                                     [key], {});\n",
              "          if (!dataTable) return;\n",
              "\n",
              "          const docLinkHtml = 'Like what you see? Visit the ' +\n",
              "            '<a target=\"_blank\" href=https://colab.research.google.com/notebooks/data_table.ipynb>data table notebook</a>'\n",
              "            + ' to learn more about interactive tables.';\n",
              "          element.innerHTML = '';\n",
              "          dataTable['output_type'] = 'display_data';\n",
              "          await google.colab.output.renderOutput(dataTable, element);\n",
              "          const docLink = document.createElement('div');\n",
              "          docLink.innerHTML = docLinkHtml;\n",
              "          element.appendChild(docLink);\n",
              "        }\n",
              "      </script>\n",
              "    </div>\n",
              "  </div>\n",
              "  "
            ],
            "text/plain": [
              "   i  P{X = i}  F(i)\n",
              "0  0       0.2   0.2\n",
              "1  1       0.8   1.0"
            ]
          },
          "execution_count": 43,
          "metadata": {},
          "output_type": "execute_result"
        }
      ],
      "source": [
        "# **c. Calculando la PMF y la FDA para X = binom(1,0.8)**\n",
        "x=list(range(0,2))\n",
        "rv=stats.binom(1,0.8)\n",
        "df=pd.DataFrame({'i':x,'P{X = i}':rv.pmf(x),'F(i)':rv.cdf(x),})\n",
        "df"
      ]
    },
    {
      "cell_type": "markdown",
      "source": [
        "\n",
        "## **154.1. Repasar el tema de las combinaciones como antesala a la Distribución Binomial**\n",
        "### **$\\bullet$** **Coeficiente binomial**. $${n\\choose k}=\\frac{n!}{k!(n-k)!} $$\n",
        "\n",
        "\n",
        "\n",
        "### **$\\bullet$** **El coeficiente binomial representa el número de formas en que se pueden elegir $k$ elementos distintos de un conjunto de $n$ elementos sin tener en cuenta el orden.**\n",
        "\n",
        "### **$\\bullet$** **Nota**. El coeficiente binomial se puede calcular en Python utilizando la función _comb()_ del módulo _scipy.special_ o la función _math.comb()_ del módulo _math_.  Aquí tienes ejemplos de cómo calcular coeficientes binomiales con ambas funciones:\n",
        "\n"
      ],
      "metadata": {
        "id": "yKQjtnJ8kylr"
      }
    },
    {
      "cell_type": "markdown",
      "source": [
        "## **154.2 Ejemplos**\n",
        "### **$\\bullet$** **a**. De cuantas maneras se pueden escoger 2 obreros de 5 para realizar un trabajo.\n",
        "\n",
        "### **$\\bullet$** **b**. ¿De cuantas maneras se puede organizar un equipo de baloncesto si todos pueden cumplir la misma función cuando se tienen 8 jugadores?.\n",
        "\n"
      ],
      "metadata": {
        "id": "2Xg0lWkTmsDg"
      }
    },
    {
      "cell_type": "code",
      "source": [
        "from scipy.special import comb\n",
        "#*a**. De cuantas maneras se pueden escoger 2 obreros de 5 para realizar un trabajo.\n",
        "# Calcular el coeficiente binomial C(5, 2)\n",
        "n1 = 5  # Total de elementos\n",
        "k1 = 2  # Número de elementos a elegir\n",
        "\n",
        "coeficiente_binomial1 = comb(n1, k1)\n",
        "print(f\"De cuantas maneras se pueden escoger 2 obreros de 5 para realizar un trabajo = C({n1}, {k1}) = {coeficiente_binomial1}\")\n",
        "\n",
        "#**b**. ¿De cuantas maneras se puede organizar un equipo de baloncesto si todos pueden cumplir la misma función cuando se tienen 8 jugadores?.\n",
        "\n",
        "# Calcular el coeficiente binomial C(5, 2)\n",
        "n2 = 8  # Total de elementos\n",
        "k2 = 5  # Número de elementos a elegir\n",
        "\n",
        "coeficiente_binomial2 = comb(n2, k2)\n",
        "print(f\"De cuantas maneras se puede organizar un equipo de baloncesto = C({n2}, {k2}) = {coeficiente_binomial2}\")\n",
        "\n"
      ],
      "metadata": {
        "colab": {
          "base_uri": "https://localhost:8080/"
        },
        "id": "ijIiajLSmg8a",
        "outputId": "338992b8-26ab-4cc4-ffb5-7026bbd58dc0"
      },
      "execution_count": 2,
      "outputs": [
        {
          "output_type": "stream",
          "name": "stdout",
          "text": [
            "De cuantas maneras se pueden escoger 2 obreros de 5 para realizar un trabajo = C(5, 2) = 10.0\n",
            "De cuantas maneras se puede organizar un equipo de baloncesto = C(8, 5) = 56.0\n"
          ]
        }
      ]
    },
    {
      "cell_type": "code",
      "source": [
        "import math\n",
        "#*a**. De cuantas maneras se pueden escoger 2 obreros de 5 para realizar un trabajo.\n",
        "# Calcular el coeficiente binomial C(5, 2)\n",
        "n1 = 5  # Total de elementos\n",
        "k1 = 2  # Número de elementos a elegir\n",
        "\n",
        "coeficiente_binomial1 = math.comb(n1, k1)\n",
        "print(f\"De cuantas maneras se pueden escoger 2 obreros de 5 para realizar un trabajo = C({n1}, {k1}) = {coeficiente_binomial1}\")\n",
        "\n",
        "#**b**. ¿De cuantas maneras se puede organizar un equipo de baloncesto si todos pueden cumplir la misma función cuando se tienen 8 jugadores?.\n",
        "\n",
        "# Calcular el coeficiente binomial C(5, 2)\n",
        "n2 = 8  # Total de elementos\n",
        "k2 = 5  # Número de elementos a elegir\n",
        "\n",
        "coeficiente_binomial2 = math.comb(n2, k2)\n",
        "print(f\"De cuantas maneras se puede organizar un equipo de baloncesto = C({n2}, {k2}) = {coeficiente_binomial2}\")\n",
        "\n"
      ],
      "metadata": {
        "id": "X1wExWjqv65j",
        "colab": {
          "base_uri": "https://localhost:8080/"
        },
        "outputId": "80a06977-1846-44a6-8200-86fd71148f49"
      },
      "execution_count": 3,
      "outputs": [
        {
          "output_type": "stream",
          "name": "stdout",
          "text": [
            "De cuantas maneras se pueden escoger 2 obreros de 5 para realizar un trabajo = C(5, 2) = 10\n",
            "De cuantas maneras se puede organizar un equipo de baloncesto = C(8, 5) = 56\n"
          ]
        }
      ]
    },
    {
      "cell_type": "markdown",
      "source": [
        "\n",
        "\n",
        "## **154.3 Combinaciones de cadenas**\n",
        "\n",
        "### **$\\bullet$** **El Tecnico de la selección colombia quiere jugar con tres delanteros\"Diaz\", \"Borja\", \"Sinisterra\", \"Borre\", \"Falcao\", Cual puede ser la alineación**"
      ],
      "metadata": {
        "id": "eD67L8OqqCeW"
      }
    },
    {
      "cell_type": "code",
      "source": [
        "from itertools import combinations\n",
        "\n",
        "# Lista de nombres de los delanteros\n",
        "delanteros = [\"Diaz\", \"Borja\", \"Sinisterra\", \"Borre\", \"Falcao\"]\n",
        "\n",
        "# Generar todas las combinaciones de 3 delanteros\n",
        "combinaciones_delanteros = list(combinations(delanteros, 3))\n",
        "\n",
        "# Imprimir las alineaciones posibles\n",
        "for alineacion in combinaciones_delanteros:\n",
        "    print(\"Alineación:\", \", \".join(alineacion))\n"
      ],
      "metadata": {
        "colab": {
          "base_uri": "https://localhost:8080/"
        },
        "id": "CNuL0-UapgAs",
        "outputId": "0da346db-c224-4aa5-85a3-f0b596c5fbcb"
      },
      "execution_count": 4,
      "outputs": [
        {
          "output_type": "stream",
          "name": "stdout",
          "text": [
            "Alineación: Diaz, Borja, Sinisterra\n",
            "Alineación: Diaz, Borja, Borre\n",
            "Alineación: Diaz, Borja, Falcao\n",
            "Alineación: Diaz, Sinisterra, Borre\n",
            "Alineación: Diaz, Sinisterra, Falcao\n",
            "Alineación: Diaz, Borre, Falcao\n",
            "Alineación: Borja, Sinisterra, Borre\n",
            "Alineación: Borja, Sinisterra, Falcao\n",
            "Alineación: Borja, Borre, Falcao\n",
            "Alineación: Sinisterra, Borre, Falcao\n"
          ]
        }
      ]
    },
    {
      "cell_type": "markdown",
      "source": [
        "\n",
        "# **154.4 La Distribución de Bernoulli.**\n",
        "### **$\\bullet$** **Definición**.  Si $X$ es una variable aleatoria discreta que mide el *número de éxitos* y se realiza un único experimento con dos posibles resultados denominados *éxito* y *fracaso*, se dice que la variable aleatoria $X$ se distribuye como una *Bernoulli* de parámetro  $p$ con {\\displaystyle 0<p<1} y escribimos $$ X\\sim \\operatorname {Bernoulli} (p)$$\n",
        "\n",
        "### **$\\bullet$** **Función de Probabilidad**. Su función de probabilidad es\n",
        "\n",
        "$${\\displaystyle \\operatorname {P} [X=x]=p^{x}(1-p)^{1-x}\\qquad x=0,1}$$\n",
        "lo anterior es equivalente a escribir\n",
        "\n",
        "$${\\displaystyle \\operatorname {P} [X=x]={\\begin{cases}1-p&{\\mbox{si }}x=0\\\\p&{\\mbox{si }}x=1\\end{cases}}}{\\displaystyle \\operatorname {P} [X=x]={\\begin{cases}1-p&{\\mbox{si }}x=0\\\\p&{\\mbox{si }}x=1\\end{cases}}}$$\n",
        "\n",
        "\n",
        "\n",
        "### **$\\bullet$** **Ejemplo.** Sea $X$ = # de aciertos en el lanzamiento de una bala. En forma de Tabla:\n",
        "\n",
        "|$\\{X =x\\}$|0|1|\n",
        "|:-:|:-:|:-:|\n",
        "|$f(x)=P\\{X=x\\}$|$0.7$|$0.3$|\n",
        "\n",
        "\n"
      ],
      "metadata": {
        "id": "u_Yx9ks7r92Z"
      }
    },
    {
      "cell_type": "code",
      "source": [
        "import numpy as np\n",
        "import matplotlib.pyplot as plt\n",
        "from scipy.stats import bernoulli\n",
        "\n",
        "# Probabilidad de éxito (p)\n",
        "p = 0.3\n",
        "\n",
        "# Valores posibles (0 para fracaso, 1 para éxito)\n",
        "valores = [0, 1]\n",
        "\n",
        "# Calcula la función de probabilidad\n",
        "probabilidades = [bernoulli.pmf(x, p) for x in valores]\n",
        "\n",
        "# Crear un gráfico de barras para la distribución de probabilidad\n",
        "plt.bar(valores, probabilidades, tick_label=valores)\n",
        "plt.xlabel('Resultado')\n",
        "plt.ylabel('Probabilidad')\n",
        "plt.title('Distribución de Bernoulli (p=0.3)')\n",
        "plt.xticks(valores)\n",
        "plt.grid(True)\n",
        "\n",
        "# Mostrar el gráfico\n",
        "plt.show()\n"
      ],
      "metadata": {
        "colab": {
          "base_uri": "https://localhost:8080/",
          "height": 472
        },
        "id": "irTF7xq8rzal",
        "outputId": "01f08838-1382-4e53-fd28-6993afb456f9"
      },
      "execution_count": 5,
      "outputs": [
        {
          "output_type": "display_data",
          "data": {
            "text/plain": [
              "<Figure size 640x480 with 1 Axes>"
            ],
            "image/png": "[encoded data removed]"
          },
          "metadata": {}
        }
      ]
    },
    {
      "cell_type": "markdown",
      "metadata": {
        "id": "GWRm4yATQGl4"
      },
      "source": [
        "\n",
        "\n",
        "# **155. Modelos Probabilísticos Discretos -La Distribución Binomial**\n",
        "## **a. La Defincición**\n",
        "+ Una variable aleatoria discreta $X$ sigue una distribución Binomial de parámetros $n$ y $p$, lo cual denotamos por $$X∼B(n,p)$$ si tiene funcion FMP dada por la formula:\n",
        "$$ P(X=x)= f(x,p) = \\begin{pmatrix} n \\\\ x \\end{pmatrix}p^x(1-p)^{(n-x)},  x=0, 1, 2, ..., n$$\n",
        "+ Donde $$\\begin{pmatrix} n \\\\ x \\end{pmatrix}=\\frac{n!}{x!(n-x)!}$$\n",
        "\n"
      ]
    },
    {
      "cell_type": "markdown",
      "source": [
        "\n",
        "## **b. Valor Esperado y Varianza de una variable aleatoria discreta de Binomial**\n",
        "\n",
        "+ **Valor Esperado** $$E(X)=\\mu=\\sum_{x=o}^{n}x\\begin{pmatrix} n \\\\ x \\end{pmatrix}p^x(1-p)^{(n-x)}$$\n",
        "+ Dado que\n",
        "$$\\begin{pmatrix} n \\\\ x \\end{pmatrix}=\\frac{n!}{x!(n-x)!} \\ \\\n",
        "=\\frac{n}{x}\\frac{(n-1)!}{(x-1)![(n-1)-(x-1)]!} \\ \\\n",
        "=\\frac{n}{x}\\begin{pmatrix} n-1 \\\\ x-1 \\end{pmatrix}, \\ \\ para \\ \\ x\\geq 1$$\n",
        "\n",
        "+ Se tiene que\n",
        "$$E(X)=\\mu=\\sum_{x=1}^{n} x{\\frac{n}{x}\\begin{pmatrix} n-1 \\\\ x-1 \\end{pmatrix}p^x(1-p)^{(n-x)}}$$\n",
        "\n",
        "$$E(X)=\\mu=n\\sum_{x=1}^{n} {\\begin{pmatrix} n-1 \\\\ x-1 \\end{pmatrix}p^x(1-p)^{(n-x)}}$$\n",
        "+ Haciendo el cambio $k=x-1$\n",
        "\n",
        "$$E(X)=\\mu=n\\sum_{x=0}^{n-1} {\\begin{pmatrix} n-1 \\\\ k \\end{pmatrix}p^{k+1}(1-p)^{(n-(k+1))}}$$\n",
        "\n",
        "+ **Reorganizando**\n",
        "\n",
        "$$E(X)=\\mu=np\\sum_{x=0}^{n-1} {\\begin{pmatrix} n-1 \\\\ k \\end{pmatrix}p^{k}(1-p)^{((n-1)-k))}} = np(1)=np$$\n"
      ],
      "metadata": {
        "id": "N2SpJXwN7UOR"
      }
    },
    {
      "cell_type": "markdown",
      "source": [
        "\n",
        "## **c. Varianza** $$V(X)=E(X-μ)^2=σ^2=E(X^2)- {\\mu}^2$$\n",
        "\n",
        "\n",
        "$$E(X^2)=\\sum_{x=o}^{n}x^2\\begin{pmatrix} n \\\\ x \\end{pmatrix}p^x(1-p)^{(n-x)} \\ \\ =\\sum_{x=o}^{n}[x(x-1)+x]\\begin{pmatrix} n \\\\ x \\end{pmatrix}p^x(1-p)^{(n-x)} $$\n",
        "\n",
        "$$E(X^2)=\\sum_{x=o}^{n}[x(x-1)]\\begin{pmatrix} n \\\\ x \\end{pmatrix}p^x(1-p)^{(n-x)} +\\sum_{x=o}^{n}[x]\\begin{pmatrix} n \\\\ x \\end{pmatrix}p^x(1-p)^{(n-x)}$$\n",
        "\n",
        "$$E(X^2)=\\sum_{x=o}^{n}[x(x-1)]\\begin{pmatrix} n \\\\ x \\end{pmatrix}p^x(1-p)^{(n-x)} +np$$\n",
        "\n",
        "\n",
        "+ Dado que\n",
        "$$\\begin{pmatrix} n \\\\ x \\end{pmatrix}=\\frac{n!}{x!(n-x)!} \\ \\\n",
        "=\\frac{n(n-1)}{x(x-1)}\\frac{(n-2)!}{(x-2)![(n-2)-(x-2)]!} \\ \\\n",
        "=\\frac{n(n-1)}{x(x-1)}\\begin{pmatrix} n-2 \\\\ x-2 \\end{pmatrix}, \\ \\ para \\ \\ x\\geq 2$$\n",
        "\n",
        "+ **Se tiene que**\n",
        "$$E(X^2)=\\sum_{x=o}^{n}[x(x-1)][\\frac{n(n-1)}{x(x-1)}\\begin{pmatrix} n-2 \\\\ x-2 \\end{pmatrix}]p^x(1-p)^{(n-x)} +np$$\n",
        "\n",
        "$$E(X^2)=\\sum_{x=2}^{n} n(n-1)[\\begin{pmatrix} n-2 \\\\ x-2 \\end{pmatrix}]p^x(1-p)^{(n-x)} +np$$\n",
        "\n",
        "$$E(X^2)=n(n-1)p^2\\sum_{x=2}^{n} [\\begin{pmatrix} n-2 \\\\ x-2 \\end{pmatrix}]p^{x-2}(1-p)^{((n-2)-(x-2)} +np$$\n",
        "\n",
        "+ **Reorganizando**. Haciendo el cambio $k=x-2$\n",
        "\n",
        "$$E(X^2)=n(n-1)p^2\\sum_{x=0}^{n-2} [\\begin{pmatrix} n-2 \\\\ k \\end{pmatrix}]p^k(1-p)^{((n-2)-k} +np$$\n",
        "\n",
        "$$E(X^2)=n(n-1)p^2(1) +np$$\n",
        "\n",
        "\n",
        "+ **Varianza** $$V(X)=E(X-μ)^2=σ^2=E(X^2)- {\\mu}^2 =[n(n-1)p^2 +np] -[np]^2 \\\\ = [-np^2 +np]=np(1-p)^2$$\n"
      ],
      "metadata": {
        "id": "33GXjK9i7Yis"
      }
    },
    {
      "cell_type": "markdown",
      "source": [
        "\n",
        "## **d. Función de Distribución Acumulada (FDA)** La función de Distribución acumulada para una variable $$X∼B(n,p)$$ viene dada por\n",
        "\n",
        "$$F(x)=P[X\\leq x]= \\sum_{k=o}^{x}\\begin{pmatrix} n \\\\ k \\end{pmatrix}p^k(1-p)^{(n-k)}$$\n",
        "## **e. Otras Propiedades**\n",
        "\n",
        "+ **Función Generadora de Momentos** $$M_X(t)=E(e^{tX})=(1-p+pe^t)^n$$\n",
        " $$M_X(t)=E(e^{tX})=\\sum_{x=o}^{n}e^{tx}\\begin{pmatrix} n \\\\ x \\end{pmatrix}p^x(1-p)^{(n-x)}$$\n",
        " $$M_X(t)=E(e^{tX})=\\sum_{x=o}^{n}\\begin{pmatrix} n \\\\ x \\end{pmatrix}{(pe^t)}^x(1-p)^{(n-x)} \\ \\\n",
        " =(1-p+pe^t)^n$$\n",
        "\n",
        "+ **Función Generadora de Probabilidad** $$G_X(t)=E(t^X)=(1-p+pt)^n$$\n",
        "\n",
        "$$G_X(t)=E(t^{X})=\\sum_{x=o}^{n}t^{x}\\begin{pmatrix} n \\\\ x \\end{pmatrix}p^x(1-p)^{(n-x)}$$\n",
        " $$G_X(t)=E(t^{X})=\\sum_{x=o}^{n}\\begin{pmatrix} n \\\\ x \\end{pmatrix}{(pt)}^x(1-p)^{(n-x)} \\ \\\n",
        " =(1-p+pt)^n$$\n",
        "\n",
        "+ **Función característica** $$\\Phi_X(t)=E(e^{itX})=(1-p+pe^{it})^n$$"
      ],
      "metadata": {
        "id": "cdRVX7F47bHM"
      }
    },
    {
      "cell_type": "markdown",
      "source": [
        "# **156. Ejercicio Binomial - Problema 1**\n",
        "## **Problema**. _La probabilidad de que un paciente se recupere de una rara enfermedad sanguínea es de 0.8. Si se sabe que 25 personas contrajeron la enfermedad:\n",
        "+ **a. Construya el gráfico de la Distribución binomial dada**\n",
        "+ **b. Calcule la PMF y la FDA para $X∼B(n=25,p=0.8)$**\n",
        "+ **c. Valores críticos. Si se conoce que el 60 porciento de ellos se recuperaron a cuantos pacientes corresponde**\n",
        "+ **d. Suponga que se tienen 3 grupos 50 de pacientes con tres distintas enfermedaes y cuyas probabilidades de recuperarse son respectivamente $0.25,\\ 0.5 \\ y \\ 0.75$ Construya en un solo cuadro las distribuciones que representan al número de pacientes qe se recuperan**\n",
        "+ **e. Construya el histograma para la distribución binomial del caso $p=0.25$**\n",
        "+ **f.¿cuál es la probabilidad de que sobrevivan al menos 15 pacientes**\n",
        "+ **g. ¿cuál es la probabilidad de que sobrevivan de 13 a 18**\n",
        "+ **h. ¿cuál es la probabilidad de que sobrevivan exactamente 15?**\n",
        "+ **i. El numero esperado de pacientes que se recuperan**\n",
        "+ **j. La Varianza de la variable aleatoria**\n",
        "+ **k. Función Generadora de Momentos** $$M_X(t)=E(e^{tX})=(1-p+pe^t)^n$$\n",
        "\n",
        "+ **l. Función Generadora de Probabilidad** $$G_X(t)=E(t^X)=(1-p+pt)^n$$\n",
        "\n",
        "+ **m. Función característica** $$\\Phi_X(t)=E(e^{itX})=(1-p+pe^{it})^n$$"
      ],
      "metadata": {
        "id": "EzxZOp2OrJ1i"
      }
    },
    {
      "cell_type": "markdown",
      "metadata": {
        "id": "6tyqMcgEVlI7"
      },
      "source": [
        "# **a. Graficando la Distribución Binomial**"
      ]
    },
    {
      "cell_type": "code",
      "execution_count": null,
      "metadata": {
        "colab": {
          "base_uri": "https://localhost:8080/",
          "height": 564
        },
        "id": "uYUXszh78NAN",
        "outputId": "8f37d3a2-8692-4a8f-9a7b-825684a7d885"
      },
      "outputs": [
        {
          "data": {
            "image/png": "[encoded data removed]",
            "text/plain": [
              "<Figure size 1000x600 with 1 Axes>"
            ]
          },
          "metadata": {},
          "output_type": "display_data"
        }
      ],
      "source": [
        "# **a. Graficando la Distribución Binomial**\n",
        "plt.figure(figsize=(10, 6))\n",
        "n, p = 25, 0.8 # parametros de forma\n",
        "binomial = stats.binom(n, p) # Distribución\n",
        "x = np.arange(binomial.ppf(0.01),\n",
        "              binomial.ppf(0.99))\n",
        "fmp = binomial.pmf(x) # Función de Masa de Probabilidad\n",
        "plt.plot(x, fmp, 'b')\n",
        "plt.vlines(x, 0, fmp, colors='r', lw=5, alpha=0.5)\n",
        "plt.title('Distribución Binomial')\n",
        "plt.ylabel('probabilidad')\n",
        "plt.xlabel('valores')\n",
        "plt.show()"
      ]
    },
    {
      "cell_type": "markdown",
      "metadata": {
        "id": "KGN2bNXvRLvu"
      },
      "source": [
        "# **b. Calculando la PMF y la FDA para X = binom(25,0.8)**"
      ]
    },
    {
      "cell_type": "code",
      "execution_count": null,
      "metadata": {
        "colab": {
          "base_uri": "https://localhost:8080/",
          "height": 864
        },
        "id": "WLHtoQNPQBFM",
        "outputId": "1c4c2882-c1ec-4208-e489-67ed161c4f9a"
      },
      "outputs": [
        {
          "output_type": "execute_result",
          "data": {
            "text/plain": [
              "     i      P{X = i}  Acumulada_izq F(i)  Acumulada_der F(i)\n",
              "0    0  3.355443e-18        3.355443e-18            1.000000\n",
              "1    1  3.355443e-16        3.388998e-16            1.000000\n",
              "2    2  1.610613e-14        1.644503e-14            1.000000\n",
              "3    3  4.939212e-13        5.103663e-13            1.000000\n",
              "4    4  1.086627e-11        1.137663e-11            1.000000\n",
              "5    5  1.825533e-10        1.939299e-10            1.000000\n",
              "6    6  2.434044e-09        2.627974e-09            1.000000\n",
              "7    7  2.642676e-08        2.905474e-08            1.000000\n",
              "8    8  2.378409e-07        2.668956e-07            1.000000\n",
              "9    9  1.797020e-06        2.063915e-06            0.999998\n",
              "10  10  1.150093e-05        1.356484e-05            0.999986\n",
              "11  11  6.273233e-05        7.629717e-05            0.999924\n",
              "12  12  2.927509e-04        3.690480e-04            0.999631\n",
              "13  13  1.171003e-03        1.540051e-03            0.998460\n",
              "14  14  4.014869e-03        5.554920e-03            0.994445\n",
              "15  15  1.177695e-02        1.733187e-02            0.982668\n",
              "16  16  2.944237e-02        4.677424e-02            0.953226\n",
              "17  17  6.234855e-02        1.091228e-01            0.890877\n",
              "18  18  1.108419e-01        2.199647e-01            0.780035\n",
              "19  19  1.633459e-01        3.833106e-01            0.616689\n",
              "20  20  1.960151e-01        5.793257e-01            0.420674\n",
              "21  21  1.866811e-01        7.660067e-01            0.233993\n",
              "22  22  1.357680e-01        9.017748e-01            0.098225\n",
              "23  23  7.083550e-02        9.726103e-01            0.027390\n",
              "24  24  2.361183e-02        9.962221e-01            0.003778\n",
              "25  25  3.777893e-03        1.000000e+00            0.000000"
            ],
            "text/html": [
              "\n",
              "  <div id=\"df-86d1293b-1987-431a-8bd7-047c683a2a0b\">\n",
              "    <div class=\"colab-df-container\">\n",
              "      <div>\n",
              "<style scoped>\n",
              "    .dataframe tbody tr th:only-of-type {\n",
              "        vertical-align: middle;\n",
              "    }\n",
              "\n",
              "    .dataframe tbody tr th {\n",
              "        vertical-align: top;\n",
              "    }\n",
              "\n",
              "    .dataframe thead th {\n",
              "        text-align: right;\n",
              "    }\n",
              "</style>\n",
              "<table border=\"1\" class=\"dataframe\">\n",
              "  <thead>\n",
              "    <tr style=\"text-align: right;\">\n",
              "      <th></th>\n",
              "      <th>i</th>\n",
              "      <th>P{X = i}</th>\n",
              "      <th>Acumulada_izq F(i)</th>\n",
              "      <th>Acumulada_der F(i)</th>\n",
              "    </tr>\n",
              "  </thead>\n",
              "  <tbody>\n",
              "    <tr>\n",
              "      <th>0</th>\n",
              "      <td>0</td>\n",
              "      <td>3.355443e-18</td>\n",
              "      <td>3.355443e-18</td>\n",
              "      <td>1.000000</td>\n",
              "    </tr>\n",
              "    <tr>\n",
              "      <th>1</th>\n",
              "      <td>1</td>\n",
              "      <td>3.355443e-16</td>\n",
              "      <td>3.388998e-16</td>\n",
              "      <td>1.000000</td>\n",
              "    </tr>\n",
              "    <tr>\n",
              "      <th>2</th>\n",
              "      <td>2</td>\n",
              "      <td>1.610613e-14</td>\n",
              "      <td>1.644503e-14</td>\n",
              "      <td>1.000000</td>\n",
              "    </tr>\n",
              "    <tr>\n",
              "      <th>3</th>\n",
              "      <td>3</td>\n",
              "      <td>4.939212e-13</td>\n",
              "      <td>5.103663e-13</td>\n",
              "      <td>1.000000</td>\n",
              "    </tr>\n",
              "    <tr>\n",
              "      <th>4</th>\n",
              "      <td>4</td>\n",
              "      <td>1.086627e-11</td>\n",
              "      <td>1.137663e-11</td>\n",
              "      <td>1.000000</td>\n",
              "    </tr>\n",
              "    <tr>\n",
              "      <th>5</th>\n",
              "      <td>5</td>\n",
              "      <td>1.825533e-10</td>\n",
              "      <td>1.939299e-10</td>\n",
              "      <td>1.000000</td>\n",
              "    </tr>\n",
              "    <tr>\n",
              "      <th>6</th>\n",
              "      <td>6</td>\n",
              "      <td>2.434044e-09</td>\n",
              "      <td>2.627974e-09</td>\n",
              "      <td>1.000000</td>\n",
              "    </tr>\n",
              "    <tr>\n",
              "      <th>7</th>\n",
              "      <td>7</td>\n",
              "      <td>2.642676e-08</td>\n",
              "      <td>2.905474e-08</td>\n",
              "      <td>1.000000</td>\n",
              "    </tr>\n",
              "    <tr>\n",
              "      <th>8</th>\n",
              "      <td>8</td>\n",
              "      <td>2.378409e-07</td>\n",
              "      <td>2.668956e-07</td>\n",
              "      <td>1.000000</td>\n",
              "    </tr>\n",
              "    <tr>\n",
              "      <th>9</th>\n",
              "      <td>9</td>\n",
              "      <td>1.797020e-06</td>\n",
              "      <td>2.063915e-06</td>\n",
              "      <td>0.999998</td>\n",
              "    </tr>\n",
              "    <tr>\n",
              "      <th>10</th>\n",
              "      <td>10</td>\n",
              "      <td>1.150093e-05</td>\n",
              "      <td>1.356484e-05</td>\n",
              "      <td>0.999986</td>\n",
              "    </tr>\n",
              "    <tr>\n",
              "      <th>11</th>\n",
              "      <td>11</td>\n",
              "      <td>6.273233e-05</td>\n",
              "      <td>7.629717e-05</td>\n",
              "      <td>0.999924</td>\n",
              "    </tr>\n",
              "    <tr>\n",
              "      <th>12</th>\n",
              "      <td>12</td>\n",
              "      <td>2.927509e-04</td>\n",
              "      <td>3.690480e-04</td>\n",
              "      <td>0.999631</td>\n",
              "    </tr>\n",
              "    <tr>\n",
              "      <th>13</th>\n",
              "      <td>13</td>\n",
              "      <td>1.171003e-03</td>\n",
              "      <td>1.540051e-03</td>\n",
              "      <td>0.998460</td>\n",
              "    </tr>\n",
              "    <tr>\n",
              "      <th>14</th>\n",
              "      <td>14</td>\n",
              "      <td>4.014869e-03</td>\n",
              "      <td>5.554920e-03</td>\n",
              "      <td>0.994445</td>\n",
              "    </tr>\n",
              "    <tr>\n",
              "      <th>15</th>\n",
              "      <td>15</td>\n",
              "      <td>1.177695e-02</td>\n",
              "      <td>1.733187e-02</td>\n",
              "      <td>0.982668</td>\n",
              "    </tr>\n",
              "    <tr>\n",
              "      <th>16</th>\n",
              "      <td>16</td>\n",
              "      <td>2.944237e-02</td>\n",
              "      <td>4.677424e-02</td>\n",
              "      <td>0.953226</td>\n",
              "    </tr>\n",
              "    <tr>\n",
              "      <th>17</th>\n",
              "      <td>17</td>\n",
              "      <td>6.234855e-02</td>\n",
              "      <td>1.091228e-01</td>\n",
              "      <td>0.890877</td>\n",
              "    </tr>\n",
              "    <tr>\n",
              "      <th>18</th>\n",
              "      <td>18</td>\n",
              "      <td>1.108419e-01</td>\n",
              "      <td>2.199647e-01</td>\n",
              "      <td>0.780035</td>\n",
              "    </tr>\n",
              "    <tr>\n",
              "      <th>19</th>\n",
              "      <td>19</td>\n",
              "      <td>1.633459e-01</td>\n",
              "      <td>3.833106e-01</td>\n",
              "      <td>0.616689</td>\n",
              "    </tr>\n",
              "    <tr>\n",
              "      <th>20</th>\n",
              "      <td>20</td>\n",
              "      <td>1.960151e-01</td>\n",
              "      <td>5.793257e-01</td>\n",
              "      <td>0.420674</td>\n",
              "    </tr>\n",
              "    <tr>\n",
              "      <th>21</th>\n",
              "      <td>21</td>\n",
              "      <td>1.866811e-01</td>\n",
              "      <td>7.660067e-01</td>\n",
              "      <td>0.233993</td>\n",
              "    </tr>\n",
              "    <tr>\n",
              "      <th>22</th>\n",
              "      <td>22</td>\n",
              "      <td>1.357680e-01</td>\n",
              "      <td>9.017748e-01</td>\n",
              "      <td>0.098225</td>\n",
              "    </tr>\n",
              "    <tr>\n",
              "      <th>23</th>\n",
              "      <td>23</td>\n",
              "      <td>7.083550e-02</td>\n",
              "      <td>9.726103e-01</td>\n",
              "      <td>0.027390</td>\n",
              "    </tr>\n",
              "    <tr>\n",
              "      <th>24</th>\n",
              "      <td>24</td>\n",
              "      <td>2.361183e-02</td>\n",
              "      <td>9.962221e-01</td>\n",
              "      <td>0.003778</td>\n",
              "    </tr>\n",
              "    <tr>\n",
              "      <th>25</th>\n",
              "      <td>25</td>\n",
              "      <td>3.777893e-03</td>\n",
              "      <td>1.000000e+00</td>\n",
              "      <td>0.000000</td>\n",
              "    </tr>\n",
              "  </tbody>\n",
              "</table>\n",
              "</div>\n",
              "      <button class=\"colab-df-convert\" onclick=\"convertToInteractive('df-86d1293b-1987-431a-8bd7-047c683a2a0b')\"\n",
              "              title=\"Convert this dataframe to an interactive table.\"\n",
              "              style=\"display:none;\">\n",
              "        \n",
              "  <svg xmlns=\"http://www.w3.org/2000/svg\" height=\"24px\"viewBox=\"0 0 24 24\"\n",
              "       width=\"24px\">\n",
              "    <path d=\"M0 0h24v24H0V0z\" fill=\"none\"/>\n",
              "    <path d=\"M18.56 5.44l.94 2.06.94-2.06 2.06-.94-2.06-.94-.94-2.06-.94 2.06-2.06.94zm-11 1L8.5 8.5l.94-2.06 2.06-.94-2.06-.94L8.5 2.5l-.94 2.06-2.06.94zm10 10l.94 2.06.94-2.06 2.06-.94-2.06-.94-.94-2.06-.94 2.06-2.06.94z\"/><path d=\"M17.41 7.96l-1.37-1.37c-.4-.4-.92-.59-1.43-.59-.52 0-1.04.2-1.43.59L10.3 9.45l-7.72 7.72c-.78.78-.78 2.05 0 2.83L4 21.41c.39.39.9.59 1.41.59.51 0 1.02-.2 1.41-.59l7.78-7.78 2.81-2.81c.8-.78.8-2.07 0-2.86zM5.41 20L4 18.59l7.72-7.72 1.47 1.35L5.41 20z\"/>\n",
              "  </svg>\n",
              "      </button>\n",
              "      \n",
              "  <style>\n",
              "    .colab-df-container {\n",
              "      display:flex;\n",
              "      flex-wrap:wrap;\n",
              "      gap: 12px;\n",
              "    }\n",
              "\n",
              "    .colab-df-convert {\n",
              "      background-color: #E8F0FE;\n",
              "      border: none;\n",
              "      border-radius: 50%;\n",
              "      cursor: pointer;\n",
              "      display: none;\n",
              "      fill: #1967D2;\n",
              "      height: 32px;\n",
              "      padding: 0 0 0 0;\n",
              "      width: 32px;\n",
              "    }\n",
              "\n",
              "    .colab-df-convert:hover {\n",
              "      background-color: #E2EBFA;\n",
              "      box-shadow: 0px 1px 2px rgba(60, 64, 67, 0.3), 0px 1px 3px 1px rgba(60, 64, 67, 0.15);\n",
              "      fill: #174EA6;\n",
              "    }\n",
              "\n",
              "    [theme=dark] .colab-df-convert {\n",
              "      background-color: #3B4455;\n",
              "      fill: #D2E3FC;\n",
              "    }\n",
              "\n",
              "    [theme=dark] .colab-df-convert:hover {\n",
              "      background-color: #434B5C;\n",
              "      box-shadow: 0px 1px 3px 1px rgba(0, 0, 0, 0.15);\n",
              "      filter: drop-shadow(0px 1px 2px rgba(0, 0, 0, 0.3));\n",
              "      fill: #FFFFFF;\n",
              "    }\n",
              "  </style>\n",
              "\n",
              "      <script>\n",
              "        const buttonEl =\n",
              "          document.querySelector('#df-86d1293b-1987-431a-8bd7-047c683a2a0b button.colab-df-convert');\n",
              "        buttonEl.style.display =\n",
              "          google.colab.kernel.accessAllowed ? 'block' : 'none';\n",
              "\n",
              "        async function convertToInteractive(key) {\n",
              "          const element = document.querySelector('#df-86d1293b-1987-431a-8bd7-047c683a2a0b');\n",
              "          const dataTable =\n",
              "            await google.colab.kernel.invokeFunction('convertToInteractive',\n",
              "                                                     [key], {});\n",
              "          if (!dataTable) return;\n",
              "\n",
              "          const docLinkHtml = 'Like what you see? Visit the ' +\n",
              "            '<a target=\"_blank\" href=https://colab.research.google.com/notebooks/data_table.ipynb>data table notebook</a>'\n",
              "            + ' to learn more about interactive tables.';\n",
              "          element.innerHTML = '';\n",
              "          dataTable['output_type'] = 'display_data';\n",
              "          await google.colab.output.renderOutput(dataTable, element);\n",
              "          const docLink = document.createElement('div');\n",
              "          docLink.innerHTML = docLinkHtml;\n",
              "          element.appendChild(docLink);\n",
              "        }\n",
              "      </script>\n",
              "    </div>\n",
              "  </div>\n",
              "  "
            ]
          },
          "metadata": {},
          "execution_count": 62
        }
      ],
      "source": [
        "# **b. Calculando la PMF y la FDA para X = binom(25,0.8)**\n",
        "x=list(range(0,26))\n",
        "rv=stats.binom(25,0.8)\n",
        "df=pd.DataFrame({'i':x,'P{X = i}':rv.pmf(x),'Acumulada_izq F(i)':rv.cdf(x),'Acumulada_der F(i)':1-rv.cdf(x),})\n",
        "df"
      ]
    },
    {
      "cell_type": "markdown",
      "metadata": {
        "id": "BxCMKd1UTDry"
      },
      "source": [
        "# **c. Valores críticos**"
      ]
    },
    {
      "cell_type": "code",
      "execution_count": null,
      "metadata": {
        "colab": {
          "base_uri": "https://localhost:8080/"
        },
        "id": "Jgm2NcANQBBn",
        "outputId": "60267a8b-6da2-41ab-fef1-d88a9477a6e0"
      },
      "outputs": [
        {
          "output_type": "execute_result",
          "data": {
            "text/plain": [
              "21.0"
            ]
          },
          "metadata": {},
          "execution_count": 51
        }
      ],
      "source": [
        "# **c. Valores críticos**\n",
        "stats.binom(25,0.8).ppf(0.6)"
      ]
    },
    {
      "cell_type": "markdown",
      "metadata": {
        "id": "vAMzjJDGaPIO"
      },
      "source": [
        "# **d. Comparaciones Distribución Binomial**"
      ]
    },
    {
      "cell_type": "code",
      "execution_count": null,
      "metadata": {
        "colab": {
          "base_uri": "https://localhost:8080/",
          "height": 472
        },
        "id": "yZ_UgQJZZrE8",
        "outputId": "3c6f04d5-5f75-42de-8f7a-e0142fb419f0"
      },
      "outputs": [
        {
          "data": {
            "image/png": "[encoded data removed]",
            "text/plain": [
              "<Figure size 640x480 with 1 Axes>"
            ]
          },
          "metadata": {},
          "output_type": "display_data"
        }
      ],
      "source": [
        "# **d. Comparaciones Distribución Binomial**\n",
        "x = np.linspace(0, 50, 51)\n",
        "distributions = pd.DataFrame({\n",
        "    'x': x,\n",
        "    'dist25': stats.binom(50, 0.25).pmf(x),\n",
        "    'dist50': stats.binom(50, 0.5).pmf(x),\n",
        "    'dist75': stats.binom(50, 0.75).pmf(x),\n",
        "})\n",
        "ax = distributions.plot(x='x', y='dist25', legend=False, color='r')\n",
        "distributions.plot(x='x', y='dist50', legend=False, ax=ax, color='b', linestyle='--')\n",
        "distributions.plot(x='x', y='dist75', legend=False, ax=ax, color='g', linestyle='-.')\n",
        "ax.set_ylim(0, 0.15)\n",
        "ax.text(8, 0.132, '$p=0.25$')\n",
        "ax.text(22, 0.12, '$p=0.5$')\n",
        "ax.text(35, 0.132, '$p=0.75$')\n",
        "plt.title('Función de Masa de Probabilidad Binomial')\n",
        "plt.ylabel('probabilidad')\n",
        "plt.xlabel('valores')\n",
        "plt.show()"
      ]
    },
    {
      "cell_type": "markdown",
      "source": [
        "# **e. Construya el histograma para la distribución binomial del caso $p=0.25$**"
      ],
      "metadata": {
        "id": "b9PK2ChwuTJL"
      }
    },
    {
      "cell_type": "code",
      "execution_count": null,
      "metadata": {
        "colab": {
          "base_uri": "https://localhost:8080/",
          "height": 472
        },
        "id": "UuY0fygmcQ61",
        "outputId": "a4b6b4b4-2194-46df-c97f-3190773874e0"
      },
      "outputs": [
        {
          "data": {
            "image/png": "[encoded data removed]",
            "text/plain": [
              "<Figure size 640x480 with 1 Axes>"
            ]
          },
          "metadata": {},
          "output_type": "display_data"
        }
      ],
      "source": [
        "\n",
        "# **e. Construya el histograma para la distribución binomial del caso $p=0.25$**\n",
        "aleatorios = stats.binom(50, 0.25).rvs(1000) # genera aleatorios\n",
        "cuenta, cajas, ignorar = plt.hist(aleatorios, 20)\n",
        "plt.ylabel('frequencia')\n",
        "plt.xlabel('valores')\n",
        "plt.title('Histograma Distribución Binomial ')\n",
        "plt.show()"
      ]
    },
    {
      "cell_type": "markdown",
      "source": [
        "#**f.¿cuál es la probabilidad de que sobrevivan al menos 15 pacientes**"
      ],
      "metadata": {
        "id": "8CWOc_7t1CC3"
      }
    },
    {
      "cell_type": "code",
      "source": [
        "#  **f.¿cuál es la probabilidad de que sobrevivan al menos 15 pacientes**\n",
        "rv=stats.binom(25,0.8)\n",
        "print('La probabilidad de que sobrevivan almenos 10 pacientes es ','P{X>=15} =',1-rv.cdf(14))"
      ],
      "metadata": {
        "colab": {
          "base_uri": "https://localhost:8080/"
        },
        "id": "BEibrrHNzZP3",
        "outputId": "002616ac-582c-4b8a-d94f-ac01decf04ca"
      },
      "execution_count": null,
      "outputs": [
        {
          "output_type": "stream",
          "name": "stdout",
          "text": [
            "La probabilidad de que sobrevivan almenos 10 pacientes es  P{X>=15} = 0.9944450795125251\n"
          ]
        }
      ]
    },
    {
      "cell_type": "markdown",
      "source": [
        "# **g. ¿cuál es la probabilidad de que sobrevivan de 13 a 18**\n",
        "+ **h. ¿cuál es la probabilidad de que sobrevivan exactamente 15?**"
      ],
      "metadata": {
        "id": "KSk0-M1-4znN"
      }
    },
    {
      "cell_type": "code",
      "source": [
        "#**g. ¿cuál es la probabilidad de que sobrevivan de 13 a 18**\n",
        "rv=stats.binom(25,0.8)\n",
        "print('La probabilidad de que sobrevivan entre 13 y 18 pacientes es:  ','P{13=<X<=18} =',rv.cdf(18)-rv.cdf(12),)"
      ],
      "metadata": {
        "colab": {
          "base_uri": "https://localhost:8080/"
        },
        "id": "qSCuJSAj1KAz",
        "outputId": "310629fa-ad75-4bb0-bf51-8035c05ee65d"
      },
      "execution_count": null,
      "outputs": [
        {
          "output_type": "stream",
          "name": "stdout",
          "text": [
            "La probabilidad de que sobrevivan entre 13 y 18 pacientes es:   P{13=<X<=18} = 0.21959562141337668\n"
          ]
        }
      ]
    },
    {
      "cell_type": "markdown",
      "source": [
        "# **h. ¿cuál es la probabilidad de que sobrevivan exactamente 15?**"
      ],
      "metadata": {
        "id": "XlRsGZbp68sw"
      }
    },
    {
      "cell_type": "code",
      "source": [
        "# **h. ¿cuál es la probabilidad de que sobrevivan exactamente 15?**\n",
        "rv=stats.binom(25,0.8)\n",
        "print('La probabilidad de que sobrevivan exactamente 15 es:  ','P{X=15} =',rv.pmf(15))"
      ],
      "metadata": {
        "colab": {
          "base_uri": "https://localhost:8080/"
        },
        "id": "rNy3mRWS5UgT",
        "outputId": "41cd87ee-4f8a-4ea6-942e-9003f7a72467"
      },
      "execution_count": null,
      "outputs": [
        {
          "output_type": "stream",
          "name": "stdout",
          "text": [
            "La probabilidad de que sobrevivan exactamente 15 es:   P{X=15} = 0.011776949054370874\n"
          ]
        }
      ]
    },
    {
      "cell_type": "markdown",
      "source": [
        "# **i. El numero esperado de pacientes que se recuperan**"
      ],
      "metadata": {
        "id": "shqr_tm38MZs"
      }
    },
    {
      "cell_type": "code",
      "source": [
        "# **i. El numero esperado de pacientes que se recuperan**\n",
        "stats.binom(25,0.8).mean()"
      ],
      "metadata": {
        "colab": {
          "base_uri": "https://localhost:8080/"
        },
        "id": "nNRgSRlnvHg3",
        "outputId": "c6942780-58ee-4d3a-b393-36a2ee64be58"
      },
      "execution_count": null,
      "outputs": [
        {
          "output_type": "execute_result",
          "data": {
            "text/plain": [
              "20.0"
            ]
          },
          "metadata": {},
          "execution_count": 71
        }
      ]
    },
    {
      "cell_type": "markdown",
      "source": [
        "# **j. La varianza de pacientes que se recuperan**"
      ],
      "metadata": {
        "id": "wKo7bXbe8RFU"
      }
    },
    {
      "cell_type": "code",
      "source": [
        "# **j. La varianza de pacientes que se recuperan**\n",
        "stats.binom(25,0.8).var()"
      ],
      "metadata": {
        "colab": {
          "base_uri": "https://localhost:8080/"
        },
        "id": "iCZMdV7Y7Jx2",
        "outputId": "e390db12-d78c-4fe3-fa27-51f8f617de2f"
      },
      "execution_count": null,
      "outputs": [
        {
          "output_type": "execute_result",
          "data": {
            "text/plain": [
              "3.999999999999999"
            ]
          },
          "metadata": {},
          "execution_count": 74
        }
      ]
    },
    {
      "cell_type": "markdown",
      "source": [
        "# **k. Grafique la Función Generadora de Momentos y la  Función Generadora de Probabilidad**\n",
        "+ **Función Generadora de Momentos** $$M_X(t)=E(e^{tX})=(1-p+pe^t)^n$$\n",
        "\n",
        "+ **Función Generadora de Probabilidad** $$G_X(t)=E(t^X)=(1-p+pt)^n$$"
      ],
      "metadata": {
        "id": "tl3tOBl99nlL"
      }
    },
    {
      "cell_type": "code",
      "source": [
        "# **k. Grafique la Función Generadora de Momentos y la  Función Generadora de Probabilidad**\n",
        "plt.figure(figsize=(25, 10))\n",
        "p = 0.5\n",
        "n = 5\n",
        "x=np.linspace(0,1,1000, dtype = \"float\")\n",
        "generadoras=pd.DataFrame({'x':x,'G_Momentos':(1-p+p*2.71**x)**n,'G_Probabilidad':(1-p+p*x)**n})\n",
        "ax=generadoras.plot(x='x',y='G_Momentos',color='r')\n",
        "generadoras.plot(x='x',y='G_Probabilidad',color='b',ls='--',ax=ax)\n",
        "\n",
        "ax.set_ylim(0, 10)\n",
        "ax.text(0.3,6,'G_Momentos')\n",
        "ax.text(0.5,0.5,'G_Probabilidad')\n",
        "\n",
        "ax.get_legend()\n",
        "plt.ylabel('observados en y')\n",
        "plt.xlabel('valores de x')\n",
        "plt.title('G_Momentos vs G_Probabilidad ')\n",
        "plt.show()"
      ],
      "metadata": {
        "colab": {
          "base_uri": "https://localhost:8080/",
          "height": 490
        },
        "id": "8YGjHMt1twor",
        "outputId": "66ded9a3-122b-436f-e3a7-15199e155ae5"
      },
      "execution_count": null,
      "outputs": [
        {
          "output_type": "display_data",
          "data": {
            "text/plain": [
              "<Figure size 2500x1000 with 0 Axes>"
            ]
          },
          "metadata": {}
        },
        {
          "output_type": "display_data",
          "data": {
            "text/plain": [
              "<Figure size 640x480 with 1 Axes>"
            ],
            "image/png": "[encoded data removed]"
          },
          "metadata": {}
        }
      ]
    },
    {
      "cell_type": "markdown",
      "source": [
        "# **157. Ejemplos usando Python**"
      ],
      "metadata": {
        "id": "nI6VBF9HtsSM"
      }
    },
    {
      "cell_type": "markdown",
      "source": [
        "### **$\\bullet$** **¿Cuál es la probabilidad de obtener 6 caras al lanzar una moneda 10 veces?**"
      ],
      "metadata": {
        "id": "gsNQMWvsuHfB"
      }
    },
    {
      "cell_type": "code",
      "source": [
        "# ¿Cuál es la probabilidad de obtener 6 caras al lanzar una moneda 10 veces?\n",
        "from scipy.stats import binom\n",
        "\n",
        "# Número de ensayos (lanzamientos de la moneda)\n",
        "n = 10\n",
        "\n",
        "# Probabilidad de éxito en un solo ensayo (obtener cara)\n",
        "p = 0.5\n",
        "\n",
        "# Número de éxitos deseados (obtener 6 caras)\n",
        "k = 6\n",
        "\n",
        "# Calcular la probabilidad\n",
        "probabilidad = binom.pmf(k, n, p)\n",
        "\n",
        "print(f\"La probabilidad de obtener 6 caras al lanzar una moneda 10 veces es: {probabilidad:.4f}\")\n"
      ],
      "metadata": {
        "colab": {
          "base_uri": "https://localhost:8080/"
        },
        "id": "zTgp4jb4tmru",
        "outputId": "d78afcc2-16c4-42f4-bac0-ed518a4241df"
      },
      "execution_count": 6,
      "outputs": [
        {
          "output_type": "stream",
          "name": "stdout",
          "text": [
            "La probabilidad de obtener 6 caras al lanzar una moneda 10 veces es: 0.2051\n"
          ]
        }
      ]
    },
    {
      "cell_type": "markdown",
      "source": [
        "### **$\\bullet$** **Ejemplo de Generacion de numeros aleatorios reproducibles con la Distribucion binomial**"
      ],
      "metadata": {
        "id": "H3KDikrjvVRY"
      }
    },
    {
      "cell_type": "code",
      "source": [
        "import numpy as np\n",
        "\n",
        "# Establecer una semilla para reproducibilidad\n",
        "np.random.seed(42)\n",
        "\n",
        "# Parámetros de la distribución binomial\n",
        "n = 10  # Número de ensayos (lanzamientos de la moneda)\n",
        "p = 0.3  # Probabilidad de éxito en un solo ensayo\n",
        "size = 25  # Cantidad de números aleatorios a generar\n",
        "\n",
        "# Generar números aleatorios con distribución binomial\n",
        "resultados = np.random.binomial(n, p, size)\n",
        "\n",
        "# Mostrar los resultados\n",
        "print(\"Números aleatorios generados con distribución binomial:\")\n",
        "print(resultados)\n"
      ],
      "metadata": {
        "colab": {
          "base_uri": "https://localhost:8080/"
        },
        "id": "oGbJHNiovIMo",
        "outputId": "762c6ad7-ab66-4a77-a6f3-c5592a0f56e2"
      },
      "execution_count": 10,
      "outputs": [
        {
          "output_type": "stream",
          "name": "stdout",
          "text": [
            "Números aleatorios generados con distribución binomial:\n",
            "[2 5 4 3 2 2 1 5 3 4 0 6 4 2 2 2 2 3 3 2 3 1 2 2 3]\n"
          ]
        }
      ]
    },
    {
      "cell_type": "markdown",
      "source": [
        "\n",
        "### **$\\bullet$** **Ejemplo 2**. Calculo de probabilidades para un vector con distribuciones discretas binomial.\n",
        "### **$\\bullet$** **Un tirador tiene un punteria de acertas 5 platos de cada 20 lanzados. En una apuesta con su mejor amigos a 20 lanzamientos de platos. Calcula la probabilidad de acertar *x=2, x=5, x=7, x=10* platos.**\n",
        "\n"
      ],
      "metadata": {
        "id": "l6AvD8YFwppv"
      }
    },
    {
      "cell_type": "code",
      "source": [
        "from scipy.stats import binom\n",
        "\n",
        "# Parámetros de la distribución binomial\n",
        "n = 20  # Número total de lanzamientos\n",
        "p = 0.25  # Probabilidad de éxito en un solo lanzamiento (acertar un plato)\n",
        "\n",
        "# Calcular la probabilidad de acertar 2 platos\n",
        "x1 = 2\n",
        "probabilidad_x1 = binom.pmf(x1, n, p)\n",
        "\n",
        "# Calcular la probabilidad de acertar 5 platos\n",
        "x2 = 5\n",
        "probabilidad_x2 = binom.pmf(x2, n, p)\n",
        "\n",
        "# Calcular la probabilidad de acertar 7 platos\n",
        "x3 = 7\n",
        "probabilidad_x3 = binom.pmf(x3, n, p)\n",
        "\n",
        "# Calcular la probabilidad de acertar 10 platos\n",
        "x4 = 10\n",
        "probabilidad_x4 = binom.pmf(x4, n, p)\n",
        "\n",
        "# Mostrar los resultados\n",
        "print(f\"Probabilidad de acertar 2 platos: {probabilidad_x1:.4f}\")\n",
        "print(f\"Probabilidad de acertar 5 platos: {probabilidad_x2:.4f}\")\n",
        "print(f\"Probabilidad de acertar 7 platos: {probabilidad_x3:.4f}\")\n",
        "print(f\"Probabilidad de acertar 10 platos: {probabilidad_x4:.4f}\")\n"
      ],
      "metadata": {
        "colab": {
          "base_uri": "https://localhost:8080/"
        },
        "id": "LuniBPKKwJk-",
        "outputId": "895f09ae-d75d-43b4-8f24-5553ffeb8697"
      },
      "execution_count": 11,
      "outputs": [
        {
          "output_type": "stream",
          "name": "stdout",
          "text": [
            "Probabilidad de acertar 2 platos: 0.0669\n",
            "Probabilidad de acertar 5 platos: 0.2023\n",
            "Probabilidad de acertar 7 platos: 0.1124\n",
            "Probabilidad de acertar 10 platos: 0.0099\n"
          ]
        }
      ]
    },
    {
      "cell_type": "markdown",
      "source": [
        "### **$\\bullet$** **Un tirador tiene un punteria de acertas 5 platos de cada 20 lanzados. En una apuesta con su mejor amigos a 20 lanzamientos de platos. Calcula la probabilidad de acertar máximo *x=2, x=5, x=7, x=10* platos.**\n"
      ],
      "metadata": {
        "id": "zs_3LCD9yxfH"
      }
    },
    {
      "cell_type": "code",
      "source": [
        "from scipy.stats import binom\n",
        "\n",
        "# Parámetros de la distribución binomial\n",
        "n = 20  # Número total de lanzamientos\n",
        "p = 0.25  # Probabilidad de éxito en un solo lanzamiento (acertar un plato)\n",
        "\n",
        "# Calcular la probabilidad de acertar 2 platos\n",
        "x1 = 2\n",
        "probabilidad_x1 = binom.cdf(x1, n, p)\n",
        "\n",
        "# Calcular la probabilidad de acertar 5 platos\n",
        "x2 = 5\n",
        "probabilidad_x2 = binom.cdf(x2, n, p)\n",
        "\n",
        "# Calcular la probabilidad de acertar 7 platos\n",
        "x3 = 7\n",
        "probabilidad_x3 = binom.cdf(x3, n, p)\n",
        "\n",
        "# Calcular la probabilidad de acertar 10 platos\n",
        "x4 = 10\n",
        "probabilidad_x4 = binom.cdf(x4, n, p)\n",
        "\n",
        "# Mostrar los resultados\n",
        "print(f\"Probabilidad de acertar máximo 2 platos: {probabilidad_x1:.4f}\")\n",
        "print(f\"Probabilidad de acertar máximo 5 platos: {probabilidad_x2:.4f}\")\n",
        "print(f\"Probabilidad de acertar máximo 7 platos: {probabilidad_x3:.4f}\")\n",
        "print(f\"Probabilidad de acertar máximo 10 platos: {probabilidad_x4:.4f}\")\n"
      ],
      "metadata": {
        "colab": {
          "base_uri": "https://localhost:8080/"
        },
        "id": "tojzO7TTyL--",
        "outputId": "4ed47034-e161-4694-93ae-0ca7ddc6762c"
      },
      "execution_count": 13,
      "outputs": [
        {
          "output_type": "stream",
          "name": "stdout",
          "text": [
            "Probabilidad de acertar máximo 2 platos: 0.0913\n",
            "Probabilidad de acertar máximo 5 platos: 0.6172\n",
            "Probabilidad de acertar máximo 7 platos: 0.8982\n",
            "Probabilidad de acertar máximo 10 platos: 0.9961\n"
          ]
        }
      ]
    },
    {
      "cell_type": "markdown",
      "source": [
        "### **$\\bullet$** **Simulando una muestra**"
      ],
      "metadata": {
        "id": "2I09Jnh00TW4"
      }
    },
    {
      "cell_type": "code",
      "source": [
        "import numpy as np\n",
        "\n",
        "# Parámetros de la distribución binomial\n",
        "n = 10  # Número de ensayos (en este caso, 1)\n",
        "p = 0.4  # Probabilidad de éxito en un solo ensayo\n",
        "\n",
        "# Tamaño de la muestra\n",
        "tamaño_muestra = 10000\n",
        "\n",
        "# Generar la muestra\n",
        "muestra = np.random.binomial(n, p, tamaño_muestra)\n",
        "\n",
        "# Mostrar algunos de los valores de la muestra (los primeros 10, por ejemplo)\n",
        "print(\"Muestra generada:\")\n",
        "print(muestra)\n"
      ],
      "metadata": {
        "colab": {
          "base_uri": "https://localhost:8080/"
        },
        "id": "-BsBMg7lzkM6",
        "outputId": "b540250a-d3fd-4f10-d989-24f8d0e32a73"
      },
      "execution_count": 17,
      "outputs": [
        {
          "output_type": "stream",
          "name": "stdout",
          "text": [
            "Muestra generada:\n",
            "[4 3 5 ... 5 4 2]\n"
          ]
        }
      ]
    }
  ],
  "metadata": {
    "colab": {
      "provenance": [],
      "mount_file_id": "13X7nPE01ohpMi0ISyxuJIiqLTpL66n3c",
      "authorship_tag": "ABX9TyMgeQnoNkzvGd6h6Tx5NWHI",
      "include_colab_link": true
    },
    "kernelspec": {
      "display_name": "Python 3",
      "name": "python3"
    },
    "language_info": {
      "name": "python"
    }
  },
  "nbformat": 4,
  "nbformat_minor": 0
}